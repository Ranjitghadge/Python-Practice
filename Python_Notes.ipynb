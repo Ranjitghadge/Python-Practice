{
  "cells": [
    {
      "cell_type": "markdown",
      "metadata": {
        "id": "view-in-github",
        "colab_type": "text"
      },
      "source": [
        "<a href=\"https://colab.research.google.com/github/Ranjitghadge/Python-Practice/blob/main/Python_Notes.ipynb\" target=\"_parent\"><img src=\"https://colab.research.google.com/assets/colab-badge.svg\" alt=\"Open In Colab\"/></a>"
      ]
    },
    {
      "cell_type": "markdown",
      "source": [
        "# Python Basic"
      ],
      "metadata": {
        "id": "Yu048TnMTZBX"
      },
      "id": "Yu048TnMTZBX"
    },
    {
      "cell_type": "markdown",
      "source": [
        "Integers – This value is represented by int class. It contains positive or negative whole numbers (without fractions or decimals)."
      ],
      "metadata": {
        "id": "m22mNcs7mtx_"
      },
      "id": "m22mNcs7mtx_"
    },
    {
      "cell_type": "code",
      "source": [
        "a = 5\n",
        "print(\"Type of a: \", type(a))\n"
      ],
      "metadata": {
        "colab": {
          "base_uri": "https://localhost:8080/"
        },
        "id": "dcKa2-KPl71S",
        "outputId": "b867dcd7-11ba-4dc6-eb01-96f644c016ff"
      },
      "id": "dcKa2-KPl71S",
      "execution_count": null,
      "outputs": [
        {
          "output_type": "stream",
          "name": "stdout",
          "text": [
            "Type of a:  <class 'int'>\n"
          ]
        }
      ]
    },
    {
      "cell_type": "code",
      "execution_count": null,
      "metadata": {
        "id": "917cd579",
        "outputId": "1704082d-be76-43bd-ba17-5019f405742c",
        "colab": {
          "base_uri": "https://localhost:8080/"
        }
      },
      "outputs": [
        {
          "output_type": "execute_result",
          "data": {
            "text/plain": [
              "float"
            ]
          },
          "metadata": {},
          "execution_count": 58
        }
      ],
      "source": [
        "type(5.1)"
      ],
      "id": "917cd579"
    },
    {
      "cell_type": "code",
      "execution_count": null,
      "metadata": {
        "id": "ae334253",
        "outputId": "177cfe82-3ee9-4c6a-d903-79c8dcd524e5",
        "colab": {
          "base_uri": "https://localhost:8080/"
        }
      },
      "outputs": [
        {
          "output_type": "execute_result",
          "data": {
            "text/plain": [
              "5"
            ]
          },
          "metadata": {},
          "execution_count": 59
        }
      ],
      "source": [
        "int(5.1245)"
      ],
      "id": "ae334253"
    },
    {
      "cell_type": "code",
      "execution_count": null,
      "metadata": {
        "id": "fafded57",
        "outputId": "6ec583c9-6f04-4ee2-dd62-b848cbfe1dfb",
        "colab": {
          "base_uri": "https://localhost:8080/"
        }
      },
      "outputs": [
        {
          "output_type": "execute_result",
          "data": {
            "text/plain": [
              "True"
            ]
          },
          "metadata": {},
          "execution_count": 60
        }
      ],
      "source": [
        "bool(-15884)"
      ],
      "id": "fafded57"
    },
    {
      "cell_type": "markdown",
      "source": [
        "Float – This value is represented by the float class. It is a real number with a floating-point representation. It is specified by a decimal point."
      ],
      "metadata": {
        "id": "0Ni4r5PVmTiy"
      },
      "id": "0Ni4r5PVmTiy"
    },
    {
      "cell_type": "code",
      "source": [
        "b = 5.0\n",
        "print(\"\\nType of b: \", type(b))"
      ],
      "metadata": {
        "colab": {
          "base_uri": "https://localhost:8080/"
        },
        "id": "XpV95yYRmD7L",
        "outputId": "c9a9f17b-bedd-4271-9c73-4ca37e716220"
      },
      "id": "XpV95yYRmD7L",
      "execution_count": null,
      "outputs": [
        {
          "output_type": "stream",
          "name": "stdout",
          "text": [
            "\n",
            "Type of b:  <class 'float'>\n"
          ]
        }
      ]
    },
    {
      "cell_type": "markdown",
      "source": [
        "  Complex Numbers – Complex number is represented by a complex class. It is specified as (real part) + (imaginary part)j. For example – 2+3j"
      ],
      "metadata": {
        "id": "zXY-dxlXmndR"
      },
      "id": "zXY-dxlXmndR"
    },
    {
      "cell_type": "code",
      "source": [
        "c = 2 + 4j\n",
        "print(\"\\nType of c: \", type(c))"
      ],
      "metadata": {
        "colab": {
          "base_uri": "https://localhost:8080/"
        },
        "id": "G8sXGb94mGCp",
        "outputId": "225e4ccc-fd87-4680-8d4e-aa2870479dd5"
      },
      "id": "G8sXGb94mGCp",
      "execution_count": null,
      "outputs": [
        {
          "output_type": "stream",
          "name": "stdout",
          "text": [
            "\n",
            "Type of c:  <class 'complex'>\n"
          ]
        }
      ]
    },
    {
      "cell_type": "markdown",
      "source": [
        "### Arithmatic Operations\n"
      ],
      "metadata": {
        "id": "bk3kys2Y6qvG"
      },
      "id": "bk3kys2Y6qvG"
    },
    {
      "cell_type": "code",
      "source": [
        "val1 = 2\n",
        "val2 = 3\n",
        "\n",
        "# using the addition operator\n",
        "res = val1 + val2\n",
        "print(res)"
      ],
      "metadata": {
        "colab": {
          "base_uri": "https://localhost:8080/"
        },
        "id": "9rZxpCt_6xll",
        "outputId": "3efa2690-06a7-4fb7-921e-57a4773b5d49"
      },
      "id": "9rZxpCt_6xll",
      "execution_count": null,
      "outputs": [
        {
          "output_type": "stream",
          "name": "stdout",
          "text": [
            "5\n"
          ]
        }
      ]
    },
    {
      "cell_type": "code",
      "source": [
        "val1 = 2\n",
        "val2 = 3\n",
        "\n",
        "# using the subtraction operator\n",
        "res = val1 - val2\n",
        "print(res)"
      ],
      "metadata": {
        "id": "pE-yLcEG64DZ",
        "colab": {
          "base_uri": "https://localhost:8080/"
        },
        "outputId": "e00587af-af96-4354-963e-8418aabc8727"
      },
      "id": "pE-yLcEG64DZ",
      "execution_count": null,
      "outputs": [
        {
          "output_type": "stream",
          "name": "stdout",
          "text": [
            "-1\n"
          ]
        }
      ]
    },
    {
      "cell_type": "code",
      "source": [
        "val1 = 2\n",
        "val2 = 3\n",
        "\n",
        "# using the multiplication operator\n",
        "res = val1 * val2\n",
        "print(res)"
      ],
      "metadata": {
        "id": "PyY8F6zO6368",
        "colab": {
          "base_uri": "https://localhost:8080/"
        },
        "outputId": "6bbed353-614b-4a83-cee7-c7e06db6ed3d"
      },
      "id": "PyY8F6zO6368",
      "execution_count": null,
      "outputs": [
        {
          "output_type": "stream",
          "name": "stdout",
          "text": [
            "6\n"
          ]
        }
      ]
    },
    {
      "cell_type": "code",
      "source": [
        "val1 = 3\n",
        "val2 = 2\n",
        "\n",
        "# using the division operator\n",
        "res = val1 / val2\n",
        "print(res)"
      ],
      "metadata": {
        "id": "ZAXCqZsS63y5",
        "colab": {
          "base_uri": "https://localhost:8080/"
        },
        "outputId": "98e909fd-33b0-417b-e778-31b33789ce18"
      },
      "id": "ZAXCqZsS63y5",
      "execution_count": null,
      "outputs": [
        {
          "output_type": "stream",
          "name": "stdout",
          "text": [
            "1.5\n"
          ]
        }
      ]
    },
    {
      "cell_type": "code",
      "source": [
        "val1 = 3\n",
        "val2 = 2\n",
        "\n",
        "# using the modulus operator\n",
        "res = val1 % val2\n",
        "print(res)"
      ],
      "metadata": {
        "colab": {
          "base_uri": "https://localhost:8080/"
        },
        "id": "TXowwrtO63r6",
        "outputId": "28b1f8ee-bcb1-4963-aff5-cc0758b5b3ab"
      },
      "id": "TXowwrtO63r6",
      "execution_count": null,
      "outputs": [
        {
          "output_type": "stream",
          "name": "stdout",
          "text": [
            "1\n"
          ]
        }
      ]
    },
    {
      "cell_type": "code",
      "source": [
        "val1 = 2\n",
        "val2 = 3\n",
        "\n",
        "# using the exponentiation operator\n",
        "res = val1 ** val2\n",
        "print(res)"
      ],
      "metadata": {
        "colab": {
          "base_uri": "https://localhost:8080/"
        },
        "id": "pWZp1_k963l1",
        "outputId": "e477074b-fdf0-493e-8bdd-778e5ff120c6"
      },
      "id": "pWZp1_k963l1",
      "execution_count": null,
      "outputs": [
        {
          "output_type": "stream",
          "name": "stdout",
          "text": [
            "8\n"
          ]
        }
      ]
    },
    {
      "cell_type": "code",
      "source": [
        "val1 = 3\n",
        "val2 = 2\n",
        "\n",
        "# using the floor division\n",
        "res = val1 // val2\n",
        "print(res)"
      ],
      "metadata": {
        "colab": {
          "base_uri": "https://localhost:8080/"
        },
        "id": "66DtQZvD63gg",
        "outputId": "c67c626f-fc02-4b67-ed8b-bb88812564ea"
      },
      "id": "66DtQZvD63gg",
      "execution_count": null,
      "outputs": [
        {
          "output_type": "stream",
          "name": "stdout",
          "text": [
            "1\n"
          ]
        }
      ]
    },
    {
      "cell_type": "code",
      "source": [],
      "metadata": {
        "id": "LHHsKjsS63bN"
      },
      "id": "LHHsKjsS63bN",
      "execution_count": null,
      "outputs": []
    },
    {
      "cell_type": "code",
      "source": [],
      "metadata": {
        "id": "xQwLKh0z63WG"
      },
      "id": "xQwLKh0z63WG",
      "execution_count": null,
      "outputs": []
    },
    {
      "cell_type": "markdown",
      "source": [
        "# String"
      ],
      "metadata": {
        "id": "TRnRJjhwAGqB"
      },
      "id": "TRnRJjhwAGqB"
    },
    {
      "cell_type": "markdown",
      "source": [
        "### Creating String"
      ],
      "metadata": {
        "id": "uayzxLYoNTYA"
      },
      "id": "uayzxLYoNTYA"
    },
    {
      "cell_type": "code",
      "source": [
        "s ='hello'\n",
        "s =\"hello\"\n",
        "s = '''hello'''\n",
        "\n",
        "print(s)"
      ],
      "metadata": {
        "colab": {
          "base_uri": "https://localhost:8080/"
        },
        "id": "GNznqtd_NOKQ",
        "outputId": "8b28e303-b5eb-4b77-e4e6-09e2ab5d4e64"
      },
      "id": "GNznqtd_NOKQ",
      "execution_count": null,
      "outputs": [
        {
          "output_type": "stream",
          "name": "stdout",
          "text": [
            "hello\n"
          ]
        }
      ]
    },
    {
      "cell_type": "code",
      "source": [
        "#example\n",
        "\"it's raining outside\""
      ],
      "metadata": {
        "colab": {
          "base_uri": "https://localhost:8080/",
          "height": 36
        },
        "id": "smFj1M29NOGn",
        "outputId": "4232a854-b677-4eaa-b0e2-11fdc0039576"
      },
      "id": "smFj1M29NOGn",
      "execution_count": null,
      "outputs": [
        {
          "output_type": "execute_result",
          "data": {
            "text/plain": [
              "\"it's raining outside\""
            ],
            "application/vnd.google.colaboratory.intrinsic+json": {
              "type": "string"
            }
          },
          "metadata": {},
          "execution_count": 71
        }
      ]
    },
    {
      "cell_type": "markdown",
      "source": [
        "### Accessing Substrings from a String"
      ],
      "metadata": {
        "id": "MkOr7ye9OD_-"
      },
      "id": "MkOr7ye9OD_-"
    },
    {
      "cell_type": "code",
      "source": [
        "# Positive Indexing\n",
        "s = 'hello world'\n",
        "print(s[10])"
      ],
      "metadata": {
        "colab": {
          "base_uri": "https://localhost:8080/"
        },
        "id": "EPk8Tcb3NNq-",
        "outputId": "7518313a-e6d2-4d64-d308-da1c79a539f1"
      },
      "id": "EPk8Tcb3NNq-",
      "execution_count": null,
      "outputs": [
        {
          "output_type": "stream",
          "name": "stdout",
          "text": [
            "d\n"
          ]
        }
      ]
    },
    {
      "cell_type": "code",
      "source": [
        "# Negative Indexing\n",
        "s = 'hello world'\n",
        "print(s[-5])"
      ],
      "metadata": {
        "colab": {
          "base_uri": "https://localhost:8080/"
        },
        "id": "nduKyQEfNNn5",
        "outputId": "d7396996-89b7-4001-a413-0a355756d189"
      },
      "id": "nduKyQEfNNn5",
      "execution_count": null,
      "outputs": [
        {
          "output_type": "stream",
          "name": "stdout",
          "text": [
            "w\n"
          ]
        }
      ]
    },
    {
      "cell_type": "code",
      "source": [
        "# Slicing\n",
        "s = 'hello world'\n",
        "print(s[6:0:-2])"
      ],
      "metadata": {
        "colab": {
          "base_uri": "https://localhost:8080/"
        },
        "id": "YmKguRVxNNj8",
        "outputId": "3ff4f973-56da-4ae1-b549-af56776a90ca"
      },
      "id": "YmKguRVxNNj8",
      "execution_count": null,
      "outputs": [
        {
          "output_type": "stream",
          "name": "stdout",
          "text": [
            "wol\n"
          ]
        }
      ]
    },
    {
      "cell_type": "code",
      "source": [
        "# Slicing\n",
        "s = 'hello world'\n",
        "print(s[0:5])"
      ],
      "metadata": {
        "colab": {
          "base_uri": "https://localhost:8080/"
        },
        "id": "oEHC72EcNNgc",
        "outputId": "08b25acc-c5a2-4b60-891c-3a0b9465b12d"
      },
      "id": "oEHC72EcNNgc",
      "execution_count": null,
      "outputs": [
        {
          "output_type": "stream",
          "name": "stdout",
          "text": [
            "hello\n"
          ]
        }
      ]
    },
    {
      "cell_type": "code",
      "source": [
        "print(s[::-1])"
      ],
      "metadata": {
        "colab": {
          "base_uri": "https://localhost:8080/"
        },
        "id": "MOMDEL_2NNdM",
        "outputId": "a66a4277-6e2e-4b06-c6c0-24894a0fdb81"
      },
      "id": "MOMDEL_2NNdM",
      "execution_count": null,
      "outputs": [
        {
          "output_type": "stream",
          "name": "stdout",
          "text": [
            "dlrow olleh\n"
          ]
        }
      ]
    },
    {
      "cell_type": "code",
      "source": [
        "s = 'hello world'\n",
        "print(s[-1:-6:-1])"
      ],
      "metadata": {
        "colab": {
          "base_uri": "https://localhost:8080/"
        },
        "id": "fTdPpRBKPmoq",
        "outputId": "314aa773-753a-491f-a9eb-a04629dc50e7"
      },
      "id": "fTdPpRBKPmoq",
      "execution_count": null,
      "outputs": [
        {
          "output_type": "stream",
          "name": "stdout",
          "text": [
            "dlrow\n"
          ]
        }
      ]
    },
    {
      "cell_type": "markdown",
      "source": [
        "### Editing and Deleting in Strings"
      ],
      "metadata": {
        "id": "SA7Wv7smQxBI"
      },
      "id": "SA7Wv7smQxBI"
    },
    {
      "cell_type": "code",
      "source": [
        "s = 'hello world'\n",
        "s[0] = 'H'\n",
        "\n",
        "# Python strings are immutable"
      ],
      "metadata": {
        "id": "tWnjCaazPmlf",
        "colab": {
          "base_uri": "https://localhost:8080/",
          "height": 218
        },
        "outputId": "9b4d175e-b419-458c-d512-9c6e44b990c4"
      },
      "id": "tWnjCaazPmlf",
      "execution_count": null,
      "outputs": [
        {
          "output_type": "error",
          "ename": "TypeError",
          "evalue": "ignored",
          "traceback": [
            "\u001b[0;31m---------------------------------------------------------------------------\u001b[0m",
            "\u001b[0;31mTypeError\u001b[0m                                 Traceback (most recent call last)",
            "\u001b[0;32m<ipython-input-80-2e7e37261de1>\u001b[0m in \u001b[0;36m<cell line: 2>\u001b[0;34m()\u001b[0m\n\u001b[1;32m      1\u001b[0m \u001b[0ms\u001b[0m \u001b[0;34m=\u001b[0m \u001b[0;34m'hello world'\u001b[0m\u001b[0;34m\u001b[0m\u001b[0;34m\u001b[0m\u001b[0m\n\u001b[0;32m----> 2\u001b[0;31m \u001b[0ms\u001b[0m\u001b[0;34m[\u001b[0m\u001b[0;36m0\u001b[0m\u001b[0;34m]\u001b[0m \u001b[0;34m=\u001b[0m \u001b[0;34m'H'\u001b[0m\u001b[0;34m\u001b[0m\u001b[0;34m\u001b[0m\u001b[0m\n\u001b[0m\u001b[1;32m      3\u001b[0m \u001b[0;34m\u001b[0m\u001b[0m\n\u001b[1;32m      4\u001b[0m \u001b[0;31m# Python strings are immutable\u001b[0m\u001b[0;34m\u001b[0m\u001b[0;34m\u001b[0m\u001b[0m\n",
            "\u001b[0;31mTypeError\u001b[0m: 'str' object does not support item assignment"
          ]
        }
      ]
    },
    {
      "cell_type": "code",
      "source": [
        "s = 'hello world'\n",
        "del s\n",
        "print(s)"
      ],
      "metadata": {
        "id": "O7-S_aEGPmil",
        "colab": {
          "base_uri": "https://localhost:8080/",
          "height": 200
        },
        "outputId": "e288f7d9-e9d2-4d79-e906-934d64c011dd"
      },
      "id": "O7-S_aEGPmil",
      "execution_count": null,
      "outputs": [
        {
          "output_type": "error",
          "ename": "NameError",
          "evalue": "ignored",
          "traceback": [
            "\u001b[0;31m---------------------------------------------------------------------------\u001b[0m",
            "\u001b[0;31mNameError\u001b[0m                                 Traceback (most recent call last)",
            "\u001b[0;32m<ipython-input-81-9ae37fbf1c6c>\u001b[0m in \u001b[0;36m<cell line: 3>\u001b[0;34m()\u001b[0m\n\u001b[1;32m      1\u001b[0m \u001b[0ms\u001b[0m \u001b[0;34m=\u001b[0m \u001b[0;34m'hello world'\u001b[0m\u001b[0;34m\u001b[0m\u001b[0;34m\u001b[0m\u001b[0m\n\u001b[1;32m      2\u001b[0m \u001b[0;32mdel\u001b[0m \u001b[0ms\u001b[0m\u001b[0;34m\u001b[0m\u001b[0;34m\u001b[0m\u001b[0m\n\u001b[0;32m----> 3\u001b[0;31m \u001b[0mprint\u001b[0m\u001b[0;34m(\u001b[0m\u001b[0ms\u001b[0m\u001b[0;34m)\u001b[0m\u001b[0;34m\u001b[0m\u001b[0;34m\u001b[0m\u001b[0m\n\u001b[0m",
            "\u001b[0;31mNameError\u001b[0m: name 's' is not defined"
          ]
        }
      ]
    },
    {
      "cell_type": "markdown",
      "source": [
        "### Operations on Strings\n",
        "\n",
        "- Arithmetic Operations\n",
        "- Relational Operations\n",
        "- Logical Operations\n",
        "- Loops on Strings\n",
        "- Membership Operations"
      ],
      "metadata": {
        "id": "ADxLHS2SRhL7"
      },
      "id": "ADxLHS2SRhL7"
    },
    {
      "cell_type": "code",
      "source": [
        "print('delhi' + ' ' + 'mumbai')"
      ],
      "metadata": {
        "id": "UevZOPpRPmfe",
        "colab": {
          "base_uri": "https://localhost:8080/"
        },
        "outputId": "1b2ca64c-bd43-42fb-cef5-db0f2accb3b1"
      },
      "id": "UevZOPpRPmfe",
      "execution_count": null,
      "outputs": [
        {
          "output_type": "stream",
          "name": "stdout",
          "text": [
            "delhi mumbai\n"
          ]
        }
      ]
    },
    {
      "cell_type": "code",
      "source": [
        "print('delhi'*5)"
      ],
      "metadata": {
        "id": "pFYwdKSoPmcw",
        "colab": {
          "base_uri": "https://localhost:8080/"
        },
        "outputId": "d190e1ae-e1f9-487e-dbac-453d94af0e76"
      },
      "id": "pFYwdKSoPmcw",
      "execution_count": null,
      "outputs": [
        {
          "output_type": "stream",
          "name": "stdout",
          "text": [
            "delhidelhidelhidelhidelhi\n"
          ]
        }
      ]
    },
    {
      "cell_type": "markdown",
      "source": [
        "Relational Operations"
      ],
      "metadata": {
        "id": "J_F71OAnRxYI"
      },
      "id": "J_F71OAnRxYI"
    },
    {
      "cell_type": "code",
      "source": [
        "'delhi' != 'delhi'"
      ],
      "metadata": {
        "id": "szkREbiXPmaI",
        "colab": {
          "base_uri": "https://localhost:8080/"
        },
        "outputId": "ee298228-022b-440d-a5bd-864faa7747e3"
      },
      "id": "szkREbiXPmaI",
      "execution_count": null,
      "outputs": [
        {
          "output_type": "execute_result",
          "data": {
            "text/plain": [
              "False"
            ]
          },
          "metadata": {},
          "execution_count": 84
        }
      ]
    },
    {
      "cell_type": "code",
      "source": [
        "'mumbai' > 'pune'\n",
        "# lexiographically"
      ],
      "metadata": {
        "id": "VyTGzebkPmXy",
        "colab": {
          "base_uri": "https://localhost:8080/"
        },
        "outputId": "7de7f0a4-87b3-4df0-e29f-2fa315b13e75"
      },
      "id": "VyTGzebkPmXy",
      "execution_count": null,
      "outputs": [
        {
          "output_type": "execute_result",
          "data": {
            "text/plain": [
              "False"
            ]
          },
          "metadata": {},
          "execution_count": 85
        }
      ]
    },
    {
      "cell_type": "code",
      "source": [
        "'Pune' > 'pune'"
      ],
      "metadata": {
        "id": "ER3rwlBTPmUa",
        "colab": {
          "base_uri": "https://localhost:8080/"
        },
        "outputId": "29a33177-2ea0-4225-c91f-28917278d9e1"
      },
      "id": "ER3rwlBTPmUa",
      "execution_count": null,
      "outputs": [
        {
          "output_type": "execute_result",
          "data": {
            "text/plain": [
              "False"
            ]
          },
          "metadata": {},
          "execution_count": 86
        }
      ]
    },
    {
      "cell_type": "markdown",
      "source": [
        "Logical Operations"
      ],
      "metadata": {
        "id": "WoKGNc4XSYwF"
      },
      "id": "WoKGNc4XSYwF"
    },
    {
      "cell_type": "code",
      "source": [
        "'hello' and 'world'"
      ],
      "metadata": {
        "id": "YUSzGPsCPmSi",
        "colab": {
          "base_uri": "https://localhost:8080/",
          "height": 36
        },
        "outputId": "3e3ddfbf-2a54-440d-c530-d5d17baf548a"
      },
      "id": "YUSzGPsCPmSi",
      "execution_count": null,
      "outputs": [
        {
          "output_type": "execute_result",
          "data": {
            "text/plain": [
              "'world'"
            ],
            "application/vnd.google.colaboratory.intrinsic+json": {
              "type": "string"
            }
          },
          "metadata": {},
          "execution_count": 87
        }
      ]
    },
    {
      "cell_type": "code",
      "source": [
        "'hello' or 'world'"
      ],
      "metadata": {
        "id": "iaAfi86xPmPr",
        "colab": {
          "base_uri": "https://localhost:8080/",
          "height": 36
        },
        "outputId": "e45e4383-6fd0-44ad-e370-4fcd7ecc2728"
      },
      "id": "iaAfi86xPmPr",
      "execution_count": null,
      "outputs": [
        {
          "output_type": "execute_result",
          "data": {
            "text/plain": [
              "'hello'"
            ],
            "application/vnd.google.colaboratory.intrinsic+json": {
              "type": "string"
            }
          },
          "metadata": {},
          "execution_count": 88
        }
      ]
    },
    {
      "cell_type": "code",
      "source": [
        "'' and 'world'\n",
        "#empty string act as False string act as True"
      ],
      "metadata": {
        "id": "6ix4CdFzPmMZ",
        "colab": {
          "base_uri": "https://localhost:8080/",
          "height": 36
        },
        "outputId": "37b22bc6-1680-4b59-b51a-e3a4051638fe"
      },
      "id": "6ix4CdFzPmMZ",
      "execution_count": null,
      "outputs": [
        {
          "output_type": "execute_result",
          "data": {
            "text/plain": [
              "''"
            ],
            "application/vnd.google.colaboratory.intrinsic+json": {
              "type": "string"
            }
          },
          "metadata": {},
          "execution_count": 89
        }
      ]
    },
    {
      "cell_type": "code",
      "source": [
        "not 'hello'"
      ],
      "metadata": {
        "colab": {
          "base_uri": "https://localhost:8080/"
        },
        "id": "TxvCl8AbPmJs",
        "outputId": "7792b2e2-ad71-4914-949e-0d48bd72349f"
      },
      "id": "TxvCl8AbPmJs",
      "execution_count": null,
      "outputs": [
        {
          "output_type": "execute_result",
          "data": {
            "text/plain": [
              "False"
            ]
          },
          "metadata": {},
          "execution_count": 90
        }
      ]
    },
    {
      "cell_type": "markdown",
      "source": [
        "### Loops on Strings"
      ],
      "metadata": {
        "id": "T0Ls61tMTP__"
      },
      "id": "T0Ls61tMTP__"
    },
    {
      "cell_type": "code",
      "source": [
        "for i in 'hello':\n",
        "  print(i)"
      ],
      "metadata": {
        "colab": {
          "base_uri": "https://localhost:8080/"
        },
        "id": "8-jAhJ_0NNUG",
        "outputId": "daff70c3-65a2-48dc-8327-6846ab5604a7"
      },
      "id": "8-jAhJ_0NNUG",
      "execution_count": null,
      "outputs": [
        {
          "output_type": "stream",
          "name": "stdout",
          "text": [
            "h\n",
            "e\n",
            "l\n",
            "l\n",
            "o\n"
          ]
        }
      ]
    },
    {
      "cell_type": "code",
      "source": [
        "'D' in 'delhi'"
      ],
      "metadata": {
        "colab": {
          "base_uri": "https://localhost:8080/"
        },
        "id": "xGlERuqUTPjL",
        "outputId": "b79b96ae-20ed-49a5-9f27-4d16c350505b"
      },
      "id": "xGlERuqUTPjL",
      "execution_count": null,
      "outputs": [
        {
          "output_type": "execute_result",
          "data": {
            "text/plain": [
              "False"
            ]
          },
          "metadata": {},
          "execution_count": 92
        }
      ]
    },
    {
      "cell_type": "markdown",
      "source": [
        "Common Functions\n",
        "- len\n",
        "- max\n",
        "- min\n",
        "- sorted"
      ],
      "metadata": {
        "id": "yGgphNxMTvbo"
      },
      "id": "yGgphNxMTvbo"
    },
    {
      "cell_type": "code",
      "source": [
        "len('hello word')"
      ],
      "metadata": {
        "colab": {
          "base_uri": "https://localhost:8080/"
        },
        "id": "PKSH_R2NTPgi",
        "outputId": "c73f2ce2-d4c1-41dd-8c15-a1cbb62a4246"
      },
      "id": "PKSH_R2NTPgi",
      "execution_count": null,
      "outputs": [
        {
          "output_type": "execute_result",
          "data": {
            "text/plain": [
              "10"
            ]
          },
          "metadata": {},
          "execution_count": 93
        }
      ]
    },
    {
      "cell_type": "code",
      "source": [
        "max('hello') #base on as key"
      ],
      "metadata": {
        "colab": {
          "base_uri": "https://localhost:8080/",
          "height": 36
        },
        "id": "cGSpnx3STPdp",
        "outputId": "473502e7-54bc-43e1-9b3a-11e8ce6e1e84"
      },
      "id": "cGSpnx3STPdp",
      "execution_count": null,
      "outputs": [
        {
          "output_type": "execute_result",
          "data": {
            "text/plain": [
              "'o'"
            ],
            "application/vnd.google.colaboratory.intrinsic+json": {
              "type": "string"
            }
          },
          "metadata": {},
          "execution_count": 94
        }
      ]
    },
    {
      "cell_type": "code",
      "source": [
        "min('hello')"
      ],
      "metadata": {
        "colab": {
          "base_uri": "https://localhost:8080/",
          "height": 36
        },
        "id": "mLWr_sErTPa7",
        "outputId": "0a463922-d6b0-4eac-9051-9343400c522f"
      },
      "id": "mLWr_sErTPa7",
      "execution_count": null,
      "outputs": [
        {
          "output_type": "execute_result",
          "data": {
            "text/plain": [
              "'e'"
            ],
            "application/vnd.google.colaboratory.intrinsic+json": {
              "type": "string"
            }
          },
          "metadata": {},
          "execution_count": 95
        }
      ]
    },
    {
      "cell_type": "code",
      "source": [
        "sorted('hello') #output list"
      ],
      "metadata": {
        "colab": {
          "base_uri": "https://localhost:8080/"
        },
        "id": "a56SPWbsTPYE",
        "outputId": "41af8650-b25b-48f7-fa90-f8d486047332"
      },
      "id": "a56SPWbsTPYE",
      "execution_count": null,
      "outputs": [
        {
          "output_type": "execute_result",
          "data": {
            "text/plain": [
              "['e', 'h', 'l', 'l', 'o']"
            ]
          },
          "metadata": {},
          "execution_count": 96
        }
      ]
    },
    {
      "cell_type": "code",
      "source": [
        "sorted('hello',reverse=True) #output list"
      ],
      "metadata": {
        "colab": {
          "base_uri": "https://localhost:8080/"
        },
        "id": "usO-gKBcTPVX",
        "outputId": "aa6e17b3-d988-4e97-bd5c-bef868d6a3e2"
      },
      "id": "usO-gKBcTPVX",
      "execution_count": null,
      "outputs": [
        {
          "output_type": "execute_result",
          "data": {
            "text/plain": [
              "['o', 'l', 'l', 'h', 'e']"
            ]
          },
          "metadata": {},
          "execution_count": 97
        }
      ]
    },
    {
      "cell_type": "markdown",
      "source": [
        "### Capitalize/Title/Upper/Lower/Swapcase"
      ],
      "metadata": {
        "id": "6U-72w96UeS5"
      },
      "id": "6U-72w96UeS5"
    },
    {
      "cell_type": "code",
      "source": [
        "s = 'hello world'\n",
        "print(s.capitalize())\n",
        "print(s)"
      ],
      "metadata": {
        "colab": {
          "base_uri": "https://localhost:8080/"
        },
        "id": "f7KJV8C3TPSe",
        "outputId": "895d3723-4c8b-499f-cd57-243ec5b6bfd6"
      },
      "id": "f7KJV8C3TPSe",
      "execution_count": null,
      "outputs": [
        {
          "output_type": "stream",
          "name": "stdout",
          "text": [
            "Hello world\n",
            "hello world\n"
          ]
        }
      ]
    },
    {
      "cell_type": "code",
      "source": [
        "s.title()"
      ],
      "metadata": {
        "colab": {
          "base_uri": "https://localhost:8080/",
          "height": 36
        },
        "id": "YmG7T_3sTPPz",
        "outputId": "1d42a0b3-b0d5-49f5-bb2e-008e59a73fa4"
      },
      "id": "YmG7T_3sTPPz",
      "execution_count": null,
      "outputs": [
        {
          "output_type": "execute_result",
          "data": {
            "text/plain": [
              "'Hello World'"
            ],
            "application/vnd.google.colaboratory.intrinsic+json": {
              "type": "string"
            }
          },
          "metadata": {},
          "execution_count": 99
        }
      ]
    },
    {
      "cell_type": "code",
      "source": [
        "s.upper()"
      ],
      "metadata": {
        "colab": {
          "base_uri": "https://localhost:8080/",
          "height": 36
        },
        "id": "wzbNUJhJTPNJ",
        "outputId": "ca965c04-343d-425f-9a45-59abe7ae4acd"
      },
      "id": "wzbNUJhJTPNJ",
      "execution_count": null,
      "outputs": [
        {
          "output_type": "execute_result",
          "data": {
            "text/plain": [
              "'HELLO WORLD'"
            ],
            "application/vnd.google.colaboratory.intrinsic+json": {
              "type": "string"
            }
          },
          "metadata": {},
          "execution_count": 100
        }
      ]
    },
    {
      "cell_type": "code",
      "source": [
        "'Hello Wolrd'.lower()"
      ],
      "metadata": {
        "colab": {
          "base_uri": "https://localhost:8080/",
          "height": 36
        },
        "id": "I1t6Y8a7TPKG",
        "outputId": "ea3d3513-8144-4ab7-eee8-c16d30c4777f"
      },
      "id": "I1t6Y8a7TPKG",
      "execution_count": null,
      "outputs": [
        {
          "output_type": "execute_result",
          "data": {
            "text/plain": [
              "'hello wolrd'"
            ],
            "application/vnd.google.colaboratory.intrinsic+json": {
              "type": "string"
            }
          },
          "metadata": {},
          "execution_count": 101
        }
      ]
    },
    {
      "cell_type": "code",
      "source": [
        "'HeLlO WorLD'.swapcase()"
      ],
      "metadata": {
        "colab": {
          "base_uri": "https://localhost:8080/",
          "height": 36
        },
        "id": "8xI2nL4UTPHN",
        "outputId": "b7c7e071-fcf7-407c-ee43-cb53265b8337"
      },
      "id": "8xI2nL4UTPHN",
      "execution_count": null,
      "outputs": [
        {
          "output_type": "execute_result",
          "data": {
            "text/plain": [
              "'hElLo wORld'"
            ],
            "application/vnd.google.colaboratory.intrinsic+json": {
              "type": "string"
            }
          },
          "metadata": {},
          "execution_count": 102
        }
      ]
    },
    {
      "cell_type": "markdown",
      "source": [
        "Count/Find/Index"
      ],
      "metadata": {
        "id": "tyzNyHJxU4fN"
      },
      "id": "tyzNyHJxU4fN"
    },
    {
      "cell_type": "code",
      "source": [
        "'my name is nitish'.count('i')"
      ],
      "metadata": {
        "colab": {
          "base_uri": "https://localhost:8080/"
        },
        "id": "yk0kFzYFU0qb",
        "outputId": "43b26f97-8dc9-43eb-c10d-6abf84314c84"
      },
      "id": "yk0kFzYFU0qb",
      "execution_count": null,
      "outputs": [
        {
          "output_type": "execute_result",
          "data": {
            "text/plain": [
              "3"
            ]
          },
          "metadata": {},
          "execution_count": 103
        }
      ]
    },
    {
      "cell_type": "code",
      "source": [
        "'my name is nitish'.find('n')"
      ],
      "metadata": {
        "colab": {
          "base_uri": "https://localhost:8080/"
        },
        "id": "nS3EPHsiU0ni",
        "outputId": "2a9f8372-64aa-4cb5-e4ce-4875e0343b0e"
      },
      "id": "nS3EPHsiU0ni",
      "execution_count": null,
      "outputs": [
        {
          "output_type": "execute_result",
          "data": {
            "text/plain": [
              "3"
            ]
          },
          "metadata": {},
          "execution_count": 104
        }
      ]
    },
    {
      "cell_type": "code",
      "source": [
        "'my name is nitish'.index('n') #same as index\n"
      ],
      "metadata": {
        "colab": {
          "base_uri": "https://localhost:8080/"
        },
        "id": "zERvTN3lU0ky",
        "outputId": "97bb4355-aa0c-443f-ca70-2e5ee9c9b833"
      },
      "id": "zERvTN3lU0ky",
      "execution_count": null,
      "outputs": [
        {
          "output_type": "execute_result",
          "data": {
            "text/plain": [
              "3"
            ]
          },
          "metadata": {},
          "execution_count": 105
        }
      ]
    },
    {
      "cell_type": "markdown",
      "source": [
        "endswith/startswith"
      ],
      "metadata": {
        "id": "vvii-v0wVf0D"
      },
      "id": "vvii-v0wVf0D"
    },
    {
      "cell_type": "code",
      "source": [
        "'my name is nitish'.endswith('ish')"
      ],
      "metadata": {
        "colab": {
          "base_uri": "https://localhost:8080/"
        },
        "id": "fBa9_kW5U0iv",
        "outputId": "e2109af9-1f81-4154-c05e-8ba5f2902942"
      },
      "id": "fBa9_kW5U0iv",
      "execution_count": null,
      "outputs": [
        {
          "output_type": "execute_result",
          "data": {
            "text/plain": [
              "True"
            ]
          },
          "metadata": {},
          "execution_count": 106
        }
      ]
    },
    {
      "cell_type": "code",
      "source": [
        "'my name is nitish'.startswith('1my')"
      ],
      "metadata": {
        "colab": {
          "base_uri": "https://localhost:8080/"
        },
        "id": "ETkHli4BU0gE",
        "outputId": "e083fa0a-dcda-42dc-93be-32266f8d45e1"
      },
      "id": "ETkHli4BU0gE",
      "execution_count": null,
      "outputs": [
        {
          "output_type": "execute_result",
          "data": {
            "text/plain": [
              "False"
            ]
          },
          "metadata": {},
          "execution_count": 107
        }
      ]
    },
    {
      "cell_type": "markdown",
      "source": [
        "Format"
      ],
      "metadata": {
        "id": "jsxccUHnVpqm"
      },
      "id": "jsxccUHnVpqm"
    },
    {
      "cell_type": "code",
      "source": [
        "name = 'nitish'\n",
        "gender = 'male'\n",
        "\n",
        "'Hi my name is {1} and I am a {0}'.format(gender,name)"
      ],
      "metadata": {
        "colab": {
          "base_uri": "https://localhost:8080/",
          "height": 36
        },
        "id": "iQGc1SkIU0cd",
        "outputId": "30a2f406-d26e-4333-9e08-8c9873d1f962"
      },
      "id": "iQGc1SkIU0cd",
      "execution_count": null,
      "outputs": [
        {
          "output_type": "execute_result",
          "data": {
            "text/plain": [
              "'Hi my name is nitish and I am a male'"
            ],
            "application/vnd.google.colaboratory.intrinsic+json": {
              "type": "string"
            }
          },
          "metadata": {},
          "execution_count": 108
        }
      ]
    },
    {
      "cell_type": "markdown",
      "source": [
        "isalnum/ isalpha/ isdigit/ isidentifier"
      ],
      "metadata": {
        "id": "LBsB0XHCWV9J"
      },
      "id": "LBsB0XHCWV9J"
    },
    {
      "cell_type": "code",
      "source": [
        "'nitish1234%'.isalnum()"
      ],
      "metadata": {
        "colab": {
          "base_uri": "https://localhost:8080/"
        },
        "id": "cSNk6XUKU0Z9",
        "outputId": "278dcf21-b126-4258-b1a1-0f65a477f62b"
      },
      "id": "cSNk6XUKU0Z9",
      "execution_count": null,
      "outputs": [
        {
          "output_type": "execute_result",
          "data": {
            "text/plain": [
              "False"
            ]
          },
          "metadata": {},
          "execution_count": 109
        }
      ]
    },
    {
      "cell_type": "code",
      "source": [
        "'nitish'.isalpha()"
      ],
      "metadata": {
        "colab": {
          "base_uri": "https://localhost:8080/"
        },
        "id": "tgaKN2APU0XS",
        "outputId": "2e5b4357-4d5f-451c-97a1-132b3d35d3cd"
      },
      "id": "tgaKN2APU0XS",
      "execution_count": null,
      "outputs": [
        {
          "output_type": "execute_result",
          "data": {
            "text/plain": [
              "True"
            ]
          },
          "metadata": {},
          "execution_count": 110
        }
      ]
    },
    {
      "cell_type": "code",
      "source": [
        "'123'.isdigit()"
      ],
      "metadata": {
        "colab": {
          "base_uri": "https://localhost:8080/"
        },
        "id": "1OblMo4EU0Uc",
        "outputId": "bacca0c0-a9ec-4383-b26b-5dd9bf353bb5"
      },
      "id": "1OblMo4EU0Uc",
      "execution_count": null,
      "outputs": [
        {
          "output_type": "execute_result",
          "data": {
            "text/plain": [
              "True"
            ]
          },
          "metadata": {},
          "execution_count": 111
        }
      ]
    },
    {
      "cell_type": "code",
      "source": [
        "'first-name'.isidentifier()"
      ],
      "metadata": {
        "colab": {
          "base_uri": "https://localhost:8080/"
        },
        "id": "itVF4DWtU0Ry",
        "outputId": "d58d9fb4-a934-4cca-9570-5c2a21df7bad"
      },
      "id": "itVF4DWtU0Ry",
      "execution_count": null,
      "outputs": [
        {
          "output_type": "execute_result",
          "data": {
            "text/plain": [
              "False"
            ]
          },
          "metadata": {},
          "execution_count": 112
        }
      ]
    },
    {
      "cell_type": "markdown",
      "source": [
        "Split/Join"
      ],
      "metadata": {
        "id": "CVB0jHe8WspI"
      },
      "id": "CVB0jHe8WspI"
    },
    {
      "cell_type": "code",
      "source": [
        "'hi my name is nitish'.split()"
      ],
      "metadata": {
        "colab": {
          "base_uri": "https://localhost:8080/"
        },
        "id": "9z8Lxg7ZU0O6",
        "outputId": "56fa7d61-2a4f-41f7-eb80-55667b66086b"
      },
      "id": "9z8Lxg7ZU0O6",
      "execution_count": null,
      "outputs": [
        {
          "output_type": "execute_result",
          "data": {
            "text/plain": [
              "['hi', 'my', 'name', 'is', 'nitish']"
            ]
          },
          "metadata": {},
          "execution_count": 113
        }
      ]
    },
    {
      "cell_type": "code",
      "source": [
        "'hi my name is nitish'.split('i')"
      ],
      "metadata": {
        "colab": {
          "base_uri": "https://localhost:8080/"
        },
        "id": "4wJINjkHU0MT",
        "outputId": "17e3f326-3395-495d-f81a-5d41e8cb0de8"
      },
      "id": "4wJINjkHU0MT",
      "execution_count": null,
      "outputs": [
        {
          "output_type": "execute_result",
          "data": {
            "text/plain": [
              "['h', ' my name ', 's n', 't', 'sh']"
            ]
          },
          "metadata": {},
          "execution_count": 114
        }
      ]
    },
    {
      "cell_type": "code",
      "source": [
        "\" \".join(['hi', 'my', 'name', 'is', 'nitish'])"
      ],
      "metadata": {
        "colab": {
          "base_uri": "https://localhost:8080/",
          "height": 36
        },
        "id": "y7oN0QMwWr0A",
        "outputId": "0a5cd504-fc68-4771-a078-329b8519159b"
      },
      "id": "y7oN0QMwWr0A",
      "execution_count": null,
      "outputs": [
        {
          "output_type": "execute_result",
          "data": {
            "text/plain": [
              "'hi my name is nitish'"
            ],
            "application/vnd.google.colaboratory.intrinsic+json": {
              "type": "string"
            }
          },
          "metadata": {},
          "execution_count": 115
        }
      ]
    },
    {
      "cell_type": "code",
      "source": [
        "\"_\".join(['hi', 'my', 'name', 'is', 'nitish'])"
      ],
      "metadata": {
        "colab": {
          "base_uri": "https://localhost:8080/",
          "height": 36
        },
        "id": "Rv3tfumIWrwc",
        "outputId": "3daf84b0-9757-469f-bc78-ecd62df7768b"
      },
      "id": "Rv3tfumIWrwc",
      "execution_count": null,
      "outputs": [
        {
          "output_type": "execute_result",
          "data": {
            "text/plain": [
              "'hi_my_name_is_nitish'"
            ],
            "application/vnd.google.colaboratory.intrinsic+json": {
              "type": "string"
            }
          },
          "metadata": {},
          "execution_count": 116
        }
      ]
    },
    {
      "cell_type": "markdown",
      "source": [
        "Replace"
      ],
      "metadata": {
        "id": "TNpQr2YAXJbq"
      },
      "id": "TNpQr2YAXJbq"
    },
    {
      "cell_type": "code",
      "source": [
        "'hi my name is nitish'.replace('nitisrgewrhgh','campusx')"
      ],
      "metadata": {
        "colab": {
          "base_uri": "https://localhost:8080/",
          "height": 36
        },
        "id": "SXxmyIuoWrtT",
        "outputId": "0d880eef-05b6-434e-e7cb-a972344b53eb"
      },
      "id": "SXxmyIuoWrtT",
      "execution_count": null,
      "outputs": [
        {
          "output_type": "execute_result",
          "data": {
            "text/plain": [
              "'hi my name is nitish'"
            ],
            "application/vnd.google.colaboratory.intrinsic+json": {
              "type": "string"
            }
          },
          "metadata": {},
          "execution_count": 117
        }
      ]
    },
    {
      "cell_type": "markdown",
      "source": [
        "Strip"
      ],
      "metadata": {
        "id": "PCgmm2aBXVAz"
      },
      "id": "PCgmm2aBXVAz"
    },
    {
      "cell_type": "code",
      "source": [
        "'nitish                           '.strip()"
      ],
      "metadata": {
        "colab": {
          "base_uri": "https://localhost:8080/",
          "height": 36
        },
        "id": "55VvTM_DWrp2",
        "outputId": "031a128d-92e5-4bc3-b18c-5789f76487a2"
      },
      "id": "55VvTM_DWrp2",
      "execution_count": null,
      "outputs": [
        {
          "output_type": "execute_result",
          "data": {
            "text/plain": [
              "'nitish'"
            ],
            "application/vnd.google.colaboratory.intrinsic+json": {
              "type": "string"
            }
          },
          "metadata": {},
          "execution_count": 118
        }
      ]
    },
    {
      "cell_type": "code",
      "source": [
        "# Find the length of a given string without using the len() function\n",
        "\n",
        "s = input('enter the string')\n",
        "\n",
        "counter = 0\n",
        "\n",
        "for i in s:\n",
        "  counter += 1\n",
        "\n",
        "print('length of string is',counter)"
      ],
      "metadata": {
        "id": "N6oQRTpnXOB3",
        "colab": {
          "base_uri": "https://localhost:8080/"
        },
        "outputId": "2d8b0981-d6ea-4f66-baca-feb7c776a074"
      },
      "id": "N6oQRTpnXOB3",
      "execution_count": null,
      "outputs": [
        {
          "output_type": "stream",
          "name": "stdout",
          "text": [
            "enter the string'ranjit'\n",
            "length of string is 8\n"
          ]
        }
      ]
    },
    {
      "cell_type": "code",
      "source": [
        "# Extract username from a given email.\n",
        "\n",
        "s = input('enter the email')\n",
        "\n",
        "pos = s.index('@')\n",
        "print(s[0:pos])\n"
      ],
      "metadata": {
        "id": "Tvh7c_v_btmo",
        "colab": {
          "base_uri": "https://localhost:8080/"
        },
        "outputId": "2786fbac-31ac-42d5-9bad-5ef6737b62bf"
      },
      "id": "Tvh7c_v_btmo",
      "execution_count": null,
      "outputs": [
        {
          "output_type": "stream",
          "name": "stdout",
          "text": [
            "enter the emailranjitghadge555@gmail.com\n",
            "ranjitghadge555\n"
          ]
        }
      ]
    },
    {
      "cell_type": "code",
      "source": [
        "# Count the frequency of a particular character in a provided string.\n",
        "# Eg 'hello how are you' is the string, the frequency of h in this string is 2.\n",
        "\n",
        "s = input('enter the email')\n",
        "term = input('what would like to search for')\n",
        "\n",
        "counter = 0\n",
        "for i in s:\n",
        "  if i == term:\n",
        "    counter += 1\n",
        "\n",
        "print('frequency',counter)\n"
      ],
      "metadata": {
        "id": "kgdaa5Svbtjy",
        "colab": {
          "base_uri": "https://localhost:8080/"
        },
        "outputId": "6cd7903a-05e0-4731-a92d-876be625ff7c"
      },
      "id": "kgdaa5Svbtjy",
      "execution_count": null,
      "outputs": [
        {
          "output_type": "stream",
          "name": "stdout",
          "text": [
            "enter the emailkkkk\n",
            "what would like to search for5\n",
            "frequency 0\n"
          ]
        }
      ]
    },
    {
      "cell_type": "code",
      "source": [
        "# Write a program which can remove a particular character from a string.\n",
        "s = input('enter the string')\n",
        "term = input('what would like to remove')\n",
        "\n",
        "result = ''\n",
        "\n",
        "for i in s:\n",
        "  if i != term:\n",
        "    result = result + i\n",
        "\n",
        "print(result)"
      ],
      "metadata": {
        "id": "8zh040BYbtbY",
        "colab": {
          "base_uri": "https://localhost:8080/"
        },
        "outputId": "2bc33b63-b732-4b64-cdc8-c26fe779182e"
      },
      "id": "8zh040BYbtbY",
      "execution_count": null,
      "outputs": [
        {
          "output_type": "stream",
          "name": "stdout",
          "text": [
            "enter the stringjjjjjjjj\n",
            "what would like to remove5\n",
            "jjjjjjjj\n"
          ]
        }
      ]
    },
    {
      "cell_type": "code",
      "source": [
        "# Write a program that can check whether a given string is palindrome or not.\n",
        "# abba\n",
        "# malayalam\n",
        "\n",
        "s = input('enter the string')\n",
        "flag = True\n",
        "for i in range(0,len(s)//2):\n",
        "  if s[i] != s[len(s) - i -1]:\n",
        "    flag = False\n",
        "    print('Not a Palindrome')\n",
        "    break\n",
        "\n",
        "if flag:\n",
        "  print('Palindrome')"
      ],
      "metadata": {
        "id": "yWfFbe9hbtYN",
        "colab": {
          "base_uri": "https://localhost:8080/"
        },
        "outputId": "96d58622-2a4c-45cd-862f-f697eeb5fae1"
      },
      "id": "yWfFbe9hbtYN",
      "execution_count": null,
      "outputs": [
        {
          "output_type": "stream",
          "name": "stdout",
          "text": [
            "enter the string5\n",
            "Palindrome\n"
          ]
        }
      ]
    },
    {
      "cell_type": "code",
      "source": [
        "# Write a program to count the number of words in a string without split()\n",
        "\n",
        "s = input('enter the string')\n",
        "L = []\n",
        "temp = ''\n",
        "for i in s:\n",
        "\n",
        "  if i != ' ':\n",
        "    temp = temp + i\n",
        "  else:\n",
        "    L.append(temp)\n",
        "    temp = ''\n",
        "\n",
        "L.append(temp)\n",
        "print(L)\n"
      ],
      "metadata": {
        "id": "HALESRRubtVj",
        "colab": {
          "base_uri": "https://localhost:8080/"
        },
        "outputId": "ff109322-bf55-4147-a6c2-4a080d4c163f"
      },
      "id": "HALESRRubtVj",
      "execution_count": null,
      "outputs": [
        {
          "output_type": "stream",
          "name": "stdout",
          "text": [
            "enter the string\n",
            "['']\n"
          ]
        }
      ]
    },
    {
      "cell_type": "code",
      "source": [
        "# Write a python program to convert a string to title case without using the title()\n",
        "s = input('enter the string')\n",
        "\n",
        "L = []\n",
        "for i in s.split():\n",
        "  L.append(i[0].upper() + i[1:].lower())\n",
        "\n",
        "print(\" \".join(L))"
      ],
      "metadata": {
        "id": "e7w09zKnbtSd",
        "colab": {
          "base_uri": "https://localhost:8080/"
        },
        "outputId": "683e87b2-740f-4ae6-8f38-cdfe2b4c3b21"
      },
      "id": "e7w09zKnbtSd",
      "execution_count": null,
      "outputs": [
        {
          "output_type": "stream",
          "name": "stdout",
          "text": [
            "enter the string5\n",
            "5\n"
          ]
        }
      ]
    },
    {
      "cell_type": "code",
      "source": [
        "# Write a program that can convert an integer to string.\n",
        "\n",
        "number = int(input('enter the number'))\n",
        "\n",
        "digits = '0123456789'\n",
        "result = ''\n",
        "while number != 0:\n",
        "  result = digits[number % 10] + result\n",
        "  number = number//10\n",
        "\n",
        "print(result)\n",
        "print(type(result))"
      ],
      "metadata": {
        "id": "i0GawEzKbtPV",
        "colab": {
          "base_uri": "https://localhost:8080/"
        },
        "outputId": "300c4b27-274a-4836-a2a5-178f505161f7"
      },
      "id": "i0GawEzKbtPV",
      "execution_count": null,
      "outputs": [
        {
          "output_type": "stream",
          "name": "stdout",
          "text": [
            "enter the number5\n",
            "5\n",
            "<class 'str'>\n"
          ]
        }
      ]
    },
    {
      "cell_type": "markdown",
      "metadata": {
        "id": "02f35638"
      },
      "source": [
        "# List"
      ],
      "id": "02f35638"
    },
    {
      "cell_type": "markdown",
      "source": [
        "**What are Lists**\n",
        "\n",
        "List is a data type where you can store multiple items under 1 name. More technically, lists act like dynamic arrays which means you can add more items on the fly."
      ],
      "metadata": {
        "id": "YXthf7xqrAhU"
      },
      "id": "YXthf7xqrAhU"
    },
    {
      "cell_type": "markdown",
      "source": [
        "**Array Vs Lists**\n",
        "\n",
        "Fixed Vs Dynamic Size\n",
        "\n",
        "Convenience -> Hetrogeneous\n",
        "\n",
        "Speed of Execution\n",
        "\n",
        "Memory"
      ],
      "metadata": {
        "id": "qNs-30OurdoO"
      },
      "id": "qNs-30OurdoO"
    },
    {
      "cell_type": "code",
      "source": [
        "L = [1,2,3]                 #list work like a referncial array\n",
        "\n",
        "print(id(L))\n",
        "print(id(L[0]))\n",
        "print(id(L[1]))\n",
        "print(id(L[2]))\n",
        "print(id(1))\n",
        "print(id(2))\n",
        "print(id(3))"
      ],
      "metadata": {
        "id": "9Q4dts9BqRaY",
        "colab": {
          "base_uri": "https://localhost:8080/"
        },
        "outputId": "02d7175f-f1a7-4238-eb31-74c4e0d966f0"
      },
      "id": "9Q4dts9BqRaY",
      "execution_count": null,
      "outputs": [
        {
          "output_type": "stream",
          "name": "stdout",
          "text": [
            "133452900508480\n",
            "133453509869808\n",
            "133453509869840\n",
            "133453509869872\n",
            "133453509869808\n",
            "133453509869840\n",
            "133453509869872\n"
          ]
        }
      ]
    },
    {
      "cell_type": "markdown",
      "source": [
        "### Characterstics of a List\n",
        "\n",
        "- Ordered\n",
        "- Changeble/Mutable\n",
        "- Hetrogeneous\n",
        "- Can have duplicates\n",
        "- are dynamic\n",
        "- can be nested\n",
        "- items can be accessed\n",
        "- can contain any kind of objects in python"
      ],
      "metadata": {
        "id": "pVPYIMVPubuu"
      },
      "id": "pVPYIMVPubuu"
    },
    {
      "cell_type": "code",
      "source": [
        "L = [1,2,3,1]\n",
        "L1 = [3,2,1]\n",
        "\n",
        "L == L1"
      ],
      "metadata": {
        "id": "Uq87u6WmqRQo",
        "colab": {
          "base_uri": "https://localhost:8080/"
        },
        "outputId": "9fbe8c1e-fcf7-40b2-f5cd-2893ff5bd8b2"
      },
      "id": "Uq87u6WmqRQo",
      "execution_count": null,
      "outputs": [
        {
          "output_type": "execute_result",
          "data": {
            "text/plain": [
              "False"
            ]
          },
          "metadata": {},
          "execution_count": 129
        }
      ]
    },
    {
      "cell_type": "markdown",
      "source": [
        "### Creating a List"
      ],
      "metadata": {
        "id": "4stV2fBCvFij"
      },
      "id": "4stV2fBCvFij"
    },
    {
      "cell_type": "code",
      "source": [
        "# Empty\n",
        "print([])\n",
        "# 1D -> Homo\n",
        "print([1,2,3,4,5])\n",
        "# 2D\n",
        "print([1,2,3,[4,5]])\n",
        "# 3D\n",
        "print([[[1,2],[3,4]],[[5,6],[7,8]]])\n",
        "# Hetrogenous\n",
        "print([1,True,5.6,5+6j,'Hello'])\n",
        "# Using Type conversion\n",
        "print(list('hello'))"
      ],
      "metadata": {
        "id": "_bfFW0VrvDqq",
        "colab": {
          "base_uri": "https://localhost:8080/"
        },
        "outputId": "4b6af2b3-2ab2-4d58-e668-6ed1b9b0ed21"
      },
      "id": "_bfFW0VrvDqq",
      "execution_count": null,
      "outputs": [
        {
          "output_type": "stream",
          "name": "stdout",
          "text": [
            "[]\n",
            "[1, 2, 3, 4, 5]\n",
            "[1, 2, 3, [4, 5]]\n",
            "[[[1, 2], [3, 4]], [[5, 6], [7, 8]]]\n",
            "[1, True, 5.6, (5+6j), 'Hello']\n",
            "['h', 'e', 'l', 'l', 'o']\n"
          ]
        }
      ]
    },
    {
      "cell_type": "markdown",
      "source": [
        "### Accessing Items from a List"
      ],
      "metadata": {
        "id": "6KYsGD3gvn7p"
      },
      "id": "6KYsGD3gvn7p"
    },
    {
      "cell_type": "code",
      "source": [
        "# Indexing\n",
        "L = [[[1,2],[3,4]],[[5,6],[7,8]]]\n",
        "#positive\n",
        "print(L[0][0][1])\n",
        "\n",
        "# Slicing\n",
        "T = [1,2,3,4,5,6]\n",
        "print(T[0])\n",
        "print(T[-1])\n",
        "print(T[::-1])\n",
        "print(T[3::-1])"
      ],
      "metadata": {
        "id": "91kli7SovDn0",
        "colab": {
          "base_uri": "https://localhost:8080/"
        },
        "outputId": "3d016ca7-435a-4bec-bcbf-5ed25982c805"
      },
      "id": "91kli7SovDn0",
      "execution_count": null,
      "outputs": [
        {
          "output_type": "stream",
          "name": "stdout",
          "text": [
            "2\n",
            "1\n",
            "6\n",
            "[6, 5, 4, 3, 2, 1]\n",
            "[4, 3, 2, 1]\n"
          ]
        }
      ]
    },
    {
      "cell_type": "markdown",
      "source": [
        "### Adding Items to a List"
      ],
      "metadata": {
        "id": "LdjtL1Jaw1T2"
      },
      "id": "LdjtL1Jaw1T2"
    },
    {
      "cell_type": "code",
      "source": [
        "# append\n",
        "L = [1,2,3,4,5]\n",
        "L.append(True)\n",
        "print(L)\n",
        "\n",
        "L.append(6)\n",
        "print(L)"
      ],
      "metadata": {
        "id": "SC7Te2knvDlS",
        "colab": {
          "base_uri": "https://localhost:8080/"
        },
        "outputId": "6f222fb7-6bfe-48ea-bef3-f148cf38ef7d"
      },
      "id": "SC7Te2knvDlS",
      "execution_count": null,
      "outputs": [
        {
          "output_type": "stream",
          "name": "stdout",
          "text": [
            "[1, 2, 3, 4, 5, True]\n",
            "[1, 2, 3, 4, 5, True, 6]\n"
          ]
        }
      ]
    },
    {
      "cell_type": "code",
      "source": [
        "# extend\n",
        "L = [1,2,3,4,5]\n",
        "L.extend([6,7,8])\n",
        "print(L)"
      ],
      "metadata": {
        "id": "7lKfX_z9vDie",
        "colab": {
          "base_uri": "https://localhost:8080/"
        },
        "outputId": "5754e8bf-9231-4a51-b577-b879fc9629e5"
      },
      "id": "7lKfX_z9vDie",
      "execution_count": null,
      "outputs": [
        {
          "output_type": "stream",
          "name": "stdout",
          "text": [
            "[1, 2, 3, 4, 5, 6, 7, 8]\n"
          ]
        }
      ]
    },
    {
      "cell_type": "code",
      "source": [
        "L = [1,2,3,4,5]\n",
        "L.append([6,7,8])\n",
        "print(L)"
      ],
      "metadata": {
        "id": "vJmdL0QDvDfl",
        "colab": {
          "base_uri": "https://localhost:8080/"
        },
        "outputId": "2e4b3f38-32a7-4f43-8c74-8823644ae6bc"
      },
      "id": "vJmdL0QDvDfl",
      "execution_count": null,
      "outputs": [
        {
          "output_type": "stream",
          "name": "stdout",
          "text": [
            "[1, 2, 3, 4, 5, [6, 7, 8]]\n"
          ]
        }
      ]
    },
    {
      "cell_type": "code",
      "source": [
        "L = [1,2,3,4,5]\n",
        "L.extend('delhi')\n",
        "print(L)"
      ],
      "metadata": {
        "id": "3cBPZdnwvDcy",
        "colab": {
          "base_uri": "https://localhost:8080/"
        },
        "outputId": "9aaabaf1-e01c-43ff-8989-82b0a1b88943"
      },
      "id": "3cBPZdnwvDcy",
      "execution_count": null,
      "outputs": [
        {
          "output_type": "stream",
          "name": "stdout",
          "text": [
            "[1, 2, 3, 4, 5, 'd', 'e', 'l', 'h', 'i']\n"
          ]
        }
      ]
    },
    {
      "cell_type": "code",
      "source": [
        "# insert\n",
        "L = [1,2,3,4,5]      #(location,no)\n",
        "\n",
        "L.insert(2,100)\n",
        "print(L)"
      ],
      "metadata": {
        "id": "BHLg0_XdvDaU",
        "colab": {
          "base_uri": "https://localhost:8080/"
        },
        "outputId": "5b63a4cd-42ef-4783-870e-36f7cd58502c"
      },
      "id": "BHLg0_XdvDaU",
      "execution_count": null,
      "outputs": [
        {
          "output_type": "stream",
          "name": "stdout",
          "text": [
            "[1, 2, 100, 3, 4, 5]\n"
          ]
        }
      ]
    },
    {
      "cell_type": "markdown",
      "source": [
        "### Editing items in a List"
      ],
      "metadata": {
        "id": "pzfZwRpTxfeO"
      },
      "id": "pzfZwRpTxfeO"
    },
    {
      "cell_type": "code",
      "source": [
        "L = [1,2,3,4,5]\n",
        "\n",
        "# editing with indexing\n",
        "L[-1] = 500\n",
        "\n",
        "# editing with slicing\n",
        "L[1:4] = [200,300,400]\n",
        "L[0] = 50\n",
        "print(L)"
      ],
      "metadata": {
        "id": "F7m50iXFvDXm",
        "colab": {
          "base_uri": "https://localhost:8080/"
        },
        "outputId": "b3a9eedc-636c-4409-f01b-6201d1fceb78"
      },
      "id": "F7m50iXFvDXm",
      "execution_count": null,
      "outputs": [
        {
          "output_type": "stream",
          "name": "stdout",
          "text": [
            "[50, 200, 300, 400, 500]\n"
          ]
        }
      ]
    },
    {
      "cell_type": "markdown",
      "source": [
        "### Deleting items from a List"
      ],
      "metadata": {
        "id": "ZYiAg61ax6OP"
      },
      "id": "ZYiAg61ax6OP"
    },
    {
      "cell_type": "code",
      "source": [
        "# del\n",
        "L = [1,2,3,4,5]\n",
        "\n",
        "# indexing\n",
        "del L[-1]\n",
        "print(L)\n",
        "# slicing\n",
        "del L[1:3]\n",
        "print(L)\n",
        "\n",
        "del L[0]\n",
        "print(L)"
      ],
      "metadata": {
        "id": "XEibMfEWvDUz",
        "colab": {
          "base_uri": "https://localhost:8080/"
        },
        "outputId": "5689d543-41c7-4040-b334-3dfd5ff28d58"
      },
      "id": "XEibMfEWvDUz",
      "execution_count": null,
      "outputs": [
        {
          "output_type": "stream",
          "name": "stdout",
          "text": [
            "[1, 2, 3, 4]\n",
            "[1, 4]\n",
            "[4]\n"
          ]
        }
      ]
    },
    {
      "cell_type": "code",
      "source": [
        "# remove\n",
        "\n",
        "L = [1,2,3,4,5]\n",
        "\n",
        "L.remove(5)\n",
        "\n",
        "print(L)\n",
        "\n",
        "L.remove(3)\n",
        "print(L)"
      ],
      "metadata": {
        "id": "xy1LWzKYvDSS",
        "colab": {
          "base_uri": "https://localhost:8080/"
        },
        "outputId": "d0d31bed-6b20-431f-df67-efc29cfe42d1"
      },
      "id": "xy1LWzKYvDSS",
      "execution_count": null,
      "outputs": [
        {
          "output_type": "stream",
          "name": "stdout",
          "text": [
            "[1, 2, 3, 4]\n",
            "[1, 2, 4]\n"
          ]
        }
      ]
    },
    {
      "cell_type": "code",
      "source": [
        "# pop\n",
        "L = [1,2,3,4,5]\n",
        "\n",
        "L.pop(0)\n",
        "\n",
        "print(L)"
      ],
      "metadata": {
        "id": "-3ltnt-6vDPY",
        "colab": {
          "base_uri": "https://localhost:8080/"
        },
        "outputId": "1579ffb5-5445-48c1-a11a-84555127dcb7"
      },
      "id": "-3ltnt-6vDPY",
      "execution_count": null,
      "outputs": [
        {
          "output_type": "stream",
          "name": "stdout",
          "text": [
            "[2, 3, 4, 5]\n"
          ]
        }
      ]
    },
    {
      "cell_type": "code",
      "source": [
        "# pop\n",
        "L = [1,2,3,4,5]\n",
        "\n",
        "L.pop()\n",
        "\n",
        "print(L)"
      ],
      "metadata": {
        "id": "YoE9etu6vDKi",
        "colab": {
          "base_uri": "https://localhost:8080/"
        },
        "outputId": "3c7d5ab0-afec-4947-a957-ca539fc73185"
      },
      "id": "YoE9etu6vDKi",
      "execution_count": null,
      "outputs": [
        {
          "output_type": "stream",
          "name": "stdout",
          "text": [
            "[1, 2, 3, 4]\n"
          ]
        }
      ]
    },
    {
      "cell_type": "code",
      "source": [
        "# clear\n",
        "L = [1,2,3,4,5]\n",
        "\n",
        "L.clear()\n",
        "\n",
        "print(L)"
      ],
      "metadata": {
        "id": "GjTurOPXvDGZ",
        "colab": {
          "base_uri": "https://localhost:8080/"
        },
        "outputId": "514af8f0-be66-4ada-b76a-d801f7ba7498"
      },
      "id": "GjTurOPXvDGZ",
      "execution_count": null,
      "outputs": [
        {
          "output_type": "stream",
          "name": "stdout",
          "text": [
            "[]\n"
          ]
        }
      ]
    },
    {
      "cell_type": "markdown",
      "source": [
        "### Operations on Lists\n",
        "\n",
        "- Arithmetic\n",
        "- Membership\n",
        "- Loop"
      ],
      "metadata": {
        "id": "MdbRRHkRynfS"
      },
      "id": "MdbRRHkRynfS"
    },
    {
      "cell_type": "code",
      "source": [
        "# Arithmetic (+ ,*)\n",
        "\n",
        "L1 = [1,2,3,4]\n",
        "L2 = [5,6,7,8]\n",
        "\n",
        "# Concatenation/Merge\n",
        "print(L1 + L2)"
      ],
      "metadata": {
        "id": "76kiFjxrynFl",
        "colab": {
          "base_uri": "https://localhost:8080/"
        },
        "outputId": "17dcd4a6-6330-4d56-f7de-613e0a6fadee"
      },
      "id": "76kiFjxrynFl",
      "execution_count": null,
      "outputs": [
        {
          "output_type": "stream",
          "name": "stdout",
          "text": [
            "[1, 2, 3, 4, 5, 6, 7, 8]\n"
          ]
        }
      ]
    },
    {
      "cell_type": "code",
      "source": [
        "print(L1*3)"
      ],
      "metadata": {
        "id": "kdeEhWgBynC5",
        "colab": {
          "base_uri": "https://localhost:8080/"
        },
        "outputId": "12062703-ee6e-46be-e331-fb5b984fe961"
      },
      "id": "kdeEhWgBynC5",
      "execution_count": null,
      "outputs": [
        {
          "output_type": "stream",
          "name": "stdout",
          "text": [
            "[1, 2, 3, 4, 1, 2, 3, 4, 1, 2, 3, 4]\n"
          ]
        }
      ]
    },
    {
      "cell_type": "code",
      "source": [
        "L1 = [1,2,3,4,5]\n",
        "L2 = [1,2,3,4,[5,6]]\n",
        "\n",
        "print(5 not in L1)\n",
        "print([5,6] in L2)"
      ],
      "metadata": {
        "id": "Enl4q8bCynAJ",
        "colab": {
          "base_uri": "https://localhost:8080/"
        },
        "outputId": "33bddbcf-6930-4ab1-fd8d-ae4d04cb0a64"
      },
      "id": "Enl4q8bCynAJ",
      "execution_count": null,
      "outputs": [
        {
          "output_type": "stream",
          "name": "stdout",
          "text": [
            "False\n",
            "True\n"
          ]
        }
      ]
    },
    {
      "cell_type": "code",
      "source": [
        "# Loops\n",
        "L1 = [1,2,3,4,5]\n",
        "L2 = [1,2,3,4,[5,6]]\n",
        "L3 = [[[1,2],[3,4]],[[5,6],[7,8]]]\n",
        "\n",
        "for i in L3:\n",
        "  print(i)"
      ],
      "metadata": {
        "id": "Lf2UYL9_zZqN",
        "colab": {
          "base_uri": "https://localhost:8080/"
        },
        "outputId": "96e2a94c-ebdc-4a0e-f0d5-0a383df354f7"
      },
      "id": "Lf2UYL9_zZqN",
      "execution_count": null,
      "outputs": [
        {
          "output_type": "stream",
          "name": "stdout",
          "text": [
            "[[1, 2], [3, 4]]\n",
            "[[5, 6], [7, 8]]\n"
          ]
        }
      ]
    },
    {
      "cell_type": "markdown",
      "source": [
        "### List Functions"
      ],
      "metadata": {
        "id": "E4Gt6AI7zXA6"
      },
      "id": "E4Gt6AI7zXA6"
    },
    {
      "cell_type": "code",
      "source": [
        "# len/min/max/sorted\n",
        "L = [2,1,5,7,0]\n",
        "\n",
        "print(len(L))\n",
        "print(min(L))\n",
        "print(max(L))\n",
        "print(sorted(L,reverse=True))"
      ],
      "metadata": {
        "id": "GKsKoFuyym7u",
        "colab": {
          "base_uri": "https://localhost:8080/"
        },
        "outputId": "b80a7e46-1269-495b-8487-9e7eac8d88f1"
      },
      "id": "GKsKoFuyym7u",
      "execution_count": null,
      "outputs": [
        {
          "output_type": "stream",
          "name": "stdout",
          "text": [
            "5\n",
            "0\n",
            "7\n",
            "[7, 5, 2, 1, 0]\n"
          ]
        }
      ]
    },
    {
      "cell_type": "code",
      "source": [
        "# count\n",
        "L = [1,2,1,3,4,1,5]\n",
        "L.count(5)"
      ],
      "metadata": {
        "id": "OGnYzS7rym2v",
        "colab": {
          "base_uri": "https://localhost:8080/"
        },
        "outputId": "80e9fb5e-7ec9-494a-9ecd-5b93bfcb8d77"
      },
      "id": "OGnYzS7rym2v",
      "execution_count": null,
      "outputs": [
        {
          "output_type": "execute_result",
          "data": {
            "text/plain": [
              "1"
            ]
          },
          "metadata": {},
          "execution_count": 148
        }
      ]
    },
    {
      "cell_type": "code",
      "source": [
        "# index\n",
        "L = [1,2,1,3,4,1,5]\n",
        "L.index(1)"
      ],
      "metadata": {
        "id": "Ta50YqYFym0M",
        "colab": {
          "base_uri": "https://localhost:8080/"
        },
        "outputId": "b8da075c-248c-49fb-8095-c1432b27d8a8"
      },
      "id": "Ta50YqYFym0M",
      "execution_count": null,
      "outputs": [
        {
          "output_type": "execute_result",
          "data": {
            "text/plain": [
              "0"
            ]
          },
          "metadata": {},
          "execution_count": 149
        }
      ]
    },
    {
      "cell_type": "code",
      "source": [
        "# reverse\n",
        "L = [2,1,5,7,0]\n",
        "# permanently reverses the list\n",
        "L.reverse()\n",
        "print(L)"
      ],
      "metadata": {
        "id": "c67HZITPymwy",
        "colab": {
          "base_uri": "https://localhost:8080/"
        },
        "outputId": "96d371f6-9b87-436f-e550-bf0bb2d68435"
      },
      "id": "c67HZITPymwy",
      "execution_count": null,
      "outputs": [
        {
          "output_type": "stream",
          "name": "stdout",
          "text": [
            "[0, 7, 5, 1, 2]\n"
          ]
        }
      ]
    },
    {
      "cell_type": "code",
      "source": [
        "# sort (vs sorted)\n",
        "L = [2,1,5,7,0]\n",
        "print(L)\n",
        "print(sorted(L))\n",
        "print(L)\n",
        "L.sort()  #do permanantly\n",
        "print(L)\n",
        "L"
      ],
      "metadata": {
        "id": "mS89NimUymt-",
        "colab": {
          "base_uri": "https://localhost:8080/"
        },
        "outputId": "b0b5aeb7-16e3-44f8-abb4-fc2d04bafa7c"
      },
      "id": "mS89NimUymt-",
      "execution_count": null,
      "outputs": [
        {
          "output_type": "stream",
          "name": "stdout",
          "text": [
            "[2, 1, 5, 7, 0]\n",
            "[0, 1, 2, 5, 7]\n",
            "[2, 1, 5, 7, 0]\n",
            "[0, 1, 2, 5, 7]\n"
          ]
        },
        {
          "output_type": "execute_result",
          "data": {
            "text/plain": [
              "[0, 1, 2, 5, 7]"
            ]
          },
          "metadata": {},
          "execution_count": 151
        }
      ]
    },
    {
      "cell_type": "code",
      "source": [
        "# copy -> shallow\n",
        "L = [2,1,5,7,0]\n",
        "print(L)\n",
        "print(id(L))\n",
        "L1 = L.copy()\n",
        "print(L1)\n",
        "print(id(L1))"
      ],
      "metadata": {
        "id": "ydPTJP6nymrA",
        "colab": {
          "base_uri": "https://localhost:8080/"
        },
        "outputId": "6a50b13b-c713-49eb-a8d5-7f771cbfbc25"
      },
      "id": "ydPTJP6nymrA",
      "execution_count": null,
      "outputs": [
        {
          "output_type": "stream",
          "name": "stdout",
          "text": [
            "[2, 1, 5, 7, 0]\n",
            "133453302596032\n",
            "[2, 1, 5, 7, 0]\n",
            "133452894646656\n"
          ]
        }
      ]
    },
    {
      "cell_type": "markdown",
      "source": [
        "### List Comprehension\n",
        "\n",
        "List Comprehension provides a concise way of creating lists.\n",
        "\n",
        "newlist = [expression for item in iterable if condition == True]![image.png](data:image/png;base64,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)\n",
        "\n",
        "Advantages of List Comprehension\n",
        "- More time-efficient and space-efficient than loops.\n",
        "- Require fewer lines of code.\n",
        "- Transforms iterative statement into a formula."
      ],
      "metadata": {
        "id": "tVzeGcQK02CB"
      },
      "id": "tVzeGcQK02CB"
    },
    {
      "cell_type": "code",
      "source": [
        "# Add 1 to 10 numbers to a list\n",
        "L = []\n",
        "\n",
        "for i in range(1,11):\n",
        "  L.append(i)\n",
        "\n",
        "print(L)"
      ],
      "metadata": {
        "id": "5tYYDudkymn4",
        "colab": {
          "base_uri": "https://localhost:8080/"
        },
        "outputId": "d891df7a-7d28-4941-e254-35a8f374b16a"
      },
      "id": "5tYYDudkymn4",
      "execution_count": null,
      "outputs": [
        {
          "output_type": "stream",
          "name": "stdout",
          "text": [
            "[1, 2, 3, 4, 5, 6, 7, 8, 9, 10]\n"
          ]
        }
      ]
    },
    {
      "cell_type": "code",
      "source": [
        "L = [i for i in range(1,11)]\n",
        "print(L)"
      ],
      "metadata": {
        "id": "9HFPxg_9qRFx",
        "colab": {
          "base_uri": "https://localhost:8080/"
        },
        "outputId": "dbb42119-e81f-4af3-9ddb-3f1a89cb5686"
      },
      "id": "9HFPxg_9qRFx",
      "execution_count": null,
      "outputs": [
        {
          "output_type": "stream",
          "name": "stdout",
          "text": [
            "[1, 2, 3, 4, 5, 6, 7, 8, 9, 10]\n"
          ]
        }
      ]
    },
    {
      "cell_type": "code",
      "source": [
        "# scalar multiplication on a vector\n",
        "v = [2,3,4]\n",
        "s = -3\n",
        "# [-6,-9,-12]\n",
        "\n",
        "[s*i for i in v]"
      ],
      "metadata": {
        "id": "s0qbpj9zqQ_w",
        "colab": {
          "base_uri": "https://localhost:8080/"
        },
        "outputId": "9258211b-f23c-4ab6-d317-eb77c817e727"
      },
      "id": "s0qbpj9zqQ_w",
      "execution_count": null,
      "outputs": [
        {
          "output_type": "execute_result",
          "data": {
            "text/plain": [
              "[-6, -9, -12]"
            ]
          },
          "metadata": {},
          "execution_count": 155
        }
      ]
    },
    {
      "cell_type": "code",
      "source": [
        "# Add squares\n",
        "L = [1,2,3,4,5]\n",
        "\n",
        "[i**2 for i in L]\n"
      ],
      "metadata": {
        "id": "audJ4Iaq1hNz",
        "colab": {
          "base_uri": "https://localhost:8080/"
        },
        "outputId": "a7d89b0a-f34e-4263-edf7-a870d9eb6fc2"
      },
      "id": "audJ4Iaq1hNz",
      "execution_count": null,
      "outputs": [
        {
          "output_type": "execute_result",
          "data": {
            "text/plain": [
              "[1, 4, 9, 16, 25]"
            ]
          },
          "metadata": {},
          "execution_count": 156
        }
      ]
    },
    {
      "cell_type": "code",
      "source": [
        "# Print all numbers divisible by 5 in the range of 1 to 50\n",
        "\n",
        "[i for i in range(1,51) if i%5 == 0]"
      ],
      "metadata": {
        "id": "-UJB7S4V1hLB",
        "colab": {
          "base_uri": "https://localhost:8080/"
        },
        "outputId": "4b24e289-1a97-45a2-8a8b-31dee04624fb"
      },
      "id": "-UJB7S4V1hLB",
      "execution_count": null,
      "outputs": [
        {
          "output_type": "execute_result",
          "data": {
            "text/plain": [
              "[5, 10, 15, 20, 25, 30, 35, 40, 45, 50]"
            ]
          },
          "metadata": {},
          "execution_count": 157
        }
      ]
    },
    {
      "cell_type": "code",
      "source": [
        "# find languages which start with letter p\n",
        "languages = ['java','python','php','c','javascript']\n",
        "\n",
        "[language for language in languages if language.startswith('p')]"
      ],
      "metadata": {
        "id": "f_ZmvITU1hIh",
        "colab": {
          "base_uri": "https://localhost:8080/"
        },
        "outputId": "3f0e92e2-8ca5-4b9a-e452-c98bac5d240c"
      },
      "id": "f_ZmvITU1hIh",
      "execution_count": null,
      "outputs": [
        {
          "output_type": "execute_result",
          "data": {
            "text/plain": [
              "['python', 'php']"
            ]
          },
          "metadata": {},
          "execution_count": 158
        }
      ]
    },
    {
      "cell_type": "code",
      "source": [
        "# Nested if with List Comprehension\n",
        "basket = ['apple','guava','cherry','banana']\n",
        "my_fruits = ['apple','kiwi','grapes','banana']\n",
        "\n",
        "# add new list from my_fruits and items if the fruit exists in basket and also starts with 'a'\n",
        "\n",
        "[fruit for fruit in my_fruits if fruit in basket if fruit.startswith('a')]"
      ],
      "metadata": {
        "id": "nRHVGS8B1hF0",
        "colab": {
          "base_uri": "https://localhost:8080/"
        },
        "outputId": "13b480e3-4264-427e-9e50-ca7bfdf813de"
      },
      "id": "nRHVGS8B1hF0",
      "execution_count": null,
      "outputs": [
        {
          "output_type": "execute_result",
          "data": {
            "text/plain": [
              "['apple']"
            ]
          },
          "metadata": {},
          "execution_count": 159
        }
      ]
    },
    {
      "cell_type": "code",
      "source": [
        "# Print a (3,3) matrix using list comprehension -> Nested List comprehension\n",
        "[[i*j for i in range(1,4)] for j in range(1,4)]"
      ],
      "metadata": {
        "id": "rqf-M0Yk1hCw",
        "colab": {
          "base_uri": "https://localhost:8080/"
        },
        "outputId": "751ad8d0-108d-4a25-e3a3-9bf8b7947af0"
      },
      "id": "rqf-M0Yk1hCw",
      "execution_count": null,
      "outputs": [
        {
          "output_type": "execute_result",
          "data": {
            "text/plain": [
              "[[1, 2, 3], [2, 4, 6], [3, 6, 9]]"
            ]
          },
          "metadata": {},
          "execution_count": 160
        }
      ]
    },
    {
      "cell_type": "code",
      "source": [
        "# cartesian products -> List comprehension on 2 lists together\n",
        "L1 = [1,2,3,4]\n",
        "L2 = [5,6,7,8]\n",
        "\n",
        "[i*j for i in L1 for j in L2]"
      ],
      "metadata": {
        "id": "f7sU4NLv1g-z",
        "colab": {
          "base_uri": "https://localhost:8080/"
        },
        "outputId": "2d6cda33-85c8-4dca-8771-a8695d88b5da"
      },
      "id": "f7sU4NLv1g-z",
      "execution_count": null,
      "outputs": [
        {
          "output_type": "execute_result",
          "data": {
            "text/plain": [
              "[5, 6, 7, 8, 10, 12, 14, 16, 15, 18, 21, 24, 20, 24, 28, 32]"
            ]
          },
          "metadata": {},
          "execution_count": 161
        }
      ]
    },
    {
      "cell_type": "markdown",
      "source": [
        "### List Comprehension:"
      ],
      "metadata": {
        "id": "HJrmv6wJhZr6"
      },
      "id": "HJrmv6wJhZr6"
    },
    {
      "cell_type": "markdown",
      "source": [
        "# New Section"
      ],
      "metadata": {
        "id": "PimIQuqlsXIb"
      },
      "id": "PimIQuqlsXIb"
    },
    {
      "cell_type": "markdown",
      "source": [
        "Provide a concice way to create a list it consist bracket containing expression follow by for clouse then, zero or mmore for or if clauses this expression can be anything you can put all kinds of object in list."
      ],
      "metadata": {
        "id": "6wUVPRYIjv5I"
      },
      "id": "6wUVPRYIjv5I"
    },
    {
      "cell_type": "code",
      "source": [
        "def sqr(nums):\n",
        "  l=[]\n",
        "  for i in nums:\n",
        "    l.append(i*i)\n",
        "  return l\n",
        "\n",
        "nums=[1,2,4,5,6]\n",
        "print(sqr(nums))"
      ],
      "metadata": {
        "id": "si4kFUR40b4p",
        "colab": {
          "base_uri": "https://localhost:8080/"
        },
        "outputId": "a640bca4-8186-470c-d86e-c2d0f1eb8c27"
      },
      "execution_count": null,
      "outputs": [
        {
          "output_type": "stream",
          "name": "stdout",
          "text": [
            "[1, 4, 16, 25, 36]\n"
          ]
        }
      ],
      "id": "si4kFUR40b4p"
    },
    {
      "cell_type": "code",
      "source": [
        "list1=[i*i for i in nums]\n",
        "print(list1)"
      ],
      "metadata": {
        "id": "Jz-3HcDI0b1o",
        "colab": {
          "base_uri": "https://localhost:8080/"
        },
        "outputId": "623d3c8d-229a-4b6c-a23e-72141799768f"
      },
      "execution_count": null,
      "outputs": [
        {
          "output_type": "stream",
          "name": "stdout",
          "text": [
            "[1, 4, 16, 25, 36]\n"
          ]
        }
      ],
      "id": "Jz-3HcDI0b1o"
    },
    {
      "cell_type": "code",
      "source": [
        "#If need even nos square\n",
        "list1=[i*i for i in nums if i%2==0 ]\n",
        "print(list1)"
      ],
      "metadata": {
        "id": "9k0fBN_R0by6",
        "colab": {
          "base_uri": "https://localhost:8080/"
        },
        "outputId": "2028579f-39f0-435d-c443-992e71ab9404"
      },
      "execution_count": null,
      "outputs": [
        {
          "output_type": "stream",
          "name": "stdout",
          "text": [
            "[4, 16, 36]\n"
          ]
        }
      ],
      "id": "9k0fBN_R0by6"
    },
    {
      "cell_type": "markdown",
      "source": [
        "### 2 ways to traverse a list\n",
        "\n",
        "- itemwise\n",
        "- indexwise"
      ],
      "metadata": {
        "id": "ngrXdMiP24Zi"
      },
      "id": "ngrXdMiP24Zi"
    },
    {
      "cell_type": "code",
      "source": [
        "# indexwise\n",
        "L = [1,2,3,4]\n",
        "\n",
        "for i in range(0,len(L)):\n",
        "  print(L[i])\n"
      ],
      "metadata": {
        "id": "zq7YHdbc2a3V",
        "colab": {
          "base_uri": "https://localhost:8080/"
        },
        "outputId": "f162260d-d35a-4891-fc89-d4945040c8fc"
      },
      "id": "zq7YHdbc2a3V",
      "execution_count": null,
      "outputs": [
        {
          "output_type": "stream",
          "name": "stdout",
          "text": [
            "1\n",
            "2\n",
            "3\n",
            "4\n"
          ]
        }
      ]
    },
    {
      "cell_type": "code",
      "source": [
        "# itemwise\n",
        "L = [1,2,3,4]\n",
        "\n",
        "for i in L:\n",
        "  print(i)"
      ],
      "metadata": {
        "id": "cqV_hVJK2a7U",
        "colab": {
          "base_uri": "https://localhost:8080/"
        },
        "outputId": "52fe8af1-dead-456e-c78a-17c89147690d"
      },
      "execution_count": null,
      "outputs": [
        {
          "output_type": "stream",
          "name": "stdout",
          "text": [
            "1\n",
            "2\n",
            "3\n",
            "4\n"
          ]
        }
      ],
      "id": "cqV_hVJK2a7U"
    },
    {
      "cell_type": "markdown",
      "source": [
        "### Zip\n",
        "\n",
        "The zip() function returns a zip object, which is an iterator of tuples where the first item in each passed iterator is paired together, and then the second item in each passed iterator are paired together.\n",
        "\n",
        "If the passed iterators have different lengths, the iterator with the least items decides the length of the new iterator."
      ],
      "metadata": {
        "id": "W3A88h4A3N_Q"
      },
      "id": "W3A88h4A3N_Q"
    },
    {
      "cell_type": "code",
      "source": [
        "# Write a program to add items of 2 lists indexwise\n",
        "\n",
        "L1 = [1,2,3,4]\n",
        "L2 = [-1,-2,-3,-4]\n",
        "\n",
        "list(zip(L1,L2))\n",
        "\n",
        "[i+j for i,j in zip(L1,L2)]"
      ],
      "metadata": {
        "id": "Jfp8VZN62a0b",
        "colab": {
          "base_uri": "https://localhost:8080/"
        },
        "outputId": "c03ab2d8-c549-47bb-fbc1-f879b925ec49"
      },
      "id": "Jfp8VZN62a0b",
      "execution_count": null,
      "outputs": [
        {
          "output_type": "execute_result",
          "data": {
            "text/plain": [
              "[0, 0, 0, 0]"
            ]
          },
          "metadata": {},
          "execution_count": 167
        }
      ]
    },
    {
      "cell_type": "code",
      "source": [
        "L = [1,2,print,type,input]\n",
        "print(L)"
      ],
      "metadata": {
        "id": "bzEnLx0E2axm",
        "colab": {
          "base_uri": "https://localhost:8080/"
        },
        "outputId": "10a0ae5b-b344-4c4f-d0d3-afe94cd91750"
      },
      "id": "bzEnLx0E2axm",
      "execution_count": null,
      "outputs": [
        {
          "output_type": "stream",
          "name": "stdout",
          "text": [
            "[1, 2, <built-in function print>, <class 'type'>, <bound method Kernel.raw_input of <google.colab._kernel.Kernel object at 0x796009010280>>]\n"
          ]
        }
      ]
    },
    {
      "cell_type": "markdown",
      "source": [
        "### Disadvantages of Python Lists\n",
        "\n",
        "- Slow\n",
        "- Risky usage\n",
        "- eats up more memory"
      ],
      "metadata": {
        "id": "69vfs_mq4AOn"
      },
      "id": "69vfs_mq4AOn"
    },
    {
      "cell_type": "code",
      "source": [
        "a = [1,2,3]\n",
        "b = a.copy()\n",
        "\n",
        "print(a)\n",
        "print(b)\n",
        "\n",
        "a.append(4)\n",
        "print(a)\n",
        "print(b)\n",
        "\n",
        "# lists are mutable"
      ],
      "metadata": {
        "id": "Y4tdupfD2auw",
        "colab": {
          "base_uri": "https://localhost:8080/"
        },
        "outputId": "a2aa71f8-91cb-42b3-f2ac-53127eed2b34"
      },
      "id": "Y4tdupfD2auw",
      "execution_count": null,
      "outputs": [
        {
          "output_type": "stream",
          "name": "stdout",
          "text": [
            "[1, 2, 3]\n",
            "[1, 2, 3]\n",
            "[1, 2, 3, 4]\n",
            "[1, 2, 3]\n"
          ]
        }
      ]
    },
    {
      "cell_type": "markdown",
      "source": [
        "# Tuples\n",
        "\n",
        "A tuple in Python is similar to a list. The difference between the two is that we cannot change the elements of a tuple once it is assigned whereas we can change the elements of a list.\n",
        "\n",
        "In short, a tuple is an immutable list. A tuple can not be changed in any way once it is created.\n",
        "\n",
        "Characterstics\n",
        "\n",
        "- Ordered\n",
        "- Unchangeble\n",
        "- Allows duplicate"
      ],
      "metadata": {
        "id": "amPhw7sXj5kz"
      },
      "id": "amPhw7sXj5kz"
    },
    {
      "cell_type": "markdown",
      "source": [
        "### Plan of attack\n",
        "\n",
        "- Creating a Tuple\n",
        "- Accessing items\n",
        "- Editing items\n",
        "- Adding items\n",
        "- Deleting items\n",
        "- Operations on Tuples\n",
        "- Tuple Functions"
      ],
      "metadata": {
        "id": "MxLWhcqLkE5E"
      },
      "id": "MxLWhcqLkE5E"
    },
    {
      "cell_type": "markdown",
      "source": [
        "### Creating Tuples"
      ],
      "metadata": {
        "id": "6TYD-EOckPEj"
      },
      "id": "6TYD-EOckPEj"
    },
    {
      "cell_type": "code",
      "source": [
        "# empty\n",
        "t1 = ()\n",
        "print(t1)\n",
        "# create a tuple with a single item\n",
        "t2 = ('hello',)\n",
        "print(t2)\n",
        "print(type(t2))\n",
        "# homo\n",
        "t3 = (1,2,3,4)\n",
        "print(t3)\n",
        "# hetro\n",
        "t4 = (1,2.5,True,[1,2,3])\n",
        "print(t4)\n",
        "# tuple\n",
        "t5 = (1,2,3,(4,5))\n",
        "print(t5)\n",
        "# using type conversion\n",
        "t6 = tuple('hello')\n",
        "print(t6)"
      ],
      "metadata": {
        "id": "vEGLPFdu2ar5",
        "colab": {
          "base_uri": "https://localhost:8080/"
        },
        "outputId": "63b32a5e-224b-4c3a-f899-5d326133a000"
      },
      "id": "vEGLPFdu2ar5",
      "execution_count": null,
      "outputs": [
        {
          "output_type": "stream",
          "name": "stdout",
          "text": [
            "()\n",
            "('hello',)\n",
            "<class 'tuple'>\n",
            "(1, 2, 3, 4)\n",
            "(1, 2.5, True, [1, 2, 3])\n",
            "(1, 2, 3, (4, 5))\n",
            "('h', 'e', 'l', 'l', 'o')\n"
          ]
        }
      ]
    },
    {
      "cell_type": "markdown",
      "source": [
        "### Accessing Items\n",
        "\n",
        "- Indexing\n",
        "- Slicing"
      ],
      "metadata": {
        "id": "KfCL_GB5krzT"
      },
      "id": "KfCL_GB5krzT"
    },
    {
      "cell_type": "code",
      "source": [
        "print(t3)\n",
        "print(t3[0])\n",
        "print(t3[-1])"
      ],
      "metadata": {
        "id": "90InMTZo2apF",
        "colab": {
          "base_uri": "https://localhost:8080/"
        },
        "outputId": "ec6e8a70-a221-4e6f-ee76-75c6c47d7ede"
      },
      "id": "90InMTZo2apF",
      "execution_count": null,
      "outputs": [
        {
          "output_type": "stream",
          "name": "stdout",
          "text": [
            "(1, 2, 3, 4)\n",
            "1\n",
            "4\n"
          ]
        }
      ]
    },
    {
      "cell_type": "code",
      "source": [
        "t5[-1][0]"
      ],
      "metadata": {
        "id": "vUM7tpCg2amU",
        "colab": {
          "base_uri": "https://localhost:8080/"
        },
        "outputId": "2d568fe8-0ef9-4674-f7b2-a9732163051b"
      },
      "id": "vUM7tpCg2amU",
      "execution_count": null,
      "outputs": [
        {
          "output_type": "execute_result",
          "data": {
            "text/plain": [
              "4"
            ]
          },
          "metadata": {},
          "execution_count": 172
        }
      ]
    },
    {
      "cell_type": "code",
      "source": [
        "print(t3[::-1])"
      ],
      "metadata": {
        "id": "_Xm7KXBI2aiu",
        "colab": {
          "base_uri": "https://localhost:8080/"
        },
        "outputId": "bd3eff1e-8596-4354-a4fc-f4c69a7e2135"
      },
      "id": "_Xm7KXBI2aiu",
      "execution_count": null,
      "outputs": [
        {
          "output_type": "stream",
          "name": "stdout",
          "text": [
            "(4, 3, 2, 1)\n"
          ]
        }
      ]
    },
    {
      "cell_type": "markdown",
      "source": [
        "### Editing items"
      ],
      "metadata": {
        "id": "r71jkmTTlL1w"
      },
      "id": "r71jkmTTlL1w"
    },
    {
      "cell_type": "code",
      "source": [
        "print(t3)\n",
        "t3[0] = 100\n",
        "# immutable just like strings"
      ],
      "metadata": {
        "id": "uayUkoJh1g79",
        "colab": {
          "base_uri": "https://localhost:8080/",
          "height": 218
        },
        "outputId": "8a230691-a3d8-49b5-e38a-7711ec50ca1b"
      },
      "id": "uayUkoJh1g79",
      "execution_count": null,
      "outputs": [
        {
          "output_type": "stream",
          "name": "stdout",
          "text": [
            "(1, 2, 3, 4)\n"
          ]
        },
        {
          "output_type": "error",
          "ename": "TypeError",
          "evalue": "ignored",
          "traceback": [
            "\u001b[0;31m---------------------------------------------------------------------------\u001b[0m",
            "\u001b[0;31mTypeError\u001b[0m                                 Traceback (most recent call last)",
            "\u001b[0;32m<ipython-input-174-e1d0017691e4>\u001b[0m in \u001b[0;36m<cell line: 2>\u001b[0;34m()\u001b[0m\n\u001b[1;32m      1\u001b[0m \u001b[0mprint\u001b[0m\u001b[0;34m(\u001b[0m\u001b[0mt3\u001b[0m\u001b[0;34m)\u001b[0m\u001b[0;34m\u001b[0m\u001b[0;34m\u001b[0m\u001b[0m\n\u001b[0;32m----> 2\u001b[0;31m \u001b[0mt3\u001b[0m\u001b[0;34m[\u001b[0m\u001b[0;36m0\u001b[0m\u001b[0;34m]\u001b[0m \u001b[0;34m=\u001b[0m \u001b[0;36m100\u001b[0m\u001b[0;34m\u001b[0m\u001b[0;34m\u001b[0m\u001b[0m\n\u001b[0m\u001b[1;32m      3\u001b[0m \u001b[0;31m# immutable just like strings\u001b[0m\u001b[0;34m\u001b[0m\u001b[0;34m\u001b[0m\u001b[0m\n",
            "\u001b[0;31mTypeError\u001b[0m: 'tuple' object does not support item assignment"
          ]
        }
      ]
    },
    {
      "cell_type": "markdown",
      "source": [
        "### Adding items"
      ],
      "metadata": {
        "id": "fOfKfTcrn7sK"
      },
      "id": "fOfKfTcrn7sK"
    },
    {
      "cell_type": "code",
      "source": [
        "print(t3)\n",
        "# not possible"
      ],
      "metadata": {
        "id": "aCj-pSiZkpBT",
        "colab": {
          "base_uri": "https://localhost:8080/"
        },
        "outputId": "29bb5617-ff25-4864-a30b-0bcb00cfb9ce"
      },
      "id": "aCj-pSiZkpBT",
      "execution_count": null,
      "outputs": [
        {
          "output_type": "stream",
          "name": "stdout",
          "text": [
            "(1, 2, 3, 4)\n"
          ]
        }
      ]
    },
    {
      "cell_type": "markdown",
      "source": [
        "### Deleting items"
      ],
      "metadata": {
        "id": "lsz9teCwn9_4"
      },
      "id": "lsz9teCwn9_4"
    },
    {
      "cell_type": "code",
      "source": [
        "print(t3)\n",
        "del t3\n",
        "print(t3)"
      ],
      "metadata": {
        "id": "Kz2F6rVcko9w",
        "colab": {
          "base_uri": "https://localhost:8080/",
          "height": 218
        },
        "outputId": "40601688-19be-4f25-c125-3e9300d16307"
      },
      "id": "Kz2F6rVcko9w",
      "execution_count": null,
      "outputs": [
        {
          "output_type": "stream",
          "name": "stdout",
          "text": [
            "(1, 2, 3, 4)\n"
          ]
        },
        {
          "output_type": "error",
          "ename": "NameError",
          "evalue": "ignored",
          "traceback": [
            "\u001b[0;31m---------------------------------------------------------------------------\u001b[0m",
            "\u001b[0;31mNameError\u001b[0m                                 Traceback (most recent call last)",
            "\u001b[0;32m<ipython-input-176-0a67b29ad777>\u001b[0m in \u001b[0;36m<cell line: 3>\u001b[0;34m()\u001b[0m\n\u001b[1;32m      1\u001b[0m \u001b[0mprint\u001b[0m\u001b[0;34m(\u001b[0m\u001b[0mt3\u001b[0m\u001b[0;34m)\u001b[0m\u001b[0;34m\u001b[0m\u001b[0;34m\u001b[0m\u001b[0m\n\u001b[1;32m      2\u001b[0m \u001b[0;32mdel\u001b[0m \u001b[0mt3\u001b[0m\u001b[0;34m\u001b[0m\u001b[0;34m\u001b[0m\u001b[0m\n\u001b[0;32m----> 3\u001b[0;31m \u001b[0mprint\u001b[0m\u001b[0;34m(\u001b[0m\u001b[0mt3\u001b[0m\u001b[0;34m)\u001b[0m\u001b[0;34m\u001b[0m\u001b[0;34m\u001b[0m\u001b[0m\n\u001b[0m",
            "\u001b[0;31mNameError\u001b[0m: name 't3' is not defined"
          ]
        }
      ]
    },
    {
      "cell_type": "code",
      "source": [
        "t = (1,2,3,4,5)\n",
        "\n",
        "t[-1:-4:-1]"
      ],
      "metadata": {
        "id": "gDbmG4Axko6t",
        "colab": {
          "base_uri": "https://localhost:8080/"
        },
        "outputId": "ef16d6d5-3b2a-4fc7-9947-cf102f85f971"
      },
      "id": "gDbmG4Axko6t",
      "execution_count": null,
      "outputs": [
        {
          "output_type": "execute_result",
          "data": {
            "text/plain": [
              "(5, 4, 3)"
            ]
          },
          "metadata": {},
          "execution_count": 282
        }
      ]
    },
    {
      "cell_type": "code",
      "source": [
        "t = (1,2,3,4,5)\n",
        "\n",
        "t[-1:-4:-1]"
      ],
      "metadata": {
        "id": "XAb7GEuWko35",
        "colab": {
          "base_uri": "https://localhost:8080/"
        },
        "outputId": "1bba751e-3eb4-4452-f4cf-48c40f3214e0"
      },
      "id": "XAb7GEuWko35",
      "execution_count": null,
      "outputs": [
        {
          "output_type": "execute_result",
          "data": {
            "text/plain": [
              "(5, 4, 3)"
            ]
          },
          "metadata": {},
          "execution_count": 283
        }
      ]
    },
    {
      "cell_type": "markdown",
      "source": [
        "### Operations on Tuples"
      ],
      "metadata": {
        "id": "RVomxuXUoMNB"
      },
      "id": "RVomxuXUoMNB"
    },
    {
      "cell_type": "code",
      "source": [
        "# + and *\n",
        "t1 = (1,2,3,4)\n",
        "t2 = (5,6,7,8)\n",
        "\n",
        "print(t1 + t2)\n",
        "\n",
        "print(t1*3)\n",
        "# membership\n",
        "1 in t1\n",
        "# iteration\n",
        "for i in t1:\n",
        "  print(i)"
      ],
      "metadata": {
        "id": "YwvLz4Ffko07",
        "colab": {
          "base_uri": "https://localhost:8080/"
        },
        "outputId": "22b78b51-171f-44a8-f884-1f875216f287"
      },
      "id": "YwvLz4Ffko07",
      "execution_count": null,
      "outputs": [
        {
          "output_type": "stream",
          "name": "stdout",
          "text": [
            "(1, 2, 3, 4, 5, 6, 7, 8)\n",
            "(1, 2, 3, 4, 1, 2, 3, 4, 1, 2, 3, 4)\n",
            "1\n",
            "2\n",
            "3\n",
            "4\n"
          ]
        }
      ]
    },
    {
      "cell_type": "markdown",
      "source": [
        "### Tuple Functions"
      ],
      "metadata": {
        "id": "OKS4LPM4oqb_"
      },
      "id": "OKS4LPM4oqb_"
    },
    {
      "cell_type": "code",
      "source": [
        "# len/sum/min/max/sorted\n",
        "t = (1,2,3,4)\n",
        "len(t)\n",
        "\n",
        "sum(t)\n",
        "\n",
        "min(t)\n",
        "\n",
        "max(t)\n",
        "\n",
        "sorted(t,reverse=True)"
      ],
      "metadata": {
        "id": "AUSp_vb4kowO",
        "colab": {
          "base_uri": "https://localhost:8080/"
        },
        "outputId": "8e9dee42-4507-487b-b0b6-60c206f9b15c"
      },
      "id": "AUSp_vb4kowO",
      "execution_count": null,
      "outputs": [
        {
          "output_type": "execute_result",
          "data": {
            "text/plain": [
              "[4, 3, 2, 1]"
            ]
          },
          "metadata": {},
          "execution_count": 285
        }
      ]
    },
    {
      "cell_type": "code",
      "source": [
        "# count\n",
        "\n",
        "t = (1,2,3,4,5)\n",
        "\n",
        "t.count(50)"
      ],
      "metadata": {
        "id": "hGkx1hJTkosw",
        "colab": {
          "base_uri": "https://localhost:8080/"
        },
        "outputId": "9bf173bf-9361-4a65-8d9e-7b201d69e99c"
      },
      "id": "hGkx1hJTkosw",
      "execution_count": null,
      "outputs": [
        {
          "output_type": "execute_result",
          "data": {
            "text/plain": [
              "0"
            ]
          },
          "metadata": {},
          "execution_count": 286
        }
      ]
    },
    {
      "cell_type": "code",
      "source": [
        "# index\n",
        "t.index(50)"
      ],
      "metadata": {
        "id": "Rfh-WAqckopi",
        "colab": {
          "base_uri": "https://localhost:8080/",
          "height": 183
        },
        "outputId": "670ba107-0ed4-48d9-f111-8c8bb6807b26"
      },
      "id": "Rfh-WAqckopi",
      "execution_count": null,
      "outputs": [
        {
          "output_type": "error",
          "ename": "ValueError",
          "evalue": "ignored",
          "traceback": [
            "\u001b[0;31m---------------------------------------------------------------------------\u001b[0m",
            "\u001b[0;31mValueError\u001b[0m                                Traceback (most recent call last)",
            "\u001b[0;32m<ipython-input-287-cae2b6ba49a8>\u001b[0m in \u001b[0;36m<cell line: 2>\u001b[0;34m()\u001b[0m\n\u001b[1;32m      1\u001b[0m \u001b[0;31m# index\u001b[0m\u001b[0;34m\u001b[0m\u001b[0;34m\u001b[0m\u001b[0m\n\u001b[0;32m----> 2\u001b[0;31m \u001b[0mt\u001b[0m\u001b[0;34m.\u001b[0m\u001b[0mindex\u001b[0m\u001b[0;34m(\u001b[0m\u001b[0;36m50\u001b[0m\u001b[0;34m)\u001b[0m\u001b[0;34m\u001b[0m\u001b[0;34m\u001b[0m\u001b[0m\n\u001b[0m",
            "\u001b[0;31mValueError\u001b[0m: tuple.index(x): x not in tuple"
          ]
        }
      ]
    },
    {
      "cell_type": "markdown",
      "source": [
        "### Difference between Lists and Tuples\n",
        "\n",
        "- Syntax\n",
        "- Mutability\n",
        "- Speed\n",
        "- Memory\n",
        "- Built in functionality\n",
        "- Error prone\n",
        "- Usability"
      ],
      "metadata": {
        "id": "o3ZFOQDPpDKB"
      },
      "id": "o3ZFOQDPpDKB"
    },
    {
      "cell_type": "code",
      "source": [
        "a = [1,2,3]\n",
        "b = a\n",
        "\n",
        "a.append(4)\n",
        "print(a)\n",
        "print(b)"
      ],
      "metadata": {
        "id": "U6Rf4C91komZ",
        "colab": {
          "base_uri": "https://localhost:8080/"
        },
        "outputId": "887bf003-d8b9-49b3-8c61-462c16525ae8"
      },
      "id": "U6Rf4C91komZ",
      "execution_count": null,
      "outputs": [
        {
          "output_type": "stream",
          "name": "stdout",
          "text": [
            "[1, 2, 3, 4]\n",
            "[1, 2, 3, 4]\n"
          ]
        }
      ]
    },
    {
      "cell_type": "code",
      "source": [
        "a = (1,2,3)\n",
        "b = a\n",
        "\n",
        "a = a + (4,)\n",
        "print(a)\n",
        "print(b)"
      ],
      "metadata": {
        "id": "PlQnjhLXkojC",
        "colab": {
          "base_uri": "https://localhost:8080/"
        },
        "outputId": "eaf3d04a-4a38-40b1-c40d-749094e64f8d"
      },
      "id": "PlQnjhLXkojC",
      "execution_count": null,
      "outputs": [
        {
          "output_type": "stream",
          "name": "stdout",
          "text": [
            "(1, 2, 3, 4)\n",
            "(1, 2, 3)\n"
          ]
        }
      ]
    },
    {
      "cell_type": "markdown",
      "source": [
        "### Why use tuple?"
      ],
      "metadata": {
        "id": "us9rHulNpxkq"
      },
      "id": "us9rHulNpxkq"
    },
    {
      "cell_type": "markdown",
      "source": [
        "### Special Syntax"
      ],
      "metadata": {
        "id": "2tXh2rFfo9Xp"
      },
      "id": "2tXh2rFfo9Xp"
    },
    {
      "cell_type": "code",
      "source": [
        "# tuple unpacking\n",
        "a,b,c = (1,2,3)\n",
        "print(a,b,c)"
      ],
      "metadata": {
        "id": "MlDNb_KsnB-b",
        "colab": {
          "base_uri": "https://localhost:8080/"
        },
        "outputId": "6439629c-cd5c-41bb-842b-5f61114b7597"
      },
      "execution_count": null,
      "outputs": [
        {
          "output_type": "stream",
          "name": "stdout",
          "text": [
            "1 2 3\n"
          ]
        }
      ],
      "id": "MlDNb_KsnB-b"
    },
    {
      "cell_type": "code",
      "source": [
        "a,b = (1,2,3)\n",
        "print(a,b)"
      ],
      "metadata": {
        "id": "bxz2_lX1j4SL",
        "colab": {
          "base_uri": "https://localhost:8080/",
          "height": 183
        },
        "outputId": "f6914bdb-5ecb-4d99-9c9c-821b2e9ac68c"
      },
      "execution_count": null,
      "outputs": [
        {
          "output_type": "error",
          "ename": "ValueError",
          "evalue": "ignored",
          "traceback": [
            "\u001b[0;31m---------------------------------------------------------------------------\u001b[0m",
            "\u001b[0;31mValueError\u001b[0m                                Traceback (most recent call last)",
            "\u001b[0;32m<ipython-input-293-22f327f11d4b>\u001b[0m in \u001b[0;36m<cell line: 1>\u001b[0;34m()\u001b[0m\n\u001b[0;32m----> 1\u001b[0;31m \u001b[0ma\u001b[0m\u001b[0;34m,\u001b[0m\u001b[0mb\u001b[0m \u001b[0;34m=\u001b[0m \u001b[0;34m(\u001b[0m\u001b[0;36m1\u001b[0m\u001b[0;34m,\u001b[0m\u001b[0;36m2\u001b[0m\u001b[0;34m,\u001b[0m\u001b[0;36m3\u001b[0m\u001b[0;34m)\u001b[0m\u001b[0;34m\u001b[0m\u001b[0;34m\u001b[0m\u001b[0m\n\u001b[0m\u001b[1;32m      2\u001b[0m \u001b[0mprint\u001b[0m\u001b[0;34m(\u001b[0m\u001b[0ma\u001b[0m\u001b[0;34m,\u001b[0m\u001b[0mb\u001b[0m\u001b[0;34m)\u001b[0m\u001b[0;34m\u001b[0m\u001b[0;34m\u001b[0m\u001b[0m\n",
            "\u001b[0;31mValueError\u001b[0m: too many values to unpack (expected 2)"
          ]
        }
      ],
      "id": "bxz2_lX1j4SL"
    },
    {
      "cell_type": "code",
      "source": [
        "a = 1\n",
        "b = 2\n",
        "a,b = b,a\n",
        "\n",
        "print(a,b)"
      ],
      "metadata": {
        "id": "Crc3WUQwjp_B",
        "colab": {
          "base_uri": "https://localhost:8080/"
        },
        "outputId": "682d594e-1292-4016-89d9-582a548c5998"
      },
      "execution_count": null,
      "outputs": [
        {
          "output_type": "stream",
          "name": "stdout",
          "text": [
            "2 1\n"
          ]
        }
      ],
      "id": "Crc3WUQwjp_B"
    },
    {
      "cell_type": "code",
      "source": [
        "a,b,*others = (1,2,3,4)\n",
        "print(a,b)\n",
        "print(others)"
      ],
      "metadata": {
        "id": "8QlfVsrCjvh3",
        "colab": {
          "base_uri": "https://localhost:8080/"
        },
        "outputId": "5340beb1-fb64-41db-8078-e4728a3ce56b"
      },
      "execution_count": null,
      "outputs": [
        {
          "output_type": "stream",
          "name": "stdout",
          "text": [
            "1 2\n",
            "[3, 4]\n"
          ]
        }
      ],
      "id": "8QlfVsrCjvh3"
    },
    {
      "cell_type": "code",
      "source": [
        "# zipping tuples\n",
        "a = (1,2,3,4)\n",
        "b = (5,6,7,8)\n",
        "\n",
        "tuple(zip(a,b))"
      ],
      "metadata": {
        "id": "6RPuluylqgmE",
        "colab": {
          "base_uri": "https://localhost:8080/"
        },
        "outputId": "d8396ca3-ba5b-4e5c-e13c-edc77fdf2771"
      },
      "execution_count": null,
      "outputs": [
        {
          "output_type": "execute_result",
          "data": {
            "text/plain": [
              "((1, 5), (2, 6), (3, 7), (4, 8))"
            ]
          },
          "metadata": {},
          "execution_count": 401
        }
      ],
      "id": "6RPuluylqgmE"
    },
    {
      "cell_type": "markdown",
      "source": [
        "# Sets\n",
        "\n",
        "A set is an unordered collection of items. Every set element is unique (no duplicates) and must be immutable (cannot be changed).\n",
        "\n",
        "However, a set itself is mutable. We can add or remove items from it.\n",
        "\n",
        "Sets can also be used to perform mathematical set operations like union, intersection, symmetric difference, etc.\n",
        "\n",
        "Characterstics:\n",
        "- Unordered\n",
        "- Mutable\n",
        "- No Duplicates\n",
        "- Can't contain mutable data types"
      ],
      "metadata": {
        "id": "wZfWh6bstK70"
      },
      "id": "wZfWh6bstK70"
    },
    {
      "cell_type": "code",
      "source": [
        "# empty\n",
        "s = set()\n",
        "print(s)\n",
        "print(type(s))\n",
        "# 1D and 2D\n",
        "s1 = {1,2,3}\n",
        "print(s1)\n",
        "#s2 = {1,2,3,{4,5}}\n",
        "#print(s2)\n",
        "# homo and hetro\n",
        "s3 = {1,'hello',4.5,(1,2,3)}\n",
        "print(s3)\n",
        "# using type conversion\n",
        "\n",
        "s4 = set([1,2,3])\n",
        "print(s4)\n",
        "# duplicates not allowed\n",
        "s5 = {1,1,2,2,3,3}\n",
        "print(s5)\n",
        "# set can't have mutable items\n",
        "s6 = {1,2,[3,4]}\n",
        "print(s6)"
      ],
      "metadata": {
        "id": "npIaN0EvkoZe",
        "colab": {
          "base_uri": "https://localhost:8080/",
          "height": 322
        },
        "outputId": "df6c3124-71b5-4827-f136-74b532f8f43e"
      },
      "id": "npIaN0EvkoZe",
      "execution_count": null,
      "outputs": [
        {
          "output_type": "stream",
          "name": "stdout",
          "text": [
            "set()\n",
            "<class 'set'>\n",
            "{1, 2, 3}\n",
            "{1, (1, 2, 3), 4.5, 'hello'}\n",
            "{1, 2, 3}\n",
            "{1, 2, 3}\n"
          ]
        },
        {
          "output_type": "error",
          "ename": "TypeError",
          "evalue": "ignored",
          "traceback": [
            "\u001b[0;31m---------------------------------------------------------------------------\u001b[0m",
            "\u001b[0;31mTypeError\u001b[0m                                 Traceback (most recent call last)",
            "\u001b[0;32m<ipython-input-402-ab3c7dde6aed>\u001b[0m in \u001b[0;36m<cell line: 21>\u001b[0;34m()\u001b[0m\n\u001b[1;32m     19\u001b[0m \u001b[0mprint\u001b[0m\u001b[0;34m(\u001b[0m\u001b[0ms5\u001b[0m\u001b[0;34m)\u001b[0m\u001b[0;34m\u001b[0m\u001b[0;34m\u001b[0m\u001b[0m\n\u001b[1;32m     20\u001b[0m \u001b[0;31m# set can't have mutable items\u001b[0m\u001b[0;34m\u001b[0m\u001b[0;34m\u001b[0m\u001b[0m\n\u001b[0;32m---> 21\u001b[0;31m \u001b[0ms6\u001b[0m \u001b[0;34m=\u001b[0m \u001b[0;34m{\u001b[0m\u001b[0;36m1\u001b[0m\u001b[0;34m,\u001b[0m\u001b[0;36m2\u001b[0m\u001b[0;34m,\u001b[0m\u001b[0;34m[\u001b[0m\u001b[0;36m3\u001b[0m\u001b[0;34m,\u001b[0m\u001b[0;36m4\u001b[0m\u001b[0;34m]\u001b[0m\u001b[0;34m}\u001b[0m\u001b[0;34m\u001b[0m\u001b[0;34m\u001b[0m\u001b[0m\n\u001b[0m\u001b[1;32m     22\u001b[0m \u001b[0mprint\u001b[0m\u001b[0;34m(\u001b[0m\u001b[0ms6\u001b[0m\u001b[0;34m)\u001b[0m\u001b[0;34m\u001b[0m\u001b[0;34m\u001b[0m\u001b[0m\n",
            "\u001b[0;31mTypeError\u001b[0m: unhashable type: 'list'"
          ]
        }
      ]
    },
    {
      "cell_type": "code",
      "source": [
        "s1 = {1,2,3}\n",
        "s2 = {3,2,1}\n",
        "\n",
        "print(s1 == s2)"
      ],
      "metadata": {
        "id": "yH5rn5jzkoWa",
        "colab": {
          "base_uri": "https://localhost:8080/"
        },
        "outputId": "5f38214e-407e-41b9-f852-7d7cf0c3620c"
      },
      "id": "yH5rn5jzkoWa",
      "execution_count": null,
      "outputs": [
        {
          "output_type": "stream",
          "name": "stdout",
          "text": [
            "True\n"
          ]
        }
      ]
    },
    {
      "cell_type": "markdown",
      "source": [
        "### Accessing Items"
      ],
      "metadata": {
        "id": "N4XE7Jdcy6I6"
      },
      "id": "N4XE7Jdcy6I6"
    },
    {
      "cell_type": "code",
      "source": [
        "s1 = {1,2,3,4}\n",
        "s1[0:3]"
      ],
      "metadata": {
        "id": "1FTPU90-y8Vm",
        "colab": {
          "base_uri": "https://localhost:8080/",
          "height": 183
        },
        "outputId": "bbe0ff7c-363c-44cf-f47a-4ee0074cdfa6"
      },
      "execution_count": null,
      "outputs": [
        {
          "output_type": "error",
          "ename": "TypeError",
          "evalue": "ignored",
          "traceback": [
            "\u001b[0;31m---------------------------------------------------------------------------\u001b[0m",
            "\u001b[0;31mTypeError\u001b[0m                                 Traceback (most recent call last)",
            "\u001b[0;32m<ipython-input-404-4c49b6b6050d>\u001b[0m in \u001b[0;36m<cell line: 2>\u001b[0;34m()\u001b[0m\n\u001b[1;32m      1\u001b[0m \u001b[0ms1\u001b[0m \u001b[0;34m=\u001b[0m \u001b[0;34m{\u001b[0m\u001b[0;36m1\u001b[0m\u001b[0;34m,\u001b[0m\u001b[0;36m2\u001b[0m\u001b[0;34m,\u001b[0m\u001b[0;36m3\u001b[0m\u001b[0;34m,\u001b[0m\u001b[0;36m4\u001b[0m\u001b[0;34m}\u001b[0m\u001b[0;34m\u001b[0m\u001b[0;34m\u001b[0m\u001b[0m\n\u001b[0;32m----> 2\u001b[0;31m \u001b[0ms1\u001b[0m\u001b[0;34m[\u001b[0m\u001b[0;36m0\u001b[0m\u001b[0;34m:\u001b[0m\u001b[0;36m3\u001b[0m\u001b[0;34m]\u001b[0m\u001b[0;34m\u001b[0m\u001b[0;34m\u001b[0m\u001b[0m\n\u001b[0m",
            "\u001b[0;31mTypeError\u001b[0m: 'set' object is not subscriptable"
          ]
        }
      ],
      "id": "1FTPU90-y8Vm"
    },
    {
      "cell_type": "markdown",
      "source": [
        "### Adding Items"
      ],
      "metadata": {
        "id": "5xsL5JF-zLkI"
      },
      "id": "5xsL5JF-zLkI"
    },
    {
      "cell_type": "code",
      "source": [
        "S = {1,2,3,4}\n",
        "# add\n",
        "# S.add(5)\n",
        "# print(S)\n",
        "# update\n",
        "S.update([5,6,7])\n",
        "print(S)"
      ],
      "metadata": {
        "id": "qiRjVBv6zNnO"
      },
      "execution_count": null,
      "outputs": [],
      "id": "qiRjVBv6zNnO"
    },
    {
      "cell_type": "markdown",
      "source": [
        "### Deleting Items"
      ],
      "metadata": {
        "id": "3cRiDI8CzOGL"
      },
      "id": "3cRiDI8CzOGL"
    },
    {
      "cell_type": "code",
      "source": [
        "# del\n",
        "s = {1,2,3,4,5}\n",
        "# print(s)\n",
        "# del s[0]\n",
        "# print(s)\n",
        "# discard\n",
        "# s.discard(50)\n",
        "# print(s)\n",
        "# remove\n",
        "# s.remove(50)\n",
        "# print(s)\n",
        "# pop\n",
        "# s.pop() #random delete any item\n",
        "# clear\n",
        "s.clear()\n",
        "print(s)"
      ],
      "metadata": {
        "id": "IyIhIyqzzPT6"
      },
      "execution_count": null,
      "outputs": [],
      "id": "IyIhIyqzzPT6"
    },
    {
      "cell_type": "markdown",
      "source": [
        "### Set Operation"
      ],
      "metadata": {
        "id": "Cil9LKcszP09"
      },
      "id": "Cil9LKcszP09"
    },
    {
      "cell_type": "code",
      "source": [
        "s1 = {1,2,3,4,5}\n",
        "s2 = {4,5,6,7,8}\n",
        "s1 | s2\n",
        "# Union(|)\n",
        "# Intersection(&)\n",
        "s1 & s2\n",
        "# Difference(-)\n",
        "a = s1 - s2\n",
        "b= s2 - s1\n",
        "print(a)\n",
        "print(b)\n",
        "# Symmetric Difference(^)\n",
        "s1 ^ s2\n",
        "# Membership Test\n",
        "1 not in s1\n",
        "# Iteration\n",
        "for i in s1:\n",
        "  print(i)"
      ],
      "metadata": {
        "id": "pC3f28V5zRNG"
      },
      "execution_count": null,
      "outputs": [],
      "id": "pC3f28V5zRNG"
    },
    {
      "cell_type": "markdown",
      "source": [
        "### Set Operation"
      ],
      "metadata": {
        "id": "anmz_J1etpN1"
      },
      "id": "anmz_J1etpN1"
    },
    {
      "cell_type": "code",
      "source": [
        "s1 = {1,2,3,4,5}\n",
        "s2 = {4,5,6,7,8}\n",
        "s1 | s2\n",
        "# Union(|)\n",
        "# Intersection(&)\n",
        "s1 & s2\n",
        "# Difference(-)\n",
        "s1 - s2\n",
        "s2 - s1\n",
        "# Symmetric Difference(^)\n",
        "s1 ^ s2\n",
        "# Membership Test\n",
        "1 not in s1\n",
        "# Iteration\n",
        "for i in s1:\n",
        "  print(i)"
      ],
      "metadata": {
        "id": "2cbqTCzTshXP"
      },
      "id": "2cbqTCzTshXP",
      "execution_count": null,
      "outputs": []
    },
    {
      "cell_type": "code",
      "source": [
        "s.union(s1)"
      ],
      "metadata": {
        "id": "GI0c0W70shUE"
      },
      "id": "GI0c0W70shUE",
      "execution_count": null,
      "outputs": []
    },
    {
      "cell_type": "code",
      "source": [
        "s1 = {1,2,3,4,5}\n",
        "s2 = {4,5,6,7,8}\n",
        "s1 | s2\n",
        "# Union(|)\n",
        "# Intersection(&)\n",
        "s1 & s2\n",
        "# Difference(-)\n",
        "s1 - s2\n",
        "s2 - s1\n",
        "# Symmetric Difference(^)\n",
        "s1 ^ s2\n",
        "# Membership Test\n",
        "1 not in s1\n",
        "# Iteration\n",
        "for i in s1:\n",
        "  print(i)"
      ],
      "metadata": {
        "id": "y6_KEuFCxWYO"
      },
      "execution_count": null,
      "outputs": [],
      "id": "y6_KEuFCxWYO"
    },
    {
      "cell_type": "markdown",
      "source": [
        "### Set Functions"
      ],
      "metadata": {
        "id": "DYP9VCyUzRy_"
      },
      "id": "DYP9VCyUzRy_"
    },
    {
      "cell_type": "code",
      "source": [
        "# len/sum/min/max/sorted\n",
        "s = {3,1,4,5,2,7}\n",
        "len(s)\n",
        "sum(s)\n",
        "min(s)\n",
        "max(s)\n",
        "sorted(s,reverse=True)"
      ],
      "metadata": {
        "id": "pte3wLPM3tcz"
      },
      "execution_count": null,
      "outputs": [],
      "id": "pte3wLPM3tcz"
    },
    {
      "cell_type": "code",
      "source": [
        "# union/update\n",
        "s1 = {1,2,3,4,5}\n",
        "s2 = {4,5,6,7,8}\n",
        "\n",
        "# s1 | s2\n",
        "s1.union(s1)\n",
        "\n",
        "s1.update(s2)\n",
        "print(s1)\n",
        "print(s2)"
      ],
      "metadata": {
        "id": "j8hpGYlF30aU"
      },
      "execution_count": null,
      "outputs": [],
      "id": "j8hpGYlF30aU"
    },
    {
      "cell_type": "code",
      "source": [
        "# intersection/intersection_update\n",
        "s1 = {1,2,3,4,5}\n",
        "s2 = {4,5,6,7,8}\n",
        "\n",
        "s1.intersection(s2)\n",
        "\n",
        "s1.intersection_update(s2)\n",
        "print(s1)\n",
        "print(s2)"
      ],
      "metadata": {
        "id": "oqLRlh2H4U9k"
      },
      "execution_count": null,
      "outputs": [],
      "id": "oqLRlh2H4U9k"
    },
    {
      "cell_type": "code",
      "source": [
        "# difference/difference_update\n",
        "s1 = {1,2,3,4,5}\n",
        "s2 = {4,5,6,7,8}\n",
        "\n",
        "s1.difference(s2)\n",
        "\n",
        "s1.difference_update(s2)\n",
        "print(s1)\n",
        "print(s2)"
      ],
      "metadata": {
        "id": "eBMvn14b4Z5h"
      },
      "execution_count": null,
      "outputs": [],
      "id": "eBMvn14b4Z5h"
    },
    {
      "cell_type": "code",
      "source": [
        "# symmetric_difference/symmetric_difference_update\n",
        "s1 = {1,2,3,4,5}\n",
        "s2 = {4,5,6,7,8}\n",
        "\n",
        "s1.symmetric_difference(s2)\n",
        "\n",
        "s1.symmetric_difference_update(s2)\n",
        "print(s1)\n",
        "print(s2)"
      ],
      "metadata": {
        "id": "RaJDBDkl4eum"
      },
      "execution_count": null,
      "outputs": [],
      "id": "RaJDBDkl4eum"
    },
    {
      "cell_type": "code",
      "source": [
        "# isdisjoint/issubset/issuperset\n",
        "s1 = {1,2,3,4}\n",
        "s2 = {7,8,5,6}\n",
        "\n",
        "s1.isdisjoint(s2)"
      ],
      "metadata": {
        "id": "vCuiMdAH4mJv"
      },
      "execution_count": null,
      "outputs": [],
      "id": "vCuiMdAH4mJv"
    },
    {
      "cell_type": "code",
      "source": [
        "s1 = {1,2,3,4,5}\n",
        "s2 = {3,4,5}\n",
        "\n",
        "s1.issuperset(s2)"
      ],
      "metadata": {
        "id": "dUsEhC1O9MCg"
      },
      "execution_count": null,
      "outputs": [],
      "id": "dUsEhC1O9MCg"
    },
    {
      "cell_type": "code",
      "source": [
        "# copy\n",
        "s1 = {1,2,3}\n",
        "s2 = s1.copy()\n",
        "\n",
        "print(s1)\n",
        "print(s2)"
      ],
      "metadata": {
        "id": "g66FpVYp4tfF"
      },
      "execution_count": null,
      "outputs": [],
      "id": "g66FpVYp4tfF"
    },
    {
      "cell_type": "markdown",
      "source": [
        "### Frozenset\n",
        "Frozen set is just an immutable version of a Python set object"
      ],
      "metadata": {
        "id": "CNkTGbL66HjH"
      },
      "id": "CNkTGbL66HjH"
    },
    {
      "cell_type": "code",
      "source": [
        "# create frozenset\n",
        "fs1 = frozenset([1,2,3])\n",
        "fs2 = frozenset([3,4,5])\n",
        "\n",
        "fs1 | fs2"
      ],
      "metadata": {
        "id": "Y5tjnO97JWZW"
      },
      "execution_count": null,
      "outputs": [],
      "id": "Y5tjnO97JWZW"
    },
    {
      "cell_type": "code",
      "source": [
        "# what works and what does not\n",
        "# works -> all read functions\n",
        "# does't work -> write operations"
      ],
      "metadata": {
        "id": "BNGv2dqe6Jof"
      },
      "execution_count": null,
      "outputs": [],
      "id": "BNGv2dqe6Jof"
    },
    {
      "cell_type": "code",
      "source": [
        "# When to use\n",
        "# 2D sets\n",
        "fs = frozenset([1,2,frozenset([3,4])])\n",
        "fs"
      ],
      "metadata": {
        "id": "T4Bfg2d2JcAN"
      },
      "execution_count": null,
      "outputs": [],
      "id": "T4Bfg2d2JcAN"
    },
    {
      "cell_type": "markdown",
      "source": [
        "### Set Comprehension"
      ],
      "metadata": {
        "id": "KcTsyq3G6Qkr"
      },
      "id": "KcTsyq3G6Qkr"
    },
    {
      "cell_type": "code",
      "source": [
        "# examples\n",
        "\n",
        "{i**2 for i in range(1,11) if i>5}"
      ],
      "metadata": {
        "id": "yvPmmWDm6SR8"
      },
      "execution_count": null,
      "outputs": [],
      "id": "yvPmmWDm6SR8"
    },
    {
      "cell_type": "markdown",
      "source": [
        "# Dictionary\n",
        "\n",
        "Dictionary in Python is a collection of keys values, used to store data values like a map, which, unlike other data types which hold only a single value as an element.\n",
        "\n",
        "In some languages it is known as map or assosiative arrays.\n",
        "\n",
        "dict = { 'name' : 'nitish' , 'age' : 33 , 'gender' : 'male' }\n",
        "\n",
        "Characterstics:\n",
        "\n",
        "- Mutable\n",
        "- Indexing has no meaning\n",
        "- keys can't be duplicated\n",
        "- keys can't be mutable items"
      ],
      "metadata": {
        "id": "YNh0xkX78Muf"
      },
      "id": "YNh0xkX78Muf"
    },
    {
      "cell_type": "markdown",
      "source": [
        "### Create Dictionary"
      ],
      "metadata": {
        "id": "dgB9Lu5Q9eVP"
      },
      "id": "dgB9Lu5Q9eVP"
    },
    {
      "cell_type": "code",
      "source": [
        "# empty dictionary\n",
        "d = {}\n",
        "d\n",
        "# 1D dictionary\n",
        "d1 = { 'name' : 'nitish' ,'gender' : 'male' }\n",
        "d1\n",
        "# with mixed keys\n",
        "d2 = {(1,2,3):1,'hello':'world'}\n",
        "d2\n",
        "# 2D dictionary -> JSON\n",
        "s = {\n",
        "    'name':'nitish',\n",
        "     'college':'bit',\n",
        "     'sem':4,\n",
        "     'subjects':{\n",
        "         'dsa':50,\n",
        "         'maths':67,\n",
        "         'english':34\n",
        "     }\n",
        "}\n",
        "s\n",
        "# using sequence and dict function\n",
        "d4 = dict([('name','nitish'),('age',32),(3,3)])\n",
        "d4\n",
        "# duplicate keys\n",
        "d5 = {'name':'nitish','name':'rahul'}\n",
        "print(d5)\n",
        "# mutable items as keys\n",
        "d6 = {'name':'nitish',(1,2,3):2}\n",
        "print(d6)"
      ],
      "metadata": {
        "id": "LNvbGba38Gie",
        "colab": {
          "base_uri": "https://localhost:8080/"
        },
        "outputId": "6814c628-d536-40c3-d6e9-baccde753468"
      },
      "id": "LNvbGba38Gie",
      "execution_count": null,
      "outputs": [
        {
          "output_type": "stream",
          "name": "stdout",
          "text": [
            "{'name': 'rahul'}\n",
            "{'name': 'nitish', (1, 2, 3): 2}\n"
          ]
        }
      ]
    },
    {
      "cell_type": "markdown",
      "source": [
        "### Accessing items"
      ],
      "metadata": {
        "id": "VtB-Bu1aNVyq"
      },
      "id": "VtB-Bu1aNVyq"
    },
    {
      "cell_type": "code",
      "source": [
        "my_dict = {'name': 'Jack', 'age': 26}\n",
        "# []\n",
        "my_dict['age']\n",
        "# get\n",
        "my_dict.get('age')\n",
        "\n",
        "s['subjects']['maths']"
      ],
      "metadata": {
        "id": "Q4XY9ipw9k9h",
        "colab": {
          "base_uri": "https://localhost:8080/"
        },
        "outputId": "7622d218-0e1c-4b93-eb11-c333c21277b5"
      },
      "id": "Q4XY9ipw9k9h",
      "execution_count": null,
      "outputs": [
        {
          "output_type": "execute_result",
          "data": {
            "text/plain": [
              "67"
            ]
          },
          "metadata": {},
          "execution_count": 420
        }
      ]
    },
    {
      "cell_type": "markdown",
      "source": [
        "### Adding key-value pair"
      ],
      "metadata": {
        "id": "MOwj3gUfOLCM"
      },
      "id": "MOwj3gUfOLCM"
    },
    {
      "cell_type": "code",
      "source": [
        "d4['gender'] = 'male'\n",
        "d4\n",
        "d4['weight'] = 72\n",
        "d4\n",
        "\n",
        "s['subjects']['ds'] = 75\n",
        "s"
      ],
      "metadata": {
        "id": "bpWDfExe8GfP",
        "colab": {
          "base_uri": "https://localhost:8080/"
        },
        "outputId": "657600fe-0942-46ad-f18e-f464428a2f6e"
      },
      "id": "bpWDfExe8GfP",
      "execution_count": null,
      "outputs": [
        {
          "output_type": "execute_result",
          "data": {
            "text/plain": [
              "{'name': 'nitish',\n",
              " 'college': 'bit',\n",
              " 'sem': 4,\n",
              " 'subjects': {'dsa': 50, 'maths': 67, 'english': 34, 'ds': 75}}"
            ]
          },
          "metadata": {},
          "execution_count": 421
        }
      ]
    },
    {
      "cell_type": "markdown",
      "source": [
        "### Remove key-value pair"
      ],
      "metadata": {
        "id": "RWwGj1QnOOyr"
      },
      "id": "RWwGj1QnOOyr"
    },
    {
      "cell_type": "code",
      "source": [
        "d = {'name': 'nitish', 'age': 32, 3: 3, 'gender': 'male', 'weight': 72}\n",
        "# pop\n",
        "d.pop(3)\n",
        "print(d)\n"
      ],
      "metadata": {
        "id": "a46n2S6J-RZ9",
        "colab": {
          "base_uri": "https://localhost:8080/"
        },
        "outputId": "bd2b6de7-e300-48d3-de49-b132de2c88af"
      },
      "id": "a46n2S6J-RZ9",
      "execution_count": null,
      "outputs": [
        {
          "output_type": "stream",
          "name": "stdout",
          "text": [
            "{'name': 'nitish', 'age': 32, 'gender': 'male', 'weight': 72}\n"
          ]
        }
      ]
    },
    {
      "cell_type": "code",
      "source": [
        "# popitem\n",
        "d.popitem() #remove any random element permanantly\n",
        "# d.popitem()\n",
        "# print(d)\n"
      ],
      "metadata": {
        "colab": {
          "base_uri": "https://localhost:8080/"
        },
        "id": "CQ9_75spB-xl",
        "outputId": "9874d3a7-1734-4165-e72a-507ade3a9366"
      },
      "id": "CQ9_75spB-xl",
      "execution_count": null,
      "outputs": [
        {
          "output_type": "execute_result",
          "data": {
            "text/plain": [
              "('gender', 'male')"
            ]
          },
          "metadata": {},
          "execution_count": 425
        }
      ]
    },
    {
      "cell_type": "code",
      "source": [
        "# del  #remove any one element permanatly\n",
        "del d['name']\n",
        "print(d)\n"
      ],
      "metadata": {
        "colab": {
          "base_uri": "https://localhost:8080/"
        },
        "id": "paucF7Q5CSA-",
        "outputId": "00068516-1c68-49b5-a2f8-c5f36bad6401"
      },
      "id": "paucF7Q5CSA-",
      "execution_count": null,
      "outputs": [
        {
          "output_type": "stream",
          "name": "stdout",
          "text": [
            "{'age': 32, 'gender': 'male', 'weight': 72}\n"
          ]
        }
      ]
    },
    {
      "cell_type": "code",
      "source": [
        "# clear #to clear thi dict\n",
        "d.clear()\n",
        "print(d)\n",
        "\n"
      ],
      "metadata": {
        "colab": {
          "base_uri": "https://localhost:8080/",
          "height": 235
        },
        "id": "Q0iBqlZKCmKY",
        "outputId": "23bf43d2-6ee2-474b-f0aa-b1c671c57206"
      },
      "id": "Q0iBqlZKCmKY",
      "execution_count": null,
      "outputs": [
        {
          "output_type": "stream",
          "name": "stdout",
          "text": [
            "{}\n"
          ]
        },
        {
          "output_type": "error",
          "ename": "KeyError",
          "evalue": "ignored",
          "traceback": [
            "\u001b[0;31m---------------------------------------------------------------------------\u001b[0m",
            "\u001b[0;31mKeyError\u001b[0m                                  Traceback (most recent call last)",
            "\u001b[0;32m<ipython-input-433-b41a7cfa5ace>\u001b[0m in \u001b[0;36m<cell line: 5>\u001b[0;34m()\u001b[0m\n\u001b[1;32m      3\u001b[0m \u001b[0mprint\u001b[0m\u001b[0;34m(\u001b[0m\u001b[0md\u001b[0m\u001b[0;34m)\u001b[0m\u001b[0;34m\u001b[0m\u001b[0;34m\u001b[0m\u001b[0m\n\u001b[1;32m      4\u001b[0m \u001b[0;34m\u001b[0m\u001b[0m\n\u001b[0;32m----> 5\u001b[0;31m \u001b[0;32mdel\u001b[0m \u001b[0ms\u001b[0m\u001b[0;34m[\u001b[0m\u001b[0;34m'subjects'\u001b[0m\u001b[0;34m]\u001b[0m\u001b[0;34m[\u001b[0m\u001b[0;34m'maths'\u001b[0m\u001b[0;34m]\u001b[0m\u001b[0;34m\u001b[0m\u001b[0;34m\u001b[0m\u001b[0m\n\u001b[0m\u001b[1;32m      6\u001b[0m \u001b[0ms\u001b[0m\u001b[0;34m\u001b[0m\u001b[0;34m\u001b[0m\u001b[0m\n",
            "\u001b[0;31mKeyError\u001b[0m: 'maths'"
          ]
        }
      ]
    },
    {
      "cell_type": "code",
      "source": [
        "del s['subjects']['maths']\n",
        "s"
      ],
      "metadata": {
        "colab": {
          "base_uri": "https://localhost:8080/",
          "height": 183
        },
        "id": "mLH96NCVCv3H",
        "outputId": "c6baaf83-502e-430d-f549-cf188806db69"
      },
      "id": "mLH96NCVCv3H",
      "execution_count": null,
      "outputs": [
        {
          "output_type": "error",
          "ename": "KeyError",
          "evalue": "ignored",
          "traceback": [
            "\u001b[0;31m---------------------------------------------------------------------------\u001b[0m",
            "\u001b[0;31mKeyError\u001b[0m                                  Traceback (most recent call last)",
            "\u001b[0;32m<ipython-input-434-89159159b2d4>\u001b[0m in \u001b[0;36m<cell line: 1>\u001b[0;34m()\u001b[0m\n\u001b[0;32m----> 1\u001b[0;31m \u001b[0;32mdel\u001b[0m \u001b[0ms\u001b[0m\u001b[0;34m[\u001b[0m\u001b[0;34m'subjects'\u001b[0m\u001b[0;34m]\u001b[0m\u001b[0;34m[\u001b[0m\u001b[0;34m'maths'\u001b[0m\u001b[0;34m]\u001b[0m\u001b[0;34m\u001b[0m\u001b[0;34m\u001b[0m\u001b[0m\n\u001b[0m\u001b[1;32m      2\u001b[0m \u001b[0ms\u001b[0m\u001b[0;34m\u001b[0m\u001b[0;34m\u001b[0m\u001b[0m\n",
            "\u001b[0;31mKeyError\u001b[0m: 'maths'"
          ]
        }
      ]
    },
    {
      "cell_type": "markdown",
      "source": [
        "### Editing key-value pair"
      ],
      "metadata": {
        "id": "89XhL1HOObqh"
      },
      "id": "89XhL1HOObqh"
    },
    {
      "cell_type": "code",
      "source": [
        "s"
      ],
      "metadata": {
        "colab": {
          "base_uri": "https://localhost:8080/"
        },
        "id": "S3sTpB2DC7iI",
        "outputId": "3322ee0a-42d7-4292-81f6-279f213a40f6"
      },
      "id": "S3sTpB2DC7iI",
      "execution_count": null,
      "outputs": [
        {
          "output_type": "execute_result",
          "data": {
            "text/plain": [
              "{'name': 'nitish',\n",
              " 'college': 'bit',\n",
              " 'sem': 4,\n",
              " 'subjects': {'dsa': 50, 'english': 34, 'ds': 75}}"
            ]
          },
          "metadata": {},
          "execution_count": 435
        }
      ]
    },
    {
      "cell_type": "code",
      "source": [
        "s['subjects']['dsa'] = 80\n",
        "s"
      ],
      "metadata": {
        "id": "3iQNbvKh8GcF",
        "colab": {
          "base_uri": "https://localhost:8080/"
        },
        "outputId": "95adadb3-3bc6-4b50-fe0a-a35f7cce3d18"
      },
      "id": "3iQNbvKh8GcF",
      "execution_count": null,
      "outputs": [
        {
          "output_type": "execute_result",
          "data": {
            "text/plain": [
              "{'name': 'nitish',\n",
              " 'college': 'bit',\n",
              " 'sem': 4,\n",
              " 'subjects': {'dsa': 80, 'english': 34, 'ds': 75}}"
            ]
          },
          "metadata": {},
          "execution_count": 436
        }
      ]
    },
    {
      "cell_type": "markdown",
      "source": [
        "### Editing key-value pair"
      ],
      "metadata": {
        "id": "HblR3OQ2_LCH"
      },
      "id": "HblR3OQ2_LCH"
    },
    {
      "cell_type": "code",
      "source": [
        "s['subjects']['dsa'] = 80\n",
        "s"
      ],
      "metadata": {
        "id": "CKI_SYN68GZJ",
        "colab": {
          "base_uri": "https://localhost:8080/"
        },
        "outputId": "fe0e6858-b2f3-4217-b791-f46dbe4af809"
      },
      "id": "CKI_SYN68GZJ",
      "execution_count": null,
      "outputs": [
        {
          "output_type": "execute_result",
          "data": {
            "text/plain": [
              "{'name': 'nitish',\n",
              " 'college': 'bit',\n",
              " 'sem': 4,\n",
              " 'subjects': {'dsa': 80, 'english': 34, 'ds': 75}}"
            ]
          },
          "metadata": {},
          "execution_count": 437
        }
      ]
    },
    {
      "cell_type": "markdown",
      "source": [
        "### Dictionary Operations\n",
        "\n",
        "- Membership\n",
        "- Iteration"
      ],
      "metadata": {
        "id": "Y8IxFZtDOuXJ"
      },
      "id": "Y8IxFZtDOuXJ"
    },
    {
      "cell_type": "code",
      "source": [
        "print(s)\n",
        "\n",
        "'name' in s\n",
        "'nitish' in s"
      ],
      "metadata": {
        "id": "Sg7WhJZR8GV5",
        "colab": {
          "base_uri": "https://localhost:8080/"
        },
        "outputId": "83c5d93f-16d0-4041-d1fa-7fb034dfeb03"
      },
      "id": "Sg7WhJZR8GV5",
      "execution_count": null,
      "outputs": [
        {
          "output_type": "stream",
          "name": "stdout",
          "text": [
            "{'name': 'nitish', 'college': 'bit', 'sem': 4, 'subjects': {'dsa': 80, 'english': 34, 'ds': 75}}\n"
          ]
        },
        {
          "output_type": "execute_result",
          "data": {
            "text/plain": [
              "False"
            ]
          },
          "metadata": {},
          "execution_count": 438
        }
      ]
    },
    {
      "cell_type": "code",
      "source": [
        "d = {'name':'nitish','gender':'male','age':33}\n",
        "\n",
        "for i in d:\n",
        "  print(i,d[i])"
      ],
      "metadata": {
        "id": "dhMNV6RV8GTE",
        "colab": {
          "base_uri": "https://localhost:8080/"
        },
        "outputId": "ca8c40e1-5274-40ec-fefc-0628a1653e8c"
      },
      "id": "dhMNV6RV8GTE",
      "execution_count": null,
      "outputs": [
        {
          "output_type": "stream",
          "name": "stdout",
          "text": [
            "name nitish\n",
            "gender male\n",
            "age 33\n"
          ]
        }
      ]
    },
    {
      "cell_type": "markdown",
      "source": [
        "### Dictionary Functions"
      ],
      "metadata": {
        "id": "BoCoYK3aPeaz"
      },
      "id": "BoCoYK3aPeaz"
    },
    {
      "cell_type": "code",
      "source": [
        "# len/sorted\n",
        "len(d)\n",
        "print(d)\n",
        "sorted(d,reverse=True)\n",
        "max(d)"
      ],
      "metadata": {
        "id": "3EIUkgME8GQN",
        "colab": {
          "base_uri": "https://localhost:8080/",
          "height": 53
        },
        "outputId": "8641f9cf-4197-4e97-f381-4d1b2d110d80"
      },
      "id": "3EIUkgME8GQN",
      "execution_count": null,
      "outputs": [
        {
          "output_type": "stream",
          "name": "stdout",
          "text": [
            "{'name': 'nitish', 'gender': 'male', 'age': 33}\n"
          ]
        },
        {
          "output_type": "execute_result",
          "data": {
            "text/plain": [
              "'name'"
            ],
            "application/vnd.google.colaboratory.intrinsic+json": {
              "type": "string"
            }
          },
          "metadata": {},
          "execution_count": 440
        }
      ]
    },
    {
      "cell_type": "code",
      "source": [
        "# items/keys/values\n",
        "print(d)\n",
        "\n",
        "print(d.items()) #extract key value pair\n",
        "print(d.keys()) #extract only keys\n",
        "print(d.values()) #Extract only values"
      ],
      "metadata": {
        "id": "tTiVhCcK8GNO",
        "colab": {
          "base_uri": "https://localhost:8080/"
        },
        "outputId": "bc8fa31e-ab75-4aac-9ede-96be940e1db3"
      },
      "id": "tTiVhCcK8GNO",
      "execution_count": null,
      "outputs": [
        {
          "output_type": "stream",
          "name": "stdout",
          "text": [
            "{'name': 'nitish', 'gender': 'male', 'age': 33}\n",
            "dict_items([('name', 'nitish'), ('gender', 'male'), ('age', 33)])\n",
            "dict_keys(['name', 'gender', 'age'])\n",
            "dict_values(['nitish', 'male', 33])\n"
          ]
        }
      ]
    },
    {
      "cell_type": "code",
      "source": [
        "# update\n",
        "d1 = {1:2,3:4,4:5}\n",
        "d2 = {4:7,6:8}\n",
        "\n",
        "d1.update(d2)\n",
        "print(d1)"
      ],
      "metadata": {
        "id": "uJ9yNsIR8GIh",
        "colab": {
          "base_uri": "https://localhost:8080/"
        },
        "outputId": "c705e988-a024-40c8-dc10-89edb55a99e8"
      },
      "id": "uJ9yNsIR8GIh",
      "execution_count": null,
      "outputs": [
        {
          "output_type": "stream",
          "name": "stdout",
          "text": [
            "{1: 2, 3: 4, 4: 7, 6: 8}\n"
          ]
        }
      ]
    },
    {
      "cell_type": "markdown",
      "source": [
        "### Dictionary Comprehension\n",
        "![image.png](data:image/png;base64,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)"
      ],
      "metadata": {
        "id": "RFYA6h_CPslG"
      },
      "id": "RFYA6h_CPslG"
    },
    {
      "cell_type": "code",
      "source": [
        "# print 1st 10 numbers and their squares\n",
        "{i:i**2 for i in range(1,11)}"
      ],
      "metadata": {
        "id": "TMAkl3eI8GFj"
      },
      "id": "TMAkl3eI8GFj",
      "execution_count": null,
      "outputs": []
    },
    {
      "cell_type": "code",
      "source": [
        "distances = {'delhi':1000,'mumbai':2000,'bangalore':3000}\n",
        "print(distances.items())"
      ],
      "metadata": {
        "id": "xGuBWm9o8GCg"
      },
      "id": "xGuBWm9o8GCg",
      "execution_count": null,
      "outputs": []
    },
    {
      "cell_type": "code",
      "source": [
        "# using existing dict\n",
        "distances = {'delhi':1000,'mumbai':2000,'bangalore':3000}\n",
        "{key:value*0.62 for (key,value) in distances.items()}"
      ],
      "metadata": {
        "id": "fYGSvoK08F_p"
      },
      "id": "fYGSvoK08F_p",
      "execution_count": null,
      "outputs": []
    },
    {
      "cell_type": "code",
      "source": [
        "# using zip\n",
        "days = [\"Sunday\", \"Monday\",\"Tuesday\",\"Wednesday\",\"Thursday\",\"Friday\",\"Saturday\"]\n",
        "temp_C = [30.5,32.6,31.8,33.4,29.8,30.2,29.9]\n",
        "\n",
        "{i:j for (i,j) in zip(days,temp_C)}"
      ],
      "metadata": {
        "id": "8w6cm8nD8F8f"
      },
      "id": "8w6cm8nD8F8f",
      "execution_count": null,
      "outputs": []
    },
    {
      "cell_type": "code",
      "source": [
        "# using if condition\n",
        "products = {'phone':10,'laptop':0,'charger':32,'tablet':0}\n",
        "\n",
        "{key:value for (key,value) in products.items() if value>0}"
      ],
      "metadata": {
        "id": "C6dk12gO8F5f"
      },
      "id": "C6dk12gO8F5f",
      "execution_count": null,
      "outputs": []
    },
    {
      "cell_type": "code",
      "source": [
        "# Nested Comprehension\n",
        "# print tables of number from 2 to 4\n",
        "{i:{j:i*j for j in range(1,11)} for i in range(2,5)}"
      ],
      "metadata": {
        "id": "wW8KiuC58F2e"
      },
      "id": "wW8KiuC58F2e",
      "execution_count": null,
      "outputs": []
    },
    {
      "cell_type": "markdown",
      "source": [
        "dict.clear()"
      ],
      "metadata": {
        "id": "IteJb0iFnQ2O"
      },
      "id": "IteJb0iFnQ2O"
    },
    {
      "cell_type": "code",
      "source": [
        "text = {1: \"geeks\", 2: \"for\"}\n",
        "\n",
        "text.clear()\n",
        "print('text =', text)"
      ],
      "metadata": {
        "id": "K3TIU6dinUnP"
      },
      "id": "K3TIU6dinUnP",
      "execution_count": null,
      "outputs": []
    },
    {
      "cell_type": "markdown",
      "source": [
        "dict.copy()"
      ],
      "metadata": {
        "id": "ecTmdmCJnvxQ"
      },
      "id": "ecTmdmCJnvxQ"
    },
    {
      "cell_type": "code",
      "source": [
        "original = {1: 'geeks', 2: 'for'}\n",
        "\n",
        "new = original.copy()\n",
        "\n",
        "\n",
        "\n",
        "print('new: ', new)\n",
        "print('original: ', original)"
      ],
      "metadata": {
        "id": "ZwuivixOn4Zn"
      },
      "id": "ZwuivixOn4Zn",
      "execution_count": null,
      "outputs": []
    },
    {
      "cell_type": "markdown",
      "source": [
        "dict.fromkeys()"
      ],
      "metadata": {
        "id": "vx6YHNDsokfW"
      },
      "id": "vx6YHNDsokfW"
    },
    {
      "cell_type": "code",
      "source": [
        "seq = ('a', 'b', 'c')\n",
        "print(dict.fromkeys(seq, None))"
      ],
      "metadata": {
        "id": "p9OViO2popAL"
      },
      "id": "p9OViO2popAL",
      "execution_count": null,
      "outputs": []
    },
    {
      "cell_type": "markdown",
      "source": [
        "dict.get()"
      ],
      "metadata": {
        "id": "6BLhnqezpYj1"
      },
      "id": "6BLhnqezpYj1"
    },
    {
      "cell_type": "code",
      "source": [
        "d = {'coding': 'good', 'thinking': 'better'}\n",
        "print(d.get('coding'))"
      ],
      "metadata": {
        "id": "l72KqcuZpefn"
      },
      "id": "l72KqcuZpefn",
      "execution_count": null,
      "outputs": []
    },
    {
      "cell_type": "code",
      "execution_count": null,
      "metadata": {
        "id": "ef956101"
      },
      "outputs": [],
      "source": [
        "num={'one':1,'two':2,'three':3}\n",
        "for word,num in num.items():\n",
        "    if num%2==0:\n",
        "        print(num)"
      ],
      "id": "ef956101"
    },
    {
      "cell_type": "code",
      "execution_count": null,
      "metadata": {
        "id": "4ae1f986"
      },
      "outputs": [],
      "source": [
        "num={'one':1,'two':2,'three':3}\n",
        "for n in num.values():\n",
        "    print(n)"
      ],
      "id": "4ae1f986"
    },
    {
      "cell_type": "code",
      "execution_count": null,
      "metadata": {
        "id": "4af567e7"
      },
      "outputs": [],
      "source": [
        "num={'one':1,'two':2,'three':3}\n",
        "for n in num.keys():\n",
        "    print(n)"
      ],
      "id": "4af567e7"
    },
    {
      "cell_type": "code",
      "execution_count": null,
      "metadata": {
        "id": "93d43a13"
      },
      "outputs": [],
      "source": [
        "num.values()"
      ],
      "id": "93d43a13"
    },
    {
      "cell_type": "code",
      "execution_count": null,
      "metadata": {
        "id": "696e9707"
      },
      "outputs": [],
      "source": [
        "num.keys()"
      ],
      "id": "696e9707"
    },
    {
      "cell_type": "code",
      "execution_count": null,
      "metadata": {
        "id": "afbc241c"
      },
      "outputs": [],
      "source": [
        "num.items()"
      ],
      "id": "afbc241c"
    },
    {
      "cell_type": "markdown",
      "source": [
        "Pandas DataFrame from List of Dicts"
      ],
      "metadata": {
        "id": "KOqZf5Rm6f3K"
      },
      "id": "KOqZf5Rm6f3K"
    },
    {
      "cell_type": "code",
      "source": [
        "import pandas as pd\n",
        "\n",
        "data = [{'Ranjit': '86','Rasika': '74', 'Rachna':'80', 'Rupesh':'85'},\n",
        "        {'Ranjit': '70','Rasika': '60', 'Rachna':'50', 'Rupesh':'60'}]\n",
        "\n",
        "df = pd.DataFrame(data)\n",
        "print(df)"
      ],
      "metadata": {
        "id": "5jb-BLjO6fqC"
      },
      "id": "5jb-BLjO6fqC",
      "execution_count": null,
      "outputs": []
    },
    {
      "cell_type": "code",
      "source": [
        "import pandas as pd\n",
        "\n",
        "data = [{'Ranjit': '86','Rasika': '74', 'Rachna':'80', 'Rupesh':'85'},\n",
        "        {'Ranjit': '70','Rasika': '60', 'Rachna':'50', 'Rupesh':'60'}]\n",
        "\n",
        "labels = ['a','b']\n",
        "df = pd.DataFrame(data,index=labels)\n",
        "print(df)"
      ],
      "metadata": {
        "id": "XhEiQanX6flO"
      },
      "id": "XhEiQanX6flO",
      "execution_count": null,
      "outputs": []
    },
    {
      "cell_type": "markdown",
      "source": [
        "# Other Functions"
      ],
      "metadata": {
        "id": "xEazQFdwJtcd"
      },
      "id": "xEazQFdwJtcd"
    },
    {
      "cell_type": "markdown",
      "source": [
        "## Enumerate"
      ],
      "metadata": {
        "id": "se6uqIfgJ0Ey"
      },
      "id": "se6uqIfgJ0Ey"
    },
    {
      "cell_type": "markdown",
      "source": [
        "The enumerate() function is a built-in Python function that provides an easy way to iterate over elements in an iterable (such as a list, tuple, or string) while also keeping track of the index or position of each element. It returns an iterator that generates pairs of the form (index, element).\n",
        "\n",
        "Here's an example to illustrate how the enumerate() function works:"
      ],
      "metadata": {
        "id": "5g8Lm401KAj3"
      },
      "id": "5g8Lm401KAj3"
    },
    {
      "cell_type": "code",
      "source": [
        "fruits = ['apple', 'banana', 'orange', 'grape']\n",
        "\n",
        "for index, fruit in enumerate(fruits):\n",
        "    print(index, fruit)"
      ],
      "metadata": {
        "id": "0GmVtEuSKGjq"
      },
      "id": "0GmVtEuSKGjq",
      "execution_count": null,
      "outputs": []
    },
    {
      "cell_type": "markdown",
      "source": [
        "# Pandas"
      ],
      "metadata": {
        "id": "nDWu8YJbTqU9"
      },
      "id": "nDWu8YJbTqU9"
    },
    {
      "cell_type": "code",
      "execution_count": null,
      "id": "0b1589e7",
      "metadata": {
        "id": "0b1589e7",
        "colab": {
          "base_uri": "https://localhost:8080/"
        },
        "outputId": "ccd8639d-7877-4d4c-d44e-78508c1b48bd"
      },
      "outputs": [
        {
          "output_type": "stream",
          "name": "stdout",
          "text": [
            "      Name  Age  Gender    Country  Salary Department  Years of Experience  \\\n",
            "0    Alice   25  Female        USA   50000  Marketing                    3   \n",
            "1      Bob   32    Male     Canada   75000    Finance                    8   \n",
            "2  Charlie   18    Male        USA   40000  Marketing                    1   \n",
            "3    David   47    Male  Australia   90000         IT                   18   \n",
            "4    Emily   29  Female         UK   60000         IT                    6   \n",
            "5    Frank   36    Male     Canada   80000         HR                   10   \n",
            "6   George   21    Male        USA   55000  Marketing                    2   \n",
            "7    Helen   45  Female  Australia  100000         IT                   22   \n",
            "8    Irene   28  Female         UK   65000         HR                    5   \n",
            "9     Jack   33    Male        USA   70000    Finance                    7   \n",
            "\n",
            "  Education Level  \n",
            "0        Bachelor  \n",
            "1          Master  \n",
            "2     High School  \n",
            "3             PhD  \n",
            "4        Bachelor  \n",
            "5          Master  \n",
            "6        Bachelor  \n",
            "7             PhD  \n",
            "8        Bachelor  \n",
            "9          Master  \n"
          ]
        }
      ],
      "source": [
        "import pandas as pd\n",
        "\n",
        "data = {\n",
        "    'Name': ['Alice', 'Bob', 'Charlie', 'David', 'Emily', 'Frank', 'George', 'Helen', 'Irene', 'Jack'],\n",
        "    'Age': [25, 32, 18, 47, 29, 36, 21, 45, 28, 33],\n",
        "    'Gender': ['Female', 'Male', 'Male', 'Male', 'Female', 'Male', 'Male', 'Female', 'Female', 'Male'],\n",
        "    'Country': ['USA', 'Canada', 'USA', 'Australia', 'UK', 'Canada', 'USA', 'Australia', 'UK', 'USA'],\n",
        "    'Salary': [50000, 75000, 40000, 90000, 60000, 80000, 55000, 100000, 65000, 70000],\n",
        "    'Department': ['Marketing', 'Finance', 'Marketing', 'IT', 'IT', 'HR', 'Marketing', 'IT', 'HR', 'Finance'],\n",
        "    'Years of Experience': [3, 8, 1, 18, 6, 10, 2, 22, 5, 7],\n",
        "    'Education Level': ['Bachelor', 'Master', 'High School', 'PhD', 'Bachelor', 'Master', 'Bachelor', 'PhD', 'Bachelor', 'Master']\n",
        "}\n",
        "\n",
        "df = pd.DataFrame(data)\n",
        "print(df)\n"
      ]
    },
    {
      "cell_type": "code",
      "execution_count": null,
      "id": "4387a9fc",
      "metadata": {
        "id": "4387a9fc",
        "colab": {
          "base_uri": "https://localhost:8080/"
        },
        "outputId": "0942a224-35cb-47b8-d82b-d32a350383ed"
      },
      "outputs": [
        {
          "output_type": "execute_result",
          "data": {
            "text/plain": [
              "Name                   object\n",
              "Age                     int64\n",
              "Gender                 object\n",
              "Country                object\n",
              "Salary                  int64\n",
              "Department             object\n",
              "Years of Experience     int64\n",
              "Education Level        object\n",
              "dtype: object"
            ]
          },
          "metadata": {},
          "execution_count": 444
        }
      ],
      "source": [
        "#For checking a data type\n",
        "df.dtypes"
      ]
    },
    {
      "cell_type": "code",
      "execution_count": null,
      "id": "07ce9016",
      "metadata": {
        "id": "07ce9016",
        "colab": {
          "base_uri": "https://localhost:8080/",
          "height": 206
        },
        "outputId": "a79ca37c-fec3-4a3a-cc88-1e335bfbeac1"
      },
      "outputs": [
        {
          "output_type": "execute_result",
          "data": {
            "text/plain": [
              "      Name  Age  Gender    Country  Salary Department  Years of Experience  \\\n",
              "0    Alice   25  Female        USA   50000  Marketing                    3   \n",
              "1      Bob   32    Male     Canada   75000    Finance                    8   \n",
              "2  Charlie   18    Male        USA   40000  Marketing                    1   \n",
              "3    David   47    Male  Australia   90000         IT                   18   \n",
              "4    Emily   29  Female         UK   60000         IT                    6   \n",
              "\n",
              "  Education Level  \n",
              "0        Bachelor  \n",
              "1          Master  \n",
              "2     High School  \n",
              "3             PhD  \n",
              "4        Bachelor  "
            ],
            "text/html": [
              "\n",
              "\n",
              "  <div id=\"df-202a1683-66a4-484d-82d1-b016e6d3ed43\">\n",
              "    <div class=\"colab-df-container\">\n",
              "      <div>\n",
              "<style scoped>\n",
              "    .dataframe tbody tr th:only-of-type {\n",
              "        vertical-align: middle;\n",
              "    }\n",
              "\n",
              "    .dataframe tbody tr th {\n",
              "        vertical-align: top;\n",
              "    }\n",
              "\n",
              "    .dataframe thead th {\n",
              "        text-align: right;\n",
              "    }\n",
              "</style>\n",
              "<table border=\"1\" class=\"dataframe\">\n",
              "  <thead>\n",
              "    <tr style=\"text-align: right;\">\n",
              "      <th></th>\n",
              "      <th>Name</th>\n",
              "      <th>Age</th>\n",
              "      <th>Gender</th>\n",
              "      <th>Country</th>\n",
              "      <th>Salary</th>\n",
              "      <th>Department</th>\n",
              "      <th>Years of Experience</th>\n",
              "      <th>Education Level</th>\n",
              "    </tr>\n",
              "  </thead>\n",
              "  <tbody>\n",
              "    <tr>\n",
              "      <th>0</th>\n",
              "      <td>Alice</td>\n",
              "      <td>25</td>\n",
              "      <td>Female</td>\n",
              "      <td>USA</td>\n",
              "      <td>50000</td>\n",
              "      <td>Marketing</td>\n",
              "      <td>3</td>\n",
              "      <td>Bachelor</td>\n",
              "    </tr>\n",
              "    <tr>\n",
              "      <th>1</th>\n",
              "      <td>Bob</td>\n",
              "      <td>32</td>\n",
              "      <td>Male</td>\n",
              "      <td>Canada</td>\n",
              "      <td>75000</td>\n",
              "      <td>Finance</td>\n",
              "      <td>8</td>\n",
              "      <td>Master</td>\n",
              "    </tr>\n",
              "    <tr>\n",
              "      <th>2</th>\n",
              "      <td>Charlie</td>\n",
              "      <td>18</td>\n",
              "      <td>Male</td>\n",
              "      <td>USA</td>\n",
              "      <td>40000</td>\n",
              "      <td>Marketing</td>\n",
              "      <td>1</td>\n",
              "      <td>High School</td>\n",
              "    </tr>\n",
              "    <tr>\n",
              "      <th>3</th>\n",
              "      <td>David</td>\n",
              "      <td>47</td>\n",
              "      <td>Male</td>\n",
              "      <td>Australia</td>\n",
              "      <td>90000</td>\n",
              "      <td>IT</td>\n",
              "      <td>18</td>\n",
              "      <td>PhD</td>\n",
              "    </tr>\n",
              "    <tr>\n",
              "      <th>4</th>\n",
              "      <td>Emily</td>\n",
              "      <td>29</td>\n",
              "      <td>Female</td>\n",
              "      <td>UK</td>\n",
              "      <td>60000</td>\n",
              "      <td>IT</td>\n",
              "      <td>6</td>\n",
              "      <td>Bachelor</td>\n",
              "    </tr>\n",
              "  </tbody>\n",
              "</table>\n",
              "</div>\n",
              "      <button class=\"colab-df-convert\" onclick=\"convertToInteractive('df-202a1683-66a4-484d-82d1-b016e6d3ed43')\"\n",
              "              title=\"Convert this dataframe to an interactive table.\"\n",
              "              style=\"display:none;\">\n",
              "\n",
              "  <svg xmlns=\"http://www.w3.org/2000/svg\" height=\"24px\"viewBox=\"0 0 24 24\"\n",
              "       width=\"24px\">\n",
              "    <path d=\"M0 0h24v24H0V0z\" fill=\"none\"/>\n",
              "    <path d=\"M18.56 5.44l.94 2.06.94-2.06 2.06-.94-2.06-.94-.94-2.06-.94 2.06-2.06.94zm-11 1L8.5 8.5l.94-2.06 2.06-.94-2.06-.94L8.5 2.5l-.94 2.06-2.06.94zm10 10l.94 2.06.94-2.06 2.06-.94-2.06-.94-.94-2.06-.94 2.06-2.06.94z\"/><path d=\"M17.41 7.96l-1.37-1.37c-.4-.4-.92-.59-1.43-.59-.52 0-1.04.2-1.43.59L10.3 9.45l-7.72 7.72c-.78.78-.78 2.05 0 2.83L4 21.41c.39.39.9.59 1.41.59.51 0 1.02-.2 1.41-.59l7.78-7.78 2.81-2.81c.8-.78.8-2.07 0-2.86zM5.41 20L4 18.59l7.72-7.72 1.47 1.35L5.41 20z\"/>\n",
              "  </svg>\n",
              "      </button>\n",
              "\n",
              "\n",
              "\n",
              "    <div id=\"df-3031db99-200f-4f66-85cf-7879b4daf081\">\n",
              "      <button class=\"colab-df-quickchart\" onclick=\"quickchart('df-3031db99-200f-4f66-85cf-7879b4daf081')\"\n",
              "              title=\"Suggest charts.\"\n",
              "              style=\"display:none;\">\n",
              "\n",
              "<svg xmlns=\"http://www.w3.org/2000/svg\" height=\"24px\"viewBox=\"0 0 24 24\"\n",
              "     width=\"24px\">\n",
              "    <g>\n",
              "        <path d=\"M19 3H5c-1.1 0-2 .9-2 2v14c0 1.1.9 2 2 2h14c1.1 0 2-.9 2-2V5c0-1.1-.9-2-2-2zM9 17H7v-7h2v7zm4 0h-2V7h2v10zm4 0h-2v-4h2v4z\"/>\n",
              "    </g>\n",
              "</svg>\n",
              "      </button>\n",
              "    </div>\n",
              "\n",
              "<style>\n",
              "  .colab-df-quickchart {\n",
              "    background-color: #E8F0FE;\n",
              "    border: none;\n",
              "    border-radius: 50%;\n",
              "    cursor: pointer;\n",
              "    display: none;\n",
              "    fill: #1967D2;\n",
              "    height: 32px;\n",
              "    padding: 0 0 0 0;\n",
              "    width: 32px;\n",
              "  }\n",
              "\n",
              "  .colab-df-quickchart:hover {\n",
              "    background-color: #E2EBFA;\n",
              "    box-shadow: 0px 1px 2px rgba(60, 64, 67, 0.3), 0px 1px 3px 1px rgba(60, 64, 67, 0.15);\n",
              "    fill: #174EA6;\n",
              "  }\n",
              "\n",
              "  [theme=dark] .colab-df-quickchart {\n",
              "    background-color: #3B4455;\n",
              "    fill: #D2E3FC;\n",
              "  }\n",
              "\n",
              "  [theme=dark] .colab-df-quickchart:hover {\n",
              "    background-color: #434B5C;\n",
              "    box-shadow: 0px 1px 3px 1px rgba(0, 0, 0, 0.15);\n",
              "    filter: drop-shadow(0px 1px 2px rgba(0, 0, 0, 0.3));\n",
              "    fill: #FFFFFF;\n",
              "  }\n",
              "</style>\n",
              "\n",
              "    <script>\n",
              "      async function quickchart(key) {\n",
              "        const containerElement = document.querySelector('#' + key);\n",
              "        const charts = await google.colab.kernel.invokeFunction(\n",
              "            'suggestCharts', [key], {});\n",
              "      }\n",
              "    </script>\n",
              "\n",
              "      <script>\n",
              "\n",
              "function displayQuickchartButton(domScope) {\n",
              "  let quickchartButtonEl =\n",
              "    domScope.querySelector('#df-3031db99-200f-4f66-85cf-7879b4daf081 button.colab-df-quickchart');\n",
              "  quickchartButtonEl.style.display =\n",
              "    google.colab.kernel.accessAllowed ? 'block' : 'none';\n",
              "}\n",
              "\n",
              "        displayQuickchartButton(document);\n",
              "      </script>\n",
              "      <style>\n",
              "    .colab-df-container {\n",
              "      display:flex;\n",
              "      flex-wrap:wrap;\n",
              "      gap: 12px;\n",
              "    }\n",
              "\n",
              "    .colab-df-convert {\n",
              "      background-color: #E8F0FE;\n",
              "      border: none;\n",
              "      border-radius: 50%;\n",
              "      cursor: pointer;\n",
              "      display: none;\n",
              "      fill: #1967D2;\n",
              "      height: 32px;\n",
              "      padding: 0 0 0 0;\n",
              "      width: 32px;\n",
              "    }\n",
              "\n",
              "    .colab-df-convert:hover {\n",
              "      background-color: #E2EBFA;\n",
              "      box-shadow: 0px 1px 2px rgba(60, 64, 67, 0.3), 0px 1px 3px 1px rgba(60, 64, 67, 0.15);\n",
              "      fill: #174EA6;\n",
              "    }\n",
              "\n",
              "    [theme=dark] .colab-df-convert {\n",
              "      background-color: #3B4455;\n",
              "      fill: #D2E3FC;\n",
              "    }\n",
              "\n",
              "    [theme=dark] .colab-df-convert:hover {\n",
              "      background-color: #434B5C;\n",
              "      box-shadow: 0px 1px 3px 1px rgba(0, 0, 0, 0.15);\n",
              "      filter: drop-shadow(0px 1px 2px rgba(0, 0, 0, 0.3));\n",
              "      fill: #FFFFFF;\n",
              "    }\n",
              "  </style>\n",
              "\n",
              "      <script>\n",
              "        const buttonEl =\n",
              "          document.querySelector('#df-202a1683-66a4-484d-82d1-b016e6d3ed43 button.colab-df-convert');\n",
              "        buttonEl.style.display =\n",
              "          google.colab.kernel.accessAllowed ? 'block' : 'none';\n",
              "\n",
              "        async function convertToInteractive(key) {\n",
              "          const element = document.querySelector('#df-202a1683-66a4-484d-82d1-b016e6d3ed43');\n",
              "          const dataTable =\n",
              "            await google.colab.kernel.invokeFunction('convertToInteractive',\n",
              "                                                     [key], {});\n",
              "          if (!dataTable) return;\n",
              "\n",
              "          const docLinkHtml = 'Like what you see? Visit the ' +\n",
              "            '<a target=\"_blank\" href=https://colab.research.google.com/notebooks/data_table.ipynb>data table notebook</a>'\n",
              "            + ' to learn more about interactive tables.';\n",
              "          element.innerHTML = '';\n",
              "          dataTable['output_type'] = 'display_data';\n",
              "          await google.colab.output.renderOutput(dataTable, element);\n",
              "          const docLink = document.createElement('div');\n",
              "          docLink.innerHTML = docLinkHtml;\n",
              "          element.appendChild(docLink);\n",
              "        }\n",
              "      </script>\n",
              "    </div>\n",
              "  </div>\n"
            ]
          },
          "metadata": {},
          "execution_count": 445
        }
      ],
      "source": [
        "df.head()"
      ]
    },
    {
      "cell_type": "code",
      "execution_count": null,
      "id": "22f233df",
      "metadata": {
        "id": "22f233df",
        "colab": {
          "base_uri": "https://localhost:8080/"
        },
        "outputId": "42c56e82-16d6-4936-adfd-8e0b0976eac9"
      },
      "outputs": [
        {
          "output_type": "stream",
          "name": "stdout",
          "text": [
            "<class 'pandas.core.frame.DataFrame'>\n",
            "RangeIndex: 10 entries, 0 to 9\n",
            "Data columns (total 8 columns):\n",
            " #   Column               Non-Null Count  Dtype \n",
            "---  ------               --------------  ----- \n",
            " 0   Name                 10 non-null     object\n",
            " 1   Age                  10 non-null     int64 \n",
            " 2   Gender               10 non-null     object\n",
            " 3   Country              10 non-null     object\n",
            " 4   Salary               10 non-null     int64 \n",
            " 5   Department           10 non-null     object\n",
            " 6   Years of Experience  10 non-null     int64 \n",
            " 7   Education Level      10 non-null     object\n",
            "dtypes: int64(3), object(5)\n",
            "memory usage: 768.0+ bytes\n"
          ]
        }
      ],
      "source": [
        "df.info()"
      ]
    },
    {
      "cell_type": "code",
      "execution_count": null,
      "id": "a0fe5864",
      "metadata": {
        "id": "a0fe5864",
        "colab": {
          "base_uri": "https://localhost:8080/",
          "height": 300
        },
        "outputId": "82ef60a9-6a78-4abe-d5db-f4e765e306d0"
      },
      "outputs": [
        {
          "output_type": "execute_result",
          "data": {
            "text/plain": [
              "             Age         Salary  Years of Experience\n",
              "count  10.000000      10.000000            10.000000\n",
              "mean   31.400000   68500.000000             8.200000\n",
              "std     9.418658   18416.478129             6.860515\n",
              "min    18.000000   40000.000000             1.000000\n",
              "25%    25.750000   56250.000000             3.500000\n",
              "50%    30.500000   67500.000000             6.500000\n",
              "75%    35.250000   78750.000000             9.500000\n",
              "max    47.000000  100000.000000            22.000000"
            ],
            "text/html": [
              "\n",
              "\n",
              "  <div id=\"df-96b4d7c3-f862-482a-b6dd-b51d43fb1eb5\">\n",
              "    <div class=\"colab-df-container\">\n",
              "      <div>\n",
              "<style scoped>\n",
              "    .dataframe tbody tr th:only-of-type {\n",
              "        vertical-align: middle;\n",
              "    }\n",
              "\n",
              "    .dataframe tbody tr th {\n",
              "        vertical-align: top;\n",
              "    }\n",
              "\n",
              "    .dataframe thead th {\n",
              "        text-align: right;\n",
              "    }\n",
              "</style>\n",
              "<table border=\"1\" class=\"dataframe\">\n",
              "  <thead>\n",
              "    <tr style=\"text-align: right;\">\n",
              "      <th></th>\n",
              "      <th>Age</th>\n",
              "      <th>Salary</th>\n",
              "      <th>Years of Experience</th>\n",
              "    </tr>\n",
              "  </thead>\n",
              "  <tbody>\n",
              "    <tr>\n",
              "      <th>count</th>\n",
              "      <td>10.000000</td>\n",
              "      <td>10.000000</td>\n",
              "      <td>10.000000</td>\n",
              "    </tr>\n",
              "    <tr>\n",
              "      <th>mean</th>\n",
              "      <td>31.400000</td>\n",
              "      <td>68500.000000</td>\n",
              "      <td>8.200000</td>\n",
              "    </tr>\n",
              "    <tr>\n",
              "      <th>std</th>\n",
              "      <td>9.418658</td>\n",
              "      <td>18416.478129</td>\n",
              "      <td>6.860515</td>\n",
              "    </tr>\n",
              "    <tr>\n",
              "      <th>min</th>\n",
              "      <td>18.000000</td>\n",
              "      <td>40000.000000</td>\n",
              "      <td>1.000000</td>\n",
              "    </tr>\n",
              "    <tr>\n",
              "      <th>25%</th>\n",
              "      <td>25.750000</td>\n",
              "      <td>56250.000000</td>\n",
              "      <td>3.500000</td>\n",
              "    </tr>\n",
              "    <tr>\n",
              "      <th>50%</th>\n",
              "      <td>30.500000</td>\n",
              "      <td>67500.000000</td>\n",
              "      <td>6.500000</td>\n",
              "    </tr>\n",
              "    <tr>\n",
              "      <th>75%</th>\n",
              "      <td>35.250000</td>\n",
              "      <td>78750.000000</td>\n",
              "      <td>9.500000</td>\n",
              "    </tr>\n",
              "    <tr>\n",
              "      <th>max</th>\n",
              "      <td>47.000000</td>\n",
              "      <td>100000.000000</td>\n",
              "      <td>22.000000</td>\n",
              "    </tr>\n",
              "  </tbody>\n",
              "</table>\n",
              "</div>\n",
              "      <button class=\"colab-df-convert\" onclick=\"convertToInteractive('df-96b4d7c3-f862-482a-b6dd-b51d43fb1eb5')\"\n",
              "              title=\"Convert this dataframe to an interactive table.\"\n",
              "              style=\"display:none;\">\n",
              "\n",
              "  <svg xmlns=\"http://www.w3.org/2000/svg\" height=\"24px\"viewBox=\"0 0 24 24\"\n",
              "       width=\"24px\">\n",
              "    <path d=\"M0 0h24v24H0V0z\" fill=\"none\"/>\n",
              "    <path d=\"M18.56 5.44l.94 2.06.94-2.06 2.06-.94-2.06-.94-.94-2.06-.94 2.06-2.06.94zm-11 1L8.5 8.5l.94-2.06 2.06-.94-2.06-.94L8.5 2.5l-.94 2.06-2.06.94zm10 10l.94 2.06.94-2.06 2.06-.94-2.06-.94-.94-2.06-.94 2.06-2.06.94z\"/><path d=\"M17.41 7.96l-1.37-1.37c-.4-.4-.92-.59-1.43-.59-.52 0-1.04.2-1.43.59L10.3 9.45l-7.72 7.72c-.78.78-.78 2.05 0 2.83L4 21.41c.39.39.9.59 1.41.59.51 0 1.02-.2 1.41-.59l7.78-7.78 2.81-2.81c.8-.78.8-2.07 0-2.86zM5.41 20L4 18.59l7.72-7.72 1.47 1.35L5.41 20z\"/>\n",
              "  </svg>\n",
              "      </button>\n",
              "\n",
              "\n",
              "\n",
              "    <div id=\"df-cfa25bd3-99bb-4a25-ac19-a8193e418078\">\n",
              "      <button class=\"colab-df-quickchart\" onclick=\"quickchart('df-cfa25bd3-99bb-4a25-ac19-a8193e418078')\"\n",
              "              title=\"Suggest charts.\"\n",
              "              style=\"display:none;\">\n",
              "\n",
              "<svg xmlns=\"http://www.w3.org/2000/svg\" height=\"24px\"viewBox=\"0 0 24 24\"\n",
              "     width=\"24px\">\n",
              "    <g>\n",
              "        <path d=\"M19 3H5c-1.1 0-2 .9-2 2v14c0 1.1.9 2 2 2h14c1.1 0 2-.9 2-2V5c0-1.1-.9-2-2-2zM9 17H7v-7h2v7zm4 0h-2V7h2v10zm4 0h-2v-4h2v4z\"/>\n",
              "    </g>\n",
              "</svg>\n",
              "      </button>\n",
              "    </div>\n",
              "\n",
              "<style>\n",
              "  .colab-df-quickchart {\n",
              "    background-color: #E8F0FE;\n",
              "    border: none;\n",
              "    border-radius: 50%;\n",
              "    cursor: pointer;\n",
              "    display: none;\n",
              "    fill: #1967D2;\n",
              "    height: 32px;\n",
              "    padding: 0 0 0 0;\n",
              "    width: 32px;\n",
              "  }\n",
              "\n",
              "  .colab-df-quickchart:hover {\n",
              "    background-color: #E2EBFA;\n",
              "    box-shadow: 0px 1px 2px rgba(60, 64, 67, 0.3), 0px 1px 3px 1px rgba(60, 64, 67, 0.15);\n",
              "    fill: #174EA6;\n",
              "  }\n",
              "\n",
              "  [theme=dark] .colab-df-quickchart {\n",
              "    background-color: #3B4455;\n",
              "    fill: #D2E3FC;\n",
              "  }\n",
              "\n",
              "  [theme=dark] .colab-df-quickchart:hover {\n",
              "    background-color: #434B5C;\n",
              "    box-shadow: 0px 1px 3px 1px rgba(0, 0, 0, 0.15);\n",
              "    filter: drop-shadow(0px 1px 2px rgba(0, 0, 0, 0.3));\n",
              "    fill: #FFFFFF;\n",
              "  }\n",
              "</style>\n",
              "\n",
              "    <script>\n",
              "      async function quickchart(key) {\n",
              "        const containerElement = document.querySelector('#' + key);\n",
              "        const charts = await google.colab.kernel.invokeFunction(\n",
              "            'suggestCharts', [key], {});\n",
              "      }\n",
              "    </script>\n",
              "\n",
              "      <script>\n",
              "\n",
              "function displayQuickchartButton(domScope) {\n",
              "  let quickchartButtonEl =\n",
              "    domScope.querySelector('#df-cfa25bd3-99bb-4a25-ac19-a8193e418078 button.colab-df-quickchart');\n",
              "  quickchartButtonEl.style.display =\n",
              "    google.colab.kernel.accessAllowed ? 'block' : 'none';\n",
              "}\n",
              "\n",
              "        displayQuickchartButton(document);\n",
              "      </script>\n",
              "      <style>\n",
              "    .colab-df-container {\n",
              "      display:flex;\n",
              "      flex-wrap:wrap;\n",
              "      gap: 12px;\n",
              "    }\n",
              "\n",
              "    .colab-df-convert {\n",
              "      background-color: #E8F0FE;\n",
              "      border: none;\n",
              "      border-radius: 50%;\n",
              "      cursor: pointer;\n",
              "      display: none;\n",
              "      fill: #1967D2;\n",
              "      height: 32px;\n",
              "      padding: 0 0 0 0;\n",
              "      width: 32px;\n",
              "    }\n",
              "\n",
              "    .colab-df-convert:hover {\n",
              "      background-color: #E2EBFA;\n",
              "      box-shadow: 0px 1px 2px rgba(60, 64, 67, 0.3), 0px 1px 3px 1px rgba(60, 64, 67, 0.15);\n",
              "      fill: #174EA6;\n",
              "    }\n",
              "\n",
              "    [theme=dark] .colab-df-convert {\n",
              "      background-color: #3B4455;\n",
              "      fill: #D2E3FC;\n",
              "    }\n",
              "\n",
              "    [theme=dark] .colab-df-convert:hover {\n",
              "      background-color: #434B5C;\n",
              "      box-shadow: 0px 1px 3px 1px rgba(0, 0, 0, 0.15);\n",
              "      filter: drop-shadow(0px 1px 2px rgba(0, 0, 0, 0.3));\n",
              "      fill: #FFFFFF;\n",
              "    }\n",
              "  </style>\n",
              "\n",
              "      <script>\n",
              "        const buttonEl =\n",
              "          document.querySelector('#df-96b4d7c3-f862-482a-b6dd-b51d43fb1eb5 button.colab-df-convert');\n",
              "        buttonEl.style.display =\n",
              "          google.colab.kernel.accessAllowed ? 'block' : 'none';\n",
              "\n",
              "        async function convertToInteractive(key) {\n",
              "          const element = document.querySelector('#df-96b4d7c3-f862-482a-b6dd-b51d43fb1eb5');\n",
              "          const dataTable =\n",
              "            await google.colab.kernel.invokeFunction('convertToInteractive',\n",
              "                                                     [key], {});\n",
              "          if (!dataTable) return;\n",
              "\n",
              "          const docLinkHtml = 'Like what you see? Visit the ' +\n",
              "            '<a target=\"_blank\" href=https://colab.research.google.com/notebooks/data_table.ipynb>data table notebook</a>'\n",
              "            + ' to learn more about interactive tables.';\n",
              "          element.innerHTML = '';\n",
              "          dataTable['output_type'] = 'display_data';\n",
              "          await google.colab.output.renderOutput(dataTable, element);\n",
              "          const docLink = document.createElement('div');\n",
              "          docLink.innerHTML = docLinkHtml;\n",
              "          element.appendChild(docLink);\n",
              "        }\n",
              "      </script>\n",
              "    </div>\n",
              "  </div>\n"
            ]
          },
          "metadata": {},
          "execution_count": 447
        }
      ],
      "source": [
        "#overall discriptive summary of dataframe\n",
        "\n",
        "df.describe()"
      ]
    },
    {
      "cell_type": "code",
      "execution_count": null,
      "id": "cbc369a3",
      "metadata": {
        "id": "cbc369a3",
        "colab": {
          "base_uri": "https://localhost:8080/"
        },
        "outputId": "736d9af7-9ed8-4187-f6a4-c27d81f627cb"
      },
      "outputs": [
        {
          "output_type": "execute_result",
          "data": {
            "text/plain": [
              "(10, 8)"
            ]
          },
          "metadata": {},
          "execution_count": 448
        }
      ],
      "source": [
        "df.shape #for no of rows & columns"
      ]
    },
    {
      "cell_type": "code",
      "execution_count": null,
      "id": "01b3e943",
      "metadata": {
        "id": "01b3e943",
        "colab": {
          "base_uri": "https://localhost:8080/"
        },
        "outputId": "2799e787-8aec-4123-b088-a6d9df53eba4"
      },
      "outputs": [
        {
          "output_type": "execute_result",
          "data": {
            "text/plain": [
              "Name     Age  Gender  Country    Salary  Department  Years of Experience  Education Level\n",
              "Alice    25   Female  USA        50000   Marketing   3                    Bachelor           1\n",
              "Bob      32   Male    Canada     75000   Finance     8                    Master             1\n",
              "Charlie  18   Male    USA        40000   Marketing   1                    High School        1\n",
              "David    47   Male    Australia  90000   IT          18                   PhD                1\n",
              "Emily    29   Female  UK         60000   IT          6                    Bachelor           1\n",
              "Frank    36   Male    Canada     80000   HR          10                   Master             1\n",
              "George   21   Male    USA        55000   Marketing   2                    Bachelor           1\n",
              "Helen    45   Female  Australia  100000  IT          22                   PhD                1\n",
              "Irene    28   Female  UK         65000   HR          5                    Bachelor           1\n",
              "Jack     33   Male    USA        70000   Finance     7                    Master             1\n",
              "dtype: int64"
            ]
          },
          "metadata": {},
          "execution_count": 449
        }
      ],
      "source": [
        "df.value_counts() #view unique values & counts"
      ]
    },
    {
      "cell_type": "code",
      "source": [
        "df['Country'].value_counts()"
      ],
      "metadata": {
        "colab": {
          "base_uri": "https://localhost:8080/"
        },
        "id": "s22wH43lFGFz",
        "outputId": "ceab006a-34cf-44ca-9f73-8c56ca2afb0d"
      },
      "id": "s22wH43lFGFz",
      "execution_count": null,
      "outputs": [
        {
          "output_type": "execute_result",
          "data": {
            "text/plain": [
              "USA          4\n",
              "Canada       2\n",
              "Australia    2\n",
              "UK           2\n",
              "Name: Country, dtype: int64"
            ]
          },
          "metadata": {},
          "execution_count": 450
        }
      ]
    },
    {
      "cell_type": "code",
      "execution_count": null,
      "id": "0d835ea8",
      "metadata": {
        "id": "0d835ea8",
        "colab": {
          "base_uri": "https://localhost:8080/",
          "height": 1000
        },
        "outputId": "a61254cb-9405-4486-bc02-fcf4db914a4f"
      },
      "outputs": [
        {
          "output_type": "execute_result",
          "data": {
            "text/plain": [
              "             Name  Age  Gender  Country  Salary  Department  \\\n",
              "1             NaN  NaN     NaN      NaN     NaN         NaN   \n",
              "2             NaN  NaN     NaN      NaN     NaN         NaN   \n",
              "3             NaN  NaN     NaN      NaN     NaN         NaN   \n",
              "5             NaN  NaN     NaN      NaN     NaN         NaN   \n",
              "6             NaN  NaN     NaN      NaN     NaN         NaN   \n",
              "7             NaN  NaN     NaN      NaN     NaN         NaN   \n",
              "8             NaN  NaN     NaN      NaN     NaN         NaN   \n",
              "10            NaN  NaN     NaN      NaN     NaN         NaN   \n",
              "18            NaN  1.0     NaN      NaN     NaN         NaN   \n",
              "21            NaN  1.0     NaN      NaN     NaN         NaN   \n",
              "22            NaN  NaN     NaN      NaN     NaN         NaN   \n",
              "25            NaN  1.0     NaN      NaN     NaN         NaN   \n",
              "28            NaN  1.0     NaN      NaN     NaN         NaN   \n",
              "29            NaN  1.0     NaN      NaN     NaN         NaN   \n",
              "32            NaN  1.0     NaN      NaN     NaN         NaN   \n",
              "33            NaN  1.0     NaN      NaN     NaN         NaN   \n",
              "36            NaN  1.0     NaN      NaN     NaN         NaN   \n",
              "45            NaN  1.0     NaN      NaN     NaN         NaN   \n",
              "47            NaN  1.0     NaN      NaN     NaN         NaN   \n",
              "40000         NaN  NaN     NaN      NaN     1.0         NaN   \n",
              "50000         NaN  NaN     NaN      NaN     1.0         NaN   \n",
              "55000         NaN  NaN     NaN      NaN     1.0         NaN   \n",
              "60000         NaN  NaN     NaN      NaN     1.0         NaN   \n",
              "65000         NaN  NaN     NaN      NaN     1.0         NaN   \n",
              "70000         NaN  NaN     NaN      NaN     1.0         NaN   \n",
              "75000         NaN  NaN     NaN      NaN     1.0         NaN   \n",
              "80000         NaN  NaN     NaN      NaN     1.0         NaN   \n",
              "90000         NaN  NaN     NaN      NaN     1.0         NaN   \n",
              "100000        NaN  NaN     NaN      NaN     1.0         NaN   \n",
              "Alice         1.0  NaN     NaN      NaN     NaN         NaN   \n",
              "Australia     NaN  NaN     NaN      2.0     NaN         NaN   \n",
              "Bachelor      NaN  NaN     NaN      NaN     NaN         NaN   \n",
              "Bob           1.0  NaN     NaN      NaN     NaN         NaN   \n",
              "Canada        NaN  NaN     NaN      2.0     NaN         NaN   \n",
              "Charlie       1.0  NaN     NaN      NaN     NaN         NaN   \n",
              "David         1.0  NaN     NaN      NaN     NaN         NaN   \n",
              "Emily         1.0  NaN     NaN      NaN     NaN         NaN   \n",
              "Female        NaN  NaN     4.0      NaN     NaN         NaN   \n",
              "Finance       NaN  NaN     NaN      NaN     NaN         2.0   \n",
              "Frank         1.0  NaN     NaN      NaN     NaN         NaN   \n",
              "George        1.0  NaN     NaN      NaN     NaN         NaN   \n",
              "HR            NaN  NaN     NaN      NaN     NaN         2.0   \n",
              "Helen         1.0  NaN     NaN      NaN     NaN         NaN   \n",
              "High School   NaN  NaN     NaN      NaN     NaN         NaN   \n",
              "IT            NaN  NaN     NaN      NaN     NaN         3.0   \n",
              "Irene         1.0  NaN     NaN      NaN     NaN         NaN   \n",
              "Jack          1.0  NaN     NaN      NaN     NaN         NaN   \n",
              "Male          NaN  NaN     6.0      NaN     NaN         NaN   \n",
              "Marketing     NaN  NaN     NaN      NaN     NaN         3.0   \n",
              "Master        NaN  NaN     NaN      NaN     NaN         NaN   \n",
              "PhD           NaN  NaN     NaN      NaN     NaN         NaN   \n",
              "UK            NaN  NaN     NaN      2.0     NaN         NaN   \n",
              "USA           NaN  NaN     NaN      4.0     NaN         NaN   \n",
              "\n",
              "             Years of Experience  Education Level  \n",
              "1                            1.0              NaN  \n",
              "2                            1.0              NaN  \n",
              "3                            1.0              NaN  \n",
              "5                            1.0              NaN  \n",
              "6                            1.0              NaN  \n",
              "7                            1.0              NaN  \n",
              "8                            1.0              NaN  \n",
              "10                           1.0              NaN  \n",
              "18                           1.0              NaN  \n",
              "21                           NaN              NaN  \n",
              "22                           1.0              NaN  \n",
              "25                           NaN              NaN  \n",
              "28                           NaN              NaN  \n",
              "29                           NaN              NaN  \n",
              "32                           NaN              NaN  \n",
              "33                           NaN              NaN  \n",
              "36                           NaN              NaN  \n",
              "45                           NaN              NaN  \n",
              "47                           NaN              NaN  \n",
              "40000                        NaN              NaN  \n",
              "50000                        NaN              NaN  \n",
              "55000                        NaN              NaN  \n",
              "60000                        NaN              NaN  \n",
              "65000                        NaN              NaN  \n",
              "70000                        NaN              NaN  \n",
              "75000                        NaN              NaN  \n",
              "80000                        NaN              NaN  \n",
              "90000                        NaN              NaN  \n",
              "100000                       NaN              NaN  \n",
              "Alice                        NaN              NaN  \n",
              "Australia                    NaN              NaN  \n",
              "Bachelor                     NaN              4.0  \n",
              "Bob                          NaN              NaN  \n",
              "Canada                       NaN              NaN  \n",
              "Charlie                      NaN              NaN  \n",
              "David                        NaN              NaN  \n",
              "Emily                        NaN              NaN  \n",
              "Female                       NaN              NaN  \n",
              "Finance                      NaN              NaN  \n",
              "Frank                        NaN              NaN  \n",
              "George                       NaN              NaN  \n",
              "HR                           NaN              NaN  \n",
              "Helen                        NaN              NaN  \n",
              "High School                  NaN              1.0  \n",
              "IT                           NaN              NaN  \n",
              "Irene                        NaN              NaN  \n",
              "Jack                         NaN              NaN  \n",
              "Male                         NaN              NaN  \n",
              "Marketing                    NaN              NaN  \n",
              "Master                       NaN              3.0  \n",
              "PhD                          NaN              2.0  \n",
              "UK                           NaN              NaN  \n",
              "USA                          NaN              NaN  "
            ],
            "text/html": [
              "\n",
              "\n",
              "  <div id=\"df-aba7a410-f7e2-4128-9c18-edb2c1633a47\">\n",
              "    <div class=\"colab-df-container\">\n",
              "      <div>\n",
              "<style scoped>\n",
              "    .dataframe tbody tr th:only-of-type {\n",
              "        vertical-align: middle;\n",
              "    }\n",
              "\n",
              "    .dataframe tbody tr th {\n",
              "        vertical-align: top;\n",
              "    }\n",
              "\n",
              "    .dataframe thead th {\n",
              "        text-align: right;\n",
              "    }\n",
              "</style>\n",
              "<table border=\"1\" class=\"dataframe\">\n",
              "  <thead>\n",
              "    <tr style=\"text-align: right;\">\n",
              "      <th></th>\n",
              "      <th>Name</th>\n",
              "      <th>Age</th>\n",
              "      <th>Gender</th>\n",
              "      <th>Country</th>\n",
              "      <th>Salary</th>\n",
              "      <th>Department</th>\n",
              "      <th>Years of Experience</th>\n",
              "      <th>Education Level</th>\n",
              "    </tr>\n",
              "  </thead>\n",
              "  <tbody>\n",
              "    <tr>\n",
              "      <th>1</th>\n",
              "      <td>NaN</td>\n",
              "      <td>NaN</td>\n",
              "      <td>NaN</td>\n",
              "      <td>NaN</td>\n",
              "      <td>NaN</td>\n",
              "      <td>NaN</td>\n",
              "      <td>1.0</td>\n",
              "      <td>NaN</td>\n",
              "    </tr>\n",
              "    <tr>\n",
              "      <th>2</th>\n",
              "      <td>NaN</td>\n",
              "      <td>NaN</td>\n",
              "      <td>NaN</td>\n",
              "      <td>NaN</td>\n",
              "      <td>NaN</td>\n",
              "      <td>NaN</td>\n",
              "      <td>1.0</td>\n",
              "      <td>NaN</td>\n",
              "    </tr>\n",
              "    <tr>\n",
              "      <th>3</th>\n",
              "      <td>NaN</td>\n",
              "      <td>NaN</td>\n",
              "      <td>NaN</td>\n",
              "      <td>NaN</td>\n",
              "      <td>NaN</td>\n",
              "      <td>NaN</td>\n",
              "      <td>1.0</td>\n",
              "      <td>NaN</td>\n",
              "    </tr>\n",
              "    <tr>\n",
              "      <th>5</th>\n",
              "      <td>NaN</td>\n",
              "      <td>NaN</td>\n",
              "      <td>NaN</td>\n",
              "      <td>NaN</td>\n",
              "      <td>NaN</td>\n",
              "      <td>NaN</td>\n",
              "      <td>1.0</td>\n",
              "      <td>NaN</td>\n",
              "    </tr>\n",
              "    <tr>\n",
              "      <th>6</th>\n",
              "      <td>NaN</td>\n",
              "      <td>NaN</td>\n",
              "      <td>NaN</td>\n",
              "      <td>NaN</td>\n",
              "      <td>NaN</td>\n",
              "      <td>NaN</td>\n",
              "      <td>1.0</td>\n",
              "      <td>NaN</td>\n",
              "    </tr>\n",
              "    <tr>\n",
              "      <th>7</th>\n",
              "      <td>NaN</td>\n",
              "      <td>NaN</td>\n",
              "      <td>NaN</td>\n",
              "      <td>NaN</td>\n",
              "      <td>NaN</td>\n",
              "      <td>NaN</td>\n",
              "      <td>1.0</td>\n",
              "      <td>NaN</td>\n",
              "    </tr>\n",
              "    <tr>\n",
              "      <th>8</th>\n",
              "      <td>NaN</td>\n",
              "      <td>NaN</td>\n",
              "      <td>NaN</td>\n",
              "      <td>NaN</td>\n",
              "      <td>NaN</td>\n",
              "      <td>NaN</td>\n",
              "      <td>1.0</td>\n",
              "      <td>NaN</td>\n",
              "    </tr>\n",
              "    <tr>\n",
              "      <th>10</th>\n",
              "      <td>NaN</td>\n",
              "      <td>NaN</td>\n",
              "      <td>NaN</td>\n",
              "      <td>NaN</td>\n",
              "      <td>NaN</td>\n",
              "      <td>NaN</td>\n",
              "      <td>1.0</td>\n",
              "      <td>NaN</td>\n",
              "    </tr>\n",
              "    <tr>\n",
              "      <th>18</th>\n",
              "      <td>NaN</td>\n",
              "      <td>1.0</td>\n",
              "      <td>NaN</td>\n",
              "      <td>NaN</td>\n",
              "      <td>NaN</td>\n",
              "      <td>NaN</td>\n",
              "      <td>1.0</td>\n",
              "      <td>NaN</td>\n",
              "    </tr>\n",
              "    <tr>\n",
              "      <th>21</th>\n",
              "      <td>NaN</td>\n",
              "      <td>1.0</td>\n",
              "      <td>NaN</td>\n",
              "      <td>NaN</td>\n",
              "      <td>NaN</td>\n",
              "      <td>NaN</td>\n",
              "      <td>NaN</td>\n",
              "      <td>NaN</td>\n",
              "    </tr>\n",
              "    <tr>\n",
              "      <th>22</th>\n",
              "      <td>NaN</td>\n",
              "      <td>NaN</td>\n",
              "      <td>NaN</td>\n",
              "      <td>NaN</td>\n",
              "      <td>NaN</td>\n",
              "      <td>NaN</td>\n",
              "      <td>1.0</td>\n",
              "      <td>NaN</td>\n",
              "    </tr>\n",
              "    <tr>\n",
              "      <th>25</th>\n",
              "      <td>NaN</td>\n",
              "      <td>1.0</td>\n",
              "      <td>NaN</td>\n",
              "      <td>NaN</td>\n",
              "      <td>NaN</td>\n",
              "      <td>NaN</td>\n",
              "      <td>NaN</td>\n",
              "      <td>NaN</td>\n",
              "    </tr>\n",
              "    <tr>\n",
              "      <th>28</th>\n",
              "      <td>NaN</td>\n",
              "      <td>1.0</td>\n",
              "      <td>NaN</td>\n",
              "      <td>NaN</td>\n",
              "      <td>NaN</td>\n",
              "      <td>NaN</td>\n",
              "      <td>NaN</td>\n",
              "      <td>NaN</td>\n",
              "    </tr>\n",
              "    <tr>\n",
              "      <th>29</th>\n",
              "      <td>NaN</td>\n",
              "      <td>1.0</td>\n",
              "      <td>NaN</td>\n",
              "      <td>NaN</td>\n",
              "      <td>NaN</td>\n",
              "      <td>NaN</td>\n",
              "      <td>NaN</td>\n",
              "      <td>NaN</td>\n",
              "    </tr>\n",
              "    <tr>\n",
              "      <th>32</th>\n",
              "      <td>NaN</td>\n",
              "      <td>1.0</td>\n",
              "      <td>NaN</td>\n",
              "      <td>NaN</td>\n",
              "      <td>NaN</td>\n",
              "      <td>NaN</td>\n",
              "      <td>NaN</td>\n",
              "      <td>NaN</td>\n",
              "    </tr>\n",
              "    <tr>\n",
              "      <th>33</th>\n",
              "      <td>NaN</td>\n",
              "      <td>1.0</td>\n",
              "      <td>NaN</td>\n",
              "      <td>NaN</td>\n",
              "      <td>NaN</td>\n",
              "      <td>NaN</td>\n",
              "      <td>NaN</td>\n",
              "      <td>NaN</td>\n",
              "    </tr>\n",
              "    <tr>\n",
              "      <th>36</th>\n",
              "      <td>NaN</td>\n",
              "      <td>1.0</td>\n",
              "      <td>NaN</td>\n",
              "      <td>NaN</td>\n",
              "      <td>NaN</td>\n",
              "      <td>NaN</td>\n",
              "      <td>NaN</td>\n",
              "      <td>NaN</td>\n",
              "    </tr>\n",
              "    <tr>\n",
              "      <th>45</th>\n",
              "      <td>NaN</td>\n",
              "      <td>1.0</td>\n",
              "      <td>NaN</td>\n",
              "      <td>NaN</td>\n",
              "      <td>NaN</td>\n",
              "      <td>NaN</td>\n",
              "      <td>NaN</td>\n",
              "      <td>NaN</td>\n",
              "    </tr>\n",
              "    <tr>\n",
              "      <th>47</th>\n",
              "      <td>NaN</td>\n",
              "      <td>1.0</td>\n",
              "      <td>NaN</td>\n",
              "      <td>NaN</td>\n",
              "      <td>NaN</td>\n",
              "      <td>NaN</td>\n",
              "      <td>NaN</td>\n",
              "      <td>NaN</td>\n",
              "    </tr>\n",
              "    <tr>\n",
              "      <th>40000</th>\n",
              "      <td>NaN</td>\n",
              "      <td>NaN</td>\n",
              "      <td>NaN</td>\n",
              "      <td>NaN</td>\n",
              "      <td>1.0</td>\n",
              "      <td>NaN</td>\n",
              "      <td>NaN</td>\n",
              "      <td>NaN</td>\n",
              "    </tr>\n",
              "    <tr>\n",
              "      <th>50000</th>\n",
              "      <td>NaN</td>\n",
              "      <td>NaN</td>\n",
              "      <td>NaN</td>\n",
              "      <td>NaN</td>\n",
              "      <td>1.0</td>\n",
              "      <td>NaN</td>\n",
              "      <td>NaN</td>\n",
              "      <td>NaN</td>\n",
              "    </tr>\n",
              "    <tr>\n",
              "      <th>55000</th>\n",
              "      <td>NaN</td>\n",
              "      <td>NaN</td>\n",
              "      <td>NaN</td>\n",
              "      <td>NaN</td>\n",
              "      <td>1.0</td>\n",
              "      <td>NaN</td>\n",
              "      <td>NaN</td>\n",
              "      <td>NaN</td>\n",
              "    </tr>\n",
              "    <tr>\n",
              "      <th>60000</th>\n",
              "      <td>NaN</td>\n",
              "      <td>NaN</td>\n",
              "      <td>NaN</td>\n",
              "      <td>NaN</td>\n",
              "      <td>1.0</td>\n",
              "      <td>NaN</td>\n",
              "      <td>NaN</td>\n",
              "      <td>NaN</td>\n",
              "    </tr>\n",
              "    <tr>\n",
              "      <th>65000</th>\n",
              "      <td>NaN</td>\n",
              "      <td>NaN</td>\n",
              "      <td>NaN</td>\n",
              "      <td>NaN</td>\n",
              "      <td>1.0</td>\n",
              "      <td>NaN</td>\n",
              "      <td>NaN</td>\n",
              "      <td>NaN</td>\n",
              "    </tr>\n",
              "    <tr>\n",
              "      <th>70000</th>\n",
              "      <td>NaN</td>\n",
              "      <td>NaN</td>\n",
              "      <td>NaN</td>\n",
              "      <td>NaN</td>\n",
              "      <td>1.0</td>\n",
              "      <td>NaN</td>\n",
              "      <td>NaN</td>\n",
              "      <td>NaN</td>\n",
              "    </tr>\n",
              "    <tr>\n",
              "      <th>75000</th>\n",
              "      <td>NaN</td>\n",
              "      <td>NaN</td>\n",
              "      <td>NaN</td>\n",
              "      <td>NaN</td>\n",
              "      <td>1.0</td>\n",
              "      <td>NaN</td>\n",
              "      <td>NaN</td>\n",
              "      <td>NaN</td>\n",
              "    </tr>\n",
              "    <tr>\n",
              "      <th>80000</th>\n",
              "      <td>NaN</td>\n",
              "      <td>NaN</td>\n",
              "      <td>NaN</td>\n",
              "      <td>NaN</td>\n",
              "      <td>1.0</td>\n",
              "      <td>NaN</td>\n",
              "      <td>NaN</td>\n",
              "      <td>NaN</td>\n",
              "    </tr>\n",
              "    <tr>\n",
              "      <th>90000</th>\n",
              "      <td>NaN</td>\n",
              "      <td>NaN</td>\n",
              "      <td>NaN</td>\n",
              "      <td>NaN</td>\n",
              "      <td>1.0</td>\n",
              "      <td>NaN</td>\n",
              "      <td>NaN</td>\n",
              "      <td>NaN</td>\n",
              "    </tr>\n",
              "    <tr>\n",
              "      <th>100000</th>\n",
              "      <td>NaN</td>\n",
              "      <td>NaN</td>\n",
              "      <td>NaN</td>\n",
              "      <td>NaN</td>\n",
              "      <td>1.0</td>\n",
              "      <td>NaN</td>\n",
              "      <td>NaN</td>\n",
              "      <td>NaN</td>\n",
              "    </tr>\n",
              "    <tr>\n",
              "      <th>Alice</th>\n",
              "      <td>1.0</td>\n",
              "      <td>NaN</td>\n",
              "      <td>NaN</td>\n",
              "      <td>NaN</td>\n",
              "      <td>NaN</td>\n",
              "      <td>NaN</td>\n",
              "      <td>NaN</td>\n",
              "      <td>NaN</td>\n",
              "    </tr>\n",
              "    <tr>\n",
              "      <th>Australia</th>\n",
              "      <td>NaN</td>\n",
              "      <td>NaN</td>\n",
              "      <td>NaN</td>\n",
              "      <td>2.0</td>\n",
              "      <td>NaN</td>\n",
              "      <td>NaN</td>\n",
              "      <td>NaN</td>\n",
              "      <td>NaN</td>\n",
              "    </tr>\n",
              "    <tr>\n",
              "      <th>Bachelor</th>\n",
              "      <td>NaN</td>\n",
              "      <td>NaN</td>\n",
              "      <td>NaN</td>\n",
              "      <td>NaN</td>\n",
              "      <td>NaN</td>\n",
              "      <td>NaN</td>\n",
              "      <td>NaN</td>\n",
              "      <td>4.0</td>\n",
              "    </tr>\n",
              "    <tr>\n",
              "      <th>Bob</th>\n",
              "      <td>1.0</td>\n",
              "      <td>NaN</td>\n",
              "      <td>NaN</td>\n",
              "      <td>NaN</td>\n",
              "      <td>NaN</td>\n",
              "      <td>NaN</td>\n",
              "      <td>NaN</td>\n",
              "      <td>NaN</td>\n",
              "    </tr>\n",
              "    <tr>\n",
              "      <th>Canada</th>\n",
              "      <td>NaN</td>\n",
              "      <td>NaN</td>\n",
              "      <td>NaN</td>\n",
              "      <td>2.0</td>\n",
              "      <td>NaN</td>\n",
              "      <td>NaN</td>\n",
              "      <td>NaN</td>\n",
              "      <td>NaN</td>\n",
              "    </tr>\n",
              "    <tr>\n",
              "      <th>Charlie</th>\n",
              "      <td>1.0</td>\n",
              "      <td>NaN</td>\n",
              "      <td>NaN</td>\n",
              "      <td>NaN</td>\n",
              "      <td>NaN</td>\n",
              "      <td>NaN</td>\n",
              "      <td>NaN</td>\n",
              "      <td>NaN</td>\n",
              "    </tr>\n",
              "    <tr>\n",
              "      <th>David</th>\n",
              "      <td>1.0</td>\n",
              "      <td>NaN</td>\n",
              "      <td>NaN</td>\n",
              "      <td>NaN</td>\n",
              "      <td>NaN</td>\n",
              "      <td>NaN</td>\n",
              "      <td>NaN</td>\n",
              "      <td>NaN</td>\n",
              "    </tr>\n",
              "    <tr>\n",
              "      <th>Emily</th>\n",
              "      <td>1.0</td>\n",
              "      <td>NaN</td>\n",
              "      <td>NaN</td>\n",
              "      <td>NaN</td>\n",
              "      <td>NaN</td>\n",
              "      <td>NaN</td>\n",
              "      <td>NaN</td>\n",
              "      <td>NaN</td>\n",
              "    </tr>\n",
              "    <tr>\n",
              "      <th>Female</th>\n",
              "      <td>NaN</td>\n",
              "      <td>NaN</td>\n",
              "      <td>4.0</td>\n",
              "      <td>NaN</td>\n",
              "      <td>NaN</td>\n",
              "      <td>NaN</td>\n",
              "      <td>NaN</td>\n",
              "      <td>NaN</td>\n",
              "    </tr>\n",
              "    <tr>\n",
              "      <th>Finance</th>\n",
              "      <td>NaN</td>\n",
              "      <td>NaN</td>\n",
              "      <td>NaN</td>\n",
              "      <td>NaN</td>\n",
              "      <td>NaN</td>\n",
              "      <td>2.0</td>\n",
              "      <td>NaN</td>\n",
              "      <td>NaN</td>\n",
              "    </tr>\n",
              "    <tr>\n",
              "      <th>Frank</th>\n",
              "      <td>1.0</td>\n",
              "      <td>NaN</td>\n",
              "      <td>NaN</td>\n",
              "      <td>NaN</td>\n",
              "      <td>NaN</td>\n",
              "      <td>NaN</td>\n",
              "      <td>NaN</td>\n",
              "      <td>NaN</td>\n",
              "    </tr>\n",
              "    <tr>\n",
              "      <th>George</th>\n",
              "      <td>1.0</td>\n",
              "      <td>NaN</td>\n",
              "      <td>NaN</td>\n",
              "      <td>NaN</td>\n",
              "      <td>NaN</td>\n",
              "      <td>NaN</td>\n",
              "      <td>NaN</td>\n",
              "      <td>NaN</td>\n",
              "    </tr>\n",
              "    <tr>\n",
              "      <th>HR</th>\n",
              "      <td>NaN</td>\n",
              "      <td>NaN</td>\n",
              "      <td>NaN</td>\n",
              "      <td>NaN</td>\n",
              "      <td>NaN</td>\n",
              "      <td>2.0</td>\n",
              "      <td>NaN</td>\n",
              "      <td>NaN</td>\n",
              "    </tr>\n",
              "    <tr>\n",
              "      <th>Helen</th>\n",
              "      <td>1.0</td>\n",
              "      <td>NaN</td>\n",
              "      <td>NaN</td>\n",
              "      <td>NaN</td>\n",
              "      <td>NaN</td>\n",
              "      <td>NaN</td>\n",
              "      <td>NaN</td>\n",
              "      <td>NaN</td>\n",
              "    </tr>\n",
              "    <tr>\n",
              "      <th>High School</th>\n",
              "      <td>NaN</td>\n",
              "      <td>NaN</td>\n",
              "      <td>NaN</td>\n",
              "      <td>NaN</td>\n",
              "      <td>NaN</td>\n",
              "      <td>NaN</td>\n",
              "      <td>NaN</td>\n",
              "      <td>1.0</td>\n",
              "    </tr>\n",
              "    <tr>\n",
              "      <th>IT</th>\n",
              "      <td>NaN</td>\n",
              "      <td>NaN</td>\n",
              "      <td>NaN</td>\n",
              "      <td>NaN</td>\n",
              "      <td>NaN</td>\n",
              "      <td>3.0</td>\n",
              "      <td>NaN</td>\n",
              "      <td>NaN</td>\n",
              "    </tr>\n",
              "    <tr>\n",
              "      <th>Irene</th>\n",
              "      <td>1.0</td>\n",
              "      <td>NaN</td>\n",
              "      <td>NaN</td>\n",
              "      <td>NaN</td>\n",
              "      <td>NaN</td>\n",
              "      <td>NaN</td>\n",
              "      <td>NaN</td>\n",
              "      <td>NaN</td>\n",
              "    </tr>\n",
              "    <tr>\n",
              "      <th>Jack</th>\n",
              "      <td>1.0</td>\n",
              "      <td>NaN</td>\n",
              "      <td>NaN</td>\n",
              "      <td>NaN</td>\n",
              "      <td>NaN</td>\n",
              "      <td>NaN</td>\n",
              "      <td>NaN</td>\n",
              "      <td>NaN</td>\n",
              "    </tr>\n",
              "    <tr>\n",
              "      <th>Male</th>\n",
              "      <td>NaN</td>\n",
              "      <td>NaN</td>\n",
              "      <td>6.0</td>\n",
              "      <td>NaN</td>\n",
              "      <td>NaN</td>\n",
              "      <td>NaN</td>\n",
              "      <td>NaN</td>\n",
              "      <td>NaN</td>\n",
              "    </tr>\n",
              "    <tr>\n",
              "      <th>Marketing</th>\n",
              "      <td>NaN</td>\n",
              "      <td>NaN</td>\n",
              "      <td>NaN</td>\n",
              "      <td>NaN</td>\n",
              "      <td>NaN</td>\n",
              "      <td>3.0</td>\n",
              "      <td>NaN</td>\n",
              "      <td>NaN</td>\n",
              "    </tr>\n",
              "    <tr>\n",
              "      <th>Master</th>\n",
              "      <td>NaN</td>\n",
              "      <td>NaN</td>\n",
              "      <td>NaN</td>\n",
              "      <td>NaN</td>\n",
              "      <td>NaN</td>\n",
              "      <td>NaN</td>\n",
              "      <td>NaN</td>\n",
              "      <td>3.0</td>\n",
              "    </tr>\n",
              "    <tr>\n",
              "      <th>PhD</th>\n",
              "      <td>NaN</td>\n",
              "      <td>NaN</td>\n",
              "      <td>NaN</td>\n",
              "      <td>NaN</td>\n",
              "      <td>NaN</td>\n",
              "      <td>NaN</td>\n",
              "      <td>NaN</td>\n",
              "      <td>2.0</td>\n",
              "    </tr>\n",
              "    <tr>\n",
              "      <th>UK</th>\n",
              "      <td>NaN</td>\n",
              "      <td>NaN</td>\n",
              "      <td>NaN</td>\n",
              "      <td>2.0</td>\n",
              "      <td>NaN</td>\n",
              "      <td>NaN</td>\n",
              "      <td>NaN</td>\n",
              "      <td>NaN</td>\n",
              "    </tr>\n",
              "    <tr>\n",
              "      <th>USA</th>\n",
              "      <td>NaN</td>\n",
              "      <td>NaN</td>\n",
              "      <td>NaN</td>\n",
              "      <td>4.0</td>\n",
              "      <td>NaN</td>\n",
              "      <td>NaN</td>\n",
              "      <td>NaN</td>\n",
              "      <td>NaN</td>\n",
              "    </tr>\n",
              "  </tbody>\n",
              "</table>\n",
              "</div>\n",
              "      <button class=\"colab-df-convert\" onclick=\"convertToInteractive('df-aba7a410-f7e2-4128-9c18-edb2c1633a47')\"\n",
              "              title=\"Convert this dataframe to an interactive table.\"\n",
              "              style=\"display:none;\">\n",
              "\n",
              "  <svg xmlns=\"http://www.w3.org/2000/svg\" height=\"24px\"viewBox=\"0 0 24 24\"\n",
              "       width=\"24px\">\n",
              "    <path d=\"M0 0h24v24H0V0z\" fill=\"none\"/>\n",
              "    <path d=\"M18.56 5.44l.94 2.06.94-2.06 2.06-.94-2.06-.94-.94-2.06-.94 2.06-2.06.94zm-11 1L8.5 8.5l.94-2.06 2.06-.94-2.06-.94L8.5 2.5l-.94 2.06-2.06.94zm10 10l.94 2.06.94-2.06 2.06-.94-2.06-.94-.94-2.06-.94 2.06-2.06.94z\"/><path d=\"M17.41 7.96l-1.37-1.37c-.4-.4-.92-.59-1.43-.59-.52 0-1.04.2-1.43.59L10.3 9.45l-7.72 7.72c-.78.78-.78 2.05 0 2.83L4 21.41c.39.39.9.59 1.41.59.51 0 1.02-.2 1.41-.59l7.78-7.78 2.81-2.81c.8-.78.8-2.07 0-2.86zM5.41 20L4 18.59l7.72-7.72 1.47 1.35L5.41 20z\"/>\n",
              "  </svg>\n",
              "      </button>\n",
              "\n",
              "\n",
              "\n",
              "    <div id=\"df-895a7abf-c250-4840-b4de-e205ca5bc0dc\">\n",
              "      <button class=\"colab-df-quickchart\" onclick=\"quickchart('df-895a7abf-c250-4840-b4de-e205ca5bc0dc')\"\n",
              "              title=\"Suggest charts.\"\n",
              "              style=\"display:none;\">\n",
              "\n",
              "<svg xmlns=\"http://www.w3.org/2000/svg\" height=\"24px\"viewBox=\"0 0 24 24\"\n",
              "     width=\"24px\">\n",
              "    <g>\n",
              "        <path d=\"M19 3H5c-1.1 0-2 .9-2 2v14c0 1.1.9 2 2 2h14c1.1 0 2-.9 2-2V5c0-1.1-.9-2-2-2zM9 17H7v-7h2v7zm4 0h-2V7h2v10zm4 0h-2v-4h2v4z\"/>\n",
              "    </g>\n",
              "</svg>\n",
              "      </button>\n",
              "    </div>\n",
              "\n",
              "<style>\n",
              "  .colab-df-quickchart {\n",
              "    background-color: #E8F0FE;\n",
              "    border: none;\n",
              "    border-radius: 50%;\n",
              "    cursor: pointer;\n",
              "    display: none;\n",
              "    fill: #1967D2;\n",
              "    height: 32px;\n",
              "    padding: 0 0 0 0;\n",
              "    width: 32px;\n",
              "  }\n",
              "\n",
              "  .colab-df-quickchart:hover {\n",
              "    background-color: #E2EBFA;\n",
              "    box-shadow: 0px 1px 2px rgba(60, 64, 67, 0.3), 0px 1px 3px 1px rgba(60, 64, 67, 0.15);\n",
              "    fill: #174EA6;\n",
              "  }\n",
              "\n",
              "  [theme=dark] .colab-df-quickchart {\n",
              "    background-color: #3B4455;\n",
              "    fill: #D2E3FC;\n",
              "  }\n",
              "\n",
              "  [theme=dark] .colab-df-quickchart:hover {\n",
              "    background-color: #434B5C;\n",
              "    box-shadow: 0px 1px 3px 1px rgba(0, 0, 0, 0.15);\n",
              "    filter: drop-shadow(0px 1px 2px rgba(0, 0, 0, 0.3));\n",
              "    fill: #FFFFFF;\n",
              "  }\n",
              "</style>\n",
              "\n",
              "    <script>\n",
              "      async function quickchart(key) {\n",
              "        const containerElement = document.querySelector('#' + key);\n",
              "        const charts = await google.colab.kernel.invokeFunction(\n",
              "            'suggestCharts', [key], {});\n",
              "      }\n",
              "    </script>\n",
              "\n",
              "      <script>\n",
              "\n",
              "function displayQuickchartButton(domScope) {\n",
              "  let quickchartButtonEl =\n",
              "    domScope.querySelector('#df-895a7abf-c250-4840-b4de-e205ca5bc0dc button.colab-df-quickchart');\n",
              "  quickchartButtonEl.style.display =\n",
              "    google.colab.kernel.accessAllowed ? 'block' : 'none';\n",
              "}\n",
              "\n",
              "        displayQuickchartButton(document);\n",
              "      </script>\n",
              "      <style>\n",
              "    .colab-df-container {\n",
              "      display:flex;\n",
              "      flex-wrap:wrap;\n",
              "      gap: 12px;\n",
              "    }\n",
              "\n",
              "    .colab-df-convert {\n",
              "      background-color: #E8F0FE;\n",
              "      border: none;\n",
              "      border-radius: 50%;\n",
              "      cursor: pointer;\n",
              "      display: none;\n",
              "      fill: #1967D2;\n",
              "      height: 32px;\n",
              "      padding: 0 0 0 0;\n",
              "      width: 32px;\n",
              "    }\n",
              "\n",
              "    .colab-df-convert:hover {\n",
              "      background-color: #E2EBFA;\n",
              "      box-shadow: 0px 1px 2px rgba(60, 64, 67, 0.3), 0px 1px 3px 1px rgba(60, 64, 67, 0.15);\n",
              "      fill: #174EA6;\n",
              "    }\n",
              "\n",
              "    [theme=dark] .colab-df-convert {\n",
              "      background-color: #3B4455;\n",
              "      fill: #D2E3FC;\n",
              "    }\n",
              "\n",
              "    [theme=dark] .colab-df-convert:hover {\n",
              "      background-color: #434B5C;\n",
              "      box-shadow: 0px 1px 3px 1px rgba(0, 0, 0, 0.15);\n",
              "      filter: drop-shadow(0px 1px 2px rgba(0, 0, 0, 0.3));\n",
              "      fill: #FFFFFF;\n",
              "    }\n",
              "  </style>\n",
              "\n",
              "      <script>\n",
              "        const buttonEl =\n",
              "          document.querySelector('#df-aba7a410-f7e2-4128-9c18-edb2c1633a47 button.colab-df-convert');\n",
              "        buttonEl.style.display =\n",
              "          google.colab.kernel.accessAllowed ? 'block' : 'none';\n",
              "\n",
              "        async function convertToInteractive(key) {\n",
              "          const element = document.querySelector('#df-aba7a410-f7e2-4128-9c18-edb2c1633a47');\n",
              "          const dataTable =\n",
              "            await google.colab.kernel.invokeFunction('convertToInteractive',\n",
              "                                                     [key], {});\n",
              "          if (!dataTable) return;\n",
              "\n",
              "          const docLinkHtml = 'Like what you see? Visit the ' +\n",
              "            '<a target=\"_blank\" href=https://colab.research.google.com/notebooks/data_table.ipynb>data table notebook</a>'\n",
              "            + ' to learn more about interactive tables.';\n",
              "          element.innerHTML = '';\n",
              "          dataTable['output_type'] = 'display_data';\n",
              "          await google.colab.output.renderOutput(dataTable, element);\n",
              "          const docLink = document.createElement('div');\n",
              "          docLink.innerHTML = docLinkHtml;\n",
              "          element.appendChild(docLink);\n",
              "        }\n",
              "      </script>\n",
              "    </div>\n",
              "  </div>\n"
            ]
          },
          "metadata": {},
          "execution_count": 451
        }
      ],
      "source": [
        "df.apply (pd.Series.value_counts) #view uniue values & counts for all columns"
      ]
    },
    {
      "cell_type": "code",
      "execution_count": null,
      "id": "78db9657",
      "metadata": {
        "id": "78db9657",
        "colab": {
          "base_uri": "https://localhost:8080/",
          "height": 363
        },
        "outputId": "786c9a6c-f1ee-479c-da7d-5831f8a65371"
      },
      "outputs": [
        {
          "output_type": "execute_result",
          "data": {
            "text/plain": [
              "         Name  Age  Gender    Country  Salary Department  Years of Experience  \\\n",
              "1st     Alice   25  Female        USA   50000  Marketing                    3   \n",
              "2nd       Bob   32    Male     Canada   75000    Finance                    8   \n",
              "3rd   Charlie   18    Male        USA   40000  Marketing                    1   \n",
              "4th     David   47    Male  Australia   90000         IT                   18   \n",
              "5th     Emily   29  Female         UK   60000         IT                    6   \n",
              "6th     Frank   36    Male     Canada   80000         HR                   10   \n",
              "7th    George   21    Male        USA   55000  Marketing                    2   \n",
              "8th     Helen   45  Female  Australia  100000         IT                   22   \n",
              "9th     Irene   28  Female         UK   65000         HR                    5   \n",
              "10th     Jack   33    Male        USA   70000    Finance                    7   \n",
              "\n",
              "     Education Level  \n",
              "1st         Bachelor  \n",
              "2nd           Master  \n",
              "3rd      High School  \n",
              "4th              PhD  \n",
              "5th         Bachelor  \n",
              "6th           Master  \n",
              "7th         Bachelor  \n",
              "8th              PhD  \n",
              "9th         Bachelor  \n",
              "10th          Master  "
            ],
            "text/html": [
              "\n",
              "\n",
              "  <div id=\"df-2d7e7400-ac09-46f4-9e3b-3301069ece1a\">\n",
              "    <div class=\"colab-df-container\">\n",
              "      <div>\n",
              "<style scoped>\n",
              "    .dataframe tbody tr th:only-of-type {\n",
              "        vertical-align: middle;\n",
              "    }\n",
              "\n",
              "    .dataframe tbody tr th {\n",
              "        vertical-align: top;\n",
              "    }\n",
              "\n",
              "    .dataframe thead th {\n",
              "        text-align: right;\n",
              "    }\n",
              "</style>\n",
              "<table border=\"1\" class=\"dataframe\">\n",
              "  <thead>\n",
              "    <tr style=\"text-align: right;\">\n",
              "      <th></th>\n",
              "      <th>Name</th>\n",
              "      <th>Age</th>\n",
              "      <th>Gender</th>\n",
              "      <th>Country</th>\n",
              "      <th>Salary</th>\n",
              "      <th>Department</th>\n",
              "      <th>Years of Experience</th>\n",
              "      <th>Education Level</th>\n",
              "    </tr>\n",
              "  </thead>\n",
              "  <tbody>\n",
              "    <tr>\n",
              "      <th>1st</th>\n",
              "      <td>Alice</td>\n",
              "      <td>25</td>\n",
              "      <td>Female</td>\n",
              "      <td>USA</td>\n",
              "      <td>50000</td>\n",
              "      <td>Marketing</td>\n",
              "      <td>3</td>\n",
              "      <td>Bachelor</td>\n",
              "    </tr>\n",
              "    <tr>\n",
              "      <th>2nd</th>\n",
              "      <td>Bob</td>\n",
              "      <td>32</td>\n",
              "      <td>Male</td>\n",
              "      <td>Canada</td>\n",
              "      <td>75000</td>\n",
              "      <td>Finance</td>\n",
              "      <td>8</td>\n",
              "      <td>Master</td>\n",
              "    </tr>\n",
              "    <tr>\n",
              "      <th>3rd</th>\n",
              "      <td>Charlie</td>\n",
              "      <td>18</td>\n",
              "      <td>Male</td>\n",
              "      <td>USA</td>\n",
              "      <td>40000</td>\n",
              "      <td>Marketing</td>\n",
              "      <td>1</td>\n",
              "      <td>High School</td>\n",
              "    </tr>\n",
              "    <tr>\n",
              "      <th>4th</th>\n",
              "      <td>David</td>\n",
              "      <td>47</td>\n",
              "      <td>Male</td>\n",
              "      <td>Australia</td>\n",
              "      <td>90000</td>\n",
              "      <td>IT</td>\n",
              "      <td>18</td>\n",
              "      <td>PhD</td>\n",
              "    </tr>\n",
              "    <tr>\n",
              "      <th>5th</th>\n",
              "      <td>Emily</td>\n",
              "      <td>29</td>\n",
              "      <td>Female</td>\n",
              "      <td>UK</td>\n",
              "      <td>60000</td>\n",
              "      <td>IT</td>\n",
              "      <td>6</td>\n",
              "      <td>Bachelor</td>\n",
              "    </tr>\n",
              "    <tr>\n",
              "      <th>6th</th>\n",
              "      <td>Frank</td>\n",
              "      <td>36</td>\n",
              "      <td>Male</td>\n",
              "      <td>Canada</td>\n",
              "      <td>80000</td>\n",
              "      <td>HR</td>\n",
              "      <td>10</td>\n",
              "      <td>Master</td>\n",
              "    </tr>\n",
              "    <tr>\n",
              "      <th>7th</th>\n",
              "      <td>George</td>\n",
              "      <td>21</td>\n",
              "      <td>Male</td>\n",
              "      <td>USA</td>\n",
              "      <td>55000</td>\n",
              "      <td>Marketing</td>\n",
              "      <td>2</td>\n",
              "      <td>Bachelor</td>\n",
              "    </tr>\n",
              "    <tr>\n",
              "      <th>8th</th>\n",
              "      <td>Helen</td>\n",
              "      <td>45</td>\n",
              "      <td>Female</td>\n",
              "      <td>Australia</td>\n",
              "      <td>100000</td>\n",
              "      <td>IT</td>\n",
              "      <td>22</td>\n",
              "      <td>PhD</td>\n",
              "    </tr>\n",
              "    <tr>\n",
              "      <th>9th</th>\n",
              "      <td>Irene</td>\n",
              "      <td>28</td>\n",
              "      <td>Female</td>\n",
              "      <td>UK</td>\n",
              "      <td>65000</td>\n",
              "      <td>HR</td>\n",
              "      <td>5</td>\n",
              "      <td>Bachelor</td>\n",
              "    </tr>\n",
              "    <tr>\n",
              "      <th>10th</th>\n",
              "      <td>Jack</td>\n",
              "      <td>33</td>\n",
              "      <td>Male</td>\n",
              "      <td>USA</td>\n",
              "      <td>70000</td>\n",
              "      <td>Finance</td>\n",
              "      <td>7</td>\n",
              "      <td>Master</td>\n",
              "    </tr>\n",
              "  </tbody>\n",
              "</table>\n",
              "</div>\n",
              "      <button class=\"colab-df-convert\" onclick=\"convertToInteractive('df-2d7e7400-ac09-46f4-9e3b-3301069ece1a')\"\n",
              "              title=\"Convert this dataframe to an interactive table.\"\n",
              "              style=\"display:none;\">\n",
              "\n",
              "  <svg xmlns=\"http://www.w3.org/2000/svg\" height=\"24px\"viewBox=\"0 0 24 24\"\n",
              "       width=\"24px\">\n",
              "    <path d=\"M0 0h24v24H0V0z\" fill=\"none\"/>\n",
              "    <path d=\"M18.56 5.44l.94 2.06.94-2.06 2.06-.94-2.06-.94-.94-2.06-.94 2.06-2.06.94zm-11 1L8.5 8.5l.94-2.06 2.06-.94-2.06-.94L8.5 2.5l-.94 2.06-2.06.94zm10 10l.94 2.06.94-2.06 2.06-.94-2.06-.94-.94-2.06-.94 2.06-2.06.94z\"/><path d=\"M17.41 7.96l-1.37-1.37c-.4-.4-.92-.59-1.43-.59-.52 0-1.04.2-1.43.59L10.3 9.45l-7.72 7.72c-.78.78-.78 2.05 0 2.83L4 21.41c.39.39.9.59 1.41.59.51 0 1.02-.2 1.41-.59l7.78-7.78 2.81-2.81c.8-.78.8-2.07 0-2.86zM5.41 20L4 18.59l7.72-7.72 1.47 1.35L5.41 20z\"/>\n",
              "  </svg>\n",
              "      </button>\n",
              "\n",
              "\n",
              "\n",
              "    <div id=\"df-c45e6d9e-7df6-48f7-8a9a-8becfcdeda14\">\n",
              "      <button class=\"colab-df-quickchart\" onclick=\"quickchart('df-c45e6d9e-7df6-48f7-8a9a-8becfcdeda14')\"\n",
              "              title=\"Suggest charts.\"\n",
              "              style=\"display:none;\">\n",
              "\n",
              "<svg xmlns=\"http://www.w3.org/2000/svg\" height=\"24px\"viewBox=\"0 0 24 24\"\n",
              "     width=\"24px\">\n",
              "    <g>\n",
              "        <path d=\"M19 3H5c-1.1 0-2 .9-2 2v14c0 1.1.9 2 2 2h14c1.1 0 2-.9 2-2V5c0-1.1-.9-2-2-2zM9 17H7v-7h2v7zm4 0h-2V7h2v10zm4 0h-2v-4h2v4z\"/>\n",
              "    </g>\n",
              "</svg>\n",
              "      </button>\n",
              "    </div>\n",
              "\n",
              "<style>\n",
              "  .colab-df-quickchart {\n",
              "    background-color: #E8F0FE;\n",
              "    border: none;\n",
              "    border-radius: 50%;\n",
              "    cursor: pointer;\n",
              "    display: none;\n",
              "    fill: #1967D2;\n",
              "    height: 32px;\n",
              "    padding: 0 0 0 0;\n",
              "    width: 32px;\n",
              "  }\n",
              "\n",
              "  .colab-df-quickchart:hover {\n",
              "    background-color: #E2EBFA;\n",
              "    box-shadow: 0px 1px 2px rgba(60, 64, 67, 0.3), 0px 1px 3px 1px rgba(60, 64, 67, 0.15);\n",
              "    fill: #174EA6;\n",
              "  }\n",
              "\n",
              "  [theme=dark] .colab-df-quickchart {\n",
              "    background-color: #3B4455;\n",
              "    fill: #D2E3FC;\n",
              "  }\n",
              "\n",
              "  [theme=dark] .colab-df-quickchart:hover {\n",
              "    background-color: #434B5C;\n",
              "    box-shadow: 0px 1px 3px 1px rgba(0, 0, 0, 0.15);\n",
              "    filter: drop-shadow(0px 1px 2px rgba(0, 0, 0, 0.3));\n",
              "    fill: #FFFFFF;\n",
              "  }\n",
              "</style>\n",
              "\n",
              "    <script>\n",
              "      async function quickchart(key) {\n",
              "        const containerElement = document.querySelector('#' + key);\n",
              "        const charts = await google.colab.kernel.invokeFunction(\n",
              "            'suggestCharts', [key], {});\n",
              "      }\n",
              "    </script>\n",
              "\n",
              "      <script>\n",
              "\n",
              "function displayQuickchartButton(domScope) {\n",
              "  let quickchartButtonEl =\n",
              "    domScope.querySelector('#df-c45e6d9e-7df6-48f7-8a9a-8becfcdeda14 button.colab-df-quickchart');\n",
              "  quickchartButtonEl.style.display =\n",
              "    google.colab.kernel.accessAllowed ? 'block' : 'none';\n",
              "}\n",
              "\n",
              "        displayQuickchartButton(document);\n",
              "      </script>\n",
              "      <style>\n",
              "    .colab-df-container {\n",
              "      display:flex;\n",
              "      flex-wrap:wrap;\n",
              "      gap: 12px;\n",
              "    }\n",
              "\n",
              "    .colab-df-convert {\n",
              "      background-color: #E8F0FE;\n",
              "      border: none;\n",
              "      border-radius: 50%;\n",
              "      cursor: pointer;\n",
              "      display: none;\n",
              "      fill: #1967D2;\n",
              "      height: 32px;\n",
              "      padding: 0 0 0 0;\n",
              "      width: 32px;\n",
              "    }\n",
              "\n",
              "    .colab-df-convert:hover {\n",
              "      background-color: #E2EBFA;\n",
              "      box-shadow: 0px 1px 2px rgba(60, 64, 67, 0.3), 0px 1px 3px 1px rgba(60, 64, 67, 0.15);\n",
              "      fill: #174EA6;\n",
              "    }\n",
              "\n",
              "    [theme=dark] .colab-df-convert {\n",
              "      background-color: #3B4455;\n",
              "      fill: #D2E3FC;\n",
              "    }\n",
              "\n",
              "    [theme=dark] .colab-df-convert:hover {\n",
              "      background-color: #434B5C;\n",
              "      box-shadow: 0px 1px 3px 1px rgba(0, 0, 0, 0.15);\n",
              "      filter: drop-shadow(0px 1px 2px rgba(0, 0, 0, 0.3));\n",
              "      fill: #FFFFFF;\n",
              "    }\n",
              "  </style>\n",
              "\n",
              "      <script>\n",
              "        const buttonEl =\n",
              "          document.querySelector('#df-2d7e7400-ac09-46f4-9e3b-3301069ece1a button.colab-df-convert');\n",
              "        buttonEl.style.display =\n",
              "          google.colab.kernel.accessAllowed ? 'block' : 'none';\n",
              "\n",
              "        async function convertToInteractive(key) {\n",
              "          const element = document.querySelector('#df-2d7e7400-ac09-46f4-9e3b-3301069ece1a');\n",
              "          const dataTable =\n",
              "            await google.colab.kernel.invokeFunction('convertToInteractive',\n",
              "                                                     [key], {});\n",
              "          if (!dataTable) return;\n",
              "\n",
              "          const docLinkHtml = 'Like what you see? Visit the ' +\n",
              "            '<a target=\"_blank\" href=https://colab.research.google.com/notebooks/data_table.ipynb>data table notebook</a>'\n",
              "            + ' to learn more about interactive tables.';\n",
              "          element.innerHTML = '';\n",
              "          dataTable['output_type'] = 'display_data';\n",
              "          await google.colab.output.renderOutput(dataTable, element);\n",
              "          const docLink = document.createElement('div');\n",
              "          docLink.innerHTML = docLinkHtml;\n",
              "          element.appendChild(docLink);\n",
              "        }\n",
              "      </script>\n",
              "    </div>\n",
              "  </div>\n"
            ]
          },
          "metadata": {},
          "execution_count": 452
        }
      ],
      "source": [
        "#Enter string in index\n",
        "df.index=['1st','2nd','3rd','4th','5th','6th','7th','8th','9th','10th']\n",
        "df"
      ]
    },
    {
      "cell_type": "code",
      "execution_count": null,
      "id": "eb504489",
      "metadata": {
        "id": "eb504489",
        "colab": {
          "base_uri": "https://localhost:8080/"
        },
        "outputId": "ef212df1-eb1a-4e6f-d239-f66f2353332c"
      },
      "outputs": [
        {
          "output_type": "execute_result",
          "data": {
            "text/plain": [
              "Index(['1st', '2nd', '3rd', '4th', '5th', '6th', '7th', '8th', '9th', '10th'], dtype='object')"
            ]
          },
          "metadata": {},
          "execution_count": 453
        }
      ],
      "source": [
        "df.index"
      ]
    },
    {
      "cell_type": "code",
      "execution_count": null,
      "id": "ee69847f",
      "metadata": {
        "id": "ee69847f",
        "colab": {
          "base_uri": "https://localhost:8080/"
        },
        "outputId": "56179ba4-838c-44a9-ae0b-e3966cdad95d"
      },
      "outputs": [
        {
          "output_type": "execute_result",
          "data": {
            "text/plain": [
              "Index(['Name', 'Age', 'Gender', 'Country', 'Salary', 'Department',\n",
              "       'Years of Experience', 'Education Level'],\n",
              "      dtype='object')"
            ]
          },
          "metadata": {},
          "execution_count": 454
        }
      ],
      "source": [
        "df.columns"
      ]
    },
    {
      "cell_type": "code",
      "execution_count": null,
      "id": "b6cebea5",
      "metadata": {
        "id": "b6cebea5",
        "colab": {
          "base_uri": "https://localhost:8080/"
        },
        "outputId": "87270600-c9e0-47b8-d018-8746dd6996cb"
      },
      "outputs": [
        {
          "output_type": "execute_result",
          "data": {
            "text/plain": [
              "1st     25\n",
              "2nd     32\n",
              "3rd     18\n",
              "4th     47\n",
              "5th     29\n",
              "6th     36\n",
              "7th     21\n",
              "8th     45\n",
              "9th     28\n",
              "10th    33\n",
              "Name: Age, dtype: int64"
            ]
          },
          "metadata": {},
          "execution_count": 455
        }
      ],
      "source": [
        "df['Age'] # return column with label col as series"
      ]
    },
    {
      "cell_type": "code",
      "execution_count": null,
      "id": "2cb7be6c",
      "metadata": {
        "id": "2cb7be6c",
        "colab": {
          "base_uri": "https://localhost:8080/",
          "height": 363
        },
        "outputId": "df5cfe21-7507-4414-eb1d-46f8990ec5fa"
      },
      "outputs": [
        {
          "output_type": "execute_result",
          "data": {
            "text/plain": [
              "      Age  Salary\n",
              "1st    25   50000\n",
              "2nd    32   75000\n",
              "3rd    18   40000\n",
              "4th    47   90000\n",
              "5th    29   60000\n",
              "6th    36   80000\n",
              "7th    21   55000\n",
              "8th    45  100000\n",
              "9th    28   65000\n",
              "10th   33   70000"
            ],
            "text/html": [
              "\n",
              "\n",
              "  <div id=\"df-468da8f1-e5be-47de-87bb-6461ff399e76\">\n",
              "    <div class=\"colab-df-container\">\n",
              "      <div>\n",
              "<style scoped>\n",
              "    .dataframe tbody tr th:only-of-type {\n",
              "        vertical-align: middle;\n",
              "    }\n",
              "\n",
              "    .dataframe tbody tr th {\n",
              "        vertical-align: top;\n",
              "    }\n",
              "\n",
              "    .dataframe thead th {\n",
              "        text-align: right;\n",
              "    }\n",
              "</style>\n",
              "<table border=\"1\" class=\"dataframe\">\n",
              "  <thead>\n",
              "    <tr style=\"text-align: right;\">\n",
              "      <th></th>\n",
              "      <th>Age</th>\n",
              "      <th>Salary</th>\n",
              "    </tr>\n",
              "  </thead>\n",
              "  <tbody>\n",
              "    <tr>\n",
              "      <th>1st</th>\n",
              "      <td>25</td>\n",
              "      <td>50000</td>\n",
              "    </tr>\n",
              "    <tr>\n",
              "      <th>2nd</th>\n",
              "      <td>32</td>\n",
              "      <td>75000</td>\n",
              "    </tr>\n",
              "    <tr>\n",
              "      <th>3rd</th>\n",
              "      <td>18</td>\n",
              "      <td>40000</td>\n",
              "    </tr>\n",
              "    <tr>\n",
              "      <th>4th</th>\n",
              "      <td>47</td>\n",
              "      <td>90000</td>\n",
              "    </tr>\n",
              "    <tr>\n",
              "      <th>5th</th>\n",
              "      <td>29</td>\n",
              "      <td>60000</td>\n",
              "    </tr>\n",
              "    <tr>\n",
              "      <th>6th</th>\n",
              "      <td>36</td>\n",
              "      <td>80000</td>\n",
              "    </tr>\n",
              "    <tr>\n",
              "      <th>7th</th>\n",
              "      <td>21</td>\n",
              "      <td>55000</td>\n",
              "    </tr>\n",
              "    <tr>\n",
              "      <th>8th</th>\n",
              "      <td>45</td>\n",
              "      <td>100000</td>\n",
              "    </tr>\n",
              "    <tr>\n",
              "      <th>9th</th>\n",
              "      <td>28</td>\n",
              "      <td>65000</td>\n",
              "    </tr>\n",
              "    <tr>\n",
              "      <th>10th</th>\n",
              "      <td>33</td>\n",
              "      <td>70000</td>\n",
              "    </tr>\n",
              "  </tbody>\n",
              "</table>\n",
              "</div>\n",
              "      <button class=\"colab-df-convert\" onclick=\"convertToInteractive('df-468da8f1-e5be-47de-87bb-6461ff399e76')\"\n",
              "              title=\"Convert this dataframe to an interactive table.\"\n",
              "              style=\"display:none;\">\n",
              "\n",
              "  <svg xmlns=\"http://www.w3.org/2000/svg\" height=\"24px\"viewBox=\"0 0 24 24\"\n",
              "       width=\"24px\">\n",
              "    <path d=\"M0 0h24v24H0V0z\" fill=\"none\"/>\n",
              "    <path d=\"M18.56 5.44l.94 2.06.94-2.06 2.06-.94-2.06-.94-.94-2.06-.94 2.06-2.06.94zm-11 1L8.5 8.5l.94-2.06 2.06-.94-2.06-.94L8.5 2.5l-.94 2.06-2.06.94zm10 10l.94 2.06.94-2.06 2.06-.94-2.06-.94-.94-2.06-.94 2.06-2.06.94z\"/><path d=\"M17.41 7.96l-1.37-1.37c-.4-.4-.92-.59-1.43-.59-.52 0-1.04.2-1.43.59L10.3 9.45l-7.72 7.72c-.78.78-.78 2.05 0 2.83L4 21.41c.39.39.9.59 1.41.59.51 0 1.02-.2 1.41-.59l7.78-7.78 2.81-2.81c.8-.78.8-2.07 0-2.86zM5.41 20L4 18.59l7.72-7.72 1.47 1.35L5.41 20z\"/>\n",
              "  </svg>\n",
              "      </button>\n",
              "\n",
              "\n",
              "\n",
              "    <div id=\"df-2d661b1a-1618-4034-8a10-ec9bac48b9af\">\n",
              "      <button class=\"colab-df-quickchart\" onclick=\"quickchart('df-2d661b1a-1618-4034-8a10-ec9bac48b9af')\"\n",
              "              title=\"Suggest charts.\"\n",
              "              style=\"display:none;\">\n",
              "\n",
              "<svg xmlns=\"http://www.w3.org/2000/svg\" height=\"24px\"viewBox=\"0 0 24 24\"\n",
              "     width=\"24px\">\n",
              "    <g>\n",
              "        <path d=\"M19 3H5c-1.1 0-2 .9-2 2v14c0 1.1.9 2 2 2h14c1.1 0 2-.9 2-2V5c0-1.1-.9-2-2-2zM9 17H7v-7h2v7zm4 0h-2V7h2v10zm4 0h-2v-4h2v4z\"/>\n",
              "    </g>\n",
              "</svg>\n",
              "      </button>\n",
              "    </div>\n",
              "\n",
              "<style>\n",
              "  .colab-df-quickchart {\n",
              "    background-color: #E8F0FE;\n",
              "    border: none;\n",
              "    border-radius: 50%;\n",
              "    cursor: pointer;\n",
              "    display: none;\n",
              "    fill: #1967D2;\n",
              "    height: 32px;\n",
              "    padding: 0 0 0 0;\n",
              "    width: 32px;\n",
              "  }\n",
              "\n",
              "  .colab-df-quickchart:hover {\n",
              "    background-color: #E2EBFA;\n",
              "    box-shadow: 0px 1px 2px rgba(60, 64, 67, 0.3), 0px 1px 3px 1px rgba(60, 64, 67, 0.15);\n",
              "    fill: #174EA6;\n",
              "  }\n",
              "\n",
              "  [theme=dark] .colab-df-quickchart {\n",
              "    background-color: #3B4455;\n",
              "    fill: #D2E3FC;\n",
              "  }\n",
              "\n",
              "  [theme=dark] .colab-df-quickchart:hover {\n",
              "    background-color: #434B5C;\n",
              "    box-shadow: 0px 1px 3px 1px rgba(0, 0, 0, 0.15);\n",
              "    filter: drop-shadow(0px 1px 2px rgba(0, 0, 0, 0.3));\n",
              "    fill: #FFFFFF;\n",
              "  }\n",
              "</style>\n",
              "\n",
              "    <script>\n",
              "      async function quickchart(key) {\n",
              "        const containerElement = document.querySelector('#' + key);\n",
              "        const charts = await google.colab.kernel.invokeFunction(\n",
              "            'suggestCharts', [key], {});\n",
              "      }\n",
              "    </script>\n",
              "\n",
              "      <script>\n",
              "\n",
              "function displayQuickchartButton(domScope) {\n",
              "  let quickchartButtonEl =\n",
              "    domScope.querySelector('#df-2d661b1a-1618-4034-8a10-ec9bac48b9af button.colab-df-quickchart');\n",
              "  quickchartButtonEl.style.display =\n",
              "    google.colab.kernel.accessAllowed ? 'block' : 'none';\n",
              "}\n",
              "\n",
              "        displayQuickchartButton(document);\n",
              "      </script>\n",
              "      <style>\n",
              "    .colab-df-container {\n",
              "      display:flex;\n",
              "      flex-wrap:wrap;\n",
              "      gap: 12px;\n",
              "    }\n",
              "\n",
              "    .colab-df-convert {\n",
              "      background-color: #E8F0FE;\n",
              "      border: none;\n",
              "      border-radius: 50%;\n",
              "      cursor: pointer;\n",
              "      display: none;\n",
              "      fill: #1967D2;\n",
              "      height: 32px;\n",
              "      padding: 0 0 0 0;\n",
              "      width: 32px;\n",
              "    }\n",
              "\n",
              "    .colab-df-convert:hover {\n",
              "      background-color: #E2EBFA;\n",
              "      box-shadow: 0px 1px 2px rgba(60, 64, 67, 0.3), 0px 1px 3px 1px rgba(60, 64, 67, 0.15);\n",
              "      fill: #174EA6;\n",
              "    }\n",
              "\n",
              "    [theme=dark] .colab-df-convert {\n",
              "      background-color: #3B4455;\n",
              "      fill: #D2E3FC;\n",
              "    }\n",
              "\n",
              "    [theme=dark] .colab-df-convert:hover {\n",
              "      background-color: #434B5C;\n",
              "      box-shadow: 0px 1px 3px 1px rgba(0, 0, 0, 0.15);\n",
              "      filter: drop-shadow(0px 1px 2px rgba(0, 0, 0, 0.3));\n",
              "      fill: #FFFFFF;\n",
              "    }\n",
              "  </style>\n",
              "\n",
              "      <script>\n",
              "        const buttonEl =\n",
              "          document.querySelector('#df-468da8f1-e5be-47de-87bb-6461ff399e76 button.colab-df-convert');\n",
              "        buttonEl.style.display =\n",
              "          google.colab.kernel.accessAllowed ? 'block' : 'none';\n",
              "\n",
              "        async function convertToInteractive(key) {\n",
              "          const element = document.querySelector('#df-468da8f1-e5be-47de-87bb-6461ff399e76');\n",
              "          const dataTable =\n",
              "            await google.colab.kernel.invokeFunction('convertToInteractive',\n",
              "                                                     [key], {});\n",
              "          if (!dataTable) return;\n",
              "\n",
              "          const docLinkHtml = 'Like what you see? Visit the ' +\n",
              "            '<a target=\"_blank\" href=https://colab.research.google.com/notebooks/data_table.ipynb>data table notebook</a>'\n",
              "            + ' to learn more about interactive tables.';\n",
              "          element.innerHTML = '';\n",
              "          dataTable['output_type'] = 'display_data';\n",
              "          await google.colab.output.renderOutput(dataTable, element);\n",
              "          const docLink = document.createElement('div');\n",
              "          docLink.innerHTML = docLinkHtml;\n",
              "          element.appendChild(docLink);\n",
              "        }\n",
              "      </script>\n",
              "    </div>\n",
              "  </div>\n"
            ]
          },
          "metadata": {},
          "execution_count": 456
        }
      ],
      "source": [
        "df[['Age','Salary']] # return column with label col as dataframe"
      ]
    },
    {
      "cell_type": "code",
      "execution_count": null,
      "id": "965e3c2e",
      "metadata": {
        "id": "965e3c2e",
        "colab": {
          "base_uri": "https://localhost:8080/"
        },
        "outputId": "3f163edb-3427-4e5e-fa72-2a67556c1942"
      },
      "outputs": [
        {
          "output_type": "execute_result",
          "data": {
            "text/plain": [
              "array([['Alice', 25, 'Female', 'USA', 50000, 'Marketing', 3, 'Bachelor'],\n",
              "       ['Bob', 32, 'Male', 'Canada', 75000, 'Finance', 8, 'Master'],\n",
              "       ['Charlie', 18, 'Male', 'USA', 40000, 'Marketing', 1,\n",
              "        'High School'],\n",
              "       ['David', 47, 'Male', 'Australia', 90000, 'IT', 18, 'PhD'],\n",
              "       ['Emily', 29, 'Female', 'UK', 60000, 'IT', 6, 'Bachelor'],\n",
              "       ['Frank', 36, 'Male', 'Canada', 80000, 'HR', 10, 'Master'],\n",
              "       ['George', 21, 'Male', 'USA', 55000, 'Marketing', 2, 'Bachelor'],\n",
              "       ['Helen', 45, 'Female', 'Australia', 100000, 'IT', 22, 'PhD'],\n",
              "       ['Irene', 28, 'Female', 'UK', 65000, 'HR', 5, 'Bachelor'],\n",
              "       ['Jack', 33, 'Male', 'USA', 70000, 'Finance', 7, 'Master']],\n",
              "      dtype=object)"
            ]
          },
          "metadata": {},
          "execution_count": 457
        }
      ],
      "source": [
        "df.to_numpy()"
      ]
    },
    {
      "cell_type": "code",
      "execution_count": null,
      "id": "2ba2cb71",
      "metadata": {
        "id": "2ba2cb71",
        "colab": {
          "base_uri": "https://localhost:8080/",
          "height": 363
        },
        "outputId": "45ebc290-a13a-4d92-a04b-5b2b919f2180"
      },
      "outputs": [
        {
          "output_type": "execute_result",
          "data": {
            "text/plain": [
              "         Name  Age  Gender    Country  Salary Department  Years of Experience  \\\n",
              "1st     Alice   25  Female        USA   50000  Marketing                    3   \n",
              "2nd       Bob   32    Male     Canada   75000    Finance                    8   \n",
              "3rd   Charlie   18    Male        USA   40000  Marketing                    1   \n",
              "4th     David   47    Male  Australia   90000         IT                   18   \n",
              "5th     Emily   29  Female         UK   60000         IT                    6   \n",
              "6th     Frank   36    Male     Canada   80000         HR                   10   \n",
              "7th    George   21    Male        USA   55000  Marketing                    2   \n",
              "8th     Helen   45  Female  Australia  100000         IT                   22   \n",
              "9th     Irene   28  Female         UK   65000         HR                    5   \n",
              "10th     Jack   33    Male        USA   70000    Finance                    7   \n",
              "\n",
              "     Education Level  \n",
              "1st         Bachelor  \n",
              "2nd           Master  \n",
              "3rd      High School  \n",
              "4th              PhD  \n",
              "5th         Bachelor  \n",
              "6th           Master  \n",
              "7th         Bachelor  \n",
              "8th              PhD  \n",
              "9th         Bachelor  \n",
              "10th          Master  "
            ],
            "text/html": [
              "\n",
              "\n",
              "  <div id=\"df-4108ea76-3fee-4fb1-8453-4c238111edc7\">\n",
              "    <div class=\"colab-df-container\">\n",
              "      <div>\n",
              "<style scoped>\n",
              "    .dataframe tbody tr th:only-of-type {\n",
              "        vertical-align: middle;\n",
              "    }\n",
              "\n",
              "    .dataframe tbody tr th {\n",
              "        vertical-align: top;\n",
              "    }\n",
              "\n",
              "    .dataframe thead th {\n",
              "        text-align: right;\n",
              "    }\n",
              "</style>\n",
              "<table border=\"1\" class=\"dataframe\">\n",
              "  <thead>\n",
              "    <tr style=\"text-align: right;\">\n",
              "      <th></th>\n",
              "      <th>Name</th>\n",
              "      <th>Age</th>\n",
              "      <th>Gender</th>\n",
              "      <th>Country</th>\n",
              "      <th>Salary</th>\n",
              "      <th>Department</th>\n",
              "      <th>Years of Experience</th>\n",
              "      <th>Education Level</th>\n",
              "    </tr>\n",
              "  </thead>\n",
              "  <tbody>\n",
              "    <tr>\n",
              "      <th>1st</th>\n",
              "      <td>Alice</td>\n",
              "      <td>25</td>\n",
              "      <td>Female</td>\n",
              "      <td>USA</td>\n",
              "      <td>50000</td>\n",
              "      <td>Marketing</td>\n",
              "      <td>3</td>\n",
              "      <td>Bachelor</td>\n",
              "    </tr>\n",
              "    <tr>\n",
              "      <th>2nd</th>\n",
              "      <td>Bob</td>\n",
              "      <td>32</td>\n",
              "      <td>Male</td>\n",
              "      <td>Canada</td>\n",
              "      <td>75000</td>\n",
              "      <td>Finance</td>\n",
              "      <td>8</td>\n",
              "      <td>Master</td>\n",
              "    </tr>\n",
              "    <tr>\n",
              "      <th>3rd</th>\n",
              "      <td>Charlie</td>\n",
              "      <td>18</td>\n",
              "      <td>Male</td>\n",
              "      <td>USA</td>\n",
              "      <td>40000</td>\n",
              "      <td>Marketing</td>\n",
              "      <td>1</td>\n",
              "      <td>High School</td>\n",
              "    </tr>\n",
              "    <tr>\n",
              "      <th>4th</th>\n",
              "      <td>David</td>\n",
              "      <td>47</td>\n",
              "      <td>Male</td>\n",
              "      <td>Australia</td>\n",
              "      <td>90000</td>\n",
              "      <td>IT</td>\n",
              "      <td>18</td>\n",
              "      <td>PhD</td>\n",
              "    </tr>\n",
              "    <tr>\n",
              "      <th>5th</th>\n",
              "      <td>Emily</td>\n",
              "      <td>29</td>\n",
              "      <td>Female</td>\n",
              "      <td>UK</td>\n",
              "      <td>60000</td>\n",
              "      <td>IT</td>\n",
              "      <td>6</td>\n",
              "      <td>Bachelor</td>\n",
              "    </tr>\n",
              "    <tr>\n",
              "      <th>6th</th>\n",
              "      <td>Frank</td>\n",
              "      <td>36</td>\n",
              "      <td>Male</td>\n",
              "      <td>Canada</td>\n",
              "      <td>80000</td>\n",
              "      <td>HR</td>\n",
              "      <td>10</td>\n",
              "      <td>Master</td>\n",
              "    </tr>\n",
              "    <tr>\n",
              "      <th>7th</th>\n",
              "      <td>George</td>\n",
              "      <td>21</td>\n",
              "      <td>Male</td>\n",
              "      <td>USA</td>\n",
              "      <td>55000</td>\n",
              "      <td>Marketing</td>\n",
              "      <td>2</td>\n",
              "      <td>Bachelor</td>\n",
              "    </tr>\n",
              "    <tr>\n",
              "      <th>8th</th>\n",
              "      <td>Helen</td>\n",
              "      <td>45</td>\n",
              "      <td>Female</td>\n",
              "      <td>Australia</td>\n",
              "      <td>100000</td>\n",
              "      <td>IT</td>\n",
              "      <td>22</td>\n",
              "      <td>PhD</td>\n",
              "    </tr>\n",
              "    <tr>\n",
              "      <th>9th</th>\n",
              "      <td>Irene</td>\n",
              "      <td>28</td>\n",
              "      <td>Female</td>\n",
              "      <td>UK</td>\n",
              "      <td>65000</td>\n",
              "      <td>HR</td>\n",
              "      <td>5</td>\n",
              "      <td>Bachelor</td>\n",
              "    </tr>\n",
              "    <tr>\n",
              "      <th>10th</th>\n",
              "      <td>Jack</td>\n",
              "      <td>33</td>\n",
              "      <td>Male</td>\n",
              "      <td>USA</td>\n",
              "      <td>70000</td>\n",
              "      <td>Finance</td>\n",
              "      <td>7</td>\n",
              "      <td>Master</td>\n",
              "    </tr>\n",
              "  </tbody>\n",
              "</table>\n",
              "</div>\n",
              "      <button class=\"colab-df-convert\" onclick=\"convertToInteractive('df-4108ea76-3fee-4fb1-8453-4c238111edc7')\"\n",
              "              title=\"Convert this dataframe to an interactive table.\"\n",
              "              style=\"display:none;\">\n",
              "\n",
              "  <svg xmlns=\"http://www.w3.org/2000/svg\" height=\"24px\"viewBox=\"0 0 24 24\"\n",
              "       width=\"24px\">\n",
              "    <path d=\"M0 0h24v24H0V0z\" fill=\"none\"/>\n",
              "    <path d=\"M18.56 5.44l.94 2.06.94-2.06 2.06-.94-2.06-.94-.94-2.06-.94 2.06-2.06.94zm-11 1L8.5 8.5l.94-2.06 2.06-.94-2.06-.94L8.5 2.5l-.94 2.06-2.06.94zm10 10l.94 2.06.94-2.06 2.06-.94-2.06-.94-.94-2.06-.94 2.06-2.06.94z\"/><path d=\"M17.41 7.96l-1.37-1.37c-.4-.4-.92-.59-1.43-.59-.52 0-1.04.2-1.43.59L10.3 9.45l-7.72 7.72c-.78.78-.78 2.05 0 2.83L4 21.41c.39.39.9.59 1.41.59.51 0 1.02-.2 1.41-.59l7.78-7.78 2.81-2.81c.8-.78.8-2.07 0-2.86zM5.41 20L4 18.59l7.72-7.72 1.47 1.35L5.41 20z\"/>\n",
              "  </svg>\n",
              "      </button>\n",
              "\n",
              "\n",
              "\n",
              "    <div id=\"df-a57b6488-5d8d-442f-a5f9-993ba88d2c82\">\n",
              "      <button class=\"colab-df-quickchart\" onclick=\"quickchart('df-a57b6488-5d8d-442f-a5f9-993ba88d2c82')\"\n",
              "              title=\"Suggest charts.\"\n",
              "              style=\"display:none;\">\n",
              "\n",
              "<svg xmlns=\"http://www.w3.org/2000/svg\" height=\"24px\"viewBox=\"0 0 24 24\"\n",
              "     width=\"24px\">\n",
              "    <g>\n",
              "        <path d=\"M19 3H5c-1.1 0-2 .9-2 2v14c0 1.1.9 2 2 2h14c1.1 0 2-.9 2-2V5c0-1.1-.9-2-2-2zM9 17H7v-7h2v7zm4 0h-2V7h2v10zm4 0h-2v-4h2v4z\"/>\n",
              "    </g>\n",
              "</svg>\n",
              "      </button>\n",
              "    </div>\n",
              "\n",
              "<style>\n",
              "  .colab-df-quickchart {\n",
              "    background-color: #E8F0FE;\n",
              "    border: none;\n",
              "    border-radius: 50%;\n",
              "    cursor: pointer;\n",
              "    display: none;\n",
              "    fill: #1967D2;\n",
              "    height: 32px;\n",
              "    padding: 0 0 0 0;\n",
              "    width: 32px;\n",
              "  }\n",
              "\n",
              "  .colab-df-quickchart:hover {\n",
              "    background-color: #E2EBFA;\n",
              "    box-shadow: 0px 1px 2px rgba(60, 64, 67, 0.3), 0px 1px 3px 1px rgba(60, 64, 67, 0.15);\n",
              "    fill: #174EA6;\n",
              "  }\n",
              "\n",
              "  [theme=dark] .colab-df-quickchart {\n",
              "    background-color: #3B4455;\n",
              "    fill: #D2E3FC;\n",
              "  }\n",
              "\n",
              "  [theme=dark] .colab-df-quickchart:hover {\n",
              "    background-color: #434B5C;\n",
              "    box-shadow: 0px 1px 3px 1px rgba(0, 0, 0, 0.15);\n",
              "    filter: drop-shadow(0px 1px 2px rgba(0, 0, 0, 0.3));\n",
              "    fill: #FFFFFF;\n",
              "  }\n",
              "</style>\n",
              "\n",
              "    <script>\n",
              "      async function quickchart(key) {\n",
              "        const containerElement = document.querySelector('#' + key);\n",
              "        const charts = await google.colab.kernel.invokeFunction(\n",
              "            'suggestCharts', [key], {});\n",
              "      }\n",
              "    </script>\n",
              "\n",
              "      <script>\n",
              "\n",
              "function displayQuickchartButton(domScope) {\n",
              "  let quickchartButtonEl =\n",
              "    domScope.querySelector('#df-a57b6488-5d8d-442f-a5f9-993ba88d2c82 button.colab-df-quickchart');\n",
              "  quickchartButtonEl.style.display =\n",
              "    google.colab.kernel.accessAllowed ? 'block' : 'none';\n",
              "}\n",
              "\n",
              "        displayQuickchartButton(document);\n",
              "      </script>\n",
              "      <style>\n",
              "    .colab-df-container {\n",
              "      display:flex;\n",
              "      flex-wrap:wrap;\n",
              "      gap: 12px;\n",
              "    }\n",
              "\n",
              "    .colab-df-convert {\n",
              "      background-color: #E8F0FE;\n",
              "      border: none;\n",
              "      border-radius: 50%;\n",
              "      cursor: pointer;\n",
              "      display: none;\n",
              "      fill: #1967D2;\n",
              "      height: 32px;\n",
              "      padding: 0 0 0 0;\n",
              "      width: 32px;\n",
              "    }\n",
              "\n",
              "    .colab-df-convert:hover {\n",
              "      background-color: #E2EBFA;\n",
              "      box-shadow: 0px 1px 2px rgba(60, 64, 67, 0.3), 0px 1px 3px 1px rgba(60, 64, 67, 0.15);\n",
              "      fill: #174EA6;\n",
              "    }\n",
              "\n",
              "    [theme=dark] .colab-df-convert {\n",
              "      background-color: #3B4455;\n",
              "      fill: #D2E3FC;\n",
              "    }\n",
              "\n",
              "    [theme=dark] .colab-df-convert:hover {\n",
              "      background-color: #434B5C;\n",
              "      box-shadow: 0px 1px 3px 1px rgba(0, 0, 0, 0.15);\n",
              "      filter: drop-shadow(0px 1px 2px rgba(0, 0, 0, 0.3));\n",
              "      fill: #FFFFFF;\n",
              "    }\n",
              "  </style>\n",
              "\n",
              "      <script>\n",
              "        const buttonEl =\n",
              "          document.querySelector('#df-4108ea76-3fee-4fb1-8453-4c238111edc7 button.colab-df-convert');\n",
              "        buttonEl.style.display =\n",
              "          google.colab.kernel.accessAllowed ? 'block' : 'none';\n",
              "\n",
              "        async function convertToInteractive(key) {\n",
              "          const element = document.querySelector('#df-4108ea76-3fee-4fb1-8453-4c238111edc7');\n",
              "          const dataTable =\n",
              "            await google.colab.kernel.invokeFunction('convertToInteractive',\n",
              "                                                     [key], {});\n",
              "          if (!dataTable) return;\n",
              "\n",
              "          const docLinkHtml = 'Like what you see? Visit the ' +\n",
              "            '<a target=\"_blank\" href=https://colab.research.google.com/notebooks/data_table.ipynb>data table notebook</a>'\n",
              "            + ' to learn more about interactive tables.';\n",
              "          element.innerHTML = '';\n",
              "          dataTable['output_type'] = 'display_data';\n",
              "          await google.colab.output.renderOutput(dataTable, element);\n",
              "          const docLink = document.createElement('div');\n",
              "          docLink.innerHTML = docLinkHtml;\n",
              "          element.appendChild(docLink);\n",
              "        }\n",
              "      </script>\n",
              "    </div>\n",
              "  </div>\n"
            ]
          },
          "metadata": {},
          "execution_count": 458
        }
      ],
      "source": [
        "# Let us get a subset which consists of first 8 rows and first 4 columns\n",
        "df.iloc[:,:]"
      ]
    },
    {
      "cell_type": "code",
      "execution_count": null,
      "id": "bc6f919a",
      "metadata": {
        "id": "bc6f919a",
        "colab": {
          "base_uri": "https://localhost:8080/",
          "height": 363
        },
        "outputId": "acb9b14f-d01a-4300-9845-247a491d2442"
      },
      "outputs": [
        {
          "output_type": "execute_result",
          "data": {
            "text/plain": [
              "         Name  Age  Gender    Country  Salary Department  Years of Experience  \\\n",
              "10th     Jack   33    Male        USA   70000    Finance                    7   \n",
              "1st     Alice   25  Female        USA   50000  Marketing                    3   \n",
              "2nd       Bob   32    Male     Canada   75000    Finance                    8   \n",
              "3rd   Charlie   18    Male        USA   40000  Marketing                    1   \n",
              "4th     David   47    Male  Australia   90000         IT                   18   \n",
              "5th     Emily   29  Female         UK   60000         IT                    6   \n",
              "6th     Frank   36    Male     Canada   80000         HR                   10   \n",
              "7th    George   21    Male        USA   55000  Marketing                    2   \n",
              "8th     Helen   45  Female  Australia  100000         IT                   22   \n",
              "9th     Irene   28  Female         UK   65000         HR                    5   \n",
              "\n",
              "     Education Level  \n",
              "10th          Master  \n",
              "1st         Bachelor  \n",
              "2nd           Master  \n",
              "3rd      High School  \n",
              "4th              PhD  \n",
              "5th         Bachelor  \n",
              "6th           Master  \n",
              "7th         Bachelor  \n",
              "8th              PhD  \n",
              "9th         Bachelor  "
            ],
            "text/html": [
              "\n",
              "\n",
              "  <div id=\"df-185f6912-432e-4ff3-b049-77a9067f11d5\">\n",
              "    <div class=\"colab-df-container\">\n",
              "      <div>\n",
              "<style scoped>\n",
              "    .dataframe tbody tr th:only-of-type {\n",
              "        vertical-align: middle;\n",
              "    }\n",
              "\n",
              "    .dataframe tbody tr th {\n",
              "        vertical-align: top;\n",
              "    }\n",
              "\n",
              "    .dataframe thead th {\n",
              "        text-align: right;\n",
              "    }\n",
              "</style>\n",
              "<table border=\"1\" class=\"dataframe\">\n",
              "  <thead>\n",
              "    <tr style=\"text-align: right;\">\n",
              "      <th></th>\n",
              "      <th>Name</th>\n",
              "      <th>Age</th>\n",
              "      <th>Gender</th>\n",
              "      <th>Country</th>\n",
              "      <th>Salary</th>\n",
              "      <th>Department</th>\n",
              "      <th>Years of Experience</th>\n",
              "      <th>Education Level</th>\n",
              "    </tr>\n",
              "  </thead>\n",
              "  <tbody>\n",
              "    <tr>\n",
              "      <th>10th</th>\n",
              "      <td>Jack</td>\n",
              "      <td>33</td>\n",
              "      <td>Male</td>\n",
              "      <td>USA</td>\n",
              "      <td>70000</td>\n",
              "      <td>Finance</td>\n",
              "      <td>7</td>\n",
              "      <td>Master</td>\n",
              "    </tr>\n",
              "    <tr>\n",
              "      <th>1st</th>\n",
              "      <td>Alice</td>\n",
              "      <td>25</td>\n",
              "      <td>Female</td>\n",
              "      <td>USA</td>\n",
              "      <td>50000</td>\n",
              "      <td>Marketing</td>\n",
              "      <td>3</td>\n",
              "      <td>Bachelor</td>\n",
              "    </tr>\n",
              "    <tr>\n",
              "      <th>2nd</th>\n",
              "      <td>Bob</td>\n",
              "      <td>32</td>\n",
              "      <td>Male</td>\n",
              "      <td>Canada</td>\n",
              "      <td>75000</td>\n",
              "      <td>Finance</td>\n",
              "      <td>8</td>\n",
              "      <td>Master</td>\n",
              "    </tr>\n",
              "    <tr>\n",
              "      <th>3rd</th>\n",
              "      <td>Charlie</td>\n",
              "      <td>18</td>\n",
              "      <td>Male</td>\n",
              "      <td>USA</td>\n",
              "      <td>40000</td>\n",
              "      <td>Marketing</td>\n",
              "      <td>1</td>\n",
              "      <td>High School</td>\n",
              "    </tr>\n",
              "    <tr>\n",
              "      <th>4th</th>\n",
              "      <td>David</td>\n",
              "      <td>47</td>\n",
              "      <td>Male</td>\n",
              "      <td>Australia</td>\n",
              "      <td>90000</td>\n",
              "      <td>IT</td>\n",
              "      <td>18</td>\n",
              "      <td>PhD</td>\n",
              "    </tr>\n",
              "    <tr>\n",
              "      <th>5th</th>\n",
              "      <td>Emily</td>\n",
              "      <td>29</td>\n",
              "      <td>Female</td>\n",
              "      <td>UK</td>\n",
              "      <td>60000</td>\n",
              "      <td>IT</td>\n",
              "      <td>6</td>\n",
              "      <td>Bachelor</td>\n",
              "    </tr>\n",
              "    <tr>\n",
              "      <th>6th</th>\n",
              "      <td>Frank</td>\n",
              "      <td>36</td>\n",
              "      <td>Male</td>\n",
              "      <td>Canada</td>\n",
              "      <td>80000</td>\n",
              "      <td>HR</td>\n",
              "      <td>10</td>\n",
              "      <td>Master</td>\n",
              "    </tr>\n",
              "    <tr>\n",
              "      <th>7th</th>\n",
              "      <td>George</td>\n",
              "      <td>21</td>\n",
              "      <td>Male</td>\n",
              "      <td>USA</td>\n",
              "      <td>55000</td>\n",
              "      <td>Marketing</td>\n",
              "      <td>2</td>\n",
              "      <td>Bachelor</td>\n",
              "    </tr>\n",
              "    <tr>\n",
              "      <th>8th</th>\n",
              "      <td>Helen</td>\n",
              "      <td>45</td>\n",
              "      <td>Female</td>\n",
              "      <td>Australia</td>\n",
              "      <td>100000</td>\n",
              "      <td>IT</td>\n",
              "      <td>22</td>\n",
              "      <td>PhD</td>\n",
              "    </tr>\n",
              "    <tr>\n",
              "      <th>9th</th>\n",
              "      <td>Irene</td>\n",
              "      <td>28</td>\n",
              "      <td>Female</td>\n",
              "      <td>UK</td>\n",
              "      <td>65000</td>\n",
              "      <td>HR</td>\n",
              "      <td>5</td>\n",
              "      <td>Bachelor</td>\n",
              "    </tr>\n",
              "  </tbody>\n",
              "</table>\n",
              "</div>\n",
              "      <button class=\"colab-df-convert\" onclick=\"convertToInteractive('df-185f6912-432e-4ff3-b049-77a9067f11d5')\"\n",
              "              title=\"Convert this dataframe to an interactive table.\"\n",
              "              style=\"display:none;\">\n",
              "\n",
              "  <svg xmlns=\"http://www.w3.org/2000/svg\" height=\"24px\"viewBox=\"0 0 24 24\"\n",
              "       width=\"24px\">\n",
              "    <path d=\"M0 0h24v24H0V0z\" fill=\"none\"/>\n",
              "    <path d=\"M18.56 5.44l.94 2.06.94-2.06 2.06-.94-2.06-.94-.94-2.06-.94 2.06-2.06.94zm-11 1L8.5 8.5l.94-2.06 2.06-.94-2.06-.94L8.5 2.5l-.94 2.06-2.06.94zm10 10l.94 2.06.94-2.06 2.06-.94-2.06-.94-.94-2.06-.94 2.06-2.06.94z\"/><path d=\"M17.41 7.96l-1.37-1.37c-.4-.4-.92-.59-1.43-.59-.52 0-1.04.2-1.43.59L10.3 9.45l-7.72 7.72c-.78.78-.78 2.05 0 2.83L4 21.41c.39.39.9.59 1.41.59.51 0 1.02-.2 1.41-.59l7.78-7.78 2.81-2.81c.8-.78.8-2.07 0-2.86zM5.41 20L4 18.59l7.72-7.72 1.47 1.35L5.41 20z\"/>\n",
              "  </svg>\n",
              "      </button>\n",
              "\n",
              "\n",
              "\n",
              "    <div id=\"df-0f6753db-7772-4bd0-97bb-239b2f18dd3d\">\n",
              "      <button class=\"colab-df-quickchart\" onclick=\"quickchart('df-0f6753db-7772-4bd0-97bb-239b2f18dd3d')\"\n",
              "              title=\"Suggest charts.\"\n",
              "              style=\"display:none;\">\n",
              "\n",
              "<svg xmlns=\"http://www.w3.org/2000/svg\" height=\"24px\"viewBox=\"0 0 24 24\"\n",
              "     width=\"24px\">\n",
              "    <g>\n",
              "        <path d=\"M19 3H5c-1.1 0-2 .9-2 2v14c0 1.1.9 2 2 2h14c1.1 0 2-.9 2-2V5c0-1.1-.9-2-2-2zM9 17H7v-7h2v7zm4 0h-2V7h2v10zm4 0h-2v-4h2v4z\"/>\n",
              "    </g>\n",
              "</svg>\n",
              "      </button>\n",
              "    </div>\n",
              "\n",
              "<style>\n",
              "  .colab-df-quickchart {\n",
              "    background-color: #E8F0FE;\n",
              "    border: none;\n",
              "    border-radius: 50%;\n",
              "    cursor: pointer;\n",
              "    display: none;\n",
              "    fill: #1967D2;\n",
              "    height: 32px;\n",
              "    padding: 0 0 0 0;\n",
              "    width: 32px;\n",
              "  }\n",
              "\n",
              "  .colab-df-quickchart:hover {\n",
              "    background-color: #E2EBFA;\n",
              "    box-shadow: 0px 1px 2px rgba(60, 64, 67, 0.3), 0px 1px 3px 1px rgba(60, 64, 67, 0.15);\n",
              "    fill: #174EA6;\n",
              "  }\n",
              "\n",
              "  [theme=dark] .colab-df-quickchart {\n",
              "    background-color: #3B4455;\n",
              "    fill: #D2E3FC;\n",
              "  }\n",
              "\n",
              "  [theme=dark] .colab-df-quickchart:hover {\n",
              "    background-color: #434B5C;\n",
              "    box-shadow: 0px 1px 3px 1px rgba(0, 0, 0, 0.15);\n",
              "    filter: drop-shadow(0px 1px 2px rgba(0, 0, 0, 0.3));\n",
              "    fill: #FFFFFF;\n",
              "  }\n",
              "</style>\n",
              "\n",
              "    <script>\n",
              "      async function quickchart(key) {\n",
              "        const containerElement = document.querySelector('#' + key);\n",
              "        const charts = await google.colab.kernel.invokeFunction(\n",
              "            'suggestCharts', [key], {});\n",
              "      }\n",
              "    </script>\n",
              "\n",
              "      <script>\n",
              "\n",
              "function displayQuickchartButton(domScope) {\n",
              "  let quickchartButtonEl =\n",
              "    domScope.querySelector('#df-0f6753db-7772-4bd0-97bb-239b2f18dd3d button.colab-df-quickchart');\n",
              "  quickchartButtonEl.style.display =\n",
              "    google.colab.kernel.accessAllowed ? 'block' : 'none';\n",
              "}\n",
              "\n",
              "        displayQuickchartButton(document);\n",
              "      </script>\n",
              "      <style>\n",
              "    .colab-df-container {\n",
              "      display:flex;\n",
              "      flex-wrap:wrap;\n",
              "      gap: 12px;\n",
              "    }\n",
              "\n",
              "    .colab-df-convert {\n",
              "      background-color: #E8F0FE;\n",
              "      border: none;\n",
              "      border-radius: 50%;\n",
              "      cursor: pointer;\n",
              "      display: none;\n",
              "      fill: #1967D2;\n",
              "      height: 32px;\n",
              "      padding: 0 0 0 0;\n",
              "      width: 32px;\n",
              "    }\n",
              "\n",
              "    .colab-df-convert:hover {\n",
              "      background-color: #E2EBFA;\n",
              "      box-shadow: 0px 1px 2px rgba(60, 64, 67, 0.3), 0px 1px 3px 1px rgba(60, 64, 67, 0.15);\n",
              "      fill: #174EA6;\n",
              "    }\n",
              "\n",
              "    [theme=dark] .colab-df-convert {\n",
              "      background-color: #3B4455;\n",
              "      fill: #D2E3FC;\n",
              "    }\n",
              "\n",
              "    [theme=dark] .colab-df-convert:hover {\n",
              "      background-color: #434B5C;\n",
              "      box-shadow: 0px 1px 3px 1px rgba(0, 0, 0, 0.15);\n",
              "      filter: drop-shadow(0px 1px 2px rgba(0, 0, 0, 0.3));\n",
              "      fill: #FFFFFF;\n",
              "    }\n",
              "  </style>\n",
              "\n",
              "      <script>\n",
              "        const buttonEl =\n",
              "          document.querySelector('#df-185f6912-432e-4ff3-b049-77a9067f11d5 button.colab-df-convert');\n",
              "        buttonEl.style.display =\n",
              "          google.colab.kernel.accessAllowed ? 'block' : 'none';\n",
              "\n",
              "        async function convertToInteractive(key) {\n",
              "          const element = document.querySelector('#df-185f6912-432e-4ff3-b049-77a9067f11d5');\n",
              "          const dataTable =\n",
              "            await google.colab.kernel.invokeFunction('convertToInteractive',\n",
              "                                                     [key], {});\n",
              "          if (!dataTable) return;\n",
              "\n",
              "          const docLinkHtml = 'Like what you see? Visit the ' +\n",
              "            '<a target=\"_blank\" href=https://colab.research.google.com/notebooks/data_table.ipynb>data table notebook</a>'\n",
              "            + ' to learn more about interactive tables.';\n",
              "          element.innerHTML = '';\n",
              "          dataTable['output_type'] = 'display_data';\n",
              "          await google.colab.output.renderOutput(dataTable, element);\n",
              "          const docLink = document.createElement('div');\n",
              "          docLink.innerHTML = docLinkHtml;\n",
              "          element.appendChild(docLink);\n",
              "        }\n",
              "      </script>\n",
              "    </div>\n",
              "  </div>\n"
            ]
          },
          "metadata": {},
          "execution_count": 459
        }
      ],
      "source": [
        "df.sort_index(axis=0,ascending=True) #axis=0 column, axis=1 row"
      ]
    },
    {
      "cell_type": "code",
      "execution_count": null,
      "id": "b5e7b122",
      "metadata": {
        "id": "b5e7b122"
      },
      "outputs": [],
      "source": []
    },
    {
      "cell_type": "markdown",
      "id": "8ce1ca23",
      "metadata": {
        "id": "8ce1ca23"
      },
      "source": [
        "iloc gets rows (or columns) at particular positions in the index (so it only takes integers)."
      ]
    },
    {
      "cell_type": "markdown",
      "id": "8e7c73e3",
      "metadata": {
        "id": "8e7c73e3"
      },
      "source": [
        "loc gets rows (or columns) with particular labels from the index."
      ]
    },
    {
      "cell_type": "code",
      "execution_count": null,
      "id": "d4bb9eee",
      "metadata": {
        "id": "d4bb9eee",
        "colab": {
          "base_uri": "https://localhost:8080/",
          "height": 363
        },
        "outputId": "e758269d-690b-4ce2-b534-d0cfadc6779a"
      },
      "outputs": [
        {
          "output_type": "execute_result",
          "data": {
            "text/plain": [
              "      Age  Gender\n",
              "1st    25  Female\n",
              "2nd    32    Male\n",
              "3rd    18    Male\n",
              "4th    47    Male\n",
              "5th    29  Female\n",
              "6th    36    Male\n",
              "7th    21    Male\n",
              "8th    45  Female\n",
              "9th    28  Female\n",
              "10th   33    Male"
            ],
            "text/html": [
              "\n",
              "\n",
              "  <div id=\"df-895f85c7-0eaf-4c2a-a1e2-a271e287ddbc\">\n",
              "    <div class=\"colab-df-container\">\n",
              "      <div>\n",
              "<style scoped>\n",
              "    .dataframe tbody tr th:only-of-type {\n",
              "        vertical-align: middle;\n",
              "    }\n",
              "\n",
              "    .dataframe tbody tr th {\n",
              "        vertical-align: top;\n",
              "    }\n",
              "\n",
              "    .dataframe thead th {\n",
              "        text-align: right;\n",
              "    }\n",
              "</style>\n",
              "<table border=\"1\" class=\"dataframe\">\n",
              "  <thead>\n",
              "    <tr style=\"text-align: right;\">\n",
              "      <th></th>\n",
              "      <th>Age</th>\n",
              "      <th>Gender</th>\n",
              "    </tr>\n",
              "  </thead>\n",
              "  <tbody>\n",
              "    <tr>\n",
              "      <th>1st</th>\n",
              "      <td>25</td>\n",
              "      <td>Female</td>\n",
              "    </tr>\n",
              "    <tr>\n",
              "      <th>2nd</th>\n",
              "      <td>32</td>\n",
              "      <td>Male</td>\n",
              "    </tr>\n",
              "    <tr>\n",
              "      <th>3rd</th>\n",
              "      <td>18</td>\n",
              "      <td>Male</td>\n",
              "    </tr>\n",
              "    <tr>\n",
              "      <th>4th</th>\n",
              "      <td>47</td>\n",
              "      <td>Male</td>\n",
              "    </tr>\n",
              "    <tr>\n",
              "      <th>5th</th>\n",
              "      <td>29</td>\n",
              "      <td>Female</td>\n",
              "    </tr>\n",
              "    <tr>\n",
              "      <th>6th</th>\n",
              "      <td>36</td>\n",
              "      <td>Male</td>\n",
              "    </tr>\n",
              "    <tr>\n",
              "      <th>7th</th>\n",
              "      <td>21</td>\n",
              "      <td>Male</td>\n",
              "    </tr>\n",
              "    <tr>\n",
              "      <th>8th</th>\n",
              "      <td>45</td>\n",
              "      <td>Female</td>\n",
              "    </tr>\n",
              "    <tr>\n",
              "      <th>9th</th>\n",
              "      <td>28</td>\n",
              "      <td>Female</td>\n",
              "    </tr>\n",
              "    <tr>\n",
              "      <th>10th</th>\n",
              "      <td>33</td>\n",
              "      <td>Male</td>\n",
              "    </tr>\n",
              "  </tbody>\n",
              "</table>\n",
              "</div>\n",
              "      <button class=\"colab-df-convert\" onclick=\"convertToInteractive('df-895f85c7-0eaf-4c2a-a1e2-a271e287ddbc')\"\n",
              "              title=\"Convert this dataframe to an interactive table.\"\n",
              "              style=\"display:none;\">\n",
              "\n",
              "  <svg xmlns=\"http://www.w3.org/2000/svg\" height=\"24px\"viewBox=\"0 0 24 24\"\n",
              "       width=\"24px\">\n",
              "    <path d=\"M0 0h24v24H0V0z\" fill=\"none\"/>\n",
              "    <path d=\"M18.56 5.44l.94 2.06.94-2.06 2.06-.94-2.06-.94-.94-2.06-.94 2.06-2.06.94zm-11 1L8.5 8.5l.94-2.06 2.06-.94-2.06-.94L8.5 2.5l-.94 2.06-2.06.94zm10 10l.94 2.06.94-2.06 2.06-.94-2.06-.94-.94-2.06-.94 2.06-2.06.94z\"/><path d=\"M17.41 7.96l-1.37-1.37c-.4-.4-.92-.59-1.43-.59-.52 0-1.04.2-1.43.59L10.3 9.45l-7.72 7.72c-.78.78-.78 2.05 0 2.83L4 21.41c.39.39.9.59 1.41.59.51 0 1.02-.2 1.41-.59l7.78-7.78 2.81-2.81c.8-.78.8-2.07 0-2.86zM5.41 20L4 18.59l7.72-7.72 1.47 1.35L5.41 20z\"/>\n",
              "  </svg>\n",
              "      </button>\n",
              "\n",
              "\n",
              "\n",
              "    <div id=\"df-79f4bb3e-7748-4df4-9284-04bc43c7cfcd\">\n",
              "      <button class=\"colab-df-quickchart\" onclick=\"quickchart('df-79f4bb3e-7748-4df4-9284-04bc43c7cfcd')\"\n",
              "              title=\"Suggest charts.\"\n",
              "              style=\"display:none;\">\n",
              "\n",
              "<svg xmlns=\"http://www.w3.org/2000/svg\" height=\"24px\"viewBox=\"0 0 24 24\"\n",
              "     width=\"24px\">\n",
              "    <g>\n",
              "        <path d=\"M19 3H5c-1.1 0-2 .9-2 2v14c0 1.1.9 2 2 2h14c1.1 0 2-.9 2-2V5c0-1.1-.9-2-2-2zM9 17H7v-7h2v7zm4 0h-2V7h2v10zm4 0h-2v-4h2v4z\"/>\n",
              "    </g>\n",
              "</svg>\n",
              "      </button>\n",
              "    </div>\n",
              "\n",
              "<style>\n",
              "  .colab-df-quickchart {\n",
              "    background-color: #E8F0FE;\n",
              "    border: none;\n",
              "    border-radius: 50%;\n",
              "    cursor: pointer;\n",
              "    display: none;\n",
              "    fill: #1967D2;\n",
              "    height: 32px;\n",
              "    padding: 0 0 0 0;\n",
              "    width: 32px;\n",
              "  }\n",
              "\n",
              "  .colab-df-quickchart:hover {\n",
              "    background-color: #E2EBFA;\n",
              "    box-shadow: 0px 1px 2px rgba(60, 64, 67, 0.3), 0px 1px 3px 1px rgba(60, 64, 67, 0.15);\n",
              "    fill: #174EA6;\n",
              "  }\n",
              "\n",
              "  [theme=dark] .colab-df-quickchart {\n",
              "    background-color: #3B4455;\n",
              "    fill: #D2E3FC;\n",
              "  }\n",
              "\n",
              "  [theme=dark] .colab-df-quickchart:hover {\n",
              "    background-color: #434B5C;\n",
              "    box-shadow: 0px 1px 3px 1px rgba(0, 0, 0, 0.15);\n",
              "    filter: drop-shadow(0px 1px 2px rgba(0, 0, 0, 0.3));\n",
              "    fill: #FFFFFF;\n",
              "  }\n",
              "</style>\n",
              "\n",
              "    <script>\n",
              "      async function quickchart(key) {\n",
              "        const containerElement = document.querySelector('#' + key);\n",
              "        const charts = await google.colab.kernel.invokeFunction(\n",
              "            'suggestCharts', [key], {});\n",
              "      }\n",
              "    </script>\n",
              "\n",
              "      <script>\n",
              "\n",
              "function displayQuickchartButton(domScope) {\n",
              "  let quickchartButtonEl =\n",
              "    domScope.querySelector('#df-79f4bb3e-7748-4df4-9284-04bc43c7cfcd button.colab-df-quickchart');\n",
              "  quickchartButtonEl.style.display =\n",
              "    google.colab.kernel.accessAllowed ? 'block' : 'none';\n",
              "}\n",
              "\n",
              "        displayQuickchartButton(document);\n",
              "      </script>\n",
              "      <style>\n",
              "    .colab-df-container {\n",
              "      display:flex;\n",
              "      flex-wrap:wrap;\n",
              "      gap: 12px;\n",
              "    }\n",
              "\n",
              "    .colab-df-convert {\n",
              "      background-color: #E8F0FE;\n",
              "      border: none;\n",
              "      border-radius: 50%;\n",
              "      cursor: pointer;\n",
              "      display: none;\n",
              "      fill: #1967D2;\n",
              "      height: 32px;\n",
              "      padding: 0 0 0 0;\n",
              "      width: 32px;\n",
              "    }\n",
              "\n",
              "    .colab-df-convert:hover {\n",
              "      background-color: #E2EBFA;\n",
              "      box-shadow: 0px 1px 2px rgba(60, 64, 67, 0.3), 0px 1px 3px 1px rgba(60, 64, 67, 0.15);\n",
              "      fill: #174EA6;\n",
              "    }\n",
              "\n",
              "    [theme=dark] .colab-df-convert {\n",
              "      background-color: #3B4455;\n",
              "      fill: #D2E3FC;\n",
              "    }\n",
              "\n",
              "    [theme=dark] .colab-df-convert:hover {\n",
              "      background-color: #434B5C;\n",
              "      box-shadow: 0px 1px 3px 1px rgba(0, 0, 0, 0.15);\n",
              "      filter: drop-shadow(0px 1px 2px rgba(0, 0, 0, 0.3));\n",
              "      fill: #FFFFFF;\n",
              "    }\n",
              "  </style>\n",
              "\n",
              "      <script>\n",
              "        const buttonEl =\n",
              "          document.querySelector('#df-895f85c7-0eaf-4c2a-a1e2-a271e287ddbc button.colab-df-convert');\n",
              "        buttonEl.style.display =\n",
              "          google.colab.kernel.accessAllowed ? 'block' : 'none';\n",
              "\n",
              "        async function convertToInteractive(key) {\n",
              "          const element = document.querySelector('#df-895f85c7-0eaf-4c2a-a1e2-a271e287ddbc');\n",
              "          const dataTable =\n",
              "            await google.colab.kernel.invokeFunction('convertToInteractive',\n",
              "                                                     [key], {});\n",
              "          if (!dataTable) return;\n",
              "\n",
              "          const docLinkHtml = 'Like what you see? Visit the ' +\n",
              "            '<a target=\"_blank\" href=https://colab.research.google.com/notebooks/data_table.ipynb>data table notebook</a>'\n",
              "            + ' to learn more about interactive tables.';\n",
              "          element.innerHTML = '';\n",
              "          dataTable['output_type'] = 'display_data';\n",
              "          await google.colab.output.renderOutput(dataTable, element);\n",
              "          const docLink = document.createElement('div');\n",
              "          docLink.innerHTML = docLinkHtml;\n",
              "          element.appendChild(docLink);\n",
              "        }\n",
              "      </script>\n",
              "    </div>\n",
              "  </div>\n"
            ]
          },
          "metadata": {},
          "execution_count": 460
        }
      ],
      "source": [
        "df.loc[:,['Age','Gender']] #return all rows"
      ]
    },
    {
      "cell_type": "code",
      "execution_count": null,
      "id": "4a57cbe8",
      "metadata": {
        "id": "4a57cbe8",
        "colab": {
          "base_uri": "https://localhost:8080/",
          "height": 112
        },
        "outputId": "958c299e-9b1e-402d-ad2e-7f6fecb7e8fb"
      },
      "outputs": [
        {
          "output_type": "execute_result",
          "data": {
            "text/plain": [
              "      Name  Age  Gender Country  Salary Department  Years of Experience  \\\n",
              "1st  Alice   25  Female     USA   50000  Marketing                    3   \n",
              "2nd    Bob   32    Male  Canada   75000    Finance                    8   \n",
              "\n",
              "    Education Level  \n",
              "1st        Bachelor  \n",
              "2nd          Master  "
            ],
            "text/html": [
              "\n",
              "\n",
              "  <div id=\"df-cf4e43ce-6c55-42a9-bcd6-e5b4762ad4d5\">\n",
              "    <div class=\"colab-df-container\">\n",
              "      <div>\n",
              "<style scoped>\n",
              "    .dataframe tbody tr th:only-of-type {\n",
              "        vertical-align: middle;\n",
              "    }\n",
              "\n",
              "    .dataframe tbody tr th {\n",
              "        vertical-align: top;\n",
              "    }\n",
              "\n",
              "    .dataframe thead th {\n",
              "        text-align: right;\n",
              "    }\n",
              "</style>\n",
              "<table border=\"1\" class=\"dataframe\">\n",
              "  <thead>\n",
              "    <tr style=\"text-align: right;\">\n",
              "      <th></th>\n",
              "      <th>Name</th>\n",
              "      <th>Age</th>\n",
              "      <th>Gender</th>\n",
              "      <th>Country</th>\n",
              "      <th>Salary</th>\n",
              "      <th>Department</th>\n",
              "      <th>Years of Experience</th>\n",
              "      <th>Education Level</th>\n",
              "    </tr>\n",
              "  </thead>\n",
              "  <tbody>\n",
              "    <tr>\n",
              "      <th>1st</th>\n",
              "      <td>Alice</td>\n",
              "      <td>25</td>\n",
              "      <td>Female</td>\n",
              "      <td>USA</td>\n",
              "      <td>50000</td>\n",
              "      <td>Marketing</td>\n",
              "      <td>3</td>\n",
              "      <td>Bachelor</td>\n",
              "    </tr>\n",
              "    <tr>\n",
              "      <th>2nd</th>\n",
              "      <td>Bob</td>\n",
              "      <td>32</td>\n",
              "      <td>Male</td>\n",
              "      <td>Canada</td>\n",
              "      <td>75000</td>\n",
              "      <td>Finance</td>\n",
              "      <td>8</td>\n",
              "      <td>Master</td>\n",
              "    </tr>\n",
              "  </tbody>\n",
              "</table>\n",
              "</div>\n",
              "      <button class=\"colab-df-convert\" onclick=\"convertToInteractive('df-cf4e43ce-6c55-42a9-bcd6-e5b4762ad4d5')\"\n",
              "              title=\"Convert this dataframe to an interactive table.\"\n",
              "              style=\"display:none;\">\n",
              "\n",
              "  <svg xmlns=\"http://www.w3.org/2000/svg\" height=\"24px\"viewBox=\"0 0 24 24\"\n",
              "       width=\"24px\">\n",
              "    <path d=\"M0 0h24v24H0V0z\" fill=\"none\"/>\n",
              "    <path d=\"M18.56 5.44l.94 2.06.94-2.06 2.06-.94-2.06-.94-.94-2.06-.94 2.06-2.06.94zm-11 1L8.5 8.5l.94-2.06 2.06-.94-2.06-.94L8.5 2.5l-.94 2.06-2.06.94zm10 10l.94 2.06.94-2.06 2.06-.94-2.06-.94-.94-2.06-.94 2.06-2.06.94z\"/><path d=\"M17.41 7.96l-1.37-1.37c-.4-.4-.92-.59-1.43-.59-.52 0-1.04.2-1.43.59L10.3 9.45l-7.72 7.72c-.78.78-.78 2.05 0 2.83L4 21.41c.39.39.9.59 1.41.59.51 0 1.02-.2 1.41-.59l7.78-7.78 2.81-2.81c.8-.78.8-2.07 0-2.86zM5.41 20L4 18.59l7.72-7.72 1.47 1.35L5.41 20z\"/>\n",
              "  </svg>\n",
              "      </button>\n",
              "\n",
              "\n",
              "\n",
              "    <div id=\"df-5e2c7570-bfcf-41b7-8c85-77b345f3d616\">\n",
              "      <button class=\"colab-df-quickchart\" onclick=\"quickchart('df-5e2c7570-bfcf-41b7-8c85-77b345f3d616')\"\n",
              "              title=\"Suggest charts.\"\n",
              "              style=\"display:none;\">\n",
              "\n",
              "<svg xmlns=\"http://www.w3.org/2000/svg\" height=\"24px\"viewBox=\"0 0 24 24\"\n",
              "     width=\"24px\">\n",
              "    <g>\n",
              "        <path d=\"M19 3H5c-1.1 0-2 .9-2 2v14c0 1.1.9 2 2 2h14c1.1 0 2-.9 2-2V5c0-1.1-.9-2-2-2zM9 17H7v-7h2v7zm4 0h-2V7h2v10zm4 0h-2v-4h2v4z\"/>\n",
              "    </g>\n",
              "</svg>\n",
              "      </button>\n",
              "    </div>\n",
              "\n",
              "<style>\n",
              "  .colab-df-quickchart {\n",
              "    background-color: #E8F0FE;\n",
              "    border: none;\n",
              "    border-radius: 50%;\n",
              "    cursor: pointer;\n",
              "    display: none;\n",
              "    fill: #1967D2;\n",
              "    height: 32px;\n",
              "    padding: 0 0 0 0;\n",
              "    width: 32px;\n",
              "  }\n",
              "\n",
              "  .colab-df-quickchart:hover {\n",
              "    background-color: #E2EBFA;\n",
              "    box-shadow: 0px 1px 2px rgba(60, 64, 67, 0.3), 0px 1px 3px 1px rgba(60, 64, 67, 0.15);\n",
              "    fill: #174EA6;\n",
              "  }\n",
              "\n",
              "  [theme=dark] .colab-df-quickchart {\n",
              "    background-color: #3B4455;\n",
              "    fill: #D2E3FC;\n",
              "  }\n",
              "\n",
              "  [theme=dark] .colab-df-quickchart:hover {\n",
              "    background-color: #434B5C;\n",
              "    box-shadow: 0px 1px 3px 1px rgba(0, 0, 0, 0.15);\n",
              "    filter: drop-shadow(0px 1px 2px rgba(0, 0, 0, 0.3));\n",
              "    fill: #FFFFFF;\n",
              "  }\n",
              "</style>\n",
              "\n",
              "    <script>\n",
              "      async function quickchart(key) {\n",
              "        const containerElement = document.querySelector('#' + key);\n",
              "        const charts = await google.colab.kernel.invokeFunction(\n",
              "            'suggestCharts', [key], {});\n",
              "      }\n",
              "    </script>\n",
              "\n",
              "      <script>\n",
              "\n",
              "function displayQuickchartButton(domScope) {\n",
              "  let quickchartButtonEl =\n",
              "    domScope.querySelector('#df-5e2c7570-bfcf-41b7-8c85-77b345f3d616 button.colab-df-quickchart');\n",
              "  quickchartButtonEl.style.display =\n",
              "    google.colab.kernel.accessAllowed ? 'block' : 'none';\n",
              "}\n",
              "\n",
              "        displayQuickchartButton(document);\n",
              "      </script>\n",
              "      <style>\n",
              "    .colab-df-container {\n",
              "      display:flex;\n",
              "      flex-wrap:wrap;\n",
              "      gap: 12px;\n",
              "    }\n",
              "\n",
              "    .colab-df-convert {\n",
              "      background-color: #E8F0FE;\n",
              "      border: none;\n",
              "      border-radius: 50%;\n",
              "      cursor: pointer;\n",
              "      display: none;\n",
              "      fill: #1967D2;\n",
              "      height: 32px;\n",
              "      padding: 0 0 0 0;\n",
              "      width: 32px;\n",
              "    }\n",
              "\n",
              "    .colab-df-convert:hover {\n",
              "      background-color: #E2EBFA;\n",
              "      box-shadow: 0px 1px 2px rgba(60, 64, 67, 0.3), 0px 1px 3px 1px rgba(60, 64, 67, 0.15);\n",
              "      fill: #174EA6;\n",
              "    }\n",
              "\n",
              "    [theme=dark] .colab-df-convert {\n",
              "      background-color: #3B4455;\n",
              "      fill: #D2E3FC;\n",
              "    }\n",
              "\n",
              "    [theme=dark] .colab-df-convert:hover {\n",
              "      background-color: #434B5C;\n",
              "      box-shadow: 0px 1px 3px 1px rgba(0, 0, 0, 0.15);\n",
              "      filter: drop-shadow(0px 1px 2px rgba(0, 0, 0, 0.3));\n",
              "      fill: #FFFFFF;\n",
              "    }\n",
              "  </style>\n",
              "\n",
              "      <script>\n",
              "        const buttonEl =\n",
              "          document.querySelector('#df-cf4e43ce-6c55-42a9-bcd6-e5b4762ad4d5 button.colab-df-convert');\n",
              "        buttonEl.style.display =\n",
              "          google.colab.kernel.accessAllowed ? 'block' : 'none';\n",
              "\n",
              "        async function convertToInteractive(key) {\n",
              "          const element = document.querySelector('#df-cf4e43ce-6c55-42a9-bcd6-e5b4762ad4d5');\n",
              "          const dataTable =\n",
              "            await google.colab.kernel.invokeFunction('convertToInteractive',\n",
              "                                                     [key], {});\n",
              "          if (!dataTable) return;\n",
              "\n",
              "          const docLinkHtml = 'Like what you see? Visit the ' +\n",
              "            '<a target=\"_blank\" href=https://colab.research.google.com/notebooks/data_table.ipynb>data table notebook</a>'\n",
              "            + ' to learn more about interactive tables.';\n",
              "          element.innerHTML = '';\n",
              "          dataTable['output_type'] = 'display_data';\n",
              "          await google.colab.output.renderOutput(dataTable, element);\n",
              "          const docLink = document.createElement('div');\n",
              "          docLink.innerHTML = docLinkHtml;\n",
              "          element.appendChild(docLink);\n",
              "        }\n",
              "      </script>\n",
              "    </div>\n",
              "  </div>\n"
            ]
          },
          "metadata": {},
          "execution_count": 461
        }
      ],
      "source": [
        "df.loc[['1st','2nd'], :] #return all columns"
      ]
    },
    {
      "cell_type": "code",
      "execution_count": null,
      "id": "02ed8794",
      "metadata": {
        "id": "02ed8794",
        "colab": {
          "base_uri": "https://localhost:8080/",
          "height": 363
        },
        "outputId": "346a182c-305e-433b-9a8d-519478198bc5"
      },
      "outputs": [
        {
          "output_type": "execute_result",
          "data": {
            "text/plain": [
              "         Name  Age  Gender    Country  Salary Department  Years of Experience  \\\n",
              "1st     Alice   25  Female        USA   50000  Marketing                    3   \n",
              "2nd       Bob   32    Male     Canada   75000    Finance                    8   \n",
              "3rd   Charlie   18    Male        USA   40000  Marketing                    1   \n",
              "4th     David   47    Male  Australia   90000         IT                   18   \n",
              "5th     Emily   29  Female         UK   60000         IT                    6   \n",
              "6th     Frank   36    Male     Canada   80000         HR                   10   \n",
              "7th    George   21    Male        USA   55000  Marketing                    2   \n",
              "8th     Helen   45  Female  Australia  100000         IT                   22   \n",
              "9th     Irene   28  Female         UK   65000         HR                    5   \n",
              "10th     Jack   33    Male        USA   70000    Finance                    7   \n",
              "\n",
              "     Education Level  \n",
              "1st         Bachelor  \n",
              "2nd           Master  \n",
              "3rd      High School  \n",
              "4th              PhD  \n",
              "5th         Bachelor  \n",
              "6th           Master  \n",
              "7th         Bachelor  \n",
              "8th              PhD  \n",
              "9th         Bachelor  \n",
              "10th          Master  "
            ],
            "text/html": [
              "\n",
              "\n",
              "  <div id=\"df-6d6dfe0e-2587-4ada-a032-6187efae2791\">\n",
              "    <div class=\"colab-df-container\">\n",
              "      <div>\n",
              "<style scoped>\n",
              "    .dataframe tbody tr th:only-of-type {\n",
              "        vertical-align: middle;\n",
              "    }\n",
              "\n",
              "    .dataframe tbody tr th {\n",
              "        vertical-align: top;\n",
              "    }\n",
              "\n",
              "    .dataframe thead th {\n",
              "        text-align: right;\n",
              "    }\n",
              "</style>\n",
              "<table border=\"1\" class=\"dataframe\">\n",
              "  <thead>\n",
              "    <tr style=\"text-align: right;\">\n",
              "      <th></th>\n",
              "      <th>Name</th>\n",
              "      <th>Age</th>\n",
              "      <th>Gender</th>\n",
              "      <th>Country</th>\n",
              "      <th>Salary</th>\n",
              "      <th>Department</th>\n",
              "      <th>Years of Experience</th>\n",
              "      <th>Education Level</th>\n",
              "    </tr>\n",
              "  </thead>\n",
              "  <tbody>\n",
              "    <tr>\n",
              "      <th>1st</th>\n",
              "      <td>Alice</td>\n",
              "      <td>25</td>\n",
              "      <td>Female</td>\n",
              "      <td>USA</td>\n",
              "      <td>50000</td>\n",
              "      <td>Marketing</td>\n",
              "      <td>3</td>\n",
              "      <td>Bachelor</td>\n",
              "    </tr>\n",
              "    <tr>\n",
              "      <th>2nd</th>\n",
              "      <td>Bob</td>\n",
              "      <td>32</td>\n",
              "      <td>Male</td>\n",
              "      <td>Canada</td>\n",
              "      <td>75000</td>\n",
              "      <td>Finance</td>\n",
              "      <td>8</td>\n",
              "      <td>Master</td>\n",
              "    </tr>\n",
              "    <tr>\n",
              "      <th>3rd</th>\n",
              "      <td>Charlie</td>\n",
              "      <td>18</td>\n",
              "      <td>Male</td>\n",
              "      <td>USA</td>\n",
              "      <td>40000</td>\n",
              "      <td>Marketing</td>\n",
              "      <td>1</td>\n",
              "      <td>High School</td>\n",
              "    </tr>\n",
              "    <tr>\n",
              "      <th>4th</th>\n",
              "      <td>David</td>\n",
              "      <td>47</td>\n",
              "      <td>Male</td>\n",
              "      <td>Australia</td>\n",
              "      <td>90000</td>\n",
              "      <td>IT</td>\n",
              "      <td>18</td>\n",
              "      <td>PhD</td>\n",
              "    </tr>\n",
              "    <tr>\n",
              "      <th>5th</th>\n",
              "      <td>Emily</td>\n",
              "      <td>29</td>\n",
              "      <td>Female</td>\n",
              "      <td>UK</td>\n",
              "      <td>60000</td>\n",
              "      <td>IT</td>\n",
              "      <td>6</td>\n",
              "      <td>Bachelor</td>\n",
              "    </tr>\n",
              "    <tr>\n",
              "      <th>6th</th>\n",
              "      <td>Frank</td>\n",
              "      <td>36</td>\n",
              "      <td>Male</td>\n",
              "      <td>Canada</td>\n",
              "      <td>80000</td>\n",
              "      <td>HR</td>\n",
              "      <td>10</td>\n",
              "      <td>Master</td>\n",
              "    </tr>\n",
              "    <tr>\n",
              "      <th>7th</th>\n",
              "      <td>George</td>\n",
              "      <td>21</td>\n",
              "      <td>Male</td>\n",
              "      <td>USA</td>\n",
              "      <td>55000</td>\n",
              "      <td>Marketing</td>\n",
              "      <td>2</td>\n",
              "      <td>Bachelor</td>\n",
              "    </tr>\n",
              "    <tr>\n",
              "      <th>8th</th>\n",
              "      <td>Helen</td>\n",
              "      <td>45</td>\n",
              "      <td>Female</td>\n",
              "      <td>Australia</td>\n",
              "      <td>100000</td>\n",
              "      <td>IT</td>\n",
              "      <td>22</td>\n",
              "      <td>PhD</td>\n",
              "    </tr>\n",
              "    <tr>\n",
              "      <th>9th</th>\n",
              "      <td>Irene</td>\n",
              "      <td>28</td>\n",
              "      <td>Female</td>\n",
              "      <td>UK</td>\n",
              "      <td>65000</td>\n",
              "      <td>HR</td>\n",
              "      <td>5</td>\n",
              "      <td>Bachelor</td>\n",
              "    </tr>\n",
              "    <tr>\n",
              "      <th>10th</th>\n",
              "      <td>Jack</td>\n",
              "      <td>33</td>\n",
              "      <td>Male</td>\n",
              "      <td>USA</td>\n",
              "      <td>70000</td>\n",
              "      <td>Finance</td>\n",
              "      <td>7</td>\n",
              "      <td>Master</td>\n",
              "    </tr>\n",
              "  </tbody>\n",
              "</table>\n",
              "</div>\n",
              "      <button class=\"colab-df-convert\" onclick=\"convertToInteractive('df-6d6dfe0e-2587-4ada-a032-6187efae2791')\"\n",
              "              title=\"Convert this dataframe to an interactive table.\"\n",
              "              style=\"display:none;\">\n",
              "\n",
              "  <svg xmlns=\"http://www.w3.org/2000/svg\" height=\"24px\"viewBox=\"0 0 24 24\"\n",
              "       width=\"24px\">\n",
              "    <path d=\"M0 0h24v24H0V0z\" fill=\"none\"/>\n",
              "    <path d=\"M18.56 5.44l.94 2.06.94-2.06 2.06-.94-2.06-.94-.94-2.06-.94 2.06-2.06.94zm-11 1L8.5 8.5l.94-2.06 2.06-.94-2.06-.94L8.5 2.5l-.94 2.06-2.06.94zm10 10l.94 2.06.94-2.06 2.06-.94-2.06-.94-.94-2.06-.94 2.06-2.06.94z\"/><path d=\"M17.41 7.96l-1.37-1.37c-.4-.4-.92-.59-1.43-.59-.52 0-1.04.2-1.43.59L10.3 9.45l-7.72 7.72c-.78.78-.78 2.05 0 2.83L4 21.41c.39.39.9.59 1.41.59.51 0 1.02-.2 1.41-.59l7.78-7.78 2.81-2.81c.8-.78.8-2.07 0-2.86zM5.41 20L4 18.59l7.72-7.72 1.47 1.35L5.41 20z\"/>\n",
              "  </svg>\n",
              "      </button>\n",
              "\n",
              "\n",
              "\n",
              "    <div id=\"df-d2fbbadd-6c17-4551-8951-2ebe91267636\">\n",
              "      <button class=\"colab-df-quickchart\" onclick=\"quickchart('df-d2fbbadd-6c17-4551-8951-2ebe91267636')\"\n",
              "              title=\"Suggest charts.\"\n",
              "              style=\"display:none;\">\n",
              "\n",
              "<svg xmlns=\"http://www.w3.org/2000/svg\" height=\"24px\"viewBox=\"0 0 24 24\"\n",
              "     width=\"24px\">\n",
              "    <g>\n",
              "        <path d=\"M19 3H5c-1.1 0-2 .9-2 2v14c0 1.1.9 2 2 2h14c1.1 0 2-.9 2-2V5c0-1.1-.9-2-2-2zM9 17H7v-7h2v7zm4 0h-2V7h2v10zm4 0h-2v-4h2v4z\"/>\n",
              "    </g>\n",
              "</svg>\n",
              "      </button>\n",
              "    </div>\n",
              "\n",
              "<style>\n",
              "  .colab-df-quickchart {\n",
              "    background-color: #E8F0FE;\n",
              "    border: none;\n",
              "    border-radius: 50%;\n",
              "    cursor: pointer;\n",
              "    display: none;\n",
              "    fill: #1967D2;\n",
              "    height: 32px;\n",
              "    padding: 0 0 0 0;\n",
              "    width: 32px;\n",
              "  }\n",
              "\n",
              "  .colab-df-quickchart:hover {\n",
              "    background-color: #E2EBFA;\n",
              "    box-shadow: 0px 1px 2px rgba(60, 64, 67, 0.3), 0px 1px 3px 1px rgba(60, 64, 67, 0.15);\n",
              "    fill: #174EA6;\n",
              "  }\n",
              "\n",
              "  [theme=dark] .colab-df-quickchart {\n",
              "    background-color: #3B4455;\n",
              "    fill: #D2E3FC;\n",
              "  }\n",
              "\n",
              "  [theme=dark] .colab-df-quickchart:hover {\n",
              "    background-color: #434B5C;\n",
              "    box-shadow: 0px 1px 3px 1px rgba(0, 0, 0, 0.15);\n",
              "    filter: drop-shadow(0px 1px 2px rgba(0, 0, 0, 0.3));\n",
              "    fill: #FFFFFF;\n",
              "  }\n",
              "</style>\n",
              "\n",
              "    <script>\n",
              "      async function quickchart(key) {\n",
              "        const containerElement = document.querySelector('#' + key);\n",
              "        const charts = await google.colab.kernel.invokeFunction(\n",
              "            'suggestCharts', [key], {});\n",
              "      }\n",
              "    </script>\n",
              "\n",
              "      <script>\n",
              "\n",
              "function displayQuickchartButton(domScope) {\n",
              "  let quickchartButtonEl =\n",
              "    domScope.querySelector('#df-d2fbbadd-6c17-4551-8951-2ebe91267636 button.colab-df-quickchart');\n",
              "  quickchartButtonEl.style.display =\n",
              "    google.colab.kernel.accessAllowed ? 'block' : 'none';\n",
              "}\n",
              "\n",
              "        displayQuickchartButton(document);\n",
              "      </script>\n",
              "      <style>\n",
              "    .colab-df-container {\n",
              "      display:flex;\n",
              "      flex-wrap:wrap;\n",
              "      gap: 12px;\n",
              "    }\n",
              "\n",
              "    .colab-df-convert {\n",
              "      background-color: #E8F0FE;\n",
              "      border: none;\n",
              "      border-radius: 50%;\n",
              "      cursor: pointer;\n",
              "      display: none;\n",
              "      fill: #1967D2;\n",
              "      height: 32px;\n",
              "      padding: 0 0 0 0;\n",
              "      width: 32px;\n",
              "    }\n",
              "\n",
              "    .colab-df-convert:hover {\n",
              "      background-color: #E2EBFA;\n",
              "      box-shadow: 0px 1px 2px rgba(60, 64, 67, 0.3), 0px 1px 3px 1px rgba(60, 64, 67, 0.15);\n",
              "      fill: #174EA6;\n",
              "    }\n",
              "\n",
              "    [theme=dark] .colab-df-convert {\n",
              "      background-color: #3B4455;\n",
              "      fill: #D2E3FC;\n",
              "    }\n",
              "\n",
              "    [theme=dark] .colab-df-convert:hover {\n",
              "      background-color: #434B5C;\n",
              "      box-shadow: 0px 1px 3px 1px rgba(0, 0, 0, 0.15);\n",
              "      filter: drop-shadow(0px 1px 2px rgba(0, 0, 0, 0.3));\n",
              "      fill: #FFFFFF;\n",
              "    }\n",
              "  </style>\n",
              "\n",
              "      <script>\n",
              "        const buttonEl =\n",
              "          document.querySelector('#df-6d6dfe0e-2587-4ada-a032-6187efae2791 button.colab-df-convert');\n",
              "        buttonEl.style.display =\n",
              "          google.colab.kernel.accessAllowed ? 'block' : 'none';\n",
              "\n",
              "        async function convertToInteractive(key) {\n",
              "          const element = document.querySelector('#df-6d6dfe0e-2587-4ada-a032-6187efae2791');\n",
              "          const dataTable =\n",
              "            await google.colab.kernel.invokeFunction('convertToInteractive',\n",
              "                                                     [key], {});\n",
              "          if (!dataTable) return;\n",
              "\n",
              "          const docLinkHtml = 'Like what you see? Visit the ' +\n",
              "            '<a target=\"_blank\" href=https://colab.research.google.com/notebooks/data_table.ipynb>data table notebook</a>'\n",
              "            + ' to learn more about interactive tables.';\n",
              "          element.innerHTML = '';\n",
              "          dataTable['output_type'] = 'display_data';\n",
              "          await google.colab.output.renderOutput(dataTable, element);\n",
              "          const docLink = document.createElement('div');\n",
              "          docLink.innerHTML = docLinkHtml;\n",
              "          element.appendChild(docLink);\n",
              "        }\n",
              "      </script>\n",
              "    </div>\n",
              "  </div>\n"
            ]
          },
          "metadata": {},
          "execution_count": 462
        }
      ],
      "source": [
        "df.loc[:,:] #loc[rows,columns]"
      ]
    },
    {
      "cell_type": "code",
      "execution_count": null,
      "id": "e3219c4e",
      "metadata": {
        "id": "e3219c4e"
      },
      "outputs": [],
      "source": [
        "# Now let us subset our dataframe in which we want to have first 8 rows identified with their rows labels and some named columns\n",
        "#df.loc[5:8,['Age','Country']]"
      ]
    },
    {
      "cell_type": "code",
      "execution_count": null,
      "id": "689aed27",
      "metadata": {
        "id": "689aed27",
        "colab": {
          "base_uri": "https://localhost:8080/",
          "height": 363
        },
        "outputId": "987be5d2-db89-4417-d90d-39b55712bdf8"
      },
      "outputs": [
        {
          "output_type": "execute_result",
          "data": {
            "text/plain": [
              "        Country\n",
              "1st         USA\n",
              "2nd      Canada\n",
              "3rd         USA\n",
              "4th   Australia\n",
              "5th          UK\n",
              "6th      Canada\n",
              "7th         USA\n",
              "8th   Australia\n",
              "9th          UK\n",
              "10th        USA"
            ],
            "text/html": [
              "\n",
              "\n",
              "  <div id=\"df-29b13f86-6106-4221-ba4a-af812977939f\">\n",
              "    <div class=\"colab-df-container\">\n",
              "      <div>\n",
              "<style scoped>\n",
              "    .dataframe tbody tr th:only-of-type {\n",
              "        vertical-align: middle;\n",
              "    }\n",
              "\n",
              "    .dataframe tbody tr th {\n",
              "        vertical-align: top;\n",
              "    }\n",
              "\n",
              "    .dataframe thead th {\n",
              "        text-align: right;\n",
              "    }\n",
              "</style>\n",
              "<table border=\"1\" class=\"dataframe\">\n",
              "  <thead>\n",
              "    <tr style=\"text-align: right;\">\n",
              "      <th></th>\n",
              "      <th>Country</th>\n",
              "    </tr>\n",
              "  </thead>\n",
              "  <tbody>\n",
              "    <tr>\n",
              "      <th>1st</th>\n",
              "      <td>USA</td>\n",
              "    </tr>\n",
              "    <tr>\n",
              "      <th>2nd</th>\n",
              "      <td>Canada</td>\n",
              "    </tr>\n",
              "    <tr>\n",
              "      <th>3rd</th>\n",
              "      <td>USA</td>\n",
              "    </tr>\n",
              "    <tr>\n",
              "      <th>4th</th>\n",
              "      <td>Australia</td>\n",
              "    </tr>\n",
              "    <tr>\n",
              "      <th>5th</th>\n",
              "      <td>UK</td>\n",
              "    </tr>\n",
              "    <tr>\n",
              "      <th>6th</th>\n",
              "      <td>Canada</td>\n",
              "    </tr>\n",
              "    <tr>\n",
              "      <th>7th</th>\n",
              "      <td>USA</td>\n",
              "    </tr>\n",
              "    <tr>\n",
              "      <th>8th</th>\n",
              "      <td>Australia</td>\n",
              "    </tr>\n",
              "    <tr>\n",
              "      <th>9th</th>\n",
              "      <td>UK</td>\n",
              "    </tr>\n",
              "    <tr>\n",
              "      <th>10th</th>\n",
              "      <td>USA</td>\n",
              "    </tr>\n",
              "  </tbody>\n",
              "</table>\n",
              "</div>\n",
              "      <button class=\"colab-df-convert\" onclick=\"convertToInteractive('df-29b13f86-6106-4221-ba4a-af812977939f')\"\n",
              "              title=\"Convert this dataframe to an interactive table.\"\n",
              "              style=\"display:none;\">\n",
              "\n",
              "  <svg xmlns=\"http://www.w3.org/2000/svg\" height=\"24px\"viewBox=\"0 0 24 24\"\n",
              "       width=\"24px\">\n",
              "    <path d=\"M0 0h24v24H0V0z\" fill=\"none\"/>\n",
              "    <path d=\"M18.56 5.44l.94 2.06.94-2.06 2.06-.94-2.06-.94-.94-2.06-.94 2.06-2.06.94zm-11 1L8.5 8.5l.94-2.06 2.06-.94-2.06-.94L8.5 2.5l-.94 2.06-2.06.94zm10 10l.94 2.06.94-2.06 2.06-.94-2.06-.94-.94-2.06-.94 2.06-2.06.94z\"/><path d=\"M17.41 7.96l-1.37-1.37c-.4-.4-.92-.59-1.43-.59-.52 0-1.04.2-1.43.59L10.3 9.45l-7.72 7.72c-.78.78-.78 2.05 0 2.83L4 21.41c.39.39.9.59 1.41.59.51 0 1.02-.2 1.41-.59l7.78-7.78 2.81-2.81c.8-.78.8-2.07 0-2.86zM5.41 20L4 18.59l7.72-7.72 1.47 1.35L5.41 20z\"/>\n",
              "  </svg>\n",
              "      </button>\n",
              "\n",
              "\n",
              "\n",
              "    <div id=\"df-38bc496b-8204-4df8-a60c-7c4862d9507c\">\n",
              "      <button class=\"colab-df-quickchart\" onclick=\"quickchart('df-38bc496b-8204-4df8-a60c-7c4862d9507c')\"\n",
              "              title=\"Suggest charts.\"\n",
              "              style=\"display:none;\">\n",
              "\n",
              "<svg xmlns=\"http://www.w3.org/2000/svg\" height=\"24px\"viewBox=\"0 0 24 24\"\n",
              "     width=\"24px\">\n",
              "    <g>\n",
              "        <path d=\"M19 3H5c-1.1 0-2 .9-2 2v14c0 1.1.9 2 2 2h14c1.1 0 2-.9 2-2V5c0-1.1-.9-2-2-2zM9 17H7v-7h2v7zm4 0h-2V7h2v10zm4 0h-2v-4h2v4z\"/>\n",
              "    </g>\n",
              "</svg>\n",
              "      </button>\n",
              "    </div>\n",
              "\n",
              "<style>\n",
              "  .colab-df-quickchart {\n",
              "    background-color: #E8F0FE;\n",
              "    border: none;\n",
              "    border-radius: 50%;\n",
              "    cursor: pointer;\n",
              "    display: none;\n",
              "    fill: #1967D2;\n",
              "    height: 32px;\n",
              "    padding: 0 0 0 0;\n",
              "    width: 32px;\n",
              "  }\n",
              "\n",
              "  .colab-df-quickchart:hover {\n",
              "    background-color: #E2EBFA;\n",
              "    box-shadow: 0px 1px 2px rgba(60, 64, 67, 0.3), 0px 1px 3px 1px rgba(60, 64, 67, 0.15);\n",
              "    fill: #174EA6;\n",
              "  }\n",
              "\n",
              "  [theme=dark] .colab-df-quickchart {\n",
              "    background-color: #3B4455;\n",
              "    fill: #D2E3FC;\n",
              "  }\n",
              "\n",
              "  [theme=dark] .colab-df-quickchart:hover {\n",
              "    background-color: #434B5C;\n",
              "    box-shadow: 0px 1px 3px 1px rgba(0, 0, 0, 0.15);\n",
              "    filter: drop-shadow(0px 1px 2px rgba(0, 0, 0, 0.3));\n",
              "    fill: #FFFFFF;\n",
              "  }\n",
              "</style>\n",
              "\n",
              "    <script>\n",
              "      async function quickchart(key) {\n",
              "        const containerElement = document.querySelector('#' + key);\n",
              "        const charts = await google.colab.kernel.invokeFunction(\n",
              "            'suggestCharts', [key], {});\n",
              "      }\n",
              "    </script>\n",
              "\n",
              "      <script>\n",
              "\n",
              "function displayQuickchartButton(domScope) {\n",
              "  let quickchartButtonEl =\n",
              "    domScope.querySelector('#df-38bc496b-8204-4df8-a60c-7c4862d9507c button.colab-df-quickchart');\n",
              "  quickchartButtonEl.style.display =\n",
              "    google.colab.kernel.accessAllowed ? 'block' : 'none';\n",
              "}\n",
              "\n",
              "        displayQuickchartButton(document);\n",
              "      </script>\n",
              "      <style>\n",
              "    .colab-df-container {\n",
              "      display:flex;\n",
              "      flex-wrap:wrap;\n",
              "      gap: 12px;\n",
              "    }\n",
              "\n",
              "    .colab-df-convert {\n",
              "      background-color: #E8F0FE;\n",
              "      border: none;\n",
              "      border-radius: 50%;\n",
              "      cursor: pointer;\n",
              "      display: none;\n",
              "      fill: #1967D2;\n",
              "      height: 32px;\n",
              "      padding: 0 0 0 0;\n",
              "      width: 32px;\n",
              "    }\n",
              "\n",
              "    .colab-df-convert:hover {\n",
              "      background-color: #E2EBFA;\n",
              "      box-shadow: 0px 1px 2px rgba(60, 64, 67, 0.3), 0px 1px 3px 1px rgba(60, 64, 67, 0.15);\n",
              "      fill: #174EA6;\n",
              "    }\n",
              "\n",
              "    [theme=dark] .colab-df-convert {\n",
              "      background-color: #3B4455;\n",
              "      fill: #D2E3FC;\n",
              "    }\n",
              "\n",
              "    [theme=dark] .colab-df-convert:hover {\n",
              "      background-color: #434B5C;\n",
              "      box-shadow: 0px 1px 3px 1px rgba(0, 0, 0, 0.15);\n",
              "      filter: drop-shadow(0px 1px 2px rgba(0, 0, 0, 0.3));\n",
              "      fill: #FFFFFF;\n",
              "    }\n",
              "  </style>\n",
              "\n",
              "      <script>\n",
              "        const buttonEl =\n",
              "          document.querySelector('#df-29b13f86-6106-4221-ba4a-af812977939f button.colab-df-convert');\n",
              "        buttonEl.style.display =\n",
              "          google.colab.kernel.accessAllowed ? 'block' : 'none';\n",
              "\n",
              "        async function convertToInteractive(key) {\n",
              "          const element = document.querySelector('#df-29b13f86-6106-4221-ba4a-af812977939f');\n",
              "          const dataTable =\n",
              "            await google.colab.kernel.invokeFunction('convertToInteractive',\n",
              "                                                     [key], {});\n",
              "          if (!dataTable) return;\n",
              "\n",
              "          const docLinkHtml = 'Like what you see? Visit the ' +\n",
              "            '<a target=\"_blank\" href=https://colab.research.google.com/notebooks/data_table.ipynb>data table notebook</a>'\n",
              "            + ' to learn more about interactive tables.';\n",
              "          element.innerHTML = '';\n",
              "          dataTable['output_type'] = 'display_data';\n",
              "          await google.colab.output.renderOutput(dataTable, element);\n",
              "          const docLink = document.createElement('div');\n",
              "          docLink.innerHTML = docLinkHtml;\n",
              "          element.appendChild(docLink);\n",
              "        }\n",
              "      </script>\n",
              "    </div>\n",
              "  </div>\n"
            ]
          },
          "metadata": {},
          "execution_count": 464
        }
      ],
      "source": [
        "df.loc[:,['Country']]"
      ]
    },
    {
      "cell_type": "code",
      "execution_count": null,
      "id": "7ed6f072",
      "metadata": {
        "id": "7ed6f072",
        "colab": {
          "base_uri": "https://localhost:8080/",
          "height": 36
        },
        "outputId": "592b5796-ed80-4c48-983e-51f87e74d3a9"
      },
      "outputs": [
        {
          "output_type": "execute_result",
          "data": {
            "text/plain": [
              "'Alice'"
            ],
            "application/vnd.google.colaboratory.intrinsic+json": {
              "type": "string"
            }
          },
          "metadata": {},
          "execution_count": 465
        }
      ],
      "source": [
        "df.iloc[0,0] #if work throgh index(integer based undexing)"
      ]
    },
    {
      "cell_type": "code",
      "execution_count": null,
      "id": "82b6892e",
      "metadata": {
        "id": "82b6892e",
        "colab": {
          "base_uri": "https://localhost:8080/",
          "height": 363
        },
        "outputId": "3a78c243-3822-4060-e04e-4c4d2b44dbc6"
      },
      "outputs": [
        {
          "output_type": "execute_result",
          "data": {
            "text/plain": [
              "      Age    Country\n",
              "1st    25        USA\n",
              "2nd    32     Canada\n",
              "3rd    18        USA\n",
              "4th    47  Australia\n",
              "5th    29         UK\n",
              "6th    36     Canada\n",
              "7th    21        USA\n",
              "8th    45  Australia\n",
              "9th    28         UK\n",
              "10th   33        USA"
            ],
            "text/html": [
              "\n",
              "\n",
              "  <div id=\"df-8c15fe3e-3a6d-40c4-8fb3-e6c18b38da93\">\n",
              "    <div class=\"colab-df-container\">\n",
              "      <div>\n",
              "<style scoped>\n",
              "    .dataframe tbody tr th:only-of-type {\n",
              "        vertical-align: middle;\n",
              "    }\n",
              "\n",
              "    .dataframe tbody tr th {\n",
              "        vertical-align: top;\n",
              "    }\n",
              "\n",
              "    .dataframe thead th {\n",
              "        text-align: right;\n",
              "    }\n",
              "</style>\n",
              "<table border=\"1\" class=\"dataframe\">\n",
              "  <thead>\n",
              "    <tr style=\"text-align: right;\">\n",
              "      <th></th>\n",
              "      <th>Age</th>\n",
              "      <th>Country</th>\n",
              "    </tr>\n",
              "  </thead>\n",
              "  <tbody>\n",
              "    <tr>\n",
              "      <th>1st</th>\n",
              "      <td>25</td>\n",
              "      <td>USA</td>\n",
              "    </tr>\n",
              "    <tr>\n",
              "      <th>2nd</th>\n",
              "      <td>32</td>\n",
              "      <td>Canada</td>\n",
              "    </tr>\n",
              "    <tr>\n",
              "      <th>3rd</th>\n",
              "      <td>18</td>\n",
              "      <td>USA</td>\n",
              "    </tr>\n",
              "    <tr>\n",
              "      <th>4th</th>\n",
              "      <td>47</td>\n",
              "      <td>Australia</td>\n",
              "    </tr>\n",
              "    <tr>\n",
              "      <th>5th</th>\n",
              "      <td>29</td>\n",
              "      <td>UK</td>\n",
              "    </tr>\n",
              "    <tr>\n",
              "      <th>6th</th>\n",
              "      <td>36</td>\n",
              "      <td>Canada</td>\n",
              "    </tr>\n",
              "    <tr>\n",
              "      <th>7th</th>\n",
              "      <td>21</td>\n",
              "      <td>USA</td>\n",
              "    </tr>\n",
              "    <tr>\n",
              "      <th>8th</th>\n",
              "      <td>45</td>\n",
              "      <td>Australia</td>\n",
              "    </tr>\n",
              "    <tr>\n",
              "      <th>9th</th>\n",
              "      <td>28</td>\n",
              "      <td>UK</td>\n",
              "    </tr>\n",
              "    <tr>\n",
              "      <th>10th</th>\n",
              "      <td>33</td>\n",
              "      <td>USA</td>\n",
              "    </tr>\n",
              "  </tbody>\n",
              "</table>\n",
              "</div>\n",
              "      <button class=\"colab-df-convert\" onclick=\"convertToInteractive('df-8c15fe3e-3a6d-40c4-8fb3-e6c18b38da93')\"\n",
              "              title=\"Convert this dataframe to an interactive table.\"\n",
              "              style=\"display:none;\">\n",
              "\n",
              "  <svg xmlns=\"http://www.w3.org/2000/svg\" height=\"24px\"viewBox=\"0 0 24 24\"\n",
              "       width=\"24px\">\n",
              "    <path d=\"M0 0h24v24H0V0z\" fill=\"none\"/>\n",
              "    <path d=\"M18.56 5.44l.94 2.06.94-2.06 2.06-.94-2.06-.94-.94-2.06-.94 2.06-2.06.94zm-11 1L8.5 8.5l.94-2.06 2.06-.94-2.06-.94L8.5 2.5l-.94 2.06-2.06.94zm10 10l.94 2.06.94-2.06 2.06-.94-2.06-.94-.94-2.06-.94 2.06-2.06.94z\"/><path d=\"M17.41 7.96l-1.37-1.37c-.4-.4-.92-.59-1.43-.59-.52 0-1.04.2-1.43.59L10.3 9.45l-7.72 7.72c-.78.78-.78 2.05 0 2.83L4 21.41c.39.39.9.59 1.41.59.51 0 1.02-.2 1.41-.59l7.78-7.78 2.81-2.81c.8-.78.8-2.07 0-2.86zM5.41 20L4 18.59l7.72-7.72 1.47 1.35L5.41 20z\"/>\n",
              "  </svg>\n",
              "      </button>\n",
              "\n",
              "\n",
              "\n",
              "    <div id=\"df-2fd92fb2-b3fa-47ef-8202-4458c7297cf4\">\n",
              "      <button class=\"colab-df-quickchart\" onclick=\"quickchart('df-2fd92fb2-b3fa-47ef-8202-4458c7297cf4')\"\n",
              "              title=\"Suggest charts.\"\n",
              "              style=\"display:none;\">\n",
              "\n",
              "<svg xmlns=\"http://www.w3.org/2000/svg\" height=\"24px\"viewBox=\"0 0 24 24\"\n",
              "     width=\"24px\">\n",
              "    <g>\n",
              "        <path d=\"M19 3H5c-1.1 0-2 .9-2 2v14c0 1.1.9 2 2 2h14c1.1 0 2-.9 2-2V5c0-1.1-.9-2-2-2zM9 17H7v-7h2v7zm4 0h-2V7h2v10zm4 0h-2v-4h2v4z\"/>\n",
              "    </g>\n",
              "</svg>\n",
              "      </button>\n",
              "    </div>\n",
              "\n",
              "<style>\n",
              "  .colab-df-quickchart {\n",
              "    background-color: #E8F0FE;\n",
              "    border: none;\n",
              "    border-radius: 50%;\n",
              "    cursor: pointer;\n",
              "    display: none;\n",
              "    fill: #1967D2;\n",
              "    height: 32px;\n",
              "    padding: 0 0 0 0;\n",
              "    width: 32px;\n",
              "  }\n",
              "\n",
              "  .colab-df-quickchart:hover {\n",
              "    background-color: #E2EBFA;\n",
              "    box-shadow: 0px 1px 2px rgba(60, 64, 67, 0.3), 0px 1px 3px 1px rgba(60, 64, 67, 0.15);\n",
              "    fill: #174EA6;\n",
              "  }\n",
              "\n",
              "  [theme=dark] .colab-df-quickchart {\n",
              "    background-color: #3B4455;\n",
              "    fill: #D2E3FC;\n",
              "  }\n",
              "\n",
              "  [theme=dark] .colab-df-quickchart:hover {\n",
              "    background-color: #434B5C;\n",
              "    box-shadow: 0px 1px 3px 1px rgba(0, 0, 0, 0.15);\n",
              "    filter: drop-shadow(0px 1px 2px rgba(0, 0, 0, 0.3));\n",
              "    fill: #FFFFFF;\n",
              "  }\n",
              "</style>\n",
              "\n",
              "    <script>\n",
              "      async function quickchart(key) {\n",
              "        const containerElement = document.querySelector('#' + key);\n",
              "        const charts = await google.colab.kernel.invokeFunction(\n",
              "            'suggestCharts', [key], {});\n",
              "      }\n",
              "    </script>\n",
              "\n",
              "      <script>\n",
              "\n",
              "function displayQuickchartButton(domScope) {\n",
              "  let quickchartButtonEl =\n",
              "    domScope.querySelector('#df-2fd92fb2-b3fa-47ef-8202-4458c7297cf4 button.colab-df-quickchart');\n",
              "  quickchartButtonEl.style.display =\n",
              "    google.colab.kernel.accessAllowed ? 'block' : 'none';\n",
              "}\n",
              "\n",
              "        displayQuickchartButton(document);\n",
              "      </script>\n",
              "      <style>\n",
              "    .colab-df-container {\n",
              "      display:flex;\n",
              "      flex-wrap:wrap;\n",
              "      gap: 12px;\n",
              "    }\n",
              "\n",
              "    .colab-df-convert {\n",
              "      background-color: #E8F0FE;\n",
              "      border: none;\n",
              "      border-radius: 50%;\n",
              "      cursor: pointer;\n",
              "      display: none;\n",
              "      fill: #1967D2;\n",
              "      height: 32px;\n",
              "      padding: 0 0 0 0;\n",
              "      width: 32px;\n",
              "    }\n",
              "\n",
              "    .colab-df-convert:hover {\n",
              "      background-color: #E2EBFA;\n",
              "      box-shadow: 0px 1px 2px rgba(60, 64, 67, 0.3), 0px 1px 3px 1px rgba(60, 64, 67, 0.15);\n",
              "      fill: #174EA6;\n",
              "    }\n",
              "\n",
              "    [theme=dark] .colab-df-convert {\n",
              "      background-color: #3B4455;\n",
              "      fill: #D2E3FC;\n",
              "    }\n",
              "\n",
              "    [theme=dark] .colab-df-convert:hover {\n",
              "      background-color: #434B5C;\n",
              "      box-shadow: 0px 1px 3px 1px rgba(0, 0, 0, 0.15);\n",
              "      filter: drop-shadow(0px 1px 2px rgba(0, 0, 0, 0.3));\n",
              "      fill: #FFFFFF;\n",
              "    }\n",
              "  </style>\n",
              "\n",
              "      <script>\n",
              "        const buttonEl =\n",
              "          document.querySelector('#df-8c15fe3e-3a6d-40c4-8fb3-e6c18b38da93 button.colab-df-convert');\n",
              "        buttonEl.style.display =\n",
              "          google.colab.kernel.accessAllowed ? 'block' : 'none';\n",
              "\n",
              "        async function convertToInteractive(key) {\n",
              "          const element = document.querySelector('#df-8c15fe3e-3a6d-40c4-8fb3-e6c18b38da93');\n",
              "          const dataTable =\n",
              "            await google.colab.kernel.invokeFunction('convertToInteractive',\n",
              "                                                     [key], {});\n",
              "          if (!dataTable) return;\n",
              "\n",
              "          const docLinkHtml = 'Like what you see? Visit the ' +\n",
              "            '<a target=\"_blank\" href=https://colab.research.google.com/notebooks/data_table.ipynb>data table notebook</a>'\n",
              "            + ' to learn more about interactive tables.';\n",
              "          element.innerHTML = '';\n",
              "          dataTable['output_type'] = 'display_data';\n",
              "          await google.colab.output.renderOutput(dataTable, element);\n",
              "          const docLink = document.createElement('div');\n",
              "          docLink.innerHTML = docLinkHtml;\n",
              "          element.appendChild(docLink);\n",
              "        }\n",
              "      </script>\n",
              "    </div>\n",
              "  </div>\n"
            ]
          },
          "metadata": {},
          "execution_count": 466
        }
      ],
      "source": [
        "df[['Age','Country']]"
      ]
    },
    {
      "cell_type": "markdown",
      "id": "92ccfb35",
      "metadata": {
        "id": "92ccfb35"
      },
      "source": [
        "Boolean Indexing"
      ]
    },
    {
      "cell_type": "code",
      "execution_count": null,
      "id": "398fb04f",
      "metadata": {
        "id": "398fb04f",
        "colab": {
          "base_uri": "https://localhost:8080/"
        },
        "outputId": "5b17c7d7-923f-415b-fb3f-4ec12922753f"
      },
      "outputs": [
        {
          "output_type": "execute_result",
          "data": {
            "text/plain": [
              "1st      True\n",
              "2nd     False\n",
              "3rd      True\n",
              "4th     False\n",
              "5th     False\n",
              "6th     False\n",
              "7th      True\n",
              "8th     False\n",
              "9th     False\n",
              "10th     True\n",
              "Name: Country, dtype: bool"
            ]
          },
          "metadata": {},
          "execution_count": 467
        }
      ],
      "source": [
        "df['Country']=='USA'"
      ]
    },
    {
      "cell_type": "code",
      "execution_count": null,
      "id": "6c1eb707",
      "metadata": {
        "id": "6c1eb707",
        "colab": {
          "base_uri": "https://localhost:8080/",
          "height": 175
        },
        "outputId": "34841e42-a344-40b7-d0cd-bc97441329b7"
      },
      "outputs": [
        {
          "output_type": "execute_result",
          "data": {
            "text/plain": [
              "         Name  Age  Gender Country  Salary Department  Years of Experience  \\\n",
              "1st     Alice   25  Female     USA   50000  Marketing                    3   \n",
              "3rd   Charlie   18    Male     USA   40000  Marketing                    1   \n",
              "7th    George   21    Male     USA   55000  Marketing                    2   \n",
              "10th     Jack   33    Male     USA   70000    Finance                    7   \n",
              "\n",
              "     Education Level  \n",
              "1st         Bachelor  \n",
              "3rd      High School  \n",
              "7th         Bachelor  \n",
              "10th          Master  "
            ],
            "text/html": [
              "\n",
              "\n",
              "  <div id=\"df-74e0e7b0-e3b6-450b-a6bb-7539cf590fe9\">\n",
              "    <div class=\"colab-df-container\">\n",
              "      <div>\n",
              "<style scoped>\n",
              "    .dataframe tbody tr th:only-of-type {\n",
              "        vertical-align: middle;\n",
              "    }\n",
              "\n",
              "    .dataframe tbody tr th {\n",
              "        vertical-align: top;\n",
              "    }\n",
              "\n",
              "    .dataframe thead th {\n",
              "        text-align: right;\n",
              "    }\n",
              "</style>\n",
              "<table border=\"1\" class=\"dataframe\">\n",
              "  <thead>\n",
              "    <tr style=\"text-align: right;\">\n",
              "      <th></th>\n",
              "      <th>Name</th>\n",
              "      <th>Age</th>\n",
              "      <th>Gender</th>\n",
              "      <th>Country</th>\n",
              "      <th>Salary</th>\n",
              "      <th>Department</th>\n",
              "      <th>Years of Experience</th>\n",
              "      <th>Education Level</th>\n",
              "    </tr>\n",
              "  </thead>\n",
              "  <tbody>\n",
              "    <tr>\n",
              "      <th>1st</th>\n",
              "      <td>Alice</td>\n",
              "      <td>25</td>\n",
              "      <td>Female</td>\n",
              "      <td>USA</td>\n",
              "      <td>50000</td>\n",
              "      <td>Marketing</td>\n",
              "      <td>3</td>\n",
              "      <td>Bachelor</td>\n",
              "    </tr>\n",
              "    <tr>\n",
              "      <th>3rd</th>\n",
              "      <td>Charlie</td>\n",
              "      <td>18</td>\n",
              "      <td>Male</td>\n",
              "      <td>USA</td>\n",
              "      <td>40000</td>\n",
              "      <td>Marketing</td>\n",
              "      <td>1</td>\n",
              "      <td>High School</td>\n",
              "    </tr>\n",
              "    <tr>\n",
              "      <th>7th</th>\n",
              "      <td>George</td>\n",
              "      <td>21</td>\n",
              "      <td>Male</td>\n",
              "      <td>USA</td>\n",
              "      <td>55000</td>\n",
              "      <td>Marketing</td>\n",
              "      <td>2</td>\n",
              "      <td>Bachelor</td>\n",
              "    </tr>\n",
              "    <tr>\n",
              "      <th>10th</th>\n",
              "      <td>Jack</td>\n",
              "      <td>33</td>\n",
              "      <td>Male</td>\n",
              "      <td>USA</td>\n",
              "      <td>70000</td>\n",
              "      <td>Finance</td>\n",
              "      <td>7</td>\n",
              "      <td>Master</td>\n",
              "    </tr>\n",
              "  </tbody>\n",
              "</table>\n",
              "</div>\n",
              "      <button class=\"colab-df-convert\" onclick=\"convertToInteractive('df-74e0e7b0-e3b6-450b-a6bb-7539cf590fe9')\"\n",
              "              title=\"Convert this dataframe to an interactive table.\"\n",
              "              style=\"display:none;\">\n",
              "\n",
              "  <svg xmlns=\"http://www.w3.org/2000/svg\" height=\"24px\"viewBox=\"0 0 24 24\"\n",
              "       width=\"24px\">\n",
              "    <path d=\"M0 0h24v24H0V0z\" fill=\"none\"/>\n",
              "    <path d=\"M18.56 5.44l.94 2.06.94-2.06 2.06-.94-2.06-.94-.94-2.06-.94 2.06-2.06.94zm-11 1L8.5 8.5l.94-2.06 2.06-.94-2.06-.94L8.5 2.5l-.94 2.06-2.06.94zm10 10l.94 2.06.94-2.06 2.06-.94-2.06-.94-.94-2.06-.94 2.06-2.06.94z\"/><path d=\"M17.41 7.96l-1.37-1.37c-.4-.4-.92-.59-1.43-.59-.52 0-1.04.2-1.43.59L10.3 9.45l-7.72 7.72c-.78.78-.78 2.05 0 2.83L4 21.41c.39.39.9.59 1.41.59.51 0 1.02-.2 1.41-.59l7.78-7.78 2.81-2.81c.8-.78.8-2.07 0-2.86zM5.41 20L4 18.59l7.72-7.72 1.47 1.35L5.41 20z\"/>\n",
              "  </svg>\n",
              "      </button>\n",
              "\n",
              "\n",
              "\n",
              "    <div id=\"df-28a2b3d3-7028-4fa3-8da1-e6148e65755b\">\n",
              "      <button class=\"colab-df-quickchart\" onclick=\"quickchart('df-28a2b3d3-7028-4fa3-8da1-e6148e65755b')\"\n",
              "              title=\"Suggest charts.\"\n",
              "              style=\"display:none;\">\n",
              "\n",
              "<svg xmlns=\"http://www.w3.org/2000/svg\" height=\"24px\"viewBox=\"0 0 24 24\"\n",
              "     width=\"24px\">\n",
              "    <g>\n",
              "        <path d=\"M19 3H5c-1.1 0-2 .9-2 2v14c0 1.1.9 2 2 2h14c1.1 0 2-.9 2-2V5c0-1.1-.9-2-2-2zM9 17H7v-7h2v7zm4 0h-2V7h2v10zm4 0h-2v-4h2v4z\"/>\n",
              "    </g>\n",
              "</svg>\n",
              "      </button>\n",
              "    </div>\n",
              "\n",
              "<style>\n",
              "  .colab-df-quickchart {\n",
              "    background-color: #E8F0FE;\n",
              "    border: none;\n",
              "    border-radius: 50%;\n",
              "    cursor: pointer;\n",
              "    display: none;\n",
              "    fill: #1967D2;\n",
              "    height: 32px;\n",
              "    padding: 0 0 0 0;\n",
              "    width: 32px;\n",
              "  }\n",
              "\n",
              "  .colab-df-quickchart:hover {\n",
              "    background-color: #E2EBFA;\n",
              "    box-shadow: 0px 1px 2px rgba(60, 64, 67, 0.3), 0px 1px 3px 1px rgba(60, 64, 67, 0.15);\n",
              "    fill: #174EA6;\n",
              "  }\n",
              "\n",
              "  [theme=dark] .colab-df-quickchart {\n",
              "    background-color: #3B4455;\n",
              "    fill: #D2E3FC;\n",
              "  }\n",
              "\n",
              "  [theme=dark] .colab-df-quickchart:hover {\n",
              "    background-color: #434B5C;\n",
              "    box-shadow: 0px 1px 3px 1px rgba(0, 0, 0, 0.15);\n",
              "    filter: drop-shadow(0px 1px 2px rgba(0, 0, 0, 0.3));\n",
              "    fill: #FFFFFF;\n",
              "  }\n",
              "</style>\n",
              "\n",
              "    <script>\n",
              "      async function quickchart(key) {\n",
              "        const containerElement = document.querySelector('#' + key);\n",
              "        const charts = await google.colab.kernel.invokeFunction(\n",
              "            'suggestCharts', [key], {});\n",
              "      }\n",
              "    </script>\n",
              "\n",
              "      <script>\n",
              "\n",
              "function displayQuickchartButton(domScope) {\n",
              "  let quickchartButtonEl =\n",
              "    domScope.querySelector('#df-28a2b3d3-7028-4fa3-8da1-e6148e65755b button.colab-df-quickchart');\n",
              "  quickchartButtonEl.style.display =\n",
              "    google.colab.kernel.accessAllowed ? 'block' : 'none';\n",
              "}\n",
              "\n",
              "        displayQuickchartButton(document);\n",
              "      </script>\n",
              "      <style>\n",
              "    .colab-df-container {\n",
              "      display:flex;\n",
              "      flex-wrap:wrap;\n",
              "      gap: 12px;\n",
              "    }\n",
              "\n",
              "    .colab-df-convert {\n",
              "      background-color: #E8F0FE;\n",
              "      border: none;\n",
              "      border-radius: 50%;\n",
              "      cursor: pointer;\n",
              "      display: none;\n",
              "      fill: #1967D2;\n",
              "      height: 32px;\n",
              "      padding: 0 0 0 0;\n",
              "      width: 32px;\n",
              "    }\n",
              "\n",
              "    .colab-df-convert:hover {\n",
              "      background-color: #E2EBFA;\n",
              "      box-shadow: 0px 1px 2px rgba(60, 64, 67, 0.3), 0px 1px 3px 1px rgba(60, 64, 67, 0.15);\n",
              "      fill: #174EA6;\n",
              "    }\n",
              "\n",
              "    [theme=dark] .colab-df-convert {\n",
              "      background-color: #3B4455;\n",
              "      fill: #D2E3FC;\n",
              "    }\n",
              "\n",
              "    [theme=dark] .colab-df-convert:hover {\n",
              "      background-color: #434B5C;\n",
              "      box-shadow: 0px 1px 3px 1px rgba(0, 0, 0, 0.15);\n",
              "      filter: drop-shadow(0px 1px 2px rgba(0, 0, 0, 0.3));\n",
              "      fill: #FFFFFF;\n",
              "    }\n",
              "  </style>\n",
              "\n",
              "      <script>\n",
              "        const buttonEl =\n",
              "          document.querySelector('#df-74e0e7b0-e3b6-450b-a6bb-7539cf590fe9 button.colab-df-convert');\n",
              "        buttonEl.style.display =\n",
              "          google.colab.kernel.accessAllowed ? 'block' : 'none';\n",
              "\n",
              "        async function convertToInteractive(key) {\n",
              "          const element = document.querySelector('#df-74e0e7b0-e3b6-450b-a6bb-7539cf590fe9');\n",
              "          const dataTable =\n",
              "            await google.colab.kernel.invokeFunction('convertToInteractive',\n",
              "                                                     [key], {});\n",
              "          if (!dataTable) return;\n",
              "\n",
              "          const docLinkHtml = 'Like what you see? Visit the ' +\n",
              "            '<a target=\"_blank\" href=https://colab.research.google.com/notebooks/data_table.ipynb>data table notebook</a>'\n",
              "            + ' to learn more about interactive tables.';\n",
              "          element.innerHTML = '';\n",
              "          dataTable['output_type'] = 'display_data';\n",
              "          await google.colab.output.renderOutput(dataTable, element);\n",
              "          const docLink = document.createElement('div');\n",
              "          docLink.innerHTML = docLinkHtml;\n",
              "          element.appendChild(docLink);\n",
              "        }\n",
              "      </script>\n",
              "    </div>\n",
              "  </div>\n"
            ]
          },
          "metadata": {},
          "execution_count": 468
        }
      ],
      "source": [
        "USA_WALE=df[df['Country']=='USA']\n",
        "USA_WALE.head()"
      ]
    },
    {
      "cell_type": "code",
      "execution_count": null,
      "id": "d843f6a7",
      "metadata": {
        "id": "d843f6a7",
        "colab": {
          "base_uri": "https://localhost:8080/",
          "height": 206
        },
        "outputId": "d6dcefbb-7736-4b1f-f368-1ccf522d4a1d"
      },
      "outputs": [
        {
          "output_type": "execute_result",
          "data": {
            "text/plain": [
              "      Name  Age  Gender    Country  Salary Department  Years of Experience  \\\n",
              "2nd    Bob   32    Male     Canada   75000    Finance                    8   \n",
              "4th  David   47    Male  Australia   90000         IT                   18   \n",
              "5th  Emily   29  Female         UK   60000         IT                    6   \n",
              "6th  Frank   36    Male     Canada   80000         HR                   10   \n",
              "8th  Helen   45  Female  Australia  100000         IT                   22   \n",
              "\n",
              "    Education Level  \n",
              "2nd          Master  \n",
              "4th             PhD  \n",
              "5th        Bachelor  \n",
              "6th          Master  \n",
              "8th             PhD  "
            ],
            "text/html": [
              "\n",
              "\n",
              "  <div id=\"df-fbb6df56-9617-49f6-a80b-5ea8318279a3\">\n",
              "    <div class=\"colab-df-container\">\n",
              "      <div>\n",
              "<style scoped>\n",
              "    .dataframe tbody tr th:only-of-type {\n",
              "        vertical-align: middle;\n",
              "    }\n",
              "\n",
              "    .dataframe tbody tr th {\n",
              "        vertical-align: top;\n",
              "    }\n",
              "\n",
              "    .dataframe thead th {\n",
              "        text-align: right;\n",
              "    }\n",
              "</style>\n",
              "<table border=\"1\" class=\"dataframe\">\n",
              "  <thead>\n",
              "    <tr style=\"text-align: right;\">\n",
              "      <th></th>\n",
              "      <th>Name</th>\n",
              "      <th>Age</th>\n",
              "      <th>Gender</th>\n",
              "      <th>Country</th>\n",
              "      <th>Salary</th>\n",
              "      <th>Department</th>\n",
              "      <th>Years of Experience</th>\n",
              "      <th>Education Level</th>\n",
              "    </tr>\n",
              "  </thead>\n",
              "  <tbody>\n",
              "    <tr>\n",
              "      <th>2nd</th>\n",
              "      <td>Bob</td>\n",
              "      <td>32</td>\n",
              "      <td>Male</td>\n",
              "      <td>Canada</td>\n",
              "      <td>75000</td>\n",
              "      <td>Finance</td>\n",
              "      <td>8</td>\n",
              "      <td>Master</td>\n",
              "    </tr>\n",
              "    <tr>\n",
              "      <th>4th</th>\n",
              "      <td>David</td>\n",
              "      <td>47</td>\n",
              "      <td>Male</td>\n",
              "      <td>Australia</td>\n",
              "      <td>90000</td>\n",
              "      <td>IT</td>\n",
              "      <td>18</td>\n",
              "      <td>PhD</td>\n",
              "    </tr>\n",
              "    <tr>\n",
              "      <th>5th</th>\n",
              "      <td>Emily</td>\n",
              "      <td>29</td>\n",
              "      <td>Female</td>\n",
              "      <td>UK</td>\n",
              "      <td>60000</td>\n",
              "      <td>IT</td>\n",
              "      <td>6</td>\n",
              "      <td>Bachelor</td>\n",
              "    </tr>\n",
              "    <tr>\n",
              "      <th>6th</th>\n",
              "      <td>Frank</td>\n",
              "      <td>36</td>\n",
              "      <td>Male</td>\n",
              "      <td>Canada</td>\n",
              "      <td>80000</td>\n",
              "      <td>HR</td>\n",
              "      <td>10</td>\n",
              "      <td>Master</td>\n",
              "    </tr>\n",
              "    <tr>\n",
              "      <th>8th</th>\n",
              "      <td>Helen</td>\n",
              "      <td>45</td>\n",
              "      <td>Female</td>\n",
              "      <td>Australia</td>\n",
              "      <td>100000</td>\n",
              "      <td>IT</td>\n",
              "      <td>22</td>\n",
              "      <td>PhD</td>\n",
              "    </tr>\n",
              "  </tbody>\n",
              "</table>\n",
              "</div>\n",
              "      <button class=\"colab-df-convert\" onclick=\"convertToInteractive('df-fbb6df56-9617-49f6-a80b-5ea8318279a3')\"\n",
              "              title=\"Convert this dataframe to an interactive table.\"\n",
              "              style=\"display:none;\">\n",
              "\n",
              "  <svg xmlns=\"http://www.w3.org/2000/svg\" height=\"24px\"viewBox=\"0 0 24 24\"\n",
              "       width=\"24px\">\n",
              "    <path d=\"M0 0h24v24H0V0z\" fill=\"none\"/>\n",
              "    <path d=\"M18.56 5.44l.94 2.06.94-2.06 2.06-.94-2.06-.94-.94-2.06-.94 2.06-2.06.94zm-11 1L8.5 8.5l.94-2.06 2.06-.94-2.06-.94L8.5 2.5l-.94 2.06-2.06.94zm10 10l.94 2.06.94-2.06 2.06-.94-2.06-.94-.94-2.06-.94 2.06-2.06.94z\"/><path d=\"M17.41 7.96l-1.37-1.37c-.4-.4-.92-.59-1.43-.59-.52 0-1.04.2-1.43.59L10.3 9.45l-7.72 7.72c-.78.78-.78 2.05 0 2.83L4 21.41c.39.39.9.59 1.41.59.51 0 1.02-.2 1.41-.59l7.78-7.78 2.81-2.81c.8-.78.8-2.07 0-2.86zM5.41 20L4 18.59l7.72-7.72 1.47 1.35L5.41 20z\"/>\n",
              "  </svg>\n",
              "      </button>\n",
              "\n",
              "\n",
              "\n",
              "    <div id=\"df-20fe21b2-093b-4c32-8281-0e84ead82380\">\n",
              "      <button class=\"colab-df-quickchart\" onclick=\"quickchart('df-20fe21b2-093b-4c32-8281-0e84ead82380')\"\n",
              "              title=\"Suggest charts.\"\n",
              "              style=\"display:none;\">\n",
              "\n",
              "<svg xmlns=\"http://www.w3.org/2000/svg\" height=\"24px\"viewBox=\"0 0 24 24\"\n",
              "     width=\"24px\">\n",
              "    <g>\n",
              "        <path d=\"M19 3H5c-1.1 0-2 .9-2 2v14c0 1.1.9 2 2 2h14c1.1 0 2-.9 2-2V5c0-1.1-.9-2-2-2zM9 17H7v-7h2v7zm4 0h-2V7h2v10zm4 0h-2v-4h2v4z\"/>\n",
              "    </g>\n",
              "</svg>\n",
              "      </button>\n",
              "    </div>\n",
              "\n",
              "<style>\n",
              "  .colab-df-quickchart {\n",
              "    background-color: #E8F0FE;\n",
              "    border: none;\n",
              "    border-radius: 50%;\n",
              "    cursor: pointer;\n",
              "    display: none;\n",
              "    fill: #1967D2;\n",
              "    height: 32px;\n",
              "    padding: 0 0 0 0;\n",
              "    width: 32px;\n",
              "  }\n",
              "\n",
              "  .colab-df-quickchart:hover {\n",
              "    background-color: #E2EBFA;\n",
              "    box-shadow: 0px 1px 2px rgba(60, 64, 67, 0.3), 0px 1px 3px 1px rgba(60, 64, 67, 0.15);\n",
              "    fill: #174EA6;\n",
              "  }\n",
              "\n",
              "  [theme=dark] .colab-df-quickchart {\n",
              "    background-color: #3B4455;\n",
              "    fill: #D2E3FC;\n",
              "  }\n",
              "\n",
              "  [theme=dark] .colab-df-quickchart:hover {\n",
              "    background-color: #434B5C;\n",
              "    box-shadow: 0px 1px 3px 1px rgba(0, 0, 0, 0.15);\n",
              "    filter: drop-shadow(0px 1px 2px rgba(0, 0, 0, 0.3));\n",
              "    fill: #FFFFFF;\n",
              "  }\n",
              "</style>\n",
              "\n",
              "    <script>\n",
              "      async function quickchart(key) {\n",
              "        const containerElement = document.querySelector('#' + key);\n",
              "        const charts = await google.colab.kernel.invokeFunction(\n",
              "            'suggestCharts', [key], {});\n",
              "      }\n",
              "    </script>\n",
              "\n",
              "      <script>\n",
              "\n",
              "function displayQuickchartButton(domScope) {\n",
              "  let quickchartButtonEl =\n",
              "    domScope.querySelector('#df-20fe21b2-093b-4c32-8281-0e84ead82380 button.colab-df-quickchart');\n",
              "  quickchartButtonEl.style.display =\n",
              "    google.colab.kernel.accessAllowed ? 'block' : 'none';\n",
              "}\n",
              "\n",
              "        displayQuickchartButton(document);\n",
              "      </script>\n",
              "      <style>\n",
              "    .colab-df-container {\n",
              "      display:flex;\n",
              "      flex-wrap:wrap;\n",
              "      gap: 12px;\n",
              "    }\n",
              "\n",
              "    .colab-df-convert {\n",
              "      background-color: #E8F0FE;\n",
              "      border: none;\n",
              "      border-radius: 50%;\n",
              "      cursor: pointer;\n",
              "      display: none;\n",
              "      fill: #1967D2;\n",
              "      height: 32px;\n",
              "      padding: 0 0 0 0;\n",
              "      width: 32px;\n",
              "    }\n",
              "\n",
              "    .colab-df-convert:hover {\n",
              "      background-color: #E2EBFA;\n",
              "      box-shadow: 0px 1px 2px rgba(60, 64, 67, 0.3), 0px 1px 3px 1px rgba(60, 64, 67, 0.15);\n",
              "      fill: #174EA6;\n",
              "    }\n",
              "\n",
              "    [theme=dark] .colab-df-convert {\n",
              "      background-color: #3B4455;\n",
              "      fill: #D2E3FC;\n",
              "    }\n",
              "\n",
              "    [theme=dark] .colab-df-convert:hover {\n",
              "      background-color: #434B5C;\n",
              "      box-shadow: 0px 1px 3px 1px rgba(0, 0, 0, 0.15);\n",
              "      filter: drop-shadow(0px 1px 2px rgba(0, 0, 0, 0.3));\n",
              "      fill: #FFFFFF;\n",
              "    }\n",
              "  </style>\n",
              "\n",
              "      <script>\n",
              "        const buttonEl =\n",
              "          document.querySelector('#df-fbb6df56-9617-49f6-a80b-5ea8318279a3 button.colab-df-convert');\n",
              "        buttonEl.style.display =\n",
              "          google.colab.kernel.accessAllowed ? 'block' : 'none';\n",
              "\n",
              "        async function convertToInteractive(key) {\n",
              "          const element = document.querySelector('#df-fbb6df56-9617-49f6-a80b-5ea8318279a3');\n",
              "          const dataTable =\n",
              "            await google.colab.kernel.invokeFunction('convertToInteractive',\n",
              "                                                     [key], {});\n",
              "          if (!dataTable) return;\n",
              "\n",
              "          const docLinkHtml = 'Like what you see? Visit the ' +\n",
              "            '<a target=\"_blank\" href=https://colab.research.google.com/notebooks/data_table.ipynb>data table notebook</a>'\n",
              "            + ' to learn more about interactive tables.';\n",
              "          element.innerHTML = '';\n",
              "          dataTable['output_type'] = 'display_data';\n",
              "          await google.colab.output.renderOutput(dataTable, element);\n",
              "          const docLink = document.createElement('div');\n",
              "          docLink.innerHTML = docLinkHtml;\n",
              "          element.appendChild(docLink);\n",
              "        }\n",
              "      </script>\n",
              "    </div>\n",
              "  </div>\n"
            ]
          },
          "metadata": {},
          "execution_count": 469
        }
      ],
      "source": [
        "USA_WALE=df[df['Country'] !='USA']\n",
        "USA_WALE.head()"
      ]
    },
    {
      "cell_type": "code",
      "execution_count": null,
      "id": "0e077287",
      "metadata": {
        "id": "0e077287",
        "colab": {
          "base_uri": "https://localhost:8080/",
          "height": 206
        },
        "outputId": "a622a125-7068-4927-c504-ca3295f12d53"
      },
      "outputs": [
        {
          "output_type": "execute_result",
          "data": {
            "text/plain": [
              "       Name  Age  Gender    Country  Salary Department  Years of Experience  \\\n",
              "2nd     Bob   32    Male     Canada   75000    Finance                    8   \n",
              "4th   David   47    Male  Australia   90000         IT                   18   \n",
              "6th   Frank   36    Male     Canada   80000         HR                   10   \n",
              "8th   Helen   45  Female  Australia  100000         IT                   22   \n",
              "10th   Jack   33    Male        USA   70000    Finance                    7   \n",
              "\n",
              "     Education Level  \n",
              "2nd           Master  \n",
              "4th              PhD  \n",
              "6th           Master  \n",
              "8th              PhD  \n",
              "10th          Master  "
            ],
            "text/html": [
              "\n",
              "\n",
              "  <div id=\"df-d2bb08f8-e1b4-4e3f-8110-07cdb80ee2d2\">\n",
              "    <div class=\"colab-df-container\">\n",
              "      <div>\n",
              "<style scoped>\n",
              "    .dataframe tbody tr th:only-of-type {\n",
              "        vertical-align: middle;\n",
              "    }\n",
              "\n",
              "    .dataframe tbody tr th {\n",
              "        vertical-align: top;\n",
              "    }\n",
              "\n",
              "    .dataframe thead th {\n",
              "        text-align: right;\n",
              "    }\n",
              "</style>\n",
              "<table border=\"1\" class=\"dataframe\">\n",
              "  <thead>\n",
              "    <tr style=\"text-align: right;\">\n",
              "      <th></th>\n",
              "      <th>Name</th>\n",
              "      <th>Age</th>\n",
              "      <th>Gender</th>\n",
              "      <th>Country</th>\n",
              "      <th>Salary</th>\n",
              "      <th>Department</th>\n",
              "      <th>Years of Experience</th>\n",
              "      <th>Education Level</th>\n",
              "    </tr>\n",
              "  </thead>\n",
              "  <tbody>\n",
              "    <tr>\n",
              "      <th>2nd</th>\n",
              "      <td>Bob</td>\n",
              "      <td>32</td>\n",
              "      <td>Male</td>\n",
              "      <td>Canada</td>\n",
              "      <td>75000</td>\n",
              "      <td>Finance</td>\n",
              "      <td>8</td>\n",
              "      <td>Master</td>\n",
              "    </tr>\n",
              "    <tr>\n",
              "      <th>4th</th>\n",
              "      <td>David</td>\n",
              "      <td>47</td>\n",
              "      <td>Male</td>\n",
              "      <td>Australia</td>\n",
              "      <td>90000</td>\n",
              "      <td>IT</td>\n",
              "      <td>18</td>\n",
              "      <td>PhD</td>\n",
              "    </tr>\n",
              "    <tr>\n",
              "      <th>6th</th>\n",
              "      <td>Frank</td>\n",
              "      <td>36</td>\n",
              "      <td>Male</td>\n",
              "      <td>Canada</td>\n",
              "      <td>80000</td>\n",
              "      <td>HR</td>\n",
              "      <td>10</td>\n",
              "      <td>Master</td>\n",
              "    </tr>\n",
              "    <tr>\n",
              "      <th>8th</th>\n",
              "      <td>Helen</td>\n",
              "      <td>45</td>\n",
              "      <td>Female</td>\n",
              "      <td>Australia</td>\n",
              "      <td>100000</td>\n",
              "      <td>IT</td>\n",
              "      <td>22</td>\n",
              "      <td>PhD</td>\n",
              "    </tr>\n",
              "    <tr>\n",
              "      <th>10th</th>\n",
              "      <td>Jack</td>\n",
              "      <td>33</td>\n",
              "      <td>Male</td>\n",
              "      <td>USA</td>\n",
              "      <td>70000</td>\n",
              "      <td>Finance</td>\n",
              "      <td>7</td>\n",
              "      <td>Master</td>\n",
              "    </tr>\n",
              "  </tbody>\n",
              "</table>\n",
              "</div>\n",
              "      <button class=\"colab-df-convert\" onclick=\"convertToInteractive('df-d2bb08f8-e1b4-4e3f-8110-07cdb80ee2d2')\"\n",
              "              title=\"Convert this dataframe to an interactive table.\"\n",
              "              style=\"display:none;\">\n",
              "\n",
              "  <svg xmlns=\"http://www.w3.org/2000/svg\" height=\"24px\"viewBox=\"0 0 24 24\"\n",
              "       width=\"24px\">\n",
              "    <path d=\"M0 0h24v24H0V0z\" fill=\"none\"/>\n",
              "    <path d=\"M18.56 5.44l.94 2.06.94-2.06 2.06-.94-2.06-.94-.94-2.06-.94 2.06-2.06.94zm-11 1L8.5 8.5l.94-2.06 2.06-.94-2.06-.94L8.5 2.5l-.94 2.06-2.06.94zm10 10l.94 2.06.94-2.06 2.06-.94-2.06-.94-.94-2.06-.94 2.06-2.06.94z\"/><path d=\"M17.41 7.96l-1.37-1.37c-.4-.4-.92-.59-1.43-.59-.52 0-1.04.2-1.43.59L10.3 9.45l-7.72 7.72c-.78.78-.78 2.05 0 2.83L4 21.41c.39.39.9.59 1.41.59.51 0 1.02-.2 1.41-.59l7.78-7.78 2.81-2.81c.8-.78.8-2.07 0-2.86zM5.41 20L4 18.59l7.72-7.72 1.47 1.35L5.41 20z\"/>\n",
              "  </svg>\n",
              "      </button>\n",
              "\n",
              "\n",
              "\n",
              "    <div id=\"df-e6bb31c1-50f8-4381-948d-eaec3ffa76ca\">\n",
              "      <button class=\"colab-df-quickchart\" onclick=\"quickchart('df-e6bb31c1-50f8-4381-948d-eaec3ffa76ca')\"\n",
              "              title=\"Suggest charts.\"\n",
              "              style=\"display:none;\">\n",
              "\n",
              "<svg xmlns=\"http://www.w3.org/2000/svg\" height=\"24px\"viewBox=\"0 0 24 24\"\n",
              "     width=\"24px\">\n",
              "    <g>\n",
              "        <path d=\"M19 3H5c-1.1 0-2 .9-2 2v14c0 1.1.9 2 2 2h14c1.1 0 2-.9 2-2V5c0-1.1-.9-2-2-2zM9 17H7v-7h2v7zm4 0h-2V7h2v10zm4 0h-2v-4h2v4z\"/>\n",
              "    </g>\n",
              "</svg>\n",
              "      </button>\n",
              "    </div>\n",
              "\n",
              "<style>\n",
              "  .colab-df-quickchart {\n",
              "    background-color: #E8F0FE;\n",
              "    border: none;\n",
              "    border-radius: 50%;\n",
              "    cursor: pointer;\n",
              "    display: none;\n",
              "    fill: #1967D2;\n",
              "    height: 32px;\n",
              "    padding: 0 0 0 0;\n",
              "    width: 32px;\n",
              "  }\n",
              "\n",
              "  .colab-df-quickchart:hover {\n",
              "    background-color: #E2EBFA;\n",
              "    box-shadow: 0px 1px 2px rgba(60, 64, 67, 0.3), 0px 1px 3px 1px rgba(60, 64, 67, 0.15);\n",
              "    fill: #174EA6;\n",
              "  }\n",
              "\n",
              "  [theme=dark] .colab-df-quickchart {\n",
              "    background-color: #3B4455;\n",
              "    fill: #D2E3FC;\n",
              "  }\n",
              "\n",
              "  [theme=dark] .colab-df-quickchart:hover {\n",
              "    background-color: #434B5C;\n",
              "    box-shadow: 0px 1px 3px 1px rgba(0, 0, 0, 0.15);\n",
              "    filter: drop-shadow(0px 1px 2px rgba(0, 0, 0, 0.3));\n",
              "    fill: #FFFFFF;\n",
              "  }\n",
              "</style>\n",
              "\n",
              "    <script>\n",
              "      async function quickchart(key) {\n",
              "        const containerElement = document.querySelector('#' + key);\n",
              "        const charts = await google.colab.kernel.invokeFunction(\n",
              "            'suggestCharts', [key], {});\n",
              "      }\n",
              "    </script>\n",
              "\n",
              "      <script>\n",
              "\n",
              "function displayQuickchartButton(domScope) {\n",
              "  let quickchartButtonEl =\n",
              "    domScope.querySelector('#df-e6bb31c1-50f8-4381-948d-eaec3ffa76ca button.colab-df-quickchart');\n",
              "  quickchartButtonEl.style.display =\n",
              "    google.colab.kernel.accessAllowed ? 'block' : 'none';\n",
              "}\n",
              "\n",
              "        displayQuickchartButton(document);\n",
              "      </script>\n",
              "      <style>\n",
              "    .colab-df-container {\n",
              "      display:flex;\n",
              "      flex-wrap:wrap;\n",
              "      gap: 12px;\n",
              "    }\n",
              "\n",
              "    .colab-df-convert {\n",
              "      background-color: #E8F0FE;\n",
              "      border: none;\n",
              "      border-radius: 50%;\n",
              "      cursor: pointer;\n",
              "      display: none;\n",
              "      fill: #1967D2;\n",
              "      height: 32px;\n",
              "      padding: 0 0 0 0;\n",
              "      width: 32px;\n",
              "    }\n",
              "\n",
              "    .colab-df-convert:hover {\n",
              "      background-color: #E2EBFA;\n",
              "      box-shadow: 0px 1px 2px rgba(60, 64, 67, 0.3), 0px 1px 3px 1px rgba(60, 64, 67, 0.15);\n",
              "      fill: #174EA6;\n",
              "    }\n",
              "\n",
              "    [theme=dark] .colab-df-convert {\n",
              "      background-color: #3B4455;\n",
              "      fill: #D2E3FC;\n",
              "    }\n",
              "\n",
              "    [theme=dark] .colab-df-convert:hover {\n",
              "      background-color: #434B5C;\n",
              "      box-shadow: 0px 1px 3px 1px rgba(0, 0, 0, 0.15);\n",
              "      filter: drop-shadow(0px 1px 2px rgba(0, 0, 0, 0.3));\n",
              "      fill: #FFFFFF;\n",
              "    }\n",
              "  </style>\n",
              "\n",
              "      <script>\n",
              "        const buttonEl =\n",
              "          document.querySelector('#df-d2bb08f8-e1b4-4e3f-8110-07cdb80ee2d2 button.colab-df-convert');\n",
              "        buttonEl.style.display =\n",
              "          google.colab.kernel.accessAllowed ? 'block' : 'none';\n",
              "\n",
              "        async function convertToInteractive(key) {\n",
              "          const element = document.querySelector('#df-d2bb08f8-e1b4-4e3f-8110-07cdb80ee2d2');\n",
              "          const dataTable =\n",
              "            await google.colab.kernel.invokeFunction('convertToInteractive',\n",
              "                                                     [key], {});\n",
              "          if (!dataTable) return;\n",
              "\n",
              "          const docLinkHtml = 'Like what you see? Visit the ' +\n",
              "            '<a target=\"_blank\" href=https://colab.research.google.com/notebooks/data_table.ipynb>data table notebook</a>'\n",
              "            + ' to learn more about interactive tables.';\n",
              "          element.innerHTML = '';\n",
              "          dataTable['output_type'] = 'display_data';\n",
              "          await google.colab.output.renderOutput(dataTable, element);\n",
              "          const docLink = document.createElement('div');\n",
              "          docLink.innerHTML = docLinkHtml;\n",
              "          element.appendChild(docLink);\n",
              "        }\n",
              "      </script>\n",
              "    </div>\n",
              "  </div>\n"
            ]
          },
          "metadata": {},
          "execution_count": 470
        }
      ],
      "source": [
        "long_age= df[df['Age']>30]\n",
        "long_age"
      ]
    },
    {
      "cell_type": "code",
      "execution_count": null,
      "id": "7d3f2050",
      "metadata": {
        "id": "7d3f2050"
      },
      "outputs": [],
      "source": [
        "df['half_Age']= df['Age']*0.5"
      ]
    },
    {
      "cell_type": "code",
      "execution_count": null,
      "id": "3d7ecec1",
      "metadata": {
        "id": "3d7ecec1",
        "colab": {
          "base_uri": "https://localhost:8080/",
          "height": 206
        },
        "outputId": "676bdb47-6f09-4563-b3df-f127521636b8"
      },
      "outputs": [
        {
          "output_type": "execute_result",
          "data": {
            "text/plain": [
              "        Name  Age  Gender    Country  Salary Department  Years of Experience  \\\n",
              "1st    Alice   25  Female        USA   50000  Marketing                    3   \n",
              "2nd      Bob   32    Male     Canada   75000    Finance                    8   \n",
              "3rd  Charlie   18    Male        USA   40000  Marketing                    1   \n",
              "4th    David   47    Male  Australia   90000         IT                   18   \n",
              "5th    Emily   29  Female         UK   60000         IT                    6   \n",
              "\n",
              "    Education Level  half_Age  \n",
              "1st        Bachelor      12.5  \n",
              "2nd          Master      16.0  \n",
              "3rd     High School       9.0  \n",
              "4th             PhD      23.5  \n",
              "5th        Bachelor      14.5  "
            ],
            "text/html": [
              "\n",
              "\n",
              "  <div id=\"df-c5469c9d-3db2-46d0-b427-3662ba978776\">\n",
              "    <div class=\"colab-df-container\">\n",
              "      <div>\n",
              "<style scoped>\n",
              "    .dataframe tbody tr th:only-of-type {\n",
              "        vertical-align: middle;\n",
              "    }\n",
              "\n",
              "    .dataframe tbody tr th {\n",
              "        vertical-align: top;\n",
              "    }\n",
              "\n",
              "    .dataframe thead th {\n",
              "        text-align: right;\n",
              "    }\n",
              "</style>\n",
              "<table border=\"1\" class=\"dataframe\">\n",
              "  <thead>\n",
              "    <tr style=\"text-align: right;\">\n",
              "      <th></th>\n",
              "      <th>Name</th>\n",
              "      <th>Age</th>\n",
              "      <th>Gender</th>\n",
              "      <th>Country</th>\n",
              "      <th>Salary</th>\n",
              "      <th>Department</th>\n",
              "      <th>Years of Experience</th>\n",
              "      <th>Education Level</th>\n",
              "      <th>half_Age</th>\n",
              "    </tr>\n",
              "  </thead>\n",
              "  <tbody>\n",
              "    <tr>\n",
              "      <th>1st</th>\n",
              "      <td>Alice</td>\n",
              "      <td>25</td>\n",
              "      <td>Female</td>\n",
              "      <td>USA</td>\n",
              "      <td>50000</td>\n",
              "      <td>Marketing</td>\n",
              "      <td>3</td>\n",
              "      <td>Bachelor</td>\n",
              "      <td>12.5</td>\n",
              "    </tr>\n",
              "    <tr>\n",
              "      <th>2nd</th>\n",
              "      <td>Bob</td>\n",
              "      <td>32</td>\n",
              "      <td>Male</td>\n",
              "      <td>Canada</td>\n",
              "      <td>75000</td>\n",
              "      <td>Finance</td>\n",
              "      <td>8</td>\n",
              "      <td>Master</td>\n",
              "      <td>16.0</td>\n",
              "    </tr>\n",
              "    <tr>\n",
              "      <th>3rd</th>\n",
              "      <td>Charlie</td>\n",
              "      <td>18</td>\n",
              "      <td>Male</td>\n",
              "      <td>USA</td>\n",
              "      <td>40000</td>\n",
              "      <td>Marketing</td>\n",
              "      <td>1</td>\n",
              "      <td>High School</td>\n",
              "      <td>9.0</td>\n",
              "    </tr>\n",
              "    <tr>\n",
              "      <th>4th</th>\n",
              "      <td>David</td>\n",
              "      <td>47</td>\n",
              "      <td>Male</td>\n",
              "      <td>Australia</td>\n",
              "      <td>90000</td>\n",
              "      <td>IT</td>\n",
              "      <td>18</td>\n",
              "      <td>PhD</td>\n",
              "      <td>23.5</td>\n",
              "    </tr>\n",
              "    <tr>\n",
              "      <th>5th</th>\n",
              "      <td>Emily</td>\n",
              "      <td>29</td>\n",
              "      <td>Female</td>\n",
              "      <td>UK</td>\n",
              "      <td>60000</td>\n",
              "      <td>IT</td>\n",
              "      <td>6</td>\n",
              "      <td>Bachelor</td>\n",
              "      <td>14.5</td>\n",
              "    </tr>\n",
              "  </tbody>\n",
              "</table>\n",
              "</div>\n",
              "      <button class=\"colab-df-convert\" onclick=\"convertToInteractive('df-c5469c9d-3db2-46d0-b427-3662ba978776')\"\n",
              "              title=\"Convert this dataframe to an interactive table.\"\n",
              "              style=\"display:none;\">\n",
              "\n",
              "  <svg xmlns=\"http://www.w3.org/2000/svg\" height=\"24px\"viewBox=\"0 0 24 24\"\n",
              "       width=\"24px\">\n",
              "    <path d=\"M0 0h24v24H0V0z\" fill=\"none\"/>\n",
              "    <path d=\"M18.56 5.44l.94 2.06.94-2.06 2.06-.94-2.06-.94-.94-2.06-.94 2.06-2.06.94zm-11 1L8.5 8.5l.94-2.06 2.06-.94-2.06-.94L8.5 2.5l-.94 2.06-2.06.94zm10 10l.94 2.06.94-2.06 2.06-.94-2.06-.94-.94-2.06-.94 2.06-2.06.94z\"/><path d=\"M17.41 7.96l-1.37-1.37c-.4-.4-.92-.59-1.43-.59-.52 0-1.04.2-1.43.59L10.3 9.45l-7.72 7.72c-.78.78-.78 2.05 0 2.83L4 21.41c.39.39.9.59 1.41.59.51 0 1.02-.2 1.41-.59l7.78-7.78 2.81-2.81c.8-.78.8-2.07 0-2.86zM5.41 20L4 18.59l7.72-7.72 1.47 1.35L5.41 20z\"/>\n",
              "  </svg>\n",
              "      </button>\n",
              "\n",
              "\n",
              "\n",
              "    <div id=\"df-518929e4-f01d-4cfc-a8fb-9f50d919600b\">\n",
              "      <button class=\"colab-df-quickchart\" onclick=\"quickchart('df-518929e4-f01d-4cfc-a8fb-9f50d919600b')\"\n",
              "              title=\"Suggest charts.\"\n",
              "              style=\"display:none;\">\n",
              "\n",
              "<svg xmlns=\"http://www.w3.org/2000/svg\" height=\"24px\"viewBox=\"0 0 24 24\"\n",
              "     width=\"24px\">\n",
              "    <g>\n",
              "        <path d=\"M19 3H5c-1.1 0-2 .9-2 2v14c0 1.1.9 2 2 2h14c1.1 0 2-.9 2-2V5c0-1.1-.9-2-2-2zM9 17H7v-7h2v7zm4 0h-2V7h2v10zm4 0h-2v-4h2v4z\"/>\n",
              "    </g>\n",
              "</svg>\n",
              "      </button>\n",
              "    </div>\n",
              "\n",
              "<style>\n",
              "  .colab-df-quickchart {\n",
              "    background-color: #E8F0FE;\n",
              "    border: none;\n",
              "    border-radius: 50%;\n",
              "    cursor: pointer;\n",
              "    display: none;\n",
              "    fill: #1967D2;\n",
              "    height: 32px;\n",
              "    padding: 0 0 0 0;\n",
              "    width: 32px;\n",
              "  }\n",
              "\n",
              "  .colab-df-quickchart:hover {\n",
              "    background-color: #E2EBFA;\n",
              "    box-shadow: 0px 1px 2px rgba(60, 64, 67, 0.3), 0px 1px 3px 1px rgba(60, 64, 67, 0.15);\n",
              "    fill: #174EA6;\n",
              "  }\n",
              "\n",
              "  [theme=dark] .colab-df-quickchart {\n",
              "    background-color: #3B4455;\n",
              "    fill: #D2E3FC;\n",
              "  }\n",
              "\n",
              "  [theme=dark] .colab-df-quickchart:hover {\n",
              "    background-color: #434B5C;\n",
              "    box-shadow: 0px 1px 3px 1px rgba(0, 0, 0, 0.15);\n",
              "    filter: drop-shadow(0px 1px 2px rgba(0, 0, 0, 0.3));\n",
              "    fill: #FFFFFF;\n",
              "  }\n",
              "</style>\n",
              "\n",
              "    <script>\n",
              "      async function quickchart(key) {\n",
              "        const containerElement = document.querySelector('#' + key);\n",
              "        const charts = await google.colab.kernel.invokeFunction(\n",
              "            'suggestCharts', [key], {});\n",
              "      }\n",
              "    </script>\n",
              "\n",
              "      <script>\n",
              "\n",
              "function displayQuickchartButton(domScope) {\n",
              "  let quickchartButtonEl =\n",
              "    domScope.querySelector('#df-518929e4-f01d-4cfc-a8fb-9f50d919600b button.colab-df-quickchart');\n",
              "  quickchartButtonEl.style.display =\n",
              "    google.colab.kernel.accessAllowed ? 'block' : 'none';\n",
              "}\n",
              "\n",
              "        displayQuickchartButton(document);\n",
              "      </script>\n",
              "      <style>\n",
              "    .colab-df-container {\n",
              "      display:flex;\n",
              "      flex-wrap:wrap;\n",
              "      gap: 12px;\n",
              "    }\n",
              "\n",
              "    .colab-df-convert {\n",
              "      background-color: #E8F0FE;\n",
              "      border: none;\n",
              "      border-radius: 50%;\n",
              "      cursor: pointer;\n",
              "      display: none;\n",
              "      fill: #1967D2;\n",
              "      height: 32px;\n",
              "      padding: 0 0 0 0;\n",
              "      width: 32px;\n",
              "    }\n",
              "\n",
              "    .colab-df-convert:hover {\n",
              "      background-color: #E2EBFA;\n",
              "      box-shadow: 0px 1px 2px rgba(60, 64, 67, 0.3), 0px 1px 3px 1px rgba(60, 64, 67, 0.15);\n",
              "      fill: #174EA6;\n",
              "    }\n",
              "\n",
              "    [theme=dark] .colab-df-convert {\n",
              "      background-color: #3B4455;\n",
              "      fill: #D2E3FC;\n",
              "    }\n",
              "\n",
              "    [theme=dark] .colab-df-convert:hover {\n",
              "      background-color: #434B5C;\n",
              "      box-shadow: 0px 1px 3px 1px rgba(0, 0, 0, 0.15);\n",
              "      filter: drop-shadow(0px 1px 2px rgba(0, 0, 0, 0.3));\n",
              "      fill: #FFFFFF;\n",
              "    }\n",
              "  </style>\n",
              "\n",
              "      <script>\n",
              "        const buttonEl =\n",
              "          document.querySelector('#df-c5469c9d-3db2-46d0-b427-3662ba978776 button.colab-df-convert');\n",
              "        buttonEl.style.display =\n",
              "          google.colab.kernel.accessAllowed ? 'block' : 'none';\n",
              "\n",
              "        async function convertToInteractive(key) {\n",
              "          const element = document.querySelector('#df-c5469c9d-3db2-46d0-b427-3662ba978776');\n",
              "          const dataTable =\n",
              "            await google.colab.kernel.invokeFunction('convertToInteractive',\n",
              "                                                     [key], {});\n",
              "          if (!dataTable) return;\n",
              "\n",
              "          const docLinkHtml = 'Like what you see? Visit the ' +\n",
              "            '<a target=\"_blank\" href=https://colab.research.google.com/notebooks/data_table.ipynb>data table notebook</a>'\n",
              "            + ' to learn more about interactive tables.';\n",
              "          element.innerHTML = '';\n",
              "          dataTable['output_type'] = 'display_data';\n",
              "          await google.colab.output.renderOutput(dataTable, element);\n",
              "          const docLink = document.createElement('div');\n",
              "          docLink.innerHTML = docLinkHtml;\n",
              "          element.appendChild(docLink);\n",
              "        }\n",
              "      </script>\n",
              "    </div>\n",
              "  </div>\n"
            ]
          },
          "metadata": {},
          "execution_count": 472
        }
      ],
      "source": [
        "df.head()"
      ]
    },
    {
      "cell_type": "code",
      "execution_count": null,
      "id": "78182302",
      "metadata": {
        "id": "78182302"
      },
      "outputs": [],
      "source": [
        "df['Total_Income']=df['Salary']*df['Years of Experience']"
      ]
    },
    {
      "cell_type": "code",
      "execution_count": null,
      "id": "7416524f",
      "metadata": {
        "id": "7416524f",
        "colab": {
          "base_uri": "https://localhost:8080/",
          "height": 206
        },
        "outputId": "424b45a4-b25d-491d-ebd3-83f3f6dffe04"
      },
      "outputs": [
        {
          "output_type": "execute_result",
          "data": {
            "text/plain": [
              "        Name  Age  Gender    Country  Salary Department  Years of Experience  \\\n",
              "1st    Alice   25  Female        USA   50000  Marketing                    3   \n",
              "2nd      Bob   32    Male     Canada   75000    Finance                    8   \n",
              "3rd  Charlie   18    Male        USA   40000  Marketing                    1   \n",
              "4th    David   47    Male  Australia   90000         IT                   18   \n",
              "5th    Emily   29  Female         UK   60000         IT                    6   \n",
              "\n",
              "    Education Level  half_Age  Total_Income  \n",
              "1st        Bachelor      12.5        150000  \n",
              "2nd          Master      16.0        600000  \n",
              "3rd     High School       9.0         40000  \n",
              "4th             PhD      23.5       1620000  \n",
              "5th        Bachelor      14.5        360000  "
            ],
            "text/html": [
              "\n",
              "\n",
              "  <div id=\"df-f439cb6a-cdea-4d27-a0c5-4021c44aea65\">\n",
              "    <div class=\"colab-df-container\">\n",
              "      <div>\n",
              "<style scoped>\n",
              "    .dataframe tbody tr th:only-of-type {\n",
              "        vertical-align: middle;\n",
              "    }\n",
              "\n",
              "    .dataframe tbody tr th {\n",
              "        vertical-align: top;\n",
              "    }\n",
              "\n",
              "    .dataframe thead th {\n",
              "        text-align: right;\n",
              "    }\n",
              "</style>\n",
              "<table border=\"1\" class=\"dataframe\">\n",
              "  <thead>\n",
              "    <tr style=\"text-align: right;\">\n",
              "      <th></th>\n",
              "      <th>Name</th>\n",
              "      <th>Age</th>\n",
              "      <th>Gender</th>\n",
              "      <th>Country</th>\n",
              "      <th>Salary</th>\n",
              "      <th>Department</th>\n",
              "      <th>Years of Experience</th>\n",
              "      <th>Education Level</th>\n",
              "      <th>half_Age</th>\n",
              "      <th>Total_Income</th>\n",
              "    </tr>\n",
              "  </thead>\n",
              "  <tbody>\n",
              "    <tr>\n",
              "      <th>1st</th>\n",
              "      <td>Alice</td>\n",
              "      <td>25</td>\n",
              "      <td>Female</td>\n",
              "      <td>USA</td>\n",
              "      <td>50000</td>\n",
              "      <td>Marketing</td>\n",
              "      <td>3</td>\n",
              "      <td>Bachelor</td>\n",
              "      <td>12.5</td>\n",
              "      <td>150000</td>\n",
              "    </tr>\n",
              "    <tr>\n",
              "      <th>2nd</th>\n",
              "      <td>Bob</td>\n",
              "      <td>32</td>\n",
              "      <td>Male</td>\n",
              "      <td>Canada</td>\n",
              "      <td>75000</td>\n",
              "      <td>Finance</td>\n",
              "      <td>8</td>\n",
              "      <td>Master</td>\n",
              "      <td>16.0</td>\n",
              "      <td>600000</td>\n",
              "    </tr>\n",
              "    <tr>\n",
              "      <th>3rd</th>\n",
              "      <td>Charlie</td>\n",
              "      <td>18</td>\n",
              "      <td>Male</td>\n",
              "      <td>USA</td>\n",
              "      <td>40000</td>\n",
              "      <td>Marketing</td>\n",
              "      <td>1</td>\n",
              "      <td>High School</td>\n",
              "      <td>9.0</td>\n",
              "      <td>40000</td>\n",
              "    </tr>\n",
              "    <tr>\n",
              "      <th>4th</th>\n",
              "      <td>David</td>\n",
              "      <td>47</td>\n",
              "      <td>Male</td>\n",
              "      <td>Australia</td>\n",
              "      <td>90000</td>\n",
              "      <td>IT</td>\n",
              "      <td>18</td>\n",
              "      <td>PhD</td>\n",
              "      <td>23.5</td>\n",
              "      <td>1620000</td>\n",
              "    </tr>\n",
              "    <tr>\n",
              "      <th>5th</th>\n",
              "      <td>Emily</td>\n",
              "      <td>29</td>\n",
              "      <td>Female</td>\n",
              "      <td>UK</td>\n",
              "      <td>60000</td>\n",
              "      <td>IT</td>\n",
              "      <td>6</td>\n",
              "      <td>Bachelor</td>\n",
              "      <td>14.5</td>\n",
              "      <td>360000</td>\n",
              "    </tr>\n",
              "  </tbody>\n",
              "</table>\n",
              "</div>\n",
              "      <button class=\"colab-df-convert\" onclick=\"convertToInteractive('df-f439cb6a-cdea-4d27-a0c5-4021c44aea65')\"\n",
              "              title=\"Convert this dataframe to an interactive table.\"\n",
              "              style=\"display:none;\">\n",
              "\n",
              "  <svg xmlns=\"http://www.w3.org/2000/svg\" height=\"24px\"viewBox=\"0 0 24 24\"\n",
              "       width=\"24px\">\n",
              "    <path d=\"M0 0h24v24H0V0z\" fill=\"none\"/>\n",
              "    <path d=\"M18.56 5.44l.94 2.06.94-2.06 2.06-.94-2.06-.94-.94-2.06-.94 2.06-2.06.94zm-11 1L8.5 8.5l.94-2.06 2.06-.94-2.06-.94L8.5 2.5l-.94 2.06-2.06.94zm10 10l.94 2.06.94-2.06 2.06-.94-2.06-.94-.94-2.06-.94 2.06-2.06.94z\"/><path d=\"M17.41 7.96l-1.37-1.37c-.4-.4-.92-.59-1.43-.59-.52 0-1.04.2-1.43.59L10.3 9.45l-7.72 7.72c-.78.78-.78 2.05 0 2.83L4 21.41c.39.39.9.59 1.41.59.51 0 1.02-.2 1.41-.59l7.78-7.78 2.81-2.81c.8-.78.8-2.07 0-2.86zM5.41 20L4 18.59l7.72-7.72 1.47 1.35L5.41 20z\"/>\n",
              "  </svg>\n",
              "      </button>\n",
              "\n",
              "\n",
              "\n",
              "    <div id=\"df-30cba3a8-d960-4e2e-984b-0f05f8cb4f3c\">\n",
              "      <button class=\"colab-df-quickchart\" onclick=\"quickchart('df-30cba3a8-d960-4e2e-984b-0f05f8cb4f3c')\"\n",
              "              title=\"Suggest charts.\"\n",
              "              style=\"display:none;\">\n",
              "\n",
              "<svg xmlns=\"http://www.w3.org/2000/svg\" height=\"24px\"viewBox=\"0 0 24 24\"\n",
              "     width=\"24px\">\n",
              "    <g>\n",
              "        <path d=\"M19 3H5c-1.1 0-2 .9-2 2v14c0 1.1.9 2 2 2h14c1.1 0 2-.9 2-2V5c0-1.1-.9-2-2-2zM9 17H7v-7h2v7zm4 0h-2V7h2v10zm4 0h-2v-4h2v4z\"/>\n",
              "    </g>\n",
              "</svg>\n",
              "      </button>\n",
              "    </div>\n",
              "\n",
              "<style>\n",
              "  .colab-df-quickchart {\n",
              "    background-color: #E8F0FE;\n",
              "    border: none;\n",
              "    border-radius: 50%;\n",
              "    cursor: pointer;\n",
              "    display: none;\n",
              "    fill: #1967D2;\n",
              "    height: 32px;\n",
              "    padding: 0 0 0 0;\n",
              "    width: 32px;\n",
              "  }\n",
              "\n",
              "  .colab-df-quickchart:hover {\n",
              "    background-color: #E2EBFA;\n",
              "    box-shadow: 0px 1px 2px rgba(60, 64, 67, 0.3), 0px 1px 3px 1px rgba(60, 64, 67, 0.15);\n",
              "    fill: #174EA6;\n",
              "  }\n",
              "\n",
              "  [theme=dark] .colab-df-quickchart {\n",
              "    background-color: #3B4455;\n",
              "    fill: #D2E3FC;\n",
              "  }\n",
              "\n",
              "  [theme=dark] .colab-df-quickchart:hover {\n",
              "    background-color: #434B5C;\n",
              "    box-shadow: 0px 1px 3px 1px rgba(0, 0, 0, 0.15);\n",
              "    filter: drop-shadow(0px 1px 2px rgba(0, 0, 0, 0.3));\n",
              "    fill: #FFFFFF;\n",
              "  }\n",
              "</style>\n",
              "\n",
              "    <script>\n",
              "      async function quickchart(key) {\n",
              "        const containerElement = document.querySelector('#' + key);\n",
              "        const charts = await google.colab.kernel.invokeFunction(\n",
              "            'suggestCharts', [key], {});\n",
              "      }\n",
              "    </script>\n",
              "\n",
              "      <script>\n",
              "\n",
              "function displayQuickchartButton(domScope) {\n",
              "  let quickchartButtonEl =\n",
              "    domScope.querySelector('#df-30cba3a8-d960-4e2e-984b-0f05f8cb4f3c button.colab-df-quickchart');\n",
              "  quickchartButtonEl.style.display =\n",
              "    google.colab.kernel.accessAllowed ? 'block' : 'none';\n",
              "}\n",
              "\n",
              "        displayQuickchartButton(document);\n",
              "      </script>\n",
              "      <style>\n",
              "    .colab-df-container {\n",
              "      display:flex;\n",
              "      flex-wrap:wrap;\n",
              "      gap: 12px;\n",
              "    }\n",
              "\n",
              "    .colab-df-convert {\n",
              "      background-color: #E8F0FE;\n",
              "      border: none;\n",
              "      border-radius: 50%;\n",
              "      cursor: pointer;\n",
              "      display: none;\n",
              "      fill: #1967D2;\n",
              "      height: 32px;\n",
              "      padding: 0 0 0 0;\n",
              "      width: 32px;\n",
              "    }\n",
              "\n",
              "    .colab-df-convert:hover {\n",
              "      background-color: #E2EBFA;\n",
              "      box-shadow: 0px 1px 2px rgba(60, 64, 67, 0.3), 0px 1px 3px 1px rgba(60, 64, 67, 0.15);\n",
              "      fill: #174EA6;\n",
              "    }\n",
              "\n",
              "    [theme=dark] .colab-df-convert {\n",
              "      background-color: #3B4455;\n",
              "      fill: #D2E3FC;\n",
              "    }\n",
              "\n",
              "    [theme=dark] .colab-df-convert:hover {\n",
              "      background-color: #434B5C;\n",
              "      box-shadow: 0px 1px 3px 1px rgba(0, 0, 0, 0.15);\n",
              "      filter: drop-shadow(0px 1px 2px rgba(0, 0, 0, 0.3));\n",
              "      fill: #FFFFFF;\n",
              "    }\n",
              "  </style>\n",
              "\n",
              "      <script>\n",
              "        const buttonEl =\n",
              "          document.querySelector('#df-f439cb6a-cdea-4d27-a0c5-4021c44aea65 button.colab-df-convert');\n",
              "        buttonEl.style.display =\n",
              "          google.colab.kernel.accessAllowed ? 'block' : 'none';\n",
              "\n",
              "        async function convertToInteractive(key) {\n",
              "          const element = document.querySelector('#df-f439cb6a-cdea-4d27-a0c5-4021c44aea65');\n",
              "          const dataTable =\n",
              "            await google.colab.kernel.invokeFunction('convertToInteractive',\n",
              "                                                     [key], {});\n",
              "          if (!dataTable) return;\n",
              "\n",
              "          const docLinkHtml = 'Like what you see? Visit the ' +\n",
              "            '<a target=\"_blank\" href=https://colab.research.google.com/notebooks/data_table.ipynb>data table notebook</a>'\n",
              "            + ' to learn more about interactive tables.';\n",
              "          element.innerHTML = '';\n",
              "          dataTable['output_type'] = 'display_data';\n",
              "          await google.colab.output.renderOutput(dataTable, element);\n",
              "          const docLink = document.createElement('div');\n",
              "          docLink.innerHTML = docLinkHtml;\n",
              "          element.appendChild(docLink);\n",
              "        }\n",
              "      </script>\n",
              "    </div>\n",
              "  </div>\n"
            ]
          },
          "metadata": {},
          "execution_count": 474
        }
      ],
      "source": [
        "df.head()"
      ]
    },
    {
      "cell_type": "code",
      "execution_count": null,
      "id": "53de99d6",
      "metadata": {
        "id": "53de99d6"
      },
      "outputs": [],
      "source": [
        "#Drop the column\n",
        "\n",
        "df.drop(['half_Age'],axis = 1,inplace=True)"
      ]
    },
    {
      "cell_type": "code",
      "execution_count": null,
      "id": "02475e23",
      "metadata": {
        "id": "02475e23",
        "colab": {
          "base_uri": "https://localhost:8080/",
          "height": 206
        },
        "outputId": "98fa5bce-14ec-4be5-ab4e-49dbe30750fc"
      },
      "outputs": [
        {
          "output_type": "execute_result",
          "data": {
            "text/plain": [
              "        Name  Age  Gender    Country  Salary Department  Years of Experience  \\\n",
              "1st    Alice   25  Female        USA   50000  Marketing                    3   \n",
              "2nd      Bob   32    Male     Canada   75000    Finance                    8   \n",
              "3rd  Charlie   18    Male        USA   40000  Marketing                    1   \n",
              "4th    David   47    Male  Australia   90000         IT                   18   \n",
              "5th    Emily   29  Female         UK   60000         IT                    6   \n",
              "\n",
              "    Education Level  Total_Income  \n",
              "1st        Bachelor        150000  \n",
              "2nd          Master        600000  \n",
              "3rd     High School         40000  \n",
              "4th             PhD       1620000  \n",
              "5th        Bachelor        360000  "
            ],
            "text/html": [
              "\n",
              "\n",
              "  <div id=\"df-5a0f33f5-a903-47a4-85f8-75c8b845bcaf\">\n",
              "    <div class=\"colab-df-container\">\n",
              "      <div>\n",
              "<style scoped>\n",
              "    .dataframe tbody tr th:only-of-type {\n",
              "        vertical-align: middle;\n",
              "    }\n",
              "\n",
              "    .dataframe tbody tr th {\n",
              "        vertical-align: top;\n",
              "    }\n",
              "\n",
              "    .dataframe thead th {\n",
              "        text-align: right;\n",
              "    }\n",
              "</style>\n",
              "<table border=\"1\" class=\"dataframe\">\n",
              "  <thead>\n",
              "    <tr style=\"text-align: right;\">\n",
              "      <th></th>\n",
              "      <th>Name</th>\n",
              "      <th>Age</th>\n",
              "      <th>Gender</th>\n",
              "      <th>Country</th>\n",
              "      <th>Salary</th>\n",
              "      <th>Department</th>\n",
              "      <th>Years of Experience</th>\n",
              "      <th>Education Level</th>\n",
              "      <th>Total_Income</th>\n",
              "    </tr>\n",
              "  </thead>\n",
              "  <tbody>\n",
              "    <tr>\n",
              "      <th>1st</th>\n",
              "      <td>Alice</td>\n",
              "      <td>25</td>\n",
              "      <td>Female</td>\n",
              "      <td>USA</td>\n",
              "      <td>50000</td>\n",
              "      <td>Marketing</td>\n",
              "      <td>3</td>\n",
              "      <td>Bachelor</td>\n",
              "      <td>150000</td>\n",
              "    </tr>\n",
              "    <tr>\n",
              "      <th>2nd</th>\n",
              "      <td>Bob</td>\n",
              "      <td>32</td>\n",
              "      <td>Male</td>\n",
              "      <td>Canada</td>\n",
              "      <td>75000</td>\n",
              "      <td>Finance</td>\n",
              "      <td>8</td>\n",
              "      <td>Master</td>\n",
              "      <td>600000</td>\n",
              "    </tr>\n",
              "    <tr>\n",
              "      <th>3rd</th>\n",
              "      <td>Charlie</td>\n",
              "      <td>18</td>\n",
              "      <td>Male</td>\n",
              "      <td>USA</td>\n",
              "      <td>40000</td>\n",
              "      <td>Marketing</td>\n",
              "      <td>1</td>\n",
              "      <td>High School</td>\n",
              "      <td>40000</td>\n",
              "    </tr>\n",
              "    <tr>\n",
              "      <th>4th</th>\n",
              "      <td>David</td>\n",
              "      <td>47</td>\n",
              "      <td>Male</td>\n",
              "      <td>Australia</td>\n",
              "      <td>90000</td>\n",
              "      <td>IT</td>\n",
              "      <td>18</td>\n",
              "      <td>PhD</td>\n",
              "      <td>1620000</td>\n",
              "    </tr>\n",
              "    <tr>\n",
              "      <th>5th</th>\n",
              "      <td>Emily</td>\n",
              "      <td>29</td>\n",
              "      <td>Female</td>\n",
              "      <td>UK</td>\n",
              "      <td>60000</td>\n",
              "      <td>IT</td>\n",
              "      <td>6</td>\n",
              "      <td>Bachelor</td>\n",
              "      <td>360000</td>\n",
              "    </tr>\n",
              "  </tbody>\n",
              "</table>\n",
              "</div>\n",
              "      <button class=\"colab-df-convert\" onclick=\"convertToInteractive('df-5a0f33f5-a903-47a4-85f8-75c8b845bcaf')\"\n",
              "              title=\"Convert this dataframe to an interactive table.\"\n",
              "              style=\"display:none;\">\n",
              "\n",
              "  <svg xmlns=\"http://www.w3.org/2000/svg\" height=\"24px\"viewBox=\"0 0 24 24\"\n",
              "       width=\"24px\">\n",
              "    <path d=\"M0 0h24v24H0V0z\" fill=\"none\"/>\n",
              "    <path d=\"M18.56 5.44l.94 2.06.94-2.06 2.06-.94-2.06-.94-.94-2.06-.94 2.06-2.06.94zm-11 1L8.5 8.5l.94-2.06 2.06-.94-2.06-.94L8.5 2.5l-.94 2.06-2.06.94zm10 10l.94 2.06.94-2.06 2.06-.94-2.06-.94-.94-2.06-.94 2.06-2.06.94z\"/><path d=\"M17.41 7.96l-1.37-1.37c-.4-.4-.92-.59-1.43-.59-.52 0-1.04.2-1.43.59L10.3 9.45l-7.72 7.72c-.78.78-.78 2.05 0 2.83L4 21.41c.39.39.9.59 1.41.59.51 0 1.02-.2 1.41-.59l7.78-7.78 2.81-2.81c.8-.78.8-2.07 0-2.86zM5.41 20L4 18.59l7.72-7.72 1.47 1.35L5.41 20z\"/>\n",
              "  </svg>\n",
              "      </button>\n",
              "\n",
              "\n",
              "\n",
              "    <div id=\"df-c274f4e6-86b2-4f14-b755-5a857bd0007b\">\n",
              "      <button class=\"colab-df-quickchart\" onclick=\"quickchart('df-c274f4e6-86b2-4f14-b755-5a857bd0007b')\"\n",
              "              title=\"Suggest charts.\"\n",
              "              style=\"display:none;\">\n",
              "\n",
              "<svg xmlns=\"http://www.w3.org/2000/svg\" height=\"24px\"viewBox=\"0 0 24 24\"\n",
              "     width=\"24px\">\n",
              "    <g>\n",
              "        <path d=\"M19 3H5c-1.1 0-2 .9-2 2v14c0 1.1.9 2 2 2h14c1.1 0 2-.9 2-2V5c0-1.1-.9-2-2-2zM9 17H7v-7h2v7zm4 0h-2V7h2v10zm4 0h-2v-4h2v4z\"/>\n",
              "    </g>\n",
              "</svg>\n",
              "      </button>\n",
              "    </div>\n",
              "\n",
              "<style>\n",
              "  .colab-df-quickchart {\n",
              "    background-color: #E8F0FE;\n",
              "    border: none;\n",
              "    border-radius: 50%;\n",
              "    cursor: pointer;\n",
              "    display: none;\n",
              "    fill: #1967D2;\n",
              "    height: 32px;\n",
              "    padding: 0 0 0 0;\n",
              "    width: 32px;\n",
              "  }\n",
              "\n",
              "  .colab-df-quickchart:hover {\n",
              "    background-color: #E2EBFA;\n",
              "    box-shadow: 0px 1px 2px rgba(60, 64, 67, 0.3), 0px 1px 3px 1px rgba(60, 64, 67, 0.15);\n",
              "    fill: #174EA6;\n",
              "  }\n",
              "\n",
              "  [theme=dark] .colab-df-quickchart {\n",
              "    background-color: #3B4455;\n",
              "    fill: #D2E3FC;\n",
              "  }\n",
              "\n",
              "  [theme=dark] .colab-df-quickchart:hover {\n",
              "    background-color: #434B5C;\n",
              "    box-shadow: 0px 1px 3px 1px rgba(0, 0, 0, 0.15);\n",
              "    filter: drop-shadow(0px 1px 2px rgba(0, 0, 0, 0.3));\n",
              "    fill: #FFFFFF;\n",
              "  }\n",
              "</style>\n",
              "\n",
              "    <script>\n",
              "      async function quickchart(key) {\n",
              "        const containerElement = document.querySelector('#' + key);\n",
              "        const charts = await google.colab.kernel.invokeFunction(\n",
              "            'suggestCharts', [key], {});\n",
              "      }\n",
              "    </script>\n",
              "\n",
              "      <script>\n",
              "\n",
              "function displayQuickchartButton(domScope) {\n",
              "  let quickchartButtonEl =\n",
              "    domScope.querySelector('#df-c274f4e6-86b2-4f14-b755-5a857bd0007b button.colab-df-quickchart');\n",
              "  quickchartButtonEl.style.display =\n",
              "    google.colab.kernel.accessAllowed ? 'block' : 'none';\n",
              "}\n",
              "\n",
              "        displayQuickchartButton(document);\n",
              "      </script>\n",
              "      <style>\n",
              "    .colab-df-container {\n",
              "      display:flex;\n",
              "      flex-wrap:wrap;\n",
              "      gap: 12px;\n",
              "    }\n",
              "\n",
              "    .colab-df-convert {\n",
              "      background-color: #E8F0FE;\n",
              "      border: none;\n",
              "      border-radius: 50%;\n",
              "      cursor: pointer;\n",
              "      display: none;\n",
              "      fill: #1967D2;\n",
              "      height: 32px;\n",
              "      padding: 0 0 0 0;\n",
              "      width: 32px;\n",
              "    }\n",
              "\n",
              "    .colab-df-convert:hover {\n",
              "      background-color: #E2EBFA;\n",
              "      box-shadow: 0px 1px 2px rgba(60, 64, 67, 0.3), 0px 1px 3px 1px rgba(60, 64, 67, 0.15);\n",
              "      fill: #174EA6;\n",
              "    }\n",
              "\n",
              "    [theme=dark] .colab-df-convert {\n",
              "      background-color: #3B4455;\n",
              "      fill: #D2E3FC;\n",
              "    }\n",
              "\n",
              "    [theme=dark] .colab-df-convert:hover {\n",
              "      background-color: #434B5C;\n",
              "      box-shadow: 0px 1px 3px 1px rgba(0, 0, 0, 0.15);\n",
              "      filter: drop-shadow(0px 1px 2px rgba(0, 0, 0, 0.3));\n",
              "      fill: #FFFFFF;\n",
              "    }\n",
              "  </style>\n",
              "\n",
              "      <script>\n",
              "        const buttonEl =\n",
              "          document.querySelector('#df-5a0f33f5-a903-47a4-85f8-75c8b845bcaf button.colab-df-convert');\n",
              "        buttonEl.style.display =\n",
              "          google.colab.kernel.accessAllowed ? 'block' : 'none';\n",
              "\n",
              "        async function convertToInteractive(key) {\n",
              "          const element = document.querySelector('#df-5a0f33f5-a903-47a4-85f8-75c8b845bcaf');\n",
              "          const dataTable =\n",
              "            await google.colab.kernel.invokeFunction('convertToInteractive',\n",
              "                                                     [key], {});\n",
              "          if (!dataTable) return;\n",
              "\n",
              "          const docLinkHtml = 'Like what you see? Visit the ' +\n",
              "            '<a target=\"_blank\" href=https://colab.research.google.com/notebooks/data_table.ipynb>data table notebook</a>'\n",
              "            + ' to learn more about interactive tables.';\n",
              "          element.innerHTML = '';\n",
              "          dataTable['output_type'] = 'display_data';\n",
              "          await google.colab.output.renderOutput(dataTable, element);\n",
              "          const docLink = document.createElement('div');\n",
              "          docLink.innerHTML = docLinkHtml;\n",
              "          element.appendChild(docLink);\n",
              "        }\n",
              "      </script>\n",
              "    </div>\n",
              "  </div>\n"
            ]
          },
          "metadata": {},
          "execution_count": 476
        }
      ],
      "source": [
        "df.head()"
      ]
    },
    {
      "cell_type": "code",
      "execution_count": null,
      "id": "72a2b25f",
      "metadata": {
        "id": "72a2b25f",
        "colab": {
          "base_uri": "https://localhost:8080/",
          "height": 300
        },
        "outputId": "9c90d3eb-14c2-43f6-edba-5b9716bec2ce"
      },
      "outputs": [
        {
          "output_type": "execute_result",
          "data": {
            "text/plain": [
              "         Name  Age  Gender    Country  Salary Department  Years of Experience  \\\n",
              "3rd   Charlie   18    Male        USA   40000  Marketing                    1   \n",
              "4th     David   47    Male  Australia   90000         IT                   18   \n",
              "5th     Emily   29  Female         UK   60000         IT                    6   \n",
              "6th     Frank   36    Male     Canada   80000         HR                   10   \n",
              "7th    George   21    Male        USA   55000  Marketing                    2   \n",
              "8th     Helen   45  Female  Australia  100000         IT                   22   \n",
              "9th     Irene   28  Female         UK   65000         HR                    5   \n",
              "10th     Jack   33    Male        USA   70000    Finance                    7   \n",
              "\n",
              "     Education Level  Total_Income  \n",
              "3rd      High School         40000  \n",
              "4th              PhD       1620000  \n",
              "5th         Bachelor        360000  \n",
              "6th           Master        800000  \n",
              "7th         Bachelor        110000  \n",
              "8th              PhD       2200000  \n",
              "9th         Bachelor        325000  \n",
              "10th          Master        490000  "
            ],
            "text/html": [
              "\n",
              "\n",
              "  <div id=\"df-99b0ecd0-d2cc-4e0e-a59b-279248c76a50\">\n",
              "    <div class=\"colab-df-container\">\n",
              "      <div>\n",
              "<style scoped>\n",
              "    .dataframe tbody tr th:only-of-type {\n",
              "        vertical-align: middle;\n",
              "    }\n",
              "\n",
              "    .dataframe tbody tr th {\n",
              "        vertical-align: top;\n",
              "    }\n",
              "\n",
              "    .dataframe thead th {\n",
              "        text-align: right;\n",
              "    }\n",
              "</style>\n",
              "<table border=\"1\" class=\"dataframe\">\n",
              "  <thead>\n",
              "    <tr style=\"text-align: right;\">\n",
              "      <th></th>\n",
              "      <th>Name</th>\n",
              "      <th>Age</th>\n",
              "      <th>Gender</th>\n",
              "      <th>Country</th>\n",
              "      <th>Salary</th>\n",
              "      <th>Department</th>\n",
              "      <th>Years of Experience</th>\n",
              "      <th>Education Level</th>\n",
              "      <th>Total_Income</th>\n",
              "    </tr>\n",
              "  </thead>\n",
              "  <tbody>\n",
              "    <tr>\n",
              "      <th>3rd</th>\n",
              "      <td>Charlie</td>\n",
              "      <td>18</td>\n",
              "      <td>Male</td>\n",
              "      <td>USA</td>\n",
              "      <td>40000</td>\n",
              "      <td>Marketing</td>\n",
              "      <td>1</td>\n",
              "      <td>High School</td>\n",
              "      <td>40000</td>\n",
              "    </tr>\n",
              "    <tr>\n",
              "      <th>4th</th>\n",
              "      <td>David</td>\n",
              "      <td>47</td>\n",
              "      <td>Male</td>\n",
              "      <td>Australia</td>\n",
              "      <td>90000</td>\n",
              "      <td>IT</td>\n",
              "      <td>18</td>\n",
              "      <td>PhD</td>\n",
              "      <td>1620000</td>\n",
              "    </tr>\n",
              "    <tr>\n",
              "      <th>5th</th>\n",
              "      <td>Emily</td>\n",
              "      <td>29</td>\n",
              "      <td>Female</td>\n",
              "      <td>UK</td>\n",
              "      <td>60000</td>\n",
              "      <td>IT</td>\n",
              "      <td>6</td>\n",
              "      <td>Bachelor</td>\n",
              "      <td>360000</td>\n",
              "    </tr>\n",
              "    <tr>\n",
              "      <th>6th</th>\n",
              "      <td>Frank</td>\n",
              "      <td>36</td>\n",
              "      <td>Male</td>\n",
              "      <td>Canada</td>\n",
              "      <td>80000</td>\n",
              "      <td>HR</td>\n",
              "      <td>10</td>\n",
              "      <td>Master</td>\n",
              "      <td>800000</td>\n",
              "    </tr>\n",
              "    <tr>\n",
              "      <th>7th</th>\n",
              "      <td>George</td>\n",
              "      <td>21</td>\n",
              "      <td>Male</td>\n",
              "      <td>USA</td>\n",
              "      <td>55000</td>\n",
              "      <td>Marketing</td>\n",
              "      <td>2</td>\n",
              "      <td>Bachelor</td>\n",
              "      <td>110000</td>\n",
              "    </tr>\n",
              "    <tr>\n",
              "      <th>8th</th>\n",
              "      <td>Helen</td>\n",
              "      <td>45</td>\n",
              "      <td>Female</td>\n",
              "      <td>Australia</td>\n",
              "      <td>100000</td>\n",
              "      <td>IT</td>\n",
              "      <td>22</td>\n",
              "      <td>PhD</td>\n",
              "      <td>2200000</td>\n",
              "    </tr>\n",
              "    <tr>\n",
              "      <th>9th</th>\n",
              "      <td>Irene</td>\n",
              "      <td>28</td>\n",
              "      <td>Female</td>\n",
              "      <td>UK</td>\n",
              "      <td>65000</td>\n",
              "      <td>HR</td>\n",
              "      <td>5</td>\n",
              "      <td>Bachelor</td>\n",
              "      <td>325000</td>\n",
              "    </tr>\n",
              "    <tr>\n",
              "      <th>10th</th>\n",
              "      <td>Jack</td>\n",
              "      <td>33</td>\n",
              "      <td>Male</td>\n",
              "      <td>USA</td>\n",
              "      <td>70000</td>\n",
              "      <td>Finance</td>\n",
              "      <td>7</td>\n",
              "      <td>Master</td>\n",
              "      <td>490000</td>\n",
              "    </tr>\n",
              "  </tbody>\n",
              "</table>\n",
              "</div>\n",
              "      <button class=\"colab-df-convert\" onclick=\"convertToInteractive('df-99b0ecd0-d2cc-4e0e-a59b-279248c76a50')\"\n",
              "              title=\"Convert this dataframe to an interactive table.\"\n",
              "              style=\"display:none;\">\n",
              "\n",
              "  <svg xmlns=\"http://www.w3.org/2000/svg\" height=\"24px\"viewBox=\"0 0 24 24\"\n",
              "       width=\"24px\">\n",
              "    <path d=\"M0 0h24v24H0V0z\" fill=\"none\"/>\n",
              "    <path d=\"M18.56 5.44l.94 2.06.94-2.06 2.06-.94-2.06-.94-.94-2.06-.94 2.06-2.06.94zm-11 1L8.5 8.5l.94-2.06 2.06-.94-2.06-.94L8.5 2.5l-.94 2.06-2.06.94zm10 10l.94 2.06.94-2.06 2.06-.94-2.06-.94-.94-2.06-.94 2.06-2.06.94z\"/><path d=\"M17.41 7.96l-1.37-1.37c-.4-.4-.92-.59-1.43-.59-.52 0-1.04.2-1.43.59L10.3 9.45l-7.72 7.72c-.78.78-.78 2.05 0 2.83L4 21.41c.39.39.9.59 1.41.59.51 0 1.02-.2 1.41-.59l7.78-7.78 2.81-2.81c.8-.78.8-2.07 0-2.86zM5.41 20L4 18.59l7.72-7.72 1.47 1.35L5.41 20z\"/>\n",
              "  </svg>\n",
              "      </button>\n",
              "\n",
              "\n",
              "\n",
              "    <div id=\"df-a16ac6b4-3e15-4963-ba57-f930436c4bd2\">\n",
              "      <button class=\"colab-df-quickchart\" onclick=\"quickchart('df-a16ac6b4-3e15-4963-ba57-f930436c4bd2')\"\n",
              "              title=\"Suggest charts.\"\n",
              "              style=\"display:none;\">\n",
              "\n",
              "<svg xmlns=\"http://www.w3.org/2000/svg\" height=\"24px\"viewBox=\"0 0 24 24\"\n",
              "     width=\"24px\">\n",
              "    <g>\n",
              "        <path d=\"M19 3H5c-1.1 0-2 .9-2 2v14c0 1.1.9 2 2 2h14c1.1 0 2-.9 2-2V5c0-1.1-.9-2-2-2zM9 17H7v-7h2v7zm4 0h-2V7h2v10zm4 0h-2v-4h2v4z\"/>\n",
              "    </g>\n",
              "</svg>\n",
              "      </button>\n",
              "    </div>\n",
              "\n",
              "<style>\n",
              "  .colab-df-quickchart {\n",
              "    background-color: #E8F0FE;\n",
              "    border: none;\n",
              "    border-radius: 50%;\n",
              "    cursor: pointer;\n",
              "    display: none;\n",
              "    fill: #1967D2;\n",
              "    height: 32px;\n",
              "    padding: 0 0 0 0;\n",
              "    width: 32px;\n",
              "  }\n",
              "\n",
              "  .colab-df-quickchart:hover {\n",
              "    background-color: #E2EBFA;\n",
              "    box-shadow: 0px 1px 2px rgba(60, 64, 67, 0.3), 0px 1px 3px 1px rgba(60, 64, 67, 0.15);\n",
              "    fill: #174EA6;\n",
              "  }\n",
              "\n",
              "  [theme=dark] .colab-df-quickchart {\n",
              "    background-color: #3B4455;\n",
              "    fill: #D2E3FC;\n",
              "  }\n",
              "\n",
              "  [theme=dark] .colab-df-quickchart:hover {\n",
              "    background-color: #434B5C;\n",
              "    box-shadow: 0px 1px 3px 1px rgba(0, 0, 0, 0.15);\n",
              "    filter: drop-shadow(0px 1px 2px rgba(0, 0, 0, 0.3));\n",
              "    fill: #FFFFFF;\n",
              "  }\n",
              "</style>\n",
              "\n",
              "    <script>\n",
              "      async function quickchart(key) {\n",
              "        const containerElement = document.querySelector('#' + key);\n",
              "        const charts = await google.colab.kernel.invokeFunction(\n",
              "            'suggestCharts', [key], {});\n",
              "      }\n",
              "    </script>\n",
              "\n",
              "      <script>\n",
              "\n",
              "function displayQuickchartButton(domScope) {\n",
              "  let quickchartButtonEl =\n",
              "    domScope.querySelector('#df-a16ac6b4-3e15-4963-ba57-f930436c4bd2 button.colab-df-quickchart');\n",
              "  quickchartButtonEl.style.display =\n",
              "    google.colab.kernel.accessAllowed ? 'block' : 'none';\n",
              "}\n",
              "\n",
              "        displayQuickchartButton(document);\n",
              "      </script>\n",
              "      <style>\n",
              "    .colab-df-container {\n",
              "      display:flex;\n",
              "      flex-wrap:wrap;\n",
              "      gap: 12px;\n",
              "    }\n",
              "\n",
              "    .colab-df-convert {\n",
              "      background-color: #E8F0FE;\n",
              "      border: none;\n",
              "      border-radius: 50%;\n",
              "      cursor: pointer;\n",
              "      display: none;\n",
              "      fill: #1967D2;\n",
              "      height: 32px;\n",
              "      padding: 0 0 0 0;\n",
              "      width: 32px;\n",
              "    }\n",
              "\n",
              "    .colab-df-convert:hover {\n",
              "      background-color: #E2EBFA;\n",
              "      box-shadow: 0px 1px 2px rgba(60, 64, 67, 0.3), 0px 1px 3px 1px rgba(60, 64, 67, 0.15);\n",
              "      fill: #174EA6;\n",
              "    }\n",
              "\n",
              "    [theme=dark] .colab-df-convert {\n",
              "      background-color: #3B4455;\n",
              "      fill: #D2E3FC;\n",
              "    }\n",
              "\n",
              "    [theme=dark] .colab-df-convert:hover {\n",
              "      background-color: #434B5C;\n",
              "      box-shadow: 0px 1px 3px 1px rgba(0, 0, 0, 0.15);\n",
              "      filter: drop-shadow(0px 1px 2px rgba(0, 0, 0, 0.3));\n",
              "      fill: #FFFFFF;\n",
              "    }\n",
              "  </style>\n",
              "\n",
              "      <script>\n",
              "        const buttonEl =\n",
              "          document.querySelector('#df-99b0ecd0-d2cc-4e0e-a59b-279248c76a50 button.colab-df-convert');\n",
              "        buttonEl.style.display =\n",
              "          google.colab.kernel.accessAllowed ? 'block' : 'none';\n",
              "\n",
              "        async function convertToInteractive(key) {\n",
              "          const element = document.querySelector('#df-99b0ecd0-d2cc-4e0e-a59b-279248c76a50');\n",
              "          const dataTable =\n",
              "            await google.colab.kernel.invokeFunction('convertToInteractive',\n",
              "                                                     [key], {});\n",
              "          if (!dataTable) return;\n",
              "\n",
              "          const docLinkHtml = 'Like what you see? Visit the ' +\n",
              "            '<a target=\"_blank\" href=https://colab.research.google.com/notebooks/data_table.ipynb>data table notebook</a>'\n",
              "            + ' to learn more about interactive tables.';\n",
              "          element.innerHTML = '';\n",
              "          dataTable['output_type'] = 'display_data';\n",
              "          await google.colab.output.renderOutput(dataTable, element);\n",
              "          const docLink = document.createElement('div');\n",
              "          docLink.innerHTML = docLinkHtml;\n",
              "          element.appendChild(docLink);\n",
              "        }\n",
              "      </script>\n",
              "    </div>\n",
              "  </div>\n"
            ]
          },
          "metadata": {},
          "execution_count": 477
        }
      ],
      "source": [
        "df.drop(['1st','2nd']) #to drop a row"
      ]
    },
    {
      "cell_type": "code",
      "execution_count": null,
      "id": "8d81d275",
      "metadata": {
        "id": "8d81d275"
      },
      "outputs": [],
      "source": [
        "df.drop(['Age'],axis=1) #To drop a column"
      ]
    },
    {
      "cell_type": "code",
      "execution_count": null,
      "id": "2ae79af5",
      "metadata": {
        "id": "2ae79af5"
      },
      "outputs": [],
      "source": [
        "# Find the sum of values in a column\n",
        "df['Salary'].sum()"
      ]
    },
    {
      "cell_type": "code",
      "execution_count": null,
      "id": "6d5f7581",
      "metadata": {
        "id": "6d5f7581"
      },
      "outputs": [],
      "source": [
        "#set column as index column\n",
        "df.set_index('Name', inplace=True)"
      ]
    },
    {
      "cell_type": "code",
      "execution_count": null,
      "id": "5f523aaf",
      "metadata": {
        "id": "5f523aaf"
      },
      "outputs": [],
      "source": [
        "df.head()"
      ]
    },
    {
      "cell_type": "code",
      "execution_count": null,
      "id": "a1bdf59b",
      "metadata": {
        "id": "a1bdf59b"
      },
      "outputs": [],
      "source": [
        "a=df[df['Age']==32]\n",
        "a"
      ]
    },
    {
      "cell_type": "markdown",
      "id": "395094e9",
      "metadata": {
        "id": "395094e9"
      },
      "source": [
        "apply() method applies a function to every row in a pandas dataframe"
      ]
    },
    {
      "cell_type": "code",
      "execution_count": null,
      "id": "bb40a7e3",
      "metadata": {
        "id": "bb40a7e3"
      },
      "outputs": [],
      "source": [
        "#uppercase\n",
        "def to_uppercase(column):\n",
        "    return column.upper()"
      ]
    },
    {
      "cell_type": "code",
      "execution_count": null,
      "id": "d3d747d7",
      "metadata": {
        "id": "d3d747d7"
      },
      "outputs": [],
      "source": [
        "df['Capital_Name']=df['Country'].apply(to_uppercase)"
      ]
    },
    {
      "cell_type": "code",
      "execution_count": null,
      "id": "92c2006f",
      "metadata": {
        "id": "92c2006f",
        "colab": {
          "base_uri": "https://localhost:8080/",
          "height": 206
        },
        "outputId": "fbff0593-95e2-42d3-9df7-43605bffad54"
      },
      "outputs": [
        {
          "output_type": "execute_result",
          "data": {
            "text/plain": [
              "        Name  Age  Gender    Country  Salary Department  Years of Experience  \\\n",
              "1st    Alice   25  Female        USA   50000  Marketing                    3   \n",
              "2nd      Bob   32    Male     Canada   75000    Finance                    8   \n",
              "3rd  Charlie   18    Male        USA   40000  Marketing                    1   \n",
              "4th    David   47    Male  Australia   90000         IT                   18   \n",
              "5th    Emily   29  Female         UK   60000         IT                    6   \n",
              "\n",
              "    Education Level  Total_Income Capital_Name  \n",
              "1st        Bachelor        150000          USA  \n",
              "2nd          Master        600000       CANADA  \n",
              "3rd     High School         40000          USA  \n",
              "4th             PhD       1620000    AUSTRALIA  \n",
              "5th        Bachelor        360000           UK  "
            ],
            "text/html": [
              "\n",
              "\n",
              "  <div id=\"df-5d2190a3-443c-49e8-9b26-7c24525fece9\">\n",
              "    <div class=\"colab-df-container\">\n",
              "      <div>\n",
              "<style scoped>\n",
              "    .dataframe tbody tr th:only-of-type {\n",
              "        vertical-align: middle;\n",
              "    }\n",
              "\n",
              "    .dataframe tbody tr th {\n",
              "        vertical-align: top;\n",
              "    }\n",
              "\n",
              "    .dataframe thead th {\n",
              "        text-align: right;\n",
              "    }\n",
              "</style>\n",
              "<table border=\"1\" class=\"dataframe\">\n",
              "  <thead>\n",
              "    <tr style=\"text-align: right;\">\n",
              "      <th></th>\n",
              "      <th>Name</th>\n",
              "      <th>Age</th>\n",
              "      <th>Gender</th>\n",
              "      <th>Country</th>\n",
              "      <th>Salary</th>\n",
              "      <th>Department</th>\n",
              "      <th>Years of Experience</th>\n",
              "      <th>Education Level</th>\n",
              "      <th>Total_Income</th>\n",
              "      <th>Capital_Name</th>\n",
              "    </tr>\n",
              "  </thead>\n",
              "  <tbody>\n",
              "    <tr>\n",
              "      <th>1st</th>\n",
              "      <td>Alice</td>\n",
              "      <td>25</td>\n",
              "      <td>Female</td>\n",
              "      <td>USA</td>\n",
              "      <td>50000</td>\n",
              "      <td>Marketing</td>\n",
              "      <td>3</td>\n",
              "      <td>Bachelor</td>\n",
              "      <td>150000</td>\n",
              "      <td>USA</td>\n",
              "    </tr>\n",
              "    <tr>\n",
              "      <th>2nd</th>\n",
              "      <td>Bob</td>\n",
              "      <td>32</td>\n",
              "      <td>Male</td>\n",
              "      <td>Canada</td>\n",
              "      <td>75000</td>\n",
              "      <td>Finance</td>\n",
              "      <td>8</td>\n",
              "      <td>Master</td>\n",
              "      <td>600000</td>\n",
              "      <td>CANADA</td>\n",
              "    </tr>\n",
              "    <tr>\n",
              "      <th>3rd</th>\n",
              "      <td>Charlie</td>\n",
              "      <td>18</td>\n",
              "      <td>Male</td>\n",
              "      <td>USA</td>\n",
              "      <td>40000</td>\n",
              "      <td>Marketing</td>\n",
              "      <td>1</td>\n",
              "      <td>High School</td>\n",
              "      <td>40000</td>\n",
              "      <td>USA</td>\n",
              "    </tr>\n",
              "    <tr>\n",
              "      <th>4th</th>\n",
              "      <td>David</td>\n",
              "      <td>47</td>\n",
              "      <td>Male</td>\n",
              "      <td>Australia</td>\n",
              "      <td>90000</td>\n",
              "      <td>IT</td>\n",
              "      <td>18</td>\n",
              "      <td>PhD</td>\n",
              "      <td>1620000</td>\n",
              "      <td>AUSTRALIA</td>\n",
              "    </tr>\n",
              "    <tr>\n",
              "      <th>5th</th>\n",
              "      <td>Emily</td>\n",
              "      <td>29</td>\n",
              "      <td>Female</td>\n",
              "      <td>UK</td>\n",
              "      <td>60000</td>\n",
              "      <td>IT</td>\n",
              "      <td>6</td>\n",
              "      <td>Bachelor</td>\n",
              "      <td>360000</td>\n",
              "      <td>UK</td>\n",
              "    </tr>\n",
              "  </tbody>\n",
              "</table>\n",
              "</div>\n",
              "      <button class=\"colab-df-convert\" onclick=\"convertToInteractive('df-5d2190a3-443c-49e8-9b26-7c24525fece9')\"\n",
              "              title=\"Convert this dataframe to an interactive table.\"\n",
              "              style=\"display:none;\">\n",
              "\n",
              "  <svg xmlns=\"http://www.w3.org/2000/svg\" height=\"24px\"viewBox=\"0 0 24 24\"\n",
              "       width=\"24px\">\n",
              "    <path d=\"M0 0h24v24H0V0z\" fill=\"none\"/>\n",
              "    <path d=\"M18.56 5.44l.94 2.06.94-2.06 2.06-.94-2.06-.94-.94-2.06-.94 2.06-2.06.94zm-11 1L8.5 8.5l.94-2.06 2.06-.94-2.06-.94L8.5 2.5l-.94 2.06-2.06.94zm10 10l.94 2.06.94-2.06 2.06-.94-2.06-.94-.94-2.06-.94 2.06-2.06.94z\"/><path d=\"M17.41 7.96l-1.37-1.37c-.4-.4-.92-.59-1.43-.59-.52 0-1.04.2-1.43.59L10.3 9.45l-7.72 7.72c-.78.78-.78 2.05 0 2.83L4 21.41c.39.39.9.59 1.41.59.51 0 1.02-.2 1.41-.59l7.78-7.78 2.81-2.81c.8-.78.8-2.07 0-2.86zM5.41 20L4 18.59l7.72-7.72 1.47 1.35L5.41 20z\"/>\n",
              "  </svg>\n",
              "      </button>\n",
              "\n",
              "\n",
              "\n",
              "    <div id=\"df-bd46f31b-7d0e-494d-a052-8848057e5e5c\">\n",
              "      <button class=\"colab-df-quickchart\" onclick=\"quickchart('df-bd46f31b-7d0e-494d-a052-8848057e5e5c')\"\n",
              "              title=\"Suggest charts.\"\n",
              "              style=\"display:none;\">\n",
              "\n",
              "<svg xmlns=\"http://www.w3.org/2000/svg\" height=\"24px\"viewBox=\"0 0 24 24\"\n",
              "     width=\"24px\">\n",
              "    <g>\n",
              "        <path d=\"M19 3H5c-1.1 0-2 .9-2 2v14c0 1.1.9 2 2 2h14c1.1 0 2-.9 2-2V5c0-1.1-.9-2-2-2zM9 17H7v-7h2v7zm4 0h-2V7h2v10zm4 0h-2v-4h2v4z\"/>\n",
              "    </g>\n",
              "</svg>\n",
              "      </button>\n",
              "    </div>\n",
              "\n",
              "<style>\n",
              "  .colab-df-quickchart {\n",
              "    background-color: #E8F0FE;\n",
              "    border: none;\n",
              "    border-radius: 50%;\n",
              "    cursor: pointer;\n",
              "    display: none;\n",
              "    fill: #1967D2;\n",
              "    height: 32px;\n",
              "    padding: 0 0 0 0;\n",
              "    width: 32px;\n",
              "  }\n",
              "\n",
              "  .colab-df-quickchart:hover {\n",
              "    background-color: #E2EBFA;\n",
              "    box-shadow: 0px 1px 2px rgba(60, 64, 67, 0.3), 0px 1px 3px 1px rgba(60, 64, 67, 0.15);\n",
              "    fill: #174EA6;\n",
              "  }\n",
              "\n",
              "  [theme=dark] .colab-df-quickchart {\n",
              "    background-color: #3B4455;\n",
              "    fill: #D2E3FC;\n",
              "  }\n",
              "\n",
              "  [theme=dark] .colab-df-quickchart:hover {\n",
              "    background-color: #434B5C;\n",
              "    box-shadow: 0px 1px 3px 1px rgba(0, 0, 0, 0.15);\n",
              "    filter: drop-shadow(0px 1px 2px rgba(0, 0, 0, 0.3));\n",
              "    fill: #FFFFFF;\n",
              "  }\n",
              "</style>\n",
              "\n",
              "    <script>\n",
              "      async function quickchart(key) {\n",
              "        const containerElement = document.querySelector('#' + key);\n",
              "        const charts = await google.colab.kernel.invokeFunction(\n",
              "            'suggestCharts', [key], {});\n",
              "      }\n",
              "    </script>\n",
              "\n",
              "      <script>\n",
              "\n",
              "function displayQuickchartButton(domScope) {\n",
              "  let quickchartButtonEl =\n",
              "    domScope.querySelector('#df-bd46f31b-7d0e-494d-a052-8848057e5e5c button.colab-df-quickchart');\n",
              "  quickchartButtonEl.style.display =\n",
              "    google.colab.kernel.accessAllowed ? 'block' : 'none';\n",
              "}\n",
              "\n",
              "        displayQuickchartButton(document);\n",
              "      </script>\n",
              "      <style>\n",
              "    .colab-df-container {\n",
              "      display:flex;\n",
              "      flex-wrap:wrap;\n",
              "      gap: 12px;\n",
              "    }\n",
              "\n",
              "    .colab-df-convert {\n",
              "      background-color: #E8F0FE;\n",
              "      border: none;\n",
              "      border-radius: 50%;\n",
              "      cursor: pointer;\n",
              "      display: none;\n",
              "      fill: #1967D2;\n",
              "      height: 32px;\n",
              "      padding: 0 0 0 0;\n",
              "      width: 32px;\n",
              "    }\n",
              "\n",
              "    .colab-df-convert:hover {\n",
              "      background-color: #E2EBFA;\n",
              "      box-shadow: 0px 1px 2px rgba(60, 64, 67, 0.3), 0px 1px 3px 1px rgba(60, 64, 67, 0.15);\n",
              "      fill: #174EA6;\n",
              "    }\n",
              "\n",
              "    [theme=dark] .colab-df-convert {\n",
              "      background-color: #3B4455;\n",
              "      fill: #D2E3FC;\n",
              "    }\n",
              "\n",
              "    [theme=dark] .colab-df-convert:hover {\n",
              "      background-color: #434B5C;\n",
              "      box-shadow: 0px 1px 3px 1px rgba(0, 0, 0, 0.15);\n",
              "      filter: drop-shadow(0px 1px 2px rgba(0, 0, 0, 0.3));\n",
              "      fill: #FFFFFF;\n",
              "    }\n",
              "  </style>\n",
              "\n",
              "      <script>\n",
              "        const buttonEl =\n",
              "          document.querySelector('#df-5d2190a3-443c-49e8-9b26-7c24525fece9 button.colab-df-convert');\n",
              "        buttonEl.style.display =\n",
              "          google.colab.kernel.accessAllowed ? 'block' : 'none';\n",
              "\n",
              "        async function convertToInteractive(key) {\n",
              "          const element = document.querySelector('#df-5d2190a3-443c-49e8-9b26-7c24525fece9');\n",
              "          const dataTable =\n",
              "            await google.colab.kernel.invokeFunction('convertToInteractive',\n",
              "                                                     [key], {});\n",
              "          if (!dataTable) return;\n",
              "\n",
              "          const docLinkHtml = 'Like what you see? Visit the ' +\n",
              "            '<a target=\"_blank\" href=https://colab.research.google.com/notebooks/data_table.ipynb>data table notebook</a>'\n",
              "            + ' to learn more about interactive tables.';\n",
              "          element.innerHTML = '';\n",
              "          dataTable['output_type'] = 'display_data';\n",
              "          await google.colab.output.renderOutput(dataTable, element);\n",
              "          const docLink = document.createElement('div');\n",
              "          docLink.innerHTML = docLinkHtml;\n",
              "          element.appendChild(docLink);\n",
              "        }\n",
              "      </script>\n",
              "    </div>\n",
              "  </div>\n"
            ]
          },
          "metadata": {},
          "execution_count": 480
        }
      ],
      "source": [
        "df.head()"
      ]
    },
    {
      "cell_type": "markdown",
      "id": "1abb55c1",
      "metadata": {
        "id": "1abb55c1"
      },
      "source": [
        "We can also sort our dataframe by some column values in either an ascending or descending order"
      ]
    },
    {
      "cell_type": "code",
      "execution_count": null,
      "id": "d11c0fd4",
      "metadata": {
        "id": "d11c0fd4",
        "colab": {
          "base_uri": "https://localhost:8080/",
          "height": 363
        },
        "outputId": "3c03b706-dc85-4d2a-a11e-b9f3fb5c83e5"
      },
      "outputs": [
        {
          "output_type": "execute_result",
          "data": {
            "text/plain": [
              "         Name  Age  Gender    Country  Salary Department  Years of Experience  \\\n",
              "4th     David   47    Male  Australia   90000         IT                   18   \n",
              "8th     Helen   45  Female  Australia  100000         IT                   22   \n",
              "6th     Frank   36    Male     Canada   80000         HR                   10   \n",
              "10th     Jack   33    Male        USA   70000    Finance                    7   \n",
              "2nd       Bob   32    Male     Canada   75000    Finance                    8   \n",
              "5th     Emily   29  Female         UK   60000         IT                    6   \n",
              "9th     Irene   28  Female         UK   65000         HR                    5   \n",
              "1st     Alice   25  Female        USA   50000  Marketing                    3   \n",
              "7th    George   21    Male        USA   55000  Marketing                    2   \n",
              "3rd   Charlie   18    Male        USA   40000  Marketing                    1   \n",
              "\n",
              "     Education Level  Total_Income Capital_Name  \n",
              "4th              PhD       1620000    AUSTRALIA  \n",
              "8th              PhD       2200000    AUSTRALIA  \n",
              "6th           Master        800000       CANADA  \n",
              "10th          Master        490000          USA  \n",
              "2nd           Master        600000       CANADA  \n",
              "5th         Bachelor        360000           UK  \n",
              "9th         Bachelor        325000           UK  \n",
              "1st         Bachelor        150000          USA  \n",
              "7th         Bachelor        110000          USA  \n",
              "3rd      High School         40000          USA  "
            ],
            "text/html": [
              "\n",
              "\n",
              "  <div id=\"df-b6026ce5-9c48-4207-9d0b-a8a40759afed\">\n",
              "    <div class=\"colab-df-container\">\n",
              "      <div>\n",
              "<style scoped>\n",
              "    .dataframe tbody tr th:only-of-type {\n",
              "        vertical-align: middle;\n",
              "    }\n",
              "\n",
              "    .dataframe tbody tr th {\n",
              "        vertical-align: top;\n",
              "    }\n",
              "\n",
              "    .dataframe thead th {\n",
              "        text-align: right;\n",
              "    }\n",
              "</style>\n",
              "<table border=\"1\" class=\"dataframe\">\n",
              "  <thead>\n",
              "    <tr style=\"text-align: right;\">\n",
              "      <th></th>\n",
              "      <th>Name</th>\n",
              "      <th>Age</th>\n",
              "      <th>Gender</th>\n",
              "      <th>Country</th>\n",
              "      <th>Salary</th>\n",
              "      <th>Department</th>\n",
              "      <th>Years of Experience</th>\n",
              "      <th>Education Level</th>\n",
              "      <th>Total_Income</th>\n",
              "      <th>Capital_Name</th>\n",
              "    </tr>\n",
              "  </thead>\n",
              "  <tbody>\n",
              "    <tr>\n",
              "      <th>4th</th>\n",
              "      <td>David</td>\n",
              "      <td>47</td>\n",
              "      <td>Male</td>\n",
              "      <td>Australia</td>\n",
              "      <td>90000</td>\n",
              "      <td>IT</td>\n",
              "      <td>18</td>\n",
              "      <td>PhD</td>\n",
              "      <td>1620000</td>\n",
              "      <td>AUSTRALIA</td>\n",
              "    </tr>\n",
              "    <tr>\n",
              "      <th>8th</th>\n",
              "      <td>Helen</td>\n",
              "      <td>45</td>\n",
              "      <td>Female</td>\n",
              "      <td>Australia</td>\n",
              "      <td>100000</td>\n",
              "      <td>IT</td>\n",
              "      <td>22</td>\n",
              "      <td>PhD</td>\n",
              "      <td>2200000</td>\n",
              "      <td>AUSTRALIA</td>\n",
              "    </tr>\n",
              "    <tr>\n",
              "      <th>6th</th>\n",
              "      <td>Frank</td>\n",
              "      <td>36</td>\n",
              "      <td>Male</td>\n",
              "      <td>Canada</td>\n",
              "      <td>80000</td>\n",
              "      <td>HR</td>\n",
              "      <td>10</td>\n",
              "      <td>Master</td>\n",
              "      <td>800000</td>\n",
              "      <td>CANADA</td>\n",
              "    </tr>\n",
              "    <tr>\n",
              "      <th>10th</th>\n",
              "      <td>Jack</td>\n",
              "      <td>33</td>\n",
              "      <td>Male</td>\n",
              "      <td>USA</td>\n",
              "      <td>70000</td>\n",
              "      <td>Finance</td>\n",
              "      <td>7</td>\n",
              "      <td>Master</td>\n",
              "      <td>490000</td>\n",
              "      <td>USA</td>\n",
              "    </tr>\n",
              "    <tr>\n",
              "      <th>2nd</th>\n",
              "      <td>Bob</td>\n",
              "      <td>32</td>\n",
              "      <td>Male</td>\n",
              "      <td>Canada</td>\n",
              "      <td>75000</td>\n",
              "      <td>Finance</td>\n",
              "      <td>8</td>\n",
              "      <td>Master</td>\n",
              "      <td>600000</td>\n",
              "      <td>CANADA</td>\n",
              "    </tr>\n",
              "    <tr>\n",
              "      <th>5th</th>\n",
              "      <td>Emily</td>\n",
              "      <td>29</td>\n",
              "      <td>Female</td>\n",
              "      <td>UK</td>\n",
              "      <td>60000</td>\n",
              "      <td>IT</td>\n",
              "      <td>6</td>\n",
              "      <td>Bachelor</td>\n",
              "      <td>360000</td>\n",
              "      <td>UK</td>\n",
              "    </tr>\n",
              "    <tr>\n",
              "      <th>9th</th>\n",
              "      <td>Irene</td>\n",
              "      <td>28</td>\n",
              "      <td>Female</td>\n",
              "      <td>UK</td>\n",
              "      <td>65000</td>\n",
              "      <td>HR</td>\n",
              "      <td>5</td>\n",
              "      <td>Bachelor</td>\n",
              "      <td>325000</td>\n",
              "      <td>UK</td>\n",
              "    </tr>\n",
              "    <tr>\n",
              "      <th>1st</th>\n",
              "      <td>Alice</td>\n",
              "      <td>25</td>\n",
              "      <td>Female</td>\n",
              "      <td>USA</td>\n",
              "      <td>50000</td>\n",
              "      <td>Marketing</td>\n",
              "      <td>3</td>\n",
              "      <td>Bachelor</td>\n",
              "      <td>150000</td>\n",
              "      <td>USA</td>\n",
              "    </tr>\n",
              "    <tr>\n",
              "      <th>7th</th>\n",
              "      <td>George</td>\n",
              "      <td>21</td>\n",
              "      <td>Male</td>\n",
              "      <td>USA</td>\n",
              "      <td>55000</td>\n",
              "      <td>Marketing</td>\n",
              "      <td>2</td>\n",
              "      <td>Bachelor</td>\n",
              "      <td>110000</td>\n",
              "      <td>USA</td>\n",
              "    </tr>\n",
              "    <tr>\n",
              "      <th>3rd</th>\n",
              "      <td>Charlie</td>\n",
              "      <td>18</td>\n",
              "      <td>Male</td>\n",
              "      <td>USA</td>\n",
              "      <td>40000</td>\n",
              "      <td>Marketing</td>\n",
              "      <td>1</td>\n",
              "      <td>High School</td>\n",
              "      <td>40000</td>\n",
              "      <td>USA</td>\n",
              "    </tr>\n",
              "  </tbody>\n",
              "</table>\n",
              "</div>\n",
              "      <button class=\"colab-df-convert\" onclick=\"convertToInteractive('df-b6026ce5-9c48-4207-9d0b-a8a40759afed')\"\n",
              "              title=\"Convert this dataframe to an interactive table.\"\n",
              "              style=\"display:none;\">\n",
              "\n",
              "  <svg xmlns=\"http://www.w3.org/2000/svg\" height=\"24px\"viewBox=\"0 0 24 24\"\n",
              "       width=\"24px\">\n",
              "    <path d=\"M0 0h24v24H0V0z\" fill=\"none\"/>\n",
              "    <path d=\"M18.56 5.44l.94 2.06.94-2.06 2.06-.94-2.06-.94-.94-2.06-.94 2.06-2.06.94zm-11 1L8.5 8.5l.94-2.06 2.06-.94-2.06-.94L8.5 2.5l-.94 2.06-2.06.94zm10 10l.94 2.06.94-2.06 2.06-.94-2.06-.94-.94-2.06-.94 2.06-2.06.94z\"/><path d=\"M17.41 7.96l-1.37-1.37c-.4-.4-.92-.59-1.43-.59-.52 0-1.04.2-1.43.59L10.3 9.45l-7.72 7.72c-.78.78-.78 2.05 0 2.83L4 21.41c.39.39.9.59 1.41.59.51 0 1.02-.2 1.41-.59l7.78-7.78 2.81-2.81c.8-.78.8-2.07 0-2.86zM5.41 20L4 18.59l7.72-7.72 1.47 1.35L5.41 20z\"/>\n",
              "  </svg>\n",
              "      </button>\n",
              "\n",
              "\n",
              "\n",
              "    <div id=\"df-f1c69857-f843-422b-b4f1-abb27205ec05\">\n",
              "      <button class=\"colab-df-quickchart\" onclick=\"quickchart('df-f1c69857-f843-422b-b4f1-abb27205ec05')\"\n",
              "              title=\"Suggest charts.\"\n",
              "              style=\"display:none;\">\n",
              "\n",
              "<svg xmlns=\"http://www.w3.org/2000/svg\" height=\"24px\"viewBox=\"0 0 24 24\"\n",
              "     width=\"24px\">\n",
              "    <g>\n",
              "        <path d=\"M19 3H5c-1.1 0-2 .9-2 2v14c0 1.1.9 2 2 2h14c1.1 0 2-.9 2-2V5c0-1.1-.9-2-2-2zM9 17H7v-7h2v7zm4 0h-2V7h2v10zm4 0h-2v-4h2v4z\"/>\n",
              "    </g>\n",
              "</svg>\n",
              "      </button>\n",
              "    </div>\n",
              "\n",
              "<style>\n",
              "  .colab-df-quickchart {\n",
              "    background-color: #E8F0FE;\n",
              "    border: none;\n",
              "    border-radius: 50%;\n",
              "    cursor: pointer;\n",
              "    display: none;\n",
              "    fill: #1967D2;\n",
              "    height: 32px;\n",
              "    padding: 0 0 0 0;\n",
              "    width: 32px;\n",
              "  }\n",
              "\n",
              "  .colab-df-quickchart:hover {\n",
              "    background-color: #E2EBFA;\n",
              "    box-shadow: 0px 1px 2px rgba(60, 64, 67, 0.3), 0px 1px 3px 1px rgba(60, 64, 67, 0.15);\n",
              "    fill: #174EA6;\n",
              "  }\n",
              "\n",
              "  [theme=dark] .colab-df-quickchart {\n",
              "    background-color: #3B4455;\n",
              "    fill: #D2E3FC;\n",
              "  }\n",
              "\n",
              "  [theme=dark] .colab-df-quickchart:hover {\n",
              "    background-color: #434B5C;\n",
              "    box-shadow: 0px 1px 3px 1px rgba(0, 0, 0, 0.15);\n",
              "    filter: drop-shadow(0px 1px 2px rgba(0, 0, 0, 0.3));\n",
              "    fill: #FFFFFF;\n",
              "  }\n",
              "</style>\n",
              "\n",
              "    <script>\n",
              "      async function quickchart(key) {\n",
              "        const containerElement = document.querySelector('#' + key);\n",
              "        const charts = await google.colab.kernel.invokeFunction(\n",
              "            'suggestCharts', [key], {});\n",
              "      }\n",
              "    </script>\n",
              "\n",
              "      <script>\n",
              "\n",
              "function displayQuickchartButton(domScope) {\n",
              "  let quickchartButtonEl =\n",
              "    domScope.querySelector('#df-f1c69857-f843-422b-b4f1-abb27205ec05 button.colab-df-quickchart');\n",
              "  quickchartButtonEl.style.display =\n",
              "    google.colab.kernel.accessAllowed ? 'block' : 'none';\n",
              "}\n",
              "\n",
              "        displayQuickchartButton(document);\n",
              "      </script>\n",
              "      <style>\n",
              "    .colab-df-container {\n",
              "      display:flex;\n",
              "      flex-wrap:wrap;\n",
              "      gap: 12px;\n",
              "    }\n",
              "\n",
              "    .colab-df-convert {\n",
              "      background-color: #E8F0FE;\n",
              "      border: none;\n",
              "      border-radius: 50%;\n",
              "      cursor: pointer;\n",
              "      display: none;\n",
              "      fill: #1967D2;\n",
              "      height: 32px;\n",
              "      padding: 0 0 0 0;\n",
              "      width: 32px;\n",
              "    }\n",
              "\n",
              "    .colab-df-convert:hover {\n",
              "      background-color: #E2EBFA;\n",
              "      box-shadow: 0px 1px 2px rgba(60, 64, 67, 0.3), 0px 1px 3px 1px rgba(60, 64, 67, 0.15);\n",
              "      fill: #174EA6;\n",
              "    }\n",
              "\n",
              "    [theme=dark] .colab-df-convert {\n",
              "      background-color: #3B4455;\n",
              "      fill: #D2E3FC;\n",
              "    }\n",
              "\n",
              "    [theme=dark] .colab-df-convert:hover {\n",
              "      background-color: #434B5C;\n",
              "      box-shadow: 0px 1px 3px 1px rgba(0, 0, 0, 0.15);\n",
              "      filter: drop-shadow(0px 1px 2px rgba(0, 0, 0, 0.3));\n",
              "      fill: #FFFFFF;\n",
              "    }\n",
              "  </style>\n",
              "\n",
              "      <script>\n",
              "        const buttonEl =\n",
              "          document.querySelector('#df-b6026ce5-9c48-4207-9d0b-a8a40759afed button.colab-df-convert');\n",
              "        buttonEl.style.display =\n",
              "          google.colab.kernel.accessAllowed ? 'block' : 'none';\n",
              "\n",
              "        async function convertToInteractive(key) {\n",
              "          const element = document.querySelector('#df-b6026ce5-9c48-4207-9d0b-a8a40759afed');\n",
              "          const dataTable =\n",
              "            await google.colab.kernel.invokeFunction('convertToInteractive',\n",
              "                                                     [key], {});\n",
              "          if (!dataTable) return;\n",
              "\n",
              "          const docLinkHtml = 'Like what you see? Visit the ' +\n",
              "            '<a target=\"_blank\" href=https://colab.research.google.com/notebooks/data_table.ipynb>data table notebook</a>'\n",
              "            + ' to learn more about interactive tables.';\n",
              "          element.innerHTML = '';\n",
              "          dataTable['output_type'] = 'display_data';\n",
              "          await google.colab.output.renderOutput(dataTable, element);\n",
              "          const docLink = document.createElement('div');\n",
              "          docLink.innerHTML = docLinkHtml;\n",
              "          element.appendChild(docLink);\n",
              "        }\n",
              "      </script>\n",
              "    </div>\n",
              "  </div>\n"
            ]
          },
          "metadata": {},
          "execution_count": 481
        }
      ],
      "source": [
        "# Sort values in descending order\n",
        "df.sort_values('Age', ascending=False)"
      ]
    },
    {
      "cell_type": "code",
      "execution_count": null,
      "id": "9630a75f",
      "metadata": {
        "scrolled": true,
        "id": "9630a75f",
        "colab": {
          "base_uri": "https://localhost:8080/",
          "height": 206
        },
        "outputId": "28cc4b2c-cffe-40b1-de82-1b972c7926f0"
      },
      "outputs": [
        {
          "output_type": "execute_result",
          "data": {
            "text/plain": [
              "       Name  Age  Gender    Country  Salary Department  Years of Experience  \\\n",
              "4th   David   47    Male  Australia   90000         IT                   18   \n",
              "8th   Helen   45  Female  Australia  100000         IT                   22   \n",
              "6th   Frank   36    Male     Canada   80000         HR                   10   \n",
              "10th   Jack   33    Male        USA   70000    Finance                    7   \n",
              "2nd     Bob   32    Male     Canada   75000    Finance                    8   \n",
              "\n",
              "     Education Level  Total_Income Capital_Name  \n",
              "4th              PhD       1620000    AUSTRALIA  \n",
              "8th              PhD       2200000    AUSTRALIA  \n",
              "6th           Master        800000       CANADA  \n",
              "10th          Master        490000          USA  \n",
              "2nd           Master        600000       CANADA  "
            ],
            "text/html": [
              "\n",
              "\n",
              "  <div id=\"df-5c92a58f-4f33-4c31-bdad-f3a72595a0e5\">\n",
              "    <div class=\"colab-df-container\">\n",
              "      <div>\n",
              "<style scoped>\n",
              "    .dataframe tbody tr th:only-of-type {\n",
              "        vertical-align: middle;\n",
              "    }\n",
              "\n",
              "    .dataframe tbody tr th {\n",
              "        vertical-align: top;\n",
              "    }\n",
              "\n",
              "    .dataframe thead th {\n",
              "        text-align: right;\n",
              "    }\n",
              "</style>\n",
              "<table border=\"1\" class=\"dataframe\">\n",
              "  <thead>\n",
              "    <tr style=\"text-align: right;\">\n",
              "      <th></th>\n",
              "      <th>Name</th>\n",
              "      <th>Age</th>\n",
              "      <th>Gender</th>\n",
              "      <th>Country</th>\n",
              "      <th>Salary</th>\n",
              "      <th>Department</th>\n",
              "      <th>Years of Experience</th>\n",
              "      <th>Education Level</th>\n",
              "      <th>Total_Income</th>\n",
              "      <th>Capital_Name</th>\n",
              "    </tr>\n",
              "  </thead>\n",
              "  <tbody>\n",
              "    <tr>\n",
              "      <th>4th</th>\n",
              "      <td>David</td>\n",
              "      <td>47</td>\n",
              "      <td>Male</td>\n",
              "      <td>Australia</td>\n",
              "      <td>90000</td>\n",
              "      <td>IT</td>\n",
              "      <td>18</td>\n",
              "      <td>PhD</td>\n",
              "      <td>1620000</td>\n",
              "      <td>AUSTRALIA</td>\n",
              "    </tr>\n",
              "    <tr>\n",
              "      <th>8th</th>\n",
              "      <td>Helen</td>\n",
              "      <td>45</td>\n",
              "      <td>Female</td>\n",
              "      <td>Australia</td>\n",
              "      <td>100000</td>\n",
              "      <td>IT</td>\n",
              "      <td>22</td>\n",
              "      <td>PhD</td>\n",
              "      <td>2200000</td>\n",
              "      <td>AUSTRALIA</td>\n",
              "    </tr>\n",
              "    <tr>\n",
              "      <th>6th</th>\n",
              "      <td>Frank</td>\n",
              "      <td>36</td>\n",
              "      <td>Male</td>\n",
              "      <td>Canada</td>\n",
              "      <td>80000</td>\n",
              "      <td>HR</td>\n",
              "      <td>10</td>\n",
              "      <td>Master</td>\n",
              "      <td>800000</td>\n",
              "      <td>CANADA</td>\n",
              "    </tr>\n",
              "    <tr>\n",
              "      <th>10th</th>\n",
              "      <td>Jack</td>\n",
              "      <td>33</td>\n",
              "      <td>Male</td>\n",
              "      <td>USA</td>\n",
              "      <td>70000</td>\n",
              "      <td>Finance</td>\n",
              "      <td>7</td>\n",
              "      <td>Master</td>\n",
              "      <td>490000</td>\n",
              "      <td>USA</td>\n",
              "    </tr>\n",
              "    <tr>\n",
              "      <th>2nd</th>\n",
              "      <td>Bob</td>\n",
              "      <td>32</td>\n",
              "      <td>Male</td>\n",
              "      <td>Canada</td>\n",
              "      <td>75000</td>\n",
              "      <td>Finance</td>\n",
              "      <td>8</td>\n",
              "      <td>Master</td>\n",
              "      <td>600000</td>\n",
              "      <td>CANADA</td>\n",
              "    </tr>\n",
              "  </tbody>\n",
              "</table>\n",
              "</div>\n",
              "      <button class=\"colab-df-convert\" onclick=\"convertToInteractive('df-5c92a58f-4f33-4c31-bdad-f3a72595a0e5')\"\n",
              "              title=\"Convert this dataframe to an interactive table.\"\n",
              "              style=\"display:none;\">\n",
              "\n",
              "  <svg xmlns=\"http://www.w3.org/2000/svg\" height=\"24px\"viewBox=\"0 0 24 24\"\n",
              "       width=\"24px\">\n",
              "    <path d=\"M0 0h24v24H0V0z\" fill=\"none\"/>\n",
              "    <path d=\"M18.56 5.44l.94 2.06.94-2.06 2.06-.94-2.06-.94-.94-2.06-.94 2.06-2.06.94zm-11 1L8.5 8.5l.94-2.06 2.06-.94-2.06-.94L8.5 2.5l-.94 2.06-2.06.94zm10 10l.94 2.06.94-2.06 2.06-.94-2.06-.94-.94-2.06-.94 2.06-2.06.94z\"/><path d=\"M17.41 7.96l-1.37-1.37c-.4-.4-.92-.59-1.43-.59-.52 0-1.04.2-1.43.59L10.3 9.45l-7.72 7.72c-.78.78-.78 2.05 0 2.83L4 21.41c.39.39.9.59 1.41.59.51 0 1.02-.2 1.41-.59l7.78-7.78 2.81-2.81c.8-.78.8-2.07 0-2.86zM5.41 20L4 18.59l7.72-7.72 1.47 1.35L5.41 20z\"/>\n",
              "  </svg>\n",
              "      </button>\n",
              "\n",
              "\n",
              "\n",
              "    <div id=\"df-8f9c12ac-9907-414f-8dbd-3c2536ad6704\">\n",
              "      <button class=\"colab-df-quickchart\" onclick=\"quickchart('df-8f9c12ac-9907-414f-8dbd-3c2536ad6704')\"\n",
              "              title=\"Suggest charts.\"\n",
              "              style=\"display:none;\">\n",
              "\n",
              "<svg xmlns=\"http://www.w3.org/2000/svg\" height=\"24px\"viewBox=\"0 0 24 24\"\n",
              "     width=\"24px\">\n",
              "    <g>\n",
              "        <path d=\"M19 3H5c-1.1 0-2 .9-2 2v14c0 1.1.9 2 2 2h14c1.1 0 2-.9 2-2V5c0-1.1-.9-2-2-2zM9 17H7v-7h2v7zm4 0h-2V7h2v10zm4 0h-2v-4h2v4z\"/>\n",
              "    </g>\n",
              "</svg>\n",
              "      </button>\n",
              "    </div>\n",
              "\n",
              "<style>\n",
              "  .colab-df-quickchart {\n",
              "    background-color: #E8F0FE;\n",
              "    border: none;\n",
              "    border-radius: 50%;\n",
              "    cursor: pointer;\n",
              "    display: none;\n",
              "    fill: #1967D2;\n",
              "    height: 32px;\n",
              "    padding: 0 0 0 0;\n",
              "    width: 32px;\n",
              "  }\n",
              "\n",
              "  .colab-df-quickchart:hover {\n",
              "    background-color: #E2EBFA;\n",
              "    box-shadow: 0px 1px 2px rgba(60, 64, 67, 0.3), 0px 1px 3px 1px rgba(60, 64, 67, 0.15);\n",
              "    fill: #174EA6;\n",
              "  }\n",
              "\n",
              "  [theme=dark] .colab-df-quickchart {\n",
              "    background-color: #3B4455;\n",
              "    fill: #D2E3FC;\n",
              "  }\n",
              "\n",
              "  [theme=dark] .colab-df-quickchart:hover {\n",
              "    background-color: #434B5C;\n",
              "    box-shadow: 0px 1px 3px 1px rgba(0, 0, 0, 0.15);\n",
              "    filter: drop-shadow(0px 1px 2px rgba(0, 0, 0, 0.3));\n",
              "    fill: #FFFFFF;\n",
              "  }\n",
              "</style>\n",
              "\n",
              "    <script>\n",
              "      async function quickchart(key) {\n",
              "        const containerElement = document.querySelector('#' + key);\n",
              "        const charts = await google.colab.kernel.invokeFunction(\n",
              "            'suggestCharts', [key], {});\n",
              "      }\n",
              "    </script>\n",
              "\n",
              "      <script>\n",
              "\n",
              "function displayQuickchartButton(domScope) {\n",
              "  let quickchartButtonEl =\n",
              "    domScope.querySelector('#df-8f9c12ac-9907-414f-8dbd-3c2536ad6704 button.colab-df-quickchart');\n",
              "  quickchartButtonEl.style.display =\n",
              "    google.colab.kernel.accessAllowed ? 'block' : 'none';\n",
              "}\n",
              "\n",
              "        displayQuickchartButton(document);\n",
              "      </script>\n",
              "      <style>\n",
              "    .colab-df-container {\n",
              "      display:flex;\n",
              "      flex-wrap:wrap;\n",
              "      gap: 12px;\n",
              "    }\n",
              "\n",
              "    .colab-df-convert {\n",
              "      background-color: #E8F0FE;\n",
              "      border: none;\n",
              "      border-radius: 50%;\n",
              "      cursor: pointer;\n",
              "      display: none;\n",
              "      fill: #1967D2;\n",
              "      height: 32px;\n",
              "      padding: 0 0 0 0;\n",
              "      width: 32px;\n",
              "    }\n",
              "\n",
              "    .colab-df-convert:hover {\n",
              "      background-color: #E2EBFA;\n",
              "      box-shadow: 0px 1px 2px rgba(60, 64, 67, 0.3), 0px 1px 3px 1px rgba(60, 64, 67, 0.15);\n",
              "      fill: #174EA6;\n",
              "    }\n",
              "\n",
              "    [theme=dark] .colab-df-convert {\n",
              "      background-color: #3B4455;\n",
              "      fill: #D2E3FC;\n",
              "    }\n",
              "\n",
              "    [theme=dark] .colab-df-convert:hover {\n",
              "      background-color: #434B5C;\n",
              "      box-shadow: 0px 1px 3px 1px rgba(0, 0, 0, 0.15);\n",
              "      filter: drop-shadow(0px 1px 2px rgba(0, 0, 0, 0.3));\n",
              "      fill: #FFFFFF;\n",
              "    }\n",
              "  </style>\n",
              "\n",
              "      <script>\n",
              "        const buttonEl =\n",
              "          document.querySelector('#df-5c92a58f-4f33-4c31-bdad-f3a72595a0e5 button.colab-df-convert');\n",
              "        buttonEl.style.display =\n",
              "          google.colab.kernel.accessAllowed ? 'block' : 'none';\n",
              "\n",
              "        async function convertToInteractive(key) {\n",
              "          const element = document.querySelector('#df-5c92a58f-4f33-4c31-bdad-f3a72595a0e5');\n",
              "          const dataTable =\n",
              "            await google.colab.kernel.invokeFunction('convertToInteractive',\n",
              "                                                     [key], {});\n",
              "          if (!dataTable) return;\n",
              "\n",
              "          const docLinkHtml = 'Like what you see? Visit the ' +\n",
              "            '<a target=\"_blank\" href=https://colab.research.google.com/notebooks/data_table.ipynb>data table notebook</a>'\n",
              "            + ' to learn more about interactive tables.';\n",
              "          element.innerHTML = '';\n",
              "          dataTable['output_type'] = 'display_data';\n",
              "          await google.colab.output.renderOutput(dataTable, element);\n",
              "          const docLink = document.createElement('div');\n",
              "          docLink.innerHTML = docLinkHtml;\n",
              "          element.appendChild(docLink);\n",
              "        }\n",
              "      </script>\n",
              "    </div>\n",
              "  </div>\n"
            ]
          },
          "metadata": {},
          "execution_count": 482
        }
      ],
      "source": [
        "# We can also sort by the combination of two columns\n",
        "df.sort_values(['Age','Salary'], ascending=[False,True]).head()"
      ]
    },
    {
      "cell_type": "code",
      "execution_count": null,
      "id": "3f29e81c",
      "metadata": {
        "id": "3f29e81c",
        "colab": {
          "base_uri": "https://localhost:8080/"
        },
        "outputId": "ce82b6d6-25c2-4164-f223-873fa5f178d1"
      },
      "outputs": [
        {
          "output_type": "execute_result",
          "data": {
            "text/plain": [
              "['USA', 'Canada', 'Australia', 'UK']"
            ]
          },
          "metadata": {},
          "execution_count": 483
        }
      ],
      "source": [
        "# Find the list of unique values in a column\n",
        "list(df['Country'].unique())"
      ]
    },
    {
      "cell_type": "code",
      "execution_count": null,
      "id": "c51917d2",
      "metadata": {
        "id": "c51917d2",
        "colab": {
          "base_uri": "https://localhost:8080/"
        },
        "outputId": "e14f54f2-e6c2-4443-c73c-7263d4726d81"
      },
      "outputs": [
        {
          "output_type": "execute_result",
          "data": {
            "text/plain": [
              "array(['USA', 'Canada', 'Australia', 'UK'], dtype=object)"
            ]
          },
          "metadata": {},
          "execution_count": 484
        }
      ],
      "source": [
        "df['Country'].unique()"
      ]
    },
    {
      "cell_type": "code",
      "execution_count": null,
      "id": "2d79474d",
      "metadata": {
        "id": "2d79474d",
        "colab": {
          "base_uri": "https://localhost:8080/",
          "height": 363
        },
        "outputId": "8e20e4b2-e957-46cc-d281-f55c4405711e"
      },
      "outputs": [
        {
          "output_type": "execute_result",
          "data": {
            "text/plain": [
              "         Name  Age  Gender    Country  Salary Department  Years of Experience  \\\n",
              "1st     Alice   25  Female        USA   50000  Marketing                    3   \n",
              "2nd       Bob   32    Male     Canada   75000    Finance                    8   \n",
              "3rd   Charlie   18    Male        USA   40000  Marketing                    1   \n",
              "4th     David   47    Male  Australia   90000         IT                   18   \n",
              "5th     Emily   29  Female         UK   60000         IT                    6   \n",
              "6th     Frank   36    Male     Canada   80000         HR                   10   \n",
              "7th    George   21    Male        USA   55000  Marketing                    2   \n",
              "8th     Helen   45  Female  Australia  100000         IT                   22   \n",
              "9th     Irene   28  Female         UK   65000         HR                    5   \n",
              "10th     Jack   33    Male        USA   70000    Finance                    7   \n",
              "\n",
              "     Education Level  Total_Income Capital_Name  \n",
              "1st         Bachelor        150000          USA  \n",
              "2nd           Master        600000       CANADA  \n",
              "3rd      High School         40000          USA  \n",
              "4th              PhD       1620000    AUSTRALIA  \n",
              "5th         Bachelor        360000           UK  \n",
              "6th           Master        800000       CANADA  \n",
              "7th         Bachelor        110000          USA  \n",
              "8th              PhD       2200000    AUSTRALIA  \n",
              "9th         Bachelor        325000           UK  \n",
              "10th          Master        490000          USA  "
            ],
            "text/html": [
              "\n",
              "\n",
              "  <div id=\"df-cc5ec539-f078-4b24-b7e1-f96993b94dd3\">\n",
              "    <div class=\"colab-df-container\">\n",
              "      <div>\n",
              "<style scoped>\n",
              "    .dataframe tbody tr th:only-of-type {\n",
              "        vertical-align: middle;\n",
              "    }\n",
              "\n",
              "    .dataframe tbody tr th {\n",
              "        vertical-align: top;\n",
              "    }\n",
              "\n",
              "    .dataframe thead th {\n",
              "        text-align: right;\n",
              "    }\n",
              "</style>\n",
              "<table border=\"1\" class=\"dataframe\">\n",
              "  <thead>\n",
              "    <tr style=\"text-align: right;\">\n",
              "      <th></th>\n",
              "      <th>Name</th>\n",
              "      <th>Age</th>\n",
              "      <th>Gender</th>\n",
              "      <th>Country</th>\n",
              "      <th>Salary</th>\n",
              "      <th>Department</th>\n",
              "      <th>Years of Experience</th>\n",
              "      <th>Education Level</th>\n",
              "      <th>Total_Income</th>\n",
              "      <th>Capital_Name</th>\n",
              "    </tr>\n",
              "  </thead>\n",
              "  <tbody>\n",
              "    <tr>\n",
              "      <th>1st</th>\n",
              "      <td>Alice</td>\n",
              "      <td>25</td>\n",
              "      <td>Female</td>\n",
              "      <td>USA</td>\n",
              "      <td>50000</td>\n",
              "      <td>Marketing</td>\n",
              "      <td>3</td>\n",
              "      <td>Bachelor</td>\n",
              "      <td>150000</td>\n",
              "      <td>USA</td>\n",
              "    </tr>\n",
              "    <tr>\n",
              "      <th>2nd</th>\n",
              "      <td>Bob</td>\n",
              "      <td>32</td>\n",
              "      <td>Male</td>\n",
              "      <td>Canada</td>\n",
              "      <td>75000</td>\n",
              "      <td>Finance</td>\n",
              "      <td>8</td>\n",
              "      <td>Master</td>\n",
              "      <td>600000</td>\n",
              "      <td>CANADA</td>\n",
              "    </tr>\n",
              "    <tr>\n",
              "      <th>3rd</th>\n",
              "      <td>Charlie</td>\n",
              "      <td>18</td>\n",
              "      <td>Male</td>\n",
              "      <td>USA</td>\n",
              "      <td>40000</td>\n",
              "      <td>Marketing</td>\n",
              "      <td>1</td>\n",
              "      <td>High School</td>\n",
              "      <td>40000</td>\n",
              "      <td>USA</td>\n",
              "    </tr>\n",
              "    <tr>\n",
              "      <th>4th</th>\n",
              "      <td>David</td>\n",
              "      <td>47</td>\n",
              "      <td>Male</td>\n",
              "      <td>Australia</td>\n",
              "      <td>90000</td>\n",
              "      <td>IT</td>\n",
              "      <td>18</td>\n",
              "      <td>PhD</td>\n",
              "      <td>1620000</td>\n",
              "      <td>AUSTRALIA</td>\n",
              "    </tr>\n",
              "    <tr>\n",
              "      <th>5th</th>\n",
              "      <td>Emily</td>\n",
              "      <td>29</td>\n",
              "      <td>Female</td>\n",
              "      <td>UK</td>\n",
              "      <td>60000</td>\n",
              "      <td>IT</td>\n",
              "      <td>6</td>\n",
              "      <td>Bachelor</td>\n",
              "      <td>360000</td>\n",
              "      <td>UK</td>\n",
              "    </tr>\n",
              "    <tr>\n",
              "      <th>6th</th>\n",
              "      <td>Frank</td>\n",
              "      <td>36</td>\n",
              "      <td>Male</td>\n",
              "      <td>Canada</td>\n",
              "      <td>80000</td>\n",
              "      <td>HR</td>\n",
              "      <td>10</td>\n",
              "      <td>Master</td>\n",
              "      <td>800000</td>\n",
              "      <td>CANADA</td>\n",
              "    </tr>\n",
              "    <tr>\n",
              "      <th>7th</th>\n",
              "      <td>George</td>\n",
              "      <td>21</td>\n",
              "      <td>Male</td>\n",
              "      <td>USA</td>\n",
              "      <td>55000</td>\n",
              "      <td>Marketing</td>\n",
              "      <td>2</td>\n",
              "      <td>Bachelor</td>\n",
              "      <td>110000</td>\n",
              "      <td>USA</td>\n",
              "    </tr>\n",
              "    <tr>\n",
              "      <th>8th</th>\n",
              "      <td>Helen</td>\n",
              "      <td>45</td>\n",
              "      <td>Female</td>\n",
              "      <td>Australia</td>\n",
              "      <td>100000</td>\n",
              "      <td>IT</td>\n",
              "      <td>22</td>\n",
              "      <td>PhD</td>\n",
              "      <td>2200000</td>\n",
              "      <td>AUSTRALIA</td>\n",
              "    </tr>\n",
              "    <tr>\n",
              "      <th>9th</th>\n",
              "      <td>Irene</td>\n",
              "      <td>28</td>\n",
              "      <td>Female</td>\n",
              "      <td>UK</td>\n",
              "      <td>65000</td>\n",
              "      <td>HR</td>\n",
              "      <td>5</td>\n",
              "      <td>Bachelor</td>\n",
              "      <td>325000</td>\n",
              "      <td>UK</td>\n",
              "    </tr>\n",
              "    <tr>\n",
              "      <th>10th</th>\n",
              "      <td>Jack</td>\n",
              "      <td>33</td>\n",
              "      <td>Male</td>\n",
              "      <td>USA</td>\n",
              "      <td>70000</td>\n",
              "      <td>Finance</td>\n",
              "      <td>7</td>\n",
              "      <td>Master</td>\n",
              "      <td>490000</td>\n",
              "      <td>USA</td>\n",
              "    </tr>\n",
              "  </tbody>\n",
              "</table>\n",
              "</div>\n",
              "      <button class=\"colab-df-convert\" onclick=\"convertToInteractive('df-cc5ec539-f078-4b24-b7e1-f96993b94dd3')\"\n",
              "              title=\"Convert this dataframe to an interactive table.\"\n",
              "              style=\"display:none;\">\n",
              "\n",
              "  <svg xmlns=\"http://www.w3.org/2000/svg\" height=\"24px\"viewBox=\"0 0 24 24\"\n",
              "       width=\"24px\">\n",
              "    <path d=\"M0 0h24v24H0V0z\" fill=\"none\"/>\n",
              "    <path d=\"M18.56 5.44l.94 2.06.94-2.06 2.06-.94-2.06-.94-.94-2.06-.94 2.06-2.06.94zm-11 1L8.5 8.5l.94-2.06 2.06-.94-2.06-.94L8.5 2.5l-.94 2.06-2.06.94zm10 10l.94 2.06.94-2.06 2.06-.94-2.06-.94-.94-2.06-.94 2.06-2.06.94z\"/><path d=\"M17.41 7.96l-1.37-1.37c-.4-.4-.92-.59-1.43-.59-.52 0-1.04.2-1.43.59L10.3 9.45l-7.72 7.72c-.78.78-.78 2.05 0 2.83L4 21.41c.39.39.9.59 1.41.59.51 0 1.02-.2 1.41-.59l7.78-7.78 2.81-2.81c.8-.78.8-2.07 0-2.86zM5.41 20L4 18.59l7.72-7.72 1.47 1.35L5.41 20z\"/>\n",
              "  </svg>\n",
              "      </button>\n",
              "\n",
              "\n",
              "\n",
              "    <div id=\"df-b3e36338-c7ec-4390-a00f-f1e8c420cd49\">\n",
              "      <button class=\"colab-df-quickchart\" onclick=\"quickchart('df-b3e36338-c7ec-4390-a00f-f1e8c420cd49')\"\n",
              "              title=\"Suggest charts.\"\n",
              "              style=\"display:none;\">\n",
              "\n",
              "<svg xmlns=\"http://www.w3.org/2000/svg\" height=\"24px\"viewBox=\"0 0 24 24\"\n",
              "     width=\"24px\">\n",
              "    <g>\n",
              "        <path d=\"M19 3H5c-1.1 0-2 .9-2 2v14c0 1.1.9 2 2 2h14c1.1 0 2-.9 2-2V5c0-1.1-.9-2-2-2zM9 17H7v-7h2v7zm4 0h-2V7h2v10zm4 0h-2v-4h2v4z\"/>\n",
              "    </g>\n",
              "</svg>\n",
              "      </button>\n",
              "    </div>\n",
              "\n",
              "<style>\n",
              "  .colab-df-quickchart {\n",
              "    background-color: #E8F0FE;\n",
              "    border: none;\n",
              "    border-radius: 50%;\n",
              "    cursor: pointer;\n",
              "    display: none;\n",
              "    fill: #1967D2;\n",
              "    height: 32px;\n",
              "    padding: 0 0 0 0;\n",
              "    width: 32px;\n",
              "  }\n",
              "\n",
              "  .colab-df-quickchart:hover {\n",
              "    background-color: #E2EBFA;\n",
              "    box-shadow: 0px 1px 2px rgba(60, 64, 67, 0.3), 0px 1px 3px 1px rgba(60, 64, 67, 0.15);\n",
              "    fill: #174EA6;\n",
              "  }\n",
              "\n",
              "  [theme=dark] .colab-df-quickchart {\n",
              "    background-color: #3B4455;\n",
              "    fill: #D2E3FC;\n",
              "  }\n",
              "\n",
              "  [theme=dark] .colab-df-quickchart:hover {\n",
              "    background-color: #434B5C;\n",
              "    box-shadow: 0px 1px 3px 1px rgba(0, 0, 0, 0.15);\n",
              "    filter: drop-shadow(0px 1px 2px rgba(0, 0, 0, 0.3));\n",
              "    fill: #FFFFFF;\n",
              "  }\n",
              "</style>\n",
              "\n",
              "    <script>\n",
              "      async function quickchart(key) {\n",
              "        const containerElement = document.querySelector('#' + key);\n",
              "        const charts = await google.colab.kernel.invokeFunction(\n",
              "            'suggestCharts', [key], {});\n",
              "      }\n",
              "    </script>\n",
              "\n",
              "      <script>\n",
              "\n",
              "function displayQuickchartButton(domScope) {\n",
              "  let quickchartButtonEl =\n",
              "    domScope.querySelector('#df-b3e36338-c7ec-4390-a00f-f1e8c420cd49 button.colab-df-quickchart');\n",
              "  quickchartButtonEl.style.display =\n",
              "    google.colab.kernel.accessAllowed ? 'block' : 'none';\n",
              "}\n",
              "\n",
              "        displayQuickchartButton(document);\n",
              "      </script>\n",
              "      <style>\n",
              "    .colab-df-container {\n",
              "      display:flex;\n",
              "      flex-wrap:wrap;\n",
              "      gap: 12px;\n",
              "    }\n",
              "\n",
              "    .colab-df-convert {\n",
              "      background-color: #E8F0FE;\n",
              "      border: none;\n",
              "      border-radius: 50%;\n",
              "      cursor: pointer;\n",
              "      display: none;\n",
              "      fill: #1967D2;\n",
              "      height: 32px;\n",
              "      padding: 0 0 0 0;\n",
              "      width: 32px;\n",
              "    }\n",
              "\n",
              "    .colab-df-convert:hover {\n",
              "      background-color: #E2EBFA;\n",
              "      box-shadow: 0px 1px 2px rgba(60, 64, 67, 0.3), 0px 1px 3px 1px rgba(60, 64, 67, 0.15);\n",
              "      fill: #174EA6;\n",
              "    }\n",
              "\n",
              "    [theme=dark] .colab-df-convert {\n",
              "      background-color: #3B4455;\n",
              "      fill: #D2E3FC;\n",
              "    }\n",
              "\n",
              "    [theme=dark] .colab-df-convert:hover {\n",
              "      background-color: #434B5C;\n",
              "      box-shadow: 0px 1px 3px 1px rgba(0, 0, 0, 0.15);\n",
              "      filter: drop-shadow(0px 1px 2px rgba(0, 0, 0, 0.3));\n",
              "      fill: #FFFFFF;\n",
              "    }\n",
              "  </style>\n",
              "\n",
              "      <script>\n",
              "        const buttonEl =\n",
              "          document.querySelector('#df-cc5ec539-f078-4b24-b7e1-f96993b94dd3 button.colab-df-convert');\n",
              "        buttonEl.style.display =\n",
              "          google.colab.kernel.accessAllowed ? 'block' : 'none';\n",
              "\n",
              "        async function convertToInteractive(key) {\n",
              "          const element = document.querySelector('#df-cc5ec539-f078-4b24-b7e1-f96993b94dd3');\n",
              "          const dataTable =\n",
              "            await google.colab.kernel.invokeFunction('convertToInteractive',\n",
              "                                                     [key], {});\n",
              "          if (!dataTable) return;\n",
              "\n",
              "          const docLinkHtml = 'Like what you see? Visit the ' +\n",
              "            '<a target=\"_blank\" href=https://colab.research.google.com/notebooks/data_table.ipynb>data table notebook</a>'\n",
              "            + ' to learn more about interactive tables.';\n",
              "          element.innerHTML = '';\n",
              "          dataTable['output_type'] = 'display_data';\n",
              "          await google.colab.output.renderOutput(dataTable, element);\n",
              "          const docLink = document.createElement('div');\n",
              "          docLink.innerHTML = docLinkHtml;\n",
              "          element.appendChild(docLink);\n",
              "        }\n",
              "      </script>\n",
              "    </div>\n",
              "  </div>\n"
            ]
          },
          "metadata": {},
          "execution_count": 485
        }
      ],
      "source": [
        "#df.columns=['N','A','B','C','D','E','F','G','H'] #rename of column\n",
        "df"
      ]
    },
    {
      "cell_type": "code",
      "execution_count": null,
      "id": "bdc8c016",
      "metadata": {
        "id": "bdc8c016",
        "colab": {
          "base_uri": "https://localhost:8080/",
          "height": 363
        },
        "outputId": "f72c91b1-76b6-458c-894d-aa4cbc54c5d5"
      },
      "outputs": [
        {
          "output_type": "execute_result",
          "data": {
            "text/plain": [
              "       Name    Age  Gender  Country  Salary  Department  Years of Experience  \\\n",
              "1st   False  False   False    False   False       False                False   \n",
              "2nd   False  False   False    False   False       False                False   \n",
              "3rd   False  False   False    False   False       False                False   \n",
              "4th   False  False   False    False   False       False                False   \n",
              "5th   False  False   False    False   False       False                False   \n",
              "6th   False  False   False    False   False       False                False   \n",
              "7th   False  False   False    False   False       False                False   \n",
              "8th   False  False   False    False   False       False                False   \n",
              "9th   False  False   False    False   False       False                False   \n",
              "10th  False  False   False    False   False       False                False   \n",
              "\n",
              "      Education Level  Total_Income  Capital_Name  \n",
              "1st             False         False         False  \n",
              "2nd             False         False         False  \n",
              "3rd             False         False         False  \n",
              "4th             False         False         False  \n",
              "5th             False         False         False  \n",
              "6th             False         False         False  \n",
              "7th             False         False         False  \n",
              "8th             False         False         False  \n",
              "9th             False         False         False  \n",
              "10th            False         False         False  "
            ],
            "text/html": [
              "\n",
              "\n",
              "  <div id=\"df-ffc104dd-1bfd-4f99-9156-4d278644463b\">\n",
              "    <div class=\"colab-df-container\">\n",
              "      <div>\n",
              "<style scoped>\n",
              "    .dataframe tbody tr th:only-of-type {\n",
              "        vertical-align: middle;\n",
              "    }\n",
              "\n",
              "    .dataframe tbody tr th {\n",
              "        vertical-align: top;\n",
              "    }\n",
              "\n",
              "    .dataframe thead th {\n",
              "        text-align: right;\n",
              "    }\n",
              "</style>\n",
              "<table border=\"1\" class=\"dataframe\">\n",
              "  <thead>\n",
              "    <tr style=\"text-align: right;\">\n",
              "      <th></th>\n",
              "      <th>Name</th>\n",
              "      <th>Age</th>\n",
              "      <th>Gender</th>\n",
              "      <th>Country</th>\n",
              "      <th>Salary</th>\n",
              "      <th>Department</th>\n",
              "      <th>Years of Experience</th>\n",
              "      <th>Education Level</th>\n",
              "      <th>Total_Income</th>\n",
              "      <th>Capital_Name</th>\n",
              "    </tr>\n",
              "  </thead>\n",
              "  <tbody>\n",
              "    <tr>\n",
              "      <th>1st</th>\n",
              "      <td>False</td>\n",
              "      <td>False</td>\n",
              "      <td>False</td>\n",
              "      <td>False</td>\n",
              "      <td>False</td>\n",
              "      <td>False</td>\n",
              "      <td>False</td>\n",
              "      <td>False</td>\n",
              "      <td>False</td>\n",
              "      <td>False</td>\n",
              "    </tr>\n",
              "    <tr>\n",
              "      <th>2nd</th>\n",
              "      <td>False</td>\n",
              "      <td>False</td>\n",
              "      <td>False</td>\n",
              "      <td>False</td>\n",
              "      <td>False</td>\n",
              "      <td>False</td>\n",
              "      <td>False</td>\n",
              "      <td>False</td>\n",
              "      <td>False</td>\n",
              "      <td>False</td>\n",
              "    </tr>\n",
              "    <tr>\n",
              "      <th>3rd</th>\n",
              "      <td>False</td>\n",
              "      <td>False</td>\n",
              "      <td>False</td>\n",
              "      <td>False</td>\n",
              "      <td>False</td>\n",
              "      <td>False</td>\n",
              "      <td>False</td>\n",
              "      <td>False</td>\n",
              "      <td>False</td>\n",
              "      <td>False</td>\n",
              "    </tr>\n",
              "    <tr>\n",
              "      <th>4th</th>\n",
              "      <td>False</td>\n",
              "      <td>False</td>\n",
              "      <td>False</td>\n",
              "      <td>False</td>\n",
              "      <td>False</td>\n",
              "      <td>False</td>\n",
              "      <td>False</td>\n",
              "      <td>False</td>\n",
              "      <td>False</td>\n",
              "      <td>False</td>\n",
              "    </tr>\n",
              "    <tr>\n",
              "      <th>5th</th>\n",
              "      <td>False</td>\n",
              "      <td>False</td>\n",
              "      <td>False</td>\n",
              "      <td>False</td>\n",
              "      <td>False</td>\n",
              "      <td>False</td>\n",
              "      <td>False</td>\n",
              "      <td>False</td>\n",
              "      <td>False</td>\n",
              "      <td>False</td>\n",
              "    </tr>\n",
              "    <tr>\n",
              "      <th>6th</th>\n",
              "      <td>False</td>\n",
              "      <td>False</td>\n",
              "      <td>False</td>\n",
              "      <td>False</td>\n",
              "      <td>False</td>\n",
              "      <td>False</td>\n",
              "      <td>False</td>\n",
              "      <td>False</td>\n",
              "      <td>False</td>\n",
              "      <td>False</td>\n",
              "    </tr>\n",
              "    <tr>\n",
              "      <th>7th</th>\n",
              "      <td>False</td>\n",
              "      <td>False</td>\n",
              "      <td>False</td>\n",
              "      <td>False</td>\n",
              "      <td>False</td>\n",
              "      <td>False</td>\n",
              "      <td>False</td>\n",
              "      <td>False</td>\n",
              "      <td>False</td>\n",
              "      <td>False</td>\n",
              "    </tr>\n",
              "    <tr>\n",
              "      <th>8th</th>\n",
              "      <td>False</td>\n",
              "      <td>False</td>\n",
              "      <td>False</td>\n",
              "      <td>False</td>\n",
              "      <td>False</td>\n",
              "      <td>False</td>\n",
              "      <td>False</td>\n",
              "      <td>False</td>\n",
              "      <td>False</td>\n",
              "      <td>False</td>\n",
              "    </tr>\n",
              "    <tr>\n",
              "      <th>9th</th>\n",
              "      <td>False</td>\n",
              "      <td>False</td>\n",
              "      <td>False</td>\n",
              "      <td>False</td>\n",
              "      <td>False</td>\n",
              "      <td>False</td>\n",
              "      <td>False</td>\n",
              "      <td>False</td>\n",
              "      <td>False</td>\n",
              "      <td>False</td>\n",
              "    </tr>\n",
              "    <tr>\n",
              "      <th>10th</th>\n",
              "      <td>False</td>\n",
              "      <td>False</td>\n",
              "      <td>False</td>\n",
              "      <td>False</td>\n",
              "      <td>False</td>\n",
              "      <td>False</td>\n",
              "      <td>False</td>\n",
              "      <td>False</td>\n",
              "      <td>False</td>\n",
              "      <td>False</td>\n",
              "    </tr>\n",
              "  </tbody>\n",
              "</table>\n",
              "</div>\n",
              "      <button class=\"colab-df-convert\" onclick=\"convertToInteractive('df-ffc104dd-1bfd-4f99-9156-4d278644463b')\"\n",
              "              title=\"Convert this dataframe to an interactive table.\"\n",
              "              style=\"display:none;\">\n",
              "\n",
              "  <svg xmlns=\"http://www.w3.org/2000/svg\" height=\"24px\"viewBox=\"0 0 24 24\"\n",
              "       width=\"24px\">\n",
              "    <path d=\"M0 0h24v24H0V0z\" fill=\"none\"/>\n",
              "    <path d=\"M18.56 5.44l.94 2.06.94-2.06 2.06-.94-2.06-.94-.94-2.06-.94 2.06-2.06.94zm-11 1L8.5 8.5l.94-2.06 2.06-.94-2.06-.94L8.5 2.5l-.94 2.06-2.06.94zm10 10l.94 2.06.94-2.06 2.06-.94-2.06-.94-.94-2.06-.94 2.06-2.06.94z\"/><path d=\"M17.41 7.96l-1.37-1.37c-.4-.4-.92-.59-1.43-.59-.52 0-1.04.2-1.43.59L10.3 9.45l-7.72 7.72c-.78.78-.78 2.05 0 2.83L4 21.41c.39.39.9.59 1.41.59.51 0 1.02-.2 1.41-.59l7.78-7.78 2.81-2.81c.8-.78.8-2.07 0-2.86zM5.41 20L4 18.59l7.72-7.72 1.47 1.35L5.41 20z\"/>\n",
              "  </svg>\n",
              "      </button>\n",
              "\n",
              "\n",
              "\n",
              "    <div id=\"df-1c01f701-cbfd-4a30-bb4c-40e25b80eafc\">\n",
              "      <button class=\"colab-df-quickchart\" onclick=\"quickchart('df-1c01f701-cbfd-4a30-bb4c-40e25b80eafc')\"\n",
              "              title=\"Suggest charts.\"\n",
              "              style=\"display:none;\">\n",
              "\n",
              "<svg xmlns=\"http://www.w3.org/2000/svg\" height=\"24px\"viewBox=\"0 0 24 24\"\n",
              "     width=\"24px\">\n",
              "    <g>\n",
              "        <path d=\"M19 3H5c-1.1 0-2 .9-2 2v14c0 1.1.9 2 2 2h14c1.1 0 2-.9 2-2V5c0-1.1-.9-2-2-2zM9 17H7v-7h2v7zm4 0h-2V7h2v10zm4 0h-2v-4h2v4z\"/>\n",
              "    </g>\n",
              "</svg>\n",
              "      </button>\n",
              "    </div>\n",
              "\n",
              "<style>\n",
              "  .colab-df-quickchart {\n",
              "    background-color: #E8F0FE;\n",
              "    border: none;\n",
              "    border-radius: 50%;\n",
              "    cursor: pointer;\n",
              "    display: none;\n",
              "    fill: #1967D2;\n",
              "    height: 32px;\n",
              "    padding: 0 0 0 0;\n",
              "    width: 32px;\n",
              "  }\n",
              "\n",
              "  .colab-df-quickchart:hover {\n",
              "    background-color: #E2EBFA;\n",
              "    box-shadow: 0px 1px 2px rgba(60, 64, 67, 0.3), 0px 1px 3px 1px rgba(60, 64, 67, 0.15);\n",
              "    fill: #174EA6;\n",
              "  }\n",
              "\n",
              "  [theme=dark] .colab-df-quickchart {\n",
              "    background-color: #3B4455;\n",
              "    fill: #D2E3FC;\n",
              "  }\n",
              "\n",
              "  [theme=dark] .colab-df-quickchart:hover {\n",
              "    background-color: #434B5C;\n",
              "    box-shadow: 0px 1px 3px 1px rgba(0, 0, 0, 0.15);\n",
              "    filter: drop-shadow(0px 1px 2px rgba(0, 0, 0, 0.3));\n",
              "    fill: #FFFFFF;\n",
              "  }\n",
              "</style>\n",
              "\n",
              "    <script>\n",
              "      async function quickchart(key) {\n",
              "        const containerElement = document.querySelector('#' + key);\n",
              "        const charts = await google.colab.kernel.invokeFunction(\n",
              "            'suggestCharts', [key], {});\n",
              "      }\n",
              "    </script>\n",
              "\n",
              "      <script>\n",
              "\n",
              "function displayQuickchartButton(domScope) {\n",
              "  let quickchartButtonEl =\n",
              "    domScope.querySelector('#df-1c01f701-cbfd-4a30-bb4c-40e25b80eafc button.colab-df-quickchart');\n",
              "  quickchartButtonEl.style.display =\n",
              "    google.colab.kernel.accessAllowed ? 'block' : 'none';\n",
              "}\n",
              "\n",
              "        displayQuickchartButton(document);\n",
              "      </script>\n",
              "      <style>\n",
              "    .colab-df-container {\n",
              "      display:flex;\n",
              "      flex-wrap:wrap;\n",
              "      gap: 12px;\n",
              "    }\n",
              "\n",
              "    .colab-df-convert {\n",
              "      background-color: #E8F0FE;\n",
              "      border: none;\n",
              "      border-radius: 50%;\n",
              "      cursor: pointer;\n",
              "      display: none;\n",
              "      fill: #1967D2;\n",
              "      height: 32px;\n",
              "      padding: 0 0 0 0;\n",
              "      width: 32px;\n",
              "    }\n",
              "\n",
              "    .colab-df-convert:hover {\n",
              "      background-color: #E2EBFA;\n",
              "      box-shadow: 0px 1px 2px rgba(60, 64, 67, 0.3), 0px 1px 3px 1px rgba(60, 64, 67, 0.15);\n",
              "      fill: #174EA6;\n",
              "    }\n",
              "\n",
              "    [theme=dark] .colab-df-convert {\n",
              "      background-color: #3B4455;\n",
              "      fill: #D2E3FC;\n",
              "    }\n",
              "\n",
              "    [theme=dark] .colab-df-convert:hover {\n",
              "      background-color: #434B5C;\n",
              "      box-shadow: 0px 1px 3px 1px rgba(0, 0, 0, 0.15);\n",
              "      filter: drop-shadow(0px 1px 2px rgba(0, 0, 0, 0.3));\n",
              "      fill: #FFFFFF;\n",
              "    }\n",
              "  </style>\n",
              "\n",
              "      <script>\n",
              "        const buttonEl =\n",
              "          document.querySelector('#df-ffc104dd-1bfd-4f99-9156-4d278644463b button.colab-df-convert');\n",
              "        buttonEl.style.display =\n",
              "          google.colab.kernel.accessAllowed ? 'block' : 'none';\n",
              "\n",
              "        async function convertToInteractive(key) {\n",
              "          const element = document.querySelector('#df-ffc104dd-1bfd-4f99-9156-4d278644463b');\n",
              "          const dataTable =\n",
              "            await google.colab.kernel.invokeFunction('convertToInteractive',\n",
              "                                                     [key], {});\n",
              "          if (!dataTable) return;\n",
              "\n",
              "          const docLinkHtml = 'Like what you see? Visit the ' +\n",
              "            '<a target=\"_blank\" href=https://colab.research.google.com/notebooks/data_table.ipynb>data table notebook</a>'\n",
              "            + ' to learn more about interactive tables.';\n",
              "          element.innerHTML = '';\n",
              "          dataTable['output_type'] = 'display_data';\n",
              "          await google.colab.output.renderOutput(dataTable, element);\n",
              "          const docLink = document.createElement('div');\n",
              "          docLink.innerHTML = docLinkHtml;\n",
              "          element.appendChild(docLink);\n",
              "        }\n",
              "      </script>\n",
              "    </div>\n",
              "  </div>\n"
            ]
          },
          "metadata": {},
          "execution_count": 486
        }
      ],
      "source": [
        "df.isnull() #checks for null values, return boolean array"
      ]
    },
    {
      "cell_type": "code",
      "execution_count": null,
      "id": "b261398e",
      "metadata": {
        "id": "b261398e",
        "colab": {
          "base_uri": "https://localhost:8080/",
          "height": 363
        },
        "outputId": "e4326ba0-4f68-45a3-b2eb-b1e9c18bbc19"
      },
      "outputs": [
        {
          "output_type": "execute_result",
          "data": {
            "text/plain": [
              "      Name   Age  Gender  Country  Salary  Department  Years of Experience  \\\n",
              "1st   True  True    True     True    True        True                 True   \n",
              "2nd   True  True    True     True    True        True                 True   \n",
              "3rd   True  True    True     True    True        True                 True   \n",
              "4th   True  True    True     True    True        True                 True   \n",
              "5th   True  True    True     True    True        True                 True   \n",
              "6th   True  True    True     True    True        True                 True   \n",
              "7th   True  True    True     True    True        True                 True   \n",
              "8th   True  True    True     True    True        True                 True   \n",
              "9th   True  True    True     True    True        True                 True   \n",
              "10th  True  True    True     True    True        True                 True   \n",
              "\n",
              "      Education Level  Total_Income  Capital_Name  \n",
              "1st              True          True          True  \n",
              "2nd              True          True          True  \n",
              "3rd              True          True          True  \n",
              "4th              True          True          True  \n",
              "5th              True          True          True  \n",
              "6th              True          True          True  \n",
              "7th              True          True          True  \n",
              "8th              True          True          True  \n",
              "9th              True          True          True  \n",
              "10th             True          True          True  "
            ],
            "text/html": [
              "\n",
              "\n",
              "  <div id=\"df-443031d3-030c-4d66-a7f8-8fa44277fef1\">\n",
              "    <div class=\"colab-df-container\">\n",
              "      <div>\n",
              "<style scoped>\n",
              "    .dataframe tbody tr th:only-of-type {\n",
              "        vertical-align: middle;\n",
              "    }\n",
              "\n",
              "    .dataframe tbody tr th {\n",
              "        vertical-align: top;\n",
              "    }\n",
              "\n",
              "    .dataframe thead th {\n",
              "        text-align: right;\n",
              "    }\n",
              "</style>\n",
              "<table border=\"1\" class=\"dataframe\">\n",
              "  <thead>\n",
              "    <tr style=\"text-align: right;\">\n",
              "      <th></th>\n",
              "      <th>Name</th>\n",
              "      <th>Age</th>\n",
              "      <th>Gender</th>\n",
              "      <th>Country</th>\n",
              "      <th>Salary</th>\n",
              "      <th>Department</th>\n",
              "      <th>Years of Experience</th>\n",
              "      <th>Education Level</th>\n",
              "      <th>Total_Income</th>\n",
              "      <th>Capital_Name</th>\n",
              "    </tr>\n",
              "  </thead>\n",
              "  <tbody>\n",
              "    <tr>\n",
              "      <th>1st</th>\n",
              "      <td>True</td>\n",
              "      <td>True</td>\n",
              "      <td>True</td>\n",
              "      <td>True</td>\n",
              "      <td>True</td>\n",
              "      <td>True</td>\n",
              "      <td>True</td>\n",
              "      <td>True</td>\n",
              "      <td>True</td>\n",
              "      <td>True</td>\n",
              "    </tr>\n",
              "    <tr>\n",
              "      <th>2nd</th>\n",
              "      <td>True</td>\n",
              "      <td>True</td>\n",
              "      <td>True</td>\n",
              "      <td>True</td>\n",
              "      <td>True</td>\n",
              "      <td>True</td>\n",
              "      <td>True</td>\n",
              "      <td>True</td>\n",
              "      <td>True</td>\n",
              "      <td>True</td>\n",
              "    </tr>\n",
              "    <tr>\n",
              "      <th>3rd</th>\n",
              "      <td>True</td>\n",
              "      <td>True</td>\n",
              "      <td>True</td>\n",
              "      <td>True</td>\n",
              "      <td>True</td>\n",
              "      <td>True</td>\n",
              "      <td>True</td>\n",
              "      <td>True</td>\n",
              "      <td>True</td>\n",
              "      <td>True</td>\n",
              "    </tr>\n",
              "    <tr>\n",
              "      <th>4th</th>\n",
              "      <td>True</td>\n",
              "      <td>True</td>\n",
              "      <td>True</td>\n",
              "      <td>True</td>\n",
              "      <td>True</td>\n",
              "      <td>True</td>\n",
              "      <td>True</td>\n",
              "      <td>True</td>\n",
              "      <td>True</td>\n",
              "      <td>True</td>\n",
              "    </tr>\n",
              "    <tr>\n",
              "      <th>5th</th>\n",
              "      <td>True</td>\n",
              "      <td>True</td>\n",
              "      <td>True</td>\n",
              "      <td>True</td>\n",
              "      <td>True</td>\n",
              "      <td>True</td>\n",
              "      <td>True</td>\n",
              "      <td>True</td>\n",
              "      <td>True</td>\n",
              "      <td>True</td>\n",
              "    </tr>\n",
              "    <tr>\n",
              "      <th>6th</th>\n",
              "      <td>True</td>\n",
              "      <td>True</td>\n",
              "      <td>True</td>\n",
              "      <td>True</td>\n",
              "      <td>True</td>\n",
              "      <td>True</td>\n",
              "      <td>True</td>\n",
              "      <td>True</td>\n",
              "      <td>True</td>\n",
              "      <td>True</td>\n",
              "    </tr>\n",
              "    <tr>\n",
              "      <th>7th</th>\n",
              "      <td>True</td>\n",
              "      <td>True</td>\n",
              "      <td>True</td>\n",
              "      <td>True</td>\n",
              "      <td>True</td>\n",
              "      <td>True</td>\n",
              "      <td>True</td>\n",
              "      <td>True</td>\n",
              "      <td>True</td>\n",
              "      <td>True</td>\n",
              "    </tr>\n",
              "    <tr>\n",
              "      <th>8th</th>\n",
              "      <td>True</td>\n",
              "      <td>True</td>\n",
              "      <td>True</td>\n",
              "      <td>True</td>\n",
              "      <td>True</td>\n",
              "      <td>True</td>\n",
              "      <td>True</td>\n",
              "      <td>True</td>\n",
              "      <td>True</td>\n",
              "      <td>True</td>\n",
              "    </tr>\n",
              "    <tr>\n",
              "      <th>9th</th>\n",
              "      <td>True</td>\n",
              "      <td>True</td>\n",
              "      <td>True</td>\n",
              "      <td>True</td>\n",
              "      <td>True</td>\n",
              "      <td>True</td>\n",
              "      <td>True</td>\n",
              "      <td>True</td>\n",
              "      <td>True</td>\n",
              "      <td>True</td>\n",
              "    </tr>\n",
              "    <tr>\n",
              "      <th>10th</th>\n",
              "      <td>True</td>\n",
              "      <td>True</td>\n",
              "      <td>True</td>\n",
              "      <td>True</td>\n",
              "      <td>True</td>\n",
              "      <td>True</td>\n",
              "      <td>True</td>\n",
              "      <td>True</td>\n",
              "      <td>True</td>\n",
              "      <td>True</td>\n",
              "    </tr>\n",
              "  </tbody>\n",
              "</table>\n",
              "</div>\n",
              "      <button class=\"colab-df-convert\" onclick=\"convertToInteractive('df-443031d3-030c-4d66-a7f8-8fa44277fef1')\"\n",
              "              title=\"Convert this dataframe to an interactive table.\"\n",
              "              style=\"display:none;\">\n",
              "\n",
              "  <svg xmlns=\"http://www.w3.org/2000/svg\" height=\"24px\"viewBox=\"0 0 24 24\"\n",
              "       width=\"24px\">\n",
              "    <path d=\"M0 0h24v24H0V0z\" fill=\"none\"/>\n",
              "    <path d=\"M18.56 5.44l.94 2.06.94-2.06 2.06-.94-2.06-.94-.94-2.06-.94 2.06-2.06.94zm-11 1L8.5 8.5l.94-2.06 2.06-.94-2.06-.94L8.5 2.5l-.94 2.06-2.06.94zm10 10l.94 2.06.94-2.06 2.06-.94-2.06-.94-.94-2.06-.94 2.06-2.06.94z\"/><path d=\"M17.41 7.96l-1.37-1.37c-.4-.4-.92-.59-1.43-.59-.52 0-1.04.2-1.43.59L10.3 9.45l-7.72 7.72c-.78.78-.78 2.05 0 2.83L4 21.41c.39.39.9.59 1.41.59.51 0 1.02-.2 1.41-.59l7.78-7.78 2.81-2.81c.8-.78.8-2.07 0-2.86zM5.41 20L4 18.59l7.72-7.72 1.47 1.35L5.41 20z\"/>\n",
              "  </svg>\n",
              "      </button>\n",
              "\n",
              "\n",
              "\n",
              "    <div id=\"df-033bda8e-d9af-49d6-ad57-87ab75ac3b6a\">\n",
              "      <button class=\"colab-df-quickchart\" onclick=\"quickchart('df-033bda8e-d9af-49d6-ad57-87ab75ac3b6a')\"\n",
              "              title=\"Suggest charts.\"\n",
              "              style=\"display:none;\">\n",
              "\n",
              "<svg xmlns=\"http://www.w3.org/2000/svg\" height=\"24px\"viewBox=\"0 0 24 24\"\n",
              "     width=\"24px\">\n",
              "    <g>\n",
              "        <path d=\"M19 3H5c-1.1 0-2 .9-2 2v14c0 1.1.9 2 2 2h14c1.1 0 2-.9 2-2V5c0-1.1-.9-2-2-2zM9 17H7v-7h2v7zm4 0h-2V7h2v10zm4 0h-2v-4h2v4z\"/>\n",
              "    </g>\n",
              "</svg>\n",
              "      </button>\n",
              "    </div>\n",
              "\n",
              "<style>\n",
              "  .colab-df-quickchart {\n",
              "    background-color: #E8F0FE;\n",
              "    border: none;\n",
              "    border-radius: 50%;\n",
              "    cursor: pointer;\n",
              "    display: none;\n",
              "    fill: #1967D2;\n",
              "    height: 32px;\n",
              "    padding: 0 0 0 0;\n",
              "    width: 32px;\n",
              "  }\n",
              "\n",
              "  .colab-df-quickchart:hover {\n",
              "    background-color: #E2EBFA;\n",
              "    box-shadow: 0px 1px 2px rgba(60, 64, 67, 0.3), 0px 1px 3px 1px rgba(60, 64, 67, 0.15);\n",
              "    fill: #174EA6;\n",
              "  }\n",
              "\n",
              "  [theme=dark] .colab-df-quickchart {\n",
              "    background-color: #3B4455;\n",
              "    fill: #D2E3FC;\n",
              "  }\n",
              "\n",
              "  [theme=dark] .colab-df-quickchart:hover {\n",
              "    background-color: #434B5C;\n",
              "    box-shadow: 0px 1px 3px 1px rgba(0, 0, 0, 0.15);\n",
              "    filter: drop-shadow(0px 1px 2px rgba(0, 0, 0, 0.3));\n",
              "    fill: #FFFFFF;\n",
              "  }\n",
              "</style>\n",
              "\n",
              "    <script>\n",
              "      async function quickchart(key) {\n",
              "        const containerElement = document.querySelector('#' + key);\n",
              "        const charts = await google.colab.kernel.invokeFunction(\n",
              "            'suggestCharts', [key], {});\n",
              "      }\n",
              "    </script>\n",
              "\n",
              "      <script>\n",
              "\n",
              "function displayQuickchartButton(domScope) {\n",
              "  let quickchartButtonEl =\n",
              "    domScope.querySelector('#df-033bda8e-d9af-49d6-ad57-87ab75ac3b6a button.colab-df-quickchart');\n",
              "  quickchartButtonEl.style.display =\n",
              "    google.colab.kernel.accessAllowed ? 'block' : 'none';\n",
              "}\n",
              "\n",
              "        displayQuickchartButton(document);\n",
              "      </script>\n",
              "      <style>\n",
              "    .colab-df-container {\n",
              "      display:flex;\n",
              "      flex-wrap:wrap;\n",
              "      gap: 12px;\n",
              "    }\n",
              "\n",
              "    .colab-df-convert {\n",
              "      background-color: #E8F0FE;\n",
              "      border: none;\n",
              "      border-radius: 50%;\n",
              "      cursor: pointer;\n",
              "      display: none;\n",
              "      fill: #1967D2;\n",
              "      height: 32px;\n",
              "      padding: 0 0 0 0;\n",
              "      width: 32px;\n",
              "    }\n",
              "\n",
              "    .colab-df-convert:hover {\n",
              "      background-color: #E2EBFA;\n",
              "      box-shadow: 0px 1px 2px rgba(60, 64, 67, 0.3), 0px 1px 3px 1px rgba(60, 64, 67, 0.15);\n",
              "      fill: #174EA6;\n",
              "    }\n",
              "\n",
              "    [theme=dark] .colab-df-convert {\n",
              "      background-color: #3B4455;\n",
              "      fill: #D2E3FC;\n",
              "    }\n",
              "\n",
              "    [theme=dark] .colab-df-convert:hover {\n",
              "      background-color: #434B5C;\n",
              "      box-shadow: 0px 1px 3px 1px rgba(0, 0, 0, 0.15);\n",
              "      filter: drop-shadow(0px 1px 2px rgba(0, 0, 0, 0.3));\n",
              "      fill: #FFFFFF;\n",
              "    }\n",
              "  </style>\n",
              "\n",
              "      <script>\n",
              "        const buttonEl =\n",
              "          document.querySelector('#df-443031d3-030c-4d66-a7f8-8fa44277fef1 button.colab-df-convert');\n",
              "        buttonEl.style.display =\n",
              "          google.colab.kernel.accessAllowed ? 'block' : 'none';\n",
              "\n",
              "        async function convertToInteractive(key) {\n",
              "          const element = document.querySelector('#df-443031d3-030c-4d66-a7f8-8fa44277fef1');\n",
              "          const dataTable =\n",
              "            await google.colab.kernel.invokeFunction('convertToInteractive',\n",
              "                                                     [key], {});\n",
              "          if (!dataTable) return;\n",
              "\n",
              "          const docLinkHtml = 'Like what you see? Visit the ' +\n",
              "            '<a target=\"_blank\" href=https://colab.research.google.com/notebooks/data_table.ipynb>data table notebook</a>'\n",
              "            + ' to learn more about interactive tables.';\n",
              "          element.innerHTML = '';\n",
              "          dataTable['output_type'] = 'display_data';\n",
              "          await google.colab.output.renderOutput(dataTable, element);\n",
              "          const docLink = document.createElement('div');\n",
              "          docLink.innerHTML = docLinkHtml;\n",
              "          element.appendChild(docLink);\n",
              "        }\n",
              "      </script>\n",
              "    </div>\n",
              "  </div>\n"
            ]
          },
          "metadata": {},
          "execution_count": 487
        }
      ],
      "source": [
        "df.notnull() #opposite to isnull"
      ]
    },
    {
      "cell_type": "code",
      "execution_count": null,
      "id": "636b0949",
      "metadata": {
        "id": "636b0949",
        "colab": {
          "base_uri": "https://localhost:8080/",
          "height": 363
        },
        "outputId": "27b38f52-8257-4854-dd53-3cd03524b4af"
      },
      "outputs": [
        {
          "output_type": "execute_result",
          "data": {
            "text/plain": [
              "         Name  Age  Gender    Country  Salary Department  Years of Experience  \\\n",
              "1st     Alice   25  Female        USA   50000  Marketing                    3   \n",
              "2nd       Bob   32    Male     Canada   75000    Finance                    8   \n",
              "3rd   Charlie   18    Male        USA   40000  Marketing                    1   \n",
              "4th     David   47    Male  Australia   90000         IT                   18   \n",
              "5th     Emily   29  Female         UK   60000         IT                    6   \n",
              "6th     Frank   36    Male     Canada   80000         HR                   10   \n",
              "7th    George   21    Male        USA   55000  Marketing                    2   \n",
              "8th     Helen   45  Female  Australia  100000         IT                   22   \n",
              "9th     Irene   28  Female         UK   65000         HR                    5   \n",
              "10th     Jack   33    Male        USA   70000    Finance                    7   \n",
              "\n",
              "     Education Level  Total_Income Capital_Name  \n",
              "1st         Bachelor        150000          USA  \n",
              "2nd           Master        600000       CANADA  \n",
              "3rd      High School         40000          USA  \n",
              "4th              PhD       1620000    AUSTRALIA  \n",
              "5th         Bachelor        360000           UK  \n",
              "6th           Master        800000       CANADA  \n",
              "7th         Bachelor        110000          USA  \n",
              "8th              PhD       2200000    AUSTRALIA  \n",
              "9th         Bachelor        325000           UK  \n",
              "10th          Master        490000          USA  "
            ],
            "text/html": [
              "\n",
              "\n",
              "  <div id=\"df-f6f7d042-66c3-469e-abbd-7e6d5813f954\">\n",
              "    <div class=\"colab-df-container\">\n",
              "      <div>\n",
              "<style scoped>\n",
              "    .dataframe tbody tr th:only-of-type {\n",
              "        vertical-align: middle;\n",
              "    }\n",
              "\n",
              "    .dataframe tbody tr th {\n",
              "        vertical-align: top;\n",
              "    }\n",
              "\n",
              "    .dataframe thead th {\n",
              "        text-align: right;\n",
              "    }\n",
              "</style>\n",
              "<table border=\"1\" class=\"dataframe\">\n",
              "  <thead>\n",
              "    <tr style=\"text-align: right;\">\n",
              "      <th></th>\n",
              "      <th>Name</th>\n",
              "      <th>Age</th>\n",
              "      <th>Gender</th>\n",
              "      <th>Country</th>\n",
              "      <th>Salary</th>\n",
              "      <th>Department</th>\n",
              "      <th>Years of Experience</th>\n",
              "      <th>Education Level</th>\n",
              "      <th>Total_Income</th>\n",
              "      <th>Capital_Name</th>\n",
              "    </tr>\n",
              "  </thead>\n",
              "  <tbody>\n",
              "    <tr>\n",
              "      <th>1st</th>\n",
              "      <td>Alice</td>\n",
              "      <td>25</td>\n",
              "      <td>Female</td>\n",
              "      <td>USA</td>\n",
              "      <td>50000</td>\n",
              "      <td>Marketing</td>\n",
              "      <td>3</td>\n",
              "      <td>Bachelor</td>\n",
              "      <td>150000</td>\n",
              "      <td>USA</td>\n",
              "    </tr>\n",
              "    <tr>\n",
              "      <th>2nd</th>\n",
              "      <td>Bob</td>\n",
              "      <td>32</td>\n",
              "      <td>Male</td>\n",
              "      <td>Canada</td>\n",
              "      <td>75000</td>\n",
              "      <td>Finance</td>\n",
              "      <td>8</td>\n",
              "      <td>Master</td>\n",
              "      <td>600000</td>\n",
              "      <td>CANADA</td>\n",
              "    </tr>\n",
              "    <tr>\n",
              "      <th>3rd</th>\n",
              "      <td>Charlie</td>\n",
              "      <td>18</td>\n",
              "      <td>Male</td>\n",
              "      <td>USA</td>\n",
              "      <td>40000</td>\n",
              "      <td>Marketing</td>\n",
              "      <td>1</td>\n",
              "      <td>High School</td>\n",
              "      <td>40000</td>\n",
              "      <td>USA</td>\n",
              "    </tr>\n",
              "    <tr>\n",
              "      <th>4th</th>\n",
              "      <td>David</td>\n",
              "      <td>47</td>\n",
              "      <td>Male</td>\n",
              "      <td>Australia</td>\n",
              "      <td>90000</td>\n",
              "      <td>IT</td>\n",
              "      <td>18</td>\n",
              "      <td>PhD</td>\n",
              "      <td>1620000</td>\n",
              "      <td>AUSTRALIA</td>\n",
              "    </tr>\n",
              "    <tr>\n",
              "      <th>5th</th>\n",
              "      <td>Emily</td>\n",
              "      <td>29</td>\n",
              "      <td>Female</td>\n",
              "      <td>UK</td>\n",
              "      <td>60000</td>\n",
              "      <td>IT</td>\n",
              "      <td>6</td>\n",
              "      <td>Bachelor</td>\n",
              "      <td>360000</td>\n",
              "      <td>UK</td>\n",
              "    </tr>\n",
              "    <tr>\n",
              "      <th>6th</th>\n",
              "      <td>Frank</td>\n",
              "      <td>36</td>\n",
              "      <td>Male</td>\n",
              "      <td>Canada</td>\n",
              "      <td>80000</td>\n",
              "      <td>HR</td>\n",
              "      <td>10</td>\n",
              "      <td>Master</td>\n",
              "      <td>800000</td>\n",
              "      <td>CANADA</td>\n",
              "    </tr>\n",
              "    <tr>\n",
              "      <th>7th</th>\n",
              "      <td>George</td>\n",
              "      <td>21</td>\n",
              "      <td>Male</td>\n",
              "      <td>USA</td>\n",
              "      <td>55000</td>\n",
              "      <td>Marketing</td>\n",
              "      <td>2</td>\n",
              "      <td>Bachelor</td>\n",
              "      <td>110000</td>\n",
              "      <td>USA</td>\n",
              "    </tr>\n",
              "    <tr>\n",
              "      <th>8th</th>\n",
              "      <td>Helen</td>\n",
              "      <td>45</td>\n",
              "      <td>Female</td>\n",
              "      <td>Australia</td>\n",
              "      <td>100000</td>\n",
              "      <td>IT</td>\n",
              "      <td>22</td>\n",
              "      <td>PhD</td>\n",
              "      <td>2200000</td>\n",
              "      <td>AUSTRALIA</td>\n",
              "    </tr>\n",
              "    <tr>\n",
              "      <th>9th</th>\n",
              "      <td>Irene</td>\n",
              "      <td>28</td>\n",
              "      <td>Female</td>\n",
              "      <td>UK</td>\n",
              "      <td>65000</td>\n",
              "      <td>HR</td>\n",
              "      <td>5</td>\n",
              "      <td>Bachelor</td>\n",
              "      <td>325000</td>\n",
              "      <td>UK</td>\n",
              "    </tr>\n",
              "    <tr>\n",
              "      <th>10th</th>\n",
              "      <td>Jack</td>\n",
              "      <td>33</td>\n",
              "      <td>Male</td>\n",
              "      <td>USA</td>\n",
              "      <td>70000</td>\n",
              "      <td>Finance</td>\n",
              "      <td>7</td>\n",
              "      <td>Master</td>\n",
              "      <td>490000</td>\n",
              "      <td>USA</td>\n",
              "    </tr>\n",
              "  </tbody>\n",
              "</table>\n",
              "</div>\n",
              "      <button class=\"colab-df-convert\" onclick=\"convertToInteractive('df-f6f7d042-66c3-469e-abbd-7e6d5813f954')\"\n",
              "              title=\"Convert this dataframe to an interactive table.\"\n",
              "              style=\"display:none;\">\n",
              "\n",
              "  <svg xmlns=\"http://www.w3.org/2000/svg\" height=\"24px\"viewBox=\"0 0 24 24\"\n",
              "       width=\"24px\">\n",
              "    <path d=\"M0 0h24v24H0V0z\" fill=\"none\"/>\n",
              "    <path d=\"M18.56 5.44l.94 2.06.94-2.06 2.06-.94-2.06-.94-.94-2.06-.94 2.06-2.06.94zm-11 1L8.5 8.5l.94-2.06 2.06-.94-2.06-.94L8.5 2.5l-.94 2.06-2.06.94zm10 10l.94 2.06.94-2.06 2.06-.94-2.06-.94-.94-2.06-.94 2.06-2.06.94z\"/><path d=\"M17.41 7.96l-1.37-1.37c-.4-.4-.92-.59-1.43-.59-.52 0-1.04.2-1.43.59L10.3 9.45l-7.72 7.72c-.78.78-.78 2.05 0 2.83L4 21.41c.39.39.9.59 1.41.59.51 0 1.02-.2 1.41-.59l7.78-7.78 2.81-2.81c.8-.78.8-2.07 0-2.86zM5.41 20L4 18.59l7.72-7.72 1.47 1.35L5.41 20z\"/>\n",
              "  </svg>\n",
              "      </button>\n",
              "\n",
              "\n",
              "\n",
              "    <div id=\"df-485d92f9-2367-4382-bcfa-a8d4c8755512\">\n",
              "      <button class=\"colab-df-quickchart\" onclick=\"quickchart('df-485d92f9-2367-4382-bcfa-a8d4c8755512')\"\n",
              "              title=\"Suggest charts.\"\n",
              "              style=\"display:none;\">\n",
              "\n",
              "<svg xmlns=\"http://www.w3.org/2000/svg\" height=\"24px\"viewBox=\"0 0 24 24\"\n",
              "     width=\"24px\">\n",
              "    <g>\n",
              "        <path d=\"M19 3H5c-1.1 0-2 .9-2 2v14c0 1.1.9 2 2 2h14c1.1 0 2-.9 2-2V5c0-1.1-.9-2-2-2zM9 17H7v-7h2v7zm4 0h-2V7h2v10zm4 0h-2v-4h2v4z\"/>\n",
              "    </g>\n",
              "</svg>\n",
              "      </button>\n",
              "    </div>\n",
              "\n",
              "<style>\n",
              "  .colab-df-quickchart {\n",
              "    background-color: #E8F0FE;\n",
              "    border: none;\n",
              "    border-radius: 50%;\n",
              "    cursor: pointer;\n",
              "    display: none;\n",
              "    fill: #1967D2;\n",
              "    height: 32px;\n",
              "    padding: 0 0 0 0;\n",
              "    width: 32px;\n",
              "  }\n",
              "\n",
              "  .colab-df-quickchart:hover {\n",
              "    background-color: #E2EBFA;\n",
              "    box-shadow: 0px 1px 2px rgba(60, 64, 67, 0.3), 0px 1px 3px 1px rgba(60, 64, 67, 0.15);\n",
              "    fill: #174EA6;\n",
              "  }\n",
              "\n",
              "  [theme=dark] .colab-df-quickchart {\n",
              "    background-color: #3B4455;\n",
              "    fill: #D2E3FC;\n",
              "  }\n",
              "\n",
              "  [theme=dark] .colab-df-quickchart:hover {\n",
              "    background-color: #434B5C;\n",
              "    box-shadow: 0px 1px 3px 1px rgba(0, 0, 0, 0.15);\n",
              "    filter: drop-shadow(0px 1px 2px rgba(0, 0, 0, 0.3));\n",
              "    fill: #FFFFFF;\n",
              "  }\n",
              "</style>\n",
              "\n",
              "    <script>\n",
              "      async function quickchart(key) {\n",
              "        const containerElement = document.querySelector('#' + key);\n",
              "        const charts = await google.colab.kernel.invokeFunction(\n",
              "            'suggestCharts', [key], {});\n",
              "      }\n",
              "    </script>\n",
              "\n",
              "      <script>\n",
              "\n",
              "function displayQuickchartButton(domScope) {\n",
              "  let quickchartButtonEl =\n",
              "    domScope.querySelector('#df-485d92f9-2367-4382-bcfa-a8d4c8755512 button.colab-df-quickchart');\n",
              "  quickchartButtonEl.style.display =\n",
              "    google.colab.kernel.accessAllowed ? 'block' : 'none';\n",
              "}\n",
              "\n",
              "        displayQuickchartButton(document);\n",
              "      </script>\n",
              "      <style>\n",
              "    .colab-df-container {\n",
              "      display:flex;\n",
              "      flex-wrap:wrap;\n",
              "      gap: 12px;\n",
              "    }\n",
              "\n",
              "    .colab-df-convert {\n",
              "      background-color: #E8F0FE;\n",
              "      border: none;\n",
              "      border-radius: 50%;\n",
              "      cursor: pointer;\n",
              "      display: none;\n",
              "      fill: #1967D2;\n",
              "      height: 32px;\n",
              "      padding: 0 0 0 0;\n",
              "      width: 32px;\n",
              "    }\n",
              "\n",
              "    .colab-df-convert:hover {\n",
              "      background-color: #E2EBFA;\n",
              "      box-shadow: 0px 1px 2px rgba(60, 64, 67, 0.3), 0px 1px 3px 1px rgba(60, 64, 67, 0.15);\n",
              "      fill: #174EA6;\n",
              "    }\n",
              "\n",
              "    [theme=dark] .colab-df-convert {\n",
              "      background-color: #3B4455;\n",
              "      fill: #D2E3FC;\n",
              "    }\n",
              "\n",
              "    [theme=dark] .colab-df-convert:hover {\n",
              "      background-color: #434B5C;\n",
              "      box-shadow: 0px 1px 3px 1px rgba(0, 0, 0, 0.15);\n",
              "      filter: drop-shadow(0px 1px 2px rgba(0, 0, 0, 0.3));\n",
              "      fill: #FFFFFF;\n",
              "    }\n",
              "  </style>\n",
              "\n",
              "      <script>\n",
              "        const buttonEl =\n",
              "          document.querySelector('#df-f6f7d042-66c3-469e-abbd-7e6d5813f954 button.colab-df-convert');\n",
              "        buttonEl.style.display =\n",
              "          google.colab.kernel.accessAllowed ? 'block' : 'none';\n",
              "\n",
              "        async function convertToInteractive(key) {\n",
              "          const element = document.querySelector('#df-f6f7d042-66c3-469e-abbd-7e6d5813f954');\n",
              "          const dataTable =\n",
              "            await google.colab.kernel.invokeFunction('convertToInteractive',\n",
              "                                                     [key], {});\n",
              "          if (!dataTable) return;\n",
              "\n",
              "          const docLinkHtml = 'Like what you see? Visit the ' +\n",
              "            '<a target=\"_blank\" href=https://colab.research.google.com/notebooks/data_table.ipynb>data table notebook</a>'\n",
              "            + ' to learn more about interactive tables.';\n",
              "          element.innerHTML = '';\n",
              "          dataTable['output_type'] = 'display_data';\n",
              "          await google.colab.output.renderOutput(dataTable, element);\n",
              "          const docLink = document.createElement('div');\n",
              "          docLink.innerHTML = docLinkHtml;\n",
              "          element.appendChild(docLink);\n",
              "        }\n",
              "      </script>\n",
              "    </div>\n",
              "  </div>\n"
            ]
          },
          "metadata": {},
          "execution_count": 488
        }
      ],
      "source": [
        "df.dropna() #drop all rows contain null values"
      ]
    },
    {
      "cell_type": "code",
      "execution_count": null,
      "id": "ebf858c0",
      "metadata": {
        "id": "ebf858c0",
        "colab": {
          "base_uri": "https://localhost:8080/",
          "height": 363
        },
        "outputId": "72ababde-5590-40b6-e677-fbd2e03bfb6b"
      },
      "outputs": [
        {
          "output_type": "execute_result",
          "data": {
            "text/plain": [
              "         Name  Age  Gender    Country  Salary Department  Years of Experience  \\\n",
              "1st     Alice   25  Female        USA   50000  Marketing                    3   \n",
              "2nd       Bob   32    Male     Canada   75000    Finance                    8   \n",
              "3rd   Charlie   18    Male        USA   40000  Marketing                    1   \n",
              "4th     David   47    Male  Australia   90000         IT                   18   \n",
              "5th     Emily   29  Female         UK   60000         IT                    6   \n",
              "6th     Frank   36    Male     Canada   80000         HR                   10   \n",
              "7th    George   21    Male        USA   55000  Marketing                    2   \n",
              "8th     Helen   45  Female  Australia  100000         IT                   22   \n",
              "9th     Irene   28  Female         UK   65000         HR                    5   \n",
              "10th     Jack   33    Male        USA   70000    Finance                    7   \n",
              "\n",
              "     Education Level  Total_Income Capital_Name  \n",
              "1st         Bachelor        150000          USA  \n",
              "2nd           Master        600000       CANADA  \n",
              "3rd      High School         40000          USA  \n",
              "4th              PhD       1620000    AUSTRALIA  \n",
              "5th         Bachelor        360000           UK  \n",
              "6th           Master        800000       CANADA  \n",
              "7th         Bachelor        110000          USA  \n",
              "8th              PhD       2200000    AUSTRALIA  \n",
              "9th         Bachelor        325000           UK  \n",
              "10th          Master        490000          USA  "
            ],
            "text/html": [
              "\n",
              "\n",
              "  <div id=\"df-940f6a32-0a57-4d77-809f-0c030c8ccbb2\">\n",
              "    <div class=\"colab-df-container\">\n",
              "      <div>\n",
              "<style scoped>\n",
              "    .dataframe tbody tr th:only-of-type {\n",
              "        vertical-align: middle;\n",
              "    }\n",
              "\n",
              "    .dataframe tbody tr th {\n",
              "        vertical-align: top;\n",
              "    }\n",
              "\n",
              "    .dataframe thead th {\n",
              "        text-align: right;\n",
              "    }\n",
              "</style>\n",
              "<table border=\"1\" class=\"dataframe\">\n",
              "  <thead>\n",
              "    <tr style=\"text-align: right;\">\n",
              "      <th></th>\n",
              "      <th>Name</th>\n",
              "      <th>Age</th>\n",
              "      <th>Gender</th>\n",
              "      <th>Country</th>\n",
              "      <th>Salary</th>\n",
              "      <th>Department</th>\n",
              "      <th>Years of Experience</th>\n",
              "      <th>Education Level</th>\n",
              "      <th>Total_Income</th>\n",
              "      <th>Capital_Name</th>\n",
              "    </tr>\n",
              "  </thead>\n",
              "  <tbody>\n",
              "    <tr>\n",
              "      <th>1st</th>\n",
              "      <td>Alice</td>\n",
              "      <td>25</td>\n",
              "      <td>Female</td>\n",
              "      <td>USA</td>\n",
              "      <td>50000</td>\n",
              "      <td>Marketing</td>\n",
              "      <td>3</td>\n",
              "      <td>Bachelor</td>\n",
              "      <td>150000</td>\n",
              "      <td>USA</td>\n",
              "    </tr>\n",
              "    <tr>\n",
              "      <th>2nd</th>\n",
              "      <td>Bob</td>\n",
              "      <td>32</td>\n",
              "      <td>Male</td>\n",
              "      <td>Canada</td>\n",
              "      <td>75000</td>\n",
              "      <td>Finance</td>\n",
              "      <td>8</td>\n",
              "      <td>Master</td>\n",
              "      <td>600000</td>\n",
              "      <td>CANADA</td>\n",
              "    </tr>\n",
              "    <tr>\n",
              "      <th>3rd</th>\n",
              "      <td>Charlie</td>\n",
              "      <td>18</td>\n",
              "      <td>Male</td>\n",
              "      <td>USA</td>\n",
              "      <td>40000</td>\n",
              "      <td>Marketing</td>\n",
              "      <td>1</td>\n",
              "      <td>High School</td>\n",
              "      <td>40000</td>\n",
              "      <td>USA</td>\n",
              "    </tr>\n",
              "    <tr>\n",
              "      <th>4th</th>\n",
              "      <td>David</td>\n",
              "      <td>47</td>\n",
              "      <td>Male</td>\n",
              "      <td>Australia</td>\n",
              "      <td>90000</td>\n",
              "      <td>IT</td>\n",
              "      <td>18</td>\n",
              "      <td>PhD</td>\n",
              "      <td>1620000</td>\n",
              "      <td>AUSTRALIA</td>\n",
              "    </tr>\n",
              "    <tr>\n",
              "      <th>5th</th>\n",
              "      <td>Emily</td>\n",
              "      <td>29</td>\n",
              "      <td>Female</td>\n",
              "      <td>UK</td>\n",
              "      <td>60000</td>\n",
              "      <td>IT</td>\n",
              "      <td>6</td>\n",
              "      <td>Bachelor</td>\n",
              "      <td>360000</td>\n",
              "      <td>UK</td>\n",
              "    </tr>\n",
              "    <tr>\n",
              "      <th>6th</th>\n",
              "      <td>Frank</td>\n",
              "      <td>36</td>\n",
              "      <td>Male</td>\n",
              "      <td>Canada</td>\n",
              "      <td>80000</td>\n",
              "      <td>HR</td>\n",
              "      <td>10</td>\n",
              "      <td>Master</td>\n",
              "      <td>800000</td>\n",
              "      <td>CANADA</td>\n",
              "    </tr>\n",
              "    <tr>\n",
              "      <th>7th</th>\n",
              "      <td>George</td>\n",
              "      <td>21</td>\n",
              "      <td>Male</td>\n",
              "      <td>USA</td>\n",
              "      <td>55000</td>\n",
              "      <td>Marketing</td>\n",
              "      <td>2</td>\n",
              "      <td>Bachelor</td>\n",
              "      <td>110000</td>\n",
              "      <td>USA</td>\n",
              "    </tr>\n",
              "    <tr>\n",
              "      <th>8th</th>\n",
              "      <td>Helen</td>\n",
              "      <td>45</td>\n",
              "      <td>Female</td>\n",
              "      <td>Australia</td>\n",
              "      <td>100000</td>\n",
              "      <td>IT</td>\n",
              "      <td>22</td>\n",
              "      <td>PhD</td>\n",
              "      <td>2200000</td>\n",
              "      <td>AUSTRALIA</td>\n",
              "    </tr>\n",
              "    <tr>\n",
              "      <th>9th</th>\n",
              "      <td>Irene</td>\n",
              "      <td>28</td>\n",
              "      <td>Female</td>\n",
              "      <td>UK</td>\n",
              "      <td>65000</td>\n",
              "      <td>HR</td>\n",
              "      <td>5</td>\n",
              "      <td>Bachelor</td>\n",
              "      <td>325000</td>\n",
              "      <td>UK</td>\n",
              "    </tr>\n",
              "    <tr>\n",
              "      <th>10th</th>\n",
              "      <td>Jack</td>\n",
              "      <td>33</td>\n",
              "      <td>Male</td>\n",
              "      <td>USA</td>\n",
              "      <td>70000</td>\n",
              "      <td>Finance</td>\n",
              "      <td>7</td>\n",
              "      <td>Master</td>\n",
              "      <td>490000</td>\n",
              "      <td>USA</td>\n",
              "    </tr>\n",
              "  </tbody>\n",
              "</table>\n",
              "</div>\n",
              "      <button class=\"colab-df-convert\" onclick=\"convertToInteractive('df-940f6a32-0a57-4d77-809f-0c030c8ccbb2')\"\n",
              "              title=\"Convert this dataframe to an interactive table.\"\n",
              "              style=\"display:none;\">\n",
              "\n",
              "  <svg xmlns=\"http://www.w3.org/2000/svg\" height=\"24px\"viewBox=\"0 0 24 24\"\n",
              "       width=\"24px\">\n",
              "    <path d=\"M0 0h24v24H0V0z\" fill=\"none\"/>\n",
              "    <path d=\"M18.56 5.44l.94 2.06.94-2.06 2.06-.94-2.06-.94-.94-2.06-.94 2.06-2.06.94zm-11 1L8.5 8.5l.94-2.06 2.06-.94-2.06-.94L8.5 2.5l-.94 2.06-2.06.94zm10 10l.94 2.06.94-2.06 2.06-.94-2.06-.94-.94-2.06-.94 2.06-2.06.94z\"/><path d=\"M17.41 7.96l-1.37-1.37c-.4-.4-.92-.59-1.43-.59-.52 0-1.04.2-1.43.59L10.3 9.45l-7.72 7.72c-.78.78-.78 2.05 0 2.83L4 21.41c.39.39.9.59 1.41.59.51 0 1.02-.2 1.41-.59l7.78-7.78 2.81-2.81c.8-.78.8-2.07 0-2.86zM5.41 20L4 18.59l7.72-7.72 1.47 1.35L5.41 20z\"/>\n",
              "  </svg>\n",
              "      </button>\n",
              "\n",
              "\n",
              "\n",
              "    <div id=\"df-79eaebe8-3fec-4510-a283-75e047146994\">\n",
              "      <button class=\"colab-df-quickchart\" onclick=\"quickchart('df-79eaebe8-3fec-4510-a283-75e047146994')\"\n",
              "              title=\"Suggest charts.\"\n",
              "              style=\"display:none;\">\n",
              "\n",
              "<svg xmlns=\"http://www.w3.org/2000/svg\" height=\"24px\"viewBox=\"0 0 24 24\"\n",
              "     width=\"24px\">\n",
              "    <g>\n",
              "        <path d=\"M19 3H5c-1.1 0-2 .9-2 2v14c0 1.1.9 2 2 2h14c1.1 0 2-.9 2-2V5c0-1.1-.9-2-2-2zM9 17H7v-7h2v7zm4 0h-2V7h2v10zm4 0h-2v-4h2v4z\"/>\n",
              "    </g>\n",
              "</svg>\n",
              "      </button>\n",
              "    </div>\n",
              "\n",
              "<style>\n",
              "  .colab-df-quickchart {\n",
              "    background-color: #E8F0FE;\n",
              "    border: none;\n",
              "    border-radius: 50%;\n",
              "    cursor: pointer;\n",
              "    display: none;\n",
              "    fill: #1967D2;\n",
              "    height: 32px;\n",
              "    padding: 0 0 0 0;\n",
              "    width: 32px;\n",
              "  }\n",
              "\n",
              "  .colab-df-quickchart:hover {\n",
              "    background-color: #E2EBFA;\n",
              "    box-shadow: 0px 1px 2px rgba(60, 64, 67, 0.3), 0px 1px 3px 1px rgba(60, 64, 67, 0.15);\n",
              "    fill: #174EA6;\n",
              "  }\n",
              "\n",
              "  [theme=dark] .colab-df-quickchart {\n",
              "    background-color: #3B4455;\n",
              "    fill: #D2E3FC;\n",
              "  }\n",
              "\n",
              "  [theme=dark] .colab-df-quickchart:hover {\n",
              "    background-color: #434B5C;\n",
              "    box-shadow: 0px 1px 3px 1px rgba(0, 0, 0, 0.15);\n",
              "    filter: drop-shadow(0px 1px 2px rgba(0, 0, 0, 0.3));\n",
              "    fill: #FFFFFF;\n",
              "  }\n",
              "</style>\n",
              "\n",
              "    <script>\n",
              "      async function quickchart(key) {\n",
              "        const containerElement = document.querySelector('#' + key);\n",
              "        const charts = await google.colab.kernel.invokeFunction(\n",
              "            'suggestCharts', [key], {});\n",
              "      }\n",
              "    </script>\n",
              "\n",
              "      <script>\n",
              "\n",
              "function displayQuickchartButton(domScope) {\n",
              "  let quickchartButtonEl =\n",
              "    domScope.querySelector('#df-79eaebe8-3fec-4510-a283-75e047146994 button.colab-df-quickchart');\n",
              "  quickchartButtonEl.style.display =\n",
              "    google.colab.kernel.accessAllowed ? 'block' : 'none';\n",
              "}\n",
              "\n",
              "        displayQuickchartButton(document);\n",
              "      </script>\n",
              "      <style>\n",
              "    .colab-df-container {\n",
              "      display:flex;\n",
              "      flex-wrap:wrap;\n",
              "      gap: 12px;\n",
              "    }\n",
              "\n",
              "    .colab-df-convert {\n",
              "      background-color: #E8F0FE;\n",
              "      border: none;\n",
              "      border-radius: 50%;\n",
              "      cursor: pointer;\n",
              "      display: none;\n",
              "      fill: #1967D2;\n",
              "      height: 32px;\n",
              "      padding: 0 0 0 0;\n",
              "      width: 32px;\n",
              "    }\n",
              "\n",
              "    .colab-df-convert:hover {\n",
              "      background-color: #E2EBFA;\n",
              "      box-shadow: 0px 1px 2px rgba(60, 64, 67, 0.3), 0px 1px 3px 1px rgba(60, 64, 67, 0.15);\n",
              "      fill: #174EA6;\n",
              "    }\n",
              "\n",
              "    [theme=dark] .colab-df-convert {\n",
              "      background-color: #3B4455;\n",
              "      fill: #D2E3FC;\n",
              "    }\n",
              "\n",
              "    [theme=dark] .colab-df-convert:hover {\n",
              "      background-color: #434B5C;\n",
              "      box-shadow: 0px 1px 3px 1px rgba(0, 0, 0, 0.15);\n",
              "      filter: drop-shadow(0px 1px 2px rgba(0, 0, 0, 0.3));\n",
              "      fill: #FFFFFF;\n",
              "    }\n",
              "  </style>\n",
              "\n",
              "      <script>\n",
              "        const buttonEl =\n",
              "          document.querySelector('#df-940f6a32-0a57-4d77-809f-0c030c8ccbb2 button.colab-df-convert');\n",
              "        buttonEl.style.display =\n",
              "          google.colab.kernel.accessAllowed ? 'block' : 'none';\n",
              "\n",
              "        async function convertToInteractive(key) {\n",
              "          const element = document.querySelector('#df-940f6a32-0a57-4d77-809f-0c030c8ccbb2');\n",
              "          const dataTable =\n",
              "            await google.colab.kernel.invokeFunction('convertToInteractive',\n",
              "                                                     [key], {});\n",
              "          if (!dataTable) return;\n",
              "\n",
              "          const docLinkHtml = 'Like what you see? Visit the ' +\n",
              "            '<a target=\"_blank\" href=https://colab.research.google.com/notebooks/data_table.ipynb>data table notebook</a>'\n",
              "            + ' to learn more about interactive tables.';\n",
              "          element.innerHTML = '';\n",
              "          dataTable['output_type'] = 'display_data';\n",
              "          await google.colab.output.renderOutput(dataTable, element);\n",
              "          const docLink = document.createElement('div');\n",
              "          docLink.innerHTML = docLinkHtml;\n",
              "          element.appendChild(docLink);\n",
              "        }\n",
              "      </script>\n",
              "    </div>\n",
              "  </div>\n"
            ]
          },
          "metadata": {},
          "execution_count": 489
        }
      ],
      "source": [
        "df.dropna(axis=1) #drop all columns contain null values"
      ]
    },
    {
      "cell_type": "code",
      "execution_count": null,
      "id": "6bd12c51",
      "metadata": {
        "id": "6bd12c51",
        "colab": {
          "base_uri": "https://localhost:8080/",
          "height": 363
        },
        "outputId": "ccc83c90-3a94-4f33-c27c-532acf5407b5"
      },
      "outputs": [
        {
          "output_type": "execute_result",
          "data": {
            "text/plain": [
              "         Name  Age  Gender    Country  Salary Department  Years of Experience  \\\n",
              "1st     Alice   25  Female        USA   50000  Marketing                    3   \n",
              "2nd       Bob   32    Male     Canada   75000    Finance                    8   \n",
              "3rd   Charlie   18    Male        USA   40000  Marketing                    1   \n",
              "4th     David   47    Male  Australia   90000         IT                   18   \n",
              "5th     Emily   29  Female         UK   60000         IT                    6   \n",
              "6th     Frank   36    Male     Canada   80000         HR                   10   \n",
              "7th    George   21    Male        USA   55000  Marketing                    2   \n",
              "8th     Helen   45  Female  Australia  100000         IT                   22   \n",
              "9th     Irene   28  Female         UK   65000         HR                    5   \n",
              "10th     Jack   33    Male        USA   70000    Finance                    7   \n",
              "\n",
              "     Education Level  Total_Income Capital_Name  \n",
              "1st         Bachelor        150000          USA  \n",
              "2nd           Master        600000       CANADA  \n",
              "3rd      High School         40000          USA  \n",
              "4th              PhD       1620000    AUSTRALIA  \n",
              "5th         Bachelor        360000           UK  \n",
              "6th           Master        800000       CANADA  \n",
              "7th         Bachelor        110000          USA  \n",
              "8th              PhD       2200000    AUSTRALIA  \n",
              "9th         Bachelor        325000           UK  \n",
              "10th          Master        490000          USA  "
            ],
            "text/html": [
              "\n",
              "\n",
              "  <div id=\"df-2dd42565-563c-48dc-9d0d-fba1b3fc4be3\">\n",
              "    <div class=\"colab-df-container\">\n",
              "      <div>\n",
              "<style scoped>\n",
              "    .dataframe tbody tr th:only-of-type {\n",
              "        vertical-align: middle;\n",
              "    }\n",
              "\n",
              "    .dataframe tbody tr th {\n",
              "        vertical-align: top;\n",
              "    }\n",
              "\n",
              "    .dataframe thead th {\n",
              "        text-align: right;\n",
              "    }\n",
              "</style>\n",
              "<table border=\"1\" class=\"dataframe\">\n",
              "  <thead>\n",
              "    <tr style=\"text-align: right;\">\n",
              "      <th></th>\n",
              "      <th>Name</th>\n",
              "      <th>Age</th>\n",
              "      <th>Gender</th>\n",
              "      <th>Country</th>\n",
              "      <th>Salary</th>\n",
              "      <th>Department</th>\n",
              "      <th>Years of Experience</th>\n",
              "      <th>Education Level</th>\n",
              "      <th>Total_Income</th>\n",
              "      <th>Capital_Name</th>\n",
              "    </tr>\n",
              "  </thead>\n",
              "  <tbody>\n",
              "    <tr>\n",
              "      <th>1st</th>\n",
              "      <td>Alice</td>\n",
              "      <td>25</td>\n",
              "      <td>Female</td>\n",
              "      <td>USA</td>\n",
              "      <td>50000</td>\n",
              "      <td>Marketing</td>\n",
              "      <td>3</td>\n",
              "      <td>Bachelor</td>\n",
              "      <td>150000</td>\n",
              "      <td>USA</td>\n",
              "    </tr>\n",
              "    <tr>\n",
              "      <th>2nd</th>\n",
              "      <td>Bob</td>\n",
              "      <td>32</td>\n",
              "      <td>Male</td>\n",
              "      <td>Canada</td>\n",
              "      <td>75000</td>\n",
              "      <td>Finance</td>\n",
              "      <td>8</td>\n",
              "      <td>Master</td>\n",
              "      <td>600000</td>\n",
              "      <td>CANADA</td>\n",
              "    </tr>\n",
              "    <tr>\n",
              "      <th>3rd</th>\n",
              "      <td>Charlie</td>\n",
              "      <td>18</td>\n",
              "      <td>Male</td>\n",
              "      <td>USA</td>\n",
              "      <td>40000</td>\n",
              "      <td>Marketing</td>\n",
              "      <td>1</td>\n",
              "      <td>High School</td>\n",
              "      <td>40000</td>\n",
              "      <td>USA</td>\n",
              "    </tr>\n",
              "    <tr>\n",
              "      <th>4th</th>\n",
              "      <td>David</td>\n",
              "      <td>47</td>\n",
              "      <td>Male</td>\n",
              "      <td>Australia</td>\n",
              "      <td>90000</td>\n",
              "      <td>IT</td>\n",
              "      <td>18</td>\n",
              "      <td>PhD</td>\n",
              "      <td>1620000</td>\n",
              "      <td>AUSTRALIA</td>\n",
              "    </tr>\n",
              "    <tr>\n",
              "      <th>5th</th>\n",
              "      <td>Emily</td>\n",
              "      <td>29</td>\n",
              "      <td>Female</td>\n",
              "      <td>UK</td>\n",
              "      <td>60000</td>\n",
              "      <td>IT</td>\n",
              "      <td>6</td>\n",
              "      <td>Bachelor</td>\n",
              "      <td>360000</td>\n",
              "      <td>UK</td>\n",
              "    </tr>\n",
              "    <tr>\n",
              "      <th>6th</th>\n",
              "      <td>Frank</td>\n",
              "      <td>36</td>\n",
              "      <td>Male</td>\n",
              "      <td>Canada</td>\n",
              "      <td>80000</td>\n",
              "      <td>HR</td>\n",
              "      <td>10</td>\n",
              "      <td>Master</td>\n",
              "      <td>800000</td>\n",
              "      <td>CANADA</td>\n",
              "    </tr>\n",
              "    <tr>\n",
              "      <th>7th</th>\n",
              "      <td>George</td>\n",
              "      <td>21</td>\n",
              "      <td>Male</td>\n",
              "      <td>USA</td>\n",
              "      <td>55000</td>\n",
              "      <td>Marketing</td>\n",
              "      <td>2</td>\n",
              "      <td>Bachelor</td>\n",
              "      <td>110000</td>\n",
              "      <td>USA</td>\n",
              "    </tr>\n",
              "    <tr>\n",
              "      <th>8th</th>\n",
              "      <td>Helen</td>\n",
              "      <td>45</td>\n",
              "      <td>Female</td>\n",
              "      <td>Australia</td>\n",
              "      <td>100000</td>\n",
              "      <td>IT</td>\n",
              "      <td>22</td>\n",
              "      <td>PhD</td>\n",
              "      <td>2200000</td>\n",
              "      <td>AUSTRALIA</td>\n",
              "    </tr>\n",
              "    <tr>\n",
              "      <th>9th</th>\n",
              "      <td>Irene</td>\n",
              "      <td>28</td>\n",
              "      <td>Female</td>\n",
              "      <td>UK</td>\n",
              "      <td>65000</td>\n",
              "      <td>HR</td>\n",
              "      <td>5</td>\n",
              "      <td>Bachelor</td>\n",
              "      <td>325000</td>\n",
              "      <td>UK</td>\n",
              "    </tr>\n",
              "    <tr>\n",
              "      <th>10th</th>\n",
              "      <td>Jack</td>\n",
              "      <td>33</td>\n",
              "      <td>Male</td>\n",
              "      <td>USA</td>\n",
              "      <td>70000</td>\n",
              "      <td>Finance</td>\n",
              "      <td>7</td>\n",
              "      <td>Master</td>\n",
              "      <td>490000</td>\n",
              "      <td>USA</td>\n",
              "    </tr>\n",
              "  </tbody>\n",
              "</table>\n",
              "</div>\n",
              "      <button class=\"colab-df-convert\" onclick=\"convertToInteractive('df-2dd42565-563c-48dc-9d0d-fba1b3fc4be3')\"\n",
              "              title=\"Convert this dataframe to an interactive table.\"\n",
              "              style=\"display:none;\">\n",
              "\n",
              "  <svg xmlns=\"http://www.w3.org/2000/svg\" height=\"24px\"viewBox=\"0 0 24 24\"\n",
              "       width=\"24px\">\n",
              "    <path d=\"M0 0h24v24H0V0z\" fill=\"none\"/>\n",
              "    <path d=\"M18.56 5.44l.94 2.06.94-2.06 2.06-.94-2.06-.94-.94-2.06-.94 2.06-2.06.94zm-11 1L8.5 8.5l.94-2.06 2.06-.94-2.06-.94L8.5 2.5l-.94 2.06-2.06.94zm10 10l.94 2.06.94-2.06 2.06-.94-2.06-.94-.94-2.06-.94 2.06-2.06.94z\"/><path d=\"M17.41 7.96l-1.37-1.37c-.4-.4-.92-.59-1.43-.59-.52 0-1.04.2-1.43.59L10.3 9.45l-7.72 7.72c-.78.78-.78 2.05 0 2.83L4 21.41c.39.39.9.59 1.41.59.51 0 1.02-.2 1.41-.59l7.78-7.78 2.81-2.81c.8-.78.8-2.07 0-2.86zM5.41 20L4 18.59l7.72-7.72 1.47 1.35L5.41 20z\"/>\n",
              "  </svg>\n",
              "      </button>\n",
              "\n",
              "\n",
              "\n",
              "    <div id=\"df-aea07e71-e5a2-41ab-9d61-452eee0842a7\">\n",
              "      <button class=\"colab-df-quickchart\" onclick=\"quickchart('df-aea07e71-e5a2-41ab-9d61-452eee0842a7')\"\n",
              "              title=\"Suggest charts.\"\n",
              "              style=\"display:none;\">\n",
              "\n",
              "<svg xmlns=\"http://www.w3.org/2000/svg\" height=\"24px\"viewBox=\"0 0 24 24\"\n",
              "     width=\"24px\">\n",
              "    <g>\n",
              "        <path d=\"M19 3H5c-1.1 0-2 .9-2 2v14c0 1.1.9 2 2 2h14c1.1 0 2-.9 2-2V5c0-1.1-.9-2-2-2zM9 17H7v-7h2v7zm4 0h-2V7h2v10zm4 0h-2v-4h2v4z\"/>\n",
              "    </g>\n",
              "</svg>\n",
              "      </button>\n",
              "    </div>\n",
              "\n",
              "<style>\n",
              "  .colab-df-quickchart {\n",
              "    background-color: #E8F0FE;\n",
              "    border: none;\n",
              "    border-radius: 50%;\n",
              "    cursor: pointer;\n",
              "    display: none;\n",
              "    fill: #1967D2;\n",
              "    height: 32px;\n",
              "    padding: 0 0 0 0;\n",
              "    width: 32px;\n",
              "  }\n",
              "\n",
              "  .colab-df-quickchart:hover {\n",
              "    background-color: #E2EBFA;\n",
              "    box-shadow: 0px 1px 2px rgba(60, 64, 67, 0.3), 0px 1px 3px 1px rgba(60, 64, 67, 0.15);\n",
              "    fill: #174EA6;\n",
              "  }\n",
              "\n",
              "  [theme=dark] .colab-df-quickchart {\n",
              "    background-color: #3B4455;\n",
              "    fill: #D2E3FC;\n",
              "  }\n",
              "\n",
              "  [theme=dark] .colab-df-quickchart:hover {\n",
              "    background-color: #434B5C;\n",
              "    box-shadow: 0px 1px 3px 1px rgba(0, 0, 0, 0.15);\n",
              "    filter: drop-shadow(0px 1px 2px rgba(0, 0, 0, 0.3));\n",
              "    fill: #FFFFFF;\n",
              "  }\n",
              "</style>\n",
              "\n",
              "    <script>\n",
              "      async function quickchart(key) {\n",
              "        const containerElement = document.querySelector('#' + key);\n",
              "        const charts = await google.colab.kernel.invokeFunction(\n",
              "            'suggestCharts', [key], {});\n",
              "      }\n",
              "    </script>\n",
              "\n",
              "      <script>\n",
              "\n",
              "function displayQuickchartButton(domScope) {\n",
              "  let quickchartButtonEl =\n",
              "    domScope.querySelector('#df-aea07e71-e5a2-41ab-9d61-452eee0842a7 button.colab-df-quickchart');\n",
              "  quickchartButtonEl.style.display =\n",
              "    google.colab.kernel.accessAllowed ? 'block' : 'none';\n",
              "}\n",
              "\n",
              "        displayQuickchartButton(document);\n",
              "      </script>\n",
              "      <style>\n",
              "    .colab-df-container {\n",
              "      display:flex;\n",
              "      flex-wrap:wrap;\n",
              "      gap: 12px;\n",
              "    }\n",
              "\n",
              "    .colab-df-convert {\n",
              "      background-color: #E8F0FE;\n",
              "      border: none;\n",
              "      border-radius: 50%;\n",
              "      cursor: pointer;\n",
              "      display: none;\n",
              "      fill: #1967D2;\n",
              "      height: 32px;\n",
              "      padding: 0 0 0 0;\n",
              "      width: 32px;\n",
              "    }\n",
              "\n",
              "    .colab-df-convert:hover {\n",
              "      background-color: #E2EBFA;\n",
              "      box-shadow: 0px 1px 2px rgba(60, 64, 67, 0.3), 0px 1px 3px 1px rgba(60, 64, 67, 0.15);\n",
              "      fill: #174EA6;\n",
              "    }\n",
              "\n",
              "    [theme=dark] .colab-df-convert {\n",
              "      background-color: #3B4455;\n",
              "      fill: #D2E3FC;\n",
              "    }\n",
              "\n",
              "    [theme=dark] .colab-df-convert:hover {\n",
              "      background-color: #434B5C;\n",
              "      box-shadow: 0px 1px 3px 1px rgba(0, 0, 0, 0.15);\n",
              "      filter: drop-shadow(0px 1px 2px rgba(0, 0, 0, 0.3));\n",
              "      fill: #FFFFFF;\n",
              "    }\n",
              "  </style>\n",
              "\n",
              "      <script>\n",
              "        const buttonEl =\n",
              "          document.querySelector('#df-2dd42565-563c-48dc-9d0d-fba1b3fc4be3 button.colab-df-convert');\n",
              "        buttonEl.style.display =\n",
              "          google.colab.kernel.accessAllowed ? 'block' : 'none';\n",
              "\n",
              "        async function convertToInteractive(key) {\n",
              "          const element = document.querySelector('#df-2dd42565-563c-48dc-9d0d-fba1b3fc4be3');\n",
              "          const dataTable =\n",
              "            await google.colab.kernel.invokeFunction('convertToInteractive',\n",
              "                                                     [key], {});\n",
              "          if (!dataTable) return;\n",
              "\n",
              "          const docLinkHtml = 'Like what you see? Visit the ' +\n",
              "            '<a target=\"_blank\" href=https://colab.research.google.com/notebooks/data_table.ipynb>data table notebook</a>'\n",
              "            + ' to learn more about interactive tables.';\n",
              "          element.innerHTML = '';\n",
              "          dataTable['output_type'] = 'display_data';\n",
              "          await google.colab.output.renderOutput(dataTable, element);\n",
              "          const docLink = document.createElement('div');\n",
              "          docLink.innerHTML = docLinkHtml;\n",
              "          element.appendChild(docLink);\n",
              "        }\n",
              "      </script>\n",
              "    </div>\n",
              "  </div>\n"
            ]
          },
          "metadata": {},
          "execution_count": 490
        }
      ],
      "source": [
        "df.dropna(axis=1,thresh=1) #drop all columns contain null values less than n"
      ]
    },
    {
      "cell_type": "code",
      "execution_count": null,
      "id": "b1cb2b5f",
      "metadata": {
        "id": "b1cb2b5f",
        "colab": {
          "base_uri": "https://localhost:8080/",
          "height": 418
        },
        "outputId": "ea9e83e1-d227-4e8c-f071-32b1c5d6b229"
      },
      "outputs": [
        {
          "output_type": "stream",
          "name": "stderr",
          "text": [
            "<ipython-input-491-cf4ef7f51b6a>:1: FutureWarning: The default value of numeric_only in DataFrame.mean is deprecated. In a future version, it will default to False. In addition, specifying 'numeric_only=None' is deprecated. Select only valid columns or specify the value of numeric_only to silence this warning.\n",
            "  df.fillna(df.mean()) #replace all null values with mean\n"
          ]
        },
        {
          "output_type": "execute_result",
          "data": {
            "text/plain": [
              "         Name  Age  Gender    Country  Salary Department  Years of Experience  \\\n",
              "1st     Alice   25  Female        USA   50000  Marketing                    3   \n",
              "2nd       Bob   32    Male     Canada   75000    Finance                    8   \n",
              "3rd   Charlie   18    Male        USA   40000  Marketing                    1   \n",
              "4th     David   47    Male  Australia   90000         IT                   18   \n",
              "5th     Emily   29  Female         UK   60000         IT                    6   \n",
              "6th     Frank   36    Male     Canada   80000         HR                   10   \n",
              "7th    George   21    Male        USA   55000  Marketing                    2   \n",
              "8th     Helen   45  Female  Australia  100000         IT                   22   \n",
              "9th     Irene   28  Female         UK   65000         HR                    5   \n",
              "10th     Jack   33    Male        USA   70000    Finance                    7   \n",
              "\n",
              "     Education Level  Total_Income Capital_Name  \n",
              "1st         Bachelor        150000          USA  \n",
              "2nd           Master        600000       CANADA  \n",
              "3rd      High School         40000          USA  \n",
              "4th              PhD       1620000    AUSTRALIA  \n",
              "5th         Bachelor        360000           UK  \n",
              "6th           Master        800000       CANADA  \n",
              "7th         Bachelor        110000          USA  \n",
              "8th              PhD       2200000    AUSTRALIA  \n",
              "9th         Bachelor        325000           UK  \n",
              "10th          Master        490000          USA  "
            ],
            "text/html": [
              "\n",
              "\n",
              "  <div id=\"df-81acd265-a568-47ac-9f33-b6370080b230\">\n",
              "    <div class=\"colab-df-container\">\n",
              "      <div>\n",
              "<style scoped>\n",
              "    .dataframe tbody tr th:only-of-type {\n",
              "        vertical-align: middle;\n",
              "    }\n",
              "\n",
              "    .dataframe tbody tr th {\n",
              "        vertical-align: top;\n",
              "    }\n",
              "\n",
              "    .dataframe thead th {\n",
              "        text-align: right;\n",
              "    }\n",
              "</style>\n",
              "<table border=\"1\" class=\"dataframe\">\n",
              "  <thead>\n",
              "    <tr style=\"text-align: right;\">\n",
              "      <th></th>\n",
              "      <th>Name</th>\n",
              "      <th>Age</th>\n",
              "      <th>Gender</th>\n",
              "      <th>Country</th>\n",
              "      <th>Salary</th>\n",
              "      <th>Department</th>\n",
              "      <th>Years of Experience</th>\n",
              "      <th>Education Level</th>\n",
              "      <th>Total_Income</th>\n",
              "      <th>Capital_Name</th>\n",
              "    </tr>\n",
              "  </thead>\n",
              "  <tbody>\n",
              "    <tr>\n",
              "      <th>1st</th>\n",
              "      <td>Alice</td>\n",
              "      <td>25</td>\n",
              "      <td>Female</td>\n",
              "      <td>USA</td>\n",
              "      <td>50000</td>\n",
              "      <td>Marketing</td>\n",
              "      <td>3</td>\n",
              "      <td>Bachelor</td>\n",
              "      <td>150000</td>\n",
              "      <td>USA</td>\n",
              "    </tr>\n",
              "    <tr>\n",
              "      <th>2nd</th>\n",
              "      <td>Bob</td>\n",
              "      <td>32</td>\n",
              "      <td>Male</td>\n",
              "      <td>Canada</td>\n",
              "      <td>75000</td>\n",
              "      <td>Finance</td>\n",
              "      <td>8</td>\n",
              "      <td>Master</td>\n",
              "      <td>600000</td>\n",
              "      <td>CANADA</td>\n",
              "    </tr>\n",
              "    <tr>\n",
              "      <th>3rd</th>\n",
              "      <td>Charlie</td>\n",
              "      <td>18</td>\n",
              "      <td>Male</td>\n",
              "      <td>USA</td>\n",
              "      <td>40000</td>\n",
              "      <td>Marketing</td>\n",
              "      <td>1</td>\n",
              "      <td>High School</td>\n",
              "      <td>40000</td>\n",
              "      <td>USA</td>\n",
              "    </tr>\n",
              "    <tr>\n",
              "      <th>4th</th>\n",
              "      <td>David</td>\n",
              "      <td>47</td>\n",
              "      <td>Male</td>\n",
              "      <td>Australia</td>\n",
              "      <td>90000</td>\n",
              "      <td>IT</td>\n",
              "      <td>18</td>\n",
              "      <td>PhD</td>\n",
              "      <td>1620000</td>\n",
              "      <td>AUSTRALIA</td>\n",
              "    </tr>\n",
              "    <tr>\n",
              "      <th>5th</th>\n",
              "      <td>Emily</td>\n",
              "      <td>29</td>\n",
              "      <td>Female</td>\n",
              "      <td>UK</td>\n",
              "      <td>60000</td>\n",
              "      <td>IT</td>\n",
              "      <td>6</td>\n",
              "      <td>Bachelor</td>\n",
              "      <td>360000</td>\n",
              "      <td>UK</td>\n",
              "    </tr>\n",
              "    <tr>\n",
              "      <th>6th</th>\n",
              "      <td>Frank</td>\n",
              "      <td>36</td>\n",
              "      <td>Male</td>\n",
              "      <td>Canada</td>\n",
              "      <td>80000</td>\n",
              "      <td>HR</td>\n",
              "      <td>10</td>\n",
              "      <td>Master</td>\n",
              "      <td>800000</td>\n",
              "      <td>CANADA</td>\n",
              "    </tr>\n",
              "    <tr>\n",
              "      <th>7th</th>\n",
              "      <td>George</td>\n",
              "      <td>21</td>\n",
              "      <td>Male</td>\n",
              "      <td>USA</td>\n",
              "      <td>55000</td>\n",
              "      <td>Marketing</td>\n",
              "      <td>2</td>\n",
              "      <td>Bachelor</td>\n",
              "      <td>110000</td>\n",
              "      <td>USA</td>\n",
              "    </tr>\n",
              "    <tr>\n",
              "      <th>8th</th>\n",
              "      <td>Helen</td>\n",
              "      <td>45</td>\n",
              "      <td>Female</td>\n",
              "      <td>Australia</td>\n",
              "      <td>100000</td>\n",
              "      <td>IT</td>\n",
              "      <td>22</td>\n",
              "      <td>PhD</td>\n",
              "      <td>2200000</td>\n",
              "      <td>AUSTRALIA</td>\n",
              "    </tr>\n",
              "    <tr>\n",
              "      <th>9th</th>\n",
              "      <td>Irene</td>\n",
              "      <td>28</td>\n",
              "      <td>Female</td>\n",
              "      <td>UK</td>\n",
              "      <td>65000</td>\n",
              "      <td>HR</td>\n",
              "      <td>5</td>\n",
              "      <td>Bachelor</td>\n",
              "      <td>325000</td>\n",
              "      <td>UK</td>\n",
              "    </tr>\n",
              "    <tr>\n",
              "      <th>10th</th>\n",
              "      <td>Jack</td>\n",
              "      <td>33</td>\n",
              "      <td>Male</td>\n",
              "      <td>USA</td>\n",
              "      <td>70000</td>\n",
              "      <td>Finance</td>\n",
              "      <td>7</td>\n",
              "      <td>Master</td>\n",
              "      <td>490000</td>\n",
              "      <td>USA</td>\n",
              "    </tr>\n",
              "  </tbody>\n",
              "</table>\n",
              "</div>\n",
              "      <button class=\"colab-df-convert\" onclick=\"convertToInteractive('df-81acd265-a568-47ac-9f33-b6370080b230')\"\n",
              "              title=\"Convert this dataframe to an interactive table.\"\n",
              "              style=\"display:none;\">\n",
              "\n",
              "  <svg xmlns=\"http://www.w3.org/2000/svg\" height=\"24px\"viewBox=\"0 0 24 24\"\n",
              "       width=\"24px\">\n",
              "    <path d=\"M0 0h24v24H0V0z\" fill=\"none\"/>\n",
              "    <path d=\"M18.56 5.44l.94 2.06.94-2.06 2.06-.94-2.06-.94-.94-2.06-.94 2.06-2.06.94zm-11 1L8.5 8.5l.94-2.06 2.06-.94-2.06-.94L8.5 2.5l-.94 2.06-2.06.94zm10 10l.94 2.06.94-2.06 2.06-.94-2.06-.94-.94-2.06-.94 2.06-2.06.94z\"/><path d=\"M17.41 7.96l-1.37-1.37c-.4-.4-.92-.59-1.43-.59-.52 0-1.04.2-1.43.59L10.3 9.45l-7.72 7.72c-.78.78-.78 2.05 0 2.83L4 21.41c.39.39.9.59 1.41.59.51 0 1.02-.2 1.41-.59l7.78-7.78 2.81-2.81c.8-.78.8-2.07 0-2.86zM5.41 20L4 18.59l7.72-7.72 1.47 1.35L5.41 20z\"/>\n",
              "  </svg>\n",
              "      </button>\n",
              "\n",
              "\n",
              "\n",
              "    <div id=\"df-02d50cad-d536-44dc-a181-ca613bf0fb71\">\n",
              "      <button class=\"colab-df-quickchart\" onclick=\"quickchart('df-02d50cad-d536-44dc-a181-ca613bf0fb71')\"\n",
              "              title=\"Suggest charts.\"\n",
              "              style=\"display:none;\">\n",
              "\n",
              "<svg xmlns=\"http://www.w3.org/2000/svg\" height=\"24px\"viewBox=\"0 0 24 24\"\n",
              "     width=\"24px\">\n",
              "    <g>\n",
              "        <path d=\"M19 3H5c-1.1 0-2 .9-2 2v14c0 1.1.9 2 2 2h14c1.1 0 2-.9 2-2V5c0-1.1-.9-2-2-2zM9 17H7v-7h2v7zm4 0h-2V7h2v10zm4 0h-2v-4h2v4z\"/>\n",
              "    </g>\n",
              "</svg>\n",
              "      </button>\n",
              "    </div>\n",
              "\n",
              "<style>\n",
              "  .colab-df-quickchart {\n",
              "    background-color: #E8F0FE;\n",
              "    border: none;\n",
              "    border-radius: 50%;\n",
              "    cursor: pointer;\n",
              "    display: none;\n",
              "    fill: #1967D2;\n",
              "    height: 32px;\n",
              "    padding: 0 0 0 0;\n",
              "    width: 32px;\n",
              "  }\n",
              "\n",
              "  .colab-df-quickchart:hover {\n",
              "    background-color: #E2EBFA;\n",
              "    box-shadow: 0px 1px 2px rgba(60, 64, 67, 0.3), 0px 1px 3px 1px rgba(60, 64, 67, 0.15);\n",
              "    fill: #174EA6;\n",
              "  }\n",
              "\n",
              "  [theme=dark] .colab-df-quickchart {\n",
              "    background-color: #3B4455;\n",
              "    fill: #D2E3FC;\n",
              "  }\n",
              "\n",
              "  [theme=dark] .colab-df-quickchart:hover {\n",
              "    background-color: #434B5C;\n",
              "    box-shadow: 0px 1px 3px 1px rgba(0, 0, 0, 0.15);\n",
              "    filter: drop-shadow(0px 1px 2px rgba(0, 0, 0, 0.3));\n",
              "    fill: #FFFFFF;\n",
              "  }\n",
              "</style>\n",
              "\n",
              "    <script>\n",
              "      async function quickchart(key) {\n",
              "        const containerElement = document.querySelector('#' + key);\n",
              "        const charts = await google.colab.kernel.invokeFunction(\n",
              "            'suggestCharts', [key], {});\n",
              "      }\n",
              "    </script>\n",
              "\n",
              "      <script>\n",
              "\n",
              "function displayQuickchartButton(domScope) {\n",
              "  let quickchartButtonEl =\n",
              "    domScope.querySelector('#df-02d50cad-d536-44dc-a181-ca613bf0fb71 button.colab-df-quickchart');\n",
              "  quickchartButtonEl.style.display =\n",
              "    google.colab.kernel.accessAllowed ? 'block' : 'none';\n",
              "}\n",
              "\n",
              "        displayQuickchartButton(document);\n",
              "      </script>\n",
              "      <style>\n",
              "    .colab-df-container {\n",
              "      display:flex;\n",
              "      flex-wrap:wrap;\n",
              "      gap: 12px;\n",
              "    }\n",
              "\n",
              "    .colab-df-convert {\n",
              "      background-color: #E8F0FE;\n",
              "      border: none;\n",
              "      border-radius: 50%;\n",
              "      cursor: pointer;\n",
              "      display: none;\n",
              "      fill: #1967D2;\n",
              "      height: 32px;\n",
              "      padding: 0 0 0 0;\n",
              "      width: 32px;\n",
              "    }\n",
              "\n",
              "    .colab-df-convert:hover {\n",
              "      background-color: #E2EBFA;\n",
              "      box-shadow: 0px 1px 2px rgba(60, 64, 67, 0.3), 0px 1px 3px 1px rgba(60, 64, 67, 0.15);\n",
              "      fill: #174EA6;\n",
              "    }\n",
              "\n",
              "    [theme=dark] .colab-df-convert {\n",
              "      background-color: #3B4455;\n",
              "      fill: #D2E3FC;\n",
              "    }\n",
              "\n",
              "    [theme=dark] .colab-df-convert:hover {\n",
              "      background-color: #434B5C;\n",
              "      box-shadow: 0px 1px 3px 1px rgba(0, 0, 0, 0.15);\n",
              "      filter: drop-shadow(0px 1px 2px rgba(0, 0, 0, 0.3));\n",
              "      fill: #FFFFFF;\n",
              "    }\n",
              "  </style>\n",
              "\n",
              "      <script>\n",
              "        const buttonEl =\n",
              "          document.querySelector('#df-81acd265-a568-47ac-9f33-b6370080b230 button.colab-df-convert');\n",
              "        buttonEl.style.display =\n",
              "          google.colab.kernel.accessAllowed ? 'block' : 'none';\n",
              "\n",
              "        async function convertToInteractive(key) {\n",
              "          const element = document.querySelector('#df-81acd265-a568-47ac-9f33-b6370080b230');\n",
              "          const dataTable =\n",
              "            await google.colab.kernel.invokeFunction('convertToInteractive',\n",
              "                                                     [key], {});\n",
              "          if (!dataTable) return;\n",
              "\n",
              "          const docLinkHtml = 'Like what you see? Visit the ' +\n",
              "            '<a target=\"_blank\" href=https://colab.research.google.com/notebooks/data_table.ipynb>data table notebook</a>'\n",
              "            + ' to learn more about interactive tables.';\n",
              "          element.innerHTML = '';\n",
              "          dataTable['output_type'] = 'display_data';\n",
              "          await google.colab.output.renderOutput(dataTable, element);\n",
              "          const docLink = document.createElement('div');\n",
              "          docLink.innerHTML = docLinkHtml;\n",
              "          element.appendChild(docLink);\n",
              "        }\n",
              "      </script>\n",
              "    </div>\n",
              "  </div>\n"
            ]
          },
          "metadata": {},
          "execution_count": 491
        }
      ],
      "source": [
        "df.fillna(df.mean()) #replace all null values with mean"
      ]
    },
    {
      "cell_type": "code",
      "execution_count": null,
      "id": "893eb657",
      "metadata": {
        "id": "893eb657"
      },
      "outputs": [],
      "source": [
        "#df.astype(float) #Convert datatype of series to float"
      ]
    },
    {
      "cell_type": "code",
      "execution_count": null,
      "id": "539d6eb1",
      "metadata": {
        "id": "539d6eb1",
        "colab": {
          "base_uri": "https://localhost:8080/",
          "height": 363
        },
        "outputId": "ec8e5bdc-35f1-4391-895c-dc59ba31d462"
      },
      "outputs": [
        {
          "output_type": "execute_result",
          "data": {
            "text/plain": [
              "         Name  Age  Gender    Country  Salary Department Years of Experience  \\\n",
              "1st     Alice   25  Female        USA   50000  Marketing                   3   \n",
              "2nd       Bob   32    Male     Canada   75000    Finance                   8   \n",
              "3rd   Charlie   18    Male        USA   40000  Marketing                 one   \n",
              "4th     David   47    Male  Australia   90000         IT                  18   \n",
              "5th     Emily   29  Female         UK   60000         IT                   6   \n",
              "6th     Frank   36    Male     Canada   80000         HR                  10   \n",
              "7th    George   21    Male        USA   55000  Marketing                   2   \n",
              "8th     Helen   45  Female  Australia  100000         IT                  22   \n",
              "9th     Irene   28  Female         UK   65000         HR                   5   \n",
              "10th     Jack   33    Male        USA   70000    Finance                   7   \n",
              "\n",
              "     Education Level  Total_Income Capital_Name  \n",
              "1st         Bachelor        150000          USA  \n",
              "2nd           Master        600000       CANADA  \n",
              "3rd      High School         40000          USA  \n",
              "4th              PhD       1620000    AUSTRALIA  \n",
              "5th         Bachelor        360000           UK  \n",
              "6th           Master        800000       CANADA  \n",
              "7th         Bachelor        110000          USA  \n",
              "8th              PhD       2200000    AUSTRALIA  \n",
              "9th         Bachelor        325000           UK  \n",
              "10th          Master        490000          USA  "
            ],
            "text/html": [
              "\n",
              "\n",
              "  <div id=\"df-4bdee7d0-f1dc-4880-8fbc-12d314982522\">\n",
              "    <div class=\"colab-df-container\">\n",
              "      <div>\n",
              "<style scoped>\n",
              "    .dataframe tbody tr th:only-of-type {\n",
              "        vertical-align: middle;\n",
              "    }\n",
              "\n",
              "    .dataframe tbody tr th {\n",
              "        vertical-align: top;\n",
              "    }\n",
              "\n",
              "    .dataframe thead th {\n",
              "        text-align: right;\n",
              "    }\n",
              "</style>\n",
              "<table border=\"1\" class=\"dataframe\">\n",
              "  <thead>\n",
              "    <tr style=\"text-align: right;\">\n",
              "      <th></th>\n",
              "      <th>Name</th>\n",
              "      <th>Age</th>\n",
              "      <th>Gender</th>\n",
              "      <th>Country</th>\n",
              "      <th>Salary</th>\n",
              "      <th>Department</th>\n",
              "      <th>Years of Experience</th>\n",
              "      <th>Education Level</th>\n",
              "      <th>Total_Income</th>\n",
              "      <th>Capital_Name</th>\n",
              "    </tr>\n",
              "  </thead>\n",
              "  <tbody>\n",
              "    <tr>\n",
              "      <th>1st</th>\n",
              "      <td>Alice</td>\n",
              "      <td>25</td>\n",
              "      <td>Female</td>\n",
              "      <td>USA</td>\n",
              "      <td>50000</td>\n",
              "      <td>Marketing</td>\n",
              "      <td>3</td>\n",
              "      <td>Bachelor</td>\n",
              "      <td>150000</td>\n",
              "      <td>USA</td>\n",
              "    </tr>\n",
              "    <tr>\n",
              "      <th>2nd</th>\n",
              "      <td>Bob</td>\n",
              "      <td>32</td>\n",
              "      <td>Male</td>\n",
              "      <td>Canada</td>\n",
              "      <td>75000</td>\n",
              "      <td>Finance</td>\n",
              "      <td>8</td>\n",
              "      <td>Master</td>\n",
              "      <td>600000</td>\n",
              "      <td>CANADA</td>\n",
              "    </tr>\n",
              "    <tr>\n",
              "      <th>3rd</th>\n",
              "      <td>Charlie</td>\n",
              "      <td>18</td>\n",
              "      <td>Male</td>\n",
              "      <td>USA</td>\n",
              "      <td>40000</td>\n",
              "      <td>Marketing</td>\n",
              "      <td>one</td>\n",
              "      <td>High School</td>\n",
              "      <td>40000</td>\n",
              "      <td>USA</td>\n",
              "    </tr>\n",
              "    <tr>\n",
              "      <th>4th</th>\n",
              "      <td>David</td>\n",
              "      <td>47</td>\n",
              "      <td>Male</td>\n",
              "      <td>Australia</td>\n",
              "      <td>90000</td>\n",
              "      <td>IT</td>\n",
              "      <td>18</td>\n",
              "      <td>PhD</td>\n",
              "      <td>1620000</td>\n",
              "      <td>AUSTRALIA</td>\n",
              "    </tr>\n",
              "    <tr>\n",
              "      <th>5th</th>\n",
              "      <td>Emily</td>\n",
              "      <td>29</td>\n",
              "      <td>Female</td>\n",
              "      <td>UK</td>\n",
              "      <td>60000</td>\n",
              "      <td>IT</td>\n",
              "      <td>6</td>\n",
              "      <td>Bachelor</td>\n",
              "      <td>360000</td>\n",
              "      <td>UK</td>\n",
              "    </tr>\n",
              "    <tr>\n",
              "      <th>6th</th>\n",
              "      <td>Frank</td>\n",
              "      <td>36</td>\n",
              "      <td>Male</td>\n",
              "      <td>Canada</td>\n",
              "      <td>80000</td>\n",
              "      <td>HR</td>\n",
              "      <td>10</td>\n",
              "      <td>Master</td>\n",
              "      <td>800000</td>\n",
              "      <td>CANADA</td>\n",
              "    </tr>\n",
              "    <tr>\n",
              "      <th>7th</th>\n",
              "      <td>George</td>\n",
              "      <td>21</td>\n",
              "      <td>Male</td>\n",
              "      <td>USA</td>\n",
              "      <td>55000</td>\n",
              "      <td>Marketing</td>\n",
              "      <td>2</td>\n",
              "      <td>Bachelor</td>\n",
              "      <td>110000</td>\n",
              "      <td>USA</td>\n",
              "    </tr>\n",
              "    <tr>\n",
              "      <th>8th</th>\n",
              "      <td>Helen</td>\n",
              "      <td>45</td>\n",
              "      <td>Female</td>\n",
              "      <td>Australia</td>\n",
              "      <td>100000</td>\n",
              "      <td>IT</td>\n",
              "      <td>22</td>\n",
              "      <td>PhD</td>\n",
              "      <td>2200000</td>\n",
              "      <td>AUSTRALIA</td>\n",
              "    </tr>\n",
              "    <tr>\n",
              "      <th>9th</th>\n",
              "      <td>Irene</td>\n",
              "      <td>28</td>\n",
              "      <td>Female</td>\n",
              "      <td>UK</td>\n",
              "      <td>65000</td>\n",
              "      <td>HR</td>\n",
              "      <td>5</td>\n",
              "      <td>Bachelor</td>\n",
              "      <td>325000</td>\n",
              "      <td>UK</td>\n",
              "    </tr>\n",
              "    <tr>\n",
              "      <th>10th</th>\n",
              "      <td>Jack</td>\n",
              "      <td>33</td>\n",
              "      <td>Male</td>\n",
              "      <td>USA</td>\n",
              "      <td>70000</td>\n",
              "      <td>Finance</td>\n",
              "      <td>7</td>\n",
              "      <td>Master</td>\n",
              "      <td>490000</td>\n",
              "      <td>USA</td>\n",
              "    </tr>\n",
              "  </tbody>\n",
              "</table>\n",
              "</div>\n",
              "      <button class=\"colab-df-convert\" onclick=\"convertToInteractive('df-4bdee7d0-f1dc-4880-8fbc-12d314982522')\"\n",
              "              title=\"Convert this dataframe to an interactive table.\"\n",
              "              style=\"display:none;\">\n",
              "\n",
              "  <svg xmlns=\"http://www.w3.org/2000/svg\" height=\"24px\"viewBox=\"0 0 24 24\"\n",
              "       width=\"24px\">\n",
              "    <path d=\"M0 0h24v24H0V0z\" fill=\"none\"/>\n",
              "    <path d=\"M18.56 5.44l.94 2.06.94-2.06 2.06-.94-2.06-.94-.94-2.06-.94 2.06-2.06.94zm-11 1L8.5 8.5l.94-2.06 2.06-.94-2.06-.94L8.5 2.5l-.94 2.06-2.06.94zm10 10l.94 2.06.94-2.06 2.06-.94-2.06-.94-.94-2.06-.94 2.06-2.06.94z\"/><path d=\"M17.41 7.96l-1.37-1.37c-.4-.4-.92-.59-1.43-.59-.52 0-1.04.2-1.43.59L10.3 9.45l-7.72 7.72c-.78.78-.78 2.05 0 2.83L4 21.41c.39.39.9.59 1.41.59.51 0 1.02-.2 1.41-.59l7.78-7.78 2.81-2.81c.8-.78.8-2.07 0-2.86zM5.41 20L4 18.59l7.72-7.72 1.47 1.35L5.41 20z\"/>\n",
              "  </svg>\n",
              "      </button>\n",
              "\n",
              "\n",
              "\n",
              "    <div id=\"df-3881986d-8e26-43d2-8387-bfea6b1d2f0a\">\n",
              "      <button class=\"colab-df-quickchart\" onclick=\"quickchart('df-3881986d-8e26-43d2-8387-bfea6b1d2f0a')\"\n",
              "              title=\"Suggest charts.\"\n",
              "              style=\"display:none;\">\n",
              "\n",
              "<svg xmlns=\"http://www.w3.org/2000/svg\" height=\"24px\"viewBox=\"0 0 24 24\"\n",
              "     width=\"24px\">\n",
              "    <g>\n",
              "        <path d=\"M19 3H5c-1.1 0-2 .9-2 2v14c0 1.1.9 2 2 2h14c1.1 0 2-.9 2-2V5c0-1.1-.9-2-2-2zM9 17H7v-7h2v7zm4 0h-2V7h2v10zm4 0h-2v-4h2v4z\"/>\n",
              "    </g>\n",
              "</svg>\n",
              "      </button>\n",
              "    </div>\n",
              "\n",
              "<style>\n",
              "  .colab-df-quickchart {\n",
              "    background-color: #E8F0FE;\n",
              "    border: none;\n",
              "    border-radius: 50%;\n",
              "    cursor: pointer;\n",
              "    display: none;\n",
              "    fill: #1967D2;\n",
              "    height: 32px;\n",
              "    padding: 0 0 0 0;\n",
              "    width: 32px;\n",
              "  }\n",
              "\n",
              "  .colab-df-quickchart:hover {\n",
              "    background-color: #E2EBFA;\n",
              "    box-shadow: 0px 1px 2px rgba(60, 64, 67, 0.3), 0px 1px 3px 1px rgba(60, 64, 67, 0.15);\n",
              "    fill: #174EA6;\n",
              "  }\n",
              "\n",
              "  [theme=dark] .colab-df-quickchart {\n",
              "    background-color: #3B4455;\n",
              "    fill: #D2E3FC;\n",
              "  }\n",
              "\n",
              "  [theme=dark] .colab-df-quickchart:hover {\n",
              "    background-color: #434B5C;\n",
              "    box-shadow: 0px 1px 3px 1px rgba(0, 0, 0, 0.15);\n",
              "    filter: drop-shadow(0px 1px 2px rgba(0, 0, 0, 0.3));\n",
              "    fill: #FFFFFF;\n",
              "  }\n",
              "</style>\n",
              "\n",
              "    <script>\n",
              "      async function quickchart(key) {\n",
              "        const containerElement = document.querySelector('#' + key);\n",
              "        const charts = await google.colab.kernel.invokeFunction(\n",
              "            'suggestCharts', [key], {});\n",
              "      }\n",
              "    </script>\n",
              "\n",
              "      <script>\n",
              "\n",
              "function displayQuickchartButton(domScope) {\n",
              "  let quickchartButtonEl =\n",
              "    domScope.querySelector('#df-3881986d-8e26-43d2-8387-bfea6b1d2f0a button.colab-df-quickchart');\n",
              "  quickchartButtonEl.style.display =\n",
              "    google.colab.kernel.accessAllowed ? 'block' : 'none';\n",
              "}\n",
              "\n",
              "        displayQuickchartButton(document);\n",
              "      </script>\n",
              "      <style>\n",
              "    .colab-df-container {\n",
              "      display:flex;\n",
              "      flex-wrap:wrap;\n",
              "      gap: 12px;\n",
              "    }\n",
              "\n",
              "    .colab-df-convert {\n",
              "      background-color: #E8F0FE;\n",
              "      border: none;\n",
              "      border-radius: 50%;\n",
              "      cursor: pointer;\n",
              "      display: none;\n",
              "      fill: #1967D2;\n",
              "      height: 32px;\n",
              "      padding: 0 0 0 0;\n",
              "      width: 32px;\n",
              "    }\n",
              "\n",
              "    .colab-df-convert:hover {\n",
              "      background-color: #E2EBFA;\n",
              "      box-shadow: 0px 1px 2px rgba(60, 64, 67, 0.3), 0px 1px 3px 1px rgba(60, 64, 67, 0.15);\n",
              "      fill: #174EA6;\n",
              "    }\n",
              "\n",
              "    [theme=dark] .colab-df-convert {\n",
              "      background-color: #3B4455;\n",
              "      fill: #D2E3FC;\n",
              "    }\n",
              "\n",
              "    [theme=dark] .colab-df-convert:hover {\n",
              "      background-color: #434B5C;\n",
              "      box-shadow: 0px 1px 3px 1px rgba(0, 0, 0, 0.15);\n",
              "      filter: drop-shadow(0px 1px 2px rgba(0, 0, 0, 0.3));\n",
              "      fill: #FFFFFF;\n",
              "    }\n",
              "  </style>\n",
              "\n",
              "      <script>\n",
              "        const buttonEl =\n",
              "          document.querySelector('#df-4bdee7d0-f1dc-4880-8fbc-12d314982522 button.colab-df-convert');\n",
              "        buttonEl.style.display =\n",
              "          google.colab.kernel.accessAllowed ? 'block' : 'none';\n",
              "\n",
              "        async function convertToInteractive(key) {\n",
              "          const element = document.querySelector('#df-4bdee7d0-f1dc-4880-8fbc-12d314982522');\n",
              "          const dataTable =\n",
              "            await google.colab.kernel.invokeFunction('convertToInteractive',\n",
              "                                                     [key], {});\n",
              "          if (!dataTable) return;\n",
              "\n",
              "          const docLinkHtml = 'Like what you see? Visit the ' +\n",
              "            '<a target=\"_blank\" href=https://colab.research.google.com/notebooks/data_table.ipynb>data table notebook</a>'\n",
              "            + ' to learn more about interactive tables.';\n",
              "          element.innerHTML = '';\n",
              "          dataTable['output_type'] = 'display_data';\n",
              "          await google.colab.output.renderOutput(dataTable, element);\n",
              "          const docLink = document.createElement('div');\n",
              "          docLink.innerHTML = docLinkHtml;\n",
              "          element.appendChild(docLink);\n",
              "        }\n",
              "      </script>\n",
              "    </div>\n",
              "  </div>\n"
            ]
          },
          "metadata": {},
          "execution_count": 492
        }
      ],
      "source": [
        "df.replace(1,'one') #replace all values equal to 1 with one"
      ]
    },
    {
      "cell_type": "code",
      "execution_count": null,
      "id": "195844ea",
      "metadata": {
        "id": "195844ea",
        "colab": {
          "base_uri": "https://localhost:8080/",
          "height": 363
        },
        "outputId": "04b48cd7-9b14-48ed-80ad-26253ca35017"
      },
      "outputs": [
        {
          "output_type": "execute_result",
          "data": {
            "text/plain": [
              "         Name  Age  Gender    Country  Salary Department  Years of Experience  \\\n",
              "1st     Alice   25  Female        USA   50000  Marketing                    3   \n",
              "2nd       Bob   32    Male     Canada   75000    Finance                    8   \n",
              "3rd   Charlie   18    Male        USA   40000  Marketing                    1   \n",
              "4th     David   47    Male  Australia   90000         IT                   18   \n",
              "5th     Emily   29  Female         UK   60000         IT                    6   \n",
              "6th     Frank   36    Male     Canada   80000         HR                   10   \n",
              "7th    George   21    Male        USA   55000  Marketing                    2   \n",
              "8th     Helen   45  Female  Australia  100000         IT                   22   \n",
              "9th     Irene   28  Female         UK   65000         HR                    5   \n",
              "10th     Jack   33    Male        USA   70000    Finance                    7   \n",
              "\n",
              "     Education Level  Total_Income Capital_Name  \n",
              "1st         Bachelor        150000          USA  \n",
              "2nd           Master        600000       CANADA  \n",
              "3rd      High School         40000          USA  \n",
              "4th              PhD       1620000    AUSTRALIA  \n",
              "5th         Bachelor        360000           UK  \n",
              "6th           Master        800000       CANADA  \n",
              "7th         Bachelor        110000          USA  \n",
              "8th              PhD       2200000    AUSTRALIA  \n",
              "9th         Bachelor        325000           UK  \n",
              "10th          Master        490000          USA  "
            ],
            "text/html": [
              "\n",
              "\n",
              "  <div id=\"df-1f8946ca-82af-4699-9467-98d468fcf0ad\">\n",
              "    <div class=\"colab-df-container\">\n",
              "      <div>\n",
              "<style scoped>\n",
              "    .dataframe tbody tr th:only-of-type {\n",
              "        vertical-align: middle;\n",
              "    }\n",
              "\n",
              "    .dataframe tbody tr th {\n",
              "        vertical-align: top;\n",
              "    }\n",
              "\n",
              "    .dataframe thead th {\n",
              "        text-align: right;\n",
              "    }\n",
              "</style>\n",
              "<table border=\"1\" class=\"dataframe\">\n",
              "  <thead>\n",
              "    <tr style=\"text-align: right;\">\n",
              "      <th></th>\n",
              "      <th>Name</th>\n",
              "      <th>Age</th>\n",
              "      <th>Gender</th>\n",
              "      <th>Country</th>\n",
              "      <th>Salary</th>\n",
              "      <th>Department</th>\n",
              "      <th>Years of Experience</th>\n",
              "      <th>Education Level</th>\n",
              "      <th>Total_Income</th>\n",
              "      <th>Capital_Name</th>\n",
              "    </tr>\n",
              "  </thead>\n",
              "  <tbody>\n",
              "    <tr>\n",
              "      <th>1st</th>\n",
              "      <td>Alice</td>\n",
              "      <td>25</td>\n",
              "      <td>Female</td>\n",
              "      <td>USA</td>\n",
              "      <td>50000</td>\n",
              "      <td>Marketing</td>\n",
              "      <td>3</td>\n",
              "      <td>Bachelor</td>\n",
              "      <td>150000</td>\n",
              "      <td>USA</td>\n",
              "    </tr>\n",
              "    <tr>\n",
              "      <th>2nd</th>\n",
              "      <td>Bob</td>\n",
              "      <td>32</td>\n",
              "      <td>Male</td>\n",
              "      <td>Canada</td>\n",
              "      <td>75000</td>\n",
              "      <td>Finance</td>\n",
              "      <td>8</td>\n",
              "      <td>Master</td>\n",
              "      <td>600000</td>\n",
              "      <td>CANADA</td>\n",
              "    </tr>\n",
              "    <tr>\n",
              "      <th>3rd</th>\n",
              "      <td>Charlie</td>\n",
              "      <td>18</td>\n",
              "      <td>Male</td>\n",
              "      <td>USA</td>\n",
              "      <td>40000</td>\n",
              "      <td>Marketing</td>\n",
              "      <td>1</td>\n",
              "      <td>High School</td>\n",
              "      <td>40000</td>\n",
              "      <td>USA</td>\n",
              "    </tr>\n",
              "    <tr>\n",
              "      <th>4th</th>\n",
              "      <td>David</td>\n",
              "      <td>47</td>\n",
              "      <td>Male</td>\n",
              "      <td>Australia</td>\n",
              "      <td>90000</td>\n",
              "      <td>IT</td>\n",
              "      <td>18</td>\n",
              "      <td>PhD</td>\n",
              "      <td>1620000</td>\n",
              "      <td>AUSTRALIA</td>\n",
              "    </tr>\n",
              "    <tr>\n",
              "      <th>5th</th>\n",
              "      <td>Emily</td>\n",
              "      <td>29</td>\n",
              "      <td>Female</td>\n",
              "      <td>UK</td>\n",
              "      <td>60000</td>\n",
              "      <td>IT</td>\n",
              "      <td>6</td>\n",
              "      <td>Bachelor</td>\n",
              "      <td>360000</td>\n",
              "      <td>UK</td>\n",
              "    </tr>\n",
              "    <tr>\n",
              "      <th>6th</th>\n",
              "      <td>Frank</td>\n",
              "      <td>36</td>\n",
              "      <td>Male</td>\n",
              "      <td>Canada</td>\n",
              "      <td>80000</td>\n",
              "      <td>HR</td>\n",
              "      <td>10</td>\n",
              "      <td>Master</td>\n",
              "      <td>800000</td>\n",
              "      <td>CANADA</td>\n",
              "    </tr>\n",
              "    <tr>\n",
              "      <th>7th</th>\n",
              "      <td>George</td>\n",
              "      <td>21</td>\n",
              "      <td>Male</td>\n",
              "      <td>USA</td>\n",
              "      <td>55000</td>\n",
              "      <td>Marketing</td>\n",
              "      <td>2</td>\n",
              "      <td>Bachelor</td>\n",
              "      <td>110000</td>\n",
              "      <td>USA</td>\n",
              "    </tr>\n",
              "    <tr>\n",
              "      <th>8th</th>\n",
              "      <td>Helen</td>\n",
              "      <td>45</td>\n",
              "      <td>Female</td>\n",
              "      <td>Australia</td>\n",
              "      <td>100000</td>\n",
              "      <td>IT</td>\n",
              "      <td>22</td>\n",
              "      <td>PhD</td>\n",
              "      <td>2200000</td>\n",
              "      <td>AUSTRALIA</td>\n",
              "    </tr>\n",
              "    <tr>\n",
              "      <th>9th</th>\n",
              "      <td>Irene</td>\n",
              "      <td>28</td>\n",
              "      <td>Female</td>\n",
              "      <td>UK</td>\n",
              "      <td>65000</td>\n",
              "      <td>HR</td>\n",
              "      <td>5</td>\n",
              "      <td>Bachelor</td>\n",
              "      <td>325000</td>\n",
              "      <td>UK</td>\n",
              "    </tr>\n",
              "    <tr>\n",
              "      <th>10th</th>\n",
              "      <td>Jack</td>\n",
              "      <td>33</td>\n",
              "      <td>Male</td>\n",
              "      <td>USA</td>\n",
              "      <td>70000</td>\n",
              "      <td>Finance</td>\n",
              "      <td>7</td>\n",
              "      <td>Master</td>\n",
              "      <td>490000</td>\n",
              "      <td>USA</td>\n",
              "    </tr>\n",
              "  </tbody>\n",
              "</table>\n",
              "</div>\n",
              "      <button class=\"colab-df-convert\" onclick=\"convertToInteractive('df-1f8946ca-82af-4699-9467-98d468fcf0ad')\"\n",
              "              title=\"Convert this dataframe to an interactive table.\"\n",
              "              style=\"display:none;\">\n",
              "\n",
              "  <svg xmlns=\"http://www.w3.org/2000/svg\" height=\"24px\"viewBox=\"0 0 24 24\"\n",
              "       width=\"24px\">\n",
              "    <path d=\"M0 0h24v24H0V0z\" fill=\"none\"/>\n",
              "    <path d=\"M18.56 5.44l.94 2.06.94-2.06 2.06-.94-2.06-.94-.94-2.06-.94 2.06-2.06.94zm-11 1L8.5 8.5l.94-2.06 2.06-.94-2.06-.94L8.5 2.5l-.94 2.06-2.06.94zm10 10l.94 2.06.94-2.06 2.06-.94-2.06-.94-.94-2.06-.94 2.06-2.06.94z\"/><path d=\"M17.41 7.96l-1.37-1.37c-.4-.4-.92-.59-1.43-.59-.52 0-1.04.2-1.43.59L10.3 9.45l-7.72 7.72c-.78.78-.78 2.05 0 2.83L4 21.41c.39.39.9.59 1.41.59.51 0 1.02-.2 1.41-.59l7.78-7.78 2.81-2.81c.8-.78.8-2.07 0-2.86zM5.41 20L4 18.59l7.72-7.72 1.47 1.35L5.41 20z\"/>\n",
              "  </svg>\n",
              "      </button>\n",
              "\n",
              "\n",
              "\n",
              "    <div id=\"df-7f0d0e6f-450f-4d31-ae30-59ebc307dab0\">\n",
              "      <button class=\"colab-df-quickchart\" onclick=\"quickchart('df-7f0d0e6f-450f-4d31-ae30-59ebc307dab0')\"\n",
              "              title=\"Suggest charts.\"\n",
              "              style=\"display:none;\">\n",
              "\n",
              "<svg xmlns=\"http://www.w3.org/2000/svg\" height=\"24px\"viewBox=\"0 0 24 24\"\n",
              "     width=\"24px\">\n",
              "    <g>\n",
              "        <path d=\"M19 3H5c-1.1 0-2 .9-2 2v14c0 1.1.9 2 2 2h14c1.1 0 2-.9 2-2V5c0-1.1-.9-2-2-2zM9 17H7v-7h2v7zm4 0h-2V7h2v10zm4 0h-2v-4h2v4z\"/>\n",
              "    </g>\n",
              "</svg>\n",
              "      </button>\n",
              "    </div>\n",
              "\n",
              "<style>\n",
              "  .colab-df-quickchart {\n",
              "    background-color: #E8F0FE;\n",
              "    border: none;\n",
              "    border-radius: 50%;\n",
              "    cursor: pointer;\n",
              "    display: none;\n",
              "    fill: #1967D2;\n",
              "    height: 32px;\n",
              "    padding: 0 0 0 0;\n",
              "    width: 32px;\n",
              "  }\n",
              "\n",
              "  .colab-df-quickchart:hover {\n",
              "    background-color: #E2EBFA;\n",
              "    box-shadow: 0px 1px 2px rgba(60, 64, 67, 0.3), 0px 1px 3px 1px rgba(60, 64, 67, 0.15);\n",
              "    fill: #174EA6;\n",
              "  }\n",
              "\n",
              "  [theme=dark] .colab-df-quickchart {\n",
              "    background-color: #3B4455;\n",
              "    fill: #D2E3FC;\n",
              "  }\n",
              "\n",
              "  [theme=dark] .colab-df-quickchart:hover {\n",
              "    background-color: #434B5C;\n",
              "    box-shadow: 0px 1px 3px 1px rgba(0, 0, 0, 0.15);\n",
              "    filter: drop-shadow(0px 1px 2px rgba(0, 0, 0, 0.3));\n",
              "    fill: #FFFFFF;\n",
              "  }\n",
              "</style>\n",
              "\n",
              "    <script>\n",
              "      async function quickchart(key) {\n",
              "        const containerElement = document.querySelector('#' + key);\n",
              "        const charts = await google.colab.kernel.invokeFunction(\n",
              "            'suggestCharts', [key], {});\n",
              "      }\n",
              "    </script>\n",
              "\n",
              "      <script>\n",
              "\n",
              "function displayQuickchartButton(domScope) {\n",
              "  let quickchartButtonEl =\n",
              "    domScope.querySelector('#df-7f0d0e6f-450f-4d31-ae30-59ebc307dab0 button.colab-df-quickchart');\n",
              "  quickchartButtonEl.style.display =\n",
              "    google.colab.kernel.accessAllowed ? 'block' : 'none';\n",
              "}\n",
              "\n",
              "        displayQuickchartButton(document);\n",
              "      </script>\n",
              "      <style>\n",
              "    .colab-df-container {\n",
              "      display:flex;\n",
              "      flex-wrap:wrap;\n",
              "      gap: 12px;\n",
              "    }\n",
              "\n",
              "    .colab-df-convert {\n",
              "      background-color: #E8F0FE;\n",
              "      border: none;\n",
              "      border-radius: 50%;\n",
              "      cursor: pointer;\n",
              "      display: none;\n",
              "      fill: #1967D2;\n",
              "      height: 32px;\n",
              "      padding: 0 0 0 0;\n",
              "      width: 32px;\n",
              "    }\n",
              "\n",
              "    .colab-df-convert:hover {\n",
              "      background-color: #E2EBFA;\n",
              "      box-shadow: 0px 1px 2px rgba(60, 64, 67, 0.3), 0px 1px 3px 1px rgba(60, 64, 67, 0.15);\n",
              "      fill: #174EA6;\n",
              "    }\n",
              "\n",
              "    [theme=dark] .colab-df-convert {\n",
              "      background-color: #3B4455;\n",
              "      fill: #D2E3FC;\n",
              "    }\n",
              "\n",
              "    [theme=dark] .colab-df-convert:hover {\n",
              "      background-color: #434B5C;\n",
              "      box-shadow: 0px 1px 3px 1px rgba(0, 0, 0, 0.15);\n",
              "      filter: drop-shadow(0px 1px 2px rgba(0, 0, 0, 0.3));\n",
              "      fill: #FFFFFF;\n",
              "    }\n",
              "  </style>\n",
              "\n",
              "      <script>\n",
              "        const buttonEl =\n",
              "          document.querySelector('#df-1f8946ca-82af-4699-9467-98d468fcf0ad button.colab-df-convert');\n",
              "        buttonEl.style.display =\n",
              "          google.colab.kernel.accessAllowed ? 'block' : 'none';\n",
              "\n",
              "        async function convertToInteractive(key) {\n",
              "          const element = document.querySelector('#df-1f8946ca-82af-4699-9467-98d468fcf0ad');\n",
              "          const dataTable =\n",
              "            await google.colab.kernel.invokeFunction('convertToInteractive',\n",
              "                                                     [key], {});\n",
              "          if (!dataTable) return;\n",
              "\n",
              "          const docLinkHtml = 'Like what you see? Visit the ' +\n",
              "            '<a target=\"_blank\" href=https://colab.research.google.com/notebooks/data_table.ipynb>data table notebook</a>'\n",
              "            + ' to learn more about interactive tables.';\n",
              "          element.innerHTML = '';\n",
              "          dataTable['output_type'] = 'display_data';\n",
              "          await google.colab.output.renderOutput(dataTable, element);\n",
              "          const docLink = document.createElement('div');\n",
              "          docLink.innerHTML = docLinkHtml;\n",
              "          element.appendChild(docLink);\n",
              "        }\n",
              "      </script>\n",
              "    </div>\n",
              "  </div>\n"
            ]
          },
          "metadata": {},
          "execution_count": 493
        }
      ],
      "source": [
        "df.rename(columns={'N':'New Age'}) #rename of selected column"
      ]
    },
    {
      "cell_type": "code",
      "execution_count": null,
      "id": "29e245b0",
      "metadata": {
        "id": "29e245b0",
        "colab": {
          "base_uri": "https://localhost:8080/",
          "height": 166
        },
        "outputId": "feab2858-e3a7-4470-cede-51b9ac0ee0bd"
      },
      "outputs": [
        {
          "output_type": "error",
          "ename": "NameError",
          "evalue": "ignored",
          "traceback": [
            "\u001b[0;31m---------------------------------------------------------------------------\u001b[0m",
            "\u001b[0;31mNameError\u001b[0m                                 Traceback (most recent call last)",
            "\u001b[0;32m<ipython-input-494-01d0d45c9069>\u001b[0m in \u001b[0;36m<cell line: 1>\u001b[0;34m()\u001b[0m\n\u001b[0;32m----> 1\u001b[0;31m \u001b[0mdf1\u001b[0m\u001b[0;34m.\u001b[0m\u001b[0mappend\u001b[0m\u001b[0;34m(\u001b[0m\u001b[0mdf2\u001b[0m\u001b[0;34m)\u001b[0m  \u001b[0;31m#add rows in end of df1 to the df2, column should be identical\u001b[0m\u001b[0;34m\u001b[0m\u001b[0;34m\u001b[0m\u001b[0m\n\u001b[0m",
            "\u001b[0;31mNameError\u001b[0m: name 'df1' is not defined"
          ]
        }
      ],
      "source": [
        "df1.append(df2)  #add rows in end of df1 to the df2, column should be identical"
      ]
    },
    {
      "cell_type": "code",
      "execution_count": null,
      "id": "b8b38807",
      "metadata": {
        "id": "b8b38807"
      },
      "outputs": [],
      "source": [
        "pd.concat([df1,df2],axis=1) #add rows in end of df1 to the df2, rows should be identical"
      ]
    },
    {
      "cell_type": "markdown",
      "id": "490478e1",
      "metadata": {
        "id": "490478e1"
      },
      "source": [
        "**FILTER, SORT & GROUPBY **\n"
      ]
    },
    {
      "cell_type": "code",
      "execution_count": null,
      "id": "25291f47",
      "metadata": {
        "id": "25291f47",
        "colab": {
          "base_uri": "https://localhost:8080/",
          "height": 166
        },
        "outputId": "41a6a7fb-8992-4bc2-da32-806f8ef0b468"
      },
      "outputs": [
        {
          "output_type": "error",
          "ename": "NameError",
          "evalue": "ignored",
          "traceback": [
            "\u001b[0;31m---------------------------------------------------------------------------\u001b[0m",
            "\u001b[0;31mNameError\u001b[0m                                 Traceback (most recent call last)",
            "\u001b[0;32m<ipython-input-1-00cf07b74dcd>\u001b[0m in \u001b[0;36m<cell line: 1>\u001b[0;34m()\u001b[0m\n\u001b[0;32m----> 1\u001b[0;31m \u001b[0mdf\u001b[0m\u001b[0;34m\u001b[0m\u001b[0;34m\u001b[0m\u001b[0m\n\u001b[0m",
            "\u001b[0;31mNameError\u001b[0m: name 'df' is not defined"
          ]
        }
      ],
      "source": [
        "df"
      ]
    },
    {
      "cell_type": "code",
      "execution_count": null,
      "id": "7d158092",
      "metadata": {
        "id": "7d158092"
      },
      "outputs": [],
      "source": [
        "df[df['Age']>20] #rows where age greater than 20"
      ]
    },
    {
      "cell_type": "code",
      "execution_count": null,
      "id": "a97aef0e",
      "metadata": {
        "id": "a97aef0e"
      },
      "outputs": [],
      "source": [
        "df[(df['Age']>20) & (df['Age']<30)] #between"
      ]
    },
    {
      "cell_type": "code",
      "execution_count": null,
      "id": "6c6f11a0",
      "metadata": {
        "id": "6c6f11a0"
      },
      "outputs": [],
      "source": [
        "df.sort_values('Age') #sort values also add ascending"
      ]
    },
    {
      "cell_type": "code",
      "execution_count": null,
      "id": "f1d733e4",
      "metadata": {
        "id": "f1d733e4"
      },
      "outputs": [],
      "source": [
        "df.groupby('Gender') #create groupby object for values"
      ]
    },
    {
      "cell_type": "code",
      "execution_count": null,
      "id": "101a6c68",
      "metadata": {
        "id": "101a6c68"
      },
      "outputs": [],
      "source": [
        "df.groupby('Gender'),['Country'] #for multiple"
      ]
    },
    {
      "cell_type": "markdown",
      "source": [
        "### Set_option"
      ],
      "metadata": {
        "id": "BfXRVCeE2svB"
      },
      "id": "BfXRVCeE2svB"
    },
    {
      "cell_type": "markdown",
      "source": [
        "The set_option() function in pandas is used to modify various options related to the behavior and display settings of pandas objects.\n",
        "The syntax for set_option() is: pandas.set_option(option, value).\n",
        "option refers to the name of the option you want to set, and value is the new value for that option.\n",
        "Some commonly used options include:\n",
        "display.max_rows: Sets the maximum number of rows to be displayed when printing a DataFrame.\n",
        "display.max_columns: Sets the maximum number of columns to be displayed.\n",
        "display.precision: Sets the number of decimal places to display.\n",
        "mode.chained_assignment: Sets the behavior for chained assignments.\n",
        "Use pd.set_option(option, value) to set a specific option. For example: pd.set_option('display.max_rows', 10).\n",
        "To revert an option back to its default value, you can use the reset_option() function: pd.reset_option(option). For example: pd.reset_option('display.max_rows').\n",
        "The set_option() function affects the display settings for all subsequent pandas objects in the code unless explicitly changed again.\n",
        "Import the pandas library before using set_option(): import pandas as pd."
      ],
      "metadata": {
        "id": "oVrg8Xpj2wbu"
      },
      "id": "oVrg8Xpj2wbu"
    },
    {
      "cell_type": "code",
      "source": [
        "import pandas as pd\n",
        "\n",
        "# Set the maximum number of rows to be displayed\n",
        "pd.set_option('display.max_rows', 10)\n",
        "\n",
        "# Create a DataFrame\n",
        "data = {\n",
        "    'Name': ['John', 'Emma', 'Ryan', 'Emily', 'Daniel'],\n",
        "    'Age': [25, 28, 22, 30, 27],\n",
        "    'City': ['New York', 'Paris', 'London', 'Sydney', 'Tokyo'],\n",
        "}\n",
        "\n",
        "df = pd.DataFrame(data)\n",
        "\n",
        "# Display the DataFrame with the modified option\n",
        "print(df)\n",
        "\n",
        "# Revert the option back to its default value\n",
        "pd.reset_option('display.max_rows')\n"
      ],
      "metadata": {
        "id": "nkvDtABc2sRz"
      },
      "id": "nkvDtABc2sRz",
      "execution_count": null,
      "outputs": []
    },
    {
      "cell_type": "markdown",
      "id": "4e0169b0",
      "metadata": {
        "id": "4e0169b0"
      },
      "source": [
        "Statistical"
      ]
    },
    {
      "cell_type": "code",
      "execution_count": null,
      "id": "01b4c28e",
      "metadata": {
        "id": "01b4c28e"
      },
      "outputs": [],
      "source": [
        "df.describe()"
      ]
    },
    {
      "cell_type": "code",
      "execution_count": null,
      "id": "c34a2550",
      "metadata": {
        "id": "c34a2550"
      },
      "outputs": [],
      "source": [
        "df.mean()"
      ]
    },
    {
      "cell_type": "code",
      "execution_count": null,
      "id": "19ee458d",
      "metadata": {
        "id": "19ee458d"
      },
      "outputs": [],
      "source": [
        "df.corr()"
      ]
    },
    {
      "cell_type": "code",
      "execution_count": null,
      "id": "3c6778f2",
      "metadata": {
        "id": "3c6778f2"
      },
      "outputs": [],
      "source": [
        "df.count()"
      ]
    },
    {
      "cell_type": "code",
      "execution_count": null,
      "id": "798fa77f",
      "metadata": {
        "id": "798fa77f"
      },
      "outputs": [],
      "source": [
        "df.max()"
      ]
    },
    {
      "cell_type": "code",
      "execution_count": null,
      "id": "1b1109f6",
      "metadata": {
        "id": "1b1109f6"
      },
      "outputs": [],
      "source": [
        "df.min()"
      ]
    },
    {
      "cell_type": "code",
      "execution_count": null,
      "id": "9ef54765",
      "metadata": {
        "id": "9ef54765"
      },
      "outputs": [],
      "source": [
        "df.median()"
      ]
    },
    {
      "cell_type": "code",
      "execution_count": null,
      "id": "ed3c5294",
      "metadata": {
        "id": "ed3c5294"
      },
      "outputs": [],
      "source": [
        "df.std()"
      ]
    },
    {
      "cell_type": "markdown",
      "source": [
        "### Pivot Table"
      ],
      "metadata": {
        "id": "GsNzjNKnbDJ6"
      },
      "id": "GsNzjNKnbDJ6"
    },
    {
      "cell_type": "code",
      "source": [
        "import pandas as pd\n",
        "\n",
        "# Syntax of Pandas pivot table.\n",
        "pandas.pivot_table(data, values=None, index=None, columns=None, aggfunc=’mean’, fill_value=None, margins=False, dropna=True, margins_name=’All’, observed=False)\n",
        "\n",
        "# Another Syntax\n",
        "DataFrame.pivot(index=None, columns=None, values=None)"
      ],
      "metadata": {
        "id": "OUqUg1-hbVoJ",
        "colab": {
          "base_uri": "https://localhost:8080/",
          "height": 131
        },
        "outputId": "41858f72-6c17-48d7-dab8-6d174351f955"
      },
      "id": "OUqUg1-hbVoJ",
      "execution_count": null,
      "outputs": [
        {
          "output_type": "error",
          "ename": "SyntaxError",
          "evalue": "ignored",
          "traceback": [
            "\u001b[0;36m  File \u001b[0;32m\"<ipython-input-495-5ea823df1f58>\"\u001b[0;36m, line \u001b[0;32m4\u001b[0m\n\u001b[0;31m    pandas.pivot_table(data, values=None, index=None, columns=None, aggfunc=’mean’, fill_value=None, margins=False, dropna=True, margins_name=’All’, observed=False)\u001b[0m\n\u001b[0m                                                                            ^\u001b[0m\n\u001b[0;31mSyntaxError\u001b[0m\u001b[0;31m:\u001b[0m invalid character '’' (U+2019)\n"
          ]
        }
      ]
    },
    {
      "cell_type": "code",
      "execution_count": null,
      "id": "f7ed8428",
      "metadata": {
        "id": "f7ed8428"
      },
      "outputs": [],
      "source": [
        "\n",
        "# Example 1 : # Create a pivot table using index\n",
        "p_table = pd.pivot_table(df, index=['Gender'])\n",
        "\n",
        "# Example 2 : Create a pivot table using multiple index\n",
        "p_table = pd.pivot_table(df, index=['Gender', 'Category'])\n",
        "\n",
        "# Example 3 : Create pivot table using multiple aggfunc\n",
        "p_table = pd.pivot_table(df, index=['Gender'], aggfunc= {'Fee': 'mean', 'Discount': 'sum'})\n",
        "\n",
        "# Example 4 : Create table using value parameter\n",
        "p_table = pd.pivot_table(df, index = ['Gender'], values = ['Discount'], aggfunc = 'mean' )"
      ]
    },
    {
      "cell_type": "code",
      "source": [
        "\n",
        "import pandas as pd\n",
        "# Create a DataFrame\n",
        "df = pd.DataFrame({'Student Names' : ['Jenny', 'Singh', 'Charles', 'Richard', 'Veena'],\n",
        "                   'Category' : ['Online', 'Offline', 'Offline', 'Offline', 'Online'],\n",
        "                   'Gender' : ['Female', 'Male', 'Male', 'Male', 'Female'],\n",
        "                  'Courses': ['Java', 'Spark', 'PySpark','Hadoop','C'],\n",
        "                   'Fee': [15000, 17000, 27000, 29000, 12000],\n",
        "                   'Discount': [1100, 800, 1000, 1600, 600]})\n",
        "print(df)\n"
      ],
      "metadata": {
        "id": "qUJazaiDbQGG",
        "colab": {
          "base_uri": "https://localhost:8080/"
        },
        "outputId": "49a3a632-e9dc-4852-80a0-b6ba20e05003"
      },
      "id": "qUJazaiDbQGG",
      "execution_count": null,
      "outputs": [
        {
          "output_type": "stream",
          "name": "stdout",
          "text": [
            "  Student Names Category  Gender  Courses    Fee  Discount\n",
            "0         Jenny   Online  Female     Java  15000      1100\n",
            "1         Singh  Offline    Male    Spark  17000       800\n",
            "2       Charles  Offline    Male  PySpark  27000      1000\n",
            "3       Richard  Offline    Male   Hadoop  29000      1600\n",
            "4         Veena   Online  Female        C  12000       600\n"
          ]
        }
      ]
    },
    {
      "cell_type": "markdown",
      "source": [
        " Group the Data into Pivot Table using Index Param"
      ],
      "metadata": {
        "id": "PPPjOtNCbwts"
      },
      "id": "PPPjOtNCbwts"
    },
    {
      "cell_type": "code",
      "source": [
        "\n",
        "# Create a pivot table using index\n",
        "p_table = pd.pivot_table(df, index=['Gender'])\n",
        "print(p_table)\n"
      ],
      "metadata": {
        "id": "43JGWIVVbQC_",
        "colab": {
          "base_uri": "https://localhost:8080/"
        },
        "outputId": "d276c71f-584c-44c0-bb14-0f6f16368be4"
      },
      "id": "43JGWIVVbQC_",
      "execution_count": null,
      "outputs": [
        {
          "output_type": "stream",
          "name": "stdout",
          "text": [
            "           Discount           Fee\n",
            "Gender                           \n",
            "Female   850.000000  13500.000000\n",
            "Male    1133.333333  24333.333333\n"
          ]
        },
        {
          "output_type": "stream",
          "name": "stderr",
          "text": [
            "<ipython-input-497-6fe5dc868ec9>:2: FutureWarning: pivot_table dropped a column because it failed to aggregate. This behavior is deprecated and will raise in a future version of pandas. Select only the columns that can be aggregated.\n",
            "  p_table = pd.pivot_table(df, index=['Gender'])\n"
          ]
        }
      ]
    },
    {
      "cell_type": "markdown",
      "source": [
        "Create Pivot Table Using Multiple Index"
      ],
      "metadata": {
        "id": "XoBQc6vMb9ga"
      },
      "id": "XoBQc6vMb9ga"
    },
    {
      "cell_type": "code",
      "source": [
        "# Create a pivot table using multiple index\n",
        "p_table = pd.pivot_table(df, index=['Gender', 'Category'])\n",
        "print(p_table)"
      ],
      "metadata": {
        "id": "7Jlo7ehgbQAA",
        "colab": {
          "base_uri": "https://localhost:8080/"
        },
        "outputId": "c65d2c90-2c50-4918-999b-4ca2b587807f"
      },
      "id": "7Jlo7ehgbQAA",
      "execution_count": null,
      "outputs": [
        {
          "output_type": "stream",
          "name": "stdout",
          "text": [
            "                    Discount           Fee\n",
            "Gender Category                           \n",
            "Female Online     850.000000  13500.000000\n",
            "Male   Offline   1133.333333  24333.333333\n"
          ]
        },
        {
          "output_type": "stream",
          "name": "stderr",
          "text": [
            "<ipython-input-498-ad7c999ff2e4>:2: FutureWarning: pivot_table dropped a column because it failed to aggregate. This behavior is deprecated and will raise in a future version of pandas. Select only the columns that can be aggregated.\n",
            "  p_table = pd.pivot_table(df, index=['Gender', 'Category'])\n"
          ]
        }
      ]
    },
    {
      "cell_type": "markdown",
      "source": [
        "Use Multiple Aggregation functions"
      ],
      "metadata": {
        "id": "1WLxSxrvcReL"
      },
      "id": "1WLxSxrvcReL"
    },
    {
      "cell_type": "code",
      "source": [
        "# Create pivot table using multiple aggfunc\n",
        "p_table = pd.pivot_table(df, index=['Gender'], aggfunc= {'Fee': 'mean', 'Discount': 'sum'})\n",
        "print(p_table)"
      ],
      "metadata": {
        "id": "cJOmymcSbP9k",
        "colab": {
          "base_uri": "https://localhost:8080/"
        },
        "outputId": "f1c8e9ca-051a-4455-ae21-e18ea50c1105"
      },
      "id": "cJOmymcSbP9k",
      "execution_count": null,
      "outputs": [
        {
          "output_type": "stream",
          "name": "stdout",
          "text": [
            "        Discount           Fee\n",
            "Gender                        \n",
            "Female      1700  13500.000000\n",
            "Male        3400  24333.333333\n"
          ]
        }
      ]
    },
    {
      "cell_type": "markdown",
      "source": [
        "Create Pandas Pivot Table with Values Parameter"
      ],
      "metadata": {
        "id": "3yeV8DoccWBs"
      },
      "id": "3yeV8DoccWBs"
    },
    {
      "cell_type": "code",
      "source": [
        "# Create table using value parameter\n",
        "p_table = pd.pivot_table(df, index = ['Gender'], values = ['Discount'], aggfunc = 'mean' )\n",
        "print(p_table)"
      ],
      "metadata": {
        "id": "LKrYlEsYbP6w",
        "colab": {
          "base_uri": "https://localhost:8080/"
        },
        "outputId": "b25ea934-5b3f-4ae7-b73d-b57ebe7152fd"
      },
      "id": "LKrYlEsYbP6w",
      "execution_count": null,
      "outputs": [
        {
          "output_type": "stream",
          "name": "stdout",
          "text": [
            "           Discount\n",
            "Gender             \n",
            "Female   850.000000\n",
            "Male    1133.333333\n"
          ]
        }
      ]
    },
    {
      "cell_type": "markdown",
      "source": [
        "Create Pandas Pivot Table Using Column Param"
      ],
      "metadata": {
        "id": "VVq6u7jdcb1t"
      },
      "id": "VVq6u7jdcb1t"
    },
    {
      "cell_type": "code",
      "source": [
        "\n",
        "# Create table using column parameter\n",
        "p_table = pd.pivot_table(df, index= ['Gender'], columns = ['Fee'], values=['Discount'], aggfunc = 'mean' )\n",
        "print(p_table)"
      ],
      "metadata": {
        "id": "XB4BvsrxbP3Y",
        "colab": {
          "base_uri": "https://localhost:8080/"
        },
        "outputId": "0d07c814-f98c-4284-e989-e8be1e84b994"
      },
      "id": "XB4BvsrxbP3Y",
      "execution_count": null,
      "outputs": [
        {
          "output_type": "stream",
          "name": "stdout",
          "text": [
            "       Discount                               \n",
            "Fee       12000   15000  17000   27000   29000\n",
            "Gender                                        \n",
            "Female    600.0  1100.0    NaN     NaN     NaN\n",
            "Male        NaN     NaN  800.0  1000.0  1600.0\n"
          ]
        }
      ]
    },
    {
      "cell_type": "markdown",
      "source": [
        "Fill the Missing Data in Pandas Pivot Table"
      ],
      "metadata": {
        "id": "eUHZcJORcgGH"
      },
      "id": "eUHZcJORcgGH"
    },
    {
      "cell_type": "code",
      "source": [
        "\n",
        "# Fill the NaN value using fill_value\n",
        "p_table = pd.pivot_table(df, index= ['Gender'], columns = ['Fee'], values=['Discount'], aggfunc = 'mean', fill_value = 0 )\n",
        "print(p_table)\n"
      ],
      "metadata": {
        "id": "DhCHjTNBbP0u",
        "colab": {
          "base_uri": "https://localhost:8080/"
        },
        "outputId": "3f967f6d-fecc-441e-a19f-c8c13446903f"
      },
      "id": "DhCHjTNBbP0u",
      "execution_count": null,
      "outputs": [
        {
          "output_type": "stream",
          "name": "stdout",
          "text": [
            "       Discount                        \n",
            "Fee       12000 15000 17000 27000 29000\n",
            "Gender                                 \n",
            "Female      600  1100     0     0     0\n",
            "Male          0     0   800  1000  1600\n"
          ]
        }
      ]
    },
    {
      "cell_type": "markdown",
      "source": [
        "### Apply Method"
      ],
      "metadata": {
        "id": "-XK1ah4lJt5h"
      },
      "id": "-XK1ah4lJt5h"
    },
    {
      "cell_type": "code",
      "source": [
        "import pandas as pd\n",
        "\n",
        "# Create a DataFrame\n",
        "data = {'Name': ['Alice', 'Bob', 'Charlie'],\n",
        "        'Age': [25, 30, 35],\n",
        "        'Salary': [50000, 60000, 70000]}\n",
        "df = pd.DataFrame(data)"
      ],
      "metadata": {
        "id": "MwlfLDrp3FkR"
      },
      "execution_count": null,
      "outputs": [],
      "id": "MwlfLDrp3FkR"
    },
    {
      "cell_type": "code",
      "source": [
        "df"
      ],
      "metadata": {
        "id": "_M7v4BbgKJrL",
        "colab": {
          "base_uri": "https://localhost:8080/",
          "height": 144
        },
        "outputId": "4432cbf0-8742-488b-e70d-b7f96da17b9d"
      },
      "id": "_M7v4BbgKJrL",
      "execution_count": null,
      "outputs": [
        {
          "output_type": "execute_result",
          "data": {
            "text/plain": [
              "      Name  Age  Salary\n",
              "0    Alice   25   50000\n",
              "1      Bob   30   60000\n",
              "2  Charlie   35   70000"
            ],
            "text/html": [
              "\n",
              "\n",
              "  <div id=\"df-522bf727-a23a-49d8-b08a-40c90ad50856\">\n",
              "    <div class=\"colab-df-container\">\n",
              "      <div>\n",
              "<style scoped>\n",
              "    .dataframe tbody tr th:only-of-type {\n",
              "        vertical-align: middle;\n",
              "    }\n",
              "\n",
              "    .dataframe tbody tr th {\n",
              "        vertical-align: top;\n",
              "    }\n",
              "\n",
              "    .dataframe thead th {\n",
              "        text-align: right;\n",
              "    }\n",
              "</style>\n",
              "<table border=\"1\" class=\"dataframe\">\n",
              "  <thead>\n",
              "    <tr style=\"text-align: right;\">\n",
              "      <th></th>\n",
              "      <th>Name</th>\n",
              "      <th>Age</th>\n",
              "      <th>Salary</th>\n",
              "    </tr>\n",
              "  </thead>\n",
              "  <tbody>\n",
              "    <tr>\n",
              "      <th>0</th>\n",
              "      <td>Alice</td>\n",
              "      <td>25</td>\n",
              "      <td>50000</td>\n",
              "    </tr>\n",
              "    <tr>\n",
              "      <th>1</th>\n",
              "      <td>Bob</td>\n",
              "      <td>30</td>\n",
              "      <td>60000</td>\n",
              "    </tr>\n",
              "    <tr>\n",
              "      <th>2</th>\n",
              "      <td>Charlie</td>\n",
              "      <td>35</td>\n",
              "      <td>70000</td>\n",
              "    </tr>\n",
              "  </tbody>\n",
              "</table>\n",
              "</div>\n",
              "      <button class=\"colab-df-convert\" onclick=\"convertToInteractive('df-522bf727-a23a-49d8-b08a-40c90ad50856')\"\n",
              "              title=\"Convert this dataframe to an interactive table.\"\n",
              "              style=\"display:none;\">\n",
              "\n",
              "  <svg xmlns=\"http://www.w3.org/2000/svg\" height=\"24px\"viewBox=\"0 0 24 24\"\n",
              "       width=\"24px\">\n",
              "    <path d=\"M0 0h24v24H0V0z\" fill=\"none\"/>\n",
              "    <path d=\"M18.56 5.44l.94 2.06.94-2.06 2.06-.94-2.06-.94-.94-2.06-.94 2.06-2.06.94zm-11 1L8.5 8.5l.94-2.06 2.06-.94-2.06-.94L8.5 2.5l-.94 2.06-2.06.94zm10 10l.94 2.06.94-2.06 2.06-.94-2.06-.94-.94-2.06-.94 2.06-2.06.94z\"/><path d=\"M17.41 7.96l-1.37-1.37c-.4-.4-.92-.59-1.43-.59-.52 0-1.04.2-1.43.59L10.3 9.45l-7.72 7.72c-.78.78-.78 2.05 0 2.83L4 21.41c.39.39.9.59 1.41.59.51 0 1.02-.2 1.41-.59l7.78-7.78 2.81-2.81c.8-.78.8-2.07 0-2.86zM5.41 20L4 18.59l7.72-7.72 1.47 1.35L5.41 20z\"/>\n",
              "  </svg>\n",
              "      </button>\n",
              "\n",
              "\n",
              "\n",
              "    <div id=\"df-4fd37154-60e6-414f-ad44-f271c5801de3\">\n",
              "      <button class=\"colab-df-quickchart\" onclick=\"quickchart('df-4fd37154-60e6-414f-ad44-f271c5801de3')\"\n",
              "              title=\"Suggest charts.\"\n",
              "              style=\"display:none;\">\n",
              "\n",
              "<svg xmlns=\"http://www.w3.org/2000/svg\" height=\"24px\"viewBox=\"0 0 24 24\"\n",
              "     width=\"24px\">\n",
              "    <g>\n",
              "        <path d=\"M19 3H5c-1.1 0-2 .9-2 2v14c0 1.1.9 2 2 2h14c1.1 0 2-.9 2-2V5c0-1.1-.9-2-2-2zM9 17H7v-7h2v7zm4 0h-2V7h2v10zm4 0h-2v-4h2v4z\"/>\n",
              "    </g>\n",
              "</svg>\n",
              "      </button>\n",
              "    </div>\n",
              "\n",
              "<style>\n",
              "  .colab-df-quickchart {\n",
              "    background-color: #E8F0FE;\n",
              "    border: none;\n",
              "    border-radius: 50%;\n",
              "    cursor: pointer;\n",
              "    display: none;\n",
              "    fill: #1967D2;\n",
              "    height: 32px;\n",
              "    padding: 0 0 0 0;\n",
              "    width: 32px;\n",
              "  }\n",
              "\n",
              "  .colab-df-quickchart:hover {\n",
              "    background-color: #E2EBFA;\n",
              "    box-shadow: 0px 1px 2px rgba(60, 64, 67, 0.3), 0px 1px 3px 1px rgba(60, 64, 67, 0.15);\n",
              "    fill: #174EA6;\n",
              "  }\n",
              "\n",
              "  [theme=dark] .colab-df-quickchart {\n",
              "    background-color: #3B4455;\n",
              "    fill: #D2E3FC;\n",
              "  }\n",
              "\n",
              "  [theme=dark] .colab-df-quickchart:hover {\n",
              "    background-color: #434B5C;\n",
              "    box-shadow: 0px 1px 3px 1px rgba(0, 0, 0, 0.15);\n",
              "    filter: drop-shadow(0px 1px 2px rgba(0, 0, 0, 0.3));\n",
              "    fill: #FFFFFF;\n",
              "  }\n",
              "</style>\n",
              "\n",
              "    <script>\n",
              "      async function quickchart(key) {\n",
              "        const containerElement = document.querySelector('#' + key);\n",
              "        const charts = await google.colab.kernel.invokeFunction(\n",
              "            'suggestCharts', [key], {});\n",
              "      }\n",
              "    </script>\n",
              "\n",
              "      <script>\n",
              "\n",
              "function displayQuickchartButton(domScope) {\n",
              "  let quickchartButtonEl =\n",
              "    domScope.querySelector('#df-4fd37154-60e6-414f-ad44-f271c5801de3 button.colab-df-quickchart');\n",
              "  quickchartButtonEl.style.display =\n",
              "    google.colab.kernel.accessAllowed ? 'block' : 'none';\n",
              "}\n",
              "\n",
              "        displayQuickchartButton(document);\n",
              "      </script>\n",
              "      <style>\n",
              "    .colab-df-container {\n",
              "      display:flex;\n",
              "      flex-wrap:wrap;\n",
              "      gap: 12px;\n",
              "    }\n",
              "\n",
              "    .colab-df-convert {\n",
              "      background-color: #E8F0FE;\n",
              "      border: none;\n",
              "      border-radius: 50%;\n",
              "      cursor: pointer;\n",
              "      display: none;\n",
              "      fill: #1967D2;\n",
              "      height: 32px;\n",
              "      padding: 0 0 0 0;\n",
              "      width: 32px;\n",
              "    }\n",
              "\n",
              "    .colab-df-convert:hover {\n",
              "      background-color: #E2EBFA;\n",
              "      box-shadow: 0px 1px 2px rgba(60, 64, 67, 0.3), 0px 1px 3px 1px rgba(60, 64, 67, 0.15);\n",
              "      fill: #174EA6;\n",
              "    }\n",
              "\n",
              "    [theme=dark] .colab-df-convert {\n",
              "      background-color: #3B4455;\n",
              "      fill: #D2E3FC;\n",
              "    }\n",
              "\n",
              "    [theme=dark] .colab-df-convert:hover {\n",
              "      background-color: #434B5C;\n",
              "      box-shadow: 0px 1px 3px 1px rgba(0, 0, 0, 0.15);\n",
              "      filter: drop-shadow(0px 1px 2px rgba(0, 0, 0, 0.3));\n",
              "      fill: #FFFFFF;\n",
              "    }\n",
              "  </style>\n",
              "\n",
              "      <script>\n",
              "        const buttonEl =\n",
              "          document.querySelector('#df-522bf727-a23a-49d8-b08a-40c90ad50856 button.colab-df-convert');\n",
              "        buttonEl.style.display =\n",
              "          google.colab.kernel.accessAllowed ? 'block' : 'none';\n",
              "\n",
              "        async function convertToInteractive(key) {\n",
              "          const element = document.querySelector('#df-522bf727-a23a-49d8-b08a-40c90ad50856');\n",
              "          const dataTable =\n",
              "            await google.colab.kernel.invokeFunction('convertToInteractive',\n",
              "                                                     [key], {});\n",
              "          if (!dataTable) return;\n",
              "\n",
              "          const docLinkHtml = 'Like what you see? Visit the ' +\n",
              "            '<a target=\"_blank\" href=https://colab.research.google.com/notebooks/data_table.ipynb>data table notebook</a>'\n",
              "            + ' to learn more about interactive tables.';\n",
              "          element.innerHTML = '';\n",
              "          dataTable['output_type'] = 'display_data';\n",
              "          await google.colab.output.renderOutput(dataTable, element);\n",
              "          const docLink = document.createElement('div');\n",
              "          docLink.innerHTML = docLinkHtml;\n",
              "          element.appendChild(docLink);\n",
              "        }\n",
              "      </script>\n",
              "    </div>\n",
              "  </div>\n"
            ]
          },
          "metadata": {},
          "execution_count": 504
        }
      ]
    },
    {
      "cell_type": "markdown",
      "source": [
        "Increase 'Salary' by 10,000:"
      ],
      "metadata": {
        "id": "kGlS-uyuKD_q"
      },
      "id": "kGlS-uyuKD_q"
    },
    {
      "cell_type": "code",
      "source": [
        "df['Salary'] = df['Salary'].apply(lambda x:x+10000)\n",
        "df"
      ],
      "metadata": {
        "id": "gaDLWFDP90kh",
        "colab": {
          "base_uri": "https://localhost:8080/",
          "height": 144
        },
        "outputId": "4f27e49e-cd56-4a14-cdc6-673862402608"
      },
      "execution_count": null,
      "outputs": [
        {
          "output_type": "execute_result",
          "data": {
            "text/plain": [
              "      Name  Age  Salary\n",
              "0    Alice   25   60000\n",
              "1      Bob   30   70000\n",
              "2  Charlie   35   80000"
            ],
            "text/html": [
              "\n",
              "\n",
              "  <div id=\"df-806495ed-4241-4109-a475-2cd0c1bb27e6\">\n",
              "    <div class=\"colab-df-container\">\n",
              "      <div>\n",
              "<style scoped>\n",
              "    .dataframe tbody tr th:only-of-type {\n",
              "        vertical-align: middle;\n",
              "    }\n",
              "\n",
              "    .dataframe tbody tr th {\n",
              "        vertical-align: top;\n",
              "    }\n",
              "\n",
              "    .dataframe thead th {\n",
              "        text-align: right;\n",
              "    }\n",
              "</style>\n",
              "<table border=\"1\" class=\"dataframe\">\n",
              "  <thead>\n",
              "    <tr style=\"text-align: right;\">\n",
              "      <th></th>\n",
              "      <th>Name</th>\n",
              "      <th>Age</th>\n",
              "      <th>Salary</th>\n",
              "    </tr>\n",
              "  </thead>\n",
              "  <tbody>\n",
              "    <tr>\n",
              "      <th>0</th>\n",
              "      <td>Alice</td>\n",
              "      <td>25</td>\n",
              "      <td>60000</td>\n",
              "    </tr>\n",
              "    <tr>\n",
              "      <th>1</th>\n",
              "      <td>Bob</td>\n",
              "      <td>30</td>\n",
              "      <td>70000</td>\n",
              "    </tr>\n",
              "    <tr>\n",
              "      <th>2</th>\n",
              "      <td>Charlie</td>\n",
              "      <td>35</td>\n",
              "      <td>80000</td>\n",
              "    </tr>\n",
              "  </tbody>\n",
              "</table>\n",
              "</div>\n",
              "      <button class=\"colab-df-convert\" onclick=\"convertToInteractive('df-806495ed-4241-4109-a475-2cd0c1bb27e6')\"\n",
              "              title=\"Convert this dataframe to an interactive table.\"\n",
              "              style=\"display:none;\">\n",
              "\n",
              "  <svg xmlns=\"http://www.w3.org/2000/svg\" height=\"24px\"viewBox=\"0 0 24 24\"\n",
              "       width=\"24px\">\n",
              "    <path d=\"M0 0h24v24H0V0z\" fill=\"none\"/>\n",
              "    <path d=\"M18.56 5.44l.94 2.06.94-2.06 2.06-.94-2.06-.94-.94-2.06-.94 2.06-2.06.94zm-11 1L8.5 8.5l.94-2.06 2.06-.94-2.06-.94L8.5 2.5l-.94 2.06-2.06.94zm10 10l.94 2.06.94-2.06 2.06-.94-2.06-.94-.94-2.06-.94 2.06-2.06.94z\"/><path d=\"M17.41 7.96l-1.37-1.37c-.4-.4-.92-.59-1.43-.59-.52 0-1.04.2-1.43.59L10.3 9.45l-7.72 7.72c-.78.78-.78 2.05 0 2.83L4 21.41c.39.39.9.59 1.41.59.51 0 1.02-.2 1.41-.59l7.78-7.78 2.81-2.81c.8-.78.8-2.07 0-2.86zM5.41 20L4 18.59l7.72-7.72 1.47 1.35L5.41 20z\"/>\n",
              "  </svg>\n",
              "      </button>\n",
              "\n",
              "\n",
              "\n",
              "    <div id=\"df-cb06d365-7c19-4426-96db-f8c6a26e4728\">\n",
              "      <button class=\"colab-df-quickchart\" onclick=\"quickchart('df-cb06d365-7c19-4426-96db-f8c6a26e4728')\"\n",
              "              title=\"Suggest charts.\"\n",
              "              style=\"display:none;\">\n",
              "\n",
              "<svg xmlns=\"http://www.w3.org/2000/svg\" height=\"24px\"viewBox=\"0 0 24 24\"\n",
              "     width=\"24px\">\n",
              "    <g>\n",
              "        <path d=\"M19 3H5c-1.1 0-2 .9-2 2v14c0 1.1.9 2 2 2h14c1.1 0 2-.9 2-2V5c0-1.1-.9-2-2-2zM9 17H7v-7h2v7zm4 0h-2V7h2v10zm4 0h-2v-4h2v4z\"/>\n",
              "    </g>\n",
              "</svg>\n",
              "      </button>\n",
              "    </div>\n",
              "\n",
              "<style>\n",
              "  .colab-df-quickchart {\n",
              "    background-color: #E8F0FE;\n",
              "    border: none;\n",
              "    border-radius: 50%;\n",
              "    cursor: pointer;\n",
              "    display: none;\n",
              "    fill: #1967D2;\n",
              "    height: 32px;\n",
              "    padding: 0 0 0 0;\n",
              "    width: 32px;\n",
              "  }\n",
              "\n",
              "  .colab-df-quickchart:hover {\n",
              "    background-color: #E2EBFA;\n",
              "    box-shadow: 0px 1px 2px rgba(60, 64, 67, 0.3), 0px 1px 3px 1px rgba(60, 64, 67, 0.15);\n",
              "    fill: #174EA6;\n",
              "  }\n",
              "\n",
              "  [theme=dark] .colab-df-quickchart {\n",
              "    background-color: #3B4455;\n",
              "    fill: #D2E3FC;\n",
              "  }\n",
              "\n",
              "  [theme=dark] .colab-df-quickchart:hover {\n",
              "    background-color: #434B5C;\n",
              "    box-shadow: 0px 1px 3px 1px rgba(0, 0, 0, 0.15);\n",
              "    filter: drop-shadow(0px 1px 2px rgba(0, 0, 0, 0.3));\n",
              "    fill: #FFFFFF;\n",
              "  }\n",
              "</style>\n",
              "\n",
              "    <script>\n",
              "      async function quickchart(key) {\n",
              "        const containerElement = document.querySelector('#' + key);\n",
              "        const charts = await google.colab.kernel.invokeFunction(\n",
              "            'suggestCharts', [key], {});\n",
              "      }\n",
              "    </script>\n",
              "\n",
              "      <script>\n",
              "\n",
              "function displayQuickchartButton(domScope) {\n",
              "  let quickchartButtonEl =\n",
              "    domScope.querySelector('#df-cb06d365-7c19-4426-96db-f8c6a26e4728 button.colab-df-quickchart');\n",
              "  quickchartButtonEl.style.display =\n",
              "    google.colab.kernel.accessAllowed ? 'block' : 'none';\n",
              "}\n",
              "\n",
              "        displayQuickchartButton(document);\n",
              "      </script>\n",
              "      <style>\n",
              "    .colab-df-container {\n",
              "      display:flex;\n",
              "      flex-wrap:wrap;\n",
              "      gap: 12px;\n",
              "    }\n",
              "\n",
              "    .colab-df-convert {\n",
              "      background-color: #E8F0FE;\n",
              "      border: none;\n",
              "      border-radius: 50%;\n",
              "      cursor: pointer;\n",
              "      display: none;\n",
              "      fill: #1967D2;\n",
              "      height: 32px;\n",
              "      padding: 0 0 0 0;\n",
              "      width: 32px;\n",
              "    }\n",
              "\n",
              "    .colab-df-convert:hover {\n",
              "      background-color: #E2EBFA;\n",
              "      box-shadow: 0px 1px 2px rgba(60, 64, 67, 0.3), 0px 1px 3px 1px rgba(60, 64, 67, 0.15);\n",
              "      fill: #174EA6;\n",
              "    }\n",
              "\n",
              "    [theme=dark] .colab-df-convert {\n",
              "      background-color: #3B4455;\n",
              "      fill: #D2E3FC;\n",
              "    }\n",
              "\n",
              "    [theme=dark] .colab-df-convert:hover {\n",
              "      background-color: #434B5C;\n",
              "      box-shadow: 0px 1px 3px 1px rgba(0, 0, 0, 0.15);\n",
              "      filter: drop-shadow(0px 1px 2px rgba(0, 0, 0, 0.3));\n",
              "      fill: #FFFFFF;\n",
              "    }\n",
              "  </style>\n",
              "\n",
              "      <script>\n",
              "        const buttonEl =\n",
              "          document.querySelector('#df-806495ed-4241-4109-a475-2cd0c1bb27e6 button.colab-df-convert');\n",
              "        buttonEl.style.display =\n",
              "          google.colab.kernel.accessAllowed ? 'block' : 'none';\n",
              "\n",
              "        async function convertToInteractive(key) {\n",
              "          const element = document.querySelector('#df-806495ed-4241-4109-a475-2cd0c1bb27e6');\n",
              "          const dataTable =\n",
              "            await google.colab.kernel.invokeFunction('convertToInteractive',\n",
              "                                                     [key], {});\n",
              "          if (!dataTable) return;\n",
              "\n",
              "          const docLinkHtml = 'Like what you see? Visit the ' +\n",
              "            '<a target=\"_blank\" href=https://colab.research.google.com/notebooks/data_table.ipynb>data table notebook</a>'\n",
              "            + ' to learn more about interactive tables.';\n",
              "          element.innerHTML = '';\n",
              "          dataTable['output_type'] = 'display_data';\n",
              "          await google.colab.output.renderOutput(dataTable, element);\n",
              "          const docLink = document.createElement('div');\n",
              "          docLink.innerHTML = docLinkHtml;\n",
              "          element.appendChild(docLink);\n",
              "        }\n",
              "      </script>\n",
              "    </div>\n",
              "  </div>\n"
            ]
          },
          "metadata": {},
          "execution_count": 505
        }
      ],
      "id": "gaDLWFDP90kh"
    },
    {
      "cell_type": "markdown",
      "source": [
        "Convert 'Name' to uppercase:"
      ],
      "metadata": {
        "id": "sbyW7iSVKFLM"
      },
      "id": "sbyW7iSVKFLM"
    },
    {
      "cell_type": "code",
      "source": [
        "df['Name'] = df['Name'].apply(lambda x:x.upper())\n",
        "df"
      ],
      "metadata": {
        "id": "FFMk71FV90e4",
        "colab": {
          "base_uri": "https://localhost:8080/",
          "height": 144
        },
        "outputId": "70cc6365-e45b-40f1-cea6-0047b4253fd2"
      },
      "execution_count": null,
      "outputs": [
        {
          "output_type": "execute_result",
          "data": {
            "text/plain": [
              "      Name  Age  Salary\n",
              "0    ALICE   25   60000\n",
              "1      BOB   30   70000\n",
              "2  CHARLIE   35   80000"
            ],
            "text/html": [
              "\n",
              "\n",
              "  <div id=\"df-18cc06f6-6ea3-458e-9070-2b349d31bc72\">\n",
              "    <div class=\"colab-df-container\">\n",
              "      <div>\n",
              "<style scoped>\n",
              "    .dataframe tbody tr th:only-of-type {\n",
              "        vertical-align: middle;\n",
              "    }\n",
              "\n",
              "    .dataframe tbody tr th {\n",
              "        vertical-align: top;\n",
              "    }\n",
              "\n",
              "    .dataframe thead th {\n",
              "        text-align: right;\n",
              "    }\n",
              "</style>\n",
              "<table border=\"1\" class=\"dataframe\">\n",
              "  <thead>\n",
              "    <tr style=\"text-align: right;\">\n",
              "      <th></th>\n",
              "      <th>Name</th>\n",
              "      <th>Age</th>\n",
              "      <th>Salary</th>\n",
              "    </tr>\n",
              "  </thead>\n",
              "  <tbody>\n",
              "    <tr>\n",
              "      <th>0</th>\n",
              "      <td>ALICE</td>\n",
              "      <td>25</td>\n",
              "      <td>60000</td>\n",
              "    </tr>\n",
              "    <tr>\n",
              "      <th>1</th>\n",
              "      <td>BOB</td>\n",
              "      <td>30</td>\n",
              "      <td>70000</td>\n",
              "    </tr>\n",
              "    <tr>\n",
              "      <th>2</th>\n",
              "      <td>CHARLIE</td>\n",
              "      <td>35</td>\n",
              "      <td>80000</td>\n",
              "    </tr>\n",
              "  </tbody>\n",
              "</table>\n",
              "</div>\n",
              "      <button class=\"colab-df-convert\" onclick=\"convertToInteractive('df-18cc06f6-6ea3-458e-9070-2b349d31bc72')\"\n",
              "              title=\"Convert this dataframe to an interactive table.\"\n",
              "              style=\"display:none;\">\n",
              "\n",
              "  <svg xmlns=\"http://www.w3.org/2000/svg\" height=\"24px\"viewBox=\"0 0 24 24\"\n",
              "       width=\"24px\">\n",
              "    <path d=\"M0 0h24v24H0V0z\" fill=\"none\"/>\n",
              "    <path d=\"M18.56 5.44l.94 2.06.94-2.06 2.06-.94-2.06-.94-.94-2.06-.94 2.06-2.06.94zm-11 1L8.5 8.5l.94-2.06 2.06-.94-2.06-.94L8.5 2.5l-.94 2.06-2.06.94zm10 10l.94 2.06.94-2.06 2.06-.94-2.06-.94-.94-2.06-.94 2.06-2.06.94z\"/><path d=\"M17.41 7.96l-1.37-1.37c-.4-.4-.92-.59-1.43-.59-.52 0-1.04.2-1.43.59L10.3 9.45l-7.72 7.72c-.78.78-.78 2.05 0 2.83L4 21.41c.39.39.9.59 1.41.59.51 0 1.02-.2 1.41-.59l7.78-7.78 2.81-2.81c.8-.78.8-2.07 0-2.86zM5.41 20L4 18.59l7.72-7.72 1.47 1.35L5.41 20z\"/>\n",
              "  </svg>\n",
              "      </button>\n",
              "\n",
              "\n",
              "\n",
              "    <div id=\"df-3dcd7d12-60cb-49a2-acb2-7980cf71bac1\">\n",
              "      <button class=\"colab-df-quickchart\" onclick=\"quickchart('df-3dcd7d12-60cb-49a2-acb2-7980cf71bac1')\"\n",
              "              title=\"Suggest charts.\"\n",
              "              style=\"display:none;\">\n",
              "\n",
              "<svg xmlns=\"http://www.w3.org/2000/svg\" height=\"24px\"viewBox=\"0 0 24 24\"\n",
              "     width=\"24px\">\n",
              "    <g>\n",
              "        <path d=\"M19 3H5c-1.1 0-2 .9-2 2v14c0 1.1.9 2 2 2h14c1.1 0 2-.9 2-2V5c0-1.1-.9-2-2-2zM9 17H7v-7h2v7zm4 0h-2V7h2v10zm4 0h-2v-4h2v4z\"/>\n",
              "    </g>\n",
              "</svg>\n",
              "      </button>\n",
              "    </div>\n",
              "\n",
              "<style>\n",
              "  .colab-df-quickchart {\n",
              "    background-color: #E8F0FE;\n",
              "    border: none;\n",
              "    border-radius: 50%;\n",
              "    cursor: pointer;\n",
              "    display: none;\n",
              "    fill: #1967D2;\n",
              "    height: 32px;\n",
              "    padding: 0 0 0 0;\n",
              "    width: 32px;\n",
              "  }\n",
              "\n",
              "  .colab-df-quickchart:hover {\n",
              "    background-color: #E2EBFA;\n",
              "    box-shadow: 0px 1px 2px rgba(60, 64, 67, 0.3), 0px 1px 3px 1px rgba(60, 64, 67, 0.15);\n",
              "    fill: #174EA6;\n",
              "  }\n",
              "\n",
              "  [theme=dark] .colab-df-quickchart {\n",
              "    background-color: #3B4455;\n",
              "    fill: #D2E3FC;\n",
              "  }\n",
              "\n",
              "  [theme=dark] .colab-df-quickchart:hover {\n",
              "    background-color: #434B5C;\n",
              "    box-shadow: 0px 1px 3px 1px rgba(0, 0, 0, 0.15);\n",
              "    filter: drop-shadow(0px 1px 2px rgba(0, 0, 0, 0.3));\n",
              "    fill: #FFFFFF;\n",
              "  }\n",
              "</style>\n",
              "\n",
              "    <script>\n",
              "      async function quickchart(key) {\n",
              "        const containerElement = document.querySelector('#' + key);\n",
              "        const charts = await google.colab.kernel.invokeFunction(\n",
              "            'suggestCharts', [key], {});\n",
              "      }\n",
              "    </script>\n",
              "\n",
              "      <script>\n",
              "\n",
              "function displayQuickchartButton(domScope) {\n",
              "  let quickchartButtonEl =\n",
              "    domScope.querySelector('#df-3dcd7d12-60cb-49a2-acb2-7980cf71bac1 button.colab-df-quickchart');\n",
              "  quickchartButtonEl.style.display =\n",
              "    google.colab.kernel.accessAllowed ? 'block' : 'none';\n",
              "}\n",
              "\n",
              "        displayQuickchartButton(document);\n",
              "      </script>\n",
              "      <style>\n",
              "    .colab-df-container {\n",
              "      display:flex;\n",
              "      flex-wrap:wrap;\n",
              "      gap: 12px;\n",
              "    }\n",
              "\n",
              "    .colab-df-convert {\n",
              "      background-color: #E8F0FE;\n",
              "      border: none;\n",
              "      border-radius: 50%;\n",
              "      cursor: pointer;\n",
              "      display: none;\n",
              "      fill: #1967D2;\n",
              "      height: 32px;\n",
              "      padding: 0 0 0 0;\n",
              "      width: 32px;\n",
              "    }\n",
              "\n",
              "    .colab-df-convert:hover {\n",
              "      background-color: #E2EBFA;\n",
              "      box-shadow: 0px 1px 2px rgba(60, 64, 67, 0.3), 0px 1px 3px 1px rgba(60, 64, 67, 0.15);\n",
              "      fill: #174EA6;\n",
              "    }\n",
              "\n",
              "    [theme=dark] .colab-df-convert {\n",
              "      background-color: #3B4455;\n",
              "      fill: #D2E3FC;\n",
              "    }\n",
              "\n",
              "    [theme=dark] .colab-df-convert:hover {\n",
              "      background-color: #434B5C;\n",
              "      box-shadow: 0px 1px 3px 1px rgba(0, 0, 0, 0.15);\n",
              "      filter: drop-shadow(0px 1px 2px rgba(0, 0, 0, 0.3));\n",
              "      fill: #FFFFFF;\n",
              "    }\n",
              "  </style>\n",
              "\n",
              "      <script>\n",
              "        const buttonEl =\n",
              "          document.querySelector('#df-18cc06f6-6ea3-458e-9070-2b349d31bc72 button.colab-df-convert');\n",
              "        buttonEl.style.display =\n",
              "          google.colab.kernel.accessAllowed ? 'block' : 'none';\n",
              "\n",
              "        async function convertToInteractive(key) {\n",
              "          const element = document.querySelector('#df-18cc06f6-6ea3-458e-9070-2b349d31bc72');\n",
              "          const dataTable =\n",
              "            await google.colab.kernel.invokeFunction('convertToInteractive',\n",
              "                                                     [key], {});\n",
              "          if (!dataTable) return;\n",
              "\n",
              "          const docLinkHtml = 'Like what you see? Visit the ' +\n",
              "            '<a target=\"_blank\" href=https://colab.research.google.com/notebooks/data_table.ipynb>data table notebook</a>'\n",
              "            + ' to learn more about interactive tables.';\n",
              "          element.innerHTML = '';\n",
              "          dataTable['output_type'] = 'display_data';\n",
              "          await google.colab.output.renderOutput(dataTable, element);\n",
              "          const docLink = document.createElement('div');\n",
              "          docLink.innerHTML = docLinkHtml;\n",
              "          element.appendChild(docLink);\n",
              "        }\n",
              "      </script>\n",
              "    </div>\n",
              "  </div>\n"
            ]
          },
          "metadata": {},
          "execution_count": 506
        }
      ],
      "id": "FFMk71FV90e4"
    },
    {
      "cell_type": "markdown",
      "source": [
        "Calculate net worth:"
      ],
      "metadata": {
        "id": "F_NnE-1HKF_L"
      },
      "id": "F_NnE-1HKF_L"
    },
    {
      "cell_type": "code",
      "source": [
        "def net_worth(row):\n",
        "  salary = row['Salary']\n",
        "  tax = 0.1*salary\n",
        "  return salary - tax\n",
        "\n",
        "\n",
        "df['NetWorth'] = df.apply(net_worth,axis = 1)"
      ],
      "metadata": {
        "id": "q1UqGn9q90ZC"
      },
      "execution_count": null,
      "outputs": [],
      "id": "q1UqGn9q90ZC"
    },
    {
      "cell_type": "code",
      "source": [
        "df"
      ],
      "metadata": {
        "id": "OLmUYystKj1f",
        "colab": {
          "base_uri": "https://localhost:8080/",
          "height": 144
        },
        "outputId": "bb8527a6-0ccd-407b-a853-86982f41a809"
      },
      "id": "OLmUYystKj1f",
      "execution_count": null,
      "outputs": [
        {
          "output_type": "execute_result",
          "data": {
            "text/plain": [
              "      Name  Age  Salary  NetWorth\n",
              "0    ALICE   25   60000   54000.0\n",
              "1      BOB   30   70000   63000.0\n",
              "2  CHARLIE   35   80000   72000.0"
            ],
            "text/html": [
              "\n",
              "\n",
              "  <div id=\"df-8a7c4717-3825-4295-a1ba-abbe0e35e118\">\n",
              "    <div class=\"colab-df-container\">\n",
              "      <div>\n",
              "<style scoped>\n",
              "    .dataframe tbody tr th:only-of-type {\n",
              "        vertical-align: middle;\n",
              "    }\n",
              "\n",
              "    .dataframe tbody tr th {\n",
              "        vertical-align: top;\n",
              "    }\n",
              "\n",
              "    .dataframe thead th {\n",
              "        text-align: right;\n",
              "    }\n",
              "</style>\n",
              "<table border=\"1\" class=\"dataframe\">\n",
              "  <thead>\n",
              "    <tr style=\"text-align: right;\">\n",
              "      <th></th>\n",
              "      <th>Name</th>\n",
              "      <th>Age</th>\n",
              "      <th>Salary</th>\n",
              "      <th>NetWorth</th>\n",
              "    </tr>\n",
              "  </thead>\n",
              "  <tbody>\n",
              "    <tr>\n",
              "      <th>0</th>\n",
              "      <td>ALICE</td>\n",
              "      <td>25</td>\n",
              "      <td>60000</td>\n",
              "      <td>54000.0</td>\n",
              "    </tr>\n",
              "    <tr>\n",
              "      <th>1</th>\n",
              "      <td>BOB</td>\n",
              "      <td>30</td>\n",
              "      <td>70000</td>\n",
              "      <td>63000.0</td>\n",
              "    </tr>\n",
              "    <tr>\n",
              "      <th>2</th>\n",
              "      <td>CHARLIE</td>\n",
              "      <td>35</td>\n",
              "      <td>80000</td>\n",
              "      <td>72000.0</td>\n",
              "    </tr>\n",
              "  </tbody>\n",
              "</table>\n",
              "</div>\n",
              "      <button class=\"colab-df-convert\" onclick=\"convertToInteractive('df-8a7c4717-3825-4295-a1ba-abbe0e35e118')\"\n",
              "              title=\"Convert this dataframe to an interactive table.\"\n",
              "              style=\"display:none;\">\n",
              "\n",
              "  <svg xmlns=\"http://www.w3.org/2000/svg\" height=\"24px\"viewBox=\"0 0 24 24\"\n",
              "       width=\"24px\">\n",
              "    <path d=\"M0 0h24v24H0V0z\" fill=\"none\"/>\n",
              "    <path d=\"M18.56 5.44l.94 2.06.94-2.06 2.06-.94-2.06-.94-.94-2.06-.94 2.06-2.06.94zm-11 1L8.5 8.5l.94-2.06 2.06-.94-2.06-.94L8.5 2.5l-.94 2.06-2.06.94zm10 10l.94 2.06.94-2.06 2.06-.94-2.06-.94-.94-2.06-.94 2.06-2.06.94z\"/><path d=\"M17.41 7.96l-1.37-1.37c-.4-.4-.92-.59-1.43-.59-.52 0-1.04.2-1.43.59L10.3 9.45l-7.72 7.72c-.78.78-.78 2.05 0 2.83L4 21.41c.39.39.9.59 1.41.59.51 0 1.02-.2 1.41-.59l7.78-7.78 2.81-2.81c.8-.78.8-2.07 0-2.86zM5.41 20L4 18.59l7.72-7.72 1.47 1.35L5.41 20z\"/>\n",
              "  </svg>\n",
              "      </button>\n",
              "\n",
              "\n",
              "\n",
              "    <div id=\"df-06a4d65e-8e3b-418c-bdfe-2308f6b9bf4b\">\n",
              "      <button class=\"colab-df-quickchart\" onclick=\"quickchart('df-06a4d65e-8e3b-418c-bdfe-2308f6b9bf4b')\"\n",
              "              title=\"Suggest charts.\"\n",
              "              style=\"display:none;\">\n",
              "\n",
              "<svg xmlns=\"http://www.w3.org/2000/svg\" height=\"24px\"viewBox=\"0 0 24 24\"\n",
              "     width=\"24px\">\n",
              "    <g>\n",
              "        <path d=\"M19 3H5c-1.1 0-2 .9-2 2v14c0 1.1.9 2 2 2h14c1.1 0 2-.9 2-2V5c0-1.1-.9-2-2-2zM9 17H7v-7h2v7zm4 0h-2V7h2v10zm4 0h-2v-4h2v4z\"/>\n",
              "    </g>\n",
              "</svg>\n",
              "      </button>\n",
              "    </div>\n",
              "\n",
              "<style>\n",
              "  .colab-df-quickchart {\n",
              "    background-color: #E8F0FE;\n",
              "    border: none;\n",
              "    border-radius: 50%;\n",
              "    cursor: pointer;\n",
              "    display: none;\n",
              "    fill: #1967D2;\n",
              "    height: 32px;\n",
              "    padding: 0 0 0 0;\n",
              "    width: 32px;\n",
              "  }\n",
              "\n",
              "  .colab-df-quickchart:hover {\n",
              "    background-color: #E2EBFA;\n",
              "    box-shadow: 0px 1px 2px rgba(60, 64, 67, 0.3), 0px 1px 3px 1px rgba(60, 64, 67, 0.15);\n",
              "    fill: #174EA6;\n",
              "  }\n",
              "\n",
              "  [theme=dark] .colab-df-quickchart {\n",
              "    background-color: #3B4455;\n",
              "    fill: #D2E3FC;\n",
              "  }\n",
              "\n",
              "  [theme=dark] .colab-df-quickchart:hover {\n",
              "    background-color: #434B5C;\n",
              "    box-shadow: 0px 1px 3px 1px rgba(0, 0, 0, 0.15);\n",
              "    filter: drop-shadow(0px 1px 2px rgba(0, 0, 0, 0.3));\n",
              "    fill: #FFFFFF;\n",
              "  }\n",
              "</style>\n",
              "\n",
              "    <script>\n",
              "      async function quickchart(key) {\n",
              "        const containerElement = document.querySelector('#' + key);\n",
              "        const charts = await google.colab.kernel.invokeFunction(\n",
              "            'suggestCharts', [key], {});\n",
              "      }\n",
              "    </script>\n",
              "\n",
              "      <script>\n",
              "\n",
              "function displayQuickchartButton(domScope) {\n",
              "  let quickchartButtonEl =\n",
              "    domScope.querySelector('#df-06a4d65e-8e3b-418c-bdfe-2308f6b9bf4b button.colab-df-quickchart');\n",
              "  quickchartButtonEl.style.display =\n",
              "    google.colab.kernel.accessAllowed ? 'block' : 'none';\n",
              "}\n",
              "\n",
              "        displayQuickchartButton(document);\n",
              "      </script>\n",
              "      <style>\n",
              "    .colab-df-container {\n",
              "      display:flex;\n",
              "      flex-wrap:wrap;\n",
              "      gap: 12px;\n",
              "    }\n",
              "\n",
              "    .colab-df-convert {\n",
              "      background-color: #E8F0FE;\n",
              "      border: none;\n",
              "      border-radius: 50%;\n",
              "      cursor: pointer;\n",
              "      display: none;\n",
              "      fill: #1967D2;\n",
              "      height: 32px;\n",
              "      padding: 0 0 0 0;\n",
              "      width: 32px;\n",
              "    }\n",
              "\n",
              "    .colab-df-convert:hover {\n",
              "      background-color: #E2EBFA;\n",
              "      box-shadow: 0px 1px 2px rgba(60, 64, 67, 0.3), 0px 1px 3px 1px rgba(60, 64, 67, 0.15);\n",
              "      fill: #174EA6;\n",
              "    }\n",
              "\n",
              "    [theme=dark] .colab-df-convert {\n",
              "      background-color: #3B4455;\n",
              "      fill: #D2E3FC;\n",
              "    }\n",
              "\n",
              "    [theme=dark] .colab-df-convert:hover {\n",
              "      background-color: #434B5C;\n",
              "      box-shadow: 0px 1px 3px 1px rgba(0, 0, 0, 0.15);\n",
              "      filter: drop-shadow(0px 1px 2px rgba(0, 0, 0, 0.3));\n",
              "      fill: #FFFFFF;\n",
              "    }\n",
              "  </style>\n",
              "\n",
              "      <script>\n",
              "        const buttonEl =\n",
              "          document.querySelector('#df-8a7c4717-3825-4295-a1ba-abbe0e35e118 button.colab-df-convert');\n",
              "        buttonEl.style.display =\n",
              "          google.colab.kernel.accessAllowed ? 'block' : 'none';\n",
              "\n",
              "        async function convertToInteractive(key) {\n",
              "          const element = document.querySelector('#df-8a7c4717-3825-4295-a1ba-abbe0e35e118');\n",
              "          const dataTable =\n",
              "            await google.colab.kernel.invokeFunction('convertToInteractive',\n",
              "                                                     [key], {});\n",
              "          if (!dataTable) return;\n",
              "\n",
              "          const docLinkHtml = 'Like what you see? Visit the ' +\n",
              "            '<a target=\"_blank\" href=https://colab.research.google.com/notebooks/data_table.ipynb>data table notebook</a>'\n",
              "            + ' to learn more about interactive tables.';\n",
              "          element.innerHTML = '';\n",
              "          dataTable['output_type'] = 'display_data';\n",
              "          await google.colab.output.renderOutput(dataTable, element);\n",
              "          const docLink = document.createElement('div');\n",
              "          docLink.innerHTML = docLinkHtml;\n",
              "          element.appendChild(docLink);\n",
              "        }\n",
              "      </script>\n",
              "    </div>\n",
              "  </div>\n"
            ]
          },
          "metadata": {},
          "execution_count": 508
        }
      ]
    },
    {
      "cell_type": "markdown",
      "source": [],
      "metadata": {
        "id": "CXniK6tqKG5O"
      },
      "id": "CXniK6tqKG5O"
    },
    {
      "cell_type": "code",
      "source": [
        "def cat(Salary):\n",
        "  if Salary > 60000:\n",
        "    return 'Civil'\n",
        "  if Salary > 70000:\n",
        "    return 'IT'\n",
        "\n",
        "df['Categories'] = df['Salary'].apply(cat)"
      ],
      "metadata": {
        "id": "qgO0KRtVIXfR"
      },
      "execution_count": null,
      "outputs": [],
      "id": "qgO0KRtVIXfR"
    },
    {
      "cell_type": "code",
      "source": [
        "df"
      ],
      "metadata": {
        "id": "rxFsqpiYKvXC",
        "colab": {
          "base_uri": "https://localhost:8080/",
          "height": 144
        },
        "outputId": "2aafec81-5d43-4b1d-eadf-b7418c08f45f"
      },
      "id": "rxFsqpiYKvXC",
      "execution_count": null,
      "outputs": [
        {
          "output_type": "execute_result",
          "data": {
            "text/plain": [
              "      Name  Age  Salary  NetWorth Categories\n",
              "0    ALICE   25   60000   54000.0       None\n",
              "1      BOB   30   70000   63000.0      Civil\n",
              "2  CHARLIE   35   80000   72000.0      Civil"
            ],
            "text/html": [
              "\n",
              "\n",
              "  <div id=\"df-4fd3e9f2-b802-4cf6-82e1-cf45cc09f806\">\n",
              "    <div class=\"colab-df-container\">\n",
              "      <div>\n",
              "<style scoped>\n",
              "    .dataframe tbody tr th:only-of-type {\n",
              "        vertical-align: middle;\n",
              "    }\n",
              "\n",
              "    .dataframe tbody tr th {\n",
              "        vertical-align: top;\n",
              "    }\n",
              "\n",
              "    .dataframe thead th {\n",
              "        text-align: right;\n",
              "    }\n",
              "</style>\n",
              "<table border=\"1\" class=\"dataframe\">\n",
              "  <thead>\n",
              "    <tr style=\"text-align: right;\">\n",
              "      <th></th>\n",
              "      <th>Name</th>\n",
              "      <th>Age</th>\n",
              "      <th>Salary</th>\n",
              "      <th>NetWorth</th>\n",
              "      <th>Categories</th>\n",
              "    </tr>\n",
              "  </thead>\n",
              "  <tbody>\n",
              "    <tr>\n",
              "      <th>0</th>\n",
              "      <td>ALICE</td>\n",
              "      <td>25</td>\n",
              "      <td>60000</td>\n",
              "      <td>54000.0</td>\n",
              "      <td>None</td>\n",
              "    </tr>\n",
              "    <tr>\n",
              "      <th>1</th>\n",
              "      <td>BOB</td>\n",
              "      <td>30</td>\n",
              "      <td>70000</td>\n",
              "      <td>63000.0</td>\n",
              "      <td>Civil</td>\n",
              "    </tr>\n",
              "    <tr>\n",
              "      <th>2</th>\n",
              "      <td>CHARLIE</td>\n",
              "      <td>35</td>\n",
              "      <td>80000</td>\n",
              "      <td>72000.0</td>\n",
              "      <td>Civil</td>\n",
              "    </tr>\n",
              "  </tbody>\n",
              "</table>\n",
              "</div>\n",
              "      <button class=\"colab-df-convert\" onclick=\"convertToInteractive('df-4fd3e9f2-b802-4cf6-82e1-cf45cc09f806')\"\n",
              "              title=\"Convert this dataframe to an interactive table.\"\n",
              "              style=\"display:none;\">\n",
              "\n",
              "  <svg xmlns=\"http://www.w3.org/2000/svg\" height=\"24px\"viewBox=\"0 0 24 24\"\n",
              "       width=\"24px\">\n",
              "    <path d=\"M0 0h24v24H0V0z\" fill=\"none\"/>\n",
              "    <path d=\"M18.56 5.44l.94 2.06.94-2.06 2.06-.94-2.06-.94-.94-2.06-.94 2.06-2.06.94zm-11 1L8.5 8.5l.94-2.06 2.06-.94-2.06-.94L8.5 2.5l-.94 2.06-2.06.94zm10 10l.94 2.06.94-2.06 2.06-.94-2.06-.94-.94-2.06-.94 2.06-2.06.94z\"/><path d=\"M17.41 7.96l-1.37-1.37c-.4-.4-.92-.59-1.43-.59-.52 0-1.04.2-1.43.59L10.3 9.45l-7.72 7.72c-.78.78-.78 2.05 0 2.83L4 21.41c.39.39.9.59 1.41.59.51 0 1.02-.2 1.41-.59l7.78-7.78 2.81-2.81c.8-.78.8-2.07 0-2.86zM5.41 20L4 18.59l7.72-7.72 1.47 1.35L5.41 20z\"/>\n",
              "  </svg>\n",
              "      </button>\n",
              "\n",
              "\n",
              "\n",
              "    <div id=\"df-7dbe50d6-45ee-4cbb-89e0-14fe6e3921b9\">\n",
              "      <button class=\"colab-df-quickchart\" onclick=\"quickchart('df-7dbe50d6-45ee-4cbb-89e0-14fe6e3921b9')\"\n",
              "              title=\"Suggest charts.\"\n",
              "              style=\"display:none;\">\n",
              "\n",
              "<svg xmlns=\"http://www.w3.org/2000/svg\" height=\"24px\"viewBox=\"0 0 24 24\"\n",
              "     width=\"24px\">\n",
              "    <g>\n",
              "        <path d=\"M19 3H5c-1.1 0-2 .9-2 2v14c0 1.1.9 2 2 2h14c1.1 0 2-.9 2-2V5c0-1.1-.9-2-2-2zM9 17H7v-7h2v7zm4 0h-2V7h2v10zm4 0h-2v-4h2v4z\"/>\n",
              "    </g>\n",
              "</svg>\n",
              "      </button>\n",
              "    </div>\n",
              "\n",
              "<style>\n",
              "  .colab-df-quickchart {\n",
              "    background-color: #E8F0FE;\n",
              "    border: none;\n",
              "    border-radius: 50%;\n",
              "    cursor: pointer;\n",
              "    display: none;\n",
              "    fill: #1967D2;\n",
              "    height: 32px;\n",
              "    padding: 0 0 0 0;\n",
              "    width: 32px;\n",
              "  }\n",
              "\n",
              "  .colab-df-quickchart:hover {\n",
              "    background-color: #E2EBFA;\n",
              "    box-shadow: 0px 1px 2px rgba(60, 64, 67, 0.3), 0px 1px 3px 1px rgba(60, 64, 67, 0.15);\n",
              "    fill: #174EA6;\n",
              "  }\n",
              "\n",
              "  [theme=dark] .colab-df-quickchart {\n",
              "    background-color: #3B4455;\n",
              "    fill: #D2E3FC;\n",
              "  }\n",
              "\n",
              "  [theme=dark] .colab-df-quickchart:hover {\n",
              "    background-color: #434B5C;\n",
              "    box-shadow: 0px 1px 3px 1px rgba(0, 0, 0, 0.15);\n",
              "    filter: drop-shadow(0px 1px 2px rgba(0, 0, 0, 0.3));\n",
              "    fill: #FFFFFF;\n",
              "  }\n",
              "</style>\n",
              "\n",
              "    <script>\n",
              "      async function quickchart(key) {\n",
              "        const containerElement = document.querySelector('#' + key);\n",
              "        const charts = await google.colab.kernel.invokeFunction(\n",
              "            'suggestCharts', [key], {});\n",
              "      }\n",
              "    </script>\n",
              "\n",
              "      <script>\n",
              "\n",
              "function displayQuickchartButton(domScope) {\n",
              "  let quickchartButtonEl =\n",
              "    domScope.querySelector('#df-7dbe50d6-45ee-4cbb-89e0-14fe6e3921b9 button.colab-df-quickchart');\n",
              "  quickchartButtonEl.style.display =\n",
              "    google.colab.kernel.accessAllowed ? 'block' : 'none';\n",
              "}\n",
              "\n",
              "        displayQuickchartButton(document);\n",
              "      </script>\n",
              "      <style>\n",
              "    .colab-df-container {\n",
              "      display:flex;\n",
              "      flex-wrap:wrap;\n",
              "      gap: 12px;\n",
              "    }\n",
              "\n",
              "    .colab-df-convert {\n",
              "      background-color: #E8F0FE;\n",
              "      border: none;\n",
              "      border-radius: 50%;\n",
              "      cursor: pointer;\n",
              "      display: none;\n",
              "      fill: #1967D2;\n",
              "      height: 32px;\n",
              "      padding: 0 0 0 0;\n",
              "      width: 32px;\n",
              "    }\n",
              "\n",
              "    .colab-df-convert:hover {\n",
              "      background-color: #E2EBFA;\n",
              "      box-shadow: 0px 1px 2px rgba(60, 64, 67, 0.3), 0px 1px 3px 1px rgba(60, 64, 67, 0.15);\n",
              "      fill: #174EA6;\n",
              "    }\n",
              "\n",
              "    [theme=dark] .colab-df-convert {\n",
              "      background-color: #3B4455;\n",
              "      fill: #D2E3FC;\n",
              "    }\n",
              "\n",
              "    [theme=dark] .colab-df-convert:hover {\n",
              "      background-color: #434B5C;\n",
              "      box-shadow: 0px 1px 3px 1px rgba(0, 0, 0, 0.15);\n",
              "      filter: drop-shadow(0px 1px 2px rgba(0, 0, 0, 0.3));\n",
              "      fill: #FFFFFF;\n",
              "    }\n",
              "  </style>\n",
              "\n",
              "      <script>\n",
              "        const buttonEl =\n",
              "          document.querySelector('#df-4fd3e9f2-b802-4cf6-82e1-cf45cc09f806 button.colab-df-convert');\n",
              "        buttonEl.style.display =\n",
              "          google.colab.kernel.accessAllowed ? 'block' : 'none';\n",
              "\n",
              "        async function convertToInteractive(key) {\n",
              "          const element = document.querySelector('#df-4fd3e9f2-b802-4cf6-82e1-cf45cc09f806');\n",
              "          const dataTable =\n",
              "            await google.colab.kernel.invokeFunction('convertToInteractive',\n",
              "                                                     [key], {});\n",
              "          if (!dataTable) return;\n",
              "\n",
              "          const docLinkHtml = 'Like what you see? Visit the ' +\n",
              "            '<a target=\"_blank\" href=https://colab.research.google.com/notebooks/data_table.ipynb>data table notebook</a>'\n",
              "            + ' to learn more about interactive tables.';\n",
              "          element.innerHTML = '';\n",
              "          dataTable['output_type'] = 'display_data';\n",
              "          await google.colab.output.renderOutput(dataTable, element);\n",
              "          const docLink = document.createElement('div');\n",
              "          docLink.innerHTML = docLinkHtml;\n",
              "          element.appendChild(docLink);\n",
              "        }\n",
              "      </script>\n",
              "    </div>\n",
              "  </div>\n"
            ]
          },
          "metadata": {},
          "execution_count": 510
        }
      ]
    },
    {
      "cell_type": "markdown",
      "source": [],
      "metadata": {
        "id": "-bjxKcTUKu89"
      },
      "id": "-bjxKcTUKu89"
    },
    {
      "cell_type": "markdown",
      "source": [],
      "metadata": {
        "id": "5qP93EUdKHvl"
      },
      "id": "5qP93EUdKHvl"
    },
    {
      "cell_type": "code",
      "source": [
        "def categorize_age(age):\n",
        "    if age < 30:\n",
        "        return 'Young'\n",
        "    else:\n",
        "        return 'Old'\n",
        "\n",
        "df['Age Category'] = df['Age'].apply(categorize_age)"
      ],
      "metadata": {
        "id": "K0_JiSw-bPxQ"
      },
      "id": "K0_JiSw-bPxQ",
      "execution_count": null,
      "outputs": []
    },
    {
      "cell_type": "code",
      "source": [
        "df"
      ],
      "metadata": {
        "id": "QOV_Us_LbPtk",
        "colab": {
          "base_uri": "https://localhost:8080/",
          "height": 144
        },
        "outputId": "a64cf0a0-b817-4e33-8514-49ba3e580aa7"
      },
      "id": "QOV_Us_LbPtk",
      "execution_count": null,
      "outputs": [
        {
          "output_type": "execute_result",
          "data": {
            "text/plain": [
              "      Name  Age  Salary  NetWorth Categories Age Category\n",
              "0    ALICE   25   60000   54000.0       None        Young\n",
              "1      BOB   30   70000   63000.0      Civil          Old\n",
              "2  CHARLIE   35   80000   72000.0      Civil          Old"
            ],
            "text/html": [
              "\n",
              "\n",
              "  <div id=\"df-9d05cc29-4d70-43f0-a54f-a608279735be\">\n",
              "    <div class=\"colab-df-container\">\n",
              "      <div>\n",
              "<style scoped>\n",
              "    .dataframe tbody tr th:only-of-type {\n",
              "        vertical-align: middle;\n",
              "    }\n",
              "\n",
              "    .dataframe tbody tr th {\n",
              "        vertical-align: top;\n",
              "    }\n",
              "\n",
              "    .dataframe thead th {\n",
              "        text-align: right;\n",
              "    }\n",
              "</style>\n",
              "<table border=\"1\" class=\"dataframe\">\n",
              "  <thead>\n",
              "    <tr style=\"text-align: right;\">\n",
              "      <th></th>\n",
              "      <th>Name</th>\n",
              "      <th>Age</th>\n",
              "      <th>Salary</th>\n",
              "      <th>NetWorth</th>\n",
              "      <th>Categories</th>\n",
              "      <th>Age Category</th>\n",
              "    </tr>\n",
              "  </thead>\n",
              "  <tbody>\n",
              "    <tr>\n",
              "      <th>0</th>\n",
              "      <td>ALICE</td>\n",
              "      <td>25</td>\n",
              "      <td>60000</td>\n",
              "      <td>54000.0</td>\n",
              "      <td>None</td>\n",
              "      <td>Young</td>\n",
              "    </tr>\n",
              "    <tr>\n",
              "      <th>1</th>\n",
              "      <td>BOB</td>\n",
              "      <td>30</td>\n",
              "      <td>70000</td>\n",
              "      <td>63000.0</td>\n",
              "      <td>Civil</td>\n",
              "      <td>Old</td>\n",
              "    </tr>\n",
              "    <tr>\n",
              "      <th>2</th>\n",
              "      <td>CHARLIE</td>\n",
              "      <td>35</td>\n",
              "      <td>80000</td>\n",
              "      <td>72000.0</td>\n",
              "      <td>Civil</td>\n",
              "      <td>Old</td>\n",
              "    </tr>\n",
              "  </tbody>\n",
              "</table>\n",
              "</div>\n",
              "      <button class=\"colab-df-convert\" onclick=\"convertToInteractive('df-9d05cc29-4d70-43f0-a54f-a608279735be')\"\n",
              "              title=\"Convert this dataframe to an interactive table.\"\n",
              "              style=\"display:none;\">\n",
              "\n",
              "  <svg xmlns=\"http://www.w3.org/2000/svg\" height=\"24px\"viewBox=\"0 0 24 24\"\n",
              "       width=\"24px\">\n",
              "    <path d=\"M0 0h24v24H0V0z\" fill=\"none\"/>\n",
              "    <path d=\"M18.56 5.44l.94 2.06.94-2.06 2.06-.94-2.06-.94-.94-2.06-.94 2.06-2.06.94zm-11 1L8.5 8.5l.94-2.06 2.06-.94-2.06-.94L8.5 2.5l-.94 2.06-2.06.94zm10 10l.94 2.06.94-2.06 2.06-.94-2.06-.94-.94-2.06-.94 2.06-2.06.94z\"/><path d=\"M17.41 7.96l-1.37-1.37c-.4-.4-.92-.59-1.43-.59-.52 0-1.04.2-1.43.59L10.3 9.45l-7.72 7.72c-.78.78-.78 2.05 0 2.83L4 21.41c.39.39.9.59 1.41.59.51 0 1.02-.2 1.41-.59l7.78-7.78 2.81-2.81c.8-.78.8-2.07 0-2.86zM5.41 20L4 18.59l7.72-7.72 1.47 1.35L5.41 20z\"/>\n",
              "  </svg>\n",
              "      </button>\n",
              "\n",
              "\n",
              "\n",
              "    <div id=\"df-0c491c0f-38a2-4772-855f-d5af13c952af\">\n",
              "      <button class=\"colab-df-quickchart\" onclick=\"quickchart('df-0c491c0f-38a2-4772-855f-d5af13c952af')\"\n",
              "              title=\"Suggest charts.\"\n",
              "              style=\"display:none;\">\n",
              "\n",
              "<svg xmlns=\"http://www.w3.org/2000/svg\" height=\"24px\"viewBox=\"0 0 24 24\"\n",
              "     width=\"24px\">\n",
              "    <g>\n",
              "        <path d=\"M19 3H5c-1.1 0-2 .9-2 2v14c0 1.1.9 2 2 2h14c1.1 0 2-.9 2-2V5c0-1.1-.9-2-2-2zM9 17H7v-7h2v7zm4 0h-2V7h2v10zm4 0h-2v-4h2v4z\"/>\n",
              "    </g>\n",
              "</svg>\n",
              "      </button>\n",
              "    </div>\n",
              "\n",
              "<style>\n",
              "  .colab-df-quickchart {\n",
              "    background-color: #E8F0FE;\n",
              "    border: none;\n",
              "    border-radius: 50%;\n",
              "    cursor: pointer;\n",
              "    display: none;\n",
              "    fill: #1967D2;\n",
              "    height: 32px;\n",
              "    padding: 0 0 0 0;\n",
              "    width: 32px;\n",
              "  }\n",
              "\n",
              "  .colab-df-quickchart:hover {\n",
              "    background-color: #E2EBFA;\n",
              "    box-shadow: 0px 1px 2px rgba(60, 64, 67, 0.3), 0px 1px 3px 1px rgba(60, 64, 67, 0.15);\n",
              "    fill: #174EA6;\n",
              "  }\n",
              "\n",
              "  [theme=dark] .colab-df-quickchart {\n",
              "    background-color: #3B4455;\n",
              "    fill: #D2E3FC;\n",
              "  }\n",
              "\n",
              "  [theme=dark] .colab-df-quickchart:hover {\n",
              "    background-color: #434B5C;\n",
              "    box-shadow: 0px 1px 3px 1px rgba(0, 0, 0, 0.15);\n",
              "    filter: drop-shadow(0px 1px 2px rgba(0, 0, 0, 0.3));\n",
              "    fill: #FFFFFF;\n",
              "  }\n",
              "</style>\n",
              "\n",
              "    <script>\n",
              "      async function quickchart(key) {\n",
              "        const containerElement = document.querySelector('#' + key);\n",
              "        const charts = await google.colab.kernel.invokeFunction(\n",
              "            'suggestCharts', [key], {});\n",
              "      }\n",
              "    </script>\n",
              "\n",
              "      <script>\n",
              "\n",
              "function displayQuickchartButton(domScope) {\n",
              "  let quickchartButtonEl =\n",
              "    domScope.querySelector('#df-0c491c0f-38a2-4772-855f-d5af13c952af button.colab-df-quickchart');\n",
              "  quickchartButtonEl.style.display =\n",
              "    google.colab.kernel.accessAllowed ? 'block' : 'none';\n",
              "}\n",
              "\n",
              "        displayQuickchartButton(document);\n",
              "      </script>\n",
              "      <style>\n",
              "    .colab-df-container {\n",
              "      display:flex;\n",
              "      flex-wrap:wrap;\n",
              "      gap: 12px;\n",
              "    }\n",
              "\n",
              "    .colab-df-convert {\n",
              "      background-color: #E8F0FE;\n",
              "      border: none;\n",
              "      border-radius: 50%;\n",
              "      cursor: pointer;\n",
              "      display: none;\n",
              "      fill: #1967D2;\n",
              "      height: 32px;\n",
              "      padding: 0 0 0 0;\n",
              "      width: 32px;\n",
              "    }\n",
              "\n",
              "    .colab-df-convert:hover {\n",
              "      background-color: #E2EBFA;\n",
              "      box-shadow: 0px 1px 2px rgba(60, 64, 67, 0.3), 0px 1px 3px 1px rgba(60, 64, 67, 0.15);\n",
              "      fill: #174EA6;\n",
              "    }\n",
              "\n",
              "    [theme=dark] .colab-df-convert {\n",
              "      background-color: #3B4455;\n",
              "      fill: #D2E3FC;\n",
              "    }\n",
              "\n",
              "    [theme=dark] .colab-df-convert:hover {\n",
              "      background-color: #434B5C;\n",
              "      box-shadow: 0px 1px 3px 1px rgba(0, 0, 0, 0.15);\n",
              "      filter: drop-shadow(0px 1px 2px rgba(0, 0, 0, 0.3));\n",
              "      fill: #FFFFFF;\n",
              "    }\n",
              "  </style>\n",
              "\n",
              "      <script>\n",
              "        const buttonEl =\n",
              "          document.querySelector('#df-9d05cc29-4d70-43f0-a54f-a608279735be button.colab-df-convert');\n",
              "        buttonEl.style.display =\n",
              "          google.colab.kernel.accessAllowed ? 'block' : 'none';\n",
              "\n",
              "        async function convertToInteractive(key) {\n",
              "          const element = document.querySelector('#df-9d05cc29-4d70-43f0-a54f-a608279735be');\n",
              "          const dataTable =\n",
              "            await google.colab.kernel.invokeFunction('convertToInteractive',\n",
              "                                                     [key], {});\n",
              "          if (!dataTable) return;\n",
              "\n",
              "          const docLinkHtml = 'Like what you see? Visit the ' +\n",
              "            '<a target=\"_blank\" href=https://colab.research.google.com/notebooks/data_table.ipynb>data table notebook</a>'\n",
              "            + ' to learn more about interactive tables.';\n",
              "          element.innerHTML = '';\n",
              "          dataTable['output_type'] = 'display_data';\n",
              "          await google.colab.output.renderOutput(dataTable, element);\n",
              "          const docLink = document.createElement('div');\n",
              "          docLink.innerHTML = docLinkHtml;\n",
              "          element.appendChild(docLink);\n",
              "        }\n",
              "      </script>\n",
              "    </div>\n",
              "  </div>\n"
            ]
          },
          "metadata": {},
          "execution_count": 512
        }
      ]
    },
    {
      "cell_type": "markdown",
      "source": [
        "# Numpy"
      ],
      "metadata": {
        "id": "AdWPhFrl8YWG"
      },
      "id": "AdWPhFrl8YWG"
    },
    {
      "cell_type": "code",
      "execution_count": null,
      "metadata": {
        "id": "27f763f8"
      },
      "outputs": [],
      "source": [
        "import numpy as np"
      ],
      "id": "27f763f8"
    },
    {
      "cell_type": "code",
      "source": [
        "#create array from list- 1D Prime no array\n",
        "prime_array=np.array([2,3,5,7,11])\n",
        "print(prime_array)"
      ],
      "metadata": {
        "id": "eegnB2Xe_ZlL",
        "colab": {
          "base_uri": "https://localhost:8080/"
        },
        "outputId": "60034b67-673a-44fc-8ab9-7e5a9008727b"
      },
      "id": "eegnB2Xe_ZlL",
      "execution_count": null,
      "outputs": [
        {
          "output_type": "stream",
          "name": "stdout",
          "text": [
            "[ 2  3  5  7 11]\n"
          ]
        }
      ]
    },
    {
      "cell_type": "code",
      "source": [
        "#check data type of prime_array\n",
        "type(prime_array)"
      ],
      "metadata": {
        "id": "c35_JYQE_sDQ",
        "colab": {
          "base_uri": "https://localhost:8080/"
        },
        "outputId": "4965aa02-976d-4001-ebed-95d973860297"
      },
      "id": "c35_JYQE_sDQ",
      "execution_count": null,
      "outputs": [
        {
          "output_type": "execute_result",
          "data": {
            "text/plain": [
              "numpy.ndarray"
            ]
          },
          "metadata": {},
          "execution_count": 515
        }
      ]
    },
    {
      "cell_type": "code",
      "source": [
        "#2D array\n",
        "two_D = np.array([[1,2,3],[4,5,6]])\n",
        "print(two_D)"
      ],
      "metadata": {
        "id": "BDDrOJ0w_sAd",
        "colab": {
          "base_uri": "https://localhost:8080/"
        },
        "outputId": "b823b836-3371-4130-b44e-d08495096220"
      },
      "id": "BDDrOJ0w_sAd",
      "execution_count": null,
      "outputs": [
        {
          "output_type": "stream",
          "name": "stdout",
          "text": [
            "[[1 2 3]\n",
            " [4 5 6]]\n"
          ]
        }
      ]
    },
    {
      "cell_type": "code",
      "source": [
        "two_D"
      ],
      "metadata": {
        "id": "ySUtOr_C_r9r",
        "colab": {
          "base_uri": "https://localhost:8080/"
        },
        "outputId": "ff65b53b-5b11-4a42-be56-5cd05f262f76"
      },
      "id": "ySUtOr_C_r9r",
      "execution_count": null,
      "outputs": [
        {
          "output_type": "execute_result",
          "data": {
            "text/plain": [
              "array([[1, 2, 3],\n",
              "       [4, 5, 6]])"
            ]
          },
          "metadata": {},
          "execution_count": 517
        }
      ]
    },
    {
      "cell_type": "code",
      "source": [
        "two_D.shape"
      ],
      "metadata": {
        "id": "BmcxQvx6_r7B",
        "colab": {
          "base_uri": "https://localhost:8080/"
        },
        "outputId": "f5479eed-63c7-4015-c777-219771566ff6"
      },
      "id": "BmcxQvx6_r7B",
      "execution_count": null,
      "outputs": [
        {
          "output_type": "execute_result",
          "data": {
            "text/plain": [
              "(2, 3)"
            ]
          },
          "metadata": {},
          "execution_count": 518
        }
      ]
    },
    {
      "cell_type": "code",
      "source": [
        "#create 3D array\n",
        "three_D = np.array([[[1,2,3],[4,5,6],[7,8,9]]])\n",
        "print(three_D)\n"
      ],
      "metadata": {
        "id": "nB1iNjAV_r4Y",
        "colab": {
          "base_uri": "https://localhost:8080/"
        },
        "outputId": "509519a4-6a34-45d4-9311-03d1a9de6290"
      },
      "id": "nB1iNjAV_r4Y",
      "execution_count": null,
      "outputs": [
        {
          "output_type": "stream",
          "name": "stdout",
          "text": [
            "[[[1 2 3]\n",
            "  [4 5 6]\n",
            "  [7 8 9]]]\n"
          ]
        }
      ]
    },
    {
      "cell_type": "code",
      "source": [
        "three_D.shape"
      ],
      "metadata": {
        "id": "KuulHMIn_r1-",
        "colab": {
          "base_uri": "https://localhost:8080/"
        },
        "outputId": "4a347cdb-cd3e-4090-8c0a-c9a90261bace"
      },
      "id": "KuulHMIn_r1-",
      "execution_count": null,
      "outputs": [
        {
          "output_type": "execute_result",
          "data": {
            "text/plain": [
              "(1, 3, 3)"
            ]
          },
          "metadata": {},
          "execution_count": 520
        }
      ]
    },
    {
      "cell_type": "markdown",
      "source": [
        "Array Inspection"
      ],
      "metadata": {
        "id": "6QaKnY6HBmGG"
      },
      "id": "6QaKnY6HBmGG"
    },
    {
      "cell_type": "code",
      "source": [
        "three_D"
      ],
      "metadata": {
        "id": "OQv6nJf5Byxj"
      },
      "id": "OQv6nJf5Byxj",
      "execution_count": null,
      "outputs": []
    },
    {
      "cell_type": "code",
      "source": [
        "#ndarray.shape\n",
        "three_D.shape     #(no of array, row, column)\n",
        "                  #(diamensions-1,nos,innernos)"
      ],
      "metadata": {
        "id": "wuZi9mXz_ry7",
        "colab": {
          "base_uri": "https://localhost:8080/"
        },
        "outputId": "7d0235ef-2e6e-41db-bec8-ea07e995b191"
      },
      "id": "wuZi9mXz_ry7",
      "execution_count": null,
      "outputs": [
        {
          "output_type": "execute_result",
          "data": {
            "text/plain": [
              "(1, 3, 3)"
            ]
          },
          "metadata": {},
          "execution_count": 521
        }
      ]
    },
    {
      "cell_type": "code",
      "source": [
        "two_D.shape"
      ],
      "metadata": {
        "id": "sr3yrmfV_rws"
      },
      "id": "sr3yrmfV_rws",
      "execution_count": null,
      "outputs": []
    },
    {
      "cell_type": "code",
      "source": [
        "#ndarray.ndin -- returns no of array dimensions\n",
        "three_D.ndim"
      ],
      "metadata": {
        "id": "oYrZ4FuA_rup",
        "colab": {
          "base_uri": "https://localhost:8080/"
        },
        "outputId": "dd299395-4a9f-4202-9052-f4988e9c490f"
      },
      "id": "oYrZ4FuA_rup",
      "execution_count": null,
      "outputs": [
        {
          "output_type": "execute_result",
          "data": {
            "text/plain": [
              "3"
            ]
          },
          "metadata": {},
          "execution_count": 522
        }
      ]
    },
    {
      "cell_type": "code",
      "source": [
        "two_D.ndim"
      ],
      "metadata": {
        "id": "uaSRLYJK_rsu"
      },
      "id": "uaSRLYJK_rsu",
      "execution_count": null,
      "outputs": []
    },
    {
      "cell_type": "code",
      "source": [
        "#ndarray.size -- total no of elements in array\n",
        "three_D.size\n"
      ],
      "metadata": {
        "id": "FN2lTUTb_rp7"
      },
      "id": "FN2lTUTb_rp7",
      "execution_count": null,
      "outputs": []
    },
    {
      "cell_type": "code",
      "source": [
        "two_D.size"
      ],
      "metadata": {
        "id": "OYJBna1X_rmM"
      },
      "id": "OYJBna1X_rmM",
      "execution_count": null,
      "outputs": []
    },
    {
      "cell_type": "code",
      "source": [
        "#ndarray.dtype---check data type of array\n",
        "three_D.dtype\n"
      ],
      "metadata": {
        "id": "LUu-Jr1U_rjZ"
      },
      "id": "LUu-Jr1U_rjZ",
      "execution_count": null,
      "outputs": []
    },
    {
      "cell_type": "code",
      "source": [
        "two_D.dtype"
      ],
      "metadata": {
        "id": "3AJvHm9M_rhF"
      },
      "id": "3AJvHm9M_rhF",
      "execution_count": null,
      "outputs": []
    },
    {
      "cell_type": "code",
      "source": [
        "#ndarray.astype----To change data type of array\n",
        "three_D=three_D.astype('float')\n",
        "\n",
        "three_D.dtype\n"
      ],
      "metadata": {
        "id": "egRofbfg_re5",
        "colab": {
          "base_uri": "https://localhost:8080/"
        },
        "outputId": "f33ff1fa-1418-4373-96c5-0e33feb9424f"
      },
      "id": "egRofbfg_re5",
      "execution_count": null,
      "outputs": [
        {
          "output_type": "execute_result",
          "data": {
            "text/plain": [
              "dtype('float64')"
            ]
          },
          "metadata": {},
          "execution_count": 523
        }
      ]
    },
    {
      "cell_type": "markdown",
      "source": [
        "Different Way of Creating Array"
      ],
      "metadata": {
        "id": "A2a7tRI10vyK"
      },
      "id": "A2a7tRI10vyK"
    },
    {
      "cell_type": "code",
      "source": [
        "#Array with specified shape\n",
        "uninitialized_array= np.empty([5,3],dtype=int)\n",
        "print(uninitialized_array)"
      ],
      "metadata": {
        "id": "_YVuzo2yII5h",
        "colab": {
          "base_uri": "https://localhost:8080/"
        },
        "outputId": "cf388b9b-de67-4caa-de87-85d8b3832dac"
      },
      "id": "_YVuzo2yII5h",
      "execution_count": null,
      "outputs": [
        {
          "output_type": "stream",
          "name": "stdout",
          "text": [
            "[[    133453516176720     133453516176720                   0]\n",
            " [                  0      97822175133696 8319683848551211643]\n",
            " [3180222411935070754 8391722768137527840 7959390389040738153]\n",
            " [3184944565236408948 7304682900672553504 8028074750225051768]\n",
            " [3205853888102167406 7020949612675473952                 128]]\n"
          ]
        }
      ]
    },
    {
      "cell_type": "code",
      "source": [
        "#initializing with zeros\n",
        "zeros_array = np.zeros((5,3)) #default data type float\n",
        "other_zero_array = np.zeros((4,3),dtype = int)\n",
        "print(zeros_array)\n",
        "print(other_zero_array)"
      ],
      "metadata": {
        "id": "UOtdxHqXII0R"
      },
      "id": "UOtdxHqXII0R",
      "execution_count": null,
      "outputs": []
    },
    {
      "cell_type": "code",
      "source": [
        "#initializing with zeros\n",
        "ones_array = np.ones((5,3)) #default data type float\n",
        "other_ones_array = np.ones((4,3),dtype = int)\n",
        "print(ones_array)\n",
        "print(other_ones_array)"
      ],
      "metadata": {
        "id": "8aLiZyWxIIuF"
      },
      "id": "8aLiZyWxIIuF",
      "execution_count": null,
      "outputs": []
    },
    {
      "cell_type": "markdown",
      "source": [
        "Array with range"
      ],
      "metadata": {
        "id": "FfztVXPx21Kh"
      },
      "id": "FfztVXPx21Kh"
    },
    {
      "cell_type": "code",
      "source": [
        "A = np.arange(10)\n",
        "print(A)"
      ],
      "metadata": {
        "id": "IMsf8REyIIrH"
      },
      "id": "IMsf8REyIIrH",
      "execution_count": null,
      "outputs": []
    },
    {
      "cell_type": "code",
      "source": [
        "B = np.arange(1,20,2) #(start,stop,step,dtpe)\n",
        "B"
      ],
      "metadata": {
        "id": "sgDfVWUXIIoN"
      },
      "id": "sgDfVWUXIIoN",
      "execution_count": null,
      "outputs": []
    },
    {
      "cell_type": "code",
      "source": [],
      "metadata": {
        "id": "b3Dp7q_SIIli"
      },
      "id": "b3Dp7q_SIIli",
      "execution_count": null,
      "outputs": []
    },
    {
      "cell_type": "code",
      "source": [
        "# to get values in even space\n",
        "\n",
        "A = np.linspace(10,20,9 , endpoint = False, retstep = True)\n",
        "A"
      ],
      "metadata": {
        "id": "nZVluKHKIIiS"
      },
      "id": "nZVluKHKIIiS",
      "execution_count": null,
      "outputs": []
    },
    {
      "cell_type": "markdown",
      "source": [
        "Array from random Nums"
      ],
      "metadata": {
        "id": "8mSgVwIi67DF"
      },
      "id": "8mSgVwIi67DF"
    },
    {
      "cell_type": "code",
      "source": [
        "A = np.random.random((4,5))\n",
        "print(A)"
      ],
      "metadata": {
        "id": "SHFThDpgIIfO"
      },
      "id": "SHFThDpgIIfO",
      "execution_count": null,
      "outputs": []
    },
    {
      "cell_type": "code",
      "source": [
        "B = np.random.randint(0,5,size=(2,3,4))\n",
        "print(B)"
      ],
      "metadata": {
        "id": "_U3LRI8k7KQR"
      },
      "id": "_U3LRI8k7KQR",
      "execution_count": null,
      "outputs": []
    },
    {
      "cell_type": "markdown",
      "source": [
        "Array with specified num"
      ],
      "metadata": {
        "id": "THiQo0zE7lf8"
      },
      "id": "THiQo0zE7lf8"
    },
    {
      "cell_type": "code",
      "source": [
        "a = np.full((3,3),30)   #---np.full(shape,value)\n",
        "print(a)"
      ],
      "metadata": {
        "id": "akJu9Dk-7KNo"
      },
      "id": "akJu9Dk-7KNo",
      "execution_count": null,
      "outputs": []
    },
    {
      "cell_type": "code",
      "source": [
        "a = np.ones((3,3))*30\n",
        "print(a)"
      ],
      "metadata": {
        "id": "4BCXG8z77KLJ"
      },
      "id": "4BCXG8z77KLJ",
      "execution_count": null,
      "outputs": []
    },
    {
      "cell_type": "code",
      "source": [
        "#identity matrix\n",
        "\n",
        "A = np.identity(3)\n",
        "print(A)"
      ],
      "metadata": {
        "id": "Towr5hGv7KIR"
      },
      "id": "Towr5hGv7KIR",
      "execution_count": null,
      "outputs": []
    },
    {
      "cell_type": "markdown",
      "source": [
        "Create Array from existing data."
      ],
      "metadata": {
        "id": "Plk7hoX_BWG4"
      },
      "id": "Plk7hoX_BWG4"
    },
    {
      "cell_type": "code",
      "source": [
        "# Convert list to array\n",
        "\n",
        "list1 = [1,2,3,4,5]\n",
        "array_for_list = np.asarray(list1)\n",
        "list1"
      ],
      "metadata": {
        "id": "IgVayDdr7KFW"
      },
      "id": "IgVayDdr7KFW",
      "execution_count": null,
      "outputs": []
    },
    {
      "cell_type": "code",
      "source": [
        "tuple1 = (1,2,3,4)\n",
        "array_for_tuple = np.asarray(tuple1)\n",
        "tuple1"
      ],
      "metadata": {
        "id": "PWooyRwuD4Nr"
      },
      "id": "PWooyRwuD4Nr",
      "execution_count": null,
      "outputs": []
    },
    {
      "cell_type": "markdown",
      "source": [
        "Indexing & Slicing"
      ],
      "metadata": {
        "id": "F2MZRJKqDO-i"
      },
      "id": "F2MZRJKqDO-i"
    },
    {
      "cell_type": "code",
      "source": [
        "a = np.arange(10)\n",
        "print(a)\n",
        "print(a[5])"
      ],
      "metadata": {
        "id": "fytP1-Vh7KB6"
      },
      "id": "fytP1-Vh7KB6",
      "execution_count": null,
      "outputs": []
    },
    {
      "cell_type": "code",
      "source": [
        "a[2:8]"
      ],
      "metadata": {
        "id": "ir6_tCV47J_I"
      },
      "id": "ir6_tCV47J_I",
      "execution_count": null,
      "outputs": []
    },
    {
      "cell_type": "code",
      "source": [
        "a =np.random.random(10)\n",
        "print(a)\n",
        "print(a[::2])"
      ],
      "metadata": {
        "id": "PBfJjjoI7J8k"
      },
      "id": "PBfJjjoI7J8k",
      "execution_count": null,
      "outputs": []
    },
    {
      "cell_type": "code",
      "source": [
        "# when certain parameters are unspecified\n",
        "a = np.arange(10)\n",
        "print(a[:6:2]) # starting index is unspecified (default = 0)\n",
        "print(a[1::2]) # ending index is unspecified (default = array size)\n",
        "print(a[1:6:]) # steps is unspecified (default = 1)"
      ],
      "metadata": {
        "id": "8f2Dj9Pf7J5q"
      },
      "id": "8f2Dj9Pf7J5q",
      "execution_count": null,
      "outputs": []
    },
    {
      "cell_type": "markdown",
      "source": [
        "Slicing- 2D Array"
      ],
      "metadata": {
        "id": "4PAZOxsQFU5G"
      },
      "id": "4PAZOxsQFU5G"
    },
    {
      "cell_type": "code",
      "source": [
        "a = np.array([[1,2,3],[4,5,6]])  # 0,1st row & 0,1,2nd column\n",
        "print(a)\n",
        "print(a[1,2])"
      ],
      "metadata": {
        "id": "I-TALZxzFMN-"
      },
      "id": "I-TALZxzFMN-",
      "execution_count": null,
      "outputs": []
    },
    {
      "cell_type": "code",
      "source": [
        "a = np.array([[1,2,3],[4,5,6],[7,8,9]])\n",
        "print(a)\n",
        "print(a[0:2])\n",
        "print(a[0:2,-2:])"
      ],
      "metadata": {
        "id": "Up2y0SY-FMKY"
      },
      "id": "Up2y0SY-FMKY",
      "execution_count": null,
      "outputs": []
    },
    {
      "cell_type": "code",
      "source": [
        "a = np.array([[1,2,3],[4,5,6],[7,8,9]])\n",
        "a"
      ],
      "metadata": {
        "id": "R4wJnoRyIR7W"
      },
      "id": "R4wJnoRyIR7W",
      "execution_count": null,
      "outputs": []
    },
    {
      "cell_type": "code",
      "source": [
        "#getting 1st row\n",
        "print(a[0:1,:])"
      ],
      "metadata": {
        "id": "1n6PtFFFFMGh"
      },
      "id": "1n6PtFFFFMGh",
      "execution_count": null,
      "outputs": []
    },
    {
      "cell_type": "code",
      "source": [
        "#getting 1st column\n",
        "print(a[:,0:1])\n"
      ],
      "metadata": {
        "id": "nf4ayYheFMCv"
      },
      "id": "nf4ayYheFMCv",
      "execution_count": null,
      "outputs": []
    },
    {
      "cell_type": "markdown",
      "source": [
        "Slicing 3D Array"
      ],
      "metadata": {
        "id": "MldUQQcSJgL0"
      },
      "id": "MldUQQcSJgL0"
    },
    {
      "cell_type": "code",
      "source": [
        "# For 3-D array slicing the format is array[index,row,column]\n",
        "a = np.array([[[1,2],[3,4],[5,6]],\n",
        "             [[7,8],[9,10],[11,12]],\n",
        "             [[13,14],[15,16],[17,18]]])\n",
        "print(a)\n",
        "print(a[0:2])\n",
        "# print(a[0:2,1:])\n",
        "print(a[0:2,1:,1:])"
      ],
      "metadata": {
        "id": "HaDhweA2FL94"
      },
      "id": "HaDhweA2FL94",
      "execution_count": null,
      "outputs": []
    },
    {
      "cell_type": "markdown",
      "source": [
        "Array Manipulation"
      ],
      "metadata": {
        "id": "sTLVFhYmJxuH"
      },
      "id": "sTLVFhYmJxuH"
    },
    {
      "cell_type": "code",
      "source": [
        "A = np.array(np.random.randint(10,45,(8,2))) #randint take size random not, randint take two nos random take 2\n",
        "print(A)\n",
        "print(A.shape)"
      ],
      "metadata": {
        "id": "Rjz9ZyT87J2Z"
      },
      "id": "Rjz9ZyT87J2Z",
      "execution_count": null,
      "outputs": []
    },
    {
      "cell_type": "code",
      "source": [
        "tranA= np.transpose(A)\n",
        "print(tranA)"
      ],
      "metadata": {
        "id": "BYvTvHjF7Jzy"
      },
      "id": "BYvTvHjF7Jzy",
      "execution_count": null,
      "outputs": []
    },
    {
      "cell_type": "code",
      "source": [
        "#np.reshape\n",
        "A = np.array(np.random.randint(10,45,(3,8))) # 2D\n",
        "print(A)\n",
        "\n",
        "newshape=(2,6,2)\n",
        "new_shape = np.reshape(A,newshape)\n",
        "print(new_shape)   #multiplication should be same of elements"
      ],
      "metadata": {
        "id": "gncWRbZ-7Jwr"
      },
      "id": "gncWRbZ-7Jwr",
      "execution_count": null,
      "outputs": []
    },
    {
      "cell_type": "code",
      "source": [
        "# Lets take an example of a list\n",
        "a = [1,2,3]\n",
        "b = a\n",
        "b[0] = 10\n",
        "print(b)\n",
        "print(a)"
      ],
      "metadata": {
        "id": "Twn_2gG7QCOI"
      },
      "id": "Twn_2gG7QCOI",
      "execution_count": null,
      "outputs": []
    },
    {
      "cell_type": "code",
      "source": [
        "# Lets use the copy method\n",
        "a = [1,2,3]\n",
        "b = a.copy()\n",
        "b[0] = 10\n",
        "print(b)\n",
        "print(a)"
      ],
      "metadata": {
        "id": "biZsKeArQCLT"
      },
      "id": "biZsKeArQCLT",
      "execution_count": null,
      "outputs": []
    },
    {
      "cell_type": "markdown",
      "source": [
        "Basic operations & functions"
      ],
      "metadata": {
        "id": "Hih5DGKXRzAN"
      },
      "id": "Hih5DGKXRzAN"
    },
    {
      "cell_type": "code",
      "source": [
        "#np.add()\n",
        "np.arange(3)+5  #0+5,1+5,2+5\n"
      ],
      "metadata": {
        "id": "fE_rARr-QCIc"
      },
      "id": "fE_rARr-QCIc",
      "execution_count": null,
      "outputs": []
    },
    {
      "cell_type": "code",
      "source": [
        "np.ones((3,3)) + np.arange(3)"
      ],
      "metadata": {
        "id": "i4Om7eoaQCFo"
      },
      "id": "i4Om7eoaQCFo",
      "execution_count": null,
      "outputs": []
    },
    {
      "cell_type": "code",
      "source": [
        "np.arange(3).reshape((3,1)) + np.arange(3)"
      ],
      "metadata": {
        "id": "AzWRfegSQCCV"
      },
      "id": "AzWRfegSQCCV",
      "execution_count": null,
      "outputs": []
    },
    {
      "cell_type": "code",
      "source": [
        "#Example 2\n",
        "a=np.random.randint(2,6,(2,4))\n",
        "print(a)\n",
        "b=np.random.randint(1,10,(2,2))\n",
        "print(b)"
      ],
      "metadata": {
        "id": "4-Dsg6tpQB_W"
      },
      "id": "4-Dsg6tpQB_W",
      "execution_count": null,
      "outputs": []
    },
    {
      "cell_type": "code",
      "source": [
        "np.add(a,b)"
      ],
      "metadata": {
        "id": "ZgrekBG0IIb6"
      },
      "id": "ZgrekBG0IIb6",
      "execution_count": null,
      "outputs": []
    },
    {
      "cell_type": "code",
      "source": [
        "a=np.random.randint(2,6,(2,4))\n",
        "print(a)\n",
        "b=np.random.randint(0,5,(2,4))\n",
        "print(b)"
      ],
      "metadata": {
        "id": "wjsxFZLLSjAO"
      },
      "id": "wjsxFZLLSjAO",
      "execution_count": null,
      "outputs": []
    },
    {
      "cell_type": "code",
      "source": [
        "np.multiply(a,b)"
      ],
      "metadata": {
        "id": "lC9uxdphSi88"
      },
      "id": "lC9uxdphSi88",
      "execution_count": null,
      "outputs": []
    },
    {
      "cell_type": "code",
      "source": [
        "a=np.random.randint(5,9,(2,4))\n",
        "print(a)"
      ],
      "metadata": {
        "id": "rD0IBkm9Si6b"
      },
      "id": "rD0IBkm9Si6b",
      "execution_count": null,
      "outputs": []
    },
    {
      "cell_type": "code",
      "source": [
        "print(np.sum(a))\n",
        "print(np.sum(a,axis=0))\n",
        "print(np.sum(a,axis=1))"
      ],
      "metadata": {
        "id": "1M53WCY_Si3r"
      },
      "id": "1M53WCY_Si3r",
      "execution_count": null,
      "outputs": []
    },
    {
      "cell_type": "code",
      "source": [
        "# Calculate minimum\n",
        "print(np.min(a))\n",
        "print(np.min(a,axis=2)) # Across Column"
      ],
      "metadata": {
        "id": "Gid73cd2Si02"
      },
      "id": "Gid73cd2Si02",
      "execution_count": null,
      "outputs": []
    },
    {
      "cell_type": "code",
      "source": [
        "# Sort the array\n",
        "a=np.random.randint(0,20,(3,3))\n",
        "print(a)"
      ],
      "metadata": {
        "id": "RS81hWWwSiyV"
      },
      "id": "RS81hWWwSiyV",
      "execution_count": null,
      "outputs": []
    },
    {
      "cell_type": "code",
      "source": [
        "print(np.sort(a,axis=0)) # Ascending"
      ],
      "metadata": {
        "id": "-45-zUPMSivb"
      },
      "id": "-45-zUPMSivb",
      "execution_count": null,
      "outputs": []
    },
    {
      "cell_type": "code",
      "source": [
        "print(np.sort(a,axis=1))"
      ],
      "metadata": {
        "id": "MrhagwjdSisR"
      },
      "id": "MrhagwjdSisR",
      "execution_count": null,
      "outputs": []
    },
    {
      "cell_type": "code",
      "source": [
        "print(-np.sort(-a,axis=1)) # Descending"
      ],
      "metadata": {
        "id": "vD4Jsyki_rcB"
      },
      "id": "vD4Jsyki_rcB",
      "execution_count": null,
      "outputs": []
    },
    {
      "cell_type": "code",
      "source": [
        "sum(np.arange(3)*np.arange(3).transpose())"
      ],
      "metadata": {
        "id": "JnZzOcUI_rZP"
      },
      "id": "JnZzOcUI_rZP",
      "execution_count": null,
      "outputs": []
    },
    {
      "cell_type": "markdown",
      "source": [
        "# Recursion"
      ],
      "metadata": {
        "id": "5I0oj8z0mQq8"
      },
      "id": "5I0oj8z0mQq8"
    },
    {
      "cell_type": "code",
      "source": [
        "def multipy(a,b):\n",
        "\n",
        "  result = 0\n",
        "\n",
        "  for i in range(b):\n",
        "    result = result + a\n",
        "\n",
        "  print(result)\n",
        "\n",
        "multipy(5,2)"
      ],
      "metadata": {
        "id": "SMKIy50NmYo_"
      },
      "id": "SMKIy50NmYo_",
      "execution_count": null,
      "outputs": []
    },
    {
      "cell_type": "code",
      "source": [
        "#same code using recursion\n",
        "\n",
        "def mul(a,b):\n",
        "  if b == 1:\n",
        "    return a\n",
        "  else:\n",
        "    return a+mul(a,b-1)\n",
        "\n",
        "print(mul(5,2))"
      ],
      "metadata": {
        "id": "zk6wzPsknMvn"
      },
      "id": "zk6wzPsknMvn",
      "execution_count": null,
      "outputs": []
    },
    {
      "cell_type": "code",
      "source": [
        "def fact(num):\n",
        "  if num == 1:\n",
        "    return 1\n",
        "  else:\n",
        "    #5=5*4\n",
        "    return num*fact(num-1)\n",
        "print(fact(5))\n"
      ],
      "metadata": {
        "id": "S_944Cr1oVtP"
      },
      "id": "S_944Cr1oVtP",
      "execution_count": null,
      "outputs": []
    },
    {
      "cell_type": "code",
      "source": [
        "#Palindrome\n",
        "def palin(text):\n",
        "  if len(text) <= 1:\n",
        "    print('palindrome')\n",
        "  else:\n",
        "    if text[0] == text[-1]:\n",
        "      palin(text[1:-1])\n",
        "    else:\n",
        "      print('Not pali')\n",
        "\n",
        "\n",
        "print(palin('madam'))"
      ],
      "metadata": {
        "id": "M9KxkUbrpYeg"
      },
      "id": "M9KxkUbrpYeg",
      "execution_count": null,
      "outputs": []
    },
    {
      "cell_type": "code",
      "source": [
        "#fibonacci\n",
        "\n",
        "def fib(m):\n",
        "  if m==0 or m==1:\n",
        "    return 1\n",
        "  else:\n",
        "    return fib(m-1)+fib(m-2)\n",
        "print(fib(12))"
      ],
      "metadata": {
        "id": "_U_ujGrI6gSn"
      },
      "id": "_U_ujGrI6gSn",
      "execution_count": null,
      "outputs": []
    },
    {
      "cell_type": "code",
      "source": [
        "import time\n",
        "\n",
        "\n",
        "def fib(m):\n",
        "  if m==0 or m==1:\n",
        "    return 1\n",
        "  else:\n",
        "    return fib(m-1)+fib(m-2)\n",
        "print(fib(18))\n",
        "\n",
        "start = time.time()\n",
        "print(fib(5))\n",
        "\n",
        "print(time.time()-start)"
      ],
      "metadata": {
        "id": "bWsPXiJN8AeU"
      },
      "id": "bWsPXiJN8AeU",
      "execution_count": null,
      "outputs": []
    },
    {
      "cell_type": "code",
      "source": [],
      "metadata": {
        "id": "jlHuuamm9I-n"
      },
      "id": "jlHuuamm9I-n",
      "execution_count": null,
      "outputs": []
    },
    {
      "cell_type": "markdown",
      "source": [
        "# Special Function"
      ],
      "metadata": {
        "id": "QZ248PG7RUc0"
      },
      "id": "QZ248PG7RUc0"
    },
    {
      "cell_type": "code",
      "source": [
        "# Define a list of strings representing numbers\n",
        "numbers = ['1.5', '2.7', '3.2']\n",
        "\n",
        "# Use map() to convert each string to a float\n",
        "converted_numbers = list(map(float, numbers))\n",
        "\n",
        "print(converted_numbers)"
      ],
      "metadata": {
        "id": "joPWc47rRYi_",
        "colab": {
          "base_uri": "https://localhost:8080/"
        },
        "outputId": "9ea88b0e-b8c0-4a47-e4fd-992bfb40a18b"
      },
      "id": "joPWc47rRYi_",
      "execution_count": null,
      "outputs": [
        {
          "output_type": "stream",
          "name": "stdout",
          "text": [
            "[1.5, 2.7, 3.2]\n"
          ]
        }
      ]
    },
    {
      "cell_type": "code",
      "source": [
        "num = 28\n",
        "divisors_sum = 0\n",
        "\n",
        "for i in range(1, num):\n",
        "    if num % i == 0:\n",
        "        divisors_sum += i\n",
        "\n",
        "if divisors_sum == num:\n",
        "    print(\"is a perfect number\")\n",
        "else:\n",
        "    print(\"is not a perfect number\")"
      ],
      "metadata": {
        "id": "TqjF2EJgRZce"
      },
      "id": "TqjF2EJgRZce",
      "execution_count": null,
      "outputs": []
    },
    {
      "cell_type": "code",
      "source": [
        "# Sample function to double a number\n",
        "def double(x):\n",
        "    return x * 2\n",
        "\n",
        "# Sample list of numbers\n",
        "numbers = [1, 2, 3, 4, 5]\n",
        "\n",
        "# Using map() to apply the 'double' function to each element of 'numbers'\n",
        "doubled_numbers = map(double, numbers)\n",
        "\n",
        "# Converting the result to a list\n",
        "doubled_numbers_list = list(doubled_numbers)\n",
        "\n",
        "print(doubled_numbers_list)"
      ],
      "metadata": {
        "id": "J2ajSK_XawkX",
        "outputId": "1c75cab2-75bf-4497-e473-84ace216b842",
        "colab": {
          "base_uri": "https://localhost:8080/"
        }
      },
      "id": "J2ajSK_XawkX",
      "execution_count": null,
      "outputs": [
        {
          "output_type": "stream",
          "name": "stdout",
          "text": [
            "[2, 4, 6, 8, 10]\n"
          ]
        }
      ]
    },
    {
      "cell_type": "markdown",
      "source": [],
      "metadata": {
        "id": "lxQQkcHEav4t"
      },
      "id": "lxQQkcHEav4t"
    },
    {
      "cell_type": "code",
      "source": [
        "def insert_string_in_middle(original_string, insert_string):\n",
        "    middle_index = len(original_string) // 2\n",
        "    return original_string[:middle_index] + insert_string + original_string[middle_index:]\n",
        "\n",
        "original_string = \"[[]]\"\n",
        "insert_string = \"Python\"\n",
        "\n",
        "result = insert_string_in_middle(original_string, insert_string)\n",
        "print(result)"
      ],
      "metadata": {
        "id": "fdUNZCH4IeIx"
      },
      "id": "fdUNZCH4IeIx",
      "execution_count": null,
      "outputs": []
    },
    {
      "cell_type": "code",
      "source": [
        "\n",
        "def insert_string_in_middle(original_string, insert_string):\n",
        "    middle_index = len(original_string) // 2\n",
        "    return original_string[:middle_index] + insert_string + original_string[middle_index:]\n",
        "\n",
        "# User input\n",
        "original_string = input(\"Enter the original string: \")\n",
        "insert_string = input(\"Enter the string to insert: \")\n",
        "\n",
        "result = insert_string_in_middle(original_string, insert_string)\n",
        "print(\"Result:\", result)"
      ],
      "metadata": {
        "id": "nW3uOVSYJklJ"
      },
      "id": "nW3uOVSYJklJ",
      "execution_count": null,
      "outputs": []
    },
    {
      "cell_type": "code",
      "source": [],
      "metadata": {
        "id": "T1if_XUYNuS3"
      },
      "id": "T1if_XUYNuS3",
      "execution_count": null,
      "outputs": []
    },
    {
      "cell_type": "markdown",
      "source": [
        "# Basic IMP Codes"
      ],
      "metadata": {
        "id": "KzLXMAacsaVt"
      },
      "id": "KzLXMAacsaVt"
    },
    {
      "cell_type": "markdown",
      "source": [
        "### No is prime or not"
      ],
      "metadata": {
        "id": "ljZqwEvOsprj"
      },
      "id": "ljZqwEvOsprj"
    },
    {
      "cell_type": "code",
      "source": [
        "def is_prime(number):\n",
        "    if number <= 1:\n",
        "        return False\n",
        "\n",
        "    for i in range(2, int(number**0.5) + 1):\n",
        "        if number % i == 0:\n",
        "            return False\n",
        "\n",
        "    return True\n",
        "\n",
        "# Test the function\n",
        "num_to_check = 25  # Change this number to check for other values\n",
        "if is_prime(num_to_check):\n",
        "    print(f\"{num_to_check} is a prime number.\")\n",
        "else:\n",
        "    print(f\"{num_to_check} is not a prime number.\")"
      ],
      "metadata": {
        "id": "kXwQ07J8soyZ",
        "colab": {
          "base_uri": "https://localhost:8080/"
        },
        "outputId": "a7ef5f02-414e-49d1-cdaa-825db34f1554"
      },
      "id": "kXwQ07J8soyZ",
      "execution_count": null,
      "outputs": [
        {
          "output_type": "stream",
          "name": "stdout",
          "text": [
            "25 is not a prime number.\n"
          ]
        }
      ]
    },
    {
      "cell_type": "markdown",
      "source": [
        "### Find Factorial of No"
      ],
      "metadata": {
        "id": "vvuVWxIwsuXp"
      },
      "id": "vvuVWxIwsuXp"
    },
    {
      "cell_type": "code",
      "source": [
        "num=int(input(\"Enter No here\"))\n",
        "\n",
        "fact=1\n",
        "\n",
        "if num < 0:\n",
        "  print(\"Factorial doent exist\")\n",
        "if num == 0:\n",
        "  print (\"Factorial of 0 is\",1)\n",
        "if num> 0:\n",
        "  for i in range (1,num+1):\n",
        "    fact = fact*i\n",
        "print(\"Factorial of given no is\", fact)"
      ],
      "metadata": {
        "id": "dpVcSDTWswgn",
        "colab": {
          "base_uri": "https://localhost:8080/"
        },
        "outputId": "96d19276-cebd-4130-b3ca-bd0ed3f3cb5f"
      },
      "id": "dpVcSDTWswgn",
      "execution_count": null,
      "outputs": [
        {
          "output_type": "stream",
          "name": "stdout",
          "text": [
            "Enter No here5\n",
            "Factorial of given no is 120\n"
          ]
        }
      ]
    },
    {
      "cell_type": "markdown",
      "source": [
        "### Fibonacci Sequence"
      ],
      "metadata": {
        "id": "Ra6Ta3qUtDo9"
      },
      "id": "Ra6Ta3qUtDo9"
    },
    {
      "cell_type": "code",
      "source": [
        "a=0\n",
        "b=1\n",
        "num=int(input(\"Enter No here\"))\n",
        "if num == 0:\n",
        "  print(a)\n",
        "else:\n",
        "  print(a)\n",
        "  print(b)\n",
        "  for i in range (1,num+1):\n",
        "    c = a+b\n",
        "    a = b\n",
        "    b = c\n",
        "    print(c)"
      ],
      "metadata": {
        "id": "UZnrngFGs5gr",
        "colab": {
          "base_uri": "https://localhost:8080/"
        },
        "outputId": "2504e44c-092c-49c3-ccad-7ab14dff62e8"
      },
      "id": "UZnrngFGs5gr",
      "execution_count": null,
      "outputs": [
        {
          "output_type": "stream",
          "name": "stdout",
          "text": [
            "Enter No here10\n",
            "0\n",
            "1\n",
            "1\n",
            "2\n",
            "3\n",
            "5\n",
            "8\n",
            "13\n",
            "21\n",
            "34\n",
            "55\n",
            "89\n"
          ]
        }
      ]
    },
    {
      "cell_type": "markdown",
      "source": [
        "### Armstrong Number"
      ],
      "metadata": {
        "id": "GP-0rWbStI6K"
      },
      "id": "GP-0rWbStI6K"
    },
    {
      "cell_type": "code",
      "source": [
        "num=int(input(\"Enter No here\"))\n",
        "order = len(str(num))\n",
        "\n",
        "sum=0\n",
        "temp= num\n",
        "\n",
        "while  temp > 0:\n",
        "  digit = temp%10\n",
        "  sum += digit**order\n",
        "  temp //=10\n",
        "\n",
        "if sum == num:\n",
        "  print(\"It is a armstrong no \")\n",
        "else:\n",
        "  print(\"It is NOT a armstrong no \")"
      ],
      "metadata": {
        "id": "t2YhYfMjtF7a",
        "colab": {
          "base_uri": "https://localhost:8080/"
        },
        "outputId": "86ec2609-78ff-4bc7-d0d4-1e2a5e14a6d3"
      },
      "id": "t2YhYfMjtF7a",
      "execution_count": null,
      "outputs": [
        {
          "output_type": "stream",
          "name": "stdout",
          "text": [
            "Enter No here125\n",
            "It is NOT a armstrong no \n"
          ]
        }
      ]
    },
    {
      "cell_type": "markdown",
      "source": [
        "### Find HCF or GCD"
      ],
      "metadata": {
        "id": "z0Htn_o1tTIa"
      },
      "id": "z0Htn_o1tTIa"
    },
    {
      "cell_type": "code",
      "source": [
        "def findHCF(x,y):\n",
        "    if x > y:\n",
        "        smaller= y\n",
        "    else:\n",
        "        smaller = x\n",
        "    for i in range (1,smaller+1):\n",
        "        if ((x % i==0) and (y % i==0)):\n",
        "            hcf= i\n",
        "    return hcf\n",
        "\n",
        "print(\"HCF of given no is: \", findHCF(12,30))"
      ],
      "metadata": {
        "id": "j0mXDkJntLo7",
        "colab": {
          "base_uri": "https://localhost:8080/"
        },
        "outputId": "aed3efc1-cb6b-4d7d-a945-0ddc5844cdf1"
      },
      "id": "j0mXDkJntLo7",
      "execution_count": null,
      "outputs": [
        {
          "output_type": "stream",
          "name": "stdout",
          "text": [
            "HCF of given no is:  6\n"
          ]
        }
      ]
    },
    {
      "cell_type": "markdown",
      "source": [
        "### Write a Python program to construct the following pattern, using a nested for loop."
      ],
      "metadata": {
        "id": "8wE_F94HtvuI"
      },
      "id": "8wE_F94HtvuI"
    },
    {
      "cell_type": "code",
      "source": [
        "a =int(input())\n",
        "\n",
        "for i in range(0,a+1):\n",
        "  print(i*'*')\n",
        "\n",
        "for i in range(a,0,-1):\n",
        "  print(i*'*')"
      ],
      "metadata": {
        "id": "3XJAVx9utVuj",
        "colab": {
          "base_uri": "https://localhost:8080/"
        },
        "outputId": "86186400-8e4a-4db4-9438-acefc50b6a13"
      },
      "id": "3XJAVx9utVuj",
      "execution_count": null,
      "outputs": [
        {
          "output_type": "stream",
          "name": "stdout",
          "text": [
            "5\n",
            "\n",
            "*\n",
            "**\n",
            "***\n",
            "****\n",
            "*****\n",
            "*****\n",
            "****\n",
            "***\n",
            "**\n",
            "*\n"
          ]
        }
      ]
    },
    {
      "cell_type": "markdown",
      "source": [
        "### Reverse Words"
      ],
      "metadata": {
        "id": "A-ftETKrt4fA"
      },
      "id": "A-ftETKrt4fA"
    },
    {
      "cell_type": "code",
      "source": [
        "a= input()\n",
        "list1= a.split(' ')\n",
        "list2= []\n",
        "for i in list1:\n",
        "  list2.append(i[::-1])\n",
        "output = ' '.join(list2)\n",
        "print(output)"
      ],
      "metadata": {
        "id": "g0thPCuAtx6n",
        "colab": {
          "base_uri": "https://localhost:8080/"
        },
        "outputId": "ce770e1a-5d4e-4404-fabb-a1725c943fec"
      },
      "id": "g0thPCuAtx6n",
      "execution_count": null,
      "outputs": [
        {
          "output_type": "stream",
          "name": "stdout",
          "text": [
            "ranjjit gahdge\n",
            "tijjnar egdhag\n"
          ]
        }
      ]
    },
    {
      "cell_type": "markdown",
      "source": [
        "### String Palindrome"
      ],
      "metadata": {
        "id": "Grm7KraJuG96"
      },
      "id": "Grm7KraJuG96"
    },
    {
      "cell_type": "code",
      "source": [
        "string = input()\n",
        "\n",
        "if string == string[: :-1]:\n",
        "    print('String is a Palindrome')\n",
        "else:\n",
        "    print('String is not a Palindrome')"
      ],
      "metadata": {
        "id": "7zx9TSbSt6aM",
        "colab": {
          "base_uri": "https://localhost:8080/"
        },
        "outputId": "bb9ec8dd-1eb1-498c-b51e-f51f351214e6"
      },
      "id": "7zx9TSbSt6aM",
      "execution_count": null,
      "outputs": [
        {
          "output_type": "stream",
          "name": "stdout",
          "text": [
            "opo\n",
            "String is a Palindrome\n"
          ]
        }
      ]
    },
    {
      "cell_type": "markdown",
      "source": [
        "### Pattern:- 1"
      ],
      "metadata": {
        "id": "HuxsbOs3BKCZ"
      },
      "id": "HuxsbOs3BKCZ"
    },
    {
      "cell_type": "code",
      "source": [
        "n = 5\n",
        "\n",
        "for i in range(n):\n",
        "  for j in range(i,n):\n",
        "     print(' ',end=' ')\n",
        "  for j in range(i+1):\n",
        "    print('*',end=' ')\n",
        "\n",
        "  print()"
      ],
      "metadata": {
        "id": "f82v-TSV5qpE",
        "colab": {
          "base_uri": "https://localhost:8080/"
        },
        "outputId": "87d8bb83-2fb6-42c2-8c0a-09e778384761"
      },
      "id": "f82v-TSV5qpE",
      "execution_count": 1,
      "outputs": [
        {
          "output_type": "stream",
          "name": "stdout",
          "text": [
            "          * \n",
            "        * * \n",
            "      * * * \n",
            "    * * * * \n",
            "  * * * * * \n"
          ]
        }
      ]
    },
    {
      "cell_type": "code",
      "source": [
        "n = 5\n",
        "\n",
        "for i in range(n+1):\n",
        "  for j in range(i):\n",
        "    print('*', end=\" \")\n",
        "  print()"
      ],
      "metadata": {
        "colab": {
          "base_uri": "https://localhost:8080/"
        },
        "id": "M4uV6cWZ_7Ju",
        "outputId": "572c5d1a-628d-40e5-adb0-e25179205690"
      },
      "id": "M4uV6cWZ_7Ju",
      "execution_count": 2,
      "outputs": [
        {
          "output_type": "stream",
          "name": "stdout",
          "text": [
            "\n",
            "* \n",
            "* * \n",
            "* * * \n",
            "* * * * \n",
            "* * * * * \n"
          ]
        }
      ]
    },
    {
      "cell_type": "markdown",
      "source": [
        "1. Write a python program to print following star pattern:"
      ],
      "metadata": {
        "id": "iKO3k4-oR_1p"
      },
      "id": "iKO3k4-oR_1p"
    },
    {
      "cell_type": "code",
      "source": [
        "n=5\n",
        "for i in range(n):\n",
        "   for j in range(n):\n",
        "      print('*', end=' ')\n",
        "   print()"
      ],
      "metadata": {
        "colab": {
          "base_uri": "https://localhost:8080/"
        },
        "id": "GzNX-vitBk5v",
        "outputId": "e31b5d2b-7f42-4b13-d4d6-f5bc51eb56fb"
      },
      "id": "GzNX-vitBk5v",
      "execution_count": null,
      "outputs": [
        {
          "output_type": "stream",
          "name": "stdout",
          "text": [
            "* * * * * \n",
            "* * * * * \n",
            "* * * * * \n",
            "* * * * * \n",
            "* * * * * \n"
          ]
        }
      ]
    },
    {
      "cell_type": "code",
      "source": [
        "n = 5\n",
        "\n",
        "for i in range(n):\n",
        "  for j in range(i,n):\n",
        "    print(' ',end=' ')\n",
        "  for j in range(i+1):\n",
        "    print('*',end=' ')\n",
        "  print()"
      ],
      "metadata": {
        "colab": {
          "base_uri": "https://localhost:8080/"
        },
        "id": "IxNrzdwvH4z4",
        "outputId": "0f7e7e31-504e-475c-d706-3c00a2e8fd15"
      },
      "id": "IxNrzdwvH4z4",
      "execution_count": 4,
      "outputs": [
        {
          "output_type": "stream",
          "name": "stdout",
          "text": [
            "          * \n",
            "        * * \n",
            "      * * * \n",
            "    * * * * \n",
            "  * * * * * \n"
          ]
        }
      ]
    },
    {
      "cell_type": "code",
      "source": [
        "n = 5\n",
        "\n",
        "for i in range(n):\n",
        "  for j in range(i,n):\n",
        "    print('*',end=' ')\n",
        "  for j in range(i):\n",
        "    print(' ',end=' ')\n",
        "  print()"
      ],
      "metadata": {
        "colab": {
          "base_uri": "https://localhost:8080/"
        },
        "id": "7tqYxkpZSK9P",
        "outputId": "8d39b472-9a80-42da-8acb-94c07af05c55"
      },
      "id": "7tqYxkpZSK9P",
      "execution_count": 5,
      "outputs": [
        {
          "output_type": "stream",
          "name": "stdout",
          "text": [
            "* * * * * \n",
            "* * * *   \n",
            "* * *     \n",
            "* *       \n",
            "*         \n"
          ]
        }
      ]
    },
    {
      "cell_type": "code",
      "source": [
        "n = 5\n",
        "\n",
        "for i in range(n):\n",
        "  for j in range(i):\n",
        "    print(' ',end = ' ')\n",
        "  for j in range(n-i):\n",
        "    print('*',end=' ')\n",
        "  print()"
      ],
      "metadata": {
        "colab": {
          "base_uri": "https://localhost:8080/"
        },
        "id": "zK6stJL669m9",
        "outputId": "da18fde5-b119-4252-f781-30eda83af498"
      },
      "id": "zK6stJL669m9",
      "execution_count": 6,
      "outputs": [
        {
          "output_type": "stream",
          "name": "stdout",
          "text": [
            "* * * * * \n",
            "  * * * * \n",
            "    * * * \n",
            "      * * \n",
            "        * \n"
          ]
        }
      ]
    },
    {
      "cell_type": "code",
      "source": [
        "n = 5\n",
        "\n",
        "for i in range(n):\n",
        "  for j in range(i,n):\n",
        "    print(' ',end= ' ')\n",
        "  for j in range(i):\n",
        "    print('*',end= ' ')\n",
        "  for j in range(i+1):\n",
        "    print('*',end=' ')\n",
        "  print()"
      ],
      "metadata": {
        "colab": {
          "base_uri": "https://localhost:8080/"
        },
        "id": "EJEUX4Kd06j5",
        "outputId": "8cddf829-4763-4758-f944-e1e67f77fb0b"
      },
      "id": "EJEUX4Kd06j5",
      "execution_count": 7,
      "outputs": [
        {
          "output_type": "stream",
          "name": "stdout",
          "text": [
            "          * \n",
            "        * * * \n",
            "      * * * * * \n",
            "    * * * * * * * \n",
            "  * * * * * * * * * \n"
          ]
        }
      ]
    },
    {
      "cell_type": "code",
      "source": [
        "n = 5\n",
        "\n"
      ],
      "metadata": {
        "id": "taqT1Ie4KgxB"
      },
      "id": "taqT1Ie4KgxB",
      "execution_count": null,
      "outputs": []
    }
  ],
  "metadata": {
    "kernelspec": {
      "display_name": "Python 3 (ipykernel)",
      "language": "python",
      "name": "python3"
    },
    "language_info": {
      "codemirror_mode": {
        "name": "ipython",
        "version": 3
      },
      "file_extension": ".py",
      "mimetype": "text/x-python",
      "name": "python",
      "nbconvert_exporter": "python",
      "pygments_lexer": "ipython3",
      "version": "3.9.13"
    },
    "colab": {
      "provenance": [],
      "toc_visible": true,
      "include_colab_link": true
    }
  },
  "nbformat": 4,
  "nbformat_minor": 5
}