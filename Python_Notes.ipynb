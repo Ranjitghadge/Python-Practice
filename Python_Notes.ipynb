{
  "cells": [
    {
      "cell_type": "markdown",
      "metadata": {
        "id": "view-in-github",
        "colab_type": "text"
      },
      "source": [
        "<a href=\"https://colab.research.google.com/github/Ranjitghadge/Python-Practice/blob/main/Python_Notes.ipynb\" target=\"_parent\"><img src=\"https://colab.research.google.com/assets/colab-badge.svg\" alt=\"Open In Colab\"/></a>"
      ]
    },
    {
      "cell_type": "markdown",
      "source": [
        "# Python Basic"
      ],
      "metadata": {
        "id": "Yu048TnMTZBX"
      },
      "id": "Yu048TnMTZBX"
    },
    {
      "cell_type": "markdown",
      "source": [
        "Integers – This value is represented by int class. It contains positive or negative whole numbers (without fractions or decimals)."
      ],
      "metadata": {
        "id": "m22mNcs7mtx_"
      },
      "id": "m22mNcs7mtx_"
    },
    {
      "cell_type": "code",
      "source": [
        "a = 5\n",
        "print(\"Type of a: \", type(a))\n"
      ],
      "metadata": {
        "colab": {
          "base_uri": "https://localhost:8080/"
        },
        "id": "dcKa2-KPl71S",
        "outputId": "9e9493fb-9126-43b9-993c-82220814d39b"
      },
      "id": "dcKa2-KPl71S",
      "execution_count": null,
      "outputs": [
        {
          "output_type": "stream",
          "name": "stdout",
          "text": [
            "Type of a:  <class 'int'>\n"
          ]
        }
      ]
    },
    {
      "cell_type": "code",
      "execution_count": null,
      "metadata": {
        "id": "917cd579",
        "outputId": "f17a7ef0-fbaf-4830-847c-c87f0ca200cf"
      },
      "outputs": [
        {
          "data": {
            "text/plain": [
              "float"
            ]
          },
          "execution_count": 1,
          "metadata": {},
          "output_type": "execute_result"
        }
      ],
      "source": [
        "type(5.1)"
      ],
      "id": "917cd579"
    },
    {
      "cell_type": "code",
      "execution_count": null,
      "metadata": {
        "id": "ae334253",
        "outputId": "d9498b5f-4664-4e28-c2ee-d8232a97da05"
      },
      "outputs": [
        {
          "data": {
            "text/plain": [
              "5"
            ]
          },
          "execution_count": 2,
          "metadata": {},
          "output_type": "execute_result"
        }
      ],
      "source": [
        "int(5.1245)"
      ],
      "id": "ae334253"
    },
    {
      "cell_type": "code",
      "execution_count": null,
      "metadata": {
        "id": "fafded57",
        "outputId": "570fec22-2f2e-4997-a40f-b03fc57c6fb6"
      },
      "outputs": [
        {
          "data": {
            "text/plain": [
              "True"
            ]
          },
          "execution_count": 8,
          "metadata": {},
          "output_type": "execute_result"
        }
      ],
      "source": [
        "bool(-15884)"
      ],
      "id": "fafded57"
    },
    {
      "cell_type": "markdown",
      "source": [
        "Float – This value is represented by the float class. It is a real number with a floating-point representation. It is specified by a decimal point."
      ],
      "metadata": {
        "id": "0Ni4r5PVmTiy"
      },
      "id": "0Ni4r5PVmTiy"
    },
    {
      "cell_type": "code",
      "source": [
        "b = 5.0\n",
        "print(\"\\nType of b: \", type(b))"
      ],
      "metadata": {
        "colab": {
          "base_uri": "https://localhost:8080/"
        },
        "id": "XpV95yYRmD7L",
        "outputId": "42fcc28e-1e22-461c-8246-7c1127749d38"
      },
      "id": "XpV95yYRmD7L",
      "execution_count": null,
      "outputs": [
        {
          "output_type": "stream",
          "name": "stdout",
          "text": [
            "\n",
            "Type of b:  <class 'float'>\n"
          ]
        }
      ]
    },
    {
      "cell_type": "markdown",
      "source": [
        "  Complex Numbers – Complex number is represented by a complex class. It is specified as (real part) + (imaginary part)j. For example – 2+3j"
      ],
      "metadata": {
        "id": "zXY-dxlXmndR"
      },
      "id": "zXY-dxlXmndR"
    },
    {
      "cell_type": "code",
      "source": [
        "c = 2 + 4j\n",
        "print(\"\\nType of c: \", type(c))"
      ],
      "metadata": {
        "colab": {
          "base_uri": "https://localhost:8080/"
        },
        "id": "G8sXGb94mGCp",
        "outputId": "4de1bf3c-92f9-420e-d6a9-aa3861cc5dc8"
      },
      "id": "G8sXGb94mGCp",
      "execution_count": null,
      "outputs": [
        {
          "output_type": "stream",
          "name": "stdout",
          "text": [
            "\n",
            "Type of c:  <class 'complex'>\n"
          ]
        }
      ]
    },
    {
      "cell_type": "markdown",
      "source": [
        "### Arithmatic Operations\n"
      ],
      "metadata": {
        "id": "bk3kys2Y6qvG"
      },
      "id": "bk3kys2Y6qvG"
    },
    {
      "cell_type": "code",
      "source": [
        "val1 = 2\n",
        "val2 = 3\n",
        "\n",
        "# using the addition operator\n",
        "res = val1 + val2\n",
        "print(res)"
      ],
      "metadata": {
        "colab": {
          "base_uri": "https://localhost:8080/"
        },
        "id": "9rZxpCt_6xll",
        "outputId": "f5b41a3a-d794-4de6-bf60-283d8a31d2aa"
      },
      "id": "9rZxpCt_6xll",
      "execution_count": null,
      "outputs": [
        {
          "output_type": "stream",
          "name": "stdout",
          "text": [
            "5\n"
          ]
        }
      ]
    },
    {
      "cell_type": "code",
      "source": [
        "val1 = 2\n",
        "val2 = 3\n",
        "\n",
        "# using the subtraction operator\n",
        "res = val1 - val2\n",
        "print(res)"
      ],
      "metadata": {
        "id": "pE-yLcEG64DZ"
      },
      "id": "pE-yLcEG64DZ",
      "execution_count": null,
      "outputs": []
    },
    {
      "cell_type": "code",
      "source": [
        "val1 = 2\n",
        "val2 = 3\n",
        "\n",
        "# using the multiplication operator\n",
        "res = val1 * val2\n",
        "print(res)"
      ],
      "metadata": {
        "id": "PyY8F6zO6368"
      },
      "id": "PyY8F6zO6368",
      "execution_count": null,
      "outputs": []
    },
    {
      "cell_type": "code",
      "source": [
        "val1 = 3\n",
        "val2 = 2\n",
        "\n",
        "# using the division operator\n",
        "res = val1 / val2\n",
        "print(res)"
      ],
      "metadata": {
        "id": "ZAXCqZsS63y5"
      },
      "id": "ZAXCqZsS63y5",
      "execution_count": null,
      "outputs": []
    },
    {
      "cell_type": "code",
      "source": [
        "val1 = 3\n",
        "val2 = 2\n",
        "\n",
        "# using the modulus operator\n",
        "res = val1 % val2\n",
        "print(res)"
      ],
      "metadata": {
        "colab": {
          "base_uri": "https://localhost:8080/"
        },
        "id": "TXowwrtO63r6",
        "outputId": "a3d8ddec-0cbe-4004-a713-460e85541ef1"
      },
      "id": "TXowwrtO63r6",
      "execution_count": null,
      "outputs": [
        {
          "output_type": "stream",
          "name": "stdout",
          "text": [
            "1\n"
          ]
        }
      ]
    },
    {
      "cell_type": "code",
      "source": [
        "val1 = 2\n",
        "val2 = 3\n",
        "\n",
        "# using the exponentiation operator\n",
        "res = val1 ** val2\n",
        "print(res)"
      ],
      "metadata": {
        "colab": {
          "base_uri": "https://localhost:8080/"
        },
        "id": "pWZp1_k963l1",
        "outputId": "dae007b2-8742-4f69-97d9-9bf331692c45"
      },
      "id": "pWZp1_k963l1",
      "execution_count": null,
      "outputs": [
        {
          "output_type": "stream",
          "name": "stdout",
          "text": [
            "8\n"
          ]
        }
      ]
    },
    {
      "cell_type": "code",
      "source": [
        "val1 = 3\n",
        "val2 = 2\n",
        "\n",
        "# using the floor division\n",
        "res = val1 // val2\n",
        "print(res)"
      ],
      "metadata": {
        "colab": {
          "base_uri": "https://localhost:8080/"
        },
        "id": "66DtQZvD63gg",
        "outputId": "35220c6f-097b-4c53-c4de-d846fad645d5"
      },
      "id": "66DtQZvD63gg",
      "execution_count": null,
      "outputs": [
        {
          "output_type": "stream",
          "name": "stdout",
          "text": [
            "1\n"
          ]
        }
      ]
    },
    {
      "cell_type": "code",
      "source": [],
      "metadata": {
        "id": "LHHsKjsS63bN"
      },
      "id": "LHHsKjsS63bN",
      "execution_count": null,
      "outputs": []
    },
    {
      "cell_type": "code",
      "source": [],
      "metadata": {
        "id": "xQwLKh0z63WG"
      },
      "id": "xQwLKh0z63WG",
      "execution_count": null,
      "outputs": []
    },
    {
      "cell_type": "markdown",
      "source": [
        "# String"
      ],
      "metadata": {
        "id": "TRnRJjhwAGqB"
      },
      "id": "TRnRJjhwAGqB"
    },
    {
      "cell_type": "markdown",
      "source": [
        "### Creating String"
      ],
      "metadata": {
        "id": "uayzxLYoNTYA"
      },
      "id": "uayzxLYoNTYA"
    },
    {
      "cell_type": "code",
      "source": [
        "s ='hello'\n",
        "s =\"hello\"\n",
        "s = '''hello'''\n",
        "\n",
        "print(s)"
      ],
      "metadata": {
        "colab": {
          "base_uri": "https://localhost:8080/"
        },
        "id": "GNznqtd_NOKQ",
        "outputId": "b3cfb235-aebe-442d-b2ab-133e1e263488"
      },
      "id": "GNznqtd_NOKQ",
      "execution_count": null,
      "outputs": [
        {
          "output_type": "stream",
          "name": "stdout",
          "text": [
            "hello\n"
          ]
        }
      ]
    },
    {
      "cell_type": "code",
      "source": [
        "#example\n",
        "\"it's raining outside\""
      ],
      "metadata": {
        "colab": {
          "base_uri": "https://localhost:8080/",
          "height": 35
        },
        "id": "smFj1M29NOGn",
        "outputId": "d29ee8e7-3ff0-4ddb-ecc4-985cf5cb3a7f"
      },
      "id": "smFj1M29NOGn",
      "execution_count": null,
      "outputs": [
        {
          "output_type": "execute_result",
          "data": {
            "text/plain": [
              "\"it's raining outside\""
            ],
            "application/vnd.google.colaboratory.intrinsic+json": {
              "type": "string"
            }
          },
          "metadata": {},
          "execution_count": 10
        }
      ]
    },
    {
      "cell_type": "markdown",
      "source": [
        "### Accessing Substrings from a String"
      ],
      "metadata": {
        "id": "MkOr7ye9OD_-"
      },
      "id": "MkOr7ye9OD_-"
    },
    {
      "cell_type": "code",
      "source": [
        "# Positive Indexing\n",
        "s = 'hello world'\n",
        "print(s[10])"
      ],
      "metadata": {
        "colab": {
          "base_uri": "https://localhost:8080/"
        },
        "id": "EPk8Tcb3NNq-",
        "outputId": "4944ab1f-8da0-4cf1-db61-7b21f29c71c5"
      },
      "id": "EPk8Tcb3NNq-",
      "execution_count": null,
      "outputs": [
        {
          "output_type": "stream",
          "name": "stdout",
          "text": [
            "d\n"
          ]
        }
      ]
    },
    {
      "cell_type": "code",
      "source": [
        "# Negative Indexing\n",
        "s = 'hello world'\n",
        "print(s[-5])"
      ],
      "metadata": {
        "colab": {
          "base_uri": "https://localhost:8080/"
        },
        "id": "nduKyQEfNNn5",
        "outputId": "8af26d66-91b0-4085-98c8-52e22a19c322"
      },
      "id": "nduKyQEfNNn5",
      "execution_count": null,
      "outputs": [
        {
          "output_type": "stream",
          "name": "stdout",
          "text": [
            "w\n"
          ]
        }
      ]
    },
    {
      "cell_type": "code",
      "source": [
        "# Slicing\n",
        "s = 'hello world'\n",
        "print(s[6:0:-2])"
      ],
      "metadata": {
        "colab": {
          "base_uri": "https://localhost:8080/"
        },
        "id": "YmKguRVxNNj8",
        "outputId": "e0f75083-2bd4-48ec-ffa0-a3c245d0cea7"
      },
      "id": "YmKguRVxNNj8",
      "execution_count": null,
      "outputs": [
        {
          "output_type": "stream",
          "name": "stdout",
          "text": [
            "wol\n"
          ]
        }
      ]
    },
    {
      "cell_type": "code",
      "source": [
        "# Slicing\n",
        "s = 'hello world'\n",
        "print(s[0:5])"
      ],
      "metadata": {
        "colab": {
          "base_uri": "https://localhost:8080/"
        },
        "id": "oEHC72EcNNgc",
        "outputId": "659e5bfb-8646-43f1-a583-84172230274b"
      },
      "id": "oEHC72EcNNgc",
      "execution_count": null,
      "outputs": [
        {
          "output_type": "stream",
          "name": "stdout",
          "text": [
            "hello\n"
          ]
        }
      ]
    },
    {
      "cell_type": "code",
      "source": [
        "print(s[::-1])"
      ],
      "metadata": {
        "colab": {
          "base_uri": "https://localhost:8080/"
        },
        "id": "MOMDEL_2NNdM",
        "outputId": "f878321d-d8cb-4457-c12a-6f04dd99892e"
      },
      "id": "MOMDEL_2NNdM",
      "execution_count": null,
      "outputs": [
        {
          "output_type": "stream",
          "name": "stdout",
          "text": [
            "dlrow olleh\n"
          ]
        }
      ]
    },
    {
      "cell_type": "code",
      "source": [
        "s = 'hello world'\n",
        "print(s[-1:-6:-1])"
      ],
      "metadata": {
        "colab": {
          "base_uri": "https://localhost:8080/"
        },
        "id": "fTdPpRBKPmoq",
        "outputId": "4edc59d5-7a0e-4c22-d9fa-357d2a4be6a0"
      },
      "id": "fTdPpRBKPmoq",
      "execution_count": null,
      "outputs": [
        {
          "output_type": "stream",
          "name": "stdout",
          "text": [
            "dlrow\n"
          ]
        }
      ]
    },
    {
      "cell_type": "markdown",
      "source": [
        "### Editing and Deleting in Strings"
      ],
      "metadata": {
        "id": "SA7Wv7smQxBI"
      },
      "id": "SA7Wv7smQxBI"
    },
    {
      "cell_type": "code",
      "source": [
        "s = 'hello world'\n",
        "s[0] = 'H'\n",
        "\n",
        "# Python strings are immutable"
      ],
      "metadata": {
        "id": "tWnjCaazPmlf",
        "colab": {
          "base_uri": "https://localhost:8080/",
          "height": 218
        },
        "outputId": "5e8bdfa4-aa1b-47e5-fd02-ee40b28b3b27"
      },
      "id": "tWnjCaazPmlf",
      "execution_count": null,
      "outputs": [
        {
          "output_type": "error",
          "ename": "TypeError",
          "evalue": "ignored",
          "traceback": [
            "\u001b[0;31m---------------------------------------------------------------------------\u001b[0m",
            "\u001b[0;31mTypeError\u001b[0m                                 Traceback (most recent call last)",
            "\u001b[0;32m<ipython-input-1-2e7e37261de1>\u001b[0m in \u001b[0;36m<cell line: 2>\u001b[0;34m()\u001b[0m\n\u001b[1;32m      1\u001b[0m \u001b[0ms\u001b[0m \u001b[0;34m=\u001b[0m \u001b[0;34m'hello world'\u001b[0m\u001b[0;34m\u001b[0m\u001b[0;34m\u001b[0m\u001b[0m\n\u001b[0;32m----> 2\u001b[0;31m \u001b[0ms\u001b[0m\u001b[0;34m[\u001b[0m\u001b[0;36m0\u001b[0m\u001b[0;34m]\u001b[0m \u001b[0;34m=\u001b[0m \u001b[0;34m'H'\u001b[0m\u001b[0;34m\u001b[0m\u001b[0;34m\u001b[0m\u001b[0m\n\u001b[0m\u001b[1;32m      3\u001b[0m \u001b[0;34m\u001b[0m\u001b[0m\n\u001b[1;32m      4\u001b[0m \u001b[0;31m# Python strings are immutable\u001b[0m\u001b[0;34m\u001b[0m\u001b[0;34m\u001b[0m\u001b[0m\n",
            "\u001b[0;31mTypeError\u001b[0m: 'str' object does not support item assignment"
          ]
        }
      ]
    },
    {
      "cell_type": "code",
      "source": [
        "s = 'hello world'\n",
        "del s\n",
        "print(s)"
      ],
      "metadata": {
        "colab": {
          "base_uri": "https://localhost:8080/",
          "height": 200
        },
        "id": "O7-S_aEGPmil",
        "outputId": "03a793ad-ca28-480c-e5e1-c4ddfa24f8a9"
      },
      "id": "O7-S_aEGPmil",
      "execution_count": null,
      "outputs": [
        {
          "output_type": "error",
          "ename": "NameError",
          "evalue": "ignored",
          "traceback": [
            "\u001b[0;31m---------------------------------------------------------------------------\u001b[0m",
            "\u001b[0;31mNameError\u001b[0m                                 Traceback (most recent call last)",
            "\u001b[0;32m<ipython-input-2-9ae37fbf1c6c>\u001b[0m in \u001b[0;36m<cell line: 3>\u001b[0;34m()\u001b[0m\n\u001b[1;32m      1\u001b[0m \u001b[0ms\u001b[0m \u001b[0;34m=\u001b[0m \u001b[0;34m'hello world'\u001b[0m\u001b[0;34m\u001b[0m\u001b[0;34m\u001b[0m\u001b[0m\n\u001b[1;32m      2\u001b[0m \u001b[0;32mdel\u001b[0m \u001b[0ms\u001b[0m\u001b[0;34m\u001b[0m\u001b[0;34m\u001b[0m\u001b[0m\n\u001b[0;32m----> 3\u001b[0;31m \u001b[0mprint\u001b[0m\u001b[0;34m(\u001b[0m\u001b[0ms\u001b[0m\u001b[0;34m)\u001b[0m\u001b[0;34m\u001b[0m\u001b[0;34m\u001b[0m\u001b[0m\n\u001b[0m",
            "\u001b[0;31mNameError\u001b[0m: name 's' is not defined"
          ]
        }
      ]
    },
    {
      "cell_type": "markdown",
      "source": [
        "### Operations on Strings\n",
        "\n",
        "- Arithmetic Operations\n",
        "- Relational Operations\n",
        "- Logical Operations\n",
        "- Loops on Strings\n",
        "- Membership Operations"
      ],
      "metadata": {
        "id": "ADxLHS2SRhL7"
      },
      "id": "ADxLHS2SRhL7"
    },
    {
      "cell_type": "code",
      "source": [
        "print('delhi' + ' ' + 'mumbai')"
      ],
      "metadata": {
        "colab": {
          "base_uri": "https://localhost:8080/"
        },
        "id": "UevZOPpRPmfe",
        "outputId": "579879fd-901f-4c65-f664-0404a1b8171d"
      },
      "id": "UevZOPpRPmfe",
      "execution_count": null,
      "outputs": [
        {
          "output_type": "stream",
          "name": "stdout",
          "text": [
            "delhi mumbai\n"
          ]
        }
      ]
    },
    {
      "cell_type": "code",
      "source": [
        "print('delhi'*5)"
      ],
      "metadata": {
        "colab": {
          "base_uri": "https://localhost:8080/"
        },
        "id": "pFYwdKSoPmcw",
        "outputId": "4eb2c374-85a8-4db3-edb8-d79be2eb374f"
      },
      "id": "pFYwdKSoPmcw",
      "execution_count": null,
      "outputs": [
        {
          "output_type": "stream",
          "name": "stdout",
          "text": [
            "delhidelhidelhidelhidelhi\n"
          ]
        }
      ]
    },
    {
      "cell_type": "markdown",
      "source": [
        "Relational Operations"
      ],
      "metadata": {
        "id": "J_F71OAnRxYI"
      },
      "id": "J_F71OAnRxYI"
    },
    {
      "cell_type": "code",
      "source": [
        "'delhi' != 'delhi'"
      ],
      "metadata": {
        "colab": {
          "base_uri": "https://localhost:8080/"
        },
        "id": "szkREbiXPmaI",
        "outputId": "35e770d2-12cd-480b-92c3-f8f5ca865891"
      },
      "id": "szkREbiXPmaI",
      "execution_count": null,
      "outputs": [
        {
          "output_type": "execute_result",
          "data": {
            "text/plain": [
              "False"
            ]
          },
          "metadata": {},
          "execution_count": 26
        }
      ]
    },
    {
      "cell_type": "code",
      "source": [
        "'mumbai' > 'pune'\n",
        "# lexiographically"
      ],
      "metadata": {
        "colab": {
          "base_uri": "https://localhost:8080/"
        },
        "id": "VyTGzebkPmXy",
        "outputId": "111f15ba-42c7-43d2-e972-c9fc245dd545"
      },
      "id": "VyTGzebkPmXy",
      "execution_count": null,
      "outputs": [
        {
          "output_type": "execute_result",
          "data": {
            "text/plain": [
              "False"
            ]
          },
          "metadata": {},
          "execution_count": 27
        }
      ]
    },
    {
      "cell_type": "code",
      "source": [
        "'Pune' > 'pune'"
      ],
      "metadata": {
        "colab": {
          "base_uri": "https://localhost:8080/"
        },
        "id": "ER3rwlBTPmUa",
        "outputId": "00268a0d-c570-4c3b-cd85-f33e32b4a452"
      },
      "id": "ER3rwlBTPmUa",
      "execution_count": null,
      "outputs": [
        {
          "output_type": "execute_result",
          "data": {
            "text/plain": [
              "False"
            ]
          },
          "metadata": {},
          "execution_count": 28
        }
      ]
    },
    {
      "cell_type": "markdown",
      "source": [
        "Logical Operations"
      ],
      "metadata": {
        "id": "WoKGNc4XSYwF"
      },
      "id": "WoKGNc4XSYwF"
    },
    {
      "cell_type": "code",
      "source": [
        "'hello' and 'world'"
      ],
      "metadata": {
        "colab": {
          "base_uri": "https://localhost:8080/",
          "height": 35
        },
        "id": "YUSzGPsCPmSi",
        "outputId": "6cd364d9-f690-49a8-ea3e-c0c76cd454cf"
      },
      "id": "YUSzGPsCPmSi",
      "execution_count": null,
      "outputs": [
        {
          "output_type": "execute_result",
          "data": {
            "text/plain": [
              "'world'"
            ],
            "application/vnd.google.colaboratory.intrinsic+json": {
              "type": "string"
            }
          },
          "metadata": {},
          "execution_count": 30
        }
      ]
    },
    {
      "cell_type": "code",
      "source": [
        "'hello' or 'world'"
      ],
      "metadata": {
        "colab": {
          "base_uri": "https://localhost:8080/",
          "height": 35
        },
        "id": "iaAfi86xPmPr",
        "outputId": "14d27630-3e5a-492c-97d2-3e08a7e9d6e1"
      },
      "id": "iaAfi86xPmPr",
      "execution_count": null,
      "outputs": [
        {
          "output_type": "execute_result",
          "data": {
            "text/plain": [
              "'hello'"
            ],
            "application/vnd.google.colaboratory.intrinsic+json": {
              "type": "string"
            }
          },
          "metadata": {},
          "execution_count": 31
        }
      ]
    },
    {
      "cell_type": "code",
      "source": [
        "'' and 'world'\n",
        "#empty string act as False string act as True"
      ],
      "metadata": {
        "colab": {
          "base_uri": "https://localhost:8080/",
          "height": 35
        },
        "id": "6ix4CdFzPmMZ",
        "outputId": "abcaee19-cd67-4ad7-8401-e3fd26bf022a"
      },
      "id": "6ix4CdFzPmMZ",
      "execution_count": null,
      "outputs": [
        {
          "output_type": "execute_result",
          "data": {
            "text/plain": [
              "''"
            ],
            "application/vnd.google.colaboratory.intrinsic+json": {
              "type": "string"
            }
          },
          "metadata": {},
          "execution_count": 32
        }
      ]
    },
    {
      "cell_type": "code",
      "source": [
        "not 'hello'"
      ],
      "metadata": {
        "colab": {
          "base_uri": "https://localhost:8080/"
        },
        "id": "TxvCl8AbPmJs",
        "outputId": "c97a0741-0e20-46d8-a6f8-aac8a90d24f7"
      },
      "id": "TxvCl8AbPmJs",
      "execution_count": null,
      "outputs": [
        {
          "output_type": "execute_result",
          "data": {
            "text/plain": [
              "False"
            ]
          },
          "metadata": {},
          "execution_count": 33
        }
      ]
    },
    {
      "cell_type": "markdown",
      "source": [
        "### Loops on Strings"
      ],
      "metadata": {
        "id": "T0Ls61tMTP__"
      },
      "id": "T0Ls61tMTP__"
    },
    {
      "cell_type": "code",
      "source": [
        "for i in 'hello':\n",
        "  print(i)"
      ],
      "metadata": {
        "colab": {
          "base_uri": "https://localhost:8080/"
        },
        "id": "8-jAhJ_0NNUG",
        "outputId": "addc21d4-a19b-49aa-c153-ba2c776aa6a1"
      },
      "id": "8-jAhJ_0NNUG",
      "execution_count": null,
      "outputs": [
        {
          "output_type": "stream",
          "name": "stdout",
          "text": [
            "h\n",
            "e\n",
            "l\n",
            "l\n",
            "o\n"
          ]
        }
      ]
    },
    {
      "cell_type": "code",
      "source": [
        "'D' in 'delhi'"
      ],
      "metadata": {
        "colab": {
          "base_uri": "https://localhost:8080/"
        },
        "id": "xGlERuqUTPjL",
        "outputId": "ef7b4e02-4b8e-4373-fc6d-89f7f059e11d"
      },
      "id": "xGlERuqUTPjL",
      "execution_count": null,
      "outputs": [
        {
          "output_type": "execute_result",
          "data": {
            "text/plain": [
              "False"
            ]
          },
          "metadata": {},
          "execution_count": 35
        }
      ]
    },
    {
      "cell_type": "markdown",
      "source": [
        "Common Functions\n",
        "- len\n",
        "- max\n",
        "- min\n",
        "- sorted"
      ],
      "metadata": {
        "id": "yGgphNxMTvbo"
      },
      "id": "yGgphNxMTvbo"
    },
    {
      "cell_type": "code",
      "source": [
        "len('hello word')"
      ],
      "metadata": {
        "colab": {
          "base_uri": "https://localhost:8080/"
        },
        "id": "PKSH_R2NTPgi",
        "outputId": "e1762ac3-fe68-446c-a68e-b058ca44ff97"
      },
      "id": "PKSH_R2NTPgi",
      "execution_count": null,
      "outputs": [
        {
          "output_type": "execute_result",
          "data": {
            "text/plain": [
              "10"
            ]
          },
          "metadata": {},
          "execution_count": 38
        }
      ]
    },
    {
      "cell_type": "code",
      "source": [
        "max('hello') #base on as key"
      ],
      "metadata": {
        "colab": {
          "base_uri": "https://localhost:8080/",
          "height": 35
        },
        "id": "cGSpnx3STPdp",
        "outputId": "13017cd1-23db-4a97-ec35-ee80ca067f41"
      },
      "id": "cGSpnx3STPdp",
      "execution_count": null,
      "outputs": [
        {
          "output_type": "execute_result",
          "data": {
            "text/plain": [
              "'o'"
            ],
            "application/vnd.google.colaboratory.intrinsic+json": {
              "type": "string"
            }
          },
          "metadata": {},
          "execution_count": 39
        }
      ]
    },
    {
      "cell_type": "code",
      "source": [
        "min('hello')"
      ],
      "metadata": {
        "colab": {
          "base_uri": "https://localhost:8080/",
          "height": 35
        },
        "id": "mLWr_sErTPa7",
        "outputId": "044f5602-7fd8-40d7-b501-866afb3fa6f8"
      },
      "id": "mLWr_sErTPa7",
      "execution_count": null,
      "outputs": [
        {
          "output_type": "execute_result",
          "data": {
            "text/plain": [
              "'e'"
            ],
            "application/vnd.google.colaboratory.intrinsic+json": {
              "type": "string"
            }
          },
          "metadata": {},
          "execution_count": 40
        }
      ]
    },
    {
      "cell_type": "code",
      "source": [
        "sorted('hello') #output list"
      ],
      "metadata": {
        "colab": {
          "base_uri": "https://localhost:8080/"
        },
        "id": "a56SPWbsTPYE",
        "outputId": "106f061e-d82c-443c-a979-40dc40701fa8"
      },
      "id": "a56SPWbsTPYE",
      "execution_count": null,
      "outputs": [
        {
          "output_type": "execute_result",
          "data": {
            "text/plain": [
              "['e', 'h', 'l', 'l', 'o']"
            ]
          },
          "metadata": {},
          "execution_count": 42
        }
      ]
    },
    {
      "cell_type": "code",
      "source": [
        "sorted('hello',reverse=True) #output list"
      ],
      "metadata": {
        "colab": {
          "base_uri": "https://localhost:8080/"
        },
        "id": "usO-gKBcTPVX",
        "outputId": "8a0a3acc-d0c9-4c1d-f68c-da7b7af33d4f"
      },
      "id": "usO-gKBcTPVX",
      "execution_count": null,
      "outputs": [
        {
          "output_type": "execute_result",
          "data": {
            "text/plain": [
              "['o', 'l', 'l', 'h', 'e']"
            ]
          },
          "metadata": {},
          "execution_count": 43
        }
      ]
    },
    {
      "cell_type": "markdown",
      "source": [
        "### Capitalize/Title/Upper/Lower/Swapcase"
      ],
      "metadata": {
        "id": "6U-72w96UeS5"
      },
      "id": "6U-72w96UeS5"
    },
    {
      "cell_type": "code",
      "source": [
        "s = 'hello world'\n",
        "print(s.capitalize())\n",
        "print(s)"
      ],
      "metadata": {
        "colab": {
          "base_uri": "https://localhost:8080/"
        },
        "id": "f7KJV8C3TPSe",
        "outputId": "0374f805-27eb-40b9-b308-6b129a8de978"
      },
      "id": "f7KJV8C3TPSe",
      "execution_count": null,
      "outputs": [
        {
          "output_type": "stream",
          "name": "stdout",
          "text": [
            "Hello world\n",
            "hello world\n"
          ]
        }
      ]
    },
    {
      "cell_type": "code",
      "source": [
        "s.title()"
      ],
      "metadata": {
        "colab": {
          "base_uri": "https://localhost:8080/",
          "height": 35
        },
        "id": "YmG7T_3sTPPz",
        "outputId": "0b5f2aa0-3c5c-489e-ddef-227955a47c97"
      },
      "id": "YmG7T_3sTPPz",
      "execution_count": null,
      "outputs": [
        {
          "output_type": "execute_result",
          "data": {
            "text/plain": [
              "'Hello World'"
            ],
            "application/vnd.google.colaboratory.intrinsic+json": {
              "type": "string"
            }
          },
          "metadata": {},
          "execution_count": 45
        }
      ]
    },
    {
      "cell_type": "code",
      "source": [
        "s.upper()"
      ],
      "metadata": {
        "colab": {
          "base_uri": "https://localhost:8080/",
          "height": 35
        },
        "id": "wzbNUJhJTPNJ",
        "outputId": "aaeb7f11-2d79-417d-d799-007be1a04cb5"
      },
      "id": "wzbNUJhJTPNJ",
      "execution_count": null,
      "outputs": [
        {
          "output_type": "execute_result",
          "data": {
            "text/plain": [
              "'HELLO WORLD'"
            ],
            "application/vnd.google.colaboratory.intrinsic+json": {
              "type": "string"
            }
          },
          "metadata": {},
          "execution_count": 46
        }
      ]
    },
    {
      "cell_type": "code",
      "source": [
        "'Hello Wolrd'.lower()"
      ],
      "metadata": {
        "colab": {
          "base_uri": "https://localhost:8080/",
          "height": 35
        },
        "id": "I1t6Y8a7TPKG",
        "outputId": "60f96e3a-6125-4152-8fa5-5d4411eef045"
      },
      "id": "I1t6Y8a7TPKG",
      "execution_count": null,
      "outputs": [
        {
          "output_type": "execute_result",
          "data": {
            "text/plain": [
              "'hello wolrd'"
            ],
            "application/vnd.google.colaboratory.intrinsic+json": {
              "type": "string"
            }
          },
          "metadata": {},
          "execution_count": 47
        }
      ]
    },
    {
      "cell_type": "code",
      "source": [
        "'HeLlO WorLD'.swapcase()"
      ],
      "metadata": {
        "colab": {
          "base_uri": "https://localhost:8080/",
          "height": 35
        },
        "id": "8xI2nL4UTPHN",
        "outputId": "92258f58-d1c9-4bdb-d72f-88a7d2ae0274"
      },
      "id": "8xI2nL4UTPHN",
      "execution_count": null,
      "outputs": [
        {
          "output_type": "execute_result",
          "data": {
            "text/plain": [
              "'hElLo wORld'"
            ],
            "application/vnd.google.colaboratory.intrinsic+json": {
              "type": "string"
            }
          },
          "metadata": {},
          "execution_count": 48
        }
      ]
    },
    {
      "cell_type": "markdown",
      "source": [
        "Count/Find/Index"
      ],
      "metadata": {
        "id": "tyzNyHJxU4fN"
      },
      "id": "tyzNyHJxU4fN"
    },
    {
      "cell_type": "code",
      "source": [
        "'my name is nitish'.count('i')"
      ],
      "metadata": {
        "colab": {
          "base_uri": "https://localhost:8080/"
        },
        "id": "yk0kFzYFU0qb",
        "outputId": "1b29b8e5-a040-4385-a2f9-082031f406b2"
      },
      "id": "yk0kFzYFU0qb",
      "execution_count": null,
      "outputs": [
        {
          "output_type": "execute_result",
          "data": {
            "text/plain": [
              "3"
            ]
          },
          "metadata": {},
          "execution_count": 49
        }
      ]
    },
    {
      "cell_type": "code",
      "source": [
        "'my name is nitish'.find('n')"
      ],
      "metadata": {
        "colab": {
          "base_uri": "https://localhost:8080/"
        },
        "id": "nS3EPHsiU0ni",
        "outputId": "d7e8dbfc-2040-4c0c-c628-f9a47ba8b5ca"
      },
      "id": "nS3EPHsiU0ni",
      "execution_count": null,
      "outputs": [
        {
          "output_type": "execute_result",
          "data": {
            "text/plain": [
              "3"
            ]
          },
          "metadata": {},
          "execution_count": 51
        }
      ]
    },
    {
      "cell_type": "code",
      "source": [
        "'my name is nitish'.index('n') #same as index\n"
      ],
      "metadata": {
        "colab": {
          "base_uri": "https://localhost:8080/"
        },
        "id": "zERvTN3lU0ky",
        "outputId": "c5c779ea-2f48-4b07-af1d-9ad7bf185918"
      },
      "id": "zERvTN3lU0ky",
      "execution_count": null,
      "outputs": [
        {
          "output_type": "execute_result",
          "data": {
            "text/plain": [
              "3"
            ]
          },
          "metadata": {},
          "execution_count": 8
        }
      ]
    },
    {
      "cell_type": "markdown",
      "source": [
        "endswith/startswith"
      ],
      "metadata": {
        "id": "vvii-v0wVf0D"
      },
      "id": "vvii-v0wVf0D"
    },
    {
      "cell_type": "code",
      "source": [
        "'my name is nitish'.endswith('ish')"
      ],
      "metadata": {
        "colab": {
          "base_uri": "https://localhost:8080/"
        },
        "id": "fBa9_kW5U0iv",
        "outputId": "184349ce-5eef-43af-ae35-e2f2ced92b41"
      },
      "id": "fBa9_kW5U0iv",
      "execution_count": null,
      "outputs": [
        {
          "output_type": "execute_result",
          "data": {
            "text/plain": [
              "True"
            ]
          },
          "metadata": {},
          "execution_count": 57
        }
      ]
    },
    {
      "cell_type": "code",
      "source": [
        "'my name is nitish'.startswith('1my')"
      ],
      "metadata": {
        "colab": {
          "base_uri": "https://localhost:8080/"
        },
        "id": "ETkHli4BU0gE",
        "outputId": "c2ac27b0-c1a0-439e-d0da-87e577b18ea7"
      },
      "id": "ETkHli4BU0gE",
      "execution_count": null,
      "outputs": [
        {
          "output_type": "execute_result",
          "data": {
            "text/plain": [
              "False"
            ]
          },
          "metadata": {},
          "execution_count": 56
        }
      ]
    },
    {
      "cell_type": "markdown",
      "source": [
        "Format"
      ],
      "metadata": {
        "id": "jsxccUHnVpqm"
      },
      "id": "jsxccUHnVpqm"
    },
    {
      "cell_type": "code",
      "source": [
        "name = 'nitish'\n",
        "gender = 'male'\n",
        "\n",
        "'Hi my name is {1} and I am a {0}'.format(gender,name)"
      ],
      "metadata": {
        "colab": {
          "base_uri": "https://localhost:8080/",
          "height": 35
        },
        "id": "iQGc1SkIU0cd",
        "outputId": "41140185-06ab-4b4e-eaed-e878f89a2ecc"
      },
      "id": "iQGc1SkIU0cd",
      "execution_count": null,
      "outputs": [
        {
          "output_type": "execute_result",
          "data": {
            "text/plain": [
              "'Hi my name is nitish and I am a male'"
            ],
            "application/vnd.google.colaboratory.intrinsic+json": {
              "type": "string"
            }
          },
          "metadata": {},
          "execution_count": 58
        }
      ]
    },
    {
      "cell_type": "markdown",
      "source": [
        "isalnum/ isalpha/ isdigit/ isidentifier"
      ],
      "metadata": {
        "id": "LBsB0XHCWV9J"
      },
      "id": "LBsB0XHCWV9J"
    },
    {
      "cell_type": "code",
      "source": [
        "'nitish1234%'.isalnum()"
      ],
      "metadata": {
        "colab": {
          "base_uri": "https://localhost:8080/"
        },
        "id": "cSNk6XUKU0Z9",
        "outputId": "1695c375-36a3-4b76-a037-1c794ca0c4a0"
      },
      "id": "cSNk6XUKU0Z9",
      "execution_count": null,
      "outputs": [
        {
          "output_type": "execute_result",
          "data": {
            "text/plain": [
              "False"
            ]
          },
          "metadata": {},
          "execution_count": 59
        }
      ]
    },
    {
      "cell_type": "code",
      "source": [
        "'nitish'.isalpha()"
      ],
      "metadata": {
        "colab": {
          "base_uri": "https://localhost:8080/"
        },
        "id": "tgaKN2APU0XS",
        "outputId": "60c2b5a5-9dfd-4a6e-c1e4-a00b8cc2c099"
      },
      "id": "tgaKN2APU0XS",
      "execution_count": null,
      "outputs": [
        {
          "output_type": "execute_result",
          "data": {
            "text/plain": [
              "True"
            ]
          },
          "metadata": {},
          "execution_count": 60
        }
      ]
    },
    {
      "cell_type": "code",
      "source": [
        "'123'.isdigit()"
      ],
      "metadata": {
        "colab": {
          "base_uri": "https://localhost:8080/"
        },
        "id": "1OblMo4EU0Uc",
        "outputId": "d7ed6c14-5115-4302-ae13-c01887fb50e9"
      },
      "id": "1OblMo4EU0Uc",
      "execution_count": null,
      "outputs": [
        {
          "output_type": "execute_result",
          "data": {
            "text/plain": [
              "True"
            ]
          },
          "metadata": {},
          "execution_count": 62
        }
      ]
    },
    {
      "cell_type": "code",
      "source": [
        "'first-name'.isidentifier()"
      ],
      "metadata": {
        "colab": {
          "base_uri": "https://localhost:8080/"
        },
        "id": "itVF4DWtU0Ry",
        "outputId": "807b6356-ef13-40eb-cbe3-808fc57b6a88"
      },
      "id": "itVF4DWtU0Ry",
      "execution_count": null,
      "outputs": [
        {
          "output_type": "execute_result",
          "data": {
            "text/plain": [
              "False"
            ]
          },
          "metadata": {},
          "execution_count": 63
        }
      ]
    },
    {
      "cell_type": "markdown",
      "source": [
        "Split/Join"
      ],
      "metadata": {
        "id": "CVB0jHe8WspI"
      },
      "id": "CVB0jHe8WspI"
    },
    {
      "cell_type": "code",
      "source": [
        "'hi my name is nitish'.split()"
      ],
      "metadata": {
        "colab": {
          "base_uri": "https://localhost:8080/"
        },
        "id": "9z8Lxg7ZU0O6",
        "outputId": "03d2068b-155b-42c8-bbc4-9bec0f1af1fd"
      },
      "id": "9z8Lxg7ZU0O6",
      "execution_count": null,
      "outputs": [
        {
          "output_type": "execute_result",
          "data": {
            "text/plain": [
              "['hi', 'my', 'name', 'is', 'nitish']"
            ]
          },
          "metadata": {},
          "execution_count": 64
        }
      ]
    },
    {
      "cell_type": "code",
      "source": [
        "'hi my name is nitish'.split('i')"
      ],
      "metadata": {
        "colab": {
          "base_uri": "https://localhost:8080/"
        },
        "id": "4wJINjkHU0MT",
        "outputId": "2961745b-a82c-4746-e079-29aa19f7fcf6"
      },
      "id": "4wJINjkHU0MT",
      "execution_count": null,
      "outputs": [
        {
          "output_type": "execute_result",
          "data": {
            "text/plain": [
              "['h', ' my name ', 's n', 't', 'sh']"
            ]
          },
          "metadata": {},
          "execution_count": 66
        }
      ]
    },
    {
      "cell_type": "code",
      "source": [
        "\" \".join(['hi', 'my', 'name', 'is', 'nitish'])"
      ],
      "metadata": {
        "colab": {
          "base_uri": "https://localhost:8080/",
          "height": 35
        },
        "id": "y7oN0QMwWr0A",
        "outputId": "705e1c94-c2aa-4606-89d0-5de8463ac877"
      },
      "id": "y7oN0QMwWr0A",
      "execution_count": null,
      "outputs": [
        {
          "output_type": "execute_result",
          "data": {
            "text/plain": [
              "'hi my name is nitish'"
            ],
            "application/vnd.google.colaboratory.intrinsic+json": {
              "type": "string"
            }
          },
          "metadata": {},
          "execution_count": 67
        }
      ]
    },
    {
      "cell_type": "code",
      "source": [
        "\"_\".join(['hi', 'my', 'name', 'is', 'nitish'])"
      ],
      "metadata": {
        "colab": {
          "base_uri": "https://localhost:8080/",
          "height": 35
        },
        "id": "Rv3tfumIWrwc",
        "outputId": "5688adc2-426d-41e7-ebb4-db09c346975e"
      },
      "id": "Rv3tfumIWrwc",
      "execution_count": null,
      "outputs": [
        {
          "output_type": "execute_result",
          "data": {
            "text/plain": [
              "'hi_my_name_is_nitish'"
            ],
            "application/vnd.google.colaboratory.intrinsic+json": {
              "type": "string"
            }
          },
          "metadata": {},
          "execution_count": 68
        }
      ]
    },
    {
      "cell_type": "markdown",
      "source": [
        "Replace"
      ],
      "metadata": {
        "id": "TNpQr2YAXJbq"
      },
      "id": "TNpQr2YAXJbq"
    },
    {
      "cell_type": "code",
      "source": [
        "'hi my name is nitish'.replace('nitisrgewrhgh','campusx')"
      ],
      "metadata": {
        "colab": {
          "base_uri": "https://localhost:8080/",
          "height": 36
        },
        "id": "SXxmyIuoWrtT",
        "outputId": "abcb8a75-955d-4ffe-f1f9-42948baffeb8"
      },
      "id": "SXxmyIuoWrtT",
      "execution_count": null,
      "outputs": [
        {
          "output_type": "execute_result",
          "data": {
            "text/plain": [
              "'hi my name is nitish'"
            ],
            "application/vnd.google.colaboratory.intrinsic+json": {
              "type": "string"
            }
          },
          "metadata": {},
          "execution_count": 3
        }
      ]
    },
    {
      "cell_type": "markdown",
      "source": [
        "Strip"
      ],
      "metadata": {
        "id": "PCgmm2aBXVAz"
      },
      "id": "PCgmm2aBXVAz"
    },
    {
      "cell_type": "code",
      "source": [
        "'nitish                           '.strip()"
      ],
      "metadata": {
        "colab": {
          "base_uri": "https://localhost:8080/",
          "height": 35
        },
        "id": "55VvTM_DWrp2",
        "outputId": "32eba999-1cc5-4f72-cae9-7746e0162adc"
      },
      "id": "55VvTM_DWrp2",
      "execution_count": null,
      "outputs": [
        {
          "output_type": "execute_result",
          "data": {
            "text/plain": [
              "'nitish'"
            ],
            "application/vnd.google.colaboratory.intrinsic+json": {
              "type": "string"
            }
          },
          "metadata": {},
          "execution_count": 70
        }
      ]
    },
    {
      "cell_type": "code",
      "source": [
        "# Find the length of a given string without using the len() function\n",
        "\n",
        "s = input('enter the string')\n",
        "\n",
        "counter = 0\n",
        "\n",
        "for i in s:\n",
        "  counter += 1\n",
        "\n",
        "print('length of string is',counter)"
      ],
      "metadata": {
        "colab": {
          "base_uri": "https://localhost:8080/"
        },
        "id": "N6oQRTpnXOB3",
        "outputId": "6e4ffde1-3832-4812-88da-56b0c55b9052"
      },
      "id": "N6oQRTpnXOB3",
      "execution_count": null,
      "outputs": [
        {
          "output_type": "stream",
          "name": "stdout",
          "text": [
            "enter the stringranjit\n",
            "length of string is 6\n"
          ]
        }
      ]
    },
    {
      "cell_type": "code",
      "source": [
        "# Extract username from a given email.\n",
        "\n",
        "s = input('enter the email')\n",
        "\n",
        "pos = s.index('@')\n",
        "print(s[0:pos])\n"
      ],
      "metadata": {
        "colab": {
          "base_uri": "https://localhost:8080/"
        },
        "id": "Tvh7c_v_btmo",
        "outputId": "a1095c09-8953-47c3-b499-f3dae16c5876"
      },
      "id": "Tvh7c_v_btmo",
      "execution_count": null,
      "outputs": [
        {
          "output_type": "stream",
          "name": "stdout",
          "text": [
            "enter the emailranjitghadge555@gmail.com\n",
            "ranjitghadge555\n"
          ]
        }
      ]
    },
    {
      "cell_type": "code",
      "source": [
        "# Count the frequency of a particular character in a provided string.\n",
        "# Eg 'hello how are you' is the string, the frequency of h in this string is 2.\n",
        "\n",
        "s = input('enter the email')\n",
        "term = input('what would like to search for')\n",
        "\n",
        "counter = 0\n",
        "for i in s:\n",
        "  if i == term:\n",
        "    counter += 1\n",
        "\n",
        "print('frequency',counter)\n"
      ],
      "metadata": {
        "colab": {
          "base_uri": "https://localhost:8080/"
        },
        "id": "kgdaa5Svbtjy",
        "outputId": "49f04ba2-d1a7-4e40-c5ef-c867b58345b1"
      },
      "id": "kgdaa5Svbtjy",
      "execution_count": null,
      "outputs": [
        {
          "output_type": "stream",
          "name": "stdout",
          "text": [
            "enter the emailranjitghadge555@gmail.com\n",
            "what would like to search forr\n",
            "frequency 1\n"
          ]
        }
      ]
    },
    {
      "cell_type": "code",
      "source": [
        "# Write a program which can remove a particular character from a string.\n",
        "s = input('enter the string')\n",
        "term = input('what would like to remove')\n",
        "\n",
        "result = ''\n",
        "\n",
        "for i in s:\n",
        "  if i != term:\n",
        "    result = result + i\n",
        "\n",
        "print(result)"
      ],
      "metadata": {
        "colab": {
          "base_uri": "https://localhost:8080/"
        },
        "id": "8zh040BYbtbY",
        "outputId": "f57cd7d2-904b-4286-b011-3667b9c34cdb"
      },
      "id": "8zh040BYbtbY",
      "execution_count": null,
      "outputs": [
        {
          "output_type": "stream",
          "name": "stdout",
          "text": [
            "enter the stringagdadgaduagdiag\n",
            "what would like to removeg\n",
            "adadaduadia\n"
          ]
        }
      ]
    },
    {
      "cell_type": "code",
      "source": [
        "# Write a program that can check whether a given string is palindrome or not.\n",
        "# abba\n",
        "# malayalam\n",
        "\n",
        "s = input('enter the string')\n",
        "flag = True\n",
        "for i in range(0,len(s)//2):\n",
        "  if s[i] != s[len(s) - i -1]:\n",
        "    flag = False\n",
        "    print('Not a Palindrome')\n",
        "    break\n",
        "\n",
        "if flag:\n",
        "  print('Palindrome')"
      ],
      "metadata": {
        "colab": {
          "base_uri": "https://localhost:8080/"
        },
        "id": "yWfFbe9hbtYN",
        "outputId": "bb3c3bf6-a47c-4911-d432-99e53878ba6f"
      },
      "id": "yWfFbe9hbtYN",
      "execution_count": null,
      "outputs": [
        {
          "output_type": "stream",
          "name": "stdout",
          "text": [
            "enter the stringmalyalam\n",
            "Not a Palindrome\n"
          ]
        }
      ]
    },
    {
      "cell_type": "code",
      "source": [
        "# Write a program to count the number of words in a string without split()\n",
        "\n",
        "s = input('enter the string')\n",
        "L = []\n",
        "temp = ''\n",
        "for i in s:\n",
        "\n",
        "  if i != ' ':\n",
        "    temp = temp + i\n",
        "  else:\n",
        "    L.append(temp)\n",
        "    temp = ''\n",
        "\n",
        "L.append(temp)\n",
        "print(L)\n"
      ],
      "metadata": {
        "colab": {
          "base_uri": "https://localhost:8080/"
        },
        "id": "HALESRRubtVj",
        "outputId": "0db18c50-c3ec-4966-ff3a-561704b850be"
      },
      "id": "HALESRRubtVj",
      "execution_count": null,
      "outputs": [
        {
          "output_type": "stream",
          "name": "stdout",
          "text": [
            "enter the stringskhkfsh fhksfkh fdkhdskfh\n",
            "['skhkfsh', 'fhksfkh', 'fdkhdskfh']\n"
          ]
        }
      ]
    },
    {
      "cell_type": "code",
      "source": [
        "# Write a python program to convert a string to title case without using the title()\n",
        "s = input('enter the string')\n",
        "\n",
        "L = []\n",
        "for i in s.split():\n",
        "  L.append(i[0].upper() + i[1:].lower())\n",
        "\n",
        "print(\" \".join(L))"
      ],
      "metadata": {
        "colab": {
          "base_uri": "https://localhost:8080/"
        },
        "id": "e7w09zKnbtSd",
        "outputId": "a39d8190-6f2d-4055-9563-d6f86d6baa53"
      },
      "id": "e7w09zKnbtSd",
      "execution_count": null,
      "outputs": [
        {
          "output_type": "stream",
          "name": "stdout",
          "text": [
            "enter the stringranjit ghadge\n",
            "Ranjit Ghadge\n"
          ]
        }
      ]
    },
    {
      "cell_type": "code",
      "source": [
        "# Write a program that can convert an integer to string.\n",
        "\n",
        "number = int(input('enter the number'))\n",
        "\n",
        "digits = '0123456789'\n",
        "result = ''\n",
        "while number != 0:\n",
        "  result = digits[number % 10] + result\n",
        "  number = number//10\n",
        "\n",
        "print(result)\n",
        "print(type(result))"
      ],
      "metadata": {
        "colab": {
          "base_uri": "https://localhost:8080/"
        },
        "id": "i0GawEzKbtPV",
        "outputId": "e17e23fa-96ad-480a-8f59-77ded0d0c545"
      },
      "id": "i0GawEzKbtPV",
      "execution_count": null,
      "outputs": [
        {
          "output_type": "stream",
          "name": "stdout",
          "text": [
            "enter the number6646461313\n",
            "6646461313\n",
            "<class 'str'>\n"
          ]
        }
      ]
    },
    {
      "cell_type": "markdown",
      "metadata": {
        "id": "02f35638"
      },
      "source": [
        "# List"
      ],
      "id": "02f35638"
    },
    {
      "cell_type": "markdown",
      "source": [
        "**What are Lists**\n",
        "\n",
        "List is a data type where you can store multiple items under 1 name. More technically, lists act like dynamic arrays which means you can add more items on the fly."
      ],
      "metadata": {
        "id": "YXthf7xqrAhU"
      },
      "id": "YXthf7xqrAhU"
    },
    {
      "cell_type": "markdown",
      "source": [
        "**Array Vs Lists**\n",
        "\n",
        "Fixed Vs Dynamic Size\n",
        "\n",
        "Convenience -> Hetrogeneous\n",
        "\n",
        "Speed of Execution\n",
        "\n",
        "Memory"
      ],
      "metadata": {
        "id": "qNs-30OurdoO"
      },
      "id": "qNs-30OurdoO"
    },
    {
      "cell_type": "code",
      "source": [
        "L = [1,2,3]                 #list work like a referncial array\n",
        "\n",
        "print(id(L))\n",
        "print(id(L[0]))\n",
        "print(id(L[1]))\n",
        "print(id(L[2]))\n",
        "print(id(1))\n",
        "print(id(2))\n",
        "print(id(3))"
      ],
      "metadata": {
        "colab": {
          "base_uri": "https://localhost:8080/"
        },
        "id": "9Q4dts9BqRaY",
        "outputId": "2ec3ee84-46fa-4882-d7d5-11ff679bbdbe"
      },
      "id": "9Q4dts9BqRaY",
      "execution_count": null,
      "outputs": [
        {
          "output_type": "stream",
          "name": "stdout",
          "text": [
            "140430892353152\n",
            "140431178285296\n",
            "140431178285328\n",
            "140431178285360\n",
            "140431178285296\n",
            "140431178285328\n",
            "140431178285360\n"
          ]
        }
      ]
    },
    {
      "cell_type": "markdown",
      "source": [
        "### Characterstics of a List\n",
        "\n",
        "- Ordered\n",
        "- Changeble/Mutable\n",
        "- Hetrogeneous\n",
        "- Can have duplicates\n",
        "- are dynamic\n",
        "- can be nested\n",
        "- items can be accessed\n",
        "- can contain any kind of objects in python"
      ],
      "metadata": {
        "id": "pVPYIMVPubuu"
      },
      "id": "pVPYIMVPubuu"
    },
    {
      "cell_type": "code",
      "source": [
        "L = [1,2,3,1]\n",
        "L1 = [3,2,1]\n",
        "\n",
        "L == L1"
      ],
      "metadata": {
        "colab": {
          "base_uri": "https://localhost:8080/"
        },
        "id": "Uq87u6WmqRQo",
        "outputId": "af52f8fb-5b04-484e-9f1d-a60b43f82c3c"
      },
      "id": "Uq87u6WmqRQo",
      "execution_count": null,
      "outputs": [
        {
          "output_type": "execute_result",
          "data": {
            "text/plain": [
              "False"
            ]
          },
          "metadata": {},
          "execution_count": 2
        }
      ]
    },
    {
      "cell_type": "markdown",
      "source": [
        "### Creating a List"
      ],
      "metadata": {
        "id": "4stV2fBCvFij"
      },
      "id": "4stV2fBCvFij"
    },
    {
      "cell_type": "code",
      "source": [
        "# Empty\n",
        "print([])\n",
        "# 1D -> Homo\n",
        "print([1,2,3,4,5])\n",
        "# 2D\n",
        "print([1,2,3,[4,5]])\n",
        "# 3D\n",
        "print([[[1,2],[3,4]],[[5,6],[7,8]]])\n",
        "# Hetrogenous\n",
        "print([1,True,5.6,5+6j,'Hello'])\n",
        "# Using Type conversion\n",
        "print(list('hello'))"
      ],
      "metadata": {
        "colab": {
          "base_uri": "https://localhost:8080/"
        },
        "id": "_bfFW0VrvDqq",
        "outputId": "74e5e6a6-4acb-482d-dfdc-d8c7ee41f9a7"
      },
      "id": "_bfFW0VrvDqq",
      "execution_count": null,
      "outputs": [
        {
          "output_type": "stream",
          "name": "stdout",
          "text": [
            "[]\n",
            "[1, 2, 3, 4, 5]\n",
            "[1, 2, 3, [4, 5]]\n",
            "[[[1, 2], [3, 4]], [[5, 6], [7, 8]]]\n",
            "[1, True, 5.6, (5+6j), 'Hello']\n",
            "['h', 'e', 'l', 'l', 'o']\n"
          ]
        }
      ]
    },
    {
      "cell_type": "markdown",
      "source": [
        "### Accessing Items from a List"
      ],
      "metadata": {
        "id": "6KYsGD3gvn7p"
      },
      "id": "6KYsGD3gvn7p"
    },
    {
      "cell_type": "code",
      "source": [
        "# Indexing\n",
        "L = [[[1,2],[3,4]],[[5,6],[7,8]]]\n",
        "#positive\n",
        "print(L[0][0][1])\n",
        "\n",
        "# Slicing\n",
        "T = [1,2,3,4,5,6]\n",
        "print(T[0])\n",
        "print(T[-1])\n",
        "print(T[::-1])\n",
        "print(T[3::-1])"
      ],
      "metadata": {
        "colab": {
          "base_uri": "https://localhost:8080/"
        },
        "id": "91kli7SovDn0",
        "outputId": "1636e5e1-50f8-4214-b60d-f5e6f7b6649c"
      },
      "id": "91kli7SovDn0",
      "execution_count": null,
      "outputs": [
        {
          "output_type": "stream",
          "name": "stdout",
          "text": [
            "2\n",
            "1\n",
            "6\n",
            "[6, 5, 4, 3, 2, 1]\n",
            "[4, 3, 2, 1]\n"
          ]
        }
      ]
    },
    {
      "cell_type": "markdown",
      "source": [
        "### Adding Items to a List"
      ],
      "metadata": {
        "id": "LdjtL1Jaw1T2"
      },
      "id": "LdjtL1Jaw1T2"
    },
    {
      "cell_type": "code",
      "source": [
        "# append\n",
        "L = [1,2,3,4,5]\n",
        "L.append(True)\n",
        "print(L)\n",
        "\n",
        "L.append(6)\n",
        "print(L)"
      ],
      "metadata": {
        "colab": {
          "base_uri": "https://localhost:8080/"
        },
        "id": "SC7Te2knvDlS",
        "outputId": "690855d4-0fbf-476d-e023-8579f8b2ab43"
      },
      "id": "SC7Te2knvDlS",
      "execution_count": null,
      "outputs": [
        {
          "output_type": "stream",
          "name": "stdout",
          "text": [
            "[1, 2, 3, 4, 5, True]\n",
            "[1, 2, 3, 4, 5, True, 6]\n"
          ]
        }
      ]
    },
    {
      "cell_type": "code",
      "source": [
        "# extend\n",
        "L = [1,2,3,4,5]\n",
        "L.extend([6,7,8])\n",
        "print(L)"
      ],
      "metadata": {
        "colab": {
          "base_uri": "https://localhost:8080/"
        },
        "id": "7lKfX_z9vDie",
        "outputId": "57d97ed3-5e61-48d5-8511-a17e7a59868b"
      },
      "id": "7lKfX_z9vDie",
      "execution_count": null,
      "outputs": [
        {
          "output_type": "stream",
          "name": "stdout",
          "text": [
            "[1, 2, 3, 4, 5, 6, 7, 8]\n"
          ]
        }
      ]
    },
    {
      "cell_type": "code",
      "source": [
        "L = [1,2,3,4,5]\n",
        "L.append([6,7,8])\n",
        "print(L)"
      ],
      "metadata": {
        "colab": {
          "base_uri": "https://localhost:8080/"
        },
        "id": "vJmdL0QDvDfl",
        "outputId": "8b41f885-96eb-4bbe-d68f-cf858453c858"
      },
      "id": "vJmdL0QDvDfl",
      "execution_count": null,
      "outputs": [
        {
          "output_type": "stream",
          "name": "stdout",
          "text": [
            "[1, 2, 3, 4, 5, [6, 7, 8]]\n"
          ]
        }
      ]
    },
    {
      "cell_type": "code",
      "source": [
        "L = [1,2,3,4,5]\n",
        "L.extend('delhi')\n",
        "print(L)"
      ],
      "metadata": {
        "colab": {
          "base_uri": "https://localhost:8080/"
        },
        "id": "3cBPZdnwvDcy",
        "outputId": "e34d2971-1b4e-4583-88b8-c4b9dd4f4fbe"
      },
      "id": "3cBPZdnwvDcy",
      "execution_count": null,
      "outputs": [
        {
          "output_type": "stream",
          "name": "stdout",
          "text": [
            "[1, 2, 3, 4, 5, 'd', 'e', 'l', 'h', 'i']\n"
          ]
        }
      ]
    },
    {
      "cell_type": "code",
      "source": [
        "# insert\n",
        "L = [1,2,3,4,5]      #(location,no)\n",
        "\n",
        "L.insert(2,100)\n",
        "print(L)"
      ],
      "metadata": {
        "colab": {
          "base_uri": "https://localhost:8080/"
        },
        "id": "BHLg0_XdvDaU",
        "outputId": "faa59276-d66b-4548-e835-8a12913cbdc2"
      },
      "id": "BHLg0_XdvDaU",
      "execution_count": null,
      "outputs": [
        {
          "output_type": "stream",
          "name": "stdout",
          "text": [
            "[1, 2, 100, 3, 4, 5]\n"
          ]
        }
      ]
    },
    {
      "cell_type": "markdown",
      "source": [
        "### Editing items in a List"
      ],
      "metadata": {
        "id": "pzfZwRpTxfeO"
      },
      "id": "pzfZwRpTxfeO"
    },
    {
      "cell_type": "code",
      "source": [
        "L = [1,2,3,4,5]\n",
        "\n",
        "# editing with indexing\n",
        "L[-1] = 500\n",
        "\n",
        "# editing with slicing\n",
        "L[1:4] = [200,300,400]\n",
        "L[0] = 50\n",
        "print(L)"
      ],
      "metadata": {
        "colab": {
          "base_uri": "https://localhost:8080/"
        },
        "id": "F7m50iXFvDXm",
        "outputId": "9ec91859-9413-4986-c9d7-5b4b17e6f489"
      },
      "id": "F7m50iXFvDXm",
      "execution_count": null,
      "outputs": [
        {
          "output_type": "stream",
          "name": "stdout",
          "text": [
            "[50, 200, 300, 400, 500]\n"
          ]
        }
      ]
    },
    {
      "cell_type": "markdown",
      "source": [
        "### Deleting items from a List"
      ],
      "metadata": {
        "id": "ZYiAg61ax6OP"
      },
      "id": "ZYiAg61ax6OP"
    },
    {
      "cell_type": "code",
      "source": [
        "# del\n",
        "L = [1,2,3,4,5]\n",
        "\n",
        "# indexing\n",
        "del L[-1]\n",
        "print(L)\n",
        "# slicing\n",
        "del L[1:3]\n",
        "print(L)\n",
        "\n",
        "del L[0]\n",
        "print(L)"
      ],
      "metadata": {
        "colab": {
          "base_uri": "https://localhost:8080/"
        },
        "id": "XEibMfEWvDUz",
        "outputId": "0281f82d-7fcf-4eb0-f901-819344bdd0ad"
      },
      "id": "XEibMfEWvDUz",
      "execution_count": null,
      "outputs": [
        {
          "output_type": "stream",
          "name": "stdout",
          "text": [
            "[1, 2, 3, 4]\n",
            "[1, 4]\n",
            "[4]\n"
          ]
        }
      ]
    },
    {
      "cell_type": "code",
      "source": [
        "# remove\n",
        "\n",
        "L = [1,2,3,4,5]\n",
        "\n",
        "L.remove(5)\n",
        "\n",
        "print(L)\n",
        "\n",
        "L.remove(3)\n",
        "print(L)"
      ],
      "metadata": {
        "colab": {
          "base_uri": "https://localhost:8080/"
        },
        "id": "xy1LWzKYvDSS",
        "outputId": "5e58e81f-0d66-4ac6-ebb5-c76371bb565c"
      },
      "id": "xy1LWzKYvDSS",
      "execution_count": null,
      "outputs": [
        {
          "output_type": "stream",
          "name": "stdout",
          "text": [
            "[1, 2, 3, 4]\n",
            "[1, 2, 4]\n"
          ]
        }
      ]
    },
    {
      "cell_type": "code",
      "source": [
        "# pop\n",
        "L = [1,2,3,4,5]\n",
        "\n",
        "L.pop(0)\n",
        "\n",
        "print(L)"
      ],
      "metadata": {
        "colab": {
          "base_uri": "https://localhost:8080/"
        },
        "id": "-3ltnt-6vDPY",
        "outputId": "eaf7d559-e226-4f08-dc09-ea066e3b91d0"
      },
      "id": "-3ltnt-6vDPY",
      "execution_count": null,
      "outputs": [
        {
          "output_type": "stream",
          "name": "stdout",
          "text": [
            "[2, 3, 4, 5]\n"
          ]
        }
      ]
    },
    {
      "cell_type": "code",
      "source": [
        "# pop\n",
        "L = [1,2,3,4,5]\n",
        "\n",
        "L.pop()\n",
        "\n",
        "print(L)"
      ],
      "metadata": {
        "colab": {
          "base_uri": "https://localhost:8080/"
        },
        "id": "YoE9etu6vDKi",
        "outputId": "6c5cc0dc-f38b-48fd-be4a-d0289bbfe0e9"
      },
      "id": "YoE9etu6vDKi",
      "execution_count": null,
      "outputs": [
        {
          "output_type": "stream",
          "name": "stdout",
          "text": [
            "[1, 2, 3, 4]\n"
          ]
        }
      ]
    },
    {
      "cell_type": "code",
      "source": [
        "# clear\n",
        "L = [1,2,3,4,5]\n",
        "\n",
        "L.clear()\n",
        "\n",
        "print(L)"
      ],
      "metadata": {
        "colab": {
          "base_uri": "https://localhost:8080/"
        },
        "id": "GjTurOPXvDGZ",
        "outputId": "31c817c7-67f7-4077-ac45-0e4dbdb3e724"
      },
      "id": "GjTurOPXvDGZ",
      "execution_count": null,
      "outputs": [
        {
          "output_type": "stream",
          "name": "stdout",
          "text": [
            "[]\n"
          ]
        }
      ]
    },
    {
      "cell_type": "markdown",
      "source": [
        "### Operations on Lists\n",
        "\n",
        "- Arithmetic\n",
        "- Membership\n",
        "- Loop"
      ],
      "metadata": {
        "id": "MdbRRHkRynfS"
      },
      "id": "MdbRRHkRynfS"
    },
    {
      "cell_type": "code",
      "source": [
        "# Arithmetic (+ ,*)\n",
        "\n",
        "L1 = [1,2,3,4]\n",
        "L2 = [5,6,7,8]\n",
        "\n",
        "# Concatenation/Merge\n",
        "print(L1 + L2)"
      ],
      "metadata": {
        "colab": {
          "base_uri": "https://localhost:8080/"
        },
        "id": "76kiFjxrynFl",
        "outputId": "b589dbfc-99a4-4109-de04-be4a54c917cd"
      },
      "id": "76kiFjxrynFl",
      "execution_count": null,
      "outputs": [
        {
          "output_type": "stream",
          "name": "stdout",
          "text": [
            "[1, 2, 3, 4, 5, 6, 7, 8]\n"
          ]
        }
      ]
    },
    {
      "cell_type": "code",
      "source": [
        "print(L1*3)"
      ],
      "metadata": {
        "colab": {
          "base_uri": "https://localhost:8080/"
        },
        "id": "kdeEhWgBynC5",
        "outputId": "d76c297e-75ec-4f0e-ba69-2f3074384515"
      },
      "id": "kdeEhWgBynC5",
      "execution_count": null,
      "outputs": [
        {
          "output_type": "stream",
          "name": "stdout",
          "text": [
            "[1, 2, 3, 4, 1, 2, 3, 4, 1, 2, 3, 4]\n"
          ]
        }
      ]
    },
    {
      "cell_type": "code",
      "source": [
        "L1 = [1,2,3,4,5]\n",
        "L2 = [1,2,3,4,[5,6]]\n",
        "\n",
        "print(5 not in L1)\n",
        "print([5,6] in L2)"
      ],
      "metadata": {
        "colab": {
          "base_uri": "https://localhost:8080/"
        },
        "id": "Enl4q8bCynAJ",
        "outputId": "72fe61a6-8c29-432c-c203-e1220106dc8c"
      },
      "id": "Enl4q8bCynAJ",
      "execution_count": null,
      "outputs": [
        {
          "output_type": "stream",
          "name": "stdout",
          "text": [
            "False\n",
            "True\n"
          ]
        }
      ]
    },
    {
      "cell_type": "code",
      "source": [
        "# Loops\n",
        "L1 = [1,2,3,4,5]\n",
        "L2 = [1,2,3,4,[5,6]]\n",
        "L3 = [[[1,2],[3,4]],[[5,6],[7,8]]]\n",
        "\n",
        "for i in L3:\n",
        "  print(i)"
      ],
      "metadata": {
        "colab": {
          "base_uri": "https://localhost:8080/"
        },
        "id": "Lf2UYL9_zZqN",
        "outputId": "6647bb61-cb0c-4381-dab8-c68822726e2a"
      },
      "id": "Lf2UYL9_zZqN",
      "execution_count": null,
      "outputs": [
        {
          "output_type": "stream",
          "name": "stdout",
          "text": [
            "[[1, 2], [3, 4]]\n",
            "[[5, 6], [7, 8]]\n"
          ]
        }
      ]
    },
    {
      "cell_type": "markdown",
      "source": [
        "### List Functions"
      ],
      "metadata": {
        "id": "E4Gt6AI7zXA6"
      },
      "id": "E4Gt6AI7zXA6"
    },
    {
      "cell_type": "code",
      "source": [
        "# len/min/max/sorted\n",
        "L = [2,1,5,7,0]\n",
        "\n",
        "print(len(L))\n",
        "print(min(L))\n",
        "print(max(L))\n",
        "print(sorted(L,reverse=True))"
      ],
      "metadata": {
        "colab": {
          "base_uri": "https://localhost:8080/"
        },
        "id": "GKsKoFuyym7u",
        "outputId": "d636be43-0c5c-4fe9-b61b-14b51d6791f9"
      },
      "id": "GKsKoFuyym7u",
      "execution_count": null,
      "outputs": [
        {
          "output_type": "stream",
          "name": "stdout",
          "text": [
            "5\n",
            "0\n",
            "7\n",
            "[7, 5, 2, 1, 0]\n"
          ]
        }
      ]
    },
    {
      "cell_type": "code",
      "source": [
        "# count\n",
        "L = [1,2,1,3,4,1,5]\n",
        "L.count(5)"
      ],
      "metadata": {
        "colab": {
          "base_uri": "https://localhost:8080/"
        },
        "id": "OGnYzS7rym2v",
        "outputId": "68ed73da-7fce-4097-e098-25aee3191560"
      },
      "id": "OGnYzS7rym2v",
      "execution_count": null,
      "outputs": [
        {
          "output_type": "execute_result",
          "data": {
            "text/plain": [
              "1"
            ]
          },
          "metadata": {},
          "execution_count": 21
        }
      ]
    },
    {
      "cell_type": "code",
      "source": [
        "# index\n",
        "L = [1,2,1,3,4,1,5]\n",
        "L.index(1)"
      ],
      "metadata": {
        "colab": {
          "base_uri": "https://localhost:8080/"
        },
        "id": "Ta50YqYFym0M",
        "outputId": "273b261d-4a5f-4807-9514-08568134f9bd"
      },
      "id": "Ta50YqYFym0M",
      "execution_count": null,
      "outputs": [
        {
          "output_type": "execute_result",
          "data": {
            "text/plain": [
              "0"
            ]
          },
          "metadata": {},
          "execution_count": 22
        }
      ]
    },
    {
      "cell_type": "code",
      "source": [
        "# reverse\n",
        "L = [2,1,5,7,0]\n",
        "# permanently reverses the list\n",
        "L.reverse()\n",
        "print(L)"
      ],
      "metadata": {
        "colab": {
          "base_uri": "https://localhost:8080/"
        },
        "id": "c67HZITPymwy",
        "outputId": "8d585909-52eb-4100-def6-60952b638ae5"
      },
      "id": "c67HZITPymwy",
      "execution_count": null,
      "outputs": [
        {
          "output_type": "stream",
          "name": "stdout",
          "text": [
            "[0, 7, 5, 1, 2]\n"
          ]
        }
      ]
    },
    {
      "cell_type": "code",
      "source": [
        "# sort (vs sorted)\n",
        "L = [2,1,5,7,0]\n",
        "print(L)\n",
        "print(sorted(L))\n",
        "print(L)\n",
        "L.sort()  #do permanantly\n",
        "print(L)\n",
        "L"
      ],
      "metadata": {
        "colab": {
          "base_uri": "https://localhost:8080/"
        },
        "id": "mS89NimUymt-",
        "outputId": "0aa0f081-b484-406f-bef1-e53bac7fb980"
      },
      "id": "mS89NimUymt-",
      "execution_count": null,
      "outputs": [
        {
          "output_type": "stream",
          "name": "stdout",
          "text": [
            "[2, 1, 5, 7, 0]\n",
            "[0, 1, 2, 5, 7]\n",
            "[2, 1, 5, 7, 0]\n",
            "[0, 1, 2, 5, 7]\n"
          ]
        },
        {
          "output_type": "execute_result",
          "data": {
            "text/plain": [
              "[0, 1, 2, 5, 7]"
            ]
          },
          "metadata": {},
          "execution_count": 27
        }
      ]
    },
    {
      "cell_type": "code",
      "source": [
        "# copy -> shallow\n",
        "L = [2,1,5,7,0]\n",
        "print(L)\n",
        "print(id(L))\n",
        "L1 = L.copy()\n",
        "print(L1)\n",
        "print(id(L1))"
      ],
      "metadata": {
        "colab": {
          "base_uri": "https://localhost:8080/"
        },
        "id": "ydPTJP6nymrA",
        "outputId": "6c58f006-2ab1-4017-8db0-2d39c7a49d3c"
      },
      "id": "ydPTJP6nymrA",
      "execution_count": null,
      "outputs": [
        {
          "output_type": "stream",
          "name": "stdout",
          "text": [
            "[2, 1, 5, 7, 0]\n",
            "140431157451072\n",
            "[2, 1, 5, 7, 0]\n",
            "140431045771392\n"
          ]
        }
      ]
    },
    {
      "cell_type": "markdown",
      "source": [
        "### List Comprehension\n",
        "\n",
        "List Comprehension provides a concise way of creating lists.\n",
        "\n",
        "newlist = [expression for item in iterable if condition == True]![image.png](data:image/png;base64,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)\n",
        "\n",
        "Advantages of List Comprehension\n",
        "- More time-efficient and space-efficient than loops.\n",
        "- Require fewer lines of code.\n",
        "- Transforms iterative statement into a formula."
      ],
      "metadata": {
        "id": "tVzeGcQK02CB"
      },
      "id": "tVzeGcQK02CB"
    },
    {
      "cell_type": "code",
      "source": [
        "# Add 1 to 10 numbers to a list\n",
        "L = []\n",
        "\n",
        "for i in range(1,11):\n",
        "  L.append(i)\n",
        "\n",
        "print(L)"
      ],
      "metadata": {
        "colab": {
          "base_uri": "https://localhost:8080/"
        },
        "id": "5tYYDudkymn4",
        "outputId": "281b4d9c-bf8f-4731-e10b-6ae360ad75d2"
      },
      "id": "5tYYDudkymn4",
      "execution_count": null,
      "outputs": [
        {
          "output_type": "stream",
          "name": "stdout",
          "text": [
            "[1, 2, 3, 4, 5, 6, 7, 8, 9, 10]\n"
          ]
        }
      ]
    },
    {
      "cell_type": "code",
      "source": [
        "L = [i for i in range(1,11)]\n",
        "print(L)"
      ],
      "metadata": {
        "id": "9HFPxg_9qRFx"
      },
      "id": "9HFPxg_9qRFx",
      "execution_count": null,
      "outputs": []
    },
    {
      "cell_type": "code",
      "source": [
        "# scalar multiplication on a vector\n",
        "v = [2,3,4]\n",
        "s = -3\n",
        "# [-6,-9,-12]\n",
        "\n",
        "[s*i for i in v]"
      ],
      "metadata": {
        "id": "s0qbpj9zqQ_w"
      },
      "id": "s0qbpj9zqQ_w",
      "execution_count": null,
      "outputs": []
    },
    {
      "cell_type": "code",
      "source": [
        "# Add squares\n",
        "L = [1,2,3,4,5]\n",
        "\n",
        "[i**2 for i in L]\n"
      ],
      "metadata": {
        "colab": {
          "base_uri": "https://localhost:8080/"
        },
        "id": "audJ4Iaq1hNz",
        "outputId": "b5d2fa1e-4ec0-420e-adc4-45c0da4bd54a"
      },
      "id": "audJ4Iaq1hNz",
      "execution_count": null,
      "outputs": [
        {
          "output_type": "execute_result",
          "data": {
            "text/plain": [
              "[1, 4, 9, 16, 25]"
            ]
          },
          "metadata": {},
          "execution_count": 27
        }
      ]
    },
    {
      "cell_type": "code",
      "source": [
        "# Print all numbers divisible by 5 in the range of 1 to 50\n",
        "\n",
        "[i for i in range(1,51) if i%5 == 0]"
      ],
      "metadata": {
        "colab": {
          "base_uri": "https://localhost:8080/"
        },
        "id": "-UJB7S4V1hLB",
        "outputId": "ccaeaee7-38df-4374-9f6c-97f9ecfb3e77"
      },
      "id": "-UJB7S4V1hLB",
      "execution_count": null,
      "outputs": [
        {
          "output_type": "execute_result",
          "data": {
            "text/plain": [
              "[5, 10, 15, 20, 25, 30, 35, 40, 45, 50]"
            ]
          },
          "metadata": {},
          "execution_count": 28
        }
      ]
    },
    {
      "cell_type": "code",
      "source": [
        "# find languages which start with letter p\n",
        "languages = ['java','python','php','c','javascript']\n",
        "\n",
        "[language for language in languages if language.startswith('p')]"
      ],
      "metadata": {
        "colab": {
          "base_uri": "https://localhost:8080/"
        },
        "id": "f_ZmvITU1hIh",
        "outputId": "8ca059ef-0a50-4de4-d4e9-526a74fa376b"
      },
      "id": "f_ZmvITU1hIh",
      "execution_count": null,
      "outputs": [
        {
          "output_type": "execute_result",
          "data": {
            "text/plain": [
              "['python', 'php']"
            ]
          },
          "metadata": {},
          "execution_count": 29
        }
      ]
    },
    {
      "cell_type": "code",
      "source": [
        "# Nested if with List Comprehension\n",
        "basket = ['apple','guava','cherry','banana']\n",
        "my_fruits = ['apple','kiwi','grapes','banana']\n",
        "\n",
        "# add new list from my_fruits and items if the fruit exists in basket and also starts with 'a'\n",
        "\n",
        "[fruit for fruit in my_fruits if fruit in basket if fruit.startswith('a')]"
      ],
      "metadata": {
        "colab": {
          "base_uri": "https://localhost:8080/"
        },
        "id": "nRHVGS8B1hF0",
        "outputId": "7104d82a-caaa-43f6-e785-7927eb23e71b"
      },
      "id": "nRHVGS8B1hF0",
      "execution_count": null,
      "outputs": [
        {
          "output_type": "execute_result",
          "data": {
            "text/plain": [
              "['apple']"
            ]
          },
          "metadata": {},
          "execution_count": 30
        }
      ]
    },
    {
      "cell_type": "code",
      "source": [
        "# Print a (3,3) matrix using list comprehension -> Nested List comprehension\n",
        "[[i*j for i in range(1,4)] for j in range(1,4)]"
      ],
      "metadata": {
        "colab": {
          "base_uri": "https://localhost:8080/"
        },
        "id": "rqf-M0Yk1hCw",
        "outputId": "9480419b-90dd-464a-81b9-b8f94e7a0a88"
      },
      "id": "rqf-M0Yk1hCw",
      "execution_count": null,
      "outputs": [
        {
          "output_type": "execute_result",
          "data": {
            "text/plain": [
              "[[1, 2, 3], [2, 4, 6], [3, 6, 9]]"
            ]
          },
          "metadata": {},
          "execution_count": 31
        }
      ]
    },
    {
      "cell_type": "code",
      "source": [
        "# cartesian products -> List comprehension on 2 lists together\n",
        "L1 = [1,2,3,4]\n",
        "L2 = [5,6,7,8]\n",
        "\n",
        "[i*j for i in L1 for j in L2]"
      ],
      "metadata": {
        "colab": {
          "base_uri": "https://localhost:8080/"
        },
        "id": "f7sU4NLv1g-z",
        "outputId": "1d093c71-3687-42a4-b5de-819e94ec6772"
      },
      "id": "f7sU4NLv1g-z",
      "execution_count": null,
      "outputs": [
        {
          "output_type": "execute_result",
          "data": {
            "text/plain": [
              "[5, 6, 7, 8, 10, 12, 14, 16, 15, 18, 21, 24, 20, 24, 28, 32]"
            ]
          },
          "metadata": {},
          "execution_count": 32
        }
      ]
    },
    {
      "cell_type": "markdown",
      "source": [
        "### List Comprehension:"
      ],
      "metadata": {
        "id": "HJrmv6wJhZr6"
      },
      "id": "HJrmv6wJhZr6"
    },
    {
      "cell_type": "markdown",
      "source": [
        "Provide a concice way to create a list it consist bracket containing expression follow by for clouse then, zero or mmore for or if clauses this expression can be anything you can put all kinds of object in list."
      ],
      "metadata": {
        "id": "6wUVPRYIjv5I"
      },
      "id": "6wUVPRYIjv5I"
    },
    {
      "cell_type": "code",
      "source": [
        "def sqr(nums):\n",
        "  l=[]\n",
        "  for i in nums:\n",
        "    l.append(i*i)\n",
        "  return l\n",
        "\n",
        "nums=[1,2,4,5,6]\n",
        "print(sqr(nums))"
      ],
      "metadata": {
        "id": "si4kFUR40b4p",
        "colab": {
          "base_uri": "https://localhost:8080/"
        },
        "outputId": "f69e6ba4-9ccc-4c33-a1a1-e2f6cc8a93e3"
      },
      "execution_count": null,
      "outputs": [
        {
          "output_type": "stream",
          "name": "stdout",
          "text": [
            "[1, 4, 16, 25, 36]\n"
          ]
        }
      ],
      "id": "si4kFUR40b4p"
    },
    {
      "cell_type": "code",
      "source": [
        "list1=[i*i for i in nums]\n",
        "print(list1)"
      ],
      "metadata": {
        "id": "Jz-3HcDI0b1o",
        "colab": {
          "base_uri": "https://localhost:8080/"
        },
        "outputId": "52f8a918-1b15-4aa7-b879-860c86ed73bd"
      },
      "execution_count": null,
      "outputs": [
        {
          "output_type": "stream",
          "name": "stdout",
          "text": [
            "[1, 4, 16, 25, 36]\n"
          ]
        }
      ],
      "id": "Jz-3HcDI0b1o"
    },
    {
      "cell_type": "code",
      "source": [
        "#If need even nos square\n",
        "list1=[i*i for i in nums if i%2==0 ]\n",
        "print(list1)"
      ],
      "metadata": {
        "id": "9k0fBN_R0by6",
        "colab": {
          "base_uri": "https://localhost:8080/"
        },
        "outputId": "fd2de07d-5bef-41f6-94ae-ffabdef4b5a8"
      },
      "execution_count": null,
      "outputs": [
        {
          "output_type": "stream",
          "name": "stdout",
          "text": [
            "[4, 16, 36]\n"
          ]
        }
      ],
      "id": "9k0fBN_R0by6"
    },
    {
      "cell_type": "markdown",
      "source": [
        "### 2 ways to traverse a list\n",
        "\n",
        "- itemwise\n",
        "- indexwise"
      ],
      "metadata": {
        "id": "ngrXdMiP24Zi"
      },
      "id": "ngrXdMiP24Zi"
    },
    {
      "cell_type": "code",
      "source": [
        "# indexwise\n",
        "L = [1,2,3,4]\n",
        "\n",
        "for i in range(0,len(L)):\n",
        "  print(L[i])\n"
      ],
      "metadata": {
        "colab": {
          "base_uri": "https://localhost:8080/"
        },
        "id": "zq7YHdbc2a3V",
        "outputId": "85ff7f79-0c75-47f4-e500-cc23f25a2570"
      },
      "id": "zq7YHdbc2a3V",
      "execution_count": null,
      "outputs": [
        {
          "output_type": "stream",
          "name": "stdout",
          "text": [
            "1\n",
            "2\n",
            "3\n",
            "4\n"
          ]
        }
      ]
    },
    {
      "cell_type": "code",
      "source": [
        "# itemwise\n",
        "L = [1,2,3,4]\n",
        "\n",
        "for i in L:\n",
        "  print(i)"
      ],
      "metadata": {
        "colab": {
          "base_uri": "https://localhost:8080/"
        },
        "id": "cqV_hVJK2a7U",
        "outputId": "fc1418bf-6bf0-4a31-fde0-6465212313d9"
      },
      "execution_count": null,
      "outputs": [
        {
          "output_type": "stream",
          "name": "stdout",
          "text": [
            "1\n",
            "2\n",
            "3\n",
            "4\n"
          ]
        }
      ],
      "id": "cqV_hVJK2a7U"
    },
    {
      "cell_type": "markdown",
      "source": [
        "### Zip\n",
        "\n",
        "The zip() function returns a zip object, which is an iterator of tuples where the first item in each passed iterator is paired together, and then the second item in each passed iterator are paired together.\n",
        "\n",
        "If the passed iterators have different lengths, the iterator with the least items decides the length of the new iterator."
      ],
      "metadata": {
        "id": "W3A88h4A3N_Q"
      },
      "id": "W3A88h4A3N_Q"
    },
    {
      "cell_type": "code",
      "source": [
        "# Write a program to add items of 2 lists indexwise\n",
        "\n",
        "L1 = [1,2,3,4]\n",
        "L2 = [-1,-2,-3,-4]\n",
        "\n",
        "list(zip(L1,L2))\n",
        "\n",
        "[i+j for i,j in zip(L1,L2)]"
      ],
      "metadata": {
        "colab": {
          "base_uri": "https://localhost:8080/"
        },
        "id": "Jfp8VZN62a0b",
        "outputId": "548c8853-5d87-4c84-e482-92a143b3dc00"
      },
      "id": "Jfp8VZN62a0b",
      "execution_count": null,
      "outputs": [
        {
          "output_type": "execute_result",
          "data": {
            "text/plain": [
              "[0, 0, 0, 0]"
            ]
          },
          "metadata": {},
          "execution_count": 37
        }
      ]
    },
    {
      "cell_type": "code",
      "source": [
        "L = [1,2,print,type,input]\n",
        "print(L)"
      ],
      "metadata": {
        "colab": {
          "base_uri": "https://localhost:8080/"
        },
        "id": "bzEnLx0E2axm",
        "outputId": "2369331d-2cae-41c0-ade1-130dd3f25c97"
      },
      "id": "bzEnLx0E2axm",
      "execution_count": null,
      "outputs": [
        {
          "output_type": "stream",
          "name": "stdout",
          "text": [
            "[1, 2, <built-in function print>, <class 'type'>, <bound method Kernel.raw_input of <google.colab._kernel.Kernel object at 0x7fb8a6943130>>]\n"
          ]
        }
      ]
    },
    {
      "cell_type": "markdown",
      "source": [
        "### Disadvantages of Python Lists\n",
        "\n",
        "- Slow\n",
        "- Risky usage\n",
        "- eats up more memory"
      ],
      "metadata": {
        "id": "69vfs_mq4AOn"
      },
      "id": "69vfs_mq4AOn"
    },
    {
      "cell_type": "code",
      "source": [
        "a = [1,2,3]\n",
        "b = a.copy()\n",
        "\n",
        "print(a)\n",
        "print(b)\n",
        "\n",
        "a.append(4)\n",
        "print(a)\n",
        "print(b)\n",
        "\n",
        "# lists are mutable"
      ],
      "metadata": {
        "colab": {
          "base_uri": "https://localhost:8080/"
        },
        "id": "Y4tdupfD2auw",
        "outputId": "1df8ee2d-a279-4127-b728-95c1ac5cd71f"
      },
      "id": "Y4tdupfD2auw",
      "execution_count": null,
      "outputs": [
        {
          "output_type": "stream",
          "name": "stdout",
          "text": [
            "[1, 2, 3]\n",
            "[1, 2, 3]\n",
            "[1, 2, 3, 4]\n",
            "[1, 2, 3]\n"
          ]
        }
      ]
    },
    {
      "cell_type": "markdown",
      "source": [
        "# Tuples\n",
        "\n",
        "A tuple in Python is similar to a list. The difference between the two is that we cannot change the elements of a tuple once it is assigned whereas we can change the elements of a list.\n",
        "\n",
        "In short, a tuple is an immutable list. A tuple can not be changed in any way once it is created.\n",
        "\n",
        "Characterstics\n",
        "\n",
        "- Ordered\n",
        "- Unchangeble\n",
        "- Allows duplicate"
      ],
      "metadata": {
        "id": "amPhw7sXj5kz"
      },
      "id": "amPhw7sXj5kz"
    },
    {
      "cell_type": "markdown",
      "source": [
        "### Plan of attack\n",
        "\n",
        "- Creating a Tuple\n",
        "- Accessing items\n",
        "- Editing items\n",
        "- Adding items\n",
        "- Deleting items\n",
        "- Operations on Tuples\n",
        "- Tuple Functions"
      ],
      "metadata": {
        "id": "MxLWhcqLkE5E"
      },
      "id": "MxLWhcqLkE5E"
    },
    {
      "cell_type": "markdown",
      "source": [
        "### Creating Tuples"
      ],
      "metadata": {
        "id": "6TYD-EOckPEj"
      },
      "id": "6TYD-EOckPEj"
    },
    {
      "cell_type": "code",
      "source": [
        "# empty\n",
        "t1 = ()\n",
        "print(t1)\n",
        "# create a tuple with a single item\n",
        "t2 = ('hello',)\n",
        "print(t2)\n",
        "print(type(t2))\n",
        "# homo\n",
        "t3 = (1,2,3,4)\n",
        "print(t3)\n",
        "# hetro\n",
        "t4 = (1,2.5,True,[1,2,3])\n",
        "print(t4)\n",
        "# tuple\n",
        "t5 = (1,2,3,(4,5))\n",
        "print(t5)\n",
        "# using type conversion\n",
        "t6 = tuple('hello')\n",
        "print(t6)"
      ],
      "metadata": {
        "id": "vEGLPFdu2ar5",
        "colab": {
          "base_uri": "https://localhost:8080/"
        },
        "outputId": "0227ca20-0b6c-46ce-da28-a742c7d56cab"
      },
      "id": "vEGLPFdu2ar5",
      "execution_count": null,
      "outputs": [
        {
          "output_type": "stream",
          "name": "stdout",
          "text": [
            "()\n",
            "('hello',)\n",
            "<class 'tuple'>\n",
            "(1, 2, 3, 4)\n",
            "(1, 2.5, True, [1, 2, 3])\n",
            "(1, 2, 3, (4, 5))\n",
            "('h', 'e', 'l', 'l', 'o')\n"
          ]
        }
      ]
    },
    {
      "cell_type": "markdown",
      "source": [
        "### Accessing Items\n",
        "\n",
        "- Indexing\n",
        "- Slicing"
      ],
      "metadata": {
        "id": "KfCL_GB5krzT"
      },
      "id": "KfCL_GB5krzT"
    },
    {
      "cell_type": "code",
      "source": [
        "print(t3)\n",
        "print(t3[0])\n",
        "print(t3[-1])"
      ],
      "metadata": {
        "id": "90InMTZo2apF",
        "colab": {
          "base_uri": "https://localhost:8080/"
        },
        "outputId": "fdb239dc-a59b-4fed-aae7-50724699bb2a"
      },
      "id": "90InMTZo2apF",
      "execution_count": null,
      "outputs": [
        {
          "output_type": "stream",
          "name": "stdout",
          "text": [
            "(1, 2, 3, 4)\n",
            "1\n",
            "4\n"
          ]
        }
      ]
    },
    {
      "cell_type": "code",
      "source": [
        "t5[-1][0]"
      ],
      "metadata": {
        "id": "vUM7tpCg2amU",
        "colab": {
          "base_uri": "https://localhost:8080/"
        },
        "outputId": "79c41131-6acc-46f6-b77d-cbb48935bbcb"
      },
      "id": "vUM7tpCg2amU",
      "execution_count": null,
      "outputs": [
        {
          "output_type": "execute_result",
          "data": {
            "text/plain": [
              "4"
            ]
          },
          "metadata": {},
          "execution_count": 3
        }
      ]
    },
    {
      "cell_type": "code",
      "source": [
        "print(t3[::-1])"
      ],
      "metadata": {
        "id": "_Xm7KXBI2aiu",
        "colab": {
          "base_uri": "https://localhost:8080/"
        },
        "outputId": "8ee1c692-441b-4d87-b650-1a238be00899"
      },
      "id": "_Xm7KXBI2aiu",
      "execution_count": null,
      "outputs": [
        {
          "output_type": "stream",
          "name": "stdout",
          "text": [
            "(4, 3, 2, 1)\n"
          ]
        }
      ]
    },
    {
      "cell_type": "markdown",
      "source": [
        "### Editing items"
      ],
      "metadata": {
        "id": "r71jkmTTlL1w"
      },
      "id": "r71jkmTTlL1w"
    },
    {
      "cell_type": "code",
      "source": [
        "print(t3)\n",
        "t3[0] = 100\n",
        "# immutable just like strings"
      ],
      "metadata": {
        "id": "uayUkoJh1g79",
        "colab": {
          "base_uri": "https://localhost:8080/",
          "height": 217
        },
        "outputId": "af3d6feb-6c20-4a08-9c04-55ba8e12328d"
      },
      "id": "uayUkoJh1g79",
      "execution_count": null,
      "outputs": [
        {
          "output_type": "stream",
          "name": "stdout",
          "text": [
            "(1, 2, 3, 4)\n"
          ]
        },
        {
          "output_type": "error",
          "ename": "TypeError",
          "evalue": "ignored",
          "traceback": [
            "\u001b[0;31m---------------------------------------------------------------------------\u001b[0m",
            "\u001b[0;31mTypeError\u001b[0m                                 Traceback (most recent call last)",
            "\u001b[0;32m<ipython-input-5-e1d0017691e4>\u001b[0m in \u001b[0;36m<cell line: 2>\u001b[0;34m()\u001b[0m\n\u001b[1;32m      1\u001b[0m \u001b[0mprint\u001b[0m\u001b[0;34m(\u001b[0m\u001b[0mt3\u001b[0m\u001b[0;34m)\u001b[0m\u001b[0;34m\u001b[0m\u001b[0;34m\u001b[0m\u001b[0m\n\u001b[0;32m----> 2\u001b[0;31m \u001b[0mt3\u001b[0m\u001b[0;34m[\u001b[0m\u001b[0;36m0\u001b[0m\u001b[0;34m]\u001b[0m \u001b[0;34m=\u001b[0m \u001b[0;36m100\u001b[0m\u001b[0;34m\u001b[0m\u001b[0;34m\u001b[0m\u001b[0m\n\u001b[0m\u001b[1;32m      3\u001b[0m \u001b[0;31m# immutable just like strings\u001b[0m\u001b[0;34m\u001b[0m\u001b[0;34m\u001b[0m\u001b[0m\n",
            "\u001b[0;31mTypeError\u001b[0m: 'tuple' object does not support item assignment"
          ]
        }
      ]
    },
    {
      "cell_type": "markdown",
      "source": [
        "### Adding items"
      ],
      "metadata": {
        "id": "fOfKfTcrn7sK"
      },
      "id": "fOfKfTcrn7sK"
    },
    {
      "cell_type": "code",
      "source": [
        "print(t3)\n",
        "# not possible"
      ],
      "metadata": {
        "colab": {
          "base_uri": "https://localhost:8080/"
        },
        "id": "aCj-pSiZkpBT",
        "outputId": "3992e92a-d86e-488e-be60-285358a4fc5a"
      },
      "id": "aCj-pSiZkpBT",
      "execution_count": null,
      "outputs": [
        {
          "output_type": "stream",
          "name": "stdout",
          "text": [
            "(1, 2, 3, 4)\n"
          ]
        }
      ]
    },
    {
      "cell_type": "markdown",
      "source": [
        "### Deleting items"
      ],
      "metadata": {
        "id": "lsz9teCwn9_4"
      },
      "id": "lsz9teCwn9_4"
    },
    {
      "cell_type": "code",
      "source": [
        "print(t3)\n",
        "del t3\n",
        "print(t3)"
      ],
      "metadata": {
        "colab": {
          "base_uri": "https://localhost:8080/",
          "height": 217
        },
        "id": "Kz2F6rVcko9w",
        "outputId": "e9c1ea74-7932-4897-9d3d-cefd87f6dcab"
      },
      "id": "Kz2F6rVcko9w",
      "execution_count": null,
      "outputs": [
        {
          "output_type": "stream",
          "name": "stdout",
          "text": [
            "(1, 2, 3, 4)\n"
          ]
        },
        {
          "output_type": "error",
          "ename": "NameError",
          "evalue": "ignored",
          "traceback": [
            "\u001b[0;31m---------------------------------------------------------------------------\u001b[0m",
            "\u001b[0;31mNameError\u001b[0m                                 Traceback (most recent call last)",
            "\u001b[0;32m<ipython-input-7-0a67b29ad777>\u001b[0m in \u001b[0;36m<cell line: 3>\u001b[0;34m()\u001b[0m\n\u001b[1;32m      1\u001b[0m \u001b[0mprint\u001b[0m\u001b[0;34m(\u001b[0m\u001b[0mt3\u001b[0m\u001b[0;34m)\u001b[0m\u001b[0;34m\u001b[0m\u001b[0;34m\u001b[0m\u001b[0m\n\u001b[1;32m      2\u001b[0m \u001b[0;32mdel\u001b[0m \u001b[0mt3\u001b[0m\u001b[0;34m\u001b[0m\u001b[0;34m\u001b[0m\u001b[0m\n\u001b[0;32m----> 3\u001b[0;31m \u001b[0mprint\u001b[0m\u001b[0;34m(\u001b[0m\u001b[0mt3\u001b[0m\u001b[0;34m)\u001b[0m\u001b[0;34m\u001b[0m\u001b[0;34m\u001b[0m\u001b[0m\n\u001b[0m",
            "\u001b[0;31mNameError\u001b[0m: name 't3' is not defined"
          ]
        }
      ]
    },
    {
      "cell_type": "code",
      "source": [
        "t = (1,2,3,4,5)\n",
        "\n",
        "t[-1:-4:-1]"
      ],
      "metadata": {
        "colab": {
          "base_uri": "https://localhost:8080/"
        },
        "id": "gDbmG4Axko6t",
        "outputId": "cc00e960-92fa-4e23-a7b2-578b3bfc3cc2"
      },
      "id": "gDbmG4Axko6t",
      "execution_count": null,
      "outputs": [
        {
          "output_type": "execute_result",
          "data": {
            "text/plain": [
              "(5, 4, 3)"
            ]
          },
          "metadata": {},
          "execution_count": 8
        }
      ]
    },
    {
      "cell_type": "code",
      "source": [
        "t = (1,2,3,4,5)\n",
        "\n",
        "t[-1:-4:-1]"
      ],
      "metadata": {
        "colab": {
          "base_uri": "https://localhost:8080/"
        },
        "id": "XAb7GEuWko35",
        "outputId": "629a27d3-afe9-4502-c476-a157f7756055"
      },
      "id": "XAb7GEuWko35",
      "execution_count": null,
      "outputs": [
        {
          "output_type": "execute_result",
          "data": {
            "text/plain": [
              "(5, 4, 3)"
            ]
          },
          "metadata": {},
          "execution_count": 9
        }
      ]
    },
    {
      "cell_type": "markdown",
      "source": [
        "### Operations on Tuples"
      ],
      "metadata": {
        "id": "RVomxuXUoMNB"
      },
      "id": "RVomxuXUoMNB"
    },
    {
      "cell_type": "code",
      "source": [
        "# + and *\n",
        "t1 = (1,2,3,4)\n",
        "t2 = (5,6,7,8)\n",
        "\n",
        "print(t1 + t2)\n",
        "\n",
        "print(t1*3)\n",
        "# membership\n",
        "1 in t1\n",
        "# iteration\n",
        "for i in t1:\n",
        "  print(i)"
      ],
      "metadata": {
        "colab": {
          "base_uri": "https://localhost:8080/"
        },
        "id": "YwvLz4Ffko07",
        "outputId": "a99c9ffa-dc91-497b-a668-35bb4703b81f"
      },
      "id": "YwvLz4Ffko07",
      "execution_count": null,
      "outputs": [
        {
          "output_type": "stream",
          "name": "stdout",
          "text": [
            "(1, 2, 3, 4, 5, 6, 7, 8)\n",
            "(1, 2, 3, 4, 1, 2, 3, 4, 1, 2, 3, 4)\n",
            "1\n",
            "2\n",
            "3\n",
            "4\n"
          ]
        }
      ]
    },
    {
      "cell_type": "markdown",
      "source": [
        "### Tuple Functions"
      ],
      "metadata": {
        "id": "OKS4LPM4oqb_"
      },
      "id": "OKS4LPM4oqb_"
    },
    {
      "cell_type": "code",
      "source": [
        "# len/sum/min/max/sorted\n",
        "t = (1,2,3,4)\n",
        "len(t)\n",
        "\n",
        "sum(t)\n",
        "\n",
        "min(t)\n",
        "\n",
        "max(t)\n",
        "\n",
        "sorted(t,reverse=True)"
      ],
      "metadata": {
        "colab": {
          "base_uri": "https://localhost:8080/"
        },
        "id": "AUSp_vb4kowO",
        "outputId": "a0275e83-8850-45ac-d84a-0a9ea7131bff"
      },
      "id": "AUSp_vb4kowO",
      "execution_count": null,
      "outputs": [
        {
          "output_type": "execute_result",
          "data": {
            "text/plain": [
              "[4, 3, 2, 1]"
            ]
          },
          "metadata": {},
          "execution_count": 11
        }
      ]
    },
    {
      "cell_type": "code",
      "source": [
        "# count\n",
        "\n",
        "t = (1,2,3,4,5)\n",
        "\n",
        "t.count(50)"
      ],
      "metadata": {
        "colab": {
          "base_uri": "https://localhost:8080/"
        },
        "id": "hGkx1hJTkosw",
        "outputId": "0cf0dbdf-edbe-4005-9913-77fb9af379e3"
      },
      "id": "hGkx1hJTkosw",
      "execution_count": null,
      "outputs": [
        {
          "output_type": "execute_result",
          "data": {
            "text/plain": [
              "0"
            ]
          },
          "metadata": {},
          "execution_count": 12
        }
      ]
    },
    {
      "cell_type": "code",
      "source": [
        "# index\n",
        "t.index(50)"
      ],
      "metadata": {
        "colab": {
          "base_uri": "https://localhost:8080/",
          "height": 183
        },
        "id": "Rfh-WAqckopi",
        "outputId": "5a2d386a-4ad2-444a-bcfe-f2cf4597d380"
      },
      "id": "Rfh-WAqckopi",
      "execution_count": null,
      "outputs": [
        {
          "output_type": "error",
          "ename": "ValueError",
          "evalue": "ignored",
          "traceback": [
            "\u001b[0;31m---------------------------------------------------------------------------\u001b[0m",
            "\u001b[0;31mValueError\u001b[0m                                Traceback (most recent call last)",
            "\u001b[0;32m<ipython-input-13-cae2b6ba49a8>\u001b[0m in \u001b[0;36m<cell line: 2>\u001b[0;34m()\u001b[0m\n\u001b[1;32m      1\u001b[0m \u001b[0;31m# index\u001b[0m\u001b[0;34m\u001b[0m\u001b[0;34m\u001b[0m\u001b[0m\n\u001b[0;32m----> 2\u001b[0;31m \u001b[0mt\u001b[0m\u001b[0;34m.\u001b[0m\u001b[0mindex\u001b[0m\u001b[0;34m(\u001b[0m\u001b[0;36m50\u001b[0m\u001b[0;34m)\u001b[0m\u001b[0;34m\u001b[0m\u001b[0;34m\u001b[0m\u001b[0m\n\u001b[0m",
            "\u001b[0;31mValueError\u001b[0m: tuple.index(x): x not in tuple"
          ]
        }
      ]
    },
    {
      "cell_type": "markdown",
      "source": [
        "### Difference between Lists and Tuples\n",
        "\n",
        "- Syntax\n",
        "- Mutability\n",
        "- Speed\n",
        "- Memory\n",
        "- Built in functionality\n",
        "- Error prone\n",
        "- Usability"
      ],
      "metadata": {
        "id": "o3ZFOQDPpDKB"
      },
      "id": "o3ZFOQDPpDKB"
    },
    {
      "cell_type": "code",
      "source": [
        "a = [1,2,3]\n",
        "b = a\n",
        "\n",
        "a.append(4)\n",
        "print(a)\n",
        "print(b)"
      ],
      "metadata": {
        "colab": {
          "base_uri": "https://localhost:8080/"
        },
        "id": "U6Rf4C91komZ",
        "outputId": "7eab5ae9-e018-4bd5-9f6d-76c7d0d69d88"
      },
      "id": "U6Rf4C91komZ",
      "execution_count": null,
      "outputs": [
        {
          "output_type": "stream",
          "name": "stdout",
          "text": [
            "[1, 2, 3, 4]\n",
            "[1, 2, 3, 4]\n"
          ]
        }
      ]
    },
    {
      "cell_type": "code",
      "source": [
        "a = (1,2,3)\n",
        "b = a\n",
        "\n",
        "a = a + (4,)\n",
        "print(a)\n",
        "print(b)"
      ],
      "metadata": {
        "colab": {
          "base_uri": "https://localhost:8080/"
        },
        "id": "PlQnjhLXkojC",
        "outputId": "23091468-87e6-4c67-a46c-e3e7389af577"
      },
      "id": "PlQnjhLXkojC",
      "execution_count": null,
      "outputs": [
        {
          "output_type": "stream",
          "name": "stdout",
          "text": [
            "(1, 2, 3, 4)\n",
            "(1, 2, 3)\n"
          ]
        }
      ]
    },
    {
      "cell_type": "markdown",
      "source": [
        "### Why use tuple?"
      ],
      "metadata": {
        "id": "us9rHulNpxkq"
      },
      "id": "us9rHulNpxkq"
    },
    {
      "cell_type": "markdown",
      "source": [
        "### Special Syntax"
      ],
      "metadata": {
        "id": "2tXh2rFfo9Xp"
      },
      "id": "2tXh2rFfo9Xp"
    },
    {
      "cell_type": "code",
      "source": [
        "# tuple unpacking\n",
        "a,b,c = (1,2,3)\n",
        "print(a,b,c)"
      ],
      "metadata": {
        "colab": {
          "base_uri": "https://localhost:8080/"
        },
        "id": "MlDNb_KsnB-b",
        "outputId": "49934cdf-cf35-44a4-c1ba-40b0bf6ba031"
      },
      "execution_count": null,
      "outputs": [
        {
          "output_type": "stream",
          "name": "stdout",
          "text": [
            "1 2 3\n"
          ]
        }
      ],
      "id": "MlDNb_KsnB-b"
    },
    {
      "cell_type": "code",
      "source": [
        "a,b = (1,2,3)\n",
        "print(a,b)"
      ],
      "metadata": {
        "colab": {
          "base_uri": "https://localhost:8080/",
          "height": 187
        },
        "id": "bxz2_lX1j4SL",
        "outputId": "0f92225c-f0f0-4c57-c9ed-aa9f13e492e3"
      },
      "execution_count": null,
      "outputs": [
        {
          "output_type": "error",
          "ename": "ValueError",
          "evalue": "ignored",
          "traceback": [
            "\u001b[0;31m---------------------------------------------------------------------------\u001b[0m",
            "\u001b[0;31mValueError\u001b[0m                                Traceback (most recent call last)",
            "\u001b[0;32m<ipython-input-55-22f327f11d4b>\u001b[0m in \u001b[0;36m<module>\u001b[0;34m\u001b[0m\n\u001b[0;32m----> 1\u001b[0;31m \u001b[0ma\u001b[0m\u001b[0;34m,\u001b[0m\u001b[0mb\u001b[0m \u001b[0;34m=\u001b[0m \u001b[0;34m(\u001b[0m\u001b[0;36m1\u001b[0m\u001b[0;34m,\u001b[0m\u001b[0;36m2\u001b[0m\u001b[0;34m,\u001b[0m\u001b[0;36m3\u001b[0m\u001b[0;34m)\u001b[0m\u001b[0;34m\u001b[0m\u001b[0;34m\u001b[0m\u001b[0m\n\u001b[0m\u001b[1;32m      2\u001b[0m \u001b[0mprint\u001b[0m\u001b[0;34m(\u001b[0m\u001b[0ma\u001b[0m\u001b[0;34m,\u001b[0m\u001b[0mb\u001b[0m\u001b[0;34m)\u001b[0m\u001b[0;34m\u001b[0m\u001b[0;34m\u001b[0m\u001b[0m\n",
            "\u001b[0;31mValueError\u001b[0m: too many values to unpack (expected 2)"
          ]
        }
      ],
      "id": "bxz2_lX1j4SL"
    },
    {
      "cell_type": "code",
      "source": [
        "a = 1\n",
        "b = 2\n",
        "a,b = b,a\n",
        "\n",
        "print(a,b)"
      ],
      "metadata": {
        "colab": {
          "base_uri": "https://localhost:8080/"
        },
        "id": "Crc3WUQwjp_B",
        "outputId": "33065db1-486b-46bc-b4ce-5efa9df70f93"
      },
      "execution_count": null,
      "outputs": [
        {
          "output_type": "stream",
          "name": "stdout",
          "text": [
            "2 1\n"
          ]
        }
      ],
      "id": "Crc3WUQwjp_B"
    },
    {
      "cell_type": "code",
      "source": [
        "a,b,*others = (1,2,3,4)\n",
        "print(a,b)\n",
        "print(others)"
      ],
      "metadata": {
        "colab": {
          "base_uri": "https://localhost:8080/"
        },
        "id": "8QlfVsrCjvh3",
        "outputId": "0724b939-8ad5-43aa-aede-3b8d5c8531a9"
      },
      "execution_count": null,
      "outputs": [
        {
          "output_type": "stream",
          "name": "stdout",
          "text": [
            "1 2\n",
            "[3, 4]\n"
          ]
        }
      ],
      "id": "8QlfVsrCjvh3"
    },
    {
      "cell_type": "code",
      "source": [
        "# zipping tuples\n",
        "a = (1,2,3,4)\n",
        "b = (5,6,7,8)\n",
        "\n",
        "tuple(zip(a,b))"
      ],
      "metadata": {
        "colab": {
          "base_uri": "https://localhost:8080/"
        },
        "id": "6RPuluylqgmE",
        "outputId": "9d711f7d-f413-4979-8c05-44c87484aeb9"
      },
      "execution_count": null,
      "outputs": [
        {
          "output_type": "execute_result",
          "data": {
            "text/plain": [
              "((1, 5), (2, 6), (3, 7), (4, 8))"
            ]
          },
          "metadata": {},
          "execution_count": 59
        }
      ],
      "id": "6RPuluylqgmE"
    },
    {
      "cell_type": "markdown",
      "source": [
        "# Sets\n",
        "\n",
        "A set is an unordered collection of items. Every set element is unique (no duplicates) and must be immutable (cannot be changed).\n",
        "\n",
        "However, a set itself is mutable. We can add or remove items from it.\n",
        "\n",
        "Sets can also be used to perform mathematical set operations like union, intersection, symmetric difference, etc.\n",
        "\n",
        "Characterstics:\n",
        "- Unordered\n",
        "- Mutable\n",
        "- No Duplicates\n",
        "- Can't contain mutable data types"
      ],
      "metadata": {
        "id": "wZfWh6bstK70"
      },
      "id": "wZfWh6bstK70"
    },
    {
      "cell_type": "code",
      "source": [
        "# empty\n",
        "s = set()\n",
        "print(s)\n",
        "print(type(s))\n",
        "# 1D and 2D\n",
        "s1 = {1,2,3}\n",
        "print(s1)\n",
        "#s2 = {1,2,3,{4,5}}\n",
        "#print(s2)\n",
        "# homo and hetro\n",
        "s3 = {1,'hello',4.5,(1,2,3)}\n",
        "print(s3)\n",
        "# using type conversion\n",
        "\n",
        "s4 = set([1,2,3])\n",
        "print(s4)\n",
        "# duplicates not allowed\n",
        "s5 = {1,1,2,2,3,3}\n",
        "print(s5)\n",
        "# set can't have mutable items\n",
        "s6 = {1,2,[3,4]}\n",
        "print(s6)"
      ],
      "metadata": {
        "colab": {
          "base_uri": "https://localhost:8080/",
          "height": 321
        },
        "id": "npIaN0EvkoZe",
        "outputId": "6151504e-9857-4198-dd6e-bf690b66884d"
      },
      "id": "npIaN0EvkoZe",
      "execution_count": null,
      "outputs": [
        {
          "output_type": "stream",
          "name": "stdout",
          "text": [
            "set()\n",
            "<class 'set'>\n",
            "{1, 2, 3}\n",
            "{1, 'hello', 4.5, (1, 2, 3)}\n",
            "{1, 2, 3}\n",
            "{1, 2, 3}\n"
          ]
        },
        {
          "output_type": "error",
          "ename": "TypeError",
          "evalue": "ignored",
          "traceback": [
            "\u001b[0;31m---------------------------------------------------------------------------\u001b[0m",
            "\u001b[0;31mTypeError\u001b[0m                                 Traceback (most recent call last)",
            "\u001b[0;32m<ipython-input-16-ab3c7dde6aed>\u001b[0m in \u001b[0;36m<cell line: 21>\u001b[0;34m()\u001b[0m\n\u001b[1;32m     19\u001b[0m \u001b[0mprint\u001b[0m\u001b[0;34m(\u001b[0m\u001b[0ms5\u001b[0m\u001b[0;34m)\u001b[0m\u001b[0;34m\u001b[0m\u001b[0;34m\u001b[0m\u001b[0m\n\u001b[1;32m     20\u001b[0m \u001b[0;31m# set can't have mutable items\u001b[0m\u001b[0;34m\u001b[0m\u001b[0;34m\u001b[0m\u001b[0m\n\u001b[0;32m---> 21\u001b[0;31m \u001b[0ms6\u001b[0m \u001b[0;34m=\u001b[0m \u001b[0;34m{\u001b[0m\u001b[0;36m1\u001b[0m\u001b[0;34m,\u001b[0m\u001b[0;36m2\u001b[0m\u001b[0;34m,\u001b[0m\u001b[0;34m[\u001b[0m\u001b[0;36m3\u001b[0m\u001b[0;34m,\u001b[0m\u001b[0;36m4\u001b[0m\u001b[0;34m]\u001b[0m\u001b[0;34m}\u001b[0m\u001b[0;34m\u001b[0m\u001b[0;34m\u001b[0m\u001b[0m\n\u001b[0m\u001b[1;32m     22\u001b[0m \u001b[0mprint\u001b[0m\u001b[0;34m(\u001b[0m\u001b[0ms6\u001b[0m\u001b[0;34m)\u001b[0m\u001b[0;34m\u001b[0m\u001b[0;34m\u001b[0m\u001b[0m\n",
            "\u001b[0;31mTypeError\u001b[0m: unhashable type: 'list'"
          ]
        }
      ]
    },
    {
      "cell_type": "code",
      "source": [
        "s1 = {1,2,3}\n",
        "s2 = {3,2,1}\n",
        "\n",
        "print(s1 == s2)"
      ],
      "metadata": {
        "colab": {
          "base_uri": "https://localhost:8080/"
        },
        "id": "yH5rn5jzkoWa",
        "outputId": "c122414b-a9fd-4121-d653-091a6d575bf3"
      },
      "id": "yH5rn5jzkoWa",
      "execution_count": null,
      "outputs": [
        {
          "output_type": "stream",
          "name": "stdout",
          "text": [
            "True\n"
          ]
        }
      ]
    },
    {
      "cell_type": "markdown",
      "source": [
        "### Accessing Items"
      ],
      "metadata": {
        "id": "N4XE7Jdcy6I6"
      },
      "id": "N4XE7Jdcy6I6"
    },
    {
      "cell_type": "code",
      "source": [
        "s1 = {1,2,3,4}\n",
        "s1[0:3]"
      ],
      "metadata": {
        "colab": {
          "base_uri": "https://localhost:8080/",
          "height": 187
        },
        "id": "1FTPU90-y8Vm",
        "outputId": "e27c181e-135c-48cc-8d40-2c80a00e90b2"
      },
      "execution_count": null,
      "outputs": [
        {
          "output_type": "error",
          "ename": "TypeError",
          "evalue": "ignored",
          "traceback": [
            "\u001b[0;31m---------------------------------------------------------------------------\u001b[0m",
            "\u001b[0;31mTypeError\u001b[0m                                 Traceback (most recent call last)",
            "\u001b[0;32m<ipython-input-75-4c49b6b6050d>\u001b[0m in \u001b[0;36m<module>\u001b[0;34m\u001b[0m\n\u001b[1;32m      1\u001b[0m \u001b[0ms1\u001b[0m \u001b[0;34m=\u001b[0m \u001b[0;34m{\u001b[0m\u001b[0;36m1\u001b[0m\u001b[0;34m,\u001b[0m\u001b[0;36m2\u001b[0m\u001b[0;34m,\u001b[0m\u001b[0;36m3\u001b[0m\u001b[0;34m,\u001b[0m\u001b[0;36m4\u001b[0m\u001b[0;34m}\u001b[0m\u001b[0;34m\u001b[0m\u001b[0;34m\u001b[0m\u001b[0m\n\u001b[0;32m----> 2\u001b[0;31m \u001b[0ms1\u001b[0m\u001b[0;34m[\u001b[0m\u001b[0;36m0\u001b[0m\u001b[0;34m:\u001b[0m\u001b[0;36m3\u001b[0m\u001b[0;34m]\u001b[0m\u001b[0;34m\u001b[0m\u001b[0;34m\u001b[0m\u001b[0m\n\u001b[0m",
            "\u001b[0;31mTypeError\u001b[0m: 'set' object is not subscriptable"
          ]
        }
      ],
      "id": "1FTPU90-y8Vm"
    },
    {
      "cell_type": "markdown",
      "source": [
        "### Adding Items"
      ],
      "metadata": {
        "id": "5xsL5JF-zLkI"
      },
      "id": "5xsL5JF-zLkI"
    },
    {
      "cell_type": "code",
      "source": [
        "S = {1,2,3,4}\n",
        "# add\n",
        "# S.add(5)\n",
        "# print(S)\n",
        "# update\n",
        "S.update([5,6,7])\n",
        "print(S)"
      ],
      "metadata": {
        "colab": {
          "base_uri": "https://localhost:8080/"
        },
        "id": "qiRjVBv6zNnO",
        "outputId": "58dbc681-d0c2-48ed-8bc5-62e90b444d7a"
      },
      "execution_count": null,
      "outputs": [
        {
          "output_type": "stream",
          "name": "stdout",
          "text": [
            "{1, 2, 3, 4, 5, 6, 7}\n"
          ]
        }
      ],
      "id": "qiRjVBv6zNnO"
    },
    {
      "cell_type": "markdown",
      "source": [
        "### Deleting Items"
      ],
      "metadata": {
        "id": "3cRiDI8CzOGL"
      },
      "id": "3cRiDI8CzOGL"
    },
    {
      "cell_type": "code",
      "source": [
        "# del\n",
        "s = {1,2,3,4,5}\n",
        "# print(s)\n",
        "# del s[0]\n",
        "# print(s)\n",
        "# discard\n",
        "# s.discard(50)\n",
        "# print(s)\n",
        "# remove\n",
        "# s.remove(50)\n",
        "# print(s)\n",
        "# pop\n",
        "# s.pop() #random delete any item\n",
        "# clear\n",
        "s.clear()\n",
        "print(s)"
      ],
      "metadata": {
        "colab": {
          "base_uri": "https://localhost:8080/"
        },
        "id": "IyIhIyqzzPT6",
        "outputId": "8e313ce8-a8f0-48bb-c5f0-57ddb436260a"
      },
      "execution_count": null,
      "outputs": [
        {
          "output_type": "stream",
          "name": "stdout",
          "text": [
            "set()\n"
          ]
        }
      ],
      "id": "IyIhIyqzzPT6"
    },
    {
      "cell_type": "markdown",
      "source": [
        "### Set Operation"
      ],
      "metadata": {
        "id": "Cil9LKcszP09"
      },
      "id": "Cil9LKcszP09"
    },
    {
      "cell_type": "code",
      "source": [
        "s1 = {1,2,3,4,5}\n",
        "s2 = {4,5,6,7,8}\n",
        "s1 | s2\n",
        "# Union(|)\n",
        "# Intersection(&)\n",
        "s1 & s2\n",
        "# Difference(-)\n",
        "a = s1 - s2\n",
        "b= s2 - s1\n",
        "print(a)\n",
        "print(b)\n",
        "# Symmetric Difference(^)\n",
        "s1 ^ s2\n",
        "# Membership Test\n",
        "1 not in s1\n",
        "# Iteration\n",
        "for i in s1:\n",
        "  print(i)"
      ],
      "metadata": {
        "colab": {
          "base_uri": "https://localhost:8080/"
        },
        "id": "pC3f28V5zRNG",
        "outputId": "88324d53-4ded-4266-d3b0-b506aa4863d7"
      },
      "execution_count": null,
      "outputs": [
        {
          "output_type": "stream",
          "name": "stdout",
          "text": [
            "{1, 2, 3}\n",
            "{8, 6, 7}\n",
            "1\n",
            "2\n",
            "3\n",
            "4\n",
            "5\n"
          ]
        }
      ],
      "id": "pC3f28V5zRNG"
    },
    {
      "cell_type": "markdown",
      "source": [
        "### Set Operation"
      ],
      "metadata": {
        "id": "anmz_J1etpN1"
      },
      "id": "anmz_J1etpN1"
    },
    {
      "cell_type": "code",
      "source": [
        "s1 = {1,2,3,4,5}\n",
        "s2 = {4,5,6,7,8}\n",
        "s1 | s2\n",
        "# Union(|)\n",
        "# Intersection(&)\n",
        "s1 & s2\n",
        "# Difference(-)\n",
        "s1 - s2\n",
        "s2 - s1\n",
        "# Symmetric Difference(^)\n",
        "s1 ^ s2\n",
        "# Membership Test\n",
        "1 not in s1\n",
        "# Iteration\n",
        "for i in s1:\n",
        "  print(i)"
      ],
      "metadata": {
        "colab": {
          "base_uri": "https://localhost:8080/"
        },
        "id": "2cbqTCzTshXP",
        "outputId": "539a431d-7e66-444b-afd4-29bf2448c48b"
      },
      "id": "2cbqTCzTshXP",
      "execution_count": null,
      "outputs": [
        {
          "output_type": "stream",
          "name": "stdout",
          "text": [
            "1\n",
            "2\n",
            "3\n",
            "4\n",
            "5\n"
          ]
        }
      ]
    },
    {
      "cell_type": "code",
      "source": [
        "s.union(s1)"
      ],
      "metadata": {
        "colab": {
          "base_uri": "https://localhost:8080/"
        },
        "id": "GI0c0W70shUE",
        "outputId": "b71a5951-f32e-4fdf-fae2-748e3b7e4c94"
      },
      "id": "GI0c0W70shUE",
      "execution_count": null,
      "outputs": [
        {
          "output_type": "execute_result",
          "data": {
            "text/plain": [
              "{1, 2, 3, 4, 5}"
            ]
          },
          "metadata": {},
          "execution_count": 19
        }
      ]
    },
    {
      "cell_type": "code",
      "source": [
        "s1 = {1,2,3,4,5}\n",
        "s2 = {4,5,6,7,8}\n",
        "s1 | s2\n",
        "# Union(|)\n",
        "# Intersection(&)\n",
        "s1 & s2\n",
        "# Difference(-)\n",
        "s1 - s2\n",
        "s2 - s1\n",
        "# Symmetric Difference(^)\n",
        "s1 ^ s2\n",
        "# Membership Test\n",
        "1 not in s1\n",
        "# Iteration\n",
        "for i in s1:\n",
        "  print(i)"
      ],
      "metadata": {
        "colab": {
          "base_uri": "https://localhost:8080/"
        },
        "outputId": "8591f85d-3506-47fd-d025-956e83639b6c",
        "id": "y6_KEuFCxWYO"
      },
      "execution_count": null,
      "outputs": [
        {
          "output_type": "stream",
          "name": "stdout",
          "text": [
            "1\n",
            "2\n",
            "3\n",
            "4\n",
            "5\n"
          ]
        }
      ],
      "id": "y6_KEuFCxWYO"
    },
    {
      "cell_type": "markdown",
      "source": [
        "### Set Functions"
      ],
      "metadata": {
        "id": "DYP9VCyUzRy_"
      },
      "id": "DYP9VCyUzRy_"
    },
    {
      "cell_type": "code",
      "source": [
        "# len/sum/min/max/sorted\n",
        "s = {3,1,4,5,2,7}\n",
        "len(s)\n",
        "sum(s)\n",
        "min(s)\n",
        "max(s)\n",
        "sorted(s,reverse=True)"
      ],
      "metadata": {
        "colab": {
          "base_uri": "https://localhost:8080/"
        },
        "id": "pte3wLPM3tcz",
        "outputId": "c25bbd1a-b80b-4787-ab5f-20c51d65d3b0"
      },
      "execution_count": null,
      "outputs": [
        {
          "output_type": "execute_result",
          "data": {
            "text/plain": [
              "[7, 5, 4, 3, 2, 1]"
            ]
          },
          "metadata": {},
          "execution_count": 100
        }
      ],
      "id": "pte3wLPM3tcz"
    },
    {
      "cell_type": "code",
      "source": [
        "# union/update\n",
        "s1 = {1,2,3,4,5}\n",
        "s2 = {4,5,6,7,8}\n",
        "\n",
        "# s1 | s2\n",
        "s1.union(s1)\n",
        "\n",
        "s1.update(s2)\n",
        "print(s1)\n",
        "print(s2)"
      ],
      "metadata": {
        "colab": {
          "base_uri": "https://localhost:8080/"
        },
        "id": "j8hpGYlF30aU",
        "outputId": "2033d6e6-89c3-4176-8e78-b8998409988e"
      },
      "execution_count": null,
      "outputs": [
        {
          "output_type": "stream",
          "name": "stdout",
          "text": [
            "{1, 2, 3, 4, 5, 6, 7, 8}\n",
            "{4, 5, 6, 7, 8}\n"
          ]
        }
      ],
      "id": "j8hpGYlF30aU"
    },
    {
      "cell_type": "code",
      "source": [
        "# intersection/intersection_update\n",
        "s1 = {1,2,3,4,5}\n",
        "s2 = {4,5,6,7,8}\n",
        "\n",
        "s1.intersection(s2)\n",
        "\n",
        "s1.intersection_update(s2)\n",
        "print(s1)\n",
        "print(s2)"
      ],
      "metadata": {
        "colab": {
          "base_uri": "https://localhost:8080/"
        },
        "id": "oqLRlh2H4U9k",
        "outputId": "7f193542-90a7-448f-edb5-a12b41c418db"
      },
      "execution_count": null,
      "outputs": [
        {
          "output_type": "stream",
          "name": "stdout",
          "text": [
            "{4, 5}\n",
            "{4, 5, 6, 7, 8}\n"
          ]
        }
      ],
      "id": "oqLRlh2H4U9k"
    },
    {
      "cell_type": "code",
      "source": [
        "# difference/difference_update\n",
        "s1 = {1,2,3,4,5}\n",
        "s2 = {4,5,6,7,8}\n",
        "\n",
        "s1.difference(s2)\n",
        "\n",
        "s1.difference_update(s2)\n",
        "print(s1)\n",
        "print(s2)"
      ],
      "metadata": {
        "colab": {
          "base_uri": "https://localhost:8080/"
        },
        "id": "eBMvn14b4Z5h",
        "outputId": "abe9a58a-8237-4d2e-a72b-ba14b0cc5468"
      },
      "execution_count": null,
      "outputs": [
        {
          "output_type": "stream",
          "name": "stdout",
          "text": [
            "{1, 2, 3}\n",
            "{4, 5, 6, 7, 8}\n"
          ]
        }
      ],
      "id": "eBMvn14b4Z5h"
    },
    {
      "cell_type": "code",
      "source": [
        "# symmetric_difference/symmetric_difference_update\n",
        "s1 = {1,2,3,4,5}\n",
        "s2 = {4,5,6,7,8}\n",
        "\n",
        "s1.symmetric_difference(s2)\n",
        "\n",
        "s1.symmetric_difference_update(s2)\n",
        "print(s1)\n",
        "print(s2)"
      ],
      "metadata": {
        "colab": {
          "base_uri": "https://localhost:8080/"
        },
        "id": "RaJDBDkl4eum",
        "outputId": "16eb16c3-15c1-4cf0-a35e-63ad77b6cec8"
      },
      "execution_count": null,
      "outputs": [
        {
          "output_type": "stream",
          "name": "stdout",
          "text": [
            "{1, 2, 3, 6, 7, 8}\n",
            "{4, 5, 6, 7, 8}\n"
          ]
        }
      ],
      "id": "RaJDBDkl4eum"
    },
    {
      "cell_type": "code",
      "source": [
        "# isdisjoint/issubset/issuperset\n",
        "s1 = {1,2,3,4}\n",
        "s2 = {7,8,5,6}\n",
        "\n",
        "s1.isdisjoint(s2)"
      ],
      "metadata": {
        "colab": {
          "base_uri": "https://localhost:8080/"
        },
        "id": "vCuiMdAH4mJv",
        "outputId": "a0933bf7-17b6-428e-ecc8-f73a4aef7e02"
      },
      "execution_count": null,
      "outputs": [
        {
          "output_type": "execute_result",
          "data": {
            "text/plain": [
              "True"
            ]
          },
          "metadata": {},
          "execution_count": 109
        }
      ],
      "id": "vCuiMdAH4mJv"
    },
    {
      "cell_type": "code",
      "source": [
        "s1 = {1,2,3,4,5}\n",
        "s2 = {3,4,5}\n",
        "\n",
        "s1.issuperset(s2)"
      ],
      "metadata": {
        "colab": {
          "base_uri": "https://localhost:8080/"
        },
        "id": "dUsEhC1O9MCg",
        "outputId": "fc919a16-888b-4096-9f7e-82c5e56ad99b"
      },
      "execution_count": null,
      "outputs": [
        {
          "output_type": "execute_result",
          "data": {
            "text/plain": [
              "True"
            ]
          },
          "metadata": {},
          "execution_count": 112
        }
      ],
      "id": "dUsEhC1O9MCg"
    },
    {
      "cell_type": "code",
      "source": [
        "# copy\n",
        "s1 = {1,2,3}\n",
        "s2 = s1.copy()\n",
        "\n",
        "print(s1)\n",
        "print(s2)"
      ],
      "metadata": {
        "colab": {
          "base_uri": "https://localhost:8080/"
        },
        "id": "g66FpVYp4tfF",
        "outputId": "ea220c6b-065f-4069-b872-2a8a68bcc0e0"
      },
      "execution_count": null,
      "outputs": [
        {
          "output_type": "stream",
          "name": "stdout",
          "text": [
            "{1, 2, 3}\n",
            "{1, 2, 3}\n"
          ]
        }
      ],
      "id": "g66FpVYp4tfF"
    },
    {
      "cell_type": "markdown",
      "source": [
        "### Frozenset\n",
        "Frozen set is just an immutable version of a Python set object"
      ],
      "metadata": {
        "id": "CNkTGbL66HjH"
      },
      "id": "CNkTGbL66HjH"
    },
    {
      "cell_type": "code",
      "source": [
        "# create frozenset\n",
        "fs1 = frozenset([1,2,3])\n",
        "fs2 = frozenset([3,4,5])\n",
        "\n",
        "fs1 | fs2"
      ],
      "metadata": {
        "colab": {
          "base_uri": "https://localhost:8080/"
        },
        "id": "Y5tjnO97JWZW",
        "outputId": "8cf9b1c2-a725-4101-abdf-05b1e32f39fa"
      },
      "execution_count": null,
      "outputs": [
        {
          "output_type": "execute_result",
          "data": {
            "text/plain": [
              "frozenset({1, 2, 3, 4, 5})"
            ]
          },
          "metadata": {},
          "execution_count": 115
        }
      ],
      "id": "Y5tjnO97JWZW"
    },
    {
      "cell_type": "code",
      "source": [
        "# what works and what does not\n",
        "# works -> all read functions\n",
        "# does't work -> write operations"
      ],
      "metadata": {
        "id": "BNGv2dqe6Jof"
      },
      "execution_count": null,
      "outputs": [],
      "id": "BNGv2dqe6Jof"
    },
    {
      "cell_type": "code",
      "source": [
        "# When to use\n",
        "# 2D sets\n",
        "fs = frozenset([1,2,frozenset([3,4])])\n",
        "fs"
      ],
      "metadata": {
        "colab": {
          "base_uri": "https://localhost:8080/"
        },
        "id": "T4Bfg2d2JcAN",
        "outputId": "231ec701-7b17-4080-b438-8f02c744b547"
      },
      "execution_count": null,
      "outputs": [
        {
          "output_type": "execute_result",
          "data": {
            "text/plain": [
              "frozenset({1, 2, frozenset({3, 4})})"
            ]
          },
          "metadata": {},
          "execution_count": 117
        }
      ],
      "id": "T4Bfg2d2JcAN"
    },
    {
      "cell_type": "markdown",
      "source": [
        "### Set Comprehension"
      ],
      "metadata": {
        "id": "KcTsyq3G6Qkr"
      },
      "id": "KcTsyq3G6Qkr"
    },
    {
      "cell_type": "code",
      "source": [
        "# examples\n",
        "\n",
        "{i**2 for i in range(1,11) if i>5}"
      ],
      "metadata": {
        "colab": {
          "base_uri": "https://localhost:8080/"
        },
        "id": "yvPmmWDm6SR8",
        "outputId": "c7aea44e-d2b7-4235-935d-da131a677297"
      },
      "execution_count": null,
      "outputs": [
        {
          "output_type": "execute_result",
          "data": {
            "text/plain": [
              "{36, 49, 64, 81, 100}"
            ]
          },
          "metadata": {},
          "execution_count": 120
        }
      ],
      "id": "yvPmmWDm6SR8"
    },
    {
      "cell_type": "markdown",
      "source": [
        "# Dictionary\n",
        "\n",
        "Dictionary in Python is a collection of keys values, used to store data values like a map, which, unlike other data types which hold only a single value as an element.\n",
        "\n",
        "In some languages it is known as map or assosiative arrays.\n",
        "\n",
        "dict = { 'name' : 'nitish' , 'age' : 33 , 'gender' : 'male' }\n",
        "\n",
        "Characterstics:\n",
        "\n",
        "- Mutable\n",
        "- Indexing has no meaning\n",
        "- keys can't be duplicated\n",
        "- keys can't be mutable items"
      ],
      "metadata": {
        "id": "YNh0xkX78Muf"
      },
      "id": "YNh0xkX78Muf"
    },
    {
      "cell_type": "markdown",
      "source": [
        "### Create Dictionary"
      ],
      "metadata": {
        "id": "dgB9Lu5Q9eVP"
      },
      "id": "dgB9Lu5Q9eVP"
    },
    {
      "cell_type": "code",
      "source": [
        "# empty dictionary\n",
        "d = {}\n",
        "d\n",
        "# 1D dictionary\n",
        "d1 = { 'name' : 'nitish' ,'gender' : 'male' }\n",
        "d1\n",
        "# with mixed keys\n",
        "d2 = {(1,2,3):1,'hello':'world'}\n",
        "d2\n",
        "# 2D dictionary -> JSON\n",
        "s = {\n",
        "    'name':'nitish',\n",
        "     'college':'bit',\n",
        "     'sem':4,\n",
        "     'subjects':{\n",
        "         'dsa':50,\n",
        "         'maths':67,\n",
        "         'english':34\n",
        "     }\n",
        "}\n",
        "s\n",
        "# using sequence and dict function\n",
        "d4 = dict([('name','nitish'),('age',32),(3,3)])\n",
        "d4\n",
        "# duplicate keys\n",
        "d5 = {'name':'nitish','name':'rahul'}\n",
        "print(d5)\n",
        "# mutable items as keys\n",
        "d6 = {'name':'nitish',(1,2,3):2}\n",
        "print(d6)"
      ],
      "metadata": {
        "colab": {
          "base_uri": "https://localhost:8080/"
        },
        "id": "LNvbGba38Gie",
        "outputId": "d26a1f1d-4f8b-4fbf-f0dd-eb6aca71a1a0"
      },
      "id": "LNvbGba38Gie",
      "execution_count": null,
      "outputs": [
        {
          "output_type": "stream",
          "name": "stdout",
          "text": [
            "{'name': 'rahul'}\n",
            "{'name': 'nitish', (1, 2, 3): 2}\n"
          ]
        }
      ]
    },
    {
      "cell_type": "markdown",
      "source": [
        "### Accessing items"
      ],
      "metadata": {
        "id": "VtB-Bu1aNVyq"
      },
      "id": "VtB-Bu1aNVyq"
    },
    {
      "cell_type": "code",
      "source": [
        "my_dict = {'name': 'Jack', 'age': 26}\n",
        "# []\n",
        "my_dict['age']\n",
        "# get\n",
        "my_dict.get('age')\n",
        "\n",
        "s['subjects']['maths']"
      ],
      "metadata": {
        "colab": {
          "base_uri": "https://localhost:8080/"
        },
        "id": "Q4XY9ipw9k9h",
        "outputId": "33bc455b-54ee-4024-8d0a-150a40447747"
      },
      "id": "Q4XY9ipw9k9h",
      "execution_count": null,
      "outputs": [
        {
          "output_type": "execute_result",
          "data": {
            "text/plain": [
              "67"
            ]
          },
          "metadata": {},
          "execution_count": 7
        }
      ]
    },
    {
      "cell_type": "markdown",
      "source": [
        "### Adding key-value pair"
      ],
      "metadata": {
        "id": "MOwj3gUfOLCM"
      },
      "id": "MOwj3gUfOLCM"
    },
    {
      "cell_type": "code",
      "source": [
        "d4['gender'] = 'male'\n",
        "d4\n",
        "d4['weight'] = 72\n",
        "d4\n",
        "\n",
        "s['subjects']['ds'] = 75\n",
        "s"
      ],
      "metadata": {
        "colab": {
          "base_uri": "https://localhost:8080/"
        },
        "id": "bpWDfExe8GfP",
        "outputId": "ecb553dc-4357-4bd8-bba1-0a67c93da66d"
      },
      "id": "bpWDfExe8GfP",
      "execution_count": null,
      "outputs": [
        {
          "output_type": "execute_result",
          "data": {
            "text/plain": [
              "{'name': 'nitish',\n",
              " 'college': 'bit',\n",
              " 'sem': 4,\n",
              " 'subjects': {'dsa': 50, 'maths': 67, 'english': 34, 'ds': 75}}"
            ]
          },
          "metadata": {},
          "execution_count": 9
        }
      ]
    },
    {
      "cell_type": "markdown",
      "source": [
        "### Remove key-value pair"
      ],
      "metadata": {
        "id": "RWwGj1QnOOyr"
      },
      "id": "RWwGj1QnOOyr"
    },
    {
      "cell_type": "code",
      "source": [
        "d = {'name': 'nitish', 'age': 32, 3: 3, 'gender': 'male', 'weight': 72}\n",
        "# pop\n",
        "#d.pop(3)\n",
        "#print(d)\n",
        "# popitem\n",
        "#d.popitem()\n",
        "# d.popitem()\n",
        "# print(d)\n",
        "# del\n",
        "#del d['name']\n",
        "#print(d)\n",
        "# clear\n",
        "d.clear()\n",
        "print(d)\n",
        "\n",
        "del s['subjects']['maths']\n",
        "s"
      ],
      "metadata": {
        "id": "a46n2S6J-RZ9"
      },
      "id": "a46n2S6J-RZ9",
      "execution_count": null,
      "outputs": []
    },
    {
      "cell_type": "markdown",
      "source": [
        "### Editing key-value pair"
      ],
      "metadata": {
        "id": "89XhL1HOObqh"
      },
      "id": "89XhL1HOObqh"
    },
    {
      "cell_type": "code",
      "source": [
        "s['subjects']['dsa'] = 80\n",
        "s"
      ],
      "metadata": {
        "colab": {
          "base_uri": "https://localhost:8080/"
        },
        "id": "3iQNbvKh8GcF",
        "outputId": "f522f418-bfbe-4265-de80-6cb5258d2754"
      },
      "id": "3iQNbvKh8GcF",
      "execution_count": null,
      "outputs": [
        {
          "output_type": "execute_result",
          "data": {
            "text/plain": [
              "{'name': 'nitish',\n",
              " 'college': 'bit',\n",
              " 'sem': 4,\n",
              " 'subjects': {'dsa': 80, 'english': 34, 'ds': 75}}"
            ]
          },
          "metadata": {},
          "execution_count": 13
        }
      ]
    },
    {
      "cell_type": "markdown",
      "source": [
        "### Editing key-value pair"
      ],
      "metadata": {
        "id": "HblR3OQ2_LCH"
      },
      "id": "HblR3OQ2_LCH"
    },
    {
      "cell_type": "code",
      "source": [
        "s['subjects']['dsa'] = 80\n",
        "s"
      ],
      "metadata": {
        "colab": {
          "base_uri": "https://localhost:8080/"
        },
        "id": "CKI_SYN68GZJ",
        "outputId": "3496e382-34e5-4ce2-8839-5d3e43c6802a"
      },
      "id": "CKI_SYN68GZJ",
      "execution_count": null,
      "outputs": [
        {
          "output_type": "execute_result",
          "data": {
            "text/plain": [
              "{'name': 'nitish',\n",
              " 'college': 'bit',\n",
              " 'sem': 4,\n",
              " 'subjects': {'dsa': 80, 'english': 34, 'ds': 75}}"
            ]
          },
          "metadata": {},
          "execution_count": 14
        }
      ]
    },
    {
      "cell_type": "markdown",
      "source": [
        "### Dictionary Operations\n",
        "\n",
        "- Membership\n",
        "- Iteration"
      ],
      "metadata": {
        "id": "Y8IxFZtDOuXJ"
      },
      "id": "Y8IxFZtDOuXJ"
    },
    {
      "cell_type": "code",
      "source": [
        "print(s)\n",
        "\n",
        "'name' in s\n",
        "'nitish' in s"
      ],
      "metadata": {
        "colab": {
          "base_uri": "https://localhost:8080/"
        },
        "id": "Sg7WhJZR8GV5",
        "outputId": "357990ec-09f5-4e34-9afa-5958198d139b"
      },
      "id": "Sg7WhJZR8GV5",
      "execution_count": null,
      "outputs": [
        {
          "output_type": "stream",
          "name": "stdout",
          "text": [
            "{'name': 'nitish', 'college': 'bit', 'sem': 4, 'subjects': {'dsa': 80, 'english': 34, 'ds': 75}}\n"
          ]
        },
        {
          "output_type": "execute_result",
          "data": {
            "text/plain": [
              "False"
            ]
          },
          "metadata": {},
          "execution_count": 17
        }
      ]
    },
    {
      "cell_type": "code",
      "source": [
        "d = {'name':'nitish','gender':'male','age':33}\n",
        "\n",
        "for i in d:\n",
        "  print(i,d[i])"
      ],
      "metadata": {
        "colab": {
          "base_uri": "https://localhost:8080/"
        },
        "id": "dhMNV6RV8GTE",
        "outputId": "4c758aa1-c831-4e32-afbc-671fd4594276"
      },
      "id": "dhMNV6RV8GTE",
      "execution_count": null,
      "outputs": [
        {
          "output_type": "stream",
          "name": "stdout",
          "text": [
            "name nitish\n",
            "gender male\n",
            "age 33\n"
          ]
        }
      ]
    },
    {
      "cell_type": "markdown",
      "source": [
        "### Dictionary Functions"
      ],
      "metadata": {
        "id": "BoCoYK3aPeaz"
      },
      "id": "BoCoYK3aPeaz"
    },
    {
      "cell_type": "code",
      "source": [
        "# len/sorted\n",
        "len(d)\n",
        "print(d)\n",
        "sorted(d,reverse=True)\n",
        "max(d)"
      ],
      "metadata": {
        "colab": {
          "base_uri": "https://localhost:8080/",
          "height": 53
        },
        "id": "3EIUkgME8GQN",
        "outputId": "e9fefb2e-677a-4354-eeae-97dcd833d72d"
      },
      "id": "3EIUkgME8GQN",
      "execution_count": null,
      "outputs": [
        {
          "output_type": "stream",
          "name": "stdout",
          "text": [
            "{'name': 'nitish', 'gender': 'male', 'age': 33}\n"
          ]
        },
        {
          "output_type": "execute_result",
          "data": {
            "text/plain": [
              "'name'"
            ],
            "application/vnd.google.colaboratory.intrinsic+json": {
              "type": "string"
            }
          },
          "metadata": {},
          "execution_count": 19
        }
      ]
    },
    {
      "cell_type": "code",
      "source": [
        "# items/keys/values\n",
        "print(d)\n",
        "\n",
        "print(d.items())\n",
        "print(d.keys())\n",
        "print(d.values())"
      ],
      "metadata": {
        "colab": {
          "base_uri": "https://localhost:8080/"
        },
        "id": "tTiVhCcK8GNO",
        "outputId": "0d08db48-e42a-4196-989f-ffdd2433604b"
      },
      "id": "tTiVhCcK8GNO",
      "execution_count": null,
      "outputs": [
        {
          "output_type": "stream",
          "name": "stdout",
          "text": [
            "{'name': 'nitish', 'gender': 'male', 'age': 33}\n",
            "dict_items([('name', 'nitish'), ('gender', 'male'), ('age', 33)])\n",
            "dict_keys(['name', 'gender', 'age'])\n",
            "dict_values(['nitish', 'male', 33])\n"
          ]
        }
      ]
    },
    {
      "cell_type": "code",
      "source": [
        "# update\n",
        "d1 = {1:2,3:4,4:5}\n",
        "d2 = {4:7,6:8}\n",
        "\n",
        "d1.update(d2)\n",
        "print(d1)"
      ],
      "metadata": {
        "colab": {
          "base_uri": "https://localhost:8080/"
        },
        "id": "uJ9yNsIR8GIh",
        "outputId": "aa7b4e12-6989-411d-8bb6-9430f00313d1"
      },
      "id": "uJ9yNsIR8GIh",
      "execution_count": null,
      "outputs": [
        {
          "output_type": "stream",
          "name": "stdout",
          "text": [
            "{1: 2, 3: 4, 4: 7, 6: 8}\n"
          ]
        }
      ]
    },
    {
      "cell_type": "markdown",
      "source": [
        "### Dictionary Comprehension\n",
        "![image.png](data:image/png;base64,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)"
      ],
      "metadata": {
        "id": "RFYA6h_CPslG"
      },
      "id": "RFYA6h_CPslG"
    },
    {
      "cell_type": "code",
      "source": [
        "# print 1st 10 numbers and their squares\n",
        "{i:i**2 for i in range(1,11)}"
      ],
      "metadata": {
        "colab": {
          "base_uri": "https://localhost:8080/"
        },
        "id": "TMAkl3eI8GFj",
        "outputId": "999eb168-649e-447b-d03a-b90b795cffb9"
      },
      "id": "TMAkl3eI8GFj",
      "execution_count": null,
      "outputs": [
        {
          "output_type": "execute_result",
          "data": {
            "text/plain": [
              "{1: 1, 2: 4, 3: 9, 4: 16, 5: 25, 6: 36, 7: 49, 8: 64, 9: 81, 10: 100}"
            ]
          },
          "metadata": {},
          "execution_count": 27
        }
      ]
    },
    {
      "cell_type": "code",
      "source": [
        "distances = {'delhi':1000,'mumbai':2000,'bangalore':3000}\n",
        "print(distances.items())"
      ],
      "metadata": {
        "colab": {
          "base_uri": "https://localhost:8080/"
        },
        "id": "xGuBWm9o8GCg",
        "outputId": "6be32381-81e1-40e7-d6b6-9ef0ea64e513"
      },
      "id": "xGuBWm9o8GCg",
      "execution_count": null,
      "outputs": [
        {
          "output_type": "stream",
          "name": "stdout",
          "text": [
            "dict_items([('delhi', 1000), ('mumbai', 2000), ('bangalore', 3000)])\n"
          ]
        }
      ]
    },
    {
      "cell_type": "code",
      "source": [
        "# using existing dict\n",
        "distances = {'delhi':1000,'mumbai':2000,'bangalore':3000}\n",
        "{key:value*0.62 for (key,value) in distances.items()}"
      ],
      "metadata": {
        "colab": {
          "base_uri": "https://localhost:8080/"
        },
        "id": "fYGSvoK08F_p",
        "outputId": "77268aa2-11af-4f22-d3fb-caea6f3e200f"
      },
      "id": "fYGSvoK08F_p",
      "execution_count": null,
      "outputs": [
        {
          "output_type": "execute_result",
          "data": {
            "text/plain": [
              "{'delhi': 620.0, 'mumbai': 1240.0, 'bangalore': 1860.0}"
            ]
          },
          "metadata": {},
          "execution_count": 29
        }
      ]
    },
    {
      "cell_type": "code",
      "source": [
        "# using zip\n",
        "days = [\"Sunday\", \"Monday\",\"Tuesday\",\"Wednesday\",\"Thursday\",\"Friday\",\"Saturday\"]\n",
        "temp_C = [30.5,32.6,31.8,33.4,29.8,30.2,29.9]\n",
        "\n",
        "{i:j for (i,j) in zip(days,temp_C)}"
      ],
      "metadata": {
        "colab": {
          "base_uri": "https://localhost:8080/"
        },
        "id": "8w6cm8nD8F8f",
        "outputId": "dc03dbb2-d7a3-4d6e-c010-df65fc16b98d"
      },
      "id": "8w6cm8nD8F8f",
      "execution_count": null,
      "outputs": [
        {
          "output_type": "execute_result",
          "data": {
            "text/plain": [
              "{'Sunday': 30.5,\n",
              " 'Monday': 32.6,\n",
              " 'Tuesday': 31.8,\n",
              " 'Wednesday': 33.4,\n",
              " 'Thursday': 29.8,\n",
              " 'Friday': 30.2,\n",
              " 'Saturday': 29.9}"
            ]
          },
          "metadata": {},
          "execution_count": 30
        }
      ]
    },
    {
      "cell_type": "code",
      "source": [
        "# using if condition\n",
        "products = {'phone':10,'laptop':0,'charger':32,'tablet':0}\n",
        "\n",
        "{key:value for (key,value) in products.items() if value>0}"
      ],
      "metadata": {
        "colab": {
          "base_uri": "https://localhost:8080/"
        },
        "id": "C6dk12gO8F5f",
        "outputId": "b1ff587c-3495-4753-d56d-5921e75f3af1"
      },
      "id": "C6dk12gO8F5f",
      "execution_count": null,
      "outputs": [
        {
          "output_type": "execute_result",
          "data": {
            "text/plain": [
              "{'phone': 10, 'charger': 32}"
            ]
          },
          "metadata": {},
          "execution_count": 31
        }
      ]
    },
    {
      "cell_type": "code",
      "source": [
        "# Nested Comprehension\n",
        "# print tables of number from 2 to 4\n",
        "{i:{j:i*j for j in range(1,11)} for i in range(2,5)}"
      ],
      "metadata": {
        "colab": {
          "base_uri": "https://localhost:8080/"
        },
        "id": "wW8KiuC58F2e",
        "outputId": "1ba9b022-3434-479d-ab48-8f21b8470d2a"
      },
      "id": "wW8KiuC58F2e",
      "execution_count": null,
      "outputs": [
        {
          "output_type": "execute_result",
          "data": {
            "text/plain": [
              "{2: {1: 2, 2: 4, 3: 6, 4: 8, 5: 10, 6: 12, 7: 14, 8: 16, 9: 18, 10: 20},\n",
              " 3: {1: 3, 2: 6, 3: 9, 4: 12, 5: 15, 6: 18, 7: 21, 8: 24, 9: 27, 10: 30},\n",
              " 4: {1: 4, 2: 8, 3: 12, 4: 16, 5: 20, 6: 24, 7: 28, 8: 32, 9: 36, 10: 40}}"
            ]
          },
          "metadata": {},
          "execution_count": 32
        }
      ]
    },
    {
      "cell_type": "markdown",
      "source": [
        "dict.clear()"
      ],
      "metadata": {
        "id": "IteJb0iFnQ2O"
      },
      "id": "IteJb0iFnQ2O"
    },
    {
      "cell_type": "code",
      "source": [
        "text = {1: \"geeks\", 2: \"for\"}\n",
        "\n",
        "text.clear()\n",
        "print('text =', text)"
      ],
      "metadata": {
        "colab": {
          "base_uri": "https://localhost:8080/"
        },
        "id": "K3TIU6dinUnP",
        "outputId": "d29fd2ca-73aa-4e3e-9f55-5133f28870d3"
      },
      "id": "K3TIU6dinUnP",
      "execution_count": null,
      "outputs": [
        {
          "output_type": "stream",
          "name": "stdout",
          "text": [
            "text = {}\n"
          ]
        }
      ]
    },
    {
      "cell_type": "markdown",
      "source": [
        "dict.copy()"
      ],
      "metadata": {
        "id": "ecTmdmCJnvxQ"
      },
      "id": "ecTmdmCJnvxQ"
    },
    {
      "cell_type": "code",
      "source": [
        "original = {1: 'geeks', 2: 'for'}\n",
        "\n",
        "new = original.copy()\n",
        "\n",
        "\n",
        "\n",
        "print('new: ', new)\n",
        "print('original: ', original)"
      ],
      "metadata": {
        "colab": {
          "base_uri": "https://localhost:8080/"
        },
        "id": "ZwuivixOn4Zn",
        "outputId": "99c6357b-bd9c-4cb4-a0c5-35be5711889c"
      },
      "id": "ZwuivixOn4Zn",
      "execution_count": null,
      "outputs": [
        {
          "output_type": "stream",
          "name": "stdout",
          "text": [
            "new:  {1: 'geeks', 2: 'for'}\n",
            "original:  {1: 'geeks', 2: 'for'}\n"
          ]
        }
      ]
    },
    {
      "cell_type": "markdown",
      "source": [
        "dict.fromkeys()"
      ],
      "metadata": {
        "id": "vx6YHNDsokfW"
      },
      "id": "vx6YHNDsokfW"
    },
    {
      "cell_type": "code",
      "source": [
        "seq = ('a', 'b', 'c')\n",
        "print(dict.fromkeys(seq, None))"
      ],
      "metadata": {
        "colab": {
          "base_uri": "https://localhost:8080/"
        },
        "id": "p9OViO2popAL",
        "outputId": "9f578b7d-4e15-418f-d820-ef72e87d6ba7"
      },
      "id": "p9OViO2popAL",
      "execution_count": null,
      "outputs": [
        {
          "output_type": "stream",
          "name": "stdout",
          "text": [
            "{'a': None, 'b': None, 'c': None}\n"
          ]
        }
      ]
    },
    {
      "cell_type": "markdown",
      "source": [
        "dict.get()"
      ],
      "metadata": {
        "id": "6BLhnqezpYj1"
      },
      "id": "6BLhnqezpYj1"
    },
    {
      "cell_type": "code",
      "source": [
        "d = {'coding': 'good', 'thinking': 'better'}\n",
        "print(d.get('coding'))"
      ],
      "metadata": {
        "colab": {
          "base_uri": "https://localhost:8080/"
        },
        "id": "l72KqcuZpefn",
        "outputId": "4b9cd6b6-004c-434d-c886-baf636af7f09"
      },
      "id": "l72KqcuZpefn",
      "execution_count": null,
      "outputs": [
        {
          "output_type": "stream",
          "name": "stdout",
          "text": [
            "good\n"
          ]
        }
      ]
    },
    {
      "cell_type": "code",
      "execution_count": null,
      "metadata": {
        "id": "ef956101",
        "outputId": "25c1fdf6-f692-4b08-ea40-833030c96398"
      },
      "outputs": [
        {
          "name": "stdout",
          "output_type": "stream",
          "text": [
            "2\n"
          ]
        }
      ],
      "source": [
        "num={'one':1,'two':2,'three':3}\n",
        "for word,num in num.items():\n",
        "    if num%2==0:\n",
        "        print(num)"
      ],
      "id": "ef956101"
    },
    {
      "cell_type": "code",
      "execution_count": null,
      "metadata": {
        "id": "4ae1f986",
        "outputId": "1b0d6c97-4e43-413c-9f34-ac17d1ce5980"
      },
      "outputs": [
        {
          "name": "stdout",
          "output_type": "stream",
          "text": [
            "1\n",
            "2\n",
            "3\n"
          ]
        }
      ],
      "source": [
        "num={'one':1,'two':2,'three':3}\n",
        "for n in num.values():\n",
        "    print(n)"
      ],
      "id": "4ae1f986"
    },
    {
      "cell_type": "code",
      "execution_count": null,
      "metadata": {
        "id": "4af567e7",
        "outputId": "d79b41a8-7c87-491b-ed82-097e5fb2a8d2"
      },
      "outputs": [
        {
          "name": "stdout",
          "output_type": "stream",
          "text": [
            "one\n",
            "two\n",
            "three\n"
          ]
        }
      ],
      "source": [
        "num={'one':1,'two':2,'three':3}\n",
        "for n in num.keys():\n",
        "    print(n)"
      ],
      "id": "4af567e7"
    },
    {
      "cell_type": "code",
      "execution_count": null,
      "metadata": {
        "id": "93d43a13",
        "outputId": "8b7b5255-af02-4b5f-c029-98c642ad37ca"
      },
      "outputs": [
        {
          "data": {
            "text/plain": [
              "dict_values([1, 2, 3])"
            ]
          },
          "execution_count": 112,
          "metadata": {},
          "output_type": "execute_result"
        }
      ],
      "source": [
        "num.values()"
      ],
      "id": "93d43a13"
    },
    {
      "cell_type": "code",
      "execution_count": null,
      "metadata": {
        "id": "696e9707",
        "outputId": "1dd3d201-91cf-494a-ac41-39226b7d01ae"
      },
      "outputs": [
        {
          "data": {
            "text/plain": [
              "dict_keys(['one', 'two', 'three'])"
            ]
          },
          "execution_count": 113,
          "metadata": {},
          "output_type": "execute_result"
        }
      ],
      "source": [
        "num.keys()"
      ],
      "id": "696e9707"
    },
    {
      "cell_type": "code",
      "execution_count": null,
      "metadata": {
        "id": "afbc241c",
        "outputId": "ce51e6c5-b7fc-4fcc-b4cd-0de8f0ab13ff"
      },
      "outputs": [
        {
          "data": {
            "text/plain": [
              "dict_items([('one', 1), ('two', 2), ('three', 3)])"
            ]
          },
          "execution_count": 114,
          "metadata": {},
          "output_type": "execute_result"
        }
      ],
      "source": [
        "num.items()"
      ],
      "id": "afbc241c"
    },
    {
      "cell_type": "markdown",
      "source": [
        "Pandas DataFrame from List of Dicts"
      ],
      "metadata": {
        "id": "KOqZf5Rm6f3K"
      },
      "id": "KOqZf5Rm6f3K"
    },
    {
      "cell_type": "code",
      "source": [
        "import pandas as pd\n",
        "\n",
        "data = [{'Ranjit': '86','Rasika': '74', 'Rachna':'80', 'Rupesh':'85'},\n",
        "        {'Ranjit': '70','Rasika': '60', 'Rachna':'50', 'Rupesh':'60'}]\n",
        "\n",
        "df = pd.DataFrame(data)\n",
        "print(df)"
      ],
      "metadata": {
        "colab": {
          "base_uri": "https://localhost:8080/"
        },
        "id": "5jb-BLjO6fqC",
        "outputId": "b1a44930-a690-485b-beaa-b29e61838943"
      },
      "id": "5jb-BLjO6fqC",
      "execution_count": null,
      "outputs": [
        {
          "output_type": "stream",
          "name": "stdout",
          "text": [
            "  Ranjit Rasika Rachna Rupesh\n",
            "0     86     74     80     85\n",
            "1     70     60     50     60\n"
          ]
        }
      ]
    },
    {
      "cell_type": "code",
      "source": [
        "import pandas as pd\n",
        "\n",
        "data = [{'Ranjit': '86','Rasika': '74', 'Rachna':'80', 'Rupesh':'85'},\n",
        "        {'Ranjit': '70','Rasika': '60', 'Rachna':'50', 'Rupesh':'60'}]\n",
        "\n",
        "labels = ['a','b']\n",
        "df = pd.DataFrame(data,index=labels)\n",
        "print(df)"
      ],
      "metadata": {
        "colab": {
          "base_uri": "https://localhost:8080/"
        },
        "id": "XhEiQanX6flO",
        "outputId": "4154ebe1-f282-4c41-fc71-781bd7ac2db8"
      },
      "id": "XhEiQanX6flO",
      "execution_count": null,
      "outputs": [
        {
          "output_type": "stream",
          "name": "stdout",
          "text": [
            "  Ranjit Rasika Rachna Rupesh\n",
            "a     86     74     80     85\n",
            "b     70     60     50     60\n"
          ]
        }
      ]
    },
    {
      "cell_type": "markdown",
      "source": [
        "# Other Functions"
      ],
      "metadata": {
        "id": "xEazQFdwJtcd"
      },
      "id": "xEazQFdwJtcd"
    },
    {
      "cell_type": "markdown",
      "source": [
        "## Enumerate"
      ],
      "metadata": {
        "id": "se6uqIfgJ0Ey"
      },
      "id": "se6uqIfgJ0Ey"
    },
    {
      "cell_type": "markdown",
      "source": [
        "The enumerate() function is a built-in Python function that provides an easy way to iterate over elements in an iterable (such as a list, tuple, or string) while also keeping track of the index or position of each element. It returns an iterator that generates pairs of the form (index, element).\n",
        "\n",
        "Here's an example to illustrate how the enumerate() function works:"
      ],
      "metadata": {
        "id": "5g8Lm401KAj3"
      },
      "id": "5g8Lm401KAj3"
    },
    {
      "cell_type": "code",
      "source": [
        "fruits = ['apple', 'banana', 'orange', 'grape']\n",
        "\n",
        "for index, fruit in enumerate(fruits):\n",
        "    print(index, fruit)"
      ],
      "metadata": {
        "colab": {
          "base_uri": "https://localhost:8080/"
        },
        "id": "0GmVtEuSKGjq",
        "outputId": "2eb44254-e369-4529-83d0-166b040a3805"
      },
      "id": "0GmVtEuSKGjq",
      "execution_count": null,
      "outputs": [
        {
          "output_type": "stream",
          "name": "stdout",
          "text": [
            "0 apple\n",
            "1 banana\n",
            "2 orange\n",
            "3 grape\n"
          ]
        }
      ]
    },
    {
      "cell_type": "markdown",
      "source": [
        "# Pandas"
      ],
      "metadata": {
        "id": "nDWu8YJbTqU9"
      },
      "id": "nDWu8YJbTqU9"
    },
    {
      "cell_type": "code",
      "execution_count": null,
      "id": "0b1589e7",
      "metadata": {
        "id": "0b1589e7",
        "outputId": "abbd1bdb-2c7e-486e-828b-a7c14237ffd4"
      },
      "outputs": [
        {
          "name": "stdout",
          "output_type": "stream",
          "text": [
            "      Name  Age  Gender    Country  Salary Department  Years of Experience  \\\n",
            "0    Alice   25  Female        USA   50000  Marketing                    3   \n",
            "1      Bob   32    Male     Canada   75000    Finance                    8   \n",
            "2  Charlie   18    Male        USA   40000  Marketing                    1   \n",
            "3    David   47    Male  Australia   90000         IT                   18   \n",
            "4    Emily   29  Female         UK   60000         IT                    6   \n",
            "5    Frank   36    Male     Canada   80000         HR                   10   \n",
            "6   George   21    Male        USA   55000  Marketing                    2   \n",
            "7    Helen   45  Female  Australia  100000         IT                   22   \n",
            "8    Irene   28  Female         UK   65000         HR                    5   \n",
            "9     Jack   33    Male        USA   70000    Finance                    7   \n",
            "\n",
            "  Education Level  \n",
            "0        Bachelor  \n",
            "1          Master  \n",
            "2     High School  \n",
            "3             PhD  \n",
            "4        Bachelor  \n",
            "5          Master  \n",
            "6        Bachelor  \n",
            "7             PhD  \n",
            "8        Bachelor  \n",
            "9          Master  \n"
          ]
        }
      ],
      "source": [
        "import pandas as pd\n",
        "\n",
        "data = {\n",
        "    'Name': ['Alice', 'Bob', 'Charlie', 'David', 'Emily', 'Frank', 'George', 'Helen', 'Irene', 'Jack'],\n",
        "    'Age': [25, 32, 18, 47, 29, 36, 21, 45, 28, 33],\n",
        "    'Gender': ['Female', 'Male', 'Male', 'Male', 'Female', 'Male', 'Male', 'Female', 'Female', 'Male'],\n",
        "    'Country': ['USA', 'Canada', 'USA', 'Australia', 'UK', 'Canada', 'USA', 'Australia', 'UK', 'USA'],\n",
        "    'Salary': [50000, 75000, 40000, 90000, 60000, 80000, 55000, 100000, 65000, 70000],\n",
        "    'Department': ['Marketing', 'Finance', 'Marketing', 'IT', 'IT', 'HR', 'Marketing', 'IT', 'HR', 'Finance'],\n",
        "    'Years of Experience': [3, 8, 1, 18, 6, 10, 2, 22, 5, 7],\n",
        "    'Education Level': ['Bachelor', 'Master', 'High School', 'PhD', 'Bachelor', 'Master', 'Bachelor', 'PhD', 'Bachelor', 'Master']\n",
        "}\n",
        "\n",
        "df = pd.DataFrame(data)\n",
        "print(df)\n"
      ]
    },
    {
      "cell_type": "code",
      "execution_count": null,
      "id": "4387a9fc",
      "metadata": {
        "id": "4387a9fc",
        "outputId": "98ce36f9-6d29-412c-a833-48da1d2ea9af"
      },
      "outputs": [
        {
          "data": {
            "text/plain": [
              "Name                   object\n",
              "Age                     int64\n",
              "Gender                 object\n",
              "Country                object\n",
              "Salary                  int64\n",
              "Department             object\n",
              "Years of Experience     int64\n",
              "Education Level        object\n",
              "dtype: object"
            ]
          },
          "execution_count": 2,
          "metadata": {},
          "output_type": "execute_result"
        }
      ],
      "source": [
        "#For checking a data type\n",
        "df.dtypes"
      ]
    },
    {
      "cell_type": "code",
      "execution_count": null,
      "id": "07ce9016",
      "metadata": {
        "id": "07ce9016",
        "outputId": "50ec01bf-12f1-4c0c-8919-3cedd7ddcba5"
      },
      "outputs": [
        {
          "data": {
            "text/html": [
              "<div>\n",
              "<style scoped>\n",
              "    .dataframe tbody tr th:only-of-type {\n",
              "        vertical-align: middle;\n",
              "    }\n",
              "\n",
              "    .dataframe tbody tr th {\n",
              "        vertical-align: top;\n",
              "    }\n",
              "\n",
              "    .dataframe thead th {\n",
              "        text-align: right;\n",
              "    }\n",
              "</style>\n",
              "<table border=\"1\" class=\"dataframe\">\n",
              "  <thead>\n",
              "    <tr style=\"text-align: right;\">\n",
              "      <th></th>\n",
              "      <th>Name</th>\n",
              "      <th>Age</th>\n",
              "      <th>Gender</th>\n",
              "      <th>Country</th>\n",
              "      <th>Salary</th>\n",
              "      <th>Department</th>\n",
              "      <th>Years of Experience</th>\n",
              "      <th>Education Level</th>\n",
              "    </tr>\n",
              "  </thead>\n",
              "  <tbody>\n",
              "    <tr>\n",
              "      <th>0</th>\n",
              "      <td>Alice</td>\n",
              "      <td>25</td>\n",
              "      <td>Female</td>\n",
              "      <td>USA</td>\n",
              "      <td>50000</td>\n",
              "      <td>Marketing</td>\n",
              "      <td>3</td>\n",
              "      <td>Bachelor</td>\n",
              "    </tr>\n",
              "    <tr>\n",
              "      <th>1</th>\n",
              "      <td>Bob</td>\n",
              "      <td>32</td>\n",
              "      <td>Male</td>\n",
              "      <td>Canada</td>\n",
              "      <td>75000</td>\n",
              "      <td>Finance</td>\n",
              "      <td>8</td>\n",
              "      <td>Master</td>\n",
              "    </tr>\n",
              "    <tr>\n",
              "      <th>2</th>\n",
              "      <td>Charlie</td>\n",
              "      <td>18</td>\n",
              "      <td>Male</td>\n",
              "      <td>USA</td>\n",
              "      <td>40000</td>\n",
              "      <td>Marketing</td>\n",
              "      <td>1</td>\n",
              "      <td>High School</td>\n",
              "    </tr>\n",
              "    <tr>\n",
              "      <th>3</th>\n",
              "      <td>David</td>\n",
              "      <td>47</td>\n",
              "      <td>Male</td>\n",
              "      <td>Australia</td>\n",
              "      <td>90000</td>\n",
              "      <td>IT</td>\n",
              "      <td>18</td>\n",
              "      <td>PhD</td>\n",
              "    </tr>\n",
              "    <tr>\n",
              "      <th>4</th>\n",
              "      <td>Emily</td>\n",
              "      <td>29</td>\n",
              "      <td>Female</td>\n",
              "      <td>UK</td>\n",
              "      <td>60000</td>\n",
              "      <td>IT</td>\n",
              "      <td>6</td>\n",
              "      <td>Bachelor</td>\n",
              "    </tr>\n",
              "  </tbody>\n",
              "</table>\n",
              "</div>"
            ],
            "text/plain": [
              "      Name  Age  Gender    Country  Salary Department  Years of Experience  \\\n",
              "0    Alice   25  Female        USA   50000  Marketing                    3   \n",
              "1      Bob   32    Male     Canada   75000    Finance                    8   \n",
              "2  Charlie   18    Male        USA   40000  Marketing                    1   \n",
              "3    David   47    Male  Australia   90000         IT                   18   \n",
              "4    Emily   29  Female         UK   60000         IT                    6   \n",
              "\n",
              "  Education Level  \n",
              "0        Bachelor  \n",
              "1          Master  \n",
              "2     High School  \n",
              "3             PhD  \n",
              "4        Bachelor  "
            ]
          },
          "execution_count": 3,
          "metadata": {},
          "output_type": "execute_result"
        }
      ],
      "source": [
        "df.head()"
      ]
    },
    {
      "cell_type": "code",
      "execution_count": null,
      "id": "22f233df",
      "metadata": {
        "id": "22f233df",
        "outputId": "fbd12df5-f7a9-40bb-f107-009da2707e09"
      },
      "outputs": [
        {
          "name": "stdout",
          "output_type": "stream",
          "text": [
            "<class 'pandas.core.frame.DataFrame'>\n",
            "RangeIndex: 10 entries, 0 to 9\n",
            "Data columns (total 8 columns):\n",
            " #   Column               Non-Null Count  Dtype \n",
            "---  ------               --------------  ----- \n",
            " 0   Name                 10 non-null     object\n",
            " 1   Age                  10 non-null     int64 \n",
            " 2   Gender               10 non-null     object\n",
            " 3   Country              10 non-null     object\n",
            " 4   Salary               10 non-null     int64 \n",
            " 5   Department           10 non-null     object\n",
            " 6   Years of Experience  10 non-null     int64 \n",
            " 7   Education Level      10 non-null     object\n",
            "dtypes: int64(3), object(5)\n",
            "memory usage: 768.0+ bytes\n"
          ]
        }
      ],
      "source": [
        "df.info()"
      ]
    },
    {
      "cell_type": "code",
      "execution_count": null,
      "id": "a0fe5864",
      "metadata": {
        "id": "a0fe5864",
        "outputId": "5e586716-3b08-4f84-ff4b-ec0455be0145"
      },
      "outputs": [
        {
          "data": {
            "text/html": [
              "<div>\n",
              "<style scoped>\n",
              "    .dataframe tbody tr th:only-of-type {\n",
              "        vertical-align: middle;\n",
              "    }\n",
              "\n",
              "    .dataframe tbody tr th {\n",
              "        vertical-align: top;\n",
              "    }\n",
              "\n",
              "    .dataframe thead th {\n",
              "        text-align: right;\n",
              "    }\n",
              "</style>\n",
              "<table border=\"1\" class=\"dataframe\">\n",
              "  <thead>\n",
              "    <tr style=\"text-align: right;\">\n",
              "      <th></th>\n",
              "      <th>Age</th>\n",
              "      <th>Salary</th>\n",
              "      <th>Years of Experience</th>\n",
              "    </tr>\n",
              "  </thead>\n",
              "  <tbody>\n",
              "    <tr>\n",
              "      <th>count</th>\n",
              "      <td>10.000000</td>\n",
              "      <td>10.000000</td>\n",
              "      <td>10.000000</td>\n",
              "    </tr>\n",
              "    <tr>\n",
              "      <th>mean</th>\n",
              "      <td>31.400000</td>\n",
              "      <td>68500.000000</td>\n",
              "      <td>8.200000</td>\n",
              "    </tr>\n",
              "    <tr>\n",
              "      <th>std</th>\n",
              "      <td>9.418658</td>\n",
              "      <td>18416.478129</td>\n",
              "      <td>6.860515</td>\n",
              "    </tr>\n",
              "    <tr>\n",
              "      <th>min</th>\n",
              "      <td>18.000000</td>\n",
              "      <td>40000.000000</td>\n",
              "      <td>1.000000</td>\n",
              "    </tr>\n",
              "    <tr>\n",
              "      <th>25%</th>\n",
              "      <td>25.750000</td>\n",
              "      <td>56250.000000</td>\n",
              "      <td>3.500000</td>\n",
              "    </tr>\n",
              "    <tr>\n",
              "      <th>50%</th>\n",
              "      <td>30.500000</td>\n",
              "      <td>67500.000000</td>\n",
              "      <td>6.500000</td>\n",
              "    </tr>\n",
              "    <tr>\n",
              "      <th>75%</th>\n",
              "      <td>35.250000</td>\n",
              "      <td>78750.000000</td>\n",
              "      <td>9.500000</td>\n",
              "    </tr>\n",
              "    <tr>\n",
              "      <th>max</th>\n",
              "      <td>47.000000</td>\n",
              "      <td>100000.000000</td>\n",
              "      <td>22.000000</td>\n",
              "    </tr>\n",
              "  </tbody>\n",
              "</table>\n",
              "</div>"
            ],
            "text/plain": [
              "             Age         Salary  Years of Experience\n",
              "count  10.000000      10.000000            10.000000\n",
              "mean   31.400000   68500.000000             8.200000\n",
              "std     9.418658   18416.478129             6.860515\n",
              "min    18.000000   40000.000000             1.000000\n",
              "25%    25.750000   56250.000000             3.500000\n",
              "50%    30.500000   67500.000000             6.500000\n",
              "75%    35.250000   78750.000000             9.500000\n",
              "max    47.000000  100000.000000            22.000000"
            ]
          },
          "execution_count": 5,
          "metadata": {},
          "output_type": "execute_result"
        }
      ],
      "source": [
        "#overall discriptive summary of dataframe\n",
        "\n",
        "df.describe()"
      ]
    },
    {
      "cell_type": "code",
      "execution_count": null,
      "id": "cbc369a3",
      "metadata": {
        "id": "cbc369a3",
        "outputId": "3ec5896f-e5a5-4553-c2c5-f455608a9378"
      },
      "outputs": [
        {
          "data": {
            "text/plain": [
              "(10, 8)"
            ]
          },
          "execution_count": 6,
          "metadata": {},
          "output_type": "execute_result"
        }
      ],
      "source": [
        "df.shape #for no of rows & columns"
      ]
    },
    {
      "cell_type": "code",
      "execution_count": null,
      "id": "01b3e943",
      "metadata": {
        "id": "01b3e943",
        "outputId": "a6db6c98-7ba9-4373-85ac-112cd885aa80"
      },
      "outputs": [
        {
          "data": {
            "text/plain": [
              "Name     Age  Gender  Country    Salary  Department  Years of Experience  Education Level\n",
              "Alice    25   Female  USA        50000   Marketing   3                    Bachelor           1\n",
              "Bob      32   Male    Canada     75000   Finance     8                    Master             1\n",
              "Charlie  18   Male    USA        40000   Marketing   1                    High School        1\n",
              "David    47   Male    Australia  90000   IT          18                   PhD                1\n",
              "Emily    29   Female  UK         60000   IT          6                    Bachelor           1\n",
              "Frank    36   Male    Canada     80000   HR          10                   Master             1\n",
              "George   21   Male    USA        55000   Marketing   2                    Bachelor           1\n",
              "Helen    45   Female  Australia  100000  IT          22                   PhD                1\n",
              "Irene    28   Female  UK         65000   HR          5                    Bachelor           1\n",
              "Jack     33   Male    USA        70000   Finance     7                    Master             1\n",
              "dtype: int64"
            ]
          },
          "execution_count": 7,
          "metadata": {},
          "output_type": "execute_result"
        }
      ],
      "source": [
        "df.value_counts() #view unique values & counts"
      ]
    },
    {
      "cell_type": "code",
      "execution_count": null,
      "id": "0d835ea8",
      "metadata": {
        "id": "0d835ea8",
        "outputId": "6d02d933-4876-4095-bebb-0c6b0b8c4390"
      },
      "outputs": [
        {
          "data": {
            "text/html": [
              "<div>\n",
              "<style scoped>\n",
              "    .dataframe tbody tr th:only-of-type {\n",
              "        vertical-align: middle;\n",
              "    }\n",
              "\n",
              "    .dataframe tbody tr th {\n",
              "        vertical-align: top;\n",
              "    }\n",
              "\n",
              "    .dataframe thead th {\n",
              "        text-align: right;\n",
              "    }\n",
              "</style>\n",
              "<table border=\"1\" class=\"dataframe\">\n",
              "  <thead>\n",
              "    <tr style=\"text-align: right;\">\n",
              "      <th></th>\n",
              "      <th>Name</th>\n",
              "      <th>Age</th>\n",
              "      <th>Gender</th>\n",
              "      <th>Country</th>\n",
              "      <th>Salary</th>\n",
              "      <th>Department</th>\n",
              "      <th>Years of Experience</th>\n",
              "      <th>Education Level</th>\n",
              "    </tr>\n",
              "  </thead>\n",
              "  <tbody>\n",
              "    <tr>\n",
              "      <th>1</th>\n",
              "      <td>NaN</td>\n",
              "      <td>NaN</td>\n",
              "      <td>NaN</td>\n",
              "      <td>NaN</td>\n",
              "      <td>NaN</td>\n",
              "      <td>NaN</td>\n",
              "      <td>1.0</td>\n",
              "      <td>NaN</td>\n",
              "    </tr>\n",
              "    <tr>\n",
              "      <th>2</th>\n",
              "      <td>NaN</td>\n",
              "      <td>NaN</td>\n",
              "      <td>NaN</td>\n",
              "      <td>NaN</td>\n",
              "      <td>NaN</td>\n",
              "      <td>NaN</td>\n",
              "      <td>1.0</td>\n",
              "      <td>NaN</td>\n",
              "    </tr>\n",
              "    <tr>\n",
              "      <th>3</th>\n",
              "      <td>NaN</td>\n",
              "      <td>NaN</td>\n",
              "      <td>NaN</td>\n",
              "      <td>NaN</td>\n",
              "      <td>NaN</td>\n",
              "      <td>NaN</td>\n",
              "      <td>1.0</td>\n",
              "      <td>NaN</td>\n",
              "    </tr>\n",
              "    <tr>\n",
              "      <th>5</th>\n",
              "      <td>NaN</td>\n",
              "      <td>NaN</td>\n",
              "      <td>NaN</td>\n",
              "      <td>NaN</td>\n",
              "      <td>NaN</td>\n",
              "      <td>NaN</td>\n",
              "      <td>1.0</td>\n",
              "      <td>NaN</td>\n",
              "    </tr>\n",
              "    <tr>\n",
              "      <th>6</th>\n",
              "      <td>NaN</td>\n",
              "      <td>NaN</td>\n",
              "      <td>NaN</td>\n",
              "      <td>NaN</td>\n",
              "      <td>NaN</td>\n",
              "      <td>NaN</td>\n",
              "      <td>1.0</td>\n",
              "      <td>NaN</td>\n",
              "    </tr>\n",
              "    <tr>\n",
              "      <th>7</th>\n",
              "      <td>NaN</td>\n",
              "      <td>NaN</td>\n",
              "      <td>NaN</td>\n",
              "      <td>NaN</td>\n",
              "      <td>NaN</td>\n",
              "      <td>NaN</td>\n",
              "      <td>1.0</td>\n",
              "      <td>NaN</td>\n",
              "    </tr>\n",
              "    <tr>\n",
              "      <th>8</th>\n",
              "      <td>NaN</td>\n",
              "      <td>NaN</td>\n",
              "      <td>NaN</td>\n",
              "      <td>NaN</td>\n",
              "      <td>NaN</td>\n",
              "      <td>NaN</td>\n",
              "      <td>1.0</td>\n",
              "      <td>NaN</td>\n",
              "    </tr>\n",
              "    <tr>\n",
              "      <th>10</th>\n",
              "      <td>NaN</td>\n",
              "      <td>NaN</td>\n",
              "      <td>NaN</td>\n",
              "      <td>NaN</td>\n",
              "      <td>NaN</td>\n",
              "      <td>NaN</td>\n",
              "      <td>1.0</td>\n",
              "      <td>NaN</td>\n",
              "    </tr>\n",
              "    <tr>\n",
              "      <th>18</th>\n",
              "      <td>NaN</td>\n",
              "      <td>1.0</td>\n",
              "      <td>NaN</td>\n",
              "      <td>NaN</td>\n",
              "      <td>NaN</td>\n",
              "      <td>NaN</td>\n",
              "      <td>1.0</td>\n",
              "      <td>NaN</td>\n",
              "    </tr>\n",
              "    <tr>\n",
              "      <th>21</th>\n",
              "      <td>NaN</td>\n",
              "      <td>1.0</td>\n",
              "      <td>NaN</td>\n",
              "      <td>NaN</td>\n",
              "      <td>NaN</td>\n",
              "      <td>NaN</td>\n",
              "      <td>NaN</td>\n",
              "      <td>NaN</td>\n",
              "    </tr>\n",
              "    <tr>\n",
              "      <th>22</th>\n",
              "      <td>NaN</td>\n",
              "      <td>NaN</td>\n",
              "      <td>NaN</td>\n",
              "      <td>NaN</td>\n",
              "      <td>NaN</td>\n",
              "      <td>NaN</td>\n",
              "      <td>1.0</td>\n",
              "      <td>NaN</td>\n",
              "    </tr>\n",
              "    <tr>\n",
              "      <th>25</th>\n",
              "      <td>NaN</td>\n",
              "      <td>1.0</td>\n",
              "      <td>NaN</td>\n",
              "      <td>NaN</td>\n",
              "      <td>NaN</td>\n",
              "      <td>NaN</td>\n",
              "      <td>NaN</td>\n",
              "      <td>NaN</td>\n",
              "    </tr>\n",
              "    <tr>\n",
              "      <th>28</th>\n",
              "      <td>NaN</td>\n",
              "      <td>1.0</td>\n",
              "      <td>NaN</td>\n",
              "      <td>NaN</td>\n",
              "      <td>NaN</td>\n",
              "      <td>NaN</td>\n",
              "      <td>NaN</td>\n",
              "      <td>NaN</td>\n",
              "    </tr>\n",
              "    <tr>\n",
              "      <th>29</th>\n",
              "      <td>NaN</td>\n",
              "      <td>1.0</td>\n",
              "      <td>NaN</td>\n",
              "      <td>NaN</td>\n",
              "      <td>NaN</td>\n",
              "      <td>NaN</td>\n",
              "      <td>NaN</td>\n",
              "      <td>NaN</td>\n",
              "    </tr>\n",
              "    <tr>\n",
              "      <th>32</th>\n",
              "      <td>NaN</td>\n",
              "      <td>1.0</td>\n",
              "      <td>NaN</td>\n",
              "      <td>NaN</td>\n",
              "      <td>NaN</td>\n",
              "      <td>NaN</td>\n",
              "      <td>NaN</td>\n",
              "      <td>NaN</td>\n",
              "    </tr>\n",
              "    <tr>\n",
              "      <th>33</th>\n",
              "      <td>NaN</td>\n",
              "      <td>1.0</td>\n",
              "      <td>NaN</td>\n",
              "      <td>NaN</td>\n",
              "      <td>NaN</td>\n",
              "      <td>NaN</td>\n",
              "      <td>NaN</td>\n",
              "      <td>NaN</td>\n",
              "    </tr>\n",
              "    <tr>\n",
              "      <th>36</th>\n",
              "      <td>NaN</td>\n",
              "      <td>1.0</td>\n",
              "      <td>NaN</td>\n",
              "      <td>NaN</td>\n",
              "      <td>NaN</td>\n",
              "      <td>NaN</td>\n",
              "      <td>NaN</td>\n",
              "      <td>NaN</td>\n",
              "    </tr>\n",
              "    <tr>\n",
              "      <th>45</th>\n",
              "      <td>NaN</td>\n",
              "      <td>1.0</td>\n",
              "      <td>NaN</td>\n",
              "      <td>NaN</td>\n",
              "      <td>NaN</td>\n",
              "      <td>NaN</td>\n",
              "      <td>NaN</td>\n",
              "      <td>NaN</td>\n",
              "    </tr>\n",
              "    <tr>\n",
              "      <th>47</th>\n",
              "      <td>NaN</td>\n",
              "      <td>1.0</td>\n",
              "      <td>NaN</td>\n",
              "      <td>NaN</td>\n",
              "      <td>NaN</td>\n",
              "      <td>NaN</td>\n",
              "      <td>NaN</td>\n",
              "      <td>NaN</td>\n",
              "    </tr>\n",
              "    <tr>\n",
              "      <th>40000</th>\n",
              "      <td>NaN</td>\n",
              "      <td>NaN</td>\n",
              "      <td>NaN</td>\n",
              "      <td>NaN</td>\n",
              "      <td>1.0</td>\n",
              "      <td>NaN</td>\n",
              "      <td>NaN</td>\n",
              "      <td>NaN</td>\n",
              "    </tr>\n",
              "    <tr>\n",
              "      <th>50000</th>\n",
              "      <td>NaN</td>\n",
              "      <td>NaN</td>\n",
              "      <td>NaN</td>\n",
              "      <td>NaN</td>\n",
              "      <td>1.0</td>\n",
              "      <td>NaN</td>\n",
              "      <td>NaN</td>\n",
              "      <td>NaN</td>\n",
              "    </tr>\n",
              "    <tr>\n",
              "      <th>55000</th>\n",
              "      <td>NaN</td>\n",
              "      <td>NaN</td>\n",
              "      <td>NaN</td>\n",
              "      <td>NaN</td>\n",
              "      <td>1.0</td>\n",
              "      <td>NaN</td>\n",
              "      <td>NaN</td>\n",
              "      <td>NaN</td>\n",
              "    </tr>\n",
              "    <tr>\n",
              "      <th>60000</th>\n",
              "      <td>NaN</td>\n",
              "      <td>NaN</td>\n",
              "      <td>NaN</td>\n",
              "      <td>NaN</td>\n",
              "      <td>1.0</td>\n",
              "      <td>NaN</td>\n",
              "      <td>NaN</td>\n",
              "      <td>NaN</td>\n",
              "    </tr>\n",
              "    <tr>\n",
              "      <th>65000</th>\n",
              "      <td>NaN</td>\n",
              "      <td>NaN</td>\n",
              "      <td>NaN</td>\n",
              "      <td>NaN</td>\n",
              "      <td>1.0</td>\n",
              "      <td>NaN</td>\n",
              "      <td>NaN</td>\n",
              "      <td>NaN</td>\n",
              "    </tr>\n",
              "    <tr>\n",
              "      <th>70000</th>\n",
              "      <td>NaN</td>\n",
              "      <td>NaN</td>\n",
              "      <td>NaN</td>\n",
              "      <td>NaN</td>\n",
              "      <td>1.0</td>\n",
              "      <td>NaN</td>\n",
              "      <td>NaN</td>\n",
              "      <td>NaN</td>\n",
              "    </tr>\n",
              "    <tr>\n",
              "      <th>75000</th>\n",
              "      <td>NaN</td>\n",
              "      <td>NaN</td>\n",
              "      <td>NaN</td>\n",
              "      <td>NaN</td>\n",
              "      <td>1.0</td>\n",
              "      <td>NaN</td>\n",
              "      <td>NaN</td>\n",
              "      <td>NaN</td>\n",
              "    </tr>\n",
              "    <tr>\n",
              "      <th>80000</th>\n",
              "      <td>NaN</td>\n",
              "      <td>NaN</td>\n",
              "      <td>NaN</td>\n",
              "      <td>NaN</td>\n",
              "      <td>1.0</td>\n",
              "      <td>NaN</td>\n",
              "      <td>NaN</td>\n",
              "      <td>NaN</td>\n",
              "    </tr>\n",
              "    <tr>\n",
              "      <th>90000</th>\n",
              "      <td>NaN</td>\n",
              "      <td>NaN</td>\n",
              "      <td>NaN</td>\n",
              "      <td>NaN</td>\n",
              "      <td>1.0</td>\n",
              "      <td>NaN</td>\n",
              "      <td>NaN</td>\n",
              "      <td>NaN</td>\n",
              "    </tr>\n",
              "    <tr>\n",
              "      <th>100000</th>\n",
              "      <td>NaN</td>\n",
              "      <td>NaN</td>\n",
              "      <td>NaN</td>\n",
              "      <td>NaN</td>\n",
              "      <td>1.0</td>\n",
              "      <td>NaN</td>\n",
              "      <td>NaN</td>\n",
              "      <td>NaN</td>\n",
              "    </tr>\n",
              "    <tr>\n",
              "      <th>Alice</th>\n",
              "      <td>1.0</td>\n",
              "      <td>NaN</td>\n",
              "      <td>NaN</td>\n",
              "      <td>NaN</td>\n",
              "      <td>NaN</td>\n",
              "      <td>NaN</td>\n",
              "      <td>NaN</td>\n",
              "      <td>NaN</td>\n",
              "    </tr>\n",
              "    <tr>\n",
              "      <th>Australia</th>\n",
              "      <td>NaN</td>\n",
              "      <td>NaN</td>\n",
              "      <td>NaN</td>\n",
              "      <td>2.0</td>\n",
              "      <td>NaN</td>\n",
              "      <td>NaN</td>\n",
              "      <td>NaN</td>\n",
              "      <td>NaN</td>\n",
              "    </tr>\n",
              "    <tr>\n",
              "      <th>Bachelor</th>\n",
              "      <td>NaN</td>\n",
              "      <td>NaN</td>\n",
              "      <td>NaN</td>\n",
              "      <td>NaN</td>\n",
              "      <td>NaN</td>\n",
              "      <td>NaN</td>\n",
              "      <td>NaN</td>\n",
              "      <td>4.0</td>\n",
              "    </tr>\n",
              "    <tr>\n",
              "      <th>Bob</th>\n",
              "      <td>1.0</td>\n",
              "      <td>NaN</td>\n",
              "      <td>NaN</td>\n",
              "      <td>NaN</td>\n",
              "      <td>NaN</td>\n",
              "      <td>NaN</td>\n",
              "      <td>NaN</td>\n",
              "      <td>NaN</td>\n",
              "    </tr>\n",
              "    <tr>\n",
              "      <th>Canada</th>\n",
              "      <td>NaN</td>\n",
              "      <td>NaN</td>\n",
              "      <td>NaN</td>\n",
              "      <td>2.0</td>\n",
              "      <td>NaN</td>\n",
              "      <td>NaN</td>\n",
              "      <td>NaN</td>\n",
              "      <td>NaN</td>\n",
              "    </tr>\n",
              "    <tr>\n",
              "      <th>Charlie</th>\n",
              "      <td>1.0</td>\n",
              "      <td>NaN</td>\n",
              "      <td>NaN</td>\n",
              "      <td>NaN</td>\n",
              "      <td>NaN</td>\n",
              "      <td>NaN</td>\n",
              "      <td>NaN</td>\n",
              "      <td>NaN</td>\n",
              "    </tr>\n",
              "    <tr>\n",
              "      <th>David</th>\n",
              "      <td>1.0</td>\n",
              "      <td>NaN</td>\n",
              "      <td>NaN</td>\n",
              "      <td>NaN</td>\n",
              "      <td>NaN</td>\n",
              "      <td>NaN</td>\n",
              "      <td>NaN</td>\n",
              "      <td>NaN</td>\n",
              "    </tr>\n",
              "    <tr>\n",
              "      <th>Emily</th>\n",
              "      <td>1.0</td>\n",
              "      <td>NaN</td>\n",
              "      <td>NaN</td>\n",
              "      <td>NaN</td>\n",
              "      <td>NaN</td>\n",
              "      <td>NaN</td>\n",
              "      <td>NaN</td>\n",
              "      <td>NaN</td>\n",
              "    </tr>\n",
              "    <tr>\n",
              "      <th>Female</th>\n",
              "      <td>NaN</td>\n",
              "      <td>NaN</td>\n",
              "      <td>4.0</td>\n",
              "      <td>NaN</td>\n",
              "      <td>NaN</td>\n",
              "      <td>NaN</td>\n",
              "      <td>NaN</td>\n",
              "      <td>NaN</td>\n",
              "    </tr>\n",
              "    <tr>\n",
              "      <th>Finance</th>\n",
              "      <td>NaN</td>\n",
              "      <td>NaN</td>\n",
              "      <td>NaN</td>\n",
              "      <td>NaN</td>\n",
              "      <td>NaN</td>\n",
              "      <td>2.0</td>\n",
              "      <td>NaN</td>\n",
              "      <td>NaN</td>\n",
              "    </tr>\n",
              "    <tr>\n",
              "      <th>Frank</th>\n",
              "      <td>1.0</td>\n",
              "      <td>NaN</td>\n",
              "      <td>NaN</td>\n",
              "      <td>NaN</td>\n",
              "      <td>NaN</td>\n",
              "      <td>NaN</td>\n",
              "      <td>NaN</td>\n",
              "      <td>NaN</td>\n",
              "    </tr>\n",
              "    <tr>\n",
              "      <th>George</th>\n",
              "      <td>1.0</td>\n",
              "      <td>NaN</td>\n",
              "      <td>NaN</td>\n",
              "      <td>NaN</td>\n",
              "      <td>NaN</td>\n",
              "      <td>NaN</td>\n",
              "      <td>NaN</td>\n",
              "      <td>NaN</td>\n",
              "    </tr>\n",
              "    <tr>\n",
              "      <th>HR</th>\n",
              "      <td>NaN</td>\n",
              "      <td>NaN</td>\n",
              "      <td>NaN</td>\n",
              "      <td>NaN</td>\n",
              "      <td>NaN</td>\n",
              "      <td>2.0</td>\n",
              "      <td>NaN</td>\n",
              "      <td>NaN</td>\n",
              "    </tr>\n",
              "    <tr>\n",
              "      <th>Helen</th>\n",
              "      <td>1.0</td>\n",
              "      <td>NaN</td>\n",
              "      <td>NaN</td>\n",
              "      <td>NaN</td>\n",
              "      <td>NaN</td>\n",
              "      <td>NaN</td>\n",
              "      <td>NaN</td>\n",
              "      <td>NaN</td>\n",
              "    </tr>\n",
              "    <tr>\n",
              "      <th>High School</th>\n",
              "      <td>NaN</td>\n",
              "      <td>NaN</td>\n",
              "      <td>NaN</td>\n",
              "      <td>NaN</td>\n",
              "      <td>NaN</td>\n",
              "      <td>NaN</td>\n",
              "      <td>NaN</td>\n",
              "      <td>1.0</td>\n",
              "    </tr>\n",
              "    <tr>\n",
              "      <th>IT</th>\n",
              "      <td>NaN</td>\n",
              "      <td>NaN</td>\n",
              "      <td>NaN</td>\n",
              "      <td>NaN</td>\n",
              "      <td>NaN</td>\n",
              "      <td>3.0</td>\n",
              "      <td>NaN</td>\n",
              "      <td>NaN</td>\n",
              "    </tr>\n",
              "    <tr>\n",
              "      <th>Irene</th>\n",
              "      <td>1.0</td>\n",
              "      <td>NaN</td>\n",
              "      <td>NaN</td>\n",
              "      <td>NaN</td>\n",
              "      <td>NaN</td>\n",
              "      <td>NaN</td>\n",
              "      <td>NaN</td>\n",
              "      <td>NaN</td>\n",
              "    </tr>\n",
              "    <tr>\n",
              "      <th>Jack</th>\n",
              "      <td>1.0</td>\n",
              "      <td>NaN</td>\n",
              "      <td>NaN</td>\n",
              "      <td>NaN</td>\n",
              "      <td>NaN</td>\n",
              "      <td>NaN</td>\n",
              "      <td>NaN</td>\n",
              "      <td>NaN</td>\n",
              "    </tr>\n",
              "    <tr>\n",
              "      <th>Male</th>\n",
              "      <td>NaN</td>\n",
              "      <td>NaN</td>\n",
              "      <td>6.0</td>\n",
              "      <td>NaN</td>\n",
              "      <td>NaN</td>\n",
              "      <td>NaN</td>\n",
              "      <td>NaN</td>\n",
              "      <td>NaN</td>\n",
              "    </tr>\n",
              "    <tr>\n",
              "      <th>Marketing</th>\n",
              "      <td>NaN</td>\n",
              "      <td>NaN</td>\n",
              "      <td>NaN</td>\n",
              "      <td>NaN</td>\n",
              "      <td>NaN</td>\n",
              "      <td>3.0</td>\n",
              "      <td>NaN</td>\n",
              "      <td>NaN</td>\n",
              "    </tr>\n",
              "    <tr>\n",
              "      <th>Master</th>\n",
              "      <td>NaN</td>\n",
              "      <td>NaN</td>\n",
              "      <td>NaN</td>\n",
              "      <td>NaN</td>\n",
              "      <td>NaN</td>\n",
              "      <td>NaN</td>\n",
              "      <td>NaN</td>\n",
              "      <td>3.0</td>\n",
              "    </tr>\n",
              "    <tr>\n",
              "      <th>PhD</th>\n",
              "      <td>NaN</td>\n",
              "      <td>NaN</td>\n",
              "      <td>NaN</td>\n",
              "      <td>NaN</td>\n",
              "      <td>NaN</td>\n",
              "      <td>NaN</td>\n",
              "      <td>NaN</td>\n",
              "      <td>2.0</td>\n",
              "    </tr>\n",
              "    <tr>\n",
              "      <th>UK</th>\n",
              "      <td>NaN</td>\n",
              "      <td>NaN</td>\n",
              "      <td>NaN</td>\n",
              "      <td>2.0</td>\n",
              "      <td>NaN</td>\n",
              "      <td>NaN</td>\n",
              "      <td>NaN</td>\n",
              "      <td>NaN</td>\n",
              "    </tr>\n",
              "    <tr>\n",
              "      <th>USA</th>\n",
              "      <td>NaN</td>\n",
              "      <td>NaN</td>\n",
              "      <td>NaN</td>\n",
              "      <td>4.0</td>\n",
              "      <td>NaN</td>\n",
              "      <td>NaN</td>\n",
              "      <td>NaN</td>\n",
              "      <td>NaN</td>\n",
              "    </tr>\n",
              "  </tbody>\n",
              "</table>\n",
              "</div>"
            ],
            "text/plain": [
              "             Name  Age  Gender  Country  Salary  Department  \\\n",
              "1             NaN  NaN     NaN      NaN     NaN         NaN   \n",
              "2             NaN  NaN     NaN      NaN     NaN         NaN   \n",
              "3             NaN  NaN     NaN      NaN     NaN         NaN   \n",
              "5             NaN  NaN     NaN      NaN     NaN         NaN   \n",
              "6             NaN  NaN     NaN      NaN     NaN         NaN   \n",
              "7             NaN  NaN     NaN      NaN     NaN         NaN   \n",
              "8             NaN  NaN     NaN      NaN     NaN         NaN   \n",
              "10            NaN  NaN     NaN      NaN     NaN         NaN   \n",
              "18            NaN  1.0     NaN      NaN     NaN         NaN   \n",
              "21            NaN  1.0     NaN      NaN     NaN         NaN   \n",
              "22            NaN  NaN     NaN      NaN     NaN         NaN   \n",
              "25            NaN  1.0     NaN      NaN     NaN         NaN   \n",
              "28            NaN  1.0     NaN      NaN     NaN         NaN   \n",
              "29            NaN  1.0     NaN      NaN     NaN         NaN   \n",
              "32            NaN  1.0     NaN      NaN     NaN         NaN   \n",
              "33            NaN  1.0     NaN      NaN     NaN         NaN   \n",
              "36            NaN  1.0     NaN      NaN     NaN         NaN   \n",
              "45            NaN  1.0     NaN      NaN     NaN         NaN   \n",
              "47            NaN  1.0     NaN      NaN     NaN         NaN   \n",
              "40000         NaN  NaN     NaN      NaN     1.0         NaN   \n",
              "50000         NaN  NaN     NaN      NaN     1.0         NaN   \n",
              "55000         NaN  NaN     NaN      NaN     1.0         NaN   \n",
              "60000         NaN  NaN     NaN      NaN     1.0         NaN   \n",
              "65000         NaN  NaN     NaN      NaN     1.0         NaN   \n",
              "70000         NaN  NaN     NaN      NaN     1.0         NaN   \n",
              "75000         NaN  NaN     NaN      NaN     1.0         NaN   \n",
              "80000         NaN  NaN     NaN      NaN     1.0         NaN   \n",
              "90000         NaN  NaN     NaN      NaN     1.0         NaN   \n",
              "100000        NaN  NaN     NaN      NaN     1.0         NaN   \n",
              "Alice         1.0  NaN     NaN      NaN     NaN         NaN   \n",
              "Australia     NaN  NaN     NaN      2.0     NaN         NaN   \n",
              "Bachelor      NaN  NaN     NaN      NaN     NaN         NaN   \n",
              "Bob           1.0  NaN     NaN      NaN     NaN         NaN   \n",
              "Canada        NaN  NaN     NaN      2.0     NaN         NaN   \n",
              "Charlie       1.0  NaN     NaN      NaN     NaN         NaN   \n",
              "David         1.0  NaN     NaN      NaN     NaN         NaN   \n",
              "Emily         1.0  NaN     NaN      NaN     NaN         NaN   \n",
              "Female        NaN  NaN     4.0      NaN     NaN         NaN   \n",
              "Finance       NaN  NaN     NaN      NaN     NaN         2.0   \n",
              "Frank         1.0  NaN     NaN      NaN     NaN         NaN   \n",
              "George        1.0  NaN     NaN      NaN     NaN         NaN   \n",
              "HR            NaN  NaN     NaN      NaN     NaN         2.0   \n",
              "Helen         1.0  NaN     NaN      NaN     NaN         NaN   \n",
              "High School   NaN  NaN     NaN      NaN     NaN         NaN   \n",
              "IT            NaN  NaN     NaN      NaN     NaN         3.0   \n",
              "Irene         1.0  NaN     NaN      NaN     NaN         NaN   \n",
              "Jack          1.0  NaN     NaN      NaN     NaN         NaN   \n",
              "Male          NaN  NaN     6.0      NaN     NaN         NaN   \n",
              "Marketing     NaN  NaN     NaN      NaN     NaN         3.0   \n",
              "Master        NaN  NaN     NaN      NaN     NaN         NaN   \n",
              "PhD           NaN  NaN     NaN      NaN     NaN         NaN   \n",
              "UK            NaN  NaN     NaN      2.0     NaN         NaN   \n",
              "USA           NaN  NaN     NaN      4.0     NaN         NaN   \n",
              "\n",
              "             Years of Experience  Education Level  \n",
              "1                            1.0              NaN  \n",
              "2                            1.0              NaN  \n",
              "3                            1.0              NaN  \n",
              "5                            1.0              NaN  \n",
              "6                            1.0              NaN  \n",
              "7                            1.0              NaN  \n",
              "8                            1.0              NaN  \n",
              "10                           1.0              NaN  \n",
              "18                           1.0              NaN  \n",
              "21                           NaN              NaN  \n",
              "22                           1.0              NaN  \n",
              "25                           NaN              NaN  \n",
              "28                           NaN              NaN  \n",
              "29                           NaN              NaN  \n",
              "32                           NaN              NaN  \n",
              "33                           NaN              NaN  \n",
              "36                           NaN              NaN  \n",
              "45                           NaN              NaN  \n",
              "47                           NaN              NaN  \n",
              "40000                        NaN              NaN  \n",
              "50000                        NaN              NaN  \n",
              "55000                        NaN              NaN  \n",
              "60000                        NaN              NaN  \n",
              "65000                        NaN              NaN  \n",
              "70000                        NaN              NaN  \n",
              "75000                        NaN              NaN  \n",
              "80000                        NaN              NaN  \n",
              "90000                        NaN              NaN  \n",
              "100000                       NaN              NaN  \n",
              "Alice                        NaN              NaN  \n",
              "Australia                    NaN              NaN  \n",
              "Bachelor                     NaN              4.0  \n",
              "Bob                          NaN              NaN  \n",
              "Canada                       NaN              NaN  \n",
              "Charlie                      NaN              NaN  \n",
              "David                        NaN              NaN  \n",
              "Emily                        NaN              NaN  \n",
              "Female                       NaN              NaN  \n",
              "Finance                      NaN              NaN  \n",
              "Frank                        NaN              NaN  \n",
              "George                       NaN              NaN  \n",
              "HR                           NaN              NaN  \n",
              "Helen                        NaN              NaN  \n",
              "High School                  NaN              1.0  \n",
              "IT                           NaN              NaN  \n",
              "Irene                        NaN              NaN  \n",
              "Jack                         NaN              NaN  \n",
              "Male                         NaN              NaN  \n",
              "Marketing                    NaN              NaN  \n",
              "Master                       NaN              3.0  \n",
              "PhD                          NaN              2.0  \n",
              "UK                           NaN              NaN  \n",
              "USA                          NaN              NaN  "
            ]
          },
          "execution_count": 8,
          "metadata": {},
          "output_type": "execute_result"
        }
      ],
      "source": [
        "df.apply (pd.Series.value_counts) #view uniue values & counts for all columns"
      ]
    },
    {
      "cell_type": "code",
      "execution_count": null,
      "id": "78db9657",
      "metadata": {
        "id": "78db9657",
        "outputId": "b929c2e4-1094-4861-97d0-598c0aa36220"
      },
      "outputs": [
        {
          "data": {
            "text/html": [
              "<div>\n",
              "<style scoped>\n",
              "    .dataframe tbody tr th:only-of-type {\n",
              "        vertical-align: middle;\n",
              "    }\n",
              "\n",
              "    .dataframe tbody tr th {\n",
              "        vertical-align: top;\n",
              "    }\n",
              "\n",
              "    .dataframe thead th {\n",
              "        text-align: right;\n",
              "    }\n",
              "</style>\n",
              "<table border=\"1\" class=\"dataframe\">\n",
              "  <thead>\n",
              "    <tr style=\"text-align: right;\">\n",
              "      <th></th>\n",
              "      <th>Name</th>\n",
              "      <th>Age</th>\n",
              "      <th>Gender</th>\n",
              "      <th>Country</th>\n",
              "      <th>Salary</th>\n",
              "      <th>Department</th>\n",
              "      <th>Years of Experience</th>\n",
              "      <th>Education Level</th>\n",
              "    </tr>\n",
              "  </thead>\n",
              "  <tbody>\n",
              "    <tr>\n",
              "      <th>1st</th>\n",
              "      <td>Alice</td>\n",
              "      <td>25</td>\n",
              "      <td>Female</td>\n",
              "      <td>USA</td>\n",
              "      <td>50000</td>\n",
              "      <td>Marketing</td>\n",
              "      <td>3</td>\n",
              "      <td>Bachelor</td>\n",
              "    </tr>\n",
              "    <tr>\n",
              "      <th>2nd</th>\n",
              "      <td>Bob</td>\n",
              "      <td>32</td>\n",
              "      <td>Male</td>\n",
              "      <td>Canada</td>\n",
              "      <td>75000</td>\n",
              "      <td>Finance</td>\n",
              "      <td>8</td>\n",
              "      <td>Master</td>\n",
              "    </tr>\n",
              "    <tr>\n",
              "      <th>3rd</th>\n",
              "      <td>Charlie</td>\n",
              "      <td>18</td>\n",
              "      <td>Male</td>\n",
              "      <td>USA</td>\n",
              "      <td>40000</td>\n",
              "      <td>Marketing</td>\n",
              "      <td>1</td>\n",
              "      <td>High School</td>\n",
              "    </tr>\n",
              "    <tr>\n",
              "      <th>4th</th>\n",
              "      <td>David</td>\n",
              "      <td>47</td>\n",
              "      <td>Male</td>\n",
              "      <td>Australia</td>\n",
              "      <td>90000</td>\n",
              "      <td>IT</td>\n",
              "      <td>18</td>\n",
              "      <td>PhD</td>\n",
              "    </tr>\n",
              "    <tr>\n",
              "      <th>5th</th>\n",
              "      <td>Emily</td>\n",
              "      <td>29</td>\n",
              "      <td>Female</td>\n",
              "      <td>UK</td>\n",
              "      <td>60000</td>\n",
              "      <td>IT</td>\n",
              "      <td>6</td>\n",
              "      <td>Bachelor</td>\n",
              "    </tr>\n",
              "    <tr>\n",
              "      <th>6th</th>\n",
              "      <td>Frank</td>\n",
              "      <td>36</td>\n",
              "      <td>Male</td>\n",
              "      <td>Canada</td>\n",
              "      <td>80000</td>\n",
              "      <td>HR</td>\n",
              "      <td>10</td>\n",
              "      <td>Master</td>\n",
              "    </tr>\n",
              "    <tr>\n",
              "      <th>7th</th>\n",
              "      <td>George</td>\n",
              "      <td>21</td>\n",
              "      <td>Male</td>\n",
              "      <td>USA</td>\n",
              "      <td>55000</td>\n",
              "      <td>Marketing</td>\n",
              "      <td>2</td>\n",
              "      <td>Bachelor</td>\n",
              "    </tr>\n",
              "    <tr>\n",
              "      <th>8th</th>\n",
              "      <td>Helen</td>\n",
              "      <td>45</td>\n",
              "      <td>Female</td>\n",
              "      <td>Australia</td>\n",
              "      <td>100000</td>\n",
              "      <td>IT</td>\n",
              "      <td>22</td>\n",
              "      <td>PhD</td>\n",
              "    </tr>\n",
              "    <tr>\n",
              "      <th>9th</th>\n",
              "      <td>Irene</td>\n",
              "      <td>28</td>\n",
              "      <td>Female</td>\n",
              "      <td>UK</td>\n",
              "      <td>65000</td>\n",
              "      <td>HR</td>\n",
              "      <td>5</td>\n",
              "      <td>Bachelor</td>\n",
              "    </tr>\n",
              "    <tr>\n",
              "      <th>10th</th>\n",
              "      <td>Jack</td>\n",
              "      <td>33</td>\n",
              "      <td>Male</td>\n",
              "      <td>USA</td>\n",
              "      <td>70000</td>\n",
              "      <td>Finance</td>\n",
              "      <td>7</td>\n",
              "      <td>Master</td>\n",
              "    </tr>\n",
              "  </tbody>\n",
              "</table>\n",
              "</div>"
            ],
            "text/plain": [
              "         Name  Age  Gender    Country  Salary Department  Years of Experience  \\\n",
              "1st     Alice   25  Female        USA   50000  Marketing                    3   \n",
              "2nd       Bob   32    Male     Canada   75000    Finance                    8   \n",
              "3rd   Charlie   18    Male        USA   40000  Marketing                    1   \n",
              "4th     David   47    Male  Australia   90000         IT                   18   \n",
              "5th     Emily   29  Female         UK   60000         IT                    6   \n",
              "6th     Frank   36    Male     Canada   80000         HR                   10   \n",
              "7th    George   21    Male        USA   55000  Marketing                    2   \n",
              "8th     Helen   45  Female  Australia  100000         IT                   22   \n",
              "9th     Irene   28  Female         UK   65000         HR                    5   \n",
              "10th     Jack   33    Male        USA   70000    Finance                    7   \n",
              "\n",
              "     Education Level  \n",
              "1st         Bachelor  \n",
              "2nd           Master  \n",
              "3rd      High School  \n",
              "4th              PhD  \n",
              "5th         Bachelor  \n",
              "6th           Master  \n",
              "7th         Bachelor  \n",
              "8th              PhD  \n",
              "9th         Bachelor  \n",
              "10th          Master  "
            ]
          },
          "execution_count": 9,
          "metadata": {},
          "output_type": "execute_result"
        }
      ],
      "source": [
        "#Enter string in index\n",
        "df.index=['1st','2nd','3rd','4th','5th','6th','7th','8th','9th','10th']\n",
        "df"
      ]
    },
    {
      "cell_type": "code",
      "execution_count": null,
      "id": "eb504489",
      "metadata": {
        "id": "eb504489",
        "outputId": "069125f1-6e38-47f8-c061-ac816b545417"
      },
      "outputs": [
        {
          "data": {
            "text/plain": [
              "Index(['1st', '2nd', '3rd', '4th', '5th', '6th', '7th', '8th', '9th', '10th'], dtype='object')"
            ]
          },
          "execution_count": 10,
          "metadata": {},
          "output_type": "execute_result"
        }
      ],
      "source": [
        "df.index"
      ]
    },
    {
      "cell_type": "code",
      "execution_count": null,
      "id": "ee69847f",
      "metadata": {
        "id": "ee69847f",
        "outputId": "01e205a5-bdcd-40cd-f8d2-67ed855e0039"
      },
      "outputs": [
        {
          "data": {
            "text/plain": [
              "Index(['Name', 'Age', 'Gender', 'Country', 'Salary', 'Department',\n",
              "       'Years of Experience', 'Education Level'],\n",
              "      dtype='object')"
            ]
          },
          "execution_count": 11,
          "metadata": {},
          "output_type": "execute_result"
        }
      ],
      "source": [
        "df.columns"
      ]
    },
    {
      "cell_type": "code",
      "execution_count": null,
      "id": "b6cebea5",
      "metadata": {
        "id": "b6cebea5",
        "outputId": "30237f8e-2949-487e-f13a-6b269d82574c"
      },
      "outputs": [
        {
          "data": {
            "text/plain": [
              "1st     25\n",
              "2nd     32\n",
              "3rd     18\n",
              "4th     47\n",
              "5th     29\n",
              "6th     36\n",
              "7th     21\n",
              "8th     45\n",
              "9th     28\n",
              "10th    33\n",
              "Name: Age, dtype: int64"
            ]
          },
          "execution_count": 12,
          "metadata": {},
          "output_type": "execute_result"
        }
      ],
      "source": [
        "df['Age'] # return column with label col as series"
      ]
    },
    {
      "cell_type": "code",
      "execution_count": null,
      "id": "2cb7be6c",
      "metadata": {
        "id": "2cb7be6c",
        "outputId": "b2bf7af1-54d7-4202-8c2a-bcf266d91dd1"
      },
      "outputs": [
        {
          "data": {
            "text/html": [
              "<div>\n",
              "<style scoped>\n",
              "    .dataframe tbody tr th:only-of-type {\n",
              "        vertical-align: middle;\n",
              "    }\n",
              "\n",
              "    .dataframe tbody tr th {\n",
              "        vertical-align: top;\n",
              "    }\n",
              "\n",
              "    .dataframe thead th {\n",
              "        text-align: right;\n",
              "    }\n",
              "</style>\n",
              "<table border=\"1\" class=\"dataframe\">\n",
              "  <thead>\n",
              "    <tr style=\"text-align: right;\">\n",
              "      <th></th>\n",
              "      <th>Age</th>\n",
              "      <th>Salary</th>\n",
              "    </tr>\n",
              "  </thead>\n",
              "  <tbody>\n",
              "    <tr>\n",
              "      <th>1st</th>\n",
              "      <td>25</td>\n",
              "      <td>50000</td>\n",
              "    </tr>\n",
              "    <tr>\n",
              "      <th>2nd</th>\n",
              "      <td>32</td>\n",
              "      <td>75000</td>\n",
              "    </tr>\n",
              "    <tr>\n",
              "      <th>3rd</th>\n",
              "      <td>18</td>\n",
              "      <td>40000</td>\n",
              "    </tr>\n",
              "    <tr>\n",
              "      <th>4th</th>\n",
              "      <td>47</td>\n",
              "      <td>90000</td>\n",
              "    </tr>\n",
              "    <tr>\n",
              "      <th>5th</th>\n",
              "      <td>29</td>\n",
              "      <td>60000</td>\n",
              "    </tr>\n",
              "    <tr>\n",
              "      <th>6th</th>\n",
              "      <td>36</td>\n",
              "      <td>80000</td>\n",
              "    </tr>\n",
              "    <tr>\n",
              "      <th>7th</th>\n",
              "      <td>21</td>\n",
              "      <td>55000</td>\n",
              "    </tr>\n",
              "    <tr>\n",
              "      <th>8th</th>\n",
              "      <td>45</td>\n",
              "      <td>100000</td>\n",
              "    </tr>\n",
              "    <tr>\n",
              "      <th>9th</th>\n",
              "      <td>28</td>\n",
              "      <td>65000</td>\n",
              "    </tr>\n",
              "    <tr>\n",
              "      <th>10th</th>\n",
              "      <td>33</td>\n",
              "      <td>70000</td>\n",
              "    </tr>\n",
              "  </tbody>\n",
              "</table>\n",
              "</div>"
            ],
            "text/plain": [
              "      Age  Salary\n",
              "1st    25   50000\n",
              "2nd    32   75000\n",
              "3rd    18   40000\n",
              "4th    47   90000\n",
              "5th    29   60000\n",
              "6th    36   80000\n",
              "7th    21   55000\n",
              "8th    45  100000\n",
              "9th    28   65000\n",
              "10th   33   70000"
            ]
          },
          "execution_count": 13,
          "metadata": {},
          "output_type": "execute_result"
        }
      ],
      "source": [
        "df[['Age','Salary']] # return column with label col as dataframe"
      ]
    },
    {
      "cell_type": "code",
      "execution_count": null,
      "id": "965e3c2e",
      "metadata": {
        "id": "965e3c2e",
        "outputId": "fd25eada-f1b8-4f4e-af4a-40e0adb86e70"
      },
      "outputs": [
        {
          "data": {
            "text/plain": [
              "array([['Alice', 25, 'Female', 'USA', 50000, 'Marketing', 3, 'Bachelor'],\n",
              "       ['Bob', 32, 'Male', 'Canada', 75000, 'Finance', 8, 'Master'],\n",
              "       ['Charlie', 18, 'Male', 'USA', 40000, 'Marketing', 1,\n",
              "        'High School'],\n",
              "       ['David', 47, 'Male', 'Australia', 90000, 'IT', 18, 'PhD'],\n",
              "       ['Emily', 29, 'Female', 'UK', 60000, 'IT', 6, 'Bachelor'],\n",
              "       ['Frank', 36, 'Male', 'Canada', 80000, 'HR', 10, 'Master'],\n",
              "       ['George', 21, 'Male', 'USA', 55000, 'Marketing', 2, 'Bachelor'],\n",
              "       ['Helen', 45, 'Female', 'Australia', 100000, 'IT', 22, 'PhD'],\n",
              "       ['Irene', 28, 'Female', 'UK', 65000, 'HR', 5, 'Bachelor'],\n",
              "       ['Jack', 33, 'Male', 'USA', 70000, 'Finance', 7, 'Master']],\n",
              "      dtype=object)"
            ]
          },
          "execution_count": 14,
          "metadata": {},
          "output_type": "execute_result"
        }
      ],
      "source": [
        "df.to_numpy()"
      ]
    },
    {
      "cell_type": "code",
      "execution_count": null,
      "id": "2ba2cb71",
      "metadata": {
        "id": "2ba2cb71",
        "outputId": "d18fdf38-98ce-465f-c947-68990021f672"
      },
      "outputs": [
        {
          "data": {
            "text/html": [
              "<div>\n",
              "<style scoped>\n",
              "    .dataframe tbody tr th:only-of-type {\n",
              "        vertical-align: middle;\n",
              "    }\n",
              "\n",
              "    .dataframe tbody tr th {\n",
              "        vertical-align: top;\n",
              "    }\n",
              "\n",
              "    .dataframe thead th {\n",
              "        text-align: right;\n",
              "    }\n",
              "</style>\n",
              "<table border=\"1\" class=\"dataframe\">\n",
              "  <thead>\n",
              "    <tr style=\"text-align: right;\">\n",
              "      <th></th>\n",
              "      <th>Name</th>\n",
              "      <th>Age</th>\n",
              "      <th>Gender</th>\n",
              "      <th>Country</th>\n",
              "      <th>Salary</th>\n",
              "      <th>Department</th>\n",
              "      <th>Years of Experience</th>\n",
              "      <th>Education Level</th>\n",
              "    </tr>\n",
              "  </thead>\n",
              "  <tbody>\n",
              "    <tr>\n",
              "      <th>1st</th>\n",
              "      <td>Alice</td>\n",
              "      <td>25</td>\n",
              "      <td>Female</td>\n",
              "      <td>USA</td>\n",
              "      <td>50000</td>\n",
              "      <td>Marketing</td>\n",
              "      <td>3</td>\n",
              "      <td>Bachelor</td>\n",
              "    </tr>\n",
              "    <tr>\n",
              "      <th>2nd</th>\n",
              "      <td>Bob</td>\n",
              "      <td>32</td>\n",
              "      <td>Male</td>\n",
              "      <td>Canada</td>\n",
              "      <td>75000</td>\n",
              "      <td>Finance</td>\n",
              "      <td>8</td>\n",
              "      <td>Master</td>\n",
              "    </tr>\n",
              "    <tr>\n",
              "      <th>3rd</th>\n",
              "      <td>Charlie</td>\n",
              "      <td>18</td>\n",
              "      <td>Male</td>\n",
              "      <td>USA</td>\n",
              "      <td>40000</td>\n",
              "      <td>Marketing</td>\n",
              "      <td>1</td>\n",
              "      <td>High School</td>\n",
              "    </tr>\n",
              "    <tr>\n",
              "      <th>4th</th>\n",
              "      <td>David</td>\n",
              "      <td>47</td>\n",
              "      <td>Male</td>\n",
              "      <td>Australia</td>\n",
              "      <td>90000</td>\n",
              "      <td>IT</td>\n",
              "      <td>18</td>\n",
              "      <td>PhD</td>\n",
              "    </tr>\n",
              "    <tr>\n",
              "      <th>5th</th>\n",
              "      <td>Emily</td>\n",
              "      <td>29</td>\n",
              "      <td>Female</td>\n",
              "      <td>UK</td>\n",
              "      <td>60000</td>\n",
              "      <td>IT</td>\n",
              "      <td>6</td>\n",
              "      <td>Bachelor</td>\n",
              "    </tr>\n",
              "    <tr>\n",
              "      <th>6th</th>\n",
              "      <td>Frank</td>\n",
              "      <td>36</td>\n",
              "      <td>Male</td>\n",
              "      <td>Canada</td>\n",
              "      <td>80000</td>\n",
              "      <td>HR</td>\n",
              "      <td>10</td>\n",
              "      <td>Master</td>\n",
              "    </tr>\n",
              "    <tr>\n",
              "      <th>7th</th>\n",
              "      <td>George</td>\n",
              "      <td>21</td>\n",
              "      <td>Male</td>\n",
              "      <td>USA</td>\n",
              "      <td>55000</td>\n",
              "      <td>Marketing</td>\n",
              "      <td>2</td>\n",
              "      <td>Bachelor</td>\n",
              "    </tr>\n",
              "    <tr>\n",
              "      <th>8th</th>\n",
              "      <td>Helen</td>\n",
              "      <td>45</td>\n",
              "      <td>Female</td>\n",
              "      <td>Australia</td>\n",
              "      <td>100000</td>\n",
              "      <td>IT</td>\n",
              "      <td>22</td>\n",
              "      <td>PhD</td>\n",
              "    </tr>\n",
              "    <tr>\n",
              "      <th>9th</th>\n",
              "      <td>Irene</td>\n",
              "      <td>28</td>\n",
              "      <td>Female</td>\n",
              "      <td>UK</td>\n",
              "      <td>65000</td>\n",
              "      <td>HR</td>\n",
              "      <td>5</td>\n",
              "      <td>Bachelor</td>\n",
              "    </tr>\n",
              "    <tr>\n",
              "      <th>10th</th>\n",
              "      <td>Jack</td>\n",
              "      <td>33</td>\n",
              "      <td>Male</td>\n",
              "      <td>USA</td>\n",
              "      <td>70000</td>\n",
              "      <td>Finance</td>\n",
              "      <td>7</td>\n",
              "      <td>Master</td>\n",
              "    </tr>\n",
              "  </tbody>\n",
              "</table>\n",
              "</div>"
            ],
            "text/plain": [
              "         Name  Age  Gender    Country  Salary Department  Years of Experience  \\\n",
              "1st     Alice   25  Female        USA   50000  Marketing                    3   \n",
              "2nd       Bob   32    Male     Canada   75000    Finance                    8   \n",
              "3rd   Charlie   18    Male        USA   40000  Marketing                    1   \n",
              "4th     David   47    Male  Australia   90000         IT                   18   \n",
              "5th     Emily   29  Female         UK   60000         IT                    6   \n",
              "6th     Frank   36    Male     Canada   80000         HR                   10   \n",
              "7th    George   21    Male        USA   55000  Marketing                    2   \n",
              "8th     Helen   45  Female  Australia  100000         IT                   22   \n",
              "9th     Irene   28  Female         UK   65000         HR                    5   \n",
              "10th     Jack   33    Male        USA   70000    Finance                    7   \n",
              "\n",
              "     Education Level  \n",
              "1st         Bachelor  \n",
              "2nd           Master  \n",
              "3rd      High School  \n",
              "4th              PhD  \n",
              "5th         Bachelor  \n",
              "6th           Master  \n",
              "7th         Bachelor  \n",
              "8th              PhD  \n",
              "9th         Bachelor  \n",
              "10th          Master  "
            ]
          },
          "execution_count": 15,
          "metadata": {},
          "output_type": "execute_result"
        }
      ],
      "source": [
        "# Let us get a subset which consists of first 8 rows and first 4 columns\n",
        "df.iloc[:,:]"
      ]
    },
    {
      "cell_type": "code",
      "execution_count": null,
      "id": "bc6f919a",
      "metadata": {
        "id": "bc6f919a",
        "outputId": "60c11739-9166-4551-ce90-5cfd5c5557db"
      },
      "outputs": [
        {
          "data": {
            "text/html": [
              "<div>\n",
              "<style scoped>\n",
              "    .dataframe tbody tr th:only-of-type {\n",
              "        vertical-align: middle;\n",
              "    }\n",
              "\n",
              "    .dataframe tbody tr th {\n",
              "        vertical-align: top;\n",
              "    }\n",
              "\n",
              "    .dataframe thead th {\n",
              "        text-align: right;\n",
              "    }\n",
              "</style>\n",
              "<table border=\"1\" class=\"dataframe\">\n",
              "  <thead>\n",
              "    <tr style=\"text-align: right;\">\n",
              "      <th></th>\n",
              "      <th>Name</th>\n",
              "      <th>Age</th>\n",
              "      <th>Gender</th>\n",
              "      <th>Country</th>\n",
              "      <th>Salary</th>\n",
              "      <th>Department</th>\n",
              "      <th>Years of Experience</th>\n",
              "      <th>Education Level</th>\n",
              "    </tr>\n",
              "  </thead>\n",
              "  <tbody>\n",
              "    <tr>\n",
              "      <th>10th</th>\n",
              "      <td>Jack</td>\n",
              "      <td>33</td>\n",
              "      <td>Male</td>\n",
              "      <td>USA</td>\n",
              "      <td>70000</td>\n",
              "      <td>Finance</td>\n",
              "      <td>7</td>\n",
              "      <td>Master</td>\n",
              "    </tr>\n",
              "    <tr>\n",
              "      <th>1st</th>\n",
              "      <td>Alice</td>\n",
              "      <td>25</td>\n",
              "      <td>Female</td>\n",
              "      <td>USA</td>\n",
              "      <td>50000</td>\n",
              "      <td>Marketing</td>\n",
              "      <td>3</td>\n",
              "      <td>Bachelor</td>\n",
              "    </tr>\n",
              "    <tr>\n",
              "      <th>2nd</th>\n",
              "      <td>Bob</td>\n",
              "      <td>32</td>\n",
              "      <td>Male</td>\n",
              "      <td>Canada</td>\n",
              "      <td>75000</td>\n",
              "      <td>Finance</td>\n",
              "      <td>8</td>\n",
              "      <td>Master</td>\n",
              "    </tr>\n",
              "    <tr>\n",
              "      <th>3rd</th>\n",
              "      <td>Charlie</td>\n",
              "      <td>18</td>\n",
              "      <td>Male</td>\n",
              "      <td>USA</td>\n",
              "      <td>40000</td>\n",
              "      <td>Marketing</td>\n",
              "      <td>1</td>\n",
              "      <td>High School</td>\n",
              "    </tr>\n",
              "    <tr>\n",
              "      <th>4th</th>\n",
              "      <td>David</td>\n",
              "      <td>47</td>\n",
              "      <td>Male</td>\n",
              "      <td>Australia</td>\n",
              "      <td>90000</td>\n",
              "      <td>IT</td>\n",
              "      <td>18</td>\n",
              "      <td>PhD</td>\n",
              "    </tr>\n",
              "    <tr>\n",
              "      <th>5th</th>\n",
              "      <td>Emily</td>\n",
              "      <td>29</td>\n",
              "      <td>Female</td>\n",
              "      <td>UK</td>\n",
              "      <td>60000</td>\n",
              "      <td>IT</td>\n",
              "      <td>6</td>\n",
              "      <td>Bachelor</td>\n",
              "    </tr>\n",
              "    <tr>\n",
              "      <th>6th</th>\n",
              "      <td>Frank</td>\n",
              "      <td>36</td>\n",
              "      <td>Male</td>\n",
              "      <td>Canada</td>\n",
              "      <td>80000</td>\n",
              "      <td>HR</td>\n",
              "      <td>10</td>\n",
              "      <td>Master</td>\n",
              "    </tr>\n",
              "    <tr>\n",
              "      <th>7th</th>\n",
              "      <td>George</td>\n",
              "      <td>21</td>\n",
              "      <td>Male</td>\n",
              "      <td>USA</td>\n",
              "      <td>55000</td>\n",
              "      <td>Marketing</td>\n",
              "      <td>2</td>\n",
              "      <td>Bachelor</td>\n",
              "    </tr>\n",
              "    <tr>\n",
              "      <th>8th</th>\n",
              "      <td>Helen</td>\n",
              "      <td>45</td>\n",
              "      <td>Female</td>\n",
              "      <td>Australia</td>\n",
              "      <td>100000</td>\n",
              "      <td>IT</td>\n",
              "      <td>22</td>\n",
              "      <td>PhD</td>\n",
              "    </tr>\n",
              "    <tr>\n",
              "      <th>9th</th>\n",
              "      <td>Irene</td>\n",
              "      <td>28</td>\n",
              "      <td>Female</td>\n",
              "      <td>UK</td>\n",
              "      <td>65000</td>\n",
              "      <td>HR</td>\n",
              "      <td>5</td>\n",
              "      <td>Bachelor</td>\n",
              "    </tr>\n",
              "  </tbody>\n",
              "</table>\n",
              "</div>"
            ],
            "text/plain": [
              "         Name  Age  Gender    Country  Salary Department  Years of Experience  \\\n",
              "10th     Jack   33    Male        USA   70000    Finance                    7   \n",
              "1st     Alice   25  Female        USA   50000  Marketing                    3   \n",
              "2nd       Bob   32    Male     Canada   75000    Finance                    8   \n",
              "3rd   Charlie   18    Male        USA   40000  Marketing                    1   \n",
              "4th     David   47    Male  Australia   90000         IT                   18   \n",
              "5th     Emily   29  Female         UK   60000         IT                    6   \n",
              "6th     Frank   36    Male     Canada   80000         HR                   10   \n",
              "7th    George   21    Male        USA   55000  Marketing                    2   \n",
              "8th     Helen   45  Female  Australia  100000         IT                   22   \n",
              "9th     Irene   28  Female         UK   65000         HR                    5   \n",
              "\n",
              "     Education Level  \n",
              "10th          Master  \n",
              "1st         Bachelor  \n",
              "2nd           Master  \n",
              "3rd      High School  \n",
              "4th              PhD  \n",
              "5th         Bachelor  \n",
              "6th           Master  \n",
              "7th         Bachelor  \n",
              "8th              PhD  \n",
              "9th         Bachelor  "
            ]
          },
          "execution_count": 16,
          "metadata": {},
          "output_type": "execute_result"
        }
      ],
      "source": [
        "df.sort_index(axis=0,ascending=True) #axis=0 column, axis=1 row"
      ]
    },
    {
      "cell_type": "code",
      "execution_count": null,
      "id": "b5e7b122",
      "metadata": {
        "id": "b5e7b122"
      },
      "outputs": [],
      "source": []
    },
    {
      "cell_type": "markdown",
      "id": "8ce1ca23",
      "metadata": {
        "id": "8ce1ca23"
      },
      "source": [
        "iloc gets rows (or columns) at particular positions in the index (so it only takes integers)."
      ]
    },
    {
      "cell_type": "markdown",
      "id": "8e7c73e3",
      "metadata": {
        "id": "8e7c73e3"
      },
      "source": [
        "loc gets rows (or columns) with particular labels from the index."
      ]
    },
    {
      "cell_type": "code",
      "execution_count": null,
      "id": "d4bb9eee",
      "metadata": {
        "id": "d4bb9eee",
        "outputId": "8592869f-e7ba-41a8-8220-43a4673cb49f"
      },
      "outputs": [
        {
          "data": {
            "text/html": [
              "<div>\n",
              "<style scoped>\n",
              "    .dataframe tbody tr th:only-of-type {\n",
              "        vertical-align: middle;\n",
              "    }\n",
              "\n",
              "    .dataframe tbody tr th {\n",
              "        vertical-align: top;\n",
              "    }\n",
              "\n",
              "    .dataframe thead th {\n",
              "        text-align: right;\n",
              "    }\n",
              "</style>\n",
              "<table border=\"1\" class=\"dataframe\">\n",
              "  <thead>\n",
              "    <tr style=\"text-align: right;\">\n",
              "      <th></th>\n",
              "      <th>Age</th>\n",
              "      <th>Gender</th>\n",
              "    </tr>\n",
              "  </thead>\n",
              "  <tbody>\n",
              "    <tr>\n",
              "      <th>1st</th>\n",
              "      <td>25</td>\n",
              "      <td>Female</td>\n",
              "    </tr>\n",
              "    <tr>\n",
              "      <th>2nd</th>\n",
              "      <td>32</td>\n",
              "      <td>Male</td>\n",
              "    </tr>\n",
              "    <tr>\n",
              "      <th>3rd</th>\n",
              "      <td>18</td>\n",
              "      <td>Male</td>\n",
              "    </tr>\n",
              "    <tr>\n",
              "      <th>4th</th>\n",
              "      <td>47</td>\n",
              "      <td>Male</td>\n",
              "    </tr>\n",
              "    <tr>\n",
              "      <th>5th</th>\n",
              "      <td>29</td>\n",
              "      <td>Female</td>\n",
              "    </tr>\n",
              "    <tr>\n",
              "      <th>6th</th>\n",
              "      <td>36</td>\n",
              "      <td>Male</td>\n",
              "    </tr>\n",
              "    <tr>\n",
              "      <th>7th</th>\n",
              "      <td>21</td>\n",
              "      <td>Male</td>\n",
              "    </tr>\n",
              "    <tr>\n",
              "      <th>8th</th>\n",
              "      <td>45</td>\n",
              "      <td>Female</td>\n",
              "    </tr>\n",
              "    <tr>\n",
              "      <th>9th</th>\n",
              "      <td>28</td>\n",
              "      <td>Female</td>\n",
              "    </tr>\n",
              "    <tr>\n",
              "      <th>10th</th>\n",
              "      <td>33</td>\n",
              "      <td>Male</td>\n",
              "    </tr>\n",
              "  </tbody>\n",
              "</table>\n",
              "</div>"
            ],
            "text/plain": [
              "      Age  Gender\n",
              "1st    25  Female\n",
              "2nd    32    Male\n",
              "3rd    18    Male\n",
              "4th    47    Male\n",
              "5th    29  Female\n",
              "6th    36    Male\n",
              "7th    21    Male\n",
              "8th    45  Female\n",
              "9th    28  Female\n",
              "10th   33    Male"
            ]
          },
          "execution_count": 17,
          "metadata": {},
          "output_type": "execute_result"
        }
      ],
      "source": [
        "df.loc[:,['Age','Gender']] #return all rows"
      ]
    },
    {
      "cell_type": "code",
      "execution_count": null,
      "id": "4a57cbe8",
      "metadata": {
        "id": "4a57cbe8",
        "outputId": "d20fc1a5-30d3-4310-c2f2-d01296833af6"
      },
      "outputs": [
        {
          "data": {
            "text/html": [
              "<div>\n",
              "<style scoped>\n",
              "    .dataframe tbody tr th:only-of-type {\n",
              "        vertical-align: middle;\n",
              "    }\n",
              "\n",
              "    .dataframe tbody tr th {\n",
              "        vertical-align: top;\n",
              "    }\n",
              "\n",
              "    .dataframe thead th {\n",
              "        text-align: right;\n",
              "    }\n",
              "</style>\n",
              "<table border=\"1\" class=\"dataframe\">\n",
              "  <thead>\n",
              "    <tr style=\"text-align: right;\">\n",
              "      <th></th>\n",
              "      <th>Name</th>\n",
              "      <th>Age</th>\n",
              "      <th>Gender</th>\n",
              "      <th>Country</th>\n",
              "      <th>Salary</th>\n",
              "      <th>Department</th>\n",
              "      <th>Years of Experience</th>\n",
              "      <th>Education Level</th>\n",
              "    </tr>\n",
              "  </thead>\n",
              "  <tbody>\n",
              "    <tr>\n",
              "      <th>1st</th>\n",
              "      <td>Alice</td>\n",
              "      <td>25</td>\n",
              "      <td>Female</td>\n",
              "      <td>USA</td>\n",
              "      <td>50000</td>\n",
              "      <td>Marketing</td>\n",
              "      <td>3</td>\n",
              "      <td>Bachelor</td>\n",
              "    </tr>\n",
              "    <tr>\n",
              "      <th>2nd</th>\n",
              "      <td>Bob</td>\n",
              "      <td>32</td>\n",
              "      <td>Male</td>\n",
              "      <td>Canada</td>\n",
              "      <td>75000</td>\n",
              "      <td>Finance</td>\n",
              "      <td>8</td>\n",
              "      <td>Master</td>\n",
              "    </tr>\n",
              "  </tbody>\n",
              "</table>\n",
              "</div>"
            ],
            "text/plain": [
              "      Name  Age  Gender Country  Salary Department  Years of Experience  \\\n",
              "1st  Alice   25  Female     USA   50000  Marketing                    3   \n",
              "2nd    Bob   32    Male  Canada   75000    Finance                    8   \n",
              "\n",
              "    Education Level  \n",
              "1st        Bachelor  \n",
              "2nd          Master  "
            ]
          },
          "execution_count": 18,
          "metadata": {},
          "output_type": "execute_result"
        }
      ],
      "source": [
        "df.loc[['1st','2nd'], :] #return all columns"
      ]
    },
    {
      "cell_type": "code",
      "execution_count": null,
      "id": "02ed8794",
      "metadata": {
        "id": "02ed8794",
        "outputId": "eb1680b5-6d1b-486e-859a-e72719a1f5dc"
      },
      "outputs": [
        {
          "data": {
            "text/html": [
              "<div>\n",
              "<style scoped>\n",
              "    .dataframe tbody tr th:only-of-type {\n",
              "        vertical-align: middle;\n",
              "    }\n",
              "\n",
              "    .dataframe tbody tr th {\n",
              "        vertical-align: top;\n",
              "    }\n",
              "\n",
              "    .dataframe thead th {\n",
              "        text-align: right;\n",
              "    }\n",
              "</style>\n",
              "<table border=\"1\" class=\"dataframe\">\n",
              "  <thead>\n",
              "    <tr style=\"text-align: right;\">\n",
              "      <th></th>\n",
              "      <th>Name</th>\n",
              "      <th>Age</th>\n",
              "      <th>Gender</th>\n",
              "      <th>Country</th>\n",
              "      <th>Salary</th>\n",
              "      <th>Department</th>\n",
              "      <th>Years of Experience</th>\n",
              "      <th>Education Level</th>\n",
              "    </tr>\n",
              "  </thead>\n",
              "  <tbody>\n",
              "    <tr>\n",
              "      <th>1st</th>\n",
              "      <td>Alice</td>\n",
              "      <td>25</td>\n",
              "      <td>Female</td>\n",
              "      <td>USA</td>\n",
              "      <td>50000</td>\n",
              "      <td>Marketing</td>\n",
              "      <td>3</td>\n",
              "      <td>Bachelor</td>\n",
              "    </tr>\n",
              "    <tr>\n",
              "      <th>2nd</th>\n",
              "      <td>Bob</td>\n",
              "      <td>32</td>\n",
              "      <td>Male</td>\n",
              "      <td>Canada</td>\n",
              "      <td>75000</td>\n",
              "      <td>Finance</td>\n",
              "      <td>8</td>\n",
              "      <td>Master</td>\n",
              "    </tr>\n",
              "    <tr>\n",
              "      <th>3rd</th>\n",
              "      <td>Charlie</td>\n",
              "      <td>18</td>\n",
              "      <td>Male</td>\n",
              "      <td>USA</td>\n",
              "      <td>40000</td>\n",
              "      <td>Marketing</td>\n",
              "      <td>1</td>\n",
              "      <td>High School</td>\n",
              "    </tr>\n",
              "    <tr>\n",
              "      <th>4th</th>\n",
              "      <td>David</td>\n",
              "      <td>47</td>\n",
              "      <td>Male</td>\n",
              "      <td>Australia</td>\n",
              "      <td>90000</td>\n",
              "      <td>IT</td>\n",
              "      <td>18</td>\n",
              "      <td>PhD</td>\n",
              "    </tr>\n",
              "    <tr>\n",
              "      <th>5th</th>\n",
              "      <td>Emily</td>\n",
              "      <td>29</td>\n",
              "      <td>Female</td>\n",
              "      <td>UK</td>\n",
              "      <td>60000</td>\n",
              "      <td>IT</td>\n",
              "      <td>6</td>\n",
              "      <td>Bachelor</td>\n",
              "    </tr>\n",
              "    <tr>\n",
              "      <th>6th</th>\n",
              "      <td>Frank</td>\n",
              "      <td>36</td>\n",
              "      <td>Male</td>\n",
              "      <td>Canada</td>\n",
              "      <td>80000</td>\n",
              "      <td>HR</td>\n",
              "      <td>10</td>\n",
              "      <td>Master</td>\n",
              "    </tr>\n",
              "    <tr>\n",
              "      <th>7th</th>\n",
              "      <td>George</td>\n",
              "      <td>21</td>\n",
              "      <td>Male</td>\n",
              "      <td>USA</td>\n",
              "      <td>55000</td>\n",
              "      <td>Marketing</td>\n",
              "      <td>2</td>\n",
              "      <td>Bachelor</td>\n",
              "    </tr>\n",
              "    <tr>\n",
              "      <th>8th</th>\n",
              "      <td>Helen</td>\n",
              "      <td>45</td>\n",
              "      <td>Female</td>\n",
              "      <td>Australia</td>\n",
              "      <td>100000</td>\n",
              "      <td>IT</td>\n",
              "      <td>22</td>\n",
              "      <td>PhD</td>\n",
              "    </tr>\n",
              "    <tr>\n",
              "      <th>9th</th>\n",
              "      <td>Irene</td>\n",
              "      <td>28</td>\n",
              "      <td>Female</td>\n",
              "      <td>UK</td>\n",
              "      <td>65000</td>\n",
              "      <td>HR</td>\n",
              "      <td>5</td>\n",
              "      <td>Bachelor</td>\n",
              "    </tr>\n",
              "    <tr>\n",
              "      <th>10th</th>\n",
              "      <td>Jack</td>\n",
              "      <td>33</td>\n",
              "      <td>Male</td>\n",
              "      <td>USA</td>\n",
              "      <td>70000</td>\n",
              "      <td>Finance</td>\n",
              "      <td>7</td>\n",
              "      <td>Master</td>\n",
              "    </tr>\n",
              "  </tbody>\n",
              "</table>\n",
              "</div>"
            ],
            "text/plain": [
              "         Name  Age  Gender    Country  Salary Department  Years of Experience  \\\n",
              "1st     Alice   25  Female        USA   50000  Marketing                    3   \n",
              "2nd       Bob   32    Male     Canada   75000    Finance                    8   \n",
              "3rd   Charlie   18    Male        USA   40000  Marketing                    1   \n",
              "4th     David   47    Male  Australia   90000         IT                   18   \n",
              "5th     Emily   29  Female         UK   60000         IT                    6   \n",
              "6th     Frank   36    Male     Canada   80000         HR                   10   \n",
              "7th    George   21    Male        USA   55000  Marketing                    2   \n",
              "8th     Helen   45  Female  Australia  100000         IT                   22   \n",
              "9th     Irene   28  Female         UK   65000         HR                    5   \n",
              "10th     Jack   33    Male        USA   70000    Finance                    7   \n",
              "\n",
              "     Education Level  \n",
              "1st         Bachelor  \n",
              "2nd           Master  \n",
              "3rd      High School  \n",
              "4th              PhD  \n",
              "5th         Bachelor  \n",
              "6th           Master  \n",
              "7th         Bachelor  \n",
              "8th              PhD  \n",
              "9th         Bachelor  \n",
              "10th          Master  "
            ]
          },
          "execution_count": 19,
          "metadata": {},
          "output_type": "execute_result"
        }
      ],
      "source": [
        "df.loc[:,:] #loc[rows,columns]"
      ]
    },
    {
      "cell_type": "code",
      "execution_count": null,
      "id": "e3219c4e",
      "metadata": {
        "id": "e3219c4e"
      },
      "outputs": [],
      "source": [
        "# Now let us subset our dataframe in which we want to have first 8 rows identified with their rows labels and some named columns\n",
        "#df.loc[5:8,['Age','Country']]"
      ]
    },
    {
      "cell_type": "code",
      "execution_count": null,
      "id": "689aed27",
      "metadata": {
        "id": "689aed27",
        "outputId": "22ba91bc-7f08-45ab-8a33-31a81cb8d973"
      },
      "outputs": [
        {
          "data": {
            "text/html": [
              "<div>\n",
              "<style scoped>\n",
              "    .dataframe tbody tr th:only-of-type {\n",
              "        vertical-align: middle;\n",
              "    }\n",
              "\n",
              "    .dataframe tbody tr th {\n",
              "        vertical-align: top;\n",
              "    }\n",
              "\n",
              "    .dataframe thead th {\n",
              "        text-align: right;\n",
              "    }\n",
              "</style>\n",
              "<table border=\"1\" class=\"dataframe\">\n",
              "  <thead>\n",
              "    <tr style=\"text-align: right;\">\n",
              "      <th></th>\n",
              "      <th>Country</th>\n",
              "    </tr>\n",
              "  </thead>\n",
              "  <tbody>\n",
              "    <tr>\n",
              "      <th>1st</th>\n",
              "      <td>USA</td>\n",
              "    </tr>\n",
              "    <tr>\n",
              "      <th>2nd</th>\n",
              "      <td>Canada</td>\n",
              "    </tr>\n",
              "    <tr>\n",
              "      <th>3rd</th>\n",
              "      <td>USA</td>\n",
              "    </tr>\n",
              "    <tr>\n",
              "      <th>4th</th>\n",
              "      <td>Australia</td>\n",
              "    </tr>\n",
              "    <tr>\n",
              "      <th>5th</th>\n",
              "      <td>UK</td>\n",
              "    </tr>\n",
              "    <tr>\n",
              "      <th>6th</th>\n",
              "      <td>Canada</td>\n",
              "    </tr>\n",
              "    <tr>\n",
              "      <th>7th</th>\n",
              "      <td>USA</td>\n",
              "    </tr>\n",
              "    <tr>\n",
              "      <th>8th</th>\n",
              "      <td>Australia</td>\n",
              "    </tr>\n",
              "    <tr>\n",
              "      <th>9th</th>\n",
              "      <td>UK</td>\n",
              "    </tr>\n",
              "    <tr>\n",
              "      <th>10th</th>\n",
              "      <td>USA</td>\n",
              "    </tr>\n",
              "  </tbody>\n",
              "</table>\n",
              "</div>"
            ],
            "text/plain": [
              "        Country\n",
              "1st         USA\n",
              "2nd      Canada\n",
              "3rd         USA\n",
              "4th   Australia\n",
              "5th          UK\n",
              "6th      Canada\n",
              "7th         USA\n",
              "8th   Australia\n",
              "9th          UK\n",
              "10th        USA"
            ]
          },
          "execution_count": 21,
          "metadata": {},
          "output_type": "execute_result"
        }
      ],
      "source": [
        "df.loc[:,['Country']]"
      ]
    },
    {
      "cell_type": "code",
      "execution_count": null,
      "id": "7ed6f072",
      "metadata": {
        "id": "7ed6f072",
        "outputId": "d1edec1a-a832-4936-b4c7-9250213c444d"
      },
      "outputs": [
        {
          "data": {
            "text/plain": [
              "'Alice'"
            ]
          },
          "execution_count": 22,
          "metadata": {},
          "output_type": "execute_result"
        }
      ],
      "source": [
        "df.iloc[0,0] #if work throgh index(integer based undexing)"
      ]
    },
    {
      "cell_type": "code",
      "execution_count": null,
      "id": "82b6892e",
      "metadata": {
        "id": "82b6892e",
        "outputId": "ed0270db-55f7-4c73-f875-0e83c9054a56"
      },
      "outputs": [
        {
          "data": {
            "text/html": [
              "<div>\n",
              "<style scoped>\n",
              "    .dataframe tbody tr th:only-of-type {\n",
              "        vertical-align: middle;\n",
              "    }\n",
              "\n",
              "    .dataframe tbody tr th {\n",
              "        vertical-align: top;\n",
              "    }\n",
              "\n",
              "    .dataframe thead th {\n",
              "        text-align: right;\n",
              "    }\n",
              "</style>\n",
              "<table border=\"1\" class=\"dataframe\">\n",
              "  <thead>\n",
              "    <tr style=\"text-align: right;\">\n",
              "      <th></th>\n",
              "      <th>Age</th>\n",
              "      <th>Country</th>\n",
              "    </tr>\n",
              "  </thead>\n",
              "  <tbody>\n",
              "    <tr>\n",
              "      <th>1st</th>\n",
              "      <td>25</td>\n",
              "      <td>USA</td>\n",
              "    </tr>\n",
              "    <tr>\n",
              "      <th>2nd</th>\n",
              "      <td>32</td>\n",
              "      <td>Canada</td>\n",
              "    </tr>\n",
              "    <tr>\n",
              "      <th>3rd</th>\n",
              "      <td>18</td>\n",
              "      <td>USA</td>\n",
              "    </tr>\n",
              "    <tr>\n",
              "      <th>4th</th>\n",
              "      <td>47</td>\n",
              "      <td>Australia</td>\n",
              "    </tr>\n",
              "    <tr>\n",
              "      <th>5th</th>\n",
              "      <td>29</td>\n",
              "      <td>UK</td>\n",
              "    </tr>\n",
              "    <tr>\n",
              "      <th>6th</th>\n",
              "      <td>36</td>\n",
              "      <td>Canada</td>\n",
              "    </tr>\n",
              "    <tr>\n",
              "      <th>7th</th>\n",
              "      <td>21</td>\n",
              "      <td>USA</td>\n",
              "    </tr>\n",
              "    <tr>\n",
              "      <th>8th</th>\n",
              "      <td>45</td>\n",
              "      <td>Australia</td>\n",
              "    </tr>\n",
              "    <tr>\n",
              "      <th>9th</th>\n",
              "      <td>28</td>\n",
              "      <td>UK</td>\n",
              "    </tr>\n",
              "    <tr>\n",
              "      <th>10th</th>\n",
              "      <td>33</td>\n",
              "      <td>USA</td>\n",
              "    </tr>\n",
              "  </tbody>\n",
              "</table>\n",
              "</div>"
            ],
            "text/plain": [
              "      Age    Country\n",
              "1st    25        USA\n",
              "2nd    32     Canada\n",
              "3rd    18        USA\n",
              "4th    47  Australia\n",
              "5th    29         UK\n",
              "6th    36     Canada\n",
              "7th    21        USA\n",
              "8th    45  Australia\n",
              "9th    28         UK\n",
              "10th   33        USA"
            ]
          },
          "execution_count": 23,
          "metadata": {},
          "output_type": "execute_result"
        }
      ],
      "source": [
        "df[['Age','Country']]"
      ]
    },
    {
      "cell_type": "markdown",
      "id": "92ccfb35",
      "metadata": {
        "id": "92ccfb35"
      },
      "source": [
        "Boolean Indexing"
      ]
    },
    {
      "cell_type": "code",
      "execution_count": null,
      "id": "b56de44c",
      "metadata": {
        "id": "b56de44c"
      },
      "outputs": [],
      "source": []
    },
    {
      "cell_type": "code",
      "execution_count": null,
      "id": "398fb04f",
      "metadata": {
        "id": "398fb04f",
        "outputId": "4663de57-b7ba-45f9-a0cc-ea60909bed8d"
      },
      "outputs": [
        {
          "data": {
            "text/plain": [
              "1st      True\n",
              "2nd     False\n",
              "3rd      True\n",
              "4th     False\n",
              "5th     False\n",
              "6th     False\n",
              "7th      True\n",
              "8th     False\n",
              "9th     False\n",
              "10th     True\n",
              "Name: Country, dtype: bool"
            ]
          },
          "execution_count": 24,
          "metadata": {},
          "output_type": "execute_result"
        }
      ],
      "source": [
        "df['Country']=='USA'"
      ]
    },
    {
      "cell_type": "code",
      "execution_count": null,
      "id": "6c1eb707",
      "metadata": {
        "id": "6c1eb707",
        "outputId": "a3239acc-72c8-43f8-ea94-5609f4f4fb23"
      },
      "outputs": [
        {
          "data": {
            "text/html": [
              "<div>\n",
              "<style scoped>\n",
              "    .dataframe tbody tr th:only-of-type {\n",
              "        vertical-align: middle;\n",
              "    }\n",
              "\n",
              "    .dataframe tbody tr th {\n",
              "        vertical-align: top;\n",
              "    }\n",
              "\n",
              "    .dataframe thead th {\n",
              "        text-align: right;\n",
              "    }\n",
              "</style>\n",
              "<table border=\"1\" class=\"dataframe\">\n",
              "  <thead>\n",
              "    <tr style=\"text-align: right;\">\n",
              "      <th></th>\n",
              "      <th>Name</th>\n",
              "      <th>Age</th>\n",
              "      <th>Gender</th>\n",
              "      <th>Country</th>\n",
              "      <th>Salary</th>\n",
              "      <th>Department</th>\n",
              "      <th>Years of Experience</th>\n",
              "      <th>Education Level</th>\n",
              "    </tr>\n",
              "  </thead>\n",
              "  <tbody>\n",
              "    <tr>\n",
              "      <th>1st</th>\n",
              "      <td>Alice</td>\n",
              "      <td>25</td>\n",
              "      <td>Female</td>\n",
              "      <td>USA</td>\n",
              "      <td>50000</td>\n",
              "      <td>Marketing</td>\n",
              "      <td>3</td>\n",
              "      <td>Bachelor</td>\n",
              "    </tr>\n",
              "    <tr>\n",
              "      <th>3rd</th>\n",
              "      <td>Charlie</td>\n",
              "      <td>18</td>\n",
              "      <td>Male</td>\n",
              "      <td>USA</td>\n",
              "      <td>40000</td>\n",
              "      <td>Marketing</td>\n",
              "      <td>1</td>\n",
              "      <td>High School</td>\n",
              "    </tr>\n",
              "    <tr>\n",
              "      <th>7th</th>\n",
              "      <td>George</td>\n",
              "      <td>21</td>\n",
              "      <td>Male</td>\n",
              "      <td>USA</td>\n",
              "      <td>55000</td>\n",
              "      <td>Marketing</td>\n",
              "      <td>2</td>\n",
              "      <td>Bachelor</td>\n",
              "    </tr>\n",
              "    <tr>\n",
              "      <th>10th</th>\n",
              "      <td>Jack</td>\n",
              "      <td>33</td>\n",
              "      <td>Male</td>\n",
              "      <td>USA</td>\n",
              "      <td>70000</td>\n",
              "      <td>Finance</td>\n",
              "      <td>7</td>\n",
              "      <td>Master</td>\n",
              "    </tr>\n",
              "  </tbody>\n",
              "</table>\n",
              "</div>"
            ],
            "text/plain": [
              "         Name  Age  Gender Country  Salary Department  Years of Experience  \\\n",
              "1st     Alice   25  Female     USA   50000  Marketing                    3   \n",
              "3rd   Charlie   18    Male     USA   40000  Marketing                    1   \n",
              "7th    George   21    Male     USA   55000  Marketing                    2   \n",
              "10th     Jack   33    Male     USA   70000    Finance                    7   \n",
              "\n",
              "     Education Level  \n",
              "1st         Bachelor  \n",
              "3rd      High School  \n",
              "7th         Bachelor  \n",
              "10th          Master  "
            ]
          },
          "execution_count": 25,
          "metadata": {},
          "output_type": "execute_result"
        }
      ],
      "source": [
        "USA_WALE=df[df['Country']=='USA']\n",
        "USA_WALE.head()"
      ]
    },
    {
      "cell_type": "code",
      "execution_count": null,
      "id": "d843f6a7",
      "metadata": {
        "id": "d843f6a7",
        "outputId": "08830300-e077-4b34-9d98-0bb9e729bcd7"
      },
      "outputs": [
        {
          "data": {
            "text/html": [
              "<div>\n",
              "<style scoped>\n",
              "    .dataframe tbody tr th:only-of-type {\n",
              "        vertical-align: middle;\n",
              "    }\n",
              "\n",
              "    .dataframe tbody tr th {\n",
              "        vertical-align: top;\n",
              "    }\n",
              "\n",
              "    .dataframe thead th {\n",
              "        text-align: right;\n",
              "    }\n",
              "</style>\n",
              "<table border=\"1\" class=\"dataframe\">\n",
              "  <thead>\n",
              "    <tr style=\"text-align: right;\">\n",
              "      <th></th>\n",
              "      <th>Name</th>\n",
              "      <th>Age</th>\n",
              "      <th>Gender</th>\n",
              "      <th>Country</th>\n",
              "      <th>Salary</th>\n",
              "      <th>Department</th>\n",
              "      <th>Years of Experience</th>\n",
              "      <th>Education Level</th>\n",
              "    </tr>\n",
              "  </thead>\n",
              "  <tbody>\n",
              "    <tr>\n",
              "      <th>2nd</th>\n",
              "      <td>Bob</td>\n",
              "      <td>32</td>\n",
              "      <td>Male</td>\n",
              "      <td>Canada</td>\n",
              "      <td>75000</td>\n",
              "      <td>Finance</td>\n",
              "      <td>8</td>\n",
              "      <td>Master</td>\n",
              "    </tr>\n",
              "    <tr>\n",
              "      <th>4th</th>\n",
              "      <td>David</td>\n",
              "      <td>47</td>\n",
              "      <td>Male</td>\n",
              "      <td>Australia</td>\n",
              "      <td>90000</td>\n",
              "      <td>IT</td>\n",
              "      <td>18</td>\n",
              "      <td>PhD</td>\n",
              "    </tr>\n",
              "    <tr>\n",
              "      <th>5th</th>\n",
              "      <td>Emily</td>\n",
              "      <td>29</td>\n",
              "      <td>Female</td>\n",
              "      <td>UK</td>\n",
              "      <td>60000</td>\n",
              "      <td>IT</td>\n",
              "      <td>6</td>\n",
              "      <td>Bachelor</td>\n",
              "    </tr>\n",
              "    <tr>\n",
              "      <th>6th</th>\n",
              "      <td>Frank</td>\n",
              "      <td>36</td>\n",
              "      <td>Male</td>\n",
              "      <td>Canada</td>\n",
              "      <td>80000</td>\n",
              "      <td>HR</td>\n",
              "      <td>10</td>\n",
              "      <td>Master</td>\n",
              "    </tr>\n",
              "    <tr>\n",
              "      <th>8th</th>\n",
              "      <td>Helen</td>\n",
              "      <td>45</td>\n",
              "      <td>Female</td>\n",
              "      <td>Australia</td>\n",
              "      <td>100000</td>\n",
              "      <td>IT</td>\n",
              "      <td>22</td>\n",
              "      <td>PhD</td>\n",
              "    </tr>\n",
              "  </tbody>\n",
              "</table>\n",
              "</div>"
            ],
            "text/plain": [
              "      Name  Age  Gender    Country  Salary Department  Years of Experience  \\\n",
              "2nd    Bob   32    Male     Canada   75000    Finance                    8   \n",
              "4th  David   47    Male  Australia   90000         IT                   18   \n",
              "5th  Emily   29  Female         UK   60000         IT                    6   \n",
              "6th  Frank   36    Male     Canada   80000         HR                   10   \n",
              "8th  Helen   45  Female  Australia  100000         IT                   22   \n",
              "\n",
              "    Education Level  \n",
              "2nd          Master  \n",
              "4th             PhD  \n",
              "5th        Bachelor  \n",
              "6th          Master  \n",
              "8th             PhD  "
            ]
          },
          "execution_count": 26,
          "metadata": {},
          "output_type": "execute_result"
        }
      ],
      "source": [
        "USA_WALE=df[df['Country'] !='USA']\n",
        "USA_WALE.head()"
      ]
    },
    {
      "cell_type": "code",
      "execution_count": null,
      "id": "0e077287",
      "metadata": {
        "id": "0e077287",
        "outputId": "2bdbb6b7-57c7-436f-d69c-ed85067538ed"
      },
      "outputs": [
        {
          "data": {
            "text/html": [
              "<div>\n",
              "<style scoped>\n",
              "    .dataframe tbody tr th:only-of-type {\n",
              "        vertical-align: middle;\n",
              "    }\n",
              "\n",
              "    .dataframe tbody tr th {\n",
              "        vertical-align: top;\n",
              "    }\n",
              "\n",
              "    .dataframe thead th {\n",
              "        text-align: right;\n",
              "    }\n",
              "</style>\n",
              "<table border=\"1\" class=\"dataframe\">\n",
              "  <thead>\n",
              "    <tr style=\"text-align: right;\">\n",
              "      <th></th>\n",
              "      <th>Name</th>\n",
              "      <th>Age</th>\n",
              "      <th>Gender</th>\n",
              "      <th>Country</th>\n",
              "      <th>Salary</th>\n",
              "      <th>Department</th>\n",
              "      <th>Years of Experience</th>\n",
              "      <th>Education Level</th>\n",
              "    </tr>\n",
              "  </thead>\n",
              "  <tbody>\n",
              "    <tr>\n",
              "      <th>2nd</th>\n",
              "      <td>Bob</td>\n",
              "      <td>32</td>\n",
              "      <td>Male</td>\n",
              "      <td>Canada</td>\n",
              "      <td>75000</td>\n",
              "      <td>Finance</td>\n",
              "      <td>8</td>\n",
              "      <td>Master</td>\n",
              "    </tr>\n",
              "    <tr>\n",
              "      <th>4th</th>\n",
              "      <td>David</td>\n",
              "      <td>47</td>\n",
              "      <td>Male</td>\n",
              "      <td>Australia</td>\n",
              "      <td>90000</td>\n",
              "      <td>IT</td>\n",
              "      <td>18</td>\n",
              "      <td>PhD</td>\n",
              "    </tr>\n",
              "    <tr>\n",
              "      <th>6th</th>\n",
              "      <td>Frank</td>\n",
              "      <td>36</td>\n",
              "      <td>Male</td>\n",
              "      <td>Canada</td>\n",
              "      <td>80000</td>\n",
              "      <td>HR</td>\n",
              "      <td>10</td>\n",
              "      <td>Master</td>\n",
              "    </tr>\n",
              "    <tr>\n",
              "      <th>8th</th>\n",
              "      <td>Helen</td>\n",
              "      <td>45</td>\n",
              "      <td>Female</td>\n",
              "      <td>Australia</td>\n",
              "      <td>100000</td>\n",
              "      <td>IT</td>\n",
              "      <td>22</td>\n",
              "      <td>PhD</td>\n",
              "    </tr>\n",
              "    <tr>\n",
              "      <th>10th</th>\n",
              "      <td>Jack</td>\n",
              "      <td>33</td>\n",
              "      <td>Male</td>\n",
              "      <td>USA</td>\n",
              "      <td>70000</td>\n",
              "      <td>Finance</td>\n",
              "      <td>7</td>\n",
              "      <td>Master</td>\n",
              "    </tr>\n",
              "  </tbody>\n",
              "</table>\n",
              "</div>"
            ],
            "text/plain": [
              "       Name  Age  Gender    Country  Salary Department  Years of Experience  \\\n",
              "2nd     Bob   32    Male     Canada   75000    Finance                    8   \n",
              "4th   David   47    Male  Australia   90000         IT                   18   \n",
              "6th   Frank   36    Male     Canada   80000         HR                   10   \n",
              "8th   Helen   45  Female  Australia  100000         IT                   22   \n",
              "10th   Jack   33    Male        USA   70000    Finance                    7   \n",
              "\n",
              "     Education Level  \n",
              "2nd           Master  \n",
              "4th              PhD  \n",
              "6th           Master  \n",
              "8th              PhD  \n",
              "10th          Master  "
            ]
          },
          "execution_count": 27,
          "metadata": {},
          "output_type": "execute_result"
        }
      ],
      "source": [
        "long_age= df[df['Age']>30]\n",
        "long_age"
      ]
    },
    {
      "cell_type": "code",
      "execution_count": null,
      "id": "7d3f2050",
      "metadata": {
        "id": "7d3f2050"
      },
      "outputs": [],
      "source": [
        "df['half_Age']= df['Age']*0.5"
      ]
    },
    {
      "cell_type": "code",
      "execution_count": null,
      "id": "3d7ecec1",
      "metadata": {
        "id": "3d7ecec1",
        "outputId": "da8fd264-692e-47c8-bf0f-58c6019d42c3"
      },
      "outputs": [
        {
          "data": {
            "text/html": [
              "<div>\n",
              "<style scoped>\n",
              "    .dataframe tbody tr th:only-of-type {\n",
              "        vertical-align: middle;\n",
              "    }\n",
              "\n",
              "    .dataframe tbody tr th {\n",
              "        vertical-align: top;\n",
              "    }\n",
              "\n",
              "    .dataframe thead th {\n",
              "        text-align: right;\n",
              "    }\n",
              "</style>\n",
              "<table border=\"1\" class=\"dataframe\">\n",
              "  <thead>\n",
              "    <tr style=\"text-align: right;\">\n",
              "      <th></th>\n",
              "      <th>Name</th>\n",
              "      <th>Age</th>\n",
              "      <th>Gender</th>\n",
              "      <th>Country</th>\n",
              "      <th>Salary</th>\n",
              "      <th>Department</th>\n",
              "      <th>Years of Experience</th>\n",
              "      <th>Education Level</th>\n",
              "      <th>half_Age</th>\n",
              "    </tr>\n",
              "  </thead>\n",
              "  <tbody>\n",
              "    <tr>\n",
              "      <th>1st</th>\n",
              "      <td>Alice</td>\n",
              "      <td>25</td>\n",
              "      <td>Female</td>\n",
              "      <td>USA</td>\n",
              "      <td>50000</td>\n",
              "      <td>Marketing</td>\n",
              "      <td>3</td>\n",
              "      <td>Bachelor</td>\n",
              "      <td>12.5</td>\n",
              "    </tr>\n",
              "    <tr>\n",
              "      <th>2nd</th>\n",
              "      <td>Bob</td>\n",
              "      <td>32</td>\n",
              "      <td>Male</td>\n",
              "      <td>Canada</td>\n",
              "      <td>75000</td>\n",
              "      <td>Finance</td>\n",
              "      <td>8</td>\n",
              "      <td>Master</td>\n",
              "      <td>16.0</td>\n",
              "    </tr>\n",
              "    <tr>\n",
              "      <th>3rd</th>\n",
              "      <td>Charlie</td>\n",
              "      <td>18</td>\n",
              "      <td>Male</td>\n",
              "      <td>USA</td>\n",
              "      <td>40000</td>\n",
              "      <td>Marketing</td>\n",
              "      <td>1</td>\n",
              "      <td>High School</td>\n",
              "      <td>9.0</td>\n",
              "    </tr>\n",
              "    <tr>\n",
              "      <th>4th</th>\n",
              "      <td>David</td>\n",
              "      <td>47</td>\n",
              "      <td>Male</td>\n",
              "      <td>Australia</td>\n",
              "      <td>90000</td>\n",
              "      <td>IT</td>\n",
              "      <td>18</td>\n",
              "      <td>PhD</td>\n",
              "      <td>23.5</td>\n",
              "    </tr>\n",
              "    <tr>\n",
              "      <th>5th</th>\n",
              "      <td>Emily</td>\n",
              "      <td>29</td>\n",
              "      <td>Female</td>\n",
              "      <td>UK</td>\n",
              "      <td>60000</td>\n",
              "      <td>IT</td>\n",
              "      <td>6</td>\n",
              "      <td>Bachelor</td>\n",
              "      <td>14.5</td>\n",
              "    </tr>\n",
              "  </tbody>\n",
              "</table>\n",
              "</div>"
            ],
            "text/plain": [
              "        Name  Age  Gender    Country  Salary Department  Years of Experience  \\\n",
              "1st    Alice   25  Female        USA   50000  Marketing                    3   \n",
              "2nd      Bob   32    Male     Canada   75000    Finance                    8   \n",
              "3rd  Charlie   18    Male        USA   40000  Marketing                    1   \n",
              "4th    David   47    Male  Australia   90000         IT                   18   \n",
              "5th    Emily   29  Female         UK   60000         IT                    6   \n",
              "\n",
              "    Education Level  half_Age  \n",
              "1st        Bachelor      12.5  \n",
              "2nd          Master      16.0  \n",
              "3rd     High School       9.0  \n",
              "4th             PhD      23.5  \n",
              "5th        Bachelor      14.5  "
            ]
          },
          "execution_count": 29,
          "metadata": {},
          "output_type": "execute_result"
        }
      ],
      "source": [
        "df.head()"
      ]
    },
    {
      "cell_type": "code",
      "execution_count": null,
      "id": "78182302",
      "metadata": {
        "id": "78182302"
      },
      "outputs": [],
      "source": [
        "df['Total_Income']=df['Salary']*df['Years of Experience']"
      ]
    },
    {
      "cell_type": "code",
      "execution_count": null,
      "id": "7416524f",
      "metadata": {
        "id": "7416524f",
        "outputId": "3be6193a-7bbd-48be-ddb1-d10e7851472c"
      },
      "outputs": [
        {
          "data": {
            "text/html": [
              "<div>\n",
              "<style scoped>\n",
              "    .dataframe tbody tr th:only-of-type {\n",
              "        vertical-align: middle;\n",
              "    }\n",
              "\n",
              "    .dataframe tbody tr th {\n",
              "        vertical-align: top;\n",
              "    }\n",
              "\n",
              "    .dataframe thead th {\n",
              "        text-align: right;\n",
              "    }\n",
              "</style>\n",
              "<table border=\"1\" class=\"dataframe\">\n",
              "  <thead>\n",
              "    <tr style=\"text-align: right;\">\n",
              "      <th></th>\n",
              "      <th>Name</th>\n",
              "      <th>Age</th>\n",
              "      <th>Gender</th>\n",
              "      <th>Country</th>\n",
              "      <th>Salary</th>\n",
              "      <th>Department</th>\n",
              "      <th>Years of Experience</th>\n",
              "      <th>Education Level</th>\n",
              "      <th>half_Age</th>\n",
              "      <th>Total_Income</th>\n",
              "    </tr>\n",
              "  </thead>\n",
              "  <tbody>\n",
              "    <tr>\n",
              "      <th>1st</th>\n",
              "      <td>Alice</td>\n",
              "      <td>25</td>\n",
              "      <td>Female</td>\n",
              "      <td>USA</td>\n",
              "      <td>50000</td>\n",
              "      <td>Marketing</td>\n",
              "      <td>3</td>\n",
              "      <td>Bachelor</td>\n",
              "      <td>12.5</td>\n",
              "      <td>150000</td>\n",
              "    </tr>\n",
              "    <tr>\n",
              "      <th>2nd</th>\n",
              "      <td>Bob</td>\n",
              "      <td>32</td>\n",
              "      <td>Male</td>\n",
              "      <td>Canada</td>\n",
              "      <td>75000</td>\n",
              "      <td>Finance</td>\n",
              "      <td>8</td>\n",
              "      <td>Master</td>\n",
              "      <td>16.0</td>\n",
              "      <td>600000</td>\n",
              "    </tr>\n",
              "    <tr>\n",
              "      <th>3rd</th>\n",
              "      <td>Charlie</td>\n",
              "      <td>18</td>\n",
              "      <td>Male</td>\n",
              "      <td>USA</td>\n",
              "      <td>40000</td>\n",
              "      <td>Marketing</td>\n",
              "      <td>1</td>\n",
              "      <td>High School</td>\n",
              "      <td>9.0</td>\n",
              "      <td>40000</td>\n",
              "    </tr>\n",
              "    <tr>\n",
              "      <th>4th</th>\n",
              "      <td>David</td>\n",
              "      <td>47</td>\n",
              "      <td>Male</td>\n",
              "      <td>Australia</td>\n",
              "      <td>90000</td>\n",
              "      <td>IT</td>\n",
              "      <td>18</td>\n",
              "      <td>PhD</td>\n",
              "      <td>23.5</td>\n",
              "      <td>1620000</td>\n",
              "    </tr>\n",
              "    <tr>\n",
              "      <th>5th</th>\n",
              "      <td>Emily</td>\n",
              "      <td>29</td>\n",
              "      <td>Female</td>\n",
              "      <td>UK</td>\n",
              "      <td>60000</td>\n",
              "      <td>IT</td>\n",
              "      <td>6</td>\n",
              "      <td>Bachelor</td>\n",
              "      <td>14.5</td>\n",
              "      <td>360000</td>\n",
              "    </tr>\n",
              "  </tbody>\n",
              "</table>\n",
              "</div>"
            ],
            "text/plain": [
              "        Name  Age  Gender    Country  Salary Department  Years of Experience  \\\n",
              "1st    Alice   25  Female        USA   50000  Marketing                    3   \n",
              "2nd      Bob   32    Male     Canada   75000    Finance                    8   \n",
              "3rd  Charlie   18    Male        USA   40000  Marketing                    1   \n",
              "4th    David   47    Male  Australia   90000         IT                   18   \n",
              "5th    Emily   29  Female         UK   60000         IT                    6   \n",
              "\n",
              "    Education Level  half_Age  Total_Income  \n",
              "1st        Bachelor      12.5        150000  \n",
              "2nd          Master      16.0        600000  \n",
              "3rd     High School       9.0         40000  \n",
              "4th             PhD      23.5       1620000  \n",
              "5th        Bachelor      14.5        360000  "
            ]
          },
          "execution_count": 31,
          "metadata": {},
          "output_type": "execute_result"
        }
      ],
      "source": [
        "df.head()"
      ]
    },
    {
      "cell_type": "code",
      "execution_count": null,
      "id": "53de99d6",
      "metadata": {
        "id": "53de99d6"
      },
      "outputs": [],
      "source": [
        "#Drop the column\n",
        "\n",
        "df.drop(['half_Age'],axis = 1,inplace=True)"
      ]
    },
    {
      "cell_type": "code",
      "execution_count": null,
      "id": "02475e23",
      "metadata": {
        "id": "02475e23",
        "outputId": "81845d86-b883-4578-a9b9-f8f2db689f8e"
      },
      "outputs": [
        {
          "data": {
            "text/html": [
              "<div>\n",
              "<style scoped>\n",
              "    .dataframe tbody tr th:only-of-type {\n",
              "        vertical-align: middle;\n",
              "    }\n",
              "\n",
              "    .dataframe tbody tr th {\n",
              "        vertical-align: top;\n",
              "    }\n",
              "\n",
              "    .dataframe thead th {\n",
              "        text-align: right;\n",
              "    }\n",
              "</style>\n",
              "<table border=\"1\" class=\"dataframe\">\n",
              "  <thead>\n",
              "    <tr style=\"text-align: right;\">\n",
              "      <th></th>\n",
              "      <th>Name</th>\n",
              "      <th>Age</th>\n",
              "      <th>Gender</th>\n",
              "      <th>Country</th>\n",
              "      <th>Salary</th>\n",
              "      <th>Department</th>\n",
              "      <th>Years of Experience</th>\n",
              "      <th>Education Level</th>\n",
              "      <th>Total_Income</th>\n",
              "    </tr>\n",
              "  </thead>\n",
              "  <tbody>\n",
              "    <tr>\n",
              "      <th>1st</th>\n",
              "      <td>Alice</td>\n",
              "      <td>25</td>\n",
              "      <td>Female</td>\n",
              "      <td>USA</td>\n",
              "      <td>50000</td>\n",
              "      <td>Marketing</td>\n",
              "      <td>3</td>\n",
              "      <td>Bachelor</td>\n",
              "      <td>150000</td>\n",
              "    </tr>\n",
              "    <tr>\n",
              "      <th>2nd</th>\n",
              "      <td>Bob</td>\n",
              "      <td>32</td>\n",
              "      <td>Male</td>\n",
              "      <td>Canada</td>\n",
              "      <td>75000</td>\n",
              "      <td>Finance</td>\n",
              "      <td>8</td>\n",
              "      <td>Master</td>\n",
              "      <td>600000</td>\n",
              "    </tr>\n",
              "    <tr>\n",
              "      <th>3rd</th>\n",
              "      <td>Charlie</td>\n",
              "      <td>18</td>\n",
              "      <td>Male</td>\n",
              "      <td>USA</td>\n",
              "      <td>40000</td>\n",
              "      <td>Marketing</td>\n",
              "      <td>1</td>\n",
              "      <td>High School</td>\n",
              "      <td>40000</td>\n",
              "    </tr>\n",
              "    <tr>\n",
              "      <th>4th</th>\n",
              "      <td>David</td>\n",
              "      <td>47</td>\n",
              "      <td>Male</td>\n",
              "      <td>Australia</td>\n",
              "      <td>90000</td>\n",
              "      <td>IT</td>\n",
              "      <td>18</td>\n",
              "      <td>PhD</td>\n",
              "      <td>1620000</td>\n",
              "    </tr>\n",
              "    <tr>\n",
              "      <th>5th</th>\n",
              "      <td>Emily</td>\n",
              "      <td>29</td>\n",
              "      <td>Female</td>\n",
              "      <td>UK</td>\n",
              "      <td>60000</td>\n",
              "      <td>IT</td>\n",
              "      <td>6</td>\n",
              "      <td>Bachelor</td>\n",
              "      <td>360000</td>\n",
              "    </tr>\n",
              "  </tbody>\n",
              "</table>\n",
              "</div>"
            ],
            "text/plain": [
              "        Name  Age  Gender    Country  Salary Department  Years of Experience  \\\n",
              "1st    Alice   25  Female        USA   50000  Marketing                    3   \n",
              "2nd      Bob   32    Male     Canada   75000    Finance                    8   \n",
              "3rd  Charlie   18    Male        USA   40000  Marketing                    1   \n",
              "4th    David   47    Male  Australia   90000         IT                   18   \n",
              "5th    Emily   29  Female         UK   60000         IT                    6   \n",
              "\n",
              "    Education Level  Total_Income  \n",
              "1st        Bachelor        150000  \n",
              "2nd          Master        600000  \n",
              "3rd     High School         40000  \n",
              "4th             PhD       1620000  \n",
              "5th        Bachelor        360000  "
            ]
          },
          "execution_count": 33,
          "metadata": {},
          "output_type": "execute_result"
        }
      ],
      "source": [
        "df.head()"
      ]
    },
    {
      "cell_type": "code",
      "execution_count": null,
      "id": "72a2b25f",
      "metadata": {
        "id": "72a2b25f",
        "outputId": "172d608e-a669-4fdd-e0fa-106e3ea968e3"
      },
      "outputs": [
        {
          "data": {
            "text/html": [
              "<div>\n",
              "<style scoped>\n",
              "    .dataframe tbody tr th:only-of-type {\n",
              "        vertical-align: middle;\n",
              "    }\n",
              "\n",
              "    .dataframe tbody tr th {\n",
              "        vertical-align: top;\n",
              "    }\n",
              "\n",
              "    .dataframe thead th {\n",
              "        text-align: right;\n",
              "    }\n",
              "</style>\n",
              "<table border=\"1\" class=\"dataframe\">\n",
              "  <thead>\n",
              "    <tr style=\"text-align: right;\">\n",
              "      <th></th>\n",
              "      <th>Name</th>\n",
              "      <th>Age</th>\n",
              "      <th>Gender</th>\n",
              "      <th>Country</th>\n",
              "      <th>Salary</th>\n",
              "      <th>Department</th>\n",
              "      <th>Years of Experience</th>\n",
              "      <th>Education Level</th>\n",
              "      <th>Total_Income</th>\n",
              "    </tr>\n",
              "  </thead>\n",
              "  <tbody>\n",
              "    <tr>\n",
              "      <th>3rd</th>\n",
              "      <td>Charlie</td>\n",
              "      <td>18</td>\n",
              "      <td>Male</td>\n",
              "      <td>USA</td>\n",
              "      <td>40000</td>\n",
              "      <td>Marketing</td>\n",
              "      <td>1</td>\n",
              "      <td>High School</td>\n",
              "      <td>40000</td>\n",
              "    </tr>\n",
              "    <tr>\n",
              "      <th>4th</th>\n",
              "      <td>David</td>\n",
              "      <td>47</td>\n",
              "      <td>Male</td>\n",
              "      <td>Australia</td>\n",
              "      <td>90000</td>\n",
              "      <td>IT</td>\n",
              "      <td>18</td>\n",
              "      <td>PhD</td>\n",
              "      <td>1620000</td>\n",
              "    </tr>\n",
              "    <tr>\n",
              "      <th>5th</th>\n",
              "      <td>Emily</td>\n",
              "      <td>29</td>\n",
              "      <td>Female</td>\n",
              "      <td>UK</td>\n",
              "      <td>60000</td>\n",
              "      <td>IT</td>\n",
              "      <td>6</td>\n",
              "      <td>Bachelor</td>\n",
              "      <td>360000</td>\n",
              "    </tr>\n",
              "    <tr>\n",
              "      <th>6th</th>\n",
              "      <td>Frank</td>\n",
              "      <td>36</td>\n",
              "      <td>Male</td>\n",
              "      <td>Canada</td>\n",
              "      <td>80000</td>\n",
              "      <td>HR</td>\n",
              "      <td>10</td>\n",
              "      <td>Master</td>\n",
              "      <td>800000</td>\n",
              "    </tr>\n",
              "    <tr>\n",
              "      <th>7th</th>\n",
              "      <td>George</td>\n",
              "      <td>21</td>\n",
              "      <td>Male</td>\n",
              "      <td>USA</td>\n",
              "      <td>55000</td>\n",
              "      <td>Marketing</td>\n",
              "      <td>2</td>\n",
              "      <td>Bachelor</td>\n",
              "      <td>110000</td>\n",
              "    </tr>\n",
              "    <tr>\n",
              "      <th>8th</th>\n",
              "      <td>Helen</td>\n",
              "      <td>45</td>\n",
              "      <td>Female</td>\n",
              "      <td>Australia</td>\n",
              "      <td>100000</td>\n",
              "      <td>IT</td>\n",
              "      <td>22</td>\n",
              "      <td>PhD</td>\n",
              "      <td>2200000</td>\n",
              "    </tr>\n",
              "    <tr>\n",
              "      <th>9th</th>\n",
              "      <td>Irene</td>\n",
              "      <td>28</td>\n",
              "      <td>Female</td>\n",
              "      <td>UK</td>\n",
              "      <td>65000</td>\n",
              "      <td>HR</td>\n",
              "      <td>5</td>\n",
              "      <td>Bachelor</td>\n",
              "      <td>325000</td>\n",
              "    </tr>\n",
              "    <tr>\n",
              "      <th>10th</th>\n",
              "      <td>Jack</td>\n",
              "      <td>33</td>\n",
              "      <td>Male</td>\n",
              "      <td>USA</td>\n",
              "      <td>70000</td>\n",
              "      <td>Finance</td>\n",
              "      <td>7</td>\n",
              "      <td>Master</td>\n",
              "      <td>490000</td>\n",
              "    </tr>\n",
              "  </tbody>\n",
              "</table>\n",
              "</div>"
            ],
            "text/plain": [
              "         Name  Age  Gender    Country  Salary Department  Years of Experience  \\\n",
              "3rd   Charlie   18    Male        USA   40000  Marketing                    1   \n",
              "4th     David   47    Male  Australia   90000         IT                   18   \n",
              "5th     Emily   29  Female         UK   60000         IT                    6   \n",
              "6th     Frank   36    Male     Canada   80000         HR                   10   \n",
              "7th    George   21    Male        USA   55000  Marketing                    2   \n",
              "8th     Helen   45  Female  Australia  100000         IT                   22   \n",
              "9th     Irene   28  Female         UK   65000         HR                    5   \n",
              "10th     Jack   33    Male        USA   70000    Finance                    7   \n",
              "\n",
              "     Education Level  Total_Income  \n",
              "3rd      High School         40000  \n",
              "4th              PhD       1620000  \n",
              "5th         Bachelor        360000  \n",
              "6th           Master        800000  \n",
              "7th         Bachelor        110000  \n",
              "8th              PhD       2200000  \n",
              "9th         Bachelor        325000  \n",
              "10th          Master        490000  "
            ]
          },
          "execution_count": 34,
          "metadata": {},
          "output_type": "execute_result"
        }
      ],
      "source": [
        "df.drop(['1st','2nd']) #to drop a row"
      ]
    },
    {
      "cell_type": "code",
      "execution_count": null,
      "id": "8d81d275",
      "metadata": {
        "id": "8d81d275",
        "outputId": "550eaafe-66cd-4311-dbdd-c8a1b3691919"
      },
      "outputs": [
        {
          "data": {
            "text/html": [
              "<div>\n",
              "<style scoped>\n",
              "    .dataframe tbody tr th:only-of-type {\n",
              "        vertical-align: middle;\n",
              "    }\n",
              "\n",
              "    .dataframe tbody tr th {\n",
              "        vertical-align: top;\n",
              "    }\n",
              "\n",
              "    .dataframe thead th {\n",
              "        text-align: right;\n",
              "    }\n",
              "</style>\n",
              "<table border=\"1\" class=\"dataframe\">\n",
              "  <thead>\n",
              "    <tr style=\"text-align: right;\">\n",
              "      <th></th>\n",
              "      <th>Name</th>\n",
              "      <th>Gender</th>\n",
              "      <th>Country</th>\n",
              "      <th>Salary</th>\n",
              "      <th>Department</th>\n",
              "      <th>Years of Experience</th>\n",
              "      <th>Education Level</th>\n",
              "      <th>Total_Income</th>\n",
              "    </tr>\n",
              "  </thead>\n",
              "  <tbody>\n",
              "    <tr>\n",
              "      <th>1st</th>\n",
              "      <td>Alice</td>\n",
              "      <td>Female</td>\n",
              "      <td>USA</td>\n",
              "      <td>50000</td>\n",
              "      <td>Marketing</td>\n",
              "      <td>3</td>\n",
              "      <td>Bachelor</td>\n",
              "      <td>150000</td>\n",
              "    </tr>\n",
              "    <tr>\n",
              "      <th>2nd</th>\n",
              "      <td>Bob</td>\n",
              "      <td>Male</td>\n",
              "      <td>Canada</td>\n",
              "      <td>75000</td>\n",
              "      <td>Finance</td>\n",
              "      <td>8</td>\n",
              "      <td>Master</td>\n",
              "      <td>600000</td>\n",
              "    </tr>\n",
              "    <tr>\n",
              "      <th>3rd</th>\n",
              "      <td>Charlie</td>\n",
              "      <td>Male</td>\n",
              "      <td>USA</td>\n",
              "      <td>40000</td>\n",
              "      <td>Marketing</td>\n",
              "      <td>1</td>\n",
              "      <td>High School</td>\n",
              "      <td>40000</td>\n",
              "    </tr>\n",
              "    <tr>\n",
              "      <th>4th</th>\n",
              "      <td>David</td>\n",
              "      <td>Male</td>\n",
              "      <td>Australia</td>\n",
              "      <td>90000</td>\n",
              "      <td>IT</td>\n",
              "      <td>18</td>\n",
              "      <td>PhD</td>\n",
              "      <td>1620000</td>\n",
              "    </tr>\n",
              "    <tr>\n",
              "      <th>5th</th>\n",
              "      <td>Emily</td>\n",
              "      <td>Female</td>\n",
              "      <td>UK</td>\n",
              "      <td>60000</td>\n",
              "      <td>IT</td>\n",
              "      <td>6</td>\n",
              "      <td>Bachelor</td>\n",
              "      <td>360000</td>\n",
              "    </tr>\n",
              "    <tr>\n",
              "      <th>6th</th>\n",
              "      <td>Frank</td>\n",
              "      <td>Male</td>\n",
              "      <td>Canada</td>\n",
              "      <td>80000</td>\n",
              "      <td>HR</td>\n",
              "      <td>10</td>\n",
              "      <td>Master</td>\n",
              "      <td>800000</td>\n",
              "    </tr>\n",
              "    <tr>\n",
              "      <th>7th</th>\n",
              "      <td>George</td>\n",
              "      <td>Male</td>\n",
              "      <td>USA</td>\n",
              "      <td>55000</td>\n",
              "      <td>Marketing</td>\n",
              "      <td>2</td>\n",
              "      <td>Bachelor</td>\n",
              "      <td>110000</td>\n",
              "    </tr>\n",
              "    <tr>\n",
              "      <th>8th</th>\n",
              "      <td>Helen</td>\n",
              "      <td>Female</td>\n",
              "      <td>Australia</td>\n",
              "      <td>100000</td>\n",
              "      <td>IT</td>\n",
              "      <td>22</td>\n",
              "      <td>PhD</td>\n",
              "      <td>2200000</td>\n",
              "    </tr>\n",
              "    <tr>\n",
              "      <th>9th</th>\n",
              "      <td>Irene</td>\n",
              "      <td>Female</td>\n",
              "      <td>UK</td>\n",
              "      <td>65000</td>\n",
              "      <td>HR</td>\n",
              "      <td>5</td>\n",
              "      <td>Bachelor</td>\n",
              "      <td>325000</td>\n",
              "    </tr>\n",
              "    <tr>\n",
              "      <th>10th</th>\n",
              "      <td>Jack</td>\n",
              "      <td>Male</td>\n",
              "      <td>USA</td>\n",
              "      <td>70000</td>\n",
              "      <td>Finance</td>\n",
              "      <td>7</td>\n",
              "      <td>Master</td>\n",
              "      <td>490000</td>\n",
              "    </tr>\n",
              "  </tbody>\n",
              "</table>\n",
              "</div>"
            ],
            "text/plain": [
              "         Name  Gender    Country  Salary Department  Years of Experience  \\\n",
              "1st     Alice  Female        USA   50000  Marketing                    3   \n",
              "2nd       Bob    Male     Canada   75000    Finance                    8   \n",
              "3rd   Charlie    Male        USA   40000  Marketing                    1   \n",
              "4th     David    Male  Australia   90000         IT                   18   \n",
              "5th     Emily  Female         UK   60000         IT                    6   \n",
              "6th     Frank    Male     Canada   80000         HR                   10   \n",
              "7th    George    Male        USA   55000  Marketing                    2   \n",
              "8th     Helen  Female  Australia  100000         IT                   22   \n",
              "9th     Irene  Female         UK   65000         HR                    5   \n",
              "10th     Jack    Male        USA   70000    Finance                    7   \n",
              "\n",
              "     Education Level  Total_Income  \n",
              "1st         Bachelor        150000  \n",
              "2nd           Master        600000  \n",
              "3rd      High School         40000  \n",
              "4th              PhD       1620000  \n",
              "5th         Bachelor        360000  \n",
              "6th           Master        800000  \n",
              "7th         Bachelor        110000  \n",
              "8th              PhD       2200000  \n",
              "9th         Bachelor        325000  \n",
              "10th          Master        490000  "
            ]
          },
          "execution_count": 35,
          "metadata": {},
          "output_type": "execute_result"
        }
      ],
      "source": [
        "df.drop(['Age'],axis=1) #To drop a column"
      ]
    },
    {
      "cell_type": "code",
      "execution_count": null,
      "id": "2ae79af5",
      "metadata": {
        "id": "2ae79af5",
        "outputId": "fb9f8777-0393-4dd7-ff9e-b1c93eeed7e0"
      },
      "outputs": [
        {
          "data": {
            "text/plain": [
              "685000"
            ]
          },
          "execution_count": 36,
          "metadata": {},
          "output_type": "execute_result"
        }
      ],
      "source": [
        "# Find the sum of values in a column\n",
        "df['Salary'].sum()"
      ]
    },
    {
      "cell_type": "code",
      "execution_count": null,
      "id": "6d5f7581",
      "metadata": {
        "id": "6d5f7581"
      },
      "outputs": [],
      "source": [
        "#set column as index column\n",
        "df.set_index('Name', inplace=True)"
      ]
    },
    {
      "cell_type": "code",
      "execution_count": null,
      "id": "5f523aaf",
      "metadata": {
        "id": "5f523aaf",
        "outputId": "90390e97-314b-42b8-fd12-64674627a685"
      },
      "outputs": [
        {
          "data": {
            "text/html": [
              "<div>\n",
              "<style scoped>\n",
              "    .dataframe tbody tr th:only-of-type {\n",
              "        vertical-align: middle;\n",
              "    }\n",
              "\n",
              "    .dataframe tbody tr th {\n",
              "        vertical-align: top;\n",
              "    }\n",
              "\n",
              "    .dataframe thead th {\n",
              "        text-align: right;\n",
              "    }\n",
              "</style>\n",
              "<table border=\"1\" class=\"dataframe\">\n",
              "  <thead>\n",
              "    <tr style=\"text-align: right;\">\n",
              "      <th></th>\n",
              "      <th>Age</th>\n",
              "      <th>Gender</th>\n",
              "      <th>Country</th>\n",
              "      <th>Salary</th>\n",
              "      <th>Department</th>\n",
              "      <th>Years of Experience</th>\n",
              "      <th>Education Level</th>\n",
              "      <th>Total_Income</th>\n",
              "    </tr>\n",
              "    <tr>\n",
              "      <th>Name</th>\n",
              "      <th></th>\n",
              "      <th></th>\n",
              "      <th></th>\n",
              "      <th></th>\n",
              "      <th></th>\n",
              "      <th></th>\n",
              "      <th></th>\n",
              "      <th></th>\n",
              "    </tr>\n",
              "  </thead>\n",
              "  <tbody>\n",
              "    <tr>\n",
              "      <th>Alice</th>\n",
              "      <td>25</td>\n",
              "      <td>Female</td>\n",
              "      <td>USA</td>\n",
              "      <td>50000</td>\n",
              "      <td>Marketing</td>\n",
              "      <td>3</td>\n",
              "      <td>Bachelor</td>\n",
              "      <td>150000</td>\n",
              "    </tr>\n",
              "    <tr>\n",
              "      <th>Bob</th>\n",
              "      <td>32</td>\n",
              "      <td>Male</td>\n",
              "      <td>Canada</td>\n",
              "      <td>75000</td>\n",
              "      <td>Finance</td>\n",
              "      <td>8</td>\n",
              "      <td>Master</td>\n",
              "      <td>600000</td>\n",
              "    </tr>\n",
              "    <tr>\n",
              "      <th>Charlie</th>\n",
              "      <td>18</td>\n",
              "      <td>Male</td>\n",
              "      <td>USA</td>\n",
              "      <td>40000</td>\n",
              "      <td>Marketing</td>\n",
              "      <td>1</td>\n",
              "      <td>High School</td>\n",
              "      <td>40000</td>\n",
              "    </tr>\n",
              "    <tr>\n",
              "      <th>David</th>\n",
              "      <td>47</td>\n",
              "      <td>Male</td>\n",
              "      <td>Australia</td>\n",
              "      <td>90000</td>\n",
              "      <td>IT</td>\n",
              "      <td>18</td>\n",
              "      <td>PhD</td>\n",
              "      <td>1620000</td>\n",
              "    </tr>\n",
              "    <tr>\n",
              "      <th>Emily</th>\n",
              "      <td>29</td>\n",
              "      <td>Female</td>\n",
              "      <td>UK</td>\n",
              "      <td>60000</td>\n",
              "      <td>IT</td>\n",
              "      <td>6</td>\n",
              "      <td>Bachelor</td>\n",
              "      <td>360000</td>\n",
              "    </tr>\n",
              "  </tbody>\n",
              "</table>\n",
              "</div>"
            ],
            "text/plain": [
              "         Age  Gender    Country  Salary Department  Years of Experience  \\\n",
              "Name                                                                      \n",
              "Alice     25  Female        USA   50000  Marketing                    3   \n",
              "Bob       32    Male     Canada   75000    Finance                    8   \n",
              "Charlie   18    Male        USA   40000  Marketing                    1   \n",
              "David     47    Male  Australia   90000         IT                   18   \n",
              "Emily     29  Female         UK   60000         IT                    6   \n",
              "\n",
              "        Education Level  Total_Income  \n",
              "Name                                   \n",
              "Alice          Bachelor        150000  \n",
              "Bob              Master        600000  \n",
              "Charlie     High School         40000  \n",
              "David               PhD       1620000  \n",
              "Emily          Bachelor        360000  "
            ]
          },
          "execution_count": 38,
          "metadata": {},
          "output_type": "execute_result"
        }
      ],
      "source": [
        "df.head()"
      ]
    },
    {
      "cell_type": "code",
      "execution_count": null,
      "id": "a1bdf59b",
      "metadata": {
        "id": "a1bdf59b",
        "outputId": "fa56241b-10ed-4182-db1a-679be23164cc"
      },
      "outputs": [
        {
          "data": {
            "text/html": [
              "<div>\n",
              "<style scoped>\n",
              "    .dataframe tbody tr th:only-of-type {\n",
              "        vertical-align: middle;\n",
              "    }\n",
              "\n",
              "    .dataframe tbody tr th {\n",
              "        vertical-align: top;\n",
              "    }\n",
              "\n",
              "    .dataframe thead th {\n",
              "        text-align: right;\n",
              "    }\n",
              "</style>\n",
              "<table border=\"1\" class=\"dataframe\">\n",
              "  <thead>\n",
              "    <tr style=\"text-align: right;\">\n",
              "      <th></th>\n",
              "      <th>Age</th>\n",
              "      <th>Gender</th>\n",
              "      <th>Country</th>\n",
              "      <th>Salary</th>\n",
              "      <th>Department</th>\n",
              "      <th>Years of Experience</th>\n",
              "      <th>Education Level</th>\n",
              "      <th>Total_Income</th>\n",
              "    </tr>\n",
              "    <tr>\n",
              "      <th>Name</th>\n",
              "      <th></th>\n",
              "      <th></th>\n",
              "      <th></th>\n",
              "      <th></th>\n",
              "      <th></th>\n",
              "      <th></th>\n",
              "      <th></th>\n",
              "      <th></th>\n",
              "    </tr>\n",
              "  </thead>\n",
              "  <tbody>\n",
              "    <tr>\n",
              "      <th>Bob</th>\n",
              "      <td>32</td>\n",
              "      <td>Male</td>\n",
              "      <td>Canada</td>\n",
              "      <td>75000</td>\n",
              "      <td>Finance</td>\n",
              "      <td>8</td>\n",
              "      <td>Master</td>\n",
              "      <td>600000</td>\n",
              "    </tr>\n",
              "  </tbody>\n",
              "</table>\n",
              "</div>"
            ],
            "text/plain": [
              "      Age Gender Country  Salary Department  Years of Experience  \\\n",
              "Name                                                               \n",
              "Bob    32   Male  Canada   75000    Finance                    8   \n",
              "\n",
              "     Education Level  Total_Income  \n",
              "Name                                \n",
              "Bob           Master        600000  "
            ]
          },
          "execution_count": 39,
          "metadata": {},
          "output_type": "execute_result"
        }
      ],
      "source": [
        "a=df[df['Age']==32]\n",
        "a"
      ]
    },
    {
      "cell_type": "markdown",
      "id": "395094e9",
      "metadata": {
        "id": "395094e9"
      },
      "source": [
        "apply() method applies a function to every row in a pandas dataframe"
      ]
    },
    {
      "cell_type": "code",
      "execution_count": null,
      "id": "bb40a7e3",
      "metadata": {
        "id": "bb40a7e3"
      },
      "outputs": [],
      "source": [
        "#uppercase\n",
        "def to_uppercase(column):\n",
        "    return column.upper()"
      ]
    },
    {
      "cell_type": "code",
      "execution_count": null,
      "id": "d3d747d7",
      "metadata": {
        "id": "d3d747d7"
      },
      "outputs": [],
      "source": [
        "df['Capital_Name']=df['Country'].apply(to_uppercase)"
      ]
    },
    {
      "cell_type": "code",
      "execution_count": null,
      "id": "92c2006f",
      "metadata": {
        "id": "92c2006f",
        "outputId": "fd24a977-f639-4270-e773-ba1abf8b0bcd"
      },
      "outputs": [
        {
          "data": {
            "text/html": [
              "<div>\n",
              "<style scoped>\n",
              "    .dataframe tbody tr th:only-of-type {\n",
              "        vertical-align: middle;\n",
              "    }\n",
              "\n",
              "    .dataframe tbody tr th {\n",
              "        vertical-align: top;\n",
              "    }\n",
              "\n",
              "    .dataframe thead th {\n",
              "        text-align: right;\n",
              "    }\n",
              "</style>\n",
              "<table border=\"1\" class=\"dataframe\">\n",
              "  <thead>\n",
              "    <tr style=\"text-align: right;\">\n",
              "      <th></th>\n",
              "      <th>Age</th>\n",
              "      <th>Gender</th>\n",
              "      <th>Country</th>\n",
              "      <th>Salary</th>\n",
              "      <th>Department</th>\n",
              "      <th>Years of Experience</th>\n",
              "      <th>Education Level</th>\n",
              "      <th>Total_Income</th>\n",
              "      <th>Capital_Name</th>\n",
              "    </tr>\n",
              "    <tr>\n",
              "      <th>Name</th>\n",
              "      <th></th>\n",
              "      <th></th>\n",
              "      <th></th>\n",
              "      <th></th>\n",
              "      <th></th>\n",
              "      <th></th>\n",
              "      <th></th>\n",
              "      <th></th>\n",
              "      <th></th>\n",
              "    </tr>\n",
              "  </thead>\n",
              "  <tbody>\n",
              "    <tr>\n",
              "      <th>Alice</th>\n",
              "      <td>25</td>\n",
              "      <td>Female</td>\n",
              "      <td>USA</td>\n",
              "      <td>50000</td>\n",
              "      <td>Marketing</td>\n",
              "      <td>3</td>\n",
              "      <td>Bachelor</td>\n",
              "      <td>150000</td>\n",
              "      <td>USA</td>\n",
              "    </tr>\n",
              "    <tr>\n",
              "      <th>Bob</th>\n",
              "      <td>32</td>\n",
              "      <td>Male</td>\n",
              "      <td>Canada</td>\n",
              "      <td>75000</td>\n",
              "      <td>Finance</td>\n",
              "      <td>8</td>\n",
              "      <td>Master</td>\n",
              "      <td>600000</td>\n",
              "      <td>CANADA</td>\n",
              "    </tr>\n",
              "    <tr>\n",
              "      <th>Charlie</th>\n",
              "      <td>18</td>\n",
              "      <td>Male</td>\n",
              "      <td>USA</td>\n",
              "      <td>40000</td>\n",
              "      <td>Marketing</td>\n",
              "      <td>1</td>\n",
              "      <td>High School</td>\n",
              "      <td>40000</td>\n",
              "      <td>USA</td>\n",
              "    </tr>\n",
              "    <tr>\n",
              "      <th>David</th>\n",
              "      <td>47</td>\n",
              "      <td>Male</td>\n",
              "      <td>Australia</td>\n",
              "      <td>90000</td>\n",
              "      <td>IT</td>\n",
              "      <td>18</td>\n",
              "      <td>PhD</td>\n",
              "      <td>1620000</td>\n",
              "      <td>AUSTRALIA</td>\n",
              "    </tr>\n",
              "    <tr>\n",
              "      <th>Emily</th>\n",
              "      <td>29</td>\n",
              "      <td>Female</td>\n",
              "      <td>UK</td>\n",
              "      <td>60000</td>\n",
              "      <td>IT</td>\n",
              "      <td>6</td>\n",
              "      <td>Bachelor</td>\n",
              "      <td>360000</td>\n",
              "      <td>UK</td>\n",
              "    </tr>\n",
              "  </tbody>\n",
              "</table>\n",
              "</div>"
            ],
            "text/plain": [
              "         Age  Gender    Country  Salary Department  Years of Experience  \\\n",
              "Name                                                                      \n",
              "Alice     25  Female        USA   50000  Marketing                    3   \n",
              "Bob       32    Male     Canada   75000    Finance                    8   \n",
              "Charlie   18    Male        USA   40000  Marketing                    1   \n",
              "David     47    Male  Australia   90000         IT                   18   \n",
              "Emily     29  Female         UK   60000         IT                    6   \n",
              "\n",
              "        Education Level  Total_Income Capital_Name  \n",
              "Name                                                \n",
              "Alice          Bachelor        150000          USA  \n",
              "Bob              Master        600000       CANADA  \n",
              "Charlie     High School         40000          USA  \n",
              "David               PhD       1620000    AUSTRALIA  \n",
              "Emily          Bachelor        360000           UK  "
            ]
          },
          "execution_count": 42,
          "metadata": {},
          "output_type": "execute_result"
        }
      ],
      "source": [
        "df.head()"
      ]
    },
    {
      "cell_type": "markdown",
      "id": "1abb55c1",
      "metadata": {
        "id": "1abb55c1"
      },
      "source": [
        "We can also sort our dataframe by some column values in either an ascending or descending order"
      ]
    },
    {
      "cell_type": "code",
      "execution_count": null,
      "id": "d11c0fd4",
      "metadata": {
        "id": "d11c0fd4",
        "outputId": "406625c6-49de-4693-9abd-a654d4a31dfc"
      },
      "outputs": [
        {
          "data": {
            "text/html": [
              "<div>\n",
              "<style scoped>\n",
              "    .dataframe tbody tr th:only-of-type {\n",
              "        vertical-align: middle;\n",
              "    }\n",
              "\n",
              "    .dataframe tbody tr th {\n",
              "        vertical-align: top;\n",
              "    }\n",
              "\n",
              "    .dataframe thead th {\n",
              "        text-align: right;\n",
              "    }\n",
              "</style>\n",
              "<table border=\"1\" class=\"dataframe\">\n",
              "  <thead>\n",
              "    <tr style=\"text-align: right;\">\n",
              "      <th></th>\n",
              "      <th>Age</th>\n",
              "      <th>Gender</th>\n",
              "      <th>Country</th>\n",
              "      <th>Salary</th>\n",
              "      <th>Department</th>\n",
              "      <th>Years of Experience</th>\n",
              "      <th>Education Level</th>\n",
              "      <th>Total_Income</th>\n",
              "      <th>Capital_Name</th>\n",
              "    </tr>\n",
              "    <tr>\n",
              "      <th>Name</th>\n",
              "      <th></th>\n",
              "      <th></th>\n",
              "      <th></th>\n",
              "      <th></th>\n",
              "      <th></th>\n",
              "      <th></th>\n",
              "      <th></th>\n",
              "      <th></th>\n",
              "      <th></th>\n",
              "    </tr>\n",
              "  </thead>\n",
              "  <tbody>\n",
              "    <tr>\n",
              "      <th>David</th>\n",
              "      <td>47</td>\n",
              "      <td>Male</td>\n",
              "      <td>Australia</td>\n",
              "      <td>90000</td>\n",
              "      <td>IT</td>\n",
              "      <td>18</td>\n",
              "      <td>PhD</td>\n",
              "      <td>1620000</td>\n",
              "      <td>AUSTRALIA</td>\n",
              "    </tr>\n",
              "    <tr>\n",
              "      <th>Helen</th>\n",
              "      <td>45</td>\n",
              "      <td>Female</td>\n",
              "      <td>Australia</td>\n",
              "      <td>100000</td>\n",
              "      <td>IT</td>\n",
              "      <td>22</td>\n",
              "      <td>PhD</td>\n",
              "      <td>2200000</td>\n",
              "      <td>AUSTRALIA</td>\n",
              "    </tr>\n",
              "    <tr>\n",
              "      <th>Frank</th>\n",
              "      <td>36</td>\n",
              "      <td>Male</td>\n",
              "      <td>Canada</td>\n",
              "      <td>80000</td>\n",
              "      <td>HR</td>\n",
              "      <td>10</td>\n",
              "      <td>Master</td>\n",
              "      <td>800000</td>\n",
              "      <td>CANADA</td>\n",
              "    </tr>\n",
              "    <tr>\n",
              "      <th>Jack</th>\n",
              "      <td>33</td>\n",
              "      <td>Male</td>\n",
              "      <td>USA</td>\n",
              "      <td>70000</td>\n",
              "      <td>Finance</td>\n",
              "      <td>7</td>\n",
              "      <td>Master</td>\n",
              "      <td>490000</td>\n",
              "      <td>USA</td>\n",
              "    </tr>\n",
              "    <tr>\n",
              "      <th>Bob</th>\n",
              "      <td>32</td>\n",
              "      <td>Male</td>\n",
              "      <td>Canada</td>\n",
              "      <td>75000</td>\n",
              "      <td>Finance</td>\n",
              "      <td>8</td>\n",
              "      <td>Master</td>\n",
              "      <td>600000</td>\n",
              "      <td>CANADA</td>\n",
              "    </tr>\n",
              "    <tr>\n",
              "      <th>Emily</th>\n",
              "      <td>29</td>\n",
              "      <td>Female</td>\n",
              "      <td>UK</td>\n",
              "      <td>60000</td>\n",
              "      <td>IT</td>\n",
              "      <td>6</td>\n",
              "      <td>Bachelor</td>\n",
              "      <td>360000</td>\n",
              "      <td>UK</td>\n",
              "    </tr>\n",
              "    <tr>\n",
              "      <th>Irene</th>\n",
              "      <td>28</td>\n",
              "      <td>Female</td>\n",
              "      <td>UK</td>\n",
              "      <td>65000</td>\n",
              "      <td>HR</td>\n",
              "      <td>5</td>\n",
              "      <td>Bachelor</td>\n",
              "      <td>325000</td>\n",
              "      <td>UK</td>\n",
              "    </tr>\n",
              "    <tr>\n",
              "      <th>Alice</th>\n",
              "      <td>25</td>\n",
              "      <td>Female</td>\n",
              "      <td>USA</td>\n",
              "      <td>50000</td>\n",
              "      <td>Marketing</td>\n",
              "      <td>3</td>\n",
              "      <td>Bachelor</td>\n",
              "      <td>150000</td>\n",
              "      <td>USA</td>\n",
              "    </tr>\n",
              "    <tr>\n",
              "      <th>George</th>\n",
              "      <td>21</td>\n",
              "      <td>Male</td>\n",
              "      <td>USA</td>\n",
              "      <td>55000</td>\n",
              "      <td>Marketing</td>\n",
              "      <td>2</td>\n",
              "      <td>Bachelor</td>\n",
              "      <td>110000</td>\n",
              "      <td>USA</td>\n",
              "    </tr>\n",
              "    <tr>\n",
              "      <th>Charlie</th>\n",
              "      <td>18</td>\n",
              "      <td>Male</td>\n",
              "      <td>USA</td>\n",
              "      <td>40000</td>\n",
              "      <td>Marketing</td>\n",
              "      <td>1</td>\n",
              "      <td>High School</td>\n",
              "      <td>40000</td>\n",
              "      <td>USA</td>\n",
              "    </tr>\n",
              "  </tbody>\n",
              "</table>\n",
              "</div>"
            ],
            "text/plain": [
              "         Age  Gender    Country  Salary Department  Years of Experience  \\\n",
              "Name                                                                      \n",
              "David     47    Male  Australia   90000         IT                   18   \n",
              "Helen     45  Female  Australia  100000         IT                   22   \n",
              "Frank     36    Male     Canada   80000         HR                   10   \n",
              "Jack      33    Male        USA   70000    Finance                    7   \n",
              "Bob       32    Male     Canada   75000    Finance                    8   \n",
              "Emily     29  Female         UK   60000         IT                    6   \n",
              "Irene     28  Female         UK   65000         HR                    5   \n",
              "Alice     25  Female        USA   50000  Marketing                    3   \n",
              "George    21    Male        USA   55000  Marketing                    2   \n",
              "Charlie   18    Male        USA   40000  Marketing                    1   \n",
              "\n",
              "        Education Level  Total_Income Capital_Name  \n",
              "Name                                                \n",
              "David               PhD       1620000    AUSTRALIA  \n",
              "Helen               PhD       2200000    AUSTRALIA  \n",
              "Frank            Master        800000       CANADA  \n",
              "Jack             Master        490000          USA  \n",
              "Bob              Master        600000       CANADA  \n",
              "Emily          Bachelor        360000           UK  \n",
              "Irene          Bachelor        325000           UK  \n",
              "Alice          Bachelor        150000          USA  \n",
              "George         Bachelor        110000          USA  \n",
              "Charlie     High School         40000          USA  "
            ]
          },
          "execution_count": 43,
          "metadata": {},
          "output_type": "execute_result"
        }
      ],
      "source": [
        "# Sort values in descending order\n",
        "df.sort_values('Age', ascending=False)"
      ]
    },
    {
      "cell_type": "code",
      "execution_count": null,
      "id": "9630a75f",
      "metadata": {
        "scrolled": true,
        "id": "9630a75f",
        "outputId": "ffab20f9-4db3-473b-aa79-20f99dc091fc"
      },
      "outputs": [
        {
          "data": {
            "text/html": [
              "<div>\n",
              "<style scoped>\n",
              "    .dataframe tbody tr th:only-of-type {\n",
              "        vertical-align: middle;\n",
              "    }\n",
              "\n",
              "    .dataframe tbody tr th {\n",
              "        vertical-align: top;\n",
              "    }\n",
              "\n",
              "    .dataframe thead th {\n",
              "        text-align: right;\n",
              "    }\n",
              "</style>\n",
              "<table border=\"1\" class=\"dataframe\">\n",
              "  <thead>\n",
              "    <tr style=\"text-align: right;\">\n",
              "      <th></th>\n",
              "      <th>Age</th>\n",
              "      <th>Gender</th>\n",
              "      <th>Country</th>\n",
              "      <th>Salary</th>\n",
              "      <th>Department</th>\n",
              "      <th>Years of Experience</th>\n",
              "      <th>Education Level</th>\n",
              "      <th>Total_Income</th>\n",
              "      <th>Capital_Name</th>\n",
              "    </tr>\n",
              "    <tr>\n",
              "      <th>Name</th>\n",
              "      <th></th>\n",
              "      <th></th>\n",
              "      <th></th>\n",
              "      <th></th>\n",
              "      <th></th>\n",
              "      <th></th>\n",
              "      <th></th>\n",
              "      <th></th>\n",
              "      <th></th>\n",
              "    </tr>\n",
              "  </thead>\n",
              "  <tbody>\n",
              "    <tr>\n",
              "      <th>David</th>\n",
              "      <td>47</td>\n",
              "      <td>Male</td>\n",
              "      <td>Australia</td>\n",
              "      <td>90000</td>\n",
              "      <td>IT</td>\n",
              "      <td>18</td>\n",
              "      <td>PhD</td>\n",
              "      <td>1620000</td>\n",
              "      <td>AUSTRALIA</td>\n",
              "    </tr>\n",
              "    <tr>\n",
              "      <th>Helen</th>\n",
              "      <td>45</td>\n",
              "      <td>Female</td>\n",
              "      <td>Australia</td>\n",
              "      <td>100000</td>\n",
              "      <td>IT</td>\n",
              "      <td>22</td>\n",
              "      <td>PhD</td>\n",
              "      <td>2200000</td>\n",
              "      <td>AUSTRALIA</td>\n",
              "    </tr>\n",
              "    <tr>\n",
              "      <th>Frank</th>\n",
              "      <td>36</td>\n",
              "      <td>Male</td>\n",
              "      <td>Canada</td>\n",
              "      <td>80000</td>\n",
              "      <td>HR</td>\n",
              "      <td>10</td>\n",
              "      <td>Master</td>\n",
              "      <td>800000</td>\n",
              "      <td>CANADA</td>\n",
              "    </tr>\n",
              "    <tr>\n",
              "      <th>Jack</th>\n",
              "      <td>33</td>\n",
              "      <td>Male</td>\n",
              "      <td>USA</td>\n",
              "      <td>70000</td>\n",
              "      <td>Finance</td>\n",
              "      <td>7</td>\n",
              "      <td>Master</td>\n",
              "      <td>490000</td>\n",
              "      <td>USA</td>\n",
              "    </tr>\n",
              "    <tr>\n",
              "      <th>Bob</th>\n",
              "      <td>32</td>\n",
              "      <td>Male</td>\n",
              "      <td>Canada</td>\n",
              "      <td>75000</td>\n",
              "      <td>Finance</td>\n",
              "      <td>8</td>\n",
              "      <td>Master</td>\n",
              "      <td>600000</td>\n",
              "      <td>CANADA</td>\n",
              "    </tr>\n",
              "  </tbody>\n",
              "</table>\n",
              "</div>"
            ],
            "text/plain": [
              "       Age  Gender    Country  Salary Department  Years of Experience  \\\n",
              "Name                                                                    \n",
              "David   47    Male  Australia   90000         IT                   18   \n",
              "Helen   45  Female  Australia  100000         IT                   22   \n",
              "Frank   36    Male     Canada   80000         HR                   10   \n",
              "Jack    33    Male        USA   70000    Finance                    7   \n",
              "Bob     32    Male     Canada   75000    Finance                    8   \n",
              "\n",
              "      Education Level  Total_Income Capital_Name  \n",
              "Name                                              \n",
              "David             PhD       1620000    AUSTRALIA  \n",
              "Helen             PhD       2200000    AUSTRALIA  \n",
              "Frank          Master        800000       CANADA  \n",
              "Jack           Master        490000          USA  \n",
              "Bob            Master        600000       CANADA  "
            ]
          },
          "execution_count": 44,
          "metadata": {},
          "output_type": "execute_result"
        }
      ],
      "source": [
        "# We can also sort by the combination of two columns\n",
        "df.sort_values(['Age','Salary'], ascending=[False,True]).head()"
      ]
    },
    {
      "cell_type": "code",
      "execution_count": null,
      "id": "3f29e81c",
      "metadata": {
        "id": "3f29e81c"
      },
      "outputs": [],
      "source": [
        "# Find the list of unique values in a column\n",
        "list(df['Country'].unique())"
      ]
    },
    {
      "cell_type": "code",
      "execution_count": null,
      "id": "c51917d2",
      "metadata": {
        "id": "c51917d2"
      },
      "outputs": [],
      "source": [
        "df['Country'].unique()"
      ]
    },
    {
      "cell_type": "code",
      "execution_count": null,
      "id": "2d79474d",
      "metadata": {
        "id": "2d79474d"
      },
      "outputs": [],
      "source": [
        "#df.columns=['N','A','B','C','D','E','F','G','H'] #rename of column\n",
        "df"
      ]
    },
    {
      "cell_type": "code",
      "execution_count": null,
      "id": "bdc8c016",
      "metadata": {
        "id": "bdc8c016",
        "outputId": "f31955b8-cacc-40cf-b0b6-24535329bfc1"
      },
      "outputs": [
        {
          "data": {
            "text/html": [
              "<div>\n",
              "<style scoped>\n",
              "    .dataframe tbody tr th:only-of-type {\n",
              "        vertical-align: middle;\n",
              "    }\n",
              "\n",
              "    .dataframe tbody tr th {\n",
              "        vertical-align: top;\n",
              "    }\n",
              "\n",
              "    .dataframe thead th {\n",
              "        text-align: right;\n",
              "    }\n",
              "</style>\n",
              "<table border=\"1\" class=\"dataframe\">\n",
              "  <thead>\n",
              "    <tr style=\"text-align: right;\">\n",
              "      <th></th>\n",
              "      <th>Age</th>\n",
              "      <th>Gender</th>\n",
              "      <th>Country</th>\n",
              "      <th>Salary</th>\n",
              "      <th>Department</th>\n",
              "      <th>Years of Experience</th>\n",
              "      <th>Education Level</th>\n",
              "      <th>Total_Income</th>\n",
              "      <th>Capital_Name</th>\n",
              "    </tr>\n",
              "    <tr>\n",
              "      <th>Name</th>\n",
              "      <th></th>\n",
              "      <th></th>\n",
              "      <th></th>\n",
              "      <th></th>\n",
              "      <th></th>\n",
              "      <th></th>\n",
              "      <th></th>\n",
              "      <th></th>\n",
              "      <th></th>\n",
              "    </tr>\n",
              "  </thead>\n",
              "  <tbody>\n",
              "    <tr>\n",
              "      <th>Alice</th>\n",
              "      <td>False</td>\n",
              "      <td>False</td>\n",
              "      <td>False</td>\n",
              "      <td>False</td>\n",
              "      <td>False</td>\n",
              "      <td>False</td>\n",
              "      <td>False</td>\n",
              "      <td>False</td>\n",
              "      <td>False</td>\n",
              "    </tr>\n",
              "    <tr>\n",
              "      <th>Bob</th>\n",
              "      <td>False</td>\n",
              "      <td>False</td>\n",
              "      <td>False</td>\n",
              "      <td>False</td>\n",
              "      <td>False</td>\n",
              "      <td>False</td>\n",
              "      <td>False</td>\n",
              "      <td>False</td>\n",
              "      <td>False</td>\n",
              "    </tr>\n",
              "    <tr>\n",
              "      <th>Charlie</th>\n",
              "      <td>False</td>\n",
              "      <td>False</td>\n",
              "      <td>False</td>\n",
              "      <td>False</td>\n",
              "      <td>False</td>\n",
              "      <td>False</td>\n",
              "      <td>False</td>\n",
              "      <td>False</td>\n",
              "      <td>False</td>\n",
              "    </tr>\n",
              "    <tr>\n",
              "      <th>David</th>\n",
              "      <td>False</td>\n",
              "      <td>False</td>\n",
              "      <td>False</td>\n",
              "      <td>False</td>\n",
              "      <td>False</td>\n",
              "      <td>False</td>\n",
              "      <td>False</td>\n",
              "      <td>False</td>\n",
              "      <td>False</td>\n",
              "    </tr>\n",
              "    <tr>\n",
              "      <th>Emily</th>\n",
              "      <td>False</td>\n",
              "      <td>False</td>\n",
              "      <td>False</td>\n",
              "      <td>False</td>\n",
              "      <td>False</td>\n",
              "      <td>False</td>\n",
              "      <td>False</td>\n",
              "      <td>False</td>\n",
              "      <td>False</td>\n",
              "    </tr>\n",
              "    <tr>\n",
              "      <th>Frank</th>\n",
              "      <td>False</td>\n",
              "      <td>False</td>\n",
              "      <td>False</td>\n",
              "      <td>False</td>\n",
              "      <td>False</td>\n",
              "      <td>False</td>\n",
              "      <td>False</td>\n",
              "      <td>False</td>\n",
              "      <td>False</td>\n",
              "    </tr>\n",
              "    <tr>\n",
              "      <th>George</th>\n",
              "      <td>False</td>\n",
              "      <td>False</td>\n",
              "      <td>False</td>\n",
              "      <td>False</td>\n",
              "      <td>False</td>\n",
              "      <td>False</td>\n",
              "      <td>False</td>\n",
              "      <td>False</td>\n",
              "      <td>False</td>\n",
              "    </tr>\n",
              "    <tr>\n",
              "      <th>Helen</th>\n",
              "      <td>False</td>\n",
              "      <td>False</td>\n",
              "      <td>False</td>\n",
              "      <td>False</td>\n",
              "      <td>False</td>\n",
              "      <td>False</td>\n",
              "      <td>False</td>\n",
              "      <td>False</td>\n",
              "      <td>False</td>\n",
              "    </tr>\n",
              "    <tr>\n",
              "      <th>Irene</th>\n",
              "      <td>False</td>\n",
              "      <td>False</td>\n",
              "      <td>False</td>\n",
              "      <td>False</td>\n",
              "      <td>False</td>\n",
              "      <td>False</td>\n",
              "      <td>False</td>\n",
              "      <td>False</td>\n",
              "      <td>False</td>\n",
              "    </tr>\n",
              "    <tr>\n",
              "      <th>Jack</th>\n",
              "      <td>False</td>\n",
              "      <td>False</td>\n",
              "      <td>False</td>\n",
              "      <td>False</td>\n",
              "      <td>False</td>\n",
              "      <td>False</td>\n",
              "      <td>False</td>\n",
              "      <td>False</td>\n",
              "      <td>False</td>\n",
              "    </tr>\n",
              "  </tbody>\n",
              "</table>\n",
              "</div>"
            ],
            "text/plain": [
              "           Age  Gender  Country  Salary  Department  Years of Experience  \\\n",
              "Name                                                                       \n",
              "Alice    False   False    False   False       False                False   \n",
              "Bob      False   False    False   False       False                False   \n",
              "Charlie  False   False    False   False       False                False   \n",
              "David    False   False    False   False       False                False   \n",
              "Emily    False   False    False   False       False                False   \n",
              "Frank    False   False    False   False       False                False   \n",
              "George   False   False    False   False       False                False   \n",
              "Helen    False   False    False   False       False                False   \n",
              "Irene    False   False    False   False       False                False   \n",
              "Jack     False   False    False   False       False                False   \n",
              "\n",
              "         Education Level  Total_Income  Capital_Name  \n",
              "Name                                                  \n",
              "Alice              False         False         False  \n",
              "Bob                False         False         False  \n",
              "Charlie            False         False         False  \n",
              "David              False         False         False  \n",
              "Emily              False         False         False  \n",
              "Frank              False         False         False  \n",
              "George             False         False         False  \n",
              "Helen              False         False         False  \n",
              "Irene              False         False         False  \n",
              "Jack               False         False         False  "
            ]
          },
          "execution_count": 45,
          "metadata": {},
          "output_type": "execute_result"
        }
      ],
      "source": [
        "df.isnull() #checks for null values, return boolean array"
      ]
    },
    {
      "cell_type": "code",
      "execution_count": null,
      "id": "b261398e",
      "metadata": {
        "id": "b261398e",
        "outputId": "5a16cd96-cf1c-4a74-c260-05f3398bba2e"
      },
      "outputs": [
        {
          "data": {
            "text/html": [
              "<div>\n",
              "<style scoped>\n",
              "    .dataframe tbody tr th:only-of-type {\n",
              "        vertical-align: middle;\n",
              "    }\n",
              "\n",
              "    .dataframe tbody tr th {\n",
              "        vertical-align: top;\n",
              "    }\n",
              "\n",
              "    .dataframe thead th {\n",
              "        text-align: right;\n",
              "    }\n",
              "</style>\n",
              "<table border=\"1\" class=\"dataframe\">\n",
              "  <thead>\n",
              "    <tr style=\"text-align: right;\">\n",
              "      <th></th>\n",
              "      <th>Age</th>\n",
              "      <th>Gender</th>\n",
              "      <th>Country</th>\n",
              "      <th>Salary</th>\n",
              "      <th>Department</th>\n",
              "      <th>Years of Experience</th>\n",
              "      <th>Education Level</th>\n",
              "      <th>Total_Income</th>\n",
              "      <th>Capital_Name</th>\n",
              "    </tr>\n",
              "    <tr>\n",
              "      <th>Name</th>\n",
              "      <th></th>\n",
              "      <th></th>\n",
              "      <th></th>\n",
              "      <th></th>\n",
              "      <th></th>\n",
              "      <th></th>\n",
              "      <th></th>\n",
              "      <th></th>\n",
              "      <th></th>\n",
              "    </tr>\n",
              "  </thead>\n",
              "  <tbody>\n",
              "    <tr>\n",
              "      <th>Alice</th>\n",
              "      <td>True</td>\n",
              "      <td>True</td>\n",
              "      <td>True</td>\n",
              "      <td>True</td>\n",
              "      <td>True</td>\n",
              "      <td>True</td>\n",
              "      <td>True</td>\n",
              "      <td>True</td>\n",
              "      <td>True</td>\n",
              "    </tr>\n",
              "    <tr>\n",
              "      <th>Bob</th>\n",
              "      <td>True</td>\n",
              "      <td>True</td>\n",
              "      <td>True</td>\n",
              "      <td>True</td>\n",
              "      <td>True</td>\n",
              "      <td>True</td>\n",
              "      <td>True</td>\n",
              "      <td>True</td>\n",
              "      <td>True</td>\n",
              "    </tr>\n",
              "    <tr>\n",
              "      <th>Charlie</th>\n",
              "      <td>True</td>\n",
              "      <td>True</td>\n",
              "      <td>True</td>\n",
              "      <td>True</td>\n",
              "      <td>True</td>\n",
              "      <td>True</td>\n",
              "      <td>True</td>\n",
              "      <td>True</td>\n",
              "      <td>True</td>\n",
              "    </tr>\n",
              "    <tr>\n",
              "      <th>David</th>\n",
              "      <td>True</td>\n",
              "      <td>True</td>\n",
              "      <td>True</td>\n",
              "      <td>True</td>\n",
              "      <td>True</td>\n",
              "      <td>True</td>\n",
              "      <td>True</td>\n",
              "      <td>True</td>\n",
              "      <td>True</td>\n",
              "    </tr>\n",
              "    <tr>\n",
              "      <th>Emily</th>\n",
              "      <td>True</td>\n",
              "      <td>True</td>\n",
              "      <td>True</td>\n",
              "      <td>True</td>\n",
              "      <td>True</td>\n",
              "      <td>True</td>\n",
              "      <td>True</td>\n",
              "      <td>True</td>\n",
              "      <td>True</td>\n",
              "    </tr>\n",
              "    <tr>\n",
              "      <th>Frank</th>\n",
              "      <td>True</td>\n",
              "      <td>True</td>\n",
              "      <td>True</td>\n",
              "      <td>True</td>\n",
              "      <td>True</td>\n",
              "      <td>True</td>\n",
              "      <td>True</td>\n",
              "      <td>True</td>\n",
              "      <td>True</td>\n",
              "    </tr>\n",
              "    <tr>\n",
              "      <th>George</th>\n",
              "      <td>True</td>\n",
              "      <td>True</td>\n",
              "      <td>True</td>\n",
              "      <td>True</td>\n",
              "      <td>True</td>\n",
              "      <td>True</td>\n",
              "      <td>True</td>\n",
              "      <td>True</td>\n",
              "      <td>True</td>\n",
              "    </tr>\n",
              "    <tr>\n",
              "      <th>Helen</th>\n",
              "      <td>True</td>\n",
              "      <td>True</td>\n",
              "      <td>True</td>\n",
              "      <td>True</td>\n",
              "      <td>True</td>\n",
              "      <td>True</td>\n",
              "      <td>True</td>\n",
              "      <td>True</td>\n",
              "      <td>True</td>\n",
              "    </tr>\n",
              "    <tr>\n",
              "      <th>Irene</th>\n",
              "      <td>True</td>\n",
              "      <td>True</td>\n",
              "      <td>True</td>\n",
              "      <td>True</td>\n",
              "      <td>True</td>\n",
              "      <td>True</td>\n",
              "      <td>True</td>\n",
              "      <td>True</td>\n",
              "      <td>True</td>\n",
              "    </tr>\n",
              "    <tr>\n",
              "      <th>Jack</th>\n",
              "      <td>True</td>\n",
              "      <td>True</td>\n",
              "      <td>True</td>\n",
              "      <td>True</td>\n",
              "      <td>True</td>\n",
              "      <td>True</td>\n",
              "      <td>True</td>\n",
              "      <td>True</td>\n",
              "      <td>True</td>\n",
              "    </tr>\n",
              "  </tbody>\n",
              "</table>\n",
              "</div>"
            ],
            "text/plain": [
              "          Age  Gender  Country  Salary  Department  Years of Experience  \\\n",
              "Name                                                                      \n",
              "Alice    True    True     True    True        True                 True   \n",
              "Bob      True    True     True    True        True                 True   \n",
              "Charlie  True    True     True    True        True                 True   \n",
              "David    True    True     True    True        True                 True   \n",
              "Emily    True    True     True    True        True                 True   \n",
              "Frank    True    True     True    True        True                 True   \n",
              "George   True    True     True    True        True                 True   \n",
              "Helen    True    True     True    True        True                 True   \n",
              "Irene    True    True     True    True        True                 True   \n",
              "Jack     True    True     True    True        True                 True   \n",
              "\n",
              "         Education Level  Total_Income  Capital_Name  \n",
              "Name                                                  \n",
              "Alice               True          True          True  \n",
              "Bob                 True          True          True  \n",
              "Charlie             True          True          True  \n",
              "David               True          True          True  \n",
              "Emily               True          True          True  \n",
              "Frank               True          True          True  \n",
              "George              True          True          True  \n",
              "Helen               True          True          True  \n",
              "Irene               True          True          True  \n",
              "Jack                True          True          True  "
            ]
          },
          "execution_count": 46,
          "metadata": {},
          "output_type": "execute_result"
        }
      ],
      "source": [
        "df.notnull() #opposite to isnull"
      ]
    },
    {
      "cell_type": "code",
      "execution_count": null,
      "id": "636b0949",
      "metadata": {
        "id": "636b0949",
        "outputId": "627347b3-fef4-4964-f79a-dba2d81c6635"
      },
      "outputs": [
        {
          "data": {
            "text/html": [
              "<div>\n",
              "<style scoped>\n",
              "    .dataframe tbody tr th:only-of-type {\n",
              "        vertical-align: middle;\n",
              "    }\n",
              "\n",
              "    .dataframe tbody tr th {\n",
              "        vertical-align: top;\n",
              "    }\n",
              "\n",
              "    .dataframe thead th {\n",
              "        text-align: right;\n",
              "    }\n",
              "</style>\n",
              "<table border=\"1\" class=\"dataframe\">\n",
              "  <thead>\n",
              "    <tr style=\"text-align: right;\">\n",
              "      <th></th>\n",
              "      <th>Age</th>\n",
              "      <th>Gender</th>\n",
              "      <th>Country</th>\n",
              "      <th>Salary</th>\n",
              "      <th>Department</th>\n",
              "      <th>Years of Experience</th>\n",
              "      <th>Education Level</th>\n",
              "      <th>Total_Income</th>\n",
              "      <th>Capital_Name</th>\n",
              "    </tr>\n",
              "    <tr>\n",
              "      <th>Name</th>\n",
              "      <th></th>\n",
              "      <th></th>\n",
              "      <th></th>\n",
              "      <th></th>\n",
              "      <th></th>\n",
              "      <th></th>\n",
              "      <th></th>\n",
              "      <th></th>\n",
              "      <th></th>\n",
              "    </tr>\n",
              "  </thead>\n",
              "  <tbody>\n",
              "    <tr>\n",
              "      <th>Alice</th>\n",
              "      <td>25</td>\n",
              "      <td>Female</td>\n",
              "      <td>USA</td>\n",
              "      <td>50000</td>\n",
              "      <td>Marketing</td>\n",
              "      <td>3</td>\n",
              "      <td>Bachelor</td>\n",
              "      <td>150000</td>\n",
              "      <td>USA</td>\n",
              "    </tr>\n",
              "    <tr>\n",
              "      <th>Bob</th>\n",
              "      <td>32</td>\n",
              "      <td>Male</td>\n",
              "      <td>Canada</td>\n",
              "      <td>75000</td>\n",
              "      <td>Finance</td>\n",
              "      <td>8</td>\n",
              "      <td>Master</td>\n",
              "      <td>600000</td>\n",
              "      <td>CANADA</td>\n",
              "    </tr>\n",
              "    <tr>\n",
              "      <th>Charlie</th>\n",
              "      <td>18</td>\n",
              "      <td>Male</td>\n",
              "      <td>USA</td>\n",
              "      <td>40000</td>\n",
              "      <td>Marketing</td>\n",
              "      <td>1</td>\n",
              "      <td>High School</td>\n",
              "      <td>40000</td>\n",
              "      <td>USA</td>\n",
              "    </tr>\n",
              "    <tr>\n",
              "      <th>David</th>\n",
              "      <td>47</td>\n",
              "      <td>Male</td>\n",
              "      <td>Australia</td>\n",
              "      <td>90000</td>\n",
              "      <td>IT</td>\n",
              "      <td>18</td>\n",
              "      <td>PhD</td>\n",
              "      <td>1620000</td>\n",
              "      <td>AUSTRALIA</td>\n",
              "    </tr>\n",
              "    <tr>\n",
              "      <th>Emily</th>\n",
              "      <td>29</td>\n",
              "      <td>Female</td>\n",
              "      <td>UK</td>\n",
              "      <td>60000</td>\n",
              "      <td>IT</td>\n",
              "      <td>6</td>\n",
              "      <td>Bachelor</td>\n",
              "      <td>360000</td>\n",
              "      <td>UK</td>\n",
              "    </tr>\n",
              "    <tr>\n",
              "      <th>Frank</th>\n",
              "      <td>36</td>\n",
              "      <td>Male</td>\n",
              "      <td>Canada</td>\n",
              "      <td>80000</td>\n",
              "      <td>HR</td>\n",
              "      <td>10</td>\n",
              "      <td>Master</td>\n",
              "      <td>800000</td>\n",
              "      <td>CANADA</td>\n",
              "    </tr>\n",
              "    <tr>\n",
              "      <th>George</th>\n",
              "      <td>21</td>\n",
              "      <td>Male</td>\n",
              "      <td>USA</td>\n",
              "      <td>55000</td>\n",
              "      <td>Marketing</td>\n",
              "      <td>2</td>\n",
              "      <td>Bachelor</td>\n",
              "      <td>110000</td>\n",
              "      <td>USA</td>\n",
              "    </tr>\n",
              "    <tr>\n",
              "      <th>Helen</th>\n",
              "      <td>45</td>\n",
              "      <td>Female</td>\n",
              "      <td>Australia</td>\n",
              "      <td>100000</td>\n",
              "      <td>IT</td>\n",
              "      <td>22</td>\n",
              "      <td>PhD</td>\n",
              "      <td>2200000</td>\n",
              "      <td>AUSTRALIA</td>\n",
              "    </tr>\n",
              "    <tr>\n",
              "      <th>Irene</th>\n",
              "      <td>28</td>\n",
              "      <td>Female</td>\n",
              "      <td>UK</td>\n",
              "      <td>65000</td>\n",
              "      <td>HR</td>\n",
              "      <td>5</td>\n",
              "      <td>Bachelor</td>\n",
              "      <td>325000</td>\n",
              "      <td>UK</td>\n",
              "    </tr>\n",
              "    <tr>\n",
              "      <th>Jack</th>\n",
              "      <td>33</td>\n",
              "      <td>Male</td>\n",
              "      <td>USA</td>\n",
              "      <td>70000</td>\n",
              "      <td>Finance</td>\n",
              "      <td>7</td>\n",
              "      <td>Master</td>\n",
              "      <td>490000</td>\n",
              "      <td>USA</td>\n",
              "    </tr>\n",
              "  </tbody>\n",
              "</table>\n",
              "</div>"
            ],
            "text/plain": [
              "         Age  Gender    Country  Salary Department  Years of Experience  \\\n",
              "Name                                                                      \n",
              "Alice     25  Female        USA   50000  Marketing                    3   \n",
              "Bob       32    Male     Canada   75000    Finance                    8   \n",
              "Charlie   18    Male        USA   40000  Marketing                    1   \n",
              "David     47    Male  Australia   90000         IT                   18   \n",
              "Emily     29  Female         UK   60000         IT                    6   \n",
              "Frank     36    Male     Canada   80000         HR                   10   \n",
              "George    21    Male        USA   55000  Marketing                    2   \n",
              "Helen     45  Female  Australia  100000         IT                   22   \n",
              "Irene     28  Female         UK   65000         HR                    5   \n",
              "Jack      33    Male        USA   70000    Finance                    7   \n",
              "\n",
              "        Education Level  Total_Income Capital_Name  \n",
              "Name                                                \n",
              "Alice          Bachelor        150000          USA  \n",
              "Bob              Master        600000       CANADA  \n",
              "Charlie     High School         40000          USA  \n",
              "David               PhD       1620000    AUSTRALIA  \n",
              "Emily          Bachelor        360000           UK  \n",
              "Frank            Master        800000       CANADA  \n",
              "George         Bachelor        110000          USA  \n",
              "Helen               PhD       2200000    AUSTRALIA  \n",
              "Irene          Bachelor        325000           UK  \n",
              "Jack             Master        490000          USA  "
            ]
          },
          "execution_count": 47,
          "metadata": {},
          "output_type": "execute_result"
        }
      ],
      "source": [
        "df.dropna() #drop all rows contain null values"
      ]
    },
    {
      "cell_type": "code",
      "execution_count": null,
      "id": "ebf858c0",
      "metadata": {
        "id": "ebf858c0",
        "outputId": "1c776eff-c81c-45ff-d426-39ff3a81ea2b"
      },
      "outputs": [
        {
          "data": {
            "text/html": [
              "<div>\n",
              "<style scoped>\n",
              "    .dataframe tbody tr th:only-of-type {\n",
              "        vertical-align: middle;\n",
              "    }\n",
              "\n",
              "    .dataframe tbody tr th {\n",
              "        vertical-align: top;\n",
              "    }\n",
              "\n",
              "    .dataframe thead th {\n",
              "        text-align: right;\n",
              "    }\n",
              "</style>\n",
              "<table border=\"1\" class=\"dataframe\">\n",
              "  <thead>\n",
              "    <tr style=\"text-align: right;\">\n",
              "      <th></th>\n",
              "      <th>Age</th>\n",
              "      <th>Gender</th>\n",
              "      <th>Country</th>\n",
              "      <th>Salary</th>\n",
              "      <th>Department</th>\n",
              "      <th>Years of Experience</th>\n",
              "      <th>Education Level</th>\n",
              "      <th>Total_Income</th>\n",
              "      <th>Capital_Name</th>\n",
              "    </tr>\n",
              "    <tr>\n",
              "      <th>Name</th>\n",
              "      <th></th>\n",
              "      <th></th>\n",
              "      <th></th>\n",
              "      <th></th>\n",
              "      <th></th>\n",
              "      <th></th>\n",
              "      <th></th>\n",
              "      <th></th>\n",
              "      <th></th>\n",
              "    </tr>\n",
              "  </thead>\n",
              "  <tbody>\n",
              "    <tr>\n",
              "      <th>Alice</th>\n",
              "      <td>25</td>\n",
              "      <td>Female</td>\n",
              "      <td>USA</td>\n",
              "      <td>50000</td>\n",
              "      <td>Marketing</td>\n",
              "      <td>3</td>\n",
              "      <td>Bachelor</td>\n",
              "      <td>150000</td>\n",
              "      <td>USA</td>\n",
              "    </tr>\n",
              "    <tr>\n",
              "      <th>Bob</th>\n",
              "      <td>32</td>\n",
              "      <td>Male</td>\n",
              "      <td>Canada</td>\n",
              "      <td>75000</td>\n",
              "      <td>Finance</td>\n",
              "      <td>8</td>\n",
              "      <td>Master</td>\n",
              "      <td>600000</td>\n",
              "      <td>CANADA</td>\n",
              "    </tr>\n",
              "    <tr>\n",
              "      <th>Charlie</th>\n",
              "      <td>18</td>\n",
              "      <td>Male</td>\n",
              "      <td>USA</td>\n",
              "      <td>40000</td>\n",
              "      <td>Marketing</td>\n",
              "      <td>1</td>\n",
              "      <td>High School</td>\n",
              "      <td>40000</td>\n",
              "      <td>USA</td>\n",
              "    </tr>\n",
              "    <tr>\n",
              "      <th>David</th>\n",
              "      <td>47</td>\n",
              "      <td>Male</td>\n",
              "      <td>Australia</td>\n",
              "      <td>90000</td>\n",
              "      <td>IT</td>\n",
              "      <td>18</td>\n",
              "      <td>PhD</td>\n",
              "      <td>1620000</td>\n",
              "      <td>AUSTRALIA</td>\n",
              "    </tr>\n",
              "    <tr>\n",
              "      <th>Emily</th>\n",
              "      <td>29</td>\n",
              "      <td>Female</td>\n",
              "      <td>UK</td>\n",
              "      <td>60000</td>\n",
              "      <td>IT</td>\n",
              "      <td>6</td>\n",
              "      <td>Bachelor</td>\n",
              "      <td>360000</td>\n",
              "      <td>UK</td>\n",
              "    </tr>\n",
              "    <tr>\n",
              "      <th>Frank</th>\n",
              "      <td>36</td>\n",
              "      <td>Male</td>\n",
              "      <td>Canada</td>\n",
              "      <td>80000</td>\n",
              "      <td>HR</td>\n",
              "      <td>10</td>\n",
              "      <td>Master</td>\n",
              "      <td>800000</td>\n",
              "      <td>CANADA</td>\n",
              "    </tr>\n",
              "    <tr>\n",
              "      <th>George</th>\n",
              "      <td>21</td>\n",
              "      <td>Male</td>\n",
              "      <td>USA</td>\n",
              "      <td>55000</td>\n",
              "      <td>Marketing</td>\n",
              "      <td>2</td>\n",
              "      <td>Bachelor</td>\n",
              "      <td>110000</td>\n",
              "      <td>USA</td>\n",
              "    </tr>\n",
              "    <tr>\n",
              "      <th>Helen</th>\n",
              "      <td>45</td>\n",
              "      <td>Female</td>\n",
              "      <td>Australia</td>\n",
              "      <td>100000</td>\n",
              "      <td>IT</td>\n",
              "      <td>22</td>\n",
              "      <td>PhD</td>\n",
              "      <td>2200000</td>\n",
              "      <td>AUSTRALIA</td>\n",
              "    </tr>\n",
              "    <tr>\n",
              "      <th>Irene</th>\n",
              "      <td>28</td>\n",
              "      <td>Female</td>\n",
              "      <td>UK</td>\n",
              "      <td>65000</td>\n",
              "      <td>HR</td>\n",
              "      <td>5</td>\n",
              "      <td>Bachelor</td>\n",
              "      <td>325000</td>\n",
              "      <td>UK</td>\n",
              "    </tr>\n",
              "    <tr>\n",
              "      <th>Jack</th>\n",
              "      <td>33</td>\n",
              "      <td>Male</td>\n",
              "      <td>USA</td>\n",
              "      <td>70000</td>\n",
              "      <td>Finance</td>\n",
              "      <td>7</td>\n",
              "      <td>Master</td>\n",
              "      <td>490000</td>\n",
              "      <td>USA</td>\n",
              "    </tr>\n",
              "  </tbody>\n",
              "</table>\n",
              "</div>"
            ],
            "text/plain": [
              "         Age  Gender    Country  Salary Department  Years of Experience  \\\n",
              "Name                                                                      \n",
              "Alice     25  Female        USA   50000  Marketing                    3   \n",
              "Bob       32    Male     Canada   75000    Finance                    8   \n",
              "Charlie   18    Male        USA   40000  Marketing                    1   \n",
              "David     47    Male  Australia   90000         IT                   18   \n",
              "Emily     29  Female         UK   60000         IT                    6   \n",
              "Frank     36    Male     Canada   80000         HR                   10   \n",
              "George    21    Male        USA   55000  Marketing                    2   \n",
              "Helen     45  Female  Australia  100000         IT                   22   \n",
              "Irene     28  Female         UK   65000         HR                    5   \n",
              "Jack      33    Male        USA   70000    Finance                    7   \n",
              "\n",
              "        Education Level  Total_Income Capital_Name  \n",
              "Name                                                \n",
              "Alice          Bachelor        150000          USA  \n",
              "Bob              Master        600000       CANADA  \n",
              "Charlie     High School         40000          USA  \n",
              "David               PhD       1620000    AUSTRALIA  \n",
              "Emily          Bachelor        360000           UK  \n",
              "Frank            Master        800000       CANADA  \n",
              "George         Bachelor        110000          USA  \n",
              "Helen               PhD       2200000    AUSTRALIA  \n",
              "Irene          Bachelor        325000           UK  \n",
              "Jack             Master        490000          USA  "
            ]
          },
          "execution_count": 48,
          "metadata": {},
          "output_type": "execute_result"
        }
      ],
      "source": [
        "df.dropna(axis=1) #drop all columns contain null values"
      ]
    },
    {
      "cell_type": "code",
      "execution_count": null,
      "id": "6bd12c51",
      "metadata": {
        "id": "6bd12c51",
        "outputId": "5d4cb1dd-4d35-4fbb-db5a-e3dd0a4b8ba7"
      },
      "outputs": [
        {
          "data": {
            "text/html": [
              "<div>\n",
              "<style scoped>\n",
              "    .dataframe tbody tr th:only-of-type {\n",
              "        vertical-align: middle;\n",
              "    }\n",
              "\n",
              "    .dataframe tbody tr th {\n",
              "        vertical-align: top;\n",
              "    }\n",
              "\n",
              "    .dataframe thead th {\n",
              "        text-align: right;\n",
              "    }\n",
              "</style>\n",
              "<table border=\"1\" class=\"dataframe\">\n",
              "  <thead>\n",
              "    <tr style=\"text-align: right;\">\n",
              "      <th></th>\n",
              "      <th>Age</th>\n",
              "      <th>Gender</th>\n",
              "      <th>Country</th>\n",
              "      <th>Salary</th>\n",
              "      <th>Department</th>\n",
              "      <th>Years of Experience</th>\n",
              "      <th>Education Level</th>\n",
              "      <th>Total_Income</th>\n",
              "      <th>Capital_Name</th>\n",
              "    </tr>\n",
              "    <tr>\n",
              "      <th>Name</th>\n",
              "      <th></th>\n",
              "      <th></th>\n",
              "      <th></th>\n",
              "      <th></th>\n",
              "      <th></th>\n",
              "      <th></th>\n",
              "      <th></th>\n",
              "      <th></th>\n",
              "      <th></th>\n",
              "    </tr>\n",
              "  </thead>\n",
              "  <tbody>\n",
              "    <tr>\n",
              "      <th>Alice</th>\n",
              "      <td>25</td>\n",
              "      <td>Female</td>\n",
              "      <td>USA</td>\n",
              "      <td>50000</td>\n",
              "      <td>Marketing</td>\n",
              "      <td>3</td>\n",
              "      <td>Bachelor</td>\n",
              "      <td>150000</td>\n",
              "      <td>USA</td>\n",
              "    </tr>\n",
              "    <tr>\n",
              "      <th>Bob</th>\n",
              "      <td>32</td>\n",
              "      <td>Male</td>\n",
              "      <td>Canada</td>\n",
              "      <td>75000</td>\n",
              "      <td>Finance</td>\n",
              "      <td>8</td>\n",
              "      <td>Master</td>\n",
              "      <td>600000</td>\n",
              "      <td>CANADA</td>\n",
              "    </tr>\n",
              "    <tr>\n",
              "      <th>Charlie</th>\n",
              "      <td>18</td>\n",
              "      <td>Male</td>\n",
              "      <td>USA</td>\n",
              "      <td>40000</td>\n",
              "      <td>Marketing</td>\n",
              "      <td>1</td>\n",
              "      <td>High School</td>\n",
              "      <td>40000</td>\n",
              "      <td>USA</td>\n",
              "    </tr>\n",
              "    <tr>\n",
              "      <th>David</th>\n",
              "      <td>47</td>\n",
              "      <td>Male</td>\n",
              "      <td>Australia</td>\n",
              "      <td>90000</td>\n",
              "      <td>IT</td>\n",
              "      <td>18</td>\n",
              "      <td>PhD</td>\n",
              "      <td>1620000</td>\n",
              "      <td>AUSTRALIA</td>\n",
              "    </tr>\n",
              "    <tr>\n",
              "      <th>Emily</th>\n",
              "      <td>29</td>\n",
              "      <td>Female</td>\n",
              "      <td>UK</td>\n",
              "      <td>60000</td>\n",
              "      <td>IT</td>\n",
              "      <td>6</td>\n",
              "      <td>Bachelor</td>\n",
              "      <td>360000</td>\n",
              "      <td>UK</td>\n",
              "    </tr>\n",
              "    <tr>\n",
              "      <th>Frank</th>\n",
              "      <td>36</td>\n",
              "      <td>Male</td>\n",
              "      <td>Canada</td>\n",
              "      <td>80000</td>\n",
              "      <td>HR</td>\n",
              "      <td>10</td>\n",
              "      <td>Master</td>\n",
              "      <td>800000</td>\n",
              "      <td>CANADA</td>\n",
              "    </tr>\n",
              "    <tr>\n",
              "      <th>George</th>\n",
              "      <td>21</td>\n",
              "      <td>Male</td>\n",
              "      <td>USA</td>\n",
              "      <td>55000</td>\n",
              "      <td>Marketing</td>\n",
              "      <td>2</td>\n",
              "      <td>Bachelor</td>\n",
              "      <td>110000</td>\n",
              "      <td>USA</td>\n",
              "    </tr>\n",
              "    <tr>\n",
              "      <th>Helen</th>\n",
              "      <td>45</td>\n",
              "      <td>Female</td>\n",
              "      <td>Australia</td>\n",
              "      <td>100000</td>\n",
              "      <td>IT</td>\n",
              "      <td>22</td>\n",
              "      <td>PhD</td>\n",
              "      <td>2200000</td>\n",
              "      <td>AUSTRALIA</td>\n",
              "    </tr>\n",
              "    <tr>\n",
              "      <th>Irene</th>\n",
              "      <td>28</td>\n",
              "      <td>Female</td>\n",
              "      <td>UK</td>\n",
              "      <td>65000</td>\n",
              "      <td>HR</td>\n",
              "      <td>5</td>\n",
              "      <td>Bachelor</td>\n",
              "      <td>325000</td>\n",
              "      <td>UK</td>\n",
              "    </tr>\n",
              "    <tr>\n",
              "      <th>Jack</th>\n",
              "      <td>33</td>\n",
              "      <td>Male</td>\n",
              "      <td>USA</td>\n",
              "      <td>70000</td>\n",
              "      <td>Finance</td>\n",
              "      <td>7</td>\n",
              "      <td>Master</td>\n",
              "      <td>490000</td>\n",
              "      <td>USA</td>\n",
              "    </tr>\n",
              "  </tbody>\n",
              "</table>\n",
              "</div>"
            ],
            "text/plain": [
              "         Age  Gender    Country  Salary Department  Years of Experience  \\\n",
              "Name                                                                      \n",
              "Alice     25  Female        USA   50000  Marketing                    3   \n",
              "Bob       32    Male     Canada   75000    Finance                    8   \n",
              "Charlie   18    Male        USA   40000  Marketing                    1   \n",
              "David     47    Male  Australia   90000         IT                   18   \n",
              "Emily     29  Female         UK   60000         IT                    6   \n",
              "Frank     36    Male     Canada   80000         HR                   10   \n",
              "George    21    Male        USA   55000  Marketing                    2   \n",
              "Helen     45  Female  Australia  100000         IT                   22   \n",
              "Irene     28  Female         UK   65000         HR                    5   \n",
              "Jack      33    Male        USA   70000    Finance                    7   \n",
              "\n",
              "        Education Level  Total_Income Capital_Name  \n",
              "Name                                                \n",
              "Alice          Bachelor        150000          USA  \n",
              "Bob              Master        600000       CANADA  \n",
              "Charlie     High School         40000          USA  \n",
              "David               PhD       1620000    AUSTRALIA  \n",
              "Emily          Bachelor        360000           UK  \n",
              "Frank            Master        800000       CANADA  \n",
              "George         Bachelor        110000          USA  \n",
              "Helen               PhD       2200000    AUSTRALIA  \n",
              "Irene          Bachelor        325000           UK  \n",
              "Jack             Master        490000          USA  "
            ]
          },
          "execution_count": 49,
          "metadata": {},
          "output_type": "execute_result"
        }
      ],
      "source": [
        "df.dropna(axis=1,thresh=1) #drop all columns contain null values less than n"
      ]
    },
    {
      "cell_type": "code",
      "execution_count": null,
      "id": "b1cb2b5f",
      "metadata": {
        "id": "b1cb2b5f",
        "outputId": "715608a5-88bb-4e35-f2b4-50eab0119f8b"
      },
      "outputs": [
        {
          "name": "stderr",
          "output_type": "stream",
          "text": [
            "C:\\Users\\RANJIT\\AppData\\Local\\Temp\\ipykernel_132488\\234936199.py:1: FutureWarning: Dropping of nuisance columns in DataFrame reductions (with 'numeric_only=None') is deprecated; in a future version this will raise TypeError.  Select only valid columns before calling the reduction.\n",
            "  df.fillna(df.mean()) #replace all null values with mean\n"
          ]
        },
        {
          "data": {
            "text/html": [
              "<div>\n",
              "<style scoped>\n",
              "    .dataframe tbody tr th:only-of-type {\n",
              "        vertical-align: middle;\n",
              "    }\n",
              "\n",
              "    .dataframe tbody tr th {\n",
              "        vertical-align: top;\n",
              "    }\n",
              "\n",
              "    .dataframe thead th {\n",
              "        text-align: right;\n",
              "    }\n",
              "</style>\n",
              "<table border=\"1\" class=\"dataframe\">\n",
              "  <thead>\n",
              "    <tr style=\"text-align: right;\">\n",
              "      <th></th>\n",
              "      <th>Age</th>\n",
              "      <th>Gender</th>\n",
              "      <th>Country</th>\n",
              "      <th>Salary</th>\n",
              "      <th>Department</th>\n",
              "      <th>Years of Experience</th>\n",
              "      <th>Education Level</th>\n",
              "      <th>Total_Income</th>\n",
              "      <th>Capital_Name</th>\n",
              "    </tr>\n",
              "    <tr>\n",
              "      <th>Name</th>\n",
              "      <th></th>\n",
              "      <th></th>\n",
              "      <th></th>\n",
              "      <th></th>\n",
              "      <th></th>\n",
              "      <th></th>\n",
              "      <th></th>\n",
              "      <th></th>\n",
              "      <th></th>\n",
              "    </tr>\n",
              "  </thead>\n",
              "  <tbody>\n",
              "    <tr>\n",
              "      <th>Alice</th>\n",
              "      <td>25</td>\n",
              "      <td>Female</td>\n",
              "      <td>USA</td>\n",
              "      <td>50000</td>\n",
              "      <td>Marketing</td>\n",
              "      <td>3</td>\n",
              "      <td>Bachelor</td>\n",
              "      <td>150000</td>\n",
              "      <td>USA</td>\n",
              "    </tr>\n",
              "    <tr>\n",
              "      <th>Bob</th>\n",
              "      <td>32</td>\n",
              "      <td>Male</td>\n",
              "      <td>Canada</td>\n",
              "      <td>75000</td>\n",
              "      <td>Finance</td>\n",
              "      <td>8</td>\n",
              "      <td>Master</td>\n",
              "      <td>600000</td>\n",
              "      <td>CANADA</td>\n",
              "    </tr>\n",
              "    <tr>\n",
              "      <th>Charlie</th>\n",
              "      <td>18</td>\n",
              "      <td>Male</td>\n",
              "      <td>USA</td>\n",
              "      <td>40000</td>\n",
              "      <td>Marketing</td>\n",
              "      <td>1</td>\n",
              "      <td>High School</td>\n",
              "      <td>40000</td>\n",
              "      <td>USA</td>\n",
              "    </tr>\n",
              "    <tr>\n",
              "      <th>David</th>\n",
              "      <td>47</td>\n",
              "      <td>Male</td>\n",
              "      <td>Australia</td>\n",
              "      <td>90000</td>\n",
              "      <td>IT</td>\n",
              "      <td>18</td>\n",
              "      <td>PhD</td>\n",
              "      <td>1620000</td>\n",
              "      <td>AUSTRALIA</td>\n",
              "    </tr>\n",
              "    <tr>\n",
              "      <th>Emily</th>\n",
              "      <td>29</td>\n",
              "      <td>Female</td>\n",
              "      <td>UK</td>\n",
              "      <td>60000</td>\n",
              "      <td>IT</td>\n",
              "      <td>6</td>\n",
              "      <td>Bachelor</td>\n",
              "      <td>360000</td>\n",
              "      <td>UK</td>\n",
              "    </tr>\n",
              "    <tr>\n",
              "      <th>Frank</th>\n",
              "      <td>36</td>\n",
              "      <td>Male</td>\n",
              "      <td>Canada</td>\n",
              "      <td>80000</td>\n",
              "      <td>HR</td>\n",
              "      <td>10</td>\n",
              "      <td>Master</td>\n",
              "      <td>800000</td>\n",
              "      <td>CANADA</td>\n",
              "    </tr>\n",
              "    <tr>\n",
              "      <th>George</th>\n",
              "      <td>21</td>\n",
              "      <td>Male</td>\n",
              "      <td>USA</td>\n",
              "      <td>55000</td>\n",
              "      <td>Marketing</td>\n",
              "      <td>2</td>\n",
              "      <td>Bachelor</td>\n",
              "      <td>110000</td>\n",
              "      <td>USA</td>\n",
              "    </tr>\n",
              "    <tr>\n",
              "      <th>Helen</th>\n",
              "      <td>45</td>\n",
              "      <td>Female</td>\n",
              "      <td>Australia</td>\n",
              "      <td>100000</td>\n",
              "      <td>IT</td>\n",
              "      <td>22</td>\n",
              "      <td>PhD</td>\n",
              "      <td>2200000</td>\n",
              "      <td>AUSTRALIA</td>\n",
              "    </tr>\n",
              "    <tr>\n",
              "      <th>Irene</th>\n",
              "      <td>28</td>\n",
              "      <td>Female</td>\n",
              "      <td>UK</td>\n",
              "      <td>65000</td>\n",
              "      <td>HR</td>\n",
              "      <td>5</td>\n",
              "      <td>Bachelor</td>\n",
              "      <td>325000</td>\n",
              "      <td>UK</td>\n",
              "    </tr>\n",
              "    <tr>\n",
              "      <th>Jack</th>\n",
              "      <td>33</td>\n",
              "      <td>Male</td>\n",
              "      <td>USA</td>\n",
              "      <td>70000</td>\n",
              "      <td>Finance</td>\n",
              "      <td>7</td>\n",
              "      <td>Master</td>\n",
              "      <td>490000</td>\n",
              "      <td>USA</td>\n",
              "    </tr>\n",
              "  </tbody>\n",
              "</table>\n",
              "</div>"
            ],
            "text/plain": [
              "         Age  Gender    Country  Salary Department  Years of Experience  \\\n",
              "Name                                                                      \n",
              "Alice     25  Female        USA   50000  Marketing                    3   \n",
              "Bob       32    Male     Canada   75000    Finance                    8   \n",
              "Charlie   18    Male        USA   40000  Marketing                    1   \n",
              "David     47    Male  Australia   90000         IT                   18   \n",
              "Emily     29  Female         UK   60000         IT                    6   \n",
              "Frank     36    Male     Canada   80000         HR                   10   \n",
              "George    21    Male        USA   55000  Marketing                    2   \n",
              "Helen     45  Female  Australia  100000         IT                   22   \n",
              "Irene     28  Female         UK   65000         HR                    5   \n",
              "Jack      33    Male        USA   70000    Finance                    7   \n",
              "\n",
              "        Education Level  Total_Income Capital_Name  \n",
              "Name                                                \n",
              "Alice          Bachelor        150000          USA  \n",
              "Bob              Master        600000       CANADA  \n",
              "Charlie     High School         40000          USA  \n",
              "David               PhD       1620000    AUSTRALIA  \n",
              "Emily          Bachelor        360000           UK  \n",
              "Frank            Master        800000       CANADA  \n",
              "George         Bachelor        110000          USA  \n",
              "Helen               PhD       2200000    AUSTRALIA  \n",
              "Irene          Bachelor        325000           UK  \n",
              "Jack             Master        490000          USA  "
            ]
          },
          "execution_count": 50,
          "metadata": {},
          "output_type": "execute_result"
        }
      ],
      "source": [
        "df.fillna(df.mean()) #replace all null values with mean"
      ]
    },
    {
      "cell_type": "code",
      "execution_count": null,
      "id": "893eb657",
      "metadata": {
        "id": "893eb657"
      },
      "outputs": [],
      "source": [
        "#df.astype(float) #Convert datatype of series to float"
      ]
    },
    {
      "cell_type": "code",
      "execution_count": null,
      "id": "539d6eb1",
      "metadata": {
        "id": "539d6eb1",
        "outputId": "b789aa68-9efe-4f5f-e789-98b51046ef7d"
      },
      "outputs": [
        {
          "data": {
            "text/html": [
              "<div>\n",
              "<style scoped>\n",
              "    .dataframe tbody tr th:only-of-type {\n",
              "        vertical-align: middle;\n",
              "    }\n",
              "\n",
              "    .dataframe tbody tr th {\n",
              "        vertical-align: top;\n",
              "    }\n",
              "\n",
              "    .dataframe thead th {\n",
              "        text-align: right;\n",
              "    }\n",
              "</style>\n",
              "<table border=\"1\" class=\"dataframe\">\n",
              "  <thead>\n",
              "    <tr style=\"text-align: right;\">\n",
              "      <th></th>\n",
              "      <th>Age</th>\n",
              "      <th>Gender</th>\n",
              "      <th>Country</th>\n",
              "      <th>Salary</th>\n",
              "      <th>Department</th>\n",
              "      <th>Years of Experience</th>\n",
              "      <th>Education Level</th>\n",
              "      <th>Total_Income</th>\n",
              "      <th>Capital_Name</th>\n",
              "    </tr>\n",
              "    <tr>\n",
              "      <th>Name</th>\n",
              "      <th></th>\n",
              "      <th></th>\n",
              "      <th></th>\n",
              "      <th></th>\n",
              "      <th></th>\n",
              "      <th></th>\n",
              "      <th></th>\n",
              "      <th></th>\n",
              "      <th></th>\n",
              "    </tr>\n",
              "  </thead>\n",
              "  <tbody>\n",
              "    <tr>\n",
              "      <th>Alice</th>\n",
              "      <td>25</td>\n",
              "      <td>Female</td>\n",
              "      <td>USA</td>\n",
              "      <td>50000</td>\n",
              "      <td>Marketing</td>\n",
              "      <td>3</td>\n",
              "      <td>Bachelor</td>\n",
              "      <td>150000</td>\n",
              "      <td>USA</td>\n",
              "    </tr>\n",
              "    <tr>\n",
              "      <th>Bob</th>\n",
              "      <td>32</td>\n",
              "      <td>Male</td>\n",
              "      <td>Canada</td>\n",
              "      <td>75000</td>\n",
              "      <td>Finance</td>\n",
              "      <td>8</td>\n",
              "      <td>Master</td>\n",
              "      <td>600000</td>\n",
              "      <td>CANADA</td>\n",
              "    </tr>\n",
              "    <tr>\n",
              "      <th>Charlie</th>\n",
              "      <td>18</td>\n",
              "      <td>Male</td>\n",
              "      <td>USA</td>\n",
              "      <td>40000</td>\n",
              "      <td>Marketing</td>\n",
              "      <td>one</td>\n",
              "      <td>High School</td>\n",
              "      <td>40000</td>\n",
              "      <td>USA</td>\n",
              "    </tr>\n",
              "    <tr>\n",
              "      <th>David</th>\n",
              "      <td>47</td>\n",
              "      <td>Male</td>\n",
              "      <td>Australia</td>\n",
              "      <td>90000</td>\n",
              "      <td>IT</td>\n",
              "      <td>18</td>\n",
              "      <td>PhD</td>\n",
              "      <td>1620000</td>\n",
              "      <td>AUSTRALIA</td>\n",
              "    </tr>\n",
              "    <tr>\n",
              "      <th>Emily</th>\n",
              "      <td>29</td>\n",
              "      <td>Female</td>\n",
              "      <td>UK</td>\n",
              "      <td>60000</td>\n",
              "      <td>IT</td>\n",
              "      <td>6</td>\n",
              "      <td>Bachelor</td>\n",
              "      <td>360000</td>\n",
              "      <td>UK</td>\n",
              "    </tr>\n",
              "    <tr>\n",
              "      <th>Frank</th>\n",
              "      <td>36</td>\n",
              "      <td>Male</td>\n",
              "      <td>Canada</td>\n",
              "      <td>80000</td>\n",
              "      <td>HR</td>\n",
              "      <td>10</td>\n",
              "      <td>Master</td>\n",
              "      <td>800000</td>\n",
              "      <td>CANADA</td>\n",
              "    </tr>\n",
              "    <tr>\n",
              "      <th>George</th>\n",
              "      <td>21</td>\n",
              "      <td>Male</td>\n",
              "      <td>USA</td>\n",
              "      <td>55000</td>\n",
              "      <td>Marketing</td>\n",
              "      <td>2</td>\n",
              "      <td>Bachelor</td>\n",
              "      <td>110000</td>\n",
              "      <td>USA</td>\n",
              "    </tr>\n",
              "    <tr>\n",
              "      <th>Helen</th>\n",
              "      <td>45</td>\n",
              "      <td>Female</td>\n",
              "      <td>Australia</td>\n",
              "      <td>100000</td>\n",
              "      <td>IT</td>\n",
              "      <td>22</td>\n",
              "      <td>PhD</td>\n",
              "      <td>2200000</td>\n",
              "      <td>AUSTRALIA</td>\n",
              "    </tr>\n",
              "    <tr>\n",
              "      <th>Irene</th>\n",
              "      <td>28</td>\n",
              "      <td>Female</td>\n",
              "      <td>UK</td>\n",
              "      <td>65000</td>\n",
              "      <td>HR</td>\n",
              "      <td>5</td>\n",
              "      <td>Bachelor</td>\n",
              "      <td>325000</td>\n",
              "      <td>UK</td>\n",
              "    </tr>\n",
              "    <tr>\n",
              "      <th>Jack</th>\n",
              "      <td>33</td>\n",
              "      <td>Male</td>\n",
              "      <td>USA</td>\n",
              "      <td>70000</td>\n",
              "      <td>Finance</td>\n",
              "      <td>7</td>\n",
              "      <td>Master</td>\n",
              "      <td>490000</td>\n",
              "      <td>USA</td>\n",
              "    </tr>\n",
              "  </tbody>\n",
              "</table>\n",
              "</div>"
            ],
            "text/plain": [
              "         Age  Gender    Country  Salary Department Years of Experience  \\\n",
              "Name                                                                     \n",
              "Alice     25  Female        USA   50000  Marketing                   3   \n",
              "Bob       32    Male     Canada   75000    Finance                   8   \n",
              "Charlie   18    Male        USA   40000  Marketing                 one   \n",
              "David     47    Male  Australia   90000         IT                  18   \n",
              "Emily     29  Female         UK   60000         IT                   6   \n",
              "Frank     36    Male     Canada   80000         HR                  10   \n",
              "George    21    Male        USA   55000  Marketing                   2   \n",
              "Helen     45  Female  Australia  100000         IT                  22   \n",
              "Irene     28  Female         UK   65000         HR                   5   \n",
              "Jack      33    Male        USA   70000    Finance                   7   \n",
              "\n",
              "        Education Level  Total_Income Capital_Name  \n",
              "Name                                                \n",
              "Alice          Bachelor        150000          USA  \n",
              "Bob              Master        600000       CANADA  \n",
              "Charlie     High School         40000          USA  \n",
              "David               PhD       1620000    AUSTRALIA  \n",
              "Emily          Bachelor        360000           UK  \n",
              "Frank            Master        800000       CANADA  \n",
              "George         Bachelor        110000          USA  \n",
              "Helen               PhD       2200000    AUSTRALIA  \n",
              "Irene          Bachelor        325000           UK  \n",
              "Jack             Master        490000          USA  "
            ]
          },
          "execution_count": 52,
          "metadata": {},
          "output_type": "execute_result"
        }
      ],
      "source": [
        "df.replace(1,'one') #replace all values equal to 1 with one"
      ]
    },
    {
      "cell_type": "code",
      "execution_count": null,
      "id": "195844ea",
      "metadata": {
        "id": "195844ea",
        "outputId": "c9e97839-67c7-4b95-a8b3-ff1654f3b307"
      },
      "outputs": [
        {
          "data": {
            "text/html": [
              "<div>\n",
              "<style scoped>\n",
              "    .dataframe tbody tr th:only-of-type {\n",
              "        vertical-align: middle;\n",
              "    }\n",
              "\n",
              "    .dataframe tbody tr th {\n",
              "        vertical-align: top;\n",
              "    }\n",
              "\n",
              "    .dataframe thead th {\n",
              "        text-align: right;\n",
              "    }\n",
              "</style>\n",
              "<table border=\"1\" class=\"dataframe\">\n",
              "  <thead>\n",
              "    <tr style=\"text-align: right;\">\n",
              "      <th></th>\n",
              "      <th>Age</th>\n",
              "      <th>Gender</th>\n",
              "      <th>Country</th>\n",
              "      <th>Salary</th>\n",
              "      <th>Department</th>\n",
              "      <th>Years of Experience</th>\n",
              "      <th>Education Level</th>\n",
              "      <th>Total_Income</th>\n",
              "      <th>Capital_Name</th>\n",
              "    </tr>\n",
              "    <tr>\n",
              "      <th>Name</th>\n",
              "      <th></th>\n",
              "      <th></th>\n",
              "      <th></th>\n",
              "      <th></th>\n",
              "      <th></th>\n",
              "      <th></th>\n",
              "      <th></th>\n",
              "      <th></th>\n",
              "      <th></th>\n",
              "    </tr>\n",
              "  </thead>\n",
              "  <tbody>\n",
              "    <tr>\n",
              "      <th>Alice</th>\n",
              "      <td>25</td>\n",
              "      <td>Female</td>\n",
              "      <td>USA</td>\n",
              "      <td>50000</td>\n",
              "      <td>Marketing</td>\n",
              "      <td>3</td>\n",
              "      <td>Bachelor</td>\n",
              "      <td>150000</td>\n",
              "      <td>USA</td>\n",
              "    </tr>\n",
              "    <tr>\n",
              "      <th>Bob</th>\n",
              "      <td>32</td>\n",
              "      <td>Male</td>\n",
              "      <td>Canada</td>\n",
              "      <td>75000</td>\n",
              "      <td>Finance</td>\n",
              "      <td>8</td>\n",
              "      <td>Master</td>\n",
              "      <td>600000</td>\n",
              "      <td>CANADA</td>\n",
              "    </tr>\n",
              "    <tr>\n",
              "      <th>Charlie</th>\n",
              "      <td>18</td>\n",
              "      <td>Male</td>\n",
              "      <td>USA</td>\n",
              "      <td>40000</td>\n",
              "      <td>Marketing</td>\n",
              "      <td>1</td>\n",
              "      <td>High School</td>\n",
              "      <td>40000</td>\n",
              "      <td>USA</td>\n",
              "    </tr>\n",
              "    <tr>\n",
              "      <th>David</th>\n",
              "      <td>47</td>\n",
              "      <td>Male</td>\n",
              "      <td>Australia</td>\n",
              "      <td>90000</td>\n",
              "      <td>IT</td>\n",
              "      <td>18</td>\n",
              "      <td>PhD</td>\n",
              "      <td>1620000</td>\n",
              "      <td>AUSTRALIA</td>\n",
              "    </tr>\n",
              "    <tr>\n",
              "      <th>Emily</th>\n",
              "      <td>29</td>\n",
              "      <td>Female</td>\n",
              "      <td>UK</td>\n",
              "      <td>60000</td>\n",
              "      <td>IT</td>\n",
              "      <td>6</td>\n",
              "      <td>Bachelor</td>\n",
              "      <td>360000</td>\n",
              "      <td>UK</td>\n",
              "    </tr>\n",
              "    <tr>\n",
              "      <th>Frank</th>\n",
              "      <td>36</td>\n",
              "      <td>Male</td>\n",
              "      <td>Canada</td>\n",
              "      <td>80000</td>\n",
              "      <td>HR</td>\n",
              "      <td>10</td>\n",
              "      <td>Master</td>\n",
              "      <td>800000</td>\n",
              "      <td>CANADA</td>\n",
              "    </tr>\n",
              "    <tr>\n",
              "      <th>George</th>\n",
              "      <td>21</td>\n",
              "      <td>Male</td>\n",
              "      <td>USA</td>\n",
              "      <td>55000</td>\n",
              "      <td>Marketing</td>\n",
              "      <td>2</td>\n",
              "      <td>Bachelor</td>\n",
              "      <td>110000</td>\n",
              "      <td>USA</td>\n",
              "    </tr>\n",
              "    <tr>\n",
              "      <th>Helen</th>\n",
              "      <td>45</td>\n",
              "      <td>Female</td>\n",
              "      <td>Australia</td>\n",
              "      <td>100000</td>\n",
              "      <td>IT</td>\n",
              "      <td>22</td>\n",
              "      <td>PhD</td>\n",
              "      <td>2200000</td>\n",
              "      <td>AUSTRALIA</td>\n",
              "    </tr>\n",
              "    <tr>\n",
              "      <th>Irene</th>\n",
              "      <td>28</td>\n",
              "      <td>Female</td>\n",
              "      <td>UK</td>\n",
              "      <td>65000</td>\n",
              "      <td>HR</td>\n",
              "      <td>5</td>\n",
              "      <td>Bachelor</td>\n",
              "      <td>325000</td>\n",
              "      <td>UK</td>\n",
              "    </tr>\n",
              "    <tr>\n",
              "      <th>Jack</th>\n",
              "      <td>33</td>\n",
              "      <td>Male</td>\n",
              "      <td>USA</td>\n",
              "      <td>70000</td>\n",
              "      <td>Finance</td>\n",
              "      <td>7</td>\n",
              "      <td>Master</td>\n",
              "      <td>490000</td>\n",
              "      <td>USA</td>\n",
              "    </tr>\n",
              "  </tbody>\n",
              "</table>\n",
              "</div>"
            ],
            "text/plain": [
              "         Age  Gender    Country  Salary Department  Years of Experience  \\\n",
              "Name                                                                      \n",
              "Alice     25  Female        USA   50000  Marketing                    3   \n",
              "Bob       32    Male     Canada   75000    Finance                    8   \n",
              "Charlie   18    Male        USA   40000  Marketing                    1   \n",
              "David     47    Male  Australia   90000         IT                   18   \n",
              "Emily     29  Female         UK   60000         IT                    6   \n",
              "Frank     36    Male     Canada   80000         HR                   10   \n",
              "George    21    Male        USA   55000  Marketing                    2   \n",
              "Helen     45  Female  Australia  100000         IT                   22   \n",
              "Irene     28  Female         UK   65000         HR                    5   \n",
              "Jack      33    Male        USA   70000    Finance                    7   \n",
              "\n",
              "        Education Level  Total_Income Capital_Name  \n",
              "Name                                                \n",
              "Alice          Bachelor        150000          USA  \n",
              "Bob              Master        600000       CANADA  \n",
              "Charlie     High School         40000          USA  \n",
              "David               PhD       1620000    AUSTRALIA  \n",
              "Emily          Bachelor        360000           UK  \n",
              "Frank            Master        800000       CANADA  \n",
              "George         Bachelor        110000          USA  \n",
              "Helen               PhD       2200000    AUSTRALIA  \n",
              "Irene          Bachelor        325000           UK  \n",
              "Jack             Master        490000          USA  "
            ]
          },
          "execution_count": 53,
          "metadata": {},
          "output_type": "execute_result"
        }
      ],
      "source": [
        "df.rename(columns={'N':'New Age'}) #rename of selected column"
      ]
    },
    {
      "cell_type": "code",
      "execution_count": null,
      "id": "29e245b0",
      "metadata": {
        "id": "29e245b0",
        "outputId": "5ce06323-2853-4358-b9df-afc0bb2ee80e"
      },
      "outputs": [
        {
          "ename": "NameError",
          "evalue": "name 'df1' is not defined",
          "output_type": "error",
          "traceback": [
            "\u001b[1;31m---------------------------------------------------------------------------\u001b[0m",
            "\u001b[1;31mNameError\u001b[0m                                 Traceback (most recent call last)",
            "\u001b[1;32m~\\AppData\\Local\\Temp\\ipykernel_132488\\8593974.py\u001b[0m in \u001b[0;36m<module>\u001b[1;34m\u001b[0m\n\u001b[1;32m----> 1\u001b[1;33m \u001b[0mdf1\u001b[0m\u001b[1;33m.\u001b[0m\u001b[0mappend\u001b[0m\u001b[1;33m(\u001b[0m\u001b[0mdf2\u001b[0m\u001b[1;33m)\u001b[0m  \u001b[1;31m#add rows in end of df1 to the df2, column should be identical\u001b[0m\u001b[1;33m\u001b[0m\u001b[1;33m\u001b[0m\u001b[0m\n\u001b[0m",
            "\u001b[1;31mNameError\u001b[0m: name 'df1' is not defined"
          ]
        }
      ],
      "source": [
        "df1.append(df2)  #add rows in end of df1 to the df2, column should be identical"
      ]
    },
    {
      "cell_type": "code",
      "execution_count": null,
      "id": "b8b38807",
      "metadata": {
        "id": "b8b38807",
        "outputId": "6e938a8a-164e-45f1-c94d-8a3e9ec2b8b2"
      },
      "outputs": [
        {
          "ename": "NameError",
          "evalue": "name 'df1' is not defined",
          "output_type": "error",
          "traceback": [
            "\u001b[1;31m---------------------------------------------------------------------------\u001b[0m",
            "\u001b[1;31mNameError\u001b[0m                                 Traceback (most recent call last)",
            "\u001b[1;32m~\\AppData\\Local\\Temp\\ipykernel_132488\\1598157799.py\u001b[0m in \u001b[0;36m<module>\u001b[1;34m\u001b[0m\n\u001b[1;32m----> 1\u001b[1;33m \u001b[0mpd\u001b[0m\u001b[1;33m.\u001b[0m\u001b[0mconcat\u001b[0m\u001b[1;33m(\u001b[0m\u001b[1;33m[\u001b[0m\u001b[0mdf1\u001b[0m\u001b[1;33m,\u001b[0m\u001b[0mdf2\u001b[0m\u001b[1;33m]\u001b[0m\u001b[1;33m,\u001b[0m\u001b[0maxis\u001b[0m\u001b[1;33m=\u001b[0m\u001b[1;36m1\u001b[0m\u001b[1;33m)\u001b[0m \u001b[1;31m#add rows in end of df1 to the df2, rows should be identical\u001b[0m\u001b[1;33m\u001b[0m\u001b[1;33m\u001b[0m\u001b[0m\n\u001b[0m",
            "\u001b[1;31mNameError\u001b[0m: name 'df1' is not defined"
          ]
        }
      ],
      "source": [
        "pd.concat([df1,df2],axis=1) #add rows in end of df1 to the df2, rows should be identical"
      ]
    },
    {
      "cell_type": "markdown",
      "id": "490478e1",
      "metadata": {
        "id": "490478e1"
      },
      "source": [
        "**FILTER, SORT & GROUPBY **\n"
      ]
    },
    {
      "cell_type": "code",
      "execution_count": null,
      "id": "25291f47",
      "metadata": {
        "id": "25291f47"
      },
      "outputs": [],
      "source": [
        "df"
      ]
    },
    {
      "cell_type": "code",
      "execution_count": null,
      "id": "7d158092",
      "metadata": {
        "id": "7d158092",
        "outputId": "fa165d03-de8d-4d53-8d26-ec1c106799f0"
      },
      "outputs": [
        {
          "data": {
            "text/html": [
              "<div>\n",
              "<style scoped>\n",
              "    .dataframe tbody tr th:only-of-type {\n",
              "        vertical-align: middle;\n",
              "    }\n",
              "\n",
              "    .dataframe tbody tr th {\n",
              "        vertical-align: top;\n",
              "    }\n",
              "\n",
              "    .dataframe thead th {\n",
              "        text-align: right;\n",
              "    }\n",
              "</style>\n",
              "<table border=\"1\" class=\"dataframe\">\n",
              "  <thead>\n",
              "    <tr style=\"text-align: right;\">\n",
              "      <th></th>\n",
              "      <th>Age</th>\n",
              "      <th>Gender</th>\n",
              "      <th>Country</th>\n",
              "      <th>Salary</th>\n",
              "      <th>Department</th>\n",
              "      <th>Years of Experience</th>\n",
              "      <th>Education Level</th>\n",
              "      <th>Total_Income</th>\n",
              "      <th>Capital_Name</th>\n",
              "    </tr>\n",
              "    <tr>\n",
              "      <th>Name</th>\n",
              "      <th></th>\n",
              "      <th></th>\n",
              "      <th></th>\n",
              "      <th></th>\n",
              "      <th></th>\n",
              "      <th></th>\n",
              "      <th></th>\n",
              "      <th></th>\n",
              "      <th></th>\n",
              "    </tr>\n",
              "  </thead>\n",
              "  <tbody>\n",
              "    <tr>\n",
              "      <th>Alice</th>\n",
              "      <td>25</td>\n",
              "      <td>Female</td>\n",
              "      <td>USA</td>\n",
              "      <td>50000</td>\n",
              "      <td>Marketing</td>\n",
              "      <td>3</td>\n",
              "      <td>Bachelor</td>\n",
              "      <td>150000</td>\n",
              "      <td>USA</td>\n",
              "    </tr>\n",
              "    <tr>\n",
              "      <th>Bob</th>\n",
              "      <td>32</td>\n",
              "      <td>Male</td>\n",
              "      <td>Canada</td>\n",
              "      <td>75000</td>\n",
              "      <td>Finance</td>\n",
              "      <td>8</td>\n",
              "      <td>Master</td>\n",
              "      <td>600000</td>\n",
              "      <td>CANADA</td>\n",
              "    </tr>\n",
              "    <tr>\n",
              "      <th>David</th>\n",
              "      <td>47</td>\n",
              "      <td>Male</td>\n",
              "      <td>Australia</td>\n",
              "      <td>90000</td>\n",
              "      <td>IT</td>\n",
              "      <td>18</td>\n",
              "      <td>PhD</td>\n",
              "      <td>1620000</td>\n",
              "      <td>AUSTRALIA</td>\n",
              "    </tr>\n",
              "    <tr>\n",
              "      <th>Emily</th>\n",
              "      <td>29</td>\n",
              "      <td>Female</td>\n",
              "      <td>UK</td>\n",
              "      <td>60000</td>\n",
              "      <td>IT</td>\n",
              "      <td>6</td>\n",
              "      <td>Bachelor</td>\n",
              "      <td>360000</td>\n",
              "      <td>UK</td>\n",
              "    </tr>\n",
              "    <tr>\n",
              "      <th>Frank</th>\n",
              "      <td>36</td>\n",
              "      <td>Male</td>\n",
              "      <td>Canada</td>\n",
              "      <td>80000</td>\n",
              "      <td>HR</td>\n",
              "      <td>10</td>\n",
              "      <td>Master</td>\n",
              "      <td>800000</td>\n",
              "      <td>CANADA</td>\n",
              "    </tr>\n",
              "    <tr>\n",
              "      <th>George</th>\n",
              "      <td>21</td>\n",
              "      <td>Male</td>\n",
              "      <td>USA</td>\n",
              "      <td>55000</td>\n",
              "      <td>Marketing</td>\n",
              "      <td>2</td>\n",
              "      <td>Bachelor</td>\n",
              "      <td>110000</td>\n",
              "      <td>USA</td>\n",
              "    </tr>\n",
              "    <tr>\n",
              "      <th>Helen</th>\n",
              "      <td>45</td>\n",
              "      <td>Female</td>\n",
              "      <td>Australia</td>\n",
              "      <td>100000</td>\n",
              "      <td>IT</td>\n",
              "      <td>22</td>\n",
              "      <td>PhD</td>\n",
              "      <td>2200000</td>\n",
              "      <td>AUSTRALIA</td>\n",
              "    </tr>\n",
              "    <tr>\n",
              "      <th>Irene</th>\n",
              "      <td>28</td>\n",
              "      <td>Female</td>\n",
              "      <td>UK</td>\n",
              "      <td>65000</td>\n",
              "      <td>HR</td>\n",
              "      <td>5</td>\n",
              "      <td>Bachelor</td>\n",
              "      <td>325000</td>\n",
              "      <td>UK</td>\n",
              "    </tr>\n",
              "    <tr>\n",
              "      <th>Jack</th>\n",
              "      <td>33</td>\n",
              "      <td>Male</td>\n",
              "      <td>USA</td>\n",
              "      <td>70000</td>\n",
              "      <td>Finance</td>\n",
              "      <td>7</td>\n",
              "      <td>Master</td>\n",
              "      <td>490000</td>\n",
              "      <td>USA</td>\n",
              "    </tr>\n",
              "  </tbody>\n",
              "</table>\n",
              "</div>"
            ],
            "text/plain": [
              "        Age  Gender    Country  Salary Department  Years of Experience  \\\n",
              "Name                                                                     \n",
              "Alice    25  Female        USA   50000  Marketing                    3   \n",
              "Bob      32    Male     Canada   75000    Finance                    8   \n",
              "David    47    Male  Australia   90000         IT                   18   \n",
              "Emily    29  Female         UK   60000         IT                    6   \n",
              "Frank    36    Male     Canada   80000         HR                   10   \n",
              "George   21    Male        USA   55000  Marketing                    2   \n",
              "Helen    45  Female  Australia  100000         IT                   22   \n",
              "Irene    28  Female         UK   65000         HR                    5   \n",
              "Jack     33    Male        USA   70000    Finance                    7   \n",
              "\n",
              "       Education Level  Total_Income Capital_Name  \n",
              "Name                                               \n",
              "Alice         Bachelor        150000          USA  \n",
              "Bob             Master        600000       CANADA  \n",
              "David              PhD       1620000    AUSTRALIA  \n",
              "Emily         Bachelor        360000           UK  \n",
              "Frank           Master        800000       CANADA  \n",
              "George        Bachelor        110000          USA  \n",
              "Helen              PhD       2200000    AUSTRALIA  \n",
              "Irene         Bachelor        325000           UK  \n",
              "Jack            Master        490000          USA  "
            ]
          },
          "execution_count": 56,
          "metadata": {},
          "output_type": "execute_result"
        }
      ],
      "source": [
        "df[df['Age']>20] #rows where age greater than 20"
      ]
    },
    {
      "cell_type": "code",
      "execution_count": null,
      "id": "a97aef0e",
      "metadata": {
        "id": "a97aef0e"
      },
      "outputs": [],
      "source": [
        "df[(df['Age']>20) & (df['Age']<30)] #between"
      ]
    },
    {
      "cell_type": "code",
      "execution_count": null,
      "id": "6c6f11a0",
      "metadata": {
        "id": "6c6f11a0"
      },
      "outputs": [],
      "source": [
        "df.sort_values('Age') #sort values also add ascending"
      ]
    },
    {
      "cell_type": "code",
      "execution_count": null,
      "id": "f1d733e4",
      "metadata": {
        "id": "f1d733e4"
      },
      "outputs": [],
      "source": [
        "df.groupby('Gender') #create groupby object for values"
      ]
    },
    {
      "cell_type": "code",
      "execution_count": null,
      "id": "101a6c68",
      "metadata": {
        "id": "101a6c68"
      },
      "outputs": [],
      "source": [
        "df.groupby('Gender'),['Country'] #for multiple"
      ]
    },
    {
      "cell_type": "markdown",
      "source": [
        "### Set_option"
      ],
      "metadata": {
        "id": "BfXRVCeE2svB"
      },
      "id": "BfXRVCeE2svB"
    },
    {
      "cell_type": "markdown",
      "source": [
        "The set_option() function in pandas is used to modify various options related to the behavior and display settings of pandas objects.\n",
        "The syntax for set_option() is: pandas.set_option(option, value).\n",
        "option refers to the name of the option you want to set, and value is the new value for that option.\n",
        "Some commonly used options include:\n",
        "display.max_rows: Sets the maximum number of rows to be displayed when printing a DataFrame.\n",
        "display.max_columns: Sets the maximum number of columns to be displayed.\n",
        "display.precision: Sets the number of decimal places to display.\n",
        "mode.chained_assignment: Sets the behavior for chained assignments.\n",
        "Use pd.set_option(option, value) to set a specific option. For example: pd.set_option('display.max_rows', 10).\n",
        "To revert an option back to its default value, you can use the reset_option() function: pd.reset_option(option). For example: pd.reset_option('display.max_rows').\n",
        "The set_option() function affects the display settings for all subsequent pandas objects in the code unless explicitly changed again.\n",
        "Import the pandas library before using set_option(): import pandas as pd."
      ],
      "metadata": {
        "id": "oVrg8Xpj2wbu"
      },
      "id": "oVrg8Xpj2wbu"
    },
    {
      "cell_type": "code",
      "source": [
        "import pandas as pd\n",
        "\n",
        "# Set the maximum number of rows to be displayed\n",
        "pd.set_option('display.max_rows', 10)\n",
        "\n",
        "# Create a DataFrame\n",
        "data = {\n",
        "    'Name': ['John', 'Emma', 'Ryan', 'Emily', 'Daniel'],\n",
        "    'Age': [25, 28, 22, 30, 27],\n",
        "    'City': ['New York', 'Paris', 'London', 'Sydney', 'Tokyo'],\n",
        "}\n",
        "\n",
        "df = pd.DataFrame(data)\n",
        "\n",
        "# Display the DataFrame with the modified option\n",
        "print(df)\n",
        "\n",
        "# Revert the option back to its default value\n",
        "pd.reset_option('display.max_rows')\n"
      ],
      "metadata": {
        "colab": {
          "base_uri": "https://localhost:8080/"
        },
        "id": "nkvDtABc2sRz",
        "outputId": "78a37d8c-755d-42b1-aefc-b85d4133beaa"
      },
      "id": "nkvDtABc2sRz",
      "execution_count": null,
      "outputs": [
        {
          "output_type": "stream",
          "name": "stdout",
          "text": [
            "     Name  Age      City\n",
            "0    John   25  New York\n",
            "1    Emma   28     Paris\n",
            "2    Ryan   22    London\n",
            "3   Emily   30    Sydney\n",
            "4  Daniel   27     Tokyo\n"
          ]
        }
      ]
    },
    {
      "cell_type": "markdown",
      "id": "4e0169b0",
      "metadata": {
        "id": "4e0169b0"
      },
      "source": [
        "Statistical"
      ]
    },
    {
      "cell_type": "code",
      "execution_count": null,
      "id": "01b4c28e",
      "metadata": {
        "id": "01b4c28e"
      },
      "outputs": [],
      "source": [
        "df.describe()"
      ]
    },
    {
      "cell_type": "code",
      "execution_count": null,
      "id": "c34a2550",
      "metadata": {
        "id": "c34a2550"
      },
      "outputs": [],
      "source": [
        "df.mean()"
      ]
    },
    {
      "cell_type": "code",
      "execution_count": null,
      "id": "19ee458d",
      "metadata": {
        "id": "19ee458d"
      },
      "outputs": [],
      "source": [
        "df.corr()"
      ]
    },
    {
      "cell_type": "code",
      "execution_count": null,
      "id": "3c6778f2",
      "metadata": {
        "id": "3c6778f2"
      },
      "outputs": [],
      "source": [
        "df.count()"
      ]
    },
    {
      "cell_type": "code",
      "execution_count": null,
      "id": "798fa77f",
      "metadata": {
        "id": "798fa77f"
      },
      "outputs": [],
      "source": [
        "df.max()"
      ]
    },
    {
      "cell_type": "code",
      "execution_count": null,
      "id": "1b1109f6",
      "metadata": {
        "id": "1b1109f6"
      },
      "outputs": [],
      "source": [
        "df.min()"
      ]
    },
    {
      "cell_type": "code",
      "execution_count": null,
      "id": "9ef54765",
      "metadata": {
        "id": "9ef54765"
      },
      "outputs": [],
      "source": [
        "df.median()"
      ]
    },
    {
      "cell_type": "code",
      "execution_count": null,
      "id": "ed3c5294",
      "metadata": {
        "id": "ed3c5294"
      },
      "outputs": [],
      "source": [
        "df.std()"
      ]
    },
    {
      "cell_type": "markdown",
      "source": [
        "### Pivot Table"
      ],
      "metadata": {
        "id": "GsNzjNKnbDJ6"
      },
      "id": "GsNzjNKnbDJ6"
    },
    {
      "cell_type": "code",
      "source": [
        "import pandas as pd\n",
        "\n",
        "# Syntax of Pandas pivot table.\n",
        "pandas.pivot_table(data, values=None, index=None, columns=None, aggfunc=’mean’, fill_value=None, margins=False, dropna=True, margins_name=’All’, observed=False)\n",
        "\n",
        "# Another Syntax\n",
        "DataFrame.pivot(index=None, columns=None, values=None)"
      ],
      "metadata": {
        "id": "OUqUg1-hbVoJ"
      },
      "id": "OUqUg1-hbVoJ",
      "execution_count": null,
      "outputs": []
    },
    {
      "cell_type": "code",
      "execution_count": null,
      "id": "f7ed8428",
      "metadata": {
        "id": "f7ed8428"
      },
      "outputs": [],
      "source": [
        "\n",
        "# Example 1 : # Create a pivot table using index\n",
        "p_table = pd.pivot_table(df, index=['Gender'])\n",
        "\n",
        "# Example 2 : Create a pivot table using multiple index\n",
        "p_table = pd.pivot_table(df, index=['Gender', 'Category'])\n",
        "\n",
        "# Example 3 : Create pivot table using multiple aggfunc\n",
        "p_table = pd.pivot_table(df, index=['Gender'], aggfunc= {'Fee': 'mean', 'Discount': 'sum'})\n",
        "\n",
        "# Example 4 : Create table using value parameter\n",
        "p_table = pd.pivot_table(df, index = ['Gender'], values = ['Discount'], aggfunc = 'mean' )"
      ]
    },
    {
      "cell_type": "code",
      "source": [
        "\n",
        "import pandas as pd\n",
        "# Create a DataFrame\n",
        "df = pd.DataFrame({'Student Names' : ['Jenny', 'Singh', 'Charles', 'Richard', 'Veena'],\n",
        "                   'Category' : ['Online', 'Offline', 'Offline', 'Offline', 'Online'],\n",
        "                   'Gender' : ['Female', 'Male', 'Male', 'Male', 'Female'],\n",
        "                  'Courses': ['Java', 'Spark', 'PySpark','Hadoop','C'],\n",
        "                   'Fee': [15000, 17000, 27000, 29000, 12000],\n",
        "                   'Discount': [1100, 800, 1000, 1600, 600]})\n",
        "print(df)\n"
      ],
      "metadata": {
        "colab": {
          "base_uri": "https://localhost:8080/"
        },
        "id": "qUJazaiDbQGG",
        "outputId": "2e349fed-b630-4f87-dd4a-1ee07431cffd"
      },
      "id": "qUJazaiDbQGG",
      "execution_count": null,
      "outputs": [
        {
          "output_type": "stream",
          "name": "stdout",
          "text": [
            "  Student Names Category  Gender  Courses    Fee  Discount\n",
            "0         Jenny   Online  Female     Java  15000      1100\n",
            "1         Singh  Offline    Male    Spark  17000       800\n",
            "2       Charles  Offline    Male  PySpark  27000      1000\n",
            "3       Richard  Offline    Male   Hadoop  29000      1600\n",
            "4         Veena   Online  Female        C  12000       600\n"
          ]
        }
      ]
    },
    {
      "cell_type": "markdown",
      "source": [
        " Group the Data into Pivot Table using Index Param"
      ],
      "metadata": {
        "id": "PPPjOtNCbwts"
      },
      "id": "PPPjOtNCbwts"
    },
    {
      "cell_type": "code",
      "source": [
        "\n",
        "# Create a pivot table using index\n",
        "p_table = pd.pivot_table(df, index=['Gender'])\n",
        "print(p_table)\n"
      ],
      "metadata": {
        "colab": {
          "base_uri": "https://localhost:8080/"
        },
        "id": "43JGWIVVbQC_",
        "outputId": "73bb5547-09cb-404e-aed3-541c32d4d26a"
      },
      "id": "43JGWIVVbQC_",
      "execution_count": null,
      "outputs": [
        {
          "output_type": "stream",
          "name": "stdout",
          "text": [
            "           Discount           Fee\n",
            "Gender                           \n",
            "Female   850.000000  13500.000000\n",
            "Male    1133.333333  24333.333333\n"
          ]
        },
        {
          "output_type": "stream",
          "name": "stderr",
          "text": [
            "<ipython-input-6-29f4b05f4b56>:2: FutureWarning: pivot_table dropped a column because it failed to aggregate. This behavior is deprecated and will raise in a future version of pandas. Select only the columns that can be aggregated.\n",
            "  p_table = pd.pivot_table(df, index=['Gender'])\n"
          ]
        }
      ]
    },
    {
      "cell_type": "markdown",
      "source": [
        "Create Pivot Table Using Multiple Index"
      ],
      "metadata": {
        "id": "XoBQc6vMb9ga"
      },
      "id": "XoBQc6vMb9ga"
    },
    {
      "cell_type": "code",
      "source": [
        "# Create a pivot table using multiple index\n",
        "p_table = pd.pivot_table(df, index=['Gender', 'Category'])\n",
        "print(p_table)"
      ],
      "metadata": {
        "colab": {
          "base_uri": "https://localhost:8080/"
        },
        "id": "7Jlo7ehgbQAA",
        "outputId": "86f0aa99-9252-4896-8e2a-0f6d16e49eb8"
      },
      "id": "7Jlo7ehgbQAA",
      "execution_count": null,
      "outputs": [
        {
          "output_type": "stream",
          "name": "stdout",
          "text": [
            "                    Discount           Fee\n",
            "Gender Category                           \n",
            "Female Online     850.000000  13500.000000\n",
            "Male   Offline   1133.333333  24333.333333\n"
          ]
        },
        {
          "output_type": "stream",
          "name": "stderr",
          "text": [
            "<ipython-input-7-44f1443557f8>:2: FutureWarning: pivot_table dropped a column because it failed to aggregate. This behavior is deprecated and will raise in a future version of pandas. Select only the columns that can be aggregated.\n",
            "  p_table = pd.pivot_table(df, index=['Gender', 'Category'])\n"
          ]
        }
      ]
    },
    {
      "cell_type": "markdown",
      "source": [
        "Use Multiple Aggregation functions"
      ],
      "metadata": {
        "id": "1WLxSxrvcReL"
      },
      "id": "1WLxSxrvcReL"
    },
    {
      "cell_type": "code",
      "source": [
        "# Create pivot table using multiple aggfunc\n",
        "p_table = pd.pivot_table(df, index=['Gender'], aggfunc= {'Fee': 'mean', 'Discount': 'sum'})\n",
        "print(p_table)"
      ],
      "metadata": {
        "colab": {
          "base_uri": "https://localhost:8080/"
        },
        "id": "cJOmymcSbP9k",
        "outputId": "ba6a4cca-47df-4795-b3b3-63334eb0d25d"
      },
      "id": "cJOmymcSbP9k",
      "execution_count": null,
      "outputs": [
        {
          "output_type": "stream",
          "name": "stdout",
          "text": [
            "        Discount           Fee\n",
            "Gender                        \n",
            "Female      1700  13500.000000\n",
            "Male        3400  24333.333333\n"
          ]
        }
      ]
    },
    {
      "cell_type": "markdown",
      "source": [
        "Create Pandas Pivot Table with Values Parameter"
      ],
      "metadata": {
        "id": "3yeV8DoccWBs"
      },
      "id": "3yeV8DoccWBs"
    },
    {
      "cell_type": "code",
      "source": [
        "# Create table using value parameter\n",
        "p_table = pd.pivot_table(df, index = ['Gender'], values = ['Discount'], aggfunc = 'mean' )\n",
        "print(p_table)"
      ],
      "metadata": {
        "colab": {
          "base_uri": "https://localhost:8080/"
        },
        "id": "LKrYlEsYbP6w",
        "outputId": "ad7f8fa3-3570-4e36-e89d-57520125aa50"
      },
      "id": "LKrYlEsYbP6w",
      "execution_count": null,
      "outputs": [
        {
          "output_type": "stream",
          "name": "stdout",
          "text": [
            "           Discount\n",
            "Gender             \n",
            "Female   850.000000\n",
            "Male    1133.333333\n"
          ]
        }
      ]
    },
    {
      "cell_type": "markdown",
      "source": [
        "Create Pandas Pivot Table Using Column Param"
      ],
      "metadata": {
        "id": "VVq6u7jdcb1t"
      },
      "id": "VVq6u7jdcb1t"
    },
    {
      "cell_type": "code",
      "source": [
        "\n",
        "# Create table using column parameter\n",
        "p_table = pd.pivot_table(df, index= ['Gender'], columns = ['Fee'], values=['Discount'], aggfunc = 'mean' )\n",
        "print(p_table)"
      ],
      "metadata": {
        "colab": {
          "base_uri": "https://localhost:8080/"
        },
        "id": "XB4BvsrxbP3Y",
        "outputId": "34c80956-cf4a-4b1b-b8f9-a830c15e4bf0"
      },
      "id": "XB4BvsrxbP3Y",
      "execution_count": null,
      "outputs": [
        {
          "output_type": "stream",
          "name": "stdout",
          "text": [
            "       Discount                               \n",
            "Fee       12000   15000  17000   27000   29000\n",
            "Gender                                        \n",
            "Female    600.0  1100.0    NaN     NaN     NaN\n",
            "Male        NaN     NaN  800.0  1000.0  1600.0\n"
          ]
        }
      ]
    },
    {
      "cell_type": "markdown",
      "source": [
        "Fill the Missing Data in Pandas Pivot Table"
      ],
      "metadata": {
        "id": "eUHZcJORcgGH"
      },
      "id": "eUHZcJORcgGH"
    },
    {
      "cell_type": "code",
      "source": [
        "\n",
        "# Fill the NaN value using fill_value\n",
        "p_table = pd.pivot_table(df, index= ['Gender'], columns = ['Fee'], values=['Discount'], aggfunc = 'mean', fill_value = 0 )\n",
        "print(p_table)\n"
      ],
      "metadata": {
        "colab": {
          "base_uri": "https://localhost:8080/"
        },
        "id": "DhCHjTNBbP0u",
        "outputId": "549f2a4e-5b8c-4fd5-df45-18cc091b04dc"
      },
      "id": "DhCHjTNBbP0u",
      "execution_count": null,
      "outputs": [
        {
          "output_type": "stream",
          "name": "stdout",
          "text": [
            "       Discount                        \n",
            "Fee       12000 15000 17000 27000 29000\n",
            "Gender                                 \n",
            "Female      600  1100     0     0     0\n",
            "Male          0     0   800  1000  1600\n"
          ]
        }
      ]
    },
    {
      "cell_type": "code",
      "source": [],
      "metadata": {
        "id": "K0_JiSw-bPxQ"
      },
      "id": "K0_JiSw-bPxQ",
      "execution_count": null,
      "outputs": []
    },
    {
      "cell_type": "code",
      "source": [],
      "metadata": {
        "id": "QOV_Us_LbPtk"
      },
      "id": "QOV_Us_LbPtk",
      "execution_count": null,
      "outputs": []
    },
    {
      "cell_type": "markdown",
      "source": [
        "# Numpy"
      ],
      "metadata": {
        "id": "AdWPhFrl8YWG"
      },
      "id": "AdWPhFrl8YWG"
    },
    {
      "cell_type": "code",
      "execution_count": null,
      "metadata": {
        "id": "27f763f8"
      },
      "outputs": [],
      "source": [
        "import numpy as np"
      ],
      "id": "27f763f8"
    },
    {
      "cell_type": "code",
      "source": [
        "#create array from list- 1D Prime no array\n",
        "prime_array=np.array([2,3,5,7,11])\n",
        "print(prime_array)"
      ],
      "metadata": {
        "colab": {
          "base_uri": "https://localhost:8080/"
        },
        "id": "eegnB2Xe_ZlL",
        "outputId": "915b4fcb-07ed-4153-c7e2-568d4ff80b12"
      },
      "id": "eegnB2Xe_ZlL",
      "execution_count": null,
      "outputs": [
        {
          "output_type": "stream",
          "name": "stdout",
          "text": [
            "[ 2  3  5  7 11]\n"
          ]
        }
      ]
    },
    {
      "cell_type": "code",
      "source": [
        "#check data type of prime_array\n",
        "type(prime_array)"
      ],
      "metadata": {
        "colab": {
          "base_uri": "https://localhost:8080/"
        },
        "id": "c35_JYQE_sDQ",
        "outputId": "931ac550-fd46-448c-8f15-f1b9727c4608"
      },
      "id": "c35_JYQE_sDQ",
      "execution_count": null,
      "outputs": [
        {
          "output_type": "execute_result",
          "data": {
            "text/plain": [
              "numpy.ndarray"
            ]
          },
          "metadata": {},
          "execution_count": 9
        }
      ]
    },
    {
      "cell_type": "code",
      "source": [
        "#2D array\n",
        "two_D = np.array([[1,2,3],[4,5,6]])\n",
        "print(two_D)"
      ],
      "metadata": {
        "colab": {
          "base_uri": "https://localhost:8080/"
        },
        "id": "BDDrOJ0w_sAd",
        "outputId": "bccbf869-4069-48ba-f585-2bcab14009ad"
      },
      "id": "BDDrOJ0w_sAd",
      "execution_count": null,
      "outputs": [
        {
          "output_type": "stream",
          "name": "stdout",
          "text": [
            "[[1 2 3]\n",
            " [4 5 6]]\n"
          ]
        }
      ]
    },
    {
      "cell_type": "code",
      "source": [
        "two_D"
      ],
      "metadata": {
        "colab": {
          "base_uri": "https://localhost:8080/"
        },
        "id": "ySUtOr_C_r9r",
        "outputId": "12c2680d-69d7-4a2c-ac80-ce9fb60abe01"
      },
      "id": "ySUtOr_C_r9r",
      "execution_count": null,
      "outputs": [
        {
          "output_type": "execute_result",
          "data": {
            "text/plain": [
              "array([[1, 2, 3],\n",
              "       [4, 5, 6]])"
            ]
          },
          "metadata": {},
          "execution_count": 11
        }
      ]
    },
    {
      "cell_type": "code",
      "source": [
        "two_D.shape"
      ],
      "metadata": {
        "colab": {
          "base_uri": "https://localhost:8080/"
        },
        "id": "BmcxQvx6_r7B",
        "outputId": "abf0f21b-600c-42da-80e0-2f49e9787e4d"
      },
      "id": "BmcxQvx6_r7B",
      "execution_count": null,
      "outputs": [
        {
          "output_type": "execute_result",
          "data": {
            "text/plain": [
              "(2, 3)"
            ]
          },
          "metadata": {},
          "execution_count": 13
        }
      ]
    },
    {
      "cell_type": "code",
      "source": [
        "#create 3D array\n",
        "three_D = np.array([[[1,2,3],[4,5,6],[7,8,9]]])\n",
        "print(three_D)\n"
      ],
      "metadata": {
        "colab": {
          "base_uri": "https://localhost:8080/"
        },
        "id": "nB1iNjAV_r4Y",
        "outputId": "2d2b4667-b0ee-46d6-8f9e-431d4175c769"
      },
      "id": "nB1iNjAV_r4Y",
      "execution_count": null,
      "outputs": [
        {
          "output_type": "stream",
          "name": "stdout",
          "text": [
            "[[[1 2 3]\n",
            "  [4 5 6]\n",
            "  [7 8 9]]]\n"
          ]
        }
      ]
    },
    {
      "cell_type": "code",
      "source": [
        "three_D.shape"
      ],
      "metadata": {
        "colab": {
          "base_uri": "https://localhost:8080/"
        },
        "id": "KuulHMIn_r1-",
        "outputId": "e0fc134e-54b5-45d5-c3ad-1fb4904ed174"
      },
      "id": "KuulHMIn_r1-",
      "execution_count": null,
      "outputs": [
        {
          "output_type": "execute_result",
          "data": {
            "text/plain": [
              "(1, 3, 3)"
            ]
          },
          "metadata": {},
          "execution_count": 17
        }
      ]
    },
    {
      "cell_type": "markdown",
      "source": [
        "Array Inspection"
      ],
      "metadata": {
        "id": "6QaKnY6HBmGG"
      },
      "id": "6QaKnY6HBmGG"
    },
    {
      "cell_type": "code",
      "source": [
        "three_D"
      ],
      "metadata": {
        "colab": {
          "base_uri": "https://localhost:8080/"
        },
        "id": "OQv6nJf5Byxj",
        "outputId": "79fef865-33e3-4bfb-f98c-73fabb6be0b2"
      },
      "id": "OQv6nJf5Byxj",
      "execution_count": null,
      "outputs": [
        {
          "output_type": "execute_result",
          "data": {
            "text/plain": [
              "array([[[1, 2, 3],\n",
              "        [4, 5, 6],\n",
              "        [7, 8, 9]]])"
            ]
          },
          "metadata": {},
          "execution_count": 20
        }
      ]
    },
    {
      "cell_type": "code",
      "source": [
        "#ndarray.shape\n",
        "three_D.shape     #(no of array, row, column)\n",
        "                  #(diamensions-1,nos,innernos)"
      ],
      "metadata": {
        "colab": {
          "base_uri": "https://localhost:8080/"
        },
        "id": "wuZi9mXz_ry7",
        "outputId": "50dc0928-4658-4cf1-c20b-2e7f8d7e6e1e"
      },
      "id": "wuZi9mXz_ry7",
      "execution_count": null,
      "outputs": [
        {
          "output_type": "execute_result",
          "data": {
            "text/plain": [
              "(1, 3, 3)"
            ]
          },
          "metadata": {},
          "execution_count": 21
        }
      ]
    },
    {
      "cell_type": "code",
      "source": [
        "two_D.shape"
      ],
      "metadata": {
        "colab": {
          "base_uri": "https://localhost:8080/"
        },
        "id": "sr3yrmfV_rws",
        "outputId": "5a93a9f2-3ba1-43b4-a1e4-dbbd4d0b6ae6"
      },
      "id": "sr3yrmfV_rws",
      "execution_count": null,
      "outputs": [
        {
          "output_type": "execute_result",
          "data": {
            "text/plain": [
              "(2, 3)"
            ]
          },
          "metadata": {},
          "execution_count": 22
        }
      ]
    },
    {
      "cell_type": "code",
      "source": [
        "#ndarray.ndin -- returns no of array dimensions\n",
        "three_D.ndim"
      ],
      "metadata": {
        "colab": {
          "base_uri": "https://localhost:8080/"
        },
        "id": "oYrZ4FuA_rup",
        "outputId": "e79ae682-918e-4cf8-b6cf-42f2a11f3928"
      },
      "id": "oYrZ4FuA_rup",
      "execution_count": null,
      "outputs": [
        {
          "output_type": "execute_result",
          "data": {
            "text/plain": [
              "3"
            ]
          },
          "metadata": {},
          "execution_count": 24
        }
      ]
    },
    {
      "cell_type": "code",
      "source": [
        "two_D.ndim"
      ],
      "metadata": {
        "colab": {
          "base_uri": "https://localhost:8080/"
        },
        "id": "uaSRLYJK_rsu",
        "outputId": "016fc1db-aa4e-42bd-94c8-ca622ce448c3"
      },
      "id": "uaSRLYJK_rsu",
      "execution_count": null,
      "outputs": [
        {
          "output_type": "execute_result",
          "data": {
            "text/plain": [
              "2"
            ]
          },
          "metadata": {},
          "execution_count": 26
        }
      ]
    },
    {
      "cell_type": "code",
      "source": [
        "#ndarray.size -- total no of elements in array\n",
        "three_D.size\n"
      ],
      "metadata": {
        "colab": {
          "base_uri": "https://localhost:8080/"
        },
        "id": "FN2lTUTb_rp7",
        "outputId": "e552bd70-7fc1-4960-eb53-a87337cc159d"
      },
      "id": "FN2lTUTb_rp7",
      "execution_count": null,
      "outputs": [
        {
          "output_type": "execute_result",
          "data": {
            "text/plain": [
              "9"
            ]
          },
          "metadata": {},
          "execution_count": 28
        }
      ]
    },
    {
      "cell_type": "code",
      "source": [
        "two_D.size"
      ],
      "metadata": {
        "colab": {
          "base_uri": "https://localhost:8080/"
        },
        "id": "OYJBna1X_rmM",
        "outputId": "d8b8dc30-1ea6-41ad-ab4b-5fd0e4f5cdc7"
      },
      "id": "OYJBna1X_rmM",
      "execution_count": null,
      "outputs": [
        {
          "output_type": "execute_result",
          "data": {
            "text/plain": [
              "6"
            ]
          },
          "metadata": {},
          "execution_count": 29
        }
      ]
    },
    {
      "cell_type": "code",
      "source": [
        "#ndarray.dtype---check data type of array\n",
        "three_D.dtype\n"
      ],
      "metadata": {
        "colab": {
          "base_uri": "https://localhost:8080/"
        },
        "id": "LUu-Jr1U_rjZ",
        "outputId": "9baa49ec-9802-48d8-da5f-2ed3daae2334"
      },
      "id": "LUu-Jr1U_rjZ",
      "execution_count": null,
      "outputs": [
        {
          "output_type": "execute_result",
          "data": {
            "text/plain": [
              "dtype('int64')"
            ]
          },
          "metadata": {},
          "execution_count": 30
        }
      ]
    },
    {
      "cell_type": "code",
      "source": [
        "two_D.dtype"
      ],
      "metadata": {
        "colab": {
          "base_uri": "https://localhost:8080/"
        },
        "id": "3AJvHm9M_rhF",
        "outputId": "ddc13ad6-18a3-4aa0-869d-a6f4fa0dc03a"
      },
      "id": "3AJvHm9M_rhF",
      "execution_count": null,
      "outputs": [
        {
          "output_type": "execute_result",
          "data": {
            "text/plain": [
              "dtype('int64')"
            ]
          },
          "metadata": {},
          "execution_count": 31
        }
      ]
    },
    {
      "cell_type": "code",
      "source": [
        "#ndarray.astype----To change data type of array\n",
        "three_D=three_D.astype('float')\n",
        "\n",
        "three_D.dtype\n"
      ],
      "metadata": {
        "colab": {
          "base_uri": "https://localhost:8080/"
        },
        "id": "egRofbfg_re5",
        "outputId": "14788661-3d4e-47be-a033-0e16a99221de"
      },
      "id": "egRofbfg_re5",
      "execution_count": null,
      "outputs": [
        {
          "output_type": "execute_result",
          "data": {
            "text/plain": [
              "dtype('float64')"
            ]
          },
          "metadata": {},
          "execution_count": 34
        }
      ]
    },
    {
      "cell_type": "markdown",
      "source": [
        "Different Way of Creating Array"
      ],
      "metadata": {
        "id": "A2a7tRI10vyK"
      },
      "id": "A2a7tRI10vyK"
    },
    {
      "cell_type": "code",
      "source": [
        "#Array with specified shape\n",
        "uninitialized_array= np.empty([5,3],dtype=int)\n",
        "print(uninitialized_array)"
      ],
      "metadata": {
        "id": "_YVuzo2yII5h",
        "colab": {
          "base_uri": "https://localhost:8080/"
        },
        "outputId": "1ea92bed-7606-4fde-e7eb-051d849ff42e"
      },
      "id": "_YVuzo2yII5h",
      "execution_count": null,
      "outputs": [
        {
          "output_type": "stream",
          "name": "stdout",
          "text": [
            "[[           45096208                   0 8511838618078834295]\n",
            " [2322280074044863337 2314885437609439074 4211540083635878432]\n",
            " [ 723518651976410656 8030881587503916371 3255307777713450250]\n",
            " [7219961191666813485 7595356248831179296 2336630925664679027]\n",
            " [8459851789882320242 8317701431971963244                 288]]\n"
          ]
        }
      ]
    },
    {
      "cell_type": "code",
      "source": [
        "#initializing with zeros\n",
        "zeros_array = np.zeros((5,3)) #default data type float\n",
        "other_zero_array = np.zeros((4,3),dtype = int)\n",
        "print(zeros_array)\n",
        "print(other_zero_array)"
      ],
      "metadata": {
        "id": "UOtdxHqXII0R",
        "colab": {
          "base_uri": "https://localhost:8080/"
        },
        "outputId": "0c4dd554-6452-4667-ef6b-e927eb1a76ec"
      },
      "id": "UOtdxHqXII0R",
      "execution_count": null,
      "outputs": [
        {
          "output_type": "stream",
          "name": "stdout",
          "text": [
            "[[0. 0. 0.]\n",
            " [0. 0. 0.]\n",
            " [0. 0. 0.]\n",
            " [0. 0. 0.]\n",
            " [0. 0. 0.]]\n",
            "[[0 0 0]\n",
            " [0 0 0]\n",
            " [0 0 0]\n",
            " [0 0 0]]\n"
          ]
        }
      ]
    },
    {
      "cell_type": "code",
      "source": [
        "#initializing with zeros\n",
        "ones_array = np.ones((5,3)) #default data type float\n",
        "other_ones_array = np.ones((4,3),dtype = int)\n",
        "print(ones_array)\n",
        "print(other_ones_array)"
      ],
      "metadata": {
        "id": "8aLiZyWxIIuF",
        "colab": {
          "base_uri": "https://localhost:8080/"
        },
        "outputId": "a2f44709-69e8-437f-86ea-9126bbcdf90b"
      },
      "id": "8aLiZyWxIIuF",
      "execution_count": null,
      "outputs": [
        {
          "output_type": "stream",
          "name": "stdout",
          "text": [
            "[[1. 1. 1.]\n",
            " [1. 1. 1.]\n",
            " [1. 1. 1.]\n",
            " [1. 1. 1.]\n",
            " [1. 1. 1.]]\n",
            "[[1 1 1]\n",
            " [1 1 1]\n",
            " [1 1 1]\n",
            " [1 1 1]]\n"
          ]
        }
      ]
    },
    {
      "cell_type": "markdown",
      "source": [
        "Array with range"
      ],
      "metadata": {
        "id": "FfztVXPx21Kh"
      },
      "id": "FfztVXPx21Kh"
    },
    {
      "cell_type": "code",
      "source": [
        "A = np.arange(10)\n",
        "print(A)"
      ],
      "metadata": {
        "id": "IMsf8REyIIrH",
        "colab": {
          "base_uri": "https://localhost:8080/"
        },
        "outputId": "853ff852-b260-46c8-b635-c15f99f43f00"
      },
      "id": "IMsf8REyIIrH",
      "execution_count": null,
      "outputs": [
        {
          "output_type": "stream",
          "name": "stdout",
          "text": [
            "[0 1 2 3 4 5 6 7 8 9]\n"
          ]
        }
      ]
    },
    {
      "cell_type": "code",
      "source": [
        "B = np.arange(1,20,2) #(start,stop,step,dtpe)\n",
        "B"
      ],
      "metadata": {
        "id": "sgDfVWUXIIoN",
        "colab": {
          "base_uri": "https://localhost:8080/"
        },
        "outputId": "8ca3f621-739a-4f52-ed6b-33ccfa6c2931"
      },
      "id": "sgDfVWUXIIoN",
      "execution_count": null,
      "outputs": [
        {
          "output_type": "execute_result",
          "data": {
            "text/plain": [
              "array([ 1,  3,  5,  7,  9, 11, 13, 15, 17, 19])"
            ]
          },
          "metadata": {},
          "execution_count": 14
        }
      ]
    },
    {
      "cell_type": "code",
      "source": [],
      "metadata": {
        "id": "b3Dp7q_SIIli"
      },
      "id": "b3Dp7q_SIIli",
      "execution_count": null,
      "outputs": []
    },
    {
      "cell_type": "code",
      "source": [
        "# to get values in even space\n",
        "\n",
        "A = np.linspace(10,20,9 , endpoint = False, retstep = True)\n",
        "A"
      ],
      "metadata": {
        "id": "nZVluKHKIIiS",
        "colab": {
          "base_uri": "https://localhost:8080/"
        },
        "outputId": "b2de8e06-cab8-4e8c-c773-b357f50f2bba"
      },
      "id": "nZVluKHKIIiS",
      "execution_count": null,
      "outputs": [
        {
          "output_type": "execute_result",
          "data": {
            "text/plain": [
              "(array([10.        , 11.11111111, 12.22222222, 13.33333333, 14.44444444,\n",
              "        15.55555556, 16.66666667, 17.77777778, 18.88888889]),\n",
              " 1.1111111111111112)"
            ]
          },
          "metadata": {},
          "execution_count": 19
        }
      ]
    },
    {
      "cell_type": "markdown",
      "source": [
        "Array from random Nums"
      ],
      "metadata": {
        "id": "8mSgVwIi67DF"
      },
      "id": "8mSgVwIi67DF"
    },
    {
      "cell_type": "code",
      "source": [
        "A = np.random.random((4,5))\n",
        "print(A)"
      ],
      "metadata": {
        "id": "SHFThDpgIIfO",
        "colab": {
          "base_uri": "https://localhost:8080/"
        },
        "outputId": "b376322d-b1b9-443b-d965-470bafaa0db0"
      },
      "id": "SHFThDpgIIfO",
      "execution_count": null,
      "outputs": [
        {
          "output_type": "stream",
          "name": "stdout",
          "text": [
            "[[0.21575855 0.58871088 0.12215181 0.2311553  0.44333959]\n",
            " [0.77201966 0.36081836 0.25494115 0.31698995 0.29790039]\n",
            " [0.99565968 0.92794438 0.99835657 0.13148876 0.99844739]\n",
            " [0.53516909 0.88747093 0.174304   0.43060917 0.99680686]]\n"
          ]
        }
      ]
    },
    {
      "cell_type": "code",
      "source": [
        "B = np.random.randint(0,5,size=(2,3,4))\n",
        "print(B)"
      ],
      "metadata": {
        "colab": {
          "base_uri": "https://localhost:8080/"
        },
        "id": "_U3LRI8k7KQR",
        "outputId": "eabe2a60-f5d0-4c37-a5b0-87aac8236ecb"
      },
      "id": "_U3LRI8k7KQR",
      "execution_count": null,
      "outputs": [
        {
          "output_type": "stream",
          "name": "stdout",
          "text": [
            "[[[2 0 2 0]\n",
            "  [0 0 3 4]\n",
            "  [1 0 2 1]]\n",
            "\n",
            " [[1 0 1 4]\n",
            "  [2 3 4 0]\n",
            "  [4 2 0 1]]]\n"
          ]
        }
      ]
    },
    {
      "cell_type": "markdown",
      "source": [
        "Array with specified num"
      ],
      "metadata": {
        "id": "THiQo0zE7lf8"
      },
      "id": "THiQo0zE7lf8"
    },
    {
      "cell_type": "code",
      "source": [
        "a = np.full((3,3),30)   #---np.full(shape,value)\n",
        "print(a)"
      ],
      "metadata": {
        "colab": {
          "base_uri": "https://localhost:8080/"
        },
        "id": "akJu9Dk-7KNo",
        "outputId": "ca47f002-0525-4ae5-9c49-3787c9a65a60"
      },
      "id": "akJu9Dk-7KNo",
      "execution_count": null,
      "outputs": [
        {
          "output_type": "stream",
          "name": "stdout",
          "text": [
            "[[30 30 30]\n",
            " [30 30 30]\n",
            " [30 30 30]]\n"
          ]
        }
      ]
    },
    {
      "cell_type": "code",
      "source": [
        "a = np.ones((3,3))*30\n",
        "print(a)"
      ],
      "metadata": {
        "colab": {
          "base_uri": "https://localhost:8080/"
        },
        "id": "4BCXG8z77KLJ",
        "outputId": "0bfd40a4-f7e6-4fa2-e9bd-5cae58fe8794"
      },
      "id": "4BCXG8z77KLJ",
      "execution_count": null,
      "outputs": [
        {
          "output_type": "stream",
          "name": "stdout",
          "text": [
            "[[30. 30. 30.]\n",
            " [30. 30. 30.]\n",
            " [30. 30. 30.]]\n"
          ]
        }
      ]
    },
    {
      "cell_type": "code",
      "source": [
        "#identity matrix\n",
        "\n",
        "A = np.identity(3)\n",
        "print(A)"
      ],
      "metadata": {
        "colab": {
          "base_uri": "https://localhost:8080/"
        },
        "id": "Towr5hGv7KIR",
        "outputId": "a6b271a1-6511-40bd-b189-41d7a14668d8"
      },
      "id": "Towr5hGv7KIR",
      "execution_count": null,
      "outputs": [
        {
          "output_type": "stream",
          "name": "stdout",
          "text": [
            "[[1. 0. 0.]\n",
            " [0. 1. 0.]\n",
            " [0. 0. 1.]]\n"
          ]
        }
      ]
    },
    {
      "cell_type": "markdown",
      "source": [
        "Create Array from existing data."
      ],
      "metadata": {
        "id": "Plk7hoX_BWG4"
      },
      "id": "Plk7hoX_BWG4"
    },
    {
      "cell_type": "code",
      "source": [
        "# Convert list to array\n",
        "\n",
        "list1 = [1,2,3,4,5]\n",
        "array_for_list = np.asarray(list1)\n",
        "list1"
      ],
      "metadata": {
        "colab": {
          "base_uri": "https://localhost:8080/"
        },
        "id": "IgVayDdr7KFW",
        "outputId": "3a4dadeb-4b88-4325-eeee-1c3e69212039"
      },
      "id": "IgVayDdr7KFW",
      "execution_count": null,
      "outputs": [
        {
          "output_type": "execute_result",
          "data": {
            "text/plain": [
              "[1, 2, 3, 4, 5]"
            ]
          },
          "metadata": {},
          "execution_count": 29
        }
      ]
    },
    {
      "cell_type": "code",
      "source": [
        "tuple1 = (1,2,3,4)\n",
        "array_for_tuple = np.asarray(tuple1)\n",
        "tuple1"
      ],
      "metadata": {
        "colab": {
          "base_uri": "https://localhost:8080/"
        },
        "id": "PWooyRwuD4Nr",
        "outputId": "c984557d-fb4d-444a-c984-bc9b17b0df75"
      },
      "id": "PWooyRwuD4Nr",
      "execution_count": null,
      "outputs": [
        {
          "output_type": "execute_result",
          "data": {
            "text/plain": [
              "(1, 2, 3, 4)"
            ]
          },
          "metadata": {},
          "execution_count": 30
        }
      ]
    },
    {
      "cell_type": "markdown",
      "source": [
        "Indexing & Slicing"
      ],
      "metadata": {
        "id": "F2MZRJKqDO-i"
      },
      "id": "F2MZRJKqDO-i"
    },
    {
      "cell_type": "code",
      "source": [
        "a = np.arange(10)\n",
        "print(a)\n",
        "print(a[5])"
      ],
      "metadata": {
        "colab": {
          "base_uri": "https://localhost:8080/"
        },
        "id": "fytP1-Vh7KB6",
        "outputId": "531eae7b-9f67-4f71-cbbc-2821534387bf"
      },
      "id": "fytP1-Vh7KB6",
      "execution_count": null,
      "outputs": [
        {
          "output_type": "stream",
          "name": "stdout",
          "text": [
            "[0 1 2 3 4 5 6 7 8 9]\n",
            "5\n"
          ]
        }
      ]
    },
    {
      "cell_type": "code",
      "source": [
        "a[2:8]"
      ],
      "metadata": {
        "colab": {
          "base_uri": "https://localhost:8080/"
        },
        "id": "ir6_tCV47J_I",
        "outputId": "c7a12036-5ef3-4194-9ad6-08cbaa4a1f48"
      },
      "id": "ir6_tCV47J_I",
      "execution_count": null,
      "outputs": [
        {
          "output_type": "execute_result",
          "data": {
            "text/plain": [
              "array([2, 3, 4, 5, 6, 7])"
            ]
          },
          "metadata": {},
          "execution_count": 37
        }
      ]
    },
    {
      "cell_type": "code",
      "source": [
        "a =np.random.random(10)\n",
        "print(a)\n",
        "print(a[::2])"
      ],
      "metadata": {
        "colab": {
          "base_uri": "https://localhost:8080/"
        },
        "id": "PBfJjjoI7J8k",
        "outputId": "23ed0089-aa15-44a1-e7aa-66e681075ae7"
      },
      "id": "PBfJjjoI7J8k",
      "execution_count": null,
      "outputs": [
        {
          "output_type": "stream",
          "name": "stdout",
          "text": [
            "[0.3976136  0.17735659 0.53883925 0.53578592 0.28938613 0.4753272\n",
            " 0.60495408 0.12719803 0.34831614 0.00192775]\n",
            "[0.3976136  0.53883925 0.28938613 0.60495408 0.34831614]\n"
          ]
        }
      ]
    },
    {
      "cell_type": "code",
      "source": [
        "# when certain parameters are unspecified\n",
        "a = np.arange(10)\n",
        "print(a[:6:2]) # starting index is unspecified (default = 0)\n",
        "print(a[1::2]) # ending index is unspecified (default = array size)\n",
        "print(a[1:6:]) # steps is unspecified (default = 1)"
      ],
      "metadata": {
        "colab": {
          "base_uri": "https://localhost:8080/"
        },
        "id": "8f2Dj9Pf7J5q",
        "outputId": "c991bf63-fa84-44ae-d5ea-beed810ff6e4"
      },
      "id": "8f2Dj9Pf7J5q",
      "execution_count": null,
      "outputs": [
        {
          "output_type": "stream",
          "name": "stdout",
          "text": [
            "[0 2 4]\n",
            "[1 3 5 7 9]\n",
            "[1 2 3 4 5]\n"
          ]
        }
      ]
    },
    {
      "cell_type": "markdown",
      "source": [
        "Slicing- 2D Array"
      ],
      "metadata": {
        "id": "4PAZOxsQFU5G"
      },
      "id": "4PAZOxsQFU5G"
    },
    {
      "cell_type": "code",
      "source": [
        "a = np.array([[1,2,3],[4,5,6]])  # 0,1st row & 0,1,2nd column\n",
        "print(a)\n",
        "print(a[1,2])"
      ],
      "metadata": {
        "colab": {
          "base_uri": "https://localhost:8080/"
        },
        "id": "I-TALZxzFMN-",
        "outputId": "fb9caf59-6d36-4781-ba83-5193e3a89976"
      },
      "id": "I-TALZxzFMN-",
      "execution_count": null,
      "outputs": [
        {
          "output_type": "stream",
          "name": "stdout",
          "text": [
            "[[1 2 3]\n",
            " [4 5 6]]\n",
            "6\n"
          ]
        }
      ]
    },
    {
      "cell_type": "code",
      "source": [
        "a = np.array([[1,2,3],[4,5,6],[7,8,9]])\n",
        "print(a)\n",
        "print(a[0:2])\n",
        "print(a[0:2,-2:])"
      ],
      "metadata": {
        "colab": {
          "base_uri": "https://localhost:8080/"
        },
        "id": "Up2y0SY-FMKY",
        "outputId": "882ee3fd-60f7-46fd-c7c8-f8b127dcf8ad"
      },
      "id": "Up2y0SY-FMKY",
      "execution_count": null,
      "outputs": [
        {
          "output_type": "stream",
          "name": "stdout",
          "text": [
            "[[1 2 3]\n",
            " [4 5 6]\n",
            " [7 8 9]]\n",
            "[[1 2 3]\n",
            " [4 5 6]]\n",
            "[[2 3]\n",
            " [5 6]]\n"
          ]
        }
      ]
    },
    {
      "cell_type": "code",
      "source": [
        "a = np.array([[1,2,3],[4,5,6],[7,8,9]])\n",
        "a"
      ],
      "metadata": {
        "colab": {
          "base_uri": "https://localhost:8080/"
        },
        "id": "R4wJnoRyIR7W",
        "outputId": "d91b6e59-3eeb-472a-eede-b34555ca4cf8"
      },
      "id": "R4wJnoRyIR7W",
      "execution_count": null,
      "outputs": [
        {
          "output_type": "execute_result",
          "data": {
            "text/plain": [
              "array([[1, 2, 3],\n",
              "       [4, 5, 6],\n",
              "       [7, 8, 9]])"
            ]
          },
          "metadata": {},
          "execution_count": 45
        }
      ]
    },
    {
      "cell_type": "code",
      "source": [
        "#getting 1st row\n",
        "print(a[0:1,:])"
      ],
      "metadata": {
        "colab": {
          "base_uri": "https://localhost:8080/"
        },
        "id": "1n6PtFFFFMGh",
        "outputId": "5e30d843-2cb5-4041-dd7b-afdf6d1d6728"
      },
      "id": "1n6PtFFFFMGh",
      "execution_count": null,
      "outputs": [
        {
          "output_type": "stream",
          "name": "stdout",
          "text": [
            "[[1 2 3]]\n"
          ]
        }
      ]
    },
    {
      "cell_type": "code",
      "source": [
        "#getting 1st column\n",
        "print(a[:,0:1])\n"
      ],
      "metadata": {
        "colab": {
          "base_uri": "https://localhost:8080/"
        },
        "id": "nf4ayYheFMCv",
        "outputId": "b347eaa6-edf2-496f-b129-de0a3f0ed8f2"
      },
      "id": "nf4ayYheFMCv",
      "execution_count": null,
      "outputs": [
        {
          "output_type": "stream",
          "name": "stdout",
          "text": [
            "[[1]\n",
            " [4]\n",
            " [7]]\n"
          ]
        }
      ]
    },
    {
      "cell_type": "markdown",
      "source": [
        "Slicing 3D Array"
      ],
      "metadata": {
        "id": "MldUQQcSJgL0"
      },
      "id": "MldUQQcSJgL0"
    },
    {
      "cell_type": "code",
      "source": [
        "# For 3-D array slicing the format is array[index,row,column]\n",
        "a = np.array([[[1,2],[3,4],[5,6]],\n",
        "             [[7,8],[9,10],[11,12]],\n",
        "             [[13,14],[15,16],[17,18]]])\n",
        "print(a)\n",
        "print(a[0:2])\n",
        "# print(a[0:2,1:])\n",
        "print(a[0:2,1:,1:])"
      ],
      "metadata": {
        "colab": {
          "base_uri": "https://localhost:8080/"
        },
        "id": "HaDhweA2FL94",
        "outputId": "0f64e3ae-701e-499f-b778-7c7cb1fdfc73"
      },
      "id": "HaDhweA2FL94",
      "execution_count": null,
      "outputs": [
        {
          "output_type": "stream",
          "name": "stdout",
          "text": [
            "[[[ 1  2]\n",
            "  [ 3  4]\n",
            "  [ 5  6]]\n",
            "\n",
            " [[ 7  8]\n",
            "  [ 9 10]\n",
            "  [11 12]]\n",
            "\n",
            " [[13 14]\n",
            "  [15 16]\n",
            "  [17 18]]]\n",
            "[[[ 1  2]\n",
            "  [ 3  4]\n",
            "  [ 5  6]]\n",
            "\n",
            " [[ 7  8]\n",
            "  [ 9 10]\n",
            "  [11 12]]]\n",
            "[[[ 4]\n",
            "  [ 6]]\n",
            "\n",
            " [[10]\n",
            "  [12]]]\n"
          ]
        }
      ]
    },
    {
      "cell_type": "markdown",
      "source": [
        "Array Manipulation"
      ],
      "metadata": {
        "id": "sTLVFhYmJxuH"
      },
      "id": "sTLVFhYmJxuH"
    },
    {
      "cell_type": "code",
      "source": [
        "A = np.array(np.random.randint(10,45,(8,2))) #randint take size random not, randint take two nos random take 2\n",
        "print(A)\n",
        "print(A.shape)"
      ],
      "metadata": {
        "colab": {
          "base_uri": "https://localhost:8080/"
        },
        "id": "Rjz9ZyT87J2Z",
        "outputId": "9ef6a542-a2fc-4c30-baff-dc446f174b4b"
      },
      "id": "Rjz9ZyT87J2Z",
      "execution_count": null,
      "outputs": [
        {
          "output_type": "stream",
          "name": "stdout",
          "text": [
            "[[31 15]\n",
            " [36 34]\n",
            " [33 13]\n",
            " [39 44]\n",
            " [14 41]\n",
            " [18 15]\n",
            " [41 42]\n",
            " [19 22]]\n",
            "(8, 2)\n"
          ]
        }
      ]
    },
    {
      "cell_type": "code",
      "source": [
        "tranA= np.transpose(A)\n",
        "print(tranA)"
      ],
      "metadata": {
        "colab": {
          "base_uri": "https://localhost:8080/"
        },
        "id": "BYvTvHjF7Jzy",
        "outputId": "c311d222-6a25-4881-eec3-2c68b534b028"
      },
      "id": "BYvTvHjF7Jzy",
      "execution_count": null,
      "outputs": [
        {
          "output_type": "stream",
          "name": "stdout",
          "text": [
            "[[31 36 33 39 14 18 41 19]\n",
            " [15 34 13 44 41 15 42 22]]\n"
          ]
        }
      ]
    },
    {
      "cell_type": "code",
      "source": [
        "#np.reshape\n",
        "A = np.array(np.random.randint(10,45,(3,8))) # 2D\n",
        "print(A)\n",
        "\n",
        "newshape=(2,6,2)\n",
        "new_shape = np.reshape(A,newshape)\n",
        "print(new_shape)   #multiplication should be same of elements"
      ],
      "metadata": {
        "colab": {
          "base_uri": "https://localhost:8080/"
        },
        "id": "gncWRbZ-7Jwr",
        "outputId": "ffb79494-c5bf-4dac-f4fb-ca4b4f6b767c"
      },
      "id": "gncWRbZ-7Jwr",
      "execution_count": null,
      "outputs": [
        {
          "output_type": "stream",
          "name": "stdout",
          "text": [
            "[[21 11 14 36 22 32 18 23]\n",
            " [28 27 12 27 17 19 10 11]\n",
            " [26 19 28 32 37 38 38 42]]\n",
            "[[[21 11]\n",
            "  [14 36]\n",
            "  [22 32]\n",
            "  [18 23]\n",
            "  [28 27]\n",
            "  [12 27]]\n",
            "\n",
            " [[17 19]\n",
            "  [10 11]\n",
            "  [26 19]\n",
            "  [28 32]\n",
            "  [37 38]\n",
            "  [38 42]]]\n"
          ]
        }
      ]
    },
    {
      "cell_type": "code",
      "source": [
        "# Lets take an example of a list\n",
        "a = [1,2,3]\n",
        "b = a\n",
        "b[0] = 10\n",
        "print(b)\n",
        "print(a)"
      ],
      "metadata": {
        "colab": {
          "base_uri": "https://localhost:8080/"
        },
        "id": "Twn_2gG7QCOI",
        "outputId": "0d6faff8-d2b8-45b0-ddc0-9002c546a51d"
      },
      "id": "Twn_2gG7QCOI",
      "execution_count": null,
      "outputs": [
        {
          "output_type": "stream",
          "name": "stdout",
          "text": [
            "[10, 2, 3]\n",
            "[10, 2, 3]\n"
          ]
        }
      ]
    },
    {
      "cell_type": "code",
      "source": [
        "# Lets use the copy method\n",
        "a = [1,2,3]\n",
        "b = a.copy()\n",
        "b[0] = 10\n",
        "print(b)\n",
        "print(a)"
      ],
      "metadata": {
        "colab": {
          "base_uri": "https://localhost:8080/"
        },
        "id": "biZsKeArQCLT",
        "outputId": "8f01df8d-86e1-4858-944a-19d93ead3b87"
      },
      "id": "biZsKeArQCLT",
      "execution_count": null,
      "outputs": [
        {
          "output_type": "stream",
          "name": "stdout",
          "text": [
            "[10, 2, 3]\n",
            "[1, 2, 3]\n"
          ]
        }
      ]
    },
    {
      "cell_type": "markdown",
      "source": [
        "Basic operations & functions"
      ],
      "metadata": {
        "id": "Hih5DGKXRzAN"
      },
      "id": "Hih5DGKXRzAN"
    },
    {
      "cell_type": "code",
      "source": [
        "#np.add()\n",
        "np.arange(3)+5  #0+5,1+5,2+5\n"
      ],
      "metadata": {
        "colab": {
          "base_uri": "https://localhost:8080/"
        },
        "id": "fE_rARr-QCIc",
        "outputId": "9e281c7f-f6b3-4f6f-d156-b4c8f4d169ae"
      },
      "id": "fE_rARr-QCIc",
      "execution_count": null,
      "outputs": [
        {
          "output_type": "execute_result",
          "data": {
            "text/plain": [
              "array([5, 6, 7])"
            ]
          },
          "metadata": {},
          "execution_count": 63
        }
      ]
    },
    {
      "cell_type": "code",
      "source": [
        "np.ones((3,3)) + np.arange(3)"
      ],
      "metadata": {
        "colab": {
          "base_uri": "https://localhost:8080/"
        },
        "id": "i4Om7eoaQCFo",
        "outputId": "38a9268e-ab6d-4235-9fba-a41015809d4b"
      },
      "id": "i4Om7eoaQCFo",
      "execution_count": null,
      "outputs": [
        {
          "output_type": "execute_result",
          "data": {
            "text/plain": [
              "array([[1., 2., 3.],\n",
              "       [1., 2., 3.],\n",
              "       [1., 2., 3.]])"
            ]
          },
          "metadata": {},
          "execution_count": 64
        }
      ]
    },
    {
      "cell_type": "code",
      "source": [
        "np.arange(3).reshape((3,1)) + np.arange(3)"
      ],
      "metadata": {
        "colab": {
          "base_uri": "https://localhost:8080/"
        },
        "id": "AzWRfegSQCCV",
        "outputId": "ff2016a3-3c41-4c89-83c5-f179bb951ef2"
      },
      "id": "AzWRfegSQCCV",
      "execution_count": null,
      "outputs": [
        {
          "output_type": "execute_result",
          "data": {
            "text/plain": [
              "array([[0, 1, 2],\n",
              "       [1, 2, 3],\n",
              "       [2, 3, 4]])"
            ]
          },
          "metadata": {},
          "execution_count": 65
        }
      ]
    },
    {
      "cell_type": "code",
      "source": [
        "#Example 2\n",
        "a=np.random.randint(2,6,(2,4))\n",
        "print(a)\n",
        "b=np.random.randint(1,10,(2,2))\n",
        "print(b)"
      ],
      "metadata": {
        "colab": {
          "base_uri": "https://localhost:8080/"
        },
        "id": "4-Dsg6tpQB_W",
        "outputId": "9bc95700-85d1-4406-bdf2-c0d8bf4579af"
      },
      "id": "4-Dsg6tpQB_W",
      "execution_count": null,
      "outputs": [
        {
          "output_type": "stream",
          "name": "stdout",
          "text": [
            "[[4 2 3 3]\n",
            " [4 5 4 2]]\n",
            "[[1 1]\n",
            " [7 7]]\n"
          ]
        }
      ]
    },
    {
      "cell_type": "code",
      "source": [
        "np.add(a,b)"
      ],
      "metadata": {
        "id": "ZgrekBG0IIb6",
        "colab": {
          "base_uri": "https://localhost:8080/",
          "height": 165
        },
        "outputId": "cf911ad5-9dcc-4859-964a-953a6c2edd66"
      },
      "id": "ZgrekBG0IIb6",
      "execution_count": null,
      "outputs": [
        {
          "output_type": "error",
          "ename": "ValueError",
          "evalue": "ignored",
          "traceback": [
            "\u001b[0;31m---------------------------------------------------------------------------\u001b[0m",
            "\u001b[0;31mValueError\u001b[0m                                Traceback (most recent call last)",
            "\u001b[0;32m<ipython-input-67-d5ce9f282037>\u001b[0m in \u001b[0;36m<cell line: 1>\u001b[0;34m()\u001b[0m\n\u001b[0;32m----> 1\u001b[0;31m \u001b[0mnp\u001b[0m\u001b[0;34m.\u001b[0m\u001b[0madd\u001b[0m\u001b[0;34m(\u001b[0m\u001b[0ma\u001b[0m\u001b[0;34m,\u001b[0m\u001b[0mb\u001b[0m\u001b[0;34m)\u001b[0m\u001b[0;34m\u001b[0m\u001b[0;34m\u001b[0m\u001b[0m\n\u001b[0m",
            "\u001b[0;31mValueError\u001b[0m: operands could not be broadcast together with shapes (2,4) (2,2) "
          ]
        }
      ]
    },
    {
      "cell_type": "code",
      "source": [
        "a=np.random.randint(2,6,(2,4))\n",
        "print(a)\n",
        "b=np.random.randint(0,5,(2,4))\n",
        "print(b)"
      ],
      "metadata": {
        "colab": {
          "base_uri": "https://localhost:8080/"
        },
        "id": "wjsxFZLLSjAO",
        "outputId": "66417390-d501-4aee-b276-882bfc15b583"
      },
      "id": "wjsxFZLLSjAO",
      "execution_count": null,
      "outputs": [
        {
          "output_type": "stream",
          "name": "stdout",
          "text": [
            "[[4 5 2 3]\n",
            " [2 4 4 3]]\n",
            "[[4 0 4 3]\n",
            " [2 3 0 0]]\n"
          ]
        }
      ]
    },
    {
      "cell_type": "code",
      "source": [
        "np.multiply(a,b)"
      ],
      "metadata": {
        "colab": {
          "base_uri": "https://localhost:8080/"
        },
        "id": "lC9uxdphSi88",
        "outputId": "ce4ee1c1-7869-4775-835d-c29ca1ab463d"
      },
      "id": "lC9uxdphSi88",
      "execution_count": null,
      "outputs": [
        {
          "output_type": "execute_result",
          "data": {
            "text/plain": [
              "array([[16,  0,  8,  9],\n",
              "       [ 4, 12,  0,  0]])"
            ]
          },
          "metadata": {},
          "execution_count": 69
        }
      ]
    },
    {
      "cell_type": "code",
      "source": [
        "a=np.random.randint(5,9,(2,4))\n",
        "print(a)"
      ],
      "metadata": {
        "colab": {
          "base_uri": "https://localhost:8080/"
        },
        "id": "rD0IBkm9Si6b",
        "outputId": "4a3775b1-5be8-425a-a308-3480067073ac"
      },
      "id": "rD0IBkm9Si6b",
      "execution_count": null,
      "outputs": [
        {
          "output_type": "stream",
          "name": "stdout",
          "text": [
            "[[6 8 5 5]\n",
            " [6 8 7 6]]\n"
          ]
        }
      ]
    },
    {
      "cell_type": "code",
      "source": [
        "print(np.sum(a))\n",
        "print(np.sum(a,axis=0))\n",
        "print(np.sum(a,axis=1))"
      ],
      "metadata": {
        "colab": {
          "base_uri": "https://localhost:8080/"
        },
        "id": "1M53WCY_Si3r",
        "outputId": "30a8436c-8d42-4b9d-9175-b40c158d11b1"
      },
      "id": "1M53WCY_Si3r",
      "execution_count": null,
      "outputs": [
        {
          "output_type": "stream",
          "name": "stdout",
          "text": [
            "51\n",
            "[12 16 12 11]\n",
            "[24 27]\n"
          ]
        }
      ]
    },
    {
      "cell_type": "code",
      "source": [
        "# Calculate minimum\n",
        "print(np.min(a))\n",
        "print(np.min(a,axis=2)) # Across Column"
      ],
      "metadata": {
        "id": "Gid73cd2Si02"
      },
      "id": "Gid73cd2Si02",
      "execution_count": null,
      "outputs": []
    },
    {
      "cell_type": "code",
      "source": [
        "# Sort the array\n",
        "a=np.random.randint(0,20,(3,3))\n",
        "print(a)"
      ],
      "metadata": {
        "colab": {
          "base_uri": "https://localhost:8080/"
        },
        "id": "RS81hWWwSiyV",
        "outputId": "940cab4b-c309-42cb-f84b-252d044f23f2"
      },
      "id": "RS81hWWwSiyV",
      "execution_count": null,
      "outputs": [
        {
          "output_type": "stream",
          "name": "stdout",
          "text": [
            "[[18 18 11]\n",
            " [ 1 13  2]\n",
            " [19 10 12]]\n"
          ]
        }
      ]
    },
    {
      "cell_type": "code",
      "source": [
        "print(np.sort(a,axis=0)) # Ascending"
      ],
      "metadata": {
        "colab": {
          "base_uri": "https://localhost:8080/"
        },
        "id": "-45-zUPMSivb",
        "outputId": "8baf0b38-fe6d-4a38-b05c-4c4ad69b2980"
      },
      "id": "-45-zUPMSivb",
      "execution_count": null,
      "outputs": [
        {
          "output_type": "stream",
          "name": "stdout",
          "text": [
            "[[ 1 10  2]\n",
            " [18 13 11]\n",
            " [19 18 12]]\n"
          ]
        }
      ]
    },
    {
      "cell_type": "code",
      "source": [
        "print(np.sort(a,axis=1))"
      ],
      "metadata": {
        "colab": {
          "base_uri": "https://localhost:8080/"
        },
        "id": "MrhagwjdSisR",
        "outputId": "4038c93c-5594-4164-97e2-e60f11ce62ac"
      },
      "id": "MrhagwjdSisR",
      "execution_count": null,
      "outputs": [
        {
          "output_type": "stream",
          "name": "stdout",
          "text": [
            "[[11 18 18]\n",
            " [ 1  2 13]\n",
            " [10 12 19]]\n"
          ]
        }
      ]
    },
    {
      "cell_type": "code",
      "source": [
        "print(-np.sort(-a,axis=1)) # Descending"
      ],
      "metadata": {
        "id": "vD4Jsyki_rcB",
        "colab": {
          "base_uri": "https://localhost:8080/"
        },
        "outputId": "0dd2584e-1546-4be4-eb6e-d43070fc3df5"
      },
      "id": "vD4Jsyki_rcB",
      "execution_count": null,
      "outputs": [
        {
          "output_type": "stream",
          "name": "stdout",
          "text": [
            "[[18 18 11]\n",
            " [13  2  1]\n",
            " [19 12 10]]\n"
          ]
        }
      ]
    },
    {
      "cell_type": "code",
      "source": [
        "sum(np.arange(3)*np.arange(3).transpose())"
      ],
      "metadata": {
        "id": "JnZzOcUI_rZP",
        "colab": {
          "base_uri": "https://localhost:8080/"
        },
        "outputId": "4f4d1983-3cb2-43f8-d442-e2d571e881ce"
      },
      "id": "JnZzOcUI_rZP",
      "execution_count": null,
      "outputs": [
        {
          "output_type": "execute_result",
          "data": {
            "text/plain": [
              "5"
            ]
          },
          "metadata": {},
          "execution_count": 77
        }
      ]
    },
    {
      "cell_type": "markdown",
      "source": [
        "# Recursion"
      ],
      "metadata": {
        "id": "5I0oj8z0mQq8"
      },
      "id": "5I0oj8z0mQq8"
    },
    {
      "cell_type": "code",
      "source": [
        "def multipy(a,b):\n",
        "\n",
        "  result = 0\n",
        "\n",
        "  for i in range(b):\n",
        "    result = result + a\n",
        "\n",
        "  print(result)\n",
        "\n",
        "multipy(5,2)"
      ],
      "metadata": {
        "colab": {
          "base_uri": "https://localhost:8080/"
        },
        "id": "SMKIy50NmYo_",
        "outputId": "7fbffcad-c1d7-485d-e51a-3611374a3649"
      },
      "id": "SMKIy50NmYo_",
      "execution_count": null,
      "outputs": [
        {
          "output_type": "stream",
          "name": "stdout",
          "text": [
            "10\n"
          ]
        }
      ]
    },
    {
      "cell_type": "code",
      "source": [
        "#same code using recursion\n",
        "\n",
        "def mul(a,b):\n",
        "  if b == 1:\n",
        "    return a\n",
        "  else:\n",
        "    return a+mul(a,b-1)\n",
        "\n",
        "print(mul(5,2))"
      ],
      "metadata": {
        "colab": {
          "base_uri": "https://localhost:8080/"
        },
        "id": "zk6wzPsknMvn",
        "outputId": "10494ec6-b2e4-4996-bd42-5101fb241f6e"
      },
      "id": "zk6wzPsknMvn",
      "execution_count": null,
      "outputs": [
        {
          "output_type": "stream",
          "name": "stdout",
          "text": [
            "10\n"
          ]
        }
      ]
    },
    {
      "cell_type": "code",
      "source": [
        "def fact(num):\n",
        "  if num == 1:\n",
        "    return 1\n",
        "  else:\n",
        "    #5=5*4\n",
        "    return num*fact(num-1)\n",
        "print(fact(5))\n"
      ],
      "metadata": {
        "colab": {
          "base_uri": "https://localhost:8080/"
        },
        "id": "S_944Cr1oVtP",
        "outputId": "db911c1c-6972-4029-f8ac-c7b808bcfe49"
      },
      "id": "S_944Cr1oVtP",
      "execution_count": null,
      "outputs": [
        {
          "output_type": "stream",
          "name": "stdout",
          "text": [
            "120\n"
          ]
        }
      ]
    },
    {
      "cell_type": "code",
      "source": [
        "#Palindrome\n",
        "def palin(text):\n",
        "  if len(text) <= 1:\n",
        "    print('palindrome')\n",
        "  else:\n",
        "    if text[0] == text[-1]:\n",
        "      palin(text[1:-1])\n",
        "    else:\n",
        "      print('Not pali')\n",
        "\n",
        "\n",
        "print(palin('madam'))"
      ],
      "metadata": {
        "colab": {
          "base_uri": "https://localhost:8080/"
        },
        "id": "M9KxkUbrpYeg",
        "outputId": "c27b4796-c351-4c2f-aa25-5bfb373db7a9"
      },
      "id": "M9KxkUbrpYeg",
      "execution_count": null,
      "outputs": [
        {
          "output_type": "stream",
          "name": "stdout",
          "text": [
            "palindrome\n",
            "None\n"
          ]
        }
      ]
    },
    {
      "cell_type": "code",
      "source": [
        "#fibonacci\n",
        "\n",
        "def fib(m):\n",
        "  if m==0 or m==1:\n",
        "    return 1\n",
        "  else:\n",
        "    return fib(m-1)+fib(m-2)\n",
        "print(fib(12))"
      ],
      "metadata": {
        "colab": {
          "base_uri": "https://localhost:8080/"
        },
        "id": "_U_ujGrI6gSn",
        "outputId": "fc4c267e-aed8-4b57-c16f-c918ffc6212f"
      },
      "id": "_U_ujGrI6gSn",
      "execution_count": null,
      "outputs": [
        {
          "output_type": "stream",
          "name": "stdout",
          "text": [
            "233\n"
          ]
        }
      ]
    },
    {
      "cell_type": "code",
      "source": [
        "import time\n",
        "\n",
        "\n",
        "def fib(m):\n",
        "  if m==0 or m==1:\n",
        "    return 1\n",
        "  else:\n",
        "    return fib(m-1)+fib(m-2)\n",
        "print(fib(18))\n",
        "\n",
        "start = time.time()\n",
        "print(fib(5))\n",
        "\n",
        "print(time.time()-start)"
      ],
      "metadata": {
        "colab": {
          "base_uri": "https://localhost:8080/"
        },
        "id": "bWsPXiJN8AeU",
        "outputId": "56b50059-19d4-479e-be6a-c3d96fcf363b"
      },
      "id": "bWsPXiJN8AeU",
      "execution_count": null,
      "outputs": [
        {
          "output_type": "stream",
          "name": "stdout",
          "text": [
            "4181\n",
            "8\n",
            "0.00013780593872070312\n"
          ]
        }
      ]
    },
    {
      "cell_type": "code",
      "source": [],
      "metadata": {
        "id": "jlHuuamm9I-n"
      },
      "id": "jlHuuamm9I-n",
      "execution_count": null,
      "outputs": []
    },
    {
      "cell_type": "markdown",
      "source": [
        "# Special Function"
      ],
      "metadata": {
        "id": "QZ248PG7RUc0"
      },
      "id": "QZ248PG7RUc0"
    },
    {
      "cell_type": "code",
      "source": [
        "# Define a list of strings representing numbers\n",
        "numbers = ['1.5', '2.7', '3.2']\n",
        "\n",
        "# Use map() to convert each string to a float\n",
        "converted_numbers = list(map(float, numbers))\n",
        "\n",
        "print(converted_numbers)"
      ],
      "metadata": {
        "id": "joPWc47rRYi_",
        "outputId": "c8947480-dce9-44d9-84a3-0969f8d178bf",
        "colab": {
          "base_uri": "https://localhost:8080/"
        }
      },
      "id": "joPWc47rRYi_",
      "execution_count": null,
      "outputs": [
        {
          "output_type": "stream",
          "name": "stdout",
          "text": [
            "[1.5, 2.7, 3.2]\n"
          ]
        }
      ]
    },
    {
      "cell_type": "code",
      "source": [
        "num = 28\n",
        "divisors_sum = 0\n",
        "\n",
        "for i in range(1, num):\n",
        "    if num % i == 0:\n",
        "        divisors_sum += i\n",
        "\n",
        "if divisors_sum == num:\n",
        "    print(\"is a perfect number\")\n",
        "else:\n",
        "    print(\"is not a perfect number\")"
      ],
      "metadata": {
        "id": "TqjF2EJgRZce",
        "colab": {
          "base_uri": "https://localhost:8080/"
        },
        "outputId": "d40dc820-a33c-4993-915e-606c6914d3e4"
      },
      "id": "TqjF2EJgRZce",
      "execution_count": null,
      "outputs": [
        {
          "output_type": "stream",
          "name": "stdout",
          "text": [
            "is a perfect number\n"
          ]
        }
      ]
    },
    {
      "cell_type": "code",
      "source": [
        "def insert_string_in_middle(original_string, insert_string):\n",
        "    middle_index = len(original_string) // 2\n",
        "    return original_string[:middle_index] + insert_string + original_string[middle_index:]\n",
        "\n",
        "original_string = \"[[]]\"\n",
        "insert_string = \"Python\"\n",
        "\n",
        "result = insert_string_in_middle(original_string, insert_string)\n",
        "print(result)"
      ],
      "metadata": {
        "colab": {
          "base_uri": "https://localhost:8080/"
        },
        "id": "fdUNZCH4IeIx",
        "outputId": "c502ae1b-0c25-473f-91b2-305a425f0b8c"
      },
      "id": "fdUNZCH4IeIx",
      "execution_count": null,
      "outputs": [
        {
          "output_type": "stream",
          "name": "stdout",
          "text": [
            "[[Python]]\n"
          ]
        }
      ]
    },
    {
      "cell_type": "code",
      "source": [
        "\n",
        "def insert_string_in_middle(original_string, insert_string):\n",
        "    middle_index = len(original_string) // 2\n",
        "    return original_string[:middle_index] + insert_string + original_string[middle_index:]\n",
        "\n",
        "# User input\n",
        "original_string = input(\"Enter the original string: \")\n",
        "insert_string = input(\"Enter the string to insert: \")\n",
        "\n",
        "result = insert_string_in_middle(original_string, insert_string)\n",
        "print(\"Result:\", result)"
      ],
      "metadata": {
        "colab": {
          "base_uri": "https://localhost:8080/"
        },
        "id": "nW3uOVSYJklJ",
        "outputId": "a9e7b01a-2d4f-4d95-cfc9-4040a970e846"
      },
      "id": "nW3uOVSYJklJ",
      "execution_count": null,
      "outputs": [
        {
          "output_type": "stream",
          "name": "stdout",
          "text": [
            "Enter the original string: [[]]\n",
            "Enter the string to insert: Python\n",
            "Result: [[Python]]\n"
          ]
        }
      ]
    },
    {
      "cell_type": "code",
      "source": [],
      "metadata": {
        "id": "T1if_XUYNuS3"
      },
      "id": "T1if_XUYNuS3",
      "execution_count": null,
      "outputs": []
    }
  ],
  "metadata": {
    "kernelspec": {
      "display_name": "Python 3 (ipykernel)",
      "language": "python",
      "name": "python3"
    },
    "language_info": {
      "codemirror_mode": {
        "name": "ipython",
        "version": 3
      },
      "file_extension": ".py",
      "mimetype": "text/x-python",
      "name": "python",
      "nbconvert_exporter": "python",
      "pygments_lexer": "ipython3",
      "version": "3.9.13"
    },
    "colab": {
      "provenance": [],
      "include_colab_link": true
    }
  },
  "nbformat": 4,
  "nbformat_minor": 5
}