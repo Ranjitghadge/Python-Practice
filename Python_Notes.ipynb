{
  "cells": [
    {
      "cell_type": "markdown",
      "metadata": {
        "id": "view-in-github",
        "colab_type": "text"
      },
      "source": [
        "<a href=\"https://colab.research.google.com/github/Ranjitghadge/Python-Practice/blob/main/Python_Notes.ipynb\" target=\"_parent\"><img src=\"https://colab.research.google.com/assets/colab-badge.svg\" alt=\"Open In Colab\"/></a>"
      ]
    },
    {
      "cell_type": "code",
      "source": [],
      "metadata": {
        "id": "BsZSNiMG0b7G"
      },
      "id": "BsZSNiMG0b7G",
      "execution_count": null,
      "outputs": []
    },
    {
      "cell_type": "code",
      "execution_count": null,
      "metadata": {
        "id": "917cd579",
        "outputId": "f17a7ef0-fbaf-4830-847c-c87f0ca200cf"
      },
      "outputs": [
        {
          "data": {
            "text/plain": [
              "float"
            ]
          },
          "execution_count": 1,
          "metadata": {},
          "output_type": "execute_result"
        }
      ],
      "source": [
        "type(5.1)"
      ],
      "id": "917cd579"
    },
    {
      "cell_type": "code",
      "execution_count": null,
      "metadata": {
        "id": "ae334253",
        "outputId": "d9498b5f-4664-4e28-c2ee-d8232a97da05"
      },
      "outputs": [
        {
          "data": {
            "text/plain": [
              "5"
            ]
          },
          "execution_count": 2,
          "metadata": {},
          "output_type": "execute_result"
        }
      ],
      "source": [
        "int(5.1245)"
      ],
      "id": "ae334253"
    },
    {
      "cell_type": "code",
      "execution_count": null,
      "metadata": {
        "id": "fafded57",
        "outputId": "570fec22-2f2e-4997-a40f-b03fc57c6fb6"
      },
      "outputs": [
        {
          "data": {
            "text/plain": [
              "True"
            ]
          },
          "execution_count": 8,
          "metadata": {},
          "output_type": "execute_result"
        }
      ],
      "source": [
        "bool(-15884)"
      ],
      "id": "fafded57"
    },
    {
      "cell_type": "code",
      "execution_count": null,
      "metadata": {
        "id": "9468d732",
        "outputId": "7b069318-fd53-4710-c507-26cd6cd50964"
      },
      "outputs": [
        {
          "data": {
            "text/plain": [
              "'scient'"
            ]
          },
          "execution_count": 17,
          "metadata": {},
          "output_type": "execute_result"
        }
      ],
      "source": [
        "a='I am a data scientist'\n",
        "a[-9:-3]"
      ],
      "id": "9468d732"
    },
    {
      "cell_type": "code",
      "execution_count": null,
      "metadata": {
        "id": "45c5b856",
        "outputId": "e0b4bec3-96a7-400e-f251-099fb99a246b"
      },
      "outputs": [
        {
          "data": {
            "text/plain": [
              "21"
            ]
          },
          "execution_count": 18,
          "metadata": {},
          "output_type": "execute_result"
        }
      ],
      "source": [
        "#len of string\n",
        "len(a)"
      ],
      "id": "45c5b856"
    },
    {
      "cell_type": "code",
      "execution_count": null,
      "metadata": {
        "id": "fcbb99c4",
        "outputId": "17d7dbec-89ab-44eb-bd45-3bf154798eb9"
      },
      "outputs": [
        {
          "data": {
            "text/plain": [
              "'I am a data TcientiTt'"
            ]
          },
          "execution_count": 19,
          "metadata": {},
          "output_type": "execute_result"
        }
      ],
      "source": [
        "#for replace\n",
        "a.replace(\"s\",\"T\")"
      ],
      "id": "fcbb99c4"
    },
    {
      "cell_type": "code",
      "execution_count": null,
      "metadata": {
        "id": "d5833bfb",
        "outputId": "2597cb73-0868-479a-aab4-a6c39ef78d79"
      },
      "outputs": [
        {
          "data": {
            "text/plain": [
              "['I', 'am', 'a', 'data', 'scientist']"
            ]
          },
          "execution_count": 21,
          "metadata": {},
          "output_type": "execute_result"
        }
      ],
      "source": [
        "#create list of string\n",
        "a.split()"
      ],
      "id": "d5833bfb"
    },
    {
      "cell_type": "code",
      "execution_count": null,
      "metadata": {
        "id": "fec46d77",
        "outputId": "03f1ce28-76da-4ef4-e4ed-264536c56d22"
      },
      "outputs": [
        {
          "data": {
            "text/plain": [
              "'i am a data scientist'"
            ]
          },
          "execution_count": 23,
          "metadata": {},
          "output_type": "execute_result"
        }
      ],
      "source": [
        "a.lower()"
      ],
      "id": "fec46d77"
    },
    {
      "cell_type": "code",
      "execution_count": null,
      "metadata": {
        "id": "d89454fa",
        "outputId": "ed14c659-fa2b-49ab-8755-d36883e7d609"
      },
      "outputs": [
        {
          "data": {
            "text/plain": [
              "'I AM A DATA SCIENTIST'"
            ]
          },
          "execution_count": 24,
          "metadata": {},
          "output_type": "execute_result"
        }
      ],
      "source": [
        "a.upper()"
      ],
      "id": "d89454fa"
    },
    {
      "cell_type": "code",
      "execution_count": null,
      "metadata": {
        "id": "f8c217e9",
        "outputId": "def155c7-ec1e-4a79-f2d6-aa8d27c579bc"
      },
      "outputs": [
        {
          "data": {
            "text/plain": [
              "'I Am A Data Scientist'"
            ]
          },
          "execution_count": 27,
          "metadata": {},
          "output_type": "execute_result"
        }
      ],
      "source": [
        "a.title() #make 1st letter capital"
      ],
      "id": "f8c217e9"
    },
    {
      "cell_type": "code",
      "execution_count": null,
      "metadata": {
        "id": "168f9f21",
        "outputId": "ffbcc3a8-46bb-451f-9fd9-757e6cd6eeeb"
      },
      "outputs": [
        {
          "data": {
            "text/plain": [
              "'I am '"
            ]
          },
          "execution_count": 28,
          "metadata": {},
          "output_type": "execute_result"
        }
      ],
      "source": [
        "a[:5] #return 1st five characters"
      ],
      "id": "168f9f21"
    },
    {
      "cell_type": "markdown",
      "metadata": {
        "id": "02f35638"
      },
      "source": [
        "# List"
      ],
      "id": "02f35638"
    },
    {
      "cell_type": "code",
      "execution_count": null,
      "metadata": {
        "id": "f547da95"
      },
      "outputs": [],
      "source": [
        "bikes=['trek','redline','giant']"
      ],
      "id": "f547da95"
    },
    {
      "cell_type": "code",
      "execution_count": null,
      "metadata": {
        "id": "06c1aeeb",
        "outputId": "82326a88-b499-47af-cf24-064cf6007d9b"
      },
      "outputs": [
        {
          "data": {
            "text/plain": [
              "'trek'"
            ]
          },
          "execution_count": 31,
          "metadata": {},
          "output_type": "execute_result"
        }
      ],
      "source": [
        "#get 1st item\n",
        "bikes[0]"
      ],
      "id": "06c1aeeb"
    },
    {
      "cell_type": "code",
      "execution_count": null,
      "metadata": {
        "id": "72fe0de8",
        "outputId": "4d436eeb-f9d3-4f76-8718-3b0f79c1bf7f"
      },
      "outputs": [
        {
          "data": {
            "text/plain": [
              "'giant'"
            ]
          },
          "execution_count": 32,
          "metadata": {},
          "output_type": "execute_result"
        }
      ],
      "source": [
        "#last item\n",
        "bikes[-1]"
      ],
      "id": "72fe0de8"
    },
    {
      "cell_type": "code",
      "execution_count": null,
      "metadata": {
        "id": "8306c888",
        "outputId": "e27390d5-0777-4d7c-bbf1-aa349b399caa"
      },
      "outputs": [
        {
          "name": "stdout",
          "output_type": "stream",
          "text": [
            "trek\n",
            "redline\n",
            "giant\n"
          ]
        }
      ],
      "source": [
        "for i in bikes:\n",
        "    print(i)"
      ],
      "id": "8306c888"
    },
    {
      "cell_type": "code",
      "execution_count": null,
      "metadata": {
        "id": "3383c0b5",
        "outputId": "0013284f-6c5e-4e9b-dcf1-38de6f7fdd1e"
      },
      "outputs": [
        {
          "name": "stdout",
          "output_type": "stream",
          "text": [
            "['trek', 'redline', 'giant', 'splendor']\n"
          ]
        }
      ],
      "source": [
        "bikes=['trek','redline','giant']\n",
        "bikes.append('splendor')\n",
        "print(bikes)"
      ],
      "id": "3383c0b5"
    },
    {
      "cell_type": "code",
      "execution_count": null,
      "metadata": {
        "id": "4b3f7600",
        "outputId": "1e7754c9-c341-4d6e-83a0-30419f09e423"
      },
      "outputs": [
        {
          "name": "stdout",
          "output_type": "stream",
          "text": [
            "[0, 1, 8, 27, 64, 125, 216, 343, 512, 729, 1000]\n"
          ]
        }
      ],
      "source": [
        "cubes=[]\n",
        "\n",
        "for i in range(0,11):\n",
        "    cubes.append(i**3)\n",
        "print(cubes)"
      ],
      "id": "4b3f7600"
    },
    {
      "cell_type": "code",
      "execution_count": null,
      "metadata": {
        "id": "7aaf53ff",
        "outputId": "1285fe71-9694-4a70-c835-74d8eb313d0b"
      },
      "outputs": [
        {
          "name": "stdout",
          "output_type": "stream",
          "text": [
            "[1]\n",
            "[1, 2]\n",
            "[1, 2, 3]\n",
            "[1, 2, 3, 4]\n",
            "[1, 2, 3, 4, 5]\n",
            "[1, 2, 3, 4, 5, 6]\n",
            "[1, 2, 3, 4, 5, 6, 7]\n",
            "[1, 2, 3, 4, 5, 6, 7, 8]\n",
            "[1, 2, 3, 4, 5, 6, 7, 8, 9]\n",
            "[1, 2, 3, 4, 5, 6, 7, 8, 9, 10]\n",
            "[1, 2, 3, 4, 5, 6, 7, 8, 9, 10, 11]\n"
          ]
        }
      ],
      "source": [
        "cubes=[]\n",
        "\n",
        "for i in range(0,11):\n",
        "    cubes.append(i+1)\n",
        "    print(cubes)"
      ],
      "id": "7aaf53ff"
    },
    {
      "cell_type": "code",
      "execution_count": null,
      "metadata": {
        "id": "f78732d5"
      },
      "outputs": [],
      "source": [
        "cubes=0\n",
        "\n",
        "for i in range(0,11):\n",
        "    cubes=(i+1)\n",
        "    print(cubes)"
      ],
      "id": "f78732d5"
    },
    {
      "cell_type": "code",
      "execution_count": null,
      "metadata": {
        "id": "8bba76e3",
        "outputId": "e6281d41-831b-4fdd-ac18-6851553e4bde"
      },
      "outputs": [
        {
          "name": "stdout",
          "output_type": "stream",
          "text": [
            "[0, 1, 8, 27, 64, 125, 216, 343, 512, 729, 1000]\n"
          ]
        }
      ],
      "source": [
        "#list comprehension\n",
        "cubes=[i**3 for i in range(0,11)]\n",
        "print(cubes)\n"
      ],
      "id": "8bba76e3"
    },
    {
      "cell_type": "code",
      "execution_count": null,
      "metadata": {
        "id": "7a2d0e62",
        "outputId": "73bcaa85-17f4-4a20-aaf2-a04221e5a26c"
      },
      "outputs": [
        {
          "data": {
            "text/plain": [
              "[0, 1]"
            ]
          },
          "execution_count": 58,
          "metadata": {},
          "output_type": "execute_result"
        }
      ],
      "source": [
        "cubes\n",
        "cubes[:2]  #slicing of list "
      ],
      "id": "7a2d0e62"
    },
    {
      "cell_type": "code",
      "execution_count": null,
      "metadata": {
        "id": "98e94f1d",
        "outputId": "5988e526-70da-4866-e503-4b137103e7b4"
      },
      "outputs": [
        {
          "data": {
            "text/plain": [
              "0"
            ]
          },
          "execution_count": 59,
          "metadata": {},
          "output_type": "execute_result"
        }
      ],
      "source": [
        "cubes[0]   #returning 1st value of list"
      ],
      "id": "98e94f1d"
    },
    {
      "cell_type": "code",
      "execution_count": null,
      "metadata": {
        "id": "8aef0dff",
        "outputId": "ca918f86-5d65-4a71-fef0-2f8d0e6cf374"
      },
      "outputs": [
        {
          "data": {
            "text/plain": [
              "[1, 5, 1, 4, 7, 8, 9, 6, 1, 12]"
            ]
          },
          "execution_count": 71,
          "metadata": {},
          "output_type": "execute_result"
        }
      ],
      "source": [
        "list=[1,5,1,4,7,8,9,6,1,12]\n",
        "list"
      ],
      "id": "8aef0dff"
    },
    {
      "cell_type": "code",
      "execution_count": null,
      "metadata": {
        "id": "52420f5e",
        "outputId": "bb2cbbff-7a03-4e45-b810-bb929f41c39f"
      },
      "outputs": [
        {
          "ename": "TypeError",
          "evalue": "'int' object is not callable",
          "output_type": "error",
          "traceback": [
            "\u001b[1;31m---------------------------------------------------------------------------\u001b[0m",
            "\u001b[1;31mTypeError\u001b[0m                                 Traceback (most recent call last)",
            "\u001b[1;32m~\\AppData\\Local\\Temp\\ipykernel_139588\\3208674171.py\u001b[0m in \u001b[0;36m<module>\u001b[1;34m\u001b[0m\n\u001b[0;32m      1\u001b[0m \u001b[0ml\u001b[0m\u001b[1;33m=\u001b[0m\u001b[1;33m[\u001b[0m\u001b[1;36m1\u001b[0m\u001b[1;33m,\u001b[0m\u001b[1;36m5\u001b[0m\u001b[1;33m,\u001b[0m\u001b[1;36m1\u001b[0m\u001b[1;33m,\u001b[0m\u001b[1;36m4\u001b[0m\u001b[1;33m,\u001b[0m\u001b[1;36m7\u001b[0m\u001b[1;33m,\u001b[0m\u001b[1;36m8\u001b[0m\u001b[1;33m,\u001b[0m\u001b[1;36m9\u001b[0m\u001b[1;33m,\u001b[0m\u001b[1;36m6\u001b[0m\u001b[1;33m,\u001b[0m\u001b[1;36m1\u001b[0m\u001b[1;33m,\u001b[0m\u001b[1;36m12\u001b[0m\u001b[1;33m]\u001b[0m\u001b[1;33m\u001b[0m\u001b[1;33m\u001b[0m\u001b[0m\n\u001b[1;32m----> 2\u001b[1;33m \u001b[0ms\u001b[0m\u001b[1;33m=\u001b[0m\u001b[0msum\u001b[0m\u001b[1;33m(\u001b[0m\u001b[0ml\u001b[0m\u001b[1;33m)\u001b[0m\u001b[1;33m\u001b[0m\u001b[1;33m\u001b[0m\u001b[0m\n\u001b[0m\u001b[0;32m      3\u001b[0m \u001b[0mprint\u001b[0m\u001b[1;33m(\u001b[0m\u001b[0ms\u001b[0m\u001b[1;33m)\u001b[0m\u001b[1;33m\u001b[0m\u001b[1;33m\u001b[0m\u001b[0m\n",
            "\u001b[1;31mTypeError\u001b[0m: 'int' object is not callable"
          ]
        }
      ],
      "source": [
        "l=[1,5,1,4,7,8,9,6,1,12] #for sum of list element\n",
        "s=sum(l)\n",
        "print(s)"
      ],
      "id": "52420f5e"
    },
    {
      "cell_type": "code",
      "execution_count": null,
      "metadata": {
        "id": "c6f8987f",
        "outputId": "c69233c1-9ec7-4d85-a8fb-5dd244883fd1"
      },
      "outputs": [
        {
          "data": {
            "text/plain": [
              "1"
            ]
          },
          "execution_count": 81,
          "metadata": {},
          "output_type": "execute_result"
        }
      ],
      "source": [
        "min(l)"
      ],
      "id": "c6f8987f"
    },
    {
      "cell_type": "code",
      "execution_count": null,
      "metadata": {
        "id": "d177da25",
        "outputId": "36647943-f67f-42a8-baae-f54cc86e5378"
      },
      "outputs": [
        {
          "data": {
            "text/plain": [
              "[1, 5, 1, 4, 7, 8, 9, 6, 1, 12, 500, 500, 500]"
            ]
          },
          "execution_count": 86,
          "metadata": {},
          "output_type": "execute_result"
        }
      ],
      "source": [
        "l.append(500) #append the value in list\n",
        "l"
      ],
      "id": "d177da25"
    },
    {
      "cell_type": "code",
      "execution_count": null,
      "metadata": {
        "id": "1fdbf27c",
        "outputId": "e79f8c6c-e48f-484a-cbfe-273a5682b663"
      },
      "outputs": [
        {
          "data": {
            "text/plain": [
              "[1, 1, 1, 4, 5, 6, 7, 8, 9, 12, 500, 500, 500]"
            ]
          },
          "execution_count": 88,
          "metadata": {},
          "output_type": "execute_result"
        }
      ],
      "source": [
        "l.sort() #sort ascending\n",
        "l"
      ],
      "id": "1fdbf27c"
    },
    {
      "cell_type": "code",
      "execution_count": null,
      "metadata": {
        "id": "0e9a3c95",
        "outputId": "4ab9410c-aed0-4a07-b090-016abda52def"
      },
      "outputs": [
        {
          "data": {
            "text/plain": [
              "[500, 500, 500, 12, 9, 8, 7, 6, 5, 4, 1, 1, 1]"
            ]
          },
          "execution_count": 89,
          "metadata": {},
          "output_type": "execute_result"
        }
      ],
      "source": [
        "l.sort(reverse=True) #sort descending\n",
        "l"
      ],
      "id": "0e9a3c95"
    },
    {
      "cell_type": "code",
      "execution_count": null,
      "metadata": {
        "id": "8584c196",
        "outputId": "b34a0376-25f4-4502-9df3-9499343cc752"
      },
      "outputs": [
        {
          "data": {
            "text/plain": [
              "'A B C D'"
            ]
          },
          "execution_count": 90,
          "metadata": {},
          "output_type": "execute_result"
        }
      ],
      "source": [
        "bikes=['trek','redline','giant'] #convert list into string\n",
        "\" \".join(['A','B','C','D'])"
      ],
      "id": "8584c196"
    },
    {
      "cell_type": "code",
      "execution_count": null,
      "metadata": {
        "id": "2c7c2fb2",
        "outputId": "dded5e61-1357-47c5-f850-425ee62161b6"
      },
      "outputs": [
        {
          "data": {
            "text/plain": [
              "[500, 500, 500, 12, 9, 8, 7, 6, 5, 4, 1, 1, 1]"
            ]
          },
          "execution_count": 93,
          "metadata": {},
          "output_type": "execute_result"
        }
      ],
      "source": [
        "l.reverse() #reverse the list\n",
        "l"
      ],
      "id": "2c7c2fb2"
    },
    {
      "cell_type": "code",
      "execution_count": null,
      "metadata": {
        "id": "59e6ef00",
        "outputId": "76533702-c33a-4d40-a982-f71bd02717cb"
      },
      "outputs": [
        {
          "data": {
            "text/plain": [
              "[5, 4]"
            ]
          },
          "execution_count": 98,
          "metadata": {},
          "output_type": "execute_result"
        }
      ],
      "source": [
        "l[-5:-3]"
      ],
      "id": "59e6ef00"
    },
    {
      "cell_type": "markdown",
      "metadata": {
        "id": "5e287f01"
      },
      "source": [
        "# Tuples"
      ],
      "id": "5e287f01"
    },
    {
      "cell_type": "code",
      "execution_count": null,
      "metadata": {
        "id": "ce9a82a0",
        "outputId": "5ad6a640-4eaf-402f-adea-051fd8b959c5"
      },
      "outputs": [
        {
          "name": "stdout",
          "output_type": "stream",
          "text": [
            "('ranjit', 'ramesh', 'ghadge')\n"
          ]
        }
      ],
      "source": [
        "tuple='ranjit','ramesh','ghadge'\n",
        "print(tuple)"
      ],
      "id": "ce9a82a0"
    },
    {
      "cell_type": "code",
      "execution_count": null,
      "metadata": {
        "id": "e045b661",
        "outputId": "0631fca5-14d2-46e4-c554-17c6ac8a6374"
      },
      "outputs": [
        {
          "data": {
            "text/plain": [
              "('ranjit', 'ramesh', 'ghadge', '25', '360', '23')"
            ]
          },
          "execution_count": 102,
          "metadata": {},
          "output_type": "execute_result"
        }
      ],
      "source": [
        "#concanetate two tuples\n",
        "tuple='ranjit','ramesh','ghadge'\n",
        "tuple2= '25','360','23'\n",
        "con=(tuple+tuple2)\n",
        "con"
      ],
      "id": "e045b661"
    },
    {
      "cell_type": "code",
      "execution_count": null,
      "metadata": {
        "id": "94daef9b",
        "outputId": "1d4e8c89-67d5-47c9-8dd3-44475bb8aeeb"
      },
      "outputs": [
        {
          "name": "stdout",
          "output_type": "stream",
          "text": [
            "(4, 5, 6, 7, 8, 1)\n"
          ]
        }
      ],
      "source": [
        "#slicing of tuple\n",
        "a=(1,2,4,5,6,7,8,1,0,2,4)\n",
        "print(a[2:8])"
      ],
      "id": "94daef9b"
    },
    {
      "cell_type": "code",
      "execution_count": null,
      "metadata": {
        "id": "ccae296f",
        "outputId": "53bf99b4-f7bb-482f-b0bf-9c1d7c2e5dcc"
      },
      "outputs": [
        {
          "data": {
            "text/plain": [
              "(5, 6, 7, 8, 1)"
            ]
          },
          "execution_count": 105,
          "metadata": {},
          "output_type": "execute_result"
        }
      ],
      "source": [
        "a[3:8]"
      ],
      "id": "ccae296f"
    },
    {
      "cell_type": "markdown",
      "metadata": {
        "id": "80047587"
      },
      "source": [
        "# Dictionaries"
      ],
      "id": "80047587"
    },
    {
      "cell_type": "code",
      "execution_count": null,
      "metadata": {
        "id": "ef956101",
        "outputId": "25c1fdf6-f692-4b08-ea40-833030c96398"
      },
      "outputs": [
        {
          "name": "stdout",
          "output_type": "stream",
          "text": [
            "2\n"
          ]
        }
      ],
      "source": [
        "num={'one':1,'two':2,'three':3}\n",
        "for word,num in num.items():\n",
        "    if num%2==0:\n",
        "        print(num)"
      ],
      "id": "ef956101"
    },
    {
      "cell_type": "code",
      "execution_count": null,
      "metadata": {
        "id": "4ae1f986",
        "outputId": "1b0d6c97-4e43-413c-9f34-ac17d1ce5980"
      },
      "outputs": [
        {
          "name": "stdout",
          "output_type": "stream",
          "text": [
            "1\n",
            "2\n",
            "3\n"
          ]
        }
      ],
      "source": [
        "num={'one':1,'two':2,'three':3}\n",
        "for n in num.values():\n",
        "    print(n)"
      ],
      "id": "4ae1f986"
    },
    {
      "cell_type": "code",
      "execution_count": null,
      "metadata": {
        "id": "4af567e7",
        "outputId": "d79b41a8-7c87-491b-ed82-097e5fb2a8d2"
      },
      "outputs": [
        {
          "name": "stdout",
          "output_type": "stream",
          "text": [
            "one\n",
            "two\n",
            "three\n"
          ]
        }
      ],
      "source": [
        "num={'one':1,'two':2,'three':3}\n",
        "for n in num.keys():\n",
        "    print(n)"
      ],
      "id": "4af567e7"
    },
    {
      "cell_type": "code",
      "execution_count": null,
      "metadata": {
        "id": "93d43a13",
        "outputId": "8b7b5255-af02-4b5f-c029-98c642ad37ca"
      },
      "outputs": [
        {
          "data": {
            "text/plain": [
              "dict_values([1, 2, 3])"
            ]
          },
          "execution_count": 112,
          "metadata": {},
          "output_type": "execute_result"
        }
      ],
      "source": [
        "num.values()"
      ],
      "id": "93d43a13"
    },
    {
      "cell_type": "code",
      "execution_count": null,
      "metadata": {
        "id": "696e9707",
        "outputId": "1dd3d201-91cf-494a-ac41-39226b7d01ae"
      },
      "outputs": [
        {
          "data": {
            "text/plain": [
              "dict_keys(['one', 'two', 'three'])"
            ]
          },
          "execution_count": 113,
          "metadata": {},
          "output_type": "execute_result"
        }
      ],
      "source": [
        "num.keys()"
      ],
      "id": "696e9707"
    },
    {
      "cell_type": "code",
      "execution_count": null,
      "metadata": {
        "id": "afbc241c",
        "outputId": "ce51e6c5-b7fc-4fcc-b4cd-0de8f0ab13ff"
      },
      "outputs": [
        {
          "data": {
            "text/plain": [
              "dict_items([('one', 1), ('two', 2), ('three', 3)])"
            ]
          },
          "execution_count": 114,
          "metadata": {},
          "output_type": "execute_result"
        }
      ],
      "source": [
        "num.items()"
      ],
      "id": "afbc241c"
    },
    {
      "cell_type": "code",
      "execution_count": null,
      "metadata": {
        "id": "2504bf61",
        "outputId": "2566612c-9fdc-49a7-b014-c7184b5c0639"
      },
      "outputs": [
        {
          "ename": "NameError",
          "evalue": "name 'b' is not defined",
          "output_type": "error",
          "traceback": [
            "\u001b[1;31m---------------------------------------------------------------------------\u001b[0m",
            "\u001b[1;31mNameError\u001b[0m                                 Traceback (most recent call last)",
            "\u001b[1;32m~\\AppData\\Local\\Temp\\ipykernel_139588\\2503801971.py\u001b[0m in \u001b[0;36m<module>\u001b[1;34m\u001b[0m\n\u001b[1;32m----> 1\u001b[1;33m \u001b[0ma\u001b[0m\u001b[1;33m=\u001b[0m\u001b[1;33m[\u001b[0m\u001b[0ma\u001b[0m\u001b[1;33m,\u001b[0m\u001b[0mb\u001b[0m\u001b[1;33m,\u001b[0m\u001b[0mv\u001b[0m\u001b[1;33m,\u001b[0m\u001b[0md\u001b[0m\u001b[1;33m,\u001b[0m\u001b[0mf\u001b[0m\u001b[1;33m,\u001b[0m\u001b[0mg\u001b[0m\u001b[1;33m]\u001b[0m\u001b[1;33m\u001b[0m\u001b[1;33m\u001b[0m\u001b[0m\n\u001b[0m\u001b[0;32m      2\u001b[0m \u001b[0mfirst\u001b[0m\u001b[1;33m=\u001b[0m\u001b[1;33m[\u001b[0m\u001b[0ma\u001b[0m\u001b[1;33m[\u001b[0m\u001b[1;36m0\u001b[0m\u001b[1;33m]\u001b[0m \u001b[1;32mfor\u001b[0m \u001b[0mletter\u001b[0m \u001b[1;32min\u001b[0m \u001b[0ma\u001b[0m\u001b[1;33m]\u001b[0m\u001b[1;33m\u001b[0m\u001b[1;33m\u001b[0m\u001b[0m\n\u001b[0;32m      3\u001b[0m \u001b[0mfirst\u001b[0m\u001b[1;33m\u001b[0m\u001b[1;33m\u001b[0m\u001b[0m\n",
            "\u001b[1;31mNameError\u001b[0m: name 'b' is not defined"
          ]
        }
      ],
      "source": [
        "a=[a,b,v,d,f,g]\n",
        "first=[a[0] for letter in a]\n",
        "first"
      ],
      "id": "2504bf61"
    },
    {
      "cell_type": "code",
      "execution_count": null,
      "metadata": {
        "id": "d7d3e3fa",
        "outputId": "0ee9418f-9a05-40f8-f39f-65e974cbfd51"
      },
      "outputs": [
        {
          "data": {
            "text/plain": [
              "['r', 'g', 'r']"
            ]
          },
          "execution_count": 68,
          "metadata": {},
          "output_type": "execute_result"
        }
      ],
      "source": [
        "a=['ranjit','ghadge','ramesh']\n",
        "first=[letter[0] for letter in a]\n",
        "first"
      ],
      "id": "d7d3e3fa"
    },
    {
      "cell_type": "code",
      "execution_count": null,
      "metadata": {
        "id": "e7f1a6f1",
        "outputId": "d8b1d367-6fbb-4751-d866-25be0739da84"
      },
      "outputs": [
        {
          "data": {
            "text/plain": [
              "[4, 16, 36, 64, 4, 16, 400, 36]"
            ]
          },
          "execution_count": 69,
          "metadata": {},
          "output_type": "execute_result"
        }
      ],
      "source": [
        "B=[2,4,6,7,8,2,4,9,7,15,20,3,6]\n",
        "b=[i**2 for i in B if i%2==0]\n",
        "b"
      ],
      "id": "e7f1a6f1"
    },
    {
      "cell_type": "code",
      "execution_count": null,
      "metadata": {
        "id": "0f186f18",
        "outputId": "87288a0e-aee6-4897-90d6-07388f45c2d7"
      },
      "outputs": [
        {
          "name": "stdout",
          "output_type": "stream",
          "text": [
            "c\n"
          ]
        }
      ],
      "source": [
        "list = [\"a\", \"b\", \"c\", \"d\"]\n",
        "a = list[0:]\n",
        "print(a)"
      ],
      "id": "0f186f18"
    },
    {
      "cell_type": "code",
      "execution_count": null,
      "metadata": {
        "id": "167d90fc",
        "outputId": "a5e136c8-0f8b-4d3b-a042-970e8610f443"
      },
      "outputs": [
        {
          "name": "stdout",
          "output_type": "stream",
          "text": [
            "[16, 25, 36, 49, 64]\n"
          ]
        }
      ],
      "source": [
        "\n",
        "sq = [0, 1, 4, 9, 16, 25, 36, 49, 64]\n",
        "\n",
        "print(sq[4:])\n",
        "\n"
      ],
      "id": "167d90fc"
    },
    {
      "cell_type": "code",
      "execution_count": null,
      "metadata": {
        "id": "ffa5ffa2",
        "outputId": "3551cdf7-51aa-4405-9993-35650d031480"
      },
      "outputs": [
        {
          "name": "stdout",
          "output_type": "stream",
          "text": [
            "names\n",
            "ame\n"
          ]
        }
      ],
      "source": [
        "string=input()\n",
        "a=string[1:-1]\n",
        "print(a)\n"
      ],
      "id": "ffa5ffa2"
    },
    {
      "cell_type": "code",
      "execution_count": null,
      "metadata": {
        "id": "25b14df0",
        "outputId": "73600b4c-a8ea-49ea-c63c-d47a8b6b9340"
      },
      "outputs": [
        {
          "name": "stdout",
          "output_type": "stream",
          "text": [
            "8\n"
          ]
        }
      ],
      "source": [
        "list = [1, 1, 2, 3, 5, 8, 13]\n",
        "\n",
        "print(list[list[4]])"
      ],
      "id": "25b14df0"
    },
    {
      "cell_type": "code",
      "execution_count": null,
      "metadata": {
        "id": "533841d1",
        "outputId": "f64a9227-7db8-46c9-fcfe-062aaa607f04"
      },
      "outputs": [
        {
          "name": "stdout",
          "output_type": "stream",
          "text": [
            "2\n",
            "4\n",
            "6\n",
            "8\n",
            "10\n"
          ]
        }
      ],
      "source": [
        "for i in range(10):\n",
        "\n",
        "  if not i % 2 == 0:\n",
        "\n",
        "    print(i+1)"
      ],
      "id": "533841d1"
    },
    {
      "cell_type": "code",
      "execution_count": null,
      "metadata": {
        "id": "da5296e0",
        "outputId": "559aaed3-8982-4884-a593-550adfc2f9ce"
      },
      "outputs": [
        {
          "name": "stdout",
          "output_type": "stream",
          "text": [
            "ranjit\n",
            "ran\n"
          ]
        }
      ],
      "source": [
        "x = input()\n",
        "print(x[0:3])"
      ],
      "id": "da5296e0"
    },
    {
      "cell_type": "code",
      "execution_count": null,
      "metadata": {
        "id": "4449a427"
      },
      "outputs": [],
      "source": [
        "N = int(input())\n",
        "\n",
        "sum = 0\n",
        "for i in range(1, N+1):\n",
        "    sum += i\n",
        "    print(sum)"
      ],
      "id": "4449a427"
    },
    {
      "cell_type": "code",
      "execution_count": null,
      "metadata": {
        "id": "bdb2b8d1",
        "outputId": "0b8e71de-4553-4146-908c-8645090d075f"
      },
      "outputs": [
        {
          "name": "stdout",
          "output_type": "stream",
          "text": [
            "5\n",
            "1\n",
            "3\n",
            "6\n",
            "10\n",
            "15\n"
          ]
        }
      ],
      "source": [
        "N = int(input())\n",
        "\n",
        "sum = 0\n",
        "for i in range(1, N+1):\n",
        "    sum += i\n",
        "    print(sum)"
      ],
      "id": "bdb2b8d1"
    },
    {
      "cell_type": "code",
      "execution_count": null,
      "metadata": {
        "id": "f15b295c",
        "outputId": "9d0853d7-2304-4ae4-8ef0-cfd62cda2189"
      },
      "outputs": [
        {
          "name": "stdout",
          "output_type": "stream",
          "text": [
            "6\n"
          ]
        }
      ],
      "source": [
        "x =\"abc\"\n",
        "\n",
        "x *= 2\n",
        "\n",
        "print(len(x))\n"
      ],
      "id": "f15b295c"
    },
    {
      "cell_type": "code",
      "execution_count": null,
      "metadata": {
        "id": "43ec6735",
        "outputId": "5f2cab14-910b-4d67-b938-304a6d9a3b4d"
      },
      "outputs": [
        {
          "name": "stdout",
          "output_type": "stream",
          "text": [
            "1\n"
          ]
        }
      ],
      "source": [
        "x = [2, 4, 5, 7, 4]\n",
        "\n",
        "y = x.index(4)\n",
        "\n",
        "print(y)"
      ],
      "id": "43ec6735"
    },
    {
      "cell_type": "code",
      "execution_count": null,
      "metadata": {
        "id": "9b457997",
        "outputId": "981efad7-03ae-4076-c9f0-06200192ec20"
      },
      "outputs": [
        {
          "name": "stdout",
          "output_type": "stream",
          "text": [
            "6\n"
          ]
        }
      ],
      "source": [
        "nums = [1, 3, 5, 2, 4]\n",
        "\n",
        "res = min(nums) + max(nums)\n",
        "\n",
        "print(res)\n",
        "\n"
      ],
      "id": "9b457997"
    },
    {
      "cell_type": "code",
      "execution_count": null,
      "metadata": {
        "id": "ab1dec4a",
        "outputId": "8b53cc6e-b4ad-42b2-e93c-7dc29e293d15"
      },
      "outputs": [
        {
          "name": "stdout",
          "output_type": "stream",
          "text": [
            "wwww\n",
            "['John', 'Amy', 'Bob', 'Adam', 'wwww']\n"
          ]
        }
      ],
      "source": [
        "queue = ['John', 'Amy', 'Bob', 'Adam']\n",
        "\n",
        "imp= input()\n",
        "\n",
        "queue.append(imp)\n",
        "\n",
        "print(queue)"
      ],
      "id": "ab1dec4a"
    },
    {
      "cell_type": "code",
      "execution_count": null,
      "metadata": {
        "id": "849e0427",
        "outputId": "2911e03b-5526-4539-f2dc-c4be381acd4d"
      },
      "outputs": [
        {
          "name": "stdout",
          "output_type": "stream",
          "text": [
            "4\n"
          ]
        }
      ],
      "source": [
        "nums = [2,4,8,9,5]\n",
        "\n",
        "\n",
        "nums.insert(1, 3)\n",
        "\n",
        "nums.remove(9)\n",
        "\n",
        "nums.insert(0, nums.count(8))\n",
        "\n",
        "print(nums[3])"
      ],
      "id": "849e0427"
    },
    {
      "cell_type": "code",
      "execution_count": null,
      "metadata": {
        "id": "136b23df",
        "outputId": "b4ffbc4c-0916-48f2-e654-a0efa0ff552d"
      },
      "outputs": [
        {
          "name": "stdout",
          "output_type": "stream",
          "text": [
            "4\n"
          ]
        }
      ],
      "source": [
        "nums = [2,4,8,9,5]\n",
        "\n",
        "\n",
        "nums.insert(1, 3)\n",
        "\n",
        "nums.remove(9)\n",
        "\n",
        "nums.insert(0, nums.count(8))\n",
        "\n",
        "print(nums[3])"
      ],
      "id": "136b23df"
    },
    {
      "cell_type": "code",
      "execution_count": null,
      "metadata": {
        "id": "ec38782b",
        "outputId": "34de32a2-3bf8-4ba2-a603-708e1d4cc599"
      },
      "outputs": [
        {
          "name": "stdout",
          "output_type": "stream",
          "text": [
            "[2, 3, 4, 8, 9, 5]\n"
          ]
        }
      ],
      "source": [
        "nums = [2,4,8,9,5]\n",
        "\n",
        "\n",
        "nums.insert(1, 3)\n",
        "\n",
        "print(nums)"
      ],
      "id": "ec38782b"
    },
    {
      "cell_type": "code",
      "execution_count": null,
      "metadata": {
        "id": "cdd108fa",
        "outputId": "e92af0c9-5f80-4ffb-bb89-6a71a3ed0508"
      },
      "outputs": [
        {
          "name": "stdout",
          "output_type": "stream",
          "text": [
            "Numbers: 4 5 7\n"
          ]
        }
      ],
      "source": [
        "nums = [4, 5, 7]\n",
        "msg = \"Numbers: {0} {1} {2}\". format(nums[0], nums[1], nums[2])\n",
        "print(msg)"
      ],
      "id": "cdd108fa"
    },
    {
      "cell_type": "code",
      "execution_count": null,
      "metadata": {
        "id": "8e389741",
        "outputId": "523c5ba0-243e-4211-9662-bb36f56c51fa"
      },
      "outputs": [
        {
          "name": "stdout",
          "output_type": "stream",
          "text": [
            "abracadabra\n"
          ]
        }
      ],
      "source": [
        "print(\"{0}{1}{0}\".format(\"abra\", \"cad\"))"
      ],
      "id": "8e389741"
    },
    {
      "cell_type": "code",
      "execution_count": null,
      "metadata": {
        "id": "5f395007",
        "outputId": "2bccbdd9-a9e9-4065-e8c9-2a030b7c78ba"
      },
      "outputs": [
        {
          "name": "stdout",
          "output_type": "stream",
          "text": [
            "7, 9, 5\n"
          ]
        }
      ],
      "source": [
        "str=\"{c}, {b}, {a}\".format(a=5, b=9, c=7)\n",
        "\n",
        "print(str)"
      ],
      "id": "5f395007"
    },
    {
      "cell_type": "code",
      "execution_count": null,
      "metadata": {
        "id": "44355c2e",
        "outputId": "f584c078-39bd-46ba-d17f-4d67241764df"
      },
      "outputs": [
        {
          "name": "stdout",
          "output_type": "stream",
          "text": [
            "hello\n"
          ]
        }
      ],
      "source": [
        "x='hello'\n",
        "words = x.split(' ')\n",
        "res = words[0]\n",
        "print(res)"
      ],
      "id": "44355c2e"
    },
    {
      "cell_type": "markdown",
      "source": [
        "List Comprehension:"
      ],
      "metadata": {
        "id": "HJrmv6wJhZr6"
      },
      "id": "HJrmv6wJhZr6"
    },
    {
      "cell_type": "markdown",
      "source": [
        "Provide a concice way to create a list it consist bracket containing expression follow by for clouse then, zero or mmore for or if clauses this expression can be anything you can put all kinds of object in list."
      ],
      "metadata": {
        "id": "6wUVPRYIjv5I"
      },
      "id": "6wUVPRYIjv5I"
    },
    {
      "cell_type": "code",
      "source": [
        "def sqr(nums):\n",
        "  l=[]\n",
        "  for i in nums:\n",
        "    l.append(i*i)\n",
        "  return l\n",
        "\n",
        "nums=[1,2,4,5,6]\n",
        "print(sqr(nums))"
      ],
      "metadata": {
        "id": "si4kFUR40b4p",
        "colab": {
          "base_uri": "https://localhost:8080/"
        },
        "outputId": "f69e6ba4-9ccc-4c33-a1a1-e2f6cc8a93e3"
      },
      "id": "si4kFUR40b4p",
      "execution_count": 3,
      "outputs": [
        {
          "output_type": "stream",
          "name": "stdout",
          "text": [
            "[1, 4, 16, 25, 36]\n"
          ]
        }
      ]
    },
    {
      "cell_type": "code",
      "source": [
        "list1=[i*i for i in nums]\n",
        "print(list1)"
      ],
      "metadata": {
        "id": "Jz-3HcDI0b1o",
        "colab": {
          "base_uri": "https://localhost:8080/"
        },
        "outputId": "52f8a918-1b15-4aa7-b879-860c86ed73bd"
      },
      "id": "Jz-3HcDI0b1o",
      "execution_count": 4,
      "outputs": [
        {
          "output_type": "stream",
          "name": "stdout",
          "text": [
            "[1, 4, 16, 25, 36]\n"
          ]
        }
      ]
    },
    {
      "cell_type": "code",
      "source": [
        "#If need even nos square\n",
        "list1=[i*i for i in nums if i%2==0 ]\n",
        "print(list1)"
      ],
      "metadata": {
        "id": "9k0fBN_R0by6",
        "colab": {
          "base_uri": "https://localhost:8080/"
        },
        "outputId": "fd2de07d-5bef-41f6-94ae-ffabdef4b5a8"
      },
      "id": "9k0fBN_R0by6",
      "execution_count": 6,
      "outputs": [
        {
          "output_type": "stream",
          "name": "stdout",
          "text": [
            "[4, 16, 36]\n"
          ]
        }
      ]
    },
    {
      "cell_type": "code",
      "source": [],
      "metadata": {
        "id": "lqzhVIVm0bvk"
      },
      "id": "lqzhVIVm0bvk",
      "execution_count": null,
      "outputs": []
    },
    {
      "cell_type": "code",
      "source": [],
      "metadata": {
        "id": "fhe1aSd00bst"
      },
      "id": "fhe1aSd00bst",
      "execution_count": null,
      "outputs": []
    },
    {
      "cell_type": "code",
      "source": [],
      "metadata": {
        "id": "QwtymXib0bp-"
      },
      "id": "QwtymXib0bp-",
      "execution_count": null,
      "outputs": []
    },
    {
      "cell_type": "code",
      "source": [],
      "metadata": {
        "id": "kKj13Hcd0bmy"
      },
      "id": "kKj13Hcd0bmy",
      "execution_count": null,
      "outputs": []
    },
    {
      "cell_type": "code",
      "source": [],
      "metadata": {
        "id": "JjYnRat10bj6"
      },
      "id": "JjYnRat10bj6",
      "execution_count": null,
      "outputs": []
    },
    {
      "cell_type": "code",
      "source": [],
      "metadata": {
        "id": "uwkOJlax0bhH"
      },
      "id": "uwkOJlax0bhH",
      "execution_count": null,
      "outputs": []
    },
    {
      "cell_type": "code",
      "source": [],
      "metadata": {
        "id": "jqdGv30P0beU"
      },
      "id": "jqdGv30P0beU",
      "execution_count": null,
      "outputs": []
    },
    {
      "cell_type": "code",
      "source": [],
      "metadata": {
        "id": "vDFT0YJF0bbN"
      },
      "id": "vDFT0YJF0bbN",
      "execution_count": null,
      "outputs": []
    },
    {
      "cell_type": "code",
      "execution_count": null,
      "id": "0b1589e7",
      "metadata": {
        "id": "0b1589e7",
        "outputId": "abbd1bdb-2c7e-486e-828b-a7c14237ffd4"
      },
      "outputs": [
        {
          "name": "stdout",
          "output_type": "stream",
          "text": [
            "      Name  Age  Gender    Country  Salary Department  Years of Experience  \\\n",
            "0    Alice   25  Female        USA   50000  Marketing                    3   \n",
            "1      Bob   32    Male     Canada   75000    Finance                    8   \n",
            "2  Charlie   18    Male        USA   40000  Marketing                    1   \n",
            "3    David   47    Male  Australia   90000         IT                   18   \n",
            "4    Emily   29  Female         UK   60000         IT                    6   \n",
            "5    Frank   36    Male     Canada   80000         HR                   10   \n",
            "6   George   21    Male        USA   55000  Marketing                    2   \n",
            "7    Helen   45  Female  Australia  100000         IT                   22   \n",
            "8    Irene   28  Female         UK   65000         HR                    5   \n",
            "9     Jack   33    Male        USA   70000    Finance                    7   \n",
            "\n",
            "  Education Level  \n",
            "0        Bachelor  \n",
            "1          Master  \n",
            "2     High School  \n",
            "3             PhD  \n",
            "4        Bachelor  \n",
            "5          Master  \n",
            "6        Bachelor  \n",
            "7             PhD  \n",
            "8        Bachelor  \n",
            "9          Master  \n"
          ]
        }
      ],
      "source": [
        "import pandas as pd\n",
        "\n",
        "data = {\n",
        "    'Name': ['Alice', 'Bob', 'Charlie', 'David', 'Emily', 'Frank', 'George', 'Helen', 'Irene', 'Jack'],\n",
        "    'Age': [25, 32, 18, 47, 29, 36, 21, 45, 28, 33],\n",
        "    'Gender': ['Female', 'Male', 'Male', 'Male', 'Female', 'Male', 'Male', 'Female', 'Female', 'Male'],\n",
        "    'Country': ['USA', 'Canada', 'USA', 'Australia', 'UK', 'Canada', 'USA', 'Australia', 'UK', 'USA'],\n",
        "    'Salary': [50000, 75000, 40000, 90000, 60000, 80000, 55000, 100000, 65000, 70000],\n",
        "    'Department': ['Marketing', 'Finance', 'Marketing', 'IT', 'IT', 'HR', 'Marketing', 'IT', 'HR', 'Finance'],\n",
        "    'Years of Experience': [3, 8, 1, 18, 6, 10, 2, 22, 5, 7],\n",
        "    'Education Level': ['Bachelor', 'Master', 'High School', 'PhD', 'Bachelor', 'Master', 'Bachelor', 'PhD', 'Bachelor', 'Master']\n",
        "}\n",
        "\n",
        "df = pd.DataFrame(data)\n",
        "print(df)\n"
      ]
    },
    {
      "cell_type": "code",
      "execution_count": null,
      "id": "4387a9fc",
      "metadata": {
        "id": "4387a9fc",
        "outputId": "98ce36f9-6d29-412c-a833-48da1d2ea9af"
      },
      "outputs": [
        {
          "data": {
            "text/plain": [
              "Name                   object\n",
              "Age                     int64\n",
              "Gender                 object\n",
              "Country                object\n",
              "Salary                  int64\n",
              "Department             object\n",
              "Years of Experience     int64\n",
              "Education Level        object\n",
              "dtype: object"
            ]
          },
          "execution_count": 2,
          "metadata": {},
          "output_type": "execute_result"
        }
      ],
      "source": [
        "#For checking a data type\n",
        "df.dtypes"
      ]
    },
    {
      "cell_type": "code",
      "execution_count": null,
      "id": "07ce9016",
      "metadata": {
        "id": "07ce9016",
        "outputId": "50ec01bf-12f1-4c0c-8919-3cedd7ddcba5"
      },
      "outputs": [
        {
          "data": {
            "text/html": [
              "<div>\n",
              "<style scoped>\n",
              "    .dataframe tbody tr th:only-of-type {\n",
              "        vertical-align: middle;\n",
              "    }\n",
              "\n",
              "    .dataframe tbody tr th {\n",
              "        vertical-align: top;\n",
              "    }\n",
              "\n",
              "    .dataframe thead th {\n",
              "        text-align: right;\n",
              "    }\n",
              "</style>\n",
              "<table border=\"1\" class=\"dataframe\">\n",
              "  <thead>\n",
              "    <tr style=\"text-align: right;\">\n",
              "      <th></th>\n",
              "      <th>Name</th>\n",
              "      <th>Age</th>\n",
              "      <th>Gender</th>\n",
              "      <th>Country</th>\n",
              "      <th>Salary</th>\n",
              "      <th>Department</th>\n",
              "      <th>Years of Experience</th>\n",
              "      <th>Education Level</th>\n",
              "    </tr>\n",
              "  </thead>\n",
              "  <tbody>\n",
              "    <tr>\n",
              "      <th>0</th>\n",
              "      <td>Alice</td>\n",
              "      <td>25</td>\n",
              "      <td>Female</td>\n",
              "      <td>USA</td>\n",
              "      <td>50000</td>\n",
              "      <td>Marketing</td>\n",
              "      <td>3</td>\n",
              "      <td>Bachelor</td>\n",
              "    </tr>\n",
              "    <tr>\n",
              "      <th>1</th>\n",
              "      <td>Bob</td>\n",
              "      <td>32</td>\n",
              "      <td>Male</td>\n",
              "      <td>Canada</td>\n",
              "      <td>75000</td>\n",
              "      <td>Finance</td>\n",
              "      <td>8</td>\n",
              "      <td>Master</td>\n",
              "    </tr>\n",
              "    <tr>\n",
              "      <th>2</th>\n",
              "      <td>Charlie</td>\n",
              "      <td>18</td>\n",
              "      <td>Male</td>\n",
              "      <td>USA</td>\n",
              "      <td>40000</td>\n",
              "      <td>Marketing</td>\n",
              "      <td>1</td>\n",
              "      <td>High School</td>\n",
              "    </tr>\n",
              "    <tr>\n",
              "      <th>3</th>\n",
              "      <td>David</td>\n",
              "      <td>47</td>\n",
              "      <td>Male</td>\n",
              "      <td>Australia</td>\n",
              "      <td>90000</td>\n",
              "      <td>IT</td>\n",
              "      <td>18</td>\n",
              "      <td>PhD</td>\n",
              "    </tr>\n",
              "    <tr>\n",
              "      <th>4</th>\n",
              "      <td>Emily</td>\n",
              "      <td>29</td>\n",
              "      <td>Female</td>\n",
              "      <td>UK</td>\n",
              "      <td>60000</td>\n",
              "      <td>IT</td>\n",
              "      <td>6</td>\n",
              "      <td>Bachelor</td>\n",
              "    </tr>\n",
              "  </tbody>\n",
              "</table>\n",
              "</div>"
            ],
            "text/plain": [
              "      Name  Age  Gender    Country  Salary Department  Years of Experience  \\\n",
              "0    Alice   25  Female        USA   50000  Marketing                    3   \n",
              "1      Bob   32    Male     Canada   75000    Finance                    8   \n",
              "2  Charlie   18    Male        USA   40000  Marketing                    1   \n",
              "3    David   47    Male  Australia   90000         IT                   18   \n",
              "4    Emily   29  Female         UK   60000         IT                    6   \n",
              "\n",
              "  Education Level  \n",
              "0        Bachelor  \n",
              "1          Master  \n",
              "2     High School  \n",
              "3             PhD  \n",
              "4        Bachelor  "
            ]
          },
          "execution_count": 3,
          "metadata": {},
          "output_type": "execute_result"
        }
      ],
      "source": [
        "df.head()"
      ]
    },
    {
      "cell_type": "code",
      "execution_count": null,
      "id": "22f233df",
      "metadata": {
        "id": "22f233df",
        "outputId": "fbd12df5-f7a9-40bb-f107-009da2707e09"
      },
      "outputs": [
        {
          "name": "stdout",
          "output_type": "stream",
          "text": [
            "<class 'pandas.core.frame.DataFrame'>\n",
            "RangeIndex: 10 entries, 0 to 9\n",
            "Data columns (total 8 columns):\n",
            " #   Column               Non-Null Count  Dtype \n",
            "---  ------               --------------  ----- \n",
            " 0   Name                 10 non-null     object\n",
            " 1   Age                  10 non-null     int64 \n",
            " 2   Gender               10 non-null     object\n",
            " 3   Country              10 non-null     object\n",
            " 4   Salary               10 non-null     int64 \n",
            " 5   Department           10 non-null     object\n",
            " 6   Years of Experience  10 non-null     int64 \n",
            " 7   Education Level      10 non-null     object\n",
            "dtypes: int64(3), object(5)\n",
            "memory usage: 768.0+ bytes\n"
          ]
        }
      ],
      "source": [
        "df.info()"
      ]
    },
    {
      "cell_type": "code",
      "execution_count": null,
      "id": "a0fe5864",
      "metadata": {
        "id": "a0fe5864",
        "outputId": "5e586716-3b08-4f84-ff4b-ec0455be0145"
      },
      "outputs": [
        {
          "data": {
            "text/html": [
              "<div>\n",
              "<style scoped>\n",
              "    .dataframe tbody tr th:only-of-type {\n",
              "        vertical-align: middle;\n",
              "    }\n",
              "\n",
              "    .dataframe tbody tr th {\n",
              "        vertical-align: top;\n",
              "    }\n",
              "\n",
              "    .dataframe thead th {\n",
              "        text-align: right;\n",
              "    }\n",
              "</style>\n",
              "<table border=\"1\" class=\"dataframe\">\n",
              "  <thead>\n",
              "    <tr style=\"text-align: right;\">\n",
              "      <th></th>\n",
              "      <th>Age</th>\n",
              "      <th>Salary</th>\n",
              "      <th>Years of Experience</th>\n",
              "    </tr>\n",
              "  </thead>\n",
              "  <tbody>\n",
              "    <tr>\n",
              "      <th>count</th>\n",
              "      <td>10.000000</td>\n",
              "      <td>10.000000</td>\n",
              "      <td>10.000000</td>\n",
              "    </tr>\n",
              "    <tr>\n",
              "      <th>mean</th>\n",
              "      <td>31.400000</td>\n",
              "      <td>68500.000000</td>\n",
              "      <td>8.200000</td>\n",
              "    </tr>\n",
              "    <tr>\n",
              "      <th>std</th>\n",
              "      <td>9.418658</td>\n",
              "      <td>18416.478129</td>\n",
              "      <td>6.860515</td>\n",
              "    </tr>\n",
              "    <tr>\n",
              "      <th>min</th>\n",
              "      <td>18.000000</td>\n",
              "      <td>40000.000000</td>\n",
              "      <td>1.000000</td>\n",
              "    </tr>\n",
              "    <tr>\n",
              "      <th>25%</th>\n",
              "      <td>25.750000</td>\n",
              "      <td>56250.000000</td>\n",
              "      <td>3.500000</td>\n",
              "    </tr>\n",
              "    <tr>\n",
              "      <th>50%</th>\n",
              "      <td>30.500000</td>\n",
              "      <td>67500.000000</td>\n",
              "      <td>6.500000</td>\n",
              "    </tr>\n",
              "    <tr>\n",
              "      <th>75%</th>\n",
              "      <td>35.250000</td>\n",
              "      <td>78750.000000</td>\n",
              "      <td>9.500000</td>\n",
              "    </tr>\n",
              "    <tr>\n",
              "      <th>max</th>\n",
              "      <td>47.000000</td>\n",
              "      <td>100000.000000</td>\n",
              "      <td>22.000000</td>\n",
              "    </tr>\n",
              "  </tbody>\n",
              "</table>\n",
              "</div>"
            ],
            "text/plain": [
              "             Age         Salary  Years of Experience\n",
              "count  10.000000      10.000000            10.000000\n",
              "mean   31.400000   68500.000000             8.200000\n",
              "std     9.418658   18416.478129             6.860515\n",
              "min    18.000000   40000.000000             1.000000\n",
              "25%    25.750000   56250.000000             3.500000\n",
              "50%    30.500000   67500.000000             6.500000\n",
              "75%    35.250000   78750.000000             9.500000\n",
              "max    47.000000  100000.000000            22.000000"
            ]
          },
          "execution_count": 5,
          "metadata": {},
          "output_type": "execute_result"
        }
      ],
      "source": [
        "#overall discriptive summary of dataframe\n",
        "\n",
        "df.describe()"
      ]
    },
    {
      "cell_type": "code",
      "execution_count": null,
      "id": "cbc369a3",
      "metadata": {
        "id": "cbc369a3",
        "outputId": "3ec5896f-e5a5-4553-c2c5-f455608a9378"
      },
      "outputs": [
        {
          "data": {
            "text/plain": [
              "(10, 8)"
            ]
          },
          "execution_count": 6,
          "metadata": {},
          "output_type": "execute_result"
        }
      ],
      "source": [
        "df.shape #for no of rows & columns"
      ]
    },
    {
      "cell_type": "code",
      "execution_count": null,
      "id": "01b3e943",
      "metadata": {
        "id": "01b3e943",
        "outputId": "a6db6c98-7ba9-4373-85ac-112cd885aa80"
      },
      "outputs": [
        {
          "data": {
            "text/plain": [
              "Name     Age  Gender  Country    Salary  Department  Years of Experience  Education Level\n",
              "Alice    25   Female  USA        50000   Marketing   3                    Bachelor           1\n",
              "Bob      32   Male    Canada     75000   Finance     8                    Master             1\n",
              "Charlie  18   Male    USA        40000   Marketing   1                    High School        1\n",
              "David    47   Male    Australia  90000   IT          18                   PhD                1\n",
              "Emily    29   Female  UK         60000   IT          6                    Bachelor           1\n",
              "Frank    36   Male    Canada     80000   HR          10                   Master             1\n",
              "George   21   Male    USA        55000   Marketing   2                    Bachelor           1\n",
              "Helen    45   Female  Australia  100000  IT          22                   PhD                1\n",
              "Irene    28   Female  UK         65000   HR          5                    Bachelor           1\n",
              "Jack     33   Male    USA        70000   Finance     7                    Master             1\n",
              "dtype: int64"
            ]
          },
          "execution_count": 7,
          "metadata": {},
          "output_type": "execute_result"
        }
      ],
      "source": [
        "df.value_counts() #view unique values & counts"
      ]
    },
    {
      "cell_type": "code",
      "execution_count": null,
      "id": "0d835ea8",
      "metadata": {
        "id": "0d835ea8",
        "outputId": "6d02d933-4876-4095-bebb-0c6b0b8c4390"
      },
      "outputs": [
        {
          "data": {
            "text/html": [
              "<div>\n",
              "<style scoped>\n",
              "    .dataframe tbody tr th:only-of-type {\n",
              "        vertical-align: middle;\n",
              "    }\n",
              "\n",
              "    .dataframe tbody tr th {\n",
              "        vertical-align: top;\n",
              "    }\n",
              "\n",
              "    .dataframe thead th {\n",
              "        text-align: right;\n",
              "    }\n",
              "</style>\n",
              "<table border=\"1\" class=\"dataframe\">\n",
              "  <thead>\n",
              "    <tr style=\"text-align: right;\">\n",
              "      <th></th>\n",
              "      <th>Name</th>\n",
              "      <th>Age</th>\n",
              "      <th>Gender</th>\n",
              "      <th>Country</th>\n",
              "      <th>Salary</th>\n",
              "      <th>Department</th>\n",
              "      <th>Years of Experience</th>\n",
              "      <th>Education Level</th>\n",
              "    </tr>\n",
              "  </thead>\n",
              "  <tbody>\n",
              "    <tr>\n",
              "      <th>1</th>\n",
              "      <td>NaN</td>\n",
              "      <td>NaN</td>\n",
              "      <td>NaN</td>\n",
              "      <td>NaN</td>\n",
              "      <td>NaN</td>\n",
              "      <td>NaN</td>\n",
              "      <td>1.0</td>\n",
              "      <td>NaN</td>\n",
              "    </tr>\n",
              "    <tr>\n",
              "      <th>2</th>\n",
              "      <td>NaN</td>\n",
              "      <td>NaN</td>\n",
              "      <td>NaN</td>\n",
              "      <td>NaN</td>\n",
              "      <td>NaN</td>\n",
              "      <td>NaN</td>\n",
              "      <td>1.0</td>\n",
              "      <td>NaN</td>\n",
              "    </tr>\n",
              "    <tr>\n",
              "      <th>3</th>\n",
              "      <td>NaN</td>\n",
              "      <td>NaN</td>\n",
              "      <td>NaN</td>\n",
              "      <td>NaN</td>\n",
              "      <td>NaN</td>\n",
              "      <td>NaN</td>\n",
              "      <td>1.0</td>\n",
              "      <td>NaN</td>\n",
              "    </tr>\n",
              "    <tr>\n",
              "      <th>5</th>\n",
              "      <td>NaN</td>\n",
              "      <td>NaN</td>\n",
              "      <td>NaN</td>\n",
              "      <td>NaN</td>\n",
              "      <td>NaN</td>\n",
              "      <td>NaN</td>\n",
              "      <td>1.0</td>\n",
              "      <td>NaN</td>\n",
              "    </tr>\n",
              "    <tr>\n",
              "      <th>6</th>\n",
              "      <td>NaN</td>\n",
              "      <td>NaN</td>\n",
              "      <td>NaN</td>\n",
              "      <td>NaN</td>\n",
              "      <td>NaN</td>\n",
              "      <td>NaN</td>\n",
              "      <td>1.0</td>\n",
              "      <td>NaN</td>\n",
              "    </tr>\n",
              "    <tr>\n",
              "      <th>7</th>\n",
              "      <td>NaN</td>\n",
              "      <td>NaN</td>\n",
              "      <td>NaN</td>\n",
              "      <td>NaN</td>\n",
              "      <td>NaN</td>\n",
              "      <td>NaN</td>\n",
              "      <td>1.0</td>\n",
              "      <td>NaN</td>\n",
              "    </tr>\n",
              "    <tr>\n",
              "      <th>8</th>\n",
              "      <td>NaN</td>\n",
              "      <td>NaN</td>\n",
              "      <td>NaN</td>\n",
              "      <td>NaN</td>\n",
              "      <td>NaN</td>\n",
              "      <td>NaN</td>\n",
              "      <td>1.0</td>\n",
              "      <td>NaN</td>\n",
              "    </tr>\n",
              "    <tr>\n",
              "      <th>10</th>\n",
              "      <td>NaN</td>\n",
              "      <td>NaN</td>\n",
              "      <td>NaN</td>\n",
              "      <td>NaN</td>\n",
              "      <td>NaN</td>\n",
              "      <td>NaN</td>\n",
              "      <td>1.0</td>\n",
              "      <td>NaN</td>\n",
              "    </tr>\n",
              "    <tr>\n",
              "      <th>18</th>\n",
              "      <td>NaN</td>\n",
              "      <td>1.0</td>\n",
              "      <td>NaN</td>\n",
              "      <td>NaN</td>\n",
              "      <td>NaN</td>\n",
              "      <td>NaN</td>\n",
              "      <td>1.0</td>\n",
              "      <td>NaN</td>\n",
              "    </tr>\n",
              "    <tr>\n",
              "      <th>21</th>\n",
              "      <td>NaN</td>\n",
              "      <td>1.0</td>\n",
              "      <td>NaN</td>\n",
              "      <td>NaN</td>\n",
              "      <td>NaN</td>\n",
              "      <td>NaN</td>\n",
              "      <td>NaN</td>\n",
              "      <td>NaN</td>\n",
              "    </tr>\n",
              "    <tr>\n",
              "      <th>22</th>\n",
              "      <td>NaN</td>\n",
              "      <td>NaN</td>\n",
              "      <td>NaN</td>\n",
              "      <td>NaN</td>\n",
              "      <td>NaN</td>\n",
              "      <td>NaN</td>\n",
              "      <td>1.0</td>\n",
              "      <td>NaN</td>\n",
              "    </tr>\n",
              "    <tr>\n",
              "      <th>25</th>\n",
              "      <td>NaN</td>\n",
              "      <td>1.0</td>\n",
              "      <td>NaN</td>\n",
              "      <td>NaN</td>\n",
              "      <td>NaN</td>\n",
              "      <td>NaN</td>\n",
              "      <td>NaN</td>\n",
              "      <td>NaN</td>\n",
              "    </tr>\n",
              "    <tr>\n",
              "      <th>28</th>\n",
              "      <td>NaN</td>\n",
              "      <td>1.0</td>\n",
              "      <td>NaN</td>\n",
              "      <td>NaN</td>\n",
              "      <td>NaN</td>\n",
              "      <td>NaN</td>\n",
              "      <td>NaN</td>\n",
              "      <td>NaN</td>\n",
              "    </tr>\n",
              "    <tr>\n",
              "      <th>29</th>\n",
              "      <td>NaN</td>\n",
              "      <td>1.0</td>\n",
              "      <td>NaN</td>\n",
              "      <td>NaN</td>\n",
              "      <td>NaN</td>\n",
              "      <td>NaN</td>\n",
              "      <td>NaN</td>\n",
              "      <td>NaN</td>\n",
              "    </tr>\n",
              "    <tr>\n",
              "      <th>32</th>\n",
              "      <td>NaN</td>\n",
              "      <td>1.0</td>\n",
              "      <td>NaN</td>\n",
              "      <td>NaN</td>\n",
              "      <td>NaN</td>\n",
              "      <td>NaN</td>\n",
              "      <td>NaN</td>\n",
              "      <td>NaN</td>\n",
              "    </tr>\n",
              "    <tr>\n",
              "      <th>33</th>\n",
              "      <td>NaN</td>\n",
              "      <td>1.0</td>\n",
              "      <td>NaN</td>\n",
              "      <td>NaN</td>\n",
              "      <td>NaN</td>\n",
              "      <td>NaN</td>\n",
              "      <td>NaN</td>\n",
              "      <td>NaN</td>\n",
              "    </tr>\n",
              "    <tr>\n",
              "      <th>36</th>\n",
              "      <td>NaN</td>\n",
              "      <td>1.0</td>\n",
              "      <td>NaN</td>\n",
              "      <td>NaN</td>\n",
              "      <td>NaN</td>\n",
              "      <td>NaN</td>\n",
              "      <td>NaN</td>\n",
              "      <td>NaN</td>\n",
              "    </tr>\n",
              "    <tr>\n",
              "      <th>45</th>\n",
              "      <td>NaN</td>\n",
              "      <td>1.0</td>\n",
              "      <td>NaN</td>\n",
              "      <td>NaN</td>\n",
              "      <td>NaN</td>\n",
              "      <td>NaN</td>\n",
              "      <td>NaN</td>\n",
              "      <td>NaN</td>\n",
              "    </tr>\n",
              "    <tr>\n",
              "      <th>47</th>\n",
              "      <td>NaN</td>\n",
              "      <td>1.0</td>\n",
              "      <td>NaN</td>\n",
              "      <td>NaN</td>\n",
              "      <td>NaN</td>\n",
              "      <td>NaN</td>\n",
              "      <td>NaN</td>\n",
              "      <td>NaN</td>\n",
              "    </tr>\n",
              "    <tr>\n",
              "      <th>40000</th>\n",
              "      <td>NaN</td>\n",
              "      <td>NaN</td>\n",
              "      <td>NaN</td>\n",
              "      <td>NaN</td>\n",
              "      <td>1.0</td>\n",
              "      <td>NaN</td>\n",
              "      <td>NaN</td>\n",
              "      <td>NaN</td>\n",
              "    </tr>\n",
              "    <tr>\n",
              "      <th>50000</th>\n",
              "      <td>NaN</td>\n",
              "      <td>NaN</td>\n",
              "      <td>NaN</td>\n",
              "      <td>NaN</td>\n",
              "      <td>1.0</td>\n",
              "      <td>NaN</td>\n",
              "      <td>NaN</td>\n",
              "      <td>NaN</td>\n",
              "    </tr>\n",
              "    <tr>\n",
              "      <th>55000</th>\n",
              "      <td>NaN</td>\n",
              "      <td>NaN</td>\n",
              "      <td>NaN</td>\n",
              "      <td>NaN</td>\n",
              "      <td>1.0</td>\n",
              "      <td>NaN</td>\n",
              "      <td>NaN</td>\n",
              "      <td>NaN</td>\n",
              "    </tr>\n",
              "    <tr>\n",
              "      <th>60000</th>\n",
              "      <td>NaN</td>\n",
              "      <td>NaN</td>\n",
              "      <td>NaN</td>\n",
              "      <td>NaN</td>\n",
              "      <td>1.0</td>\n",
              "      <td>NaN</td>\n",
              "      <td>NaN</td>\n",
              "      <td>NaN</td>\n",
              "    </tr>\n",
              "    <tr>\n",
              "      <th>65000</th>\n",
              "      <td>NaN</td>\n",
              "      <td>NaN</td>\n",
              "      <td>NaN</td>\n",
              "      <td>NaN</td>\n",
              "      <td>1.0</td>\n",
              "      <td>NaN</td>\n",
              "      <td>NaN</td>\n",
              "      <td>NaN</td>\n",
              "    </tr>\n",
              "    <tr>\n",
              "      <th>70000</th>\n",
              "      <td>NaN</td>\n",
              "      <td>NaN</td>\n",
              "      <td>NaN</td>\n",
              "      <td>NaN</td>\n",
              "      <td>1.0</td>\n",
              "      <td>NaN</td>\n",
              "      <td>NaN</td>\n",
              "      <td>NaN</td>\n",
              "    </tr>\n",
              "    <tr>\n",
              "      <th>75000</th>\n",
              "      <td>NaN</td>\n",
              "      <td>NaN</td>\n",
              "      <td>NaN</td>\n",
              "      <td>NaN</td>\n",
              "      <td>1.0</td>\n",
              "      <td>NaN</td>\n",
              "      <td>NaN</td>\n",
              "      <td>NaN</td>\n",
              "    </tr>\n",
              "    <tr>\n",
              "      <th>80000</th>\n",
              "      <td>NaN</td>\n",
              "      <td>NaN</td>\n",
              "      <td>NaN</td>\n",
              "      <td>NaN</td>\n",
              "      <td>1.0</td>\n",
              "      <td>NaN</td>\n",
              "      <td>NaN</td>\n",
              "      <td>NaN</td>\n",
              "    </tr>\n",
              "    <tr>\n",
              "      <th>90000</th>\n",
              "      <td>NaN</td>\n",
              "      <td>NaN</td>\n",
              "      <td>NaN</td>\n",
              "      <td>NaN</td>\n",
              "      <td>1.0</td>\n",
              "      <td>NaN</td>\n",
              "      <td>NaN</td>\n",
              "      <td>NaN</td>\n",
              "    </tr>\n",
              "    <tr>\n",
              "      <th>100000</th>\n",
              "      <td>NaN</td>\n",
              "      <td>NaN</td>\n",
              "      <td>NaN</td>\n",
              "      <td>NaN</td>\n",
              "      <td>1.0</td>\n",
              "      <td>NaN</td>\n",
              "      <td>NaN</td>\n",
              "      <td>NaN</td>\n",
              "    </tr>\n",
              "    <tr>\n",
              "      <th>Alice</th>\n",
              "      <td>1.0</td>\n",
              "      <td>NaN</td>\n",
              "      <td>NaN</td>\n",
              "      <td>NaN</td>\n",
              "      <td>NaN</td>\n",
              "      <td>NaN</td>\n",
              "      <td>NaN</td>\n",
              "      <td>NaN</td>\n",
              "    </tr>\n",
              "    <tr>\n",
              "      <th>Australia</th>\n",
              "      <td>NaN</td>\n",
              "      <td>NaN</td>\n",
              "      <td>NaN</td>\n",
              "      <td>2.0</td>\n",
              "      <td>NaN</td>\n",
              "      <td>NaN</td>\n",
              "      <td>NaN</td>\n",
              "      <td>NaN</td>\n",
              "    </tr>\n",
              "    <tr>\n",
              "      <th>Bachelor</th>\n",
              "      <td>NaN</td>\n",
              "      <td>NaN</td>\n",
              "      <td>NaN</td>\n",
              "      <td>NaN</td>\n",
              "      <td>NaN</td>\n",
              "      <td>NaN</td>\n",
              "      <td>NaN</td>\n",
              "      <td>4.0</td>\n",
              "    </tr>\n",
              "    <tr>\n",
              "      <th>Bob</th>\n",
              "      <td>1.0</td>\n",
              "      <td>NaN</td>\n",
              "      <td>NaN</td>\n",
              "      <td>NaN</td>\n",
              "      <td>NaN</td>\n",
              "      <td>NaN</td>\n",
              "      <td>NaN</td>\n",
              "      <td>NaN</td>\n",
              "    </tr>\n",
              "    <tr>\n",
              "      <th>Canada</th>\n",
              "      <td>NaN</td>\n",
              "      <td>NaN</td>\n",
              "      <td>NaN</td>\n",
              "      <td>2.0</td>\n",
              "      <td>NaN</td>\n",
              "      <td>NaN</td>\n",
              "      <td>NaN</td>\n",
              "      <td>NaN</td>\n",
              "    </tr>\n",
              "    <tr>\n",
              "      <th>Charlie</th>\n",
              "      <td>1.0</td>\n",
              "      <td>NaN</td>\n",
              "      <td>NaN</td>\n",
              "      <td>NaN</td>\n",
              "      <td>NaN</td>\n",
              "      <td>NaN</td>\n",
              "      <td>NaN</td>\n",
              "      <td>NaN</td>\n",
              "    </tr>\n",
              "    <tr>\n",
              "      <th>David</th>\n",
              "      <td>1.0</td>\n",
              "      <td>NaN</td>\n",
              "      <td>NaN</td>\n",
              "      <td>NaN</td>\n",
              "      <td>NaN</td>\n",
              "      <td>NaN</td>\n",
              "      <td>NaN</td>\n",
              "      <td>NaN</td>\n",
              "    </tr>\n",
              "    <tr>\n",
              "      <th>Emily</th>\n",
              "      <td>1.0</td>\n",
              "      <td>NaN</td>\n",
              "      <td>NaN</td>\n",
              "      <td>NaN</td>\n",
              "      <td>NaN</td>\n",
              "      <td>NaN</td>\n",
              "      <td>NaN</td>\n",
              "      <td>NaN</td>\n",
              "    </tr>\n",
              "    <tr>\n",
              "      <th>Female</th>\n",
              "      <td>NaN</td>\n",
              "      <td>NaN</td>\n",
              "      <td>4.0</td>\n",
              "      <td>NaN</td>\n",
              "      <td>NaN</td>\n",
              "      <td>NaN</td>\n",
              "      <td>NaN</td>\n",
              "      <td>NaN</td>\n",
              "    </tr>\n",
              "    <tr>\n",
              "      <th>Finance</th>\n",
              "      <td>NaN</td>\n",
              "      <td>NaN</td>\n",
              "      <td>NaN</td>\n",
              "      <td>NaN</td>\n",
              "      <td>NaN</td>\n",
              "      <td>2.0</td>\n",
              "      <td>NaN</td>\n",
              "      <td>NaN</td>\n",
              "    </tr>\n",
              "    <tr>\n",
              "      <th>Frank</th>\n",
              "      <td>1.0</td>\n",
              "      <td>NaN</td>\n",
              "      <td>NaN</td>\n",
              "      <td>NaN</td>\n",
              "      <td>NaN</td>\n",
              "      <td>NaN</td>\n",
              "      <td>NaN</td>\n",
              "      <td>NaN</td>\n",
              "    </tr>\n",
              "    <tr>\n",
              "      <th>George</th>\n",
              "      <td>1.0</td>\n",
              "      <td>NaN</td>\n",
              "      <td>NaN</td>\n",
              "      <td>NaN</td>\n",
              "      <td>NaN</td>\n",
              "      <td>NaN</td>\n",
              "      <td>NaN</td>\n",
              "      <td>NaN</td>\n",
              "    </tr>\n",
              "    <tr>\n",
              "      <th>HR</th>\n",
              "      <td>NaN</td>\n",
              "      <td>NaN</td>\n",
              "      <td>NaN</td>\n",
              "      <td>NaN</td>\n",
              "      <td>NaN</td>\n",
              "      <td>2.0</td>\n",
              "      <td>NaN</td>\n",
              "      <td>NaN</td>\n",
              "    </tr>\n",
              "    <tr>\n",
              "      <th>Helen</th>\n",
              "      <td>1.0</td>\n",
              "      <td>NaN</td>\n",
              "      <td>NaN</td>\n",
              "      <td>NaN</td>\n",
              "      <td>NaN</td>\n",
              "      <td>NaN</td>\n",
              "      <td>NaN</td>\n",
              "      <td>NaN</td>\n",
              "    </tr>\n",
              "    <tr>\n",
              "      <th>High School</th>\n",
              "      <td>NaN</td>\n",
              "      <td>NaN</td>\n",
              "      <td>NaN</td>\n",
              "      <td>NaN</td>\n",
              "      <td>NaN</td>\n",
              "      <td>NaN</td>\n",
              "      <td>NaN</td>\n",
              "      <td>1.0</td>\n",
              "    </tr>\n",
              "    <tr>\n",
              "      <th>IT</th>\n",
              "      <td>NaN</td>\n",
              "      <td>NaN</td>\n",
              "      <td>NaN</td>\n",
              "      <td>NaN</td>\n",
              "      <td>NaN</td>\n",
              "      <td>3.0</td>\n",
              "      <td>NaN</td>\n",
              "      <td>NaN</td>\n",
              "    </tr>\n",
              "    <tr>\n",
              "      <th>Irene</th>\n",
              "      <td>1.0</td>\n",
              "      <td>NaN</td>\n",
              "      <td>NaN</td>\n",
              "      <td>NaN</td>\n",
              "      <td>NaN</td>\n",
              "      <td>NaN</td>\n",
              "      <td>NaN</td>\n",
              "      <td>NaN</td>\n",
              "    </tr>\n",
              "    <tr>\n",
              "      <th>Jack</th>\n",
              "      <td>1.0</td>\n",
              "      <td>NaN</td>\n",
              "      <td>NaN</td>\n",
              "      <td>NaN</td>\n",
              "      <td>NaN</td>\n",
              "      <td>NaN</td>\n",
              "      <td>NaN</td>\n",
              "      <td>NaN</td>\n",
              "    </tr>\n",
              "    <tr>\n",
              "      <th>Male</th>\n",
              "      <td>NaN</td>\n",
              "      <td>NaN</td>\n",
              "      <td>6.0</td>\n",
              "      <td>NaN</td>\n",
              "      <td>NaN</td>\n",
              "      <td>NaN</td>\n",
              "      <td>NaN</td>\n",
              "      <td>NaN</td>\n",
              "    </tr>\n",
              "    <tr>\n",
              "      <th>Marketing</th>\n",
              "      <td>NaN</td>\n",
              "      <td>NaN</td>\n",
              "      <td>NaN</td>\n",
              "      <td>NaN</td>\n",
              "      <td>NaN</td>\n",
              "      <td>3.0</td>\n",
              "      <td>NaN</td>\n",
              "      <td>NaN</td>\n",
              "    </tr>\n",
              "    <tr>\n",
              "      <th>Master</th>\n",
              "      <td>NaN</td>\n",
              "      <td>NaN</td>\n",
              "      <td>NaN</td>\n",
              "      <td>NaN</td>\n",
              "      <td>NaN</td>\n",
              "      <td>NaN</td>\n",
              "      <td>NaN</td>\n",
              "      <td>3.0</td>\n",
              "    </tr>\n",
              "    <tr>\n",
              "      <th>PhD</th>\n",
              "      <td>NaN</td>\n",
              "      <td>NaN</td>\n",
              "      <td>NaN</td>\n",
              "      <td>NaN</td>\n",
              "      <td>NaN</td>\n",
              "      <td>NaN</td>\n",
              "      <td>NaN</td>\n",
              "      <td>2.0</td>\n",
              "    </tr>\n",
              "    <tr>\n",
              "      <th>UK</th>\n",
              "      <td>NaN</td>\n",
              "      <td>NaN</td>\n",
              "      <td>NaN</td>\n",
              "      <td>2.0</td>\n",
              "      <td>NaN</td>\n",
              "      <td>NaN</td>\n",
              "      <td>NaN</td>\n",
              "      <td>NaN</td>\n",
              "    </tr>\n",
              "    <tr>\n",
              "      <th>USA</th>\n",
              "      <td>NaN</td>\n",
              "      <td>NaN</td>\n",
              "      <td>NaN</td>\n",
              "      <td>4.0</td>\n",
              "      <td>NaN</td>\n",
              "      <td>NaN</td>\n",
              "      <td>NaN</td>\n",
              "      <td>NaN</td>\n",
              "    </tr>\n",
              "  </tbody>\n",
              "</table>\n",
              "</div>"
            ],
            "text/plain": [
              "             Name  Age  Gender  Country  Salary  Department  \\\n",
              "1             NaN  NaN     NaN      NaN     NaN         NaN   \n",
              "2             NaN  NaN     NaN      NaN     NaN         NaN   \n",
              "3             NaN  NaN     NaN      NaN     NaN         NaN   \n",
              "5             NaN  NaN     NaN      NaN     NaN         NaN   \n",
              "6             NaN  NaN     NaN      NaN     NaN         NaN   \n",
              "7             NaN  NaN     NaN      NaN     NaN         NaN   \n",
              "8             NaN  NaN     NaN      NaN     NaN         NaN   \n",
              "10            NaN  NaN     NaN      NaN     NaN         NaN   \n",
              "18            NaN  1.0     NaN      NaN     NaN         NaN   \n",
              "21            NaN  1.0     NaN      NaN     NaN         NaN   \n",
              "22            NaN  NaN     NaN      NaN     NaN         NaN   \n",
              "25            NaN  1.0     NaN      NaN     NaN         NaN   \n",
              "28            NaN  1.0     NaN      NaN     NaN         NaN   \n",
              "29            NaN  1.0     NaN      NaN     NaN         NaN   \n",
              "32            NaN  1.0     NaN      NaN     NaN         NaN   \n",
              "33            NaN  1.0     NaN      NaN     NaN         NaN   \n",
              "36            NaN  1.0     NaN      NaN     NaN         NaN   \n",
              "45            NaN  1.0     NaN      NaN     NaN         NaN   \n",
              "47            NaN  1.0     NaN      NaN     NaN         NaN   \n",
              "40000         NaN  NaN     NaN      NaN     1.0         NaN   \n",
              "50000         NaN  NaN     NaN      NaN     1.0         NaN   \n",
              "55000         NaN  NaN     NaN      NaN     1.0         NaN   \n",
              "60000         NaN  NaN     NaN      NaN     1.0         NaN   \n",
              "65000         NaN  NaN     NaN      NaN     1.0         NaN   \n",
              "70000         NaN  NaN     NaN      NaN     1.0         NaN   \n",
              "75000         NaN  NaN     NaN      NaN     1.0         NaN   \n",
              "80000         NaN  NaN     NaN      NaN     1.0         NaN   \n",
              "90000         NaN  NaN     NaN      NaN     1.0         NaN   \n",
              "100000        NaN  NaN     NaN      NaN     1.0         NaN   \n",
              "Alice         1.0  NaN     NaN      NaN     NaN         NaN   \n",
              "Australia     NaN  NaN     NaN      2.0     NaN         NaN   \n",
              "Bachelor      NaN  NaN     NaN      NaN     NaN         NaN   \n",
              "Bob           1.0  NaN     NaN      NaN     NaN         NaN   \n",
              "Canada        NaN  NaN     NaN      2.0     NaN         NaN   \n",
              "Charlie       1.0  NaN     NaN      NaN     NaN         NaN   \n",
              "David         1.0  NaN     NaN      NaN     NaN         NaN   \n",
              "Emily         1.0  NaN     NaN      NaN     NaN         NaN   \n",
              "Female        NaN  NaN     4.0      NaN     NaN         NaN   \n",
              "Finance       NaN  NaN     NaN      NaN     NaN         2.0   \n",
              "Frank         1.0  NaN     NaN      NaN     NaN         NaN   \n",
              "George        1.0  NaN     NaN      NaN     NaN         NaN   \n",
              "HR            NaN  NaN     NaN      NaN     NaN         2.0   \n",
              "Helen         1.0  NaN     NaN      NaN     NaN         NaN   \n",
              "High School   NaN  NaN     NaN      NaN     NaN         NaN   \n",
              "IT            NaN  NaN     NaN      NaN     NaN         3.0   \n",
              "Irene         1.0  NaN     NaN      NaN     NaN         NaN   \n",
              "Jack          1.0  NaN     NaN      NaN     NaN         NaN   \n",
              "Male          NaN  NaN     6.0      NaN     NaN         NaN   \n",
              "Marketing     NaN  NaN     NaN      NaN     NaN         3.0   \n",
              "Master        NaN  NaN     NaN      NaN     NaN         NaN   \n",
              "PhD           NaN  NaN     NaN      NaN     NaN         NaN   \n",
              "UK            NaN  NaN     NaN      2.0     NaN         NaN   \n",
              "USA           NaN  NaN     NaN      4.0     NaN         NaN   \n",
              "\n",
              "             Years of Experience  Education Level  \n",
              "1                            1.0              NaN  \n",
              "2                            1.0              NaN  \n",
              "3                            1.0              NaN  \n",
              "5                            1.0              NaN  \n",
              "6                            1.0              NaN  \n",
              "7                            1.0              NaN  \n",
              "8                            1.0              NaN  \n",
              "10                           1.0              NaN  \n",
              "18                           1.0              NaN  \n",
              "21                           NaN              NaN  \n",
              "22                           1.0              NaN  \n",
              "25                           NaN              NaN  \n",
              "28                           NaN              NaN  \n",
              "29                           NaN              NaN  \n",
              "32                           NaN              NaN  \n",
              "33                           NaN              NaN  \n",
              "36                           NaN              NaN  \n",
              "45                           NaN              NaN  \n",
              "47                           NaN              NaN  \n",
              "40000                        NaN              NaN  \n",
              "50000                        NaN              NaN  \n",
              "55000                        NaN              NaN  \n",
              "60000                        NaN              NaN  \n",
              "65000                        NaN              NaN  \n",
              "70000                        NaN              NaN  \n",
              "75000                        NaN              NaN  \n",
              "80000                        NaN              NaN  \n",
              "90000                        NaN              NaN  \n",
              "100000                       NaN              NaN  \n",
              "Alice                        NaN              NaN  \n",
              "Australia                    NaN              NaN  \n",
              "Bachelor                     NaN              4.0  \n",
              "Bob                          NaN              NaN  \n",
              "Canada                       NaN              NaN  \n",
              "Charlie                      NaN              NaN  \n",
              "David                        NaN              NaN  \n",
              "Emily                        NaN              NaN  \n",
              "Female                       NaN              NaN  \n",
              "Finance                      NaN              NaN  \n",
              "Frank                        NaN              NaN  \n",
              "George                       NaN              NaN  \n",
              "HR                           NaN              NaN  \n",
              "Helen                        NaN              NaN  \n",
              "High School                  NaN              1.0  \n",
              "IT                           NaN              NaN  \n",
              "Irene                        NaN              NaN  \n",
              "Jack                         NaN              NaN  \n",
              "Male                         NaN              NaN  \n",
              "Marketing                    NaN              NaN  \n",
              "Master                       NaN              3.0  \n",
              "PhD                          NaN              2.0  \n",
              "UK                           NaN              NaN  \n",
              "USA                          NaN              NaN  "
            ]
          },
          "execution_count": 8,
          "metadata": {},
          "output_type": "execute_result"
        }
      ],
      "source": [
        "df.apply (pd.Series.value_counts) #view uniue values & counts for all columns"
      ]
    },
    {
      "cell_type": "code",
      "execution_count": null,
      "id": "57282b20",
      "metadata": {
        "id": "57282b20"
      },
      "outputs": [],
      "source": []
    },
    {
      "cell_type": "code",
      "execution_count": null,
      "id": "78db9657",
      "metadata": {
        "id": "78db9657",
        "outputId": "b929c2e4-1094-4861-97d0-598c0aa36220"
      },
      "outputs": [
        {
          "data": {
            "text/html": [
              "<div>\n",
              "<style scoped>\n",
              "    .dataframe tbody tr th:only-of-type {\n",
              "        vertical-align: middle;\n",
              "    }\n",
              "\n",
              "    .dataframe tbody tr th {\n",
              "        vertical-align: top;\n",
              "    }\n",
              "\n",
              "    .dataframe thead th {\n",
              "        text-align: right;\n",
              "    }\n",
              "</style>\n",
              "<table border=\"1\" class=\"dataframe\">\n",
              "  <thead>\n",
              "    <tr style=\"text-align: right;\">\n",
              "      <th></th>\n",
              "      <th>Name</th>\n",
              "      <th>Age</th>\n",
              "      <th>Gender</th>\n",
              "      <th>Country</th>\n",
              "      <th>Salary</th>\n",
              "      <th>Department</th>\n",
              "      <th>Years of Experience</th>\n",
              "      <th>Education Level</th>\n",
              "    </tr>\n",
              "  </thead>\n",
              "  <tbody>\n",
              "    <tr>\n",
              "      <th>1st</th>\n",
              "      <td>Alice</td>\n",
              "      <td>25</td>\n",
              "      <td>Female</td>\n",
              "      <td>USA</td>\n",
              "      <td>50000</td>\n",
              "      <td>Marketing</td>\n",
              "      <td>3</td>\n",
              "      <td>Bachelor</td>\n",
              "    </tr>\n",
              "    <tr>\n",
              "      <th>2nd</th>\n",
              "      <td>Bob</td>\n",
              "      <td>32</td>\n",
              "      <td>Male</td>\n",
              "      <td>Canada</td>\n",
              "      <td>75000</td>\n",
              "      <td>Finance</td>\n",
              "      <td>8</td>\n",
              "      <td>Master</td>\n",
              "    </tr>\n",
              "    <tr>\n",
              "      <th>3rd</th>\n",
              "      <td>Charlie</td>\n",
              "      <td>18</td>\n",
              "      <td>Male</td>\n",
              "      <td>USA</td>\n",
              "      <td>40000</td>\n",
              "      <td>Marketing</td>\n",
              "      <td>1</td>\n",
              "      <td>High School</td>\n",
              "    </tr>\n",
              "    <tr>\n",
              "      <th>4th</th>\n",
              "      <td>David</td>\n",
              "      <td>47</td>\n",
              "      <td>Male</td>\n",
              "      <td>Australia</td>\n",
              "      <td>90000</td>\n",
              "      <td>IT</td>\n",
              "      <td>18</td>\n",
              "      <td>PhD</td>\n",
              "    </tr>\n",
              "    <tr>\n",
              "      <th>5th</th>\n",
              "      <td>Emily</td>\n",
              "      <td>29</td>\n",
              "      <td>Female</td>\n",
              "      <td>UK</td>\n",
              "      <td>60000</td>\n",
              "      <td>IT</td>\n",
              "      <td>6</td>\n",
              "      <td>Bachelor</td>\n",
              "    </tr>\n",
              "    <tr>\n",
              "      <th>6th</th>\n",
              "      <td>Frank</td>\n",
              "      <td>36</td>\n",
              "      <td>Male</td>\n",
              "      <td>Canada</td>\n",
              "      <td>80000</td>\n",
              "      <td>HR</td>\n",
              "      <td>10</td>\n",
              "      <td>Master</td>\n",
              "    </tr>\n",
              "    <tr>\n",
              "      <th>7th</th>\n",
              "      <td>George</td>\n",
              "      <td>21</td>\n",
              "      <td>Male</td>\n",
              "      <td>USA</td>\n",
              "      <td>55000</td>\n",
              "      <td>Marketing</td>\n",
              "      <td>2</td>\n",
              "      <td>Bachelor</td>\n",
              "    </tr>\n",
              "    <tr>\n",
              "      <th>8th</th>\n",
              "      <td>Helen</td>\n",
              "      <td>45</td>\n",
              "      <td>Female</td>\n",
              "      <td>Australia</td>\n",
              "      <td>100000</td>\n",
              "      <td>IT</td>\n",
              "      <td>22</td>\n",
              "      <td>PhD</td>\n",
              "    </tr>\n",
              "    <tr>\n",
              "      <th>9th</th>\n",
              "      <td>Irene</td>\n",
              "      <td>28</td>\n",
              "      <td>Female</td>\n",
              "      <td>UK</td>\n",
              "      <td>65000</td>\n",
              "      <td>HR</td>\n",
              "      <td>5</td>\n",
              "      <td>Bachelor</td>\n",
              "    </tr>\n",
              "    <tr>\n",
              "      <th>10th</th>\n",
              "      <td>Jack</td>\n",
              "      <td>33</td>\n",
              "      <td>Male</td>\n",
              "      <td>USA</td>\n",
              "      <td>70000</td>\n",
              "      <td>Finance</td>\n",
              "      <td>7</td>\n",
              "      <td>Master</td>\n",
              "    </tr>\n",
              "  </tbody>\n",
              "</table>\n",
              "</div>"
            ],
            "text/plain": [
              "         Name  Age  Gender    Country  Salary Department  Years of Experience  \\\n",
              "1st     Alice   25  Female        USA   50000  Marketing                    3   \n",
              "2nd       Bob   32    Male     Canada   75000    Finance                    8   \n",
              "3rd   Charlie   18    Male        USA   40000  Marketing                    1   \n",
              "4th     David   47    Male  Australia   90000         IT                   18   \n",
              "5th     Emily   29  Female         UK   60000         IT                    6   \n",
              "6th     Frank   36    Male     Canada   80000         HR                   10   \n",
              "7th    George   21    Male        USA   55000  Marketing                    2   \n",
              "8th     Helen   45  Female  Australia  100000         IT                   22   \n",
              "9th     Irene   28  Female         UK   65000         HR                    5   \n",
              "10th     Jack   33    Male        USA   70000    Finance                    7   \n",
              "\n",
              "     Education Level  \n",
              "1st         Bachelor  \n",
              "2nd           Master  \n",
              "3rd      High School  \n",
              "4th              PhD  \n",
              "5th         Bachelor  \n",
              "6th           Master  \n",
              "7th         Bachelor  \n",
              "8th              PhD  \n",
              "9th         Bachelor  \n",
              "10th          Master  "
            ]
          },
          "execution_count": 9,
          "metadata": {},
          "output_type": "execute_result"
        }
      ],
      "source": [
        "#Enter string in index\n",
        "df.index=['1st','2nd','3rd','4th','5th','6th','7th','8th','9th','10th']\n",
        "df"
      ]
    },
    {
      "cell_type": "code",
      "execution_count": null,
      "id": "eb504489",
      "metadata": {
        "id": "eb504489",
        "outputId": "069125f1-6e38-47f8-c061-ac816b545417"
      },
      "outputs": [
        {
          "data": {
            "text/plain": [
              "Index(['1st', '2nd', '3rd', '4th', '5th', '6th', '7th', '8th', '9th', '10th'], dtype='object')"
            ]
          },
          "execution_count": 10,
          "metadata": {},
          "output_type": "execute_result"
        }
      ],
      "source": [
        "df.index"
      ]
    },
    {
      "cell_type": "code",
      "execution_count": null,
      "id": "ee69847f",
      "metadata": {
        "id": "ee69847f",
        "outputId": "01e205a5-bdcd-40cd-f8d2-67ed855e0039"
      },
      "outputs": [
        {
          "data": {
            "text/plain": [
              "Index(['Name', 'Age', 'Gender', 'Country', 'Salary', 'Department',\n",
              "       'Years of Experience', 'Education Level'],\n",
              "      dtype='object')"
            ]
          },
          "execution_count": 11,
          "metadata": {},
          "output_type": "execute_result"
        }
      ],
      "source": [
        "df.columns"
      ]
    },
    {
      "cell_type": "code",
      "execution_count": null,
      "id": "b6cebea5",
      "metadata": {
        "id": "b6cebea5",
        "outputId": "30237f8e-2949-487e-f13a-6b269d82574c"
      },
      "outputs": [
        {
          "data": {
            "text/plain": [
              "1st     25\n",
              "2nd     32\n",
              "3rd     18\n",
              "4th     47\n",
              "5th     29\n",
              "6th     36\n",
              "7th     21\n",
              "8th     45\n",
              "9th     28\n",
              "10th    33\n",
              "Name: Age, dtype: int64"
            ]
          },
          "execution_count": 12,
          "metadata": {},
          "output_type": "execute_result"
        }
      ],
      "source": [
        "df['Age'] # return column with label col as series"
      ]
    },
    {
      "cell_type": "code",
      "execution_count": null,
      "id": "2cb7be6c",
      "metadata": {
        "id": "2cb7be6c",
        "outputId": "b2bf7af1-54d7-4202-8c2a-bcf266d91dd1"
      },
      "outputs": [
        {
          "data": {
            "text/html": [
              "<div>\n",
              "<style scoped>\n",
              "    .dataframe tbody tr th:only-of-type {\n",
              "        vertical-align: middle;\n",
              "    }\n",
              "\n",
              "    .dataframe tbody tr th {\n",
              "        vertical-align: top;\n",
              "    }\n",
              "\n",
              "    .dataframe thead th {\n",
              "        text-align: right;\n",
              "    }\n",
              "</style>\n",
              "<table border=\"1\" class=\"dataframe\">\n",
              "  <thead>\n",
              "    <tr style=\"text-align: right;\">\n",
              "      <th></th>\n",
              "      <th>Age</th>\n",
              "      <th>Salary</th>\n",
              "    </tr>\n",
              "  </thead>\n",
              "  <tbody>\n",
              "    <tr>\n",
              "      <th>1st</th>\n",
              "      <td>25</td>\n",
              "      <td>50000</td>\n",
              "    </tr>\n",
              "    <tr>\n",
              "      <th>2nd</th>\n",
              "      <td>32</td>\n",
              "      <td>75000</td>\n",
              "    </tr>\n",
              "    <tr>\n",
              "      <th>3rd</th>\n",
              "      <td>18</td>\n",
              "      <td>40000</td>\n",
              "    </tr>\n",
              "    <tr>\n",
              "      <th>4th</th>\n",
              "      <td>47</td>\n",
              "      <td>90000</td>\n",
              "    </tr>\n",
              "    <tr>\n",
              "      <th>5th</th>\n",
              "      <td>29</td>\n",
              "      <td>60000</td>\n",
              "    </tr>\n",
              "    <tr>\n",
              "      <th>6th</th>\n",
              "      <td>36</td>\n",
              "      <td>80000</td>\n",
              "    </tr>\n",
              "    <tr>\n",
              "      <th>7th</th>\n",
              "      <td>21</td>\n",
              "      <td>55000</td>\n",
              "    </tr>\n",
              "    <tr>\n",
              "      <th>8th</th>\n",
              "      <td>45</td>\n",
              "      <td>100000</td>\n",
              "    </tr>\n",
              "    <tr>\n",
              "      <th>9th</th>\n",
              "      <td>28</td>\n",
              "      <td>65000</td>\n",
              "    </tr>\n",
              "    <tr>\n",
              "      <th>10th</th>\n",
              "      <td>33</td>\n",
              "      <td>70000</td>\n",
              "    </tr>\n",
              "  </tbody>\n",
              "</table>\n",
              "</div>"
            ],
            "text/plain": [
              "      Age  Salary\n",
              "1st    25   50000\n",
              "2nd    32   75000\n",
              "3rd    18   40000\n",
              "4th    47   90000\n",
              "5th    29   60000\n",
              "6th    36   80000\n",
              "7th    21   55000\n",
              "8th    45  100000\n",
              "9th    28   65000\n",
              "10th   33   70000"
            ]
          },
          "execution_count": 13,
          "metadata": {},
          "output_type": "execute_result"
        }
      ],
      "source": [
        "df[['Age','Salary']] # return column with label col as dataframe"
      ]
    },
    {
      "cell_type": "code",
      "execution_count": null,
      "id": "965e3c2e",
      "metadata": {
        "id": "965e3c2e",
        "outputId": "fd25eada-f1b8-4f4e-af4a-40e0adb86e70"
      },
      "outputs": [
        {
          "data": {
            "text/plain": [
              "array([['Alice', 25, 'Female', 'USA', 50000, 'Marketing', 3, 'Bachelor'],\n",
              "       ['Bob', 32, 'Male', 'Canada', 75000, 'Finance', 8, 'Master'],\n",
              "       ['Charlie', 18, 'Male', 'USA', 40000, 'Marketing', 1,\n",
              "        'High School'],\n",
              "       ['David', 47, 'Male', 'Australia', 90000, 'IT', 18, 'PhD'],\n",
              "       ['Emily', 29, 'Female', 'UK', 60000, 'IT', 6, 'Bachelor'],\n",
              "       ['Frank', 36, 'Male', 'Canada', 80000, 'HR', 10, 'Master'],\n",
              "       ['George', 21, 'Male', 'USA', 55000, 'Marketing', 2, 'Bachelor'],\n",
              "       ['Helen', 45, 'Female', 'Australia', 100000, 'IT', 22, 'PhD'],\n",
              "       ['Irene', 28, 'Female', 'UK', 65000, 'HR', 5, 'Bachelor'],\n",
              "       ['Jack', 33, 'Male', 'USA', 70000, 'Finance', 7, 'Master']],\n",
              "      dtype=object)"
            ]
          },
          "execution_count": 14,
          "metadata": {},
          "output_type": "execute_result"
        }
      ],
      "source": [
        "df.to_numpy()"
      ]
    },
    {
      "cell_type": "code",
      "execution_count": null,
      "id": "2ba2cb71",
      "metadata": {
        "id": "2ba2cb71",
        "outputId": "d18fdf38-98ce-465f-c947-68990021f672"
      },
      "outputs": [
        {
          "data": {
            "text/html": [
              "<div>\n",
              "<style scoped>\n",
              "    .dataframe tbody tr th:only-of-type {\n",
              "        vertical-align: middle;\n",
              "    }\n",
              "\n",
              "    .dataframe tbody tr th {\n",
              "        vertical-align: top;\n",
              "    }\n",
              "\n",
              "    .dataframe thead th {\n",
              "        text-align: right;\n",
              "    }\n",
              "</style>\n",
              "<table border=\"1\" class=\"dataframe\">\n",
              "  <thead>\n",
              "    <tr style=\"text-align: right;\">\n",
              "      <th></th>\n",
              "      <th>Name</th>\n",
              "      <th>Age</th>\n",
              "      <th>Gender</th>\n",
              "      <th>Country</th>\n",
              "      <th>Salary</th>\n",
              "      <th>Department</th>\n",
              "      <th>Years of Experience</th>\n",
              "      <th>Education Level</th>\n",
              "    </tr>\n",
              "  </thead>\n",
              "  <tbody>\n",
              "    <tr>\n",
              "      <th>1st</th>\n",
              "      <td>Alice</td>\n",
              "      <td>25</td>\n",
              "      <td>Female</td>\n",
              "      <td>USA</td>\n",
              "      <td>50000</td>\n",
              "      <td>Marketing</td>\n",
              "      <td>3</td>\n",
              "      <td>Bachelor</td>\n",
              "    </tr>\n",
              "    <tr>\n",
              "      <th>2nd</th>\n",
              "      <td>Bob</td>\n",
              "      <td>32</td>\n",
              "      <td>Male</td>\n",
              "      <td>Canada</td>\n",
              "      <td>75000</td>\n",
              "      <td>Finance</td>\n",
              "      <td>8</td>\n",
              "      <td>Master</td>\n",
              "    </tr>\n",
              "    <tr>\n",
              "      <th>3rd</th>\n",
              "      <td>Charlie</td>\n",
              "      <td>18</td>\n",
              "      <td>Male</td>\n",
              "      <td>USA</td>\n",
              "      <td>40000</td>\n",
              "      <td>Marketing</td>\n",
              "      <td>1</td>\n",
              "      <td>High School</td>\n",
              "    </tr>\n",
              "    <tr>\n",
              "      <th>4th</th>\n",
              "      <td>David</td>\n",
              "      <td>47</td>\n",
              "      <td>Male</td>\n",
              "      <td>Australia</td>\n",
              "      <td>90000</td>\n",
              "      <td>IT</td>\n",
              "      <td>18</td>\n",
              "      <td>PhD</td>\n",
              "    </tr>\n",
              "    <tr>\n",
              "      <th>5th</th>\n",
              "      <td>Emily</td>\n",
              "      <td>29</td>\n",
              "      <td>Female</td>\n",
              "      <td>UK</td>\n",
              "      <td>60000</td>\n",
              "      <td>IT</td>\n",
              "      <td>6</td>\n",
              "      <td>Bachelor</td>\n",
              "    </tr>\n",
              "    <tr>\n",
              "      <th>6th</th>\n",
              "      <td>Frank</td>\n",
              "      <td>36</td>\n",
              "      <td>Male</td>\n",
              "      <td>Canada</td>\n",
              "      <td>80000</td>\n",
              "      <td>HR</td>\n",
              "      <td>10</td>\n",
              "      <td>Master</td>\n",
              "    </tr>\n",
              "    <tr>\n",
              "      <th>7th</th>\n",
              "      <td>George</td>\n",
              "      <td>21</td>\n",
              "      <td>Male</td>\n",
              "      <td>USA</td>\n",
              "      <td>55000</td>\n",
              "      <td>Marketing</td>\n",
              "      <td>2</td>\n",
              "      <td>Bachelor</td>\n",
              "    </tr>\n",
              "    <tr>\n",
              "      <th>8th</th>\n",
              "      <td>Helen</td>\n",
              "      <td>45</td>\n",
              "      <td>Female</td>\n",
              "      <td>Australia</td>\n",
              "      <td>100000</td>\n",
              "      <td>IT</td>\n",
              "      <td>22</td>\n",
              "      <td>PhD</td>\n",
              "    </tr>\n",
              "    <tr>\n",
              "      <th>9th</th>\n",
              "      <td>Irene</td>\n",
              "      <td>28</td>\n",
              "      <td>Female</td>\n",
              "      <td>UK</td>\n",
              "      <td>65000</td>\n",
              "      <td>HR</td>\n",
              "      <td>5</td>\n",
              "      <td>Bachelor</td>\n",
              "    </tr>\n",
              "    <tr>\n",
              "      <th>10th</th>\n",
              "      <td>Jack</td>\n",
              "      <td>33</td>\n",
              "      <td>Male</td>\n",
              "      <td>USA</td>\n",
              "      <td>70000</td>\n",
              "      <td>Finance</td>\n",
              "      <td>7</td>\n",
              "      <td>Master</td>\n",
              "    </tr>\n",
              "  </tbody>\n",
              "</table>\n",
              "</div>"
            ],
            "text/plain": [
              "         Name  Age  Gender    Country  Salary Department  Years of Experience  \\\n",
              "1st     Alice   25  Female        USA   50000  Marketing                    3   \n",
              "2nd       Bob   32    Male     Canada   75000    Finance                    8   \n",
              "3rd   Charlie   18    Male        USA   40000  Marketing                    1   \n",
              "4th     David   47    Male  Australia   90000         IT                   18   \n",
              "5th     Emily   29  Female         UK   60000         IT                    6   \n",
              "6th     Frank   36    Male     Canada   80000         HR                   10   \n",
              "7th    George   21    Male        USA   55000  Marketing                    2   \n",
              "8th     Helen   45  Female  Australia  100000         IT                   22   \n",
              "9th     Irene   28  Female         UK   65000         HR                    5   \n",
              "10th     Jack   33    Male        USA   70000    Finance                    7   \n",
              "\n",
              "     Education Level  \n",
              "1st         Bachelor  \n",
              "2nd           Master  \n",
              "3rd      High School  \n",
              "4th              PhD  \n",
              "5th         Bachelor  \n",
              "6th           Master  \n",
              "7th         Bachelor  \n",
              "8th              PhD  \n",
              "9th         Bachelor  \n",
              "10th          Master  "
            ]
          },
          "execution_count": 15,
          "metadata": {},
          "output_type": "execute_result"
        }
      ],
      "source": [
        "# Let us get a subset which consists of first 8 rows and first 4 columns\n",
        "df.iloc[:,:]"
      ]
    },
    {
      "cell_type": "code",
      "execution_count": null,
      "id": "bc6f919a",
      "metadata": {
        "id": "bc6f919a",
        "outputId": "60c11739-9166-4551-ce90-5cfd5c5557db"
      },
      "outputs": [
        {
          "data": {
            "text/html": [
              "<div>\n",
              "<style scoped>\n",
              "    .dataframe tbody tr th:only-of-type {\n",
              "        vertical-align: middle;\n",
              "    }\n",
              "\n",
              "    .dataframe tbody tr th {\n",
              "        vertical-align: top;\n",
              "    }\n",
              "\n",
              "    .dataframe thead th {\n",
              "        text-align: right;\n",
              "    }\n",
              "</style>\n",
              "<table border=\"1\" class=\"dataframe\">\n",
              "  <thead>\n",
              "    <tr style=\"text-align: right;\">\n",
              "      <th></th>\n",
              "      <th>Name</th>\n",
              "      <th>Age</th>\n",
              "      <th>Gender</th>\n",
              "      <th>Country</th>\n",
              "      <th>Salary</th>\n",
              "      <th>Department</th>\n",
              "      <th>Years of Experience</th>\n",
              "      <th>Education Level</th>\n",
              "    </tr>\n",
              "  </thead>\n",
              "  <tbody>\n",
              "    <tr>\n",
              "      <th>10th</th>\n",
              "      <td>Jack</td>\n",
              "      <td>33</td>\n",
              "      <td>Male</td>\n",
              "      <td>USA</td>\n",
              "      <td>70000</td>\n",
              "      <td>Finance</td>\n",
              "      <td>7</td>\n",
              "      <td>Master</td>\n",
              "    </tr>\n",
              "    <tr>\n",
              "      <th>1st</th>\n",
              "      <td>Alice</td>\n",
              "      <td>25</td>\n",
              "      <td>Female</td>\n",
              "      <td>USA</td>\n",
              "      <td>50000</td>\n",
              "      <td>Marketing</td>\n",
              "      <td>3</td>\n",
              "      <td>Bachelor</td>\n",
              "    </tr>\n",
              "    <tr>\n",
              "      <th>2nd</th>\n",
              "      <td>Bob</td>\n",
              "      <td>32</td>\n",
              "      <td>Male</td>\n",
              "      <td>Canada</td>\n",
              "      <td>75000</td>\n",
              "      <td>Finance</td>\n",
              "      <td>8</td>\n",
              "      <td>Master</td>\n",
              "    </tr>\n",
              "    <tr>\n",
              "      <th>3rd</th>\n",
              "      <td>Charlie</td>\n",
              "      <td>18</td>\n",
              "      <td>Male</td>\n",
              "      <td>USA</td>\n",
              "      <td>40000</td>\n",
              "      <td>Marketing</td>\n",
              "      <td>1</td>\n",
              "      <td>High School</td>\n",
              "    </tr>\n",
              "    <tr>\n",
              "      <th>4th</th>\n",
              "      <td>David</td>\n",
              "      <td>47</td>\n",
              "      <td>Male</td>\n",
              "      <td>Australia</td>\n",
              "      <td>90000</td>\n",
              "      <td>IT</td>\n",
              "      <td>18</td>\n",
              "      <td>PhD</td>\n",
              "    </tr>\n",
              "    <tr>\n",
              "      <th>5th</th>\n",
              "      <td>Emily</td>\n",
              "      <td>29</td>\n",
              "      <td>Female</td>\n",
              "      <td>UK</td>\n",
              "      <td>60000</td>\n",
              "      <td>IT</td>\n",
              "      <td>6</td>\n",
              "      <td>Bachelor</td>\n",
              "    </tr>\n",
              "    <tr>\n",
              "      <th>6th</th>\n",
              "      <td>Frank</td>\n",
              "      <td>36</td>\n",
              "      <td>Male</td>\n",
              "      <td>Canada</td>\n",
              "      <td>80000</td>\n",
              "      <td>HR</td>\n",
              "      <td>10</td>\n",
              "      <td>Master</td>\n",
              "    </tr>\n",
              "    <tr>\n",
              "      <th>7th</th>\n",
              "      <td>George</td>\n",
              "      <td>21</td>\n",
              "      <td>Male</td>\n",
              "      <td>USA</td>\n",
              "      <td>55000</td>\n",
              "      <td>Marketing</td>\n",
              "      <td>2</td>\n",
              "      <td>Bachelor</td>\n",
              "    </tr>\n",
              "    <tr>\n",
              "      <th>8th</th>\n",
              "      <td>Helen</td>\n",
              "      <td>45</td>\n",
              "      <td>Female</td>\n",
              "      <td>Australia</td>\n",
              "      <td>100000</td>\n",
              "      <td>IT</td>\n",
              "      <td>22</td>\n",
              "      <td>PhD</td>\n",
              "    </tr>\n",
              "    <tr>\n",
              "      <th>9th</th>\n",
              "      <td>Irene</td>\n",
              "      <td>28</td>\n",
              "      <td>Female</td>\n",
              "      <td>UK</td>\n",
              "      <td>65000</td>\n",
              "      <td>HR</td>\n",
              "      <td>5</td>\n",
              "      <td>Bachelor</td>\n",
              "    </tr>\n",
              "  </tbody>\n",
              "</table>\n",
              "</div>"
            ],
            "text/plain": [
              "         Name  Age  Gender    Country  Salary Department  Years of Experience  \\\n",
              "10th     Jack   33    Male        USA   70000    Finance                    7   \n",
              "1st     Alice   25  Female        USA   50000  Marketing                    3   \n",
              "2nd       Bob   32    Male     Canada   75000    Finance                    8   \n",
              "3rd   Charlie   18    Male        USA   40000  Marketing                    1   \n",
              "4th     David   47    Male  Australia   90000         IT                   18   \n",
              "5th     Emily   29  Female         UK   60000         IT                    6   \n",
              "6th     Frank   36    Male     Canada   80000         HR                   10   \n",
              "7th    George   21    Male        USA   55000  Marketing                    2   \n",
              "8th     Helen   45  Female  Australia  100000         IT                   22   \n",
              "9th     Irene   28  Female         UK   65000         HR                    5   \n",
              "\n",
              "     Education Level  \n",
              "10th          Master  \n",
              "1st         Bachelor  \n",
              "2nd           Master  \n",
              "3rd      High School  \n",
              "4th              PhD  \n",
              "5th         Bachelor  \n",
              "6th           Master  \n",
              "7th         Bachelor  \n",
              "8th              PhD  \n",
              "9th         Bachelor  "
            ]
          },
          "execution_count": 16,
          "metadata": {},
          "output_type": "execute_result"
        }
      ],
      "source": [
        "df.sort_index(axis=0,ascending=True) #axis=0 column, axis=1 row"
      ]
    },
    {
      "cell_type": "code",
      "execution_count": null,
      "id": "b5e7b122",
      "metadata": {
        "id": "b5e7b122"
      },
      "outputs": [],
      "source": []
    },
    {
      "cell_type": "markdown",
      "id": "8ce1ca23",
      "metadata": {
        "id": "8ce1ca23"
      },
      "source": [
        "iloc gets rows (or columns) at particular positions in the index (so it only takes integers)."
      ]
    },
    {
      "cell_type": "markdown",
      "id": "8e7c73e3",
      "metadata": {
        "id": "8e7c73e3"
      },
      "source": [
        "loc gets rows (or columns) with particular labels from the index."
      ]
    },
    {
      "cell_type": "code",
      "execution_count": null,
      "id": "d4bb9eee",
      "metadata": {
        "id": "d4bb9eee",
        "outputId": "8592869f-e7ba-41a8-8220-43a4673cb49f"
      },
      "outputs": [
        {
          "data": {
            "text/html": [
              "<div>\n",
              "<style scoped>\n",
              "    .dataframe tbody tr th:only-of-type {\n",
              "        vertical-align: middle;\n",
              "    }\n",
              "\n",
              "    .dataframe tbody tr th {\n",
              "        vertical-align: top;\n",
              "    }\n",
              "\n",
              "    .dataframe thead th {\n",
              "        text-align: right;\n",
              "    }\n",
              "</style>\n",
              "<table border=\"1\" class=\"dataframe\">\n",
              "  <thead>\n",
              "    <tr style=\"text-align: right;\">\n",
              "      <th></th>\n",
              "      <th>Age</th>\n",
              "      <th>Gender</th>\n",
              "    </tr>\n",
              "  </thead>\n",
              "  <tbody>\n",
              "    <tr>\n",
              "      <th>1st</th>\n",
              "      <td>25</td>\n",
              "      <td>Female</td>\n",
              "    </tr>\n",
              "    <tr>\n",
              "      <th>2nd</th>\n",
              "      <td>32</td>\n",
              "      <td>Male</td>\n",
              "    </tr>\n",
              "    <tr>\n",
              "      <th>3rd</th>\n",
              "      <td>18</td>\n",
              "      <td>Male</td>\n",
              "    </tr>\n",
              "    <tr>\n",
              "      <th>4th</th>\n",
              "      <td>47</td>\n",
              "      <td>Male</td>\n",
              "    </tr>\n",
              "    <tr>\n",
              "      <th>5th</th>\n",
              "      <td>29</td>\n",
              "      <td>Female</td>\n",
              "    </tr>\n",
              "    <tr>\n",
              "      <th>6th</th>\n",
              "      <td>36</td>\n",
              "      <td>Male</td>\n",
              "    </tr>\n",
              "    <tr>\n",
              "      <th>7th</th>\n",
              "      <td>21</td>\n",
              "      <td>Male</td>\n",
              "    </tr>\n",
              "    <tr>\n",
              "      <th>8th</th>\n",
              "      <td>45</td>\n",
              "      <td>Female</td>\n",
              "    </tr>\n",
              "    <tr>\n",
              "      <th>9th</th>\n",
              "      <td>28</td>\n",
              "      <td>Female</td>\n",
              "    </tr>\n",
              "    <tr>\n",
              "      <th>10th</th>\n",
              "      <td>33</td>\n",
              "      <td>Male</td>\n",
              "    </tr>\n",
              "  </tbody>\n",
              "</table>\n",
              "</div>"
            ],
            "text/plain": [
              "      Age  Gender\n",
              "1st    25  Female\n",
              "2nd    32    Male\n",
              "3rd    18    Male\n",
              "4th    47    Male\n",
              "5th    29  Female\n",
              "6th    36    Male\n",
              "7th    21    Male\n",
              "8th    45  Female\n",
              "9th    28  Female\n",
              "10th   33    Male"
            ]
          },
          "execution_count": 17,
          "metadata": {},
          "output_type": "execute_result"
        }
      ],
      "source": [
        "df.loc[:,['Age','Gender']] #return all rows"
      ]
    },
    {
      "cell_type": "code",
      "execution_count": null,
      "id": "4a57cbe8",
      "metadata": {
        "id": "4a57cbe8",
        "outputId": "d20fc1a5-30d3-4310-c2f2-d01296833af6"
      },
      "outputs": [
        {
          "data": {
            "text/html": [
              "<div>\n",
              "<style scoped>\n",
              "    .dataframe tbody tr th:only-of-type {\n",
              "        vertical-align: middle;\n",
              "    }\n",
              "\n",
              "    .dataframe tbody tr th {\n",
              "        vertical-align: top;\n",
              "    }\n",
              "\n",
              "    .dataframe thead th {\n",
              "        text-align: right;\n",
              "    }\n",
              "</style>\n",
              "<table border=\"1\" class=\"dataframe\">\n",
              "  <thead>\n",
              "    <tr style=\"text-align: right;\">\n",
              "      <th></th>\n",
              "      <th>Name</th>\n",
              "      <th>Age</th>\n",
              "      <th>Gender</th>\n",
              "      <th>Country</th>\n",
              "      <th>Salary</th>\n",
              "      <th>Department</th>\n",
              "      <th>Years of Experience</th>\n",
              "      <th>Education Level</th>\n",
              "    </tr>\n",
              "  </thead>\n",
              "  <tbody>\n",
              "    <tr>\n",
              "      <th>1st</th>\n",
              "      <td>Alice</td>\n",
              "      <td>25</td>\n",
              "      <td>Female</td>\n",
              "      <td>USA</td>\n",
              "      <td>50000</td>\n",
              "      <td>Marketing</td>\n",
              "      <td>3</td>\n",
              "      <td>Bachelor</td>\n",
              "    </tr>\n",
              "    <tr>\n",
              "      <th>2nd</th>\n",
              "      <td>Bob</td>\n",
              "      <td>32</td>\n",
              "      <td>Male</td>\n",
              "      <td>Canada</td>\n",
              "      <td>75000</td>\n",
              "      <td>Finance</td>\n",
              "      <td>8</td>\n",
              "      <td>Master</td>\n",
              "    </tr>\n",
              "  </tbody>\n",
              "</table>\n",
              "</div>"
            ],
            "text/plain": [
              "      Name  Age  Gender Country  Salary Department  Years of Experience  \\\n",
              "1st  Alice   25  Female     USA   50000  Marketing                    3   \n",
              "2nd    Bob   32    Male  Canada   75000    Finance                    8   \n",
              "\n",
              "    Education Level  \n",
              "1st        Bachelor  \n",
              "2nd          Master  "
            ]
          },
          "execution_count": 18,
          "metadata": {},
          "output_type": "execute_result"
        }
      ],
      "source": [
        "df.loc[['1st','2nd'], :] #return all columns"
      ]
    },
    {
      "cell_type": "code",
      "execution_count": null,
      "id": "02ed8794",
      "metadata": {
        "id": "02ed8794",
        "outputId": "eb1680b5-6d1b-486e-859a-e72719a1f5dc"
      },
      "outputs": [
        {
          "data": {
            "text/html": [
              "<div>\n",
              "<style scoped>\n",
              "    .dataframe tbody tr th:only-of-type {\n",
              "        vertical-align: middle;\n",
              "    }\n",
              "\n",
              "    .dataframe tbody tr th {\n",
              "        vertical-align: top;\n",
              "    }\n",
              "\n",
              "    .dataframe thead th {\n",
              "        text-align: right;\n",
              "    }\n",
              "</style>\n",
              "<table border=\"1\" class=\"dataframe\">\n",
              "  <thead>\n",
              "    <tr style=\"text-align: right;\">\n",
              "      <th></th>\n",
              "      <th>Name</th>\n",
              "      <th>Age</th>\n",
              "      <th>Gender</th>\n",
              "      <th>Country</th>\n",
              "      <th>Salary</th>\n",
              "      <th>Department</th>\n",
              "      <th>Years of Experience</th>\n",
              "      <th>Education Level</th>\n",
              "    </tr>\n",
              "  </thead>\n",
              "  <tbody>\n",
              "    <tr>\n",
              "      <th>1st</th>\n",
              "      <td>Alice</td>\n",
              "      <td>25</td>\n",
              "      <td>Female</td>\n",
              "      <td>USA</td>\n",
              "      <td>50000</td>\n",
              "      <td>Marketing</td>\n",
              "      <td>3</td>\n",
              "      <td>Bachelor</td>\n",
              "    </tr>\n",
              "    <tr>\n",
              "      <th>2nd</th>\n",
              "      <td>Bob</td>\n",
              "      <td>32</td>\n",
              "      <td>Male</td>\n",
              "      <td>Canada</td>\n",
              "      <td>75000</td>\n",
              "      <td>Finance</td>\n",
              "      <td>8</td>\n",
              "      <td>Master</td>\n",
              "    </tr>\n",
              "    <tr>\n",
              "      <th>3rd</th>\n",
              "      <td>Charlie</td>\n",
              "      <td>18</td>\n",
              "      <td>Male</td>\n",
              "      <td>USA</td>\n",
              "      <td>40000</td>\n",
              "      <td>Marketing</td>\n",
              "      <td>1</td>\n",
              "      <td>High School</td>\n",
              "    </tr>\n",
              "    <tr>\n",
              "      <th>4th</th>\n",
              "      <td>David</td>\n",
              "      <td>47</td>\n",
              "      <td>Male</td>\n",
              "      <td>Australia</td>\n",
              "      <td>90000</td>\n",
              "      <td>IT</td>\n",
              "      <td>18</td>\n",
              "      <td>PhD</td>\n",
              "    </tr>\n",
              "    <tr>\n",
              "      <th>5th</th>\n",
              "      <td>Emily</td>\n",
              "      <td>29</td>\n",
              "      <td>Female</td>\n",
              "      <td>UK</td>\n",
              "      <td>60000</td>\n",
              "      <td>IT</td>\n",
              "      <td>6</td>\n",
              "      <td>Bachelor</td>\n",
              "    </tr>\n",
              "    <tr>\n",
              "      <th>6th</th>\n",
              "      <td>Frank</td>\n",
              "      <td>36</td>\n",
              "      <td>Male</td>\n",
              "      <td>Canada</td>\n",
              "      <td>80000</td>\n",
              "      <td>HR</td>\n",
              "      <td>10</td>\n",
              "      <td>Master</td>\n",
              "    </tr>\n",
              "    <tr>\n",
              "      <th>7th</th>\n",
              "      <td>George</td>\n",
              "      <td>21</td>\n",
              "      <td>Male</td>\n",
              "      <td>USA</td>\n",
              "      <td>55000</td>\n",
              "      <td>Marketing</td>\n",
              "      <td>2</td>\n",
              "      <td>Bachelor</td>\n",
              "    </tr>\n",
              "    <tr>\n",
              "      <th>8th</th>\n",
              "      <td>Helen</td>\n",
              "      <td>45</td>\n",
              "      <td>Female</td>\n",
              "      <td>Australia</td>\n",
              "      <td>100000</td>\n",
              "      <td>IT</td>\n",
              "      <td>22</td>\n",
              "      <td>PhD</td>\n",
              "    </tr>\n",
              "    <tr>\n",
              "      <th>9th</th>\n",
              "      <td>Irene</td>\n",
              "      <td>28</td>\n",
              "      <td>Female</td>\n",
              "      <td>UK</td>\n",
              "      <td>65000</td>\n",
              "      <td>HR</td>\n",
              "      <td>5</td>\n",
              "      <td>Bachelor</td>\n",
              "    </tr>\n",
              "    <tr>\n",
              "      <th>10th</th>\n",
              "      <td>Jack</td>\n",
              "      <td>33</td>\n",
              "      <td>Male</td>\n",
              "      <td>USA</td>\n",
              "      <td>70000</td>\n",
              "      <td>Finance</td>\n",
              "      <td>7</td>\n",
              "      <td>Master</td>\n",
              "    </tr>\n",
              "  </tbody>\n",
              "</table>\n",
              "</div>"
            ],
            "text/plain": [
              "         Name  Age  Gender    Country  Salary Department  Years of Experience  \\\n",
              "1st     Alice   25  Female        USA   50000  Marketing                    3   \n",
              "2nd       Bob   32    Male     Canada   75000    Finance                    8   \n",
              "3rd   Charlie   18    Male        USA   40000  Marketing                    1   \n",
              "4th     David   47    Male  Australia   90000         IT                   18   \n",
              "5th     Emily   29  Female         UK   60000         IT                    6   \n",
              "6th     Frank   36    Male     Canada   80000         HR                   10   \n",
              "7th    George   21    Male        USA   55000  Marketing                    2   \n",
              "8th     Helen   45  Female  Australia  100000         IT                   22   \n",
              "9th     Irene   28  Female         UK   65000         HR                    5   \n",
              "10th     Jack   33    Male        USA   70000    Finance                    7   \n",
              "\n",
              "     Education Level  \n",
              "1st         Bachelor  \n",
              "2nd           Master  \n",
              "3rd      High School  \n",
              "4th              PhD  \n",
              "5th         Bachelor  \n",
              "6th           Master  \n",
              "7th         Bachelor  \n",
              "8th              PhD  \n",
              "9th         Bachelor  \n",
              "10th          Master  "
            ]
          },
          "execution_count": 19,
          "metadata": {},
          "output_type": "execute_result"
        }
      ],
      "source": [
        "df.loc[:,:] #loc[rows,columns]"
      ]
    },
    {
      "cell_type": "code",
      "execution_count": null,
      "id": "e3219c4e",
      "metadata": {
        "id": "e3219c4e"
      },
      "outputs": [],
      "source": [
        "# Now let us subset our dataframe in which we want to have first 8 rows identified with their rows labels and some named columns\n",
        "#df.loc[5:8,['Age','Country']]"
      ]
    },
    {
      "cell_type": "code",
      "execution_count": null,
      "id": "689aed27",
      "metadata": {
        "id": "689aed27",
        "outputId": "22ba91bc-7f08-45ab-8a33-31a81cb8d973"
      },
      "outputs": [
        {
          "data": {
            "text/html": [
              "<div>\n",
              "<style scoped>\n",
              "    .dataframe tbody tr th:only-of-type {\n",
              "        vertical-align: middle;\n",
              "    }\n",
              "\n",
              "    .dataframe tbody tr th {\n",
              "        vertical-align: top;\n",
              "    }\n",
              "\n",
              "    .dataframe thead th {\n",
              "        text-align: right;\n",
              "    }\n",
              "</style>\n",
              "<table border=\"1\" class=\"dataframe\">\n",
              "  <thead>\n",
              "    <tr style=\"text-align: right;\">\n",
              "      <th></th>\n",
              "      <th>Country</th>\n",
              "    </tr>\n",
              "  </thead>\n",
              "  <tbody>\n",
              "    <tr>\n",
              "      <th>1st</th>\n",
              "      <td>USA</td>\n",
              "    </tr>\n",
              "    <tr>\n",
              "      <th>2nd</th>\n",
              "      <td>Canada</td>\n",
              "    </tr>\n",
              "    <tr>\n",
              "      <th>3rd</th>\n",
              "      <td>USA</td>\n",
              "    </tr>\n",
              "    <tr>\n",
              "      <th>4th</th>\n",
              "      <td>Australia</td>\n",
              "    </tr>\n",
              "    <tr>\n",
              "      <th>5th</th>\n",
              "      <td>UK</td>\n",
              "    </tr>\n",
              "    <tr>\n",
              "      <th>6th</th>\n",
              "      <td>Canada</td>\n",
              "    </tr>\n",
              "    <tr>\n",
              "      <th>7th</th>\n",
              "      <td>USA</td>\n",
              "    </tr>\n",
              "    <tr>\n",
              "      <th>8th</th>\n",
              "      <td>Australia</td>\n",
              "    </tr>\n",
              "    <tr>\n",
              "      <th>9th</th>\n",
              "      <td>UK</td>\n",
              "    </tr>\n",
              "    <tr>\n",
              "      <th>10th</th>\n",
              "      <td>USA</td>\n",
              "    </tr>\n",
              "  </tbody>\n",
              "</table>\n",
              "</div>"
            ],
            "text/plain": [
              "        Country\n",
              "1st         USA\n",
              "2nd      Canada\n",
              "3rd         USA\n",
              "4th   Australia\n",
              "5th          UK\n",
              "6th      Canada\n",
              "7th         USA\n",
              "8th   Australia\n",
              "9th          UK\n",
              "10th        USA"
            ]
          },
          "execution_count": 21,
          "metadata": {},
          "output_type": "execute_result"
        }
      ],
      "source": [
        "df.loc[:,['Country']]"
      ]
    },
    {
      "cell_type": "code",
      "execution_count": null,
      "id": "7ed6f072",
      "metadata": {
        "id": "7ed6f072",
        "outputId": "d1edec1a-a832-4936-b4c7-9250213c444d"
      },
      "outputs": [
        {
          "data": {
            "text/plain": [
              "'Alice'"
            ]
          },
          "execution_count": 22,
          "metadata": {},
          "output_type": "execute_result"
        }
      ],
      "source": [
        "df.iloc[0,0] #if work throgh index(integer based undexing)"
      ]
    },
    {
      "cell_type": "code",
      "execution_count": null,
      "id": "82b6892e",
      "metadata": {
        "id": "82b6892e",
        "outputId": "ed0270db-55f7-4c73-f875-0e83c9054a56"
      },
      "outputs": [
        {
          "data": {
            "text/html": [
              "<div>\n",
              "<style scoped>\n",
              "    .dataframe tbody tr th:only-of-type {\n",
              "        vertical-align: middle;\n",
              "    }\n",
              "\n",
              "    .dataframe tbody tr th {\n",
              "        vertical-align: top;\n",
              "    }\n",
              "\n",
              "    .dataframe thead th {\n",
              "        text-align: right;\n",
              "    }\n",
              "</style>\n",
              "<table border=\"1\" class=\"dataframe\">\n",
              "  <thead>\n",
              "    <tr style=\"text-align: right;\">\n",
              "      <th></th>\n",
              "      <th>Age</th>\n",
              "      <th>Country</th>\n",
              "    </tr>\n",
              "  </thead>\n",
              "  <tbody>\n",
              "    <tr>\n",
              "      <th>1st</th>\n",
              "      <td>25</td>\n",
              "      <td>USA</td>\n",
              "    </tr>\n",
              "    <tr>\n",
              "      <th>2nd</th>\n",
              "      <td>32</td>\n",
              "      <td>Canada</td>\n",
              "    </tr>\n",
              "    <tr>\n",
              "      <th>3rd</th>\n",
              "      <td>18</td>\n",
              "      <td>USA</td>\n",
              "    </tr>\n",
              "    <tr>\n",
              "      <th>4th</th>\n",
              "      <td>47</td>\n",
              "      <td>Australia</td>\n",
              "    </tr>\n",
              "    <tr>\n",
              "      <th>5th</th>\n",
              "      <td>29</td>\n",
              "      <td>UK</td>\n",
              "    </tr>\n",
              "    <tr>\n",
              "      <th>6th</th>\n",
              "      <td>36</td>\n",
              "      <td>Canada</td>\n",
              "    </tr>\n",
              "    <tr>\n",
              "      <th>7th</th>\n",
              "      <td>21</td>\n",
              "      <td>USA</td>\n",
              "    </tr>\n",
              "    <tr>\n",
              "      <th>8th</th>\n",
              "      <td>45</td>\n",
              "      <td>Australia</td>\n",
              "    </tr>\n",
              "    <tr>\n",
              "      <th>9th</th>\n",
              "      <td>28</td>\n",
              "      <td>UK</td>\n",
              "    </tr>\n",
              "    <tr>\n",
              "      <th>10th</th>\n",
              "      <td>33</td>\n",
              "      <td>USA</td>\n",
              "    </tr>\n",
              "  </tbody>\n",
              "</table>\n",
              "</div>"
            ],
            "text/plain": [
              "      Age    Country\n",
              "1st    25        USA\n",
              "2nd    32     Canada\n",
              "3rd    18        USA\n",
              "4th    47  Australia\n",
              "5th    29         UK\n",
              "6th    36     Canada\n",
              "7th    21        USA\n",
              "8th    45  Australia\n",
              "9th    28         UK\n",
              "10th   33        USA"
            ]
          },
          "execution_count": 23,
          "metadata": {},
          "output_type": "execute_result"
        }
      ],
      "source": [
        "df[['Age','Country']]"
      ]
    },
    {
      "cell_type": "markdown",
      "id": "92ccfb35",
      "metadata": {
        "id": "92ccfb35"
      },
      "source": [
        "Boolean Indexing"
      ]
    },
    {
      "cell_type": "code",
      "execution_count": null,
      "id": "b56de44c",
      "metadata": {
        "id": "b56de44c"
      },
      "outputs": [],
      "source": []
    },
    {
      "cell_type": "code",
      "execution_count": null,
      "id": "398fb04f",
      "metadata": {
        "id": "398fb04f",
        "outputId": "4663de57-b7ba-45f9-a0cc-ea60909bed8d"
      },
      "outputs": [
        {
          "data": {
            "text/plain": [
              "1st      True\n",
              "2nd     False\n",
              "3rd      True\n",
              "4th     False\n",
              "5th     False\n",
              "6th     False\n",
              "7th      True\n",
              "8th     False\n",
              "9th     False\n",
              "10th     True\n",
              "Name: Country, dtype: bool"
            ]
          },
          "execution_count": 24,
          "metadata": {},
          "output_type": "execute_result"
        }
      ],
      "source": [
        "df['Country']=='USA'"
      ]
    },
    {
      "cell_type": "code",
      "execution_count": null,
      "id": "6c1eb707",
      "metadata": {
        "id": "6c1eb707",
        "outputId": "a3239acc-72c8-43f8-ea94-5609f4f4fb23"
      },
      "outputs": [
        {
          "data": {
            "text/html": [
              "<div>\n",
              "<style scoped>\n",
              "    .dataframe tbody tr th:only-of-type {\n",
              "        vertical-align: middle;\n",
              "    }\n",
              "\n",
              "    .dataframe tbody tr th {\n",
              "        vertical-align: top;\n",
              "    }\n",
              "\n",
              "    .dataframe thead th {\n",
              "        text-align: right;\n",
              "    }\n",
              "</style>\n",
              "<table border=\"1\" class=\"dataframe\">\n",
              "  <thead>\n",
              "    <tr style=\"text-align: right;\">\n",
              "      <th></th>\n",
              "      <th>Name</th>\n",
              "      <th>Age</th>\n",
              "      <th>Gender</th>\n",
              "      <th>Country</th>\n",
              "      <th>Salary</th>\n",
              "      <th>Department</th>\n",
              "      <th>Years of Experience</th>\n",
              "      <th>Education Level</th>\n",
              "    </tr>\n",
              "  </thead>\n",
              "  <tbody>\n",
              "    <tr>\n",
              "      <th>1st</th>\n",
              "      <td>Alice</td>\n",
              "      <td>25</td>\n",
              "      <td>Female</td>\n",
              "      <td>USA</td>\n",
              "      <td>50000</td>\n",
              "      <td>Marketing</td>\n",
              "      <td>3</td>\n",
              "      <td>Bachelor</td>\n",
              "    </tr>\n",
              "    <tr>\n",
              "      <th>3rd</th>\n",
              "      <td>Charlie</td>\n",
              "      <td>18</td>\n",
              "      <td>Male</td>\n",
              "      <td>USA</td>\n",
              "      <td>40000</td>\n",
              "      <td>Marketing</td>\n",
              "      <td>1</td>\n",
              "      <td>High School</td>\n",
              "    </tr>\n",
              "    <tr>\n",
              "      <th>7th</th>\n",
              "      <td>George</td>\n",
              "      <td>21</td>\n",
              "      <td>Male</td>\n",
              "      <td>USA</td>\n",
              "      <td>55000</td>\n",
              "      <td>Marketing</td>\n",
              "      <td>2</td>\n",
              "      <td>Bachelor</td>\n",
              "    </tr>\n",
              "    <tr>\n",
              "      <th>10th</th>\n",
              "      <td>Jack</td>\n",
              "      <td>33</td>\n",
              "      <td>Male</td>\n",
              "      <td>USA</td>\n",
              "      <td>70000</td>\n",
              "      <td>Finance</td>\n",
              "      <td>7</td>\n",
              "      <td>Master</td>\n",
              "    </tr>\n",
              "  </tbody>\n",
              "</table>\n",
              "</div>"
            ],
            "text/plain": [
              "         Name  Age  Gender Country  Salary Department  Years of Experience  \\\n",
              "1st     Alice   25  Female     USA   50000  Marketing                    3   \n",
              "3rd   Charlie   18    Male     USA   40000  Marketing                    1   \n",
              "7th    George   21    Male     USA   55000  Marketing                    2   \n",
              "10th     Jack   33    Male     USA   70000    Finance                    7   \n",
              "\n",
              "     Education Level  \n",
              "1st         Bachelor  \n",
              "3rd      High School  \n",
              "7th         Bachelor  \n",
              "10th          Master  "
            ]
          },
          "execution_count": 25,
          "metadata": {},
          "output_type": "execute_result"
        }
      ],
      "source": [
        "USA_WALE=df[df['Country']=='USA']\n",
        "USA_WALE.head()"
      ]
    },
    {
      "cell_type": "code",
      "execution_count": null,
      "id": "d843f6a7",
      "metadata": {
        "id": "d843f6a7",
        "outputId": "08830300-e077-4b34-9d98-0bb9e729bcd7"
      },
      "outputs": [
        {
          "data": {
            "text/html": [
              "<div>\n",
              "<style scoped>\n",
              "    .dataframe tbody tr th:only-of-type {\n",
              "        vertical-align: middle;\n",
              "    }\n",
              "\n",
              "    .dataframe tbody tr th {\n",
              "        vertical-align: top;\n",
              "    }\n",
              "\n",
              "    .dataframe thead th {\n",
              "        text-align: right;\n",
              "    }\n",
              "</style>\n",
              "<table border=\"1\" class=\"dataframe\">\n",
              "  <thead>\n",
              "    <tr style=\"text-align: right;\">\n",
              "      <th></th>\n",
              "      <th>Name</th>\n",
              "      <th>Age</th>\n",
              "      <th>Gender</th>\n",
              "      <th>Country</th>\n",
              "      <th>Salary</th>\n",
              "      <th>Department</th>\n",
              "      <th>Years of Experience</th>\n",
              "      <th>Education Level</th>\n",
              "    </tr>\n",
              "  </thead>\n",
              "  <tbody>\n",
              "    <tr>\n",
              "      <th>2nd</th>\n",
              "      <td>Bob</td>\n",
              "      <td>32</td>\n",
              "      <td>Male</td>\n",
              "      <td>Canada</td>\n",
              "      <td>75000</td>\n",
              "      <td>Finance</td>\n",
              "      <td>8</td>\n",
              "      <td>Master</td>\n",
              "    </tr>\n",
              "    <tr>\n",
              "      <th>4th</th>\n",
              "      <td>David</td>\n",
              "      <td>47</td>\n",
              "      <td>Male</td>\n",
              "      <td>Australia</td>\n",
              "      <td>90000</td>\n",
              "      <td>IT</td>\n",
              "      <td>18</td>\n",
              "      <td>PhD</td>\n",
              "    </tr>\n",
              "    <tr>\n",
              "      <th>5th</th>\n",
              "      <td>Emily</td>\n",
              "      <td>29</td>\n",
              "      <td>Female</td>\n",
              "      <td>UK</td>\n",
              "      <td>60000</td>\n",
              "      <td>IT</td>\n",
              "      <td>6</td>\n",
              "      <td>Bachelor</td>\n",
              "    </tr>\n",
              "    <tr>\n",
              "      <th>6th</th>\n",
              "      <td>Frank</td>\n",
              "      <td>36</td>\n",
              "      <td>Male</td>\n",
              "      <td>Canada</td>\n",
              "      <td>80000</td>\n",
              "      <td>HR</td>\n",
              "      <td>10</td>\n",
              "      <td>Master</td>\n",
              "    </tr>\n",
              "    <tr>\n",
              "      <th>8th</th>\n",
              "      <td>Helen</td>\n",
              "      <td>45</td>\n",
              "      <td>Female</td>\n",
              "      <td>Australia</td>\n",
              "      <td>100000</td>\n",
              "      <td>IT</td>\n",
              "      <td>22</td>\n",
              "      <td>PhD</td>\n",
              "    </tr>\n",
              "  </tbody>\n",
              "</table>\n",
              "</div>"
            ],
            "text/plain": [
              "      Name  Age  Gender    Country  Salary Department  Years of Experience  \\\n",
              "2nd    Bob   32    Male     Canada   75000    Finance                    8   \n",
              "4th  David   47    Male  Australia   90000         IT                   18   \n",
              "5th  Emily   29  Female         UK   60000         IT                    6   \n",
              "6th  Frank   36    Male     Canada   80000         HR                   10   \n",
              "8th  Helen   45  Female  Australia  100000         IT                   22   \n",
              "\n",
              "    Education Level  \n",
              "2nd          Master  \n",
              "4th             PhD  \n",
              "5th        Bachelor  \n",
              "6th          Master  \n",
              "8th             PhD  "
            ]
          },
          "execution_count": 26,
          "metadata": {},
          "output_type": "execute_result"
        }
      ],
      "source": [
        "USA_WALE=df[df['Country'] !='USA']\n",
        "USA_WALE.head()"
      ]
    },
    {
      "cell_type": "code",
      "execution_count": null,
      "id": "0e077287",
      "metadata": {
        "id": "0e077287",
        "outputId": "2bdbb6b7-57c7-436f-d69c-ed85067538ed"
      },
      "outputs": [
        {
          "data": {
            "text/html": [
              "<div>\n",
              "<style scoped>\n",
              "    .dataframe tbody tr th:only-of-type {\n",
              "        vertical-align: middle;\n",
              "    }\n",
              "\n",
              "    .dataframe tbody tr th {\n",
              "        vertical-align: top;\n",
              "    }\n",
              "\n",
              "    .dataframe thead th {\n",
              "        text-align: right;\n",
              "    }\n",
              "</style>\n",
              "<table border=\"1\" class=\"dataframe\">\n",
              "  <thead>\n",
              "    <tr style=\"text-align: right;\">\n",
              "      <th></th>\n",
              "      <th>Name</th>\n",
              "      <th>Age</th>\n",
              "      <th>Gender</th>\n",
              "      <th>Country</th>\n",
              "      <th>Salary</th>\n",
              "      <th>Department</th>\n",
              "      <th>Years of Experience</th>\n",
              "      <th>Education Level</th>\n",
              "    </tr>\n",
              "  </thead>\n",
              "  <tbody>\n",
              "    <tr>\n",
              "      <th>2nd</th>\n",
              "      <td>Bob</td>\n",
              "      <td>32</td>\n",
              "      <td>Male</td>\n",
              "      <td>Canada</td>\n",
              "      <td>75000</td>\n",
              "      <td>Finance</td>\n",
              "      <td>8</td>\n",
              "      <td>Master</td>\n",
              "    </tr>\n",
              "    <tr>\n",
              "      <th>4th</th>\n",
              "      <td>David</td>\n",
              "      <td>47</td>\n",
              "      <td>Male</td>\n",
              "      <td>Australia</td>\n",
              "      <td>90000</td>\n",
              "      <td>IT</td>\n",
              "      <td>18</td>\n",
              "      <td>PhD</td>\n",
              "    </tr>\n",
              "    <tr>\n",
              "      <th>6th</th>\n",
              "      <td>Frank</td>\n",
              "      <td>36</td>\n",
              "      <td>Male</td>\n",
              "      <td>Canada</td>\n",
              "      <td>80000</td>\n",
              "      <td>HR</td>\n",
              "      <td>10</td>\n",
              "      <td>Master</td>\n",
              "    </tr>\n",
              "    <tr>\n",
              "      <th>8th</th>\n",
              "      <td>Helen</td>\n",
              "      <td>45</td>\n",
              "      <td>Female</td>\n",
              "      <td>Australia</td>\n",
              "      <td>100000</td>\n",
              "      <td>IT</td>\n",
              "      <td>22</td>\n",
              "      <td>PhD</td>\n",
              "    </tr>\n",
              "    <tr>\n",
              "      <th>10th</th>\n",
              "      <td>Jack</td>\n",
              "      <td>33</td>\n",
              "      <td>Male</td>\n",
              "      <td>USA</td>\n",
              "      <td>70000</td>\n",
              "      <td>Finance</td>\n",
              "      <td>7</td>\n",
              "      <td>Master</td>\n",
              "    </tr>\n",
              "  </tbody>\n",
              "</table>\n",
              "</div>"
            ],
            "text/plain": [
              "       Name  Age  Gender    Country  Salary Department  Years of Experience  \\\n",
              "2nd     Bob   32    Male     Canada   75000    Finance                    8   \n",
              "4th   David   47    Male  Australia   90000         IT                   18   \n",
              "6th   Frank   36    Male     Canada   80000         HR                   10   \n",
              "8th   Helen   45  Female  Australia  100000         IT                   22   \n",
              "10th   Jack   33    Male        USA   70000    Finance                    7   \n",
              "\n",
              "     Education Level  \n",
              "2nd           Master  \n",
              "4th              PhD  \n",
              "6th           Master  \n",
              "8th              PhD  \n",
              "10th          Master  "
            ]
          },
          "execution_count": 27,
          "metadata": {},
          "output_type": "execute_result"
        }
      ],
      "source": [
        "long_age= df[df['Age']>30]\n",
        "long_age"
      ]
    },
    {
      "cell_type": "code",
      "execution_count": null,
      "id": "7d3f2050",
      "metadata": {
        "id": "7d3f2050"
      },
      "outputs": [],
      "source": [
        "df['half_Age']= df['Age']*0.5"
      ]
    },
    {
      "cell_type": "code",
      "execution_count": null,
      "id": "3d7ecec1",
      "metadata": {
        "id": "3d7ecec1",
        "outputId": "da8fd264-692e-47c8-bf0f-58c6019d42c3"
      },
      "outputs": [
        {
          "data": {
            "text/html": [
              "<div>\n",
              "<style scoped>\n",
              "    .dataframe tbody tr th:only-of-type {\n",
              "        vertical-align: middle;\n",
              "    }\n",
              "\n",
              "    .dataframe tbody tr th {\n",
              "        vertical-align: top;\n",
              "    }\n",
              "\n",
              "    .dataframe thead th {\n",
              "        text-align: right;\n",
              "    }\n",
              "</style>\n",
              "<table border=\"1\" class=\"dataframe\">\n",
              "  <thead>\n",
              "    <tr style=\"text-align: right;\">\n",
              "      <th></th>\n",
              "      <th>Name</th>\n",
              "      <th>Age</th>\n",
              "      <th>Gender</th>\n",
              "      <th>Country</th>\n",
              "      <th>Salary</th>\n",
              "      <th>Department</th>\n",
              "      <th>Years of Experience</th>\n",
              "      <th>Education Level</th>\n",
              "      <th>half_Age</th>\n",
              "    </tr>\n",
              "  </thead>\n",
              "  <tbody>\n",
              "    <tr>\n",
              "      <th>1st</th>\n",
              "      <td>Alice</td>\n",
              "      <td>25</td>\n",
              "      <td>Female</td>\n",
              "      <td>USA</td>\n",
              "      <td>50000</td>\n",
              "      <td>Marketing</td>\n",
              "      <td>3</td>\n",
              "      <td>Bachelor</td>\n",
              "      <td>12.5</td>\n",
              "    </tr>\n",
              "    <tr>\n",
              "      <th>2nd</th>\n",
              "      <td>Bob</td>\n",
              "      <td>32</td>\n",
              "      <td>Male</td>\n",
              "      <td>Canada</td>\n",
              "      <td>75000</td>\n",
              "      <td>Finance</td>\n",
              "      <td>8</td>\n",
              "      <td>Master</td>\n",
              "      <td>16.0</td>\n",
              "    </tr>\n",
              "    <tr>\n",
              "      <th>3rd</th>\n",
              "      <td>Charlie</td>\n",
              "      <td>18</td>\n",
              "      <td>Male</td>\n",
              "      <td>USA</td>\n",
              "      <td>40000</td>\n",
              "      <td>Marketing</td>\n",
              "      <td>1</td>\n",
              "      <td>High School</td>\n",
              "      <td>9.0</td>\n",
              "    </tr>\n",
              "    <tr>\n",
              "      <th>4th</th>\n",
              "      <td>David</td>\n",
              "      <td>47</td>\n",
              "      <td>Male</td>\n",
              "      <td>Australia</td>\n",
              "      <td>90000</td>\n",
              "      <td>IT</td>\n",
              "      <td>18</td>\n",
              "      <td>PhD</td>\n",
              "      <td>23.5</td>\n",
              "    </tr>\n",
              "    <tr>\n",
              "      <th>5th</th>\n",
              "      <td>Emily</td>\n",
              "      <td>29</td>\n",
              "      <td>Female</td>\n",
              "      <td>UK</td>\n",
              "      <td>60000</td>\n",
              "      <td>IT</td>\n",
              "      <td>6</td>\n",
              "      <td>Bachelor</td>\n",
              "      <td>14.5</td>\n",
              "    </tr>\n",
              "  </tbody>\n",
              "</table>\n",
              "</div>"
            ],
            "text/plain": [
              "        Name  Age  Gender    Country  Salary Department  Years of Experience  \\\n",
              "1st    Alice   25  Female        USA   50000  Marketing                    3   \n",
              "2nd      Bob   32    Male     Canada   75000    Finance                    8   \n",
              "3rd  Charlie   18    Male        USA   40000  Marketing                    1   \n",
              "4th    David   47    Male  Australia   90000         IT                   18   \n",
              "5th    Emily   29  Female         UK   60000         IT                    6   \n",
              "\n",
              "    Education Level  half_Age  \n",
              "1st        Bachelor      12.5  \n",
              "2nd          Master      16.0  \n",
              "3rd     High School       9.0  \n",
              "4th             PhD      23.5  \n",
              "5th        Bachelor      14.5  "
            ]
          },
          "execution_count": 29,
          "metadata": {},
          "output_type": "execute_result"
        }
      ],
      "source": [
        "df.head()"
      ]
    },
    {
      "cell_type": "code",
      "execution_count": null,
      "id": "78182302",
      "metadata": {
        "id": "78182302"
      },
      "outputs": [],
      "source": [
        "df['Total_Income']=df['Salary']*df['Years of Experience']"
      ]
    },
    {
      "cell_type": "code",
      "execution_count": null,
      "id": "7416524f",
      "metadata": {
        "id": "7416524f",
        "outputId": "3be6193a-7bbd-48be-ddb1-d10e7851472c"
      },
      "outputs": [
        {
          "data": {
            "text/html": [
              "<div>\n",
              "<style scoped>\n",
              "    .dataframe tbody tr th:only-of-type {\n",
              "        vertical-align: middle;\n",
              "    }\n",
              "\n",
              "    .dataframe tbody tr th {\n",
              "        vertical-align: top;\n",
              "    }\n",
              "\n",
              "    .dataframe thead th {\n",
              "        text-align: right;\n",
              "    }\n",
              "</style>\n",
              "<table border=\"1\" class=\"dataframe\">\n",
              "  <thead>\n",
              "    <tr style=\"text-align: right;\">\n",
              "      <th></th>\n",
              "      <th>Name</th>\n",
              "      <th>Age</th>\n",
              "      <th>Gender</th>\n",
              "      <th>Country</th>\n",
              "      <th>Salary</th>\n",
              "      <th>Department</th>\n",
              "      <th>Years of Experience</th>\n",
              "      <th>Education Level</th>\n",
              "      <th>half_Age</th>\n",
              "      <th>Total_Income</th>\n",
              "    </tr>\n",
              "  </thead>\n",
              "  <tbody>\n",
              "    <tr>\n",
              "      <th>1st</th>\n",
              "      <td>Alice</td>\n",
              "      <td>25</td>\n",
              "      <td>Female</td>\n",
              "      <td>USA</td>\n",
              "      <td>50000</td>\n",
              "      <td>Marketing</td>\n",
              "      <td>3</td>\n",
              "      <td>Bachelor</td>\n",
              "      <td>12.5</td>\n",
              "      <td>150000</td>\n",
              "    </tr>\n",
              "    <tr>\n",
              "      <th>2nd</th>\n",
              "      <td>Bob</td>\n",
              "      <td>32</td>\n",
              "      <td>Male</td>\n",
              "      <td>Canada</td>\n",
              "      <td>75000</td>\n",
              "      <td>Finance</td>\n",
              "      <td>8</td>\n",
              "      <td>Master</td>\n",
              "      <td>16.0</td>\n",
              "      <td>600000</td>\n",
              "    </tr>\n",
              "    <tr>\n",
              "      <th>3rd</th>\n",
              "      <td>Charlie</td>\n",
              "      <td>18</td>\n",
              "      <td>Male</td>\n",
              "      <td>USA</td>\n",
              "      <td>40000</td>\n",
              "      <td>Marketing</td>\n",
              "      <td>1</td>\n",
              "      <td>High School</td>\n",
              "      <td>9.0</td>\n",
              "      <td>40000</td>\n",
              "    </tr>\n",
              "    <tr>\n",
              "      <th>4th</th>\n",
              "      <td>David</td>\n",
              "      <td>47</td>\n",
              "      <td>Male</td>\n",
              "      <td>Australia</td>\n",
              "      <td>90000</td>\n",
              "      <td>IT</td>\n",
              "      <td>18</td>\n",
              "      <td>PhD</td>\n",
              "      <td>23.5</td>\n",
              "      <td>1620000</td>\n",
              "    </tr>\n",
              "    <tr>\n",
              "      <th>5th</th>\n",
              "      <td>Emily</td>\n",
              "      <td>29</td>\n",
              "      <td>Female</td>\n",
              "      <td>UK</td>\n",
              "      <td>60000</td>\n",
              "      <td>IT</td>\n",
              "      <td>6</td>\n",
              "      <td>Bachelor</td>\n",
              "      <td>14.5</td>\n",
              "      <td>360000</td>\n",
              "    </tr>\n",
              "  </tbody>\n",
              "</table>\n",
              "</div>"
            ],
            "text/plain": [
              "        Name  Age  Gender    Country  Salary Department  Years of Experience  \\\n",
              "1st    Alice   25  Female        USA   50000  Marketing                    3   \n",
              "2nd      Bob   32    Male     Canada   75000    Finance                    8   \n",
              "3rd  Charlie   18    Male        USA   40000  Marketing                    1   \n",
              "4th    David   47    Male  Australia   90000         IT                   18   \n",
              "5th    Emily   29  Female         UK   60000         IT                    6   \n",
              "\n",
              "    Education Level  half_Age  Total_Income  \n",
              "1st        Bachelor      12.5        150000  \n",
              "2nd          Master      16.0        600000  \n",
              "3rd     High School       9.0         40000  \n",
              "4th             PhD      23.5       1620000  \n",
              "5th        Bachelor      14.5        360000  "
            ]
          },
          "execution_count": 31,
          "metadata": {},
          "output_type": "execute_result"
        }
      ],
      "source": [
        "df.head()"
      ]
    },
    {
      "cell_type": "code",
      "execution_count": null,
      "id": "53de99d6",
      "metadata": {
        "id": "53de99d6"
      },
      "outputs": [],
      "source": [
        "#Drop the column\n",
        "\n",
        "df.drop(['half_Age'],axis = 1,inplace=True)"
      ]
    },
    {
      "cell_type": "code",
      "execution_count": null,
      "id": "02475e23",
      "metadata": {
        "id": "02475e23",
        "outputId": "81845d86-b883-4578-a9b9-f8f2db689f8e"
      },
      "outputs": [
        {
          "data": {
            "text/html": [
              "<div>\n",
              "<style scoped>\n",
              "    .dataframe tbody tr th:only-of-type {\n",
              "        vertical-align: middle;\n",
              "    }\n",
              "\n",
              "    .dataframe tbody tr th {\n",
              "        vertical-align: top;\n",
              "    }\n",
              "\n",
              "    .dataframe thead th {\n",
              "        text-align: right;\n",
              "    }\n",
              "</style>\n",
              "<table border=\"1\" class=\"dataframe\">\n",
              "  <thead>\n",
              "    <tr style=\"text-align: right;\">\n",
              "      <th></th>\n",
              "      <th>Name</th>\n",
              "      <th>Age</th>\n",
              "      <th>Gender</th>\n",
              "      <th>Country</th>\n",
              "      <th>Salary</th>\n",
              "      <th>Department</th>\n",
              "      <th>Years of Experience</th>\n",
              "      <th>Education Level</th>\n",
              "      <th>Total_Income</th>\n",
              "    </tr>\n",
              "  </thead>\n",
              "  <tbody>\n",
              "    <tr>\n",
              "      <th>1st</th>\n",
              "      <td>Alice</td>\n",
              "      <td>25</td>\n",
              "      <td>Female</td>\n",
              "      <td>USA</td>\n",
              "      <td>50000</td>\n",
              "      <td>Marketing</td>\n",
              "      <td>3</td>\n",
              "      <td>Bachelor</td>\n",
              "      <td>150000</td>\n",
              "    </tr>\n",
              "    <tr>\n",
              "      <th>2nd</th>\n",
              "      <td>Bob</td>\n",
              "      <td>32</td>\n",
              "      <td>Male</td>\n",
              "      <td>Canada</td>\n",
              "      <td>75000</td>\n",
              "      <td>Finance</td>\n",
              "      <td>8</td>\n",
              "      <td>Master</td>\n",
              "      <td>600000</td>\n",
              "    </tr>\n",
              "    <tr>\n",
              "      <th>3rd</th>\n",
              "      <td>Charlie</td>\n",
              "      <td>18</td>\n",
              "      <td>Male</td>\n",
              "      <td>USA</td>\n",
              "      <td>40000</td>\n",
              "      <td>Marketing</td>\n",
              "      <td>1</td>\n",
              "      <td>High School</td>\n",
              "      <td>40000</td>\n",
              "    </tr>\n",
              "    <tr>\n",
              "      <th>4th</th>\n",
              "      <td>David</td>\n",
              "      <td>47</td>\n",
              "      <td>Male</td>\n",
              "      <td>Australia</td>\n",
              "      <td>90000</td>\n",
              "      <td>IT</td>\n",
              "      <td>18</td>\n",
              "      <td>PhD</td>\n",
              "      <td>1620000</td>\n",
              "    </tr>\n",
              "    <tr>\n",
              "      <th>5th</th>\n",
              "      <td>Emily</td>\n",
              "      <td>29</td>\n",
              "      <td>Female</td>\n",
              "      <td>UK</td>\n",
              "      <td>60000</td>\n",
              "      <td>IT</td>\n",
              "      <td>6</td>\n",
              "      <td>Bachelor</td>\n",
              "      <td>360000</td>\n",
              "    </tr>\n",
              "  </tbody>\n",
              "</table>\n",
              "</div>"
            ],
            "text/plain": [
              "        Name  Age  Gender    Country  Salary Department  Years of Experience  \\\n",
              "1st    Alice   25  Female        USA   50000  Marketing                    3   \n",
              "2nd      Bob   32    Male     Canada   75000    Finance                    8   \n",
              "3rd  Charlie   18    Male        USA   40000  Marketing                    1   \n",
              "4th    David   47    Male  Australia   90000         IT                   18   \n",
              "5th    Emily   29  Female         UK   60000         IT                    6   \n",
              "\n",
              "    Education Level  Total_Income  \n",
              "1st        Bachelor        150000  \n",
              "2nd          Master        600000  \n",
              "3rd     High School         40000  \n",
              "4th             PhD       1620000  \n",
              "5th        Bachelor        360000  "
            ]
          },
          "execution_count": 33,
          "metadata": {},
          "output_type": "execute_result"
        }
      ],
      "source": [
        "df.head()"
      ]
    },
    {
      "cell_type": "code",
      "execution_count": null,
      "id": "72a2b25f",
      "metadata": {
        "id": "72a2b25f",
        "outputId": "172d608e-a669-4fdd-e0fa-106e3ea968e3"
      },
      "outputs": [
        {
          "data": {
            "text/html": [
              "<div>\n",
              "<style scoped>\n",
              "    .dataframe tbody tr th:only-of-type {\n",
              "        vertical-align: middle;\n",
              "    }\n",
              "\n",
              "    .dataframe tbody tr th {\n",
              "        vertical-align: top;\n",
              "    }\n",
              "\n",
              "    .dataframe thead th {\n",
              "        text-align: right;\n",
              "    }\n",
              "</style>\n",
              "<table border=\"1\" class=\"dataframe\">\n",
              "  <thead>\n",
              "    <tr style=\"text-align: right;\">\n",
              "      <th></th>\n",
              "      <th>Name</th>\n",
              "      <th>Age</th>\n",
              "      <th>Gender</th>\n",
              "      <th>Country</th>\n",
              "      <th>Salary</th>\n",
              "      <th>Department</th>\n",
              "      <th>Years of Experience</th>\n",
              "      <th>Education Level</th>\n",
              "      <th>Total_Income</th>\n",
              "    </tr>\n",
              "  </thead>\n",
              "  <tbody>\n",
              "    <tr>\n",
              "      <th>3rd</th>\n",
              "      <td>Charlie</td>\n",
              "      <td>18</td>\n",
              "      <td>Male</td>\n",
              "      <td>USA</td>\n",
              "      <td>40000</td>\n",
              "      <td>Marketing</td>\n",
              "      <td>1</td>\n",
              "      <td>High School</td>\n",
              "      <td>40000</td>\n",
              "    </tr>\n",
              "    <tr>\n",
              "      <th>4th</th>\n",
              "      <td>David</td>\n",
              "      <td>47</td>\n",
              "      <td>Male</td>\n",
              "      <td>Australia</td>\n",
              "      <td>90000</td>\n",
              "      <td>IT</td>\n",
              "      <td>18</td>\n",
              "      <td>PhD</td>\n",
              "      <td>1620000</td>\n",
              "    </tr>\n",
              "    <tr>\n",
              "      <th>5th</th>\n",
              "      <td>Emily</td>\n",
              "      <td>29</td>\n",
              "      <td>Female</td>\n",
              "      <td>UK</td>\n",
              "      <td>60000</td>\n",
              "      <td>IT</td>\n",
              "      <td>6</td>\n",
              "      <td>Bachelor</td>\n",
              "      <td>360000</td>\n",
              "    </tr>\n",
              "    <tr>\n",
              "      <th>6th</th>\n",
              "      <td>Frank</td>\n",
              "      <td>36</td>\n",
              "      <td>Male</td>\n",
              "      <td>Canada</td>\n",
              "      <td>80000</td>\n",
              "      <td>HR</td>\n",
              "      <td>10</td>\n",
              "      <td>Master</td>\n",
              "      <td>800000</td>\n",
              "    </tr>\n",
              "    <tr>\n",
              "      <th>7th</th>\n",
              "      <td>George</td>\n",
              "      <td>21</td>\n",
              "      <td>Male</td>\n",
              "      <td>USA</td>\n",
              "      <td>55000</td>\n",
              "      <td>Marketing</td>\n",
              "      <td>2</td>\n",
              "      <td>Bachelor</td>\n",
              "      <td>110000</td>\n",
              "    </tr>\n",
              "    <tr>\n",
              "      <th>8th</th>\n",
              "      <td>Helen</td>\n",
              "      <td>45</td>\n",
              "      <td>Female</td>\n",
              "      <td>Australia</td>\n",
              "      <td>100000</td>\n",
              "      <td>IT</td>\n",
              "      <td>22</td>\n",
              "      <td>PhD</td>\n",
              "      <td>2200000</td>\n",
              "    </tr>\n",
              "    <tr>\n",
              "      <th>9th</th>\n",
              "      <td>Irene</td>\n",
              "      <td>28</td>\n",
              "      <td>Female</td>\n",
              "      <td>UK</td>\n",
              "      <td>65000</td>\n",
              "      <td>HR</td>\n",
              "      <td>5</td>\n",
              "      <td>Bachelor</td>\n",
              "      <td>325000</td>\n",
              "    </tr>\n",
              "    <tr>\n",
              "      <th>10th</th>\n",
              "      <td>Jack</td>\n",
              "      <td>33</td>\n",
              "      <td>Male</td>\n",
              "      <td>USA</td>\n",
              "      <td>70000</td>\n",
              "      <td>Finance</td>\n",
              "      <td>7</td>\n",
              "      <td>Master</td>\n",
              "      <td>490000</td>\n",
              "    </tr>\n",
              "  </tbody>\n",
              "</table>\n",
              "</div>"
            ],
            "text/plain": [
              "         Name  Age  Gender    Country  Salary Department  Years of Experience  \\\n",
              "3rd   Charlie   18    Male        USA   40000  Marketing                    1   \n",
              "4th     David   47    Male  Australia   90000         IT                   18   \n",
              "5th     Emily   29  Female         UK   60000         IT                    6   \n",
              "6th     Frank   36    Male     Canada   80000         HR                   10   \n",
              "7th    George   21    Male        USA   55000  Marketing                    2   \n",
              "8th     Helen   45  Female  Australia  100000         IT                   22   \n",
              "9th     Irene   28  Female         UK   65000         HR                    5   \n",
              "10th     Jack   33    Male        USA   70000    Finance                    7   \n",
              "\n",
              "     Education Level  Total_Income  \n",
              "3rd      High School         40000  \n",
              "4th              PhD       1620000  \n",
              "5th         Bachelor        360000  \n",
              "6th           Master        800000  \n",
              "7th         Bachelor        110000  \n",
              "8th              PhD       2200000  \n",
              "9th         Bachelor        325000  \n",
              "10th          Master        490000  "
            ]
          },
          "execution_count": 34,
          "metadata": {},
          "output_type": "execute_result"
        }
      ],
      "source": [
        "df.drop(['1st','2nd']) #to drop a row"
      ]
    },
    {
      "cell_type": "code",
      "execution_count": null,
      "id": "8d81d275",
      "metadata": {
        "id": "8d81d275",
        "outputId": "550eaafe-66cd-4311-dbdd-c8a1b3691919"
      },
      "outputs": [
        {
          "data": {
            "text/html": [
              "<div>\n",
              "<style scoped>\n",
              "    .dataframe tbody tr th:only-of-type {\n",
              "        vertical-align: middle;\n",
              "    }\n",
              "\n",
              "    .dataframe tbody tr th {\n",
              "        vertical-align: top;\n",
              "    }\n",
              "\n",
              "    .dataframe thead th {\n",
              "        text-align: right;\n",
              "    }\n",
              "</style>\n",
              "<table border=\"1\" class=\"dataframe\">\n",
              "  <thead>\n",
              "    <tr style=\"text-align: right;\">\n",
              "      <th></th>\n",
              "      <th>Name</th>\n",
              "      <th>Gender</th>\n",
              "      <th>Country</th>\n",
              "      <th>Salary</th>\n",
              "      <th>Department</th>\n",
              "      <th>Years of Experience</th>\n",
              "      <th>Education Level</th>\n",
              "      <th>Total_Income</th>\n",
              "    </tr>\n",
              "  </thead>\n",
              "  <tbody>\n",
              "    <tr>\n",
              "      <th>1st</th>\n",
              "      <td>Alice</td>\n",
              "      <td>Female</td>\n",
              "      <td>USA</td>\n",
              "      <td>50000</td>\n",
              "      <td>Marketing</td>\n",
              "      <td>3</td>\n",
              "      <td>Bachelor</td>\n",
              "      <td>150000</td>\n",
              "    </tr>\n",
              "    <tr>\n",
              "      <th>2nd</th>\n",
              "      <td>Bob</td>\n",
              "      <td>Male</td>\n",
              "      <td>Canada</td>\n",
              "      <td>75000</td>\n",
              "      <td>Finance</td>\n",
              "      <td>8</td>\n",
              "      <td>Master</td>\n",
              "      <td>600000</td>\n",
              "    </tr>\n",
              "    <tr>\n",
              "      <th>3rd</th>\n",
              "      <td>Charlie</td>\n",
              "      <td>Male</td>\n",
              "      <td>USA</td>\n",
              "      <td>40000</td>\n",
              "      <td>Marketing</td>\n",
              "      <td>1</td>\n",
              "      <td>High School</td>\n",
              "      <td>40000</td>\n",
              "    </tr>\n",
              "    <tr>\n",
              "      <th>4th</th>\n",
              "      <td>David</td>\n",
              "      <td>Male</td>\n",
              "      <td>Australia</td>\n",
              "      <td>90000</td>\n",
              "      <td>IT</td>\n",
              "      <td>18</td>\n",
              "      <td>PhD</td>\n",
              "      <td>1620000</td>\n",
              "    </tr>\n",
              "    <tr>\n",
              "      <th>5th</th>\n",
              "      <td>Emily</td>\n",
              "      <td>Female</td>\n",
              "      <td>UK</td>\n",
              "      <td>60000</td>\n",
              "      <td>IT</td>\n",
              "      <td>6</td>\n",
              "      <td>Bachelor</td>\n",
              "      <td>360000</td>\n",
              "    </tr>\n",
              "    <tr>\n",
              "      <th>6th</th>\n",
              "      <td>Frank</td>\n",
              "      <td>Male</td>\n",
              "      <td>Canada</td>\n",
              "      <td>80000</td>\n",
              "      <td>HR</td>\n",
              "      <td>10</td>\n",
              "      <td>Master</td>\n",
              "      <td>800000</td>\n",
              "    </tr>\n",
              "    <tr>\n",
              "      <th>7th</th>\n",
              "      <td>George</td>\n",
              "      <td>Male</td>\n",
              "      <td>USA</td>\n",
              "      <td>55000</td>\n",
              "      <td>Marketing</td>\n",
              "      <td>2</td>\n",
              "      <td>Bachelor</td>\n",
              "      <td>110000</td>\n",
              "    </tr>\n",
              "    <tr>\n",
              "      <th>8th</th>\n",
              "      <td>Helen</td>\n",
              "      <td>Female</td>\n",
              "      <td>Australia</td>\n",
              "      <td>100000</td>\n",
              "      <td>IT</td>\n",
              "      <td>22</td>\n",
              "      <td>PhD</td>\n",
              "      <td>2200000</td>\n",
              "    </tr>\n",
              "    <tr>\n",
              "      <th>9th</th>\n",
              "      <td>Irene</td>\n",
              "      <td>Female</td>\n",
              "      <td>UK</td>\n",
              "      <td>65000</td>\n",
              "      <td>HR</td>\n",
              "      <td>5</td>\n",
              "      <td>Bachelor</td>\n",
              "      <td>325000</td>\n",
              "    </tr>\n",
              "    <tr>\n",
              "      <th>10th</th>\n",
              "      <td>Jack</td>\n",
              "      <td>Male</td>\n",
              "      <td>USA</td>\n",
              "      <td>70000</td>\n",
              "      <td>Finance</td>\n",
              "      <td>7</td>\n",
              "      <td>Master</td>\n",
              "      <td>490000</td>\n",
              "    </tr>\n",
              "  </tbody>\n",
              "</table>\n",
              "</div>"
            ],
            "text/plain": [
              "         Name  Gender    Country  Salary Department  Years of Experience  \\\n",
              "1st     Alice  Female        USA   50000  Marketing                    3   \n",
              "2nd       Bob    Male     Canada   75000    Finance                    8   \n",
              "3rd   Charlie    Male        USA   40000  Marketing                    1   \n",
              "4th     David    Male  Australia   90000         IT                   18   \n",
              "5th     Emily  Female         UK   60000         IT                    6   \n",
              "6th     Frank    Male     Canada   80000         HR                   10   \n",
              "7th    George    Male        USA   55000  Marketing                    2   \n",
              "8th     Helen  Female  Australia  100000         IT                   22   \n",
              "9th     Irene  Female         UK   65000         HR                    5   \n",
              "10th     Jack    Male        USA   70000    Finance                    7   \n",
              "\n",
              "     Education Level  Total_Income  \n",
              "1st         Bachelor        150000  \n",
              "2nd           Master        600000  \n",
              "3rd      High School         40000  \n",
              "4th              PhD       1620000  \n",
              "5th         Bachelor        360000  \n",
              "6th           Master        800000  \n",
              "7th         Bachelor        110000  \n",
              "8th              PhD       2200000  \n",
              "9th         Bachelor        325000  \n",
              "10th          Master        490000  "
            ]
          },
          "execution_count": 35,
          "metadata": {},
          "output_type": "execute_result"
        }
      ],
      "source": [
        "df.drop(['Age'],axis=1) #To drop a column"
      ]
    },
    {
      "cell_type": "code",
      "execution_count": null,
      "id": "2ae79af5",
      "metadata": {
        "id": "2ae79af5",
        "outputId": "fb9f8777-0393-4dd7-ff9e-b1c93eeed7e0"
      },
      "outputs": [
        {
          "data": {
            "text/plain": [
              "685000"
            ]
          },
          "execution_count": 36,
          "metadata": {},
          "output_type": "execute_result"
        }
      ],
      "source": [
        "# Find the sum of values in a column\n",
        "df['Salary'].sum()"
      ]
    },
    {
      "cell_type": "code",
      "execution_count": null,
      "id": "6d5f7581",
      "metadata": {
        "id": "6d5f7581"
      },
      "outputs": [],
      "source": [
        "#set column as index column\n",
        "df.set_index('Name', inplace=True)"
      ]
    },
    {
      "cell_type": "code",
      "execution_count": null,
      "id": "5f523aaf",
      "metadata": {
        "id": "5f523aaf",
        "outputId": "90390e97-314b-42b8-fd12-64674627a685"
      },
      "outputs": [
        {
          "data": {
            "text/html": [
              "<div>\n",
              "<style scoped>\n",
              "    .dataframe tbody tr th:only-of-type {\n",
              "        vertical-align: middle;\n",
              "    }\n",
              "\n",
              "    .dataframe tbody tr th {\n",
              "        vertical-align: top;\n",
              "    }\n",
              "\n",
              "    .dataframe thead th {\n",
              "        text-align: right;\n",
              "    }\n",
              "</style>\n",
              "<table border=\"1\" class=\"dataframe\">\n",
              "  <thead>\n",
              "    <tr style=\"text-align: right;\">\n",
              "      <th></th>\n",
              "      <th>Age</th>\n",
              "      <th>Gender</th>\n",
              "      <th>Country</th>\n",
              "      <th>Salary</th>\n",
              "      <th>Department</th>\n",
              "      <th>Years of Experience</th>\n",
              "      <th>Education Level</th>\n",
              "      <th>Total_Income</th>\n",
              "    </tr>\n",
              "    <tr>\n",
              "      <th>Name</th>\n",
              "      <th></th>\n",
              "      <th></th>\n",
              "      <th></th>\n",
              "      <th></th>\n",
              "      <th></th>\n",
              "      <th></th>\n",
              "      <th></th>\n",
              "      <th></th>\n",
              "    </tr>\n",
              "  </thead>\n",
              "  <tbody>\n",
              "    <tr>\n",
              "      <th>Alice</th>\n",
              "      <td>25</td>\n",
              "      <td>Female</td>\n",
              "      <td>USA</td>\n",
              "      <td>50000</td>\n",
              "      <td>Marketing</td>\n",
              "      <td>3</td>\n",
              "      <td>Bachelor</td>\n",
              "      <td>150000</td>\n",
              "    </tr>\n",
              "    <tr>\n",
              "      <th>Bob</th>\n",
              "      <td>32</td>\n",
              "      <td>Male</td>\n",
              "      <td>Canada</td>\n",
              "      <td>75000</td>\n",
              "      <td>Finance</td>\n",
              "      <td>8</td>\n",
              "      <td>Master</td>\n",
              "      <td>600000</td>\n",
              "    </tr>\n",
              "    <tr>\n",
              "      <th>Charlie</th>\n",
              "      <td>18</td>\n",
              "      <td>Male</td>\n",
              "      <td>USA</td>\n",
              "      <td>40000</td>\n",
              "      <td>Marketing</td>\n",
              "      <td>1</td>\n",
              "      <td>High School</td>\n",
              "      <td>40000</td>\n",
              "    </tr>\n",
              "    <tr>\n",
              "      <th>David</th>\n",
              "      <td>47</td>\n",
              "      <td>Male</td>\n",
              "      <td>Australia</td>\n",
              "      <td>90000</td>\n",
              "      <td>IT</td>\n",
              "      <td>18</td>\n",
              "      <td>PhD</td>\n",
              "      <td>1620000</td>\n",
              "    </tr>\n",
              "    <tr>\n",
              "      <th>Emily</th>\n",
              "      <td>29</td>\n",
              "      <td>Female</td>\n",
              "      <td>UK</td>\n",
              "      <td>60000</td>\n",
              "      <td>IT</td>\n",
              "      <td>6</td>\n",
              "      <td>Bachelor</td>\n",
              "      <td>360000</td>\n",
              "    </tr>\n",
              "  </tbody>\n",
              "</table>\n",
              "</div>"
            ],
            "text/plain": [
              "         Age  Gender    Country  Salary Department  Years of Experience  \\\n",
              "Name                                                                      \n",
              "Alice     25  Female        USA   50000  Marketing                    3   \n",
              "Bob       32    Male     Canada   75000    Finance                    8   \n",
              "Charlie   18    Male        USA   40000  Marketing                    1   \n",
              "David     47    Male  Australia   90000         IT                   18   \n",
              "Emily     29  Female         UK   60000         IT                    6   \n",
              "\n",
              "        Education Level  Total_Income  \n",
              "Name                                   \n",
              "Alice          Bachelor        150000  \n",
              "Bob              Master        600000  \n",
              "Charlie     High School         40000  \n",
              "David               PhD       1620000  \n",
              "Emily          Bachelor        360000  "
            ]
          },
          "execution_count": 38,
          "metadata": {},
          "output_type": "execute_result"
        }
      ],
      "source": [
        "df.head()"
      ]
    },
    {
      "cell_type": "code",
      "execution_count": null,
      "id": "a1bdf59b",
      "metadata": {
        "id": "a1bdf59b",
        "outputId": "fa56241b-10ed-4182-db1a-679be23164cc"
      },
      "outputs": [
        {
          "data": {
            "text/html": [
              "<div>\n",
              "<style scoped>\n",
              "    .dataframe tbody tr th:only-of-type {\n",
              "        vertical-align: middle;\n",
              "    }\n",
              "\n",
              "    .dataframe tbody tr th {\n",
              "        vertical-align: top;\n",
              "    }\n",
              "\n",
              "    .dataframe thead th {\n",
              "        text-align: right;\n",
              "    }\n",
              "</style>\n",
              "<table border=\"1\" class=\"dataframe\">\n",
              "  <thead>\n",
              "    <tr style=\"text-align: right;\">\n",
              "      <th></th>\n",
              "      <th>Age</th>\n",
              "      <th>Gender</th>\n",
              "      <th>Country</th>\n",
              "      <th>Salary</th>\n",
              "      <th>Department</th>\n",
              "      <th>Years of Experience</th>\n",
              "      <th>Education Level</th>\n",
              "      <th>Total_Income</th>\n",
              "    </tr>\n",
              "    <tr>\n",
              "      <th>Name</th>\n",
              "      <th></th>\n",
              "      <th></th>\n",
              "      <th></th>\n",
              "      <th></th>\n",
              "      <th></th>\n",
              "      <th></th>\n",
              "      <th></th>\n",
              "      <th></th>\n",
              "    </tr>\n",
              "  </thead>\n",
              "  <tbody>\n",
              "    <tr>\n",
              "      <th>Bob</th>\n",
              "      <td>32</td>\n",
              "      <td>Male</td>\n",
              "      <td>Canada</td>\n",
              "      <td>75000</td>\n",
              "      <td>Finance</td>\n",
              "      <td>8</td>\n",
              "      <td>Master</td>\n",
              "      <td>600000</td>\n",
              "    </tr>\n",
              "  </tbody>\n",
              "</table>\n",
              "</div>"
            ],
            "text/plain": [
              "      Age Gender Country  Salary Department  Years of Experience  \\\n",
              "Name                                                               \n",
              "Bob    32   Male  Canada   75000    Finance                    8   \n",
              "\n",
              "     Education Level  Total_Income  \n",
              "Name                                \n",
              "Bob           Master        600000  "
            ]
          },
          "execution_count": 39,
          "metadata": {},
          "output_type": "execute_result"
        }
      ],
      "source": [
        "a=df[df['Age']==32]\n",
        "a"
      ]
    },
    {
      "cell_type": "markdown",
      "id": "395094e9",
      "metadata": {
        "id": "395094e9"
      },
      "source": [
        "apply() method applies a function to every row in a pandas dataframe"
      ]
    },
    {
      "cell_type": "code",
      "execution_count": null,
      "id": "bb40a7e3",
      "metadata": {
        "id": "bb40a7e3"
      },
      "outputs": [],
      "source": [
        "#uppercase\n",
        "def to_uppercase(column):\n",
        "    return column.upper()"
      ]
    },
    {
      "cell_type": "code",
      "execution_count": null,
      "id": "d3d747d7",
      "metadata": {
        "id": "d3d747d7"
      },
      "outputs": [],
      "source": [
        "df['Capital_Name']=df['Country'].apply(to_uppercase)"
      ]
    },
    {
      "cell_type": "code",
      "execution_count": null,
      "id": "92c2006f",
      "metadata": {
        "id": "92c2006f",
        "outputId": "fd24a977-f639-4270-e773-ba1abf8b0bcd"
      },
      "outputs": [
        {
          "data": {
            "text/html": [
              "<div>\n",
              "<style scoped>\n",
              "    .dataframe tbody tr th:only-of-type {\n",
              "        vertical-align: middle;\n",
              "    }\n",
              "\n",
              "    .dataframe tbody tr th {\n",
              "        vertical-align: top;\n",
              "    }\n",
              "\n",
              "    .dataframe thead th {\n",
              "        text-align: right;\n",
              "    }\n",
              "</style>\n",
              "<table border=\"1\" class=\"dataframe\">\n",
              "  <thead>\n",
              "    <tr style=\"text-align: right;\">\n",
              "      <th></th>\n",
              "      <th>Age</th>\n",
              "      <th>Gender</th>\n",
              "      <th>Country</th>\n",
              "      <th>Salary</th>\n",
              "      <th>Department</th>\n",
              "      <th>Years of Experience</th>\n",
              "      <th>Education Level</th>\n",
              "      <th>Total_Income</th>\n",
              "      <th>Capital_Name</th>\n",
              "    </tr>\n",
              "    <tr>\n",
              "      <th>Name</th>\n",
              "      <th></th>\n",
              "      <th></th>\n",
              "      <th></th>\n",
              "      <th></th>\n",
              "      <th></th>\n",
              "      <th></th>\n",
              "      <th></th>\n",
              "      <th></th>\n",
              "      <th></th>\n",
              "    </tr>\n",
              "  </thead>\n",
              "  <tbody>\n",
              "    <tr>\n",
              "      <th>Alice</th>\n",
              "      <td>25</td>\n",
              "      <td>Female</td>\n",
              "      <td>USA</td>\n",
              "      <td>50000</td>\n",
              "      <td>Marketing</td>\n",
              "      <td>3</td>\n",
              "      <td>Bachelor</td>\n",
              "      <td>150000</td>\n",
              "      <td>USA</td>\n",
              "    </tr>\n",
              "    <tr>\n",
              "      <th>Bob</th>\n",
              "      <td>32</td>\n",
              "      <td>Male</td>\n",
              "      <td>Canada</td>\n",
              "      <td>75000</td>\n",
              "      <td>Finance</td>\n",
              "      <td>8</td>\n",
              "      <td>Master</td>\n",
              "      <td>600000</td>\n",
              "      <td>CANADA</td>\n",
              "    </tr>\n",
              "    <tr>\n",
              "      <th>Charlie</th>\n",
              "      <td>18</td>\n",
              "      <td>Male</td>\n",
              "      <td>USA</td>\n",
              "      <td>40000</td>\n",
              "      <td>Marketing</td>\n",
              "      <td>1</td>\n",
              "      <td>High School</td>\n",
              "      <td>40000</td>\n",
              "      <td>USA</td>\n",
              "    </tr>\n",
              "    <tr>\n",
              "      <th>David</th>\n",
              "      <td>47</td>\n",
              "      <td>Male</td>\n",
              "      <td>Australia</td>\n",
              "      <td>90000</td>\n",
              "      <td>IT</td>\n",
              "      <td>18</td>\n",
              "      <td>PhD</td>\n",
              "      <td>1620000</td>\n",
              "      <td>AUSTRALIA</td>\n",
              "    </tr>\n",
              "    <tr>\n",
              "      <th>Emily</th>\n",
              "      <td>29</td>\n",
              "      <td>Female</td>\n",
              "      <td>UK</td>\n",
              "      <td>60000</td>\n",
              "      <td>IT</td>\n",
              "      <td>6</td>\n",
              "      <td>Bachelor</td>\n",
              "      <td>360000</td>\n",
              "      <td>UK</td>\n",
              "    </tr>\n",
              "  </tbody>\n",
              "</table>\n",
              "</div>"
            ],
            "text/plain": [
              "         Age  Gender    Country  Salary Department  Years of Experience  \\\n",
              "Name                                                                      \n",
              "Alice     25  Female        USA   50000  Marketing                    3   \n",
              "Bob       32    Male     Canada   75000    Finance                    8   \n",
              "Charlie   18    Male        USA   40000  Marketing                    1   \n",
              "David     47    Male  Australia   90000         IT                   18   \n",
              "Emily     29  Female         UK   60000         IT                    6   \n",
              "\n",
              "        Education Level  Total_Income Capital_Name  \n",
              "Name                                                \n",
              "Alice          Bachelor        150000          USA  \n",
              "Bob              Master        600000       CANADA  \n",
              "Charlie     High School         40000          USA  \n",
              "David               PhD       1620000    AUSTRALIA  \n",
              "Emily          Bachelor        360000           UK  "
            ]
          },
          "execution_count": 42,
          "metadata": {},
          "output_type": "execute_result"
        }
      ],
      "source": [
        "df.head()"
      ]
    },
    {
      "cell_type": "markdown",
      "id": "1abb55c1",
      "metadata": {
        "id": "1abb55c1"
      },
      "source": [
        "We can also sort our dataframe by some column values in either an ascending or descending order"
      ]
    },
    {
      "cell_type": "code",
      "execution_count": null,
      "id": "d11c0fd4",
      "metadata": {
        "id": "d11c0fd4",
        "outputId": "406625c6-49de-4693-9abd-a654d4a31dfc"
      },
      "outputs": [
        {
          "data": {
            "text/html": [
              "<div>\n",
              "<style scoped>\n",
              "    .dataframe tbody tr th:only-of-type {\n",
              "        vertical-align: middle;\n",
              "    }\n",
              "\n",
              "    .dataframe tbody tr th {\n",
              "        vertical-align: top;\n",
              "    }\n",
              "\n",
              "    .dataframe thead th {\n",
              "        text-align: right;\n",
              "    }\n",
              "</style>\n",
              "<table border=\"1\" class=\"dataframe\">\n",
              "  <thead>\n",
              "    <tr style=\"text-align: right;\">\n",
              "      <th></th>\n",
              "      <th>Age</th>\n",
              "      <th>Gender</th>\n",
              "      <th>Country</th>\n",
              "      <th>Salary</th>\n",
              "      <th>Department</th>\n",
              "      <th>Years of Experience</th>\n",
              "      <th>Education Level</th>\n",
              "      <th>Total_Income</th>\n",
              "      <th>Capital_Name</th>\n",
              "    </tr>\n",
              "    <tr>\n",
              "      <th>Name</th>\n",
              "      <th></th>\n",
              "      <th></th>\n",
              "      <th></th>\n",
              "      <th></th>\n",
              "      <th></th>\n",
              "      <th></th>\n",
              "      <th></th>\n",
              "      <th></th>\n",
              "      <th></th>\n",
              "    </tr>\n",
              "  </thead>\n",
              "  <tbody>\n",
              "    <tr>\n",
              "      <th>David</th>\n",
              "      <td>47</td>\n",
              "      <td>Male</td>\n",
              "      <td>Australia</td>\n",
              "      <td>90000</td>\n",
              "      <td>IT</td>\n",
              "      <td>18</td>\n",
              "      <td>PhD</td>\n",
              "      <td>1620000</td>\n",
              "      <td>AUSTRALIA</td>\n",
              "    </tr>\n",
              "    <tr>\n",
              "      <th>Helen</th>\n",
              "      <td>45</td>\n",
              "      <td>Female</td>\n",
              "      <td>Australia</td>\n",
              "      <td>100000</td>\n",
              "      <td>IT</td>\n",
              "      <td>22</td>\n",
              "      <td>PhD</td>\n",
              "      <td>2200000</td>\n",
              "      <td>AUSTRALIA</td>\n",
              "    </tr>\n",
              "    <tr>\n",
              "      <th>Frank</th>\n",
              "      <td>36</td>\n",
              "      <td>Male</td>\n",
              "      <td>Canada</td>\n",
              "      <td>80000</td>\n",
              "      <td>HR</td>\n",
              "      <td>10</td>\n",
              "      <td>Master</td>\n",
              "      <td>800000</td>\n",
              "      <td>CANADA</td>\n",
              "    </tr>\n",
              "    <tr>\n",
              "      <th>Jack</th>\n",
              "      <td>33</td>\n",
              "      <td>Male</td>\n",
              "      <td>USA</td>\n",
              "      <td>70000</td>\n",
              "      <td>Finance</td>\n",
              "      <td>7</td>\n",
              "      <td>Master</td>\n",
              "      <td>490000</td>\n",
              "      <td>USA</td>\n",
              "    </tr>\n",
              "    <tr>\n",
              "      <th>Bob</th>\n",
              "      <td>32</td>\n",
              "      <td>Male</td>\n",
              "      <td>Canada</td>\n",
              "      <td>75000</td>\n",
              "      <td>Finance</td>\n",
              "      <td>8</td>\n",
              "      <td>Master</td>\n",
              "      <td>600000</td>\n",
              "      <td>CANADA</td>\n",
              "    </tr>\n",
              "    <tr>\n",
              "      <th>Emily</th>\n",
              "      <td>29</td>\n",
              "      <td>Female</td>\n",
              "      <td>UK</td>\n",
              "      <td>60000</td>\n",
              "      <td>IT</td>\n",
              "      <td>6</td>\n",
              "      <td>Bachelor</td>\n",
              "      <td>360000</td>\n",
              "      <td>UK</td>\n",
              "    </tr>\n",
              "    <tr>\n",
              "      <th>Irene</th>\n",
              "      <td>28</td>\n",
              "      <td>Female</td>\n",
              "      <td>UK</td>\n",
              "      <td>65000</td>\n",
              "      <td>HR</td>\n",
              "      <td>5</td>\n",
              "      <td>Bachelor</td>\n",
              "      <td>325000</td>\n",
              "      <td>UK</td>\n",
              "    </tr>\n",
              "    <tr>\n",
              "      <th>Alice</th>\n",
              "      <td>25</td>\n",
              "      <td>Female</td>\n",
              "      <td>USA</td>\n",
              "      <td>50000</td>\n",
              "      <td>Marketing</td>\n",
              "      <td>3</td>\n",
              "      <td>Bachelor</td>\n",
              "      <td>150000</td>\n",
              "      <td>USA</td>\n",
              "    </tr>\n",
              "    <tr>\n",
              "      <th>George</th>\n",
              "      <td>21</td>\n",
              "      <td>Male</td>\n",
              "      <td>USA</td>\n",
              "      <td>55000</td>\n",
              "      <td>Marketing</td>\n",
              "      <td>2</td>\n",
              "      <td>Bachelor</td>\n",
              "      <td>110000</td>\n",
              "      <td>USA</td>\n",
              "    </tr>\n",
              "    <tr>\n",
              "      <th>Charlie</th>\n",
              "      <td>18</td>\n",
              "      <td>Male</td>\n",
              "      <td>USA</td>\n",
              "      <td>40000</td>\n",
              "      <td>Marketing</td>\n",
              "      <td>1</td>\n",
              "      <td>High School</td>\n",
              "      <td>40000</td>\n",
              "      <td>USA</td>\n",
              "    </tr>\n",
              "  </tbody>\n",
              "</table>\n",
              "</div>"
            ],
            "text/plain": [
              "         Age  Gender    Country  Salary Department  Years of Experience  \\\n",
              "Name                                                                      \n",
              "David     47    Male  Australia   90000         IT                   18   \n",
              "Helen     45  Female  Australia  100000         IT                   22   \n",
              "Frank     36    Male     Canada   80000         HR                   10   \n",
              "Jack      33    Male        USA   70000    Finance                    7   \n",
              "Bob       32    Male     Canada   75000    Finance                    8   \n",
              "Emily     29  Female         UK   60000         IT                    6   \n",
              "Irene     28  Female         UK   65000         HR                    5   \n",
              "Alice     25  Female        USA   50000  Marketing                    3   \n",
              "George    21    Male        USA   55000  Marketing                    2   \n",
              "Charlie   18    Male        USA   40000  Marketing                    1   \n",
              "\n",
              "        Education Level  Total_Income Capital_Name  \n",
              "Name                                                \n",
              "David               PhD       1620000    AUSTRALIA  \n",
              "Helen               PhD       2200000    AUSTRALIA  \n",
              "Frank            Master        800000       CANADA  \n",
              "Jack             Master        490000          USA  \n",
              "Bob              Master        600000       CANADA  \n",
              "Emily          Bachelor        360000           UK  \n",
              "Irene          Bachelor        325000           UK  \n",
              "Alice          Bachelor        150000          USA  \n",
              "George         Bachelor        110000          USA  \n",
              "Charlie     High School         40000          USA  "
            ]
          },
          "execution_count": 43,
          "metadata": {},
          "output_type": "execute_result"
        }
      ],
      "source": [
        "# Sort values in descending order\n",
        "df.sort_values('Age', ascending=False)"
      ]
    },
    {
      "cell_type": "code",
      "execution_count": null,
      "id": "9630a75f",
      "metadata": {
        "scrolled": true,
        "id": "9630a75f",
        "outputId": "ffab20f9-4db3-473b-aa79-20f99dc091fc"
      },
      "outputs": [
        {
          "data": {
            "text/html": [
              "<div>\n",
              "<style scoped>\n",
              "    .dataframe tbody tr th:only-of-type {\n",
              "        vertical-align: middle;\n",
              "    }\n",
              "\n",
              "    .dataframe tbody tr th {\n",
              "        vertical-align: top;\n",
              "    }\n",
              "\n",
              "    .dataframe thead th {\n",
              "        text-align: right;\n",
              "    }\n",
              "</style>\n",
              "<table border=\"1\" class=\"dataframe\">\n",
              "  <thead>\n",
              "    <tr style=\"text-align: right;\">\n",
              "      <th></th>\n",
              "      <th>Age</th>\n",
              "      <th>Gender</th>\n",
              "      <th>Country</th>\n",
              "      <th>Salary</th>\n",
              "      <th>Department</th>\n",
              "      <th>Years of Experience</th>\n",
              "      <th>Education Level</th>\n",
              "      <th>Total_Income</th>\n",
              "      <th>Capital_Name</th>\n",
              "    </tr>\n",
              "    <tr>\n",
              "      <th>Name</th>\n",
              "      <th></th>\n",
              "      <th></th>\n",
              "      <th></th>\n",
              "      <th></th>\n",
              "      <th></th>\n",
              "      <th></th>\n",
              "      <th></th>\n",
              "      <th></th>\n",
              "      <th></th>\n",
              "    </tr>\n",
              "  </thead>\n",
              "  <tbody>\n",
              "    <tr>\n",
              "      <th>David</th>\n",
              "      <td>47</td>\n",
              "      <td>Male</td>\n",
              "      <td>Australia</td>\n",
              "      <td>90000</td>\n",
              "      <td>IT</td>\n",
              "      <td>18</td>\n",
              "      <td>PhD</td>\n",
              "      <td>1620000</td>\n",
              "      <td>AUSTRALIA</td>\n",
              "    </tr>\n",
              "    <tr>\n",
              "      <th>Helen</th>\n",
              "      <td>45</td>\n",
              "      <td>Female</td>\n",
              "      <td>Australia</td>\n",
              "      <td>100000</td>\n",
              "      <td>IT</td>\n",
              "      <td>22</td>\n",
              "      <td>PhD</td>\n",
              "      <td>2200000</td>\n",
              "      <td>AUSTRALIA</td>\n",
              "    </tr>\n",
              "    <tr>\n",
              "      <th>Frank</th>\n",
              "      <td>36</td>\n",
              "      <td>Male</td>\n",
              "      <td>Canada</td>\n",
              "      <td>80000</td>\n",
              "      <td>HR</td>\n",
              "      <td>10</td>\n",
              "      <td>Master</td>\n",
              "      <td>800000</td>\n",
              "      <td>CANADA</td>\n",
              "    </tr>\n",
              "    <tr>\n",
              "      <th>Jack</th>\n",
              "      <td>33</td>\n",
              "      <td>Male</td>\n",
              "      <td>USA</td>\n",
              "      <td>70000</td>\n",
              "      <td>Finance</td>\n",
              "      <td>7</td>\n",
              "      <td>Master</td>\n",
              "      <td>490000</td>\n",
              "      <td>USA</td>\n",
              "    </tr>\n",
              "    <tr>\n",
              "      <th>Bob</th>\n",
              "      <td>32</td>\n",
              "      <td>Male</td>\n",
              "      <td>Canada</td>\n",
              "      <td>75000</td>\n",
              "      <td>Finance</td>\n",
              "      <td>8</td>\n",
              "      <td>Master</td>\n",
              "      <td>600000</td>\n",
              "      <td>CANADA</td>\n",
              "    </tr>\n",
              "  </tbody>\n",
              "</table>\n",
              "</div>"
            ],
            "text/plain": [
              "       Age  Gender    Country  Salary Department  Years of Experience  \\\n",
              "Name                                                                    \n",
              "David   47    Male  Australia   90000         IT                   18   \n",
              "Helen   45  Female  Australia  100000         IT                   22   \n",
              "Frank   36    Male     Canada   80000         HR                   10   \n",
              "Jack    33    Male        USA   70000    Finance                    7   \n",
              "Bob     32    Male     Canada   75000    Finance                    8   \n",
              "\n",
              "      Education Level  Total_Income Capital_Name  \n",
              "Name                                              \n",
              "David             PhD       1620000    AUSTRALIA  \n",
              "Helen             PhD       2200000    AUSTRALIA  \n",
              "Frank          Master        800000       CANADA  \n",
              "Jack           Master        490000          USA  \n",
              "Bob            Master        600000       CANADA  "
            ]
          },
          "execution_count": 44,
          "metadata": {},
          "output_type": "execute_result"
        }
      ],
      "source": [
        "# We can also sort by the combination of two columns\n",
        "df.sort_values(['Age','Salary'], ascending=[False,True]).head()"
      ]
    },
    {
      "cell_type": "code",
      "execution_count": null,
      "id": "3f29e81c",
      "metadata": {
        "id": "3f29e81c"
      },
      "outputs": [],
      "source": [
        "# Find the list of unique values in a column\n",
        "list(df['Country'].unique())"
      ]
    },
    {
      "cell_type": "code",
      "execution_count": null,
      "id": "c51917d2",
      "metadata": {
        "id": "c51917d2"
      },
      "outputs": [],
      "source": [
        "df['Country'].unique()"
      ]
    },
    {
      "cell_type": "code",
      "execution_count": null,
      "id": "2d79474d",
      "metadata": {
        "id": "2d79474d"
      },
      "outputs": [],
      "source": [
        "#df.columns=['N','A','B','C','D','E','F','G','H'] #rename of column\n",
        "df"
      ]
    },
    {
      "cell_type": "code",
      "execution_count": null,
      "id": "bdc8c016",
      "metadata": {
        "id": "bdc8c016",
        "outputId": "f31955b8-cacc-40cf-b0b6-24535329bfc1"
      },
      "outputs": [
        {
          "data": {
            "text/html": [
              "<div>\n",
              "<style scoped>\n",
              "    .dataframe tbody tr th:only-of-type {\n",
              "        vertical-align: middle;\n",
              "    }\n",
              "\n",
              "    .dataframe tbody tr th {\n",
              "        vertical-align: top;\n",
              "    }\n",
              "\n",
              "    .dataframe thead th {\n",
              "        text-align: right;\n",
              "    }\n",
              "</style>\n",
              "<table border=\"1\" class=\"dataframe\">\n",
              "  <thead>\n",
              "    <tr style=\"text-align: right;\">\n",
              "      <th></th>\n",
              "      <th>Age</th>\n",
              "      <th>Gender</th>\n",
              "      <th>Country</th>\n",
              "      <th>Salary</th>\n",
              "      <th>Department</th>\n",
              "      <th>Years of Experience</th>\n",
              "      <th>Education Level</th>\n",
              "      <th>Total_Income</th>\n",
              "      <th>Capital_Name</th>\n",
              "    </tr>\n",
              "    <tr>\n",
              "      <th>Name</th>\n",
              "      <th></th>\n",
              "      <th></th>\n",
              "      <th></th>\n",
              "      <th></th>\n",
              "      <th></th>\n",
              "      <th></th>\n",
              "      <th></th>\n",
              "      <th></th>\n",
              "      <th></th>\n",
              "    </tr>\n",
              "  </thead>\n",
              "  <tbody>\n",
              "    <tr>\n",
              "      <th>Alice</th>\n",
              "      <td>False</td>\n",
              "      <td>False</td>\n",
              "      <td>False</td>\n",
              "      <td>False</td>\n",
              "      <td>False</td>\n",
              "      <td>False</td>\n",
              "      <td>False</td>\n",
              "      <td>False</td>\n",
              "      <td>False</td>\n",
              "    </tr>\n",
              "    <tr>\n",
              "      <th>Bob</th>\n",
              "      <td>False</td>\n",
              "      <td>False</td>\n",
              "      <td>False</td>\n",
              "      <td>False</td>\n",
              "      <td>False</td>\n",
              "      <td>False</td>\n",
              "      <td>False</td>\n",
              "      <td>False</td>\n",
              "      <td>False</td>\n",
              "    </tr>\n",
              "    <tr>\n",
              "      <th>Charlie</th>\n",
              "      <td>False</td>\n",
              "      <td>False</td>\n",
              "      <td>False</td>\n",
              "      <td>False</td>\n",
              "      <td>False</td>\n",
              "      <td>False</td>\n",
              "      <td>False</td>\n",
              "      <td>False</td>\n",
              "      <td>False</td>\n",
              "    </tr>\n",
              "    <tr>\n",
              "      <th>David</th>\n",
              "      <td>False</td>\n",
              "      <td>False</td>\n",
              "      <td>False</td>\n",
              "      <td>False</td>\n",
              "      <td>False</td>\n",
              "      <td>False</td>\n",
              "      <td>False</td>\n",
              "      <td>False</td>\n",
              "      <td>False</td>\n",
              "    </tr>\n",
              "    <tr>\n",
              "      <th>Emily</th>\n",
              "      <td>False</td>\n",
              "      <td>False</td>\n",
              "      <td>False</td>\n",
              "      <td>False</td>\n",
              "      <td>False</td>\n",
              "      <td>False</td>\n",
              "      <td>False</td>\n",
              "      <td>False</td>\n",
              "      <td>False</td>\n",
              "    </tr>\n",
              "    <tr>\n",
              "      <th>Frank</th>\n",
              "      <td>False</td>\n",
              "      <td>False</td>\n",
              "      <td>False</td>\n",
              "      <td>False</td>\n",
              "      <td>False</td>\n",
              "      <td>False</td>\n",
              "      <td>False</td>\n",
              "      <td>False</td>\n",
              "      <td>False</td>\n",
              "    </tr>\n",
              "    <tr>\n",
              "      <th>George</th>\n",
              "      <td>False</td>\n",
              "      <td>False</td>\n",
              "      <td>False</td>\n",
              "      <td>False</td>\n",
              "      <td>False</td>\n",
              "      <td>False</td>\n",
              "      <td>False</td>\n",
              "      <td>False</td>\n",
              "      <td>False</td>\n",
              "    </tr>\n",
              "    <tr>\n",
              "      <th>Helen</th>\n",
              "      <td>False</td>\n",
              "      <td>False</td>\n",
              "      <td>False</td>\n",
              "      <td>False</td>\n",
              "      <td>False</td>\n",
              "      <td>False</td>\n",
              "      <td>False</td>\n",
              "      <td>False</td>\n",
              "      <td>False</td>\n",
              "    </tr>\n",
              "    <tr>\n",
              "      <th>Irene</th>\n",
              "      <td>False</td>\n",
              "      <td>False</td>\n",
              "      <td>False</td>\n",
              "      <td>False</td>\n",
              "      <td>False</td>\n",
              "      <td>False</td>\n",
              "      <td>False</td>\n",
              "      <td>False</td>\n",
              "      <td>False</td>\n",
              "    </tr>\n",
              "    <tr>\n",
              "      <th>Jack</th>\n",
              "      <td>False</td>\n",
              "      <td>False</td>\n",
              "      <td>False</td>\n",
              "      <td>False</td>\n",
              "      <td>False</td>\n",
              "      <td>False</td>\n",
              "      <td>False</td>\n",
              "      <td>False</td>\n",
              "      <td>False</td>\n",
              "    </tr>\n",
              "  </tbody>\n",
              "</table>\n",
              "</div>"
            ],
            "text/plain": [
              "           Age  Gender  Country  Salary  Department  Years of Experience  \\\n",
              "Name                                                                       \n",
              "Alice    False   False    False   False       False                False   \n",
              "Bob      False   False    False   False       False                False   \n",
              "Charlie  False   False    False   False       False                False   \n",
              "David    False   False    False   False       False                False   \n",
              "Emily    False   False    False   False       False                False   \n",
              "Frank    False   False    False   False       False                False   \n",
              "George   False   False    False   False       False                False   \n",
              "Helen    False   False    False   False       False                False   \n",
              "Irene    False   False    False   False       False                False   \n",
              "Jack     False   False    False   False       False                False   \n",
              "\n",
              "         Education Level  Total_Income  Capital_Name  \n",
              "Name                                                  \n",
              "Alice              False         False         False  \n",
              "Bob                False         False         False  \n",
              "Charlie            False         False         False  \n",
              "David              False         False         False  \n",
              "Emily              False         False         False  \n",
              "Frank              False         False         False  \n",
              "George             False         False         False  \n",
              "Helen              False         False         False  \n",
              "Irene              False         False         False  \n",
              "Jack               False         False         False  "
            ]
          },
          "execution_count": 45,
          "metadata": {},
          "output_type": "execute_result"
        }
      ],
      "source": [
        "df.isnull() #checks for null values, return boolean array"
      ]
    },
    {
      "cell_type": "code",
      "execution_count": null,
      "id": "b261398e",
      "metadata": {
        "id": "b261398e",
        "outputId": "5a16cd96-cf1c-4a74-c260-05f3398bba2e"
      },
      "outputs": [
        {
          "data": {
            "text/html": [
              "<div>\n",
              "<style scoped>\n",
              "    .dataframe tbody tr th:only-of-type {\n",
              "        vertical-align: middle;\n",
              "    }\n",
              "\n",
              "    .dataframe tbody tr th {\n",
              "        vertical-align: top;\n",
              "    }\n",
              "\n",
              "    .dataframe thead th {\n",
              "        text-align: right;\n",
              "    }\n",
              "</style>\n",
              "<table border=\"1\" class=\"dataframe\">\n",
              "  <thead>\n",
              "    <tr style=\"text-align: right;\">\n",
              "      <th></th>\n",
              "      <th>Age</th>\n",
              "      <th>Gender</th>\n",
              "      <th>Country</th>\n",
              "      <th>Salary</th>\n",
              "      <th>Department</th>\n",
              "      <th>Years of Experience</th>\n",
              "      <th>Education Level</th>\n",
              "      <th>Total_Income</th>\n",
              "      <th>Capital_Name</th>\n",
              "    </tr>\n",
              "    <tr>\n",
              "      <th>Name</th>\n",
              "      <th></th>\n",
              "      <th></th>\n",
              "      <th></th>\n",
              "      <th></th>\n",
              "      <th></th>\n",
              "      <th></th>\n",
              "      <th></th>\n",
              "      <th></th>\n",
              "      <th></th>\n",
              "    </tr>\n",
              "  </thead>\n",
              "  <tbody>\n",
              "    <tr>\n",
              "      <th>Alice</th>\n",
              "      <td>True</td>\n",
              "      <td>True</td>\n",
              "      <td>True</td>\n",
              "      <td>True</td>\n",
              "      <td>True</td>\n",
              "      <td>True</td>\n",
              "      <td>True</td>\n",
              "      <td>True</td>\n",
              "      <td>True</td>\n",
              "    </tr>\n",
              "    <tr>\n",
              "      <th>Bob</th>\n",
              "      <td>True</td>\n",
              "      <td>True</td>\n",
              "      <td>True</td>\n",
              "      <td>True</td>\n",
              "      <td>True</td>\n",
              "      <td>True</td>\n",
              "      <td>True</td>\n",
              "      <td>True</td>\n",
              "      <td>True</td>\n",
              "    </tr>\n",
              "    <tr>\n",
              "      <th>Charlie</th>\n",
              "      <td>True</td>\n",
              "      <td>True</td>\n",
              "      <td>True</td>\n",
              "      <td>True</td>\n",
              "      <td>True</td>\n",
              "      <td>True</td>\n",
              "      <td>True</td>\n",
              "      <td>True</td>\n",
              "      <td>True</td>\n",
              "    </tr>\n",
              "    <tr>\n",
              "      <th>David</th>\n",
              "      <td>True</td>\n",
              "      <td>True</td>\n",
              "      <td>True</td>\n",
              "      <td>True</td>\n",
              "      <td>True</td>\n",
              "      <td>True</td>\n",
              "      <td>True</td>\n",
              "      <td>True</td>\n",
              "      <td>True</td>\n",
              "    </tr>\n",
              "    <tr>\n",
              "      <th>Emily</th>\n",
              "      <td>True</td>\n",
              "      <td>True</td>\n",
              "      <td>True</td>\n",
              "      <td>True</td>\n",
              "      <td>True</td>\n",
              "      <td>True</td>\n",
              "      <td>True</td>\n",
              "      <td>True</td>\n",
              "      <td>True</td>\n",
              "    </tr>\n",
              "    <tr>\n",
              "      <th>Frank</th>\n",
              "      <td>True</td>\n",
              "      <td>True</td>\n",
              "      <td>True</td>\n",
              "      <td>True</td>\n",
              "      <td>True</td>\n",
              "      <td>True</td>\n",
              "      <td>True</td>\n",
              "      <td>True</td>\n",
              "      <td>True</td>\n",
              "    </tr>\n",
              "    <tr>\n",
              "      <th>George</th>\n",
              "      <td>True</td>\n",
              "      <td>True</td>\n",
              "      <td>True</td>\n",
              "      <td>True</td>\n",
              "      <td>True</td>\n",
              "      <td>True</td>\n",
              "      <td>True</td>\n",
              "      <td>True</td>\n",
              "      <td>True</td>\n",
              "    </tr>\n",
              "    <tr>\n",
              "      <th>Helen</th>\n",
              "      <td>True</td>\n",
              "      <td>True</td>\n",
              "      <td>True</td>\n",
              "      <td>True</td>\n",
              "      <td>True</td>\n",
              "      <td>True</td>\n",
              "      <td>True</td>\n",
              "      <td>True</td>\n",
              "      <td>True</td>\n",
              "    </tr>\n",
              "    <tr>\n",
              "      <th>Irene</th>\n",
              "      <td>True</td>\n",
              "      <td>True</td>\n",
              "      <td>True</td>\n",
              "      <td>True</td>\n",
              "      <td>True</td>\n",
              "      <td>True</td>\n",
              "      <td>True</td>\n",
              "      <td>True</td>\n",
              "      <td>True</td>\n",
              "    </tr>\n",
              "    <tr>\n",
              "      <th>Jack</th>\n",
              "      <td>True</td>\n",
              "      <td>True</td>\n",
              "      <td>True</td>\n",
              "      <td>True</td>\n",
              "      <td>True</td>\n",
              "      <td>True</td>\n",
              "      <td>True</td>\n",
              "      <td>True</td>\n",
              "      <td>True</td>\n",
              "    </tr>\n",
              "  </tbody>\n",
              "</table>\n",
              "</div>"
            ],
            "text/plain": [
              "          Age  Gender  Country  Salary  Department  Years of Experience  \\\n",
              "Name                                                                      \n",
              "Alice    True    True     True    True        True                 True   \n",
              "Bob      True    True     True    True        True                 True   \n",
              "Charlie  True    True     True    True        True                 True   \n",
              "David    True    True     True    True        True                 True   \n",
              "Emily    True    True     True    True        True                 True   \n",
              "Frank    True    True     True    True        True                 True   \n",
              "George   True    True     True    True        True                 True   \n",
              "Helen    True    True     True    True        True                 True   \n",
              "Irene    True    True     True    True        True                 True   \n",
              "Jack     True    True     True    True        True                 True   \n",
              "\n",
              "         Education Level  Total_Income  Capital_Name  \n",
              "Name                                                  \n",
              "Alice               True          True          True  \n",
              "Bob                 True          True          True  \n",
              "Charlie             True          True          True  \n",
              "David               True          True          True  \n",
              "Emily               True          True          True  \n",
              "Frank               True          True          True  \n",
              "George              True          True          True  \n",
              "Helen               True          True          True  \n",
              "Irene               True          True          True  \n",
              "Jack                True          True          True  "
            ]
          },
          "execution_count": 46,
          "metadata": {},
          "output_type": "execute_result"
        }
      ],
      "source": [
        "df.notnull() #opposite to isnull"
      ]
    },
    {
      "cell_type": "code",
      "execution_count": null,
      "id": "636b0949",
      "metadata": {
        "id": "636b0949",
        "outputId": "627347b3-fef4-4964-f79a-dba2d81c6635"
      },
      "outputs": [
        {
          "data": {
            "text/html": [
              "<div>\n",
              "<style scoped>\n",
              "    .dataframe tbody tr th:only-of-type {\n",
              "        vertical-align: middle;\n",
              "    }\n",
              "\n",
              "    .dataframe tbody tr th {\n",
              "        vertical-align: top;\n",
              "    }\n",
              "\n",
              "    .dataframe thead th {\n",
              "        text-align: right;\n",
              "    }\n",
              "</style>\n",
              "<table border=\"1\" class=\"dataframe\">\n",
              "  <thead>\n",
              "    <tr style=\"text-align: right;\">\n",
              "      <th></th>\n",
              "      <th>Age</th>\n",
              "      <th>Gender</th>\n",
              "      <th>Country</th>\n",
              "      <th>Salary</th>\n",
              "      <th>Department</th>\n",
              "      <th>Years of Experience</th>\n",
              "      <th>Education Level</th>\n",
              "      <th>Total_Income</th>\n",
              "      <th>Capital_Name</th>\n",
              "    </tr>\n",
              "    <tr>\n",
              "      <th>Name</th>\n",
              "      <th></th>\n",
              "      <th></th>\n",
              "      <th></th>\n",
              "      <th></th>\n",
              "      <th></th>\n",
              "      <th></th>\n",
              "      <th></th>\n",
              "      <th></th>\n",
              "      <th></th>\n",
              "    </tr>\n",
              "  </thead>\n",
              "  <tbody>\n",
              "    <tr>\n",
              "      <th>Alice</th>\n",
              "      <td>25</td>\n",
              "      <td>Female</td>\n",
              "      <td>USA</td>\n",
              "      <td>50000</td>\n",
              "      <td>Marketing</td>\n",
              "      <td>3</td>\n",
              "      <td>Bachelor</td>\n",
              "      <td>150000</td>\n",
              "      <td>USA</td>\n",
              "    </tr>\n",
              "    <tr>\n",
              "      <th>Bob</th>\n",
              "      <td>32</td>\n",
              "      <td>Male</td>\n",
              "      <td>Canada</td>\n",
              "      <td>75000</td>\n",
              "      <td>Finance</td>\n",
              "      <td>8</td>\n",
              "      <td>Master</td>\n",
              "      <td>600000</td>\n",
              "      <td>CANADA</td>\n",
              "    </tr>\n",
              "    <tr>\n",
              "      <th>Charlie</th>\n",
              "      <td>18</td>\n",
              "      <td>Male</td>\n",
              "      <td>USA</td>\n",
              "      <td>40000</td>\n",
              "      <td>Marketing</td>\n",
              "      <td>1</td>\n",
              "      <td>High School</td>\n",
              "      <td>40000</td>\n",
              "      <td>USA</td>\n",
              "    </tr>\n",
              "    <tr>\n",
              "      <th>David</th>\n",
              "      <td>47</td>\n",
              "      <td>Male</td>\n",
              "      <td>Australia</td>\n",
              "      <td>90000</td>\n",
              "      <td>IT</td>\n",
              "      <td>18</td>\n",
              "      <td>PhD</td>\n",
              "      <td>1620000</td>\n",
              "      <td>AUSTRALIA</td>\n",
              "    </tr>\n",
              "    <tr>\n",
              "      <th>Emily</th>\n",
              "      <td>29</td>\n",
              "      <td>Female</td>\n",
              "      <td>UK</td>\n",
              "      <td>60000</td>\n",
              "      <td>IT</td>\n",
              "      <td>6</td>\n",
              "      <td>Bachelor</td>\n",
              "      <td>360000</td>\n",
              "      <td>UK</td>\n",
              "    </tr>\n",
              "    <tr>\n",
              "      <th>Frank</th>\n",
              "      <td>36</td>\n",
              "      <td>Male</td>\n",
              "      <td>Canada</td>\n",
              "      <td>80000</td>\n",
              "      <td>HR</td>\n",
              "      <td>10</td>\n",
              "      <td>Master</td>\n",
              "      <td>800000</td>\n",
              "      <td>CANADA</td>\n",
              "    </tr>\n",
              "    <tr>\n",
              "      <th>George</th>\n",
              "      <td>21</td>\n",
              "      <td>Male</td>\n",
              "      <td>USA</td>\n",
              "      <td>55000</td>\n",
              "      <td>Marketing</td>\n",
              "      <td>2</td>\n",
              "      <td>Bachelor</td>\n",
              "      <td>110000</td>\n",
              "      <td>USA</td>\n",
              "    </tr>\n",
              "    <tr>\n",
              "      <th>Helen</th>\n",
              "      <td>45</td>\n",
              "      <td>Female</td>\n",
              "      <td>Australia</td>\n",
              "      <td>100000</td>\n",
              "      <td>IT</td>\n",
              "      <td>22</td>\n",
              "      <td>PhD</td>\n",
              "      <td>2200000</td>\n",
              "      <td>AUSTRALIA</td>\n",
              "    </tr>\n",
              "    <tr>\n",
              "      <th>Irene</th>\n",
              "      <td>28</td>\n",
              "      <td>Female</td>\n",
              "      <td>UK</td>\n",
              "      <td>65000</td>\n",
              "      <td>HR</td>\n",
              "      <td>5</td>\n",
              "      <td>Bachelor</td>\n",
              "      <td>325000</td>\n",
              "      <td>UK</td>\n",
              "    </tr>\n",
              "    <tr>\n",
              "      <th>Jack</th>\n",
              "      <td>33</td>\n",
              "      <td>Male</td>\n",
              "      <td>USA</td>\n",
              "      <td>70000</td>\n",
              "      <td>Finance</td>\n",
              "      <td>7</td>\n",
              "      <td>Master</td>\n",
              "      <td>490000</td>\n",
              "      <td>USA</td>\n",
              "    </tr>\n",
              "  </tbody>\n",
              "</table>\n",
              "</div>"
            ],
            "text/plain": [
              "         Age  Gender    Country  Salary Department  Years of Experience  \\\n",
              "Name                                                                      \n",
              "Alice     25  Female        USA   50000  Marketing                    3   \n",
              "Bob       32    Male     Canada   75000    Finance                    8   \n",
              "Charlie   18    Male        USA   40000  Marketing                    1   \n",
              "David     47    Male  Australia   90000         IT                   18   \n",
              "Emily     29  Female         UK   60000         IT                    6   \n",
              "Frank     36    Male     Canada   80000         HR                   10   \n",
              "George    21    Male        USA   55000  Marketing                    2   \n",
              "Helen     45  Female  Australia  100000         IT                   22   \n",
              "Irene     28  Female         UK   65000         HR                    5   \n",
              "Jack      33    Male        USA   70000    Finance                    7   \n",
              "\n",
              "        Education Level  Total_Income Capital_Name  \n",
              "Name                                                \n",
              "Alice          Bachelor        150000          USA  \n",
              "Bob              Master        600000       CANADA  \n",
              "Charlie     High School         40000          USA  \n",
              "David               PhD       1620000    AUSTRALIA  \n",
              "Emily          Bachelor        360000           UK  \n",
              "Frank            Master        800000       CANADA  \n",
              "George         Bachelor        110000          USA  \n",
              "Helen               PhD       2200000    AUSTRALIA  \n",
              "Irene          Bachelor        325000           UK  \n",
              "Jack             Master        490000          USA  "
            ]
          },
          "execution_count": 47,
          "metadata": {},
          "output_type": "execute_result"
        }
      ],
      "source": [
        "df.dropna() #drop all rows contain null values"
      ]
    },
    {
      "cell_type": "code",
      "execution_count": null,
      "id": "ebf858c0",
      "metadata": {
        "id": "ebf858c0",
        "outputId": "1c776eff-c81c-45ff-d426-39ff3a81ea2b"
      },
      "outputs": [
        {
          "data": {
            "text/html": [
              "<div>\n",
              "<style scoped>\n",
              "    .dataframe tbody tr th:only-of-type {\n",
              "        vertical-align: middle;\n",
              "    }\n",
              "\n",
              "    .dataframe tbody tr th {\n",
              "        vertical-align: top;\n",
              "    }\n",
              "\n",
              "    .dataframe thead th {\n",
              "        text-align: right;\n",
              "    }\n",
              "</style>\n",
              "<table border=\"1\" class=\"dataframe\">\n",
              "  <thead>\n",
              "    <tr style=\"text-align: right;\">\n",
              "      <th></th>\n",
              "      <th>Age</th>\n",
              "      <th>Gender</th>\n",
              "      <th>Country</th>\n",
              "      <th>Salary</th>\n",
              "      <th>Department</th>\n",
              "      <th>Years of Experience</th>\n",
              "      <th>Education Level</th>\n",
              "      <th>Total_Income</th>\n",
              "      <th>Capital_Name</th>\n",
              "    </tr>\n",
              "    <tr>\n",
              "      <th>Name</th>\n",
              "      <th></th>\n",
              "      <th></th>\n",
              "      <th></th>\n",
              "      <th></th>\n",
              "      <th></th>\n",
              "      <th></th>\n",
              "      <th></th>\n",
              "      <th></th>\n",
              "      <th></th>\n",
              "    </tr>\n",
              "  </thead>\n",
              "  <tbody>\n",
              "    <tr>\n",
              "      <th>Alice</th>\n",
              "      <td>25</td>\n",
              "      <td>Female</td>\n",
              "      <td>USA</td>\n",
              "      <td>50000</td>\n",
              "      <td>Marketing</td>\n",
              "      <td>3</td>\n",
              "      <td>Bachelor</td>\n",
              "      <td>150000</td>\n",
              "      <td>USA</td>\n",
              "    </tr>\n",
              "    <tr>\n",
              "      <th>Bob</th>\n",
              "      <td>32</td>\n",
              "      <td>Male</td>\n",
              "      <td>Canada</td>\n",
              "      <td>75000</td>\n",
              "      <td>Finance</td>\n",
              "      <td>8</td>\n",
              "      <td>Master</td>\n",
              "      <td>600000</td>\n",
              "      <td>CANADA</td>\n",
              "    </tr>\n",
              "    <tr>\n",
              "      <th>Charlie</th>\n",
              "      <td>18</td>\n",
              "      <td>Male</td>\n",
              "      <td>USA</td>\n",
              "      <td>40000</td>\n",
              "      <td>Marketing</td>\n",
              "      <td>1</td>\n",
              "      <td>High School</td>\n",
              "      <td>40000</td>\n",
              "      <td>USA</td>\n",
              "    </tr>\n",
              "    <tr>\n",
              "      <th>David</th>\n",
              "      <td>47</td>\n",
              "      <td>Male</td>\n",
              "      <td>Australia</td>\n",
              "      <td>90000</td>\n",
              "      <td>IT</td>\n",
              "      <td>18</td>\n",
              "      <td>PhD</td>\n",
              "      <td>1620000</td>\n",
              "      <td>AUSTRALIA</td>\n",
              "    </tr>\n",
              "    <tr>\n",
              "      <th>Emily</th>\n",
              "      <td>29</td>\n",
              "      <td>Female</td>\n",
              "      <td>UK</td>\n",
              "      <td>60000</td>\n",
              "      <td>IT</td>\n",
              "      <td>6</td>\n",
              "      <td>Bachelor</td>\n",
              "      <td>360000</td>\n",
              "      <td>UK</td>\n",
              "    </tr>\n",
              "    <tr>\n",
              "      <th>Frank</th>\n",
              "      <td>36</td>\n",
              "      <td>Male</td>\n",
              "      <td>Canada</td>\n",
              "      <td>80000</td>\n",
              "      <td>HR</td>\n",
              "      <td>10</td>\n",
              "      <td>Master</td>\n",
              "      <td>800000</td>\n",
              "      <td>CANADA</td>\n",
              "    </tr>\n",
              "    <tr>\n",
              "      <th>George</th>\n",
              "      <td>21</td>\n",
              "      <td>Male</td>\n",
              "      <td>USA</td>\n",
              "      <td>55000</td>\n",
              "      <td>Marketing</td>\n",
              "      <td>2</td>\n",
              "      <td>Bachelor</td>\n",
              "      <td>110000</td>\n",
              "      <td>USA</td>\n",
              "    </tr>\n",
              "    <tr>\n",
              "      <th>Helen</th>\n",
              "      <td>45</td>\n",
              "      <td>Female</td>\n",
              "      <td>Australia</td>\n",
              "      <td>100000</td>\n",
              "      <td>IT</td>\n",
              "      <td>22</td>\n",
              "      <td>PhD</td>\n",
              "      <td>2200000</td>\n",
              "      <td>AUSTRALIA</td>\n",
              "    </tr>\n",
              "    <tr>\n",
              "      <th>Irene</th>\n",
              "      <td>28</td>\n",
              "      <td>Female</td>\n",
              "      <td>UK</td>\n",
              "      <td>65000</td>\n",
              "      <td>HR</td>\n",
              "      <td>5</td>\n",
              "      <td>Bachelor</td>\n",
              "      <td>325000</td>\n",
              "      <td>UK</td>\n",
              "    </tr>\n",
              "    <tr>\n",
              "      <th>Jack</th>\n",
              "      <td>33</td>\n",
              "      <td>Male</td>\n",
              "      <td>USA</td>\n",
              "      <td>70000</td>\n",
              "      <td>Finance</td>\n",
              "      <td>7</td>\n",
              "      <td>Master</td>\n",
              "      <td>490000</td>\n",
              "      <td>USA</td>\n",
              "    </tr>\n",
              "  </tbody>\n",
              "</table>\n",
              "</div>"
            ],
            "text/plain": [
              "         Age  Gender    Country  Salary Department  Years of Experience  \\\n",
              "Name                                                                      \n",
              "Alice     25  Female        USA   50000  Marketing                    3   \n",
              "Bob       32    Male     Canada   75000    Finance                    8   \n",
              "Charlie   18    Male        USA   40000  Marketing                    1   \n",
              "David     47    Male  Australia   90000         IT                   18   \n",
              "Emily     29  Female         UK   60000         IT                    6   \n",
              "Frank     36    Male     Canada   80000         HR                   10   \n",
              "George    21    Male        USA   55000  Marketing                    2   \n",
              "Helen     45  Female  Australia  100000         IT                   22   \n",
              "Irene     28  Female         UK   65000         HR                    5   \n",
              "Jack      33    Male        USA   70000    Finance                    7   \n",
              "\n",
              "        Education Level  Total_Income Capital_Name  \n",
              "Name                                                \n",
              "Alice          Bachelor        150000          USA  \n",
              "Bob              Master        600000       CANADA  \n",
              "Charlie     High School         40000          USA  \n",
              "David               PhD       1620000    AUSTRALIA  \n",
              "Emily          Bachelor        360000           UK  \n",
              "Frank            Master        800000       CANADA  \n",
              "George         Bachelor        110000          USA  \n",
              "Helen               PhD       2200000    AUSTRALIA  \n",
              "Irene          Bachelor        325000           UK  \n",
              "Jack             Master        490000          USA  "
            ]
          },
          "execution_count": 48,
          "metadata": {},
          "output_type": "execute_result"
        }
      ],
      "source": [
        "df.dropna(axis=1) #drop all columns contain null values"
      ]
    },
    {
      "cell_type": "code",
      "execution_count": null,
      "id": "6bd12c51",
      "metadata": {
        "id": "6bd12c51",
        "outputId": "5d4cb1dd-4d35-4fbb-db5a-e3dd0a4b8ba7"
      },
      "outputs": [
        {
          "data": {
            "text/html": [
              "<div>\n",
              "<style scoped>\n",
              "    .dataframe tbody tr th:only-of-type {\n",
              "        vertical-align: middle;\n",
              "    }\n",
              "\n",
              "    .dataframe tbody tr th {\n",
              "        vertical-align: top;\n",
              "    }\n",
              "\n",
              "    .dataframe thead th {\n",
              "        text-align: right;\n",
              "    }\n",
              "</style>\n",
              "<table border=\"1\" class=\"dataframe\">\n",
              "  <thead>\n",
              "    <tr style=\"text-align: right;\">\n",
              "      <th></th>\n",
              "      <th>Age</th>\n",
              "      <th>Gender</th>\n",
              "      <th>Country</th>\n",
              "      <th>Salary</th>\n",
              "      <th>Department</th>\n",
              "      <th>Years of Experience</th>\n",
              "      <th>Education Level</th>\n",
              "      <th>Total_Income</th>\n",
              "      <th>Capital_Name</th>\n",
              "    </tr>\n",
              "    <tr>\n",
              "      <th>Name</th>\n",
              "      <th></th>\n",
              "      <th></th>\n",
              "      <th></th>\n",
              "      <th></th>\n",
              "      <th></th>\n",
              "      <th></th>\n",
              "      <th></th>\n",
              "      <th></th>\n",
              "      <th></th>\n",
              "    </tr>\n",
              "  </thead>\n",
              "  <tbody>\n",
              "    <tr>\n",
              "      <th>Alice</th>\n",
              "      <td>25</td>\n",
              "      <td>Female</td>\n",
              "      <td>USA</td>\n",
              "      <td>50000</td>\n",
              "      <td>Marketing</td>\n",
              "      <td>3</td>\n",
              "      <td>Bachelor</td>\n",
              "      <td>150000</td>\n",
              "      <td>USA</td>\n",
              "    </tr>\n",
              "    <tr>\n",
              "      <th>Bob</th>\n",
              "      <td>32</td>\n",
              "      <td>Male</td>\n",
              "      <td>Canada</td>\n",
              "      <td>75000</td>\n",
              "      <td>Finance</td>\n",
              "      <td>8</td>\n",
              "      <td>Master</td>\n",
              "      <td>600000</td>\n",
              "      <td>CANADA</td>\n",
              "    </tr>\n",
              "    <tr>\n",
              "      <th>Charlie</th>\n",
              "      <td>18</td>\n",
              "      <td>Male</td>\n",
              "      <td>USA</td>\n",
              "      <td>40000</td>\n",
              "      <td>Marketing</td>\n",
              "      <td>1</td>\n",
              "      <td>High School</td>\n",
              "      <td>40000</td>\n",
              "      <td>USA</td>\n",
              "    </tr>\n",
              "    <tr>\n",
              "      <th>David</th>\n",
              "      <td>47</td>\n",
              "      <td>Male</td>\n",
              "      <td>Australia</td>\n",
              "      <td>90000</td>\n",
              "      <td>IT</td>\n",
              "      <td>18</td>\n",
              "      <td>PhD</td>\n",
              "      <td>1620000</td>\n",
              "      <td>AUSTRALIA</td>\n",
              "    </tr>\n",
              "    <tr>\n",
              "      <th>Emily</th>\n",
              "      <td>29</td>\n",
              "      <td>Female</td>\n",
              "      <td>UK</td>\n",
              "      <td>60000</td>\n",
              "      <td>IT</td>\n",
              "      <td>6</td>\n",
              "      <td>Bachelor</td>\n",
              "      <td>360000</td>\n",
              "      <td>UK</td>\n",
              "    </tr>\n",
              "    <tr>\n",
              "      <th>Frank</th>\n",
              "      <td>36</td>\n",
              "      <td>Male</td>\n",
              "      <td>Canada</td>\n",
              "      <td>80000</td>\n",
              "      <td>HR</td>\n",
              "      <td>10</td>\n",
              "      <td>Master</td>\n",
              "      <td>800000</td>\n",
              "      <td>CANADA</td>\n",
              "    </tr>\n",
              "    <tr>\n",
              "      <th>George</th>\n",
              "      <td>21</td>\n",
              "      <td>Male</td>\n",
              "      <td>USA</td>\n",
              "      <td>55000</td>\n",
              "      <td>Marketing</td>\n",
              "      <td>2</td>\n",
              "      <td>Bachelor</td>\n",
              "      <td>110000</td>\n",
              "      <td>USA</td>\n",
              "    </tr>\n",
              "    <tr>\n",
              "      <th>Helen</th>\n",
              "      <td>45</td>\n",
              "      <td>Female</td>\n",
              "      <td>Australia</td>\n",
              "      <td>100000</td>\n",
              "      <td>IT</td>\n",
              "      <td>22</td>\n",
              "      <td>PhD</td>\n",
              "      <td>2200000</td>\n",
              "      <td>AUSTRALIA</td>\n",
              "    </tr>\n",
              "    <tr>\n",
              "      <th>Irene</th>\n",
              "      <td>28</td>\n",
              "      <td>Female</td>\n",
              "      <td>UK</td>\n",
              "      <td>65000</td>\n",
              "      <td>HR</td>\n",
              "      <td>5</td>\n",
              "      <td>Bachelor</td>\n",
              "      <td>325000</td>\n",
              "      <td>UK</td>\n",
              "    </tr>\n",
              "    <tr>\n",
              "      <th>Jack</th>\n",
              "      <td>33</td>\n",
              "      <td>Male</td>\n",
              "      <td>USA</td>\n",
              "      <td>70000</td>\n",
              "      <td>Finance</td>\n",
              "      <td>7</td>\n",
              "      <td>Master</td>\n",
              "      <td>490000</td>\n",
              "      <td>USA</td>\n",
              "    </tr>\n",
              "  </tbody>\n",
              "</table>\n",
              "</div>"
            ],
            "text/plain": [
              "         Age  Gender    Country  Salary Department  Years of Experience  \\\n",
              "Name                                                                      \n",
              "Alice     25  Female        USA   50000  Marketing                    3   \n",
              "Bob       32    Male     Canada   75000    Finance                    8   \n",
              "Charlie   18    Male        USA   40000  Marketing                    1   \n",
              "David     47    Male  Australia   90000         IT                   18   \n",
              "Emily     29  Female         UK   60000         IT                    6   \n",
              "Frank     36    Male     Canada   80000         HR                   10   \n",
              "George    21    Male        USA   55000  Marketing                    2   \n",
              "Helen     45  Female  Australia  100000         IT                   22   \n",
              "Irene     28  Female         UK   65000         HR                    5   \n",
              "Jack      33    Male        USA   70000    Finance                    7   \n",
              "\n",
              "        Education Level  Total_Income Capital_Name  \n",
              "Name                                                \n",
              "Alice          Bachelor        150000          USA  \n",
              "Bob              Master        600000       CANADA  \n",
              "Charlie     High School         40000          USA  \n",
              "David               PhD       1620000    AUSTRALIA  \n",
              "Emily          Bachelor        360000           UK  \n",
              "Frank            Master        800000       CANADA  \n",
              "George         Bachelor        110000          USA  \n",
              "Helen               PhD       2200000    AUSTRALIA  \n",
              "Irene          Bachelor        325000           UK  \n",
              "Jack             Master        490000          USA  "
            ]
          },
          "execution_count": 49,
          "metadata": {},
          "output_type": "execute_result"
        }
      ],
      "source": [
        "df.dropna(axis=1,thresh=1) #drop all columns contain null values less than n"
      ]
    },
    {
      "cell_type": "code",
      "execution_count": null,
      "id": "b1cb2b5f",
      "metadata": {
        "id": "b1cb2b5f",
        "outputId": "715608a5-88bb-4e35-f2b4-50eab0119f8b"
      },
      "outputs": [
        {
          "name": "stderr",
          "output_type": "stream",
          "text": [
            "C:\\Users\\RANJIT\\AppData\\Local\\Temp\\ipykernel_132488\\234936199.py:1: FutureWarning: Dropping of nuisance columns in DataFrame reductions (with 'numeric_only=None') is deprecated; in a future version this will raise TypeError.  Select only valid columns before calling the reduction.\n",
            "  df.fillna(df.mean()) #replace all null values with mean\n"
          ]
        },
        {
          "data": {
            "text/html": [
              "<div>\n",
              "<style scoped>\n",
              "    .dataframe tbody tr th:only-of-type {\n",
              "        vertical-align: middle;\n",
              "    }\n",
              "\n",
              "    .dataframe tbody tr th {\n",
              "        vertical-align: top;\n",
              "    }\n",
              "\n",
              "    .dataframe thead th {\n",
              "        text-align: right;\n",
              "    }\n",
              "</style>\n",
              "<table border=\"1\" class=\"dataframe\">\n",
              "  <thead>\n",
              "    <tr style=\"text-align: right;\">\n",
              "      <th></th>\n",
              "      <th>Age</th>\n",
              "      <th>Gender</th>\n",
              "      <th>Country</th>\n",
              "      <th>Salary</th>\n",
              "      <th>Department</th>\n",
              "      <th>Years of Experience</th>\n",
              "      <th>Education Level</th>\n",
              "      <th>Total_Income</th>\n",
              "      <th>Capital_Name</th>\n",
              "    </tr>\n",
              "    <tr>\n",
              "      <th>Name</th>\n",
              "      <th></th>\n",
              "      <th></th>\n",
              "      <th></th>\n",
              "      <th></th>\n",
              "      <th></th>\n",
              "      <th></th>\n",
              "      <th></th>\n",
              "      <th></th>\n",
              "      <th></th>\n",
              "    </tr>\n",
              "  </thead>\n",
              "  <tbody>\n",
              "    <tr>\n",
              "      <th>Alice</th>\n",
              "      <td>25</td>\n",
              "      <td>Female</td>\n",
              "      <td>USA</td>\n",
              "      <td>50000</td>\n",
              "      <td>Marketing</td>\n",
              "      <td>3</td>\n",
              "      <td>Bachelor</td>\n",
              "      <td>150000</td>\n",
              "      <td>USA</td>\n",
              "    </tr>\n",
              "    <tr>\n",
              "      <th>Bob</th>\n",
              "      <td>32</td>\n",
              "      <td>Male</td>\n",
              "      <td>Canada</td>\n",
              "      <td>75000</td>\n",
              "      <td>Finance</td>\n",
              "      <td>8</td>\n",
              "      <td>Master</td>\n",
              "      <td>600000</td>\n",
              "      <td>CANADA</td>\n",
              "    </tr>\n",
              "    <tr>\n",
              "      <th>Charlie</th>\n",
              "      <td>18</td>\n",
              "      <td>Male</td>\n",
              "      <td>USA</td>\n",
              "      <td>40000</td>\n",
              "      <td>Marketing</td>\n",
              "      <td>1</td>\n",
              "      <td>High School</td>\n",
              "      <td>40000</td>\n",
              "      <td>USA</td>\n",
              "    </tr>\n",
              "    <tr>\n",
              "      <th>David</th>\n",
              "      <td>47</td>\n",
              "      <td>Male</td>\n",
              "      <td>Australia</td>\n",
              "      <td>90000</td>\n",
              "      <td>IT</td>\n",
              "      <td>18</td>\n",
              "      <td>PhD</td>\n",
              "      <td>1620000</td>\n",
              "      <td>AUSTRALIA</td>\n",
              "    </tr>\n",
              "    <tr>\n",
              "      <th>Emily</th>\n",
              "      <td>29</td>\n",
              "      <td>Female</td>\n",
              "      <td>UK</td>\n",
              "      <td>60000</td>\n",
              "      <td>IT</td>\n",
              "      <td>6</td>\n",
              "      <td>Bachelor</td>\n",
              "      <td>360000</td>\n",
              "      <td>UK</td>\n",
              "    </tr>\n",
              "    <tr>\n",
              "      <th>Frank</th>\n",
              "      <td>36</td>\n",
              "      <td>Male</td>\n",
              "      <td>Canada</td>\n",
              "      <td>80000</td>\n",
              "      <td>HR</td>\n",
              "      <td>10</td>\n",
              "      <td>Master</td>\n",
              "      <td>800000</td>\n",
              "      <td>CANADA</td>\n",
              "    </tr>\n",
              "    <tr>\n",
              "      <th>George</th>\n",
              "      <td>21</td>\n",
              "      <td>Male</td>\n",
              "      <td>USA</td>\n",
              "      <td>55000</td>\n",
              "      <td>Marketing</td>\n",
              "      <td>2</td>\n",
              "      <td>Bachelor</td>\n",
              "      <td>110000</td>\n",
              "      <td>USA</td>\n",
              "    </tr>\n",
              "    <tr>\n",
              "      <th>Helen</th>\n",
              "      <td>45</td>\n",
              "      <td>Female</td>\n",
              "      <td>Australia</td>\n",
              "      <td>100000</td>\n",
              "      <td>IT</td>\n",
              "      <td>22</td>\n",
              "      <td>PhD</td>\n",
              "      <td>2200000</td>\n",
              "      <td>AUSTRALIA</td>\n",
              "    </tr>\n",
              "    <tr>\n",
              "      <th>Irene</th>\n",
              "      <td>28</td>\n",
              "      <td>Female</td>\n",
              "      <td>UK</td>\n",
              "      <td>65000</td>\n",
              "      <td>HR</td>\n",
              "      <td>5</td>\n",
              "      <td>Bachelor</td>\n",
              "      <td>325000</td>\n",
              "      <td>UK</td>\n",
              "    </tr>\n",
              "    <tr>\n",
              "      <th>Jack</th>\n",
              "      <td>33</td>\n",
              "      <td>Male</td>\n",
              "      <td>USA</td>\n",
              "      <td>70000</td>\n",
              "      <td>Finance</td>\n",
              "      <td>7</td>\n",
              "      <td>Master</td>\n",
              "      <td>490000</td>\n",
              "      <td>USA</td>\n",
              "    </tr>\n",
              "  </tbody>\n",
              "</table>\n",
              "</div>"
            ],
            "text/plain": [
              "         Age  Gender    Country  Salary Department  Years of Experience  \\\n",
              "Name                                                                      \n",
              "Alice     25  Female        USA   50000  Marketing                    3   \n",
              "Bob       32    Male     Canada   75000    Finance                    8   \n",
              "Charlie   18    Male        USA   40000  Marketing                    1   \n",
              "David     47    Male  Australia   90000         IT                   18   \n",
              "Emily     29  Female         UK   60000         IT                    6   \n",
              "Frank     36    Male     Canada   80000         HR                   10   \n",
              "George    21    Male        USA   55000  Marketing                    2   \n",
              "Helen     45  Female  Australia  100000         IT                   22   \n",
              "Irene     28  Female         UK   65000         HR                    5   \n",
              "Jack      33    Male        USA   70000    Finance                    7   \n",
              "\n",
              "        Education Level  Total_Income Capital_Name  \n",
              "Name                                                \n",
              "Alice          Bachelor        150000          USA  \n",
              "Bob              Master        600000       CANADA  \n",
              "Charlie     High School         40000          USA  \n",
              "David               PhD       1620000    AUSTRALIA  \n",
              "Emily          Bachelor        360000           UK  \n",
              "Frank            Master        800000       CANADA  \n",
              "George         Bachelor        110000          USA  \n",
              "Helen               PhD       2200000    AUSTRALIA  \n",
              "Irene          Bachelor        325000           UK  \n",
              "Jack             Master        490000          USA  "
            ]
          },
          "execution_count": 50,
          "metadata": {},
          "output_type": "execute_result"
        }
      ],
      "source": [
        "df.fillna(df.mean()) #replace all null values with mean"
      ]
    },
    {
      "cell_type": "code",
      "execution_count": null,
      "id": "893eb657",
      "metadata": {
        "id": "893eb657"
      },
      "outputs": [],
      "source": [
        "#df.astype(float) #Convert datatype of series to float"
      ]
    },
    {
      "cell_type": "code",
      "execution_count": null,
      "id": "539d6eb1",
      "metadata": {
        "id": "539d6eb1",
        "outputId": "b789aa68-9efe-4f5f-e789-98b51046ef7d"
      },
      "outputs": [
        {
          "data": {
            "text/html": [
              "<div>\n",
              "<style scoped>\n",
              "    .dataframe tbody tr th:only-of-type {\n",
              "        vertical-align: middle;\n",
              "    }\n",
              "\n",
              "    .dataframe tbody tr th {\n",
              "        vertical-align: top;\n",
              "    }\n",
              "\n",
              "    .dataframe thead th {\n",
              "        text-align: right;\n",
              "    }\n",
              "</style>\n",
              "<table border=\"1\" class=\"dataframe\">\n",
              "  <thead>\n",
              "    <tr style=\"text-align: right;\">\n",
              "      <th></th>\n",
              "      <th>Age</th>\n",
              "      <th>Gender</th>\n",
              "      <th>Country</th>\n",
              "      <th>Salary</th>\n",
              "      <th>Department</th>\n",
              "      <th>Years of Experience</th>\n",
              "      <th>Education Level</th>\n",
              "      <th>Total_Income</th>\n",
              "      <th>Capital_Name</th>\n",
              "    </tr>\n",
              "    <tr>\n",
              "      <th>Name</th>\n",
              "      <th></th>\n",
              "      <th></th>\n",
              "      <th></th>\n",
              "      <th></th>\n",
              "      <th></th>\n",
              "      <th></th>\n",
              "      <th></th>\n",
              "      <th></th>\n",
              "      <th></th>\n",
              "    </tr>\n",
              "  </thead>\n",
              "  <tbody>\n",
              "    <tr>\n",
              "      <th>Alice</th>\n",
              "      <td>25</td>\n",
              "      <td>Female</td>\n",
              "      <td>USA</td>\n",
              "      <td>50000</td>\n",
              "      <td>Marketing</td>\n",
              "      <td>3</td>\n",
              "      <td>Bachelor</td>\n",
              "      <td>150000</td>\n",
              "      <td>USA</td>\n",
              "    </tr>\n",
              "    <tr>\n",
              "      <th>Bob</th>\n",
              "      <td>32</td>\n",
              "      <td>Male</td>\n",
              "      <td>Canada</td>\n",
              "      <td>75000</td>\n",
              "      <td>Finance</td>\n",
              "      <td>8</td>\n",
              "      <td>Master</td>\n",
              "      <td>600000</td>\n",
              "      <td>CANADA</td>\n",
              "    </tr>\n",
              "    <tr>\n",
              "      <th>Charlie</th>\n",
              "      <td>18</td>\n",
              "      <td>Male</td>\n",
              "      <td>USA</td>\n",
              "      <td>40000</td>\n",
              "      <td>Marketing</td>\n",
              "      <td>one</td>\n",
              "      <td>High School</td>\n",
              "      <td>40000</td>\n",
              "      <td>USA</td>\n",
              "    </tr>\n",
              "    <tr>\n",
              "      <th>David</th>\n",
              "      <td>47</td>\n",
              "      <td>Male</td>\n",
              "      <td>Australia</td>\n",
              "      <td>90000</td>\n",
              "      <td>IT</td>\n",
              "      <td>18</td>\n",
              "      <td>PhD</td>\n",
              "      <td>1620000</td>\n",
              "      <td>AUSTRALIA</td>\n",
              "    </tr>\n",
              "    <tr>\n",
              "      <th>Emily</th>\n",
              "      <td>29</td>\n",
              "      <td>Female</td>\n",
              "      <td>UK</td>\n",
              "      <td>60000</td>\n",
              "      <td>IT</td>\n",
              "      <td>6</td>\n",
              "      <td>Bachelor</td>\n",
              "      <td>360000</td>\n",
              "      <td>UK</td>\n",
              "    </tr>\n",
              "    <tr>\n",
              "      <th>Frank</th>\n",
              "      <td>36</td>\n",
              "      <td>Male</td>\n",
              "      <td>Canada</td>\n",
              "      <td>80000</td>\n",
              "      <td>HR</td>\n",
              "      <td>10</td>\n",
              "      <td>Master</td>\n",
              "      <td>800000</td>\n",
              "      <td>CANADA</td>\n",
              "    </tr>\n",
              "    <tr>\n",
              "      <th>George</th>\n",
              "      <td>21</td>\n",
              "      <td>Male</td>\n",
              "      <td>USA</td>\n",
              "      <td>55000</td>\n",
              "      <td>Marketing</td>\n",
              "      <td>2</td>\n",
              "      <td>Bachelor</td>\n",
              "      <td>110000</td>\n",
              "      <td>USA</td>\n",
              "    </tr>\n",
              "    <tr>\n",
              "      <th>Helen</th>\n",
              "      <td>45</td>\n",
              "      <td>Female</td>\n",
              "      <td>Australia</td>\n",
              "      <td>100000</td>\n",
              "      <td>IT</td>\n",
              "      <td>22</td>\n",
              "      <td>PhD</td>\n",
              "      <td>2200000</td>\n",
              "      <td>AUSTRALIA</td>\n",
              "    </tr>\n",
              "    <tr>\n",
              "      <th>Irene</th>\n",
              "      <td>28</td>\n",
              "      <td>Female</td>\n",
              "      <td>UK</td>\n",
              "      <td>65000</td>\n",
              "      <td>HR</td>\n",
              "      <td>5</td>\n",
              "      <td>Bachelor</td>\n",
              "      <td>325000</td>\n",
              "      <td>UK</td>\n",
              "    </tr>\n",
              "    <tr>\n",
              "      <th>Jack</th>\n",
              "      <td>33</td>\n",
              "      <td>Male</td>\n",
              "      <td>USA</td>\n",
              "      <td>70000</td>\n",
              "      <td>Finance</td>\n",
              "      <td>7</td>\n",
              "      <td>Master</td>\n",
              "      <td>490000</td>\n",
              "      <td>USA</td>\n",
              "    </tr>\n",
              "  </tbody>\n",
              "</table>\n",
              "</div>"
            ],
            "text/plain": [
              "         Age  Gender    Country  Salary Department Years of Experience  \\\n",
              "Name                                                                     \n",
              "Alice     25  Female        USA   50000  Marketing                   3   \n",
              "Bob       32    Male     Canada   75000    Finance                   8   \n",
              "Charlie   18    Male        USA   40000  Marketing                 one   \n",
              "David     47    Male  Australia   90000         IT                  18   \n",
              "Emily     29  Female         UK   60000         IT                   6   \n",
              "Frank     36    Male     Canada   80000         HR                  10   \n",
              "George    21    Male        USA   55000  Marketing                   2   \n",
              "Helen     45  Female  Australia  100000         IT                  22   \n",
              "Irene     28  Female         UK   65000         HR                   5   \n",
              "Jack      33    Male        USA   70000    Finance                   7   \n",
              "\n",
              "        Education Level  Total_Income Capital_Name  \n",
              "Name                                                \n",
              "Alice          Bachelor        150000          USA  \n",
              "Bob              Master        600000       CANADA  \n",
              "Charlie     High School         40000          USA  \n",
              "David               PhD       1620000    AUSTRALIA  \n",
              "Emily          Bachelor        360000           UK  \n",
              "Frank            Master        800000       CANADA  \n",
              "George         Bachelor        110000          USA  \n",
              "Helen               PhD       2200000    AUSTRALIA  \n",
              "Irene          Bachelor        325000           UK  \n",
              "Jack             Master        490000          USA  "
            ]
          },
          "execution_count": 52,
          "metadata": {},
          "output_type": "execute_result"
        }
      ],
      "source": [
        "df.replace(1,'one') #replace all values equal to 1 with one"
      ]
    },
    {
      "cell_type": "code",
      "execution_count": null,
      "id": "195844ea",
      "metadata": {
        "id": "195844ea",
        "outputId": "c9e97839-67c7-4b95-a8b3-ff1654f3b307"
      },
      "outputs": [
        {
          "data": {
            "text/html": [
              "<div>\n",
              "<style scoped>\n",
              "    .dataframe tbody tr th:only-of-type {\n",
              "        vertical-align: middle;\n",
              "    }\n",
              "\n",
              "    .dataframe tbody tr th {\n",
              "        vertical-align: top;\n",
              "    }\n",
              "\n",
              "    .dataframe thead th {\n",
              "        text-align: right;\n",
              "    }\n",
              "</style>\n",
              "<table border=\"1\" class=\"dataframe\">\n",
              "  <thead>\n",
              "    <tr style=\"text-align: right;\">\n",
              "      <th></th>\n",
              "      <th>Age</th>\n",
              "      <th>Gender</th>\n",
              "      <th>Country</th>\n",
              "      <th>Salary</th>\n",
              "      <th>Department</th>\n",
              "      <th>Years of Experience</th>\n",
              "      <th>Education Level</th>\n",
              "      <th>Total_Income</th>\n",
              "      <th>Capital_Name</th>\n",
              "    </tr>\n",
              "    <tr>\n",
              "      <th>Name</th>\n",
              "      <th></th>\n",
              "      <th></th>\n",
              "      <th></th>\n",
              "      <th></th>\n",
              "      <th></th>\n",
              "      <th></th>\n",
              "      <th></th>\n",
              "      <th></th>\n",
              "      <th></th>\n",
              "    </tr>\n",
              "  </thead>\n",
              "  <tbody>\n",
              "    <tr>\n",
              "      <th>Alice</th>\n",
              "      <td>25</td>\n",
              "      <td>Female</td>\n",
              "      <td>USA</td>\n",
              "      <td>50000</td>\n",
              "      <td>Marketing</td>\n",
              "      <td>3</td>\n",
              "      <td>Bachelor</td>\n",
              "      <td>150000</td>\n",
              "      <td>USA</td>\n",
              "    </tr>\n",
              "    <tr>\n",
              "      <th>Bob</th>\n",
              "      <td>32</td>\n",
              "      <td>Male</td>\n",
              "      <td>Canada</td>\n",
              "      <td>75000</td>\n",
              "      <td>Finance</td>\n",
              "      <td>8</td>\n",
              "      <td>Master</td>\n",
              "      <td>600000</td>\n",
              "      <td>CANADA</td>\n",
              "    </tr>\n",
              "    <tr>\n",
              "      <th>Charlie</th>\n",
              "      <td>18</td>\n",
              "      <td>Male</td>\n",
              "      <td>USA</td>\n",
              "      <td>40000</td>\n",
              "      <td>Marketing</td>\n",
              "      <td>1</td>\n",
              "      <td>High School</td>\n",
              "      <td>40000</td>\n",
              "      <td>USA</td>\n",
              "    </tr>\n",
              "    <tr>\n",
              "      <th>David</th>\n",
              "      <td>47</td>\n",
              "      <td>Male</td>\n",
              "      <td>Australia</td>\n",
              "      <td>90000</td>\n",
              "      <td>IT</td>\n",
              "      <td>18</td>\n",
              "      <td>PhD</td>\n",
              "      <td>1620000</td>\n",
              "      <td>AUSTRALIA</td>\n",
              "    </tr>\n",
              "    <tr>\n",
              "      <th>Emily</th>\n",
              "      <td>29</td>\n",
              "      <td>Female</td>\n",
              "      <td>UK</td>\n",
              "      <td>60000</td>\n",
              "      <td>IT</td>\n",
              "      <td>6</td>\n",
              "      <td>Bachelor</td>\n",
              "      <td>360000</td>\n",
              "      <td>UK</td>\n",
              "    </tr>\n",
              "    <tr>\n",
              "      <th>Frank</th>\n",
              "      <td>36</td>\n",
              "      <td>Male</td>\n",
              "      <td>Canada</td>\n",
              "      <td>80000</td>\n",
              "      <td>HR</td>\n",
              "      <td>10</td>\n",
              "      <td>Master</td>\n",
              "      <td>800000</td>\n",
              "      <td>CANADA</td>\n",
              "    </tr>\n",
              "    <tr>\n",
              "      <th>George</th>\n",
              "      <td>21</td>\n",
              "      <td>Male</td>\n",
              "      <td>USA</td>\n",
              "      <td>55000</td>\n",
              "      <td>Marketing</td>\n",
              "      <td>2</td>\n",
              "      <td>Bachelor</td>\n",
              "      <td>110000</td>\n",
              "      <td>USA</td>\n",
              "    </tr>\n",
              "    <tr>\n",
              "      <th>Helen</th>\n",
              "      <td>45</td>\n",
              "      <td>Female</td>\n",
              "      <td>Australia</td>\n",
              "      <td>100000</td>\n",
              "      <td>IT</td>\n",
              "      <td>22</td>\n",
              "      <td>PhD</td>\n",
              "      <td>2200000</td>\n",
              "      <td>AUSTRALIA</td>\n",
              "    </tr>\n",
              "    <tr>\n",
              "      <th>Irene</th>\n",
              "      <td>28</td>\n",
              "      <td>Female</td>\n",
              "      <td>UK</td>\n",
              "      <td>65000</td>\n",
              "      <td>HR</td>\n",
              "      <td>5</td>\n",
              "      <td>Bachelor</td>\n",
              "      <td>325000</td>\n",
              "      <td>UK</td>\n",
              "    </tr>\n",
              "    <tr>\n",
              "      <th>Jack</th>\n",
              "      <td>33</td>\n",
              "      <td>Male</td>\n",
              "      <td>USA</td>\n",
              "      <td>70000</td>\n",
              "      <td>Finance</td>\n",
              "      <td>7</td>\n",
              "      <td>Master</td>\n",
              "      <td>490000</td>\n",
              "      <td>USA</td>\n",
              "    </tr>\n",
              "  </tbody>\n",
              "</table>\n",
              "</div>"
            ],
            "text/plain": [
              "         Age  Gender    Country  Salary Department  Years of Experience  \\\n",
              "Name                                                                      \n",
              "Alice     25  Female        USA   50000  Marketing                    3   \n",
              "Bob       32    Male     Canada   75000    Finance                    8   \n",
              "Charlie   18    Male        USA   40000  Marketing                    1   \n",
              "David     47    Male  Australia   90000         IT                   18   \n",
              "Emily     29  Female         UK   60000         IT                    6   \n",
              "Frank     36    Male     Canada   80000         HR                   10   \n",
              "George    21    Male        USA   55000  Marketing                    2   \n",
              "Helen     45  Female  Australia  100000         IT                   22   \n",
              "Irene     28  Female         UK   65000         HR                    5   \n",
              "Jack      33    Male        USA   70000    Finance                    7   \n",
              "\n",
              "        Education Level  Total_Income Capital_Name  \n",
              "Name                                                \n",
              "Alice          Bachelor        150000          USA  \n",
              "Bob              Master        600000       CANADA  \n",
              "Charlie     High School         40000          USA  \n",
              "David               PhD       1620000    AUSTRALIA  \n",
              "Emily          Bachelor        360000           UK  \n",
              "Frank            Master        800000       CANADA  \n",
              "George         Bachelor        110000          USA  \n",
              "Helen               PhD       2200000    AUSTRALIA  \n",
              "Irene          Bachelor        325000           UK  \n",
              "Jack             Master        490000          USA  "
            ]
          },
          "execution_count": 53,
          "metadata": {},
          "output_type": "execute_result"
        }
      ],
      "source": [
        "df.rename(columns={'N':'New Age'}) #rename of selected column"
      ]
    },
    {
      "cell_type": "code",
      "execution_count": null,
      "id": "29e245b0",
      "metadata": {
        "id": "29e245b0",
        "outputId": "5ce06323-2853-4358-b9df-afc0bb2ee80e"
      },
      "outputs": [
        {
          "ename": "NameError",
          "evalue": "name 'df1' is not defined",
          "output_type": "error",
          "traceback": [
            "\u001b[1;31m---------------------------------------------------------------------------\u001b[0m",
            "\u001b[1;31mNameError\u001b[0m                                 Traceback (most recent call last)",
            "\u001b[1;32m~\\AppData\\Local\\Temp\\ipykernel_132488\\8593974.py\u001b[0m in \u001b[0;36m<module>\u001b[1;34m\u001b[0m\n\u001b[1;32m----> 1\u001b[1;33m \u001b[0mdf1\u001b[0m\u001b[1;33m.\u001b[0m\u001b[0mappend\u001b[0m\u001b[1;33m(\u001b[0m\u001b[0mdf2\u001b[0m\u001b[1;33m)\u001b[0m  \u001b[1;31m#add rows in end of df1 to the df2, column should be identical\u001b[0m\u001b[1;33m\u001b[0m\u001b[1;33m\u001b[0m\u001b[0m\n\u001b[0m",
            "\u001b[1;31mNameError\u001b[0m: name 'df1' is not defined"
          ]
        }
      ],
      "source": [
        "df1.append(df2)  #add rows in end of df1 to the df2, column should be identical"
      ]
    },
    {
      "cell_type": "code",
      "execution_count": null,
      "id": "b8b38807",
      "metadata": {
        "id": "b8b38807",
        "outputId": "6e938a8a-164e-45f1-c94d-8a3e9ec2b8b2"
      },
      "outputs": [
        {
          "ename": "NameError",
          "evalue": "name 'df1' is not defined",
          "output_type": "error",
          "traceback": [
            "\u001b[1;31m---------------------------------------------------------------------------\u001b[0m",
            "\u001b[1;31mNameError\u001b[0m                                 Traceback (most recent call last)",
            "\u001b[1;32m~\\AppData\\Local\\Temp\\ipykernel_132488\\1598157799.py\u001b[0m in \u001b[0;36m<module>\u001b[1;34m\u001b[0m\n\u001b[1;32m----> 1\u001b[1;33m \u001b[0mpd\u001b[0m\u001b[1;33m.\u001b[0m\u001b[0mconcat\u001b[0m\u001b[1;33m(\u001b[0m\u001b[1;33m[\u001b[0m\u001b[0mdf1\u001b[0m\u001b[1;33m,\u001b[0m\u001b[0mdf2\u001b[0m\u001b[1;33m]\u001b[0m\u001b[1;33m,\u001b[0m\u001b[0maxis\u001b[0m\u001b[1;33m=\u001b[0m\u001b[1;36m1\u001b[0m\u001b[1;33m)\u001b[0m \u001b[1;31m#add rows in end of df1 to the df2, rows should be identical\u001b[0m\u001b[1;33m\u001b[0m\u001b[1;33m\u001b[0m\u001b[0m\n\u001b[0m",
            "\u001b[1;31mNameError\u001b[0m: name 'df1' is not defined"
          ]
        }
      ],
      "source": [
        "pd.concat([df1,df2],axis=1) #add rows in end of df1 to the df2, rows should be identical"
      ]
    },
    {
      "cell_type": "markdown",
      "id": "490478e1",
      "metadata": {
        "id": "490478e1"
      },
      "source": [
        "**FILTER, SORT & GROUPBY **\n"
      ]
    },
    {
      "cell_type": "code",
      "execution_count": null,
      "id": "25291f47",
      "metadata": {
        "id": "25291f47"
      },
      "outputs": [],
      "source": [
        "df"
      ]
    },
    {
      "cell_type": "code",
      "execution_count": null,
      "id": "7d158092",
      "metadata": {
        "id": "7d158092",
        "outputId": "fa165d03-de8d-4d53-8d26-ec1c106799f0"
      },
      "outputs": [
        {
          "data": {
            "text/html": [
              "<div>\n",
              "<style scoped>\n",
              "    .dataframe tbody tr th:only-of-type {\n",
              "        vertical-align: middle;\n",
              "    }\n",
              "\n",
              "    .dataframe tbody tr th {\n",
              "        vertical-align: top;\n",
              "    }\n",
              "\n",
              "    .dataframe thead th {\n",
              "        text-align: right;\n",
              "    }\n",
              "</style>\n",
              "<table border=\"1\" class=\"dataframe\">\n",
              "  <thead>\n",
              "    <tr style=\"text-align: right;\">\n",
              "      <th></th>\n",
              "      <th>Age</th>\n",
              "      <th>Gender</th>\n",
              "      <th>Country</th>\n",
              "      <th>Salary</th>\n",
              "      <th>Department</th>\n",
              "      <th>Years of Experience</th>\n",
              "      <th>Education Level</th>\n",
              "      <th>Total_Income</th>\n",
              "      <th>Capital_Name</th>\n",
              "    </tr>\n",
              "    <tr>\n",
              "      <th>Name</th>\n",
              "      <th></th>\n",
              "      <th></th>\n",
              "      <th></th>\n",
              "      <th></th>\n",
              "      <th></th>\n",
              "      <th></th>\n",
              "      <th></th>\n",
              "      <th></th>\n",
              "      <th></th>\n",
              "    </tr>\n",
              "  </thead>\n",
              "  <tbody>\n",
              "    <tr>\n",
              "      <th>Alice</th>\n",
              "      <td>25</td>\n",
              "      <td>Female</td>\n",
              "      <td>USA</td>\n",
              "      <td>50000</td>\n",
              "      <td>Marketing</td>\n",
              "      <td>3</td>\n",
              "      <td>Bachelor</td>\n",
              "      <td>150000</td>\n",
              "      <td>USA</td>\n",
              "    </tr>\n",
              "    <tr>\n",
              "      <th>Bob</th>\n",
              "      <td>32</td>\n",
              "      <td>Male</td>\n",
              "      <td>Canada</td>\n",
              "      <td>75000</td>\n",
              "      <td>Finance</td>\n",
              "      <td>8</td>\n",
              "      <td>Master</td>\n",
              "      <td>600000</td>\n",
              "      <td>CANADA</td>\n",
              "    </tr>\n",
              "    <tr>\n",
              "      <th>David</th>\n",
              "      <td>47</td>\n",
              "      <td>Male</td>\n",
              "      <td>Australia</td>\n",
              "      <td>90000</td>\n",
              "      <td>IT</td>\n",
              "      <td>18</td>\n",
              "      <td>PhD</td>\n",
              "      <td>1620000</td>\n",
              "      <td>AUSTRALIA</td>\n",
              "    </tr>\n",
              "    <tr>\n",
              "      <th>Emily</th>\n",
              "      <td>29</td>\n",
              "      <td>Female</td>\n",
              "      <td>UK</td>\n",
              "      <td>60000</td>\n",
              "      <td>IT</td>\n",
              "      <td>6</td>\n",
              "      <td>Bachelor</td>\n",
              "      <td>360000</td>\n",
              "      <td>UK</td>\n",
              "    </tr>\n",
              "    <tr>\n",
              "      <th>Frank</th>\n",
              "      <td>36</td>\n",
              "      <td>Male</td>\n",
              "      <td>Canada</td>\n",
              "      <td>80000</td>\n",
              "      <td>HR</td>\n",
              "      <td>10</td>\n",
              "      <td>Master</td>\n",
              "      <td>800000</td>\n",
              "      <td>CANADA</td>\n",
              "    </tr>\n",
              "    <tr>\n",
              "      <th>George</th>\n",
              "      <td>21</td>\n",
              "      <td>Male</td>\n",
              "      <td>USA</td>\n",
              "      <td>55000</td>\n",
              "      <td>Marketing</td>\n",
              "      <td>2</td>\n",
              "      <td>Bachelor</td>\n",
              "      <td>110000</td>\n",
              "      <td>USA</td>\n",
              "    </tr>\n",
              "    <tr>\n",
              "      <th>Helen</th>\n",
              "      <td>45</td>\n",
              "      <td>Female</td>\n",
              "      <td>Australia</td>\n",
              "      <td>100000</td>\n",
              "      <td>IT</td>\n",
              "      <td>22</td>\n",
              "      <td>PhD</td>\n",
              "      <td>2200000</td>\n",
              "      <td>AUSTRALIA</td>\n",
              "    </tr>\n",
              "    <tr>\n",
              "      <th>Irene</th>\n",
              "      <td>28</td>\n",
              "      <td>Female</td>\n",
              "      <td>UK</td>\n",
              "      <td>65000</td>\n",
              "      <td>HR</td>\n",
              "      <td>5</td>\n",
              "      <td>Bachelor</td>\n",
              "      <td>325000</td>\n",
              "      <td>UK</td>\n",
              "    </tr>\n",
              "    <tr>\n",
              "      <th>Jack</th>\n",
              "      <td>33</td>\n",
              "      <td>Male</td>\n",
              "      <td>USA</td>\n",
              "      <td>70000</td>\n",
              "      <td>Finance</td>\n",
              "      <td>7</td>\n",
              "      <td>Master</td>\n",
              "      <td>490000</td>\n",
              "      <td>USA</td>\n",
              "    </tr>\n",
              "  </tbody>\n",
              "</table>\n",
              "</div>"
            ],
            "text/plain": [
              "        Age  Gender    Country  Salary Department  Years of Experience  \\\n",
              "Name                                                                     \n",
              "Alice    25  Female        USA   50000  Marketing                    3   \n",
              "Bob      32    Male     Canada   75000    Finance                    8   \n",
              "David    47    Male  Australia   90000         IT                   18   \n",
              "Emily    29  Female         UK   60000         IT                    6   \n",
              "Frank    36    Male     Canada   80000         HR                   10   \n",
              "George   21    Male        USA   55000  Marketing                    2   \n",
              "Helen    45  Female  Australia  100000         IT                   22   \n",
              "Irene    28  Female         UK   65000         HR                    5   \n",
              "Jack     33    Male        USA   70000    Finance                    7   \n",
              "\n",
              "       Education Level  Total_Income Capital_Name  \n",
              "Name                                               \n",
              "Alice         Bachelor        150000          USA  \n",
              "Bob             Master        600000       CANADA  \n",
              "David              PhD       1620000    AUSTRALIA  \n",
              "Emily         Bachelor        360000           UK  \n",
              "Frank           Master        800000       CANADA  \n",
              "George        Bachelor        110000          USA  \n",
              "Helen              PhD       2200000    AUSTRALIA  \n",
              "Irene         Bachelor        325000           UK  \n",
              "Jack            Master        490000          USA  "
            ]
          },
          "execution_count": 56,
          "metadata": {},
          "output_type": "execute_result"
        }
      ],
      "source": [
        "df[df['Age']>20] #rows where age greater than 20"
      ]
    },
    {
      "cell_type": "code",
      "execution_count": null,
      "id": "a97aef0e",
      "metadata": {
        "id": "a97aef0e"
      },
      "outputs": [],
      "source": [
        "df[(df['Age']>20) & (df['Age']<30)] #between"
      ]
    },
    {
      "cell_type": "code",
      "execution_count": null,
      "id": "6c6f11a0",
      "metadata": {
        "id": "6c6f11a0"
      },
      "outputs": [],
      "source": [
        "df.sort_values('Age') #sort values also add ascending"
      ]
    },
    {
      "cell_type": "code",
      "execution_count": null,
      "id": "f1d733e4",
      "metadata": {
        "id": "f1d733e4"
      },
      "outputs": [],
      "source": [
        "df.groupby('Gender') #create groupby object for values "
      ]
    },
    {
      "cell_type": "code",
      "execution_count": null,
      "id": "101a6c68",
      "metadata": {
        "id": "101a6c68"
      },
      "outputs": [],
      "source": [
        "df.groupby('Gender'),['Country'] #for multiple"
      ]
    },
    {
      "cell_type": "markdown",
      "id": "4e0169b0",
      "metadata": {
        "id": "4e0169b0"
      },
      "source": [
        "Statistical"
      ]
    },
    {
      "cell_type": "code",
      "execution_count": null,
      "id": "01b4c28e",
      "metadata": {
        "id": "01b4c28e"
      },
      "outputs": [],
      "source": [
        "df.describe()"
      ]
    },
    {
      "cell_type": "code",
      "execution_count": null,
      "id": "c34a2550",
      "metadata": {
        "id": "c34a2550"
      },
      "outputs": [],
      "source": [
        "df.mean()"
      ]
    },
    {
      "cell_type": "code",
      "execution_count": null,
      "id": "19ee458d",
      "metadata": {
        "id": "19ee458d"
      },
      "outputs": [],
      "source": [
        "df.corr()"
      ]
    },
    {
      "cell_type": "code",
      "execution_count": null,
      "id": "3c6778f2",
      "metadata": {
        "id": "3c6778f2"
      },
      "outputs": [],
      "source": [
        "df.count()"
      ]
    },
    {
      "cell_type": "code",
      "execution_count": null,
      "id": "798fa77f",
      "metadata": {
        "id": "798fa77f"
      },
      "outputs": [],
      "source": [
        "df.max()"
      ]
    },
    {
      "cell_type": "code",
      "execution_count": null,
      "id": "1b1109f6",
      "metadata": {
        "id": "1b1109f6"
      },
      "outputs": [],
      "source": [
        "df.min()"
      ]
    },
    {
      "cell_type": "code",
      "execution_count": null,
      "id": "9ef54765",
      "metadata": {
        "id": "9ef54765"
      },
      "outputs": [],
      "source": [
        "df.median()"
      ]
    },
    {
      "cell_type": "code",
      "execution_count": null,
      "id": "ed3c5294",
      "metadata": {
        "id": "ed3c5294"
      },
      "outputs": [],
      "source": [
        "df.std()"
      ]
    },
    {
      "cell_type": "code",
      "execution_count": null,
      "id": "f7ed8428",
      "metadata": {
        "id": "f7ed8428"
      },
      "outputs": [],
      "source": []
    },
    {
      "cell_type": "code",
      "execution_count": null,
      "metadata": {
        "id": "27f763f8"
      },
      "outputs": [],
      "source": [
        "import numpy as np"
      ],
      "id": "27f763f8"
    },
    {
      "cell_type": "code",
      "execution_count": null,
      "metadata": {
        "id": "7d8de47f"
      },
      "outputs": [],
      "source": [
        "lst=[1,2,3,4]  #convert list to array\n",
        "arr=np.array(lst)                   #here is 1D array bcoz single bracket, for 2D double bracket [[]]"
      ],
      "id": "7d8de47f"
    },
    {
      "cell_type": "code",
      "execution_count": null,
      "metadata": {
        "id": "fd9001fe"
      },
      "outputs": [],
      "source": [],
      "id": "fd9001fe"
    },
    {
      "cell_type": "code",
      "execution_count": null,
      "metadata": {
        "id": "610fbfb2",
        "outputId": "3ac5a36e-305b-42b2-e17c-0683891fd4b3"
      },
      "outputs": [
        {
          "data": {
            "text/plain": [
              "numpy.ndarray"
            ]
          },
          "execution_count": 5,
          "metadata": {},
          "output_type": "execute_result"
        }
      ],
      "source": [
        "type(arr)"
      ],
      "id": "610fbfb2"
    },
    {
      "cell_type": "code",
      "execution_count": null,
      "metadata": {
        "id": "9614f081",
        "outputId": "231ba29c-09bf-4a3f-f8b4-19126f012646"
      },
      "outputs": [
        {
          "data": {
            "text/plain": [
              "(4,)"
            ]
          },
          "execution_count": 10,
          "metadata": {},
          "output_type": "execute_result"
        }
      ],
      "source": [
        "arr.shape"
      ],
      "id": "9614f081"
    },
    {
      "cell_type": "code",
      "execution_count": null,
      "metadata": {
        "id": "4709d287",
        "outputId": "086185da-851e-40a5-a0a0-23d392e1fc89"
      },
      "outputs": [
        {
          "data": {
            "text/plain": [
              "array([[1, 2, 3, 4, 5, 6],\n",
              "       [1, 2, 4, 5, 6, 7],\n",
              "       [1, 5, 4, 6, 7, 8]])"
            ]
          },
          "execution_count": 13,
          "metadata": {},
          "output_type": "execute_result"
        }
      ],
      "source": [
        "#2D array\n",
        "\n",
        "lis1=[1,2,3,4,5,6]\n",
        "lis2=[1,2,4,5,6,7]\n",
        "lis3=[1,5,4,6,7,8]\n",
        "\n",
        "arr1=np.array([lis1,lis2,lis3])\n",
        "arr1"
      ],
      "id": "4709d287"
    },
    {
      "cell_type": "code",
      "execution_count": null,
      "metadata": {
        "id": "bcef02d2",
        "outputId": "b6f8618c-3141-4507-e816-ef2d9e671a31"
      },
      "outputs": [
        {
          "data": {
            "text/plain": [
              "(3, 6)"
            ]
          },
          "execution_count": 15,
          "metadata": {},
          "output_type": "execute_result"
        }
      ],
      "source": [
        "arr1.shape"
      ],
      "id": "bcef02d2"
    },
    {
      "cell_type": "code",
      "execution_count": null,
      "metadata": {
        "id": "1c511784",
        "outputId": "6d1111bb-9a3b-4313-daef-1c057f0af162"
      },
      "outputs": [
        {
          "data": {
            "text/plain": [
              "array([1, 2, 3, 4])"
            ]
          },
          "execution_count": 16,
          "metadata": {},
          "output_type": "execute_result"
        }
      ],
      "source": [
        "arr"
      ],
      "id": "1c511784"
    },
    {
      "cell_type": "code",
      "execution_count": null,
      "metadata": {
        "id": "71f1dbf4",
        "outputId": "95d40c2d-b8ba-4efa-d9a9-074df8b5ab55"
      },
      "outputs": [
        {
          "data": {
            "text/plain": [
              "4"
            ]
          },
          "execution_count": 17,
          "metadata": {},
          "output_type": "execute_result"
        }
      ],
      "source": [
        "#indexing\n",
        "\n",
        "arr[3]"
      ],
      "id": "71f1dbf4"
    },
    {
      "cell_type": "code",
      "execution_count": null,
      "metadata": {
        "id": "b7a6a0b3",
        "outputId": "92c00ee1-09e5-4841-eb18-c8778a4ae582"
      },
      "outputs": [
        {
          "data": {
            "text/plain": [
              "array([2, 3])"
            ]
          },
          "execution_count": 19,
          "metadata": {},
          "output_type": "execute_result"
        }
      ],
      "source": [
        "arr[1:3]"
      ],
      "id": "b7a6a0b3"
    },
    {
      "cell_type": "code",
      "execution_count": null,
      "metadata": {
        "id": "59d1088c",
        "outputId": "d8ff8d28-8125-410e-c6f4-8a1449ca9822"
      },
      "outputs": [
        {
          "data": {
            "text/plain": [
              "array([4, 3, 2, 1])"
            ]
          },
          "execution_count": 21,
          "metadata": {},
          "output_type": "execute_result"
        }
      ],
      "source": [
        "arr[::-1] #reverse"
      ],
      "id": "59d1088c"
    },
    {
      "cell_type": "code",
      "execution_count": null,
      "metadata": {
        "id": "ef23c623",
        "outputId": "0ce7bc3d-523b-476c-cc10-f20cbef5cc57"
      },
      "outputs": [
        {
          "data": {
            "text/plain": [
              "array([2, 2, 5])"
            ]
          },
          "execution_count": 22,
          "metadata": {},
          "output_type": "execute_result"
        }
      ],
      "source": [
        "#multidiamentional indexing [row:column]\n",
        "arr1[:,1]   "
      ],
      "id": "ef23c623"
    },
    {
      "cell_type": "code",
      "execution_count": null,
      "metadata": {
        "id": "1876ff8f",
        "outputId": "ab81aa42-58d9-4da1-98f1-5e367d39a9e1"
      },
      "outputs": [
        {
          "data": {
            "text/plain": [
              "array([[2, 4],\n",
              "       [5, 4]])"
            ]
          },
          "execution_count": 24,
          "metadata": {},
          "output_type": "execute_result"
        }
      ],
      "source": [
        "arr1[1:3,1:3]"
      ],
      "id": "1876ff8f"
    },
    {
      "cell_type": "code",
      "execution_count": null,
      "metadata": {
        "id": "3871b26d"
      },
      "outputs": [],
      "source": [
        "#EDA\n"
      ],
      "id": "3871b26d"
    },
    {
      "cell_type": "code",
      "execution_count": null,
      "metadata": {
        "id": "2612dfb0",
        "outputId": "0095ad0f-ffdd-4a8d-a1c5-94e98b5ed380"
      },
      "outputs": [
        {
          "data": {
            "text/plain": [
              "array([1, 2, 3, 4])"
            ]
          },
          "execution_count": 25,
          "metadata": {},
          "output_type": "execute_result"
        }
      ],
      "source": [
        "arr"
      ],
      "id": "2612dfb0"
    },
    {
      "cell_type": "code",
      "execution_count": null,
      "metadata": {
        "id": "c47cde86",
        "outputId": "de10a8b3-0fe3-4c05-bb66-d2c387758fff"
      },
      "outputs": [
        {
          "data": {
            "text/plain": [
              "array([ True, False, False, False])"
            ]
          },
          "execution_count": 29,
          "metadata": {},
          "output_type": "execute_result"
        }
      ],
      "source": [
        "arr[arr<2]"
      ],
      "id": "c47cde86"
    },
    {
      "cell_type": "code",
      "execution_count": null,
      "metadata": {
        "id": "85b95f9f",
        "outputId": "a310fbde-7781-479c-fb07-e49eb9ecc487"
      },
      "outputs": [
        {
          "data": {
            "text/plain": [
              "array([[1, 2, 3, 4, 5, 6],\n",
              "       [1, 2, 4, 5, 6, 7],\n",
              "       [1, 5, 4, 6, 7, 8]])"
            ]
          },
          "execution_count": 30,
          "metadata": {},
          "output_type": "execute_result"
        }
      ],
      "source": [
        "arr1"
      ],
      "id": "85b95f9f"
    },
    {
      "cell_type": "code",
      "execution_count": null,
      "metadata": {
        "id": "168bf343",
        "outputId": "ec5161af-701c-4887-8b2a-a1db701fe33c"
      },
      "outputs": [
        {
          "data": {
            "text/plain": [
              "array([[1, 2],\n",
              "       [3, 4],\n",
              "       [5, 6],\n",
              "       [1, 2],\n",
              "       [4, 5],\n",
              "       [6, 7],\n",
              "       [1, 5],\n",
              "       [4, 6],\n",
              "       [7, 8]])"
            ]
          },
          "execution_count": 34,
          "metadata": {},
          "output_type": "execute_result"
        }
      ],
      "source": [
        "arr1.reshape(9,2)  #must match total elements with original"
      ],
      "id": "168bf343"
    },
    {
      "cell_type": "code",
      "execution_count": null,
      "metadata": {
        "id": "4910a98d",
        "outputId": "02bc683c-abe4-42ba-9393-2c2a4b948043"
      },
      "outputs": [
        {
          "data": {
            "text/plain": [
              "array([ 1,  2,  3,  4,  5,  6,  7,  8,  9, 10])"
            ]
          },
          "execution_count": 39,
          "metadata": {},
          "output_type": "execute_result"
        }
      ],
      "source": [
        "#mechanisam to create array\n",
        "\n",
        "np.arange(1,11,1)"
      ],
      "id": "4910a98d"
    },
    {
      "cell_type": "code",
      "execution_count": null,
      "metadata": {
        "id": "5008ac9a",
        "outputId": "8da4edc8-1a16-497e-9ebd-b3cd608418a9"
      },
      "outputs": [
        {
          "data": {
            "text/plain": [
              "array([[ 1,  2],\n",
              "       [ 3,  4],\n",
              "       [ 5,  6],\n",
              "       [ 7,  8],\n",
              "       [ 9, 10]])"
            ]
          },
          "execution_count": 40,
          "metadata": {},
          "output_type": "execute_result"
        }
      ],
      "source": [
        "np.arange(1,11,1).reshape(5,2)"
      ],
      "id": "5008ac9a"
    },
    {
      "cell_type": "code",
      "execution_count": null,
      "metadata": {
        "id": "9363dfeb",
        "outputId": "8e40bbcb-cd82-43cb-9762-5729fff1fa05"
      },
      "outputs": [
        {
          "data": {
            "text/plain": [
              "array([[ 1,  4,  9, 16, 25, 36],\n",
              "       [ 1,  4, 16, 25, 36, 49],\n",
              "       [ 1, 25, 16, 36, 49, 64]])"
            ]
          },
          "execution_count": 43,
          "metadata": {},
          "output_type": "execute_result"
        }
      ],
      "source": [
        "arr1*arr1 #multiplication"
      ],
      "id": "9363dfeb"
    },
    {
      "cell_type": "code",
      "execution_count": null,
      "metadata": {
        "id": "9580b725",
        "outputId": "3775a42b-f77c-49a6-ab5d-d2c4c1161b03"
      },
      "outputs": [
        {
          "data": {
            "text/plain": [
              "array([[1., 1., 1.],\n",
              "       [1., 1., 1.],\n",
              "       [1., 1., 1.],\n",
              "       [1., 1., 1.],\n",
              "       [1., 1., 1.]])"
            ]
          },
          "execution_count": 44,
          "metadata": {},
          "output_type": "execute_result"
        }
      ],
      "source": [
        "np.ones((5,3))"
      ],
      "id": "9580b725"
    },
    {
      "cell_type": "code",
      "execution_count": null,
      "metadata": {
        "id": "5e5d281d",
        "outputId": "715d4ed7-e5e7-43ef-d220-351bc5e1feb4"
      },
      "outputs": [
        {
          "data": {
            "text/plain": [
              "array([[0., 0.],\n",
              "       [0., 0.],\n",
              "       [0., 0.]])"
            ]
          },
          "execution_count": 45,
          "metadata": {},
          "output_type": "execute_result"
        }
      ],
      "source": [
        "np.zeros((3,2))"
      ],
      "id": "5e5d281d"
    },
    {
      "cell_type": "code",
      "execution_count": null,
      "metadata": {
        "id": "aa2e982e",
        "outputId": "80b74273-daf0-41c4-b7ee-b8d5e7244cda"
      },
      "outputs": [
        {
          "data": {
            "text/plain": [
              "38"
            ]
          },
          "execution_count": 48,
          "metadata": {},
          "output_type": "execute_result"
        }
      ],
      "source": [
        "np.random.randint(20,63)"
      ],
      "id": "aa2e982e"
    },
    {
      "cell_type": "code",
      "execution_count": null,
      "metadata": {
        "id": "f0ad215a",
        "outputId": "967c9bed-d510-4466-aa6a-050e1cb23c15"
      },
      "outputs": [
        {
          "data": {
            "text/plain": [
              "array([41, 42, 42, 20])"
            ]
          },
          "execution_count": 49,
          "metadata": {},
          "output_type": "execute_result"
        }
      ],
      "source": [
        "np.random.randint(20,63,4)"
      ],
      "id": "f0ad215a"
    },
    {
      "cell_type": "code",
      "execution_count": null,
      "metadata": {
        "id": "b9e6fd10",
        "outputId": "54e9374c-630a-46e0-941d-f70b7ceb11f6"
      },
      "outputs": [
        {
          "data": {
            "text/plain": [
              "array([[21, 40],\n",
              "       [38, 32]])"
            ]
          },
          "execution_count": 51,
          "metadata": {},
          "output_type": "execute_result"
        }
      ],
      "source": [
        "np.random.randint(20,63,4).reshape(2,2)"
      ],
      "id": "b9e6fd10"
    },
    {
      "cell_type": "code",
      "execution_count": null,
      "metadata": {
        "id": "82dca032",
        "outputId": "a1298ba8-bcd3-4453-9b01-59a284bf4dbb"
      },
      "outputs": [
        {
          "name": "stdout",
          "output_type": "stream",
          "text": [
            "[3 4 5 6]\n"
          ]
        }
      ],
      "source": [
        "#elementwise operation\n",
        "a = np.array([1, 2, 3, 4])\n",
        "b = np.array([2, 2, 2, 2])\n",
        "print(a + b) # [3, 4, 5, 6]"
      ],
      "id": "82dca032"
    },
    {
      "cell_type": "code",
      "execution_count": null,
      "metadata": {
        "id": "267edd8c",
        "outputId": "465042cc-1ce8-45f3-c336-6d277beec494"
      },
      "outputs": [
        {
          "name": "stdout",
          "output_type": "stream",
          "text": [
            "[[19 22]\n",
            " [43 50]]\n"
          ]
        }
      ],
      "source": [
        "#martix operation\n",
        "a = np.array([[1, 2], [3, 4]])\n",
        "b = np.array([[5, 6], [7, 8]])\n",
        "print(np.dot(a, b)) # [[19, 22], [43, 50]]"
      ],
      "id": "267edd8c"
    },
    {
      "cell_type": "code",
      "execution_count": null,
      "metadata": {
        "id": "b333df56",
        "outputId": "f7001470-1a17-4ae3-b295-435973f5e798"
      },
      "outputs": [
        {
          "name": "stdout",
          "output_type": "stream",
          "text": [
            "[1 2 3 4 5 6]\n"
          ]
        }
      ],
      "source": [
        "#concanetate numpy array\n",
        "a = np.array([1, 2, 3])\n",
        "b = np.array([4, 5, 6])\n",
        "c = np.concatenate((a, b))\n",
        "print(c) # [1, 2, 3, 4, 5, 6]"
      ],
      "id": "b333df56"
    },
    {
      "cell_type": "code",
      "execution_count": null,
      "metadata": {
        "id": "bfcbd901",
        "outputId": "66d5b8af-e627-49c9-f700-c4458a0b2091"
      },
      "outputs": [
        {
          "name": "stdout",
          "output_type": "stream",
          "text": [
            "[1 2 3 4]\n"
          ]
        }
      ],
      "source": [
        "#sort array\n",
        "a = np.array([3, 1, 4, 2])\n",
        "print(np.sort(a)) # [1, 2, 3, 4]"
      ],
      "id": "bfcbd901"
    },
    {
      "cell_type": "code",
      "execution_count": null,
      "metadata": {
        "id": "a73bf3b7",
        "outputId": "b5c4dbae-8621-4249-e2e8-8e2cf13c54c8"
      },
      "outputs": [
        {
          "name": "stdout",
          "output_type": "stream",
          "text": [
            "2.5\n",
            "1.118033988749895\n"
          ]
        }
      ],
      "source": [
        "#calculate mean of array\n",
        "a = np.array([1, 2, 3, 4])\n",
        "print(np.mean(a)) # 2.5\n",
        "print(np.std(a)) # 1.118033988749895"
      ],
      "id": "a73bf3b7"
    },
    {
      "cell_type": "code",
      "execution_count": null,
      "metadata": {
        "id": "270c54a9",
        "outputId": "1a6eb039-538f-4f74-cc90-5e692bd81055"
      },
      "outputs": [
        {
          "name": "stdout",
          "output_type": "stream",
          "text": [
            "4\n",
            "1\n"
          ]
        }
      ],
      "source": [
        "#max & min values in araay\n",
        "a = np.array([1, 2, 3, 4])\n",
        "print(np.max(a)) # 4\n",
        "print(np.min(a)) # 1"
      ],
      "id": "270c54a9"
    },
    {
      "cell_type": "code",
      "execution_count": null,
      "metadata": {
        "id": "661b9410",
        "outputId": "a0986ff1-f2e8-4826-cb5b-f1c77633b961"
      },
      "outputs": [
        {
          "name": "stdout",
          "output_type": "stream",
          "text": [
            "[[[[[1 2 3 4 5]]]]]\n"
          ]
        }
      ],
      "source": [
        "import numpy as np\n",
        "a = np.array([1, 2, 3,4,5], ndmin = 5)\n",
        "print (a)"
      ],
      "id": "661b9410"
    },
    {
      "cell_type": "code",
      "execution_count": null,
      "metadata": {
        "id": "d35274fb",
        "outputId": "b769273c-c50b-4225-a8c7-b8bf2a49491d"
      },
      "outputs": [
        {
          "name": "stdout",
          "output_type": "stream",
          "text": [
            "[10 20 30]\n"
          ]
        }
      ],
      "source": [
        "dt = np.dtype([('age',np.int8)])\n",
        "a = np.array([(10,),(20,),(30,)], dtype = dt)\n",
        "print (a['age'])"
      ],
      "id": "d35274fb"
    }
  ],
  "metadata": {
    "kernelspec": {
      "display_name": "Python 3 (ipykernel)",
      "language": "python",
      "name": "python3"
    },
    "language_info": {
      "codemirror_mode": {
        "name": "ipython",
        "version": 3
      },
      "file_extension": ".py",
      "mimetype": "text/x-python",
      "name": "python",
      "nbconvert_exporter": "python",
      "pygments_lexer": "ipython3",
      "version": "3.9.13"
    },
    "colab": {
      "provenance": [],
      "include_colab_link": true
    }
  },
  "nbformat": 4,
  "nbformat_minor": 5
}