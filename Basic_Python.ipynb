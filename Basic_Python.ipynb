{
  "cells": [
    {
      "cell_type": "markdown",
      "metadata": {
        "id": "view-in-github",
        "colab_type": "text"
      },
      "source": [
        "<a href=\"https://colab.research.google.com/github/Ranjitghadge/Python-Practice/blob/main/Basic_Python.ipynb\" target=\"_parent\"><img src=\"https://colab.research.google.com/assets/colab-badge.svg\" alt=\"Open In Colab\"/></a>"
      ]
    },
    {
      "cell_type": "code",
      "execution_count": null,
      "id": "917cd579",
      "metadata": {
        "id": "917cd579",
        "outputId": "e2e3a855-4ed5-488a-98db-9fdd37f5f323"
      },
      "outputs": [
        {
          "data": {
            "text/plain": [
              "float"
            ]
          },
          "execution_count": 1,
          "metadata": {},
          "output_type": "execute_result"
        }
      ],
      "source": [
        "type(5.1)"
      ]
    },
    {
      "cell_type": "code",
      "execution_count": null,
      "id": "ae334253",
      "metadata": {
        "id": "ae334253",
        "outputId": "8ac09312-c0a7-4df2-ad33-e172aea55536"
      },
      "outputs": [
        {
          "data": {
            "text/plain": [
              "5"
            ]
          },
          "execution_count": 2,
          "metadata": {},
          "output_type": "execute_result"
        }
      ],
      "source": [
        "int(5.1245)"
      ]
    },
    {
      "cell_type": "code",
      "execution_count": null,
      "id": "fafded57",
      "metadata": {
        "id": "fafded57",
        "outputId": "9da9b550-2a3e-4fa1-8986-6af9e074f0d7"
      },
      "outputs": [
        {
          "data": {
            "text/plain": [
              "True"
            ]
          },
          "execution_count": 8,
          "metadata": {},
          "output_type": "execute_result"
        }
      ],
      "source": [
        "bool(-15884)"
      ]
    },
    {
      "cell_type": "code",
      "execution_count": null,
      "id": "9468d732",
      "metadata": {
        "id": "9468d732",
        "outputId": "e0d73d19-a2e7-478b-85da-8b21b1901745"
      },
      "outputs": [
        {
          "data": {
            "text/plain": [
              "'scient'"
            ]
          },
          "execution_count": 17,
          "metadata": {},
          "output_type": "execute_result"
        }
      ],
      "source": [
        "a='I am a data scientist'\n",
        "a[-9:-3]"
      ]
    },
    {
      "cell_type": "code",
      "execution_count": null,
      "id": "45c5b856",
      "metadata": {
        "id": "45c5b856",
        "outputId": "05aeedb5-8446-455e-d3e6-825688d6745b"
      },
      "outputs": [
        {
          "data": {
            "text/plain": [
              "21"
            ]
          },
          "execution_count": 18,
          "metadata": {},
          "output_type": "execute_result"
        }
      ],
      "source": [
        "#len of string\n",
        "len(a)"
      ]
    },
    {
      "cell_type": "code",
      "execution_count": null,
      "id": "fcbb99c4",
      "metadata": {
        "id": "fcbb99c4",
        "outputId": "c33d2ae4-418d-4fc1-ce64-bcbccaafdd6f"
      },
      "outputs": [
        {
          "data": {
            "text/plain": [
              "'I am a data TcientiTt'"
            ]
          },
          "execution_count": 19,
          "metadata": {},
          "output_type": "execute_result"
        }
      ],
      "source": [
        "#for replace\n",
        "a.replace(\"s\",\"T\")"
      ]
    },
    {
      "cell_type": "code",
      "execution_count": null,
      "id": "d5833bfb",
      "metadata": {
        "id": "d5833bfb",
        "outputId": "98f0be41-3904-4437-c3cd-4154f192ea11"
      },
      "outputs": [
        {
          "data": {
            "text/plain": [
              "['I', 'am', 'a', 'data', 'scientist']"
            ]
          },
          "execution_count": 21,
          "metadata": {},
          "output_type": "execute_result"
        }
      ],
      "source": [
        "#create list of string\n",
        "a.split()"
      ]
    },
    {
      "cell_type": "code",
      "execution_count": null,
      "id": "fec46d77",
      "metadata": {
        "id": "fec46d77",
        "outputId": "bfa5e9f6-6684-4069-b2df-11b7b63e6aa4"
      },
      "outputs": [
        {
          "data": {
            "text/plain": [
              "'i am a data scientist'"
            ]
          },
          "execution_count": 23,
          "metadata": {},
          "output_type": "execute_result"
        }
      ],
      "source": [
        "a.lower()"
      ]
    },
    {
      "cell_type": "code",
      "execution_count": null,
      "id": "d89454fa",
      "metadata": {
        "id": "d89454fa",
        "outputId": "34e47448-d71d-4c21-daa0-03b88b7a71e9"
      },
      "outputs": [
        {
          "data": {
            "text/plain": [
              "'I AM A DATA SCIENTIST'"
            ]
          },
          "execution_count": 24,
          "metadata": {},
          "output_type": "execute_result"
        }
      ],
      "source": [
        "a.upper()"
      ]
    },
    {
      "cell_type": "code",
      "execution_count": null,
      "id": "f8c217e9",
      "metadata": {
        "id": "f8c217e9",
        "outputId": "872faa70-c275-49b4-f1f4-839c97f9e245"
      },
      "outputs": [
        {
          "data": {
            "text/plain": [
              "'I Am A Data Scientist'"
            ]
          },
          "execution_count": 27,
          "metadata": {},
          "output_type": "execute_result"
        }
      ],
      "source": [
        "a.title() #make 1st letter capital"
      ]
    },
    {
      "cell_type": "code",
      "execution_count": null,
      "id": "168f9f21",
      "metadata": {
        "id": "168f9f21",
        "outputId": "2568eb3f-a587-49aa-e782-c1915e9047d9"
      },
      "outputs": [
        {
          "data": {
            "text/plain": [
              "'I am '"
            ]
          },
          "execution_count": 28,
          "metadata": {},
          "output_type": "execute_result"
        }
      ],
      "source": [
        "a[:5] #return 1st five characters"
      ]
    },
    {
      "cell_type": "markdown",
      "id": "02f35638",
      "metadata": {
        "id": "02f35638"
      },
      "source": [
        "# List"
      ]
    },
    {
      "cell_type": "code",
      "execution_count": null,
      "id": "f547da95",
      "metadata": {
        "id": "f547da95"
      },
      "outputs": [],
      "source": [
        "bikes=['trek','redline','giant']"
      ]
    },
    {
      "cell_type": "code",
      "execution_count": null,
      "id": "06c1aeeb",
      "metadata": {
        "id": "06c1aeeb",
        "outputId": "485c9b46-a874-41b8-8d02-dc566c803cda"
      },
      "outputs": [
        {
          "data": {
            "text/plain": [
              "'trek'"
            ]
          },
          "execution_count": 31,
          "metadata": {},
          "output_type": "execute_result"
        }
      ],
      "source": [
        "#get 1st item\n",
        "bikes[0]"
      ]
    },
    {
      "cell_type": "code",
      "execution_count": null,
      "id": "72fe0de8",
      "metadata": {
        "id": "72fe0de8",
        "outputId": "5518d170-3ee6-4502-ebaa-89c400b6be12"
      },
      "outputs": [
        {
          "data": {
            "text/plain": [
              "'giant'"
            ]
          },
          "execution_count": 32,
          "metadata": {},
          "output_type": "execute_result"
        }
      ],
      "source": [
        "#last item\n",
        "bikes[-1]"
      ]
    },
    {
      "cell_type": "code",
      "execution_count": null,
      "id": "8306c888",
      "metadata": {
        "id": "8306c888",
        "outputId": "61ad1937-59c1-43b5-90e7-463761cf3e39"
      },
      "outputs": [
        {
          "name": "stdout",
          "output_type": "stream",
          "text": [
            "trek\n",
            "redline\n",
            "giant\n"
          ]
        }
      ],
      "source": [
        "for i in bikes:\n",
        "    print(i)"
      ]
    },
    {
      "cell_type": "code",
      "execution_count": null,
      "id": "3383c0b5",
      "metadata": {
        "id": "3383c0b5",
        "outputId": "214c6c15-402e-4097-bb99-fdf66dce0a1d"
      },
      "outputs": [
        {
          "name": "stdout",
          "output_type": "stream",
          "text": [
            "['trek', 'redline', 'giant', 'splendor']\n"
          ]
        }
      ],
      "source": [
        "bikes=['trek','redline','giant']\n",
        "bikes.append('splendor')\n",
        "print(bikes)"
      ]
    },
    {
      "cell_type": "code",
      "execution_count": null,
      "id": "4b3f7600",
      "metadata": {
        "id": "4b3f7600",
        "outputId": "ba635fee-1fe5-45e6-fb97-41740e370d1b"
      },
      "outputs": [
        {
          "name": "stdout",
          "output_type": "stream",
          "text": [
            "[0, 1, 8, 27, 64, 125, 216, 343, 512, 729, 1000]\n"
          ]
        }
      ],
      "source": [
        "cubes=[]\n",
        "\n",
        "for i in range(0,11):\n",
        "    cubes.append(i**3)\n",
        "print(cubes)"
      ]
    },
    {
      "cell_type": "code",
      "execution_count": null,
      "id": "7aaf53ff",
      "metadata": {
        "id": "7aaf53ff",
        "outputId": "f6570e1a-ce40-4a5b-b5bd-0fbc4e502edb"
      },
      "outputs": [
        {
          "name": "stdout",
          "output_type": "stream",
          "text": [
            "[1]\n",
            "[1, 2]\n",
            "[1, 2, 3]\n",
            "[1, 2, 3, 4]\n",
            "[1, 2, 3, 4, 5]\n",
            "[1, 2, 3, 4, 5, 6]\n",
            "[1, 2, 3, 4, 5, 6, 7]\n",
            "[1, 2, 3, 4, 5, 6, 7, 8]\n",
            "[1, 2, 3, 4, 5, 6, 7, 8, 9]\n",
            "[1, 2, 3, 4, 5, 6, 7, 8, 9, 10]\n",
            "[1, 2, 3, 4, 5, 6, 7, 8, 9, 10, 11]\n"
          ]
        }
      ],
      "source": [
        "cubes=[]\n",
        "\n",
        "for i in range(0,11):\n",
        "    cubes.append(i+1)\n",
        "    print(cubes)"
      ]
    },
    {
      "cell_type": "code",
      "execution_count": null,
      "id": "f78732d5",
      "metadata": {
        "id": "f78732d5"
      },
      "outputs": [],
      "source": [
        "cubes=0\n",
        "\n",
        "for i in range(0,11):\n",
        "    cubes=(i+1)\n",
        "    print(cubes)"
      ]
    },
    {
      "cell_type": "code",
      "execution_count": null,
      "id": "8bba76e3",
      "metadata": {
        "id": "8bba76e3",
        "outputId": "fc15ff7a-6e33-491a-a7f6-b08ad23e3527"
      },
      "outputs": [
        {
          "name": "stdout",
          "output_type": "stream",
          "text": [
            "[0, 1, 8, 27, 64, 125, 216, 343, 512, 729, 1000]\n"
          ]
        }
      ],
      "source": [
        "#list comprehension\n",
        "cubes=[i**3 for i in range(0,11)]\n",
        "print(cubes)\n"
      ]
    },
    {
      "cell_type": "code",
      "execution_count": null,
      "id": "7a2d0e62",
      "metadata": {
        "id": "7a2d0e62",
        "outputId": "aaf2890a-4f8e-4daf-c0ee-76a52aaff13e"
      },
      "outputs": [
        {
          "data": {
            "text/plain": [
              "[0, 1]"
            ]
          },
          "execution_count": 58,
          "metadata": {},
          "output_type": "execute_result"
        }
      ],
      "source": [
        "cubes\n",
        "cubes[:2]  #slicing of list "
      ]
    },
    {
      "cell_type": "code",
      "execution_count": null,
      "id": "98e94f1d",
      "metadata": {
        "id": "98e94f1d",
        "outputId": "669dff07-1c99-491c-cc2e-46be51913f46"
      },
      "outputs": [
        {
          "data": {
            "text/plain": [
              "0"
            ]
          },
          "execution_count": 59,
          "metadata": {},
          "output_type": "execute_result"
        }
      ],
      "source": [
        "cubes[0]   #returning 1st value of list"
      ]
    },
    {
      "cell_type": "code",
      "execution_count": null,
      "id": "8aef0dff",
      "metadata": {
        "id": "8aef0dff",
        "outputId": "147a4759-4d16-4edd-cbd6-d61596a092af"
      },
      "outputs": [
        {
          "data": {
            "text/plain": [
              "[1, 5, 1, 4, 7, 8, 9, 6, 1, 12]"
            ]
          },
          "execution_count": 71,
          "metadata": {},
          "output_type": "execute_result"
        }
      ],
      "source": [
        "list=[1,5,1,4,7,8,9,6,1,12]\n",
        "list"
      ]
    },
    {
      "cell_type": "code",
      "execution_count": null,
      "id": "52420f5e",
      "metadata": {
        "id": "52420f5e",
        "outputId": "9bc121d8-6f20-4c7e-8375-bf1a60cc2f9d"
      },
      "outputs": [
        {
          "ename": "TypeError",
          "evalue": "'int' object is not callable",
          "output_type": "error",
          "traceback": [
            "\u001b[1;31m---------------------------------------------------------------------------\u001b[0m",
            "\u001b[1;31mTypeError\u001b[0m                                 Traceback (most recent call last)",
            "\u001b[1;32m~\\AppData\\Local\\Temp\\ipykernel_139588\\3208674171.py\u001b[0m in \u001b[0;36m<module>\u001b[1;34m\u001b[0m\n\u001b[0;32m      1\u001b[0m \u001b[0ml\u001b[0m\u001b[1;33m=\u001b[0m\u001b[1;33m[\u001b[0m\u001b[1;36m1\u001b[0m\u001b[1;33m,\u001b[0m\u001b[1;36m5\u001b[0m\u001b[1;33m,\u001b[0m\u001b[1;36m1\u001b[0m\u001b[1;33m,\u001b[0m\u001b[1;36m4\u001b[0m\u001b[1;33m,\u001b[0m\u001b[1;36m7\u001b[0m\u001b[1;33m,\u001b[0m\u001b[1;36m8\u001b[0m\u001b[1;33m,\u001b[0m\u001b[1;36m9\u001b[0m\u001b[1;33m,\u001b[0m\u001b[1;36m6\u001b[0m\u001b[1;33m,\u001b[0m\u001b[1;36m1\u001b[0m\u001b[1;33m,\u001b[0m\u001b[1;36m12\u001b[0m\u001b[1;33m]\u001b[0m\u001b[1;33m\u001b[0m\u001b[1;33m\u001b[0m\u001b[0m\n\u001b[1;32m----> 2\u001b[1;33m \u001b[0ms\u001b[0m\u001b[1;33m=\u001b[0m\u001b[0msum\u001b[0m\u001b[1;33m(\u001b[0m\u001b[0ml\u001b[0m\u001b[1;33m)\u001b[0m\u001b[1;33m\u001b[0m\u001b[1;33m\u001b[0m\u001b[0m\n\u001b[0m\u001b[0;32m      3\u001b[0m \u001b[0mprint\u001b[0m\u001b[1;33m(\u001b[0m\u001b[0ms\u001b[0m\u001b[1;33m)\u001b[0m\u001b[1;33m\u001b[0m\u001b[1;33m\u001b[0m\u001b[0m\n",
            "\u001b[1;31mTypeError\u001b[0m: 'int' object is not callable"
          ]
        }
      ],
      "source": [
        "l=[1,5,1,4,7,8,9,6,1,12] #for sum of list element\n",
        "s=sum(l)\n",
        "print(s)"
      ]
    },
    {
      "cell_type": "code",
      "execution_count": null,
      "id": "c6f8987f",
      "metadata": {
        "id": "c6f8987f",
        "outputId": "9089c4ab-c5cd-4a6f-edaf-6698403e252a"
      },
      "outputs": [
        {
          "data": {
            "text/plain": [
              "1"
            ]
          },
          "execution_count": 81,
          "metadata": {},
          "output_type": "execute_result"
        }
      ],
      "source": [
        "min(l)"
      ]
    },
    {
      "cell_type": "code",
      "execution_count": null,
      "id": "d177da25",
      "metadata": {
        "id": "d177da25",
        "outputId": "2ee062d4-e5a7-425f-e99d-cd3d130ab1d5"
      },
      "outputs": [
        {
          "data": {
            "text/plain": [
              "[1, 5, 1, 4, 7, 8, 9, 6, 1, 12, 500, 500, 500]"
            ]
          },
          "execution_count": 86,
          "metadata": {},
          "output_type": "execute_result"
        }
      ],
      "source": [
        "l.append(500) #append the value in list\n",
        "l"
      ]
    },
    {
      "cell_type": "code",
      "execution_count": null,
      "id": "1fdbf27c",
      "metadata": {
        "id": "1fdbf27c",
        "outputId": "add24491-51f5-449c-c45b-502c6c5213bc"
      },
      "outputs": [
        {
          "data": {
            "text/plain": [
              "[1, 1, 1, 4, 5, 6, 7, 8, 9, 12, 500, 500, 500]"
            ]
          },
          "execution_count": 88,
          "metadata": {},
          "output_type": "execute_result"
        }
      ],
      "source": [
        "l.sort() #sort ascending\n",
        "l"
      ]
    },
    {
      "cell_type": "code",
      "execution_count": null,
      "id": "0e9a3c95",
      "metadata": {
        "id": "0e9a3c95",
        "outputId": "440c2d47-e9ef-4546-b148-5ffab6968436"
      },
      "outputs": [
        {
          "data": {
            "text/plain": [
              "[500, 500, 500, 12, 9, 8, 7, 6, 5, 4, 1, 1, 1]"
            ]
          },
          "execution_count": 89,
          "metadata": {},
          "output_type": "execute_result"
        }
      ],
      "source": [
        "l.sort(reverse=True) #sort descending\n",
        "l"
      ]
    },
    {
      "cell_type": "code",
      "execution_count": null,
      "id": "8584c196",
      "metadata": {
        "id": "8584c196",
        "outputId": "b84bfe39-2eb2-4156-e2ad-cb528109a514"
      },
      "outputs": [
        {
          "data": {
            "text/plain": [
              "'A B C D'"
            ]
          },
          "execution_count": 90,
          "metadata": {},
          "output_type": "execute_result"
        }
      ],
      "source": [
        "bikes=['trek','redline','giant'] #convert list into string\n",
        "\" \".join(['A','B','C','D'])"
      ]
    },
    {
      "cell_type": "code",
      "execution_count": null,
      "id": "2c7c2fb2",
      "metadata": {
        "id": "2c7c2fb2",
        "outputId": "f1e1fd49-1dcf-401a-dfd2-3e04e8115166"
      },
      "outputs": [
        {
          "data": {
            "text/plain": [
              "[500, 500, 500, 12, 9, 8, 7, 6, 5, 4, 1, 1, 1]"
            ]
          },
          "execution_count": 93,
          "metadata": {},
          "output_type": "execute_result"
        }
      ],
      "source": [
        "l.reverse() #reverse the list\n",
        "l"
      ]
    },
    {
      "cell_type": "code",
      "execution_count": null,
      "id": "59e6ef00",
      "metadata": {
        "id": "59e6ef00",
        "outputId": "ed7755fd-b384-4d78-b84b-c7723e8b6ba7"
      },
      "outputs": [
        {
          "data": {
            "text/plain": [
              "[5, 4]"
            ]
          },
          "execution_count": 98,
          "metadata": {},
          "output_type": "execute_result"
        }
      ],
      "source": [
        "l[-5:-3]"
      ]
    },
    {
      "cell_type": "markdown",
      "id": "5e287f01",
      "metadata": {
        "id": "5e287f01"
      },
      "source": [
        "# Tuples"
      ]
    },
    {
      "cell_type": "code",
      "execution_count": null,
      "id": "ce9a82a0",
      "metadata": {
        "id": "ce9a82a0",
        "outputId": "0bb95ed6-c828-43cb-96a9-d15431a9d8b2"
      },
      "outputs": [
        {
          "name": "stdout",
          "output_type": "stream",
          "text": [
            "('ranjit', 'ramesh', 'ghadge')\n"
          ]
        }
      ],
      "source": [
        "tuple='ranjit','ramesh','ghadge'\n",
        "print(tuple)"
      ]
    },
    {
      "cell_type": "code",
      "execution_count": null,
      "id": "e045b661",
      "metadata": {
        "id": "e045b661",
        "outputId": "62f5def2-f559-430d-bd97-cf502b4cb1d5"
      },
      "outputs": [
        {
          "data": {
            "text/plain": [
              "('ranjit', 'ramesh', 'ghadge', '25', '360', '23')"
            ]
          },
          "execution_count": 102,
          "metadata": {},
          "output_type": "execute_result"
        }
      ],
      "source": [
        "#concanetate two tuples\n",
        "tuple='ranjit','ramesh','ghadge'\n",
        "tuple2= '25','360','23'\n",
        "con=(tuple+tuple2)\n",
        "con"
      ]
    },
    {
      "cell_type": "code",
      "execution_count": null,
      "id": "94daef9b",
      "metadata": {
        "id": "94daef9b",
        "outputId": "24d9355d-8372-4039-e9d9-f741188f4f98"
      },
      "outputs": [
        {
          "name": "stdout",
          "output_type": "stream",
          "text": [
            "(4, 5, 6, 7, 8, 1)\n"
          ]
        }
      ],
      "source": [
        "#slicing of tuple\n",
        "a=(1,2,4,5,6,7,8,1,0,2,4)\n",
        "print(a[2:8])"
      ]
    },
    {
      "cell_type": "code",
      "execution_count": null,
      "id": "ccae296f",
      "metadata": {
        "id": "ccae296f",
        "outputId": "0c01361d-77f2-43c6-c67a-25f47e9cf375"
      },
      "outputs": [
        {
          "data": {
            "text/plain": [
              "(5, 6, 7, 8, 1)"
            ]
          },
          "execution_count": 105,
          "metadata": {},
          "output_type": "execute_result"
        }
      ],
      "source": [
        "a[3:8]"
      ]
    },
    {
      "cell_type": "markdown",
      "id": "80047587",
      "metadata": {
        "id": "80047587"
      },
      "source": [
        "# Dictionaries"
      ]
    },
    {
      "cell_type": "code",
      "execution_count": null,
      "id": "ef956101",
      "metadata": {
        "id": "ef956101",
        "outputId": "426bbf35-ed9f-4315-ad77-622979a85328"
      },
      "outputs": [
        {
          "name": "stdout",
          "output_type": "stream",
          "text": [
            "2\n"
          ]
        }
      ],
      "source": [
        "num={'one':1,'two':2,'three':3}\n",
        "for word,num in num.items():\n",
        "    if num%2==0:\n",
        "        print(num)"
      ]
    },
    {
      "cell_type": "code",
      "execution_count": null,
      "id": "4ae1f986",
      "metadata": {
        "id": "4ae1f986",
        "outputId": "bf3ca28d-5c0b-4258-eb61-87c1af178545"
      },
      "outputs": [
        {
          "name": "stdout",
          "output_type": "stream",
          "text": [
            "1\n",
            "2\n",
            "3\n"
          ]
        }
      ],
      "source": [
        "num={'one':1,'two':2,'three':3}\n",
        "for n in num.values():\n",
        "    print(n)"
      ]
    },
    {
      "cell_type": "code",
      "execution_count": null,
      "id": "4af567e7",
      "metadata": {
        "id": "4af567e7",
        "outputId": "5a01a57d-7e05-4f00-dde4-53581f01a7d2"
      },
      "outputs": [
        {
          "name": "stdout",
          "output_type": "stream",
          "text": [
            "one\n",
            "two\n",
            "three\n"
          ]
        }
      ],
      "source": [
        "num={'one':1,'two':2,'three':3}\n",
        "for n in num.keys():\n",
        "    print(n)"
      ]
    },
    {
      "cell_type": "code",
      "execution_count": null,
      "id": "93d43a13",
      "metadata": {
        "id": "93d43a13",
        "outputId": "a117b578-2c78-4e93-8697-79c851e5376f"
      },
      "outputs": [
        {
          "data": {
            "text/plain": [
              "dict_values([1, 2, 3])"
            ]
          },
          "execution_count": 112,
          "metadata": {},
          "output_type": "execute_result"
        }
      ],
      "source": [
        "num.values()"
      ]
    },
    {
      "cell_type": "code",
      "execution_count": null,
      "id": "696e9707",
      "metadata": {
        "id": "696e9707",
        "outputId": "c55a71f0-8b7a-478e-d4ca-1dcf0c679771"
      },
      "outputs": [
        {
          "data": {
            "text/plain": [
              "dict_keys(['one', 'two', 'three'])"
            ]
          },
          "execution_count": 113,
          "metadata": {},
          "output_type": "execute_result"
        }
      ],
      "source": [
        "num.keys()"
      ]
    },
    {
      "cell_type": "code",
      "execution_count": null,
      "id": "afbc241c",
      "metadata": {
        "id": "afbc241c",
        "outputId": "941e058f-c6d0-4209-ce52-eccb204535d7"
      },
      "outputs": [
        {
          "data": {
            "text/plain": [
              "dict_items([('one', 1), ('two', 2), ('three', 3)])"
            ]
          },
          "execution_count": 114,
          "metadata": {},
          "output_type": "execute_result"
        }
      ],
      "source": [
        "num.items()"
      ]
    },
    {
      "cell_type": "code",
      "execution_count": null,
      "id": "2504bf61",
      "metadata": {
        "id": "2504bf61",
        "outputId": "26074c36-dfce-4fc4-9d53-97ec8fc7ce84"
      },
      "outputs": [
        {
          "ename": "NameError",
          "evalue": "name 'b' is not defined",
          "output_type": "error",
          "traceback": [
            "\u001b[1;31m---------------------------------------------------------------------------\u001b[0m",
            "\u001b[1;31mNameError\u001b[0m                                 Traceback (most recent call last)",
            "\u001b[1;32m~\\AppData\\Local\\Temp\\ipykernel_139588\\2503801971.py\u001b[0m in \u001b[0;36m<module>\u001b[1;34m\u001b[0m\n\u001b[1;32m----> 1\u001b[1;33m \u001b[0ma\u001b[0m\u001b[1;33m=\u001b[0m\u001b[1;33m[\u001b[0m\u001b[0ma\u001b[0m\u001b[1;33m,\u001b[0m\u001b[0mb\u001b[0m\u001b[1;33m,\u001b[0m\u001b[0mv\u001b[0m\u001b[1;33m,\u001b[0m\u001b[0md\u001b[0m\u001b[1;33m,\u001b[0m\u001b[0mf\u001b[0m\u001b[1;33m,\u001b[0m\u001b[0mg\u001b[0m\u001b[1;33m]\u001b[0m\u001b[1;33m\u001b[0m\u001b[1;33m\u001b[0m\u001b[0m\n\u001b[0m\u001b[0;32m      2\u001b[0m \u001b[0mfirst\u001b[0m\u001b[1;33m=\u001b[0m\u001b[1;33m[\u001b[0m\u001b[0ma\u001b[0m\u001b[1;33m[\u001b[0m\u001b[1;36m0\u001b[0m\u001b[1;33m]\u001b[0m \u001b[1;32mfor\u001b[0m \u001b[0mletter\u001b[0m \u001b[1;32min\u001b[0m \u001b[0ma\u001b[0m\u001b[1;33m]\u001b[0m\u001b[1;33m\u001b[0m\u001b[1;33m\u001b[0m\u001b[0m\n\u001b[0;32m      3\u001b[0m \u001b[0mfirst\u001b[0m\u001b[1;33m\u001b[0m\u001b[1;33m\u001b[0m\u001b[0m\n",
            "\u001b[1;31mNameError\u001b[0m: name 'b' is not defined"
          ]
        }
      ],
      "source": [
        "a=[a,b,v,d,f,g]\n",
        "first=[a[0] for letter in a]\n",
        "first"
      ]
    },
    {
      "cell_type": "code",
      "execution_count": null,
      "id": "d7d3e3fa",
      "metadata": {
        "id": "d7d3e3fa",
        "outputId": "3c72e7aa-7983-4ab9-8030-4df3069159bb"
      },
      "outputs": [
        {
          "data": {
            "text/plain": [
              "['r', 'g', 'r']"
            ]
          },
          "execution_count": 68,
          "metadata": {},
          "output_type": "execute_result"
        }
      ],
      "source": [
        "a=['ranjit','ghadge','ramesh']\n",
        "first=[letter[0] for letter in a]\n",
        "first"
      ]
    },
    {
      "cell_type": "code",
      "execution_count": null,
      "id": "e7f1a6f1",
      "metadata": {
        "id": "e7f1a6f1",
        "outputId": "7fcbea03-fcef-42d0-f0af-35ed4cc42772"
      },
      "outputs": [
        {
          "data": {
            "text/plain": [
              "[4, 16, 36, 64, 4, 16, 400, 36]"
            ]
          },
          "execution_count": 69,
          "metadata": {},
          "output_type": "execute_result"
        }
      ],
      "source": [
        "B=[2,4,6,7,8,2,4,9,7,15,20,3,6]\n",
        "b=[i**2 for i in B if i%2==0]\n",
        "b"
      ]
    },
    {
      "cell_type": "code",
      "execution_count": null,
      "id": "0f186f18",
      "metadata": {
        "id": "0f186f18",
        "outputId": "19169eda-c306-427d-fd99-777f5c4a3789"
      },
      "outputs": [
        {
          "name": "stdout",
          "output_type": "stream",
          "text": [
            "c\n"
          ]
        }
      ],
      "source": [
        "list = [\"a\", \"b\", \"c\", \"d\"]\n",
        "a = list[0:]\n",
        "print(a)"
      ]
    },
    {
      "cell_type": "code",
      "execution_count": null,
      "id": "167d90fc",
      "metadata": {
        "id": "167d90fc",
        "outputId": "7a981e7d-1edf-47bd-c1bf-94f2c91341aa"
      },
      "outputs": [
        {
          "name": "stdout",
          "output_type": "stream",
          "text": [
            "[16, 25, 36, 49, 64]\n"
          ]
        }
      ],
      "source": [
        "\n",
        "sq = [0, 1, 4, 9, 16, 25, 36, 49, 64]\n",
        "\n",
        "print(sq[4:])\n",
        "\n"
      ]
    },
    {
      "cell_type": "code",
      "execution_count": null,
      "id": "ffa5ffa2",
      "metadata": {
        "id": "ffa5ffa2",
        "outputId": "97d07f5b-50cf-4c86-ca41-04037fc107f3"
      },
      "outputs": [
        {
          "name": "stdout",
          "output_type": "stream",
          "text": [
            "names\n",
            "ame\n"
          ]
        }
      ],
      "source": [
        "string=input()\n",
        "a=string[1:-1]\n",
        "print(a)\n"
      ]
    },
    {
      "cell_type": "code",
      "execution_count": null,
      "id": "25b14df0",
      "metadata": {
        "id": "25b14df0",
        "outputId": "d34f5450-39bc-48c4-db77-c770308571d1"
      },
      "outputs": [
        {
          "name": "stdout",
          "output_type": "stream",
          "text": [
            "8\n"
          ]
        }
      ],
      "source": [
        "list = [1, 1, 2, 3, 5, 8, 13]\n",
        "\n",
        "print(list[list[4]])"
      ]
    },
    {
      "cell_type": "code",
      "execution_count": null,
      "id": "533841d1",
      "metadata": {
        "id": "533841d1",
        "outputId": "c0cd7d55-a3e9-45dd-a479-04612a98b9d2"
      },
      "outputs": [
        {
          "name": "stdout",
          "output_type": "stream",
          "text": [
            "2\n",
            "4\n",
            "6\n",
            "8\n",
            "10\n"
          ]
        }
      ],
      "source": [
        "for i in range(10):\n",
        "\n",
        "  if not i % 2 == 0:\n",
        "\n",
        "    print(i+1)"
      ]
    },
    {
      "cell_type": "code",
      "execution_count": null,
      "id": "da5296e0",
      "metadata": {
        "id": "da5296e0",
        "outputId": "eaa9117f-49f1-41ca-d0b5-16fdb5b535e1"
      },
      "outputs": [
        {
          "name": "stdout",
          "output_type": "stream",
          "text": [
            "ranjit\n",
            "ran\n"
          ]
        }
      ],
      "source": [
        "x = input()\n",
        "print(x[0:3])"
      ]
    },
    {
      "cell_type": "code",
      "execution_count": null,
      "id": "4449a427",
      "metadata": {
        "id": "4449a427"
      },
      "outputs": [],
      "source": [
        "N = int(input())\n",
        "\n",
        "sum = 0\n",
        "for i in range(1, N+1):\n",
        "    sum += i\n",
        "    print(sum)"
      ]
    },
    {
      "cell_type": "code",
      "execution_count": null,
      "id": "bdb2b8d1",
      "metadata": {
        "id": "bdb2b8d1",
        "outputId": "1798f8a6-f6f9-4e94-cb7e-7aeec9d65fc0"
      },
      "outputs": [
        {
          "name": "stdout",
          "output_type": "stream",
          "text": [
            "5\n",
            "1\n",
            "3\n",
            "6\n",
            "10\n",
            "15\n"
          ]
        }
      ],
      "source": [
        "N = int(input())\n",
        "\n",
        "sum = 0\n",
        "for i in range(1, N+1):\n",
        "    sum += i\n",
        "    print(sum)"
      ]
    },
    {
      "cell_type": "code",
      "execution_count": null,
      "id": "f15b295c",
      "metadata": {
        "id": "f15b295c",
        "outputId": "c8f49726-5047-44d6-c56e-c41212caaebd"
      },
      "outputs": [
        {
          "name": "stdout",
          "output_type": "stream",
          "text": [
            "6\n"
          ]
        }
      ],
      "source": [
        "x =\"abc\"\n",
        "\n",
        "x *= 2\n",
        "\n",
        "print(len(x))\n"
      ]
    },
    {
      "cell_type": "code",
      "execution_count": null,
      "id": "43ec6735",
      "metadata": {
        "id": "43ec6735",
        "outputId": "f1fb54d1-4870-433c-face-108a7365dc2a"
      },
      "outputs": [
        {
          "name": "stdout",
          "output_type": "stream",
          "text": [
            "1\n"
          ]
        }
      ],
      "source": [
        "x = [2, 4, 5, 7, 4]\n",
        "\n",
        "y = x.index(4)\n",
        "\n",
        "print(y)"
      ]
    },
    {
      "cell_type": "code",
      "execution_count": null,
      "id": "9b457997",
      "metadata": {
        "id": "9b457997",
        "outputId": "eaaea3f9-c05b-42ff-bc0b-7a6115630e46"
      },
      "outputs": [
        {
          "name": "stdout",
          "output_type": "stream",
          "text": [
            "6\n"
          ]
        }
      ],
      "source": [
        "nums = [1, 3, 5, 2, 4]\n",
        "\n",
        "res = min(nums) + max(nums)\n",
        "\n",
        "print(res)\n",
        "\n"
      ]
    },
    {
      "cell_type": "code",
      "execution_count": null,
      "id": "ab1dec4a",
      "metadata": {
        "id": "ab1dec4a",
        "outputId": "55b44bfb-ef71-4a16-e87b-853b8ddf068f"
      },
      "outputs": [
        {
          "name": "stdout",
          "output_type": "stream",
          "text": [
            "wwww\n",
            "['John', 'Amy', 'Bob', 'Adam', 'wwww']\n"
          ]
        }
      ],
      "source": [
        "queue = ['John', 'Amy', 'Bob', 'Adam']\n",
        "\n",
        "imp= input()\n",
        "\n",
        "queue.append(imp)\n",
        "\n",
        "print(queue)"
      ]
    },
    {
      "cell_type": "code",
      "execution_count": null,
      "id": "849e0427",
      "metadata": {
        "id": "849e0427",
        "outputId": "18bff077-8450-44ea-c5b5-dbf5136c3037"
      },
      "outputs": [
        {
          "name": "stdout",
          "output_type": "stream",
          "text": [
            "4\n"
          ]
        }
      ],
      "source": [
        "nums = [2,4,8,9,5]\n",
        "\n",
        "\n",
        "nums.insert(1, 3)\n",
        "\n",
        "nums.remove(9)\n",
        "\n",
        "nums.insert(0, nums.count(8))\n",
        "\n",
        "print(nums[3])"
      ]
    },
    {
      "cell_type": "code",
      "execution_count": null,
      "id": "136b23df",
      "metadata": {
        "id": "136b23df",
        "outputId": "063ea866-2084-4e1e-9b3b-579970954f15"
      },
      "outputs": [
        {
          "name": "stdout",
          "output_type": "stream",
          "text": [
            "4\n"
          ]
        }
      ],
      "source": [
        "nums = [2,4,8,9,5]\n",
        "\n",
        "\n",
        "nums.insert(1, 3)\n",
        "\n",
        "nums.remove(9)\n",
        "\n",
        "nums.insert(0, nums.count(8))\n",
        "\n",
        "print(nums[3])"
      ]
    },
    {
      "cell_type": "code",
      "execution_count": null,
      "id": "ec38782b",
      "metadata": {
        "id": "ec38782b",
        "outputId": "5032539d-d51f-4848-eb89-24c02aa787fc"
      },
      "outputs": [
        {
          "name": "stdout",
          "output_type": "stream",
          "text": [
            "[2, 3, 4, 8, 9, 5]\n"
          ]
        }
      ],
      "source": [
        "nums = [2,4,8,9,5]\n",
        "\n",
        "\n",
        "nums.insert(1, 3)\n",
        "\n",
        "print(nums)"
      ]
    },
    {
      "cell_type": "code",
      "execution_count": null,
      "id": "cdd108fa",
      "metadata": {
        "id": "cdd108fa",
        "outputId": "c4dde9d6-d8f4-4585-f4b2-154bb851f99f"
      },
      "outputs": [
        {
          "name": "stdout",
          "output_type": "stream",
          "text": [
            "Numbers: 4 5 7\n"
          ]
        }
      ],
      "source": [
        "nums = [4, 5, 7]\n",
        "msg = \"Numbers: {0} {1} {2}\". format(nums[0], nums[1], nums[2])\n",
        "print(msg)"
      ]
    },
    {
      "cell_type": "code",
      "execution_count": null,
      "id": "8e389741",
      "metadata": {
        "id": "8e389741",
        "outputId": "d74c6d18-d558-4cfd-be4d-10fba07e1ccf"
      },
      "outputs": [
        {
          "name": "stdout",
          "output_type": "stream",
          "text": [
            "abracadabra\n"
          ]
        }
      ],
      "source": [
        "print(\"{0}{1}{0}\".format(\"abra\", \"cad\"))"
      ]
    },
    {
      "cell_type": "code",
      "execution_count": null,
      "id": "5f395007",
      "metadata": {
        "id": "5f395007",
        "outputId": "fad08269-2105-4027-f479-5675985d6c3a"
      },
      "outputs": [
        {
          "name": "stdout",
          "output_type": "stream",
          "text": [
            "7, 9, 5\n"
          ]
        }
      ],
      "source": [
        "str=\"{c}, {b}, {a}\".format(a=5, b=9, c=7)\n",
        "\n",
        "print(str)"
      ]
    },
    {
      "cell_type": "code",
      "execution_count": null,
      "id": "44355c2e",
      "metadata": {
        "id": "44355c2e",
        "outputId": "0e6936f2-8a78-454e-ae4a-19675b34a1fe"
      },
      "outputs": [
        {
          "name": "stdout",
          "output_type": "stream",
          "text": [
            "hello\n"
          ]
        }
      ],
      "source": [
        "x='hello'\n",
        "words = x.split(' ')\n",
        "res = words[0]\n",
        "print(res)"
      ]
    }
  ],
  "metadata": {
    "kernelspec": {
      "display_name": "Python 3 (ipykernel)",
      "language": "python",
      "name": "python3"
    },
    "language_info": {
      "codemirror_mode": {
        "name": "ipython",
        "version": 3
      },
      "file_extension": ".py",
      "mimetype": "text/x-python",
      "name": "python",
      "nbconvert_exporter": "python",
      "pygments_lexer": "ipython3",
      "version": "3.9.13"
    },
    "colab": {
      "provenance": [],
      "include_colab_link": true
    }
  },
  "nbformat": 4,
  "nbformat_minor": 5
}