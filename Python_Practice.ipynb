{
  "cells": [
    {
      "cell_type": "markdown",
      "metadata": {
        "id": "view-in-github",
        "colab_type": "text"
      },
      "source": [
        "<a href=\"https://colab.research.google.com/github/Ranjitghadge/Python-Practice/blob/main/Python_Practice.ipynb\" target=\"_parent\"><img src=\"https://colab.research.google.com/assets/colab-badge.svg\" alt=\"Open In Colab\"/></a>"
      ]
    },
    {
      "cell_type": "markdown",
      "metadata": {
        "id": "nqAAhOjmOsJf"
      },
      "source": [
        "## LOOPS:\n"
      ]
    },
    {
      "cell_type": "markdown",
      "metadata": {
        "id": "zrPsgbiNOzfh"
      },
      "source": [
        "Write a Python program to find those numbers which are divisible by 7 and multiples of 5, between 1500 and 2700 (both included)."
      ]
    },
    {
      "cell_type": "code",
      "execution_count": null,
      "metadata": {
        "colab": {
          "base_uri": "https://localhost:8080/"
        },
        "id": "pKai01fCWhQv",
        "outputId": "2d026d28-a834-4710-9aab-8dce6af3ead6"
      },
      "outputs": [
        {
          "name": "stdout",
          "output_type": "stream",
          "text": [
            "['1505', '1540', '1575', '1610', '1645', '1680', '1715', '1750', '1785', '1820', '1855', '1890', '1925', '1960', '1995', '2030', '2065', '2100', '2135', '2170', '2205', '2240', '2275', '2310', '2345', '2380', '2415', '2450', '2485', '2520', '2555', '2590', '2625', '2660', '2695']\n"
          ]
        }
      ],
      "source": [
        "l = []\n",
        "for i in range(1500,2701):\n",
        "  if i%7==0 and i%5==0:\n",
        "    l.append(str(i))\n",
        "print(l)\n"
      ]
    },
    {
      "cell_type": "markdown",
      "metadata": {
        "id": "4Cz4aJDRP5-F"
      },
      "source": [
        "Write a Python program to construct the following pattern, using a nested for loop.\n",
        "\n"
      ]
    },
    {
      "cell_type": "code",
      "execution_count": null,
      "metadata": {
        "colab": {
          "base_uri": "https://localhost:8080/"
        },
        "id": "vLVJ--dWPo_E",
        "outputId": "06e554b3-255c-4846-a9de-b23f95a19ac9"
      },
      "outputs": [
        {
          "name": "stdout",
          "output_type": "stream",
          "text": [
            "5\n",
            "\n",
            "*\n",
            "**\n",
            "***\n",
            "****\n",
            "*****\n",
            "*****\n",
            "****\n",
            "***\n",
            "**\n",
            "*\n"
          ]
        }
      ],
      "source": [
        "a =int(input())\n",
        "\n",
        "for i in range(0,a+1):\n",
        "  print(i*'*')\n",
        "\n",
        "for i in range(a,0,-1):\n",
        "  print(i*'*')"
      ]
    },
    {
      "cell_type": "code",
      "execution_count": null,
      "metadata": {
        "colab": {
          "base_uri": "https://localhost:8080/"
        },
        "id": "j6eZ61EAV_VM",
        "outputId": "2fb45b6a-5745-47b6-bb55-adee43b8ddc2"
      },
      "outputs": [
        {
          "name": "stdout",
          "output_type": "stream",
          "text": [
            "123456\n",
            "760\n"
          ]
        }
      ],
      "source": [
        "n=int(input())\n",
        "rev= 0\n",
        "\n",
        "while(n>0):\n",
        "  n=n%10\n",
        "  rev=rev + (rev*10+n)\n",
        "  n=n//2\n",
        "\n",
        "print(rev)"
      ]
    },
    {
      "cell_type": "markdown",
      "metadata": {
        "id": "fMlnqWinilkl"
      },
      "source": [
        "## Practice Problems"
      ]
    },
    {
      "cell_type": "markdown",
      "metadata": {
        "id": "PWpb7t3cjA6o"
      },
      "source": []
    },
    {
      "cell_type": "markdown",
      "metadata": {
        "id": "vJu8CnnfsIe4"
      },
      "source": [
        "Reverse Words"
      ]
    },
    {
      "cell_type": "code",
      "execution_count": null,
      "metadata": {
        "colab": {
          "base_uri": "https://localhost:8080/"
        },
        "id": "Da9hJQasy_uM",
        "outputId": "d1a510e0-b4ff-4125-fd18-877ae8798783"
      },
      "outputs": [
        {
          "name": "stdout",
          "output_type": "stream",
          "text": [
            "Ranjit Ghadge\n",
            "tijnaR egdahG\n"
          ]
        }
      ],
      "source": [
        "a= input()\n",
        "list1= a.split(' ')\n",
        "list2= []\n",
        "for i in list1:\n",
        "  list2.append(i[::-1])\n",
        "output = ' '.join(list2)\n",
        "print(output)"
      ]
    },
    {
      "cell_type": "markdown",
      "metadata": {
        "id": "xXVK_SllsSCC"
      },
      "source": [
        "Second Best"
      ]
    },
    {
      "cell_type": "code",
      "execution_count": null,
      "metadata": {
        "colab": {
          "base_uri": "https://localhost:8080/"
        },
        "id": "BoSz2W46rFtj",
        "outputId": "e81b8a81-14bf-493f-99db-6c92201afc56"
      },
      "outputs": [
        {
          "name": "stdout",
          "output_type": "stream",
          "text": [
            "23,45,65,25,45,56\n",
            "56\n"
          ]
        }
      ],
      "source": [
        "a=input()\n",
        "list1= a.split(',')\n",
        "list2=[]\n",
        "\n",
        "for i in list1:\n",
        "  list2.append(int(i))\n",
        "list2.sort()\n",
        "output= list2[-2]\n",
        "print(output)"
      ]
    },
    {
      "cell_type": "code",
      "execution_count": null,
      "metadata": {
        "colab": {
          "base_uri": "https://localhost:8080/"
        },
        "id": "1CTWupY8vWpH",
        "outputId": "602c0d68-99e0-4b7f-d879-7b41553604ca"
      },
      "outputs": [
        {
          "name": "stdout",
          "output_type": "stream",
          "text": [
            "1 23 45 65 78 52 45 12\n",
            "1     1\n",
            "12    1\n",
            "23    1\n",
            "45    2\n",
            "52    1\n",
            "65    1\n",
            "78    1\n",
            "dtype: int64\n"
          ]
        }
      ],
      "source": [
        "import pandas as pd\n",
        "import numpy as np\n",
        "\n",
        "n= input()\n",
        "list1=n.split(' ')\n",
        "series = pd.Series(data=list1)\n",
        "\n",
        "result = series.value_counts()\n",
        "\n",
        "print(result.sort_index())"
      ]
    },
    {
      "cell_type": "markdown",
      "metadata": {
        "id": "7Bk8ZQz550Y6"
      },
      "source": [
        "Given two dataframes from the following dictionary input format\n",
        "\n",
        "d1 = {‘name’: [‘JOHN1’, ‘DAVE’, ‘AJAY’, ‘TRACY’, ‘TIYA’],\n",
        "‘height’: [174, 190, 184, 170, 162]}\n",
        "\n",
        "d2 = {‘name’: [‘john’, ‘dave’, ‘ajay’, ‘tracy’, ‘tiya’],\n",
        "‘weight’: [70, 82, 65, 62, 53]}\n",
        "\n",
        "Next, join the two dataframes by name and return the resultant dataframe. Note that the casing for\n",
        "names in the two dataframes are different and need to be handled separately. Return the inner join\n",
        "dataframe only with name in small case."
      ]
    },
    {
      "cell_type": "code",
      "execution_count": null,
      "metadata": {
        "colab": {
          "base_uri": "https://localhost:8080/"
        },
        "id": "K5QBsx8G2bYU",
        "outputId": "59ec21ee-0ff7-49cb-cdb4-beb29d63d0ad"
      },
      "outputs": [
        {
          "name": "stdout",
          "output_type": "stream",
          "text": [
            "    name  height  weight\n",
            "0   dave     190      82\n",
            "1   ajay     184      65\n",
            "2  tracy     170      62\n",
            "3   tiya     162      53\n"
          ]
        }
      ],
      "source": [
        "import pandas as pd\n",
        "import numpy as np\n",
        "def joindf(df1,df2):\n",
        "  df1['name']= df1['name'].str.lower()\n",
        "  df2['name']= df2['name'].str.lower()\n",
        "\n",
        "  new_df=df1.merge(df2, how='inner',left_on='name',right_on='name')\n",
        "  return new_df\n",
        "\n",
        "df1= pd.DataFrame({'name': ['JOHN1', 'DAVE', 'AJAY', 'TRACY', 'TIYA'], 'height': [174, 190, 184,170, 162]})\n",
        "df2= pd.DataFrame({'name': ['john', 'dave', 'ajay', 'tracy', 'tiya'],'weight': [70, 82, 65, 62,53]})\n",
        "a=joindf(df1,df2)\n",
        "print(a)\n"
      ]
    },
    {
      "cell_type": "markdown",
      "metadata": {
        "id": "lq2_NXFjlIxs"
      },
      "source": [
        "Largest Perimeter Triangle\n",
        "Easy\n",
        "Given an integer array nums, write a python program to return the largest perimeter of a triangle with a non-zero area, formed from three of these lengths. If it is impossible to form any triangle of a non-zero area, return 0.\n",
        "\n",
        "Example 1:\n",
        "Input:\n",
        "nums = [2,1,2]\n",
        "\n",
        "Output:\n",
        "5"
      ]
    },
    {
      "cell_type": "code",
      "execution_count": null,
      "metadata": {
        "colab": {
          "base_uri": "https://localhost:8080/"
        },
        "id": "ixBcLrs772M2",
        "outputId": "d35bfad4-623e-4a01-ce85-b4353476fee5"
      },
      "outputs": [
        {
          "name": "stdout",
          "output_type": "stream",
          "text": [
            "5\n"
          ]
        }
      ],
      "source": [
        "\n",
        "def largestPerimeter(A):\n",
        "  perimeter=sum(A)\n",
        "  area = 0.5*max(A)*min(A)\n",
        "  if area ==0:\n",
        "    return 0\n",
        "  else:\n",
        "    return perimeter\n",
        "\n",
        "A=[2,1,2]\n",
        "result=largestPerimeter(A)\n",
        "print(result)\n"
      ]
    },
    {
      "cell_type": "markdown",
      "metadata": {
        "id": "2CvSrC2hoUeM"
      },
      "source": [
        "Plus One\n",
        "\n",
        "You are given a large integer represented as an integer array digits, where each digits[i] is the ith digit of the integer. The digits are ordered from most significant to least significant in left-to-right order. The large integer does not contain any leading 0's.\n",
        "\n",
        "Write a python program to increment the large integer by one and return the resulting array of digits.\n",
        "\n",
        "Example 1:\n",
        "Input:\n",
        "digits = [1,2,3]\n",
        "\n",
        "Output:\n",
        "[1, 2, 4]\n",
        "\n",
        "Explanation:\n",
        "The array represents the integer 123. Incrementing by one gives 123 + 1 = 124.\n",
        "\n",
        "Thus, the result should be [1,2,4]."
      ]
    },
    {
      "cell_type": "code",
      "execution_count": null,
      "metadata": {
        "colab": {
          "base_uri": "https://localhost:8080/"
        },
        "id": "BJe2KatZoUI2",
        "outputId": "6197ef4d-ee72-4b1d-b6dc-639e627e4c55"
      },
      "outputs": [
        {
          "name": "stdout",
          "output_type": "stream",
          "text": [
            "[1, 2, 4]\n"
          ]
        }
      ],
      "source": [
        "\n",
        "def plusOne(digits):\n",
        "  string=''\n",
        "  list1=[]\n",
        "  for i in digits:\n",
        "    string=string+str(i)\n",
        "  num=int(string)\n",
        "  new_num=num+1\n",
        "  for i in str(new_num):\n",
        "      list1.append(int(i))\n",
        "\n",
        "  return list1\n",
        "\n",
        "digits = [1,2,3]\n",
        "print(plusOne(digits))\n"
      ]
    },
    {
      "cell_type": "code",
      "execution_count": null,
      "metadata": {
        "colab": {
          "base_uri": "https://localhost:8080/"
        },
        "id": "n31JkTzYv1MO",
        "outputId": "99be6fd9-472a-480c-871a-038d4700ebf4"
      },
      "outputs": [
        {
          "name": "stdout",
          "output_type": "stream",
          "text": [
            "11\n"
          ]
        }
      ],
      "source": [
        "#arr = eval(input())\n",
        "#k = int(input())\n",
        "\n",
        "def findKthPositive(arr, k):\n",
        "    l = []\n",
        "    i = 0\n",
        "    while len(l) < k:\n",
        "        if arr[i] not in l:\n",
        "            l.append(arr[i])\n",
        "        i += 1\n",
        "    return l[k - 1]\n",
        "\n",
        "arr = [2,3,4,7,11]\n",
        "\n",
        "k = 5\n",
        "out = findKthPositive(arr, k)\n",
        "print(out)"
      ]
    },
    {
      "cell_type": "code",
      "execution_count": null,
      "metadata": {
        "colab": {
          "base_uri": "https://localhost:8080/"
        },
        "id": "2oX2Go669K8c",
        "outputId": "4d15ea53-eb6f-41ab-ed89-b09e9e0d6adb"
      },
      "outputs": [
        {
          "name": "stdout",
          "output_type": "stream",
          "text": [
            "[3,1,2,4]\n",
            "[2, 4, 3, 1]\n"
          ]
        }
      ],
      "source": [
        "A=eval(input())\n",
        "l=[]\n",
        "def sortArrayByParity(A):\n",
        "  for i in A:\n",
        "    if  i%2==0:\n",
        "     l.append(i)\n",
        "\n",
        "\n",
        "  for j in A:\n",
        "    if j %2!= 0:\n",
        "      l.append(j)\n",
        "\n",
        "  return l\n",
        "\n",
        "\n",
        "print(sortArrayByParity(A))\n",
        "\n",
        "\n"
      ]
    },
    {
      "cell_type": "code",
      "execution_count": null,
      "metadata": {
        "colab": {
          "base_uri": "https://localhost:8080/"
        },
        "id": "C7pDPp72ql9a",
        "outputId": "8112b58a-5379-4be7-841d-3c3c75efa141"
      },
      "outputs": [
        {
          "name": "stdout",
          "output_type": "stream",
          "text": [
            "[3,1,2,4]\n",
            "[2, 4, 3, 1]\n"
          ]
        }
      ],
      "source": [
        "  A = eval(input())\n",
        "l = []\n",
        "\n",
        "def sortArrayByParity(A):\n",
        "    for i in A:\n",
        "        if i % 2 == 0:\n",
        "            l.append(i)\n",
        "\n",
        "    for j in A:\n",
        "        if j % 2 != 0:\n",
        "            l.append(j)\n",
        "\n",
        "    return l\n",
        "\n",
        "result = sortArrayByParity(A)\n",
        "print(result)"
      ]
    },
    {
      "cell_type": "code",
      "execution_count": null,
      "metadata": {
        "colab": {
          "base_uri": "https://localhost:8080/",
          "height": 287
        },
        "id": "VKPxMbxFWl9I",
        "outputId": "8c22d250-7a82-49d3-fe26-a6cd55b688e7"
      },
      "outputs": [
        {
          "name": "stdout",
          "output_type": "stream",
          "text": [
            "aliceSizes = [1,1]  bobSizes = [2, 2]\n"
          ]
        },
        {
          "ename": "SyntaxError",
          "evalue": "ignored",
          "output_type": "error",
          "traceback": [
            "Traceback \u001b[0;36m(most recent call last)\u001b[0m:\n",
            "  File \u001b[1;32m\"/usr/local/lib/python3.10/dist-packages/IPython/core/interactiveshell.py\"\u001b[0m, line \u001b[1;32m3553\u001b[0m, in \u001b[1;35mrun_code\u001b[0m\n    exec(code_obj, self.user_global_ns, self.user_ns)\n",
            "\u001b[0;36m  File \u001b[0;32m\"<ipython-input-17-f38add5aaae1>\"\u001b[0;36m, line \u001b[0;32m1\u001b[0;36m, in \u001b[0;35m<cell line: 1>\u001b[0;36m\u001b[0m\n\u001b[0;31m    aliceSizes = eval(input())\u001b[0m\n",
            "\u001b[0;36m  File \u001b[0;32m\"<string>\"\u001b[0;36m, line \u001b[0;32m1\u001b[0m\n\u001b[0;31m    aliceSizes = [1,1]  bobSizes = [2, 2]\u001b[0m\n\u001b[0m               ^\u001b[0m\n\u001b[0;31mSyntaxError\u001b[0m\u001b[0;31m:\u001b[0m invalid syntax\n"
          ]
        }
      ],
      "source": [
        "aliceSizes = eval(input())\n",
        "bobSizes = eval(input())\n",
        "\n",
        "def fairCandySwap(aliceSizes, bobSizes):\n",
        "    aliceTotal = sum(aliceSizes)\n",
        "    bobTotal = sum(bobSizes)\n",
        "    target = (aliceTotal + bobTotal) // 2\n",
        "\n",
        "    aliceSet = set(aliceSizes)\n",
        "\n",
        "    for bobCandy in bobSizes:\n",
        "        aliceCandy = target - (bobTotal - bobCandy)\n",
        "        if aliceCandy in aliceSet:\n",
        "            return [aliceCandy, bobCandy]\n",
        "\n"
      ]
    },
    {
      "cell_type": "markdown",
      "metadata": {
        "id": "VvzWECJ3VDam"
      },
      "source": [
        "Write a Python program to count the number of even and odd numbers in a series of numbers\n",
        "Sample numbers : numbers = (1, 2, 3, 4, 5, 6, 7, 8, 9)\n",
        "Expected Output :\n",
        "Number of even numbers : 5\n",
        "Number of odd numbers : 4"
      ]
    },
    {
      "cell_type": "code",
      "execution_count": null,
      "metadata": {
        "colab": {
          "base_uri": "https://localhost:8080/"
        },
        "id": "e_XQFhrHPo3R",
        "outputId": "157008b2-e7cd-4f98-b318-3a1885518aea"
      },
      "outputs": [
        {
          "name": "stdout",
          "output_type": "stream",
          "text": [
            "even no is: 4\n",
            "odd no is: 5\n"
          ]
        }
      ],
      "source": [
        "numbers = (1, 2, 3, 4, 5, 6, 7, 8, 9)\n",
        "even=0\n",
        "odd=0\n",
        "for num in numbers:\n",
        "  if num%2==0:\n",
        "    even=even+1\n",
        "  else:\n",
        "    odd=odd+1\n",
        "print('even no is:',even)\n",
        "print('odd no is:',odd)"
      ]
    },
    {
      "cell_type": "markdown",
      "metadata": {
        "id": "4Vbw40-wdULI"
      },
      "source": [
        "Write a Python program that prints all the numbers from 0 to 6 except 3 and 6.\n",
        "\n",
        "Note : Use 'continue' statement."
      ]
    },
    {
      "cell_type": "code",
      "execution_count": null,
      "metadata": {
        "colab": {
          "base_uri": "https://localhost:8080/"
        },
        "id": "7joklNP5Po0G",
        "outputId": "4712b644-9b97-4089-dcb9-c1280faa8d0a"
      },
      "outputs": [
        {
          "name": "stdout",
          "output_type": "stream",
          "text": [
            "0 1 2 4 5 "
          ]
        }
      ],
      "source": [
        "for x in range(6):\n",
        "  if(x==3 or x==6):\n",
        "    continue\n",
        "  print(x,end=' ')\n"
      ]
    },
    {
      "cell_type": "markdown",
      "metadata": {
        "id": "KiZWHHdRNFvp"
      },
      "source": [
        "Write a Python program to display the first and last colors from the following list.\n",
        "color_list = [\"Red\",\"Green\",\"White\" ,\"Black\"]"
      ]
    },
    {
      "cell_type": "code",
      "execution_count": null,
      "metadata": {
        "colab": {
          "base_uri": "https://localhost:8080/"
        },
        "id": "droy_yuiM6FX",
        "outputId": "1ef51b31-78ed-4270-f0f4-4427a571962a"
      },
      "outputs": [
        {
          "name": "stdout",
          "output_type": "stream",
          "text": [
            "Red Black\n"
          ]
        }
      ],
      "source": [
        "color_list = [\"Red\",\"Green\",\"White\" ,\"Black\"]\n",
        "a=color_list[0]\n",
        "b=color_list[-1]\n",
        "print(a,b)"
      ]
    },
    {
      "cell_type": "markdown",
      "metadata": {
        "id": "xFIxSJ8MOIjf"
      },
      "source": [
        "Write a Python program to get the volume of a sphere with radius six."
      ]
    },
    {
      "cell_type": "code",
      "execution_count": null,
      "metadata": {
        "colab": {
          "base_uri": "https://localhost:8080/"
        },
        "id": "XtnRTRdBM6JE",
        "outputId": "27fd66a1-63cb-48e2-a0ab-b9fc53841e6d"
      },
      "outputs": [
        {
          "name": "stdout",
          "output_type": "stream",
          "text": [
            "The volume of the sphere is:  904.7786842338603\n"
          ]
        }
      ],
      "source": [
        "pi = 3.1415926535897931\n",
        "r= 6.0\n",
        "V= 4.0/3.0*pi* r**3\n",
        "print('The volume of the sphere is: ',V)"
      ]
    },
    {
      "cell_type": "code",
      "execution_count": null,
      "metadata": {
        "colab": {
          "base_uri": "https://localhost:8080/"
        },
        "id": "wwNvQrHiWhLF",
        "outputId": "4d36630a-61da-496b-e253-386975bade2d"
      },
      "outputs": [
        {
          "name": "stdout",
          "output_type": "stream",
          "text": [
            "3\n",
            "2\n",
            "value of a is: 3\n",
            "value of b is: 2\n",
            "after swaping\n",
            "value of a is: 2\n",
            "value of b is: 3\n"
          ]
        }
      ],
      "source": [
        "a=int(input())\n",
        "b=int(input())\n",
        "\n",
        "print('value of a is:', a)\n",
        "print('value of b is:', b)\n",
        "\n",
        "a = a - b #3-2=1\n",
        "b= a+b #1+2=3\n",
        "a= b-a # 3-1=2\n",
        "\n",
        "print('after swaping')\n",
        "\n",
        "print('value of a is:', a)\n",
        "print('value of b is:', b)\n"
      ]
    },
    {
      "cell_type": "code",
      "execution_count": null,
      "metadata": {
        "colab": {
          "base_uri": "https://localhost:8080/"
        },
        "id": "ti8gckJPWhH1",
        "outputId": "cc74c9e7-2917-4937-a6f4-b09e6467adda"
      },
      "outputs": [
        {
          "name": "stdout",
          "output_type": "stream",
          "text": [
            "6\n",
            "it is a perfect no\n"
          ]
        }
      ],
      "source": [
        "num = int(input())\n",
        "divisors_sum= 0\n",
        "for i in range (1,num):\n",
        "    if num% i ==0:\n",
        "        divisors_sum= divisors_sum +i\n",
        "\n",
        "if divisors_sum == num:\n",
        "    print('it is a perfect no')\n",
        "else:\n",
        "    print('it is not perfect no')\n"
      ]
    },
    {
      "cell_type": "code",
      "execution_count": null,
      "metadata": {
        "colab": {
          "base_uri": "https://localhost:8080/"
        },
        "id": "AGljh-MeWhEA",
        "outputId": "f44eb48e-e0ab-47c1-ddc1-1aa575093e81"
      },
      "outputs": [
        {
          "name": "stdout",
          "output_type": "stream",
          "text": [
            "28\n",
            "It is not Perfect Number\n"
          ]
        }
      ],
      "source": [
        "num = int(input())\n",
        "divisors_sum= 0\n",
        "num=num//10\n",
        "for i in range (1,num):\n",
        "    if num% i ==0:\n",
        "        divisors_sum= divisors_sum +i\n",
        "\n",
        "if divisors_sum == num:\n",
        "    print('iIt is Perfect Number')\n",
        "else:\n",
        "    print('It is not Perfect Number')\n"
      ]
    },
    {
      "cell_type": "code",
      "execution_count": null,
      "metadata": {
        "colab": {
          "base_uri": "https://localhost:8080/"
        },
        "id": "0zVaQJ4UWhBK",
        "outputId": "c3f7e900-3e7c-4e7f-f7ea-febb26a5d52d"
      },
      "outputs": [
        {
          "name": "stdout",
          "output_type": "stream",
          "text": [
            "mam\n",
            "String is a Palindrome\n"
          ]
        }
      ],
      "source": [
        "string = input()\n",
        "\n",
        "if string == string[: :-1]:\n",
        "    print('String is a Palindrome')\n",
        "else:\n",
        "    print('String is not a Palindrome')"
      ]
    },
    {
      "cell_type": "code",
      "execution_count": null,
      "metadata": {
        "colab": {
          "base_uri": "https://localhost:8080/"
        },
        "id": "aVLYpW9ZGGw7",
        "outputId": "0e908cc6-e6a7-4a7e-b605-5590be7125d2"
      },
      "outputs": [
        {
          "name": "stdout",
          "output_type": "stream",
          "text": [
            "Enter A No7\n",
            "7  No is odd\n"
          ]
        }
      ],
      "source": [
        "#Even & odd No\n",
        "No= int(input('Enter A No'))\n",
        "if No % 2==0:\n",
        "  print(No,' No is Even')\n",
        "else:\n",
        "    print(No,' No is odd')"
      ]
    },
    {
      "cell_type": "code",
      "execution_count": null,
      "metadata": {
        "colab": {
          "base_uri": "https://localhost:8080/"
        },
        "id": "iwyMPnFBGGts",
        "outputId": "c090d7ea-ab77-4d03-98f0-da23a9ad14c3"
      },
      "outputs": [
        {
          "name": "stdout",
          "output_type": "stream",
          "text": [
            "Enter Year2021\n",
            "non leap year\n"
          ]
        }
      ],
      "source": [
        "#leap Year\n",
        "x=int(input('Enter Year'))\n",
        "\n",
        "result='Leap Year 'if x%400==0 else 'Leap year' if x%4==0 and x%100!=0 else 'non leap year'\n",
        "print(result)"
      ]
    },
    {
      "cell_type": "code",
      "execution_count": null,
      "metadata": {
        "colab": {
          "base_uri": "https://localhost:8080/"
        },
        "id": "uplSfnITGGq5",
        "outputId": "2d7d32a7-0f30-4859-ef27-1f6c592a4d12"
      },
      "outputs": [
        {
          "name": "stdout",
          "output_type": "stream",
          "text": [
            "How many names you want to enter5\n",
            "1 Enter name\n",
            "ranjit\n",
            "2 Enter name\n",
            "rasika\n",
            "3 Enter name\n",
            "rachana\n",
            "4 Enter name\n",
            "rupesh\n",
            "5 Enter name\n",
            "ramesh\n",
            "rasika\n",
            "rupesh\n",
            "ramesh\n",
            "ranjit\n",
            "rachana\n"
          ]
        }
      ],
      "source": [
        "#remove duplicate from list\n",
        "names=[]\n",
        "n=int(input('How many names you want to enter'))\n",
        "for i in range(n):\n",
        "  print(i+1,'Enter name')\n",
        "  names.append(input())\n",
        "s=set(names)\n",
        "names=list(s)\n",
        "for x in names:\n",
        "  print(x)"
      ]
    },
    {
      "cell_type": "code",
      "execution_count": null,
      "metadata": {
        "id": "_SJkW2wwGGn1"
      },
      "outputs": [],
      "source": []
    },
    {
      "cell_type": "markdown",
      "metadata": {
        "id": "NAawIODL6ZdE"
      },
      "source": []
    },
    {
      "cell_type": "code",
      "execution_count": null,
      "metadata": {
        "colab": {
          "base_uri": "https://localhost:8080/"
        },
        "id": "bFMBTQTY6eJf",
        "outputId": "21ef7fce-d5e3-4c76-8378-c62e13997d81"
      },
      "outputs": [
        {
          "name": "stdout",
          "output_type": "stream",
          "text": [
            "4\n",
            "1\n",
            "2\n",
            "2\n",
            "3\n",
            "3\n",
            "3\n"
          ]
        }
      ],
      "source": [
        "n = int(input())\n",
        "\n",
        "for i in range(0,n):\n",
        "  for j in range(i):\n",
        "    print(i)\n"
      ]
    },
    {
      "cell_type": "code",
      "execution_count": null,
      "metadata": {
        "colab": {
          "base_uri": "https://localhost:8080/"
        },
        "id": "OWRMk4Yh6eG4",
        "outputId": "e369540a-7213-4539-f994-adec01fb3fe2"
      },
      "outputs": [
        {
          "name": "stdout",
          "output_type": "stream",
          "text": [
            "5\n",
            "11111\n",
            "0000\n",
            "111\n",
            "00\n",
            "1\n"
          ]
        }
      ],
      "source": [
        "n = int(input())\n",
        "\n",
        "for i in range (n,0,-1):\n",
        "  a = str(i%2)*i\n",
        "\n",
        "  print(a)"
      ]
    },
    {
      "cell_type": "code",
      "execution_count": null,
      "metadata": {
        "colab": {
          "base_uri": "https://localhost:8080/"
        },
        "id": "snQjUafk6eD9",
        "outputId": "16496913-5b3d-47b0-b3dc-f55a1da4234d"
      },
      "outputs": [
        {
          "name": "stdout",
          "output_type": "stream",
          "text": [
            "5\n",
            "    *    \n",
            "   * *   \n",
            "  *   *  \n",
            " *     * \n",
            "*********\n"
          ]
        }
      ],
      "source": [
        "n = int(input())\n",
        "stars = 2 * n -1\n",
        "for i in range(n):\n",
        "  for j in range(stars):\n",
        "    if i ==0:\n",
        "      if j == n-1:\n",
        "        print('*',end='')\n",
        "      else:\n",
        "        print(' ',end='')\n",
        "    elif i==n-1:\n",
        "      print('*',end = '')\n",
        "    else:\n",
        "      if j == n-1-i or j == n-1+i:\n",
        "        print('*',end = '')\n",
        "      else:\n",
        "        print(' ',end='')\n",
        "  print()"
      ]
    },
    {
      "cell_type": "code",
      "execution_count": null,
      "metadata": {
        "colab": {
          "base_uri": "https://localhost:8080/"
        },
        "id": "AYEjbrKp6eA9",
        "outputId": "f035eafb-fea3-480d-d3ca-d3ab59302c28"
      },
      "outputs": [
        {
          "name": "stdout",
          "output_type": "stream",
          "text": [
            "5\n",
            "    *\n",
            "   **\n",
            "  ***\n",
            " ****\n",
            "*****\n",
            " ****\n",
            "  ***\n",
            "   **\n",
            "    *\n"
          ]
        }
      ],
      "source": [
        "n = int(input())\n",
        "\n",
        "for i in range(2*n-1):\n",
        "  if i < n-1:\n",
        "    blank = n -(i+1)%n\n",
        "  else:\n",
        "    blank = (i+1)%n\n",
        "  for j in range(blank):\n",
        "    print(' ',end='')\n",
        "  for j in range(blank,n):\n",
        "    print('*',end='')\n",
        "  print()"
      ]
    },
    {
      "cell_type": "code",
      "execution_count": null,
      "metadata": {
        "id": "IaFZldCL6d-h"
      },
      "outputs": [],
      "source": []
    },
    {
      "cell_type": "code",
      "execution_count": null,
      "metadata": {
        "id": "urNiNbth6d7E"
      },
      "outputs": [],
      "source": []
    },
    {
      "cell_type": "code",
      "execution_count": null,
      "metadata": {
        "colab": {
          "base_uri": "https://localhost:8080/"
        },
        "id": "49_PwJaFGGOS",
        "outputId": "f946220f-66d2-479e-d7e7-b7ff3ba3d12f"
      },
      "outputs": [
        {
          "name": "stdout",
          "output_type": "stream",
          "text": [
            "Enter the number of rows: 3\n",
            "A\n",
            "BB\n",
            "CCC\n"
          ]
        }
      ],
      "source": [
        "# Get the number of rows from the user\n",
        "rows = int(input(\"Enter the number of rows: \"))\n",
        "\n",
        "# Print the left alphabet triangle pattern\n",
        "for i in range(1, rows + 1):\n",
        "    for j in range(1, i + 1):\n",
        "        print(chr(64 + i), end=\"\")\n",
        "    print()"
      ]
    },
    {
      "cell_type": "code",
      "execution_count": null,
      "metadata": {
        "colab": {
          "base_uri": "https://localhost:8080/"
        },
        "id": "CbEbYM0hGGLm",
        "outputId": "2777d19a-cb3e-4591-e288-2c32a78fc7ae"
      },
      "outputs": [
        {
          "name": "stdout",
          "output_type": "stream",
          "text": [
            "Enter the number of rows: 3\n",
            "A\n",
            "AB\n",
            "ABC\n"
          ]
        }
      ],
      "source": [
        "# Get the number of rows from the user\n",
        "rows = int(input(\"Enter the number of rows: \"))\n",
        "\n",
        "# Print the left alphabet triangle pattern\n",
        "for i in range(1, rows + 1):\n",
        "    for j in range(1, i + 1):\n",
        "        print(chr(64 + j), end=\"\")\n",
        "    print()"
      ]
    },
    {
      "cell_type": "code",
      "execution_count": null,
      "metadata": {
        "colab": {
          "base_uri": "https://localhost:8080/"
        },
        "id": "qfb3P83fGGI3",
        "outputId": "95a78f1c-9014-43e2-d1b9-19594d02d198"
      },
      "outputs": [
        {
          "name": "stdout",
          "output_type": "stream",
          "text": [
            "Enter the number of rows: 4\n",
            "1\n",
            "20\n",
            "300\n",
            "4000\n"
          ]
        }
      ],
      "source": [
        "# Get the number of rows from the user\n",
        "rows = int(input(\"Enter the number of rows: \"))\n",
        "\n",
        "# Generate the pattern\n",
        "for i in range(1, rows + 1):\n",
        "    for j in range(i):\n",
        "        if j == 0:\n",
        "            print(i, end=\"\")\n",
        "        else:\n",
        "            print(0, end=\"\")\n",
        "    print()"
      ]
    },
    {
      "cell_type": "code",
      "execution_count": null,
      "metadata": {
        "colab": {
          "base_uri": "https://localhost:8080/"
        },
        "id": "j60T5ptzGGGH",
        "outputId": "c3df3dbb-c3a0-4ab8-9288-220ca777a5b4"
      },
      "outputs": [
        {
          "name": "stdout",
          "output_type": "stream",
          "text": [
            "Enter the number of rows: 4\n",
            "1\n",
            "22\n",
            "303\n",
            "4004\n"
          ]
        }
      ],
      "source": [
        "rows = int(input(\"Enter the number of rows: \"))\n",
        "\n",
        "# Generate the pattern\n",
        "for i in range(1, rows + 1):\n",
        "    for j in range(i):\n",
        "        if j == 0 or j == i - 1:\n",
        "            print(i, end=\"\")\n",
        "        else:\n",
        "            print(0, end=\"\")\n",
        "    print()"
      ]
    },
    {
      "cell_type": "code",
      "execution_count": null,
      "metadata": {
        "colab": {
          "base_uri": "https://localhost:8080/"
        },
        "id": "sGXAVzJXGGDP",
        "outputId": "ba8ac514-0b7b-49aa-cbff-e99ecf489a50"
      },
      "outputs": [
        {
          "name": "stdout",
          "output_type": "stream",
          "text": [
            "Enter the number of rows: 4\n",
            "0\n",
            "11\n",
            "202\n",
            "3003\n"
          ]
        }
      ],
      "source": [
        "rows = int(input(\"Enter the number of rows: \"))\n",
        "\n",
        "# Print the left number triangle pattern\n",
        "for i in range(rows):\n",
        "    for j in range(i+1):\n",
        "        if j == 0 or j == i:\n",
        "            print(i, end=\"\")\n",
        "        else:\n",
        "            print(0, end=\"\")\n",
        "    print()"
      ]
    },
    {
      "cell_type": "code",
      "execution_count": null,
      "metadata": {
        "id": "L7ZtNJLR6UY8"
      },
      "outputs": [],
      "source": []
    },
    {
      "cell_type": "markdown",
      "metadata": {
        "id": "HxEy7b6v3wgM"
      },
      "source": [
        "Youtube"
      ]
    },
    {
      "cell_type": "code",
      "execution_count": null,
      "metadata": {
        "id": "TQe1SOsbyAgm"
      },
      "outputs": [],
      "source": [
        "name= 'Ranjit'\n",
        "age = 20\n",
        "is_new = True\n",
        "\n"
      ]
    },
    {
      "cell_type": "code",
      "execution_count": null,
      "metadata": {
        "colab": {
          "base_uri": "https://localhost:8080/"
        },
        "id": "ByE2NJdyyAeH",
        "outputId": "7c33bb37-9e4e-4fb4-bb5b-43c754e01510"
      },
      "outputs": [
        {
          "name": "stdout",
          "output_type": "stream",
          "text": [
            "what is your name?ranjit\n",
            "hi ranjit\n"
          ]
        }
      ],
      "source": [
        "name= input('what is your name?' )\n",
        "print('hi '+name)"
      ]
    },
    {
      "cell_type": "code",
      "execution_count": null,
      "metadata": {
        "colab": {
          "base_uri": "https://localhost:8080/"
        },
        "id": "XdIW8ZV0yAbo",
        "outputId": "dc855003-d9be-4210-a842-8b8e2dc32691"
      },
      "outputs": [
        {
          "name": "stdout",
          "output_type": "stream",
          "text": [
            "whats is your name ? ranjit\n",
            "whats is fav color ? silver\n",
            "ranjit Like silver\n"
          ]
        }
      ],
      "source": [
        "Name= input('whats is your name ? ')\n",
        "color= input('whats is fav color ? ')\n",
        "\n",
        "print( Name + ' Like ' + color)"
      ]
    },
    {
      "cell_type": "code",
      "execution_count": null,
      "metadata": {
        "colab": {
          "base_uri": "https://localhost:8080/"
        },
        "id": "h33wPMIyyAYj",
        "outputId": "a84ef4f5-c61c-418e-e5a3-e72d1ad791a7"
      },
      "outputs": [
        {
          "name": "stdout",
          "output_type": "stream",
          "text": [
            "Enter a birth year  1998\n",
            "25\n"
          ]
        }
      ],
      "source": [
        "birth_year= input('Enter a birth year  ')\n",
        "age= 2023-int(birth_year)\n",
        "\n",
        "print(age)"
      ]
    },
    {
      "cell_type": "code",
      "execution_count": null,
      "metadata": {
        "colab": {
          "base_uri": "https://localhost:8080/"
        },
        "id": "9HTzDOkayAV1",
        "outputId": "18fb8388-072a-495b-f988-f124aeb2e890"
      },
      "outputs": [
        {
          "name": "stdout",
          "output_type": "stream",
          "text": [
            "what is your age in kg45\n",
            "45000\n"
          ]
        }
      ],
      "source": [
        "wt=input('what is your age in kg')\n",
        "wt_in_gram = 1000*int(wt)\n",
        "\n",
        "print(wt_in_gram)"
      ]
    },
    {
      "cell_type": "code",
      "execution_count": null,
      "metadata": {
        "colab": {
          "base_uri": "https://localhost:8080/"
        },
        "id": "Y_iU_bebyASc",
        "outputId": "f987a80a-a08c-4ebb-b892-45a3d4279e18"
      },
      "outputs": [
        {
          "name": "stdout",
          "output_type": "stream",
          "text": [
            "It is cold day\n",
            "Enjoy your day\n"
          ]
        }
      ],
      "source": [
        "is_hot = False\n",
        "\n",
        "if is_hot:\n",
        "  print('Drink Water')\n",
        "  print('Drink pleanty of water')\n",
        "else:\n",
        "  print('It is cold day')\n",
        "print('Enjoy your day')"
      ]
    },
    {
      "cell_type": "code",
      "execution_count": null,
      "metadata": {
        "colab": {
          "base_uri": "https://localhost:8080/"
        },
        "id": "8QasoGrOyAPO",
        "outputId": "d346a245-e388-4b65-f884-7aca9f6f0b8b"
      },
      "outputs": [
        {
          "name": "stdout",
          "output_type": "stream",
          "text": [
            "Need to put dawn 10%\n"
          ]
        }
      ],
      "source": [
        "#Price_house_1M\n",
        "Good_Credit= True\n",
        "\n",
        "if Good_Credit:\n",
        "  print('Need to put dawn 10%')\n",
        "else:\n",
        "  print('Need to put dawn 20%')"
      ]
    },
    {
      "cell_type": "code",
      "execution_count": null,
      "metadata": {
        "colab": {
          "base_uri": "https://localhost:8080/"
        },
        "id": "dn5aaWO6yAMt",
        "outputId": "06ff6680-c35c-4d7f-8a61-2aef8a9c7775"
      },
      "outputs": [
        {
          "name": "stdout",
          "output_type": "stream",
          "text": [
            "1\n",
            "2\n",
            "3\n",
            "4\n",
            "5\n",
            "Done\n"
          ]
        }
      ],
      "source": [
        "#While\n",
        "i = 1\n",
        "while i <= 5:\n",
        "    print(i)\n",
        "    i = i+1\n",
        "print(\"Done\")"
      ]
    },
    {
      "cell_type": "code",
      "execution_count": null,
      "metadata": {
        "colab": {
          "base_uri": "https://localhost:8080/"
        },
        "id": "u9TVIDl5yAJq",
        "outputId": "5905930b-cc24-474e-a887-d938226e2885"
      },
      "outputs": [
        {
          "name": "stdout",
          "output_type": "stream",
          "text": [
            "*\n",
            "**\n",
            "***\n",
            "****\n",
            "*****\n",
            "Done\n"
          ]
        }
      ],
      "source": [
        "#While\n",
        "i = 1\n",
        "while i <= 5:\n",
        "    print('*'* i)\n",
        "    i = i+1\n",
        "print(\"Done\")"
      ]
    },
    {
      "cell_type": "code",
      "execution_count": null,
      "metadata": {
        "colab": {
          "base_uri": "https://localhost:8080/"
        },
        "id": "VeOy100syAG9",
        "outputId": "b53dbae1-0c2e-41db-d5d7-4acfbefbbf27"
      },
      "outputs": [
        {
          "name": "stdout",
          "output_type": "stream",
          "text": [
            "False\n",
            "True\n",
            "False\n",
            "True\n",
            "False\n",
            "Done\n"
          ]
        }
      ],
      "source": [
        "#While\n",
        "i = 1\n",
        "while i <= 5:\n",
        "    print(i%2==0)\n",
        "    i = i+1\n",
        "print(\"Done\")"
      ]
    },
    {
      "cell_type": "code",
      "execution_count": null,
      "metadata": {
        "colab": {
          "base_uri": "https://localhost:8080/"
        },
        "id": "uRnS1VwoyADq",
        "outputId": "087fdab4-ffc9-4212-cd43-81b7bf378375"
      },
      "outputs": [
        {
          "name": "stdout",
          "output_type": "stream",
          "text": [
            "Guess: 2\n",
            "Guess: 3\n",
            "Guess: 9\n",
            "You won!\n"
          ]
        }
      ],
      "source": [
        "secret_number=9\n",
        "guess_count = 0\n",
        "guess_limit = 3\n",
        "while guess_count < guess_limit:\n",
        "  guess = int(input('Guess: '))\n",
        "  guess_count += 1\n",
        "  if guess == secret_number:\n",
        "    print('You won!')\n",
        "    break\n",
        "else: print('You Failed ')"
      ]
    },
    {
      "cell_type": "markdown",
      "metadata": {
        "id": "BdEe8Y_WJK4w"
      },
      "source": [
        "Swapping of two no"
      ]
    },
    {
      "cell_type": "code",
      "execution_count": null,
      "metadata": {
        "colab": {
          "base_uri": "https://localhost:8080/"
        },
        "id": "EtsfqPGVI_AD",
        "outputId": "e2a1b3ee-4243-4aa7-e387-df00c44cc758"
      },
      "outputs": [
        {
          "name": "stdout",
          "output_type": "stream",
          "text": [
            "Enter Num1:15\n",
            "Enter Num2:100\n",
            "value of num1 before swap: 15\n",
            "value of num2 before swap: 100\n",
            "value of num1 after swap: 100\n",
            "value of num2 after swap: 15\n"
          ]
        }
      ],
      "source": [
        "#num1=10;\n",
        "#num2=20;\n",
        "num1=input(\"Enter Num1:\")\n",
        "num2=input(\"Enter Num2:\")\n",
        "\n",
        "print(\"value of num1 before swap:\",num1)\n",
        "print(\"value of num2 before swap:\",num2)\n",
        "\n",
        "#approach 1\n",
        "#temp=num1\n",
        "#num1=num2\n",
        "#num2=temp\n",
        "\n",
        "#approach 2\n",
        "num1,num2=num2,num1\n",
        "\n",
        "\n",
        "print(\"value of num1 after swap:\",num1)\n",
        "print(\"value of num2 after swap:\",num2)\n"
      ]
    },
    {
      "cell_type": "markdown",
      "metadata": {
        "id": "WMnL5tUpLvI9"
      },
      "source": [
        "Prime No or Not"
      ]
    },
    {
      "cell_type": "code",
      "execution_count": null,
      "metadata": {
        "colab": {
          "base_uri": "https://localhost:8080/"
        },
        "id": "RaOSdebdLu2T",
        "outputId": "6e3ad9b1-7daa-467e-cff2-0cfc2d8e62c0"
      },
      "outputs": [
        {
          "name": "stdout",
          "output_type": "stream",
          "text": [
            "Number is not prime\n"
          ]
        }
      ],
      "source": [
        "num=5\n",
        "count=5\n",
        "\n",
        "if num>1:\n",
        "  for i in range (1,num+1):\n",
        "    if(num%1)==0:\n",
        "      count=count+1\n",
        "  if count==2:\n",
        "    print(\"Number is prime\")\n",
        "  else:\n",
        "    print(\"Number is not prime\")"
      ]
    },
    {
      "cell_type": "markdown",
      "metadata": {
        "id": "-iQZelkoGBrB"
      },
      "source": [
        "Find Factorial Of No"
      ]
    },
    {
      "cell_type": "code",
      "execution_count": null,
      "metadata": {
        "colab": {
          "base_uri": "https://localhost:8080/"
        },
        "id": "1UytbPYJLuyw",
        "outputId": "d3f2c0e2-4ae2-41e5-b2b5-d9435b2c3f86"
      },
      "outputs": [
        {
          "name": "stdout",
          "output_type": "stream",
          "text": [
            "factorial of  5 is 120\n"
          ]
        }
      ],
      "source": [
        "#1st approach\n",
        "\n",
        "#factorial=1\n",
        "#num=5\n",
        "\n",
        "#if num<0:\n",
        "#   print(\"Factorial doesnt exist for negative no\")\n",
        "#elif num==0:\n",
        " #  print(\"The factorial of 0 is 1\")\n",
        "#else:\n",
        "  #for i in range(1,num+1):\n",
        "  #    factorial= factorial*i\n",
        " # print(\"Factorial on \", num ,\"is\", factorial)\n",
        "\n",
        "\n",
        "#2nd approach\n",
        "\n",
        "def factorial(n):\n",
        "#  if(n==0 or n==1):\n",
        "#    return 1\n",
        "\n",
        "#  else:\n",
        "#    return n * factorial(n-1)\n",
        "\n",
        "    return 1 if (n==1 or n==0) else n*factorial(n-1)\n",
        "\n",
        "\n",
        "num=5\n",
        "print(\"factorial of \", num, \"is\", factorial(num))"
      ]
    },
    {
      "cell_type": "markdown",
      "metadata": {
        "id": "bJAnS8ml8KtB"
      },
      "source": [
        "Fibonacci Series"
      ]
    },
    {
      "cell_type": "code",
      "execution_count": null,
      "metadata": {
        "colab": {
          "base_uri": "https://localhost:8080/"
        },
        "id": "vJU4AePxLuvz",
        "outputId": "743ae565-41a8-48d9-efa7-f8a603b7580d"
      },
      "outputs": [
        {
          "name": "stdout",
          "output_type": "stream",
          "text": [
            "0\n",
            "1\n",
            "1\n",
            "2\n",
            "3\n",
            "5\n",
            "8\n",
            "13\n",
            "21\n",
            "34\n",
            "55\n",
            "89\n",
            "144\n",
            "233\n",
            "377\n",
            "610\n",
            "987\n",
            "1597\n",
            "2584\n",
            "4181\n"
          ]
        }
      ],
      "source": [
        "n1=0\n",
        "n2=1\n",
        "\n",
        "print(n1)\n",
        "print(n2)\n",
        "\n",
        "for i in range (2,20):\n",
        "    sum= n1+n2\n",
        "    print(sum)\n",
        "    n1=n2\n",
        "    n2=sum"
      ]
    },
    {
      "cell_type": "markdown",
      "metadata": {
        "id": "s-RullsqAxrw"
      },
      "source": [
        "Sum of array\n",
        "Not work here"
      ]
    },
    {
      "cell_type": "code",
      "execution_count": null,
      "metadata": {
        "colab": {
          "background_save": true,
          "base_uri": "https://localhost:8080/",
          "height": 244
        },
        "id": "Z3xzPstbLus1",
        "outputId": "5ba81e9e-cd77-4c5f-f2fb-27306e9b0467"
      },
      "outputs": [
        {
          "ename": "TypeError",
          "evalue": "ignored",
          "output_type": "error",
          "traceback": [
            "\u001b[0;31m---------------------------------------------------------------------------\u001b[0m",
            "\u001b[0;31mTypeError\u001b[0m                                 Traceback (most recent call last)",
            "\u001b[0;32m<ipython-input-25-6a41e3dbd19e>\u001b[0m in \u001b[0;36m<module>\u001b[0;34m\u001b[0m\n\u001b[1;32m      1\u001b[0m \u001b[0marr\u001b[0m\u001b[0;34m=\u001b[0m\u001b[0;34m[\u001b[0m\u001b[0;36m1\u001b[0m\u001b[0;34m,\u001b[0m\u001b[0;36m2\u001b[0m\u001b[0;34m,\u001b[0m\u001b[0;36m3\u001b[0m\u001b[0;34m,\u001b[0m\u001b[0;36m4\u001b[0m\u001b[0;34m,\u001b[0m\u001b[0;36m5\u001b[0m\u001b[0;34m,\u001b[0m\u001b[0;36m6\u001b[0m\u001b[0;34m,\u001b[0m\u001b[0;36m7\u001b[0m\u001b[0;34m,\u001b[0m\u001b[0;36m8\u001b[0m\u001b[0;34m,\u001b[0m\u001b[0;36m9\u001b[0m\u001b[0;34m]\u001b[0m\u001b[0;34m\u001b[0m\u001b[0;34m\u001b[0m\u001b[0m\n\u001b[1;32m      2\u001b[0m \u001b[0msum\u001b[0m\u001b[0;34m=\u001b[0m\u001b[0;36m0\u001b[0m\u001b[0;34m\u001b[0m\u001b[0;34m\u001b[0m\u001b[0m\n\u001b[0;32m----> 3\u001b[0;31m \u001b[0msum\u001b[0m\u001b[0;34m=\u001b[0m\u001b[0msum\u001b[0m\u001b[0;34m(\u001b[0m\u001b[0marr\u001b[0m\u001b[0;34m)\u001b[0m\u001b[0;34m\u001b[0m\u001b[0;34m\u001b[0m\u001b[0m\n\u001b[0m\u001b[1;32m      4\u001b[0m \u001b[0mprint\u001b[0m\u001b[0;34m(\u001b[0m\u001b[0msum\u001b[0m\u001b[0;34m)\u001b[0m\u001b[0;34m\u001b[0m\u001b[0;34m\u001b[0m\u001b[0m\n\u001b[1;32m      5\u001b[0m \u001b[0;34m\u001b[0m\u001b[0m\n",
            "\u001b[0;31mTypeError\u001b[0m: 'int' object is not callable"
          ]
        }
      ],
      "source": [
        "arr=[1,2,3,4,5,6,7,8,9]\n",
        "a=0\n",
        "a=sum(arr)\n",
        "print(a)\n",
        "\n"
      ]
    },
    {
      "cell_type": "markdown",
      "metadata": {
        "id": "5NUeIJvKE6nj"
      },
      "source": [
        "Maximum & Min Values in array"
      ]
    },
    {
      "cell_type": "code",
      "execution_count": null,
      "metadata": {
        "colab": {
          "base_uri": "https://localhost:8080/"
        },
        "id": "nXq2fz0lE6Ww",
        "outputId": "2663945f-b2b5-40d2-ce75-cb595e6d7a63"
      },
      "outputs": [
        {
          "name": "stdout",
          "output_type": "stream",
          "text": [
            "40\n",
            "10\n"
          ]
        }
      ],
      "source": [
        "arr= [30,20,15,40,10]\n",
        "\n",
        "#finding max element\n",
        "\n",
        "max=arr[0]\n",
        "n=len(arr)\n",
        "\n",
        "for i in range(1,n):\n",
        "  if arr[i]>max:\n",
        "    max=arr[i]\n",
        "print(max)\n",
        "\n",
        "\n",
        "#Finding min element\n",
        "\n",
        "arr= [30,20,15,40,10]\n",
        "\n",
        "min=arr[0]\n",
        "n=len(arr)\n",
        "\n",
        "for i in range(1,n):\n",
        "  if arr [i]<min:\n",
        "    min=arr[i]\n",
        "print(min)"
      ]
    },
    {
      "cell_type": "markdown",
      "metadata": {
        "id": "_Tg0q9jbaKUI"
      },
      "source": []
    },
    {
      "cell_type": "markdown",
      "metadata": {
        "id": "mbz6FfMoZ-4Q"
      },
      "source": [
        "Lenth of th list"
      ]
    },
    {
      "cell_type": "code",
      "execution_count": null,
      "metadata": {
        "colab": {
          "base_uri": "https://localhost:8080/"
        },
        "id": "y0D-DjVzLupY",
        "outputId": "2c870d71-b8d8-4180-bef4-f80e844abf2b"
      },
      "outputs": [
        {
          "name": "stdout",
          "output_type": "stream",
          "text": [
            "[1, 2, 4, 5, 6, 4, 7, 5, 8]\n",
            "Length of list by 1st approach 9\n",
            "Lenth of the list by 2nd approach 9\n"
          ]
        }
      ],
      "source": [
        "#approach 1\n",
        "\n",
        "mylist=[1,2,4,5,6,4,7,5,8]\n",
        "print(mylist)\n",
        "count=0\n",
        "\n",
        "for i in mylist:\n",
        "  count= count+1\n",
        "print(\"Length of list by 1st approach\",count)\n",
        "\n",
        "\n",
        "#Approach 2\n",
        "\n",
        "mylist=[1,2,4,5,6,4,7,5,8]\n",
        "\n",
        "print('Lenth of the list by 2nd approach', len(mylist))\n"
      ]
    },
    {
      "cell_type": "markdown",
      "metadata": {
        "id": "XRU-bSkudIdH"
      },
      "source": [
        "Add two numbers"
      ]
    },
    {
      "cell_type": "code",
      "execution_count": null,
      "metadata": {
        "colab": {
          "base_uri": "https://localhost:8080/"
        },
        "id": "7y4VdLf_Lums",
        "outputId": "6b06e6a6-e3f8-48b8-8f9f-1f1948df4107"
      },
      "outputs": [
        {
          "name": "stdout",
          "output_type": "stream",
          "text": [
            "sum of two numbers 58\n"
          ]
        }
      ],
      "source": [
        "#num1 = 38\n",
        "#num2 = 20\n",
        "\n",
        "#sum= num1+ num2\n",
        "\n",
        "#print(\"sum of two numbers\", sum)"
      ]
    },
    {
      "cell_type": "code",
      "execution_count": null,
      "metadata": {
        "colab": {
          "base_uri": "https://localhost:8080/"
        },
        "id": "8T3dTMx0Lujx",
        "outputId": "539253cd-17ce-4f8d-edf7-876aa314c0b6"
      },
      "outputs": [
        {
          "name": "stdout",
          "output_type": "stream",
          "text": [
            "enter a number here: 20\n",
            "enter a another no here 25\n",
            "sum of two numbers 45.0\n"
          ]
        }
      ],
      "source": [
        "num1= float(input(\"enter a number here: \"))\n",
        "num2= float(input(\"enter a another no here \"))\n",
        "\n",
        "sum= num1 + num2\n",
        "\n",
        "print(\"sum of two numbers\", sum)"
      ]
    },
    {
      "cell_type": "markdown",
      "metadata": {
        "id": "fckRjKMQ7D7L"
      },
      "source": [
        "Finding Square root"
      ]
    },
    {
      "cell_type": "code",
      "execution_count": null,
      "metadata": {
        "colab": {
          "base_uri": "https://localhost:8080/"
        },
        "id": "ViHt5ej3LuhL",
        "outputId": "a03fd2a2-cd7c-46d1-a0d8-b9402c9a1437"
      },
      "outputs": [
        {
          "name": "stdout",
          "output_type": "stream",
          "text": [
            "enter a number here: 36\n",
            "Square root of num is: 6.0\n"
          ]
        }
      ],
      "source": [
        "# Using Exponential\n",
        "\n",
        "num= int(input(\"enter a number here: \"))\n",
        "\n",
        "sqr_root= num**(0.5)\n",
        "\n",
        "print(\"Square root of num is:\", sqr_root)\n"
      ]
    },
    {
      "cell_type": "code",
      "execution_count": null,
      "metadata": {
        "colab": {
          "base_uri": "https://localhost:8080/"
        },
        "id": "JUOZWThHLueu",
        "outputId": "e797fe12-8b81-4e9b-f737-64caa79b6226"
      },
      "outputs": [
        {
          "name": "stdout",
          "output_type": "stream",
          "text": [
            "enter a no here:  64\n",
            "8.0\n"
          ]
        }
      ],
      "source": [
        "# Using math module\n",
        "\n",
        "import math\n",
        "\n",
        "num = int(input(\"enter a no here:  \"))\n",
        "sqr_root= math.sqrt(num)\n",
        "print(sqr_root)"
      ]
    },
    {
      "cell_type": "markdown",
      "metadata": {
        "id": "zFVV9HJo_zTG"
      },
      "source": [
        "Area of Triangle\n"
      ]
    },
    {
      "cell_type": "code",
      "execution_count": null,
      "metadata": {
        "colab": {
          "base_uri": "https://localhost:8080/"
        },
        "id": "bd--JreTLubG",
        "outputId": "8f59946f-1bc6-4cd1-b3e0-523fc0e962df"
      },
      "outputs": [
        {
          "name": "stdout",
          "output_type": "stream",
          "text": [
            "Height of Trinagle is: 56\n",
            "Base of Trinagle is: 2.2\n",
            "Area of Triangel is:  61.60000000000001\n"
          ]
        }
      ],
      "source": [
        "Height=float(input(\"Height of Trinagle is: \"))\n",
        "Base=float(input(\"Base of Trinagle is: \"))\n",
        "\n",
        "Area= (0.5*Base*Height)\n",
        "\n",
        "print(\"Area of Triangel is: \", Area)"
      ]
    },
    {
      "cell_type": "markdown",
      "metadata": {
        "id": "Y9Ks3D2rFHtd"
      },
      "source": [
        "Swap two variables"
      ]
    },
    {
      "cell_type": "code",
      "execution_count": null,
      "metadata": {
        "colab": {
          "base_uri": "https://localhost:8080/"
        },
        "id": "yvLBYrSuJEOK",
        "outputId": "80a925da-d81e-446e-bd35-1aa256b459a7"
      },
      "outputs": [
        {
          "name": "stdout",
          "output_type": "stream",
          "text": [
            "25\n",
            "12\n"
          ]
        }
      ],
      "source": [
        "# Using Third variable\n",
        "x = 12\n",
        "y = 25\n",
        "\n",
        "temp = x\n",
        "\n",
        "x = y\n",
        "y = temp\n",
        "\n",
        "print(x)\n",
        "print(y)"
      ]
    },
    {
      "cell_type": "code",
      "execution_count": null,
      "metadata": {
        "colab": {
          "base_uri": "https://localhost:8080/"
        },
        "id": "uTK4oSLlFZal",
        "outputId": "47e3d12a-c929-403d-90c7-ca63f4c362d1"
      },
      "outputs": [
        {
          "name": "stdout",
          "output_type": "stream",
          "text": [
            "20\n",
            "25\n"
          ]
        }
      ],
      "source": [
        "x = 25\n",
        "y = 20\n",
        "\n",
        "x,y = y,x\n",
        "\n",
        "print(x)\n",
        "print(y)"
      ]
    },
    {
      "cell_type": "markdown",
      "metadata": {
        "id": "CUCWInLDKSrk"
      },
      "source": [
        "Kilometer to Miles"
      ]
    },
    {
      "cell_type": "code",
      "execution_count": null,
      "metadata": {
        "colab": {
          "base_uri": "https://localhost:8080/"
        },
        "id": "8X744dZwG-dR",
        "outputId": "8c21257c-a4c1-4f10-e49b-69dfeba8b9be"
      },
      "outputs": [
        {
          "name": "stdout",
          "output_type": "stream",
          "text": [
            "enter your km here:20\n",
            "20.0 km will be 12.42742 Miles\n"
          ]
        }
      ],
      "source": [
        "km = float(input(\"enter your km here:\" ))\n",
        "\n",
        "mile= km*0.621371\n",
        "\n",
        "print(km, \"km will be\", mile, \"Miles\")"
      ]
    },
    {
      "cell_type": "markdown",
      "metadata": {
        "id": "ZrLLhtqG8lZx"
      },
      "source": [
        "Check for no is Positive or Negative"
      ]
    },
    {
      "cell_type": "code",
      "execution_count": null,
      "metadata": {
        "colab": {
          "base_uri": "https://localhost:8080/"
        },
        "id": "WlVs1l0SKuMa",
        "outputId": "831f367e-245f-4fc2-a315-dba7b255e435"
      },
      "outputs": [
        {
          "name": "stdout",
          "output_type": "stream",
          "text": [
            "Enter a no here:0\n",
            "It is a Zero\n"
          ]
        }
      ],
      "source": [
        "num= int(input(\"Enter a no here:\"))\n",
        "\n",
        "if num>0:\n",
        "  print(\"It is a Positive no\")\n",
        "elif num ==0:\n",
        "  print(\"It is a Zero\")\n",
        "else:\n",
        "  print(\"It is a Negative No\")"
      ]
    },
    {
      "cell_type": "markdown",
      "metadata": {
        "id": "kelnizMzC998"
      },
      "source": [
        "Check for Even or odd No"
      ]
    },
    {
      "cell_type": "code",
      "execution_count": null,
      "metadata": {
        "colab": {
          "base_uri": "https://localhost:8080/"
        },
        "id": "Oz7KsH279Vgb",
        "outputId": "2ef78480-22a3-4fb9-873c-4139ccad4b6e"
      },
      "outputs": [
        {
          "name": "stdout",
          "output_type": "stream",
          "text": [
            "Enter a no:121\n",
            "It is a odd No\n"
          ]
        }
      ],
      "source": [
        "num= int(input(\"Enter a no:\"))\n",
        "\n",
        "if num % 2 == 0:\n",
        "  print(\"It is a Even No\")\n",
        "else:\n",
        "  print(\"It is a odd No\")"
      ]
    },
    {
      "cell_type": "markdown",
      "metadata": {
        "id": "Jco3KdDgFbbk"
      },
      "source": [
        "Check for leap year"
      ]
    },
    {
      "cell_type": "code",
      "execution_count": null,
      "metadata": {
        "colab": {
          "base_uri": "https://localhost:8080/"
        },
        "id": "dLSC5ZLXDteZ",
        "outputId": "f7bf25e2-43e9-485f-fdb1-4cc3e8aa2df3"
      },
      "outputs": [
        {
          "name": "stdout",
          "output_type": "stream",
          "text": [
            "Enter a year: 2020\n",
            "2020 Is a leap year\n"
          ]
        }
      ],
      "source": [
        "year = int(input(\"Enter a year: \"))\n",
        "\n",
        "if (year % 100 == 0) and (year % 400 == 0):\n",
        "  print( year, \"Is a leap year\")\n",
        "\n",
        "elif (year % 4 == 0 ) and (year % 100 != 0):\n",
        "  print(year,\"Is a leap year\")\n",
        "\n",
        "else:\n",
        "  print(year, \"is not a leap year\")\n"
      ]
    },
    {
      "cell_type": "markdown",
      "metadata": {
        "id": "zlm-fa0i1svP"
      },
      "source": [
        "Find out large no"
      ]
    },
    {
      "cell_type": "code",
      "execution_count": null,
      "metadata": {
        "colab": {
          "base_uri": "https://localhost:8080/"
        },
        "id": "whLnaseADtY3",
        "outputId": "10090aaa-8a5f-444f-c35b-ce949db1b93b"
      },
      "outputs": [
        {
          "name": "stdout",
          "output_type": "stream",
          "text": [
            "Num2 is large no\n"
          ]
        }
      ],
      "source": [
        "num1= 23\n",
        "num2= 75\n",
        "num3= 60\n",
        "\n",
        "if num1>num2 and num1>num3:\n",
        "  print(\"Num1 is large no\")\n",
        "elif num2>num3 and num2>num1:\n",
        "  print(\"Num2 is large no\")\n",
        "else:\n",
        "  print(\"Num3 is large no\")\n",
        "\n",
        "\n",
        "\n"
      ]
    },
    {
      "cell_type": "markdown",
      "metadata": {
        "id": "4MuQ3g-F2zaJ"
      },
      "source": [
        "NO is prime or not"
      ]
    },
    {
      "cell_type": "code",
      "execution_count": null,
      "metadata": {
        "colab": {
          "base_uri": "https://localhost:8080/"
        },
        "id": "vnr0pS2DDtWD",
        "outputId": "1a87249d-b4a7-4702-c504-ee8c86873d76"
      },
      "outputs": [
        {
          "name": "stdout",
          "output_type": "stream",
          "text": [
            "Enter No here10\n",
            "No is not Prime\n"
          ]
        }
      ],
      "source": [
        "num=int(input(\"Enter No here\"))\n",
        "\n",
        "if num == 1:\n",
        "   print(\"No is not Prime\")\n",
        "if num > 1:\n",
        "  for i in range (2,num):\n",
        "      if num % i == 0:\n",
        "        print(\"No is not Prime\")\n",
        "        break\n",
        "\n",
        "  else:\n",
        "      print(\"No is prime\")\n"
      ]
    },
    {
      "cell_type": "markdown",
      "metadata": {
        "id": "m3GxBAu37J6R"
      },
      "source": [
        "Print all prime no in an interval"
      ]
    },
    {
      "cell_type": "code",
      "execution_count": null,
      "metadata": {
        "colab": {
          "base_uri": "https://localhost:8080/"
        },
        "id": "eivzbh30DtTM",
        "outputId": "9c2c95b0-a222-4248-948b-66f82c6e2b08"
      },
      "outputs": [
        {
          "name": "stdout",
          "output_type": "stream",
          "text": [
            "Enter lower No here2\n",
            "Enter upper No here50\n",
            "2\n",
            "3\n",
            "5\n",
            "7\n",
            "11\n",
            "13\n",
            "17\n",
            "19\n",
            "23\n",
            "29\n",
            "31\n",
            "37\n",
            "41\n",
            "43\n",
            "47\n"
          ]
        }
      ],
      "source": [
        "lower= int(input(\"Enter lower No here\"))\n",
        "upper= int(input(\"Enter upper No here\"))\n",
        "\n",
        "for num in range (lower, upper+1):\n",
        "  if num > 1:\n",
        "    for i in range (2, num):\n",
        "      if num % i ==0:\n",
        "         break\n",
        "    else:\n",
        "        (print(num))"
      ]
    },
    {
      "cell_type": "markdown",
      "metadata": {
        "id": "cy3BgK8oAYc6"
      },
      "source": [
        "Find Factorial of No"
      ]
    },
    {
      "cell_type": "code",
      "execution_count": null,
      "metadata": {
        "colab": {
          "base_uri": "https://localhost:8080/"
        },
        "id": "dRXyh3TcDtQH",
        "outputId": "1b4689ad-460e-4100-8879-5f2b24accab6"
      },
      "outputs": [
        {
          "name": "stdout",
          "output_type": "stream",
          "text": [
            "Enter No here5\n",
            "Factorial of given no is 120\n"
          ]
        }
      ],
      "source": [
        "num=int(input(\"Enter No here\"))\n",
        "\n",
        "fact=1\n",
        "\n",
        "if num < 0:\n",
        "  print(\"Factorial doent exist\")\n",
        "if num == 0:\n",
        "  print (\"Factorial of 0 is\",1)\n",
        "if num> 0:\n",
        "  for i in range (1,num+1):\n",
        "    fact = fact*i\n",
        "print(\"Factorial of given no is\", fact)"
      ]
    },
    {
      "cell_type": "code",
      "execution_count": null,
      "metadata": {
        "colab": {
          "base_uri": "https://localhost:8080/"
        },
        "id": "18lY1hxVDZjp",
        "outputId": "73147409-890f-4b53-d3c6-4dbbd08ca644"
      },
      "outputs": [
        {
          "name": "stdout",
          "output_type": "stream",
          "text": [
            "Enter a number here: 20\n",
            "Factorial of given no is 2432902008176640000\n"
          ]
        }
      ],
      "source": [
        "# sol 2\n",
        "# recursion\n",
        "\n",
        "def fact(a):\n",
        "  if a == 0:\n",
        "    return 1\n",
        "  else:\n",
        "    return ((a)* fact (a-1))\n",
        "\n",
        "num = int(input(\"Enter a number here: \"))\n",
        "result = fact(num)\n",
        "print(\"Factorial of given no is\", result)"
      ]
    },
    {
      "cell_type": "code",
      "execution_count": null,
      "metadata": {
        "colab": {
          "base_uri": "https://localhost:8080/"
        },
        "id": "kdBhxqJNP4Xa",
        "outputId": "7c1e0a1f-b86d-475d-e3b9-93b4b1c4cf37"
      },
      "outputs": [
        {
          "name": "stdout",
          "output_type": "stream",
          "text": [
            "Enter No here2\n",
            "2 X 1 = 2\n",
            "2 X 2 = 4\n",
            "2 X 3 = 6\n",
            "2 X 4 = 8\n",
            "2 X 5 = 10\n",
            "2 X 6 = 12\n",
            "2 X 7 = 14\n",
            "2 X 8 = 16\n",
            "2 X 9 = 18\n",
            "2 X 10 = 20\n"
          ]
        }
      ],
      "source": [
        "n=int(input(\"Enter No here\"))\n",
        "\n",
        "for i in range(1,11):\n",
        "  print(n,\"X\",i,\"=\",n*i)"
      ]
    },
    {
      "cell_type": "code",
      "execution_count": null,
      "metadata": {
        "colab": {
          "base_uri": "https://localhost:8080/"
        },
        "id": "dXzSIj4URevH",
        "outputId": "58b35e6a-5020-493e-e2b9-744e99e66263"
      },
      "outputs": [
        {
          "name": "stdout",
          "output_type": "stream",
          "text": [
            "Enter No here23\n",
            "23 X 1 = 23\n",
            "23 X 2 = 46\n",
            "23 X 3 = 69\n",
            "23 X 4 = 92\n",
            "23 X 5 = 115\n",
            "23 X 6 = 138\n",
            "23 X 7 = 161\n",
            "23 X 8 = 184\n",
            "23 X 9 = 207\n",
            "23 X 10 = 230\n"
          ]
        }
      ],
      "source": [
        "# using while\n",
        "n=int(input(\"Enter No here\"))\n",
        "\n",
        "i=1\n",
        "\n",
        "while i<=10:\n",
        "  print(n,\"X\",i,\"=\",n*i)\n",
        "  i = i+1"
      ]
    },
    {
      "cell_type": "markdown",
      "metadata": {
        "id": "YVuOYhV1bWl4"
      },
      "source": [
        "Fibonacci Sequence"
      ]
    },
    {
      "cell_type": "code",
      "execution_count": null,
      "metadata": {
        "colab": {
          "base_uri": "https://localhost:8080/"
        },
        "id": "mGGMbDvFbBnS",
        "outputId": "4316e496-c373-42ac-ad6e-c332084d85c4"
      },
      "outputs": [
        {
          "name": "stdout",
          "output_type": "stream",
          "text": [
            "Enter No here12\n",
            "0\n",
            "1\n",
            "1\n",
            "2\n",
            "3\n",
            "5\n",
            "8\n",
            "13\n",
            "21\n",
            "34\n",
            "55\n",
            "89\n",
            "144\n",
            "233\n"
          ]
        }
      ],
      "source": [
        "a=0\n",
        "b=1\n",
        "num=int(input(\"Enter No here\"))\n",
        "if num == 1:\n",
        "  print(a)\n",
        "else:\n",
        "  print(a)\n",
        "  print(b)\n",
        "  for i in range (1,num+1):\n",
        "    c = a+b\n",
        "    a = b\n",
        "    b = c\n",
        "    print(c)\n"
      ]
    },
    {
      "cell_type": "markdown",
      "metadata": {
        "id": "j6356bx2f9NP"
      },
      "source": [
        "Armstrong Number"
      ]
    },
    {
      "cell_type": "code",
      "execution_count": null,
      "metadata": {
        "colab": {
          "base_uri": "https://localhost:8080/"
        },
        "id": "ymNFwBjBeIpK",
        "outputId": "402df7a8-1ed7-4ba6-b0a0-0749abf0cfbe"
      },
      "outputs": [
        {
          "name": "stdout",
          "output_type": "stream",
          "text": [
            "Enter No here153\n",
            "It is a armstrong no \n"
          ]
        }
      ],
      "source": [
        "num=int(input(\"Enter No here\"))\n",
        "order = len(str(num))\n",
        "\n",
        "sum=0\n",
        "temp= num\n",
        "\n",
        "while  temp > 0:\n",
        "  digit = temp%10\n",
        "  sum += digit**order\n",
        "  temp //=10\n",
        "\n",
        "if sum == num:\n",
        "  print(\"It is a armstrong no \")\n",
        "else:\n",
        "  print(\"It is NOT a armstrong no \")"
      ]
    },
    {
      "cell_type": "markdown",
      "metadata": {
        "id": "c73GM3uaGExR"
      },
      "source": [
        "Sum of n natural nos\n"
      ]
    },
    {
      "cell_type": "code",
      "execution_count": null,
      "metadata": {
        "colab": {
          "base_uri": "https://localhost:8080/"
        },
        "id": "DA3NJkM7ogzF",
        "outputId": "30b34754-cf8c-43f0-b047-0e32b2fdedb6"
      },
      "outputs": [
        {
          "name": "stdout",
          "output_type": "stream",
          "text": [
            "Enter no25\n",
            "325\n"
          ]
        }
      ],
      "source": [
        "num=int(input('Enter no'))\n",
        "\n",
        "if num < 0:\n",
        "  print('Please enter positive no')\n",
        "else:\n",
        "  sum=0\n",
        "  while num>0:\n",
        "    sum += num\n",
        "    num -= 1\n",
        "\n",
        "print(sum )"
      ]
    },
    {
      "cell_type": "markdown",
      "metadata": {
        "id": "R9b94AgmKPNU"
      },
      "source": [
        "Programe to display power of 2 using anonymous function.\n",
        "\n"
      ]
    },
    {
      "cell_type": "code",
      "execution_count": null,
      "metadata": {
        "colab": {
          "base_uri": "https://localhost:8080/"
        },
        "id": "XfZ-BWeKogwW",
        "outputId": "f18cc294-c963-452e-ac7a-9da8099798e3"
      },
      "outputs": [
        {
          "name": "stdout",
          "output_type": "stream",
          "text": [
            "enter no of terms here7\n",
            "[1, 2, 4, 8, 16, 32, 64, 128]\n",
            "The value of 2 raised to power 0 is 1\n",
            "The value of 2 raised to power 1 is 2\n",
            "The value of 2 raised to power 2 is 4\n",
            "The value of 2 raised to power 3 is 8\n",
            "The value of 2 raised to power 4 is 16\n",
            "The value of 2 raised to power 5 is 32\n",
            "The value of 2 raised to power 6 is 64\n",
            "The value of 2 raised to power 7 is 128\n"
          ]
        }
      ],
      "source": [
        "nterms = int(input(\"enter no of terms here\"))\n",
        "\n",
        "result = list(map(lambda x : 2 **x, range(nterms+1)))\n",
        "\n",
        "print(result)\n",
        "\n",
        "for i in range (nterms + 1):\n",
        "  print(\"The value of 2 raised to power\", i, \"is\",result[i])"
      ]
    },
    {
      "cell_type": "markdown",
      "metadata": {
        "id": "94WxSDc-LrFH"
      },
      "source": [
        "No divisible by other no"
      ]
    },
    {
      "cell_type": "code",
      "execution_count": null,
      "metadata": {
        "colab": {
          "base_uri": "https://localhost:8080/"
        },
        "id": "9U4bGRJQogtV",
        "outputId": "91a45891-243a-4de5-bba1-bc23c6dda770"
      },
      "outputs": [
        {
          "name": "stdout",
          "output_type": "stream",
          "text": [
            "The no divisible by 13 are\n",
            "13\n",
            "26\n",
            "39\n",
            "52\n",
            "65\n",
            "78\n",
            "91\n"
          ]
        }
      ],
      "source": [
        "#Sol 1\n",
        "print(\"The no divisible by 13 are\")\n",
        "for i in range (1,100):\n",
        "  if i % 13== 0:\n",
        "    print(i)"
      ]
    },
    {
      "cell_type": "code",
      "execution_count": null,
      "metadata": {
        "colab": {
          "base_uri": "https://localhost:8080/"
        },
        "id": "Dw7eeTeyogqG",
        "outputId": "976bd6d9-926c-41ad-fe41-ed5abf43390a"
      },
      "outputs": [
        {
          "name": "stdout",
          "output_type": "stream",
          "text": [
            "No divisible by 13 are [39, 65]\n"
          ]
        }
      ],
      "source": [
        " #Sol 2 use lambda & filter\n",
        "\n",
        " L = [39,48,95,55,33,65]\n",
        "\n",
        " result = list(filter(lambda x : x % 13==0,L))\n",
        "\n",
        " print('No divisible by 13 are', result)\n",
        "\n"
      ]
    },
    {
      "cell_type": "markdown",
      "metadata": {
        "id": "PD7Mxz7wiPMK"
      },
      "source": [
        "Covert Decimal to binary"
      ]
    },
    {
      "cell_type": "code",
      "execution_count": null,
      "metadata": {
        "colab": {
          "base_uri": "https://localhost:8080/"
        },
        "id": "g8GPzVC2iBMe",
        "outputId": "446429f0-a75d-446e-a73b-df3c67af8be7"
      },
      "outputs": [
        {
          "name": "stdout",
          "output_type": "stream",
          "text": [
            "Enter a no here25\n",
            "The conversion of decimal no: 25 is: \n",
            "0b11001 in decimal\n",
            "0o31 in octal\n",
            "0x19 in hexadecimal\n"
          ]
        }
      ],
      "source": [
        "decimal=int(input('Enter a no here'))\n",
        "\n",
        "print ('The conversion of decimal no:', decimal,'is: ')\n",
        "print (bin(decimal),'in decimal')\n",
        "print (oct(decimal),'in octal')\n",
        "print (hex(decimal),'in hexadecimal')"
      ]
    },
    {
      "cell_type": "markdown",
      "metadata": {
        "id": "TIFlNu_ikCn1"
      },
      "source": [
        "Find HCF or GCD"
      ]
    },
    {
      "cell_type": "code",
      "execution_count": null,
      "metadata": {
        "colab": {
          "base_uri": "https://localhost:8080/"
        },
        "id": "dk-LNJJKiBJT",
        "outputId": "6d2afc4e-0392-496c-875f-01cd2f87f450"
      },
      "outputs": [
        {
          "name": "stdout",
          "output_type": "stream",
          "text": [
            "HCF of given no is:  6\n"
          ]
        }
      ],
      "source": [
        "def findHCF(x,y):\n",
        "    if x > y:\n",
        "        smaller= y\n",
        "    else:\n",
        "        smaller = x\n",
        "    for i in range (1,smaller+1):\n",
        "        if ((x % i==0) and (y % i==0)):\n",
        "            hcf= i\n",
        "    return hcf\n",
        "\n",
        "print(\"HCF of given no is: \", findHCF(12,30))"
      ]
    },
    {
      "cell_type": "markdown",
      "metadata": {
        "id": "z-U2fG0i8p0p"
      },
      "source": [
        "FInd factors of num"
      ]
    },
    {
      "cell_type": "code",
      "execution_count": null,
      "metadata": {
        "colab": {
          "base_uri": "https://localhost:8080/"
        },
        "id": "1u0mynboiBGM",
        "outputId": "8ff003a2-71bb-4e5d-df63-7330a7d7ae77"
      },
      "outputs": [
        {
          "name": "stdout",
          "output_type": "stream",
          "text": [
            "enter a num here: 1254678\n",
            "Factors of given no is 1\n",
            "Factors of given no is 2\n",
            "Factors of given no is 3\n",
            "Factors of given no is 6\n",
            "Factors of given no is 79\n",
            "Factors of given no is 158\n",
            "Factors of given no is 237\n",
            "Factors of given no is 474\n",
            "Factors of given no is 2647\n",
            "Factors of given no is 5294\n",
            "Factors of given no is 7941\n",
            "Factors of given no is 15882\n",
            "Factors of given no is 209113\n",
            "Factors of given no is 418226\n",
            "Factors of given no is 627339\n",
            "Factors of given no is 1254678\n"
          ]
        }
      ],
      "source": [
        "num= int(input('enter a num here: '))\n",
        "for i in range(1,num+1):\n",
        "    if num % i==0:\n",
        "      print(\"Factors of given no is\", i)\n"
      ]
    },
    {
      "cell_type": "markdown",
      "metadata": {
        "id": "1xYsuWIuI3Iz"
      },
      "source": [
        "Create Calculator"
      ]
    },
    {
      "cell_type": "code",
      "execution_count": null,
      "metadata": {
        "colab": {
          "base_uri": "https://localhost:8080/"
        },
        "id": "JmdzbkZ8iBDL",
        "outputId": "97f1ef6a-2d3f-40fd-f39e-ea45c39277cb"
      },
      "outputs": [
        {
          "name": "stdout",
          "output_type": "stream",
          "text": [
            "Enter a 1st no here: 56\n",
            "Enter a 2nd no here: 45\n",
            "press 1 for addition \n",
            "press 2 for substraction \n",
            "press 3 for multiplication \n",
            "press 4 for division\n",
            "enter a no here from 1-4: 3\n",
            "multiplication of no is 2520.0\n"
          ]
        }
      ],
      "source": [
        "num1= float(input('Enter a 1st no here: '))\n",
        "num2= float(input('Enter a 2nd no here: '))\n",
        "\n",
        "print(\"press 1 for addition \\npress 2 for substraction \\npress 3 for multiplication \\npress 4 for division\")\n",
        "\n",
        "choice= int(input(\"enter a no here from 1-4: \"))\n",
        "\n",
        "if choice==1:\n",
        "  print(\"Addition of no is\",num1+num2)\n",
        "elif choice==2:\n",
        "  print(\"substraction of no is\",num1-num2)\n",
        "elif choice==3:\n",
        "  print(\"multiplication of no is\",num1*num2)\n",
        "elif choice==4:\n",
        "  print(num1/num2)\n",
        "else:\n",
        "  print(\"Invalid input\")\n",
        "\n",
        "\n",
        "\n",
        "\n"
      ]
    },
    {
      "cell_type": "markdown",
      "metadata": {
        "id": "Lof9W8SMky-b"
      },
      "source": [
        "### Question 1\n",
        "Level 1\n",
        "\n",
        "Question:\n",
        "Write a program which will find all such numbers which are divisible by 7 but are not a multiple of 5, between 2000 and 3200 (both included).\n",
        "The numbers obtained should be printed in a comma-separated sequence on a single line"
      ]
    },
    {
      "cell_type": "code",
      "execution_count": null,
      "metadata": {
        "colab": {
          "base_uri": "https://localhost:8080/"
        },
        "id": "rHcsSqALognP",
        "outputId": "fd55c112-fabe-4b80-cd9b-adc7454c433d"
      },
      "outputs": [
        {
          "name": "stdout",
          "output_type": "stream",
          "text": [
            "2002,2009,2016,2023,2037,2044,2051,2058,2072,2079,2086,2093,2107,2114,2121,2128,2142,2149,2156,2163,2177,2184,2191,2198,2212,2219,2226,2233,2247,2254,2261,2268,2282,2289,2296,2303,2317,2324,2331,2338,2352,2359,2366,2373,2387,2394,2401,2408,2422,2429,2436,2443,2457,2464,2471,2478,2492,2499,2506,2513,2527,2534,2541,2548,2562,2569,2576,2583,2597,2604,2611,2618,2632,2639,2646,2653,2667,2674,2681,2688,2702,2709,2716,2723,2737,2744,2751,2758,2772,2779,2786,2793,2807,2814,2821,2828,2842,2849,2856,2863,2877,2884,2891,2898,2912,2919,2926,2933,2947,2954,2961,2968,2982,2989,2996,3003,3017,3024,3031,3038,3052,3059,3066,3073,3087,3094,3101,3108,3122,3129,3136,3143,3157,3164,3171,3178,3192,3199\n"
          ]
        }
      ],
      "source": [
        "l=[]\n",
        "for i in range (2000,3201):\n",
        "    if (i%7==0) and (i%5!=0):\n",
        "        l.append(str(i))\n",
        "\n",
        "print(','.join(l))"
      ]
    },
    {
      "cell_type": "markdown",
      "metadata": {
        "id": "nn-p7BytpJh6"
      },
      "source": [
        "### Question 2\n",
        "Level 1\n",
        "\n",
        "Question:\n",
        "Write a program which can compute the factorial of a given numbers.\n",
        "The results should be printed in a comma-separated sequence on a single line.\n",
        "Suppose the following input is supplied to the program:\n",
        "8\n",
        "Then, the output should be:\n",
        "40320\n",
        "\n",
        "Hints:\n",
        "In case of input data being supplied to the question, it should be assumed to be a console input."
      ]
    },
    {
      "cell_type": "code",
      "execution_count": null,
      "metadata": {
        "colab": {
          "base_uri": "https://localhost:8080/"
        },
        "id": "St_pZUzWogj5",
        "outputId": "78a757c3-a543-4da7-d38e-4d634339fae7"
      },
      "outputs": [
        {
          "name": "stdout",
          "output_type": "stream",
          "text": [
            "8\n",
            "40320\n"
          ]
        }
      ],
      "source": [
        "def fact(x):\n",
        "  if x == 0:\n",
        "    return 1\n",
        "  return x* fact(x-1)\n",
        "\n",
        "x=int(input())\n",
        "print(fact(x))"
      ]
    },
    {
      "cell_type": "markdown",
      "metadata": {
        "id": "byem3rKcrz1j"
      },
      "source": [
        "### Question 3\n",
        "Level 1\n",
        "\n",
        "Question:\n",
        "With a given integral number n, write a program to generate a dictionary that contains (i, i*i) such that is an integral number between 1 and n (both included). and then the program should print the dictionary.\n",
        "Suppose the following input is supplied to the program:\n",
        "8\n",
        "Then, the output should be:\n",
        "{1: 1, 2: 4, 3: 9, 4: 16, 5: 25, 6: 36, 7: 49, 8: 64}\n",
        "\n",
        "Hints:\n",
        "In case of input data being supplied to the question, it should be assumed to be a console input.\n",
        "Consider use dict()\n"
      ]
    },
    {
      "cell_type": "code",
      "execution_count": null,
      "metadata": {
        "colab": {
          "base_uri": "https://localhost:8080/"
        },
        "id": "D_Cb6NyEmXgS",
        "outputId": "eecc4aae-d333-4809-8c5e-c35151381f85"
      },
      "outputs": [
        {
          "name": "stdout",
          "output_type": "stream",
          "text": [
            "20\n",
            "{1: 1, 2: 4, 3: 9, 4: 16, 5: 25, 6: 36, 7: 49, 8: 64, 9: 81, 10: 100, 11: 121, 12: 144, 13: 169, 14: 196, 15: 225, 16: 256, 17: 289, 18: 324, 19: 361, 20: 400}\n"
          ]
        }
      ],
      "source": [
        "n= int(input())\n",
        "d=dict()\n",
        "for i in range (1,n+1):\n",
        "  d[i]= i*i\n",
        "print(d)"
      ]
    },
    {
      "cell_type": "markdown",
      "metadata": {
        "id": "OgGx65P2wN9_"
      },
      "source": [
        "### Question 4\n",
        "Level 1\n",
        "\n",
        "Question:\n",
        "Write a program which accepts a sequence of comma-separated numbers from console and generate a list and a tuple which contains every number.\n",
        "Suppose the following input is supplied to the program:\n",
        "34,67,55,33,12,98\n",
        "Then, the output should be:\n",
        "['34', '67', '55', '33', '12', '98']\n",
        "('34', '67', '55', '33', '12', '98')\n",
        "\n",
        "Hints:\n",
        "In case of input data being supplied to the question, it should be assumed to be a console input.\n",
        "tuple() method can convert list to tuple"
      ]
    },
    {
      "cell_type": "code",
      "execution_count": null,
      "metadata": {
        "colab": {
          "base_uri": "https://localhost:8080/"
        },
        "id": "TJxm2tCev_Ub",
        "outputId": "b21e0ebd-69ff-4b72-8a5f-2cb17119020f"
      },
      "outputs": [
        {
          "name": "stdout",
          "output_type": "stream",
          "text": [
            "35,36,38\n",
            "['35', '36', '38']\n",
            "('35', '36', '38')\n"
          ]
        }
      ],
      "source": [
        "values=input()\n",
        "l=values.split(\",\")\n",
        "t=tuple(l)\n",
        "print(l)\n",
        "print(t)"
      ]
    },
    {
      "cell_type": "markdown",
      "metadata": {
        "id": "n7mvqJqPMg6U"
      },
      "source": [
        "\n",
        "### Question 6\n",
        "Level 2\n",
        "\n",
        "Question:\n",
        "Write a program that calculates and prints the value according to the given formula:\n",
        "Q = Square root of [(2 * C * D)/H]\n",
        "Following are the fixed values of C and H:\n",
        "C is 50. H is 30.\n",
        "D is the variable whose values should be input to your program in a comma-separated sequence.\n",
        "Example\n",
        "Let us assume the following comma separated input sequence is given to the program:\n",
        "100,150,180\n",
        "The output of the program should be:\n",
        "18,22,24\n",
        "\n",
        "Hints:\n",
        "If the output received is in decimal form, it should be rounded off to its nearest value (for example, if the output received is 26.0, it should be printed as 26)\n",
        "In case of input data being supplied to the question, it should be assumed to be a console input.\n"
      ]
    },
    {
      "cell_type": "code",
      "execution_count": null,
      "metadata": {
        "colab": {
          "base_uri": "https://localhost:8080/"
        },
        "id": "gsmQOlzqxQpX",
        "outputId": "692a7c81-3ea2-44f2-9d89-448703b9d2e7"
      },
      "outputs": [
        {
          "name": "stdout",
          "output_type": "stream",
          "text": [
            "23,25,30\n",
            "9,9,10\n"
          ]
        }
      ],
      "source": [
        "import math\n",
        "c=50\n",
        "h=30\n",
        "values = []\n",
        "A= input().split(',')\n",
        "items=[i for i in A ]\n",
        "for d in items:\n",
        "  values.append(str(int(round(math.sqrt(2*c*float(d)/h)))))\n",
        "print(','.join(values))"
      ]
    },
    {
      "cell_type": "markdown",
      "metadata": {
        "id": "PpxohCYr8Lh9"
      },
      "source": [
        "Question 7\n",
        "Level 2\n",
        "\n",
        "Question:\n",
        "Write a program which takes 2 digits, X,Y as input and generates a 2-dimensional array. The element value in the i-th row and j-th column of the array should be i*j.\n",
        "Note: i=0,1.., X-1; j=0,1,¡­Y-1.\n",
        "Example\n",
        "Suppose the following inputs are given to the program:\n",
        "3,5\n",
        "Then, the output of the program should be:\n",
        "[[0, 0, 0, 0, 0], [0, 1, 2, 3, 4], [0, 2, 4, 6, 8]]\n",
        "\n",
        "Hints:\n",
        "Note: In case of input data being supplied to the question, it should be assumed to be a console input in a comma-separated form.\n"
      ]
    },
    {
      "cell_type": "code",
      "execution_count": null,
      "metadata": {
        "id": "N5dLoL68PbJS"
      },
      "outputs": [],
      "source": [
        "input_str= raw_input()\n",
        "diamensions= [int(x) for x in input_str.split(',')]\n",
        "rowNum=diamensions[0]\n",
        "colNum=diamensions[1]\n",
        "multilist=[[0 for col in range(colNum)]]"
      ]
    },
    {
      "cell_type": "code",
      "execution_count": null,
      "metadata": {
        "id": "PwLqecew76Mr"
      },
      "outputs": [],
      "source": []
    },
    {
      "cell_type": "markdown",
      "metadata": {
        "id": "JvYxlYnEoWfn"
      },
      "source": [
        "Week 3 Day 2"
      ]
    },
    {
      "cell_type": "markdown",
      "metadata": {
        "id": "PQpk1OofoaRJ"
      },
      "source": [
        "Sum of list of numbers\n",
        "\n",
        "Write a Python program using recursion to calculate the sum of a list of numbers.\n",
        "\n",
        "Example 1:\n",
        "Input:\n",
        "[2, 4, 5, 6, 7]\n",
        "\n",
        "Output:\n",
        "24"
      ]
    },
    {
      "cell_type": "code",
      "execution_count": null,
      "metadata": {
        "colab": {
          "base_uri": "https://localhost:8080/"
        },
        "id": "Wju3HzSG76Jt",
        "outputId": "e9254e6f-b400-469a-ee3e-d7c15c4b6a6a"
      },
      "outputs": [
        {
          "name": "stdout",
          "output_type": "stream",
          "text": [
            "[2, 4, 5, 6, 7]\n",
            "24\n"
          ]
        }
      ],
      "source": [
        "num_List=eval(input())\n",
        "def list_sum(num_List):\n",
        "    for i in num_List:\n",
        "      return sum(num_List)\n",
        "\n",
        "\n",
        "\n",
        "print(list_sum(num_List))"
      ]
    },
    {
      "cell_type": "code",
      "execution_count": null,
      "metadata": {
        "id": "NUXym98p76G0"
      },
      "outputs": [],
      "source": []
    },
    {
      "cell_type": "code",
      "execution_count": null,
      "metadata": {
        "id": "zcm7nznk76EW"
      },
      "outputs": [],
      "source": []
    },
    {
      "cell_type": "code",
      "execution_count": null,
      "metadata": {
        "id": "0vpJzncw76Aj"
      },
      "outputs": [],
      "source": []
    },
    {
      "cell_type": "code",
      "execution_count": null,
      "metadata": {
        "id": "xbNJAspK759q"
      },
      "outputs": [],
      "source": []
    },
    {
      "cell_type": "code",
      "execution_count": null,
      "metadata": {
        "id": "-47UaeLm756l"
      },
      "outputs": [],
      "source": []
    },
    {
      "cell_type": "code",
      "execution_count": null,
      "metadata": {
        "id": "ZWvnNZQl7538"
      },
      "outputs": [],
      "source": []
    },
    {
      "cell_type": "code",
      "execution_count": null,
      "metadata": {
        "id": "OQ6JfKnf751B"
      },
      "outputs": [],
      "source": []
    },
    {
      "cell_type": "code",
      "execution_count": null,
      "metadata": {
        "id": "jvlqIfr475yl"
      },
      "outputs": [],
      "source": []
    },
    {
      "cell_type": "code",
      "execution_count": null,
      "metadata": {
        "id": "HlQvIBHP75wT"
      },
      "outputs": [],
      "source": []
    },
    {
      "cell_type": "code",
      "execution_count": null,
      "metadata": {
        "id": "URGB0CwN75uP"
      },
      "outputs": [],
      "source": []
    },
    {
      "cell_type": "code",
      "execution_count": null,
      "metadata": {
        "id": "hdheO4aQ75r1"
      },
      "outputs": [],
      "source": []
    },
    {
      "cell_type": "code",
      "execution_count": null,
      "metadata": {
        "id": "hvuteUFc75p1"
      },
      "outputs": [],
      "source": []
    },
    {
      "cell_type": "code",
      "execution_count": null,
      "metadata": {
        "id": "8vTxdCKE75n9"
      },
      "outputs": [],
      "source": []
    },
    {
      "cell_type": "code",
      "execution_count": null,
      "metadata": {
        "id": "SxpsgKrf75lo"
      },
      "outputs": [],
      "source": []
    },
    {
      "cell_type": "code",
      "source": [],
      "metadata": {
        "id": "uo7TK6jPXQzO"
      },
      "execution_count": null,
      "outputs": []
    },
    {
      "cell_type": "markdown",
      "metadata": {
        "id": "YglI678p6Zgf"
      },
      "source": [
        "## Almax"
      ]
    },
    {
      "cell_type": "markdown",
      "metadata": {
        "id": "mLgrMpwuyoyb"
      },
      "source": [
        "# Week 1, Day 2\n"
      ]
    },
    {
      "cell_type": "markdown",
      "metadata": {
        "id": "ccqMCxv71rDv"
      },
      "source": [
        "Swap two numbers\n",
        "\n",
        "Write a Python program to swap two number without using third variable.\n",
        "\n",
        "Example 1:\n",
        "Input:\n",
        "a=9\n",
        "\n",
        "b=2\n",
        "\n",
        "Output:\n",
        "value of a is : 9\n",
        "\n",
        "value of b is : 2\n",
        "\n",
        "After swapping\n",
        "\n",
        "value of a is : 2\n",
        "\n",
        "value of b is : 9"
      ]
    },
    {
      "cell_type": "code",
      "execution_count": null,
      "metadata": {
        "colab": {
          "base_uri": "https://localhost:8080/"
        },
        "id": "d-w3z8_1yoQV",
        "outputId": "2ffcbfbe-0ec2-4cf8-a4ae-f2413523b313"
      },
      "outputs": [
        {
          "name": "stdout",
          "output_type": "stream",
          "text": [
            "3\n",
            "2\n",
            "value of a 2\n",
            "value of b 3\n",
            "value of a 3\n",
            "value of b 2\n"
          ]
        }
      ],
      "source": [
        "\n",
        "  a = int(input())\n",
        "  b = int(input())\n",
        "\n",
        "  c = 0\n",
        "\n",
        "  c = a\n",
        "  a = b\n",
        "  b = c\n",
        "\n",
        "  print('value of a', a)\n",
        "  print('value of b', b)\n",
        "\n",
        "\n"
      ]
    },
    {
      "cell_type": "code",
      "execution_count": null,
      "metadata": {
        "colab": {
          "base_uri": "https://localhost:8080/"
        },
        "id": "a95jkzJsyoNp",
        "outputId": "c53e1319-5613-48d7-eef3-299214dbaf77"
      },
      "outputs": [
        {
          "name": "stdout",
          "output_type": "stream",
          "text": [
            "3\n",
            "2\n",
            "value of a 2\n",
            "value of b 3\n"
          ]
        }
      ],
      "source": [
        "  a = int(input())\n",
        "  b = int(input())\n",
        "# a = 3, b = 2\n",
        "  a = a - b  # 3 - 2 = 1\n",
        "  b = a + b  # 1 + 2 = 3\n",
        "  a = b - a  # 3 - 1 = 2\n",
        "\n",
        "  print('value of a', a)\n",
        "  print('value of b', b)"
      ]
    },
    {
      "cell_type": "markdown",
      "metadata": {
        "id": "62O-J4Ly5iZh"
      },
      "source": [
        "Perfect Number\n",
        "Easy\n",
        "Write a python program to check a given number is perfect or not.\n",
        "\n",
        "Note: A perfect number is a positive integer that is equal to the sum of its positive divisors, excluding the number itself.\n",
        "\n",
        "Lets understand it with example\n",
        "\n",
        "6 is a positive number and its divisor is 1,2,3 and 6 itself.\n",
        "\n",
        "But we should not include 6 as by the definition of perfect number.\n",
        "\n",
        "Lets add its divisor excluding itself\n",
        "\n",
        "1+2+3 = 6 which is equal to number itself.\n",
        "\n",
        "It means 6 is a Perfect Number.\n",
        "\n",
        "Example 1:\n",
        "Input:\n",
        "28\n",
        "\n",
        "Output:\n",
        "It is Perfect Number\n",
        "\n",
        "Example 2:\n",
        "Input:\n",
        "1256488\n",
        "\n",
        "Output:\n",
        "It is not Perfect Number"
      ]
    },
    {
      "cell_type": "code",
      "execution_count": null,
      "metadata": {
        "colab": {
          "base_uri": "https://localhost:8080/"
        },
        "id": "NVC3lh2MyoK0",
        "outputId": "ae1091ba-7386-4a6f-b6eb-12663b471433"
      },
      "outputs": [
        {
          "name": "stdout",
          "output_type": "stream",
          "text": [
            "28\n",
            "It is perfect no\n"
          ]
        }
      ],
      "source": [
        "num = int(input())\n",
        "s = 0\n",
        "for i in range(1, num):\n",
        "  r = num % i\n",
        "  if r == 0:\n",
        "    s = s + i\n",
        "\n",
        "if s == num:\n",
        "  print('It is perfect no')\n",
        "else:\n",
        "  print('It is not perfect no')"
      ]
    },
    {
      "cell_type": "markdown",
      "metadata": {
        "id": "KkvNbojX9KEv"
      },
      "source": [
        "Write a Python program to check whether a String is Palindrome or not?\n",
        "\n",
        "Example 1:\n",
        "Input:\n",
        "madam\n",
        "\n",
        "Output:\n",
        "String is a Palindrome\n",
        "\n",
        "Example 2:\n",
        "Input:\n",
        "abcdxyz\n",
        "\n",
        "Output:\n",
        "String is not a Palindrome"
      ]
    },
    {
      "cell_type": "code",
      "execution_count": null,
      "metadata": {
        "colab": {
          "base_uri": "https://localhost:8080/"
        },
        "id": "2CC3rnigyoHx",
        "outputId": "01afd5c1-b969-4600-da5c-ece524fdbe81"
      },
      "outputs": [
        {
          "name": "stdout",
          "output_type": "stream",
          "text": [
            "String is palindrome\n"
          ]
        }
      ],
      "source": [
        "def pali(string):\n",
        "  if string == string[::-1]:\n",
        "    print('String is palindrome')\n",
        "  else:\n",
        "    print('String is not palindrome')\n",
        "\n",
        "string = 'madam'\n",
        "pali(string)"
      ]
    },
    {
      "cell_type": "markdown",
      "metadata": {
        "id": "BuBNmrJ4-jj7"
      },
      "source": [
        "Find last position of substring\n",
        "Easy\n",
        "Write a python program to find the last position of a given substring.\n",
        "\n",
        "Example 1:\n",
        "Input:\n",
        "Emma is a data scientist who knows Python. Emma works at google.\n",
        "\n",
        "Emma\n",
        "\n",
        "Output:\n",
        "Last occurrence of Emma starts at index 43"
      ]
    },
    {
      "cell_type": "code",
      "execution_count": null,
      "metadata": {
        "colab": {
          "base_uri": "https://localhost:8080/"
        },
        "id": "_bQXDSpRyoE4",
        "outputId": "d1fe6084-5d94-4bbf-ba9d-08ad97a0b864"
      },
      "outputs": [
        {
          "name": "stdout",
          "output_type": "stream",
          "text": [
            "Emma is a data scientist who knows Python. Emma works at google.\n",
            "Emma\n",
            "Last occurrence of Emma of Emma is a data scientist who knows Python. Emma works at google. start at index 43\n"
          ]
        }
      ],
      "source": [
        "str1 = input()\n",
        "substr = input()\n",
        "index = str1.rfind(substr)\n",
        "print('Last occurrence of',substr,'of',str1,'start at index',index)\n"
      ]
    },
    {
      "cell_type": "markdown",
      "metadata": {
        "id": "rCfi1vheDGdV"
      },
      "source": [
        "Remove char. from string\n",
        "Easy\n",
        "Write a python program to remove a given character from string.\n",
        "\n",
        "Example 1:\n",
        "Input:\n",
        "AlmaBetter\n",
        "\n",
        "t\n",
        "\n",
        "Output:\n",
        "almabe er"
      ]
    },
    {
      "cell_type": "code",
      "execution_count": null,
      "metadata": {
        "colab": {
          "base_uri": "https://localhost:8080/"
        },
        "id": "oI9pWHOByoB8",
        "outputId": "db556a0f-3ed7-4a34-eb9a-9eff0949f543"
      },
      "outputs": [
        {
          "name": "stdout",
          "output_type": "stream",
          "text": [
            "AlmaBetter\n",
            "t\n",
            "almabe  er\n"
          ]
        }
      ],
      "source": [
        "str = input()\n",
        "strl= str.lower()\n",
        "ch = input()\n",
        "chl=ch.lower()\n",
        "\n",
        "print(strl.replace(ch,' '))"
      ]
    },
    {
      "cell_type": "markdown",
      "metadata": {
        "id": "zSS0oRwmDrCo"
      },
      "source": [
        "# Week 5: Day 2"
      ]
    },
    {
      "cell_type": "code",
      "execution_count": null,
      "metadata": {
        "id": "X4PMqvFyyn8W",
        "colab": {
          "base_uri": "https://localhost:8080/"
        },
        "outputId": "e5f355ef-ed7f-4060-fbec-8b8d2c32aa10"
      },
      "outputs": [
        {
          "output_type": "stream",
          "name": "stdout",
          "text": [
            "Enter the number of rows: 5\n",
            "Enter the number of columns: 3\n",
            "1.0.1.\n",
            "1.0.1.\n",
            "1.0.1.\n",
            "1.0.1.\n",
            "1.0.1.\n"
          ]
        }
      ],
      "source": [
        "rows = int(input(\"Enter the number of rows: \"))\n",
        "columns = int(input(\"Enter the number of columns: \"))\n",
        "\n",
        "for i in range(rows):\n",
        "    for j in range(columns):\n",
        "        if j % 2 == 0:\n",
        "            print(\"1.\", end=\"\")\n",
        "        else:\n",
        "            print(\"0.\", end=\"\")\n",
        "    print('')"
      ]
    },
    {
      "cell_type": "code",
      "execution_count": null,
      "metadata": {
        "id": "k8OT-ivyDwid",
        "colab": {
          "base_uri": "https://localhost:8080/"
        },
        "outputId": "84d46d76-bed4-4137-b2d7-108557d21cb9"
      },
      "outputs": [
        {
          "output_type": "stream",
          "name": "stdout",
          "text": [
            "Enter the number of rows: 5\n",
            "Enter the number of columns: 5\n",
            "0.0.0.0.0.\n",
            "0.0.0.0.0.\n",
            "0.0.0.0.0.\n",
            "0.0.0.0.0.\n",
            "0.0.0.0.0.\n"
          ]
        }
      ],
      "source": [
        "rows = int(input(\"Enter the number of rows: \"))\n",
        "columns = int(input(\"Enter the number of columns: \"))\n",
        "\n",
        "for i in range(rows):\n",
        "    for j in range(columns):\n",
        "      if\n",
        "            print(\"0.\", end=\"\")\n",
        "    print('')\n"
      ]
    },
    {
      "cell_type": "code",
      "execution_count": null,
      "metadata": {
        "id": "HWMd6kzmDwf2",
        "colab": {
          "base_uri": "https://localhost:8080/"
        },
        "outputId": "8785f0ec-6390-4de8-ecb1-e70526beeaff"
      },
      "outputs": [
        {
          "output_type": "stream",
          "name": "stdout",
          "text": [
            "0.0.0.0.0.0.0.0.0.\n",
            "0.              0.\n",
            "0.              0.\n",
            "0.              0.\n",
            "0.0.0.0.0.0.0.0.0.\n"
          ]
        }
      ],
      "source": [
        "rows = 5\n",
        "columns = 9\n",
        "\n",
        "for i in range(rows):\n",
        "    for j in range(columns):\n",
        "        if i == 0 or i == rows - 1 or j == 0 or j == columns - 1:\n",
        "            print(\"0.\", end=\"\")\n",
        "        else:\n",
        "            print(\"  \", end=\"\")\n",
        "        if j != columns - 1:\n",
        "            print(\"\", end=\"\")\n",
        "    print()"
      ]
    },
    {
      "cell_type": "code",
      "execution_count": null,
      "metadata": {
        "id": "20Df4leTDwcO",
        "colab": {
          "base_uri": "https://localhost:8080/"
        },
        "outputId": "e36292e0-b99e-4ef4-b747-bd4cf9b4384f"
      },
      "outputs": [
        {
          "output_type": "stream",
          "name": "stdout",
          "text": [
            "Output:\n",
            "Ranji*itg*gh\n"
          ]
        }
      ],
      "source": [
        "string= 'Ranjiitggh'\n",
        "\n",
        "result = \"\"\n",
        "\n",
        "for i in range(len(string)-1):\n",
        "    result += string[i]\n",
        "    if string[i] == string[i+1]:\n",
        "        result += \"*\"\n",
        "\n",
        "result += string[-1]\n",
        "\n",
        "print(\"Output:\")\n",
        "print(result)"
      ]
    },
    {
      "cell_type": "markdown",
      "source": [
        "## Week 5: day 4"
      ],
      "metadata": {
        "id": "K7rxT9hHUS_F"
      }
    },
    {
      "cell_type": "code",
      "execution_count": null,
      "metadata": {
        "id": "89FzL8s5DwZI",
        "colab": {
          "base_uri": "https://localhost:8080/"
        },
        "outputId": "8579a057-3e40-4199-ed27-27f8f7361fe7"
      },
      "outputs": [
        {
          "output_type": "stream",
          "name": "stdout",
          "text": [
            "5\n",
            "6\n",
            "4\n",
            "5\n",
            "6\n",
            "5\n",
            "Array elements after removing duplicates\n",
            "6\n",
            "4\n",
            "5\n"
          ]
        }
      ],
      "source": [
        "num_elem = int(input())\n",
        "L = []\n",
        "#input number of elements in loop\n",
        "for t in range(num_elem):\n",
        "  L.append(int(input()))\n",
        "\n",
        "print('Array elements after removing duplicates')\n",
        "unique = []\n",
        "for i in L:\n",
        "  if  i not in unique:\n",
        "    unique.append(i)\n",
        "    print(i)"
      ]
    },
    {
      "cell_type": "code",
      "execution_count": null,
      "metadata": {
        "id": "BL_FsWfNDwWh"
      },
      "outputs": [],
      "source": [
        "Input:\n",
        "['cat', 'car', 'fear', 'center']\n",
        "\n",
        "ca\n",
        "\n",
        "Output:\n",
        "Strings in the said list starting with a given prefix:\n",
        "\n",
        "['cat', 'car']"
      ]
    },
    {
      "cell_type": "code",
      "execution_count": null,
      "metadata": {
        "id": "4maOy0-WDwTD",
        "colab": {
          "base_uri": "https://localhost:8080/"
        },
        "outputId": "d5e9547e-d9c9-4029-eb9e-3cb0f937a0e0"
      },
      "outputs": [
        {
          "output_type": "stream",
          "name": "stdout",
          "text": [
            "Strings in the said list starting with a given prefix:\n",
            "['cat', 'car']\n"
          ]
        }
      ],
      "source": [
        "strs =  ['cat', 'car', 'fear', 'center']\n",
        "prefix = 'ca'\n",
        "\n",
        "pre = []\n",
        "\n",
        "print('Strings in the said list starting with a given prefix:')\n",
        "for i in strs:\n",
        "  if i[:len(prefix)] == prefix:\n",
        "    pre.append(i)\n",
        "\n",
        "print(pre)\n",
        "\n"
      ]
    },
    {
      "cell_type": "code",
      "execution_count": null,
      "metadata": {
        "id": "udXezgV0DwN3",
        "colab": {
          "base_uri": "https://localhost:8080/"
        },
        "outputId": "019de679-b881-49fa-de4e-1db4f49e739e"
      },
      "outputs": [
        {
          "output_type": "stream",
          "name": "stdout",
          "text": [
            "Not a monotonic sequence\n"
          ]
        }
      ],
      "source": [
        "A = [1, 5, 3, 4, 5, 6]\n",
        "increasing = decreasing = False\n",
        "\n",
        "for i in range(len(A) - 1):\n",
        "    current = A[i]\n",
        "    next = A[i + 1]\n",
        "\n",
        "    if next - current == 1:\n",
        "        increasing = True\n",
        "    elif next - current == -1:\n",
        "        decreasing = True\n",
        "    else:\n",
        "        break\n",
        "\n",
        "if increasing and not decreasing:\n",
        "    print(\"Increasing\")\n",
        "elif decreasing and not increasing:\n",
        "    print(\"Decreasing\")\n",
        "else:\n",
        "    print(\"Not a monotonic sequence\")"
      ]
    },
    {
      "cell_type": "code",
      "source": [
        "lst = [1, 2, 3, 4, 5]\n",
        "\n",
        "# Iterate over pairs of elements in the same list\n",
        "for current, next in zip(lst, lst[1:]):\n",
        "    print(current, next)"
      ],
      "metadata": {
        "colab": {
          "base_uri": "https://localhost:8080/",
          "height": 217
        },
        "id": "0zPYOEdxeJZJ",
        "outputId": "e561630f-67b0-4906-8039-59ce33d036a6"
      },
      "execution_count": null,
      "outputs": [
        {
          "output_type": "error",
          "ename": "ValueError",
          "evalue": "ignored",
          "traceback": [
            "\u001b[0;31m---------------------------------------------------------------------------\u001b[0m",
            "\u001b[0;31mValueError\u001b[0m                                Traceback (most recent call last)",
            "\u001b[0;32m<ipython-input-26-7728904c3d24>\u001b[0m in \u001b[0;36m<cell line: 4>\u001b[0;34m()\u001b[0m\n\u001b[1;32m      2\u001b[0m \u001b[0;34m\u001b[0m\u001b[0m\n\u001b[1;32m      3\u001b[0m \u001b[0;31m# Iterate over pairs of elements in the same list\u001b[0m\u001b[0;34m\u001b[0m\u001b[0;34m\u001b[0m\u001b[0m\n\u001b[0;32m----> 4\u001b[0;31m \u001b[0;32mfor\u001b[0m \u001b[0mcurrent\u001b[0m\u001b[0;34m,\u001b[0m \u001b[0mnext\u001b[0m \u001b[0;32min\u001b[0m \u001b[0mzip\u001b[0m\u001b[0;34m(\u001b[0m\u001b[0mlst\u001b[0m\u001b[0;34m)\u001b[0m\u001b[0;34m:\u001b[0m\u001b[0;34m\u001b[0m\u001b[0;34m\u001b[0m\u001b[0m\n\u001b[0m\u001b[1;32m      5\u001b[0m     \u001b[0mprint\u001b[0m\u001b[0;34m(\u001b[0m\u001b[0mcurrent\u001b[0m\u001b[0;34m,\u001b[0m \u001b[0mnext\u001b[0m\u001b[0;34m)\u001b[0m\u001b[0;34m\u001b[0m\u001b[0;34m\u001b[0m\u001b[0m\n",
            "\u001b[0;31mValueError\u001b[0m: not enough values to unpack (expected 2, got 1)"
          ]
        }
      ]
    },
    {
      "cell_type": "markdown",
      "source": [
        "# Week 6 Day- 2"
      ],
      "metadata": {
        "id": "g7OtuK8myTHD"
      }
    },
    {
      "cell_type": "markdown",
      "source": [
        "Most Common Grade\n",
        "\n",
        "Marty Smart, a Math Teacher at Harwood High, has amassed his student’s grades for the semester and has come to you to write a code in python to determine the most common grade."
      ],
      "metadata": {
        "id": "nBTugh694VFx"
      }
    },
    {
      "cell_type": "code",
      "source": [
        "students = {'Marc': 99, 'Amie': 76, 'Jonny': 98, 'Anne': 99, 'Andy': 77, 'Elli': 98, 'Acer': 67,\n",
        "            'Joan': 61, 'Mike': 54, 'Anna': 76, 'Bobi': 67, 'Kate': 99, 'Todd': 98, 'Emma': 49,\n",
        "            'Stan': 76, 'Harv': 99, 'Ward': 67, 'Hank': 54, 'Wendy': 98, 'Sven': 100}\n",
        "\n",
        "\n",
        "\n",
        "A = list(students.values())\n",
        "\n",
        "max = 0\n",
        "res = A[0]\n",
        "for i in A:\n",
        "  freq = A.count(i)\n",
        "  if freq > max:\n",
        "        max = freq\n",
        "        res = i\n",
        "\n",
        "print(res)\n",
        "\n"
      ],
      "metadata": {
        "id": "aG3r_YkmeJWB",
        "colab": {
          "base_uri": "https://localhost:8080/"
        },
        "outputId": "3b723df2-6ead-4706-c385-59b4a9bcd285"
      },
      "execution_count": null,
      "outputs": [
        {
          "output_type": "stream",
          "name": "stdout",
          "text": [
            "99\n"
          ]
        }
      ]
    },
    {
      "cell_type": "markdown",
      "source": [
        "Slice the string\n",
        "\n",
        "Write a code in python to slice the string from rear end till 5th character from the last.\n",
        "\n",
        "Example 1:\n",
        "Input:\n",
        "ALMABETTER\n",
        "\n",
        "Output:\n",
        "RETTE\n",
        "\n"
      ],
      "metadata": {
        "id": "IYz2Ay_M6wPL"
      }
    },
    {
      "cell_type": "code",
      "source": [
        "A = 'ALMABETTER'\n",
        "\n",
        "\n",
        "print(A[-1:4:-1])\n"
      ],
      "metadata": {
        "colab": {
          "base_uri": "https://localhost:8080/"
        },
        "id": "ZyJk0vzT6tDO",
        "outputId": "e21c937d-d174-4ef8-a784-453cc88d07b6"
      },
      "execution_count": null,
      "outputs": [
        {
          "output_type": "stream",
          "name": "stdout",
          "text": [
            "RETTE\n"
          ]
        }
      ]
    },
    {
      "cell_type": "markdown",
      "source": [
        "Reverse the string\n",
        "\n",
        "Write a code in python to reverse the following string using for loop\n",
        "\n",
        "Example 1:\n",
        "Input:\n",
        "ALMABETTER\n",
        "\n",
        "Output:\n",
        "RETTEBAMLA"
      ],
      "metadata": {
        "id": "w_FZMXiE97tK"
      }
    },
    {
      "cell_type": "code",
      "source": [
        "A ='ALMABETTER'\n",
        "\n",
        "print(A[::-1])\n",
        "\n"
      ],
      "metadata": {
        "id": "TyN8hv4heJS1",
        "colab": {
          "base_uri": "https://localhost:8080/"
        },
        "outputId": "0e512251-b54f-4568-d3c9-9884da7c0926"
      },
      "execution_count": null,
      "outputs": [
        {
          "output_type": "stream",
          "name": "stdout",
          "text": [
            "RETTEBAMLA\n"
          ]
        }
      ]
    },
    {
      "cell_type": "markdown",
      "source": [
        "Even and Odd characters\n",
        "\n",
        "Write a python program to print the even and odd index characters of a string.\n",
        "\n",
        "Example 1:\n",
        "Input:\n",
        "ALMABETTER\n",
        "\n",
        "Output:\n",
        "Odd characters: ['A', 'M', 'B', 'T', 'E']\n",
        "\n",
        "Even characters: ['L', 'A', 'E', 'T', 'R']"
      ],
      "metadata": {
        "id": "26HbZU5t-Xjh"
      }
    },
    {
      "cell_type": "code",
      "source": [
        "A = 'ALMABETTER'\n",
        "\n",
        "odd = []\n",
        "even = []\n",
        "for i in range(len(A)):\n",
        "  if (i+1) % 2 != 0:\n",
        "    odd.append(A[i])\n",
        "  else:\n",
        "    even.append(A[i])\n",
        "\n",
        "print(odd)\n",
        "print(even)"
      ],
      "metadata": {
        "id": "KUl0hocEeJQK",
        "colab": {
          "base_uri": "https://localhost:8080/"
        },
        "outputId": "e439af53-8f59-4196-eda9-ad28c8a8f773"
      },
      "execution_count": null,
      "outputs": [
        {
          "output_type": "stream",
          "name": "stdout",
          "text": [
            "['A', 'M', 'B', 'T', 'E']\n",
            "['L', 'A', 'E', 'T', 'R']\n"
          ]
        }
      ]
    },
    {
      "cell_type": "markdown",
      "source": [
        "##Week:- 6 Day:- 5"
      ],
      "metadata": {
        "id": "lwkYpp-U7lZL"
      }
    },
    {
      "cell_type": "markdown",
      "source": [
        "Print even length words\n",
        "\n",
        "Write a Python program to print even length words in a string using list comprehension\n",
        "\n",
        "Example 1:\n",
        "Input:\n",
        "I am working at Almabetter\n",
        "\n",
        "Output:\n",
        "['am', 'at', 'Almabetter']"
      ],
      "metadata": {
        "id": "g-7IRFTc70ye"
      }
    },
    {
      "cell_type": "code",
      "source": [
        "A = 'I am working at Almabetter'\n",
        "\n",
        "L = A.split(' ')\n",
        "P = []\n",
        "print(L)\n",
        "for i in L:\n",
        "  if len(i) % 2 == 0:\n",
        "    P.append(i)\n",
        "print(P)\n",
        "\n"
      ],
      "metadata": {
        "id": "oO1_yXTveJNB",
        "colab": {
          "base_uri": "https://localhost:8080/"
        },
        "outputId": "23c1d85d-2e4d-47b5-fc98-23506f27ace3"
      },
      "execution_count": null,
      "outputs": [
        {
          "output_type": "stream",
          "name": "stdout",
          "text": [
            "['I', 'am', 'working', 'at', 'Almabetter']\n",
            "['am', 'at', 'Almabetter']\n"
          ]
        }
      ]
    },
    {
      "cell_type": "code",
      "source": [
        "A = 'I am working at Almabetter'\n",
        "L = A.split(' ')\n",
        "P = [i for i in L if len(i) % 2 == 0]\n",
        "print(P)"
      ],
      "metadata": {
        "colab": {
          "base_uri": "https://localhost:8080/"
        },
        "id": "dKmizFSHHj44",
        "outputId": "92c0529f-9a93-494f-a1cc-ea7bdb4df439"
      },
      "execution_count": null,
      "outputs": [
        {
          "output_type": "stream",
          "name": "stdout",
          "text": [
            "['am', 'at', 'Almabetter']\n"
          ]
        }
      ]
    },
    {
      "cell_type": "markdown",
      "source": [
        "Concatenate reverse lists\n",
        "Write a python program to divide a list in halves, reverse each halve and concatenate both.\n",
        "\n",
        "Example 1:\n",
        "Input:\n",
        "[1, 2, 3, 4, 5, 6, 7, 8]\n",
        "\n",
        "Output:\n",
        "[4, 3, 2, 1, 8, 7, 6, 5]\n",
        "\n",
        "Explanation:\n",
        "Input List:[1, 2, 3, 4, 5, 6, 7, 8]\n",
        "\n",
        "Splitted Lists: [1, 2, 3, 4] [5, 6, 7, 8]\n",
        "\n",
        "Reversed list 1: [4, 3, 2, 1]\n",
        "\n",
        "Reversed list 2: [8, 7, 6, 5]\n",
        "\n",
        "Concatenated list: [4, 3, 2, 1, 8, 7, 6, 5]"
      ],
      "metadata": {
        "id": "0c5jR2ro-rEC"
      }
    },
    {
      "cell_type": "code",
      "source": [
        "B= [1, 2, 3, 4, 5, 6, 7, 8]\n",
        "\n",
        "first = []\n",
        "last = []\n",
        "\n",
        "for i in B:\n",
        "  if i < (B[int(len(B)/2)]):\n",
        "    first.append(i)\n",
        "  else:\n",
        "    last.append(i)\n",
        "\n",
        "\n",
        "\n",
        "L1 = first[::-1]\n",
        "L2 = last[::-1]\n",
        "\n",
        "print(list(L1 + L2))"
      ],
      "metadata": {
        "id": "nnZ04EgyeJJ5",
        "colab": {
          "base_uri": "https://localhost:8080/"
        },
        "outputId": "0c0fae02-ce99-4cdf-bee0-e74923f3b068"
      },
      "execution_count": null,
      "outputs": [
        {
          "output_type": "stream",
          "name": "stdout",
          "text": [
            "[4, 3, 2, 1, 8, 7, 6, 5]\n"
          ]
        }
      ]
    },
    {
      "cell_type": "code",
      "source": [
        "B = [1, 2, 3, 4, 5, 6, 7, 8]\n",
        "\n",
        "first = [i for i in B if i < B[int(len(B)/2)]]\n",
        "last = [i for i in B if i >= B[int(len(B)/2)]]\n",
        "\n",
        "L1 = first[::-1]\n",
        "L2 = last[::-1]\n",
        "\n",
        "result = list(L1 + L2)\n",
        "print(result)"
      ],
      "metadata": {
        "id": "guMEczqbeJGx",
        "colab": {
          "base_uri": "https://localhost:8080/"
        },
        "outputId": "b85ff48d-8bcf-4778-f7e4-7f66bbbe895b"
      },
      "execution_count": null,
      "outputs": [
        {
          "output_type": "stream",
          "name": "stdout",
          "text": [
            "[4, 3, 2, 1, 8, 7, 6, 5]\n"
          ]
        }
      ]
    },
    {
      "cell_type": "markdown",
      "source": [
        "All indices\n",
        "\n",
        "Write a python program by using the enumerate() function to get all the indexes for the integer 20 in the “nums” list.\n",
        "\n",
        "Example 1:\n",
        "Input:\n",
        "[10,15,20,25,30,14,20,19,34,14,20,12]\n",
        "\n",
        "Output:\n",
        "2,6,10,"
      ],
      "metadata": {
        "id": "A6zeBZIFI9xN"
      }
    },
    {
      "cell_type": "code",
      "source": [
        "A = [10,15,20,25,30,14,20,19,34,14,20,12]\n",
        "\n",
        "for index, nos in enumerate(A):\n",
        "  if nos == 20:\n",
        "    print(index,end = ',')"
      ],
      "metadata": {
        "id": "7T6HdLZzeJDs",
        "colab": {
          "base_uri": "https://localhost:8080/"
        },
        "outputId": "6df8f7e8-4aef-47ad-9418-997f0a6710c5"
      },
      "execution_count": null,
      "outputs": [
        {
          "output_type": "stream",
          "name": "stdout",
          "text": [
            "2,6,10,"
          ]
        }
      ]
    },
    {
      "cell_type": "markdown",
      "source": [
        "Fibonacci Series\n",
        "Easy\n",
        "Write a python program to print fibonacci series upto 15 terms in python.\n",
        "\n",
        "Example 1:\n",
        "Input:\n",
        "15\n",
        "\n",
        "Output:\n",
        "Fibonacci Series: 0,1,1,2,3,5,8,13,21,34,55,89,144,233,377,"
      ],
      "metadata": {
        "id": "a_2XngS2LsyG"
      }
    },
    {
      "cell_type": "code",
      "source": [
        "n = int(input(n))\n",
        "\n",
        "# First two terms of the series\n",
        "a, b = 0, 1\n",
        "\n",
        "# Print the first n terms\n",
        "print(\"Fibonacci Series:\",end = ',')\n",
        "for _ in range(n):\n",
        "    print(a, end=\",\")\n",
        "    a, b = b, a + b\n",
        "\n"
      ],
      "metadata": {
        "id": "8xHWJpojeJAl",
        "colab": {
          "base_uri": "https://localhost:8080/"
        },
        "outputId": "04d25b13-a41c-45d1-d09d-08e743c27d32"
      },
      "execution_count": null,
      "outputs": [
        {
          "output_type": "stream",
          "name": "stdout",
          "text": [
            "1515\n",
            "Fibonacci Series:,0,1,1,2,3,5,8,13,21,34,55,89,144,233,377,"
          ]
        }
      ]
    },
    {
      "cell_type": "code",
      "source": [],
      "metadata": {
        "id": "xvfl0hh-eI-C"
      },
      "execution_count": null,
      "outputs": []
    },
    {
      "cell_type": "code",
      "source": [],
      "metadata": {
        "id": "It45GzwKeI6v"
      },
      "execution_count": null,
      "outputs": []
    },
    {
      "cell_type": "code",
      "source": [],
      "metadata": {
        "id": "kHi-dknqeI4O"
      },
      "execution_count": null,
      "outputs": []
    },
    {
      "cell_type": "code",
      "source": [],
      "metadata": {
        "id": "NytXJwgdeI1r"
      },
      "execution_count": null,
      "outputs": []
    },
    {
      "cell_type": "code",
      "source": [],
      "metadata": {
        "id": "TJOPSW4weIyl"
      },
      "execution_count": null,
      "outputs": []
    },
    {
      "cell_type": "code",
      "source": [],
      "metadata": {
        "id": "rZaNdWPsyP34"
      },
      "execution_count": null,
      "outputs": []
    },
    {
      "cell_type": "markdown",
      "metadata": {
        "id": "H4e4accuzBSj"
      },
      "source": [
        "\n",
        "\n",
        "\n",
        "# **Pandas- Harry YouTube**"
      ]
    },
    {
      "cell_type": "code",
      "execution_count": null,
      "metadata": {
        "id": "CQuwAmY5zA89"
      },
      "outputs": [],
      "source": [
        "import numpy as np\n",
        "import pandas as pd"
      ]
    },
    {
      "cell_type": "code",
      "execution_count": null,
      "metadata": {
        "id": "kjMENeXFzA53"
      },
      "outputs": [],
      "source": [
        "dict1= {\"name\":['harry','rohan','ranjit','rupesh'],\n",
        "         \"marks\":[32,26,42,50],\n",
        "         \"city\":['satara','pune','mumbai','wai']}"
      ]
    },
    {
      "cell_type": "code",
      "execution_count": null,
      "metadata": {
        "colab": {
          "base_uri": "https://localhost:8080/",
          "height": 175
        },
        "id": "-lxUhw3IzA2m",
        "outputId": "829a7409-526b-48db-d00f-741775e2b095"
      },
      "outputs": [
        {
          "data": {
            "text/html": [
              "\n",
              "  <div id=\"df-5940cf59-007e-43df-be00-0c3c7941511a\">\n",
              "    <div class=\"colab-df-container\">\n",
              "      <div>\n",
              "<style scoped>\n",
              "    .dataframe tbody tr th:only-of-type {\n",
              "        vertical-align: middle;\n",
              "    }\n",
              "\n",
              "    .dataframe tbody tr th {\n",
              "        vertical-align: top;\n",
              "    }\n",
              "\n",
              "    .dataframe thead th {\n",
              "        text-align: right;\n",
              "    }\n",
              "</style>\n",
              "<table border=\"1\" class=\"dataframe\">\n",
              "  <thead>\n",
              "    <tr style=\"text-align: right;\">\n",
              "      <th></th>\n",
              "      <th>name</th>\n",
              "      <th>marks</th>\n",
              "      <th>city</th>\n",
              "    </tr>\n",
              "  </thead>\n",
              "  <tbody>\n",
              "    <tr>\n",
              "      <th>0</th>\n",
              "      <td>harry</td>\n",
              "      <td>32</td>\n",
              "      <td>satara</td>\n",
              "    </tr>\n",
              "    <tr>\n",
              "      <th>1</th>\n",
              "      <td>rohan</td>\n",
              "      <td>26</td>\n",
              "      <td>pune</td>\n",
              "    </tr>\n",
              "    <tr>\n",
              "      <th>2</th>\n",
              "      <td>ranjit</td>\n",
              "      <td>42</td>\n",
              "      <td>mumbai</td>\n",
              "    </tr>\n",
              "    <tr>\n",
              "      <th>3</th>\n",
              "      <td>rupesh</td>\n",
              "      <td>50</td>\n",
              "      <td>wai</td>\n",
              "    </tr>\n",
              "  </tbody>\n",
              "</table>\n",
              "</div>\n",
              "      <button class=\"colab-df-convert\" onclick=\"convertToInteractive('df-5940cf59-007e-43df-be00-0c3c7941511a')\"\n",
              "              title=\"Convert this dataframe to an interactive table.\"\n",
              "              style=\"display:none;\">\n",
              "        \n",
              "  <svg xmlns=\"http://www.w3.org/2000/svg\" height=\"24px\"viewBox=\"0 0 24 24\"\n",
              "       width=\"24px\">\n",
              "    <path d=\"M0 0h24v24H0V0z\" fill=\"none\"/>\n",
              "    <path d=\"M18.56 5.44l.94 2.06.94-2.06 2.06-.94-2.06-.94-.94-2.06-.94 2.06-2.06.94zm-11 1L8.5 8.5l.94-2.06 2.06-.94-2.06-.94L8.5 2.5l-.94 2.06-2.06.94zm10 10l.94 2.06.94-2.06 2.06-.94-2.06-.94-.94-2.06-.94 2.06-2.06.94z\"/><path d=\"M17.41 7.96l-1.37-1.37c-.4-.4-.92-.59-1.43-.59-.52 0-1.04.2-1.43.59L10.3 9.45l-7.72 7.72c-.78.78-.78 2.05 0 2.83L4 21.41c.39.39.9.59 1.41.59.51 0 1.02-.2 1.41-.59l7.78-7.78 2.81-2.81c.8-.78.8-2.07 0-2.86zM5.41 20L4 18.59l7.72-7.72 1.47 1.35L5.41 20z\"/>\n",
              "  </svg>\n",
              "      </button>\n",
              "      \n",
              "  <style>\n",
              "    .colab-df-container {\n",
              "      display:flex;\n",
              "      flex-wrap:wrap;\n",
              "      gap: 12px;\n",
              "    }\n",
              "\n",
              "    .colab-df-convert {\n",
              "      background-color: #E8F0FE;\n",
              "      border: none;\n",
              "      border-radius: 50%;\n",
              "      cursor: pointer;\n",
              "      display: none;\n",
              "      fill: #1967D2;\n",
              "      height: 32px;\n",
              "      padding: 0 0 0 0;\n",
              "      width: 32px;\n",
              "    }\n",
              "\n",
              "    .colab-df-convert:hover {\n",
              "      background-color: #E2EBFA;\n",
              "      box-shadow: 0px 1px 2px rgba(60, 64, 67, 0.3), 0px 1px 3px 1px rgba(60, 64, 67, 0.15);\n",
              "      fill: #174EA6;\n",
              "    }\n",
              "\n",
              "    [theme=dark] .colab-df-convert {\n",
              "      background-color: #3B4455;\n",
              "      fill: #D2E3FC;\n",
              "    }\n",
              "\n",
              "    [theme=dark] .colab-df-convert:hover {\n",
              "      background-color: #434B5C;\n",
              "      box-shadow: 0px 1px 3px 1px rgba(0, 0, 0, 0.15);\n",
              "      filter: drop-shadow(0px 1px 2px rgba(0, 0, 0, 0.3));\n",
              "      fill: #FFFFFF;\n",
              "    }\n",
              "  </style>\n",
              "\n",
              "      <script>\n",
              "        const buttonEl =\n",
              "          document.querySelector('#df-5940cf59-007e-43df-be00-0c3c7941511a button.colab-df-convert');\n",
              "        buttonEl.style.display =\n",
              "          google.colab.kernel.accessAllowed ? 'block' : 'none';\n",
              "\n",
              "        async function convertToInteractive(key) {\n",
              "          const element = document.querySelector('#df-5940cf59-007e-43df-be00-0c3c7941511a');\n",
              "          const dataTable =\n",
              "            await google.colab.kernel.invokeFunction('convertToInteractive',\n",
              "                                                     [key], {});\n",
              "          if (!dataTable) return;\n",
              "\n",
              "          const docLinkHtml = 'Like what you see? Visit the ' +\n",
              "            '<a target=\"_blank\" href=https://colab.research.google.com/notebooks/data_table.ipynb>data table notebook</a>'\n",
              "            + ' to learn more about interactive tables.';\n",
              "          element.innerHTML = '';\n",
              "          dataTable['output_type'] = 'display_data';\n",
              "          await google.colab.output.renderOutput(dataTable, element);\n",
              "          const docLink = document.createElement('div');\n",
              "          docLink.innerHTML = docLinkHtml;\n",
              "          element.appendChild(docLink);\n",
              "        }\n",
              "      </script>\n",
              "    </div>\n",
              "  </div>\n",
              "  "
            ],
            "text/plain": [
              "     name  marks    city\n",
              "0   harry     32  satara\n",
              "1   rohan     26    pune\n",
              "2  ranjit     42  mumbai\n",
              "3  rupesh     50     wai"
            ]
          },
          "execution_count": 4,
          "metadata": {},
          "output_type": "execute_result"
        }
      ],
      "source": [
        "df= pd.DataFrame(dict1)\n",
        "df"
      ]
    },
    {
      "cell_type": "code",
      "execution_count": null,
      "metadata": {
        "colab": {
          "base_uri": "https://localhost:8080/"
        },
        "id": "mYm1jue3gQeT",
        "outputId": "cc0b2a19-62bf-41b4-d3f6-7a6e29979589"
      },
      "outputs": [
        {
          "data": {
            "text/plain": [
              "(4, 3)"
            ]
          },
          "execution_count": 11,
          "metadata": {},
          "output_type": "execute_result"
        }
      ],
      "source": [
        "df.shape #Num of rows & columns"
      ]
    },
    {
      "cell_type": "code",
      "execution_count": null,
      "metadata": {
        "colab": {
          "base_uri": "https://localhost:8080/",
          "height": 300
        },
        "id": "fjHlJe1mghzr",
        "outputId": "33d44432-87c8-4490-a3cb-b6c866e82121"
      },
      "outputs": [
        {
          "data": {
            "text/html": [
              "\n",
              "  <div id=\"df-6a5b053f-5efe-4f99-aa62-b42ad6d5df8f\">\n",
              "    <div class=\"colab-df-container\">\n",
              "      <div>\n",
              "<style scoped>\n",
              "    .dataframe tbody tr th:only-of-type {\n",
              "        vertical-align: middle;\n",
              "    }\n",
              "\n",
              "    .dataframe tbody tr th {\n",
              "        vertical-align: top;\n",
              "    }\n",
              "\n",
              "    .dataframe thead th {\n",
              "        text-align: right;\n",
              "    }\n",
              "</style>\n",
              "<table border=\"1\" class=\"dataframe\">\n",
              "  <thead>\n",
              "    <tr style=\"text-align: right;\">\n",
              "      <th></th>\n",
              "      <th>marks</th>\n",
              "    </tr>\n",
              "  </thead>\n",
              "  <tbody>\n",
              "    <tr>\n",
              "      <th>count</th>\n",
              "      <td>4.000000</td>\n",
              "    </tr>\n",
              "    <tr>\n",
              "      <th>mean</th>\n",
              "      <td>37.500000</td>\n",
              "    </tr>\n",
              "    <tr>\n",
              "      <th>std</th>\n",
              "      <td>10.630146</td>\n",
              "    </tr>\n",
              "    <tr>\n",
              "      <th>min</th>\n",
              "      <td>26.000000</td>\n",
              "    </tr>\n",
              "    <tr>\n",
              "      <th>25%</th>\n",
              "      <td>30.500000</td>\n",
              "    </tr>\n",
              "    <tr>\n",
              "      <th>50%</th>\n",
              "      <td>37.000000</td>\n",
              "    </tr>\n",
              "    <tr>\n",
              "      <th>75%</th>\n",
              "      <td>44.000000</td>\n",
              "    </tr>\n",
              "    <tr>\n",
              "      <th>max</th>\n",
              "      <td>50.000000</td>\n",
              "    </tr>\n",
              "  </tbody>\n",
              "</table>\n",
              "</div>\n",
              "      <button class=\"colab-df-convert\" onclick=\"convertToInteractive('df-6a5b053f-5efe-4f99-aa62-b42ad6d5df8f')\"\n",
              "              title=\"Convert this dataframe to an interactive table.\"\n",
              "              style=\"display:none;\">\n",
              "        \n",
              "  <svg xmlns=\"http://www.w3.org/2000/svg\" height=\"24px\"viewBox=\"0 0 24 24\"\n",
              "       width=\"24px\">\n",
              "    <path d=\"M0 0h24v24H0V0z\" fill=\"none\"/>\n",
              "    <path d=\"M18.56 5.44l.94 2.06.94-2.06 2.06-.94-2.06-.94-.94-2.06-.94 2.06-2.06.94zm-11 1L8.5 8.5l.94-2.06 2.06-.94-2.06-.94L8.5 2.5l-.94 2.06-2.06.94zm10 10l.94 2.06.94-2.06 2.06-.94-2.06-.94-.94-2.06-.94 2.06-2.06.94z\"/><path d=\"M17.41 7.96l-1.37-1.37c-.4-.4-.92-.59-1.43-.59-.52 0-1.04.2-1.43.59L10.3 9.45l-7.72 7.72c-.78.78-.78 2.05 0 2.83L4 21.41c.39.39.9.59 1.41.59.51 0 1.02-.2 1.41-.59l7.78-7.78 2.81-2.81c.8-.78.8-2.07 0-2.86zM5.41 20L4 18.59l7.72-7.72 1.47 1.35L5.41 20z\"/>\n",
              "  </svg>\n",
              "      </button>\n",
              "      \n",
              "  <style>\n",
              "    .colab-df-container {\n",
              "      display:flex;\n",
              "      flex-wrap:wrap;\n",
              "      gap: 12px;\n",
              "    }\n",
              "\n",
              "    .colab-df-convert {\n",
              "      background-color: #E8F0FE;\n",
              "      border: none;\n",
              "      border-radius: 50%;\n",
              "      cursor: pointer;\n",
              "      display: none;\n",
              "      fill: #1967D2;\n",
              "      height: 32px;\n",
              "      padding: 0 0 0 0;\n",
              "      width: 32px;\n",
              "    }\n",
              "\n",
              "    .colab-df-convert:hover {\n",
              "      background-color: #E2EBFA;\n",
              "      box-shadow: 0px 1px 2px rgba(60, 64, 67, 0.3), 0px 1px 3px 1px rgba(60, 64, 67, 0.15);\n",
              "      fill: #174EA6;\n",
              "    }\n",
              "\n",
              "    [theme=dark] .colab-df-convert {\n",
              "      background-color: #3B4455;\n",
              "      fill: #D2E3FC;\n",
              "    }\n",
              "\n",
              "    [theme=dark] .colab-df-convert:hover {\n",
              "      background-color: #434B5C;\n",
              "      box-shadow: 0px 1px 3px 1px rgba(0, 0, 0, 0.15);\n",
              "      filter: drop-shadow(0px 1px 2px rgba(0, 0, 0, 0.3));\n",
              "      fill: #FFFFFF;\n",
              "    }\n",
              "  </style>\n",
              "\n",
              "      <script>\n",
              "        const buttonEl =\n",
              "          document.querySelector('#df-6a5b053f-5efe-4f99-aa62-b42ad6d5df8f button.colab-df-convert');\n",
              "        buttonEl.style.display =\n",
              "          google.colab.kernel.accessAllowed ? 'block' : 'none';\n",
              "\n",
              "        async function convertToInteractive(key) {\n",
              "          const element = document.querySelector('#df-6a5b053f-5efe-4f99-aa62-b42ad6d5df8f');\n",
              "          const dataTable =\n",
              "            await google.colab.kernel.invokeFunction('convertToInteractive',\n",
              "                                                     [key], {});\n",
              "          if (!dataTable) return;\n",
              "\n",
              "          const docLinkHtml = 'Like what you see? Visit the ' +\n",
              "            '<a target=\"_blank\" href=https://colab.research.google.com/notebooks/data_table.ipynb>data table notebook</a>'\n",
              "            + ' to learn more about interactive tables.';\n",
              "          element.innerHTML = '';\n",
              "          dataTable['output_type'] = 'display_data';\n",
              "          await google.colab.output.renderOutput(dataTable, element);\n",
              "          const docLink = document.createElement('div');\n",
              "          docLink.innerHTML = docLinkHtml;\n",
              "          element.appendChild(docLink);\n",
              "        }\n",
              "      </script>\n",
              "    </div>\n",
              "  </div>\n",
              "  "
            ],
            "text/plain": [
              "           marks\n",
              "count   4.000000\n",
              "mean   37.500000\n",
              "std    10.630146\n",
              "min    26.000000\n",
              "25%    30.500000\n",
              "50%    37.000000\n",
              "75%    44.000000\n",
              "max    50.000000"
            ]
          },
          "execution_count": 12,
          "metadata": {},
          "output_type": "execute_result"
        }
      ],
      "source": [
        "df.describe() #summary statistics for Num column"
      ]
    },
    {
      "cell_type": "code",
      "execution_count": null,
      "metadata": {
        "colab": {
          "base_uri": "https://localhost:8080/",
          "height": 426
        },
        "id": "_nOw_E9Jghv1",
        "outputId": "10b7d59f-6262-4a34-f50e-3a17a48b04d3"
      },
      "outputs": [
        {
          "data": {
            "text/html": [
              "\n",
              "  <div id=\"df-c5f4d010-805c-405e-87a4-fd7729616ae0\">\n",
              "    <div class=\"colab-df-container\">\n",
              "      <div>\n",
              "<style scoped>\n",
              "    .dataframe tbody tr th:only-of-type {\n",
              "        vertical-align: middle;\n",
              "    }\n",
              "\n",
              "    .dataframe tbody tr th {\n",
              "        vertical-align: top;\n",
              "    }\n",
              "\n",
              "    .dataframe thead th {\n",
              "        text-align: right;\n",
              "    }\n",
              "</style>\n",
              "<table border=\"1\" class=\"dataframe\">\n",
              "  <thead>\n",
              "    <tr style=\"text-align: right;\">\n",
              "      <th></th>\n",
              "      <th>name</th>\n",
              "      <th>marks</th>\n",
              "      <th>city</th>\n",
              "    </tr>\n",
              "  </thead>\n",
              "  <tbody>\n",
              "    <tr>\n",
              "      <th>26</th>\n",
              "      <td>NaN</td>\n",
              "      <td>1.0</td>\n",
              "      <td>NaN</td>\n",
              "    </tr>\n",
              "    <tr>\n",
              "      <th>32</th>\n",
              "      <td>NaN</td>\n",
              "      <td>1.0</td>\n",
              "      <td>NaN</td>\n",
              "    </tr>\n",
              "    <tr>\n",
              "      <th>42</th>\n",
              "      <td>NaN</td>\n",
              "      <td>1.0</td>\n",
              "      <td>NaN</td>\n",
              "    </tr>\n",
              "    <tr>\n",
              "      <th>50</th>\n",
              "      <td>NaN</td>\n",
              "      <td>1.0</td>\n",
              "      <td>NaN</td>\n",
              "    </tr>\n",
              "    <tr>\n",
              "      <th>harry</th>\n",
              "      <td>1.0</td>\n",
              "      <td>NaN</td>\n",
              "      <td>NaN</td>\n",
              "    </tr>\n",
              "    <tr>\n",
              "      <th>mumbai</th>\n",
              "      <td>NaN</td>\n",
              "      <td>NaN</td>\n",
              "      <td>1.0</td>\n",
              "    </tr>\n",
              "    <tr>\n",
              "      <th>pune</th>\n",
              "      <td>NaN</td>\n",
              "      <td>NaN</td>\n",
              "      <td>1.0</td>\n",
              "    </tr>\n",
              "    <tr>\n",
              "      <th>ranjit</th>\n",
              "      <td>1.0</td>\n",
              "      <td>NaN</td>\n",
              "      <td>NaN</td>\n",
              "    </tr>\n",
              "    <tr>\n",
              "      <th>rohan</th>\n",
              "      <td>1.0</td>\n",
              "      <td>NaN</td>\n",
              "      <td>NaN</td>\n",
              "    </tr>\n",
              "    <tr>\n",
              "      <th>rupesh</th>\n",
              "      <td>1.0</td>\n",
              "      <td>NaN</td>\n",
              "      <td>NaN</td>\n",
              "    </tr>\n",
              "    <tr>\n",
              "      <th>satara</th>\n",
              "      <td>NaN</td>\n",
              "      <td>NaN</td>\n",
              "      <td>1.0</td>\n",
              "    </tr>\n",
              "    <tr>\n",
              "      <th>wai</th>\n",
              "      <td>NaN</td>\n",
              "      <td>NaN</td>\n",
              "      <td>1.0</td>\n",
              "    </tr>\n",
              "  </tbody>\n",
              "</table>\n",
              "</div>\n",
              "      <button class=\"colab-df-convert\" onclick=\"convertToInteractive('df-c5f4d010-805c-405e-87a4-fd7729616ae0')\"\n",
              "              title=\"Convert this dataframe to an interactive table.\"\n",
              "              style=\"display:none;\">\n",
              "        \n",
              "  <svg xmlns=\"http://www.w3.org/2000/svg\" height=\"24px\"viewBox=\"0 0 24 24\"\n",
              "       width=\"24px\">\n",
              "    <path d=\"M0 0h24v24H0V0z\" fill=\"none\"/>\n",
              "    <path d=\"M18.56 5.44l.94 2.06.94-2.06 2.06-.94-2.06-.94-.94-2.06-.94 2.06-2.06.94zm-11 1L8.5 8.5l.94-2.06 2.06-.94-2.06-.94L8.5 2.5l-.94 2.06-2.06.94zm10 10l.94 2.06.94-2.06 2.06-.94-2.06-.94-.94-2.06-.94 2.06-2.06.94z\"/><path d=\"M17.41 7.96l-1.37-1.37c-.4-.4-.92-.59-1.43-.59-.52 0-1.04.2-1.43.59L10.3 9.45l-7.72 7.72c-.78.78-.78 2.05 0 2.83L4 21.41c.39.39.9.59 1.41.59.51 0 1.02-.2 1.41-.59l7.78-7.78 2.81-2.81c.8-.78.8-2.07 0-2.86zM5.41 20L4 18.59l7.72-7.72 1.47 1.35L5.41 20z\"/>\n",
              "  </svg>\n",
              "      </button>\n",
              "      \n",
              "  <style>\n",
              "    .colab-df-container {\n",
              "      display:flex;\n",
              "      flex-wrap:wrap;\n",
              "      gap: 12px;\n",
              "    }\n",
              "\n",
              "    .colab-df-convert {\n",
              "      background-color: #E8F0FE;\n",
              "      border: none;\n",
              "      border-radius: 50%;\n",
              "      cursor: pointer;\n",
              "      display: none;\n",
              "      fill: #1967D2;\n",
              "      height: 32px;\n",
              "      padding: 0 0 0 0;\n",
              "      width: 32px;\n",
              "    }\n",
              "\n",
              "    .colab-df-convert:hover {\n",
              "      background-color: #E2EBFA;\n",
              "      box-shadow: 0px 1px 2px rgba(60, 64, 67, 0.3), 0px 1px 3px 1px rgba(60, 64, 67, 0.15);\n",
              "      fill: #174EA6;\n",
              "    }\n",
              "\n",
              "    [theme=dark] .colab-df-convert {\n",
              "      background-color: #3B4455;\n",
              "      fill: #D2E3FC;\n",
              "    }\n",
              "\n",
              "    [theme=dark] .colab-df-convert:hover {\n",
              "      background-color: #434B5C;\n",
              "      box-shadow: 0px 1px 3px 1px rgba(0, 0, 0, 0.15);\n",
              "      filter: drop-shadow(0px 1px 2px rgba(0, 0, 0, 0.3));\n",
              "      fill: #FFFFFF;\n",
              "    }\n",
              "  </style>\n",
              "\n",
              "      <script>\n",
              "        const buttonEl =\n",
              "          document.querySelector('#df-c5f4d010-805c-405e-87a4-fd7729616ae0 button.colab-df-convert');\n",
              "        buttonEl.style.display =\n",
              "          google.colab.kernel.accessAllowed ? 'block' : 'none';\n",
              "\n",
              "        async function convertToInteractive(key) {\n",
              "          const element = document.querySelector('#df-c5f4d010-805c-405e-87a4-fd7729616ae0');\n",
              "          const dataTable =\n",
              "            await google.colab.kernel.invokeFunction('convertToInteractive',\n",
              "                                                     [key], {});\n",
              "          if (!dataTable) return;\n",
              "\n",
              "          const docLinkHtml = 'Like what you see? Visit the ' +\n",
              "            '<a target=\"_blank\" href=https://colab.research.google.com/notebooks/data_table.ipynb>data table notebook</a>'\n",
              "            + ' to learn more about interactive tables.';\n",
              "          element.innerHTML = '';\n",
              "          dataTable['output_type'] = 'display_data';\n",
              "          await google.colab.output.renderOutput(dataTable, element);\n",
              "          const docLink = document.createElement('div');\n",
              "          docLink.innerHTML = docLinkHtml;\n",
              "          element.appendChild(docLink);\n",
              "        }\n",
              "      </script>\n",
              "    </div>\n",
              "  </div>\n",
              "  "
            ],
            "text/plain": [
              "        name  marks  city\n",
              "26       NaN    1.0   NaN\n",
              "32       NaN    1.0   NaN\n",
              "42       NaN    1.0   NaN\n",
              "50       NaN    1.0   NaN\n",
              "harry    1.0    NaN   NaN\n",
              "mumbai   NaN    NaN   1.0\n",
              "pune     NaN    NaN   1.0\n",
              "ranjit   1.0    NaN   NaN\n",
              "rohan    1.0    NaN   NaN\n",
              "rupesh   1.0    NaN   NaN\n",
              "satara   NaN    NaN   1.0\n",
              "wai      NaN    NaN   1.0"
            ]
          },
          "execution_count": 15,
          "metadata": {},
          "output_type": "execute_result"
        }
      ],
      "source": [
        "df.apply (pd.Series.value_counts) #view uniue values & counts for all colums"
      ]
    },
    {
      "cell_type": "code",
      "execution_count": null,
      "metadata": {
        "colab": {
          "base_uri": "https://localhost:8080/",
          "height": 130
        },
        "id": "DCz48DuwghtM",
        "outputId": "9b0aa334-ec9b-4129-c3ad-b0d6a8a1a524"
      },
      "outputs": [
        {
          "ename": "SyntaxError",
          "evalue": "ignored",
          "output_type": "error",
          "traceback": [
            "\u001b[0;36m  File \u001b[0;32m\"<ipython-input-17-4afa897ca7be>\"\u001b[0;36m, line \u001b[0;32m1\u001b[0m\n\u001b[0;31m    df.loc[] #return columns with label col as series\u001b[0m\n\u001b[0m           ^\u001b[0m\n\u001b[0;31mSyntaxError\u001b[0m\u001b[0;31m:\u001b[0m invalid syntax\n"
          ]
        }
      ],
      "source": []
    },
    {
      "cell_type": "code",
      "execution_count": null,
      "metadata": {
        "id": "952pgE_jghqg"
      },
      "outputs": [],
      "source": []
    },
    {
      "cell_type": "code",
      "execution_count": null,
      "metadata": {
        "id": "wf6gf4Iqghn9"
      },
      "outputs": [],
      "source": []
    },
    {
      "cell_type": "code",
      "execution_count": null,
      "metadata": {
        "id": "PvG0Z9QfghlR"
      },
      "outputs": [],
      "source": []
    },
    {
      "cell_type": "code",
      "execution_count": null,
      "metadata": {
        "id": "P9Pyfw_tghiL"
      },
      "outputs": [],
      "source": []
    },
    {
      "cell_type": "code",
      "execution_count": null,
      "metadata": {
        "id": "nCfgafFgghff"
      },
      "outputs": [],
      "source": []
    },
    {
      "cell_type": "code",
      "execution_count": null,
      "metadata": {
        "id": "j374eINeghcf"
      },
      "outputs": [],
      "source": []
    },
    {
      "cell_type": "code",
      "execution_count": null,
      "metadata": {
        "id": "Qx1x0D1BghYr"
      },
      "outputs": [],
      "source": []
    },
    {
      "cell_type": "code",
      "execution_count": null,
      "metadata": {
        "id": "No4xOsguzAzq"
      },
      "outputs": [],
      "source": [
        "#to covert into csv\n",
        "df.to_csv('friend.csv')"
      ]
    },
    {
      "cell_type": "code",
      "execution_count": null,
      "metadata": {
        "id": "jzjsOIdZzAxG"
      },
      "outputs": [],
      "source": [
        "df.to_csv('friend.csv',index=False) #to remove index"
      ]
    },
    {
      "cell_type": "code",
      "execution_count": null,
      "metadata": {
        "colab": {
          "base_uri": "https://localhost:8080/",
          "height": 112
        },
        "id": "hnPMJkhgzAuY",
        "outputId": "e2efad37-eb56-4d7d-d9ed-2f263683ba53"
      },
      "outputs": [
        {
          "data": {
            "text/html": [
              "\n",
              "  <div id=\"df-98e4455e-fad4-49c8-a2e0-652d1efe3c97\">\n",
              "    <div class=\"colab-df-container\">\n",
              "      <div>\n",
              "<style scoped>\n",
              "    .dataframe tbody tr th:only-of-type {\n",
              "        vertical-align: middle;\n",
              "    }\n",
              "\n",
              "    .dataframe tbody tr th {\n",
              "        vertical-align: top;\n",
              "    }\n",
              "\n",
              "    .dataframe thead th {\n",
              "        text-align: right;\n",
              "    }\n",
              "</style>\n",
              "<table border=\"1\" class=\"dataframe\">\n",
              "  <thead>\n",
              "    <tr style=\"text-align: right;\">\n",
              "      <th></th>\n",
              "      <th>name</th>\n",
              "      <th>marks</th>\n",
              "      <th>city</th>\n",
              "    </tr>\n",
              "  </thead>\n",
              "  <tbody>\n",
              "    <tr>\n",
              "      <th>0</th>\n",
              "      <td>harry</td>\n",
              "      <td>32</td>\n",
              "      <td>satara</td>\n",
              "    </tr>\n",
              "    <tr>\n",
              "      <th>1</th>\n",
              "      <td>rohan</td>\n",
              "      <td>26</td>\n",
              "      <td>pune</td>\n",
              "    </tr>\n",
              "  </tbody>\n",
              "</table>\n",
              "</div>\n",
              "      <button class=\"colab-df-convert\" onclick=\"convertToInteractive('df-98e4455e-fad4-49c8-a2e0-652d1efe3c97')\"\n",
              "              title=\"Convert this dataframe to an interactive table.\"\n",
              "              style=\"display:none;\">\n",
              "        \n",
              "  <svg xmlns=\"http://www.w3.org/2000/svg\" height=\"24px\"viewBox=\"0 0 24 24\"\n",
              "       width=\"24px\">\n",
              "    <path d=\"M0 0h24v24H0V0z\" fill=\"none\"/>\n",
              "    <path d=\"M18.56 5.44l.94 2.06.94-2.06 2.06-.94-2.06-.94-.94-2.06-.94 2.06-2.06.94zm-11 1L8.5 8.5l.94-2.06 2.06-.94-2.06-.94L8.5 2.5l-.94 2.06-2.06.94zm10 10l.94 2.06.94-2.06 2.06-.94-2.06-.94-.94-2.06-.94 2.06-2.06.94z\"/><path d=\"M17.41 7.96l-1.37-1.37c-.4-.4-.92-.59-1.43-.59-.52 0-1.04.2-1.43.59L10.3 9.45l-7.72 7.72c-.78.78-.78 2.05 0 2.83L4 21.41c.39.39.9.59 1.41.59.51 0 1.02-.2 1.41-.59l7.78-7.78 2.81-2.81c.8-.78.8-2.07 0-2.86zM5.41 20L4 18.59l7.72-7.72 1.47 1.35L5.41 20z\"/>\n",
              "  </svg>\n",
              "      </button>\n",
              "      \n",
              "  <style>\n",
              "    .colab-df-container {\n",
              "      display:flex;\n",
              "      flex-wrap:wrap;\n",
              "      gap: 12px;\n",
              "    }\n",
              "\n",
              "    .colab-df-convert {\n",
              "      background-color: #E8F0FE;\n",
              "      border: none;\n",
              "      border-radius: 50%;\n",
              "      cursor: pointer;\n",
              "      display: none;\n",
              "      fill: #1967D2;\n",
              "      height: 32px;\n",
              "      padding: 0 0 0 0;\n",
              "      width: 32px;\n",
              "    }\n",
              "\n",
              "    .colab-df-convert:hover {\n",
              "      background-color: #E2EBFA;\n",
              "      box-shadow: 0px 1px 2px rgba(60, 64, 67, 0.3), 0px 1px 3px 1px rgba(60, 64, 67, 0.15);\n",
              "      fill: #174EA6;\n",
              "    }\n",
              "\n",
              "    [theme=dark] .colab-df-convert {\n",
              "      background-color: #3B4455;\n",
              "      fill: #D2E3FC;\n",
              "    }\n",
              "\n",
              "    [theme=dark] .colab-df-convert:hover {\n",
              "      background-color: #434B5C;\n",
              "      box-shadow: 0px 1px 3px 1px rgba(0, 0, 0, 0.15);\n",
              "      filter: drop-shadow(0px 1px 2px rgba(0, 0, 0, 0.3));\n",
              "      fill: #FFFFFF;\n",
              "    }\n",
              "  </style>\n",
              "\n",
              "      <script>\n",
              "        const buttonEl =\n",
              "          document.querySelector('#df-98e4455e-fad4-49c8-a2e0-652d1efe3c97 button.colab-df-convert');\n",
              "        buttonEl.style.display =\n",
              "          google.colab.kernel.accessAllowed ? 'block' : 'none';\n",
              "\n",
              "        async function convertToInteractive(key) {\n",
              "          const element = document.querySelector('#df-98e4455e-fad4-49c8-a2e0-652d1efe3c97');\n",
              "          const dataTable =\n",
              "            await google.colab.kernel.invokeFunction('convertToInteractive',\n",
              "                                                     [key], {});\n",
              "          if (!dataTable) return;\n",
              "\n",
              "          const docLinkHtml = 'Like what you see? Visit the ' +\n",
              "            '<a target=\"_blank\" href=https://colab.research.google.com/notebooks/data_table.ipynb>data table notebook</a>'\n",
              "            + ' to learn more about interactive tables.';\n",
              "          element.innerHTML = '';\n",
              "          dataTable['output_type'] = 'display_data';\n",
              "          await google.colab.output.renderOutput(dataTable, element);\n",
              "          const docLink = document.createElement('div');\n",
              "          docLink.innerHTML = docLinkHtml;\n",
              "          element.appendChild(docLink);\n",
              "        }\n",
              "      </script>\n",
              "    </div>\n",
              "  </div>\n",
              "  "
            ],
            "text/plain": [
              "    name  marks    city\n",
              "0  harry     32  satara\n",
              "1  rohan     26    pune"
            ]
          },
          "execution_count": 7,
          "metadata": {},
          "output_type": "execute_result"
        }
      ],
      "source": [
        "#show some rows\n",
        "df.head(2)"
      ]
    },
    {
      "cell_type": "code",
      "execution_count": null,
      "metadata": {
        "colab": {
          "base_uri": "https://localhost:8080/",
          "height": 112
        },
        "id": "u0oDA9SzzAq5",
        "outputId": "1fe5c1c5-2cdc-4809-9fe0-3de1b9b26fe6"
      },
      "outputs": [
        {
          "data": {
            "text/html": [
              "\n",
              "  <div id=\"df-8d6ea006-6eca-49a4-b7e0-ee4c395f1b14\">\n",
              "    <div class=\"colab-df-container\">\n",
              "      <div>\n",
              "<style scoped>\n",
              "    .dataframe tbody tr th:only-of-type {\n",
              "        vertical-align: middle;\n",
              "    }\n",
              "\n",
              "    .dataframe tbody tr th {\n",
              "        vertical-align: top;\n",
              "    }\n",
              "\n",
              "    .dataframe thead th {\n",
              "        text-align: right;\n",
              "    }\n",
              "</style>\n",
              "<table border=\"1\" class=\"dataframe\">\n",
              "  <thead>\n",
              "    <tr style=\"text-align: right;\">\n",
              "      <th></th>\n",
              "      <th>name</th>\n",
              "      <th>marks</th>\n",
              "      <th>city</th>\n",
              "    </tr>\n",
              "  </thead>\n",
              "  <tbody>\n",
              "    <tr>\n",
              "      <th>2</th>\n",
              "      <td>ranjit</td>\n",
              "      <td>42</td>\n",
              "      <td>mumbai</td>\n",
              "    </tr>\n",
              "    <tr>\n",
              "      <th>3</th>\n",
              "      <td>rupesh</td>\n",
              "      <td>50</td>\n",
              "      <td>wai</td>\n",
              "    </tr>\n",
              "  </tbody>\n",
              "</table>\n",
              "</div>\n",
              "      <button class=\"colab-df-convert\" onclick=\"convertToInteractive('df-8d6ea006-6eca-49a4-b7e0-ee4c395f1b14')\"\n",
              "              title=\"Convert this dataframe to an interactive table.\"\n",
              "              style=\"display:none;\">\n",
              "        \n",
              "  <svg xmlns=\"http://www.w3.org/2000/svg\" height=\"24px\"viewBox=\"0 0 24 24\"\n",
              "       width=\"24px\">\n",
              "    <path d=\"M0 0h24v24H0V0z\" fill=\"none\"/>\n",
              "    <path d=\"M18.56 5.44l.94 2.06.94-2.06 2.06-.94-2.06-.94-.94-2.06-.94 2.06-2.06.94zm-11 1L8.5 8.5l.94-2.06 2.06-.94-2.06-.94L8.5 2.5l-.94 2.06-2.06.94zm10 10l.94 2.06.94-2.06 2.06-.94-2.06-.94-.94-2.06-.94 2.06-2.06.94z\"/><path d=\"M17.41 7.96l-1.37-1.37c-.4-.4-.92-.59-1.43-.59-.52 0-1.04.2-1.43.59L10.3 9.45l-7.72 7.72c-.78.78-.78 2.05 0 2.83L4 21.41c.39.39.9.59 1.41.59.51 0 1.02-.2 1.41-.59l7.78-7.78 2.81-2.81c.8-.78.8-2.07 0-2.86zM5.41 20L4 18.59l7.72-7.72 1.47 1.35L5.41 20z\"/>\n",
              "  </svg>\n",
              "      </button>\n",
              "      \n",
              "  <style>\n",
              "    .colab-df-container {\n",
              "      display:flex;\n",
              "      flex-wrap:wrap;\n",
              "      gap: 12px;\n",
              "    }\n",
              "\n",
              "    .colab-df-convert {\n",
              "      background-color: #E8F0FE;\n",
              "      border: none;\n",
              "      border-radius: 50%;\n",
              "      cursor: pointer;\n",
              "      display: none;\n",
              "      fill: #1967D2;\n",
              "      height: 32px;\n",
              "      padding: 0 0 0 0;\n",
              "      width: 32px;\n",
              "    }\n",
              "\n",
              "    .colab-df-convert:hover {\n",
              "      background-color: #E2EBFA;\n",
              "      box-shadow: 0px 1px 2px rgba(60, 64, 67, 0.3), 0px 1px 3px 1px rgba(60, 64, 67, 0.15);\n",
              "      fill: #174EA6;\n",
              "    }\n",
              "\n",
              "    [theme=dark] .colab-df-convert {\n",
              "      background-color: #3B4455;\n",
              "      fill: #D2E3FC;\n",
              "    }\n",
              "\n",
              "    [theme=dark] .colab-df-convert:hover {\n",
              "      background-color: #434B5C;\n",
              "      box-shadow: 0px 1px 3px 1px rgba(0, 0, 0, 0.15);\n",
              "      filter: drop-shadow(0px 1px 2px rgba(0, 0, 0, 0.3));\n",
              "      fill: #FFFFFF;\n",
              "    }\n",
              "  </style>\n",
              "\n",
              "      <script>\n",
              "        const buttonEl =\n",
              "          document.querySelector('#df-8d6ea006-6eca-49a4-b7e0-ee4c395f1b14 button.colab-df-convert');\n",
              "        buttonEl.style.display =\n",
              "          google.colab.kernel.accessAllowed ? 'block' : 'none';\n",
              "\n",
              "        async function convertToInteractive(key) {\n",
              "          const element = document.querySelector('#df-8d6ea006-6eca-49a4-b7e0-ee4c395f1b14');\n",
              "          const dataTable =\n",
              "            await google.colab.kernel.invokeFunction('convertToInteractive',\n",
              "                                                     [key], {});\n",
              "          if (!dataTable) return;\n",
              "\n",
              "          const docLinkHtml = 'Like what you see? Visit the ' +\n",
              "            '<a target=\"_blank\" href=https://colab.research.google.com/notebooks/data_table.ipynb>data table notebook</a>'\n",
              "            + ' to learn more about interactive tables.';\n",
              "          element.innerHTML = '';\n",
              "          dataTable['output_type'] = 'display_data';\n",
              "          await google.colab.output.renderOutput(dataTable, element);\n",
              "          const docLink = document.createElement('div');\n",
              "          docLink.innerHTML = docLinkHtml;\n",
              "          element.appendChild(docLink);\n",
              "        }\n",
              "      </script>\n",
              "    </div>\n",
              "  </div>\n",
              "  "
            ],
            "text/plain": [
              "     name  marks    city\n",
              "2  ranjit     42  mumbai\n",
              "3  rupesh     50     wai"
            ]
          },
          "execution_count": 8,
          "metadata": {},
          "output_type": "execute_result"
        }
      ],
      "source": [
        "#bottom rows\n",
        "df.tail(2)"
      ]
    },
    {
      "cell_type": "code",
      "execution_count": null,
      "metadata": {
        "colab": {
          "base_uri": "https://localhost:8080/",
          "height": 300
        },
        "id": "YCeRpWLNzAnl",
        "outputId": "f435da63-a900-4d50-dda6-80879c290a2c"
      },
      "outputs": [
        {
          "data": {
            "text/html": [
              "\n",
              "  <div id=\"df-9ba93f37-0b56-4a65-b3bb-d881c7b8a0cb\">\n",
              "    <div class=\"colab-df-container\">\n",
              "      <div>\n",
              "<style scoped>\n",
              "    .dataframe tbody tr th:only-of-type {\n",
              "        vertical-align: middle;\n",
              "    }\n",
              "\n",
              "    .dataframe tbody tr th {\n",
              "        vertical-align: top;\n",
              "    }\n",
              "\n",
              "    .dataframe thead th {\n",
              "        text-align: right;\n",
              "    }\n",
              "</style>\n",
              "<table border=\"1\" class=\"dataframe\">\n",
              "  <thead>\n",
              "    <tr style=\"text-align: right;\">\n",
              "      <th></th>\n",
              "      <th>marks</th>\n",
              "    </tr>\n",
              "  </thead>\n",
              "  <tbody>\n",
              "    <tr>\n",
              "      <th>count</th>\n",
              "      <td>4.000000</td>\n",
              "    </tr>\n",
              "    <tr>\n",
              "      <th>mean</th>\n",
              "      <td>37.500000</td>\n",
              "    </tr>\n",
              "    <tr>\n",
              "      <th>std</th>\n",
              "      <td>10.630146</td>\n",
              "    </tr>\n",
              "    <tr>\n",
              "      <th>min</th>\n",
              "      <td>26.000000</td>\n",
              "    </tr>\n",
              "    <tr>\n",
              "      <th>25%</th>\n",
              "      <td>30.500000</td>\n",
              "    </tr>\n",
              "    <tr>\n",
              "      <th>50%</th>\n",
              "      <td>37.000000</td>\n",
              "    </tr>\n",
              "    <tr>\n",
              "      <th>75%</th>\n",
              "      <td>44.000000</td>\n",
              "    </tr>\n",
              "    <tr>\n",
              "      <th>max</th>\n",
              "      <td>50.000000</td>\n",
              "    </tr>\n",
              "  </tbody>\n",
              "</table>\n",
              "</div>\n",
              "      <button class=\"colab-df-convert\" onclick=\"convertToInteractive('df-9ba93f37-0b56-4a65-b3bb-d881c7b8a0cb')\"\n",
              "              title=\"Convert this dataframe to an interactive table.\"\n",
              "              style=\"display:none;\">\n",
              "        \n",
              "  <svg xmlns=\"http://www.w3.org/2000/svg\" height=\"24px\"viewBox=\"0 0 24 24\"\n",
              "       width=\"24px\">\n",
              "    <path d=\"M0 0h24v24H0V0z\" fill=\"none\"/>\n",
              "    <path d=\"M18.56 5.44l.94 2.06.94-2.06 2.06-.94-2.06-.94-.94-2.06-.94 2.06-2.06.94zm-11 1L8.5 8.5l.94-2.06 2.06-.94-2.06-.94L8.5 2.5l-.94 2.06-2.06.94zm10 10l.94 2.06.94-2.06 2.06-.94-2.06-.94-.94-2.06-.94 2.06-2.06.94z\"/><path d=\"M17.41 7.96l-1.37-1.37c-.4-.4-.92-.59-1.43-.59-.52 0-1.04.2-1.43.59L10.3 9.45l-7.72 7.72c-.78.78-.78 2.05 0 2.83L4 21.41c.39.39.9.59 1.41.59.51 0 1.02-.2 1.41-.59l7.78-7.78 2.81-2.81c.8-.78.8-2.07 0-2.86zM5.41 20L4 18.59l7.72-7.72 1.47 1.35L5.41 20z\"/>\n",
              "  </svg>\n",
              "      </button>\n",
              "      \n",
              "  <style>\n",
              "    .colab-df-container {\n",
              "      display:flex;\n",
              "      flex-wrap:wrap;\n",
              "      gap: 12px;\n",
              "    }\n",
              "\n",
              "    .colab-df-convert {\n",
              "      background-color: #E8F0FE;\n",
              "      border: none;\n",
              "      border-radius: 50%;\n",
              "      cursor: pointer;\n",
              "      display: none;\n",
              "      fill: #1967D2;\n",
              "      height: 32px;\n",
              "      padding: 0 0 0 0;\n",
              "      width: 32px;\n",
              "    }\n",
              "\n",
              "    .colab-df-convert:hover {\n",
              "      background-color: #E2EBFA;\n",
              "      box-shadow: 0px 1px 2px rgba(60, 64, 67, 0.3), 0px 1px 3px 1px rgba(60, 64, 67, 0.15);\n",
              "      fill: #174EA6;\n",
              "    }\n",
              "\n",
              "    [theme=dark] .colab-df-convert {\n",
              "      background-color: #3B4455;\n",
              "      fill: #D2E3FC;\n",
              "    }\n",
              "\n",
              "    [theme=dark] .colab-df-convert:hover {\n",
              "      background-color: #434B5C;\n",
              "      box-shadow: 0px 1px 3px 1px rgba(0, 0, 0, 0.15);\n",
              "      filter: drop-shadow(0px 1px 2px rgba(0, 0, 0, 0.3));\n",
              "      fill: #FFFFFF;\n",
              "    }\n",
              "  </style>\n",
              "\n",
              "      <script>\n",
              "        const buttonEl =\n",
              "          document.querySelector('#df-9ba93f37-0b56-4a65-b3bb-d881c7b8a0cb button.colab-df-convert');\n",
              "        buttonEl.style.display =\n",
              "          google.colab.kernel.accessAllowed ? 'block' : 'none';\n",
              "\n",
              "        async function convertToInteractive(key) {\n",
              "          const element = document.querySelector('#df-9ba93f37-0b56-4a65-b3bb-d881c7b8a0cb');\n",
              "          const dataTable =\n",
              "            await google.colab.kernel.invokeFunction('convertToInteractive',\n",
              "                                                     [key], {});\n",
              "          if (!dataTable) return;\n",
              "\n",
              "          const docLinkHtml = 'Like what you see? Visit the ' +\n",
              "            '<a target=\"_blank\" href=https://colab.research.google.com/notebooks/data_table.ipynb>data table notebook</a>'\n",
              "            + ' to learn more about interactive tables.';\n",
              "          element.innerHTML = '';\n",
              "          dataTable['output_type'] = 'display_data';\n",
              "          await google.colab.output.renderOutput(dataTable, element);\n",
              "          const docLink = document.createElement('div');\n",
              "          docLink.innerHTML = docLinkHtml;\n",
              "          element.appendChild(docLink);\n",
              "        }\n",
              "      </script>\n",
              "    </div>\n",
              "  </div>\n",
              "  "
            ],
            "text/plain": [
              "           marks\n",
              "count   4.000000\n",
              "mean   37.500000\n",
              "std    10.630146\n",
              "min    26.000000\n",
              "25%    30.500000\n",
              "50%    37.000000\n",
              "75%    44.000000\n",
              "max    50.000000"
            ]
          },
          "execution_count": 9,
          "metadata": {},
          "output_type": "execute_result"
        }
      ],
      "source": [
        "df.describe() #statistical analysis of data"
      ]
    },
    {
      "cell_type": "code",
      "execution_count": null,
      "metadata": {
        "id": "gFdEyCovzAlA"
      },
      "outputs": [],
      "source": [
        "#ranjit=pd.read_csv('  ') #read csv file"
      ]
    },
    {
      "cell_type": "code",
      "execution_count": null,
      "metadata": {
        "colab": {
          "base_uri": "https://localhost:8080/",
          "height": 175
        },
        "id": "yjYHHV43zAif",
        "outputId": "26ba41f1-1dd4-44fe-bd5f-07afc1da21fc"
      },
      "outputs": [
        {
          "data": {
            "text/html": [
              "\n",
              "  <div id=\"df-e2603535-7467-4014-95d0-bac7b47c5fc6\">\n",
              "    <div class=\"colab-df-container\">\n",
              "      <div>\n",
              "<style scoped>\n",
              "    .dataframe tbody tr th:only-of-type {\n",
              "        vertical-align: middle;\n",
              "    }\n",
              "\n",
              "    .dataframe tbody tr th {\n",
              "        vertical-align: top;\n",
              "    }\n",
              "\n",
              "    .dataframe thead th {\n",
              "        text-align: right;\n",
              "    }\n",
              "</style>\n",
              "<table border=\"1\" class=\"dataframe\">\n",
              "  <thead>\n",
              "    <tr style=\"text-align: right;\">\n",
              "      <th></th>\n",
              "      <th>name</th>\n",
              "      <th>marks</th>\n",
              "      <th>city</th>\n",
              "    </tr>\n",
              "  </thead>\n",
              "  <tbody>\n",
              "    <tr>\n",
              "      <th>0</th>\n",
              "      <td>harry</td>\n",
              "      <td>32</td>\n",
              "      <td>satara</td>\n",
              "    </tr>\n",
              "    <tr>\n",
              "      <th>1</th>\n",
              "      <td>rohan</td>\n",
              "      <td>26</td>\n",
              "      <td>pune</td>\n",
              "    </tr>\n",
              "    <tr>\n",
              "      <th>2</th>\n",
              "      <td>ranjit</td>\n",
              "      <td>42</td>\n",
              "      <td>mumbai</td>\n",
              "    </tr>\n",
              "    <tr>\n",
              "      <th>3</th>\n",
              "      <td>rupesh</td>\n",
              "      <td>50</td>\n",
              "      <td>wai</td>\n",
              "    </tr>\n",
              "  </tbody>\n",
              "</table>\n",
              "</div>\n",
              "      <button class=\"colab-df-convert\" onclick=\"convertToInteractive('df-e2603535-7467-4014-95d0-bac7b47c5fc6')\"\n",
              "              title=\"Convert this dataframe to an interactive table.\"\n",
              "              style=\"display:none;\">\n",
              "        \n",
              "  <svg xmlns=\"http://www.w3.org/2000/svg\" height=\"24px\"viewBox=\"0 0 24 24\"\n",
              "       width=\"24px\">\n",
              "    <path d=\"M0 0h24v24H0V0z\" fill=\"none\"/>\n",
              "    <path d=\"M18.56 5.44l.94 2.06.94-2.06 2.06-.94-2.06-.94-.94-2.06-.94 2.06-2.06.94zm-11 1L8.5 8.5l.94-2.06 2.06-.94-2.06-.94L8.5 2.5l-.94 2.06-2.06.94zm10 10l.94 2.06.94-2.06 2.06-.94-2.06-.94-.94-2.06-.94 2.06-2.06.94z\"/><path d=\"M17.41 7.96l-1.37-1.37c-.4-.4-.92-.59-1.43-.59-.52 0-1.04.2-1.43.59L10.3 9.45l-7.72 7.72c-.78.78-.78 2.05 0 2.83L4 21.41c.39.39.9.59 1.41.59.51 0 1.02-.2 1.41-.59l7.78-7.78 2.81-2.81c.8-.78.8-2.07 0-2.86zM5.41 20L4 18.59l7.72-7.72 1.47 1.35L5.41 20z\"/>\n",
              "  </svg>\n",
              "      </button>\n",
              "      \n",
              "  <style>\n",
              "    .colab-df-container {\n",
              "      display:flex;\n",
              "      flex-wrap:wrap;\n",
              "      gap: 12px;\n",
              "    }\n",
              "\n",
              "    .colab-df-convert {\n",
              "      background-color: #E8F0FE;\n",
              "      border: none;\n",
              "      border-radius: 50%;\n",
              "      cursor: pointer;\n",
              "      display: none;\n",
              "      fill: #1967D2;\n",
              "      height: 32px;\n",
              "      padding: 0 0 0 0;\n",
              "      width: 32px;\n",
              "    }\n",
              "\n",
              "    .colab-df-convert:hover {\n",
              "      background-color: #E2EBFA;\n",
              "      box-shadow: 0px 1px 2px rgba(60, 64, 67, 0.3), 0px 1px 3px 1px rgba(60, 64, 67, 0.15);\n",
              "      fill: #174EA6;\n",
              "    }\n",
              "\n",
              "    [theme=dark] .colab-df-convert {\n",
              "      background-color: #3B4455;\n",
              "      fill: #D2E3FC;\n",
              "    }\n",
              "\n",
              "    [theme=dark] .colab-df-convert:hover {\n",
              "      background-color: #434B5C;\n",
              "      box-shadow: 0px 1px 3px 1px rgba(0, 0, 0, 0.15);\n",
              "      filter: drop-shadow(0px 1px 2px rgba(0, 0, 0, 0.3));\n",
              "      fill: #FFFFFF;\n",
              "    }\n",
              "  </style>\n",
              "\n",
              "      <script>\n",
              "        const buttonEl =\n",
              "          document.querySelector('#df-e2603535-7467-4014-95d0-bac7b47c5fc6 button.colab-df-convert');\n",
              "        buttonEl.style.display =\n",
              "          google.colab.kernel.accessAllowed ? 'block' : 'none';\n",
              "\n",
              "        async function convertToInteractive(key) {\n",
              "          const element = document.querySelector('#df-e2603535-7467-4014-95d0-bac7b47c5fc6');\n",
              "          const dataTable =\n",
              "            await google.colab.kernel.invokeFunction('convertToInteractive',\n",
              "                                                     [key], {});\n",
              "          if (!dataTable) return;\n",
              "\n",
              "          const docLinkHtml = 'Like what you see? Visit the ' +\n",
              "            '<a target=\"_blank\" href=https://colab.research.google.com/notebooks/data_table.ipynb>data table notebook</a>'\n",
              "            + ' to learn more about interactive tables.';\n",
              "          element.innerHTML = '';\n",
              "          dataTable['output_type'] = 'display_data';\n",
              "          await google.colab.output.renderOutput(dataTable, element);\n",
              "          const docLink = document.createElement('div');\n",
              "          docLink.innerHTML = docLinkHtml;\n",
              "          element.appendChild(docLink);\n",
              "        }\n",
              "      </script>\n",
              "    </div>\n",
              "  </div>\n",
              "  "
            ],
            "text/plain": [
              "     name  marks    city\n",
              "0   harry     32  satara\n",
              "1   rohan     26    pune\n",
              "2  ranjit     42  mumbai\n",
              "3  rupesh     50     wai"
            ]
          },
          "execution_count": 75,
          "metadata": {},
          "output_type": "execute_result"
        }
      ],
      "source": [
        "df"
      ]
    },
    {
      "cell_type": "code",
      "execution_count": null,
      "metadata": {
        "colab": {
          "base_uri": "https://localhost:8080/"
        },
        "id": "7gW41dJczAez",
        "outputId": "330cf220-bb0d-488c-9a87-adfcc2abb312"
      },
      "outputs": [
        {
          "name": "stderr",
          "output_type": "stream",
          "text": [
            "<ipython-input-76-fc9f0a609948>:1: SettingWithCopyWarning: \n",
            "A value is trying to be set on a copy of a slice from a DataFrame\n",
            "\n",
            "See the caveats in the documentation: https://pandas.pydata.org/pandas-docs/stable/user_guide/indexing.html#returning-a-view-versus-a-copy\n",
            "  df['name'][1]='ramesh'\n"
          ]
        }
      ],
      "source": [
        "df['name'][1]='ramesh'"
      ]
    },
    {
      "cell_type": "code",
      "execution_count": null,
      "metadata": {
        "colab": {
          "base_uri": "https://localhost:8080/",
          "height": 175
        },
        "id": "FPlxlM9fzAbn",
        "outputId": "8e71d24b-a51b-4d27-e3f1-d2a76ee5c702"
      },
      "outputs": [
        {
          "data": {
            "text/html": [
              "\n",
              "  <div id=\"df-e5402462-3c10-4571-bbe7-c7ae239a4936\">\n",
              "    <div class=\"colab-df-container\">\n",
              "      <div>\n",
              "<style scoped>\n",
              "    .dataframe tbody tr th:only-of-type {\n",
              "        vertical-align: middle;\n",
              "    }\n",
              "\n",
              "    .dataframe tbody tr th {\n",
              "        vertical-align: top;\n",
              "    }\n",
              "\n",
              "    .dataframe thead th {\n",
              "        text-align: right;\n",
              "    }\n",
              "</style>\n",
              "<table border=\"1\" class=\"dataframe\">\n",
              "  <thead>\n",
              "    <tr style=\"text-align: right;\">\n",
              "      <th></th>\n",
              "      <th>name</th>\n",
              "      <th>marks</th>\n",
              "      <th>city</th>\n",
              "    </tr>\n",
              "  </thead>\n",
              "  <tbody>\n",
              "    <tr>\n",
              "      <th>0</th>\n",
              "      <td>harry</td>\n",
              "      <td>32</td>\n",
              "      <td>satara</td>\n",
              "    </tr>\n",
              "    <tr>\n",
              "      <th>1</th>\n",
              "      <td>ramesh</td>\n",
              "      <td>26</td>\n",
              "      <td>pune</td>\n",
              "    </tr>\n",
              "    <tr>\n",
              "      <th>2</th>\n",
              "      <td>ranjit</td>\n",
              "      <td>42</td>\n",
              "      <td>mumbai</td>\n",
              "    </tr>\n",
              "    <tr>\n",
              "      <th>3</th>\n",
              "      <td>rupesh</td>\n",
              "      <td>50</td>\n",
              "      <td>wai</td>\n",
              "    </tr>\n",
              "  </tbody>\n",
              "</table>\n",
              "</div>\n",
              "      <button class=\"colab-df-convert\" onclick=\"convertToInteractive('df-e5402462-3c10-4571-bbe7-c7ae239a4936')\"\n",
              "              title=\"Convert this dataframe to an interactive table.\"\n",
              "              style=\"display:none;\">\n",
              "        \n",
              "  <svg xmlns=\"http://www.w3.org/2000/svg\" height=\"24px\"viewBox=\"0 0 24 24\"\n",
              "       width=\"24px\">\n",
              "    <path d=\"M0 0h24v24H0V0z\" fill=\"none\"/>\n",
              "    <path d=\"M18.56 5.44l.94 2.06.94-2.06 2.06-.94-2.06-.94-.94-2.06-.94 2.06-2.06.94zm-11 1L8.5 8.5l.94-2.06 2.06-.94-2.06-.94L8.5 2.5l-.94 2.06-2.06.94zm10 10l.94 2.06.94-2.06 2.06-.94-2.06-.94-.94-2.06-.94 2.06-2.06.94z\"/><path d=\"M17.41 7.96l-1.37-1.37c-.4-.4-.92-.59-1.43-.59-.52 0-1.04.2-1.43.59L10.3 9.45l-7.72 7.72c-.78.78-.78 2.05 0 2.83L4 21.41c.39.39.9.59 1.41.59.51 0 1.02-.2 1.41-.59l7.78-7.78 2.81-2.81c.8-.78.8-2.07 0-2.86zM5.41 20L4 18.59l7.72-7.72 1.47 1.35L5.41 20z\"/>\n",
              "  </svg>\n",
              "      </button>\n",
              "      \n",
              "  <style>\n",
              "    .colab-df-container {\n",
              "      display:flex;\n",
              "      flex-wrap:wrap;\n",
              "      gap: 12px;\n",
              "    }\n",
              "\n",
              "    .colab-df-convert {\n",
              "      background-color: #E8F0FE;\n",
              "      border: none;\n",
              "      border-radius: 50%;\n",
              "      cursor: pointer;\n",
              "      display: none;\n",
              "      fill: #1967D2;\n",
              "      height: 32px;\n",
              "      padding: 0 0 0 0;\n",
              "      width: 32px;\n",
              "    }\n",
              "\n",
              "    .colab-df-convert:hover {\n",
              "      background-color: #E2EBFA;\n",
              "      box-shadow: 0px 1px 2px rgba(60, 64, 67, 0.3), 0px 1px 3px 1px rgba(60, 64, 67, 0.15);\n",
              "      fill: #174EA6;\n",
              "    }\n",
              "\n",
              "    [theme=dark] .colab-df-convert {\n",
              "      background-color: #3B4455;\n",
              "      fill: #D2E3FC;\n",
              "    }\n",
              "\n",
              "    [theme=dark] .colab-df-convert:hover {\n",
              "      background-color: #434B5C;\n",
              "      box-shadow: 0px 1px 3px 1px rgba(0, 0, 0, 0.15);\n",
              "      filter: drop-shadow(0px 1px 2px rgba(0, 0, 0, 0.3));\n",
              "      fill: #FFFFFF;\n",
              "    }\n",
              "  </style>\n",
              "\n",
              "      <script>\n",
              "        const buttonEl =\n",
              "          document.querySelector('#df-e5402462-3c10-4571-bbe7-c7ae239a4936 button.colab-df-convert');\n",
              "        buttonEl.style.display =\n",
              "          google.colab.kernel.accessAllowed ? 'block' : 'none';\n",
              "\n",
              "        async function convertToInteractive(key) {\n",
              "          const element = document.querySelector('#df-e5402462-3c10-4571-bbe7-c7ae239a4936');\n",
              "          const dataTable =\n",
              "            await google.colab.kernel.invokeFunction('convertToInteractive',\n",
              "                                                     [key], {});\n",
              "          if (!dataTable) return;\n",
              "\n",
              "          const docLinkHtml = 'Like what you see? Visit the ' +\n",
              "            '<a target=\"_blank\" href=https://colab.research.google.com/notebooks/data_table.ipynb>data table notebook</a>'\n",
              "            + ' to learn more about interactive tables.';\n",
              "          element.innerHTML = '';\n",
              "          dataTable['output_type'] = 'display_data';\n",
              "          await google.colab.output.renderOutput(dataTable, element);\n",
              "          const docLink = document.createElement('div');\n",
              "          docLink.innerHTML = docLinkHtml;\n",
              "          element.appendChild(docLink);\n",
              "        }\n",
              "      </script>\n",
              "    </div>\n",
              "  </div>\n",
              "  "
            ],
            "text/plain": [
              "     name  marks    city\n",
              "0   harry     32  satara\n",
              "1  ramesh     26    pune\n",
              "2  ranjit     42  mumbai\n",
              "3  rupesh     50     wai"
            ]
          },
          "execution_count": 77,
          "metadata": {},
          "output_type": "execute_result"
        }
      ],
      "source": [
        "df"
      ]
    },
    {
      "cell_type": "code",
      "execution_count": null,
      "metadata": {
        "colab": {
          "base_uri": "https://localhost:8080/",
          "height": 175
        },
        "id": "YHYn8UtszAZA",
        "outputId": "f772342d-1848-42bb-fc27-640320ed9845"
      },
      "outputs": [
        {
          "data": {
            "text/html": [
              "\n",
              "  <div id=\"df-3c90f6e4-a1a1-4dd1-bd05-6694eebf8516\">\n",
              "    <div class=\"colab-df-container\">\n",
              "      <div>\n",
              "<style scoped>\n",
              "    .dataframe tbody tr th:only-of-type {\n",
              "        vertical-align: middle;\n",
              "    }\n",
              "\n",
              "    .dataframe tbody tr th {\n",
              "        vertical-align: top;\n",
              "    }\n",
              "\n",
              "    .dataframe thead th {\n",
              "        text-align: right;\n",
              "    }\n",
              "</style>\n",
              "<table border=\"1\" class=\"dataframe\">\n",
              "  <thead>\n",
              "    <tr style=\"text-align: right;\">\n",
              "      <th></th>\n",
              "      <th>name</th>\n",
              "      <th>marks</th>\n",
              "      <th>city</th>\n",
              "    </tr>\n",
              "  </thead>\n",
              "  <tbody>\n",
              "    <tr>\n",
              "      <th>1st</th>\n",
              "      <td>harry</td>\n",
              "      <td>32</td>\n",
              "      <td>satara</td>\n",
              "    </tr>\n",
              "    <tr>\n",
              "      <th>2nd</th>\n",
              "      <td>ramesh</td>\n",
              "      <td>26</td>\n",
              "      <td>pune</td>\n",
              "    </tr>\n",
              "    <tr>\n",
              "      <th>3rd</th>\n",
              "      <td>ranjit</td>\n",
              "      <td>42</td>\n",
              "      <td>mumbai</td>\n",
              "    </tr>\n",
              "    <tr>\n",
              "      <th>4th</th>\n",
              "      <td>rupesh</td>\n",
              "      <td>50</td>\n",
              "      <td>wai</td>\n",
              "    </tr>\n",
              "  </tbody>\n",
              "</table>\n",
              "</div>\n",
              "      <button class=\"colab-df-convert\" onclick=\"convertToInteractive('df-3c90f6e4-a1a1-4dd1-bd05-6694eebf8516')\"\n",
              "              title=\"Convert this dataframe to an interactive table.\"\n",
              "              style=\"display:none;\">\n",
              "        \n",
              "  <svg xmlns=\"http://www.w3.org/2000/svg\" height=\"24px\"viewBox=\"0 0 24 24\"\n",
              "       width=\"24px\">\n",
              "    <path d=\"M0 0h24v24H0V0z\" fill=\"none\"/>\n",
              "    <path d=\"M18.56 5.44l.94 2.06.94-2.06 2.06-.94-2.06-.94-.94-2.06-.94 2.06-2.06.94zm-11 1L8.5 8.5l.94-2.06 2.06-.94-2.06-.94L8.5 2.5l-.94 2.06-2.06.94zm10 10l.94 2.06.94-2.06 2.06-.94-2.06-.94-.94-2.06-.94 2.06-2.06.94z\"/><path d=\"M17.41 7.96l-1.37-1.37c-.4-.4-.92-.59-1.43-.59-.52 0-1.04.2-1.43.59L10.3 9.45l-7.72 7.72c-.78.78-.78 2.05 0 2.83L4 21.41c.39.39.9.59 1.41.59.51 0 1.02-.2 1.41-.59l7.78-7.78 2.81-2.81c.8-.78.8-2.07 0-2.86zM5.41 20L4 18.59l7.72-7.72 1.47 1.35L5.41 20z\"/>\n",
              "  </svg>\n",
              "      </button>\n",
              "      \n",
              "  <style>\n",
              "    .colab-df-container {\n",
              "      display:flex;\n",
              "      flex-wrap:wrap;\n",
              "      gap: 12px;\n",
              "    }\n",
              "\n",
              "    .colab-df-convert {\n",
              "      background-color: #E8F0FE;\n",
              "      border: none;\n",
              "      border-radius: 50%;\n",
              "      cursor: pointer;\n",
              "      display: none;\n",
              "      fill: #1967D2;\n",
              "      height: 32px;\n",
              "      padding: 0 0 0 0;\n",
              "      width: 32px;\n",
              "    }\n",
              "\n",
              "    .colab-df-convert:hover {\n",
              "      background-color: #E2EBFA;\n",
              "      box-shadow: 0px 1px 2px rgba(60, 64, 67, 0.3), 0px 1px 3px 1px rgba(60, 64, 67, 0.15);\n",
              "      fill: #174EA6;\n",
              "    }\n",
              "\n",
              "    [theme=dark] .colab-df-convert {\n",
              "      background-color: #3B4455;\n",
              "      fill: #D2E3FC;\n",
              "    }\n",
              "\n",
              "    [theme=dark] .colab-df-convert:hover {\n",
              "      background-color: #434B5C;\n",
              "      box-shadow: 0px 1px 3px 1px rgba(0, 0, 0, 0.15);\n",
              "      filter: drop-shadow(0px 1px 2px rgba(0, 0, 0, 0.3));\n",
              "      fill: #FFFFFF;\n",
              "    }\n",
              "  </style>\n",
              "\n",
              "      <script>\n",
              "        const buttonEl =\n",
              "          document.querySelector('#df-3c90f6e4-a1a1-4dd1-bd05-6694eebf8516 button.colab-df-convert');\n",
              "        buttonEl.style.display =\n",
              "          google.colab.kernel.accessAllowed ? 'block' : 'none';\n",
              "\n",
              "        async function convertToInteractive(key) {\n",
              "          const element = document.querySelector('#df-3c90f6e4-a1a1-4dd1-bd05-6694eebf8516');\n",
              "          const dataTable =\n",
              "            await google.colab.kernel.invokeFunction('convertToInteractive',\n",
              "                                                     [key], {});\n",
              "          if (!dataTable) return;\n",
              "\n",
              "          const docLinkHtml = 'Like what you see? Visit the ' +\n",
              "            '<a target=\"_blank\" href=https://colab.research.google.com/notebooks/data_table.ipynb>data table notebook</a>'\n",
              "            + ' to learn more about interactive tables.';\n",
              "          element.innerHTML = '';\n",
              "          dataTable['output_type'] = 'display_data';\n",
              "          await google.colab.output.renderOutput(dataTable, element);\n",
              "          const docLink = document.createElement('div');\n",
              "          docLink.innerHTML = docLinkHtml;\n",
              "          element.appendChild(docLink);\n",
              "        }\n",
              "      </script>\n",
              "    </div>\n",
              "  </div>\n",
              "  "
            ],
            "text/plain": [
              "       name  marks    city\n",
              "1st   harry     32  satara\n",
              "2nd  ramesh     26    pune\n",
              "3rd  ranjit     42  mumbai\n",
              "4th  rupesh     50     wai"
            ]
          },
          "execution_count": 78,
          "metadata": {},
          "output_type": "execute_result"
        }
      ],
      "source": [
        "#Enter string in index\n",
        "df.index=['1st','2nd','3rd','4th']\n",
        "df"
      ]
    },
    {
      "cell_type": "code",
      "execution_count": null,
      "metadata": {
        "colab": {
          "base_uri": "https://localhost:8080/"
        },
        "id": "EMGKoA6uzAWX",
        "outputId": "72698ed8-fc8e-46d3-b53b-356ebb99ed89"
      },
      "outputs": [
        {
          "data": {
            "text/plain": [
              "Index(['1st', '2nd', '3rd', '4th'], dtype='object')"
            ]
          },
          "execution_count": 79,
          "metadata": {},
          "output_type": "execute_result"
        }
      ],
      "source": [
        "df.index"
      ]
    },
    {
      "cell_type": "code",
      "execution_count": null,
      "metadata": {
        "colab": {
          "base_uri": "https://localhost:8080/"
        },
        "id": "QaiQ-gB8zATD",
        "outputId": "29d83b26-a2d8-462e-b25a-7dafb29c0178"
      },
      "outputs": [
        {
          "data": {
            "text/plain": [
              "Index(['name', 'marks', 'city'], dtype='object')"
            ]
          },
          "execution_count": 80,
          "metadata": {},
          "output_type": "execute_result"
        }
      ],
      "source": [
        "df.columns"
      ]
    },
    {
      "cell_type": "code",
      "execution_count": null,
      "metadata": {
        "colab": {
          "base_uri": "https://localhost:8080/"
        },
        "id": "fBJ7E-zZzAQJ",
        "outputId": "b11382da-4a26-4f86-8314-c47d1139b2dc"
      },
      "outputs": [
        {
          "data": {
            "text/plain": [
              "array([['harry', 32, 'satara'],\n",
              "       ['ramesh', 26, 'pune'],\n",
              "       ['ranjit', 42, 'mumbai'],\n",
              "       ['rupesh', 50, 'wai']], dtype=object)"
            ]
          },
          "execution_count": 81,
          "metadata": {},
          "output_type": "execute_result"
        }
      ],
      "source": [
        "#covert into numpy array\n",
        "df.to_numpy()"
      ]
    },
    {
      "cell_type": "code",
      "execution_count": null,
      "metadata": {
        "colab": {
          "base_uri": "https://localhost:8080/",
          "height": 143
        },
        "id": "Nb7t127YzAND",
        "outputId": "6f704b0e-4fd1-49e4-e170-a496c0221baa"
      },
      "outputs": [
        {
          "data": {
            "text/html": [
              "\n",
              "  <div id=\"df-57eeb500-0dec-4724-969f-0ef171d771be\">\n",
              "    <div class=\"colab-df-container\">\n",
              "      <div>\n",
              "<style scoped>\n",
              "    .dataframe tbody tr th:only-of-type {\n",
              "        vertical-align: middle;\n",
              "    }\n",
              "\n",
              "    .dataframe tbody tr th {\n",
              "        vertical-align: top;\n",
              "    }\n",
              "\n",
              "    .dataframe thead th {\n",
              "        text-align: right;\n",
              "    }\n",
              "</style>\n",
              "<table border=\"1\" class=\"dataframe\">\n",
              "  <thead>\n",
              "    <tr style=\"text-align: right;\">\n",
              "      <th></th>\n",
              "      <th>1st</th>\n",
              "      <th>2nd</th>\n",
              "      <th>3rd</th>\n",
              "      <th>4th</th>\n",
              "    </tr>\n",
              "  </thead>\n",
              "  <tbody>\n",
              "    <tr>\n",
              "      <th>name</th>\n",
              "      <td>harry</td>\n",
              "      <td>ramesh</td>\n",
              "      <td>ranjit</td>\n",
              "      <td>rupesh</td>\n",
              "    </tr>\n",
              "    <tr>\n",
              "      <th>marks</th>\n",
              "      <td>32</td>\n",
              "      <td>26</td>\n",
              "      <td>42</td>\n",
              "      <td>50</td>\n",
              "    </tr>\n",
              "    <tr>\n",
              "      <th>city</th>\n",
              "      <td>satara</td>\n",
              "      <td>pune</td>\n",
              "      <td>mumbai</td>\n",
              "      <td>wai</td>\n",
              "    </tr>\n",
              "  </tbody>\n",
              "</table>\n",
              "</div>\n",
              "      <button class=\"colab-df-convert\" onclick=\"convertToInteractive('df-57eeb500-0dec-4724-969f-0ef171d771be')\"\n",
              "              title=\"Convert this dataframe to an interactive table.\"\n",
              "              style=\"display:none;\">\n",
              "        \n",
              "  <svg xmlns=\"http://www.w3.org/2000/svg\" height=\"24px\"viewBox=\"0 0 24 24\"\n",
              "       width=\"24px\">\n",
              "    <path d=\"M0 0h24v24H0V0z\" fill=\"none\"/>\n",
              "    <path d=\"M18.56 5.44l.94 2.06.94-2.06 2.06-.94-2.06-.94-.94-2.06-.94 2.06-2.06.94zm-11 1L8.5 8.5l.94-2.06 2.06-.94-2.06-.94L8.5 2.5l-.94 2.06-2.06.94zm10 10l.94 2.06.94-2.06 2.06-.94-2.06-.94-.94-2.06-.94 2.06-2.06.94z\"/><path d=\"M17.41 7.96l-1.37-1.37c-.4-.4-.92-.59-1.43-.59-.52 0-1.04.2-1.43.59L10.3 9.45l-7.72 7.72c-.78.78-.78 2.05 0 2.83L4 21.41c.39.39.9.59 1.41.59.51 0 1.02-.2 1.41-.59l7.78-7.78 2.81-2.81c.8-.78.8-2.07 0-2.86zM5.41 20L4 18.59l7.72-7.72 1.47 1.35L5.41 20z\"/>\n",
              "  </svg>\n",
              "      </button>\n",
              "      \n",
              "  <style>\n",
              "    .colab-df-container {\n",
              "      display:flex;\n",
              "      flex-wrap:wrap;\n",
              "      gap: 12px;\n",
              "    }\n",
              "\n",
              "    .colab-df-convert {\n",
              "      background-color: #E8F0FE;\n",
              "      border: none;\n",
              "      border-radius: 50%;\n",
              "      cursor: pointer;\n",
              "      display: none;\n",
              "      fill: #1967D2;\n",
              "      height: 32px;\n",
              "      padding: 0 0 0 0;\n",
              "      width: 32px;\n",
              "    }\n",
              "\n",
              "    .colab-df-convert:hover {\n",
              "      background-color: #E2EBFA;\n",
              "      box-shadow: 0px 1px 2px rgba(60, 64, 67, 0.3), 0px 1px 3px 1px rgba(60, 64, 67, 0.15);\n",
              "      fill: #174EA6;\n",
              "    }\n",
              "\n",
              "    [theme=dark] .colab-df-convert {\n",
              "      background-color: #3B4455;\n",
              "      fill: #D2E3FC;\n",
              "    }\n",
              "\n",
              "    [theme=dark] .colab-df-convert:hover {\n",
              "      background-color: #434B5C;\n",
              "      box-shadow: 0px 1px 3px 1px rgba(0, 0, 0, 0.15);\n",
              "      filter: drop-shadow(0px 1px 2px rgba(0, 0, 0, 0.3));\n",
              "      fill: #FFFFFF;\n",
              "    }\n",
              "  </style>\n",
              "\n",
              "      <script>\n",
              "        const buttonEl =\n",
              "          document.querySelector('#df-57eeb500-0dec-4724-969f-0ef171d771be button.colab-df-convert');\n",
              "        buttonEl.style.display =\n",
              "          google.colab.kernel.accessAllowed ? 'block' : 'none';\n",
              "\n",
              "        async function convertToInteractive(key) {\n",
              "          const element = document.querySelector('#df-57eeb500-0dec-4724-969f-0ef171d771be');\n",
              "          const dataTable =\n",
              "            await google.colab.kernel.invokeFunction('convertToInteractive',\n",
              "                                                     [key], {});\n",
              "          if (!dataTable) return;\n",
              "\n",
              "          const docLinkHtml = 'Like what you see? Visit the ' +\n",
              "            '<a target=\"_blank\" href=https://colab.research.google.com/notebooks/data_table.ipynb>data table notebook</a>'\n",
              "            + ' to learn more about interactive tables.';\n",
              "          element.innerHTML = '';\n",
              "          dataTable['output_type'] = 'display_data';\n",
              "          await google.colab.output.renderOutput(dataTable, element);\n",
              "          const docLink = document.createElement('div');\n",
              "          docLink.innerHTML = docLinkHtml;\n",
              "          element.appendChild(docLink);\n",
              "        }\n",
              "      </script>\n",
              "    </div>\n",
              "  </div>\n",
              "  "
            ],
            "text/plain": [
              "          1st     2nd     3rd     4th\n",
              "name    harry  ramesh  ranjit  rupesh\n",
              "marks      32      26      42      50\n",
              "city   satara    pune  mumbai     wai"
            ]
          },
          "execution_count": 82,
          "metadata": {},
          "output_type": "execute_result"
        }
      ],
      "source": [
        "#transpose of data\n",
        "\n",
        "df.T"
      ]
    },
    {
      "cell_type": "code",
      "execution_count": null,
      "metadata": {
        "colab": {
          "base_uri": "https://localhost:8080/",
          "height": 175
        },
        "id": "GZ1HrguszAKQ",
        "outputId": "247ad28a-b5d2-40c8-f1a1-b275c52797c4"
      },
      "outputs": [
        {
          "data": {
            "text/html": [
              "\n",
              "  <div id=\"df-392a772c-f094-4740-9518-06365f5dbf53\">\n",
              "    <div class=\"colab-df-container\">\n",
              "      <div>\n",
              "<style scoped>\n",
              "    .dataframe tbody tr th:only-of-type {\n",
              "        vertical-align: middle;\n",
              "    }\n",
              "\n",
              "    .dataframe tbody tr th {\n",
              "        vertical-align: top;\n",
              "    }\n",
              "\n",
              "    .dataframe thead th {\n",
              "        text-align: right;\n",
              "    }\n",
              "</style>\n",
              "<table border=\"1\" class=\"dataframe\">\n",
              "  <thead>\n",
              "    <tr style=\"text-align: right;\">\n",
              "      <th></th>\n",
              "      <th>name</th>\n",
              "      <th>marks</th>\n",
              "      <th>city</th>\n",
              "    </tr>\n",
              "  </thead>\n",
              "  <tbody>\n",
              "    <tr>\n",
              "      <th>1st</th>\n",
              "      <td>harry</td>\n",
              "      <td>32</td>\n",
              "      <td>satara</td>\n",
              "    </tr>\n",
              "    <tr>\n",
              "      <th>2nd</th>\n",
              "      <td>ramesh</td>\n",
              "      <td>26</td>\n",
              "      <td>pune</td>\n",
              "    </tr>\n",
              "    <tr>\n",
              "      <th>3rd</th>\n",
              "      <td>ranjit</td>\n",
              "      <td>42</td>\n",
              "      <td>mumbai</td>\n",
              "    </tr>\n",
              "    <tr>\n",
              "      <th>4th</th>\n",
              "      <td>rupesh</td>\n",
              "      <td>50</td>\n",
              "      <td>wai</td>\n",
              "    </tr>\n",
              "  </tbody>\n",
              "</table>\n",
              "</div>\n",
              "      <button class=\"colab-df-convert\" onclick=\"convertToInteractive('df-392a772c-f094-4740-9518-06365f5dbf53')\"\n",
              "              title=\"Convert this dataframe to an interactive table.\"\n",
              "              style=\"display:none;\">\n",
              "        \n",
              "  <svg xmlns=\"http://www.w3.org/2000/svg\" height=\"24px\"viewBox=\"0 0 24 24\"\n",
              "       width=\"24px\">\n",
              "    <path d=\"M0 0h24v24H0V0z\" fill=\"none\"/>\n",
              "    <path d=\"M18.56 5.44l.94 2.06.94-2.06 2.06-.94-2.06-.94-.94-2.06-.94 2.06-2.06.94zm-11 1L8.5 8.5l.94-2.06 2.06-.94-2.06-.94L8.5 2.5l-.94 2.06-2.06.94zm10 10l.94 2.06.94-2.06 2.06-.94-2.06-.94-.94-2.06-.94 2.06-2.06.94z\"/><path d=\"M17.41 7.96l-1.37-1.37c-.4-.4-.92-.59-1.43-.59-.52 0-1.04.2-1.43.59L10.3 9.45l-7.72 7.72c-.78.78-.78 2.05 0 2.83L4 21.41c.39.39.9.59 1.41.59.51 0 1.02-.2 1.41-.59l7.78-7.78 2.81-2.81c.8-.78.8-2.07 0-2.86zM5.41 20L4 18.59l7.72-7.72 1.47 1.35L5.41 20z\"/>\n",
              "  </svg>\n",
              "      </button>\n",
              "      \n",
              "  <style>\n",
              "    .colab-df-container {\n",
              "      display:flex;\n",
              "      flex-wrap:wrap;\n",
              "      gap: 12px;\n",
              "    }\n",
              "\n",
              "    .colab-df-convert {\n",
              "      background-color: #E8F0FE;\n",
              "      border: none;\n",
              "      border-radius: 50%;\n",
              "      cursor: pointer;\n",
              "      display: none;\n",
              "      fill: #1967D2;\n",
              "      height: 32px;\n",
              "      padding: 0 0 0 0;\n",
              "      width: 32px;\n",
              "    }\n",
              "\n",
              "    .colab-df-convert:hover {\n",
              "      background-color: #E2EBFA;\n",
              "      box-shadow: 0px 1px 2px rgba(60, 64, 67, 0.3), 0px 1px 3px 1px rgba(60, 64, 67, 0.15);\n",
              "      fill: #174EA6;\n",
              "    }\n",
              "\n",
              "    [theme=dark] .colab-df-convert {\n",
              "      background-color: #3B4455;\n",
              "      fill: #D2E3FC;\n",
              "    }\n",
              "\n",
              "    [theme=dark] .colab-df-convert:hover {\n",
              "      background-color: #434B5C;\n",
              "      box-shadow: 0px 1px 3px 1px rgba(0, 0, 0, 0.15);\n",
              "      filter: drop-shadow(0px 1px 2px rgba(0, 0, 0, 0.3));\n",
              "      fill: #FFFFFF;\n",
              "    }\n",
              "  </style>\n",
              "\n",
              "      <script>\n",
              "        const buttonEl =\n",
              "          document.querySelector('#df-392a772c-f094-4740-9518-06365f5dbf53 button.colab-df-convert');\n",
              "        buttonEl.style.display =\n",
              "          google.colab.kernel.accessAllowed ? 'block' : 'none';\n",
              "\n",
              "        async function convertToInteractive(key) {\n",
              "          const element = document.querySelector('#df-392a772c-f094-4740-9518-06365f5dbf53');\n",
              "          const dataTable =\n",
              "            await google.colab.kernel.invokeFunction('convertToInteractive',\n",
              "                                                     [key], {});\n",
              "          if (!dataTable) return;\n",
              "\n",
              "          const docLinkHtml = 'Like what you see? Visit the ' +\n",
              "            '<a target=\"_blank\" href=https://colab.research.google.com/notebooks/data_table.ipynb>data table notebook</a>'\n",
              "            + ' to learn more about interactive tables.';\n",
              "          element.innerHTML = '';\n",
              "          dataTable['output_type'] = 'display_data';\n",
              "          await google.colab.output.renderOutput(dataTable, element);\n",
              "          const docLink = document.createElement('div');\n",
              "          docLink.innerHTML = docLinkHtml;\n",
              "          element.appendChild(docLink);\n",
              "        }\n",
              "      </script>\n",
              "    </div>\n",
              "  </div>\n",
              "  "
            ],
            "text/plain": [
              "       name  marks    city\n",
              "1st   harry     32  satara\n",
              "2nd  ramesh     26    pune\n",
              "3rd  ranjit     42  mumbai\n",
              "4th  rupesh     50     wai"
            ]
          },
          "execution_count": 83,
          "metadata": {},
          "output_type": "execute_result"
        }
      ],
      "source": [
        "df"
      ]
    },
    {
      "cell_type": "code",
      "execution_count": null,
      "metadata": {
        "colab": {
          "base_uri": "https://localhost:8080/",
          "height": 175
        },
        "id": "Rar6wmHazAHj",
        "outputId": "ff9cbf54-45be-4272-e020-7a0d72435c20"
      },
      "outputs": [
        {
          "data": {
            "text/html": [
              "\n",
              "  <div id=\"df-ed6241b6-8e55-484f-97f2-e59f396b8910\">\n",
              "    <div class=\"colab-df-container\">\n",
              "      <div>\n",
              "<style scoped>\n",
              "    .dataframe tbody tr th:only-of-type {\n",
              "        vertical-align: middle;\n",
              "    }\n",
              "\n",
              "    .dataframe tbody tr th {\n",
              "        vertical-align: top;\n",
              "    }\n",
              "\n",
              "    .dataframe thead th {\n",
              "        text-align: right;\n",
              "    }\n",
              "</style>\n",
              "<table border=\"1\" class=\"dataframe\">\n",
              "  <thead>\n",
              "    <tr style=\"text-align: right;\">\n",
              "      <th></th>\n",
              "      <th>name</th>\n",
              "      <th>marks</th>\n",
              "      <th>city</th>\n",
              "    </tr>\n",
              "  </thead>\n",
              "  <tbody>\n",
              "    <tr>\n",
              "      <th>4th</th>\n",
              "      <td>rupesh</td>\n",
              "      <td>50</td>\n",
              "      <td>wai</td>\n",
              "    </tr>\n",
              "    <tr>\n",
              "      <th>3rd</th>\n",
              "      <td>ranjit</td>\n",
              "      <td>42</td>\n",
              "      <td>mumbai</td>\n",
              "    </tr>\n",
              "    <tr>\n",
              "      <th>2nd</th>\n",
              "      <td>ramesh</td>\n",
              "      <td>26</td>\n",
              "      <td>pune</td>\n",
              "    </tr>\n",
              "    <tr>\n",
              "      <th>1st</th>\n",
              "      <td>harry</td>\n",
              "      <td>32</td>\n",
              "      <td>satara</td>\n",
              "    </tr>\n",
              "  </tbody>\n",
              "</table>\n",
              "</div>\n",
              "      <button class=\"colab-df-convert\" onclick=\"convertToInteractive('df-ed6241b6-8e55-484f-97f2-e59f396b8910')\"\n",
              "              title=\"Convert this dataframe to an interactive table.\"\n",
              "              style=\"display:none;\">\n",
              "        \n",
              "  <svg xmlns=\"http://www.w3.org/2000/svg\" height=\"24px\"viewBox=\"0 0 24 24\"\n",
              "       width=\"24px\">\n",
              "    <path d=\"M0 0h24v24H0V0z\" fill=\"none\"/>\n",
              "    <path d=\"M18.56 5.44l.94 2.06.94-2.06 2.06-.94-2.06-.94-.94-2.06-.94 2.06-2.06.94zm-11 1L8.5 8.5l.94-2.06 2.06-.94-2.06-.94L8.5 2.5l-.94 2.06-2.06.94zm10 10l.94 2.06.94-2.06 2.06-.94-2.06-.94-.94-2.06-.94 2.06-2.06.94z\"/><path d=\"M17.41 7.96l-1.37-1.37c-.4-.4-.92-.59-1.43-.59-.52 0-1.04.2-1.43.59L10.3 9.45l-7.72 7.72c-.78.78-.78 2.05 0 2.83L4 21.41c.39.39.9.59 1.41.59.51 0 1.02-.2 1.41-.59l7.78-7.78 2.81-2.81c.8-.78.8-2.07 0-2.86zM5.41 20L4 18.59l7.72-7.72 1.47 1.35L5.41 20z\"/>\n",
              "  </svg>\n",
              "      </button>\n",
              "      \n",
              "  <style>\n",
              "    .colab-df-container {\n",
              "      display:flex;\n",
              "      flex-wrap:wrap;\n",
              "      gap: 12px;\n",
              "    }\n",
              "\n",
              "    .colab-df-convert {\n",
              "      background-color: #E8F0FE;\n",
              "      border: none;\n",
              "      border-radius: 50%;\n",
              "      cursor: pointer;\n",
              "      display: none;\n",
              "      fill: #1967D2;\n",
              "      height: 32px;\n",
              "      padding: 0 0 0 0;\n",
              "      width: 32px;\n",
              "    }\n",
              "\n",
              "    .colab-df-convert:hover {\n",
              "      background-color: #E2EBFA;\n",
              "      box-shadow: 0px 1px 2px rgba(60, 64, 67, 0.3), 0px 1px 3px 1px rgba(60, 64, 67, 0.15);\n",
              "      fill: #174EA6;\n",
              "    }\n",
              "\n",
              "    [theme=dark] .colab-df-convert {\n",
              "      background-color: #3B4455;\n",
              "      fill: #D2E3FC;\n",
              "    }\n",
              "\n",
              "    [theme=dark] .colab-df-convert:hover {\n",
              "      background-color: #434B5C;\n",
              "      box-shadow: 0px 1px 3px 1px rgba(0, 0, 0, 0.15);\n",
              "      filter: drop-shadow(0px 1px 2px rgba(0, 0, 0, 0.3));\n",
              "      fill: #FFFFFF;\n",
              "    }\n",
              "  </style>\n",
              "\n",
              "      <script>\n",
              "        const buttonEl =\n",
              "          document.querySelector('#df-ed6241b6-8e55-484f-97f2-e59f396b8910 button.colab-df-convert');\n",
              "        buttonEl.style.display =\n",
              "          google.colab.kernel.accessAllowed ? 'block' : 'none';\n",
              "\n",
              "        async function convertToInteractive(key) {\n",
              "          const element = document.querySelector('#df-ed6241b6-8e55-484f-97f2-e59f396b8910');\n",
              "          const dataTable =\n",
              "            await google.colab.kernel.invokeFunction('convertToInteractive',\n",
              "                                                     [key], {});\n",
              "          if (!dataTable) return;\n",
              "\n",
              "          const docLinkHtml = 'Like what you see? Visit the ' +\n",
              "            '<a target=\"_blank\" href=https://colab.research.google.com/notebooks/data_table.ipynb>data table notebook</a>'\n",
              "            + ' to learn more about interactive tables.';\n",
              "          element.innerHTML = '';\n",
              "          dataTable['output_type'] = 'display_data';\n",
              "          await google.colab.output.renderOutput(dataTable, element);\n",
              "          const docLink = document.createElement('div');\n",
              "          docLink.innerHTML = docLinkHtml;\n",
              "          element.appendChild(docLink);\n",
              "        }\n",
              "      </script>\n",
              "    </div>\n",
              "  </div>\n",
              "  "
            ],
            "text/plain": [
              "       name  marks    city\n",
              "4th  rupesh     50     wai\n",
              "3rd  ranjit     42  mumbai\n",
              "2nd  ramesh     26    pune\n",
              "1st   harry     32  satara"
            ]
          },
          "execution_count": 84,
          "metadata": {},
          "output_type": "execute_result"
        }
      ],
      "source": [
        "df.sort_index(axis=0,ascending=False) #axis=0 column, axis=1 row"
      ]
    },
    {
      "cell_type": "code",
      "execution_count": null,
      "metadata": {
        "colab": {
          "base_uri": "https://localhost:8080/",
          "height": 175
        },
        "id": "qlfkkzX8zAE2",
        "outputId": "58f5f503-2b60-4965-c82b-483d0eb114c3"
      },
      "outputs": [
        {
          "data": {
            "text/html": [
              "\n",
              "  <div id=\"df-6b23b3b4-2cce-4259-8e76-5c54a789db8d\">\n",
              "    <div class=\"colab-df-container\">\n",
              "      <div>\n",
              "<style scoped>\n",
              "    .dataframe tbody tr th:only-of-type {\n",
              "        vertical-align: middle;\n",
              "    }\n",
              "\n",
              "    .dataframe tbody tr th {\n",
              "        vertical-align: top;\n",
              "    }\n",
              "\n",
              "    .dataframe thead th {\n",
              "        text-align: right;\n",
              "    }\n",
              "</style>\n",
              "<table border=\"1\" class=\"dataframe\">\n",
              "  <thead>\n",
              "    <tr style=\"text-align: right;\">\n",
              "      <th></th>\n",
              "      <th>name</th>\n",
              "      <th>marks</th>\n",
              "      <th>city</th>\n",
              "    </tr>\n",
              "  </thead>\n",
              "  <tbody>\n",
              "    <tr>\n",
              "      <th>1st</th>\n",
              "      <td>harry</td>\n",
              "      <td>32</td>\n",
              "      <td>satara</td>\n",
              "    </tr>\n",
              "    <tr>\n",
              "      <th>2nd</th>\n",
              "      <td>ramesh</td>\n",
              "      <td>26</td>\n",
              "      <td>pune</td>\n",
              "    </tr>\n",
              "    <tr>\n",
              "      <th>3rd</th>\n",
              "      <td>ranjit</td>\n",
              "      <td>42</td>\n",
              "      <td>mumbai</td>\n",
              "    </tr>\n",
              "    <tr>\n",
              "      <th>4th</th>\n",
              "      <td>rupesh</td>\n",
              "      <td>50</td>\n",
              "      <td>wai</td>\n",
              "    </tr>\n",
              "  </tbody>\n",
              "</table>\n",
              "</div>\n",
              "      <button class=\"colab-df-convert\" onclick=\"convertToInteractive('df-6b23b3b4-2cce-4259-8e76-5c54a789db8d')\"\n",
              "              title=\"Convert this dataframe to an interactive table.\"\n",
              "              style=\"display:none;\">\n",
              "        \n",
              "  <svg xmlns=\"http://www.w3.org/2000/svg\" height=\"24px\"viewBox=\"0 0 24 24\"\n",
              "       width=\"24px\">\n",
              "    <path d=\"M0 0h24v24H0V0z\" fill=\"none\"/>\n",
              "    <path d=\"M18.56 5.44l.94 2.06.94-2.06 2.06-.94-2.06-.94-.94-2.06-.94 2.06-2.06.94zm-11 1L8.5 8.5l.94-2.06 2.06-.94-2.06-.94L8.5 2.5l-.94 2.06-2.06.94zm10 10l.94 2.06.94-2.06 2.06-.94-2.06-.94-.94-2.06-.94 2.06-2.06.94z\"/><path d=\"M17.41 7.96l-1.37-1.37c-.4-.4-.92-.59-1.43-.59-.52 0-1.04.2-1.43.59L10.3 9.45l-7.72 7.72c-.78.78-.78 2.05 0 2.83L4 21.41c.39.39.9.59 1.41.59.51 0 1.02-.2 1.41-.59l7.78-7.78 2.81-2.81c.8-.78.8-2.07 0-2.86zM5.41 20L4 18.59l7.72-7.72 1.47 1.35L5.41 20z\"/>\n",
              "  </svg>\n",
              "      </button>\n",
              "      \n",
              "  <style>\n",
              "    .colab-df-container {\n",
              "      display:flex;\n",
              "      flex-wrap:wrap;\n",
              "      gap: 12px;\n",
              "    }\n",
              "\n",
              "    .colab-df-convert {\n",
              "      background-color: #E8F0FE;\n",
              "      border: none;\n",
              "      border-radius: 50%;\n",
              "      cursor: pointer;\n",
              "      display: none;\n",
              "      fill: #1967D2;\n",
              "      height: 32px;\n",
              "      padding: 0 0 0 0;\n",
              "      width: 32px;\n",
              "    }\n",
              "\n",
              "    .colab-df-convert:hover {\n",
              "      background-color: #E2EBFA;\n",
              "      box-shadow: 0px 1px 2px rgba(60, 64, 67, 0.3), 0px 1px 3px 1px rgba(60, 64, 67, 0.15);\n",
              "      fill: #174EA6;\n",
              "    }\n",
              "\n",
              "    [theme=dark] .colab-df-convert {\n",
              "      background-color: #3B4455;\n",
              "      fill: #D2E3FC;\n",
              "    }\n",
              "\n",
              "    [theme=dark] .colab-df-convert:hover {\n",
              "      background-color: #434B5C;\n",
              "      box-shadow: 0px 1px 3px 1px rgba(0, 0, 0, 0.15);\n",
              "      filter: drop-shadow(0px 1px 2px rgba(0, 0, 0, 0.3));\n",
              "      fill: #FFFFFF;\n",
              "    }\n",
              "  </style>\n",
              "\n",
              "      <script>\n",
              "        const buttonEl =\n",
              "          document.querySelector('#df-6b23b3b4-2cce-4259-8e76-5c54a789db8d button.colab-df-convert');\n",
              "        buttonEl.style.display =\n",
              "          google.colab.kernel.accessAllowed ? 'block' : 'none';\n",
              "\n",
              "        async function convertToInteractive(key) {\n",
              "          const element = document.querySelector('#df-6b23b3b4-2cce-4259-8e76-5c54a789db8d');\n",
              "          const dataTable =\n",
              "            await google.colab.kernel.invokeFunction('convertToInteractive',\n",
              "                                                     [key], {});\n",
              "          if (!dataTable) return;\n",
              "\n",
              "          const docLinkHtml = 'Like what you see? Visit the ' +\n",
              "            '<a target=\"_blank\" href=https://colab.research.google.com/notebooks/data_table.ipynb>data table notebook</a>'\n",
              "            + ' to learn more about interactive tables.';\n",
              "          element.innerHTML = '';\n",
              "          dataTable['output_type'] = 'display_data';\n",
              "          await google.colab.output.renderOutput(dataTable, element);\n",
              "          const docLink = document.createElement('div');\n",
              "          docLink.innerHTML = docLinkHtml;\n",
              "          element.appendChild(docLink);\n",
              "        }\n",
              "      </script>\n",
              "    </div>\n",
              "  </div>\n",
              "  "
            ],
            "text/plain": [
              "       name  marks    city\n",
              "1st   harry     32  satara\n",
              "2nd  ramesh     26    pune\n",
              "3rd  ranjit     42  mumbai\n",
              "4th  rupesh     50     wai"
            ]
          },
          "execution_count": 85,
          "metadata": {},
          "output_type": "execute_result"
        }
      ],
      "source": [
        "df.head()"
      ]
    },
    {
      "cell_type": "code",
      "execution_count": null,
      "metadata": {
        "id": "-J8qwjYbUdXt"
      },
      "outputs": [],
      "source": [
        "ser= pd.Series(np.random.rand(34))"
      ]
    },
    {
      "cell_type": "markdown",
      "metadata": {
        "id": "sJHvRB4eU7O0"
      },
      "source": [
        "Create random series"
      ]
    },
    {
      "cell_type": "code",
      "execution_count": null,
      "metadata": {
        "colab": {
          "base_uri": "https://localhost:8080/"
        },
        "id": "FMUDEkcHUdUm",
        "outputId": "b0a929cb-c284-495a-bce2-f2e7ba3cdd33"
      },
      "outputs": [
        {
          "data": {
            "text/plain": [
              "pandas.core.series.Series"
            ]
          },
          "execution_count": 87,
          "metadata": {},
          "output_type": "execute_result"
        }
      ],
      "source": [
        "type(ser)"
      ]
    },
    {
      "cell_type": "code",
      "execution_count": null,
      "metadata": {
        "colab": {
          "base_uri": "https://localhost:8080/"
        },
        "id": "D95tojy3UdR3",
        "outputId": "288d95af-3daa-4e1f-d1d5-1afbbf5e5da2"
      },
      "outputs": [
        {
          "data": {
            "text/plain": [
              "0     0.188914\n",
              "1     0.824250\n",
              "2     0.245771\n",
              "3     0.970826\n",
              "4     0.210247\n",
              "5     0.908078\n",
              "6     0.409867\n",
              "7     0.067526\n",
              "8     0.939684\n",
              "9     0.012257\n",
              "10    0.971056\n",
              "11    0.670381\n",
              "12    0.871386\n",
              "13    0.296224\n",
              "14    0.372959\n",
              "15    0.606055\n",
              "16    0.919524\n",
              "17    0.897490\n",
              "18    0.878724\n",
              "19    0.621179\n",
              "20    0.599735\n",
              "21    0.264961\n",
              "22    0.520465\n",
              "23    0.187846\n",
              "24    0.643649\n",
              "25    0.340960\n",
              "26    0.687237\n",
              "27    0.940250\n",
              "28    0.571908\n",
              "29    0.185526\n",
              "30    0.382056\n",
              "31    0.096101\n",
              "32    0.678765\n",
              "33    0.551621\n",
              "dtype: float64"
            ]
          },
          "execution_count": 88,
          "metadata": {},
          "output_type": "execute_result"
        }
      ],
      "source": [
        "ser"
      ]
    },
    {
      "cell_type": "markdown",
      "metadata": {
        "id": "cGjbV_3eU-j3"
      },
      "source": [
        "Create new dataframe"
      ]
    },
    {
      "cell_type": "code",
      "execution_count": null,
      "metadata": {
        "id": "k1dkn0AIUdPA"
      },
      "outputs": [],
      "source": [
        "newdf= pd.DataFrame(np.random.rand(334,5),index=np.arange(334))"
      ]
    },
    {
      "cell_type": "code",
      "execution_count": null,
      "metadata": {
        "colab": {
          "base_uri": "https://localhost:8080/",
          "height": 206
        },
        "id": "4XvuodW-UdMW",
        "outputId": "a420a771-4e03-4e75-ec47-60967bd0fd00"
      },
      "outputs": [
        {
          "data": {
            "text/html": [
              "\n",
              "  <div id=\"df-b1eda5a8-ac7b-4592-9a29-67d79cd7a4a9\">\n",
              "    <div class=\"colab-df-container\">\n",
              "      <div>\n",
              "<style scoped>\n",
              "    .dataframe tbody tr th:only-of-type {\n",
              "        vertical-align: middle;\n",
              "    }\n",
              "\n",
              "    .dataframe tbody tr th {\n",
              "        vertical-align: top;\n",
              "    }\n",
              "\n",
              "    .dataframe thead th {\n",
              "        text-align: right;\n",
              "    }\n",
              "</style>\n",
              "<table border=\"1\" class=\"dataframe\">\n",
              "  <thead>\n",
              "    <tr style=\"text-align: right;\">\n",
              "      <th></th>\n",
              "      <th>0</th>\n",
              "      <th>1</th>\n",
              "      <th>2</th>\n",
              "      <th>3</th>\n",
              "      <th>4</th>\n",
              "    </tr>\n",
              "  </thead>\n",
              "  <tbody>\n",
              "    <tr>\n",
              "      <th>0</th>\n",
              "      <td>0.782997</td>\n",
              "      <td>0.983401</td>\n",
              "      <td>0.449741</td>\n",
              "      <td>0.077917</td>\n",
              "      <td>0.514068</td>\n",
              "    </tr>\n",
              "    <tr>\n",
              "      <th>1</th>\n",
              "      <td>0.479697</td>\n",
              "      <td>0.661174</td>\n",
              "      <td>0.742659</td>\n",
              "      <td>0.010939</td>\n",
              "      <td>0.172327</td>\n",
              "    </tr>\n",
              "    <tr>\n",
              "      <th>2</th>\n",
              "      <td>0.780938</td>\n",
              "      <td>0.533115</td>\n",
              "      <td>0.660962</td>\n",
              "      <td>0.897872</td>\n",
              "      <td>0.061047</td>\n",
              "    </tr>\n",
              "    <tr>\n",
              "      <th>3</th>\n",
              "      <td>0.512533</td>\n",
              "      <td>0.479802</td>\n",
              "      <td>0.730971</td>\n",
              "      <td>0.335466</td>\n",
              "      <td>0.639821</td>\n",
              "    </tr>\n",
              "    <tr>\n",
              "      <th>4</th>\n",
              "      <td>0.918267</td>\n",
              "      <td>0.178420</td>\n",
              "      <td>0.055605</td>\n",
              "      <td>0.958090</td>\n",
              "      <td>0.911738</td>\n",
              "    </tr>\n",
              "  </tbody>\n",
              "</table>\n",
              "</div>\n",
              "      <button class=\"colab-df-convert\" onclick=\"convertToInteractive('df-b1eda5a8-ac7b-4592-9a29-67d79cd7a4a9')\"\n",
              "              title=\"Convert this dataframe to an interactive table.\"\n",
              "              style=\"display:none;\">\n",
              "        \n",
              "  <svg xmlns=\"http://www.w3.org/2000/svg\" height=\"24px\"viewBox=\"0 0 24 24\"\n",
              "       width=\"24px\">\n",
              "    <path d=\"M0 0h24v24H0V0z\" fill=\"none\"/>\n",
              "    <path d=\"M18.56 5.44l.94 2.06.94-2.06 2.06-.94-2.06-.94-.94-2.06-.94 2.06-2.06.94zm-11 1L8.5 8.5l.94-2.06 2.06-.94-2.06-.94L8.5 2.5l-.94 2.06-2.06.94zm10 10l.94 2.06.94-2.06 2.06-.94-2.06-.94-.94-2.06-.94 2.06-2.06.94z\"/><path d=\"M17.41 7.96l-1.37-1.37c-.4-.4-.92-.59-1.43-.59-.52 0-1.04.2-1.43.59L10.3 9.45l-7.72 7.72c-.78.78-.78 2.05 0 2.83L4 21.41c.39.39.9.59 1.41.59.51 0 1.02-.2 1.41-.59l7.78-7.78 2.81-2.81c.8-.78.8-2.07 0-2.86zM5.41 20L4 18.59l7.72-7.72 1.47 1.35L5.41 20z\"/>\n",
              "  </svg>\n",
              "      </button>\n",
              "      \n",
              "  <style>\n",
              "    .colab-df-container {\n",
              "      display:flex;\n",
              "      flex-wrap:wrap;\n",
              "      gap: 12px;\n",
              "    }\n",
              "\n",
              "    .colab-df-convert {\n",
              "      background-color: #E8F0FE;\n",
              "      border: none;\n",
              "      border-radius: 50%;\n",
              "      cursor: pointer;\n",
              "      display: none;\n",
              "      fill: #1967D2;\n",
              "      height: 32px;\n",
              "      padding: 0 0 0 0;\n",
              "      width: 32px;\n",
              "    }\n",
              "\n",
              "    .colab-df-convert:hover {\n",
              "      background-color: #E2EBFA;\n",
              "      box-shadow: 0px 1px 2px rgba(60, 64, 67, 0.3), 0px 1px 3px 1px rgba(60, 64, 67, 0.15);\n",
              "      fill: #174EA6;\n",
              "    }\n",
              "\n",
              "    [theme=dark] .colab-df-convert {\n",
              "      background-color: #3B4455;\n",
              "      fill: #D2E3FC;\n",
              "    }\n",
              "\n",
              "    [theme=dark] .colab-df-convert:hover {\n",
              "      background-color: #434B5C;\n",
              "      box-shadow: 0px 1px 3px 1px rgba(0, 0, 0, 0.15);\n",
              "      filter: drop-shadow(0px 1px 2px rgba(0, 0, 0, 0.3));\n",
              "      fill: #FFFFFF;\n",
              "    }\n",
              "  </style>\n",
              "\n",
              "      <script>\n",
              "        const buttonEl =\n",
              "          document.querySelector('#df-b1eda5a8-ac7b-4592-9a29-67d79cd7a4a9 button.colab-df-convert');\n",
              "        buttonEl.style.display =\n",
              "          google.colab.kernel.accessAllowed ? 'block' : 'none';\n",
              "\n",
              "        async function convertToInteractive(key) {\n",
              "          const element = document.querySelector('#df-b1eda5a8-ac7b-4592-9a29-67d79cd7a4a9');\n",
              "          const dataTable =\n",
              "            await google.colab.kernel.invokeFunction('convertToInteractive',\n",
              "                                                     [key], {});\n",
              "          if (!dataTable) return;\n",
              "\n",
              "          const docLinkHtml = 'Like what you see? Visit the ' +\n",
              "            '<a target=\"_blank\" href=https://colab.research.google.com/notebooks/data_table.ipynb>data table notebook</a>'\n",
              "            + ' to learn more about interactive tables.';\n",
              "          element.innerHTML = '';\n",
              "          dataTable['output_type'] = 'display_data';\n",
              "          await google.colab.output.renderOutput(dataTable, element);\n",
              "          const docLink = document.createElement('div');\n",
              "          docLink.innerHTML = docLinkHtml;\n",
              "          element.appendChild(docLink);\n",
              "        }\n",
              "      </script>\n",
              "    </div>\n",
              "  </div>\n",
              "  "
            ],
            "text/plain": [
              "          0         1         2         3         4\n",
              "0  0.782997  0.983401  0.449741  0.077917  0.514068\n",
              "1  0.479697  0.661174  0.742659  0.010939  0.172327\n",
              "2  0.780938  0.533115  0.660962  0.897872  0.061047\n",
              "3  0.512533  0.479802  0.730971  0.335466  0.639821\n",
              "4  0.918267  0.178420  0.055605  0.958090  0.911738"
            ]
          },
          "execution_count": 90,
          "metadata": {},
          "output_type": "execute_result"
        }
      ],
      "source": [
        "newdf.head()"
      ]
    },
    {
      "cell_type": "code",
      "execution_count": null,
      "metadata": {
        "colab": {
          "base_uri": "https://localhost:8080/"
        },
        "id": "rLmu47mCUdJh",
        "outputId": "a2a2471e-fbc3-4296-d778-2567b1ed4e98"
      },
      "outputs": [
        {
          "data": {
            "text/plain": [
              "pandas.core.frame.DataFrame"
            ]
          },
          "execution_count": 91,
          "metadata": {},
          "output_type": "execute_result"
        }
      ],
      "source": [
        "type(newdf) #Check type"
      ]
    },
    {
      "cell_type": "code",
      "execution_count": null,
      "metadata": {
        "colab": {
          "base_uri": "https://localhost:8080/",
          "height": 300
        },
        "id": "U2naSxANUdGX",
        "outputId": "0f129bf5-4e40-47b8-9a1f-55974d46e7b1"
      },
      "outputs": [
        {
          "data": {
            "text/html": [
              "\n",
              "  <div id=\"df-0d86f91d-f863-4ed0-aeb9-e5ed3654649b\">\n",
              "    <div class=\"colab-df-container\">\n",
              "      <div>\n",
              "<style scoped>\n",
              "    .dataframe tbody tr th:only-of-type {\n",
              "        vertical-align: middle;\n",
              "    }\n",
              "\n",
              "    .dataframe tbody tr th {\n",
              "        vertical-align: top;\n",
              "    }\n",
              "\n",
              "    .dataframe thead th {\n",
              "        text-align: right;\n",
              "    }\n",
              "</style>\n",
              "<table border=\"1\" class=\"dataframe\">\n",
              "  <thead>\n",
              "    <tr style=\"text-align: right;\">\n",
              "      <th></th>\n",
              "      <th>0</th>\n",
              "      <th>1</th>\n",
              "      <th>2</th>\n",
              "      <th>3</th>\n",
              "      <th>4</th>\n",
              "    </tr>\n",
              "  </thead>\n",
              "  <tbody>\n",
              "    <tr>\n",
              "      <th>count</th>\n",
              "      <td>334.000000</td>\n",
              "      <td>334.000000</td>\n",
              "      <td>334.000000</td>\n",
              "      <td>334.000000</td>\n",
              "      <td>334.000000</td>\n",
              "    </tr>\n",
              "    <tr>\n",
              "      <th>mean</th>\n",
              "      <td>0.471705</td>\n",
              "      <td>0.497488</td>\n",
              "      <td>0.491513</td>\n",
              "      <td>0.485838</td>\n",
              "      <td>0.524625</td>\n",
              "    </tr>\n",
              "    <tr>\n",
              "      <th>std</th>\n",
              "      <td>0.285154</td>\n",
              "      <td>0.290391</td>\n",
              "      <td>0.292024</td>\n",
              "      <td>0.279946</td>\n",
              "      <td>0.289004</td>\n",
              "    </tr>\n",
              "    <tr>\n",
              "      <th>min</th>\n",
              "      <td>0.002346</td>\n",
              "      <td>0.000501</td>\n",
              "      <td>0.004300</td>\n",
              "      <td>0.000795</td>\n",
              "      <td>0.001834</td>\n",
              "    </tr>\n",
              "    <tr>\n",
              "      <th>25%</th>\n",
              "      <td>0.240721</td>\n",
              "      <td>0.225202</td>\n",
              "      <td>0.214593</td>\n",
              "      <td>0.248657</td>\n",
              "      <td>0.268317</td>\n",
              "    </tr>\n",
              "    <tr>\n",
              "      <th>50%</th>\n",
              "      <td>0.461213</td>\n",
              "      <td>0.502959</td>\n",
              "      <td>0.506046</td>\n",
              "      <td>0.488109</td>\n",
              "      <td>0.553678</td>\n",
              "    </tr>\n",
              "    <tr>\n",
              "      <th>75%</th>\n",
              "      <td>0.717137</td>\n",
              "      <td>0.745563</td>\n",
              "      <td>0.743609</td>\n",
              "      <td>0.708161</td>\n",
              "      <td>0.765537</td>\n",
              "    </tr>\n",
              "    <tr>\n",
              "      <th>max</th>\n",
              "      <td>0.999602</td>\n",
              "      <td>0.997700</td>\n",
              "      <td>0.995648</td>\n",
              "      <td>0.998590</td>\n",
              "      <td>0.999624</td>\n",
              "    </tr>\n",
              "  </tbody>\n",
              "</table>\n",
              "</div>\n",
              "      <button class=\"colab-df-convert\" onclick=\"convertToInteractive('df-0d86f91d-f863-4ed0-aeb9-e5ed3654649b')\"\n",
              "              title=\"Convert this dataframe to an interactive table.\"\n",
              "              style=\"display:none;\">\n",
              "        \n",
              "  <svg xmlns=\"http://www.w3.org/2000/svg\" height=\"24px\"viewBox=\"0 0 24 24\"\n",
              "       width=\"24px\">\n",
              "    <path d=\"M0 0h24v24H0V0z\" fill=\"none\"/>\n",
              "    <path d=\"M18.56 5.44l.94 2.06.94-2.06 2.06-.94-2.06-.94-.94-2.06-.94 2.06-2.06.94zm-11 1L8.5 8.5l.94-2.06 2.06-.94-2.06-.94L8.5 2.5l-.94 2.06-2.06.94zm10 10l.94 2.06.94-2.06 2.06-.94-2.06-.94-.94-2.06-.94 2.06-2.06.94z\"/><path d=\"M17.41 7.96l-1.37-1.37c-.4-.4-.92-.59-1.43-.59-.52 0-1.04.2-1.43.59L10.3 9.45l-7.72 7.72c-.78.78-.78 2.05 0 2.83L4 21.41c.39.39.9.59 1.41.59.51 0 1.02-.2 1.41-.59l7.78-7.78 2.81-2.81c.8-.78.8-2.07 0-2.86zM5.41 20L4 18.59l7.72-7.72 1.47 1.35L5.41 20z\"/>\n",
              "  </svg>\n",
              "      </button>\n",
              "      \n",
              "  <style>\n",
              "    .colab-df-container {\n",
              "      display:flex;\n",
              "      flex-wrap:wrap;\n",
              "      gap: 12px;\n",
              "    }\n",
              "\n",
              "    .colab-df-convert {\n",
              "      background-color: #E8F0FE;\n",
              "      border: none;\n",
              "      border-radius: 50%;\n",
              "      cursor: pointer;\n",
              "      display: none;\n",
              "      fill: #1967D2;\n",
              "      height: 32px;\n",
              "      padding: 0 0 0 0;\n",
              "      width: 32px;\n",
              "    }\n",
              "\n",
              "    .colab-df-convert:hover {\n",
              "      background-color: #E2EBFA;\n",
              "      box-shadow: 0px 1px 2px rgba(60, 64, 67, 0.3), 0px 1px 3px 1px rgba(60, 64, 67, 0.15);\n",
              "      fill: #174EA6;\n",
              "    }\n",
              "\n",
              "    [theme=dark] .colab-df-convert {\n",
              "      background-color: #3B4455;\n",
              "      fill: #D2E3FC;\n",
              "    }\n",
              "\n",
              "    [theme=dark] .colab-df-convert:hover {\n",
              "      background-color: #434B5C;\n",
              "      box-shadow: 0px 1px 3px 1px rgba(0, 0, 0, 0.15);\n",
              "      filter: drop-shadow(0px 1px 2px rgba(0, 0, 0, 0.3));\n",
              "      fill: #FFFFFF;\n",
              "    }\n",
              "  </style>\n",
              "\n",
              "      <script>\n",
              "        const buttonEl =\n",
              "          document.querySelector('#df-0d86f91d-f863-4ed0-aeb9-e5ed3654649b button.colab-df-convert');\n",
              "        buttonEl.style.display =\n",
              "          google.colab.kernel.accessAllowed ? 'block' : 'none';\n",
              "\n",
              "        async function convertToInteractive(key) {\n",
              "          const element = document.querySelector('#df-0d86f91d-f863-4ed0-aeb9-e5ed3654649b');\n",
              "          const dataTable =\n",
              "            await google.colab.kernel.invokeFunction('convertToInteractive',\n",
              "                                                     [key], {});\n",
              "          if (!dataTable) return;\n",
              "\n",
              "          const docLinkHtml = 'Like what you see? Visit the ' +\n",
              "            '<a target=\"_blank\" href=https://colab.research.google.com/notebooks/data_table.ipynb>data table notebook</a>'\n",
              "            + ' to learn more about interactive tables.';\n",
              "          element.innerHTML = '';\n",
              "          dataTable['output_type'] = 'display_data';\n",
              "          await google.colab.output.renderOutput(dataTable, element);\n",
              "          const docLink = document.createElement('div');\n",
              "          docLink.innerHTML = docLinkHtml;\n",
              "          element.appendChild(docLink);\n",
              "        }\n",
              "      </script>\n",
              "    </div>\n",
              "  </div>\n",
              "  "
            ],
            "text/plain": [
              "                0           1           2           3           4\n",
              "count  334.000000  334.000000  334.000000  334.000000  334.000000\n",
              "mean     0.471705    0.497488    0.491513    0.485838    0.524625\n",
              "std      0.285154    0.290391    0.292024    0.279946    0.289004\n",
              "min      0.002346    0.000501    0.004300    0.000795    0.001834\n",
              "25%      0.240721    0.225202    0.214593    0.248657    0.268317\n",
              "50%      0.461213    0.502959    0.506046    0.488109    0.553678\n",
              "75%      0.717137    0.745563    0.743609    0.708161    0.765537\n",
              "max      0.999602    0.997700    0.995648    0.998590    0.999624"
            ]
          },
          "execution_count": 92,
          "metadata": {},
          "output_type": "execute_result"
        }
      ],
      "source": [
        "newdf.describe()"
      ]
    },
    {
      "cell_type": "code",
      "execution_count": null,
      "metadata": {
        "colab": {
          "base_uri": "https://localhost:8080/"
        },
        "id": "o7hyDiI2UdCI",
        "outputId": "3ac742bc-2316-4f8c-a694-15712a8e1bd7"
      },
      "outputs": [
        {
          "data": {
            "text/plain": [
              "0    float64\n",
              "1    float64\n",
              "2    float64\n",
              "3    float64\n",
              "4    float64\n",
              "dtype: object"
            ]
          },
          "execution_count": 93,
          "metadata": {},
          "output_type": "execute_result"
        }
      ],
      "source": [
        "newdf.dtypes #check data type"
      ]
    },
    {
      "cell_type": "code",
      "execution_count": null,
      "metadata": {
        "id": "Cya-0fVZUc-F"
      },
      "outputs": [],
      "source": [
        "newdf[0][0]='Trushali'"
      ]
    },
    {
      "cell_type": "code",
      "execution_count": null,
      "metadata": {
        "colab": {
          "base_uri": "https://localhost:8080/",
          "height": 206
        },
        "id": "1qN2bh52Uc6l",
        "outputId": "3a69b50b-5a0c-4d46-912a-c72e4842d4a4"
      },
      "outputs": [
        {
          "data": {
            "text/html": [
              "\n",
              "  <div id=\"df-3b53ea2c-8a65-4f9f-b69f-e8539ef326ad\">\n",
              "    <div class=\"colab-df-container\">\n",
              "      <div>\n",
              "<style scoped>\n",
              "    .dataframe tbody tr th:only-of-type {\n",
              "        vertical-align: middle;\n",
              "    }\n",
              "\n",
              "    .dataframe tbody tr th {\n",
              "        vertical-align: top;\n",
              "    }\n",
              "\n",
              "    .dataframe thead th {\n",
              "        text-align: right;\n",
              "    }\n",
              "</style>\n",
              "<table border=\"1\" class=\"dataframe\">\n",
              "  <thead>\n",
              "    <tr style=\"text-align: right;\">\n",
              "      <th></th>\n",
              "      <th>0</th>\n",
              "      <th>1</th>\n",
              "      <th>2</th>\n",
              "      <th>3</th>\n",
              "      <th>4</th>\n",
              "    </tr>\n",
              "  </thead>\n",
              "  <tbody>\n",
              "    <tr>\n",
              "      <th>0</th>\n",
              "      <td>Trushali</td>\n",
              "      <td>0.983401</td>\n",
              "      <td>0.449741</td>\n",
              "      <td>0.077917</td>\n",
              "      <td>0.514068</td>\n",
              "    </tr>\n",
              "    <tr>\n",
              "      <th>1</th>\n",
              "      <td>0.479697</td>\n",
              "      <td>0.661174</td>\n",
              "      <td>0.742659</td>\n",
              "      <td>0.010939</td>\n",
              "      <td>0.172327</td>\n",
              "    </tr>\n",
              "    <tr>\n",
              "      <th>2</th>\n",
              "      <td>0.780938</td>\n",
              "      <td>0.533115</td>\n",
              "      <td>0.660962</td>\n",
              "      <td>0.897872</td>\n",
              "      <td>0.061047</td>\n",
              "    </tr>\n",
              "    <tr>\n",
              "      <th>3</th>\n",
              "      <td>0.512533</td>\n",
              "      <td>0.479802</td>\n",
              "      <td>0.730971</td>\n",
              "      <td>0.335466</td>\n",
              "      <td>0.639821</td>\n",
              "    </tr>\n",
              "    <tr>\n",
              "      <th>4</th>\n",
              "      <td>0.918267</td>\n",
              "      <td>0.178420</td>\n",
              "      <td>0.055605</td>\n",
              "      <td>0.958090</td>\n",
              "      <td>0.911738</td>\n",
              "    </tr>\n",
              "  </tbody>\n",
              "</table>\n",
              "</div>\n",
              "      <button class=\"colab-df-convert\" onclick=\"convertToInteractive('df-3b53ea2c-8a65-4f9f-b69f-e8539ef326ad')\"\n",
              "              title=\"Convert this dataframe to an interactive table.\"\n",
              "              style=\"display:none;\">\n",
              "        \n",
              "  <svg xmlns=\"http://www.w3.org/2000/svg\" height=\"24px\"viewBox=\"0 0 24 24\"\n",
              "       width=\"24px\">\n",
              "    <path d=\"M0 0h24v24H0V0z\" fill=\"none\"/>\n",
              "    <path d=\"M18.56 5.44l.94 2.06.94-2.06 2.06-.94-2.06-.94-.94-2.06-.94 2.06-2.06.94zm-11 1L8.5 8.5l.94-2.06 2.06-.94-2.06-.94L8.5 2.5l-.94 2.06-2.06.94zm10 10l.94 2.06.94-2.06 2.06-.94-2.06-.94-.94-2.06-.94 2.06-2.06.94z\"/><path d=\"M17.41 7.96l-1.37-1.37c-.4-.4-.92-.59-1.43-.59-.52 0-1.04.2-1.43.59L10.3 9.45l-7.72 7.72c-.78.78-.78 2.05 0 2.83L4 21.41c.39.39.9.59 1.41.59.51 0 1.02-.2 1.41-.59l7.78-7.78 2.81-2.81c.8-.78.8-2.07 0-2.86zM5.41 20L4 18.59l7.72-7.72 1.47 1.35L5.41 20z\"/>\n",
              "  </svg>\n",
              "      </button>\n",
              "      \n",
              "  <style>\n",
              "    .colab-df-container {\n",
              "      display:flex;\n",
              "      flex-wrap:wrap;\n",
              "      gap: 12px;\n",
              "    }\n",
              "\n",
              "    .colab-df-convert {\n",
              "      background-color: #E8F0FE;\n",
              "      border: none;\n",
              "      border-radius: 50%;\n",
              "      cursor: pointer;\n",
              "      display: none;\n",
              "      fill: #1967D2;\n",
              "      height: 32px;\n",
              "      padding: 0 0 0 0;\n",
              "      width: 32px;\n",
              "    }\n",
              "\n",
              "    .colab-df-convert:hover {\n",
              "      background-color: #E2EBFA;\n",
              "      box-shadow: 0px 1px 2px rgba(60, 64, 67, 0.3), 0px 1px 3px 1px rgba(60, 64, 67, 0.15);\n",
              "      fill: #174EA6;\n",
              "    }\n",
              "\n",
              "    [theme=dark] .colab-df-convert {\n",
              "      background-color: #3B4455;\n",
              "      fill: #D2E3FC;\n",
              "    }\n",
              "\n",
              "    [theme=dark] .colab-df-convert:hover {\n",
              "      background-color: #434B5C;\n",
              "      box-shadow: 0px 1px 3px 1px rgba(0, 0, 0, 0.15);\n",
              "      filter: drop-shadow(0px 1px 2px rgba(0, 0, 0, 0.3));\n",
              "      fill: #FFFFFF;\n",
              "    }\n",
              "  </style>\n",
              "\n",
              "      <script>\n",
              "        const buttonEl =\n",
              "          document.querySelector('#df-3b53ea2c-8a65-4f9f-b69f-e8539ef326ad button.colab-df-convert');\n",
              "        buttonEl.style.display =\n",
              "          google.colab.kernel.accessAllowed ? 'block' : 'none';\n",
              "\n",
              "        async function convertToInteractive(key) {\n",
              "          const element = document.querySelector('#df-3b53ea2c-8a65-4f9f-b69f-e8539ef326ad');\n",
              "          const dataTable =\n",
              "            await google.colab.kernel.invokeFunction('convertToInteractive',\n",
              "                                                     [key], {});\n",
              "          if (!dataTable) return;\n",
              "\n",
              "          const docLinkHtml = 'Like what you see? Visit the ' +\n",
              "            '<a target=\"_blank\" href=https://colab.research.google.com/notebooks/data_table.ipynb>data table notebook</a>'\n",
              "            + ' to learn more about interactive tables.';\n",
              "          element.innerHTML = '';\n",
              "          dataTable['output_type'] = 'display_data';\n",
              "          await google.colab.output.renderOutput(dataTable, element);\n",
              "          const docLink = document.createElement('div');\n",
              "          docLink.innerHTML = docLinkHtml;\n",
              "          element.appendChild(docLink);\n",
              "        }\n",
              "      </script>\n",
              "    </div>\n",
              "  </div>\n",
              "  "
            ],
            "text/plain": [
              "          0         1         2         3         4\n",
              "0  Trushali  0.983401  0.449741  0.077917  0.514068\n",
              "1  0.479697  0.661174  0.742659  0.010939  0.172327\n",
              "2  0.780938  0.533115  0.660962  0.897872  0.061047\n",
              "3  0.512533  0.479802  0.730971  0.335466  0.639821\n",
              "4  0.918267  0.178420  0.055605  0.958090  0.911738"
            ]
          },
          "execution_count": 95,
          "metadata": {},
          "output_type": "execute_result"
        }
      ],
      "source": [
        "newdf.head()"
      ]
    },
    {
      "cell_type": "code",
      "execution_count": null,
      "metadata": {
        "colab": {
          "base_uri": "https://localhost:8080/"
        },
        "id": "W7orU8RVWRtu",
        "outputId": "1bd9a155-41b1-46ad-c903-e84a83bd8ac7"
      },
      "outputs": [
        {
          "data": {
            "text/plain": [
              "0     object\n",
              "1    float64\n",
              "2    float64\n",
              "3    float64\n",
              "4    float64\n",
              "dtype: object"
            ]
          },
          "execution_count": 96,
          "metadata": {},
          "output_type": "execute_result"
        }
      ],
      "source": [
        "newdf.dtypes #datatype change due to add string"
      ]
    },
    {
      "cell_type": "code",
      "execution_count": null,
      "metadata": {
        "colab": {
          "base_uri": "https://localhost:8080/"
        },
        "id": "zVJv3gpRWRqI",
        "outputId": "92f2d8a6-8fdf-4f4f-99ae-059dc7dae5ce"
      },
      "outputs": [
        {
          "data": {
            "text/plain": [
              "Int64Index([  0,   1,   2,   3,   4,   5,   6,   7,   8,   9,\n",
              "            ...\n",
              "            324, 325, 326, 327, 328, 329, 330, 331, 332, 333],\n",
              "           dtype='int64', length=334)"
            ]
          },
          "execution_count": 97,
          "metadata": {},
          "output_type": "execute_result"
        }
      ],
      "source": [
        "newdf.index #total rows"
      ]
    },
    {
      "cell_type": "code",
      "execution_count": null,
      "metadata": {
        "colab": {
          "base_uri": "https://localhost:8080/"
        },
        "id": "cjkbeTnLWRme",
        "outputId": "ac64f2f8-6379-4251-aa62-46be71a0b4bf"
      },
      "outputs": [
        {
          "data": {
            "text/plain": [
              "RangeIndex(start=0, stop=5, step=1)"
            ]
          },
          "execution_count": 98,
          "metadata": {},
          "output_type": "execute_result"
        }
      ],
      "source": [
        "newdf.columns #total columns"
      ]
    },
    {
      "cell_type": "code",
      "execution_count": null,
      "metadata": {
        "colab": {
          "base_uri": "https://localhost:8080/"
        },
        "id": "lKIGPRbCWRjf",
        "outputId": "1f3b6b73-fcb7-4c52-c997-ab29d411365d"
      },
      "outputs": [
        {
          "data": {
            "text/plain": [
              "array([['Trushali', 0.9834013601480206, 0.449741321720907,\n",
              "        0.07791661305845654, 0.5140678551557125],\n",
              "       [0.47969664821580393, 0.6611743774014845, 0.7426585505832961,\n",
              "        0.010938922216869429, 0.17232662019575995],\n",
              "       [0.7809377636220556, 0.5331145221923865, 0.6609615602366843,\n",
              "        0.8978724405855393, 0.06104702108719584],\n",
              "       ...,\n",
              "       [0.5863654914885574, 0.37367883976665206, 0.16844754666508044,\n",
              "        0.2627283562178635, 0.8256499215602604],\n",
              "       [0.7121067433674217, 0.9253635896814248, 0.007490295871647956,\n",
              "        0.05063001157353908, 0.3802387765684585],\n",
              "       [0.278534633262297, 0.7397130876522524, 0.8002268781427309,\n",
              "        0.9985895631232509, 0.6649647469767415]], dtype=object)"
            ]
          },
          "execution_count": 99,
          "metadata": {},
          "output_type": "execute_result"
        }
      ],
      "source": [
        "newdf.to_numpy()"
      ]
    },
    {
      "cell_type": "code",
      "execution_count": null,
      "metadata": {
        "id": "PpC7pQviWRgo"
      },
      "outputs": [],
      "source": [
        "newdf[0][0]=0.3"
      ]
    },
    {
      "cell_type": "code",
      "execution_count": null,
      "metadata": {
        "colab": {
          "base_uri": "https://localhost:8080/",
          "height": 206
        },
        "id": "bGZwXUzQWRdR",
        "outputId": "bce38989-d01b-4518-db37-21bf1c6763c4"
      },
      "outputs": [
        {
          "data": {
            "text/html": [
              "\n",
              "  <div id=\"df-0707ddeb-773e-437d-b1f3-70a89d15ac03\">\n",
              "    <div class=\"colab-df-container\">\n",
              "      <div>\n",
              "<style scoped>\n",
              "    .dataframe tbody tr th:only-of-type {\n",
              "        vertical-align: middle;\n",
              "    }\n",
              "\n",
              "    .dataframe tbody tr th {\n",
              "        vertical-align: top;\n",
              "    }\n",
              "\n",
              "    .dataframe thead th {\n",
              "        text-align: right;\n",
              "    }\n",
              "</style>\n",
              "<table border=\"1\" class=\"dataframe\">\n",
              "  <thead>\n",
              "    <tr style=\"text-align: right;\">\n",
              "      <th></th>\n",
              "      <th>0</th>\n",
              "      <th>1</th>\n",
              "      <th>2</th>\n",
              "      <th>3</th>\n",
              "      <th>4</th>\n",
              "    </tr>\n",
              "  </thead>\n",
              "  <tbody>\n",
              "    <tr>\n",
              "      <th>0</th>\n",
              "      <td>0.3</td>\n",
              "      <td>0.983401</td>\n",
              "      <td>0.449741</td>\n",
              "      <td>0.077917</td>\n",
              "      <td>0.514068</td>\n",
              "    </tr>\n",
              "    <tr>\n",
              "      <th>1</th>\n",
              "      <td>0.479697</td>\n",
              "      <td>0.661174</td>\n",
              "      <td>0.742659</td>\n",
              "      <td>0.010939</td>\n",
              "      <td>0.172327</td>\n",
              "    </tr>\n",
              "    <tr>\n",
              "      <th>2</th>\n",
              "      <td>0.780938</td>\n",
              "      <td>0.533115</td>\n",
              "      <td>0.660962</td>\n",
              "      <td>0.897872</td>\n",
              "      <td>0.061047</td>\n",
              "    </tr>\n",
              "    <tr>\n",
              "      <th>3</th>\n",
              "      <td>0.512533</td>\n",
              "      <td>0.479802</td>\n",
              "      <td>0.730971</td>\n",
              "      <td>0.335466</td>\n",
              "      <td>0.639821</td>\n",
              "    </tr>\n",
              "    <tr>\n",
              "      <th>4</th>\n",
              "      <td>0.918267</td>\n",
              "      <td>0.178420</td>\n",
              "      <td>0.055605</td>\n",
              "      <td>0.958090</td>\n",
              "      <td>0.911738</td>\n",
              "    </tr>\n",
              "  </tbody>\n",
              "</table>\n",
              "</div>\n",
              "      <button class=\"colab-df-convert\" onclick=\"convertToInteractive('df-0707ddeb-773e-437d-b1f3-70a89d15ac03')\"\n",
              "              title=\"Convert this dataframe to an interactive table.\"\n",
              "              style=\"display:none;\">\n",
              "        \n",
              "  <svg xmlns=\"http://www.w3.org/2000/svg\" height=\"24px\"viewBox=\"0 0 24 24\"\n",
              "       width=\"24px\">\n",
              "    <path d=\"M0 0h24v24H0V0z\" fill=\"none\"/>\n",
              "    <path d=\"M18.56 5.44l.94 2.06.94-2.06 2.06-.94-2.06-.94-.94-2.06-.94 2.06-2.06.94zm-11 1L8.5 8.5l.94-2.06 2.06-.94-2.06-.94L8.5 2.5l-.94 2.06-2.06.94zm10 10l.94 2.06.94-2.06 2.06-.94-2.06-.94-.94-2.06-.94 2.06-2.06.94z\"/><path d=\"M17.41 7.96l-1.37-1.37c-.4-.4-.92-.59-1.43-.59-.52 0-1.04.2-1.43.59L10.3 9.45l-7.72 7.72c-.78.78-.78 2.05 0 2.83L4 21.41c.39.39.9.59 1.41.59.51 0 1.02-.2 1.41-.59l7.78-7.78 2.81-2.81c.8-.78.8-2.07 0-2.86zM5.41 20L4 18.59l7.72-7.72 1.47 1.35L5.41 20z\"/>\n",
              "  </svg>\n",
              "      </button>\n",
              "      \n",
              "  <style>\n",
              "    .colab-df-container {\n",
              "      display:flex;\n",
              "      flex-wrap:wrap;\n",
              "      gap: 12px;\n",
              "    }\n",
              "\n",
              "    .colab-df-convert {\n",
              "      background-color: #E8F0FE;\n",
              "      border: none;\n",
              "      border-radius: 50%;\n",
              "      cursor: pointer;\n",
              "      display: none;\n",
              "      fill: #1967D2;\n",
              "      height: 32px;\n",
              "      padding: 0 0 0 0;\n",
              "      width: 32px;\n",
              "    }\n",
              "\n",
              "    .colab-df-convert:hover {\n",
              "      background-color: #E2EBFA;\n",
              "      box-shadow: 0px 1px 2px rgba(60, 64, 67, 0.3), 0px 1px 3px 1px rgba(60, 64, 67, 0.15);\n",
              "      fill: #174EA6;\n",
              "    }\n",
              "\n",
              "    [theme=dark] .colab-df-convert {\n",
              "      background-color: #3B4455;\n",
              "      fill: #D2E3FC;\n",
              "    }\n",
              "\n",
              "    [theme=dark] .colab-df-convert:hover {\n",
              "      background-color: #434B5C;\n",
              "      box-shadow: 0px 1px 3px 1px rgba(0, 0, 0, 0.15);\n",
              "      filter: drop-shadow(0px 1px 2px rgba(0, 0, 0, 0.3));\n",
              "      fill: #FFFFFF;\n",
              "    }\n",
              "  </style>\n",
              "\n",
              "      <script>\n",
              "        const buttonEl =\n",
              "          document.querySelector('#df-0707ddeb-773e-437d-b1f3-70a89d15ac03 button.colab-df-convert');\n",
              "        buttonEl.style.display =\n",
              "          google.colab.kernel.accessAllowed ? 'block' : 'none';\n",
              "\n",
              "        async function convertToInteractive(key) {\n",
              "          const element = document.querySelector('#df-0707ddeb-773e-437d-b1f3-70a89d15ac03');\n",
              "          const dataTable =\n",
              "            await google.colab.kernel.invokeFunction('convertToInteractive',\n",
              "                                                     [key], {});\n",
              "          if (!dataTable) return;\n",
              "\n",
              "          const docLinkHtml = 'Like what you see? Visit the ' +\n",
              "            '<a target=\"_blank\" href=https://colab.research.google.com/notebooks/data_table.ipynb>data table notebook</a>'\n",
              "            + ' to learn more about interactive tables.';\n",
              "          element.innerHTML = '';\n",
              "          dataTable['output_type'] = 'display_data';\n",
              "          await google.colab.output.renderOutput(dataTable, element);\n",
              "          const docLink = document.createElement('div');\n",
              "          docLink.innerHTML = docLinkHtml;\n",
              "          element.appendChild(docLink);\n",
              "        }\n",
              "      </script>\n",
              "    </div>\n",
              "  </div>\n",
              "  "
            ],
            "text/plain": [
              "          0         1         2         3         4\n",
              "0       0.3  0.983401  0.449741  0.077917  0.514068\n",
              "1  0.479697  0.661174  0.742659  0.010939  0.172327\n",
              "2  0.780938  0.533115  0.660962  0.897872  0.061047\n",
              "3  0.512533  0.479802  0.730971  0.335466  0.639821\n",
              "4  0.918267  0.178420  0.055605  0.958090  0.911738"
            ]
          },
          "execution_count": 101,
          "metadata": {},
          "output_type": "execute_result"
        }
      ],
      "source": [
        "newdf.head()"
      ]
    },
    {
      "cell_type": "code",
      "execution_count": null,
      "metadata": {
        "colab": {
          "base_uri": "https://localhost:8080/",
          "height": 300
        },
        "id": "p5c29Y63WRaq",
        "outputId": "bcaa3057-d1bf-43d3-bafb-f54cc89f4579"
      },
      "outputs": [
        {
          "data": {
            "text/html": [
              "\n",
              "  <div id=\"df-aed926a0-19e1-459d-a555-1b7fd4bb32a0\">\n",
              "    <div class=\"colab-df-container\">\n",
              "      <div>\n",
              "<style scoped>\n",
              "    .dataframe tbody tr th:only-of-type {\n",
              "        vertical-align: middle;\n",
              "    }\n",
              "\n",
              "    .dataframe tbody tr th {\n",
              "        vertical-align: top;\n",
              "    }\n",
              "\n",
              "    .dataframe thead th {\n",
              "        text-align: right;\n",
              "    }\n",
              "</style>\n",
              "<table border=\"1\" class=\"dataframe\">\n",
              "  <thead>\n",
              "    <tr style=\"text-align: right;\">\n",
              "      <th></th>\n",
              "      <th>0</th>\n",
              "      <th>1</th>\n",
              "      <th>2</th>\n",
              "      <th>3</th>\n",
              "      <th>4</th>\n",
              "      <th>5</th>\n",
              "      <th>6</th>\n",
              "      <th>7</th>\n",
              "      <th>8</th>\n",
              "      <th>9</th>\n",
              "      <th>...</th>\n",
              "      <th>324</th>\n",
              "      <th>325</th>\n",
              "      <th>326</th>\n",
              "      <th>327</th>\n",
              "      <th>328</th>\n",
              "      <th>329</th>\n",
              "      <th>330</th>\n",
              "      <th>331</th>\n",
              "      <th>332</th>\n",
              "      <th>333</th>\n",
              "    </tr>\n",
              "  </thead>\n",
              "  <tbody>\n",
              "    <tr>\n",
              "      <th>0</th>\n",
              "      <td>0.3</td>\n",
              "      <td>0.479697</td>\n",
              "      <td>0.780938</td>\n",
              "      <td>0.512533</td>\n",
              "      <td>0.918267</td>\n",
              "      <td>0.333351</td>\n",
              "      <td>0.919788</td>\n",
              "      <td>0.486325</td>\n",
              "      <td>0.551072</td>\n",
              "      <td>0.894637</td>\n",
              "      <td>...</td>\n",
              "      <td>0.279633</td>\n",
              "      <td>0.621088</td>\n",
              "      <td>0.725996</td>\n",
              "      <td>0.488846</td>\n",
              "      <td>0.455976</td>\n",
              "      <td>0.168249</td>\n",
              "      <td>0.280925</td>\n",
              "      <td>0.586365</td>\n",
              "      <td>0.712107</td>\n",
              "      <td>0.278535</td>\n",
              "    </tr>\n",
              "    <tr>\n",
              "      <th>1</th>\n",
              "      <td>0.983401</td>\n",
              "      <td>0.661174</td>\n",
              "      <td>0.533115</td>\n",
              "      <td>0.479802</td>\n",
              "      <td>0.17842</td>\n",
              "      <td>0.252947</td>\n",
              "      <td>0.099526</td>\n",
              "      <td>0.011522</td>\n",
              "      <td>0.657945</td>\n",
              "      <td>0.829806</td>\n",
              "      <td>...</td>\n",
              "      <td>0.739553</td>\n",
              "      <td>0.499031</td>\n",
              "      <td>0.506886</td>\n",
              "      <td>0.000501</td>\n",
              "      <td>0.942088</td>\n",
              "      <td>0.865366</td>\n",
              "      <td>0.88596</td>\n",
              "      <td>0.373679</td>\n",
              "      <td>0.925364</td>\n",
              "      <td>0.739713</td>\n",
              "    </tr>\n",
              "    <tr>\n",
              "      <th>2</th>\n",
              "      <td>0.449741</td>\n",
              "      <td>0.742659</td>\n",
              "      <td>0.660962</td>\n",
              "      <td>0.730971</td>\n",
              "      <td>0.055605</td>\n",
              "      <td>0.715182</td>\n",
              "      <td>0.38485</td>\n",
              "      <td>0.804901</td>\n",
              "      <td>0.668367</td>\n",
              "      <td>0.743926</td>\n",
              "      <td>...</td>\n",
              "      <td>0.78307</td>\n",
              "      <td>0.873471</td>\n",
              "      <td>0.579841</td>\n",
              "      <td>0.031759</td>\n",
              "      <td>0.174409</td>\n",
              "      <td>0.696239</td>\n",
              "      <td>0.461729</td>\n",
              "      <td>0.168448</td>\n",
              "      <td>0.00749</td>\n",
              "      <td>0.800227</td>\n",
              "    </tr>\n",
              "    <tr>\n",
              "      <th>3</th>\n",
              "      <td>0.077917</td>\n",
              "      <td>0.010939</td>\n",
              "      <td>0.897872</td>\n",
              "      <td>0.335466</td>\n",
              "      <td>0.95809</td>\n",
              "      <td>0.887943</td>\n",
              "      <td>0.960383</td>\n",
              "      <td>0.586875</td>\n",
              "      <td>0.545039</td>\n",
              "      <td>0.361692</td>\n",
              "      <td>...</td>\n",
              "      <td>0.861292</td>\n",
              "      <td>0.674159</td>\n",
              "      <td>0.943902</td>\n",
              "      <td>0.394453</td>\n",
              "      <td>0.531413</td>\n",
              "      <td>0.233332</td>\n",
              "      <td>0.079684</td>\n",
              "      <td>0.262728</td>\n",
              "      <td>0.05063</td>\n",
              "      <td>0.99859</td>\n",
              "    </tr>\n",
              "    <tr>\n",
              "      <th>4</th>\n",
              "      <td>0.514068</td>\n",
              "      <td>0.172327</td>\n",
              "      <td>0.061047</td>\n",
              "      <td>0.639821</td>\n",
              "      <td>0.911738</td>\n",
              "      <td>0.358662</td>\n",
              "      <td>0.636282</td>\n",
              "      <td>0.895626</td>\n",
              "      <td>0.773916</td>\n",
              "      <td>0.368508</td>\n",
              "      <td>...</td>\n",
              "      <td>0.536798</td>\n",
              "      <td>0.839132</td>\n",
              "      <td>0.363976</td>\n",
              "      <td>0.738808</td>\n",
              "      <td>0.44008</td>\n",
              "      <td>0.071001</td>\n",
              "      <td>0.524113</td>\n",
              "      <td>0.82565</td>\n",
              "      <td>0.380239</td>\n",
              "      <td>0.664965</td>\n",
              "    </tr>\n",
              "  </tbody>\n",
              "</table>\n",
              "<p>5 rows × 334 columns</p>\n",
              "</div>\n",
              "      <button class=\"colab-df-convert\" onclick=\"convertToInteractive('df-aed926a0-19e1-459d-a555-1b7fd4bb32a0')\"\n",
              "              title=\"Convert this dataframe to an interactive table.\"\n",
              "              style=\"display:none;\">\n",
              "        \n",
              "  <svg xmlns=\"http://www.w3.org/2000/svg\" height=\"24px\"viewBox=\"0 0 24 24\"\n",
              "       width=\"24px\">\n",
              "    <path d=\"M0 0h24v24H0V0z\" fill=\"none\"/>\n",
              "    <path d=\"M18.56 5.44l.94 2.06.94-2.06 2.06-.94-2.06-.94-.94-2.06-.94 2.06-2.06.94zm-11 1L8.5 8.5l.94-2.06 2.06-.94-2.06-.94L8.5 2.5l-.94 2.06-2.06.94zm10 10l.94 2.06.94-2.06 2.06-.94-2.06-.94-.94-2.06-.94 2.06-2.06.94z\"/><path d=\"M17.41 7.96l-1.37-1.37c-.4-.4-.92-.59-1.43-.59-.52 0-1.04.2-1.43.59L10.3 9.45l-7.72 7.72c-.78.78-.78 2.05 0 2.83L4 21.41c.39.39.9.59 1.41.59.51 0 1.02-.2 1.41-.59l7.78-7.78 2.81-2.81c.8-.78.8-2.07 0-2.86zM5.41 20L4 18.59l7.72-7.72 1.47 1.35L5.41 20z\"/>\n",
              "  </svg>\n",
              "      </button>\n",
              "      \n",
              "  <style>\n",
              "    .colab-df-container {\n",
              "      display:flex;\n",
              "      flex-wrap:wrap;\n",
              "      gap: 12px;\n",
              "    }\n",
              "\n",
              "    .colab-df-convert {\n",
              "      background-color: #E8F0FE;\n",
              "      border: none;\n",
              "      border-radius: 50%;\n",
              "      cursor: pointer;\n",
              "      display: none;\n",
              "      fill: #1967D2;\n",
              "      height: 32px;\n",
              "      padding: 0 0 0 0;\n",
              "      width: 32px;\n",
              "    }\n",
              "\n",
              "    .colab-df-convert:hover {\n",
              "      background-color: #E2EBFA;\n",
              "      box-shadow: 0px 1px 2px rgba(60, 64, 67, 0.3), 0px 1px 3px 1px rgba(60, 64, 67, 0.15);\n",
              "      fill: #174EA6;\n",
              "    }\n",
              "\n",
              "    [theme=dark] .colab-df-convert {\n",
              "      background-color: #3B4455;\n",
              "      fill: #D2E3FC;\n",
              "    }\n",
              "\n",
              "    [theme=dark] .colab-df-convert:hover {\n",
              "      background-color: #434B5C;\n",
              "      box-shadow: 0px 1px 3px 1px rgba(0, 0, 0, 0.15);\n",
              "      filter: drop-shadow(0px 1px 2px rgba(0, 0, 0, 0.3));\n",
              "      fill: #FFFFFF;\n",
              "    }\n",
              "  </style>\n",
              "\n",
              "      <script>\n",
              "        const buttonEl =\n",
              "          document.querySelector('#df-aed926a0-19e1-459d-a555-1b7fd4bb32a0 button.colab-df-convert');\n",
              "        buttonEl.style.display =\n",
              "          google.colab.kernel.accessAllowed ? 'block' : 'none';\n",
              "\n",
              "        async function convertToInteractive(key) {\n",
              "          const element = document.querySelector('#df-aed926a0-19e1-459d-a555-1b7fd4bb32a0');\n",
              "          const dataTable =\n",
              "            await google.colab.kernel.invokeFunction('convertToInteractive',\n",
              "                                                     [key], {});\n",
              "          if (!dataTable) return;\n",
              "\n",
              "          const docLinkHtml = 'Like what you see? Visit the ' +\n",
              "            '<a target=\"_blank\" href=https://colab.research.google.com/notebooks/data_table.ipynb>data table notebook</a>'\n",
              "            + ' to learn more about interactive tables.';\n",
              "          element.innerHTML = '';\n",
              "          dataTable['output_type'] = 'display_data';\n",
              "          await google.colab.output.renderOutput(dataTable, element);\n",
              "          const docLink = document.createElement('div');\n",
              "          docLink.innerHTML = docLinkHtml;\n",
              "          element.appendChild(docLink);\n",
              "        }\n",
              "      </script>\n",
              "    </div>\n",
              "  </div>\n",
              "  "
            ],
            "text/plain": [
              "        0         1         2         3         4         5         6    \\\n",
              "0       0.3  0.479697  0.780938  0.512533  0.918267  0.333351  0.919788   \n",
              "1  0.983401  0.661174  0.533115  0.479802   0.17842  0.252947  0.099526   \n",
              "2  0.449741  0.742659  0.660962  0.730971  0.055605  0.715182   0.38485   \n",
              "3  0.077917  0.010939  0.897872  0.335466   0.95809  0.887943  0.960383   \n",
              "4  0.514068  0.172327  0.061047  0.639821  0.911738  0.358662  0.636282   \n",
              "\n",
              "        7         8         9    ...       324       325       326       327  \\\n",
              "0  0.486325  0.551072  0.894637  ...  0.279633  0.621088  0.725996  0.488846   \n",
              "1  0.011522  0.657945  0.829806  ...  0.739553  0.499031  0.506886  0.000501   \n",
              "2  0.804901  0.668367  0.743926  ...   0.78307  0.873471  0.579841  0.031759   \n",
              "3  0.586875  0.545039  0.361692  ...  0.861292  0.674159  0.943902  0.394453   \n",
              "4  0.895626  0.773916  0.368508  ...  0.536798  0.839132  0.363976  0.738808   \n",
              "\n",
              "        328       329       330       331       332       333  \n",
              "0  0.455976  0.168249  0.280925  0.586365  0.712107  0.278535  \n",
              "1  0.942088  0.865366   0.88596  0.373679  0.925364  0.739713  \n",
              "2  0.174409  0.696239  0.461729  0.168448   0.00749  0.800227  \n",
              "3  0.531413  0.233332  0.079684  0.262728   0.05063   0.99859  \n",
              "4   0.44008  0.071001  0.524113   0.82565  0.380239  0.664965  \n",
              "\n",
              "[5 rows x 334 columns]"
            ]
          },
          "execution_count": 102,
          "metadata": {},
          "output_type": "execute_result"
        }
      ],
      "source": [
        "newdf.T#transpose row to columns & col to row"
      ]
    },
    {
      "cell_type": "code",
      "execution_count": null,
      "metadata": {
        "colab": {
          "base_uri": "https://localhost:8080/",
          "height": 206
        },
        "id": "Bz8_jpV5WRYC",
        "outputId": "b60c6fec-019d-4d19-a01f-6ace18ad695b"
      },
      "outputs": [
        {
          "data": {
            "text/html": [
              "\n",
              "  <div id=\"df-65ddd50a-793c-4ae8-9e1d-e1e1160cfece\">\n",
              "    <div class=\"colab-df-container\">\n",
              "      <div>\n",
              "<style scoped>\n",
              "    .dataframe tbody tr th:only-of-type {\n",
              "        vertical-align: middle;\n",
              "    }\n",
              "\n",
              "    .dataframe tbody tr th {\n",
              "        vertical-align: top;\n",
              "    }\n",
              "\n",
              "    .dataframe thead th {\n",
              "        text-align: right;\n",
              "    }\n",
              "</style>\n",
              "<table border=\"1\" class=\"dataframe\">\n",
              "  <thead>\n",
              "    <tr style=\"text-align: right;\">\n",
              "      <th></th>\n",
              "      <th>0</th>\n",
              "      <th>1</th>\n",
              "      <th>2</th>\n",
              "      <th>3</th>\n",
              "      <th>4</th>\n",
              "    </tr>\n",
              "  </thead>\n",
              "  <tbody>\n",
              "    <tr>\n",
              "      <th>0</th>\n",
              "      <td>0.3</td>\n",
              "      <td>0.983401</td>\n",
              "      <td>0.449741</td>\n",
              "      <td>0.077917</td>\n",
              "      <td>0.514068</td>\n",
              "    </tr>\n",
              "    <tr>\n",
              "      <th>1</th>\n",
              "      <td>0.479697</td>\n",
              "      <td>0.661174</td>\n",
              "      <td>0.742659</td>\n",
              "      <td>0.010939</td>\n",
              "      <td>0.172327</td>\n",
              "    </tr>\n",
              "    <tr>\n",
              "      <th>2</th>\n",
              "      <td>0.780938</td>\n",
              "      <td>0.533115</td>\n",
              "      <td>0.660962</td>\n",
              "      <td>0.897872</td>\n",
              "      <td>0.061047</td>\n",
              "    </tr>\n",
              "    <tr>\n",
              "      <th>3</th>\n",
              "      <td>0.512533</td>\n",
              "      <td>0.479802</td>\n",
              "      <td>0.730971</td>\n",
              "      <td>0.335466</td>\n",
              "      <td>0.639821</td>\n",
              "    </tr>\n",
              "    <tr>\n",
              "      <th>4</th>\n",
              "      <td>0.918267</td>\n",
              "      <td>0.178420</td>\n",
              "      <td>0.055605</td>\n",
              "      <td>0.958090</td>\n",
              "      <td>0.911738</td>\n",
              "    </tr>\n",
              "  </tbody>\n",
              "</table>\n",
              "</div>\n",
              "      <button class=\"colab-df-convert\" onclick=\"convertToInteractive('df-65ddd50a-793c-4ae8-9e1d-e1e1160cfece')\"\n",
              "              title=\"Convert this dataframe to an interactive table.\"\n",
              "              style=\"display:none;\">\n",
              "        \n",
              "  <svg xmlns=\"http://www.w3.org/2000/svg\" height=\"24px\"viewBox=\"0 0 24 24\"\n",
              "       width=\"24px\">\n",
              "    <path d=\"M0 0h24v24H0V0z\" fill=\"none\"/>\n",
              "    <path d=\"M18.56 5.44l.94 2.06.94-2.06 2.06-.94-2.06-.94-.94-2.06-.94 2.06-2.06.94zm-11 1L8.5 8.5l.94-2.06 2.06-.94-2.06-.94L8.5 2.5l-.94 2.06-2.06.94zm10 10l.94 2.06.94-2.06 2.06-.94-2.06-.94-.94-2.06-.94 2.06-2.06.94z\"/><path d=\"M17.41 7.96l-1.37-1.37c-.4-.4-.92-.59-1.43-.59-.52 0-1.04.2-1.43.59L10.3 9.45l-7.72 7.72c-.78.78-.78 2.05 0 2.83L4 21.41c.39.39.9.59 1.41.59.51 0 1.02-.2 1.41-.59l7.78-7.78 2.81-2.81c.8-.78.8-2.07 0-2.86zM5.41 20L4 18.59l7.72-7.72 1.47 1.35L5.41 20z\"/>\n",
              "  </svg>\n",
              "      </button>\n",
              "      \n",
              "  <style>\n",
              "    .colab-df-container {\n",
              "      display:flex;\n",
              "      flex-wrap:wrap;\n",
              "      gap: 12px;\n",
              "    }\n",
              "\n",
              "    .colab-df-convert {\n",
              "      background-color: #E8F0FE;\n",
              "      border: none;\n",
              "      border-radius: 50%;\n",
              "      cursor: pointer;\n",
              "      display: none;\n",
              "      fill: #1967D2;\n",
              "      height: 32px;\n",
              "      padding: 0 0 0 0;\n",
              "      width: 32px;\n",
              "    }\n",
              "\n",
              "    .colab-df-convert:hover {\n",
              "      background-color: #E2EBFA;\n",
              "      box-shadow: 0px 1px 2px rgba(60, 64, 67, 0.3), 0px 1px 3px 1px rgba(60, 64, 67, 0.15);\n",
              "      fill: #174EA6;\n",
              "    }\n",
              "\n",
              "    [theme=dark] .colab-df-convert {\n",
              "      background-color: #3B4455;\n",
              "      fill: #D2E3FC;\n",
              "    }\n",
              "\n",
              "    [theme=dark] .colab-df-convert:hover {\n",
              "      background-color: #434B5C;\n",
              "      box-shadow: 0px 1px 3px 1px rgba(0, 0, 0, 0.15);\n",
              "      filter: drop-shadow(0px 1px 2px rgba(0, 0, 0, 0.3));\n",
              "      fill: #FFFFFF;\n",
              "    }\n",
              "  </style>\n",
              "\n",
              "      <script>\n",
              "        const buttonEl =\n",
              "          document.querySelector('#df-65ddd50a-793c-4ae8-9e1d-e1e1160cfece button.colab-df-convert');\n",
              "        buttonEl.style.display =\n",
              "          google.colab.kernel.accessAllowed ? 'block' : 'none';\n",
              "\n",
              "        async function convertToInteractive(key) {\n",
              "          const element = document.querySelector('#df-65ddd50a-793c-4ae8-9e1d-e1e1160cfece');\n",
              "          const dataTable =\n",
              "            await google.colab.kernel.invokeFunction('convertToInteractive',\n",
              "                                                     [key], {});\n",
              "          if (!dataTable) return;\n",
              "\n",
              "          const docLinkHtml = 'Like what you see? Visit the ' +\n",
              "            '<a target=\"_blank\" href=https://colab.research.google.com/notebooks/data_table.ipynb>data table notebook</a>'\n",
              "            + ' to learn more about interactive tables.';\n",
              "          element.innerHTML = '';\n",
              "          dataTable['output_type'] = 'display_data';\n",
              "          await google.colab.output.renderOutput(dataTable, element);\n",
              "          const docLink = document.createElement('div');\n",
              "          docLink.innerHTML = docLinkHtml;\n",
              "          element.appendChild(docLink);\n",
              "        }\n",
              "      </script>\n",
              "    </div>\n",
              "  </div>\n",
              "  "
            ],
            "text/plain": [
              "          0         1         2         3         4\n",
              "0       0.3  0.983401  0.449741  0.077917  0.514068\n",
              "1  0.479697  0.661174  0.742659  0.010939  0.172327\n",
              "2  0.780938  0.533115  0.660962  0.897872  0.061047\n",
              "3  0.512533  0.479802  0.730971  0.335466  0.639821\n",
              "4  0.918267  0.178420  0.055605  0.958090  0.911738"
            ]
          },
          "execution_count": 103,
          "metadata": {},
          "output_type": "execute_result"
        }
      ],
      "source": [
        "newdf.head()"
      ]
    },
    {
      "cell_type": "code",
      "execution_count": null,
      "metadata": {
        "colab": {
          "base_uri": "https://localhost:8080/",
          "height": 424
        },
        "id": "eM_NdRDfWRVB",
        "outputId": "34554ab4-119e-4621-e08c-ea45333d5359"
      },
      "outputs": [
        {
          "data": {
            "text/html": [
              "\n",
              "  <div id=\"df-256ea70b-e115-4af6-8fe7-7db089642fc2\">\n",
              "    <div class=\"colab-df-container\">\n",
              "      <div>\n",
              "<style scoped>\n",
              "    .dataframe tbody tr th:only-of-type {\n",
              "        vertical-align: middle;\n",
              "    }\n",
              "\n",
              "    .dataframe tbody tr th {\n",
              "        vertical-align: top;\n",
              "    }\n",
              "\n",
              "    .dataframe thead th {\n",
              "        text-align: right;\n",
              "    }\n",
              "</style>\n",
              "<table border=\"1\" class=\"dataframe\">\n",
              "  <thead>\n",
              "    <tr style=\"text-align: right;\">\n",
              "      <th></th>\n",
              "      <th>4</th>\n",
              "      <th>3</th>\n",
              "      <th>2</th>\n",
              "      <th>1</th>\n",
              "      <th>0</th>\n",
              "    </tr>\n",
              "  </thead>\n",
              "  <tbody>\n",
              "    <tr>\n",
              "      <th>0</th>\n",
              "      <td>0.514068</td>\n",
              "      <td>0.077917</td>\n",
              "      <td>0.449741</td>\n",
              "      <td>0.983401</td>\n",
              "      <td>0.3</td>\n",
              "    </tr>\n",
              "    <tr>\n",
              "      <th>1</th>\n",
              "      <td>0.172327</td>\n",
              "      <td>0.010939</td>\n",
              "      <td>0.742659</td>\n",
              "      <td>0.661174</td>\n",
              "      <td>0.479697</td>\n",
              "    </tr>\n",
              "    <tr>\n",
              "      <th>2</th>\n",
              "      <td>0.061047</td>\n",
              "      <td>0.897872</td>\n",
              "      <td>0.660962</td>\n",
              "      <td>0.533115</td>\n",
              "      <td>0.780938</td>\n",
              "    </tr>\n",
              "    <tr>\n",
              "      <th>3</th>\n",
              "      <td>0.639821</td>\n",
              "      <td>0.335466</td>\n",
              "      <td>0.730971</td>\n",
              "      <td>0.479802</td>\n",
              "      <td>0.512533</td>\n",
              "    </tr>\n",
              "    <tr>\n",
              "      <th>4</th>\n",
              "      <td>0.911738</td>\n",
              "      <td>0.958090</td>\n",
              "      <td>0.055605</td>\n",
              "      <td>0.178420</td>\n",
              "      <td>0.918267</td>\n",
              "    </tr>\n",
              "    <tr>\n",
              "      <th>...</th>\n",
              "      <td>...</td>\n",
              "      <td>...</td>\n",
              "      <td>...</td>\n",
              "      <td>...</td>\n",
              "      <td>...</td>\n",
              "    </tr>\n",
              "    <tr>\n",
              "      <th>329</th>\n",
              "      <td>0.071001</td>\n",
              "      <td>0.233332</td>\n",
              "      <td>0.696239</td>\n",
              "      <td>0.865366</td>\n",
              "      <td>0.168249</td>\n",
              "    </tr>\n",
              "    <tr>\n",
              "      <th>330</th>\n",
              "      <td>0.524113</td>\n",
              "      <td>0.079684</td>\n",
              "      <td>0.461729</td>\n",
              "      <td>0.885960</td>\n",
              "      <td>0.280925</td>\n",
              "    </tr>\n",
              "    <tr>\n",
              "      <th>331</th>\n",
              "      <td>0.825650</td>\n",
              "      <td>0.262728</td>\n",
              "      <td>0.168448</td>\n",
              "      <td>0.373679</td>\n",
              "      <td>0.586365</td>\n",
              "    </tr>\n",
              "    <tr>\n",
              "      <th>332</th>\n",
              "      <td>0.380239</td>\n",
              "      <td>0.050630</td>\n",
              "      <td>0.007490</td>\n",
              "      <td>0.925364</td>\n",
              "      <td>0.712107</td>\n",
              "    </tr>\n",
              "    <tr>\n",
              "      <th>333</th>\n",
              "      <td>0.664965</td>\n",
              "      <td>0.998590</td>\n",
              "      <td>0.800227</td>\n",
              "      <td>0.739713</td>\n",
              "      <td>0.278535</td>\n",
              "    </tr>\n",
              "  </tbody>\n",
              "</table>\n",
              "<p>334 rows × 5 columns</p>\n",
              "</div>\n",
              "      <button class=\"colab-df-convert\" onclick=\"convertToInteractive('df-256ea70b-e115-4af6-8fe7-7db089642fc2')\"\n",
              "              title=\"Convert this dataframe to an interactive table.\"\n",
              "              style=\"display:none;\">\n",
              "        \n",
              "  <svg xmlns=\"http://www.w3.org/2000/svg\" height=\"24px\"viewBox=\"0 0 24 24\"\n",
              "       width=\"24px\">\n",
              "    <path d=\"M0 0h24v24H0V0z\" fill=\"none\"/>\n",
              "    <path d=\"M18.56 5.44l.94 2.06.94-2.06 2.06-.94-2.06-.94-.94-2.06-.94 2.06-2.06.94zm-11 1L8.5 8.5l.94-2.06 2.06-.94-2.06-.94L8.5 2.5l-.94 2.06-2.06.94zm10 10l.94 2.06.94-2.06 2.06-.94-2.06-.94-.94-2.06-.94 2.06-2.06.94z\"/><path d=\"M17.41 7.96l-1.37-1.37c-.4-.4-.92-.59-1.43-.59-.52 0-1.04.2-1.43.59L10.3 9.45l-7.72 7.72c-.78.78-.78 2.05 0 2.83L4 21.41c.39.39.9.59 1.41.59.51 0 1.02-.2 1.41-.59l7.78-7.78 2.81-2.81c.8-.78.8-2.07 0-2.86zM5.41 20L4 18.59l7.72-7.72 1.47 1.35L5.41 20z\"/>\n",
              "  </svg>\n",
              "      </button>\n",
              "      \n",
              "  <style>\n",
              "    .colab-df-container {\n",
              "      display:flex;\n",
              "      flex-wrap:wrap;\n",
              "      gap: 12px;\n",
              "    }\n",
              "\n",
              "    .colab-df-convert {\n",
              "      background-color: #E8F0FE;\n",
              "      border: none;\n",
              "      border-radius: 50%;\n",
              "      cursor: pointer;\n",
              "      display: none;\n",
              "      fill: #1967D2;\n",
              "      height: 32px;\n",
              "      padding: 0 0 0 0;\n",
              "      width: 32px;\n",
              "    }\n",
              "\n",
              "    .colab-df-convert:hover {\n",
              "      background-color: #E2EBFA;\n",
              "      box-shadow: 0px 1px 2px rgba(60, 64, 67, 0.3), 0px 1px 3px 1px rgba(60, 64, 67, 0.15);\n",
              "      fill: #174EA6;\n",
              "    }\n",
              "\n",
              "    [theme=dark] .colab-df-convert {\n",
              "      background-color: #3B4455;\n",
              "      fill: #D2E3FC;\n",
              "    }\n",
              "\n",
              "    [theme=dark] .colab-df-convert:hover {\n",
              "      background-color: #434B5C;\n",
              "      box-shadow: 0px 1px 3px 1px rgba(0, 0, 0, 0.15);\n",
              "      filter: drop-shadow(0px 1px 2px rgba(0, 0, 0, 0.3));\n",
              "      fill: #FFFFFF;\n",
              "    }\n",
              "  </style>\n",
              "\n",
              "      <script>\n",
              "        const buttonEl =\n",
              "          document.querySelector('#df-256ea70b-e115-4af6-8fe7-7db089642fc2 button.colab-df-convert');\n",
              "        buttonEl.style.display =\n",
              "          google.colab.kernel.accessAllowed ? 'block' : 'none';\n",
              "\n",
              "        async function convertToInteractive(key) {\n",
              "          const element = document.querySelector('#df-256ea70b-e115-4af6-8fe7-7db089642fc2');\n",
              "          const dataTable =\n",
              "            await google.colab.kernel.invokeFunction('convertToInteractive',\n",
              "                                                     [key], {});\n",
              "          if (!dataTable) return;\n",
              "\n",
              "          const docLinkHtml = 'Like what you see? Visit the ' +\n",
              "            '<a target=\"_blank\" href=https://colab.research.google.com/notebooks/data_table.ipynb>data table notebook</a>'\n",
              "            + ' to learn more about interactive tables.';\n",
              "          element.innerHTML = '';\n",
              "          dataTable['output_type'] = 'display_data';\n",
              "          await google.colab.output.renderOutput(dataTable, element);\n",
              "          const docLink = document.createElement('div');\n",
              "          docLink.innerHTML = docLinkHtml;\n",
              "          element.appendChild(docLink);\n",
              "        }\n",
              "      </script>\n",
              "    </div>\n",
              "  </div>\n",
              "  "
            ],
            "text/plain": [
              "            4         3         2         1         0\n",
              "0    0.514068  0.077917  0.449741  0.983401       0.3\n",
              "1    0.172327  0.010939  0.742659  0.661174  0.479697\n",
              "2    0.061047  0.897872  0.660962  0.533115  0.780938\n",
              "3    0.639821  0.335466  0.730971  0.479802  0.512533\n",
              "4    0.911738  0.958090  0.055605  0.178420  0.918267\n",
              "..        ...       ...       ...       ...       ...\n",
              "329  0.071001  0.233332  0.696239  0.865366  0.168249\n",
              "330  0.524113  0.079684  0.461729  0.885960  0.280925\n",
              "331  0.825650  0.262728  0.168448  0.373679  0.586365\n",
              "332  0.380239  0.050630  0.007490  0.925364  0.712107\n",
              "333  0.664965  0.998590  0.800227  0.739713  0.278535\n",
              "\n",
              "[334 rows x 5 columns]"
            ]
          },
          "execution_count": 104,
          "metadata": {},
          "output_type": "execute_result"
        }
      ],
      "source": [
        "newdf.sort_index(axis=1,ascending=False)"
      ]
    },
    {
      "cell_type": "code",
      "execution_count": null,
      "metadata": {
        "colab": {
          "base_uri": "https://localhost:8080/",
          "height": 206
        },
        "id": "KtDQhj0OWRRt",
        "outputId": "a4bab9a2-05ab-4eaa-933c-c5847c6a189a"
      },
      "outputs": [
        {
          "data": {
            "text/html": [
              "\n",
              "  <div id=\"df-ec386784-28a5-4d68-958a-4564c39f0486\">\n",
              "    <div class=\"colab-df-container\">\n",
              "      <div>\n",
              "<style scoped>\n",
              "    .dataframe tbody tr th:only-of-type {\n",
              "        vertical-align: middle;\n",
              "    }\n",
              "\n",
              "    .dataframe tbody tr th {\n",
              "        vertical-align: top;\n",
              "    }\n",
              "\n",
              "    .dataframe thead th {\n",
              "        text-align: right;\n",
              "    }\n",
              "</style>\n",
              "<table border=\"1\" class=\"dataframe\">\n",
              "  <thead>\n",
              "    <tr style=\"text-align: right;\">\n",
              "      <th></th>\n",
              "      <th>0</th>\n",
              "      <th>1</th>\n",
              "      <th>2</th>\n",
              "      <th>3</th>\n",
              "      <th>4</th>\n",
              "    </tr>\n",
              "  </thead>\n",
              "  <tbody>\n",
              "    <tr>\n",
              "      <th>0</th>\n",
              "      <td>0.3</td>\n",
              "      <td>0.983401</td>\n",
              "      <td>0.449741</td>\n",
              "      <td>0.077917</td>\n",
              "      <td>0.514068</td>\n",
              "    </tr>\n",
              "    <tr>\n",
              "      <th>1</th>\n",
              "      <td>0.479697</td>\n",
              "      <td>0.661174</td>\n",
              "      <td>0.742659</td>\n",
              "      <td>0.010939</td>\n",
              "      <td>0.172327</td>\n",
              "    </tr>\n",
              "    <tr>\n",
              "      <th>2</th>\n",
              "      <td>0.780938</td>\n",
              "      <td>0.533115</td>\n",
              "      <td>0.660962</td>\n",
              "      <td>0.897872</td>\n",
              "      <td>0.061047</td>\n",
              "    </tr>\n",
              "    <tr>\n",
              "      <th>3</th>\n",
              "      <td>0.512533</td>\n",
              "      <td>0.479802</td>\n",
              "      <td>0.730971</td>\n",
              "      <td>0.335466</td>\n",
              "      <td>0.639821</td>\n",
              "    </tr>\n",
              "    <tr>\n",
              "      <th>4</th>\n",
              "      <td>0.918267</td>\n",
              "      <td>0.178420</td>\n",
              "      <td>0.055605</td>\n",
              "      <td>0.958090</td>\n",
              "      <td>0.911738</td>\n",
              "    </tr>\n",
              "  </tbody>\n",
              "</table>\n",
              "</div>\n",
              "      <button class=\"colab-df-convert\" onclick=\"convertToInteractive('df-ec386784-28a5-4d68-958a-4564c39f0486')\"\n",
              "              title=\"Convert this dataframe to an interactive table.\"\n",
              "              style=\"display:none;\">\n",
              "        \n",
              "  <svg xmlns=\"http://www.w3.org/2000/svg\" height=\"24px\"viewBox=\"0 0 24 24\"\n",
              "       width=\"24px\">\n",
              "    <path d=\"M0 0h24v24H0V0z\" fill=\"none\"/>\n",
              "    <path d=\"M18.56 5.44l.94 2.06.94-2.06 2.06-.94-2.06-.94-.94-2.06-.94 2.06-2.06.94zm-11 1L8.5 8.5l.94-2.06 2.06-.94-2.06-.94L8.5 2.5l-.94 2.06-2.06.94zm10 10l.94 2.06.94-2.06 2.06-.94-2.06-.94-.94-2.06-.94 2.06-2.06.94z\"/><path d=\"M17.41 7.96l-1.37-1.37c-.4-.4-.92-.59-1.43-.59-.52 0-1.04.2-1.43.59L10.3 9.45l-7.72 7.72c-.78.78-.78 2.05 0 2.83L4 21.41c.39.39.9.59 1.41.59.51 0 1.02-.2 1.41-.59l7.78-7.78 2.81-2.81c.8-.78.8-2.07 0-2.86zM5.41 20L4 18.59l7.72-7.72 1.47 1.35L5.41 20z\"/>\n",
              "  </svg>\n",
              "      </button>\n",
              "      \n",
              "  <style>\n",
              "    .colab-df-container {\n",
              "      display:flex;\n",
              "      flex-wrap:wrap;\n",
              "      gap: 12px;\n",
              "    }\n",
              "\n",
              "    .colab-df-convert {\n",
              "      background-color: #E8F0FE;\n",
              "      border: none;\n",
              "      border-radius: 50%;\n",
              "      cursor: pointer;\n",
              "      display: none;\n",
              "      fill: #1967D2;\n",
              "      height: 32px;\n",
              "      padding: 0 0 0 0;\n",
              "      width: 32px;\n",
              "    }\n",
              "\n",
              "    .colab-df-convert:hover {\n",
              "      background-color: #E2EBFA;\n",
              "      box-shadow: 0px 1px 2px rgba(60, 64, 67, 0.3), 0px 1px 3px 1px rgba(60, 64, 67, 0.15);\n",
              "      fill: #174EA6;\n",
              "    }\n",
              "\n",
              "    [theme=dark] .colab-df-convert {\n",
              "      background-color: #3B4455;\n",
              "      fill: #D2E3FC;\n",
              "    }\n",
              "\n",
              "    [theme=dark] .colab-df-convert:hover {\n",
              "      background-color: #434B5C;\n",
              "      box-shadow: 0px 1px 3px 1px rgba(0, 0, 0, 0.15);\n",
              "      filter: drop-shadow(0px 1px 2px rgba(0, 0, 0, 0.3));\n",
              "      fill: #FFFFFF;\n",
              "    }\n",
              "  </style>\n",
              "\n",
              "      <script>\n",
              "        const buttonEl =\n",
              "          document.querySelector('#df-ec386784-28a5-4d68-958a-4564c39f0486 button.colab-df-convert');\n",
              "        buttonEl.style.display =\n",
              "          google.colab.kernel.accessAllowed ? 'block' : 'none';\n",
              "\n",
              "        async function convertToInteractive(key) {\n",
              "          const element = document.querySelector('#df-ec386784-28a5-4d68-958a-4564c39f0486');\n",
              "          const dataTable =\n",
              "            await google.colab.kernel.invokeFunction('convertToInteractive',\n",
              "                                                     [key], {});\n",
              "          if (!dataTable) return;\n",
              "\n",
              "          const docLinkHtml = 'Like what you see? Visit the ' +\n",
              "            '<a target=\"_blank\" href=https://colab.research.google.com/notebooks/data_table.ipynb>data table notebook</a>'\n",
              "            + ' to learn more about interactive tables.';\n",
              "          element.innerHTML = '';\n",
              "          dataTable['output_type'] = 'display_data';\n",
              "          await google.colab.output.renderOutput(dataTable, element);\n",
              "          const docLink = document.createElement('div');\n",
              "          docLink.innerHTML = docLinkHtml;\n",
              "          element.appendChild(docLink);\n",
              "        }\n",
              "      </script>\n",
              "    </div>\n",
              "  </div>\n",
              "  "
            ],
            "text/plain": [
              "          0         1         2         3         4\n",
              "0       0.3  0.983401  0.449741  0.077917  0.514068\n",
              "1  0.479697  0.661174  0.742659  0.010939  0.172327\n",
              "2  0.780938  0.533115  0.660962  0.897872  0.061047\n",
              "3  0.512533  0.479802  0.730971  0.335466  0.639821\n",
              "4  0.918267  0.178420  0.055605  0.958090  0.911738"
            ]
          },
          "execution_count": 105,
          "metadata": {},
          "output_type": "execute_result"
        }
      ],
      "source": [
        "newdf.head()"
      ]
    },
    {
      "cell_type": "code",
      "execution_count": null,
      "metadata": {
        "id": "njbhzLbzXxj0"
      },
      "outputs": [],
      "source": [
        "newdf2=newdf #view of newdf"
      ]
    },
    {
      "cell_type": "code",
      "execution_count": null,
      "metadata": {
        "colab": {
          "base_uri": "https://localhost:8080/"
        },
        "id": "sFnC65D7WRO8",
        "outputId": "6d2d8460-0ec2-4951-d119-0df164dc7c29"
      },
      "outputs": [
        {
          "data": {
            "text/plain": [
              "pandas.core.series.Series"
            ]
          },
          "execution_count": 107,
          "metadata": {},
          "output_type": "execute_result"
        }
      ],
      "source": [
        "type(newdf[0])"
      ]
    },
    {
      "cell_type": "code",
      "execution_count": null,
      "metadata": {
        "colab": {
          "base_uri": "https://localhost:8080/",
          "height": 424
        },
        "id": "Bw1MJYZ3WRLt",
        "outputId": "25a7ec4a-68b9-4b2d-c712-c359ff3ee95e"
      },
      "outputs": [
        {
          "data": {
            "text/html": [
              "\n",
              "  <div id=\"df-0ebc92a4-c0a4-4418-bfd1-ef10c09a00c7\">\n",
              "    <div class=\"colab-df-container\">\n",
              "      <div>\n",
              "<style scoped>\n",
              "    .dataframe tbody tr th:only-of-type {\n",
              "        vertical-align: middle;\n",
              "    }\n",
              "\n",
              "    .dataframe tbody tr th {\n",
              "        vertical-align: top;\n",
              "    }\n",
              "\n",
              "    .dataframe thead th {\n",
              "        text-align: right;\n",
              "    }\n",
              "</style>\n",
              "<table border=\"1\" class=\"dataframe\">\n",
              "  <thead>\n",
              "    <tr style=\"text-align: right;\">\n",
              "      <th></th>\n",
              "      <th>0</th>\n",
              "      <th>1</th>\n",
              "      <th>2</th>\n",
              "      <th>3</th>\n",
              "      <th>4</th>\n",
              "    </tr>\n",
              "  </thead>\n",
              "  <tbody>\n",
              "    <tr>\n",
              "      <th>0</th>\n",
              "      <td>0.3</td>\n",
              "      <td>0.983401</td>\n",
              "      <td>0.449741</td>\n",
              "      <td>0.077917</td>\n",
              "      <td>0.514068</td>\n",
              "    </tr>\n",
              "    <tr>\n",
              "      <th>1</th>\n",
              "      <td>0.479697</td>\n",
              "      <td>0.661174</td>\n",
              "      <td>0.742659</td>\n",
              "      <td>0.010939</td>\n",
              "      <td>0.172327</td>\n",
              "    </tr>\n",
              "    <tr>\n",
              "      <th>2</th>\n",
              "      <td>0.780938</td>\n",
              "      <td>0.533115</td>\n",
              "      <td>0.660962</td>\n",
              "      <td>0.897872</td>\n",
              "      <td>0.061047</td>\n",
              "    </tr>\n",
              "    <tr>\n",
              "      <th>3</th>\n",
              "      <td>0.512533</td>\n",
              "      <td>0.479802</td>\n",
              "      <td>0.730971</td>\n",
              "      <td>0.335466</td>\n",
              "      <td>0.639821</td>\n",
              "    </tr>\n",
              "    <tr>\n",
              "      <th>4</th>\n",
              "      <td>0.918267</td>\n",
              "      <td>0.178420</td>\n",
              "      <td>0.055605</td>\n",
              "      <td>0.958090</td>\n",
              "      <td>0.911738</td>\n",
              "    </tr>\n",
              "    <tr>\n",
              "      <th>...</th>\n",
              "      <td>...</td>\n",
              "      <td>...</td>\n",
              "      <td>...</td>\n",
              "      <td>...</td>\n",
              "      <td>...</td>\n",
              "    </tr>\n",
              "    <tr>\n",
              "      <th>329</th>\n",
              "      <td>0.168249</td>\n",
              "      <td>0.865366</td>\n",
              "      <td>0.696239</td>\n",
              "      <td>0.233332</td>\n",
              "      <td>0.071001</td>\n",
              "    </tr>\n",
              "    <tr>\n",
              "      <th>330</th>\n",
              "      <td>0.280925</td>\n",
              "      <td>0.885960</td>\n",
              "      <td>0.461729</td>\n",
              "      <td>0.079684</td>\n",
              "      <td>0.524113</td>\n",
              "    </tr>\n",
              "    <tr>\n",
              "      <th>331</th>\n",
              "      <td>0.586365</td>\n",
              "      <td>0.373679</td>\n",
              "      <td>0.168448</td>\n",
              "      <td>0.262728</td>\n",
              "      <td>0.825650</td>\n",
              "    </tr>\n",
              "    <tr>\n",
              "      <th>332</th>\n",
              "      <td>0.712107</td>\n",
              "      <td>0.925364</td>\n",
              "      <td>0.007490</td>\n",
              "      <td>0.050630</td>\n",
              "      <td>0.380239</td>\n",
              "    </tr>\n",
              "    <tr>\n",
              "      <th>333</th>\n",
              "      <td>0.278535</td>\n",
              "      <td>0.739713</td>\n",
              "      <td>0.800227</td>\n",
              "      <td>0.998590</td>\n",
              "      <td>0.664965</td>\n",
              "    </tr>\n",
              "  </tbody>\n",
              "</table>\n",
              "<p>334 rows × 5 columns</p>\n",
              "</div>\n",
              "      <button class=\"colab-df-convert\" onclick=\"convertToInteractive('df-0ebc92a4-c0a4-4418-bfd1-ef10c09a00c7')\"\n",
              "              title=\"Convert this dataframe to an interactive table.\"\n",
              "              style=\"display:none;\">\n",
              "        \n",
              "  <svg xmlns=\"http://www.w3.org/2000/svg\" height=\"24px\"viewBox=\"0 0 24 24\"\n",
              "       width=\"24px\">\n",
              "    <path d=\"M0 0h24v24H0V0z\" fill=\"none\"/>\n",
              "    <path d=\"M18.56 5.44l.94 2.06.94-2.06 2.06-.94-2.06-.94-.94-2.06-.94 2.06-2.06.94zm-11 1L8.5 8.5l.94-2.06 2.06-.94-2.06-.94L8.5 2.5l-.94 2.06-2.06.94zm10 10l.94 2.06.94-2.06 2.06-.94-2.06-.94-.94-2.06-.94 2.06-2.06.94z\"/><path d=\"M17.41 7.96l-1.37-1.37c-.4-.4-.92-.59-1.43-.59-.52 0-1.04.2-1.43.59L10.3 9.45l-7.72 7.72c-.78.78-.78 2.05 0 2.83L4 21.41c.39.39.9.59 1.41.59.51 0 1.02-.2 1.41-.59l7.78-7.78 2.81-2.81c.8-.78.8-2.07 0-2.86zM5.41 20L4 18.59l7.72-7.72 1.47 1.35L5.41 20z\"/>\n",
              "  </svg>\n",
              "      </button>\n",
              "      \n",
              "  <style>\n",
              "    .colab-df-container {\n",
              "      display:flex;\n",
              "      flex-wrap:wrap;\n",
              "      gap: 12px;\n",
              "    }\n",
              "\n",
              "    .colab-df-convert {\n",
              "      background-color: #E8F0FE;\n",
              "      border: none;\n",
              "      border-radius: 50%;\n",
              "      cursor: pointer;\n",
              "      display: none;\n",
              "      fill: #1967D2;\n",
              "      height: 32px;\n",
              "      padding: 0 0 0 0;\n",
              "      width: 32px;\n",
              "    }\n",
              "\n",
              "    .colab-df-convert:hover {\n",
              "      background-color: #E2EBFA;\n",
              "      box-shadow: 0px 1px 2px rgba(60, 64, 67, 0.3), 0px 1px 3px 1px rgba(60, 64, 67, 0.15);\n",
              "      fill: #174EA6;\n",
              "    }\n",
              "\n",
              "    [theme=dark] .colab-df-convert {\n",
              "      background-color: #3B4455;\n",
              "      fill: #D2E3FC;\n",
              "    }\n",
              "\n",
              "    [theme=dark] .colab-df-convert:hover {\n",
              "      background-color: #434B5C;\n",
              "      box-shadow: 0px 1px 3px 1px rgba(0, 0, 0, 0.15);\n",
              "      filter: drop-shadow(0px 1px 2px rgba(0, 0, 0, 0.3));\n",
              "      fill: #FFFFFF;\n",
              "    }\n",
              "  </style>\n",
              "\n",
              "      <script>\n",
              "        const buttonEl =\n",
              "          document.querySelector('#df-0ebc92a4-c0a4-4418-bfd1-ef10c09a00c7 button.colab-df-convert');\n",
              "        buttonEl.style.display =\n",
              "          google.colab.kernel.accessAllowed ? 'block' : 'none';\n",
              "\n",
              "        async function convertToInteractive(key) {\n",
              "          const element = document.querySelector('#df-0ebc92a4-c0a4-4418-bfd1-ef10c09a00c7');\n",
              "          const dataTable =\n",
              "            await google.colab.kernel.invokeFunction('convertToInteractive',\n",
              "                                                     [key], {});\n",
              "          if (!dataTable) return;\n",
              "\n",
              "          const docLinkHtml = 'Like what you see? Visit the ' +\n",
              "            '<a target=\"_blank\" href=https://colab.research.google.com/notebooks/data_table.ipynb>data table notebook</a>'\n",
              "            + ' to learn more about interactive tables.';\n",
              "          element.innerHTML = '';\n",
              "          dataTable['output_type'] = 'display_data';\n",
              "          await google.colab.output.renderOutput(dataTable, element);\n",
              "          const docLink = document.createElement('div');\n",
              "          docLink.innerHTML = docLinkHtml;\n",
              "          element.appendChild(docLink);\n",
              "        }\n",
              "      </script>\n",
              "    </div>\n",
              "  </div>\n",
              "  "
            ],
            "text/plain": [
              "            0         1         2         3         4\n",
              "0         0.3  0.983401  0.449741  0.077917  0.514068\n",
              "1    0.479697  0.661174  0.742659  0.010939  0.172327\n",
              "2    0.780938  0.533115  0.660962  0.897872  0.061047\n",
              "3    0.512533  0.479802  0.730971  0.335466  0.639821\n",
              "4    0.918267  0.178420  0.055605  0.958090  0.911738\n",
              "..        ...       ...       ...       ...       ...\n",
              "329  0.168249  0.865366  0.696239  0.233332  0.071001\n",
              "330  0.280925  0.885960  0.461729  0.079684  0.524113\n",
              "331  0.586365  0.373679  0.168448  0.262728  0.825650\n",
              "332  0.712107  0.925364  0.007490  0.050630  0.380239\n",
              "333  0.278535  0.739713  0.800227  0.998590  0.664965\n",
              "\n",
              "[334 rows x 5 columns]"
            ]
          },
          "execution_count": 108,
          "metadata": {},
          "output_type": "execute_result"
        }
      ],
      "source": [
        "newdf"
      ]
    },
    {
      "cell_type": "code",
      "execution_count": null,
      "metadata": {
        "id": "yZvvSRh8WRId"
      },
      "outputs": [],
      "source": [
        "newdf2=newdf.copy() #make copy of dataframe"
      ]
    },
    {
      "cell_type": "code",
      "execution_count": null,
      "metadata": {
        "colab": {
          "base_uri": "https://localhost:8080/"
        },
        "id": "aQ2HZIP6Uc3W",
        "outputId": "db162a71-05f2-409e-976f-dc671da86bb0"
      },
      "outputs": [
        {
          "name": "stderr",
          "output_type": "stream",
          "text": [
            "<ipython-input-110-b38a29d716fe>:1: SettingWithCopyWarning: \n",
            "A value is trying to be set on a copy of a slice from a DataFrame\n",
            "\n",
            "See the caveats in the documentation: https://pandas.pydata.org/pandas-docs/stable/user_guide/indexing.html#returning-a-view-versus-a-copy\n",
            "  newdf2[0][0]= 97825\n"
          ]
        }
      ],
      "source": [
        "newdf2[0][0]= 97825"
      ]
    },
    {
      "cell_type": "code",
      "execution_count": null,
      "metadata": {
        "colab": {
          "base_uri": "https://localhost:8080/",
          "height": 424
        },
        "id": "no9MBou2Uc0K",
        "outputId": "bfd4306f-ebf9-4a52-959a-fad1b7d7cbfd"
      },
      "outputs": [
        {
          "data": {
            "text/html": [
              "\n",
              "  <div id=\"df-8c6f6955-4fce-445c-8bb7-0071ff37a983\">\n",
              "    <div class=\"colab-df-container\">\n",
              "      <div>\n",
              "<style scoped>\n",
              "    .dataframe tbody tr th:only-of-type {\n",
              "        vertical-align: middle;\n",
              "    }\n",
              "\n",
              "    .dataframe tbody tr th {\n",
              "        vertical-align: top;\n",
              "    }\n",
              "\n",
              "    .dataframe thead th {\n",
              "        text-align: right;\n",
              "    }\n",
              "</style>\n",
              "<table border=\"1\" class=\"dataframe\">\n",
              "  <thead>\n",
              "    <tr style=\"text-align: right;\">\n",
              "      <th></th>\n",
              "      <th>0</th>\n",
              "      <th>1</th>\n",
              "      <th>2</th>\n",
              "      <th>3</th>\n",
              "      <th>4</th>\n",
              "    </tr>\n",
              "  </thead>\n",
              "  <tbody>\n",
              "    <tr>\n",
              "      <th>0</th>\n",
              "      <td>97825</td>\n",
              "      <td>0.983401</td>\n",
              "      <td>0.449741</td>\n",
              "      <td>0.077917</td>\n",
              "      <td>0.514068</td>\n",
              "    </tr>\n",
              "    <tr>\n",
              "      <th>1</th>\n",
              "      <td>0.479697</td>\n",
              "      <td>0.661174</td>\n",
              "      <td>0.742659</td>\n",
              "      <td>0.010939</td>\n",
              "      <td>0.172327</td>\n",
              "    </tr>\n",
              "    <tr>\n",
              "      <th>2</th>\n",
              "      <td>0.780938</td>\n",
              "      <td>0.533115</td>\n",
              "      <td>0.660962</td>\n",
              "      <td>0.897872</td>\n",
              "      <td>0.061047</td>\n",
              "    </tr>\n",
              "    <tr>\n",
              "      <th>3</th>\n",
              "      <td>0.512533</td>\n",
              "      <td>0.479802</td>\n",
              "      <td>0.730971</td>\n",
              "      <td>0.335466</td>\n",
              "      <td>0.639821</td>\n",
              "    </tr>\n",
              "    <tr>\n",
              "      <th>4</th>\n",
              "      <td>0.918267</td>\n",
              "      <td>0.178420</td>\n",
              "      <td>0.055605</td>\n",
              "      <td>0.958090</td>\n",
              "      <td>0.911738</td>\n",
              "    </tr>\n",
              "    <tr>\n",
              "      <th>...</th>\n",
              "      <td>...</td>\n",
              "      <td>...</td>\n",
              "      <td>...</td>\n",
              "      <td>...</td>\n",
              "      <td>...</td>\n",
              "    </tr>\n",
              "    <tr>\n",
              "      <th>329</th>\n",
              "      <td>0.168249</td>\n",
              "      <td>0.865366</td>\n",
              "      <td>0.696239</td>\n",
              "      <td>0.233332</td>\n",
              "      <td>0.071001</td>\n",
              "    </tr>\n",
              "    <tr>\n",
              "      <th>330</th>\n",
              "      <td>0.280925</td>\n",
              "      <td>0.885960</td>\n",
              "      <td>0.461729</td>\n",
              "      <td>0.079684</td>\n",
              "      <td>0.524113</td>\n",
              "    </tr>\n",
              "    <tr>\n",
              "      <th>331</th>\n",
              "      <td>0.586365</td>\n",
              "      <td>0.373679</td>\n",
              "      <td>0.168448</td>\n",
              "      <td>0.262728</td>\n",
              "      <td>0.825650</td>\n",
              "    </tr>\n",
              "    <tr>\n",
              "      <th>332</th>\n",
              "      <td>0.712107</td>\n",
              "      <td>0.925364</td>\n",
              "      <td>0.007490</td>\n",
              "      <td>0.050630</td>\n",
              "      <td>0.380239</td>\n",
              "    </tr>\n",
              "    <tr>\n",
              "      <th>333</th>\n",
              "      <td>0.278535</td>\n",
              "      <td>0.739713</td>\n",
              "      <td>0.800227</td>\n",
              "      <td>0.998590</td>\n",
              "      <td>0.664965</td>\n",
              "    </tr>\n",
              "  </tbody>\n",
              "</table>\n",
              "<p>334 rows × 5 columns</p>\n",
              "</div>\n",
              "      <button class=\"colab-df-convert\" onclick=\"convertToInteractive('df-8c6f6955-4fce-445c-8bb7-0071ff37a983')\"\n",
              "              title=\"Convert this dataframe to an interactive table.\"\n",
              "              style=\"display:none;\">\n",
              "        \n",
              "  <svg xmlns=\"http://www.w3.org/2000/svg\" height=\"24px\"viewBox=\"0 0 24 24\"\n",
              "       width=\"24px\">\n",
              "    <path d=\"M0 0h24v24H0V0z\" fill=\"none\"/>\n",
              "    <path d=\"M18.56 5.44l.94 2.06.94-2.06 2.06-.94-2.06-.94-.94-2.06-.94 2.06-2.06.94zm-11 1L8.5 8.5l.94-2.06 2.06-.94-2.06-.94L8.5 2.5l-.94 2.06-2.06.94zm10 10l.94 2.06.94-2.06 2.06-.94-2.06-.94-.94-2.06-.94 2.06-2.06.94z\"/><path d=\"M17.41 7.96l-1.37-1.37c-.4-.4-.92-.59-1.43-.59-.52 0-1.04.2-1.43.59L10.3 9.45l-7.72 7.72c-.78.78-.78 2.05 0 2.83L4 21.41c.39.39.9.59 1.41.59.51 0 1.02-.2 1.41-.59l7.78-7.78 2.81-2.81c.8-.78.8-2.07 0-2.86zM5.41 20L4 18.59l7.72-7.72 1.47 1.35L5.41 20z\"/>\n",
              "  </svg>\n",
              "      </button>\n",
              "      \n",
              "  <style>\n",
              "    .colab-df-container {\n",
              "      display:flex;\n",
              "      flex-wrap:wrap;\n",
              "      gap: 12px;\n",
              "    }\n",
              "\n",
              "    .colab-df-convert {\n",
              "      background-color: #E8F0FE;\n",
              "      border: none;\n",
              "      border-radius: 50%;\n",
              "      cursor: pointer;\n",
              "      display: none;\n",
              "      fill: #1967D2;\n",
              "      height: 32px;\n",
              "      padding: 0 0 0 0;\n",
              "      width: 32px;\n",
              "    }\n",
              "\n",
              "    .colab-df-convert:hover {\n",
              "      background-color: #E2EBFA;\n",
              "      box-shadow: 0px 1px 2px rgba(60, 64, 67, 0.3), 0px 1px 3px 1px rgba(60, 64, 67, 0.15);\n",
              "      fill: #174EA6;\n",
              "    }\n",
              "\n",
              "    [theme=dark] .colab-df-convert {\n",
              "      background-color: #3B4455;\n",
              "      fill: #D2E3FC;\n",
              "    }\n",
              "\n",
              "    [theme=dark] .colab-df-convert:hover {\n",
              "      background-color: #434B5C;\n",
              "      box-shadow: 0px 1px 3px 1px rgba(0, 0, 0, 0.15);\n",
              "      filter: drop-shadow(0px 1px 2px rgba(0, 0, 0, 0.3));\n",
              "      fill: #FFFFFF;\n",
              "    }\n",
              "  </style>\n",
              "\n",
              "      <script>\n",
              "        const buttonEl =\n",
              "          document.querySelector('#df-8c6f6955-4fce-445c-8bb7-0071ff37a983 button.colab-df-convert');\n",
              "        buttonEl.style.display =\n",
              "          google.colab.kernel.accessAllowed ? 'block' : 'none';\n",
              "\n",
              "        async function convertToInteractive(key) {\n",
              "          const element = document.querySelector('#df-8c6f6955-4fce-445c-8bb7-0071ff37a983');\n",
              "          const dataTable =\n",
              "            await google.colab.kernel.invokeFunction('convertToInteractive',\n",
              "                                                     [key], {});\n",
              "          if (!dataTable) return;\n",
              "\n",
              "          const docLinkHtml = 'Like what you see? Visit the ' +\n",
              "            '<a target=\"_blank\" href=https://colab.research.google.com/notebooks/data_table.ipynb>data table notebook</a>'\n",
              "            + ' to learn more about interactive tables.';\n",
              "          element.innerHTML = '';\n",
              "          dataTable['output_type'] = 'display_data';\n",
              "          await google.colab.output.renderOutput(dataTable, element);\n",
              "          const docLink = document.createElement('div');\n",
              "          docLink.innerHTML = docLinkHtml;\n",
              "          element.appendChild(docLink);\n",
              "        }\n",
              "      </script>\n",
              "    </div>\n",
              "  </div>\n",
              "  "
            ],
            "text/plain": [
              "            0         1         2         3         4\n",
              "0       97825  0.983401  0.449741  0.077917  0.514068\n",
              "1    0.479697  0.661174  0.742659  0.010939  0.172327\n",
              "2    0.780938  0.533115  0.660962  0.897872  0.061047\n",
              "3    0.512533  0.479802  0.730971  0.335466  0.639821\n",
              "4    0.918267  0.178420  0.055605  0.958090  0.911738\n",
              "..        ...       ...       ...       ...       ...\n",
              "329  0.168249  0.865366  0.696239  0.233332  0.071001\n",
              "330  0.280925  0.885960  0.461729  0.079684  0.524113\n",
              "331  0.586365  0.373679  0.168448  0.262728  0.825650\n",
              "332  0.712107  0.925364  0.007490  0.050630  0.380239\n",
              "333  0.278535  0.739713  0.800227  0.998590  0.664965\n",
              "\n",
              "[334 rows x 5 columns]"
            ]
          },
          "execution_count": 111,
          "metadata": {},
          "output_type": "execute_result"
        }
      ],
      "source": [
        "newdf2"
      ]
    },
    {
      "cell_type": "code",
      "execution_count": null,
      "metadata": {
        "id": "llNaQFRXB-fd"
      },
      "outputs": [],
      "source": [
        "newdf.loc[0,0]= 654"
      ]
    },
    {
      "cell_type": "code",
      "execution_count": null,
      "metadata": {
        "colab": {
          "base_uri": "https://localhost:8080/",
          "height": 112
        },
        "id": "u-g4Z7SYB-b6",
        "outputId": "bb5b5f95-087c-4691-9b7b-aa15c90d2433"
      },
      "outputs": [
        {
          "data": {
            "text/html": [
              "\n",
              "  <div id=\"df-d6e33154-f507-4102-9dec-c71ea7a9d7f1\">\n",
              "    <div class=\"colab-df-container\">\n",
              "      <div>\n",
              "<style scoped>\n",
              "    .dataframe tbody tr th:only-of-type {\n",
              "        vertical-align: middle;\n",
              "    }\n",
              "\n",
              "    .dataframe tbody tr th {\n",
              "        vertical-align: top;\n",
              "    }\n",
              "\n",
              "    .dataframe thead th {\n",
              "        text-align: right;\n",
              "    }\n",
              "</style>\n",
              "<table border=\"1\" class=\"dataframe\">\n",
              "  <thead>\n",
              "    <tr style=\"text-align: right;\">\n",
              "      <th></th>\n",
              "      <th>0</th>\n",
              "      <th>1</th>\n",
              "      <th>2</th>\n",
              "      <th>3</th>\n",
              "      <th>4</th>\n",
              "    </tr>\n",
              "  </thead>\n",
              "  <tbody>\n",
              "    <tr>\n",
              "      <th>0</th>\n",
              "      <td>654</td>\n",
              "      <td>0.983401</td>\n",
              "      <td>0.449741</td>\n",
              "      <td>0.077917</td>\n",
              "      <td>0.514068</td>\n",
              "    </tr>\n",
              "    <tr>\n",
              "      <th>1</th>\n",
              "      <td>0.479697</td>\n",
              "      <td>0.661174</td>\n",
              "      <td>0.742659</td>\n",
              "      <td>0.010939</td>\n",
              "      <td>0.172327</td>\n",
              "    </tr>\n",
              "  </tbody>\n",
              "</table>\n",
              "</div>\n",
              "      <button class=\"colab-df-convert\" onclick=\"convertToInteractive('df-d6e33154-f507-4102-9dec-c71ea7a9d7f1')\"\n",
              "              title=\"Convert this dataframe to an interactive table.\"\n",
              "              style=\"display:none;\">\n",
              "        \n",
              "  <svg xmlns=\"http://www.w3.org/2000/svg\" height=\"24px\"viewBox=\"0 0 24 24\"\n",
              "       width=\"24px\">\n",
              "    <path d=\"M0 0h24v24H0V0z\" fill=\"none\"/>\n",
              "    <path d=\"M18.56 5.44l.94 2.06.94-2.06 2.06-.94-2.06-.94-.94-2.06-.94 2.06-2.06.94zm-11 1L8.5 8.5l.94-2.06 2.06-.94-2.06-.94L8.5 2.5l-.94 2.06-2.06.94zm10 10l.94 2.06.94-2.06 2.06-.94-2.06-.94-.94-2.06-.94 2.06-2.06.94z\"/><path d=\"M17.41 7.96l-1.37-1.37c-.4-.4-.92-.59-1.43-.59-.52 0-1.04.2-1.43.59L10.3 9.45l-7.72 7.72c-.78.78-.78 2.05 0 2.83L4 21.41c.39.39.9.59 1.41.59.51 0 1.02-.2 1.41-.59l7.78-7.78 2.81-2.81c.8-.78.8-2.07 0-2.86zM5.41 20L4 18.59l7.72-7.72 1.47 1.35L5.41 20z\"/>\n",
              "  </svg>\n",
              "      </button>\n",
              "      \n",
              "  <style>\n",
              "    .colab-df-container {\n",
              "      display:flex;\n",
              "      flex-wrap:wrap;\n",
              "      gap: 12px;\n",
              "    }\n",
              "\n",
              "    .colab-df-convert {\n",
              "      background-color: #E8F0FE;\n",
              "      border: none;\n",
              "      border-radius: 50%;\n",
              "      cursor: pointer;\n",
              "      display: none;\n",
              "      fill: #1967D2;\n",
              "      height: 32px;\n",
              "      padding: 0 0 0 0;\n",
              "      width: 32px;\n",
              "    }\n",
              "\n",
              "    .colab-df-convert:hover {\n",
              "      background-color: #E2EBFA;\n",
              "      box-shadow: 0px 1px 2px rgba(60, 64, 67, 0.3), 0px 1px 3px 1px rgba(60, 64, 67, 0.15);\n",
              "      fill: #174EA6;\n",
              "    }\n",
              "\n",
              "    [theme=dark] .colab-df-convert {\n",
              "      background-color: #3B4455;\n",
              "      fill: #D2E3FC;\n",
              "    }\n",
              "\n",
              "    [theme=dark] .colab-df-convert:hover {\n",
              "      background-color: #434B5C;\n",
              "      box-shadow: 0px 1px 3px 1px rgba(0, 0, 0, 0.15);\n",
              "      filter: drop-shadow(0px 1px 2px rgba(0, 0, 0, 0.3));\n",
              "      fill: #FFFFFF;\n",
              "    }\n",
              "  </style>\n",
              "\n",
              "      <script>\n",
              "        const buttonEl =\n",
              "          document.querySelector('#df-d6e33154-f507-4102-9dec-c71ea7a9d7f1 button.colab-df-convert');\n",
              "        buttonEl.style.display =\n",
              "          google.colab.kernel.accessAllowed ? 'block' : 'none';\n",
              "\n",
              "        async function convertToInteractive(key) {\n",
              "          const element = document.querySelector('#df-d6e33154-f507-4102-9dec-c71ea7a9d7f1');\n",
              "          const dataTable =\n",
              "            await google.colab.kernel.invokeFunction('convertToInteractive',\n",
              "                                                     [key], {});\n",
              "          if (!dataTable) return;\n",
              "\n",
              "          const docLinkHtml = 'Like what you see? Visit the ' +\n",
              "            '<a target=\"_blank\" href=https://colab.research.google.com/notebooks/data_table.ipynb>data table notebook</a>'\n",
              "            + ' to learn more about interactive tables.';\n",
              "          element.innerHTML = '';\n",
              "          dataTable['output_type'] = 'display_data';\n",
              "          await google.colab.output.renderOutput(dataTable, element);\n",
              "          const docLink = document.createElement('div');\n",
              "          docLink.innerHTML = docLinkHtml;\n",
              "          element.appendChild(docLink);\n",
              "        }\n",
              "      </script>\n",
              "    </div>\n",
              "  </div>\n",
              "  "
            ],
            "text/plain": [
              "          0         1         2         3         4\n",
              "0       654  0.983401  0.449741  0.077917  0.514068\n",
              "1  0.479697  0.661174  0.742659  0.010939  0.172327"
            ]
          },
          "execution_count": 113,
          "metadata": {},
          "output_type": "execute_result"
        }
      ],
      "source": [
        "newdf.head(2)"
      ]
    },
    {
      "cell_type": "code",
      "execution_count": null,
      "metadata": {
        "id": "aoNiTzdxB-Y_"
      },
      "outputs": [],
      "source": [
        "newdf.columns=list('ABCDE')"
      ]
    },
    {
      "cell_type": "code",
      "execution_count": null,
      "metadata": {
        "colab": {
          "base_uri": "https://localhost:8080/",
          "height": 424
        },
        "id": "N_vY-nUpB-WY",
        "outputId": "b4202f31-6026-47ae-fe2c-15384de09b3a"
      },
      "outputs": [
        {
          "data": {
            "text/html": [
              "\n",
              "  <div id=\"df-a3edaf9f-aded-4387-a72d-994104960d7b\">\n",
              "    <div class=\"colab-df-container\">\n",
              "      <div>\n",
              "<style scoped>\n",
              "    .dataframe tbody tr th:only-of-type {\n",
              "        vertical-align: middle;\n",
              "    }\n",
              "\n",
              "    .dataframe tbody tr th {\n",
              "        vertical-align: top;\n",
              "    }\n",
              "\n",
              "    .dataframe thead th {\n",
              "        text-align: right;\n",
              "    }\n",
              "</style>\n",
              "<table border=\"1\" class=\"dataframe\">\n",
              "  <thead>\n",
              "    <tr style=\"text-align: right;\">\n",
              "      <th></th>\n",
              "      <th>A</th>\n",
              "      <th>B</th>\n",
              "      <th>C</th>\n",
              "      <th>D</th>\n",
              "      <th>E</th>\n",
              "    </tr>\n",
              "  </thead>\n",
              "  <tbody>\n",
              "    <tr>\n",
              "      <th>0</th>\n",
              "      <td>654</td>\n",
              "      <td>0.983401</td>\n",
              "      <td>0.449741</td>\n",
              "      <td>0.077917</td>\n",
              "      <td>0.514068</td>\n",
              "    </tr>\n",
              "    <tr>\n",
              "      <th>1</th>\n",
              "      <td>0.479697</td>\n",
              "      <td>0.661174</td>\n",
              "      <td>0.742659</td>\n",
              "      <td>0.010939</td>\n",
              "      <td>0.172327</td>\n",
              "    </tr>\n",
              "    <tr>\n",
              "      <th>2</th>\n",
              "      <td>0.780938</td>\n",
              "      <td>0.533115</td>\n",
              "      <td>0.660962</td>\n",
              "      <td>0.897872</td>\n",
              "      <td>0.061047</td>\n",
              "    </tr>\n",
              "    <tr>\n",
              "      <th>3</th>\n",
              "      <td>0.512533</td>\n",
              "      <td>0.479802</td>\n",
              "      <td>0.730971</td>\n",
              "      <td>0.335466</td>\n",
              "      <td>0.639821</td>\n",
              "    </tr>\n",
              "    <tr>\n",
              "      <th>4</th>\n",
              "      <td>0.918267</td>\n",
              "      <td>0.178420</td>\n",
              "      <td>0.055605</td>\n",
              "      <td>0.958090</td>\n",
              "      <td>0.911738</td>\n",
              "    </tr>\n",
              "    <tr>\n",
              "      <th>...</th>\n",
              "      <td>...</td>\n",
              "      <td>...</td>\n",
              "      <td>...</td>\n",
              "      <td>...</td>\n",
              "      <td>...</td>\n",
              "    </tr>\n",
              "    <tr>\n",
              "      <th>329</th>\n",
              "      <td>0.168249</td>\n",
              "      <td>0.865366</td>\n",
              "      <td>0.696239</td>\n",
              "      <td>0.233332</td>\n",
              "      <td>0.071001</td>\n",
              "    </tr>\n",
              "    <tr>\n",
              "      <th>330</th>\n",
              "      <td>0.280925</td>\n",
              "      <td>0.885960</td>\n",
              "      <td>0.461729</td>\n",
              "      <td>0.079684</td>\n",
              "      <td>0.524113</td>\n",
              "    </tr>\n",
              "    <tr>\n",
              "      <th>331</th>\n",
              "      <td>0.586365</td>\n",
              "      <td>0.373679</td>\n",
              "      <td>0.168448</td>\n",
              "      <td>0.262728</td>\n",
              "      <td>0.825650</td>\n",
              "    </tr>\n",
              "    <tr>\n",
              "      <th>332</th>\n",
              "      <td>0.712107</td>\n",
              "      <td>0.925364</td>\n",
              "      <td>0.007490</td>\n",
              "      <td>0.050630</td>\n",
              "      <td>0.380239</td>\n",
              "    </tr>\n",
              "    <tr>\n",
              "      <th>333</th>\n",
              "      <td>0.278535</td>\n",
              "      <td>0.739713</td>\n",
              "      <td>0.800227</td>\n",
              "      <td>0.998590</td>\n",
              "      <td>0.664965</td>\n",
              "    </tr>\n",
              "  </tbody>\n",
              "</table>\n",
              "<p>334 rows × 5 columns</p>\n",
              "</div>\n",
              "      <button class=\"colab-df-convert\" onclick=\"convertToInteractive('df-a3edaf9f-aded-4387-a72d-994104960d7b')\"\n",
              "              title=\"Convert this dataframe to an interactive table.\"\n",
              "              style=\"display:none;\">\n",
              "        \n",
              "  <svg xmlns=\"http://www.w3.org/2000/svg\" height=\"24px\"viewBox=\"0 0 24 24\"\n",
              "       width=\"24px\">\n",
              "    <path d=\"M0 0h24v24H0V0z\" fill=\"none\"/>\n",
              "    <path d=\"M18.56 5.44l.94 2.06.94-2.06 2.06-.94-2.06-.94-.94-2.06-.94 2.06-2.06.94zm-11 1L8.5 8.5l.94-2.06 2.06-.94-2.06-.94L8.5 2.5l-.94 2.06-2.06.94zm10 10l.94 2.06.94-2.06 2.06-.94-2.06-.94-.94-2.06-.94 2.06-2.06.94z\"/><path d=\"M17.41 7.96l-1.37-1.37c-.4-.4-.92-.59-1.43-.59-.52 0-1.04.2-1.43.59L10.3 9.45l-7.72 7.72c-.78.78-.78 2.05 0 2.83L4 21.41c.39.39.9.59 1.41.59.51 0 1.02-.2 1.41-.59l7.78-7.78 2.81-2.81c.8-.78.8-2.07 0-2.86zM5.41 20L4 18.59l7.72-7.72 1.47 1.35L5.41 20z\"/>\n",
              "  </svg>\n",
              "      </button>\n",
              "      \n",
              "  <style>\n",
              "    .colab-df-container {\n",
              "      display:flex;\n",
              "      flex-wrap:wrap;\n",
              "      gap: 12px;\n",
              "    }\n",
              "\n",
              "    .colab-df-convert {\n",
              "      background-color: #E8F0FE;\n",
              "      border: none;\n",
              "      border-radius: 50%;\n",
              "      cursor: pointer;\n",
              "      display: none;\n",
              "      fill: #1967D2;\n",
              "      height: 32px;\n",
              "      padding: 0 0 0 0;\n",
              "      width: 32px;\n",
              "    }\n",
              "\n",
              "    .colab-df-convert:hover {\n",
              "      background-color: #E2EBFA;\n",
              "      box-shadow: 0px 1px 2px rgba(60, 64, 67, 0.3), 0px 1px 3px 1px rgba(60, 64, 67, 0.15);\n",
              "      fill: #174EA6;\n",
              "    }\n",
              "\n",
              "    [theme=dark] .colab-df-convert {\n",
              "      background-color: #3B4455;\n",
              "      fill: #D2E3FC;\n",
              "    }\n",
              "\n",
              "    [theme=dark] .colab-df-convert:hover {\n",
              "      background-color: #434B5C;\n",
              "      box-shadow: 0px 1px 3px 1px rgba(0, 0, 0, 0.15);\n",
              "      filter: drop-shadow(0px 1px 2px rgba(0, 0, 0, 0.3));\n",
              "      fill: #FFFFFF;\n",
              "    }\n",
              "  </style>\n",
              "\n",
              "      <script>\n",
              "        const buttonEl =\n",
              "          document.querySelector('#df-a3edaf9f-aded-4387-a72d-994104960d7b button.colab-df-convert');\n",
              "        buttonEl.style.display =\n",
              "          google.colab.kernel.accessAllowed ? 'block' : 'none';\n",
              "\n",
              "        async function convertToInteractive(key) {\n",
              "          const element = document.querySelector('#df-a3edaf9f-aded-4387-a72d-994104960d7b');\n",
              "          const dataTable =\n",
              "            await google.colab.kernel.invokeFunction('convertToInteractive',\n",
              "                                                     [key], {});\n",
              "          if (!dataTable) return;\n",
              "\n",
              "          const docLinkHtml = 'Like what you see? Visit the ' +\n",
              "            '<a target=\"_blank\" href=https://colab.research.google.com/notebooks/data_table.ipynb>data table notebook</a>'\n",
              "            + ' to learn more about interactive tables.';\n",
              "          element.innerHTML = '';\n",
              "          dataTable['output_type'] = 'display_data';\n",
              "          await google.colab.output.renderOutput(dataTable, element);\n",
              "          const docLink = document.createElement('div');\n",
              "          docLink.innerHTML = docLinkHtml;\n",
              "          element.appendChild(docLink);\n",
              "        }\n",
              "      </script>\n",
              "    </div>\n",
              "  </div>\n",
              "  "
            ],
            "text/plain": [
              "            A         B         C         D         E\n",
              "0         654  0.983401  0.449741  0.077917  0.514068\n",
              "1    0.479697  0.661174  0.742659  0.010939  0.172327\n",
              "2    0.780938  0.533115  0.660962  0.897872  0.061047\n",
              "3    0.512533  0.479802  0.730971  0.335466  0.639821\n",
              "4    0.918267  0.178420  0.055605  0.958090  0.911738\n",
              "..        ...       ...       ...       ...       ...\n",
              "329  0.168249  0.865366  0.696239  0.233332  0.071001\n",
              "330  0.280925  0.885960  0.461729  0.079684  0.524113\n",
              "331  0.586365  0.373679  0.168448  0.262728  0.825650\n",
              "332  0.712107  0.925364  0.007490  0.050630  0.380239\n",
              "333  0.278535  0.739713  0.800227  0.998590  0.664965\n",
              "\n",
              "[334 rows x 5 columns]"
            ]
          },
          "execution_count": 115,
          "metadata": {},
          "output_type": "execute_result"
        }
      ],
      "source": [
        "newdf"
      ]
    },
    {
      "cell_type": "code",
      "execution_count": null,
      "metadata": {
        "colab": {
          "base_uri": "https://localhost:8080/",
          "height": 112
        },
        "id": "U6Wp3anVB-UD",
        "outputId": "0bd36622-3a38-4e68-c1f2-3bd89ca2f2f3"
      },
      "outputs": [
        {
          "data": {
            "text/html": [
              "\n",
              "  <div id=\"df-3099bf83-d91c-425e-9040-45b3cb94aa65\">\n",
              "    <div class=\"colab-df-container\">\n",
              "      <div>\n",
              "<style scoped>\n",
              "    .dataframe tbody tr th:only-of-type {\n",
              "        vertical-align: middle;\n",
              "    }\n",
              "\n",
              "    .dataframe tbody tr th {\n",
              "        vertical-align: top;\n",
              "    }\n",
              "\n",
              "    .dataframe thead th {\n",
              "        text-align: right;\n",
              "    }\n",
              "</style>\n",
              "<table border=\"1\" class=\"dataframe\">\n",
              "  <thead>\n",
              "    <tr style=\"text-align: right;\">\n",
              "      <th></th>\n",
              "      <th>A</th>\n",
              "      <th>B</th>\n",
              "      <th>C</th>\n",
              "      <th>D</th>\n",
              "      <th>E</th>\n",
              "    </tr>\n",
              "  </thead>\n",
              "  <tbody>\n",
              "    <tr>\n",
              "      <th>0</th>\n",
              "      <td>654</td>\n",
              "      <td>0.983401</td>\n",
              "      <td>0.449741</td>\n",
              "      <td>0.077917</td>\n",
              "      <td>0.514068</td>\n",
              "    </tr>\n",
              "    <tr>\n",
              "      <th>1</th>\n",
              "      <td>0.479697</td>\n",
              "      <td>0.661174</td>\n",
              "      <td>0.742659</td>\n",
              "      <td>0.010939</td>\n",
              "      <td>0.172327</td>\n",
              "    </tr>\n",
              "  </tbody>\n",
              "</table>\n",
              "</div>\n",
              "      <button class=\"colab-df-convert\" onclick=\"convertToInteractive('df-3099bf83-d91c-425e-9040-45b3cb94aa65')\"\n",
              "              title=\"Convert this dataframe to an interactive table.\"\n",
              "              style=\"display:none;\">\n",
              "        \n",
              "  <svg xmlns=\"http://www.w3.org/2000/svg\" height=\"24px\"viewBox=\"0 0 24 24\"\n",
              "       width=\"24px\">\n",
              "    <path d=\"M0 0h24v24H0V0z\" fill=\"none\"/>\n",
              "    <path d=\"M18.56 5.44l.94 2.06.94-2.06 2.06-.94-2.06-.94-.94-2.06-.94 2.06-2.06.94zm-11 1L8.5 8.5l.94-2.06 2.06-.94-2.06-.94L8.5 2.5l-.94 2.06-2.06.94zm10 10l.94 2.06.94-2.06 2.06-.94-2.06-.94-.94-2.06-.94 2.06-2.06.94z\"/><path d=\"M17.41 7.96l-1.37-1.37c-.4-.4-.92-.59-1.43-.59-.52 0-1.04.2-1.43.59L10.3 9.45l-7.72 7.72c-.78.78-.78 2.05 0 2.83L4 21.41c.39.39.9.59 1.41.59.51 0 1.02-.2 1.41-.59l7.78-7.78 2.81-2.81c.8-.78.8-2.07 0-2.86zM5.41 20L4 18.59l7.72-7.72 1.47 1.35L5.41 20z\"/>\n",
              "  </svg>\n",
              "      </button>\n",
              "      \n",
              "  <style>\n",
              "    .colab-df-container {\n",
              "      display:flex;\n",
              "      flex-wrap:wrap;\n",
              "      gap: 12px;\n",
              "    }\n",
              "\n",
              "    .colab-df-convert {\n",
              "      background-color: #E8F0FE;\n",
              "      border: none;\n",
              "      border-radius: 50%;\n",
              "      cursor: pointer;\n",
              "      display: none;\n",
              "      fill: #1967D2;\n",
              "      height: 32px;\n",
              "      padding: 0 0 0 0;\n",
              "      width: 32px;\n",
              "    }\n",
              "\n",
              "    .colab-df-convert:hover {\n",
              "      background-color: #E2EBFA;\n",
              "      box-shadow: 0px 1px 2px rgba(60, 64, 67, 0.3), 0px 1px 3px 1px rgba(60, 64, 67, 0.15);\n",
              "      fill: #174EA6;\n",
              "    }\n",
              "\n",
              "    [theme=dark] .colab-df-convert {\n",
              "      background-color: #3B4455;\n",
              "      fill: #D2E3FC;\n",
              "    }\n",
              "\n",
              "    [theme=dark] .colab-df-convert:hover {\n",
              "      background-color: #434B5C;\n",
              "      box-shadow: 0px 1px 3px 1px rgba(0, 0, 0, 0.15);\n",
              "      filter: drop-shadow(0px 1px 2px rgba(0, 0, 0, 0.3));\n",
              "      fill: #FFFFFF;\n",
              "    }\n",
              "  </style>\n",
              "\n",
              "      <script>\n",
              "        const buttonEl =\n",
              "          document.querySelector('#df-3099bf83-d91c-425e-9040-45b3cb94aa65 button.colab-df-convert');\n",
              "        buttonEl.style.display =\n",
              "          google.colab.kernel.accessAllowed ? 'block' : 'none';\n",
              "\n",
              "        async function convertToInteractive(key) {\n",
              "          const element = document.querySelector('#df-3099bf83-d91c-425e-9040-45b3cb94aa65');\n",
              "          const dataTable =\n",
              "            await google.colab.kernel.invokeFunction('convertToInteractive',\n",
              "                                                     [key], {});\n",
              "          if (!dataTable) return;\n",
              "\n",
              "          const docLinkHtml = 'Like what you see? Visit the ' +\n",
              "            '<a target=\"_blank\" href=https://colab.research.google.com/notebooks/data_table.ipynb>data table notebook</a>'\n",
              "            + ' to learn more about interactive tables.';\n",
              "          element.innerHTML = '';\n",
              "          dataTable['output_type'] = 'display_data';\n",
              "          await google.colab.output.renderOutput(dataTable, element);\n",
              "          const docLink = document.createElement('div');\n",
              "          docLink.innerHTML = docLinkHtml;\n",
              "          element.appendChild(docLink);\n",
              "        }\n",
              "      </script>\n",
              "    </div>\n",
              "  </div>\n",
              "  "
            ],
            "text/plain": [
              "          A         B         C         D         E\n",
              "0       654  0.983401  0.449741  0.077917  0.514068\n",
              "1  0.479697  0.661174  0.742659  0.010939  0.172327"
            ]
          },
          "execution_count": 116,
          "metadata": {},
          "output_type": "execute_result"
        }
      ],
      "source": [
        "newdf.head(2)"
      ]
    },
    {
      "cell_type": "code",
      "execution_count": null,
      "metadata": {
        "id": "7Q1o1UAqB-Rr"
      },
      "outputs": [],
      "source": [
        "newdf.loc[0,'A'] = 654455"
      ]
    },
    {
      "cell_type": "code",
      "execution_count": null,
      "metadata": {
        "colab": {
          "base_uri": "https://localhost:8080/",
          "height": 206
        },
        "id": "vmkK6EHpB-Pl",
        "outputId": "97c0768d-77ae-4e53-ff99-d416b5409e96"
      },
      "outputs": [
        {
          "data": {
            "text/html": [
              "\n",
              "  <div id=\"df-42b369d1-1eac-4750-94fc-2e66386f8262\">\n",
              "    <div class=\"colab-df-container\">\n",
              "      <div>\n",
              "<style scoped>\n",
              "    .dataframe tbody tr th:only-of-type {\n",
              "        vertical-align: middle;\n",
              "    }\n",
              "\n",
              "    .dataframe tbody tr th {\n",
              "        vertical-align: top;\n",
              "    }\n",
              "\n",
              "    .dataframe thead th {\n",
              "        text-align: right;\n",
              "    }\n",
              "</style>\n",
              "<table border=\"1\" class=\"dataframe\">\n",
              "  <thead>\n",
              "    <tr style=\"text-align: right;\">\n",
              "      <th></th>\n",
              "      <th>A</th>\n",
              "      <th>B</th>\n",
              "      <th>C</th>\n",
              "      <th>D</th>\n",
              "      <th>E</th>\n",
              "    </tr>\n",
              "  </thead>\n",
              "  <tbody>\n",
              "    <tr>\n",
              "      <th>0</th>\n",
              "      <td>654455</td>\n",
              "      <td>0.983401</td>\n",
              "      <td>0.449741</td>\n",
              "      <td>0.077917</td>\n",
              "      <td>0.514068</td>\n",
              "    </tr>\n",
              "    <tr>\n",
              "      <th>1</th>\n",
              "      <td>0.479697</td>\n",
              "      <td>0.661174</td>\n",
              "      <td>0.742659</td>\n",
              "      <td>0.010939</td>\n",
              "      <td>0.172327</td>\n",
              "    </tr>\n",
              "    <tr>\n",
              "      <th>2</th>\n",
              "      <td>0.780938</td>\n",
              "      <td>0.533115</td>\n",
              "      <td>0.660962</td>\n",
              "      <td>0.897872</td>\n",
              "      <td>0.061047</td>\n",
              "    </tr>\n",
              "    <tr>\n",
              "      <th>3</th>\n",
              "      <td>0.512533</td>\n",
              "      <td>0.479802</td>\n",
              "      <td>0.730971</td>\n",
              "      <td>0.335466</td>\n",
              "      <td>0.639821</td>\n",
              "    </tr>\n",
              "    <tr>\n",
              "      <th>4</th>\n",
              "      <td>0.918267</td>\n",
              "      <td>0.178420</td>\n",
              "      <td>0.055605</td>\n",
              "      <td>0.958090</td>\n",
              "      <td>0.911738</td>\n",
              "    </tr>\n",
              "  </tbody>\n",
              "</table>\n",
              "</div>\n",
              "      <button class=\"colab-df-convert\" onclick=\"convertToInteractive('df-42b369d1-1eac-4750-94fc-2e66386f8262')\"\n",
              "              title=\"Convert this dataframe to an interactive table.\"\n",
              "              style=\"display:none;\">\n",
              "        \n",
              "  <svg xmlns=\"http://www.w3.org/2000/svg\" height=\"24px\"viewBox=\"0 0 24 24\"\n",
              "       width=\"24px\">\n",
              "    <path d=\"M0 0h24v24H0V0z\" fill=\"none\"/>\n",
              "    <path d=\"M18.56 5.44l.94 2.06.94-2.06 2.06-.94-2.06-.94-.94-2.06-.94 2.06-2.06.94zm-11 1L8.5 8.5l.94-2.06 2.06-.94-2.06-.94L8.5 2.5l-.94 2.06-2.06.94zm10 10l.94 2.06.94-2.06 2.06-.94-2.06-.94-.94-2.06-.94 2.06-2.06.94z\"/><path d=\"M17.41 7.96l-1.37-1.37c-.4-.4-.92-.59-1.43-.59-.52 0-1.04.2-1.43.59L10.3 9.45l-7.72 7.72c-.78.78-.78 2.05 0 2.83L4 21.41c.39.39.9.59 1.41.59.51 0 1.02-.2 1.41-.59l7.78-7.78 2.81-2.81c.8-.78.8-2.07 0-2.86zM5.41 20L4 18.59l7.72-7.72 1.47 1.35L5.41 20z\"/>\n",
              "  </svg>\n",
              "      </button>\n",
              "      \n",
              "  <style>\n",
              "    .colab-df-container {\n",
              "      display:flex;\n",
              "      flex-wrap:wrap;\n",
              "      gap: 12px;\n",
              "    }\n",
              "\n",
              "    .colab-df-convert {\n",
              "      background-color: #E8F0FE;\n",
              "      border: none;\n",
              "      border-radius: 50%;\n",
              "      cursor: pointer;\n",
              "      display: none;\n",
              "      fill: #1967D2;\n",
              "      height: 32px;\n",
              "      padding: 0 0 0 0;\n",
              "      width: 32px;\n",
              "    }\n",
              "\n",
              "    .colab-df-convert:hover {\n",
              "      background-color: #E2EBFA;\n",
              "      box-shadow: 0px 1px 2px rgba(60, 64, 67, 0.3), 0px 1px 3px 1px rgba(60, 64, 67, 0.15);\n",
              "      fill: #174EA6;\n",
              "    }\n",
              "\n",
              "    [theme=dark] .colab-df-convert {\n",
              "      background-color: #3B4455;\n",
              "      fill: #D2E3FC;\n",
              "    }\n",
              "\n",
              "    [theme=dark] .colab-df-convert:hover {\n",
              "      background-color: #434B5C;\n",
              "      box-shadow: 0px 1px 3px 1px rgba(0, 0, 0, 0.15);\n",
              "      filter: drop-shadow(0px 1px 2px rgba(0, 0, 0, 0.3));\n",
              "      fill: #FFFFFF;\n",
              "    }\n",
              "  </style>\n",
              "\n",
              "      <script>\n",
              "        const buttonEl =\n",
              "          document.querySelector('#df-42b369d1-1eac-4750-94fc-2e66386f8262 button.colab-df-convert');\n",
              "        buttonEl.style.display =\n",
              "          google.colab.kernel.accessAllowed ? 'block' : 'none';\n",
              "\n",
              "        async function convertToInteractive(key) {\n",
              "          const element = document.querySelector('#df-42b369d1-1eac-4750-94fc-2e66386f8262');\n",
              "          const dataTable =\n",
              "            await google.colab.kernel.invokeFunction('convertToInteractive',\n",
              "                                                     [key], {});\n",
              "          if (!dataTable) return;\n",
              "\n",
              "          const docLinkHtml = 'Like what you see? Visit the ' +\n",
              "            '<a target=\"_blank\" href=https://colab.research.google.com/notebooks/data_table.ipynb>data table notebook</a>'\n",
              "            + ' to learn more about interactive tables.';\n",
              "          element.innerHTML = '';\n",
              "          dataTable['output_type'] = 'display_data';\n",
              "          await google.colab.output.renderOutput(dataTable, element);\n",
              "          const docLink = document.createElement('div');\n",
              "          docLink.innerHTML = docLinkHtml;\n",
              "          element.appendChild(docLink);\n",
              "        }\n",
              "      </script>\n",
              "    </div>\n",
              "  </div>\n",
              "  "
            ],
            "text/plain": [
              "          A         B         C         D         E\n",
              "0    654455  0.983401  0.449741  0.077917  0.514068\n",
              "1  0.479697  0.661174  0.742659  0.010939  0.172327\n",
              "2  0.780938  0.533115  0.660962  0.897872  0.061047\n",
              "3  0.512533  0.479802  0.730971  0.335466  0.639821\n",
              "4  0.918267  0.178420  0.055605  0.958090  0.911738"
            ]
          },
          "execution_count": 118,
          "metadata": {},
          "output_type": "execute_result"
        }
      ],
      "source": [
        "newdf.head()"
      ]
    },
    {
      "cell_type": "code",
      "execution_count": null,
      "metadata": {
        "id": "K-xEHe_xF6mM"
      },
      "outputs": [],
      "source": [
        "newdf.loc[0,0]=654\n"
      ]
    },
    {
      "cell_type": "code",
      "execution_count": null,
      "metadata": {
        "colab": {
          "base_uri": "https://localhost:8080/",
          "height": 112
        },
        "id": "mqwT-qATGFAk",
        "outputId": "95970bd4-8ccd-4778-c3ef-f183c7bbcaf5"
      },
      "outputs": [
        {
          "data": {
            "text/html": [
              "\n",
              "  <div id=\"df-31c5caba-7fe1-4ebc-b0c1-8afd49c55f29\">\n",
              "    <div class=\"colab-df-container\">\n",
              "      <div>\n",
              "<style scoped>\n",
              "    .dataframe tbody tr th:only-of-type {\n",
              "        vertical-align: middle;\n",
              "    }\n",
              "\n",
              "    .dataframe tbody tr th {\n",
              "        vertical-align: top;\n",
              "    }\n",
              "\n",
              "    .dataframe thead th {\n",
              "        text-align: right;\n",
              "    }\n",
              "</style>\n",
              "<table border=\"1\" class=\"dataframe\">\n",
              "  <thead>\n",
              "    <tr style=\"text-align: right;\">\n",
              "      <th></th>\n",
              "      <th>A</th>\n",
              "      <th>B</th>\n",
              "      <th>C</th>\n",
              "      <th>D</th>\n",
              "      <th>E</th>\n",
              "      <th>0</th>\n",
              "    </tr>\n",
              "  </thead>\n",
              "  <tbody>\n",
              "    <tr>\n",
              "      <th>0</th>\n",
              "      <td>654455</td>\n",
              "      <td>0.983401</td>\n",
              "      <td>0.449741</td>\n",
              "      <td>0.077917</td>\n",
              "      <td>0.514068</td>\n",
              "      <td>654.0</td>\n",
              "    </tr>\n",
              "    <tr>\n",
              "      <th>1</th>\n",
              "      <td>0.479697</td>\n",
              "      <td>0.661174</td>\n",
              "      <td>0.742659</td>\n",
              "      <td>0.010939</td>\n",
              "      <td>0.172327</td>\n",
              "      <td>NaN</td>\n",
              "    </tr>\n",
              "  </tbody>\n",
              "</table>\n",
              "</div>\n",
              "      <button class=\"colab-df-convert\" onclick=\"convertToInteractive('df-31c5caba-7fe1-4ebc-b0c1-8afd49c55f29')\"\n",
              "              title=\"Convert this dataframe to an interactive table.\"\n",
              "              style=\"display:none;\">\n",
              "        \n",
              "  <svg xmlns=\"http://www.w3.org/2000/svg\" height=\"24px\"viewBox=\"0 0 24 24\"\n",
              "       width=\"24px\">\n",
              "    <path d=\"M0 0h24v24H0V0z\" fill=\"none\"/>\n",
              "    <path d=\"M18.56 5.44l.94 2.06.94-2.06 2.06-.94-2.06-.94-.94-2.06-.94 2.06-2.06.94zm-11 1L8.5 8.5l.94-2.06 2.06-.94-2.06-.94L8.5 2.5l-.94 2.06-2.06.94zm10 10l.94 2.06.94-2.06 2.06-.94-2.06-.94-.94-2.06-.94 2.06-2.06.94z\"/><path d=\"M17.41 7.96l-1.37-1.37c-.4-.4-.92-.59-1.43-.59-.52 0-1.04.2-1.43.59L10.3 9.45l-7.72 7.72c-.78.78-.78 2.05 0 2.83L4 21.41c.39.39.9.59 1.41.59.51 0 1.02-.2 1.41-.59l7.78-7.78 2.81-2.81c.8-.78.8-2.07 0-2.86zM5.41 20L4 18.59l7.72-7.72 1.47 1.35L5.41 20z\"/>\n",
              "  </svg>\n",
              "      </button>\n",
              "      \n",
              "  <style>\n",
              "    .colab-df-container {\n",
              "      display:flex;\n",
              "      flex-wrap:wrap;\n",
              "      gap: 12px;\n",
              "    }\n",
              "\n",
              "    .colab-df-convert {\n",
              "      background-color: #E8F0FE;\n",
              "      border: none;\n",
              "      border-radius: 50%;\n",
              "      cursor: pointer;\n",
              "      display: none;\n",
              "      fill: #1967D2;\n",
              "      height: 32px;\n",
              "      padding: 0 0 0 0;\n",
              "      width: 32px;\n",
              "    }\n",
              "\n",
              "    .colab-df-convert:hover {\n",
              "      background-color: #E2EBFA;\n",
              "      box-shadow: 0px 1px 2px rgba(60, 64, 67, 0.3), 0px 1px 3px 1px rgba(60, 64, 67, 0.15);\n",
              "      fill: #174EA6;\n",
              "    }\n",
              "\n",
              "    [theme=dark] .colab-df-convert {\n",
              "      background-color: #3B4455;\n",
              "      fill: #D2E3FC;\n",
              "    }\n",
              "\n",
              "    [theme=dark] .colab-df-convert:hover {\n",
              "      background-color: #434B5C;\n",
              "      box-shadow: 0px 1px 3px 1px rgba(0, 0, 0, 0.15);\n",
              "      filter: drop-shadow(0px 1px 2px rgba(0, 0, 0, 0.3));\n",
              "      fill: #FFFFFF;\n",
              "    }\n",
              "  </style>\n",
              "\n",
              "      <script>\n",
              "        const buttonEl =\n",
              "          document.querySelector('#df-31c5caba-7fe1-4ebc-b0c1-8afd49c55f29 button.colab-df-convert');\n",
              "        buttonEl.style.display =\n",
              "          google.colab.kernel.accessAllowed ? 'block' : 'none';\n",
              "\n",
              "        async function convertToInteractive(key) {\n",
              "          const element = document.querySelector('#df-31c5caba-7fe1-4ebc-b0c1-8afd49c55f29');\n",
              "          const dataTable =\n",
              "            await google.colab.kernel.invokeFunction('convertToInteractive',\n",
              "                                                     [key], {});\n",
              "          if (!dataTable) return;\n",
              "\n",
              "          const docLinkHtml = 'Like what you see? Visit the ' +\n",
              "            '<a target=\"_blank\" href=https://colab.research.google.com/notebooks/data_table.ipynb>data table notebook</a>'\n",
              "            + ' to learn more about interactive tables.';\n",
              "          element.innerHTML = '';\n",
              "          dataTable['output_type'] = 'display_data';\n",
              "          await google.colab.output.renderOutput(dataTable, element);\n",
              "          const docLink = document.createElement('div');\n",
              "          docLink.innerHTML = docLinkHtml;\n",
              "          element.appendChild(docLink);\n",
              "        }\n",
              "      </script>\n",
              "    </div>\n",
              "  </div>\n",
              "  "
            ],
            "text/plain": [
              "          A         B         C         D         E      0\n",
              "0    654455  0.983401  0.449741  0.077917  0.514068  654.0\n",
              "1  0.479697  0.661174  0.742659  0.010939  0.172327    NaN"
            ]
          },
          "execution_count": 125,
          "metadata": {},
          "output_type": "execute_result"
        }
      ],
      "source": [
        "newdf.head(2)"
      ]
    },
    {
      "cell_type": "code",
      "execution_count": null,
      "metadata": {
        "id": "316pz32mHErt"
      },
      "outputs": [],
      "source": []
    },
    {
      "cell_type": "code",
      "execution_count": null,
      "metadata": {
        "id": "HcaYmz7qB-Na"
      },
      "outputs": [],
      "source": [
        "newdf=newdf.drop(0,axis=1) #remove (row,column)"
      ]
    },
    {
      "cell_type": "code",
      "execution_count": null,
      "metadata": {
        "colab": {
          "base_uri": "https://localhost:8080/",
          "height": 112
        },
        "id": "709WvUK1B-LE",
        "outputId": "01f0e213-b914-420c-c991-360f52bb3675"
      },
      "outputs": [
        {
          "data": {
            "text/html": [
              "\n",
              "  <div id=\"df-c68ee95f-7e57-4ad2-8479-c00cc8f2a903\">\n",
              "    <div class=\"colab-df-container\">\n",
              "      <div>\n",
              "<style scoped>\n",
              "    .dataframe tbody tr th:only-of-type {\n",
              "        vertical-align: middle;\n",
              "    }\n",
              "\n",
              "    .dataframe tbody tr th {\n",
              "        vertical-align: top;\n",
              "    }\n",
              "\n",
              "    .dataframe thead th {\n",
              "        text-align: right;\n",
              "    }\n",
              "</style>\n",
              "<table border=\"1\" class=\"dataframe\">\n",
              "  <thead>\n",
              "    <tr style=\"text-align: right;\">\n",
              "      <th></th>\n",
              "      <th>A</th>\n",
              "      <th>B</th>\n",
              "      <th>C</th>\n",
              "      <th>D</th>\n",
              "      <th>E</th>\n",
              "    </tr>\n",
              "  </thead>\n",
              "  <tbody>\n",
              "    <tr>\n",
              "      <th>0</th>\n",
              "      <td>654455</td>\n",
              "      <td>0.983401</td>\n",
              "      <td>0.449741</td>\n",
              "      <td>0.077917</td>\n",
              "      <td>0.514068</td>\n",
              "    </tr>\n",
              "    <tr>\n",
              "      <th>1</th>\n",
              "      <td>0.479697</td>\n",
              "      <td>0.661174</td>\n",
              "      <td>0.742659</td>\n",
              "      <td>0.010939</td>\n",
              "      <td>0.172327</td>\n",
              "    </tr>\n",
              "  </tbody>\n",
              "</table>\n",
              "</div>\n",
              "      <button class=\"colab-df-convert\" onclick=\"convertToInteractive('df-c68ee95f-7e57-4ad2-8479-c00cc8f2a903')\"\n",
              "              title=\"Convert this dataframe to an interactive table.\"\n",
              "              style=\"display:none;\">\n",
              "        \n",
              "  <svg xmlns=\"http://www.w3.org/2000/svg\" height=\"24px\"viewBox=\"0 0 24 24\"\n",
              "       width=\"24px\">\n",
              "    <path d=\"M0 0h24v24H0V0z\" fill=\"none\"/>\n",
              "    <path d=\"M18.56 5.44l.94 2.06.94-2.06 2.06-.94-2.06-.94-.94-2.06-.94 2.06-2.06.94zm-11 1L8.5 8.5l.94-2.06 2.06-.94-2.06-.94L8.5 2.5l-.94 2.06-2.06.94zm10 10l.94 2.06.94-2.06 2.06-.94-2.06-.94-.94-2.06-.94 2.06-2.06.94z\"/><path d=\"M17.41 7.96l-1.37-1.37c-.4-.4-.92-.59-1.43-.59-.52 0-1.04.2-1.43.59L10.3 9.45l-7.72 7.72c-.78.78-.78 2.05 0 2.83L4 21.41c.39.39.9.59 1.41.59.51 0 1.02-.2 1.41-.59l7.78-7.78 2.81-2.81c.8-.78.8-2.07 0-2.86zM5.41 20L4 18.59l7.72-7.72 1.47 1.35L5.41 20z\"/>\n",
              "  </svg>\n",
              "      </button>\n",
              "      \n",
              "  <style>\n",
              "    .colab-df-container {\n",
              "      display:flex;\n",
              "      flex-wrap:wrap;\n",
              "      gap: 12px;\n",
              "    }\n",
              "\n",
              "    .colab-df-convert {\n",
              "      background-color: #E8F0FE;\n",
              "      border: none;\n",
              "      border-radius: 50%;\n",
              "      cursor: pointer;\n",
              "      display: none;\n",
              "      fill: #1967D2;\n",
              "      height: 32px;\n",
              "      padding: 0 0 0 0;\n",
              "      width: 32px;\n",
              "    }\n",
              "\n",
              "    .colab-df-convert:hover {\n",
              "      background-color: #E2EBFA;\n",
              "      box-shadow: 0px 1px 2px rgba(60, 64, 67, 0.3), 0px 1px 3px 1px rgba(60, 64, 67, 0.15);\n",
              "      fill: #174EA6;\n",
              "    }\n",
              "\n",
              "    [theme=dark] .colab-df-convert {\n",
              "      background-color: #3B4455;\n",
              "      fill: #D2E3FC;\n",
              "    }\n",
              "\n",
              "    [theme=dark] .colab-df-convert:hover {\n",
              "      background-color: #434B5C;\n",
              "      box-shadow: 0px 1px 3px 1px rgba(0, 0, 0, 0.15);\n",
              "      filter: drop-shadow(0px 1px 2px rgba(0, 0, 0, 0.3));\n",
              "      fill: #FFFFFF;\n",
              "    }\n",
              "  </style>\n",
              "\n",
              "      <script>\n",
              "        const buttonEl =\n",
              "          document.querySelector('#df-c68ee95f-7e57-4ad2-8479-c00cc8f2a903 button.colab-df-convert');\n",
              "        buttonEl.style.display =\n",
              "          google.colab.kernel.accessAllowed ? 'block' : 'none';\n",
              "\n",
              "        async function convertToInteractive(key) {\n",
              "          const element = document.querySelector('#df-c68ee95f-7e57-4ad2-8479-c00cc8f2a903');\n",
              "          const dataTable =\n",
              "            await google.colab.kernel.invokeFunction('convertToInteractive',\n",
              "                                                     [key], {});\n",
              "          if (!dataTable) return;\n",
              "\n",
              "          const docLinkHtml = 'Like what you see? Visit the ' +\n",
              "            '<a target=\"_blank\" href=https://colab.research.google.com/notebooks/data_table.ipynb>data table notebook</a>'\n",
              "            + ' to learn more about interactive tables.';\n",
              "          element.innerHTML = '';\n",
              "          dataTable['output_type'] = 'display_data';\n",
              "          await google.colab.output.renderOutput(dataTable, element);\n",
              "          const docLink = document.createElement('div');\n",
              "          docLink.innerHTML = docLinkHtml;\n",
              "          element.appendChild(docLink);\n",
              "        }\n",
              "      </script>\n",
              "    </div>\n",
              "  </div>\n",
              "  "
            ],
            "text/plain": [
              "          A         B         C         D         E\n",
              "0    654455  0.983401  0.449741  0.077917  0.514068\n",
              "1  0.479697  0.661174  0.742659  0.010939  0.172327"
            ]
          },
          "execution_count": 138,
          "metadata": {},
          "output_type": "execute_result"
        }
      ],
      "source": [
        "newdf.head(2)"
      ]
    },
    {
      "cell_type": "code",
      "execution_count": null,
      "metadata": {
        "colab": {
          "base_uri": "https://localhost:8080/",
          "height": 112
        },
        "id": "2FSLo-PJB-JJ",
        "outputId": "580924f5-6cd3-46a8-c6fb-b495b7cbced1"
      },
      "outputs": [
        {
          "data": {
            "text/html": [
              "\n",
              "  <div id=\"df-9c8cc517-ea2b-4a51-baf1-426860fe96af\">\n",
              "    <div class=\"colab-df-container\">\n",
              "      <div>\n",
              "<style scoped>\n",
              "    .dataframe tbody tr th:only-of-type {\n",
              "        vertical-align: middle;\n",
              "    }\n",
              "\n",
              "    .dataframe tbody tr th {\n",
              "        vertical-align: top;\n",
              "    }\n",
              "\n",
              "    .dataframe thead th {\n",
              "        text-align: right;\n",
              "    }\n",
              "</style>\n",
              "<table border=\"1\" class=\"dataframe\">\n",
              "  <thead>\n",
              "    <tr style=\"text-align: right;\">\n",
              "      <th></th>\n",
              "      <th>C</th>\n",
              "      <th>D</th>\n",
              "    </tr>\n",
              "  </thead>\n",
              "  <tbody>\n",
              "    <tr>\n",
              "      <th>1</th>\n",
              "      <td>0.742659</td>\n",
              "      <td>0.010939</td>\n",
              "    </tr>\n",
              "    <tr>\n",
              "      <th>2</th>\n",
              "      <td>0.660962</td>\n",
              "      <td>0.897872</td>\n",
              "    </tr>\n",
              "  </tbody>\n",
              "</table>\n",
              "</div>\n",
              "      <button class=\"colab-df-convert\" onclick=\"convertToInteractive('df-9c8cc517-ea2b-4a51-baf1-426860fe96af')\"\n",
              "              title=\"Convert this dataframe to an interactive table.\"\n",
              "              style=\"display:none;\">\n",
              "        \n",
              "  <svg xmlns=\"http://www.w3.org/2000/svg\" height=\"24px\"viewBox=\"0 0 24 24\"\n",
              "       width=\"24px\">\n",
              "    <path d=\"M0 0h24v24H0V0z\" fill=\"none\"/>\n",
              "    <path d=\"M18.56 5.44l.94 2.06.94-2.06 2.06-.94-2.06-.94-.94-2.06-.94 2.06-2.06.94zm-11 1L8.5 8.5l.94-2.06 2.06-.94-2.06-.94L8.5 2.5l-.94 2.06-2.06.94zm10 10l.94 2.06.94-2.06 2.06-.94-2.06-.94-.94-2.06-.94 2.06-2.06.94z\"/><path d=\"M17.41 7.96l-1.37-1.37c-.4-.4-.92-.59-1.43-.59-.52 0-1.04.2-1.43.59L10.3 9.45l-7.72 7.72c-.78.78-.78 2.05 0 2.83L4 21.41c.39.39.9.59 1.41.59.51 0 1.02-.2 1.41-.59l7.78-7.78 2.81-2.81c.8-.78.8-2.07 0-2.86zM5.41 20L4 18.59l7.72-7.72 1.47 1.35L5.41 20z\"/>\n",
              "  </svg>\n",
              "      </button>\n",
              "      \n",
              "  <style>\n",
              "    .colab-df-container {\n",
              "      display:flex;\n",
              "      flex-wrap:wrap;\n",
              "      gap: 12px;\n",
              "    }\n",
              "\n",
              "    .colab-df-convert {\n",
              "      background-color: #E8F0FE;\n",
              "      border: none;\n",
              "      border-radius: 50%;\n",
              "      cursor: pointer;\n",
              "      display: none;\n",
              "      fill: #1967D2;\n",
              "      height: 32px;\n",
              "      padding: 0 0 0 0;\n",
              "      width: 32px;\n",
              "    }\n",
              "\n",
              "    .colab-df-convert:hover {\n",
              "      background-color: #E2EBFA;\n",
              "      box-shadow: 0px 1px 2px rgba(60, 64, 67, 0.3), 0px 1px 3px 1px rgba(60, 64, 67, 0.15);\n",
              "      fill: #174EA6;\n",
              "    }\n",
              "\n",
              "    [theme=dark] .colab-df-convert {\n",
              "      background-color: #3B4455;\n",
              "      fill: #D2E3FC;\n",
              "    }\n",
              "\n",
              "    [theme=dark] .colab-df-convert:hover {\n",
              "      background-color: #434B5C;\n",
              "      box-shadow: 0px 1px 3px 1px rgba(0, 0, 0, 0.15);\n",
              "      filter: drop-shadow(0px 1px 2px rgba(0, 0, 0, 0.3));\n",
              "      fill: #FFFFFF;\n",
              "    }\n",
              "  </style>\n",
              "\n",
              "      <script>\n",
              "        const buttonEl =\n",
              "          document.querySelector('#df-9c8cc517-ea2b-4a51-baf1-426860fe96af button.colab-df-convert');\n",
              "        buttonEl.style.display =\n",
              "          google.colab.kernel.accessAllowed ? 'block' : 'none';\n",
              "\n",
              "        async function convertToInteractive(key) {\n",
              "          const element = document.querySelector('#df-9c8cc517-ea2b-4a51-baf1-426860fe96af');\n",
              "          const dataTable =\n",
              "            await google.colab.kernel.invokeFunction('convertToInteractive',\n",
              "                                                     [key], {});\n",
              "          if (!dataTable) return;\n",
              "\n",
              "          const docLinkHtml = 'Like what you see? Visit the ' +\n",
              "            '<a target=\"_blank\" href=https://colab.research.google.com/notebooks/data_table.ipynb>data table notebook</a>'\n",
              "            + ' to learn more about interactive tables.';\n",
              "          element.innerHTML = '';\n",
              "          dataTable['output_type'] = 'display_data';\n",
              "          await google.colab.output.renderOutput(dataTable, element);\n",
              "          const docLink = document.createElement('div');\n",
              "          docLink.innerHTML = docLinkHtml;\n",
              "          element.appendChild(docLink);\n",
              "        }\n",
              "      </script>\n",
              "    </div>\n",
              "  </div>\n",
              "  "
            ],
            "text/plain": [
              "          C         D\n",
              "1  0.742659  0.010939\n",
              "2  0.660962  0.897872"
            ]
          },
          "execution_count": 140,
          "metadata": {},
          "output_type": "execute_result"
        }
      ],
      "source": [
        "newdf.loc[[1,2],['C','D']] #return a view from dataframe"
      ]
    },
    {
      "cell_type": "code",
      "execution_count": null,
      "metadata": {
        "colab": {
          "base_uri": "https://localhost:8080/",
          "height": 424
        },
        "id": "GwKGrtTlB-HW",
        "outputId": "c1ef6eaa-ccd0-45ba-c7ba-a8e309330948"
      },
      "outputs": [
        {
          "data": {
            "text/html": [
              "\n",
              "  <div id=\"df-f1f25a80-a8ed-41b0-8261-163ae236b592\">\n",
              "    <div class=\"colab-df-container\">\n",
              "      <div>\n",
              "<style scoped>\n",
              "    .dataframe tbody tr th:only-of-type {\n",
              "        vertical-align: middle;\n",
              "    }\n",
              "\n",
              "    .dataframe tbody tr th {\n",
              "        vertical-align: top;\n",
              "    }\n",
              "\n",
              "    .dataframe thead th {\n",
              "        text-align: right;\n",
              "    }\n",
              "</style>\n",
              "<table border=\"1\" class=\"dataframe\">\n",
              "  <thead>\n",
              "    <tr style=\"text-align: right;\">\n",
              "      <th></th>\n",
              "      <th>C</th>\n",
              "      <th>D</th>\n",
              "    </tr>\n",
              "  </thead>\n",
              "  <tbody>\n",
              "    <tr>\n",
              "      <th>0</th>\n",
              "      <td>0.449741</td>\n",
              "      <td>0.077917</td>\n",
              "    </tr>\n",
              "    <tr>\n",
              "      <th>1</th>\n",
              "      <td>0.742659</td>\n",
              "      <td>0.010939</td>\n",
              "    </tr>\n",
              "    <tr>\n",
              "      <th>2</th>\n",
              "      <td>0.660962</td>\n",
              "      <td>0.897872</td>\n",
              "    </tr>\n",
              "    <tr>\n",
              "      <th>3</th>\n",
              "      <td>0.730971</td>\n",
              "      <td>0.335466</td>\n",
              "    </tr>\n",
              "    <tr>\n",
              "      <th>4</th>\n",
              "      <td>0.055605</td>\n",
              "      <td>0.958090</td>\n",
              "    </tr>\n",
              "    <tr>\n",
              "      <th>...</th>\n",
              "      <td>...</td>\n",
              "      <td>...</td>\n",
              "    </tr>\n",
              "    <tr>\n",
              "      <th>329</th>\n",
              "      <td>0.696239</td>\n",
              "      <td>0.233332</td>\n",
              "    </tr>\n",
              "    <tr>\n",
              "      <th>330</th>\n",
              "      <td>0.461729</td>\n",
              "      <td>0.079684</td>\n",
              "    </tr>\n",
              "    <tr>\n",
              "      <th>331</th>\n",
              "      <td>0.168448</td>\n",
              "      <td>0.262728</td>\n",
              "    </tr>\n",
              "    <tr>\n",
              "      <th>332</th>\n",
              "      <td>0.007490</td>\n",
              "      <td>0.050630</td>\n",
              "    </tr>\n",
              "    <tr>\n",
              "      <th>333</th>\n",
              "      <td>0.800227</td>\n",
              "      <td>0.998590</td>\n",
              "    </tr>\n",
              "  </tbody>\n",
              "</table>\n",
              "<p>334 rows × 2 columns</p>\n",
              "</div>\n",
              "      <button class=\"colab-df-convert\" onclick=\"convertToInteractive('df-f1f25a80-a8ed-41b0-8261-163ae236b592')\"\n",
              "              title=\"Convert this dataframe to an interactive table.\"\n",
              "              style=\"display:none;\">\n",
              "        \n",
              "  <svg xmlns=\"http://www.w3.org/2000/svg\" height=\"24px\"viewBox=\"0 0 24 24\"\n",
              "       width=\"24px\">\n",
              "    <path d=\"M0 0h24v24H0V0z\" fill=\"none\"/>\n",
              "    <path d=\"M18.56 5.44l.94 2.06.94-2.06 2.06-.94-2.06-.94-.94-2.06-.94 2.06-2.06.94zm-11 1L8.5 8.5l.94-2.06 2.06-.94-2.06-.94L8.5 2.5l-.94 2.06-2.06.94zm10 10l.94 2.06.94-2.06 2.06-.94-2.06-.94-.94-2.06-.94 2.06-2.06.94z\"/><path d=\"M17.41 7.96l-1.37-1.37c-.4-.4-.92-.59-1.43-.59-.52 0-1.04.2-1.43.59L10.3 9.45l-7.72 7.72c-.78.78-.78 2.05 0 2.83L4 21.41c.39.39.9.59 1.41.59.51 0 1.02-.2 1.41-.59l7.78-7.78 2.81-2.81c.8-.78.8-2.07 0-2.86zM5.41 20L4 18.59l7.72-7.72 1.47 1.35L5.41 20z\"/>\n",
              "  </svg>\n",
              "      </button>\n",
              "      \n",
              "  <style>\n",
              "    .colab-df-container {\n",
              "      display:flex;\n",
              "      flex-wrap:wrap;\n",
              "      gap: 12px;\n",
              "    }\n",
              "\n",
              "    .colab-df-convert {\n",
              "      background-color: #E8F0FE;\n",
              "      border: none;\n",
              "      border-radius: 50%;\n",
              "      cursor: pointer;\n",
              "      display: none;\n",
              "      fill: #1967D2;\n",
              "      height: 32px;\n",
              "      padding: 0 0 0 0;\n",
              "      width: 32px;\n",
              "    }\n",
              "\n",
              "    .colab-df-convert:hover {\n",
              "      background-color: #E2EBFA;\n",
              "      box-shadow: 0px 1px 2px rgba(60, 64, 67, 0.3), 0px 1px 3px 1px rgba(60, 64, 67, 0.15);\n",
              "      fill: #174EA6;\n",
              "    }\n",
              "\n",
              "    [theme=dark] .colab-df-convert {\n",
              "      background-color: #3B4455;\n",
              "      fill: #D2E3FC;\n",
              "    }\n",
              "\n",
              "    [theme=dark] .colab-df-convert:hover {\n",
              "      background-color: #434B5C;\n",
              "      box-shadow: 0px 1px 3px 1px rgba(0, 0, 0, 0.15);\n",
              "      filter: drop-shadow(0px 1px 2px rgba(0, 0, 0, 0.3));\n",
              "      fill: #FFFFFF;\n",
              "    }\n",
              "  </style>\n",
              "\n",
              "      <script>\n",
              "        const buttonEl =\n",
              "          document.querySelector('#df-f1f25a80-a8ed-41b0-8261-163ae236b592 button.colab-df-convert');\n",
              "        buttonEl.style.display =\n",
              "          google.colab.kernel.accessAllowed ? 'block' : 'none';\n",
              "\n",
              "        async function convertToInteractive(key) {\n",
              "          const element = document.querySelector('#df-f1f25a80-a8ed-41b0-8261-163ae236b592');\n",
              "          const dataTable =\n",
              "            await google.colab.kernel.invokeFunction('convertToInteractive',\n",
              "                                                     [key], {});\n",
              "          if (!dataTable) return;\n",
              "\n",
              "          const docLinkHtml = 'Like what you see? Visit the ' +\n",
              "            '<a target=\"_blank\" href=https://colab.research.google.com/notebooks/data_table.ipynb>data table notebook</a>'\n",
              "            + ' to learn more about interactive tables.';\n",
              "          element.innerHTML = '';\n",
              "          dataTable['output_type'] = 'display_data';\n",
              "          await google.colab.output.renderOutput(dataTable, element);\n",
              "          const docLink = document.createElement('div');\n",
              "          docLink.innerHTML = docLinkHtml;\n",
              "          element.appendChild(docLink);\n",
              "        }\n",
              "      </script>\n",
              "    </div>\n",
              "  </div>\n",
              "  "
            ],
            "text/plain": [
              "            C         D\n",
              "0    0.449741  0.077917\n",
              "1    0.742659  0.010939\n",
              "2    0.660962  0.897872\n",
              "3    0.730971  0.335466\n",
              "4    0.055605  0.958090\n",
              "..        ...       ...\n",
              "329  0.696239  0.233332\n",
              "330  0.461729  0.079684\n",
              "331  0.168448  0.262728\n",
              "332  0.007490  0.050630\n",
              "333  0.800227  0.998590\n",
              "\n",
              "[334 rows x 2 columns]"
            ]
          },
          "execution_count": 142,
          "metadata": {},
          "output_type": "execute_result"
        }
      ],
      "source": [
        "newdf.loc[:,['C','D']] #return all rows"
      ]
    },
    {
      "cell_type": "code",
      "execution_count": null,
      "metadata": {
        "colab": {
          "base_uri": "https://localhost:8080/",
          "height": 112
        },
        "id": "OhbTKzN4B-Eg",
        "outputId": "885e2692-0542-472f-9370-de1fee81f27d"
      },
      "outputs": [
        {
          "data": {
            "text/html": [
              "\n",
              "  <div id=\"df-08819fe7-cc7f-4a8d-940a-4c099af47626\">\n",
              "    <div class=\"colab-df-container\">\n",
              "      <div>\n",
              "<style scoped>\n",
              "    .dataframe tbody tr th:only-of-type {\n",
              "        vertical-align: middle;\n",
              "    }\n",
              "\n",
              "    .dataframe tbody tr th {\n",
              "        vertical-align: top;\n",
              "    }\n",
              "\n",
              "    .dataframe thead th {\n",
              "        text-align: right;\n",
              "    }\n",
              "</style>\n",
              "<table border=\"1\" class=\"dataframe\">\n",
              "  <thead>\n",
              "    <tr style=\"text-align: right;\">\n",
              "      <th></th>\n",
              "      <th>A</th>\n",
              "      <th>B</th>\n",
              "      <th>C</th>\n",
              "      <th>D</th>\n",
              "      <th>E</th>\n",
              "    </tr>\n",
              "  </thead>\n",
              "  <tbody>\n",
              "    <tr>\n",
              "      <th>1</th>\n",
              "      <td>0.479697</td>\n",
              "      <td>0.661174</td>\n",
              "      <td>0.742659</td>\n",
              "      <td>0.010939</td>\n",
              "      <td>0.172327</td>\n",
              "    </tr>\n",
              "    <tr>\n",
              "      <th>2</th>\n",
              "      <td>0.780938</td>\n",
              "      <td>0.533115</td>\n",
              "      <td>0.660962</td>\n",
              "      <td>0.897872</td>\n",
              "      <td>0.061047</td>\n",
              "    </tr>\n",
              "  </tbody>\n",
              "</table>\n",
              "</div>\n",
              "      <button class=\"colab-df-convert\" onclick=\"convertToInteractive('df-08819fe7-cc7f-4a8d-940a-4c099af47626')\"\n",
              "              title=\"Convert this dataframe to an interactive table.\"\n",
              "              style=\"display:none;\">\n",
              "        \n",
              "  <svg xmlns=\"http://www.w3.org/2000/svg\" height=\"24px\"viewBox=\"0 0 24 24\"\n",
              "       width=\"24px\">\n",
              "    <path d=\"M0 0h24v24H0V0z\" fill=\"none\"/>\n",
              "    <path d=\"M18.56 5.44l.94 2.06.94-2.06 2.06-.94-2.06-.94-.94-2.06-.94 2.06-2.06.94zm-11 1L8.5 8.5l.94-2.06 2.06-.94-2.06-.94L8.5 2.5l-.94 2.06-2.06.94zm10 10l.94 2.06.94-2.06 2.06-.94-2.06-.94-.94-2.06-.94 2.06-2.06.94z\"/><path d=\"M17.41 7.96l-1.37-1.37c-.4-.4-.92-.59-1.43-.59-.52 0-1.04.2-1.43.59L10.3 9.45l-7.72 7.72c-.78.78-.78 2.05 0 2.83L4 21.41c.39.39.9.59 1.41.59.51 0 1.02-.2 1.41-.59l7.78-7.78 2.81-2.81c.8-.78.8-2.07 0-2.86zM5.41 20L4 18.59l7.72-7.72 1.47 1.35L5.41 20z\"/>\n",
              "  </svg>\n",
              "      </button>\n",
              "      \n",
              "  <style>\n",
              "    .colab-df-container {\n",
              "      display:flex;\n",
              "      flex-wrap:wrap;\n",
              "      gap: 12px;\n",
              "    }\n",
              "\n",
              "    .colab-df-convert {\n",
              "      background-color: #E8F0FE;\n",
              "      border: none;\n",
              "      border-radius: 50%;\n",
              "      cursor: pointer;\n",
              "      display: none;\n",
              "      fill: #1967D2;\n",
              "      height: 32px;\n",
              "      padding: 0 0 0 0;\n",
              "      width: 32px;\n",
              "    }\n",
              "\n",
              "    .colab-df-convert:hover {\n",
              "      background-color: #E2EBFA;\n",
              "      box-shadow: 0px 1px 2px rgba(60, 64, 67, 0.3), 0px 1px 3px 1px rgba(60, 64, 67, 0.15);\n",
              "      fill: #174EA6;\n",
              "    }\n",
              "\n",
              "    [theme=dark] .colab-df-convert {\n",
              "      background-color: #3B4455;\n",
              "      fill: #D2E3FC;\n",
              "    }\n",
              "\n",
              "    [theme=dark] .colab-df-convert:hover {\n",
              "      background-color: #434B5C;\n",
              "      box-shadow: 0px 1px 3px 1px rgba(0, 0, 0, 0.15);\n",
              "      filter: drop-shadow(0px 1px 2px rgba(0, 0, 0, 0.3));\n",
              "      fill: #FFFFFF;\n",
              "    }\n",
              "  </style>\n",
              "\n",
              "      <script>\n",
              "        const buttonEl =\n",
              "          document.querySelector('#df-08819fe7-cc7f-4a8d-940a-4c099af47626 button.colab-df-convert');\n",
              "        buttonEl.style.display =\n",
              "          google.colab.kernel.accessAllowed ? 'block' : 'none';\n",
              "\n",
              "        async function convertToInteractive(key) {\n",
              "          const element = document.querySelector('#df-08819fe7-cc7f-4a8d-940a-4c099af47626');\n",
              "          const dataTable =\n",
              "            await google.colab.kernel.invokeFunction('convertToInteractive',\n",
              "                                                     [key], {});\n",
              "          if (!dataTable) return;\n",
              "\n",
              "          const docLinkHtml = 'Like what you see? Visit the ' +\n",
              "            '<a target=\"_blank\" href=https://colab.research.google.com/notebooks/data_table.ipynb>data table notebook</a>'\n",
              "            + ' to learn more about interactive tables.';\n",
              "          element.innerHTML = '';\n",
              "          dataTable['output_type'] = 'display_data';\n",
              "          await google.colab.output.renderOutput(dataTable, element);\n",
              "          const docLink = document.createElement('div');\n",
              "          docLink.innerHTML = docLinkHtml;\n",
              "          element.appendChild(docLink);\n",
              "        }\n",
              "      </script>\n",
              "    </div>\n",
              "  </div>\n",
              "  "
            ],
            "text/plain": [
              "          A         B         C         D         E\n",
              "1  0.479697  0.661174  0.742659  0.010939  0.172327\n",
              "2  0.780938  0.533115  0.660962  0.897872  0.061047"
            ]
          },
          "execution_count": 143,
          "metadata": {},
          "output_type": "execute_result"
        }
      ],
      "source": [
        "newdf.loc[[1,2], :] #return all columns"
      ]
    },
    {
      "cell_type": "code",
      "execution_count": null,
      "metadata": {
        "colab": {
          "base_uri": "https://localhost:8080/",
          "height": 424
        },
        "id": "H8EbKG2VB9-T",
        "outputId": "4a0edc67-d36c-4560-dae8-a4d610b90342"
      },
      "outputs": [
        {
          "data": {
            "text/html": [
              "\n",
              "  <div id=\"df-2deea48e-497b-4493-82ae-7c3c15ed2eea\">\n",
              "    <div class=\"colab-df-container\">\n",
              "      <div>\n",
              "<style scoped>\n",
              "    .dataframe tbody tr th:only-of-type {\n",
              "        vertical-align: middle;\n",
              "    }\n",
              "\n",
              "    .dataframe tbody tr th {\n",
              "        vertical-align: top;\n",
              "    }\n",
              "\n",
              "    .dataframe thead th {\n",
              "        text-align: right;\n",
              "    }\n",
              "</style>\n",
              "<table border=\"1\" class=\"dataframe\">\n",
              "  <thead>\n",
              "    <tr style=\"text-align: right;\">\n",
              "      <th></th>\n",
              "      <th>A</th>\n",
              "      <th>B</th>\n",
              "      <th>C</th>\n",
              "      <th>D</th>\n",
              "      <th>E</th>\n",
              "    </tr>\n",
              "  </thead>\n",
              "  <tbody>\n",
              "    <tr>\n",
              "      <th>0</th>\n",
              "      <td>654455</td>\n",
              "      <td>0.983401</td>\n",
              "      <td>0.449741</td>\n",
              "      <td>0.077917</td>\n",
              "      <td>0.514068</td>\n",
              "    </tr>\n",
              "    <tr>\n",
              "      <th>1</th>\n",
              "      <td>0.479697</td>\n",
              "      <td>0.661174</td>\n",
              "      <td>0.742659</td>\n",
              "      <td>0.010939</td>\n",
              "      <td>0.172327</td>\n",
              "    </tr>\n",
              "    <tr>\n",
              "      <th>2</th>\n",
              "      <td>0.780938</td>\n",
              "      <td>0.533115</td>\n",
              "      <td>0.660962</td>\n",
              "      <td>0.897872</td>\n",
              "      <td>0.061047</td>\n",
              "    </tr>\n",
              "    <tr>\n",
              "      <th>3</th>\n",
              "      <td>0.512533</td>\n",
              "      <td>0.479802</td>\n",
              "      <td>0.730971</td>\n",
              "      <td>0.335466</td>\n",
              "      <td>0.639821</td>\n",
              "    </tr>\n",
              "    <tr>\n",
              "      <th>4</th>\n",
              "      <td>0.918267</td>\n",
              "      <td>0.178420</td>\n",
              "      <td>0.055605</td>\n",
              "      <td>0.958090</td>\n",
              "      <td>0.911738</td>\n",
              "    </tr>\n",
              "    <tr>\n",
              "      <th>...</th>\n",
              "      <td>...</td>\n",
              "      <td>...</td>\n",
              "      <td>...</td>\n",
              "      <td>...</td>\n",
              "      <td>...</td>\n",
              "    </tr>\n",
              "    <tr>\n",
              "      <th>329</th>\n",
              "      <td>0.168249</td>\n",
              "      <td>0.865366</td>\n",
              "      <td>0.696239</td>\n",
              "      <td>0.233332</td>\n",
              "      <td>0.071001</td>\n",
              "    </tr>\n",
              "    <tr>\n",
              "      <th>330</th>\n",
              "      <td>0.280925</td>\n",
              "      <td>0.885960</td>\n",
              "      <td>0.461729</td>\n",
              "      <td>0.079684</td>\n",
              "      <td>0.524113</td>\n",
              "    </tr>\n",
              "    <tr>\n",
              "      <th>331</th>\n",
              "      <td>0.586365</td>\n",
              "      <td>0.373679</td>\n",
              "      <td>0.168448</td>\n",
              "      <td>0.262728</td>\n",
              "      <td>0.825650</td>\n",
              "    </tr>\n",
              "    <tr>\n",
              "      <th>332</th>\n",
              "      <td>0.712107</td>\n",
              "      <td>0.925364</td>\n",
              "      <td>0.007490</td>\n",
              "      <td>0.050630</td>\n",
              "      <td>0.380239</td>\n",
              "    </tr>\n",
              "    <tr>\n",
              "      <th>333</th>\n",
              "      <td>0.278535</td>\n",
              "      <td>0.739713</td>\n",
              "      <td>0.800227</td>\n",
              "      <td>0.998590</td>\n",
              "      <td>0.664965</td>\n",
              "    </tr>\n",
              "  </tbody>\n",
              "</table>\n",
              "<p>334 rows × 5 columns</p>\n",
              "</div>\n",
              "      <button class=\"colab-df-convert\" onclick=\"convertToInteractive('df-2deea48e-497b-4493-82ae-7c3c15ed2eea')\"\n",
              "              title=\"Convert this dataframe to an interactive table.\"\n",
              "              style=\"display:none;\">\n",
              "        \n",
              "  <svg xmlns=\"http://www.w3.org/2000/svg\" height=\"24px\"viewBox=\"0 0 24 24\"\n",
              "       width=\"24px\">\n",
              "    <path d=\"M0 0h24v24H0V0z\" fill=\"none\"/>\n",
              "    <path d=\"M18.56 5.44l.94 2.06.94-2.06 2.06-.94-2.06-.94-.94-2.06-.94 2.06-2.06.94zm-11 1L8.5 8.5l.94-2.06 2.06-.94-2.06-.94L8.5 2.5l-.94 2.06-2.06.94zm10 10l.94 2.06.94-2.06 2.06-.94-2.06-.94-.94-2.06-.94 2.06-2.06.94z\"/><path d=\"M17.41 7.96l-1.37-1.37c-.4-.4-.92-.59-1.43-.59-.52 0-1.04.2-1.43.59L10.3 9.45l-7.72 7.72c-.78.78-.78 2.05 0 2.83L4 21.41c.39.39.9.59 1.41.59.51 0 1.02-.2 1.41-.59l7.78-7.78 2.81-2.81c.8-.78.8-2.07 0-2.86zM5.41 20L4 18.59l7.72-7.72 1.47 1.35L5.41 20z\"/>\n",
              "  </svg>\n",
              "      </button>\n",
              "      \n",
              "  <style>\n",
              "    .colab-df-container {\n",
              "      display:flex;\n",
              "      flex-wrap:wrap;\n",
              "      gap: 12px;\n",
              "    }\n",
              "\n",
              "    .colab-df-convert {\n",
              "      background-color: #E8F0FE;\n",
              "      border: none;\n",
              "      border-radius: 50%;\n",
              "      cursor: pointer;\n",
              "      display: none;\n",
              "      fill: #1967D2;\n",
              "      height: 32px;\n",
              "      padding: 0 0 0 0;\n",
              "      width: 32px;\n",
              "    }\n",
              "\n",
              "    .colab-df-convert:hover {\n",
              "      background-color: #E2EBFA;\n",
              "      box-shadow: 0px 1px 2px rgba(60, 64, 67, 0.3), 0px 1px 3px 1px rgba(60, 64, 67, 0.15);\n",
              "      fill: #174EA6;\n",
              "    }\n",
              "\n",
              "    [theme=dark] .colab-df-convert {\n",
              "      background-color: #3B4455;\n",
              "      fill: #D2E3FC;\n",
              "    }\n",
              "\n",
              "    [theme=dark] .colab-df-convert:hover {\n",
              "      background-color: #434B5C;\n",
              "      box-shadow: 0px 1px 3px 1px rgba(0, 0, 0, 0.15);\n",
              "      filter: drop-shadow(0px 1px 2px rgba(0, 0, 0, 0.3));\n",
              "      fill: #FFFFFF;\n",
              "    }\n",
              "  </style>\n",
              "\n",
              "      <script>\n",
              "        const buttonEl =\n",
              "          document.querySelector('#df-2deea48e-497b-4493-82ae-7c3c15ed2eea button.colab-df-convert');\n",
              "        buttonEl.style.display =\n",
              "          google.colab.kernel.accessAllowed ? 'block' : 'none';\n",
              "\n",
              "        async function convertToInteractive(key) {\n",
              "          const element = document.querySelector('#df-2deea48e-497b-4493-82ae-7c3c15ed2eea');\n",
              "          const dataTable =\n",
              "            await google.colab.kernel.invokeFunction('convertToInteractive',\n",
              "                                                     [key], {});\n",
              "          if (!dataTable) return;\n",
              "\n",
              "          const docLinkHtml = 'Like what you see? Visit the ' +\n",
              "            '<a target=\"_blank\" href=https://colab.research.google.com/notebooks/data_table.ipynb>data table notebook</a>'\n",
              "            + ' to learn more about interactive tables.';\n",
              "          element.innerHTML = '';\n",
              "          dataTable['output_type'] = 'display_data';\n",
              "          await google.colab.output.renderOutput(dataTable, element);\n",
              "          const docLink = document.createElement('div');\n",
              "          docLink.innerHTML = docLinkHtml;\n",
              "          element.appendChild(docLink);\n",
              "        }\n",
              "      </script>\n",
              "    </div>\n",
              "  </div>\n",
              "  "
            ],
            "text/plain": [
              "            A         B         C         D         E\n",
              "0      654455  0.983401  0.449741  0.077917  0.514068\n",
              "1    0.479697  0.661174  0.742659  0.010939  0.172327\n",
              "2    0.780938  0.533115  0.660962  0.897872  0.061047\n",
              "3    0.512533  0.479802  0.730971  0.335466  0.639821\n",
              "4    0.918267  0.178420  0.055605  0.958090  0.911738\n",
              "..        ...       ...       ...       ...       ...\n",
              "329  0.168249  0.865366  0.696239  0.233332  0.071001\n",
              "330  0.280925  0.885960  0.461729  0.079684  0.524113\n",
              "331  0.586365  0.373679  0.168448  0.262728  0.825650\n",
              "332  0.712107  0.925364  0.007490  0.050630  0.380239\n",
              "333  0.278535  0.739713  0.800227  0.998590  0.664965\n",
              "\n",
              "[334 rows x 5 columns]"
            ]
          },
          "execution_count": 145,
          "metadata": {},
          "output_type": "execute_result"
        }
      ],
      "source": [
        "newdf.loc[:,:] #loc[rows,columns]"
      ]
    },
    {
      "cell_type": "code",
      "execution_count": null,
      "metadata": {
        "colab": {
          "base_uri": "https://localhost:8080/",
          "height": 424
        },
        "id": "EAGWee4tB962",
        "outputId": "b9389961-92fa-4d22-c373-7da88ebc3313"
      },
      "outputs": [
        {
          "data": {
            "text/html": [
              "\n",
              "  <div id=\"df-0b065545-250a-4f7c-ac7d-5b89b818b66c\">\n",
              "    <div class=\"colab-df-container\">\n",
              "      <div>\n",
              "<style scoped>\n",
              "    .dataframe tbody tr th:only-of-type {\n",
              "        vertical-align: middle;\n",
              "    }\n",
              "\n",
              "    .dataframe tbody tr th {\n",
              "        vertical-align: top;\n",
              "    }\n",
              "\n",
              "    .dataframe thead th {\n",
              "        text-align: right;\n",
              "    }\n",
              "</style>\n",
              "<table border=\"1\" class=\"dataframe\">\n",
              "  <thead>\n",
              "    <tr style=\"text-align: right;\">\n",
              "      <th></th>\n",
              "      <th>A</th>\n",
              "      <th>B</th>\n",
              "      <th>C</th>\n",
              "      <th>D</th>\n",
              "      <th>E</th>\n",
              "    </tr>\n",
              "  </thead>\n",
              "  <tbody>\n",
              "    <tr>\n",
              "      <th>11</th>\n",
              "      <td>0.137713</td>\n",
              "      <td>0.957704</td>\n",
              "      <td>0.972615</td>\n",
              "      <td>0.708062</td>\n",
              "      <td>0.092476</td>\n",
              "    </tr>\n",
              "    <tr>\n",
              "      <th>13</th>\n",
              "      <td>0.217865</td>\n",
              "      <td>0.256428</td>\n",
              "      <td>0.227319</td>\n",
              "      <td>0.244775</td>\n",
              "      <td>0.607041</td>\n",
              "    </tr>\n",
              "    <tr>\n",
              "      <th>14</th>\n",
              "      <td>0.151944</td>\n",
              "      <td>0.072897</td>\n",
              "      <td>0.253383</td>\n",
              "      <td>0.691667</td>\n",
              "      <td>0.767307</td>\n",
              "    </tr>\n",
              "    <tr>\n",
              "      <th>15</th>\n",
              "      <td>0.082448</td>\n",
              "      <td>0.309825</td>\n",
              "      <td>0.694632</td>\n",
              "      <td>0.206261</td>\n",
              "      <td>0.025471</td>\n",
              "    </tr>\n",
              "    <tr>\n",
              "      <th>20</th>\n",
              "      <td>0.166945</td>\n",
              "      <td>0.392554</td>\n",
              "      <td>0.882218</td>\n",
              "      <td>0.445509</td>\n",
              "      <td>0.040540</td>\n",
              "    </tr>\n",
              "    <tr>\n",
              "      <th>...</th>\n",
              "      <td>...</td>\n",
              "      <td>...</td>\n",
              "      <td>...</td>\n",
              "      <td>...</td>\n",
              "      <td>...</td>\n",
              "    </tr>\n",
              "    <tr>\n",
              "      <th>318</th>\n",
              "      <td>0.095497</td>\n",
              "      <td>0.005579</td>\n",
              "      <td>0.182870</td>\n",
              "      <td>0.638970</td>\n",
              "      <td>0.551706</td>\n",
              "    </tr>\n",
              "    <tr>\n",
              "      <th>324</th>\n",
              "      <td>0.279633</td>\n",
              "      <td>0.739553</td>\n",
              "      <td>0.783070</td>\n",
              "      <td>0.861292</td>\n",
              "      <td>0.536798</td>\n",
              "    </tr>\n",
              "    <tr>\n",
              "      <th>329</th>\n",
              "      <td>0.168249</td>\n",
              "      <td>0.865366</td>\n",
              "      <td>0.696239</td>\n",
              "      <td>0.233332</td>\n",
              "      <td>0.071001</td>\n",
              "    </tr>\n",
              "    <tr>\n",
              "      <th>330</th>\n",
              "      <td>0.280925</td>\n",
              "      <td>0.885960</td>\n",
              "      <td>0.461729</td>\n",
              "      <td>0.079684</td>\n",
              "      <td>0.524113</td>\n",
              "    </tr>\n",
              "    <tr>\n",
              "      <th>333</th>\n",
              "      <td>0.278535</td>\n",
              "      <td>0.739713</td>\n",
              "      <td>0.800227</td>\n",
              "      <td>0.998590</td>\n",
              "      <td>0.664965</td>\n",
              "    </tr>\n",
              "  </tbody>\n",
              "</table>\n",
              "<p>109 rows × 5 columns</p>\n",
              "</div>\n",
              "      <button class=\"colab-df-convert\" onclick=\"convertToInteractive('df-0b065545-250a-4f7c-ac7d-5b89b818b66c')\"\n",
              "              title=\"Convert this dataframe to an interactive table.\"\n",
              "              style=\"display:none;\">\n",
              "        \n",
              "  <svg xmlns=\"http://www.w3.org/2000/svg\" height=\"24px\"viewBox=\"0 0 24 24\"\n",
              "       width=\"24px\">\n",
              "    <path d=\"M0 0h24v24H0V0z\" fill=\"none\"/>\n",
              "    <path d=\"M18.56 5.44l.94 2.06.94-2.06 2.06-.94-2.06-.94-.94-2.06-.94 2.06-2.06.94zm-11 1L8.5 8.5l.94-2.06 2.06-.94-2.06-.94L8.5 2.5l-.94 2.06-2.06.94zm10 10l.94 2.06.94-2.06 2.06-.94-2.06-.94-.94-2.06-.94 2.06-2.06.94z\"/><path d=\"M17.41 7.96l-1.37-1.37c-.4-.4-.92-.59-1.43-.59-.52 0-1.04.2-1.43.59L10.3 9.45l-7.72 7.72c-.78.78-.78 2.05 0 2.83L4 21.41c.39.39.9.59 1.41.59.51 0 1.02-.2 1.41-.59l7.78-7.78 2.81-2.81c.8-.78.8-2.07 0-2.86zM5.41 20L4 18.59l7.72-7.72 1.47 1.35L5.41 20z\"/>\n",
              "  </svg>\n",
              "      </button>\n",
              "      \n",
              "  <style>\n",
              "    .colab-df-container {\n",
              "      display:flex;\n",
              "      flex-wrap:wrap;\n",
              "      gap: 12px;\n",
              "    }\n",
              "\n",
              "    .colab-df-convert {\n",
              "      background-color: #E8F0FE;\n",
              "      border: none;\n",
              "      border-radius: 50%;\n",
              "      cursor: pointer;\n",
              "      display: none;\n",
              "      fill: #1967D2;\n",
              "      height: 32px;\n",
              "      padding: 0 0 0 0;\n",
              "      width: 32px;\n",
              "    }\n",
              "\n",
              "    .colab-df-convert:hover {\n",
              "      background-color: #E2EBFA;\n",
              "      box-shadow: 0px 1px 2px rgba(60, 64, 67, 0.3), 0px 1px 3px 1px rgba(60, 64, 67, 0.15);\n",
              "      fill: #174EA6;\n",
              "    }\n",
              "\n",
              "    [theme=dark] .colab-df-convert {\n",
              "      background-color: #3B4455;\n",
              "      fill: #D2E3FC;\n",
              "    }\n",
              "\n",
              "    [theme=dark] .colab-df-convert:hover {\n",
              "      background-color: #434B5C;\n",
              "      box-shadow: 0px 1px 3px 1px rgba(0, 0, 0, 0.15);\n",
              "      filter: drop-shadow(0px 1px 2px rgba(0, 0, 0, 0.3));\n",
              "      fill: #FFFFFF;\n",
              "    }\n",
              "  </style>\n",
              "\n",
              "      <script>\n",
              "        const buttonEl =\n",
              "          document.querySelector('#df-0b065545-250a-4f7c-ac7d-5b89b818b66c button.colab-df-convert');\n",
              "        buttonEl.style.display =\n",
              "          google.colab.kernel.accessAllowed ? 'block' : 'none';\n",
              "\n",
              "        async function convertToInteractive(key) {\n",
              "          const element = document.querySelector('#df-0b065545-250a-4f7c-ac7d-5b89b818b66c');\n",
              "          const dataTable =\n",
              "            await google.colab.kernel.invokeFunction('convertToInteractive',\n",
              "                                                     [key], {});\n",
              "          if (!dataTable) return;\n",
              "\n",
              "          const docLinkHtml = 'Like what you see? Visit the ' +\n",
              "            '<a target=\"_blank\" href=https://colab.research.google.com/notebooks/data_table.ipynb>data table notebook</a>'\n",
              "            + ' to learn more about interactive tables.';\n",
              "          element.innerHTML = '';\n",
              "          dataTable['output_type'] = 'display_data';\n",
              "          await google.colab.output.renderOutput(dataTable, element);\n",
              "          const docLink = document.createElement('div');\n",
              "          docLink.innerHTML = docLinkHtml;\n",
              "          element.appendChild(docLink);\n",
              "        }\n",
              "      </script>\n",
              "    </div>\n",
              "  </div>\n",
              "  "
            ],
            "text/plain": [
              "            A         B         C         D         E\n",
              "11   0.137713  0.957704  0.972615  0.708062  0.092476\n",
              "13   0.217865  0.256428  0.227319  0.244775  0.607041\n",
              "14   0.151944  0.072897  0.253383  0.691667  0.767307\n",
              "15   0.082448  0.309825  0.694632  0.206261  0.025471\n",
              "20   0.166945  0.392554  0.882218  0.445509  0.040540\n",
              "..        ...       ...       ...       ...       ...\n",
              "318  0.095497  0.005579  0.182870  0.638970  0.551706\n",
              "324  0.279633  0.739553  0.783070  0.861292  0.536798\n",
              "329  0.168249  0.865366  0.696239  0.233332  0.071001\n",
              "330  0.280925  0.885960  0.461729  0.079684  0.524113\n",
              "333  0.278535  0.739713  0.800227  0.998590  0.664965\n",
              "\n",
              "[109 rows x 5 columns]"
            ]
          },
          "execution_count": 146,
          "metadata": {},
          "output_type": "execute_result"
        }
      ],
      "source": [
        "newdf.loc[(newdf['A']<0.3)] #to take data as per conditions"
      ]
    },
    {
      "cell_type": "code",
      "execution_count": null,
      "metadata": {
        "colab": {
          "base_uri": "https://localhost:8080/"
        },
        "id": "AMt3RAljB94n",
        "outputId": "649d4d27-1b03-4071-8800-b263f1811c68"
      },
      "outputs": [
        {
          "data": {
            "text/plain": [
              "0.5140678551557125"
            ]
          },
          "execution_count": 147,
          "metadata": {},
          "output_type": "execute_result"
        }
      ],
      "source": [
        "newdf.iloc[0,4] #if work throgh index"
      ]
    },
    {
      "cell_type": "code",
      "execution_count": null,
      "metadata": {
        "colab": {
          "base_uri": "https://localhost:8080/",
          "height": 112
        },
        "id": "BSmMWi5hB905",
        "outputId": "93e5acdd-9d24-49dc-9fda-9fc04239049d"
      },
      "outputs": [
        {
          "data": {
            "text/html": [
              "\n",
              "  <div id=\"df-ccc10b0c-9f18-42e4-8802-88563a1b1729\">\n",
              "    <div class=\"colab-df-container\">\n",
              "      <div>\n",
              "<style scoped>\n",
              "    .dataframe tbody tr th:only-of-type {\n",
              "        vertical-align: middle;\n",
              "    }\n",
              "\n",
              "    .dataframe tbody tr th {\n",
              "        vertical-align: top;\n",
              "    }\n",
              "\n",
              "    .dataframe thead th {\n",
              "        text-align: right;\n",
              "    }\n",
              "</style>\n",
              "<table border=\"1\" class=\"dataframe\">\n",
              "  <thead>\n",
              "    <tr style=\"text-align: right;\">\n",
              "      <th></th>\n",
              "      <th>B</th>\n",
              "      <th>C</th>\n",
              "    </tr>\n",
              "  </thead>\n",
              "  <tbody>\n",
              "    <tr>\n",
              "      <th>0</th>\n",
              "      <td>0.983401</td>\n",
              "      <td>0.449741</td>\n",
              "    </tr>\n",
              "    <tr>\n",
              "      <th>5</th>\n",
              "      <td>0.252947</td>\n",
              "      <td>0.715182</td>\n",
              "    </tr>\n",
              "  </tbody>\n",
              "</table>\n",
              "</div>\n",
              "      <button class=\"colab-df-convert\" onclick=\"convertToInteractive('df-ccc10b0c-9f18-42e4-8802-88563a1b1729')\"\n",
              "              title=\"Convert this dataframe to an interactive table.\"\n",
              "              style=\"display:none;\">\n",
              "        \n",
              "  <svg xmlns=\"http://www.w3.org/2000/svg\" height=\"24px\"viewBox=\"0 0 24 24\"\n",
              "       width=\"24px\">\n",
              "    <path d=\"M0 0h24v24H0V0z\" fill=\"none\"/>\n",
              "    <path d=\"M18.56 5.44l.94 2.06.94-2.06 2.06-.94-2.06-.94-.94-2.06-.94 2.06-2.06.94zm-11 1L8.5 8.5l.94-2.06 2.06-.94-2.06-.94L8.5 2.5l-.94 2.06-2.06.94zm10 10l.94 2.06.94-2.06 2.06-.94-2.06-.94-.94-2.06-.94 2.06-2.06.94z\"/><path d=\"M17.41 7.96l-1.37-1.37c-.4-.4-.92-.59-1.43-.59-.52 0-1.04.2-1.43.59L10.3 9.45l-7.72 7.72c-.78.78-.78 2.05 0 2.83L4 21.41c.39.39.9.59 1.41.59.51 0 1.02-.2 1.41-.59l7.78-7.78 2.81-2.81c.8-.78.8-2.07 0-2.86zM5.41 20L4 18.59l7.72-7.72 1.47 1.35L5.41 20z\"/>\n",
              "  </svg>\n",
              "      </button>\n",
              "      \n",
              "  <style>\n",
              "    .colab-df-container {\n",
              "      display:flex;\n",
              "      flex-wrap:wrap;\n",
              "      gap: 12px;\n",
              "    }\n",
              "\n",
              "    .colab-df-convert {\n",
              "      background-color: #E8F0FE;\n",
              "      border: none;\n",
              "      border-radius: 50%;\n",
              "      cursor: pointer;\n",
              "      display: none;\n",
              "      fill: #1967D2;\n",
              "      height: 32px;\n",
              "      padding: 0 0 0 0;\n",
              "      width: 32px;\n",
              "    }\n",
              "\n",
              "    .colab-df-convert:hover {\n",
              "      background-color: #E2EBFA;\n",
              "      box-shadow: 0px 1px 2px rgba(60, 64, 67, 0.3), 0px 1px 3px 1px rgba(60, 64, 67, 0.15);\n",
              "      fill: #174EA6;\n",
              "    }\n",
              "\n",
              "    [theme=dark] .colab-df-convert {\n",
              "      background-color: #3B4455;\n",
              "      fill: #D2E3FC;\n",
              "    }\n",
              "\n",
              "    [theme=dark] .colab-df-convert:hover {\n",
              "      background-color: #434B5C;\n",
              "      box-shadow: 0px 1px 3px 1px rgba(0, 0, 0, 0.15);\n",
              "      filter: drop-shadow(0px 1px 2px rgba(0, 0, 0, 0.3));\n",
              "      fill: #FFFFFF;\n",
              "    }\n",
              "  </style>\n",
              "\n",
              "      <script>\n",
              "        const buttonEl =\n",
              "          document.querySelector('#df-ccc10b0c-9f18-42e4-8802-88563a1b1729 button.colab-df-convert');\n",
              "        buttonEl.style.display =\n",
              "          google.colab.kernel.accessAllowed ? 'block' : 'none';\n",
              "\n",
              "        async function convertToInteractive(key) {\n",
              "          const element = document.querySelector('#df-ccc10b0c-9f18-42e4-8802-88563a1b1729');\n",
              "          const dataTable =\n",
              "            await google.colab.kernel.invokeFunction('convertToInteractive',\n",
              "                                                     [key], {});\n",
              "          if (!dataTable) return;\n",
              "\n",
              "          const docLinkHtml = 'Like what you see? Visit the ' +\n",
              "            '<a target=\"_blank\" href=https://colab.research.google.com/notebooks/data_table.ipynb>data table notebook</a>'\n",
              "            + ' to learn more about interactive tables.';\n",
              "          element.innerHTML = '';\n",
              "          dataTable['output_type'] = 'display_data';\n",
              "          await google.colab.output.renderOutput(dataTable, element);\n",
              "          const docLink = document.createElement('div');\n",
              "          docLink.innerHTML = docLinkHtml;\n",
              "          element.appendChild(docLink);\n",
              "        }\n",
              "      </script>\n",
              "    </div>\n",
              "  </div>\n",
              "  "
            ],
            "text/plain": [
              "          B         C\n",
              "0  0.983401  0.449741\n",
              "5  0.252947  0.715182"
            ]
          },
          "execution_count": 148,
          "metadata": {},
          "output_type": "execute_result"
        }
      ],
      "source": [
        "newdf.iloc[[0,5],[1,2]]"
      ]
    },
    {
      "cell_type": "code",
      "execution_count": null,
      "metadata": {
        "colab": {
          "base_uri": "https://localhost:8080/",
          "height": 143
        },
        "id": "KoPmoF9uB9yB",
        "outputId": "1f4bdb55-5eda-401c-8175-b49c3381efec"
      },
      "outputs": [
        {
          "data": {
            "text/html": [
              "\n",
              "  <div id=\"df-f4c2346c-bf50-4032-a94a-10a7bb970c56\">\n",
              "    <div class=\"colab-df-container\">\n",
              "      <div>\n",
              "<style scoped>\n",
              "    .dataframe tbody tr th:only-of-type {\n",
              "        vertical-align: middle;\n",
              "    }\n",
              "\n",
              "    .dataframe tbody tr th {\n",
              "        vertical-align: top;\n",
              "    }\n",
              "\n",
              "    .dataframe thead th {\n",
              "        text-align: right;\n",
              "    }\n",
              "</style>\n",
              "<table border=\"1\" class=\"dataframe\">\n",
              "  <thead>\n",
              "    <tr style=\"text-align: right;\">\n",
              "      <th></th>\n",
              "      <th>A</th>\n",
              "      <th>B</th>\n",
              "      <th>C</th>\n",
              "      <th>D</th>\n",
              "      <th>E</th>\n",
              "    </tr>\n",
              "  </thead>\n",
              "  <tbody>\n",
              "    <tr>\n",
              "      <th>0</th>\n",
              "      <td>654455</td>\n",
              "      <td>0.983401</td>\n",
              "      <td>0.449741</td>\n",
              "      <td>0.077917</td>\n",
              "      <td>0.514068</td>\n",
              "    </tr>\n",
              "    <tr>\n",
              "      <th>1</th>\n",
              "      <td>0.479697</td>\n",
              "      <td>0.661174</td>\n",
              "      <td>0.742659</td>\n",
              "      <td>0.010939</td>\n",
              "      <td>0.172327</td>\n",
              "    </tr>\n",
              "    <tr>\n",
              "      <th>2</th>\n",
              "      <td>0.780938</td>\n",
              "      <td>0.533115</td>\n",
              "      <td>0.660962</td>\n",
              "      <td>0.897872</td>\n",
              "      <td>0.061047</td>\n",
              "    </tr>\n",
              "  </tbody>\n",
              "</table>\n",
              "</div>\n",
              "      <button class=\"colab-df-convert\" onclick=\"convertToInteractive('df-f4c2346c-bf50-4032-a94a-10a7bb970c56')\"\n",
              "              title=\"Convert this dataframe to an interactive table.\"\n",
              "              style=\"display:none;\">\n",
              "        \n",
              "  <svg xmlns=\"http://www.w3.org/2000/svg\" height=\"24px\"viewBox=\"0 0 24 24\"\n",
              "       width=\"24px\">\n",
              "    <path d=\"M0 0h24v24H0V0z\" fill=\"none\"/>\n",
              "    <path d=\"M18.56 5.44l.94 2.06.94-2.06 2.06-.94-2.06-.94-.94-2.06-.94 2.06-2.06.94zm-11 1L8.5 8.5l.94-2.06 2.06-.94-2.06-.94L8.5 2.5l-.94 2.06-2.06.94zm10 10l.94 2.06.94-2.06 2.06-.94-2.06-.94-.94-2.06-.94 2.06-2.06.94z\"/><path d=\"M17.41 7.96l-1.37-1.37c-.4-.4-.92-.59-1.43-.59-.52 0-1.04.2-1.43.59L10.3 9.45l-7.72 7.72c-.78.78-.78 2.05 0 2.83L4 21.41c.39.39.9.59 1.41.59.51 0 1.02-.2 1.41-.59l7.78-7.78 2.81-2.81c.8-.78.8-2.07 0-2.86zM5.41 20L4 18.59l7.72-7.72 1.47 1.35L5.41 20z\"/>\n",
              "  </svg>\n",
              "      </button>\n",
              "      \n",
              "  <style>\n",
              "    .colab-df-container {\n",
              "      display:flex;\n",
              "      flex-wrap:wrap;\n",
              "      gap: 12px;\n",
              "    }\n",
              "\n",
              "    .colab-df-convert {\n",
              "      background-color: #E8F0FE;\n",
              "      border: none;\n",
              "      border-radius: 50%;\n",
              "      cursor: pointer;\n",
              "      display: none;\n",
              "      fill: #1967D2;\n",
              "      height: 32px;\n",
              "      padding: 0 0 0 0;\n",
              "      width: 32px;\n",
              "    }\n",
              "\n",
              "    .colab-df-convert:hover {\n",
              "      background-color: #E2EBFA;\n",
              "      box-shadow: 0px 1px 2px rgba(60, 64, 67, 0.3), 0px 1px 3px 1px rgba(60, 64, 67, 0.15);\n",
              "      fill: #174EA6;\n",
              "    }\n",
              "\n",
              "    [theme=dark] .colab-df-convert {\n",
              "      background-color: #3B4455;\n",
              "      fill: #D2E3FC;\n",
              "    }\n",
              "\n",
              "    [theme=dark] .colab-df-convert:hover {\n",
              "      background-color: #434B5C;\n",
              "      box-shadow: 0px 1px 3px 1px rgba(0, 0, 0, 0.15);\n",
              "      filter: drop-shadow(0px 1px 2px rgba(0, 0, 0, 0.3));\n",
              "      fill: #FFFFFF;\n",
              "    }\n",
              "  </style>\n",
              "\n",
              "      <script>\n",
              "        const buttonEl =\n",
              "          document.querySelector('#df-f4c2346c-bf50-4032-a94a-10a7bb970c56 button.colab-df-convert');\n",
              "        buttonEl.style.display =\n",
              "          google.colab.kernel.accessAllowed ? 'block' : 'none';\n",
              "\n",
              "        async function convertToInteractive(key) {\n",
              "          const element = document.querySelector('#df-f4c2346c-bf50-4032-a94a-10a7bb970c56');\n",
              "          const dataTable =\n",
              "            await google.colab.kernel.invokeFunction('convertToInteractive',\n",
              "                                                     [key], {});\n",
              "          if (!dataTable) return;\n",
              "\n",
              "          const docLinkHtml = 'Like what you see? Visit the ' +\n",
              "            '<a target=\"_blank\" href=https://colab.research.google.com/notebooks/data_table.ipynb>data table notebook</a>'\n",
              "            + ' to learn more about interactive tables.';\n",
              "          element.innerHTML = '';\n",
              "          dataTable['output_type'] = 'display_data';\n",
              "          await google.colab.output.renderOutput(dataTable, element);\n",
              "          const docLink = document.createElement('div');\n",
              "          docLink.innerHTML = docLinkHtml;\n",
              "          element.appendChild(docLink);\n",
              "        }\n",
              "      </script>\n",
              "    </div>\n",
              "  </div>\n",
              "  "
            ],
            "text/plain": [
              "          A         B         C         D         E\n",
              "0    654455  0.983401  0.449741  0.077917  0.514068\n",
              "1  0.479697  0.661174  0.742659  0.010939  0.172327\n",
              "2  0.780938  0.533115  0.660962  0.897872  0.061047"
            ]
          },
          "execution_count": 149,
          "metadata": {},
          "output_type": "execute_result"
        }
      ],
      "source": [
        "newdf.head(3)"
      ]
    },
    {
      "cell_type": "code",
      "execution_count": null,
      "metadata": {
        "colab": {
          "base_uri": "https://localhost:8080/",
          "height": 424
        },
        "id": "L9W7lZ9YB9ty",
        "outputId": "a46aa38e-f311-4a94-b865-aa2274c6b06a"
      },
      "outputs": [
        {
          "data": {
            "text/html": [
              "\n",
              "  <div id=\"df-311641a1-c7c0-405c-903d-7ac08c8fae52\">\n",
              "    <div class=\"colab-df-container\">\n",
              "      <div>\n",
              "<style scoped>\n",
              "    .dataframe tbody tr th:only-of-type {\n",
              "        vertical-align: middle;\n",
              "    }\n",
              "\n",
              "    .dataframe tbody tr th {\n",
              "        vertical-align: top;\n",
              "    }\n",
              "\n",
              "    .dataframe thead th {\n",
              "        text-align: right;\n",
              "    }\n",
              "</style>\n",
              "<table border=\"1\" class=\"dataframe\">\n",
              "  <thead>\n",
              "    <tr style=\"text-align: right;\">\n",
              "      <th></th>\n",
              "      <th>A</th>\n",
              "      <th>B</th>\n",
              "      <th>C</th>\n",
              "      <th>D</th>\n",
              "      <th>E</th>\n",
              "    </tr>\n",
              "  </thead>\n",
              "  <tbody>\n",
              "    <tr>\n",
              "      <th>0</th>\n",
              "      <td>654455</td>\n",
              "      <td>0.983401</td>\n",
              "      <td>0.449741</td>\n",
              "      <td>0.077917</td>\n",
              "      <td>0.514068</td>\n",
              "    </tr>\n",
              "    <tr>\n",
              "      <th>2</th>\n",
              "      <td>0.780938</td>\n",
              "      <td>0.533115</td>\n",
              "      <td>0.660962</td>\n",
              "      <td>0.897872</td>\n",
              "      <td>0.061047</td>\n",
              "    </tr>\n",
              "    <tr>\n",
              "      <th>3</th>\n",
              "      <td>0.512533</td>\n",
              "      <td>0.479802</td>\n",
              "      <td>0.730971</td>\n",
              "      <td>0.335466</td>\n",
              "      <td>0.639821</td>\n",
              "    </tr>\n",
              "    <tr>\n",
              "      <th>4</th>\n",
              "      <td>0.918267</td>\n",
              "      <td>0.178420</td>\n",
              "      <td>0.055605</td>\n",
              "      <td>0.958090</td>\n",
              "      <td>0.911738</td>\n",
              "    </tr>\n",
              "    <tr>\n",
              "      <th>5</th>\n",
              "      <td>0.333351</td>\n",
              "      <td>0.252947</td>\n",
              "      <td>0.715182</td>\n",
              "      <td>0.887943</td>\n",
              "      <td>0.358662</td>\n",
              "    </tr>\n",
              "    <tr>\n",
              "      <th>...</th>\n",
              "      <td>...</td>\n",
              "      <td>...</td>\n",
              "      <td>...</td>\n",
              "      <td>...</td>\n",
              "      <td>...</td>\n",
              "    </tr>\n",
              "    <tr>\n",
              "      <th>329</th>\n",
              "      <td>0.168249</td>\n",
              "      <td>0.865366</td>\n",
              "      <td>0.696239</td>\n",
              "      <td>0.233332</td>\n",
              "      <td>0.071001</td>\n",
              "    </tr>\n",
              "    <tr>\n",
              "      <th>330</th>\n",
              "      <td>0.280925</td>\n",
              "      <td>0.885960</td>\n",
              "      <td>0.461729</td>\n",
              "      <td>0.079684</td>\n",
              "      <td>0.524113</td>\n",
              "    </tr>\n",
              "    <tr>\n",
              "      <th>331</th>\n",
              "      <td>0.586365</td>\n",
              "      <td>0.373679</td>\n",
              "      <td>0.168448</td>\n",
              "      <td>0.262728</td>\n",
              "      <td>0.825650</td>\n",
              "    </tr>\n",
              "    <tr>\n",
              "      <th>332</th>\n",
              "      <td>0.712107</td>\n",
              "      <td>0.925364</td>\n",
              "      <td>0.007490</td>\n",
              "      <td>0.050630</td>\n",
              "      <td>0.380239</td>\n",
              "    </tr>\n",
              "    <tr>\n",
              "      <th>333</th>\n",
              "      <td>0.278535</td>\n",
              "      <td>0.739713</td>\n",
              "      <td>0.800227</td>\n",
              "      <td>0.998590</td>\n",
              "      <td>0.664965</td>\n",
              "    </tr>\n",
              "  </tbody>\n",
              "</table>\n",
              "<p>333 rows × 5 columns</p>\n",
              "</div>\n",
              "      <button class=\"colab-df-convert\" onclick=\"convertToInteractive('df-311641a1-c7c0-405c-903d-7ac08c8fae52')\"\n",
              "              title=\"Convert this dataframe to an interactive table.\"\n",
              "              style=\"display:none;\">\n",
              "        \n",
              "  <svg xmlns=\"http://www.w3.org/2000/svg\" height=\"24px\"viewBox=\"0 0 24 24\"\n",
              "       width=\"24px\">\n",
              "    <path d=\"M0 0h24v24H0V0z\" fill=\"none\"/>\n",
              "    <path d=\"M18.56 5.44l.94 2.06.94-2.06 2.06-.94-2.06-.94-.94-2.06-.94 2.06-2.06.94zm-11 1L8.5 8.5l.94-2.06 2.06-.94-2.06-.94L8.5 2.5l-.94 2.06-2.06.94zm10 10l.94 2.06.94-2.06 2.06-.94-2.06-.94-.94-2.06-.94 2.06-2.06.94z\"/><path d=\"M17.41 7.96l-1.37-1.37c-.4-.4-.92-.59-1.43-.59-.52 0-1.04.2-1.43.59L10.3 9.45l-7.72 7.72c-.78.78-.78 2.05 0 2.83L4 21.41c.39.39.9.59 1.41.59.51 0 1.02-.2 1.41-.59l7.78-7.78 2.81-2.81c.8-.78.8-2.07 0-2.86zM5.41 20L4 18.59l7.72-7.72 1.47 1.35L5.41 20z\"/>\n",
              "  </svg>\n",
              "      </button>\n",
              "      \n",
              "  <style>\n",
              "    .colab-df-container {\n",
              "      display:flex;\n",
              "      flex-wrap:wrap;\n",
              "      gap: 12px;\n",
              "    }\n",
              "\n",
              "    .colab-df-convert {\n",
              "      background-color: #E8F0FE;\n",
              "      border: none;\n",
              "      border-radius: 50%;\n",
              "      cursor: pointer;\n",
              "      display: none;\n",
              "      fill: #1967D2;\n",
              "      height: 32px;\n",
              "      padding: 0 0 0 0;\n",
              "      width: 32px;\n",
              "    }\n",
              "\n",
              "    .colab-df-convert:hover {\n",
              "      background-color: #E2EBFA;\n",
              "      box-shadow: 0px 1px 2px rgba(60, 64, 67, 0.3), 0px 1px 3px 1px rgba(60, 64, 67, 0.15);\n",
              "      fill: #174EA6;\n",
              "    }\n",
              "\n",
              "    [theme=dark] .colab-df-convert {\n",
              "      background-color: #3B4455;\n",
              "      fill: #D2E3FC;\n",
              "    }\n",
              "\n",
              "    [theme=dark] .colab-df-convert:hover {\n",
              "      background-color: #434B5C;\n",
              "      box-shadow: 0px 1px 3px 1px rgba(0, 0, 0, 0.15);\n",
              "      filter: drop-shadow(0px 1px 2px rgba(0, 0, 0, 0.3));\n",
              "      fill: #FFFFFF;\n",
              "    }\n",
              "  </style>\n",
              "\n",
              "      <script>\n",
              "        const buttonEl =\n",
              "          document.querySelector('#df-311641a1-c7c0-405c-903d-7ac08c8fae52 button.colab-df-convert');\n",
              "        buttonEl.style.display =\n",
              "          google.colab.kernel.accessAllowed ? 'block' : 'none';\n",
              "\n",
              "        async function convertToInteractive(key) {\n",
              "          const element = document.querySelector('#df-311641a1-c7c0-405c-903d-7ac08c8fae52');\n",
              "          const dataTable =\n",
              "            await google.colab.kernel.invokeFunction('convertToInteractive',\n",
              "                                                     [key], {});\n",
              "          if (!dataTable) return;\n",
              "\n",
              "          const docLinkHtml = 'Like what you see? Visit the ' +\n",
              "            '<a target=\"_blank\" href=https://colab.research.google.com/notebooks/data_table.ipynb>data table notebook</a>'\n",
              "            + ' to learn more about interactive tables.';\n",
              "          element.innerHTML = '';\n",
              "          dataTable['output_type'] = 'display_data';\n",
              "          await google.colab.output.renderOutput(dataTable, element);\n",
              "          const docLink = document.createElement('div');\n",
              "          docLink.innerHTML = docLinkHtml;\n",
              "          element.appendChild(docLink);\n",
              "        }\n",
              "      </script>\n",
              "    </div>\n",
              "  </div>\n",
              "  "
            ],
            "text/plain": [
              "            A         B         C         D         E\n",
              "0      654455  0.983401  0.449741  0.077917  0.514068\n",
              "2    0.780938  0.533115  0.660962  0.897872  0.061047\n",
              "3    0.512533  0.479802  0.730971  0.335466  0.639821\n",
              "4    0.918267  0.178420  0.055605  0.958090  0.911738\n",
              "5    0.333351  0.252947  0.715182  0.887943  0.358662\n",
              "..        ...       ...       ...       ...       ...\n",
              "329  0.168249  0.865366  0.696239  0.233332  0.071001\n",
              "330  0.280925  0.885960  0.461729  0.079684  0.524113\n",
              "331  0.586365  0.373679  0.168448  0.262728  0.825650\n",
              "332  0.712107  0.925364  0.007490  0.050630  0.380239\n",
              "333  0.278535  0.739713  0.800227  0.998590  0.664965\n",
              "\n",
              "[333 rows x 5 columns]"
            ]
          },
          "execution_count": 153,
          "metadata": {},
          "output_type": "execute_result"
        }
      ],
      "source": [
        "newdf.drop([1]) #to drop a row"
      ]
    },
    {
      "cell_type": "code",
      "execution_count": null,
      "metadata": {
        "colab": {
          "base_uri": "https://localhost:8080/",
          "height": 424
        },
        "id": "X1PwD3kHB9rk",
        "outputId": "8aae6880-4f6b-4748-c032-4756eb2e8588"
      },
      "outputs": [
        {
          "data": {
            "text/html": [
              "\n",
              "  <div id=\"df-adbd5b86-70cf-4597-8f39-1074269f94a3\">\n",
              "    <div class=\"colab-df-container\">\n",
              "      <div>\n",
              "<style scoped>\n",
              "    .dataframe tbody tr th:only-of-type {\n",
              "        vertical-align: middle;\n",
              "    }\n",
              "\n",
              "    .dataframe tbody tr th {\n",
              "        vertical-align: top;\n",
              "    }\n",
              "\n",
              "    .dataframe thead th {\n",
              "        text-align: right;\n",
              "    }\n",
              "</style>\n",
              "<table border=\"1\" class=\"dataframe\">\n",
              "  <thead>\n",
              "    <tr style=\"text-align: right;\">\n",
              "      <th></th>\n",
              "      <th>B</th>\n",
              "      <th>D</th>\n",
              "      <th>E</th>\n",
              "    </tr>\n",
              "  </thead>\n",
              "  <tbody>\n",
              "    <tr>\n",
              "      <th>0</th>\n",
              "      <td>0.983401</td>\n",
              "      <td>0.077917</td>\n",
              "      <td>0.514068</td>\n",
              "    </tr>\n",
              "    <tr>\n",
              "      <th>1</th>\n",
              "      <td>0.661174</td>\n",
              "      <td>0.010939</td>\n",
              "      <td>0.172327</td>\n",
              "    </tr>\n",
              "    <tr>\n",
              "      <th>2</th>\n",
              "      <td>0.533115</td>\n",
              "      <td>0.897872</td>\n",
              "      <td>0.061047</td>\n",
              "    </tr>\n",
              "    <tr>\n",
              "      <th>3</th>\n",
              "      <td>0.479802</td>\n",
              "      <td>0.335466</td>\n",
              "      <td>0.639821</td>\n",
              "    </tr>\n",
              "    <tr>\n",
              "      <th>4</th>\n",
              "      <td>0.178420</td>\n",
              "      <td>0.958090</td>\n",
              "      <td>0.911738</td>\n",
              "    </tr>\n",
              "    <tr>\n",
              "      <th>...</th>\n",
              "      <td>...</td>\n",
              "      <td>...</td>\n",
              "      <td>...</td>\n",
              "    </tr>\n",
              "    <tr>\n",
              "      <th>329</th>\n",
              "      <td>0.865366</td>\n",
              "      <td>0.233332</td>\n",
              "      <td>0.071001</td>\n",
              "    </tr>\n",
              "    <tr>\n",
              "      <th>330</th>\n",
              "      <td>0.885960</td>\n",
              "      <td>0.079684</td>\n",
              "      <td>0.524113</td>\n",
              "    </tr>\n",
              "    <tr>\n",
              "      <th>331</th>\n",
              "      <td>0.373679</td>\n",
              "      <td>0.262728</td>\n",
              "      <td>0.825650</td>\n",
              "    </tr>\n",
              "    <tr>\n",
              "      <th>332</th>\n",
              "      <td>0.925364</td>\n",
              "      <td>0.050630</td>\n",
              "      <td>0.380239</td>\n",
              "    </tr>\n",
              "    <tr>\n",
              "      <th>333</th>\n",
              "      <td>0.739713</td>\n",
              "      <td>0.998590</td>\n",
              "      <td>0.664965</td>\n",
              "    </tr>\n",
              "  </tbody>\n",
              "</table>\n",
              "<p>334 rows × 3 columns</p>\n",
              "</div>\n",
              "      <button class=\"colab-df-convert\" onclick=\"convertToInteractive('df-adbd5b86-70cf-4597-8f39-1074269f94a3')\"\n",
              "              title=\"Convert this dataframe to an interactive table.\"\n",
              "              style=\"display:none;\">\n",
              "        \n",
              "  <svg xmlns=\"http://www.w3.org/2000/svg\" height=\"24px\"viewBox=\"0 0 24 24\"\n",
              "       width=\"24px\">\n",
              "    <path d=\"M0 0h24v24H0V0z\" fill=\"none\"/>\n",
              "    <path d=\"M18.56 5.44l.94 2.06.94-2.06 2.06-.94-2.06-.94-.94-2.06-.94 2.06-2.06.94zm-11 1L8.5 8.5l.94-2.06 2.06-.94-2.06-.94L8.5 2.5l-.94 2.06-2.06.94zm10 10l.94 2.06.94-2.06 2.06-.94-2.06-.94-.94-2.06-.94 2.06-2.06.94z\"/><path d=\"M17.41 7.96l-1.37-1.37c-.4-.4-.92-.59-1.43-.59-.52 0-1.04.2-1.43.59L10.3 9.45l-7.72 7.72c-.78.78-.78 2.05 0 2.83L4 21.41c.39.39.9.59 1.41.59.51 0 1.02-.2 1.41-.59l7.78-7.78 2.81-2.81c.8-.78.8-2.07 0-2.86zM5.41 20L4 18.59l7.72-7.72 1.47 1.35L5.41 20z\"/>\n",
              "  </svg>\n",
              "      </button>\n",
              "      \n",
              "  <style>\n",
              "    .colab-df-container {\n",
              "      display:flex;\n",
              "      flex-wrap:wrap;\n",
              "      gap: 12px;\n",
              "    }\n",
              "\n",
              "    .colab-df-convert {\n",
              "      background-color: #E8F0FE;\n",
              "      border: none;\n",
              "      border-radius: 50%;\n",
              "      cursor: pointer;\n",
              "      display: none;\n",
              "      fill: #1967D2;\n",
              "      height: 32px;\n",
              "      padding: 0 0 0 0;\n",
              "      width: 32px;\n",
              "    }\n",
              "\n",
              "    .colab-df-convert:hover {\n",
              "      background-color: #E2EBFA;\n",
              "      box-shadow: 0px 1px 2px rgba(60, 64, 67, 0.3), 0px 1px 3px 1px rgba(60, 64, 67, 0.15);\n",
              "      fill: #174EA6;\n",
              "    }\n",
              "\n",
              "    [theme=dark] .colab-df-convert {\n",
              "      background-color: #3B4455;\n",
              "      fill: #D2E3FC;\n",
              "    }\n",
              "\n",
              "    [theme=dark] .colab-df-convert:hover {\n",
              "      background-color: #434B5C;\n",
              "      box-shadow: 0px 1px 3px 1px rgba(0, 0, 0, 0.15);\n",
              "      filter: drop-shadow(0px 1px 2px rgba(0, 0, 0, 0.3));\n",
              "      fill: #FFFFFF;\n",
              "    }\n",
              "  </style>\n",
              "\n",
              "      <script>\n",
              "        const buttonEl =\n",
              "          document.querySelector('#df-adbd5b86-70cf-4597-8f39-1074269f94a3 button.colab-df-convert');\n",
              "        buttonEl.style.display =\n",
              "          google.colab.kernel.accessAllowed ? 'block' : 'none';\n",
              "\n",
              "        async function convertToInteractive(key) {\n",
              "          const element = document.querySelector('#df-adbd5b86-70cf-4597-8f39-1074269f94a3');\n",
              "          const dataTable =\n",
              "            await google.colab.kernel.invokeFunction('convertToInteractive',\n",
              "                                                     [key], {});\n",
              "          if (!dataTable) return;\n",
              "\n",
              "          const docLinkHtml = 'Like what you see? Visit the ' +\n",
              "            '<a target=\"_blank\" href=https://colab.research.google.com/notebooks/data_table.ipynb>data table notebook</a>'\n",
              "            + ' to learn more about interactive tables.';\n",
              "          element.innerHTML = '';\n",
              "          dataTable['output_type'] = 'display_data';\n",
              "          await google.colab.output.renderOutput(dataTable, element);\n",
              "          const docLink = document.createElement('div');\n",
              "          docLink.innerHTML = docLinkHtml;\n",
              "          element.appendChild(docLink);\n",
              "        }\n",
              "      </script>\n",
              "    </div>\n",
              "  </div>\n",
              "  "
            ],
            "text/plain": [
              "            B         D         E\n",
              "0    0.983401  0.077917  0.514068\n",
              "1    0.661174  0.010939  0.172327\n",
              "2    0.533115  0.897872  0.061047\n",
              "3    0.479802  0.335466  0.639821\n",
              "4    0.178420  0.958090  0.911738\n",
              "..        ...       ...       ...\n",
              "329  0.865366  0.233332  0.071001\n",
              "330  0.885960  0.079684  0.524113\n",
              "331  0.373679  0.262728  0.825650\n",
              "332  0.925364  0.050630  0.380239\n",
              "333  0.739713  0.998590  0.664965\n",
              "\n",
              "[334 rows x 3 columns]"
            ]
          },
          "execution_count": 155,
          "metadata": {},
          "output_type": "execute_result"
        }
      ],
      "source": [
        "newdf.drop(['A','C'],axis=1) #to drop a column +dataframe not change becouse newdf= not taken"
      ]
    },
    {
      "cell_type": "code",
      "execution_count": null,
      "metadata": {
        "colab": {
          "base_uri": "https://localhost:8080/",
          "height": 112
        },
        "id": "kgxBeeFwB9oX",
        "outputId": "bb192f32-4bf8-4899-ae52-8e9228af34de"
      },
      "outputs": [
        {
          "data": {
            "text/html": [
              "\n",
              "  <div id=\"df-ce74d5d0-b7d6-4399-bf4c-4fa146c9d04f\">\n",
              "    <div class=\"colab-df-container\">\n",
              "      <div>\n",
              "<style scoped>\n",
              "    .dataframe tbody tr th:only-of-type {\n",
              "        vertical-align: middle;\n",
              "    }\n",
              "\n",
              "    .dataframe tbody tr th {\n",
              "        vertical-align: top;\n",
              "    }\n",
              "\n",
              "    .dataframe thead th {\n",
              "        text-align: right;\n",
              "    }\n",
              "</style>\n",
              "<table border=\"1\" class=\"dataframe\">\n",
              "  <thead>\n",
              "    <tr style=\"text-align: right;\">\n",
              "      <th></th>\n",
              "      <th>A</th>\n",
              "      <th>B</th>\n",
              "      <th>C</th>\n",
              "      <th>D</th>\n",
              "      <th>E</th>\n",
              "    </tr>\n",
              "  </thead>\n",
              "  <tbody>\n",
              "    <tr>\n",
              "      <th>0</th>\n",
              "      <td>654455</td>\n",
              "      <td>0.983401</td>\n",
              "      <td>0.449741</td>\n",
              "      <td>0.077917</td>\n",
              "      <td>0.514068</td>\n",
              "    </tr>\n",
              "    <tr>\n",
              "      <th>1</th>\n",
              "      <td>0.479697</td>\n",
              "      <td>0.661174</td>\n",
              "      <td>0.742659</td>\n",
              "      <td>0.010939</td>\n",
              "      <td>0.172327</td>\n",
              "    </tr>\n",
              "  </tbody>\n",
              "</table>\n",
              "</div>\n",
              "      <button class=\"colab-df-convert\" onclick=\"convertToInteractive('df-ce74d5d0-b7d6-4399-bf4c-4fa146c9d04f')\"\n",
              "              title=\"Convert this dataframe to an interactive table.\"\n",
              "              style=\"display:none;\">\n",
              "        \n",
              "  <svg xmlns=\"http://www.w3.org/2000/svg\" height=\"24px\"viewBox=\"0 0 24 24\"\n",
              "       width=\"24px\">\n",
              "    <path d=\"M0 0h24v24H0V0z\" fill=\"none\"/>\n",
              "    <path d=\"M18.56 5.44l.94 2.06.94-2.06 2.06-.94-2.06-.94-.94-2.06-.94 2.06-2.06.94zm-11 1L8.5 8.5l.94-2.06 2.06-.94-2.06-.94L8.5 2.5l-.94 2.06-2.06.94zm10 10l.94 2.06.94-2.06 2.06-.94-2.06-.94-.94-2.06-.94 2.06-2.06.94z\"/><path d=\"M17.41 7.96l-1.37-1.37c-.4-.4-.92-.59-1.43-.59-.52 0-1.04.2-1.43.59L10.3 9.45l-7.72 7.72c-.78.78-.78 2.05 0 2.83L4 21.41c.39.39.9.59 1.41.59.51 0 1.02-.2 1.41-.59l7.78-7.78 2.81-2.81c.8-.78.8-2.07 0-2.86zM5.41 20L4 18.59l7.72-7.72 1.47 1.35L5.41 20z\"/>\n",
              "  </svg>\n",
              "      </button>\n",
              "      \n",
              "  <style>\n",
              "    .colab-df-container {\n",
              "      display:flex;\n",
              "      flex-wrap:wrap;\n",
              "      gap: 12px;\n",
              "    }\n",
              "\n",
              "    .colab-df-convert {\n",
              "      background-color: #E8F0FE;\n",
              "      border: none;\n",
              "      border-radius: 50%;\n",
              "      cursor: pointer;\n",
              "      display: none;\n",
              "      fill: #1967D2;\n",
              "      height: 32px;\n",
              "      padding: 0 0 0 0;\n",
              "      width: 32px;\n",
              "    }\n",
              "\n",
              "    .colab-df-convert:hover {\n",
              "      background-color: #E2EBFA;\n",
              "      box-shadow: 0px 1px 2px rgba(60, 64, 67, 0.3), 0px 1px 3px 1px rgba(60, 64, 67, 0.15);\n",
              "      fill: #174EA6;\n",
              "    }\n",
              "\n",
              "    [theme=dark] .colab-df-convert {\n",
              "      background-color: #3B4455;\n",
              "      fill: #D2E3FC;\n",
              "    }\n",
              "\n",
              "    [theme=dark] .colab-df-convert:hover {\n",
              "      background-color: #434B5C;\n",
              "      box-shadow: 0px 1px 3px 1px rgba(0, 0, 0, 0.15);\n",
              "      filter: drop-shadow(0px 1px 2px rgba(0, 0, 0, 0.3));\n",
              "      fill: #FFFFFF;\n",
              "    }\n",
              "  </style>\n",
              "\n",
              "      <script>\n",
              "        const buttonEl =\n",
              "          document.querySelector('#df-ce74d5d0-b7d6-4399-bf4c-4fa146c9d04f button.colab-df-convert');\n",
              "        buttonEl.style.display =\n",
              "          google.colab.kernel.accessAllowed ? 'block' : 'none';\n",
              "\n",
              "        async function convertToInteractive(key) {\n",
              "          const element = document.querySelector('#df-ce74d5d0-b7d6-4399-bf4c-4fa146c9d04f');\n",
              "          const dataTable =\n",
              "            await google.colab.kernel.invokeFunction('convertToInteractive',\n",
              "                                                     [key], {});\n",
              "          if (!dataTable) return;\n",
              "\n",
              "          const docLinkHtml = 'Like what you see? Visit the ' +\n",
              "            '<a target=\"_blank\" href=https://colab.research.google.com/notebooks/data_table.ipynb>data table notebook</a>'\n",
              "            + ' to learn more about interactive tables.';\n",
              "          element.innerHTML = '';\n",
              "          dataTable['output_type'] = 'display_data';\n",
              "          await google.colab.output.renderOutput(dataTable, element);\n",
              "          const docLink = document.createElement('div');\n",
              "          docLink.innerHTML = docLinkHtml;\n",
              "          element.appendChild(docLink);\n",
              "        }\n",
              "      </script>\n",
              "    </div>\n",
              "  </div>\n",
              "  "
            ],
            "text/plain": [
              "          A         B         C         D         E\n",
              "0    654455  0.983401  0.449741  0.077917  0.514068\n",
              "1  0.479697  0.661174  0.742659  0.010939  0.172327"
            ]
          },
          "execution_count": 156,
          "metadata": {},
          "output_type": "execute_result"
        }
      ],
      "source": [
        "newdf.head(2)"
      ]
    },
    {
      "cell_type": "code",
      "execution_count": null,
      "metadata": {
        "colab": {
          "base_uri": "https://localhost:8080/"
        },
        "id": "P5Bjyi7sRc7p",
        "outputId": "95fcc442-9710-4b0a-a4ad-d46d7eb22d48"
      },
      "outputs": [
        {
          "data": {
            "text/plain": [
              "0      False\n",
              "1      False\n",
              "2      False\n",
              "3      False\n",
              "4      False\n",
              "       ...  \n",
              "329    False\n",
              "330    False\n",
              "331    False\n",
              "332    False\n",
              "333    False\n",
              "Name: B, Length: 334, dtype: bool"
            ]
          },
          "execution_count": 160,
          "metadata": {},
          "output_type": "execute_result"
        }
      ],
      "source": [
        "newdf['B'].isnull()"
      ]
    },
    {
      "cell_type": "code",
      "execution_count": null,
      "metadata": {
        "colab": {
          "base_uri": "https://localhost:8080/"
        },
        "id": "pTg_YO2kRglB",
        "outputId": "7b0ecd36-30c1-4ea9-8db1-0915cce3ab95"
      },
      "outputs": [
        {
          "data": {
            "text/plain": [
              "0      False\n",
              "1      False\n",
              "2      False\n",
              "3      False\n",
              "4      False\n",
              "       ...  \n",
              "329    False\n",
              "330    False\n",
              "331    False\n",
              "332    False\n",
              "333    False\n",
              "Name: B, Length: 334, dtype: bool"
            ]
          },
          "execution_count": 161,
          "metadata": {},
          "output_type": "execute_result"
        }
      ],
      "source": [
        "newdf['B'].isnull()"
      ]
    },
    {
      "cell_type": "code",
      "execution_count": null,
      "metadata": {
        "id": "5gEB3fG3RgiW"
      },
      "outputs": [],
      "source": []
    },
    {
      "cell_type": "code",
      "execution_count": null,
      "metadata": {
        "id": "81E2j-d5RgfM"
      },
      "outputs": [],
      "source": []
    },
    {
      "cell_type": "code",
      "execution_count": null,
      "metadata": {
        "id": "JeMKkVg9Rgcz"
      },
      "outputs": [],
      "source": []
    },
    {
      "cell_type": "code",
      "execution_count": null,
      "metadata": {
        "id": "25AxQ2WhRgZx"
      },
      "outputs": [],
      "source": []
    },
    {
      "cell_type": "code",
      "execution_count": null,
      "metadata": {
        "id": "GIlFXRXmRgX3"
      },
      "outputs": [],
      "source": []
    },
    {
      "cell_type": "code",
      "execution_count": null,
      "metadata": {
        "id": "XphmQzcXRgVm"
      },
      "outputs": [],
      "source": []
    },
    {
      "cell_type": "code",
      "execution_count": null,
      "metadata": {
        "id": "G0JFpcTiRgM7"
      },
      "outputs": [],
      "source": []
    },
    {
      "cell_type": "code",
      "execution_count": null,
      "metadata": {
        "id": "FYdT6-5aRgIR"
      },
      "outputs": [],
      "source": []
    },
    {
      "cell_type": "code",
      "execution_count": null,
      "metadata": {
        "id": "6ZUXAwMoRgFO"
      },
      "outputs": [],
      "source": []
    },
    {
      "cell_type": "code",
      "execution_count": null,
      "metadata": {
        "id": "QSYP5_nrRgCN"
      },
      "outputs": [],
      "source": []
    },
    {
      "cell_type": "code",
      "execution_count": null,
      "metadata": {
        "id": "6Qn39rSCRf-2"
      },
      "outputs": [],
      "source": []
    },
    {
      "cell_type": "code",
      "execution_count": null,
      "metadata": {
        "id": "-Fa5FLadRf71"
      },
      "outputs": [],
      "source": []
    },
    {
      "cell_type": "code",
      "execution_count": null,
      "metadata": {
        "id": "WoujSEgLRf36"
      },
      "outputs": [],
      "source": []
    },
    {
      "cell_type": "code",
      "execution_count": null,
      "metadata": {
        "id": "6vrImZJVRf0S"
      },
      "outputs": [],
      "source": []
    },
    {
      "cell_type": "code",
      "execution_count": null,
      "metadata": {
        "id": "XVls2bpjRfxb"
      },
      "outputs": [],
      "source": []
    },
    {
      "cell_type": "code",
      "execution_count": null,
      "metadata": {
        "id": "MOPzB3HzRfuF"
      },
      "outputs": [],
      "source": []
    },
    {
      "cell_type": "code",
      "execution_count": null,
      "metadata": {
        "id": "Ti16VhwbRfn6"
      },
      "outputs": [],
      "source": []
    },
    {
      "cell_type": "code",
      "execution_count": null,
      "metadata": {
        "id": "SnU7HoOkRfkj"
      },
      "outputs": [],
      "source": []
    },
    {
      "cell_type": "code",
      "execution_count": null,
      "metadata": {
        "id": "ylbVptPgRc2e"
      },
      "outputs": [],
      "source": []
    },
    {
      "cell_type": "code",
      "execution_count": null,
      "metadata": {
        "id": "s9jUdgxFRcy6"
      },
      "outputs": [],
      "source": []
    },
    {
      "cell_type": "code",
      "execution_count": null,
      "metadata": {
        "colab": {
          "base_uri": "https://localhost:8080/",
          "height": 130
        },
        "id": "qa3i8j9_Ucxa",
        "outputId": "ab44f06d-1402-461c-d570-57a9a4d2f52c"
      },
      "outputs": [
        {
          "ename": "SyntaxError",
          "evalue": "ignored",
          "output_type": "error",
          "traceback": [
            "\u001b[0;36m  File \u001b[0;32m\"<ipython-input-158-fbd79a9ad5d6>\"\u001b[0;36m, line \u001b[0;32m1\u001b[0m\n\u001b[0;31m    newdf.reset_index(drop==True.inplace=True)\u001b[0m\n\u001b[0m                      ^\u001b[0m\n\u001b[0;31mSyntaxError\u001b[0m\u001b[0;31m:\u001b[0m expression cannot contain assignment, perhaps you meant \"==\"?\n"
          ]
        }
      ],
      "source": [
        "newdf.reset_index(drop==True.inplace=True)"
      ]
    },
    {
      "cell_type": "code",
      "execution_count": null,
      "metadata": {
        "colab": {
          "base_uri": "https://localhost:8080/"
        },
        "id": "DaWo7aAnUcvE",
        "outputId": "61314429-6f91-4dcc-ff4e-500879cc6017"
      },
      "outputs": [
        {
          "data": {
            "text/plain": [
              "0      False\n",
              "1      False\n",
              "2      False\n",
              "3      False\n",
              "4      False\n",
              "       ...  \n",
              "329    False\n",
              "330    False\n",
              "331    False\n",
              "332    False\n",
              "333    False\n",
              "Name: B, Length: 334, dtype: bool"
            ]
          },
          "execution_count": 159,
          "metadata": {},
          "output_type": "execute_result"
        }
      ],
      "source": [
        "newdf['B'].isnull()"
      ]
    },
    {
      "cell_type": "code",
      "execution_count": null,
      "metadata": {
        "id": "16ztDwgfzAB0"
      },
      "outputs": [],
      "source": [
        "df.loc[1,1]= 125"
      ]
    },
    {
      "cell_type": "code",
      "execution_count": null,
      "metadata": {
        "id": "ij4l1u5hy__J"
      },
      "outputs": [],
      "source": [
        "df"
      ]
    },
    {
      "cell_type": "code",
      "execution_count": null,
      "metadata": {
        "id": "lGetOLG7y_8b"
      },
      "outputs": [],
      "source": [
        "df.drop(4,axis=4)"
      ]
    },
    {
      "cell_type": "code",
      "execution_count": null,
      "metadata": {
        "id": "mA7NHlWUy_5B"
      },
      "outputs": [],
      "source": [
        "df.loc[[1,2],['C','D']]"
      ]
    },
    {
      "cell_type": "code",
      "execution_count": null,
      "metadata": {
        "id": "0nJ8Z8_-y_2-"
      },
      "outputs": [],
      "source": [
        "newdf.loc[(newdf['A'])]"
      ]
    },
    {
      "cell_type": "code",
      "execution_count": null,
      "metadata": {
        "id": "evZTMLbiy_1t"
      },
      "outputs": [],
      "source": []
    },
    {
      "cell_type": "code",
      "execution_count": null,
      "metadata": {
        "id": "QIpjVqFey_w-"
      },
      "outputs": [],
      "source": []
    },
    {
      "cell_type": "code",
      "execution_count": null,
      "metadata": {
        "id": "SdD1zKSua1dT"
      },
      "outputs": [],
      "source": []
    },
    {
      "cell_type": "markdown",
      "metadata": {
        "id": "MZa1B1ByiaEM"
      },
      "source": [
        "# DSA\n"
      ]
    },
    {
      "cell_type": "markdown",
      "metadata": {
        "id": "keKr8DZcih6y"
      },
      "source": [
        "Recurssion"
      ]
    },
    {
      "cell_type": "code",
      "execution_count": null,
      "metadata": {
        "id": "5Ki3haZQihBE"
      },
      "outputs": [],
      "source": [
        "def printIncreasing(a, b):\n",
        "    if a > b:\n",
        "        return\n",
        "\n",
        "    print(a)\n",
        "    printIncreasing(a + 1, b)"
      ]
    },
    {
      "cell_type": "code",
      "execution_count": null,
      "metadata": {
        "colab": {
          "base_uri": "https://localhost:8080/"
        },
        "id": "umky8m5fjlwR",
        "outputId": "53075ac2-7471-4f47-f4b7-5f38950a2348"
      },
      "outputs": [
        {
          "name": "stdout",
          "output_type": "stream",
          "text": [
            "3\n"
          ]
        }
      ],
      "source": [
        "def count8(num):\n",
        "  if num == 0:\n",
        "    return 0\n",
        "\n",
        "  counts = count8(num // 10)\n",
        "  digit = num % 10\n",
        "\n",
        "  return counts if (num % 10 != 8) else counts + 1\n",
        "\n",
        "print(count8(8188))"
      ]
    },
    {
      "cell_type": "code",
      "execution_count": null,
      "metadata": {
        "colab": {
          "base_uri": "https://localhost:8080/"
        },
        "id": "oyEmisGPn6ED",
        "outputId": "a2526648-04bf-4a1b-a8f5-6d22f8ba9868"
      },
      "outputs": [
        {
          "name": "stdout",
          "output_type": "stream",
          "text": [
            "6765\n"
          ]
        }
      ],
      "source": [
        "def fibo(n):\n",
        "  if n <= 1:\n",
        "    return n\n",
        "  else:\n",
        "    return fibo(n-1)+fibo(n-2)\n",
        "\n",
        "print(fibo(20))"
      ]
    },
    {
      "cell_type": "markdown",
      "metadata": {
        "id": "jKrHDRF_Lixm"
      },
      "source": [
        "Write a Python program to calculate the sum of a list of numbers."
      ]
    },
    {
      "cell_type": "code",
      "execution_count": null,
      "metadata": {
        "colab": {
          "base_uri": "https://localhost:8080/"
        },
        "id": "xQPpHDiEzqv1",
        "outputId": "35b3cf5f-44f6-4b97-ee90-25c2c993727c"
      },
      "outputs": [
        {
          "name": "stdout",
          "output_type": "stream",
          "text": [
            "24\n"
          ]
        }
      ],
      "source": [
        "def sumlist(num_list):\n",
        "  if len(num_list) == 1:\n",
        "    return num_list[0]\n",
        "  else:\n",
        "    return num_list[0] + sumlist(num_list[1:])\n",
        "\n",
        "num_list = [2,4,5,6,7]\n",
        "print(sumlist(num_list))"
      ]
    },
    {
      "cell_type": "markdown",
      "metadata": {
        "id": "M4_zO29NOUVp"
      },
      "source": [
        "Write a Python program to convert an integer to a string in any base."
      ]
    },
    {
      "cell_type": "code",
      "execution_count": null,
      "metadata": {
        "colab": {
          "base_uri": "https://localhost:8080/"
        },
        "id": "3U3W9YH_Lny7",
        "outputId": "e68c2308-cd8a-4e0b-c10e-f68594f3cc58"
      },
      "outputs": [
        {
          "name": "stdout",
          "output_type": "stream",
          "text": [
            "B13\n"
          ]
        }
      ],
      "source": [
        "def to_string(n,base):\n",
        "   conver_tString = \"0123456789ABCDEF\"\n",
        "   if n < base:\n",
        "      return conver_tString[n]\n",
        "   else:\n",
        "      return to_string(n//base,base) + conver_tString[n % base]\n",
        "\n",
        "print(to_string(2835,16))"
      ]
    },
    {
      "cell_type": "markdown",
      "metadata": {
        "id": "bmZC5Ik8RK-9"
      },
      "source": [
        "Write a Python program to sum recursion lists."
      ]
    },
    {
      "cell_type": "code",
      "execution_count": null,
      "metadata": {
        "colab": {
          "base_uri": "https://localhost:8080/"
        },
        "id": "6fJuVEahLnv-",
        "outputId": "879ef2f9-b585-42f3-f808-761a3e5103a2"
      },
      "outputs": [
        {
          "name": "stdout",
          "output_type": "stream",
          "text": [
            "23\n"
          ]
        }
      ],
      "source": [
        "def sumelement(list1):\n",
        "  total = 0\n",
        "  for elemnt in list1:\n",
        "    if type(elemnt) == type([]):\n",
        "      total = total + sumelement(elemnt)\n",
        "    else:\n",
        "      total = total + elemnt\n",
        "\n",
        "  return total\n",
        "print(sumelement([1,2,[5,6],5,4]))"
      ]
    },
    {
      "cell_type": "markdown",
      "metadata": {
        "id": "qj6jTyo4TZod"
      },
      "source": [
        "Write a Python program to get the factorial of a non-negative integer."
      ]
    },
    {
      "cell_type": "code",
      "execution_count": null,
      "metadata": {
        "colab": {
          "base_uri": "https://localhost:8080/"
        },
        "id": "7tNXlpqKLns6",
        "outputId": "abdfc608-b6b6-42b3-c69b-83621f08dfad"
      },
      "outputs": [
        {
          "name": "stdout",
          "output_type": "stream",
          "text": [
            "120\n"
          ]
        }
      ],
      "source": [
        "def fact(n):\n",
        "  if n <= 0:\n",
        "    return 1\n",
        "  else:\n",
        "    return (n * fact(n-1))\n",
        "\n",
        "print(fact(5))"
      ]
    },
    {
      "cell_type": "markdown",
      "metadata": {
        "id": "gbBpGjyxUWYW"
      },
      "source": [
        "Write a Python program to get the sum of a non-negative integer."
      ]
    },
    {
      "cell_type": "code",
      "execution_count": null,
      "metadata": {
        "colab": {
          "base_uri": "https://localhost:8080/"
        },
        "id": "270uJCOvLnpy",
        "outputId": "a1741b28-0827-423b-e364-51768bb33788"
      },
      "outputs": [
        {
          "name": "stdout",
          "output_type": "stream",
          "text": [
            "12\n"
          ]
        }
      ],
      "source": [
        "def suninteger(n):\n",
        "  if n<= 0:\n",
        "    return 0\n",
        "  else:\n",
        "    return n % 10 + suninteger(int(n / 10))\n",
        "\n",
        "print(suninteger(345))"
      ]
    },
    {
      "cell_type": "markdown",
      "metadata": {
        "id": "7MXnUxnoXrs5"
      },
      "source": [
        "Write a Python program to calculate the sum of the positive integers of n+(n-2)+(n-4)... (until n-x =< 0)."
      ]
    },
    {
      "cell_type": "code",
      "execution_count": null,
      "metadata": {
        "colab": {
          "base_uri": "https://localhost:8080/"
        },
        "id": "Si1gff-CLnm8",
        "outputId": "73e175c9-83e8-47d6-b864-091857b4ad39"
      },
      "outputs": [
        {
          "name": "stdout",
          "output_type": "stream",
          "text": [
            "12\n"
          ]
        }
      ],
      "source": []
    },
    {
      "cell_type": "markdown",
      "metadata": {
        "id": "sh7Z4w8Wi2sZ"
      },
      "source": [
        "Write a Python program to calculate the harmonic sum of n-1.\n",
        "Note: The harmonic sum is the sum of reciprocals of the positive integers."
      ]
    },
    {
      "cell_type": "code",
      "execution_count": null,
      "metadata": {
        "colab": {
          "base_uri": "https://localhost:8080/"
        },
        "id": "xJmg9nLQLnjx",
        "outputId": "892883aa-6dbc-4380-ecd0-c04f6589e114"
      },
      "outputs": [
        {
          "name": "stdout",
          "output_type": "stream",
          "text": [
            "2.5928571428571425\n"
          ]
        }
      ],
      "source": [
        "def hrsum(n):\n",
        "  if n < 1:\n",
        "    return 0\n",
        "  else:\n",
        "    return 1/n + hrsum(n-1)\n",
        "\n",
        "print(hrsum(7))\n",
        "\n",
        "\n"
      ]
    },
    {
      "cell_type": "markdown",
      "metadata": {
        "id": "0afgCLrcl_TF"
      },
      "source": [
        "Write a Python program to calculate the geometric sum of n-1.\n",
        "Note: In mathematics, a geometric series is a series with a constant ratio between successive terms"
      ]
    },
    {
      "cell_type": "code",
      "execution_count": null,
      "metadata": {
        "colab": {
          "base_uri": "https://localhost:8080/"
        },
        "id": "pZ1x1wDpLng6",
        "outputId": "45be915d-c39a-4467-86a0-3dd17d0e5c29"
      },
      "outputs": [
        {
          "name": "stdout",
          "output_type": "stream",
          "text": [
            "1.9921875\n",
            "1.9375\n"
          ]
        }
      ],
      "source": [
        "def geometric_sum(n):\n",
        "  if n < 0:\n",
        "    return 0\n",
        "  else:\n",
        "    return 1 / (pow(2, n)) + geometric_sum(n - 1)    # pow (x,y)= x power y\n",
        "\n",
        "print(geometric_sum(7))\n",
        "print(geometric_sum(4))"
      ]
    },
    {
      "cell_type": "markdown",
      "metadata": {
        "id": "wxC7-AbHnzta"
      },
      "source": [
        "Write a Python program to calculate the value of 'a' to the power of 'b'."
      ]
    },
    {
      "cell_type": "code",
      "execution_count": null,
      "metadata": {
        "id": "1D2Stm0clh3q"
      },
      "outputs": [],
      "source": []
    },
    {
      "cell_type": "code",
      "execution_count": null,
      "metadata": {
        "id": "J8sx-KAOlhyc"
      },
      "outputs": [],
      "source": []
    },
    {
      "cell_type": "code",
      "execution_count": null,
      "metadata": {
        "id": "lltOUjK0lhvK"
      },
      "outputs": [],
      "source": []
    },
    {
      "cell_type": "code",
      "execution_count": null,
      "metadata": {
        "id": "_O2dkNimlhsA"
      },
      "outputs": [],
      "source": []
    },
    {
      "cell_type": "code",
      "execution_count": null,
      "metadata": {
        "id": "EvCoSfwClhpG"
      },
      "outputs": [],
      "source": []
    },
    {
      "cell_type": "code",
      "execution_count": null,
      "metadata": {
        "id": "Ncw3s1N4lhmW"
      },
      "outputs": [],
      "source": []
    },
    {
      "cell_type": "code",
      "execution_count": null,
      "metadata": {
        "id": "vTa5B4YDlhir"
      },
      "outputs": [],
      "source": []
    },
    {
      "cell_type": "code",
      "execution_count": null,
      "metadata": {
        "id": "PI5NCqNnlhe7"
      },
      "outputs": [],
      "source": []
    },
    {
      "cell_type": "code",
      "execution_count": null,
      "metadata": {
        "id": "Bh9JPYIhlhbE"
      },
      "outputs": [],
      "source": []
    },
    {
      "cell_type": "code",
      "execution_count": null,
      "metadata": {
        "colab": {
          "base_uri": "https://localhost:8080/"
        },
        "id": "4n-Z-siWLneV",
        "outputId": "d00ef00d-d0b2-4da5-a1f8-a3c30aeebf9b"
      },
      "outputs": [
        {
          "name": "stdout",
          "output_type": "stream",
          "text": [
            "81\n"
          ]
        }
      ],
      "source": [
        "def power(a,b):\n",
        "\tif b==0:\n",
        "\t\treturn 1\n",
        "\telif a==0:\n",
        "\t\treturn 0\n",
        "\telif b==1:\n",
        "\t\treturn a\n",
        "\telse:\n",
        "\t\treturn a*power(a,b-1)\n",
        "\n",
        "print(power(3,4))"
      ]
    },
    {
      "cell_type": "code",
      "execution_count": null,
      "metadata": {
        "id": "bI2dvyXRlkBk"
      },
      "outputs": [],
      "source": []
    },
    {
      "cell_type": "markdown",
      "metadata": {
        "id": "upJkLddzmpD9"
      },
      "source": [
        "No of time 8 occure"
      ]
    },
    {
      "cell_type": "code",
      "execution_count": null,
      "metadata": {
        "colab": {
          "base_uri": "https://localhost:8080/"
        },
        "id": "Gj7rGETdlj-0",
        "outputId": "f0fd7fb1-7bda-4156-a466-4c32737fb7de"
      },
      "outputs": [
        {
          "name": "stdout",
          "output_type": "stream",
          "text": [
            "6\n"
          ]
        }
      ],
      "source": [
        "def count8(num):\n",
        "  if num == 0:\n",
        "    return 0\n",
        "\n",
        "  counts=+count8(num//10)\n",
        "  digit = num % 10\n",
        "\n",
        "  return counts if (num % 10 != 8) else counts +1\n",
        "\n",
        "print(count8(78548879874858))"
      ]
    },
    {
      "cell_type": "markdown",
      "metadata": {
        "id": "hJIbR7VepcJi"
      },
      "source": [
        "Subsequence"
      ]
    },
    {
      "cell_type": "code",
      "execution_count": null,
      "metadata": {
        "id": "moInGXwAlj79"
      },
      "outputs": [],
      "source": [
        "def subsequence(str):\n",
        "  if len(str) == 0:\n",
        "    return [\"\"]\n",
        "  ch = str[0]\n",
        "  smallList = subsequence(str[1:])\n",
        "  myans = []\n",
        "\n",
        "  return myans\n",
        "\n",
        "ans = subsequence('abc')\n",
        "print(ans)\n",
        "\n"
      ]
    },
    {
      "cell_type": "code",
      "execution_count": null,
      "metadata": {
        "id": "EtkKoqXelj4s"
      },
      "outputs": [],
      "source": []
    },
    {
      "cell_type": "code",
      "execution_count": null,
      "metadata": {
        "id": "OFp0ff4Dlj1h"
      },
      "outputs": [],
      "source": []
    },
    {
      "cell_type": "code",
      "execution_count": null,
      "metadata": {
        "id": "iFjd-VVmljyI"
      },
      "outputs": [],
      "source": []
    },
    {
      "cell_type": "code",
      "execution_count": null,
      "metadata": {
        "id": "hEN_MiaRLnbf"
      },
      "outputs": [],
      "source": []
    },
    {
      "cell_type": "code",
      "execution_count": null,
      "metadata": {
        "colab": {
          "base_uri": "https://localhost:8080/"
        },
        "id": "W8dJHpiELnYc",
        "outputId": "a45cc5b4-88af-4a85-bef2-7ec0ec5b0df1"
      },
      "outputs": [
        {
          "name": "stdout",
          "output_type": "stream",
          "text": [
            "25\n",
            "50\n",
            "2\n",
            "25\n",
            "27\n",
            "29\n",
            "31\n",
            "33\n",
            "35\n",
            "37\n",
            "39\n",
            "41\n",
            "43\n",
            "45\n",
            "47\n",
            "49\n"
          ]
        }
      ],
      "source": [
        "stp = int(input())\n",
        "enp = int(input())\n",
        "step = int(input())\n",
        "\n",
        "if step > 0 and stp < enp:\n",
        "  for i in range(stp,enp + 1,step):\n",
        "    print(i)\n",
        "else:\n",
        "  print('dghdadha')"
      ]
    },
    {
      "cell_type": "code",
      "execution_count": null,
      "metadata": {
        "colab": {
          "base_uri": "https://localhost:8080/"
        },
        "id": "_PkGNFLYLnVe",
        "outputId": "9370f6d1-2f15-435f-9687-2316e749d51f"
      },
      "outputs": [
        {
          "name": "stdout",
          "output_type": "stream",
          "text": [
            "7\n",
            "7\n"
          ]
        }
      ],
      "source": [
        "a = 7\n",
        "if a > 4:\n",
        "  def globalabc():\n",
        "    global a\n",
        "    a = 8\n",
        "  print(a)\n",
        "print(a)"
      ]
    },
    {
      "cell_type": "code",
      "execution_count": null,
      "metadata": {
        "colab": {
          "base_uri": "https://localhost:8080/"
        },
        "id": "e66wWuBnLnSt",
        "outputId": "6896d413-38b4-44a9-b271-3d7a9888b1c3"
      },
      "outputs": [
        {
          "name": "stdout",
          "output_type": "stream",
          "text": [
            "alphabets\n",
            "0     a\n",
            "1     b\n",
            "2     c\n",
            "3     d\n",
            "4     e\n",
            "5     f\n",
            "6     g\n",
            "7     h\n",
            "8     i\n",
            "9     j\n",
            "10    k\n",
            "11    l\n",
            "12    m\n",
            "13    n\n",
            "14    o\n",
            "15    p\n",
            "16    q\n",
            "17    r\n",
            "18    s\n",
            "19    t\n",
            "20    u\n",
            "21    v\n",
            "22    w\n",
            "23    x\n",
            "24    y\n",
            "25    z\n",
            "Name: alphabets, dtype: object\n"
          ]
        }
      ],
      "source": [
        "import pandas as pd\n",
        "\n",
        "inp = 'abcdefghijklmnopqrstuvwxyz'\n",
        "alphabets = []\n",
        "\n",
        "for i in inp:\n",
        "  alphabets.append(i)\n",
        "\n",
        "series_name = input ()\n",
        "series = pd.Series(alphabets,name=series_name)\n",
        "\n",
        "print(series)"
      ]
    },
    {
      "cell_type": "code",
      "execution_count": null,
      "metadata": {
        "colab": {
          "base_uri": "https://localhost:8080/"
        },
        "id": "XYy05J67LnPu",
        "outputId": "c2c8df0d-e1e5-4138-8005-1dcb6298117b"
      },
      "outputs": [
        {
          "name": "stdout",
          "output_type": "stream",
          "text": [
            "0     a\n",
            "1     b\n",
            "2     c\n",
            "3     d\n",
            "4     e\n",
            "5     f\n",
            "6     g\n",
            "7     h\n",
            "8     i\n",
            "9     j\n",
            "10    k\n",
            "11    l\n",
            "12    m\n",
            "13    n\n",
            "14    o\n",
            "15    p\n",
            "16    q\n",
            "17    r\n",
            "18    s\n",
            "19    t\n",
            "20    u\n",
            "21    v\n",
            "22    w\n",
            "23    x\n",
            "24    y\n",
            "25    z\n",
            "dtype: object\n"
          ]
        }
      ],
      "source": [
        "import pandas as pd\n",
        "\n",
        "inp = 'abcdefghijklmnopqrstuvwxyz'\n",
        "alphabets = []\n",
        "\n",
        "for i in inp:\n",
        "  alphabets.append(i)\n",
        "\n",
        "series = pd.Series(alphabets)\n",
        "\n",
        "print(series)"
      ]
    },
    {
      "cell_type": "code",
      "execution_count": null,
      "metadata": {
        "colab": {
          "base_uri": "https://localhost:8080/",
          "height": 484
        },
        "id": "COUi5Oo5LnMp",
        "outputId": "c41013dc-693b-4cc4-c7a1-2804c502bdce"
      },
      "outputs": [
        {
          "name": "stdout",
          "output_type": "stream",
          "text": [
            "5\n",
            "ranjit\n",
            "RANJIT\n",
            "5\n",
            "5\n"
          ]
        },
        {
          "ename": "KeyboardInterrupt",
          "evalue": "ignored",
          "output_type": "error",
          "traceback": [
            "\u001b[0;31m---------------------------------------------------------------------------\u001b[0m",
            "\u001b[0;31mKeyboardInterrupt\u001b[0m                         Traceback (most recent call last)",
            "\u001b[0;32m<ipython-input-18-5894ba8b96e9>\u001b[0m in \u001b[0;36m<cell line: 9>\u001b[0;34m()\u001b[0m\n\u001b[1;32m      9\u001b[0m \u001b[0;32mwhile\u001b[0m \u001b[0mi\u001b[0m \u001b[0;34m<\u001b[0m \u001b[0mt\u001b[0m\u001b[0;34m:\u001b[0m\u001b[0;34m\u001b[0m\u001b[0;34m\u001b[0m\u001b[0m\n\u001b[1;32m     10\u001b[0m   \u001b[0mi\u001b[0m \u001b[0;34m=\u001b[0m \u001b[0mi\u001b[0m \u001b[0;34m+\u001b[0m \u001b[0;36m1\u001b[0m\u001b[0;34m\u001b[0m\u001b[0;34m\u001b[0m\u001b[0m\n\u001b[0;32m---> 11\u001b[0;31m   \u001b[0minputword\u001b[0m \u001b[0;34m=\u001b[0m \u001b[0minput\u001b[0m\u001b[0;34m(\u001b[0m\u001b[0;34m\"\"\u001b[0m\u001b[0;34m)\u001b[0m\u001b[0;34m\u001b[0m\u001b[0;34m\u001b[0m\u001b[0m\n\u001b[0m\u001b[1;32m     12\u001b[0m \u001b[0;34m\u001b[0m\u001b[0m\n\u001b[1;32m     13\u001b[0m   \u001b[0mprint\u001b[0m\u001b[0;34m(\u001b[0m\u001b[0mcase_inverse\u001b[0m\u001b[0;34m(\u001b[0m\u001b[0minputword\u001b[0m\u001b[0;34m)\u001b[0m\u001b[0;34m)\u001b[0m\u001b[0;34m\u001b[0m\u001b[0;34m\u001b[0m\u001b[0m\n",
            "\u001b[0;32m/usr/local/lib/python3.10/dist-packages/ipykernel/kernelbase.py\u001b[0m in \u001b[0;36mraw_input\u001b[0;34m(self, prompt)\u001b[0m\n\u001b[1;32m    849\u001b[0m                 \u001b[0;34m\"raw_input was called, but this frontend does not support input requests.\"\u001b[0m\u001b[0;34m\u001b[0m\u001b[0;34m\u001b[0m\u001b[0m\n\u001b[1;32m    850\u001b[0m             )\n\u001b[0;32m--> 851\u001b[0;31m         return self._input_request(str(prompt),\n\u001b[0m\u001b[1;32m    852\u001b[0m             \u001b[0mself\u001b[0m\u001b[0;34m.\u001b[0m\u001b[0m_parent_ident\u001b[0m\u001b[0;34m,\u001b[0m\u001b[0;34m\u001b[0m\u001b[0;34m\u001b[0m\u001b[0m\n\u001b[1;32m    853\u001b[0m             \u001b[0mself\u001b[0m\u001b[0;34m.\u001b[0m\u001b[0m_parent_header\u001b[0m\u001b[0;34m,\u001b[0m\u001b[0;34m\u001b[0m\u001b[0;34m\u001b[0m\u001b[0m\n",
            "\u001b[0;32m/usr/local/lib/python3.10/dist-packages/ipykernel/kernelbase.py\u001b[0m in \u001b[0;36m_input_request\u001b[0;34m(self, prompt, ident, parent, password)\u001b[0m\n\u001b[1;32m    893\u001b[0m             \u001b[0;32mexcept\u001b[0m \u001b[0mKeyboardInterrupt\u001b[0m\u001b[0;34m:\u001b[0m\u001b[0;34m\u001b[0m\u001b[0;34m\u001b[0m\u001b[0m\n\u001b[1;32m    894\u001b[0m                 \u001b[0;31m# re-raise KeyboardInterrupt, to truncate traceback\u001b[0m\u001b[0;34m\u001b[0m\u001b[0;34m\u001b[0m\u001b[0m\n\u001b[0;32m--> 895\u001b[0;31m                 \u001b[0;32mraise\u001b[0m \u001b[0mKeyboardInterrupt\u001b[0m\u001b[0;34m(\u001b[0m\u001b[0;34m\"Interrupted by user\"\u001b[0m\u001b[0;34m)\u001b[0m \u001b[0;32mfrom\u001b[0m \u001b[0;32mNone\u001b[0m\u001b[0;34m\u001b[0m\u001b[0;34m\u001b[0m\u001b[0m\n\u001b[0m\u001b[1;32m    896\u001b[0m             \u001b[0;32mexcept\u001b[0m \u001b[0mException\u001b[0m \u001b[0;32mas\u001b[0m \u001b[0me\u001b[0m\u001b[0;34m:\u001b[0m\u001b[0;34m\u001b[0m\u001b[0;34m\u001b[0m\u001b[0m\n\u001b[1;32m    897\u001b[0m                 \u001b[0mself\u001b[0m\u001b[0;34m.\u001b[0m\u001b[0mlog\u001b[0m\u001b[0;34m.\u001b[0m\u001b[0mwarning\u001b[0m\u001b[0;34m(\u001b[0m\u001b[0;34m\"Invalid Message:\"\u001b[0m\u001b[0;34m,\u001b[0m \u001b[0mexc_info\u001b[0m\u001b[0;34m=\u001b[0m\u001b[0;32mTrue\u001b[0m\u001b[0;34m)\u001b[0m\u001b[0;34m\u001b[0m\u001b[0;34m\u001b[0m\u001b[0m\n",
            "\u001b[0;31mKeyboardInterrupt\u001b[0m: Interrupted by user"
          ]
        }
      ],
      "source": [
        "def case_inverse(word):\n",
        "  outputword = word.swapcase()\n",
        "  return outputword\n",
        "\n",
        "t = int(input())\n",
        "\n",
        "i = 0\n",
        "\n",
        "while i < t:\n",
        "  i = i + 1\n",
        "  inputword = input(\"\")\n",
        "\n",
        "  print(case_inverse(inputword))"
      ]
    },
    {
      "cell_type": "code",
      "execution_count": null,
      "metadata": {
        "id": "OhO11YOQKBCN"
      },
      "outputs": [],
      "source": []
    }
  ],
  "metadata": {
    "colab": {
      "collapsed_sections": [
        "nUtk5qyOO17V",
        "Iv72VeqBHKjN"
      ],
      "provenance": [],
      "authorship_tag": "ABX9TyO6IHkiFUKaV3j9xzOmOZ8w",
      "include_colab_link": true
    },
    "kernelspec": {
      "display_name": "Python 3",
      "name": "python3"
    },
    "language_info": {
      "name": "python"
    }
  },
  "nbformat": 4,
  "nbformat_minor": 0
}